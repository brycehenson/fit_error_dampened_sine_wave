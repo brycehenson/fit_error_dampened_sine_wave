{
 "cells": [
  {
   "cell_type": "markdown",
   "id": "b339a789",
   "metadata": {},
   "source": [
    "# Derivation using FIM"
   ]
  },
  {
   "cell_type": "code",
   "execution_count": null,
   "id": "5442df44",
   "metadata": {},
   "outputs": [],
   "source": []
  },
  {
   "cell_type": "markdown",
   "id": "437c6d7e",
   "metadata": {},
   "source": [
    "## Symbolic Fisher Information Matrix Computation with Fast-Oscillation Approximations\n",
    "\n",
    "This code symbolically computes the Fisher Information Matrix (FIM) for a damped sine model using `sympy`. It incorporates physical assumptions from signal processing to simplify the expressions, specifically removing contributions from high-frequency oscillations. The resulting FIM entries represent analytically integrated expressions for uncertainty propagation.\n",
    "\n",
    "### Model Definition\n",
    "\n",
    "The damped sine model is defined as:\n",
    "\n",
    "```python\n",
    "f = A * exp(-lambda_D * t) * sin(omega * t + phi)\n",
    "```\n",
    "\n",
    "where:\n",
    "\n",
    "* `A`: amplitude\n",
    "* `lambda_D`: damping rate\n",
    "* `omega`: angular frequency\n",
    "* `phi`: phase offset\n",
    "* `t`: time\n",
    "\n",
    "The parameters of interest are: `[A, lambda_D, omega, phi]`.\n",
    "\n",
    "### Fisher Matrix Overview\n",
    "\n",
    "The Fisher Information Matrix (FIM) is defined element-wise as:\n",
    "\n",
    "$$\n",
    "F_{ij} = \\frac{N}{\\sigma_m^2 T} \\int_0^T \\frac{\\partial f}{\\partial \\theta_i} \\frac{\\partial f}{\\partial \\theta_j} dt\n",
    "$$\n",
    "\n",
    "This is implemented by computing symbolic derivatives, products, and integrals.\n",
    "\n",
    "---\n",
    "\n",
    "### Fast-Oscillation Approximations\n",
    "\n",
    "Due to the highly oscillatory nature of the sine and cosine terms (with frequency `omega`), fast oscillating components like `sin(omega t + phi) * cos(omega t + phi)` or `sin^2(...)` can be approximated using their time averages over a period:\n",
    "\n",
    "* $\\sin^2(\\omega t + \\phi) \\rightarrow 1/2$\n",
    "* $\\sin(\\omega t + \\phi) \\cdot \\cos(\\omega t + \\phi) \\rightarrow 0$\n",
    "\n",
    "These approximations are applied via the `apply_fast_oscillation_approximations` function which uses `sympy.Wild` pattern matching.\n",
    "\n",
    "The function also logs which subexpressions were replaced for debugging or validation.\n",
    "\n",
    "---\n",
    "\n",
    "### Simplified Integral Computation\n",
    "\n",
    "The `compute_integral_pair_simplified` function handles:\n",
    "\n",
    "* Symbolic differentiation of the model w\\.r.t. each parameter\n",
    "* Expansion and simplification of the product of derivatives\n",
    "* Application of fast oscillation approximations\n",
    "* Symbolic integration over time\n",
    "* Scaling by \\$\\frac{R}{\\sigma\\_m^2}\\$ where \\$R = \\frac{N}{T}\\$\n",
    "\n",
    "The result is a fully symbolic expression for each element of the Fisher matrix.\n",
    "\n",
    "---\n",
    "\n",
    "### Fisher Matrix Construction\n",
    "\n",
    "Two versions of the matrix builder exist:\n",
    "\n",
    "* `compute_fisher_matrix_serial_simplified` — single-threaded loop\n",
    "* A future parallel version could use `multiprocessing` to compute matrix entries in parallel\n",
    "\n",
    "---\n",
    "\n",
    "### Interactive Inspection\n",
    "\n",
    "The script includes a loop that prints the symbolic integrand for each FIM element, before and after applying the oscillation approximations. This is useful for debugging, verifying that terms are properly removed, and visually inspecting the complexity of symbolic expressions.\n",
    "\n",
    "```python\n",
    "for ii in range(4):\n",
    "    for jj in range(4):\n",
    "        print(f\"FIM[{ii}, {jj}]:\")\n",
    "        df1 = diff(f, params[ii])\n",
    "        df2 = diff(f, params[jj])\n",
    "        product = expand(df1 * df2)\n",
    "        print(product)\n",
    "        product = apply_fast_oscillation_approximations(product, t, omega, phi)\n",
    "        print(product)\n",
    "```\n",
    "\n",
    "---\n",
    "\n",
    "### Usage Context\n",
    "\n",
    "This code is useful in precision metrology, atomic physics, or control theory where you:\n",
    "\n",
    "* Need analytic uncertainty propagation\n",
    "* Work with oscillatory time-domain signals\n",
    "* Can exploit known structure (e.g., periodicity) to reduce symbolic complexity\n",
    "\n",
    "The technique balances computational tractability with analytic insight, making it well suited for systems with periodic or exponentially damped signals.\n"
   ]
  },
  {
   "cell_type": "code",
   "execution_count": 1,
   "id": "862b5426",
   "metadata": {},
   "outputs": [],
   "source": [
    "import sympy as sp\n",
    "\n",
    "# Symbols\n",
    "t = sp.symbols(\"t\", positive=True, real=True)\n",
    "T = sp.symbols(\"T\", positive=True, real=True, nonzero=True)\n",
    "A = sp.symbols(\"A\", positive=True, real=True, nonzero=True)\n",
    "N = sp.symbols(\"N\", positive=True, real=True, nonzero=True)\n",
    "sigma_m = sp.symbols(\"sigma_m\", positive=True, real=True, nonzero=True)\n",
    "lambda_D = sp.symbols(\"lambda_D\", real=True, positive=True, nonzero=True)\n",
    "omega = sp.symbols(\"omega\", real=True, positive=True, nonzero=True)\n",
    "phi = sp.symbols(\"phi\", real=True)\n",
    "\n",
    "# Model\n",
    "f = A * sp.exp(-lambda_D * t) * sp.sin(omega * t + phi)\n",
    "\n",
    "\n",
    "# Parameter list\n",
    "params = [A, lambda_D, omega, phi]\n",
    "param_indices = {param: i for i, param in enumerate(params)}"
   ]
  },
  {
   "cell_type": "code",
   "execution_count": 2,
   "id": "87dddae9",
   "metadata": {},
   "outputs": [],
   "source": [
    "from sympy import Matrix, symbols, integrate, diff, simplify, eye\n",
    "from typing import Dict, Tuple\n",
    "from multiprocessing import Pool, cpu_count\n",
    "\n",
    "\n",
    "from sympy import Wild, sin, cos, Rational, expand_trig, Expr, Symbol\n",
    "from typing import Tuple, List\n",
    "\n",
    "\n",
    "def apply_fast_oscillation_approximations(\n",
    "    expr: Expr, t: Symbol, omega: Symbol, phi: Symbol, print_replacements: bool = True\n",
    ") -> Tuple[Expr, List[Expr]]:\n",
    "    \"\"\"\n",
    "    Apply fast-oscillation approximations like:\n",
    "    sin^2(ωt ± φ) → 1/2, sin(ωt ± φ)*cos(ωt ± φ) → 0\n",
    "    and record the replaced subexpressions.\n",
    "\n",
    "    Returns:\n",
    "        (simplified expression, list of matched expressions that were replaced)\n",
    "    \"\"\"\n",
    "\n",
    "    replacements_log: List[Expr] = []\n",
    "\n",
    "    prefactor = Wild(\"prefactor\")  # matches anything\n",
    "    sign_zero = Wild(\"sign\", properties=[lambda expr: expr in (0, 1, -1)])\n",
    "    arg1 = omega * t + phi * sign_zero\n",
    "\n",
    "    def log_and_replace(matched_expr: Expr, replacement: Expr):\n",
    "        replacements_log.append(matched_expr)\n",
    "        return replacement\n",
    "\n",
    "    # sin^2(...)\n",
    "    expr = expr.replace(\n",
    "        prefactor * sin(arg1) ** 2,\n",
    "        lambda **kwargs: log_and_replace(sin(arg1) ** 2, Rational(1, 2)),\n",
    "    )\n",
    "\n",
    "    # cos^2(...)\n",
    "    expr = expr.replace(\n",
    "        prefactor * cos(arg1) ** 2,\n",
    "        lambda **kwargs: log_and_replace(sin(arg1) ** 2, Rational(1, 2)),\n",
    "    )\n",
    "\n",
    "    # # General sin*cos pattern\n",
    "    A = Wild(\"A\", properties=[lambda e: e.has(omega * t)])\n",
    "    B = Wild(\"B\", exclude=[omega, t])\n",
    "    pattern = prefactor * sin(A + B) * cos(A + B)\n",
    "\n",
    "    expr = expr.replace(pattern, lambda **kwargs: log_and_replace(pattern, 0))\n",
    "\n",
    "    if print_replacements and replacements_log:\n",
    "        print(\"Fast oscillation approximations applied to:\")\n",
    "        for r in replacements_log:\n",
    "            print(\"  \", r)\n",
    "\n",
    "    return expr\n",
    "\n",
    "\n",
    "# Update the integral computation function to include simplification inside the parallelized task\n",
    "def compute_integral_pair_simplified(\n",
    "    args: Tuple[sp.Expr, sp.Expr, sp.Symbol, sp.Symbol, sp.Symbol, sp.Symbol],\n",
    ") -> sp.Expr:\n",
    "    df1, df2, t, T, R, sigma_m, phi = args\n",
    "    product = sp.expand(df1 * df2)\n",
    "    product = sp.simplify(product)\n",
    "    product = apply_fast_oscillation_approximations(product, t, omega, phi)\n",
    "    integral = sp.integrate(product, (t, 0, T))\n",
    "    scaled = integral * R / sigma_m**2\n",
    "    expr = sp.expand(scaled)  # Expand basic algebra first\n",
    "    expr = sp.expand_trig(expr)  # Expand trig products (e.g., sin^2)\n",
    "    expr = sp.factor(expr)  # Pull out common exponentials\n",
    "    expr = sp.cancel(expr)  # Clean up rational forms\n",
    "    expr = sp.collect(expr, T)  # Group by powers of T (or lambda_D, etc.)\n",
    "    # expr = sp.simplify(expr)\n",
    "    return expr\n",
    "\n",
    "\n",
    "def compute_fisher_matrix_serial_simplified(\n",
    "    model: sp.Expr,\n",
    "    parameters: list[sp.Symbol],\n",
    "    t: sp.Symbol,\n",
    "    T: sp.Symbol,\n",
    "    sigma_m: sp.Symbol,\n",
    "    N: sp.Symbol,\n",
    ") -> sp.Matrix:\n",
    "    \"\"\"\n",
    "    Computes the Fisher Information Matrix (FIM) without parallelism,\n",
    "    using simplified symbolic integrals over all parameter pairs.\n",
    "\n",
    "    Args:\n",
    "        model: symbolic expression of the model function\n",
    "        parameters: list of parameters to differentiate with respect to\n",
    "        t: time symbol\n",
    "        T: total acquisition time symbol\n",
    "        sigma_m: measurement noise\n",
    "        N: number of samples\n",
    "\n",
    "    Returns:\n",
    "        sympy.Matrix: symbolic Fisher Information Matrix\n",
    "    \"\"\"\n",
    "    R = N / T\n",
    "    n = len(parameters)\n",
    "\n",
    "    entries: list[sp.Expr] = []\n",
    "\n",
    "    for p1 in parameters:\n",
    "        df1 = sp.diff(model, p1)\n",
    "        for p2 in parameters:\n",
    "            df2 = sp.diff(model, p2)\n",
    "            result = compute_integral_pair_simplified((df1, df2, t, T, R, sigma_m, phi))\n",
    "            entries.append(result)\n",
    "\n",
    "    return sp.Matrix(n, n, entries)"
   ]
  },
  {
   "cell_type": "markdown",
   "id": "24e66ada",
   "metadata": {},
   "source": [
    "# integrands"
   ]
  },
  {
   "cell_type": "code",
   "execution_count": 3,
   "id": "823495e2",
   "metadata": {},
   "outputs": [
    {
     "data": {
      "text/plain": [
       "[A, lambda_D, omega, phi]"
      ]
     },
     "execution_count": 3,
     "metadata": {},
     "output_type": "execute_result"
    }
   ],
   "source": [
    "params"
   ]
  },
  {
   "cell_type": "code",
   "execution_count": 4,
   "id": "b9f27526",
   "metadata": {},
   "outputs": [
    {
     "data": {
      "text/latex": [
       "$\\displaystyle e^{- 2 \\lambda_{D} t} \\sin^{2}{\\left(\\omega t + \\phi \\right)}$"
      ],
      "text/plain": [
       "exp(-2*lambda_D*t)*sin(omega*t + phi)**2"
      ]
     },
     "execution_count": 4,
     "metadata": {},
     "output_type": "execute_result"
    }
   ],
   "source": [
    "p1 = params[0]\n",
    "p2 = params[0]\n",
    "df1 = sp.diff(f, p1)\n",
    "df2 = sp.diff(f, p2)\n",
    "product = sp.expand(df1 * df2)\n",
    "product"
   ]
  },
  {
   "cell_type": "code",
   "execution_count": 91,
   "id": "9b6dcfe5",
   "metadata": {},
   "outputs": [
    {
     "name": "stdout",
     "output_type": "stream",
     "text": [
      "Fast oscillation approximations applied to:\n",
      "   sin(omega*t + phi*sign_)**2\n",
      "\\frac{\\left(2 A T \\lambda_{D} - A e^{2 T \\lambda_{D}} + A\\right) e^{- 2 T \\lambda_{D}}}{8 \\lambda_{D}^{2}}\n"
     ]
    }
   ],
   "source": [
    "df1 = sp.diff(f, params[0])\n",
    "df2 = sp.diff(f, params[1])\n",
    "product = sp.expand(df1 * df2)\n",
    "product = sp.simplify(product)\n",
    "product = apply_fast_oscillation_approximations(product, t, omega, phi)\n",
    "integral = sp.integrate(product, (t, 0, T))\n",
    "integral = sp.expand(integral)  # Expand basic algebra first\n",
    "integral = sp.expand_trig(integral)  # Expand trig products (e.g., sin^2)\n",
    "integral = sp.factor(integral)  # Pull out common exponentials\n",
    "integral = sp.cancel(integral)  # Clean up rational forms\n",
    "print(sp.latex(integral))"
   ]
  },
  {
   "cell_type": "code",
   "execution_count": 5,
   "id": "c0a8e75c",
   "metadata": {},
   "outputs": [
    {
     "name": "stdout",
     "output_type": "stream",
     "text": [
      "FIM[0, 0]  [A, A]  :\n",
      "df1:   e^{- \\lambda_{D} t} \\sin{\\left(\\omega t + \\phi \\right)}\n",
      "df2:    e^{- \\lambda_{D} t} \\sin{\\left(\\omega t + \\phi \\right)}\n",
      "product:    e^{- 2 \\lambda_{D} t} \\sin^{2}{\\left(\\omega t + \\phi \\right)}\n",
      "Fast oscillation approximations applied to:\n",
      "   sin(omega*t + phi*sign_)**2\n",
      "exp(-2*lambda_D*t)/2\n",
      "\n",
      "\n",
      "FIM[0, 1]  [A, lambda_D]  :\n",
      "df1:   e^{- \\lambda_{D} t} \\sin{\\left(\\omega t + \\phi \\right)}\n",
      "df2:    - A t e^{- \\lambda_{D} t} \\sin{\\left(\\omega t + \\phi \\right)}\n",
      "product:    - A t e^{- 2 \\lambda_{D} t} \\sin^{2}{\\left(\\omega t + \\phi \\right)}\n",
      "Fast oscillation approximations applied to:\n",
      "   sin(omega*t + phi*sign_)**2\n",
      "-A*t*exp(-2*lambda_D*t)/2\n",
      "\n",
      "\n",
      "FIM[0, 2]  [A, omega]  :\n",
      "df1:   e^{- \\lambda_{D} t} \\sin{\\left(\\omega t + \\phi \\right)}\n",
      "df2:    A t e^{- \\lambda_{D} t} \\cos{\\left(\\omega t + \\phi \\right)}\n",
      "product:    A t e^{- 2 \\lambda_{D} t} \\sin{\\left(\\omega t + \\phi \\right)} \\cos{\\left(\\omega t + \\phi \\right)}\n",
      "Fast oscillation approximations applied to:\n",
      "   prefactor_*sin(A_ + B_)*cos(A_ + B_)\n",
      "   prefactor_*sin(A_ + B_)*cos(A_ + B_)\n",
      "0\n",
      "\n",
      "\n",
      "FIM[0, 3]  [A, phi]  :\n",
      "df1:   e^{- \\lambda_{D} t} \\sin{\\left(\\omega t + \\phi \\right)}\n",
      "df2:    A e^{- \\lambda_{D} t} \\cos{\\left(\\omega t + \\phi \\right)}\n",
      "product:    A e^{- 2 \\lambda_{D} t} \\sin{\\left(\\omega t + \\phi \\right)} \\cos{\\left(\\omega t + \\phi \\right)}\n",
      "Fast oscillation approximations applied to:\n",
      "   prefactor_*sin(A_ + B_)*cos(A_ + B_)\n",
      "   prefactor_*sin(A_ + B_)*cos(A_ + B_)\n",
      "0\n",
      "\n",
      "\n",
      "FIM[1, 0]  [lambda_D, A]  :\n",
      "df1:   - A t e^{- \\lambda_{D} t} \\sin{\\left(\\omega t + \\phi \\right)}\n",
      "df2:    e^{- \\lambda_{D} t} \\sin{\\left(\\omega t + \\phi \\right)}\n",
      "product:    - A t e^{- 2 \\lambda_{D} t} \\sin^{2}{\\left(\\omega t + \\phi \\right)}\n",
      "Fast oscillation approximations applied to:\n",
      "   sin(omega*t + phi*sign_)**2\n",
      "-A*t*exp(-2*lambda_D*t)/2\n",
      "\n",
      "\n",
      "FIM[1, 1]  [lambda_D, lambda_D]  :\n",
      "df1:   - A t e^{- \\lambda_{D} t} \\sin{\\left(\\omega t + \\phi \\right)}\n",
      "df2:    - A t e^{- \\lambda_{D} t} \\sin{\\left(\\omega t + \\phi \\right)}\n",
      "product:    A^{2} t^{2} e^{- 2 \\lambda_{D} t} \\sin^{2}{\\left(\\omega t + \\phi \\right)}\n",
      "Fast oscillation approximations applied to:\n",
      "   sin(omega*t + phi*sign_)**2\n",
      "A**2*t**2*exp(-2*lambda_D*t)/2\n",
      "\n",
      "\n",
      "FIM[1, 2]  [lambda_D, omega]  :\n",
      "df1:   - A t e^{- \\lambda_{D} t} \\sin{\\left(\\omega t + \\phi \\right)}\n",
      "df2:    A t e^{- \\lambda_{D} t} \\cos{\\left(\\omega t + \\phi \\right)}\n",
      "product:    - A^{2} t^{2} e^{- 2 \\lambda_{D} t} \\sin{\\left(\\omega t + \\phi \\right)} \\cos{\\left(\\omega t + \\phi \\right)}\n",
      "Fast oscillation approximations applied to:\n",
      "   prefactor_*sin(A_ + B_)*cos(A_ + B_)\n",
      "   prefactor_*sin(A_ + B_)*cos(A_ + B_)\n",
      "0\n",
      "\n",
      "\n",
      "FIM[1, 3]  [lambda_D, phi]  :\n",
      "df1:   - A t e^{- \\lambda_{D} t} \\sin{\\left(\\omega t + \\phi \\right)}\n",
      "df2:    A e^{- \\lambda_{D} t} \\cos{\\left(\\omega t + \\phi \\right)}\n",
      "product:    - A^{2} t e^{- 2 \\lambda_{D} t} \\sin{\\left(\\omega t + \\phi \\right)} \\cos{\\left(\\omega t + \\phi \\right)}\n",
      "Fast oscillation approximations applied to:\n",
      "   prefactor_*sin(A_ + B_)*cos(A_ + B_)\n",
      "   prefactor_*sin(A_ + B_)*cos(A_ + B_)\n",
      "0\n",
      "\n",
      "\n",
      "FIM[2, 0]  [omega, A]  :\n",
      "df1:   A t e^{- \\lambda_{D} t} \\cos{\\left(\\omega t + \\phi \\right)}\n",
      "df2:    e^{- \\lambda_{D} t} \\sin{\\left(\\omega t + \\phi \\right)}\n",
      "product:    A t e^{- 2 \\lambda_{D} t} \\sin{\\left(\\omega t + \\phi \\right)} \\cos{\\left(\\omega t + \\phi \\right)}\n",
      "Fast oscillation approximations applied to:\n",
      "   prefactor_*sin(A_ + B_)*cos(A_ + B_)\n",
      "   prefactor_*sin(A_ + B_)*cos(A_ + B_)\n",
      "0\n",
      "\n",
      "\n",
      "FIM[2, 1]  [omega, lambda_D]  :\n",
      "df1:   A t e^{- \\lambda_{D} t} \\cos{\\left(\\omega t + \\phi \\right)}\n",
      "df2:    - A t e^{- \\lambda_{D} t} \\sin{\\left(\\omega t + \\phi \\right)}\n",
      "product:    - A^{2} t^{2} e^{- 2 \\lambda_{D} t} \\sin{\\left(\\omega t + \\phi \\right)} \\cos{\\left(\\omega t + \\phi \\right)}\n",
      "Fast oscillation approximations applied to:\n",
      "   prefactor_*sin(A_ + B_)*cos(A_ + B_)\n",
      "   prefactor_*sin(A_ + B_)*cos(A_ + B_)\n",
      "0\n",
      "\n",
      "\n",
      "FIM[2, 2]  [omega, omega]  :\n",
      "df1:   A t e^{- \\lambda_{D} t} \\cos{\\left(\\omega t + \\phi \\right)}\n",
      "df2:    A t e^{- \\lambda_{D} t} \\cos{\\left(\\omega t + \\phi \\right)}\n",
      "product:    A^{2} t^{2} e^{- 2 \\lambda_{D} t} \\cos^{2}{\\left(\\omega t + \\phi \\right)}\n",
      "Fast oscillation approximations applied to:\n",
      "   sin(omega*t + phi*sign_)**2\n",
      "A**2*t**2*exp(-2*lambda_D*t)/2\n",
      "\n",
      "\n",
      "FIM[2, 3]  [omega, phi]  :\n",
      "df1:   A t e^{- \\lambda_{D} t} \\cos{\\left(\\omega t + \\phi \\right)}\n",
      "df2:    A e^{- \\lambda_{D} t} \\cos{\\left(\\omega t + \\phi \\right)}\n",
      "product:    A^{2} t e^{- 2 \\lambda_{D} t} \\cos^{2}{\\left(\\omega t + \\phi \\right)}\n",
      "Fast oscillation approximations applied to:\n",
      "   sin(omega*t + phi*sign_)**2\n",
      "A**2*t*exp(-2*lambda_D*t)/2\n",
      "\n",
      "\n",
      "FIM[3, 0]  [phi, A]  :\n",
      "df1:   A e^{- \\lambda_{D} t} \\cos{\\left(\\omega t + \\phi \\right)}\n",
      "df2:    e^{- \\lambda_{D} t} \\sin{\\left(\\omega t + \\phi \\right)}\n",
      "product:    A e^{- 2 \\lambda_{D} t} \\sin{\\left(\\omega t + \\phi \\right)} \\cos{\\left(\\omega t + \\phi \\right)}\n",
      "Fast oscillation approximations applied to:\n",
      "   prefactor_*sin(A_ + B_)*cos(A_ + B_)\n",
      "   prefactor_*sin(A_ + B_)*cos(A_ + B_)\n",
      "0\n",
      "\n",
      "\n",
      "FIM[3, 1]  [phi, lambda_D]  :\n",
      "df1:   A e^{- \\lambda_{D} t} \\cos{\\left(\\omega t + \\phi \\right)}\n",
      "df2:    - A t e^{- \\lambda_{D} t} \\sin{\\left(\\omega t + \\phi \\right)}\n",
      "product:    - A^{2} t e^{- 2 \\lambda_{D} t} \\sin{\\left(\\omega t + \\phi \\right)} \\cos{\\left(\\omega t + \\phi \\right)}\n",
      "Fast oscillation approximations applied to:\n",
      "   prefactor_*sin(A_ + B_)*cos(A_ + B_)\n",
      "   prefactor_*sin(A_ + B_)*cos(A_ + B_)\n",
      "0\n",
      "\n",
      "\n",
      "FIM[3, 2]  [phi, omega]  :\n",
      "df1:   A e^{- \\lambda_{D} t} \\cos{\\left(\\omega t + \\phi \\right)}\n",
      "df2:    A t e^{- \\lambda_{D} t} \\cos{\\left(\\omega t + \\phi \\right)}\n",
      "product:    A^{2} t e^{- 2 \\lambda_{D} t} \\cos^{2}{\\left(\\omega t + \\phi \\right)}\n",
      "Fast oscillation approximations applied to:\n",
      "   sin(omega*t + phi*sign_)**2\n",
      "A**2*t*exp(-2*lambda_D*t)/2\n",
      "\n",
      "\n",
      "FIM[3, 3]  [phi, phi]  :\n",
      "df1:   A e^{- \\lambda_{D} t} \\cos{\\left(\\omega t + \\phi \\right)}\n",
      "df2:    A e^{- \\lambda_{D} t} \\cos{\\left(\\omega t + \\phi \\right)}\n",
      "product:    A^{2} e^{- 2 \\lambda_{D} t} \\cos^{2}{\\left(\\omega t + \\phi \\right)}\n",
      "Fast oscillation approximations applied to:\n",
      "   sin(omega*t + phi*sign_)**2\n",
      "A**2*exp(-2*lambda_D*t)/2\n",
      "\n",
      "\n"
     ]
    }
   ],
   "source": [
    "# inspect the integerands\n",
    "\n",
    "for ii in range(4):\n",
    "    for jj in range(4):\n",
    "        print(f\"FIM[{ii}, {jj}]  [{str(params[ii])}, {str(params[jj])}]  :\")\n",
    "        df1 = sp.diff(f, params[ii])\n",
    "        df2 = sp.diff(f, params[jj])\n",
    "        print(f\"df1:   {sp.latex(df1)}\")\n",
    "        print(f\"df2:    {sp.latex(df2)}\")\n",
    "        product = sp.expand(df1 * df2)\n",
    "        print(f\"product:    {sp.latex(product)}\")\n",
    "        product = apply_fast_oscillation_approximations(product, t, omega, phi)\n",
    "        print(product)\n",
    "        print(\"\\n\")"
   ]
  },
  {
   "cell_type": "code",
   "execution_count": 6,
   "id": "838358af",
   "metadata": {},
   "outputs": [
    {
     "name": "stdout",
     "output_type": "stream",
     "text": [
      "FIM[0, 2]:\n",
      "A*t*exp(-2*lambda_D*t)*sin(omega*t + phi)*cos(omega*t + phi)\n",
      "Fast oscillation approximations applied to:\n",
      "   prefactor_*sin(A_ + B_)*cos(A_ + B_)\n",
      "   prefactor_*sin(A_ + B_)*cos(A_ + B_)\n",
      "0\n",
      "\n",
      "\n"
     ]
    }
   ],
   "source": [
    "ii = 0\n",
    "jj = 2\n",
    "print(f\"FIM[{ii}, {jj}]:\")\n",
    "df1 = sp.diff(f, params[ii])\n",
    "df2 = sp.diff(f, params[jj])\n",
    "product = sp.expand(df1 * df2)\n",
    "print(product)\n",
    "product = apply_fast_oscillation_approximations(product, t, omega, phi)\n",
    "print(product)\n",
    "print(\"\\n\")"
   ]
  },
  {
   "cell_type": "markdown",
   "id": "f9a45518",
   "metadata": {},
   "source": [
    "# compute the FIM"
   ]
  },
  {
   "cell_type": "code",
   "execution_count": 7,
   "id": "3eedf1d5",
   "metadata": {},
   "outputs": [
    {
     "name": "stdout",
     "output_type": "stream",
     "text": [
      "Fast oscillation approximations applied to:\n",
      "   sin(omega*t + phi*sign_)**2\n",
      "Fast oscillation approximations applied to:\n",
      "   sin(omega*t + phi*sign_)**2\n",
      "Fast oscillation approximations applied to:\n",
      "   prefactor_*sin(A_ + B_)*cos(A_ + B_)\n",
      "Fast oscillation approximations applied to:\n",
      "   prefactor_*sin(A_ + B_)*cos(A_ + B_)\n",
      "Fast oscillation approximations applied to:\n",
      "   sin(omega*t + phi*sign_)**2\n",
      "Fast oscillation approximations applied to:\n",
      "   sin(omega*t + phi*sign_)**2\n",
      "Fast oscillation approximations applied to:\n",
      "   prefactor_*sin(A_ + B_)*cos(A_ + B_)\n",
      "Fast oscillation approximations applied to:\n",
      "   prefactor_*sin(A_ + B_)*cos(A_ + B_)\n",
      "Fast oscillation approximations applied to:\n",
      "   prefactor_*sin(A_ + B_)*cos(A_ + B_)\n",
      "Fast oscillation approximations applied to:\n",
      "   prefactor_*sin(A_ + B_)*cos(A_ + B_)\n",
      "Fast oscillation approximations applied to:\n",
      "   sin(omega*t + phi*sign_)**2\n",
      "Fast oscillation approximations applied to:\n",
      "   sin(omega*t + phi*sign_)**2\n",
      "Fast oscillation approximations applied to:\n",
      "   prefactor_*sin(A_ + B_)*cos(A_ + B_)\n",
      "Fast oscillation approximations applied to:\n",
      "   prefactor_*sin(A_ + B_)*cos(A_ + B_)\n",
      "Fast oscillation approximations applied to:\n",
      "   sin(omega*t + phi*sign_)**2\n",
      "Fast oscillation approximations applied to:\n",
      "   sin(omega*t + phi*sign_)**2\n"
     ]
    }
   ],
   "source": [
    "# runtime ~2 s\n",
    "FIM = compute_fisher_matrix_serial_simplified(f, params, t, T, sigma_m, N)"
   ]
  },
  {
   "cell_type": "code",
   "execution_count": null,
   "id": "ecac49fd",
   "metadata": {},
   "outputs": [],
   "source": []
  },
  {
   "cell_type": "code",
   "execution_count": 8,
   "id": "83510eda",
   "metadata": {},
   "outputs": [
    {
     "data": {
      "text/latex": [
       "$\\displaystyle \\left[\\begin{matrix}\\frac{\\left(N e^{2 T \\lambda_{D}} - N\\right) e^{- 2 T \\lambda_{D}}}{4 T \\lambda_{D} \\sigma_{m}^{2}} & \\frac{\\left(2 A N T \\lambda_{D} - A N e^{2 T \\lambda_{D}} + A N\\right) e^{- 2 T \\lambda_{D}}}{8 T \\lambda_{D}^{2} \\sigma_{m}^{2}} & 0 & 0\\\\\\frac{\\left(2 A N T \\lambda_{D} - A N e^{2 T \\lambda_{D}} + A N\\right) e^{- 2 T \\lambda_{D}}}{8 T \\lambda_{D}^{2} \\sigma_{m}^{2}} & \\frac{\\left(- 2 A^{2} N T^{2} \\lambda_{D}^{2} - 2 A^{2} N T \\lambda_{D} + A^{2} N e^{2 T \\lambda_{D}} - A^{2} N\\right) e^{- 2 T \\lambda_{D}}}{8 T \\lambda_{D}^{3} \\sigma_{m}^{2}} & 0 & 0\\\\0 & 0 & \\frac{\\left(- 2 A^{2} N T^{2} \\lambda_{D}^{2} - 2 A^{2} N T \\lambda_{D} + A^{2} N e^{2 T \\lambda_{D}} - A^{2} N\\right) e^{- 2 T \\lambda_{D}}}{8 T \\lambda_{D}^{3} \\sigma_{m}^{2}} & \\frac{\\left(- 2 A^{2} N T \\lambda_{D} + A^{2} N e^{2 T \\lambda_{D}} - A^{2} N\\right) e^{- 2 T \\lambda_{D}}}{8 T \\lambda_{D}^{2} \\sigma_{m}^{2}}\\\\0 & 0 & \\frac{\\left(- 2 A^{2} N T \\lambda_{D} + A^{2} N e^{2 T \\lambda_{D}} - A^{2} N\\right) e^{- 2 T \\lambda_{D}}}{8 T \\lambda_{D}^{2} \\sigma_{m}^{2}} & \\frac{\\left(A^{2} N e^{2 T \\lambda_{D}} - A^{2} N\\right) e^{- 2 T \\lambda_{D}}}{4 T \\lambda_{D} \\sigma_{m}^{2}}\\end{matrix}\\right]$"
      ],
      "text/plain": [
       "Matrix([\n",
       "[                          (N*exp(2*T*lambda_D) - N)*exp(-2*T*lambda_D)/(4*T*lambda_D*sigma_m**2),                                       (2*A*N*T*lambda_D - A*N*exp(2*T*lambda_D) + A*N)*exp(-2*T*lambda_D)/(8*T*lambda_D**2*sigma_m**2),                                                                                                                                      0,                                                                                                          0],\n",
       "[(2*A*N*T*lambda_D - A*N*exp(2*T*lambda_D) + A*N)*exp(-2*T*lambda_D)/(8*T*lambda_D**2*sigma_m**2), (-2*A**2*N*T**2*lambda_D**2 - 2*A**2*N*T*lambda_D + A**2*N*exp(2*T*lambda_D) - A**2*N)*exp(-2*T*lambda_D)/(8*T*lambda_D**3*sigma_m**2),                                                                                                                                      0,                                                                                                          0],\n",
       "[                                                                                               0,                                                                                                                                      0, (-2*A**2*N*T**2*lambda_D**2 - 2*A**2*N*T*lambda_D + A**2*N*exp(2*T*lambda_D) - A**2*N)*exp(-2*T*lambda_D)/(8*T*lambda_D**3*sigma_m**2), (-2*A**2*N*T*lambda_D + A**2*N*exp(2*T*lambda_D) - A**2*N)*exp(-2*T*lambda_D)/(8*T*lambda_D**2*sigma_m**2)],\n",
       "[                                                                                               0,                                                                                                                                      0,                             (-2*A**2*N*T*lambda_D + A**2*N*exp(2*T*lambda_D) - A**2*N)*exp(-2*T*lambda_D)/(8*T*lambda_D**2*sigma_m**2),                           (A**2*N*exp(2*T*lambda_D) - A**2*N)*exp(-2*T*lambda_D)/(4*T*lambda_D*sigma_m**2)]])"
      ]
     },
     "execution_count": 8,
     "metadata": {},
     "output_type": "execute_result"
    }
   ],
   "source": [
    "FIM"
   ]
  },
  {
   "cell_type": "code",
   "execution_count": 9,
   "id": "ecbe0369",
   "metadata": {},
   "outputs": [
    {
     "data": {
      "text/plain": [
       "[A, lambda_D, omega, phi]"
      ]
     },
     "execution_count": 9,
     "metadata": {},
     "output_type": "execute_result"
    }
   ],
   "source": [
    "params"
   ]
  },
  {
   "cell_type": "code",
   "execution_count": 13,
   "id": "1ae787a2",
   "metadata": {},
   "outputs": [
    {
     "name": "stdout",
     "output_type": "stream",
     "text": [
      "\\begin{align*}\n",
      "F_{\\text{A},\\,\\text{A}} &= \\frac{\\left(N e^{2 T \\lambda} - N\\right) e^{- 2 T \\lambda}}{4 T \\lambda \\sigma^{2}} \\\\\n",
      "F_{\\text{A},\\,\\lambda} &= \\frac{\\left(2 A N T \\lambda - A N e^{2 T \\lambda} + A N\\right) e^{- 2 T \\lambda}}{8 T \\lambda^{2} \\sigma^{2}} \\\\\n",
      "F_{\\lambda,\\,\\lambda} &= \\frac{\\left(- 2 A^{2} N T^{2} \\lambda^{2} - 2 A^{2} N T \\lambda + A^{2} N e^{2 T \\lambda} - A^{2} N\\right) e^{- 2 T \\lambda}}{8 T \\lambda^{3} \\sigma^{2}} \\\\\n",
      "F_{\\omega,\\,\\omega} &= \\frac{\\left(- 2 A^{2} N T^{2} \\lambda^{2} - 2 A^{2} N T \\lambda + A^{2} N e^{2 T \\lambda} - A^{2} N\\right) e^{- 2 T \\lambda}}{8 T \\lambda^{3} \\sigma^{2}} \\\\\n",
      "F_{\\omega,\\,\\phi} &= \\frac{\\left(- 2 A^{2} N T \\lambda + A^{2} N e^{2 T \\lambda} - A^{2} N\\right) e^{- 2 T \\lambda}}{8 T \\lambda^{2} \\sigma^{2}} \\\\\n",
      "F_{\\phi,\\,\\phi} &= \\frac{\\left(A^{2} N e^{2 T \\lambda} - A^{2} N\\right) e^{- 2 T \\lambda}}{4 T \\lambda \\sigma^{2}} \\\\\n",
      "\\end{align*}\n"
     ]
    }
   ],
   "source": [
    "rename_map = {\n",
    "    A: sp.Symbol(\"A\"),\n",
    "    N: sp.Symbol(\"N\"),\n",
    "    T: sp.Symbol(\"T\"),\n",
    "    sigma_m: sp.Symbol(r\"\\sigma\"),\n",
    "    lambda_D: sp.Symbol(r\"\\lambda\"),\n",
    "    omega: sp.Symbol(r\"\\omega\"),\n",
    "    phi: sp.Symbol(r\"\\phi\"),\n",
    "    t: sp.Symbol(\"t\"),\n",
    "}\n",
    "\n",
    "FIM_subbed = FIM.subs(rename_map)\n",
    "renamed_params: list[sp.Symbol] = [rename_map[p] for p in params]\n",
    "\n",
    "\n",
    "def is_latex_symbol(s: str) -> bool:\n",
    "    return s.startswith(\"\\\\\")\n",
    "\n",
    "\n",
    "def latex_nonzero_fim_named(\n",
    "    F: sp.Matrix,\n",
    "    params: list[sp.Symbol],\n",
    ") -> str:\n",
    "    \"\"\"Generate LaTeX align* block for nonzero FIM entries using renamed symbols,\n",
    "    only outputting upper triangle and referencing symmetric entries.\"\"\"\n",
    "\n",
    "    lines = []\n",
    "\n",
    "    for i in range(F.rows):\n",
    "        for j in range(i, F.cols):\n",
    "            val = F[i, j]\n",
    "            if val.equals(0):\n",
    "                continue\n",
    "\n",
    "            name_i = params[i]\n",
    "            name_j = params[j]\n",
    "\n",
    "            def wrap(sym: str) -> str:\n",
    "                res = sym if is_latex_symbol(str(sym)) else rf\"\\text{{{sym}}}\"\n",
    "                return res\n",
    "\n",
    "            subscript = f\"{wrap(name_i)},\\\\,{wrap(name_j)}\"\n",
    "            lhs = f\"F_{{{subscript}}}\"\n",
    "\n",
    "            if i == j:\n",
    "                rhs = sp.latex(val)\n",
    "            else:\n",
    "                # Reference symmetric element, render as plain text\n",
    "                sym_i = rf\"\\text{{F}}_{{\\text{{{name_j}}},\\,\\text{{{name_i}}}}}\"\n",
    "                rhs = sp.latex(val) if i < j else sym_i\n",
    "\n",
    "            lines.append(f\"{lhs} &= {rhs} \\\\\\\\\")\n",
    "\n",
    "    return r\"\\begin{align*}\" + \"\\n\" + \"\\n\".join(lines) + \"\\n\" + r\"\\end{align*}\"\n",
    "\n",
    "\n",
    "latex_block = latex_nonzero_fim_named(FIM_subbed, renamed_params)\n",
    "print(latex_block)"
   ]
  },
  {
   "cell_type": "markdown",
   "id": "17221036",
   "metadata": {},
   "source": [
    "# inverse"
   ]
  },
  {
   "cell_type": "code",
   "execution_count": 14,
   "id": "da511d74",
   "metadata": {},
   "outputs": [
    {
     "data": {
      "text/plain": [
       "<module 'sym_functions' from '/workspaces/repo/src/sym_functions.py'>"
      ]
     },
     "execution_count": 14,
     "metadata": {},
     "output_type": "execute_result"
    }
   ],
   "source": [
    "import importlib\n",
    "import sym_functions\n",
    "\n",
    "importlib.reload(sym_functions)"
   ]
  },
  {
   "cell_type": "code",
   "execution_count": 15,
   "id": "47a0ff61",
   "metadata": {},
   "outputs": [
    {
     "name": "stdout",
     "output_type": "stream",
     "text": [
      "creating template for symbolic symmetric inverse\n",
      "applying substitution to symbolic inverse\n"
     ]
    }
   ],
   "source": [
    "# runtime ~ 30s\n",
    "FIM_inv = sym_functions.inverse_via_symmetric_substitution(FIM)"
   ]
  },
  {
   "cell_type": "code",
   "execution_count": 16,
   "id": "5a0f64db",
   "metadata": {},
   "outputs": [
    {
     "data": {
      "text/latex": [
       "$\\displaystyle \\left[\\begin{matrix}\\frac{- \\frac{\\left(A^{2} N e^{2 T \\lambda_{D}} - A^{2} N\\right) \\left(- 2 A^{2} N T^{2} \\lambda_{D}^{2} - 2 A^{2} N T \\lambda_{D} + A^{2} N e^{2 T \\lambda_{D}} - A^{2} N\\right)^{2} e^{- 6 T \\lambda_{D}}}{256 T^{3} \\lambda_{D}^{7} \\sigma_{m}^{6}} + \\frac{\\left(- 2 A^{2} N T \\lambda_{D} + A^{2} N e^{2 T \\lambda_{D}} - A^{2} N\\right)^{2} \\left(- 2 A^{2} N T^{2} \\lambda_{D}^{2} - 2 A^{2} N T \\lambda_{D} + A^{2} N e^{2 T \\lambda_{D}} - A^{2} N\\right) e^{- 6 T \\lambda_{D}}}{512 T^{3} \\lambda_{D}^{7} \\sigma_{m}^{6}}}{- \\frac{\\left(N e^{2 T \\lambda_{D}} - N\\right) \\left(A^{2} N e^{2 T \\lambda_{D}} - A^{2} N\\right) \\left(- 2 A^{2} N T^{2} \\lambda_{D}^{2} - 2 A^{2} N T \\lambda_{D} + A^{2} N e^{2 T \\lambda_{D}} - A^{2} N\\right)^{2} e^{- 8 T \\lambda_{D}}}{1024 T^{4} \\lambda_{D}^{8} \\sigma_{m}^{8}} + \\frac{\\left(N e^{2 T \\lambda_{D}} - N\\right) \\left(- 2 A^{2} N T \\lambda_{D} + A^{2} N e^{2 T \\lambda_{D}} - A^{2} N\\right)^{2} \\left(- 2 A^{2} N T^{2} \\lambda_{D}^{2} - 2 A^{2} N T \\lambda_{D} + A^{2} N e^{2 T \\lambda_{D}} - A^{2} N\\right) e^{- 8 T \\lambda_{D}}}{2048 T^{4} \\lambda_{D}^{8} \\sigma_{m}^{8}} + \\frac{\\left(A^{2} N e^{2 T \\lambda_{D}} - A^{2} N\\right) \\left(2 A N T \\lambda_{D} - A N e^{2 T \\lambda_{D}} + A N\\right)^{2} \\left(- 2 A^{2} N T^{2} \\lambda_{D}^{2} - 2 A^{2} N T \\lambda_{D} + A^{2} N e^{2 T \\lambda_{D}} - A^{2} N\\right) e^{- 8 T \\lambda_{D}}}{2048 T^{4} \\lambda_{D}^{8} \\sigma_{m}^{8}} - \\frac{\\left(2 A N T \\lambda_{D} - A N e^{2 T \\lambda_{D}} + A N\\right)^{2} \\left(- 2 A^{2} N T \\lambda_{D} + A^{2} N e^{2 T \\lambda_{D}} - A^{2} N\\right)^{2} e^{- 8 T \\lambda_{D}}}{4096 T^{4} \\lambda_{D}^{8} \\sigma_{m}^{8}}} & \\frac{\\frac{\\left(A^{2} N e^{2 T \\lambda_{D}} - A^{2} N\\right) \\left(2 A N T \\lambda_{D} - A N e^{2 T \\lambda_{D}} + A N\\right) \\left(- 2 A^{2} N T^{2} \\lambda_{D}^{2} - 2 A^{2} N T \\lambda_{D} + A^{2} N e^{2 T \\lambda_{D}} - A^{2} N\\right) e^{- 6 T \\lambda_{D}}}{256 T^{3} \\lambda_{D}^{6} \\sigma_{m}^{6}} - \\frac{\\left(2 A N T \\lambda_{D} - A N e^{2 T \\lambda_{D}} + A N\\right) \\left(- 2 A^{2} N T \\lambda_{D} + A^{2} N e^{2 T \\lambda_{D}} - A^{2} N\\right)^{2} e^{- 6 T \\lambda_{D}}}{512 T^{3} \\lambda_{D}^{6} \\sigma_{m}^{6}}}{- \\frac{\\left(N e^{2 T \\lambda_{D}} - N\\right) \\left(A^{2} N e^{2 T \\lambda_{D}} - A^{2} N\\right) \\left(- 2 A^{2} N T^{2} \\lambda_{D}^{2} - 2 A^{2} N T \\lambda_{D} + A^{2} N e^{2 T \\lambda_{D}} - A^{2} N\\right)^{2} e^{- 8 T \\lambda_{D}}}{1024 T^{4} \\lambda_{D}^{8} \\sigma_{m}^{8}} + \\frac{\\left(N e^{2 T \\lambda_{D}} - N\\right) \\left(- 2 A^{2} N T \\lambda_{D} + A^{2} N e^{2 T \\lambda_{D}} - A^{2} N\\right)^{2} \\left(- 2 A^{2} N T^{2} \\lambda_{D}^{2} - 2 A^{2} N T \\lambda_{D} + A^{2} N e^{2 T \\lambda_{D}} - A^{2} N\\right) e^{- 8 T \\lambda_{D}}}{2048 T^{4} \\lambda_{D}^{8} \\sigma_{m}^{8}} + \\frac{\\left(A^{2} N e^{2 T \\lambda_{D}} - A^{2} N\\right) \\left(2 A N T \\lambda_{D} - A N e^{2 T \\lambda_{D}} + A N\\right)^{2} \\left(- 2 A^{2} N T^{2} \\lambda_{D}^{2} - 2 A^{2} N T \\lambda_{D} + A^{2} N e^{2 T \\lambda_{D}} - A^{2} N\\right) e^{- 8 T \\lambda_{D}}}{2048 T^{4} \\lambda_{D}^{8} \\sigma_{m}^{8}} - \\frac{\\left(2 A N T \\lambda_{D} - A N e^{2 T \\lambda_{D}} + A N\\right)^{2} \\left(- 2 A^{2} N T \\lambda_{D} + A^{2} N e^{2 T \\lambda_{D}} - A^{2} N\\right)^{2} e^{- 8 T \\lambda_{D}}}{4096 T^{4} \\lambda_{D}^{8} \\sigma_{m}^{8}}} & 0 & 0\\\\\\frac{\\frac{\\left(A^{2} N e^{2 T \\lambda_{D}} - A^{2} N\\right) \\left(2 A N T \\lambda_{D} - A N e^{2 T \\lambda_{D}} + A N\\right) \\left(- 2 A^{2} N T^{2} \\lambda_{D}^{2} - 2 A^{2} N T \\lambda_{D} + A^{2} N e^{2 T \\lambda_{D}} - A^{2} N\\right) e^{- 6 T \\lambda_{D}}}{256 T^{3} \\lambda_{D}^{6} \\sigma_{m}^{6}} - \\frac{\\left(2 A N T \\lambda_{D} - A N e^{2 T \\lambda_{D}} + A N\\right) \\left(- 2 A^{2} N T \\lambda_{D} + A^{2} N e^{2 T \\lambda_{D}} - A^{2} N\\right)^{2} e^{- 6 T \\lambda_{D}}}{512 T^{3} \\lambda_{D}^{6} \\sigma_{m}^{6}}}{- \\frac{\\left(N e^{2 T \\lambda_{D}} - N\\right) \\left(A^{2} N e^{2 T \\lambda_{D}} - A^{2} N\\right) \\left(- 2 A^{2} N T^{2} \\lambda_{D}^{2} - 2 A^{2} N T \\lambda_{D} + A^{2} N e^{2 T \\lambda_{D}} - A^{2} N\\right)^{2} e^{- 8 T \\lambda_{D}}}{1024 T^{4} \\lambda_{D}^{8} \\sigma_{m}^{8}} + \\frac{\\left(N e^{2 T \\lambda_{D}} - N\\right) \\left(- 2 A^{2} N T \\lambda_{D} + A^{2} N e^{2 T \\lambda_{D}} - A^{2} N\\right)^{2} \\left(- 2 A^{2} N T^{2} \\lambda_{D}^{2} - 2 A^{2} N T \\lambda_{D} + A^{2} N e^{2 T \\lambda_{D}} - A^{2} N\\right) e^{- 8 T \\lambda_{D}}}{2048 T^{4} \\lambda_{D}^{8} \\sigma_{m}^{8}} + \\frac{\\left(A^{2} N e^{2 T \\lambda_{D}} - A^{2} N\\right) \\left(2 A N T \\lambda_{D} - A N e^{2 T \\lambda_{D}} + A N\\right)^{2} \\left(- 2 A^{2} N T^{2} \\lambda_{D}^{2} - 2 A^{2} N T \\lambda_{D} + A^{2} N e^{2 T \\lambda_{D}} - A^{2} N\\right) e^{- 8 T \\lambda_{D}}}{2048 T^{4} \\lambda_{D}^{8} \\sigma_{m}^{8}} - \\frac{\\left(2 A N T \\lambda_{D} - A N e^{2 T \\lambda_{D}} + A N\\right)^{2} \\left(- 2 A^{2} N T \\lambda_{D} + A^{2} N e^{2 T \\lambda_{D}} - A^{2} N\\right)^{2} e^{- 8 T \\lambda_{D}}}{4096 T^{4} \\lambda_{D}^{8} \\sigma_{m}^{8}}} & \\frac{- \\frac{\\left(N e^{2 T \\lambda_{D}} - N\\right) \\left(A^{2} N e^{2 T \\lambda_{D}} - A^{2} N\\right) \\left(- 2 A^{2} N T^{2} \\lambda_{D}^{2} - 2 A^{2} N T \\lambda_{D} + A^{2} N e^{2 T \\lambda_{D}} - A^{2} N\\right) e^{- 6 T \\lambda_{D}}}{128 T^{3} \\lambda_{D}^{5} \\sigma_{m}^{6}} + \\frac{\\left(N e^{2 T \\lambda_{D}} - N\\right) \\left(- 2 A^{2} N T \\lambda_{D} + A^{2} N e^{2 T \\lambda_{D}} - A^{2} N\\right)^{2} e^{- 6 T \\lambda_{D}}}{256 T^{3} \\lambda_{D}^{5} \\sigma_{m}^{6}}}{- \\frac{\\left(N e^{2 T \\lambda_{D}} - N\\right) \\left(A^{2} N e^{2 T \\lambda_{D}} - A^{2} N\\right) \\left(- 2 A^{2} N T^{2} \\lambda_{D}^{2} - 2 A^{2} N T \\lambda_{D} + A^{2} N e^{2 T \\lambda_{D}} - A^{2} N\\right)^{2} e^{- 8 T \\lambda_{D}}}{1024 T^{4} \\lambda_{D}^{8} \\sigma_{m}^{8}} + \\frac{\\left(N e^{2 T \\lambda_{D}} - N\\right) \\left(- 2 A^{2} N T \\lambda_{D} + A^{2} N e^{2 T \\lambda_{D}} - A^{2} N\\right)^{2} \\left(- 2 A^{2} N T^{2} \\lambda_{D}^{2} - 2 A^{2} N T \\lambda_{D} + A^{2} N e^{2 T \\lambda_{D}} - A^{2} N\\right) e^{- 8 T \\lambda_{D}}}{2048 T^{4} \\lambda_{D}^{8} \\sigma_{m}^{8}} + \\frac{\\left(A^{2} N e^{2 T \\lambda_{D}} - A^{2} N\\right) \\left(2 A N T \\lambda_{D} - A N e^{2 T \\lambda_{D}} + A N\\right)^{2} \\left(- 2 A^{2} N T^{2} \\lambda_{D}^{2} - 2 A^{2} N T \\lambda_{D} + A^{2} N e^{2 T \\lambda_{D}} - A^{2} N\\right) e^{- 8 T \\lambda_{D}}}{2048 T^{4} \\lambda_{D}^{8} \\sigma_{m}^{8}} - \\frac{\\left(2 A N T \\lambda_{D} - A N e^{2 T \\lambda_{D}} + A N\\right)^{2} \\left(- 2 A^{2} N T \\lambda_{D} + A^{2} N e^{2 T \\lambda_{D}} - A^{2} N\\right)^{2} e^{- 8 T \\lambda_{D}}}{4096 T^{4} \\lambda_{D}^{8} \\sigma_{m}^{8}}} & 0 & 0\\\\0 & 0 & \\frac{- \\frac{\\left(N e^{2 T \\lambda_{D}} - N\\right) \\left(A^{2} N e^{2 T \\lambda_{D}} - A^{2} N\\right) \\left(- 2 A^{2} N T^{2} \\lambda_{D}^{2} - 2 A^{2} N T \\lambda_{D} + A^{2} N e^{2 T \\lambda_{D}} - A^{2} N\\right) e^{- 6 T \\lambda_{D}}}{128 T^{3} \\lambda_{D}^{5} \\sigma_{m}^{6}} + \\frac{\\left(A^{2} N e^{2 T \\lambda_{D}} - A^{2} N\\right) \\left(2 A N T \\lambda_{D} - A N e^{2 T \\lambda_{D}} + A N\\right)^{2} e^{- 6 T \\lambda_{D}}}{256 T^{3} \\lambda_{D}^{5} \\sigma_{m}^{6}}}{- \\frac{\\left(N e^{2 T \\lambda_{D}} - N\\right) \\left(A^{2} N e^{2 T \\lambda_{D}} - A^{2} N\\right) \\left(- 2 A^{2} N T^{2} \\lambda_{D}^{2} - 2 A^{2} N T \\lambda_{D} + A^{2} N e^{2 T \\lambda_{D}} - A^{2} N\\right)^{2} e^{- 8 T \\lambda_{D}}}{1024 T^{4} \\lambda_{D}^{8} \\sigma_{m}^{8}} + \\frac{\\left(N e^{2 T \\lambda_{D}} - N\\right) \\left(- 2 A^{2} N T \\lambda_{D} + A^{2} N e^{2 T \\lambda_{D}} - A^{2} N\\right)^{2} \\left(- 2 A^{2} N T^{2} \\lambda_{D}^{2} - 2 A^{2} N T \\lambda_{D} + A^{2} N e^{2 T \\lambda_{D}} - A^{2} N\\right) e^{- 8 T \\lambda_{D}}}{2048 T^{4} \\lambda_{D}^{8} \\sigma_{m}^{8}} + \\frac{\\left(A^{2} N e^{2 T \\lambda_{D}} - A^{2} N\\right) \\left(2 A N T \\lambda_{D} - A N e^{2 T \\lambda_{D}} + A N\\right)^{2} \\left(- 2 A^{2} N T^{2} \\lambda_{D}^{2} - 2 A^{2} N T \\lambda_{D} + A^{2} N e^{2 T \\lambda_{D}} - A^{2} N\\right) e^{- 8 T \\lambda_{D}}}{2048 T^{4} \\lambda_{D}^{8} \\sigma_{m}^{8}} - \\frac{\\left(2 A N T \\lambda_{D} - A N e^{2 T \\lambda_{D}} + A N\\right)^{2} \\left(- 2 A^{2} N T \\lambda_{D} + A^{2} N e^{2 T \\lambda_{D}} - A^{2} N\\right)^{2} e^{- 8 T \\lambda_{D}}}{4096 T^{4} \\lambda_{D}^{8} \\sigma_{m}^{8}}} & \\frac{\\frac{\\left(N e^{2 T \\lambda_{D}} - N\\right) \\left(- 2 A^{2} N T \\lambda_{D} + A^{2} N e^{2 T \\lambda_{D}} - A^{2} N\\right) \\left(- 2 A^{2} N T^{2} \\lambda_{D}^{2} - 2 A^{2} N T \\lambda_{D} + A^{2} N e^{2 T \\lambda_{D}} - A^{2} N\\right) e^{- 6 T \\lambda_{D}}}{256 T^{3} \\lambda_{D}^{6} \\sigma_{m}^{6}} - \\frac{\\left(2 A N T \\lambda_{D} - A N e^{2 T \\lambda_{D}} + A N\\right)^{2} \\left(- 2 A^{2} N T \\lambda_{D} + A^{2} N e^{2 T \\lambda_{D}} - A^{2} N\\right) e^{- 6 T \\lambda_{D}}}{512 T^{3} \\lambda_{D}^{6} \\sigma_{m}^{6}}}{- \\frac{\\left(N e^{2 T \\lambda_{D}} - N\\right) \\left(A^{2} N e^{2 T \\lambda_{D}} - A^{2} N\\right) \\left(- 2 A^{2} N T^{2} \\lambda_{D}^{2} - 2 A^{2} N T \\lambda_{D} + A^{2} N e^{2 T \\lambda_{D}} - A^{2} N\\right)^{2} e^{- 8 T \\lambda_{D}}}{1024 T^{4} \\lambda_{D}^{8} \\sigma_{m}^{8}} + \\frac{\\left(N e^{2 T \\lambda_{D}} - N\\right) \\left(- 2 A^{2} N T \\lambda_{D} + A^{2} N e^{2 T \\lambda_{D}} - A^{2} N\\right)^{2} \\left(- 2 A^{2} N T^{2} \\lambda_{D}^{2} - 2 A^{2} N T \\lambda_{D} + A^{2} N e^{2 T \\lambda_{D}} - A^{2} N\\right) e^{- 8 T \\lambda_{D}}}{2048 T^{4} \\lambda_{D}^{8} \\sigma_{m}^{8}} + \\frac{\\left(A^{2} N e^{2 T \\lambda_{D}} - A^{2} N\\right) \\left(2 A N T \\lambda_{D} - A N e^{2 T \\lambda_{D}} + A N\\right)^{2} \\left(- 2 A^{2} N T^{2} \\lambda_{D}^{2} - 2 A^{2} N T \\lambda_{D} + A^{2} N e^{2 T \\lambda_{D}} - A^{2} N\\right) e^{- 8 T \\lambda_{D}}}{2048 T^{4} \\lambda_{D}^{8} \\sigma_{m}^{8}} - \\frac{\\left(2 A N T \\lambda_{D} - A N e^{2 T \\lambda_{D}} + A N\\right)^{2} \\left(- 2 A^{2} N T \\lambda_{D} + A^{2} N e^{2 T \\lambda_{D}} - A^{2} N\\right)^{2} e^{- 8 T \\lambda_{D}}}{4096 T^{4} \\lambda_{D}^{8} \\sigma_{m}^{8}}}\\\\0 & 0 & \\frac{\\frac{\\left(N e^{2 T \\lambda_{D}} - N\\right) \\left(- 2 A^{2} N T \\lambda_{D} + A^{2} N e^{2 T \\lambda_{D}} - A^{2} N\\right) \\left(- 2 A^{2} N T^{2} \\lambda_{D}^{2} - 2 A^{2} N T \\lambda_{D} + A^{2} N e^{2 T \\lambda_{D}} - A^{2} N\\right) e^{- 6 T \\lambda_{D}}}{256 T^{3} \\lambda_{D}^{6} \\sigma_{m}^{6}} - \\frac{\\left(2 A N T \\lambda_{D} - A N e^{2 T \\lambda_{D}} + A N\\right)^{2} \\left(- 2 A^{2} N T \\lambda_{D} + A^{2} N e^{2 T \\lambda_{D}} - A^{2} N\\right) e^{- 6 T \\lambda_{D}}}{512 T^{3} \\lambda_{D}^{6} \\sigma_{m}^{6}}}{- \\frac{\\left(N e^{2 T \\lambda_{D}} - N\\right) \\left(A^{2} N e^{2 T \\lambda_{D}} - A^{2} N\\right) \\left(- 2 A^{2} N T^{2} \\lambda_{D}^{2} - 2 A^{2} N T \\lambda_{D} + A^{2} N e^{2 T \\lambda_{D}} - A^{2} N\\right)^{2} e^{- 8 T \\lambda_{D}}}{1024 T^{4} \\lambda_{D}^{8} \\sigma_{m}^{8}} + \\frac{\\left(N e^{2 T \\lambda_{D}} - N\\right) \\left(- 2 A^{2} N T \\lambda_{D} + A^{2} N e^{2 T \\lambda_{D}} - A^{2} N\\right)^{2} \\left(- 2 A^{2} N T^{2} \\lambda_{D}^{2} - 2 A^{2} N T \\lambda_{D} + A^{2} N e^{2 T \\lambda_{D}} - A^{2} N\\right) e^{- 8 T \\lambda_{D}}}{2048 T^{4} \\lambda_{D}^{8} \\sigma_{m}^{8}} + \\frac{\\left(A^{2} N e^{2 T \\lambda_{D}} - A^{2} N\\right) \\left(2 A N T \\lambda_{D} - A N e^{2 T \\lambda_{D}} + A N\\right)^{2} \\left(- 2 A^{2} N T^{2} \\lambda_{D}^{2} - 2 A^{2} N T \\lambda_{D} + A^{2} N e^{2 T \\lambda_{D}} - A^{2} N\\right) e^{- 8 T \\lambda_{D}}}{2048 T^{4} \\lambda_{D}^{8} \\sigma_{m}^{8}} - \\frac{\\left(2 A N T \\lambda_{D} - A N e^{2 T \\lambda_{D}} + A N\\right)^{2} \\left(- 2 A^{2} N T \\lambda_{D} + A^{2} N e^{2 T \\lambda_{D}} - A^{2} N\\right)^{2} e^{- 8 T \\lambda_{D}}}{4096 T^{4} \\lambda_{D}^{8} \\sigma_{m}^{8}}} & \\frac{- \\frac{\\left(N e^{2 T \\lambda_{D}} - N\\right) \\left(- 2 A^{2} N T^{2} \\lambda_{D}^{2} - 2 A^{2} N T \\lambda_{D} + A^{2} N e^{2 T \\lambda_{D}} - A^{2} N\\right)^{2} e^{- 6 T \\lambda_{D}}}{256 T^{3} \\lambda_{D}^{7} \\sigma_{m}^{6}} + \\frac{\\left(2 A N T \\lambda_{D} - A N e^{2 T \\lambda_{D}} + A N\\right)^{2} \\left(- 2 A^{2} N T^{2} \\lambda_{D}^{2} - 2 A^{2} N T \\lambda_{D} + A^{2} N e^{2 T \\lambda_{D}} - A^{2} N\\right) e^{- 6 T \\lambda_{D}}}{512 T^{3} \\lambda_{D}^{7} \\sigma_{m}^{6}}}{- \\frac{\\left(N e^{2 T \\lambda_{D}} - N\\right) \\left(A^{2} N e^{2 T \\lambda_{D}} - A^{2} N\\right) \\left(- 2 A^{2} N T^{2} \\lambda_{D}^{2} - 2 A^{2} N T \\lambda_{D} + A^{2} N e^{2 T \\lambda_{D}} - A^{2} N\\right)^{2} e^{- 8 T \\lambda_{D}}}{1024 T^{4} \\lambda_{D}^{8} \\sigma_{m}^{8}} + \\frac{\\left(N e^{2 T \\lambda_{D}} - N\\right) \\left(- 2 A^{2} N T \\lambda_{D} + A^{2} N e^{2 T \\lambda_{D}} - A^{2} N\\right)^{2} \\left(- 2 A^{2} N T^{2} \\lambda_{D}^{2} - 2 A^{2} N T \\lambda_{D} + A^{2} N e^{2 T \\lambda_{D}} - A^{2} N\\right) e^{- 8 T \\lambda_{D}}}{2048 T^{4} \\lambda_{D}^{8} \\sigma_{m}^{8}} + \\frac{\\left(A^{2} N e^{2 T \\lambda_{D}} - A^{2} N\\right) \\left(2 A N T \\lambda_{D} - A N e^{2 T \\lambda_{D}} + A N\\right)^{2} \\left(- 2 A^{2} N T^{2} \\lambda_{D}^{2} - 2 A^{2} N T \\lambda_{D} + A^{2} N e^{2 T \\lambda_{D}} - A^{2} N\\right) e^{- 8 T \\lambda_{D}}}{2048 T^{4} \\lambda_{D}^{8} \\sigma_{m}^{8}} - \\frac{\\left(2 A N T \\lambda_{D} - A N e^{2 T \\lambda_{D}} + A N\\right)^{2} \\left(- 2 A^{2} N T \\lambda_{D} + A^{2} N e^{2 T \\lambda_{D}} - A^{2} N\\right)^{2} e^{- 8 T \\lambda_{D}}}{4096 T^{4} \\lambda_{D}^{8} \\sigma_{m}^{8}}}\\end{matrix}\\right]$"
      ],
      "text/plain": [
       "Matrix([\n",
       "[       (-(A**2*N*exp(2*T*lambda_D) - A**2*N)*(-2*A**2*N*T**2*lambda_D**2 - 2*A**2*N*T*lambda_D + A**2*N*exp(2*T*lambda_D) - A**2*N)**2*exp(-6*T*lambda_D)/(256*T**3*lambda_D**7*sigma_m**6) + (-2*A**2*N*T*lambda_D + A**2*N*exp(2*T*lambda_D) - A**2*N)**2*(-2*A**2*N*T**2*lambda_D**2 - 2*A**2*N*T*lambda_D + A**2*N*exp(2*T*lambda_D) - A**2*N)*exp(-6*T*lambda_D)/(512*T**3*lambda_D**7*sigma_m**6))/(-(N*exp(2*T*lambda_D) - N)*(A**2*N*exp(2*T*lambda_D) - A**2*N)*(-2*A**2*N*T**2*lambda_D**2 - 2*A**2*N*T*lambda_D + A**2*N*exp(2*T*lambda_D) - A**2*N)**2*exp(-8*T*lambda_D)/(1024*T**4*lambda_D**8*sigma_m**8) + (N*exp(2*T*lambda_D) - N)*(-2*A**2*N*T*lambda_D + A**2*N*exp(2*T*lambda_D) - A**2*N)**2*(-2*A**2*N*T**2*lambda_D**2 - 2*A**2*N*T*lambda_D + A**2*N*exp(2*T*lambda_D) - A**2*N)*exp(-8*T*lambda_D)/(2048*T**4*lambda_D**8*sigma_m**8) + (A**2*N*exp(2*T*lambda_D) - A**2*N)*(2*A*N*T*lambda_D - A*N*exp(2*T*lambda_D) + A*N)**2*(-2*A**2*N*T**2*lambda_D**2 - 2*A**2*N*T*lambda_D + A**2*N*exp(2*T*lambda_D) - A**2*N)*exp(-8*T*lambda_D)/(2048*T**4*lambda_D**8*sigma_m**8) - (2*A*N*T*lambda_D - A*N*exp(2*T*lambda_D) + A*N)**2*(-2*A**2*N*T*lambda_D + A**2*N*exp(2*T*lambda_D) - A**2*N)**2*exp(-8*T*lambda_D)/(4096*T**4*lambda_D**8*sigma_m**8)), ((A**2*N*exp(2*T*lambda_D) - A**2*N)*(2*A*N*T*lambda_D - A*N*exp(2*T*lambda_D) + A*N)*(-2*A**2*N*T**2*lambda_D**2 - 2*A**2*N*T*lambda_D + A**2*N*exp(2*T*lambda_D) - A**2*N)*exp(-6*T*lambda_D)/(256*T**3*lambda_D**6*sigma_m**6) - (2*A*N*T*lambda_D - A*N*exp(2*T*lambda_D) + A*N)*(-2*A**2*N*T*lambda_D + A**2*N*exp(2*T*lambda_D) - A**2*N)**2*exp(-6*T*lambda_D)/(512*T**3*lambda_D**6*sigma_m**6))/(-(N*exp(2*T*lambda_D) - N)*(A**2*N*exp(2*T*lambda_D) - A**2*N)*(-2*A**2*N*T**2*lambda_D**2 - 2*A**2*N*T*lambda_D + A**2*N*exp(2*T*lambda_D) - A**2*N)**2*exp(-8*T*lambda_D)/(1024*T**4*lambda_D**8*sigma_m**8) + (N*exp(2*T*lambda_D) - N)*(-2*A**2*N*T*lambda_D + A**2*N*exp(2*T*lambda_D) - A**2*N)**2*(-2*A**2*N*T**2*lambda_D**2 - 2*A**2*N*T*lambda_D + A**2*N*exp(2*T*lambda_D) - A**2*N)*exp(-8*T*lambda_D)/(2048*T**4*lambda_D**8*sigma_m**8) + (A**2*N*exp(2*T*lambda_D) - A**2*N)*(2*A*N*T*lambda_D - A*N*exp(2*T*lambda_D) + A*N)**2*(-2*A**2*N*T**2*lambda_D**2 - 2*A**2*N*T*lambda_D + A**2*N*exp(2*T*lambda_D) - A**2*N)*exp(-8*T*lambda_D)/(2048*T**4*lambda_D**8*sigma_m**8) - (2*A*N*T*lambda_D - A*N*exp(2*T*lambda_D) + A*N)**2*(-2*A**2*N*T*lambda_D + A**2*N*exp(2*T*lambda_D) - A**2*N)**2*exp(-8*T*lambda_D)/(4096*T**4*lambda_D**8*sigma_m**8)),                                                                                                                                                                                                                                                                                                                                                                                                                                                                                                                                                                                                                                                                                                                                                                                                                                                                                                                                                                                                                                                                                                                                                                                                                                                                                 0,                                                                                                                                                                                                                                                                                                                                                                                                                                                                                                                                                                                                                                                                                                                                                                                                                                                                                                                                                                                                                                                                                                                                                                                                                                                                                 0],\n",
       "[((A**2*N*exp(2*T*lambda_D) - A**2*N)*(2*A*N*T*lambda_D - A*N*exp(2*T*lambda_D) + A*N)*(-2*A**2*N*T**2*lambda_D**2 - 2*A**2*N*T*lambda_D + A**2*N*exp(2*T*lambda_D) - A**2*N)*exp(-6*T*lambda_D)/(256*T**3*lambda_D**6*sigma_m**6) - (2*A*N*T*lambda_D - A*N*exp(2*T*lambda_D) + A*N)*(-2*A**2*N*T*lambda_D + A**2*N*exp(2*T*lambda_D) - A**2*N)**2*exp(-6*T*lambda_D)/(512*T**3*lambda_D**6*sigma_m**6))/(-(N*exp(2*T*lambda_D) - N)*(A**2*N*exp(2*T*lambda_D) - A**2*N)*(-2*A**2*N*T**2*lambda_D**2 - 2*A**2*N*T*lambda_D + A**2*N*exp(2*T*lambda_D) - A**2*N)**2*exp(-8*T*lambda_D)/(1024*T**4*lambda_D**8*sigma_m**8) + (N*exp(2*T*lambda_D) - N)*(-2*A**2*N*T*lambda_D + A**2*N*exp(2*T*lambda_D) - A**2*N)**2*(-2*A**2*N*T**2*lambda_D**2 - 2*A**2*N*T*lambda_D + A**2*N*exp(2*T*lambda_D) - A**2*N)*exp(-8*T*lambda_D)/(2048*T**4*lambda_D**8*sigma_m**8) + (A**2*N*exp(2*T*lambda_D) - A**2*N)*(2*A*N*T*lambda_D - A*N*exp(2*T*lambda_D) + A*N)**2*(-2*A**2*N*T**2*lambda_D**2 - 2*A**2*N*T*lambda_D + A**2*N*exp(2*T*lambda_D) - A**2*N)*exp(-8*T*lambda_D)/(2048*T**4*lambda_D**8*sigma_m**8) - (2*A*N*T*lambda_D - A*N*exp(2*T*lambda_D) + A*N)**2*(-2*A**2*N*T*lambda_D + A**2*N*exp(2*T*lambda_D) - A**2*N)**2*exp(-8*T*lambda_D)/(4096*T**4*lambda_D**8*sigma_m**8)),                                              (-(N*exp(2*T*lambda_D) - N)*(A**2*N*exp(2*T*lambda_D) - A**2*N)*(-2*A**2*N*T**2*lambda_D**2 - 2*A**2*N*T*lambda_D + A**2*N*exp(2*T*lambda_D) - A**2*N)*exp(-6*T*lambda_D)/(128*T**3*lambda_D**5*sigma_m**6) + (N*exp(2*T*lambda_D) - N)*(-2*A**2*N*T*lambda_D + A**2*N*exp(2*T*lambda_D) - A**2*N)**2*exp(-6*T*lambda_D)/(256*T**3*lambda_D**5*sigma_m**6))/(-(N*exp(2*T*lambda_D) - N)*(A**2*N*exp(2*T*lambda_D) - A**2*N)*(-2*A**2*N*T**2*lambda_D**2 - 2*A**2*N*T*lambda_D + A**2*N*exp(2*T*lambda_D) - A**2*N)**2*exp(-8*T*lambda_D)/(1024*T**4*lambda_D**8*sigma_m**8) + (N*exp(2*T*lambda_D) - N)*(-2*A**2*N*T*lambda_D + A**2*N*exp(2*T*lambda_D) - A**2*N)**2*(-2*A**2*N*T**2*lambda_D**2 - 2*A**2*N*T*lambda_D + A**2*N*exp(2*T*lambda_D) - A**2*N)*exp(-8*T*lambda_D)/(2048*T**4*lambda_D**8*sigma_m**8) + (A**2*N*exp(2*T*lambda_D) - A**2*N)*(2*A*N*T*lambda_D - A*N*exp(2*T*lambda_D) + A*N)**2*(-2*A**2*N*T**2*lambda_D**2 - 2*A**2*N*T*lambda_D + A**2*N*exp(2*T*lambda_D) - A**2*N)*exp(-8*T*lambda_D)/(2048*T**4*lambda_D**8*sigma_m**8) - (2*A*N*T*lambda_D - A*N*exp(2*T*lambda_D) + A*N)**2*(-2*A**2*N*T*lambda_D + A**2*N*exp(2*T*lambda_D) - A**2*N)**2*exp(-8*T*lambda_D)/(4096*T**4*lambda_D**8*sigma_m**8)),                                                                                                                                                                                                                                                                                                                                                                                                                                                                                                                                                                                                                                                                                                                                                                                                                                                                                                                                                                                                                                                                                                                                                                                                                                                                                 0,                                                                                                                                                                                                                                                                                                                                                                                                                                                                                                                                                                                                                                                                                                                                                                                                                                                                                                                                                                                                                                                                                                                                                                                                                                                                                 0],\n",
       "[                                                                                                                                                                                                                                                                                                                                                                                                                                                                                                                                                                                                                                                                                                                                                                                                                                                                                                                                                                                                                                                                                                                                                                                                                                                                                0,                                                                                                                                                                                                                                                                                                                                                                                                                                                                                                                                                                                                                                                                                                                                                                                                                                                                                                                                                                                                                                                                                                                                                                                                                                                                                 0,                                              (-(N*exp(2*T*lambda_D) - N)*(A**2*N*exp(2*T*lambda_D) - A**2*N)*(-2*A**2*N*T**2*lambda_D**2 - 2*A**2*N*T*lambda_D + A**2*N*exp(2*T*lambda_D) - A**2*N)*exp(-6*T*lambda_D)/(128*T**3*lambda_D**5*sigma_m**6) + (A**2*N*exp(2*T*lambda_D) - A**2*N)*(2*A*N*T*lambda_D - A*N*exp(2*T*lambda_D) + A*N)**2*exp(-6*T*lambda_D)/(256*T**3*lambda_D**5*sigma_m**6))/(-(N*exp(2*T*lambda_D) - N)*(A**2*N*exp(2*T*lambda_D) - A**2*N)*(-2*A**2*N*T**2*lambda_D**2 - 2*A**2*N*T*lambda_D + A**2*N*exp(2*T*lambda_D) - A**2*N)**2*exp(-8*T*lambda_D)/(1024*T**4*lambda_D**8*sigma_m**8) + (N*exp(2*T*lambda_D) - N)*(-2*A**2*N*T*lambda_D + A**2*N*exp(2*T*lambda_D) - A**2*N)**2*(-2*A**2*N*T**2*lambda_D**2 - 2*A**2*N*T*lambda_D + A**2*N*exp(2*T*lambda_D) - A**2*N)*exp(-8*T*lambda_D)/(2048*T**4*lambda_D**8*sigma_m**8) + (A**2*N*exp(2*T*lambda_D) - A**2*N)*(2*A*N*T*lambda_D - A*N*exp(2*T*lambda_D) + A*N)**2*(-2*A**2*N*T**2*lambda_D**2 - 2*A**2*N*T*lambda_D + A**2*N*exp(2*T*lambda_D) - A**2*N)*exp(-8*T*lambda_D)/(2048*T**4*lambda_D**8*sigma_m**8) - (2*A*N*T*lambda_D - A*N*exp(2*T*lambda_D) + A*N)**2*(-2*A**2*N*T*lambda_D + A**2*N*exp(2*T*lambda_D) - A**2*N)**2*exp(-8*T*lambda_D)/(4096*T**4*lambda_D**8*sigma_m**8)), ((N*exp(2*T*lambda_D) - N)*(-2*A**2*N*T*lambda_D + A**2*N*exp(2*T*lambda_D) - A**2*N)*(-2*A**2*N*T**2*lambda_D**2 - 2*A**2*N*T*lambda_D + A**2*N*exp(2*T*lambda_D) - A**2*N)*exp(-6*T*lambda_D)/(256*T**3*lambda_D**6*sigma_m**6) - (2*A*N*T*lambda_D - A*N*exp(2*T*lambda_D) + A*N)**2*(-2*A**2*N*T*lambda_D + A**2*N*exp(2*T*lambda_D) - A**2*N)*exp(-6*T*lambda_D)/(512*T**3*lambda_D**6*sigma_m**6))/(-(N*exp(2*T*lambda_D) - N)*(A**2*N*exp(2*T*lambda_D) - A**2*N)*(-2*A**2*N*T**2*lambda_D**2 - 2*A**2*N*T*lambda_D + A**2*N*exp(2*T*lambda_D) - A**2*N)**2*exp(-8*T*lambda_D)/(1024*T**4*lambda_D**8*sigma_m**8) + (N*exp(2*T*lambda_D) - N)*(-2*A**2*N*T*lambda_D + A**2*N*exp(2*T*lambda_D) - A**2*N)**2*(-2*A**2*N*T**2*lambda_D**2 - 2*A**2*N*T*lambda_D + A**2*N*exp(2*T*lambda_D) - A**2*N)*exp(-8*T*lambda_D)/(2048*T**4*lambda_D**8*sigma_m**8) + (A**2*N*exp(2*T*lambda_D) - A**2*N)*(2*A*N*T*lambda_D - A*N*exp(2*T*lambda_D) + A*N)**2*(-2*A**2*N*T**2*lambda_D**2 - 2*A**2*N*T*lambda_D + A**2*N*exp(2*T*lambda_D) - A**2*N)*exp(-8*T*lambda_D)/(2048*T**4*lambda_D**8*sigma_m**8) - (2*A*N*T*lambda_D - A*N*exp(2*T*lambda_D) + A*N)**2*(-2*A**2*N*T*lambda_D + A**2*N*exp(2*T*lambda_D) - A**2*N)**2*exp(-8*T*lambda_D)/(4096*T**4*lambda_D**8*sigma_m**8))],\n",
       "[                                                                                                                                                                                                                                                                                                                                                                                                                                                                                                                                                                                                                                                                                                                                                                                                                                                                                                                                                                                                                                                                                                                                                                                                                                                                                0,                                                                                                                                                                                                                                                                                                                                                                                                                                                                                                                                                                                                                                                                                                                                                                                                                                                                                                                                                                                                                                                                                                                                                                                                                                                                                 0, ((N*exp(2*T*lambda_D) - N)*(-2*A**2*N*T*lambda_D + A**2*N*exp(2*T*lambda_D) - A**2*N)*(-2*A**2*N*T**2*lambda_D**2 - 2*A**2*N*T*lambda_D + A**2*N*exp(2*T*lambda_D) - A**2*N)*exp(-6*T*lambda_D)/(256*T**3*lambda_D**6*sigma_m**6) - (2*A*N*T*lambda_D - A*N*exp(2*T*lambda_D) + A*N)**2*(-2*A**2*N*T*lambda_D + A**2*N*exp(2*T*lambda_D) - A**2*N)*exp(-6*T*lambda_D)/(512*T**3*lambda_D**6*sigma_m**6))/(-(N*exp(2*T*lambda_D) - N)*(A**2*N*exp(2*T*lambda_D) - A**2*N)*(-2*A**2*N*T**2*lambda_D**2 - 2*A**2*N*T*lambda_D + A**2*N*exp(2*T*lambda_D) - A**2*N)**2*exp(-8*T*lambda_D)/(1024*T**4*lambda_D**8*sigma_m**8) + (N*exp(2*T*lambda_D) - N)*(-2*A**2*N*T*lambda_D + A**2*N*exp(2*T*lambda_D) - A**2*N)**2*(-2*A**2*N*T**2*lambda_D**2 - 2*A**2*N*T*lambda_D + A**2*N*exp(2*T*lambda_D) - A**2*N)*exp(-8*T*lambda_D)/(2048*T**4*lambda_D**8*sigma_m**8) + (A**2*N*exp(2*T*lambda_D) - A**2*N)*(2*A*N*T*lambda_D - A*N*exp(2*T*lambda_D) + A*N)**2*(-2*A**2*N*T**2*lambda_D**2 - 2*A**2*N*T*lambda_D + A**2*N*exp(2*T*lambda_D) - A**2*N)*exp(-8*T*lambda_D)/(2048*T**4*lambda_D**8*sigma_m**8) - (2*A*N*T*lambda_D - A*N*exp(2*T*lambda_D) + A*N)**2*(-2*A**2*N*T*lambda_D + A**2*N*exp(2*T*lambda_D) - A**2*N)**2*exp(-8*T*lambda_D)/(4096*T**4*lambda_D**8*sigma_m**8)),                            (-(N*exp(2*T*lambda_D) - N)*(-2*A**2*N*T**2*lambda_D**2 - 2*A**2*N*T*lambda_D + A**2*N*exp(2*T*lambda_D) - A**2*N)**2*exp(-6*T*lambda_D)/(256*T**3*lambda_D**7*sigma_m**6) + (2*A*N*T*lambda_D - A*N*exp(2*T*lambda_D) + A*N)**2*(-2*A**2*N*T**2*lambda_D**2 - 2*A**2*N*T*lambda_D + A**2*N*exp(2*T*lambda_D) - A**2*N)*exp(-6*T*lambda_D)/(512*T**3*lambda_D**7*sigma_m**6))/(-(N*exp(2*T*lambda_D) - N)*(A**2*N*exp(2*T*lambda_D) - A**2*N)*(-2*A**2*N*T**2*lambda_D**2 - 2*A**2*N*T*lambda_D + A**2*N*exp(2*T*lambda_D) - A**2*N)**2*exp(-8*T*lambda_D)/(1024*T**4*lambda_D**8*sigma_m**8) + (N*exp(2*T*lambda_D) - N)*(-2*A**2*N*T*lambda_D + A**2*N*exp(2*T*lambda_D) - A**2*N)**2*(-2*A**2*N*T**2*lambda_D**2 - 2*A**2*N*T*lambda_D + A**2*N*exp(2*T*lambda_D) - A**2*N)*exp(-8*T*lambda_D)/(2048*T**4*lambda_D**8*sigma_m**8) + (A**2*N*exp(2*T*lambda_D) - A**2*N)*(2*A*N*T*lambda_D - A*N*exp(2*T*lambda_D) + A*N)**2*(-2*A**2*N*T**2*lambda_D**2 - 2*A**2*N*T*lambda_D + A**2*N*exp(2*T*lambda_D) - A**2*N)*exp(-8*T*lambda_D)/(2048*T**4*lambda_D**8*sigma_m**8) - (2*A*N*T*lambda_D - A*N*exp(2*T*lambda_D) + A*N)**2*(-2*A**2*N*T*lambda_D + A**2*N*exp(2*T*lambda_D) - A**2*N)**2*exp(-8*T*lambda_D)/(4096*T**4*lambda_D**8*sigma_m**8))]])"
      ]
     },
     "execution_count": 16,
     "metadata": {},
     "output_type": "execute_result"
    }
   ],
   "source": [
    "FIM_inv"
   ]
  },
  {
   "cell_type": "code",
   "execution_count": 17,
   "id": "68b042d8",
   "metadata": {},
   "outputs": [],
   "source": [
    "index_a = param_indices[A]\n",
    "var_A = FIM_inv[index_a, index_a]\n",
    "index_phi = param_indices[phi]\n",
    "var_phi = FIM_inv[index_phi, index_phi]\n",
    "index_omega = param_indices[omega]\n",
    "var_omega = FIM_inv[index_omega, index_omega]\n",
    "index_lambda = param_indices[lambda_D]\n",
    "var_lambda = FIM_inv[index_lambda, index_lambda]"
   ]
  },
  {
   "cell_type": "code",
   "execution_count": 18,
   "id": "216530cd",
   "metadata": {},
   "outputs": [
    {
     "name": "stdout",
     "output_type": "stream",
     "text": [
      "symbolic expression has 295 terms and length 1_188\n",
      "inbuilt count:\n",
      "  sp.pow                  64\n",
      "  sp.trig                  0\n",
      "symbols count:            10\n",
      "  N                       45\n",
      "  lambda_D                41\n",
      "  T                       41\n",
      "  A                       37\n",
      "  sigma_m                  6\n",
      "  1/2048                   2\n",
      "  -1/1024                  1\n",
      "  -1/128                   1\n",
      "  -1/4096                  1\n",
      "  1/256                    1\n"
     ]
    }
   ],
   "source": [
    "sym_functions.sym_info(var_lambda)"
   ]
  },
  {
   "cell_type": "code",
   "execution_count": 19,
   "id": "40252fe8",
   "metadata": {},
   "outputs": [],
   "source": [
    "FIM_inv_symp = FIM_inv\n",
    "FIM_inv_symp = FIM_inv_symp.applyfunc(sp.expand)\n",
    "FIM_inv_symp = FIM_inv_symp.applyfunc(sp.expand_trig)\n",
    "FIM_inv_symp = FIM_inv_symp.applyfunc(sp.factor)\n",
    "FIM_inv_symp = FIM_inv_symp.applyfunc(sp.cancel)\n",
    "FIM_inv_symp = FIM_inv_symp.applyfunc(sp.simplify)"
   ]
  },
  {
   "cell_type": "code",
   "execution_count": 50,
   "id": "334dbcd4",
   "metadata": {},
   "outputs": [],
   "source": [
    "import sympy as sp\n",
    "\n",
    "# Param list and symbolic variables\n",
    "param_syms = [A, phi, omega, lambda_D]\n",
    "param_vars = {}\n",
    "\n",
    "# Rewrite and simplify each diagonal entry\n",
    "for param in param_syms:\n",
    "    idx = param_indices[param]\n",
    "    var = FIM_inv_symp[idx, idx]\n",
    "\n",
    "    var_hyper = var.rewrite(sp.cosh)\n",
    "    var_hyper = var_hyper.rewrite(sp.cos).rewrite(sp.cosh)\n",
    "    var_simplified = sp.simplify(var_hyper)\n",
    "\n",
    "    param_vars[param] = var_simplified"
   ]
  },
  {
   "cell_type": "code",
   "execution_count": 56,
   "id": "682d1fa8",
   "metadata": {},
   "outputs": [
    {
     "data": {
      "text/latex": [
       "$\\displaystyle \\sigma^2 (A ) = \\frac{8 T \\lambda_{D} \\sigma_{m}^{2} \\left(T^{2} \\lambda_{D}^{2} + T \\lambda_{D} - \\frac{e^{2 T \\lambda_{D}}}{2} + \\frac{1}{2}\\right)}{N \\left(2 T^{2} \\lambda_{D}^{2} - \\cosh{\\left(2 T \\lambda_{D} \\right)} + 1\\right)}$"
      ],
      "text/plain": [
       "<IPython.core.display.Math object>"
      ]
     },
     "metadata": {},
     "output_type": "display_data"
    },
    {
     "data": {
      "text/latex": [
       "$\\displaystyle \\sigma^2 (\\phi ) = \\frac{8 T \\lambda_{D} \\sigma_{m}^{2} \\left(T^{2} \\lambda_{D}^{2} + T \\lambda_{D} - \\frac{e^{2 T \\lambda_{D}}}{2} + \\frac{1}{2}\\right)}{A^{2} N \\left(2 T^{2} \\lambda_{D}^{2} - \\cosh{\\left(2 T \\lambda_{D} \\right)} + 1\\right)}$"
      ],
      "text/plain": [
       "<IPython.core.display.Math object>"
      ]
     },
     "metadata": {},
     "output_type": "display_data"
    },
    {
     "data": {
      "text/latex": [
       "$\\displaystyle \\sigma^2 (\\omega ) = - \\frac{8 T \\lambda_{D}^{3} \\sigma_{m}^{2} \\left(e^{2 T \\lambda_{D}} - 1\\right)}{A^{2} N \\left(2 T^{2} \\lambda_{D}^{2} - \\cosh{\\left(2 T \\lambda_{D} \\right)} + 1\\right)}$"
      ],
      "text/plain": [
       "<IPython.core.display.Math object>"
      ]
     },
     "metadata": {},
     "output_type": "display_data"
    },
    {
     "data": {
      "text/latex": [
       "$\\displaystyle \\sigma^2 (\\lambda_{D} ) = - \\frac{8 T \\lambda_{D}^{3} \\sigma_{m}^{2} \\left(e^{2 T \\lambda_{D}} - 1\\right)}{A^{2} N \\left(2 T^{2} \\lambda_{D}^{2} - \\cosh{\\left(2 T \\lambda_{D} \\right)} + 1\\right)}$"
      ],
      "text/plain": [
       "<IPython.core.display.Math object>"
      ]
     },
     "metadata": {},
     "output_type": "display_data"
    }
   ],
   "source": [
    "from IPython.display import display, Math\n",
    "\n",
    "# Loop through and display each simplified diagonal variance\n",
    "for param, expr in param_vars.items():\n",
    "    display(Math(rf\"\\sigma^2 ({sp.latex(param)} ) = {sp.latex(expr)}\"))"
   ]
  },
  {
   "cell_type": "code",
   "execution_count": 60,
   "id": "1c1fbf99",
   "metadata": {},
   "outputs": [
    {
     "data": {
      "text/latex": [
       "$\\displaystyle \\frac{8 T \\lambda_{D} \\sigma_{m}^{2} \\left(T^{2} \\lambda_{D}^{2} + T \\lambda_{D} - \\frac{e^{2 T \\lambda_{D}}}{2} + \\frac{1}{2}\\right)}{N \\left(2 T^{2} \\lambda_{D}^{2} - \\cosh{\\left(2 T \\lambda_{D} \\right)} + 1\\right)}$"
      ],
      "text/plain": [
       "8*T*lambda_D*sigma_m**2*(T**2*lambda_D**2 + T*lambda_D - exp(2*T*lambda_D)/2 + 1/2)/(N*(2*T**2*lambda_D**2 - cosh(2*T*lambda_D) + 1))"
      ]
     },
     "execution_count": 60,
     "metadata": {},
     "output_type": "execute_result"
    }
   ],
   "source": [
    "param_vars[A]"
   ]
  },
  {
   "cell_type": "code",
   "execution_count": 61,
   "id": "e149f637",
   "metadata": {},
   "outputs": [
    {
     "name": "stdout",
     "output_type": "stream",
     "text": [
      "symbolic expression has 36 terms and length 163\n",
      "inbuilt count:\n",
      "  sp.pow                   7\n",
      "  sp.trig                  0\n",
      "symbols count:             5\n",
      "  lambda_D                 7\n",
      "  T                        7\n",
      "  N                        1\n",
      "  A                        1\n",
      "  sigma_m                  1\n"
     ]
    }
   ],
   "source": [
    "sym_functions.sym_info(var_lambda)"
   ]
  },
  {
   "cell_type": "code",
   "execution_count": 68,
   "id": "cf2c9727",
   "metadata": {},
   "outputs": [
    {
     "data": {
      "text/plain": [
       "<function sympy.core.symbol.symbols(names, *, cls=<class 'sympy.core.symbol.Symbol'>, **args) -> 'Any'>"
      ]
     },
     "execution_count": 68,
     "metadata": {},
     "output_type": "execute_result"
    }
   ],
   "source": [
    "symbols"
   ]
  },
  {
   "cell_type": "code",
   "execution_count": 72,
   "id": "9875e82a",
   "metadata": {},
   "outputs": [
    {
     "name": "stdout",
     "output_type": "stream",
     "text": [
      "var A\n",
      "8*damp_rate*samp_time*sigma_obs**2*(damp_rate**2*samp_time**2 + damp_rate*samp_time - 1/2*math.exp(2*damp_rate*samp_time) + 1/2)/(samp_num*(2*damp_rate**2*samp_time**2 - math.cosh(2*damp_rate*samp_time) + 1))\n",
      "\n",
      "\n",
      "var lambda_D\n",
      "-8*damp_rate**3*samp_time*sigma_obs**2*(math.exp(2*damp_rate*samp_time) - 1)/(amp**2*samp_num*(2*damp_rate**2*samp_time**2 - math.cosh(2*damp_rate*samp_time) + 1))\n",
      "\n",
      "\n",
      "var omega\n",
      "-8*damp_rate**3*samp_time*sigma_obs**2*(math.exp(2*damp_rate*samp_time) - 1)/(amp**2*samp_num*(2*damp_rate**2*samp_time**2 - math.cosh(2*damp_rate*samp_time) + 1))\n",
      "\n",
      "\n",
      "var phi\n",
      "8*damp_rate*samp_time*sigma_obs**2*(damp_rate**2*samp_time**2 + damp_rate*samp_time - 1/2*math.exp(2*damp_rate*samp_time) + 1/2)/(amp**2*samp_num*(2*damp_rate**2*samp_time**2 - math.cosh(2*damp_rate*samp_time) + 1))\n",
      "\n",
      "\n"
     ]
    }
   ],
   "source": [
    "# generate code\n",
    "\n",
    "for symbol in params:\n",
    "    print(f\"var {str(symbol)}\")\n",
    "    # Map symbols to variable names in function signature\n",
    "    rename_map = {\n",
    "        A: \"amp\",\n",
    "        N: \"samp_num\",\n",
    "        T: \"samp_time\",\n",
    "        sigma_m: \"sigma_obs\",\n",
    "        lambda_D: \"damp_rate\",\n",
    "        omega: \"omega\",  # leave unchanged\n",
    "        phi: \"phi\",  # leave unchanged\n",
    "        t: \"t\",  # used internally, not in function signature\n",
    "    }\n",
    "\n",
    "    # Convert to substituted code string\n",
    "    expr = param_vars[symbol]\n",
    "    rename_symb_map = {k: sp.Symbol(v) for k, v in rename_map.items()}\n",
    "    expr_sub = expr.subs(rename_symb_map)\n",
    "    pycode_expr = sp.printing.pycode(expr_sub)\n",
    "    print(pycode_expr)\n",
    "    print(\"\\n\")"
   ]
  },
  {
   "cell_type": "code",
   "execution_count": null,
   "id": "1c604b1c",
   "metadata": {},
   "outputs": [
    {
     "name": "stdout",
     "output_type": "stream",
     "text": [
      "var A\n",
      "\\frac{8 T \\lambda \\sigma^{2} \\left(T^{2} \\lambda^{2} + T \\lambda - \\frac{e^{2 T \\lambda}}{2} + \\frac{1}{2}\\right)}{N \\left(2 T^{2} \\lambda^{2} - \\cosh{\\left(2 T \\lambda \\right)} + 1\\right)}\n",
      "\n",
      "\n",
      "var lambda_D\n",
      "- \\frac{8 T \\lambda^{3} \\sigma^{2} \\left(e^{2 T \\lambda} - 1\\right)}{A^{2} N \\left(2 T^{2} \\lambda^{2} - \\cosh{\\left(2 T \\lambda \\right)} + 1\\right)}\n",
      "\n",
      "\n",
      "var omega\n",
      "- \\frac{8 T \\lambda^{3} \\sigma^{2} \\left(e^{2 T \\lambda} - 1\\right)}{A^{2} N \\left(2 T^{2} \\lambda^{2} - \\cosh{\\left(2 T \\lambda \\right)} + 1\\right)}\n",
      "\n",
      "\n",
      "var phi\n",
      "\\frac{8 T \\lambda \\sigma^{2} \\left(T^{2} \\lambda^{2} + T \\lambda - \\frac{e^{2 T \\lambda}}{2} + \\frac{1}{2}\\right)}{A^{2} N \\left(2 T^{2} \\lambda^{2} - \\cosh{\\left(2 T \\lambda \\right)} + 1\\right)}\n",
      "\n",
      "\n"
     ]
    }
   ],
   "source": [
    "# generate latex\n",
    "\n",
    "for symbol in params:\n",
    "    print(f\"var {str(symbol)}\")\n",
    "    # Map symbols to variable names in function signature\n",
    "    rename_map = {\n",
    "        A: sp.Symbol(\"A\"),\n",
    "        N: sp.Symbol(\"N\"),\n",
    "        T: sp.Symbol(\"T\"),\n",
    "        sigma_m: sp.Symbol(r\"\\sigma\"),\n",
    "        lambda_D: sp.Symbol(r\"\\lambda\"),\n",
    "        omega: sp.Symbol(r\"\\omega\"),\n",
    "        phi: sp.Symbol(r\"\\phi\"),\n",
    "        t: sp.Symbol(\"t\"),\n",
    "    }\n",
    "\n",
    "    # Convert to substituted code string\n",
    "    expr = param_vars[symbol]\n",
    "    rename_symb_map = {k: v for k, v in rename_map.items()}\n",
    "    expr_sub = expr.subs(rename_symb_map)\n",
    "    latex_expr = sp.latex(expr_sub)\n",
    "    print(latex_expr)\n",
    "    print(\"\\n\")"
   ]
  },
  {
   "cell_type": "code",
   "execution_count": null,
   "id": "2b5d88ab",
   "metadata": {},
   "outputs": [],
   "source": [
    "from sympy import latex\n",
    "\n",
    "FIM_subbed = FIM.subs(rename_map)\n",
    "renamed_params: list[sp.Symbol] = [rename_map[p] for p in params]\n",
    "\n",
    "\n",
    "def is_latex_symbol(s: str) -> bool:\n",
    "    return s.startswith(\"\\\\\")\n",
    "\n",
    "\n",
    "def latex_nonzero_fim_named(\n",
    "    F: sp.Matrix,\n",
    "    params: list[sp.Symbol],\n",
    ") -> str:\n",
    "    \"\"\"Generate LaTeX align* block for nonzero FIM entries using renamed symbols,\n",
    "    only outputting upper triangle and referencing symmetric entries.\"\"\"\n",
    "\n",
    "    lines = []\n",
    "\n",
    "    for i in range(F.rows):\n",
    "        for j in range(i, F.cols):\n",
    "            val = F[i, j]\n",
    "            if val.equals(0):\n",
    "                continue\n",
    "\n",
    "            name_i = params[i]\n",
    "            name_j = params[j]\n",
    "\n",
    "            def wrap(sym: str) -> str:\n",
    "                res = sym if is_latex_symbol(str(sym)) else rf\"\\text{{{sym}}}\"\n",
    "                return res\n",
    "\n",
    "            subscript = f\"{wrap(name_i)},\\\\,{wrap(name_j)}\"\n",
    "            lhs = f\"F_{{{subscript}}}\"\n",
    "\n",
    "            if i == j:\n",
    "                rhs = latex(val)\n",
    "            else:\n",
    "                # Reference symmetric element, render as plain text\n",
    "                sym_i = rf\"\\text{{F}}_{{\\text{{{name_j}}},\\,\\text{{{name_i}}}}}\"\n",
    "                rhs = latex(val) if i < j else sym_i\n",
    "\n",
    "            lines.append(f\"{lhs} &= {rhs} \\\\\\\\\")\n",
    "\n",
    "    return r\"\\begin{align*}\" + \"\\n\" + \"\\n\".join(lines) + \"\\n\" + r\"\\end{align*}\"\n",
    "\n",
    "\n",
    "latex_block = latex_nonzero_fim_named(FIM_subbed, renamed_params)\n",
    "print(latex_block)"
   ]
  },
  {
   "cell_type": "code",
   "execution_count": null,
   "id": "804a180e",
   "metadata": {},
   "outputs": [],
   "source": []
  },
  {
   "cell_type": "markdown",
   "id": "b7b003d9",
   "metadata": {},
   "source": [
    "# limiting case"
   ]
  },
  {
   "cell_type": "code",
   "execution_count": 92,
   "id": "391451a5",
   "metadata": {},
   "outputs": [
    {
     "data": {
      "text/plain": [
       "np.float64(2.0)"
      ]
     },
     "execution_count": 92,
     "metadata": {},
     "output_type": "execute_result"
    }
   ],
   "source": [
    "import numpy as np\n",
    "\n",
    "np.sqrt(8) / np.sqrt(2)"
   ]
  },
  {
   "cell_type": "code",
   "execution_count": 97,
   "id": "6cd28fe9",
   "metadata": {},
   "outputs": [
    {
     "name": "stdout",
     "output_type": "stream",
     "text": [
      "var A\n",
      "\\frac{8 \\sigma^{2}}{N}\n",
      "\n",
      "\n",
      "var lambda_D\n",
      "\\frac{24 \\sigma^{2}}{A^{2} N T^{2}}\n",
      "\n",
      "\n",
      "var omega\n",
      "\\frac{24 \\sigma^{2}}{A^{2} N T^{2}}\n",
      "\n",
      "\n",
      "var phi\n",
      "\\frac{8 \\sigma^{2}}{A^{2} N}\n",
      "\n",
      "\n"
     ]
    }
   ],
   "source": [
    "for symbol in params:\n",
    "    print(f\"var {str(symbol)}\")\n",
    "    # Map symbols to variable names in function signature\n",
    "    rename_map = {\n",
    "        A: sp.Symbol(\"A\"),\n",
    "        N: sp.Symbol(\"N\"),\n",
    "        T: sp.Symbol(\"T\"),\n",
    "        sigma_m: sp.Symbol(r\"\\sigma\"),\n",
    "        lambda_D: sp.Symbol(r\"\\lambda\"),\n",
    "        omega: sp.Symbol(r\"\\omega\"),\n",
    "        phi: sp.Symbol(r\"\\phi\"),\n",
    "        t: sp.Symbol(\"t\"),\n",
    "    }\n",
    "\n",
    "    # Convert to substituted code string\n",
    "    expr = param_vars[symbol]\n",
    "\n",
    "    lim_expr = sp.limit(expr, lambda_D, 0)\n",
    "    rename_symb_map = {k: v for k, v in rename_map.items()}\n",
    "    expr_sub = lim_expr.subs(rename_symb_map)\n",
    "    latex_expr = sp.latex(expr_sub)\n",
    "    print(latex_expr)\n",
    "    print(\"\\n\")"
   ]
  },
  {
   "cell_type": "code",
   "execution_count": 94,
   "id": "413f3161",
   "metadata": {},
   "outputs": [
    {
     "name": "stdout",
     "output_type": "stream",
     "text": [
      "\\frac{8 \\sigma_{m}^{2}}{N}\n"
     ]
    }
   ],
   "source": [
    "fist_lim = sp.limit(param_vars[A], T, 0)\n",
    "print(sp.latex(fist_lim))"
   ]
  },
  {
   "cell_type": "code",
   "execution_count": null,
   "id": "593acf80",
   "metadata": {},
   "outputs": [],
   "source": []
  },
  {
   "cell_type": "markdown",
   "id": "b87d005b",
   "metadata": {},
   "source": [
    "# optimum duration"
   ]
  },
  {
   "cell_type": "code",
   "execution_count": null,
   "id": "f74928eb",
   "metadata": {},
   "outputs": [],
   "source": [
    "import copy\n",
    "\n",
    "# try to non-diemsnoonalize the expression\n",
    "simp_expr = copy.deepcopy(var_omega)\n",
    "c1 = sp.symbols(\"c1\", positive=True, real=True)\n",
    "ratio_expr = simp_expr.subs(T, c1 / lambda_D)\n",
    "c2 = sp.symbols(\"c2\", positive=True, real=True)\n",
    "ratio_expr = ratio_expr.subs(sigma_m, c2 * A)\n",
    "ratio_expr = ratio_expr.simplify() * N / 16 / lambda_D**2"
   ]
  },
  {
   "cell_type": "code",
   "execution_count": null,
   "id": "55e404f5",
   "metadata": {},
   "outputs": [
    {
     "data": {
      "text/latex": [
       "$\\displaystyle \\frac{\\left(- 4 c_{1} \\left(1 - e^{2 c_{1}}\\right) \\left(2 c_{1}^{2} + 2 c_{1} - e^{2 c_{1}} + 1\\right) e^{2 c_{1}} + \\left(2 c_{1} \\left(1 - e^{2 c_{1}}\\right) - 2 c_{1} e^{2 c_{1}} - e^{2 c_{1}} + 1\\right) \\left(4 c_{1}^{2} e^{2 c_{1}} - e^{4 c_{1}} + 2 e^{2 c_{1}} - 1\\right)\\right) e^{2 c_{1}}}{\\left(4 c_{1}^{2} e^{2 c_{1}} - e^{4 c_{1}} + 2 e^{2 c_{1}} - 1\\right)^{2}}$"
      ],
      "text/plain": [
       "(-4*c1*(1 - exp(2*c1))*(2*c1**2 + 2*c1 - exp(2*c1) + 1)*exp(2*c1) + (2*c1*(1 - exp(2*c1)) - 2*c1*exp(2*c1) - exp(2*c1) + 1)*(4*c1**2*exp(2*c1) - exp(4*c1) + 2*exp(2*c1) - 1))*exp(2*c1)/(4*c1**2*exp(2*c1) - exp(4*c1) + 2*exp(2*c1) - 1)**2"
      ]
     },
     "execution_count": 162,
     "metadata": {},
     "output_type": "execute_result"
    }
   ],
   "source": [
    "d_expr = sp.diff(ratio_expr, c1)\n",
    "d_expr = d_expr / c2**2\n",
    "d_expr.simplify()"
   ]
  },
  {
   "cell_type": "code",
   "execution_count": null,
   "id": "4e40fd35",
   "metadata": {},
   "outputs": [
    {
     "ename": "NotImplementedError",
     "evalue": "multiple generators [c1, exp(c1)]\nNo algorithms are implemented to solve equation c1*(1 - exp(2*c1))*(-8*c1**2*exp(2*c1) - 8*c1*exp(2*c1) + 4*exp(4*c1) - 4*exp(2*c1))*exp(2*c1)/(100*(4*c1**2*exp(2*c1) - exp(4*c1) + 2*exp(2*c1) - 1)**2) + c1*(1 - exp(2*c1))*exp(2*c1)/(50*(4*c1**2*exp(2*c1) - exp(4*c1) + 2*exp(2*c1) - 1)) - c1*exp(4*c1)/(50*(4*c1**2*exp(2*c1) - exp(4*c1) + 2*exp(2*c1) - 1)) + (1 - exp(2*c1))*exp(2*c1)/(100*(4*c1**2*exp(2*c1) - exp(4*c1) + 2*exp(2*c1) - 1))",
     "output_type": "error",
     "traceback": [
      "\u001b[0;31m---------------------------------------------------------------------------\u001b[0m",
      "\u001b[0;31mNotImplementedError\u001b[0m                       Traceback (most recent call last)",
      "Cell \u001b[0;32mIn[163], line 5\u001b[0m\n\u001b[1;32m      1\u001b[0m \u001b[38;5;28;01mimport\u001b[39;00m\u001b[38;5;250m \u001b[39m\u001b[38;5;21;01mscipy\u001b[39;00m\n\u001b[1;32m      2\u001b[0m \u001b[38;5;28;01mfrom\u001b[39;00m\u001b[38;5;250m \u001b[39m\u001b[38;5;21;01mscipy\u001b[39;00m\u001b[38;5;21;01m.\u001b[39;00m\u001b[38;5;21;01moptimize\u001b[39;00m\u001b[38;5;250m \u001b[39m\u001b[38;5;28;01mimport\u001b[39;00m minimize_scalar\n\u001b[0;32m----> 5\u001b[0m \u001b[43msp\u001b[49m\u001b[38;5;241;43m.\u001b[39;49m\u001b[43msolve\u001b[49m\u001b[43m(\u001b[49m\u001b[43md_expr_sub\u001b[49m\u001b[43m,\u001b[49m\u001b[43m \u001b[49m\u001b[43mc1\u001b[49m\u001b[43m)\u001b[49m\n",
      "File \u001b[0;32m~/.local/lib/python3.13/site-packages/sympy/solvers/solvers.py:1168\u001b[0m, in \u001b[0;36msolve\u001b[0;34m(f, *symbols, **flags)\u001b[0m\n\u001b[1;32m   1166\u001b[0m         solution \u001b[38;5;241m=\u001b[39m _solve_undetermined(f[\u001b[38;5;241m0\u001b[39m], symbols, flags)\n\u001b[1;32m   1167\u001b[0m     \u001b[38;5;28;01mif\u001b[39;00m \u001b[38;5;129;01mnot\u001b[39;00m solution:\n\u001b[0;32m-> 1168\u001b[0m         solution \u001b[38;5;241m=\u001b[39m \u001b[43m_solve\u001b[49m\u001b[43m(\u001b[49m\u001b[43mf\u001b[49m\u001b[43m[\u001b[49m\u001b[38;5;241;43m0\u001b[39;49m\u001b[43m]\u001b[49m\u001b[43m,\u001b[49m\u001b[43m \u001b[49m\u001b[38;5;241;43m*\u001b[39;49m\u001b[43msymbols\u001b[49m\u001b[43m,\u001b[49m\u001b[43m \u001b[49m\u001b[38;5;241;43m*\u001b[39;49m\u001b[38;5;241;43m*\u001b[39;49m\u001b[43mflags\u001b[49m\u001b[43m)\u001b[49m\n\u001b[1;32m   1169\u001b[0m \u001b[38;5;28;01melse\u001b[39;00m:\n\u001b[1;32m   1170\u001b[0m     linear, solution \u001b[38;5;241m=\u001b[39m _solve_system(f, symbols, \u001b[38;5;241m*\u001b[39m\u001b[38;5;241m*\u001b[39mflags)\n",
      "File \u001b[0;32m~/.local/lib/python3.13/site-packages/sympy/solvers/solvers.py:1722\u001b[0m, in \u001b[0;36m_solve\u001b[0;34m(f, *symbols, **flags)\u001b[0m\n\u001b[1;32m   1719\u001b[0m \u001b[38;5;66;03m# ----------- end of fallback ----------------------------\u001b[39;00m\n\u001b[1;32m   1721\u001b[0m \u001b[38;5;28;01mif\u001b[39;00m result \u001b[38;5;129;01mis\u001b[39;00m \u001b[38;5;28;01mFalse\u001b[39;00m:\n\u001b[0;32m-> 1722\u001b[0m     \u001b[38;5;28;01mraise\u001b[39;00m \u001b[38;5;167;01mNotImplementedError\u001b[39;00m(\u001b[38;5;124m'\u001b[39m\u001b[38;5;130;01m\\n\u001b[39;00m\u001b[38;5;124m'\u001b[39m\u001b[38;5;241m.\u001b[39mjoin([msg, not_impl_msg \u001b[38;5;241m%\u001b[39m f]))\n\u001b[1;32m   1724\u001b[0m result \u001b[38;5;241m=\u001b[39m _remove_duplicate_solutions(result)\n\u001b[1;32m   1726\u001b[0m \u001b[38;5;28;01mif\u001b[39;00m flags\u001b[38;5;241m.\u001b[39mget(\u001b[38;5;124m'\u001b[39m\u001b[38;5;124msimplify\u001b[39m\u001b[38;5;124m'\u001b[39m, \u001b[38;5;28;01mTrue\u001b[39;00m):\n",
      "\u001b[0;31mNotImplementedError\u001b[0m: multiple generators [c1, exp(c1)]\nNo algorithms are implemented to solve equation c1*(1 - exp(2*c1))*(-8*c1**2*exp(2*c1) - 8*c1*exp(2*c1) + 4*exp(4*c1) - 4*exp(2*c1))*exp(2*c1)/(100*(4*c1**2*exp(2*c1) - exp(4*c1) + 2*exp(2*c1) - 1)**2) + c1*(1 - exp(2*c1))*exp(2*c1)/(50*(4*c1**2*exp(2*c1) - exp(4*c1) + 2*exp(2*c1) - 1)) - c1*exp(4*c1)/(50*(4*c1**2*exp(2*c1) - exp(4*c1) + 2*exp(2*c1) - 1)) + (1 - exp(2*c1))*exp(2*c1)/(100*(4*c1**2*exp(2*c1) - exp(4*c1) + 2*exp(2*c1) - 1))"
     ]
    }
   ],
   "source": [
    "import scipy\n",
    "from scipy.optimize import minimize_scalar\n",
    "\n",
    "\n",
    "sp.solve(d_expr_sub, c1)"
   ]
  },
  {
   "cell_type": "code",
   "execution_count": null,
   "id": "bcd4216f",
   "metadata": {},
   "outputs": [
    {
     "name": "stdout",
     "output_type": "stream",
     "text": [
      "Root at c1 ≈ 2.0174775197974972412351272762766629167709465824412\n"
     ]
    }
   ],
   "source": [
    "from mpmath import findroot\n",
    "from mpmath import mp\n",
    "\n",
    "mp.dps = 50  # Use 50 decimal digits of precision globally\n",
    "\n",
    "# Lambdify the derivative for numerical solving\n",
    "f_mpmath = sp.lambdify(c1, d_expr_sub, modules=\"mpmath\")\n",
    "\n",
    "\n",
    "root = findroot(f_mpmath, 2.0, solver=\"newton\")\n",
    "print(f\"Root at c1 ≈ {root}\")"
   ]
  },
  {
   "cell_type": "code",
   "execution_count": null,
   "id": "55a07d3c",
   "metadata": {},
   "outputs": [
    {
     "name": "stdout",
     "output_type": "stream",
     "text": [
      "tol=1e-10: c1 ≈ 2.0174775197974972412351272762759718726768980233288\n",
      "tol=1e-20: c1 ≈ 2.0174775197974972412351272762766629167709465824412\n",
      "tol=1e-30: c1 ≈ 2.0174775197974972412351272762766629167709465824412\n",
      "tol=1e-40: c1 ≈ 2.0174775197974972412351272762766629167709465824412\n"
     ]
    }
   ],
   "source": [
    "epsilons = [1e-10, 1e-20, 1e-30, 1e-40]\n",
    "roots = [findroot(f_mpmath, 2.0, tol=eps, solver=\"newton\") for eps in epsilons]\n",
    "for eps, r in zip(epsilons, roots):\n",
    "    print(f\"tol={eps}: c1 ≈ {r}\")"
   ]
  },
  {
   "cell_type": "markdown",
   "id": "8337d1ab",
   "metadata": {},
   "source": [
    "## Damping ratio"
   ]
  },
  {
   "cell_type": "code",
   "execution_count": null,
   "id": "ad0731f0",
   "metadata": {},
   "outputs": [
    {
     "data": {
      "text/latex": [
       "$\\displaystyle \\frac{c_{1} c_{2}^{2} \\left(1 - e^{2 c_{1}}\\right) e^{2 c_{1}}}{4 c_{1}^{2} e^{2 c_{1}} - e^{4 c_{1}} + 2 e^{2 c_{1}} - 1}$"
      ],
      "text/plain": [
       "c1*c2**2*(1 - exp(2*c1))*exp(2*c1)/(4*c1**2*exp(2*c1) - exp(4*c1) + 2*exp(2*c1) - 1)"
      ]
     },
     "execution_count": 168,
     "metadata": {},
     "output_type": "execute_result"
    }
   ],
   "source": [
    "import copy\n",
    "\n",
    "# try to non-diemsnoonalize the expression\n",
    "simp_expr = copy.deepcopy(var_lambda)\n",
    "c1 = sp.symbols(\"c1\", positive=True, real=True)\n",
    "ratio_expr = simp_expr.subs(T, c1 / lambda_D)\n",
    "c2 = sp.symbols(\"c2\", positive=True, real=True)\n",
    "ratio_expr = ratio_expr.subs(sigma_m, c2 * A)\n",
    "ratio_expr = ratio_expr.simplify() * N / 16 / lambda_D**2\n",
    "ratio_expr"
   ]
  },
  {
   "cell_type": "code",
   "execution_count": null,
   "id": "9de8edd2",
   "metadata": {},
   "outputs": [
    {
     "data": {
      "text/latex": [
       "$\\displaystyle \\frac{\\left(- 4 c_{1} \\left(1 - e^{2 c_{1}}\\right) \\left(2 c_{1}^{2} + 2 c_{1} - e^{2 c_{1}} + 1\\right) e^{2 c_{1}} + \\left(2 c_{1} \\left(1 - e^{2 c_{1}}\\right) - 2 c_{1} e^{2 c_{1}} - e^{2 c_{1}} + 1\\right) \\left(4 c_{1}^{2} e^{2 c_{1}} - e^{4 c_{1}} + 2 e^{2 c_{1}} - 1\\right)\\right) e^{2 c_{1}}}{\\left(4 c_{1}^{2} e^{2 c_{1}} - e^{4 c_{1}} + 2 e^{2 c_{1}} - 1\\right)^{2}}$"
      ],
      "text/plain": [
       "(-4*c1*(1 - exp(2*c1))*(2*c1**2 + 2*c1 - exp(2*c1) + 1)*exp(2*c1) + (2*c1*(1 - exp(2*c1)) - 2*c1*exp(2*c1) - exp(2*c1) + 1)*(4*c1**2*exp(2*c1) - exp(4*c1) + 2*exp(2*c1) - 1))*exp(2*c1)/(4*c1**2*exp(2*c1) - exp(4*c1) + 2*exp(2*c1) - 1)**2"
      ]
     },
     "execution_count": 169,
     "metadata": {},
     "output_type": "execute_result"
    }
   ],
   "source": [
    "d_expr = sp.diff(ratio_expr, c1)\n",
    "d_expr = d_expr / c2**2\n",
    "d_expr.simplify()"
   ]
  },
  {
   "cell_type": "code",
   "execution_count": null,
   "id": "cb953f09",
   "metadata": {},
   "outputs": [
    {
     "name": "stdout",
     "output_type": "stream",
     "text": [
      "Root at c1 ≈ 2.0174775197974972412351272762766629167709465824412\n"
     ]
    }
   ],
   "source": [
    "from mpmath import findroot\n",
    "from mpmath import mp\n",
    "\n",
    "mp.dps = 50  # Use 50 decimal digits of precision globally\n",
    "\n",
    "# Lambdify the derivative for numerical solving\n",
    "f_mpmath = sp.lambdify(c1, d_expr_sub, modules=\"mpmath\")\n",
    "\n",
    "\n",
    "root = findroot(f_mpmath, 2.0, solver=\"newton\")\n",
    "print(f\"Root at c1 ≈ {root}\")"
   ]
  },
  {
   "cell_type": "code",
   "execution_count": null,
   "id": "e711ec70",
   "metadata": {},
   "outputs": [
    {
     "data": {
      "text/plain": [
       "mpf('2.0174775197974972412351272762766629167709465824412037')"
      ]
     },
     "execution_count": 171,
     "metadata": {},
     "output_type": "execute_result"
    }
   ],
   "source": [
    "root"
   ]
  },
  {
   "cell_type": "code",
   "execution_count": null,
   "id": "a57549c6",
   "metadata": {},
   "outputs": [
    {
     "data": {
      "text/latex": [
       "$\\displaystyle \\frac{16 T \\lambda_{D}^{3} \\sigma_{m}^{2} \\left(1 - e^{2 T \\lambda_{D}}\\right) e^{2 T \\lambda_{D}}}{A^{2} N \\left(4 T^{2} \\lambda_{D}^{2} e^{2 T \\lambda_{D}} - e^{4 T \\lambda_{D}} + 2 e^{2 T \\lambda_{D}} - 1\\right)}$"
      ],
      "text/plain": [
       "16*T*lambda_D**3*sigma_m**2*(1 - exp(2*T*lambda_D))*exp(2*T*lambda_D)/(A**2*N*(4*T**2*lambda_D**2*exp(2*T*lambda_D) - exp(4*T*lambda_D) + 2*exp(2*T*lambda_D) - 1))"
      ]
     },
     "execution_count": 173,
     "metadata": {},
     "output_type": "execute_result"
    }
   ],
   "source": [
    "var_omega"
   ]
  },
  {
   "cell_type": "code",
   "execution_count": null,
   "id": "c00fadf6",
   "metadata": {},
   "outputs": [],
   "source": [
    "best_var_omega = var_omega.subs(T, 2.0 / lambda_D)"
   ]
  },
  {
   "cell_type": "code",
   "execution_count": null,
   "id": "4ce2ea6d",
   "metadata": {},
   "outputs": [
    {
     "data": {
      "text/latex": [
       "$\\displaystyle \\frac{1.08926063665112 \\lambda_{D} \\sigma_{m}}{A \\sqrt{N}}$"
      ],
      "text/plain": [
       "1.08926063665112*lambda_D*sigma_m/(A*sqrt(N))"
      ]
     },
     "execution_count": 180,
     "metadata": {},
     "output_type": "execute_result"
    }
   ],
   "source": [
    "sp.sqrt(best_var_omega) / (2 * np.pi)"
   ]
  },
  {
   "cell_type": "code",
   "execution_count": null,
   "id": "85c7f48c",
   "metadata": {},
   "outputs": [
    {
     "data": {
      "text/latex": [
       "$\\displaystyle \\frac{6.84402642789539 \\lambda_{D} \\sigma_{m}}{A \\sqrt{N}}$"
      ],
      "text/plain": [
       "6.84402642789539*lambda_D*sigma_m/(A*sqrt(N))"
      ]
     },
     "execution_count": 182,
     "metadata": {},
     "output_type": "execute_result"
    }
   ],
   "source": [
    "best_var_lambda = var_lambda.subs(T, 2.0 / lambda_D)\n",
    "sp.sqrt(best_var_lambda)"
   ]
  },
  {
   "cell_type": "markdown",
   "id": "af8b8375",
   "metadata": {},
   "source": [
    "# truncated inverse\n",
    "If you want to see what the unc does when you ignore terms"
   ]
  },
  {
   "cell_type": "code",
   "execution_count": null,
   "id": "1376668f",
   "metadata": {},
   "outputs": [
    {
     "data": {
      "text/latex": [
       "$\\displaystyle \\left[\\begin{matrix}\\frac{\\left(N e^{2 T \\lambda_{D}} - N\\right) e^{- 2 T \\lambda_{D}}}{4 T \\lambda_{D} \\sigma_{m}^{2}} & 0 & 0 & 0\\\\0 & \\frac{\\left(- 2 A^{2} N T^{2} \\lambda_{D}^{2} - 2 A^{2} N T \\lambda_{D} + A^{2} N e^{2 T \\lambda_{D}} - A^{2} N\\right) e^{- 2 T \\lambda_{D}}}{8 T \\lambda_{D}^{3} \\sigma_{m}^{2}} & 0 & 0\\\\0 & 0 & \\frac{\\left(- 2 A^{2} N T^{2} \\lambda_{D}^{2} - 2 A^{2} N T \\lambda_{D} + A^{2} N e^{2 T \\lambda_{D}} - A^{2} N\\right) e^{- 2 T \\lambda_{D}}}{8 T \\lambda_{D}^{3} \\sigma_{m}^{2}} & 0\\\\0 & 0 & 0 & \\frac{\\left(A^{2} N e^{2 T \\lambda_{D}} - A^{2} N\\right) e^{- 2 T \\lambda_{D}}}{4 T \\lambda_{D} \\sigma_{m}^{2}}\\end{matrix}\\right]$"
      ],
      "text/plain": [
       "Matrix([\n",
       "[(N*exp(2*T*lambda_D) - N)*exp(-2*T*lambda_D)/(4*T*lambda_D*sigma_m**2),                                                                                                                                      0,                                                                                                                                      0,                                                                                0],\n",
       "[                                                                     0, (-2*A**2*N*T**2*lambda_D**2 - 2*A**2*N*T*lambda_D + A**2*N*exp(2*T*lambda_D) - A**2*N)*exp(-2*T*lambda_D)/(8*T*lambda_D**3*sigma_m**2),                                                                                                                                      0,                                                                                0],\n",
       "[                                                                     0,                                                                                                                                      0, (-2*A**2*N*T**2*lambda_D**2 - 2*A**2*N*T*lambda_D + A**2*N*exp(2*T*lambda_D) - A**2*N)*exp(-2*T*lambda_D)/(8*T*lambda_D**3*sigma_m**2),                                                                                0],\n",
       "[                                                                     0,                                                                                                                                      0,                                                                                                                                      0, (A**2*N*exp(2*T*lambda_D) - A**2*N)*exp(-2*T*lambda_D)/(4*T*lambda_D*sigma_m**2)]])"
      ]
     },
     "execution_count": 71,
     "metadata": {},
     "output_type": "execute_result"
    }
   ],
   "source": [
    "from typing import List, Tuple\n",
    "\n",
    "\n",
    "def zero_except(mat_in: sp.Matrix, keep_pairs: List[Tuple[int, int]]) -> sp.Matrix:\n",
    "    \"\"\"\n",
    "    Returns a copy of the matrix with all off-diagonal elements zeroed out,\n",
    "    except those in the keep_pairs list (applied symmetrically).\n",
    "\n",
    "    Args:\n",
    "        F: SymPy square matrix\n",
    "        keep_pairs: list of (i, j) index pairs to preserve (both [i,j] and [j,i])\n",
    "\n",
    "    Returns:\n",
    "        A new matrix with only specified off-diagonals (and the diagonal) preserved.\n",
    "    \"\"\"\n",
    "    n = mat_in.shape[0]\n",
    "    assert mat_in.shape == (n, n), \"Matrix must be square\"\n",
    "\n",
    "    # Build symmetric set of allowed pairs\n",
    "    keep = {(i, j) for (i, j) in keep_pairs}\n",
    "    keep |= {(j, i) for (i, j) in keep_pairs}\n",
    "\n",
    "    F_new = mat_in.copy()\n",
    "    for i in range(n):\n",
    "        for j in range(n):\n",
    "            if i == j:\n",
    "                continue  # Always keep diagonal\n",
    "            if (i, j) not in keep:\n",
    "                F_new[i, j] = 0\n",
    "    return F_new\n",
    "\n",
    "\n",
    "FIM_simplified = FIM.copy()\n",
    "allowed_pairs = []\n",
    "index_pairs = [(param_indices[a], param_indices[b]) for a, b in allowed_pairs]\n",
    "FIM_simplified = zero_except(FIM_simplified, index_pairs)\n",
    "FIM_simplified"
   ]
  },
  {
   "cell_type": "code",
   "execution_count": null,
   "id": "a06648c2",
   "metadata": {},
   "outputs": [
    {
     "name": "stdout",
     "output_type": "stream",
     "text": [
      "creating template for symbolic symmetric inverse\n",
      "applying substitution to symbolic inverse\n"
     ]
    }
   ],
   "source": [
    "# runtime ~ 30s\n",
    "FIM_simplified_inv = sym_functions.inverse_via_symmetric_substitution(FIM_simplified)"
   ]
  },
  {
   "cell_type": "code",
   "execution_count": null,
   "id": "1b126fa4",
   "metadata": {},
   "outputs": [
    {
     "name": "stdout",
     "output_type": "stream",
     "text": [
      "symbolic expression has 14 terms and length 67\n",
      "inbuilt count:\n",
      "  sp.pow                   2\n",
      "  sp.trig                  0\n",
      "symbols count:             4\n",
      "  lambda_D                 3\n",
      "  T                        3\n",
      "  N                        2\n",
      "  sigma_m                  1\n"
     ]
    }
   ],
   "source": [
    "var_A = FIM_simplified_inv[index_a, index_a]\n",
    "sym_functions.sym_info(var_A)"
   ]
  },
  {
   "cell_type": "code",
   "execution_count": null,
   "id": "7daecb87",
   "metadata": {},
   "outputs": [
    {
     "data": {
      "text/latex": [
       "$\\displaystyle \\frac{2 \\sqrt{T} \\sqrt{\\lambda_{D}} \\sigma_{m} \\sqrt{\\frac{1}{e^{2 T \\lambda_{D}} - 1}} e^{T \\lambda_{D}}}{\\sqrt{N}}$"
      ],
      "text/plain": [
       "2*sqrt(T)*sqrt(lambda_D)*sigma_m*sqrt(1/(exp(2*T*lambda_D) - 1))*exp(T*lambda_D)/sqrt(N)"
      ]
     },
     "execution_count": 74,
     "metadata": {},
     "output_type": "execute_result"
    }
   ],
   "source": [
    "std_A = sp.sqrt(var_A).simplify()\n",
    "std_A"
   ]
  },
  {
   "cell_type": "code",
   "execution_count": null,
   "id": "345c345f",
   "metadata": {},
   "outputs": [],
   "source": [
    "def compare_with_target(expressions: Dict[str, sp.Expr]) -> Dict[str, bool]:\n",
    "    \"\"\"Compare derived variances with the target formulas from the derivation.\n",
    "\n",
    "    Parameters\n",
    "    ----------\n",
    "    expressions : Dict[str, sp.Expr]\n",
    "        Dictionary containing the derived variances ``var_A``, ``var_phi``\n",
    "        and ``var_omega``.\n",
    "\n",
    "    Returns\n",
    "    -------\n",
    "    Dict[str, bool]\n",
    "        Dictionary indicating whether each derived expression is\n",
    "        algebraically equivalent to the corresponding target expression.\n",
    "    \"\"\"\n",
    "\n",
    "    lambda_D, T, A, sigma_m, N = sp.symbols(\"lambda_D T A sigma_m N\", positive=True)\n",
    "    # Target expressions from the supplied derivation (see Eqs. (A.36)–(A.38)).\n",
    "    var_A_target: sp.Expr = sp.simplify(\n",
    "        (2 * lambda_D * sigma_m**2 * T * (sp.coth(lambda_D * T) + 1)) / N\n",
    "    )\n",
    "    var_phi_target: sp.Expr = sp.simplify(\n",
    "        (\n",
    "            4\n",
    "            * lambda_D\n",
    "            * sigma_m**2\n",
    "            * T\n",
    "            * (-2 * lambda_D * T * (lambda_D * T + 1) + sp.exp(2 * lambda_D * T) - 1)\n",
    "        )\n",
    "        / (A**2 * N * (-2 * lambda_D**2 * T**2 + sp.cosh(2 * lambda_D * T) - 1))\n",
    "    )\n",
    "    var_omega_target: sp.Expr = sp.simplify(\n",
    "        (8 * lambda_D**3 * sigma_m**2 * T * (sp.exp(2 * lambda_D * T) - 1))\n",
    "        / (A**2 * N * (-2 * lambda_D**2 * T**2 + sp.cosh(2 * lambda_D * T) - 1))\n",
    "    )\n",
    "\n",
    "    # Substitution dictionary for matching symbols in derived expressions\n",
    "    subs_dict = {\n",
    "        sp.symbols(\"lambda_D\", positive=True): lambda_D,\n",
    "        sp.symbols(\"T\", positive=True): T,\n",
    "        sp.symbols(\"A\", positive=True): A,\n",
    "        sp.symbols(\"sigma_m\", positive=True): sigma_m,\n",
    "        sp.symbols(\"N\", positive=True): N,\n",
    "    }\n",
    "\n",
    "    # Compare via ratio: two expressions are equivalent if their ratio simplifies to 1\n",
    "    def match(expr1: sp.Expr, expr2: sp.Expr) -> bool:\n",
    "        \"\"\"Return True if two expressions are equivalent.\n",
    "\n",
    "        The comparison first attempts symbolic simplification of the ratio\n",
    "        ``expr1/expr2`` to 1.  If that fails (e.g. due to latent\n",
    "        exponential–hyperbolic identities), a numerical check is\n",
    "        performed at several positive values of ``lambda_D`` and ``T``.\n",
    "        \"\"\"\n",
    "        ratio = sp.simplify(expr1 / expr2)\n",
    "        # Direct symbolic check\n",
    "        if sp.simplify(ratio - 1) == 0:\n",
    "            return True\n",
    "        # Numerical sampling fallback\n",
    "        numeric_tests = [(0.1, 2.0), (0.5, 1.2), (0.2, 3.5)]\n",
    "        lambda_D_sym, T_sym = sp.symbols(\"lambda_D T\", positive=True)\n",
    "        f_lambda = lambda_D_sym\n",
    "        f_T = T_sym\n",
    "        # Create callable function for ratio using lambdify to ensure numeric evaluation\n",
    "        ratio_func = sp.lambdify((lambda_D_sym, T_sym), ratio, \"numpy\")\n",
    "        import math\n",
    "\n",
    "        for lam_val, T_val in numeric_tests:\n",
    "            try:\n",
    "                val = ratio_func(lam_val, T_val)\n",
    "            except Exception:\n",
    "                return False\n",
    "            if not math.isfinite(val) or abs(val - 1.0) > 1e-10:\n",
    "                return False\n",
    "        return True\n",
    "\n",
    "    var_A_match: bool = match(expressions[\"var_A\"].subs(subs_dict), var_A_target)\n",
    "    var_phi_match: bool = match(expressions[\"var_phi\"].subs(subs_dict), var_phi_target)\n",
    "    var_omega_match: bool = match(\n",
    "        expressions[\"var_omega\"].subs(subs_dict), var_omega_target\n",
    "    )\n",
    "\n",
    "    return {\n",
    "        \"var_A\": var_A_match,\n",
    "        \"var_phi\": var_phi_match,\n",
    "        \"var_omega\": var_omega_match,\n",
    "    }"
   ]
  },
  {
   "cell_type": "code",
   "execution_count": null,
   "id": "3c558334",
   "metadata": {},
   "outputs": [],
   "source": []
  }
 ],
 "metadata": {
  "kernelspec": {
   "display_name": "Python 3",
   "language": "python",
   "name": "python3"
  },
  "language_info": {
   "codemirror_mode": {
    "name": "ipython",
    "version": 3
   },
   "file_extension": ".py",
   "mimetype": "text/x-python",
   "name": "python",
   "nbconvert_exporter": "python",
   "pygments_lexer": "ipython3",
   "version": "3.13.5"
  }
 },
 "nbformat": 4,
 "nbformat_minor": 5
}
