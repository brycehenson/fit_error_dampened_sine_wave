{
 "cells": [
  {
   "cell_type": "code",
   "execution_count": 4,
   "id": "2d9593d7",
   "metadata": {},
   "outputs": [
    {
     "name": "stdout",
     "output_type": "stream",
     "text": [
      "✅ Done\n"
     ]
    }
   ],
   "source": [
    "import os\n",
    "\n",
    "import plotly.graph_objects as go\n",
    "import plotly.io as pio\n",
    "\n",
    "fig = go.Figure(go.Scatter(x=[0.1, 1, 10], y=[0.01, 0.1, 1]))\n",
    "fig.update_layout(title=\"Test\", xaxis_type=\"log\", yaxis_type=\"log\")\n",
    "os.makedirs(\"../temp\", exist_ok=True)\n",
    "pio.write_image(fig, \"../temp/sanity.svg\")\n",
    "pio.write_image(fig, \"../temp/sanity.pdf\")\n",
    "\n",
    "print(\"✅ Done\")"
   ]
  }
 ],
 "metadata": {
  "kernelspec": {
   "display_name": "Python 3",
   "language": "python",
   "name": "python3"
  },
  "language_info": {
   "codemirror_mode": {
    "name": "ipython",
    "version": 3
   },
   "file_extension": ".py",
   "mimetype": "text/x-python",
   "name": "python",
   "nbconvert_exporter": "python",
   "pygments_lexer": "ipython3",
   "version": "3.13.5"
  }
 },
 "nbformat": 4,
 "nbformat_minor": 5
}
