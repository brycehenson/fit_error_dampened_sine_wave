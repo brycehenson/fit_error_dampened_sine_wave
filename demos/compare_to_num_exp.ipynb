{
 "cells": [
  {
   "cell_type": "code",
   "execution_count": null,
   "id": "c352ae14",
   "metadata": {},
   "outputs": [],
   "source": []
  },
  {
   "cell_type": "code",
   "execution_count": 1,
   "id": "6537e580",
   "metadata": {},
   "outputs": [],
   "source": [
    "import numpy as np\n",
    "import plotly.graph_objects as go\n",
    "from typing import Dict"
   ]
  },
  {
   "cell_type": "code",
   "execution_count": 2,
   "id": "c0f559d8",
   "metadata": {},
   "outputs": [
    {
     "data": {
      "application/vnd.plotly.v1+json": {
       "config": {
        "plotlyServerURL": "https://plot.ly"
       },
       "data": [
        {
         "mode": "lines",
         "name": "fun",
         "type": "scatter",
         "x": {
          "bdata": "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",
          "dtype": "f8"
         },
         "y": {
          "bdata": "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",
          "dtype": "f8"
         }
        }
       ],
       "layout": {
        "template": {
         "data": {
          "bar": [
           {
            "error_x": {
             "color": "#2a3f5f"
            },
            "error_y": {
             "color": "#2a3f5f"
            },
            "marker": {
             "line": {
              "color": "#E5ECF6",
              "width": 0.5
             },
             "pattern": {
              "fillmode": "overlay",
              "size": 10,
              "solidity": 0.2
             }
            },
            "type": "bar"
           }
          ],
          "barpolar": [
           {
            "marker": {
             "line": {
              "color": "#E5ECF6",
              "width": 0.5
             },
             "pattern": {
              "fillmode": "overlay",
              "size": 10,
              "solidity": 0.2
             }
            },
            "type": "barpolar"
           }
          ],
          "carpet": [
           {
            "aaxis": {
             "endlinecolor": "#2a3f5f",
             "gridcolor": "white",
             "linecolor": "white",
             "minorgridcolor": "white",
             "startlinecolor": "#2a3f5f"
            },
            "baxis": {
             "endlinecolor": "#2a3f5f",
             "gridcolor": "white",
             "linecolor": "white",
             "minorgridcolor": "white",
             "startlinecolor": "#2a3f5f"
            },
            "type": "carpet"
           }
          ],
          "choropleth": [
           {
            "colorbar": {
             "outlinewidth": 0,
             "ticks": ""
            },
            "type": "choropleth"
           }
          ],
          "contour": [
           {
            "colorbar": {
             "outlinewidth": 0,
             "ticks": ""
            },
            "colorscale": [
             [
              0,
              "#0d0887"
             ],
             [
              0.1111111111111111,
              "#46039f"
             ],
             [
              0.2222222222222222,
              "#7201a8"
             ],
             [
              0.3333333333333333,
              "#9c179e"
             ],
             [
              0.4444444444444444,
              "#bd3786"
             ],
             [
              0.5555555555555556,
              "#d8576b"
             ],
             [
              0.6666666666666666,
              "#ed7953"
             ],
             [
              0.7777777777777778,
              "#fb9f3a"
             ],
             [
              0.8888888888888888,
              "#fdca26"
             ],
             [
              1,
              "#f0f921"
             ]
            ],
            "type": "contour"
           }
          ],
          "contourcarpet": [
           {
            "colorbar": {
             "outlinewidth": 0,
             "ticks": ""
            },
            "type": "contourcarpet"
           }
          ],
          "heatmap": [
           {
            "colorbar": {
             "outlinewidth": 0,
             "ticks": ""
            },
            "colorscale": [
             [
              0,
              "#0d0887"
             ],
             [
              0.1111111111111111,
              "#46039f"
             ],
             [
              0.2222222222222222,
              "#7201a8"
             ],
             [
              0.3333333333333333,
              "#9c179e"
             ],
             [
              0.4444444444444444,
              "#bd3786"
             ],
             [
              0.5555555555555556,
              "#d8576b"
             ],
             [
              0.6666666666666666,
              "#ed7953"
             ],
             [
              0.7777777777777778,
              "#fb9f3a"
             ],
             [
              0.8888888888888888,
              "#fdca26"
             ],
             [
              1,
              "#f0f921"
             ]
            ],
            "type": "heatmap"
           }
          ],
          "histogram": [
           {
            "marker": {
             "pattern": {
              "fillmode": "overlay",
              "size": 10,
              "solidity": 0.2
             }
            },
            "type": "histogram"
           }
          ],
          "histogram2d": [
           {
            "colorbar": {
             "outlinewidth": 0,
             "ticks": ""
            },
            "colorscale": [
             [
              0,
              "#0d0887"
             ],
             [
              0.1111111111111111,
              "#46039f"
             ],
             [
              0.2222222222222222,
              "#7201a8"
             ],
             [
              0.3333333333333333,
              "#9c179e"
             ],
             [
              0.4444444444444444,
              "#bd3786"
             ],
             [
              0.5555555555555556,
              "#d8576b"
             ],
             [
              0.6666666666666666,
              "#ed7953"
             ],
             [
              0.7777777777777778,
              "#fb9f3a"
             ],
             [
              0.8888888888888888,
              "#fdca26"
             ],
             [
              1,
              "#f0f921"
             ]
            ],
            "type": "histogram2d"
           }
          ],
          "histogram2dcontour": [
           {
            "colorbar": {
             "outlinewidth": 0,
             "ticks": ""
            },
            "colorscale": [
             [
              0,
              "#0d0887"
             ],
             [
              0.1111111111111111,
              "#46039f"
             ],
             [
              0.2222222222222222,
              "#7201a8"
             ],
             [
              0.3333333333333333,
              "#9c179e"
             ],
             [
              0.4444444444444444,
              "#bd3786"
             ],
             [
              0.5555555555555556,
              "#d8576b"
             ],
             [
              0.6666666666666666,
              "#ed7953"
             ],
             [
              0.7777777777777778,
              "#fb9f3a"
             ],
             [
              0.8888888888888888,
              "#fdca26"
             ],
             [
              1,
              "#f0f921"
             ]
            ],
            "type": "histogram2dcontour"
           }
          ],
          "mesh3d": [
           {
            "colorbar": {
             "outlinewidth": 0,
             "ticks": ""
            },
            "type": "mesh3d"
           }
          ],
          "parcoords": [
           {
            "line": {
             "colorbar": {
              "outlinewidth": 0,
              "ticks": ""
             }
            },
            "type": "parcoords"
           }
          ],
          "pie": [
           {
            "automargin": true,
            "type": "pie"
           }
          ],
          "scatter": [
           {
            "fillpattern": {
             "fillmode": "overlay",
             "size": 10,
             "solidity": 0.2
            },
            "type": "scatter"
           }
          ],
          "scatter3d": [
           {
            "line": {
             "colorbar": {
              "outlinewidth": 0,
              "ticks": ""
             }
            },
            "marker": {
             "colorbar": {
              "outlinewidth": 0,
              "ticks": ""
             }
            },
            "type": "scatter3d"
           }
          ],
          "scattercarpet": [
           {
            "marker": {
             "colorbar": {
              "outlinewidth": 0,
              "ticks": ""
             }
            },
            "type": "scattercarpet"
           }
          ],
          "scattergeo": [
           {
            "marker": {
             "colorbar": {
              "outlinewidth": 0,
              "ticks": ""
             }
            },
            "type": "scattergeo"
           }
          ],
          "scattergl": [
           {
            "marker": {
             "colorbar": {
              "outlinewidth": 0,
              "ticks": ""
             }
            },
            "type": "scattergl"
           }
          ],
          "scattermap": [
           {
            "marker": {
             "colorbar": {
              "outlinewidth": 0,
              "ticks": ""
             }
            },
            "type": "scattermap"
           }
          ],
          "scattermapbox": [
           {
            "marker": {
             "colorbar": {
              "outlinewidth": 0,
              "ticks": ""
             }
            },
            "type": "scattermapbox"
           }
          ],
          "scatterpolar": [
           {
            "marker": {
             "colorbar": {
              "outlinewidth": 0,
              "ticks": ""
             }
            },
            "type": "scatterpolar"
           }
          ],
          "scatterpolargl": [
           {
            "marker": {
             "colorbar": {
              "outlinewidth": 0,
              "ticks": ""
             }
            },
            "type": "scatterpolargl"
           }
          ],
          "scatterternary": [
           {
            "marker": {
             "colorbar": {
              "outlinewidth": 0,
              "ticks": ""
             }
            },
            "type": "scatterternary"
           }
          ],
          "surface": [
           {
            "colorbar": {
             "outlinewidth": 0,
             "ticks": ""
            },
            "colorscale": [
             [
              0,
              "#0d0887"
             ],
             [
              0.1111111111111111,
              "#46039f"
             ],
             [
              0.2222222222222222,
              "#7201a8"
             ],
             [
              0.3333333333333333,
              "#9c179e"
             ],
             [
              0.4444444444444444,
              "#bd3786"
             ],
             [
              0.5555555555555556,
              "#d8576b"
             ],
             [
              0.6666666666666666,
              "#ed7953"
             ],
             [
              0.7777777777777778,
              "#fb9f3a"
             ],
             [
              0.8888888888888888,
              "#fdca26"
             ],
             [
              1,
              "#f0f921"
             ]
            ],
            "type": "surface"
           }
          ],
          "table": [
           {
            "cells": {
             "fill": {
              "color": "#EBF0F8"
             },
             "line": {
              "color": "white"
             }
            },
            "header": {
             "fill": {
              "color": "#C8D4E3"
             },
             "line": {
              "color": "white"
             }
            },
            "type": "table"
           }
          ]
         },
         "layout": {
          "annotationdefaults": {
           "arrowcolor": "#2a3f5f",
           "arrowhead": 0,
           "arrowwidth": 1
          },
          "autotypenumbers": "strict",
          "coloraxis": {
           "colorbar": {
            "outlinewidth": 0,
            "ticks": ""
           }
          },
          "colorscale": {
           "diverging": [
            [
             0,
             "#8e0152"
            ],
            [
             0.1,
             "#c51b7d"
            ],
            [
             0.2,
             "#de77ae"
            ],
            [
             0.3,
             "#f1b6da"
            ],
            [
             0.4,
             "#fde0ef"
            ],
            [
             0.5,
             "#f7f7f7"
            ],
            [
             0.6,
             "#e6f5d0"
            ],
            [
             0.7,
             "#b8e186"
            ],
            [
             0.8,
             "#7fbc41"
            ],
            [
             0.9,
             "#4d9221"
            ],
            [
             1,
             "#276419"
            ]
           ],
           "sequential": [
            [
             0,
             "#0d0887"
            ],
            [
             0.1111111111111111,
             "#46039f"
            ],
            [
             0.2222222222222222,
             "#7201a8"
            ],
            [
             0.3333333333333333,
             "#9c179e"
            ],
            [
             0.4444444444444444,
             "#bd3786"
            ],
            [
             0.5555555555555556,
             "#d8576b"
            ],
            [
             0.6666666666666666,
             "#ed7953"
            ],
            [
             0.7777777777777778,
             "#fb9f3a"
            ],
            [
             0.8888888888888888,
             "#fdca26"
            ],
            [
             1,
             "#f0f921"
            ]
           ],
           "sequentialminus": [
            [
             0,
             "#0d0887"
            ],
            [
             0.1111111111111111,
             "#46039f"
            ],
            [
             0.2222222222222222,
             "#7201a8"
            ],
            [
             0.3333333333333333,
             "#9c179e"
            ],
            [
             0.4444444444444444,
             "#bd3786"
            ],
            [
             0.5555555555555556,
             "#d8576b"
            ],
            [
             0.6666666666666666,
             "#ed7953"
            ],
            [
             0.7777777777777778,
             "#fb9f3a"
            ],
            [
             0.8888888888888888,
             "#fdca26"
            ],
            [
             1,
             "#f0f921"
            ]
           ]
          },
          "colorway": [
           "#636efa",
           "#EF553B",
           "#00cc96",
           "#ab63fa",
           "#FFA15A",
           "#19d3f3",
           "#FF6692",
           "#B6E880",
           "#FF97FF",
           "#FECB52"
          ],
          "font": {
           "color": "#2a3f5f"
          },
          "geo": {
           "bgcolor": "white",
           "lakecolor": "white",
           "landcolor": "#E5ECF6",
           "showlakes": true,
           "showland": true,
           "subunitcolor": "white"
          },
          "hoverlabel": {
           "align": "left"
          },
          "hovermode": "closest",
          "mapbox": {
           "style": "light"
          },
          "paper_bgcolor": "white",
          "plot_bgcolor": "#E5ECF6",
          "polar": {
           "angularaxis": {
            "gridcolor": "white",
            "linecolor": "white",
            "ticks": ""
           },
           "bgcolor": "#E5ECF6",
           "radialaxis": {
            "gridcolor": "white",
            "linecolor": "white",
            "ticks": ""
           }
          },
          "scene": {
           "xaxis": {
            "backgroundcolor": "#E5ECF6",
            "gridcolor": "white",
            "gridwidth": 2,
            "linecolor": "white",
            "showbackground": true,
            "ticks": "",
            "zerolinecolor": "white"
           },
           "yaxis": {
            "backgroundcolor": "#E5ECF6",
            "gridcolor": "white",
            "gridwidth": 2,
            "linecolor": "white",
            "showbackground": true,
            "ticks": "",
            "zerolinecolor": "white"
           },
           "zaxis": {
            "backgroundcolor": "#E5ECF6",
            "gridcolor": "white",
            "gridwidth": 2,
            "linecolor": "white",
            "showbackground": true,
            "ticks": "",
            "zerolinecolor": "white"
           }
          },
          "shapedefaults": {
           "line": {
            "color": "#2a3f5f"
           }
          },
          "ternary": {
           "aaxis": {
            "gridcolor": "white",
            "linecolor": "white",
            "ticks": ""
           },
           "baxis": {
            "gridcolor": "white",
            "linecolor": "white",
            "ticks": ""
           },
           "bgcolor": "#E5ECF6",
           "caxis": {
            "gridcolor": "white",
            "linecolor": "white",
            "ticks": ""
           }
          },
          "title": {
           "x": 0.05
          },
          "xaxis": {
           "automargin": true,
           "gridcolor": "white",
           "linecolor": "white",
           "ticks": "",
           "title": {
            "standoff": 15
           },
           "zerolinecolor": "white",
           "zerolinewidth": 2
          },
          "yaxis": {
           "automargin": true,
           "gridcolor": "white",
           "linecolor": "white",
           "ticks": "",
           "title": {
            "standoff": 15
           },
           "zerolinecolor": "white",
           "zerolinewidth": 2
          }
         }
        },
        "width": 900,
        "xaxis": {
         "title": {
          "text": "time (s)"
         }
        },
        "yaxis": {
         "title": {
          "text": "Signal Amplitude (arb. u.)"
         }
        }
       }
      }
     },
     "metadata": {},
     "output_type": "display_data"
    }
   ],
   "source": [
    "from math_functions import damp_sine_wave\n",
    "\n",
    "\n",
    "x_samp = np.linspace(0, 10, 1000)\n",
    "y_samp = damp_sine_wave(x_samp, frequency=1, damping_rate=0.1, phase=0)\n",
    "\n",
    "\n",
    "fig = go.Figure().update_layout(width=900)\n",
    "\n",
    "fig.add_trace(go.Scatter(name=\"fun\", mode=\"lines\", x=x_samp, y=y_samp))\n",
    "fig.update_layout(\n",
    "    xaxis_title=\"time (s)\",\n",
    "    yaxis_title=\"Signal Amplitude (arb. u.)\",\n",
    ")\n",
    "fig.show()"
   ]
  },
  {
   "cell_type": "code",
   "execution_count": 3,
   "id": "740c978c",
   "metadata": {},
   "outputs": [
    {
     "data": {
      "application/vnd.plotly.v1+json": {
       "config": {
        "plotlyServerURL": "https://plot.ly"
       },
       "data": [
        {
         "mode": "lines",
         "name": "True Function",
         "type": "scatter",
         "x": {
          "bdata": "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",
          "dtype": "f8"
         },
         "y": {
          "bdata": "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",
          "dtype": "f8"
         }
        },
        {
         "line": {
          "width": 1
         },
         "mode": "lines",
         "name": "Noisy Data",
         "type": "scatter",
         "x": {
          "bdata": "AAAAAAAAAAACSAHNIICEPwJIAc0ggJQ/A+yBMzHAnj8CSAHNIICkPwKaQQApoKk/A+yBMzHArj8CH2GzHPCxPwJIAc0ggLQ/AnGh5iQQtz8CmkEAKaC5PwPD4RktMLw/A+yBMzHAvj+CCpGmGqjAPwIfYbMc8ME/gjMxwB44wz8CSAHNIIDEP4Jc0dkiyMU/AnGh5iQQxz+ChXHzJljIPwKaQQApoMk/g64RDSvoyj8Dw+EZLTDMP4PXsSYveM0/A+yBMzHAzj9CACmgGQTQP4IKkaYaqNA/whT5rBtM0T8CH2GzHPDRP0IpybkdlNI/gjMxwB440z/CPZnGH9zTPwJIAc0ggNQ/QlJp0yEk1T+CXNHZIsjVP8JmOeAjbNY/AnGh5iQQ1z9CewntJbTXP4KFcfMmWNg/wo/Z+Sf82D8CmkEAKaDZP0OkqQYqRNo/g64RDSvo2j/DuHkTLIzbPwPD4RktMNw/Q81JIC7U3D+D17EmL3jdP8PhGS0wHN4/A+yBMzHA3j9D9uk5MmTfP0IAKaAZBOA/YgVdIxpW4D+CCpGmGqjgP6IPxSkb+uA/whT5rBtM4T/iGS0wHJ7hPwIfYbMc8OE/IiSVNh1C4j9CKcm5HZTiP2Iu/Twe5uI/gjMxwB444z+iOGVDH4rjP8I9mcYf3OM/4kLNSSAu5D8CSAHNIIDkPyJNNVAh0uQ/QlJp0yEk5T9iV51WInblP4Jc0dkiyOU/omEFXSMa5j/CZjngI2zmP+JrbWMkvuY/AnGh5iQQ5z8idtVpJWLnP0J7Ce0ltOc/YoA9cCYG6D+ChXHzJljoP6KKpXYnqug/wo/Z+Sf86D/ilA19KE7pPwKaQQApoOk/I591gyny6T9DpKkGKkTqP2Op3Ykqluo/g64RDSvo6j+js0WQKzrrP8O4eRMsjOs/472tlize6z8Dw+EZLTDsPyPIFZ0tguw/Q81JIC7U7D9j0n2jLibtP4PXsSYveO0/o9zlqS/K7T/D4RktMBzuP+PmTbAwbu4/A+yBMzHA7j8j8bW2MRLvP0P26TkyZO8/Y/sdvTK27z9CACmgGQTwP9ICw+EZLfA/YgVdIxpW8D/yB/dkGn/wP4IKkaYaqPA/Eg0r6BrR8D+iD8UpG/rwPzISX2sbI/E/whT5rBtM8T9SF5PuG3XxP+IZLTAcnvE/chzHcRzH8T8CH2GzHPDxP5Ih+/QcGfI/IiSVNh1C8j+yJi94HWvyP0IpybkdlPI/0itj+x298j9iLv08HubyP/Iwl34eD/M/gjMxwB448z8SNssBH2HzP6I4ZUMfivM/Mjv/hB+z8z/CPZnGH9zzP1JAMwggBfQ/4kLNSSAu9D9yRWeLIFf0PwJIAc0ggPQ/kkqbDiGp9D8iTTVQIdL0P7JPz5Eh+/Q/QlJp0yEk9T/SVAMVIk31P2JXnVYidvU/8lk3mCKf9T+CXNHZIsj1PxJfaxsj8fU/omEFXSMa9j8yZJ+eI0P2P8JmOeAjbPY/UmnTISSV9j/ia21jJL72P3JuB6Uk5/Y/AnGh5iQQ9z+SczsoJTn3PyJ21WklYvc/snhvqyWL9z9CewntJbT3P9J9oy4m3fc/YoA9cCYG+D/ygtexJi/4P4KFcfMmWPg/EogLNSeB+D+iiqV2J6r4PzKNP7gn0/g/wo/Z+Sf8+D9SknM7KCX5P+KUDX0oTvk/cpenvih3+T8CmkEAKaD5P5Oc20Epyfk/I591gyny+T+zoQ/FKRv6P0OkqQYqRPo/06ZDSCpt+j9jqd2JKpb6P/Ord8sqv/o/g64RDSvo+j8TsatOKxH7P6OzRZArOvs/M7bf0Stj+z/DuHkTLIz7P1O7E1Ustfs/472tlize+z9zwEfYLAf8PwPD4RktMPw/k8V7Wy1Z/D8jyBWdLYL8P7PKr94tq/w/Q81JIC7U/D/Tz+NhLv38P2PSfaMuJv0/89QX5S5P/T+D17EmL3j9PxPaS2gvof0/o9zlqS/K/T8z33/rL/P9P8PhGS0wHP4/U+SzbjBF/j/j5k2wMG7+P3Pp5/Ewl/4/A+yBMzHA/j+T7ht1Men+PyPxtbYxEv8/s/NP+DE7/z9D9uk5MmT/P9P4g3syjf8/Y/sdvTK2/z/z/bf+Mt//P0IAKaAZBABAigH2wJkYAEDSAsPhGS0AQBoEkAKaQQBAYgVdIxpWAECqBipEmmoAQPIH92QafwBAOgnEhZqTAECCCpGmGqgAQMoLXseavABAEg0r6BrRAEBaDvgIm+UAQKIPxSkb+gBA6hCSSpsOAUAyEl9rGyMBQHoTLIybNwFAwhT5rBtMAUAKFsbNm2ABQFIXk+4bdQFAmhhgD5yJAUDiGS0wHJ4BQCob+lCcsgFAchzHcRzHAUC6HZSSnNsBQAIfYbMc8AFASiAu1JwEAkCSIfv0HBkCQNoiyBWdLQJAIiSVNh1CAkBqJWJXnVYCQLImL3gdawJA+if8mJ1/AkBCKcm5HZQCQIoqltqdqAJA0itj+x29AkAaLTAcntECQGIu/Twe5gJAqi/KXZ76AkDyMJd+Hg8DQDoyZJ+eIwNAgjMxwB44A0DKNP7gnkwDQBI2ywEfYQNAWjeYIp91A0CiOGVDH4oDQOo5MmSfngNAMjv/hB+zA0B6PMyln8cDQMI9mcYf3ANACj9m55/wA0BSQDMIIAUEQJpBACmgGQRA4kLNSSAuBEAqRJpqoEIEQHJFZ4sgVwRAukY0rKBrBEACSAHNIIAEQEpJzu2glARAkkqbDiGpBEDaS2gvob0EQCJNNVAh0gRAak4CcaHmBECyT8+RIfsEQPpQnLKhDwVAQlJp0yEkBUCKUzb0oTgFQNJUAxUiTQVAGlbQNaJhBUBiV51WInYFQKpYaneiigVA8lk3mCKfBUA6WwS5orMFQIJc0dkiyAVAyl2e+qLcBUASX2sbI/EFQFpgODyjBQZAomEFXSMaBkDqYtJ9oy4GQDJkn54jQwZAemVsv6NXBkDCZjngI2wGQApoBgGkgAZAUmnTISSVBkCaaqBCpKkGQOJrbWMkvgZAKm06hKTSBkBybgelJOcGQLpv1MWk+wZAAnGh5iQQB0BKcm4HpSQHQJJzOyglOQdA2nQISaVNB0AidtVpJWIHQGp3ooqldgdAsnhvqyWLB0D6eTzMpZ8HQEJ7Ce0ltAdAinzWDabIB0DSfaMuJt0HQBp/cE+m8QdAYoA9cCYGCECqgQqRphoIQPKC17EmLwhAOoSk0qZDCECChXHzJlgIQMqGPhSnbAhAEogLNSeBCEBaidhVp5UIQKKKpXYnqghA6otyl6e+CEAyjT+4J9MIQHqODNmn5whAwo/Z+Sf8CEAKkaYaqBAJQFKSczsoJQlAmpNAXKg5CUDilA19KE4JQCqW2p2oYglAcpenvih3CUC6mHTfqIsJQAKaQQApoAlAS5sOIam0CUCTnNtBKckJQNudqGKp3QlAI591gynyCUBroEKkqQYKQLOhD8UpGwpA+6Lc5akvCkBDpKkGKkQKQIuldieqWApA06ZDSCptCkAbqBBpqoEKQGOp3YkqlgpAq6qqqqqqCkDzq3fLKr8KQDutROyq0wpAg64RDSvoCkDLr94tq/wKQBOxq04rEQtAW7J4b6slC0Cjs0WQKzoLQOu0ErGrTgtAM7bf0StjC0B7t6zyq3cLQMO4eRMsjAtAC7pGNKygC0BTuxNVLLULQJu84HWsyQtA472tlizeC0Arv3q3rPILQHPAR9gsBwxAu8EU+awbDEADw+EZLTAMQEvErjqtRAxAk8V7Wy1ZDEDbxkh8rW0MQCPIFZ0tggxAa8niva2WDECzyq/eLasMQPvLfP+tvwxAQ81JIC7UDECLzhZBrugMQNPP42Eu/QxAG9Gwgq4RDUBj0n2jLiYNQKvTSsSuOg1A89QX5S5PDUA71uQFr2MNQIPXsSYveA1Ay9h+R6+MDUAT2ktoL6ENQFvbGImvtQ1Ao9zlqS/KDUDr3bLKr94NQDPff+sv8w1Ae+BMDLAHDkDD4RktMBwOQAvj5k2wMA5AU+SzbjBFDkCb5YCPsFkOQOPmTbAwbg5AK+ga0bCCDkBz6efxMJcOQLvqtBKxqw5AA+yBMzHADkBL7U5UsdQOQJPuG3Ux6Q5A2+/olbH9DkAj8bW2MRIPQGvygtexJg9As/NP+DE7D0D79BwZsk8PQEP26TkyZA9Ai/e2WrJ4D0DT+IN7Mo0PQBv6UJyyoQ9AY/sdvTK2D0Cr/OrdssoPQPP9t/4y3w9AO/+EH7PzD0BCACmgGQQQQOaAj7BZDhBAigH2wJkYEEAuglzR2SIQQNICw+EZLRBAdoMp8lk3EEAaBJACmkEQQL6E9hLaSxBAYgVdIxpWEEAGhsMzWmAQQKoGKkSaahBAToeQVNp0EEDyB/dkGn8QQJaIXXVaiRBAOgnEhZqTEEDeiSqW2p0QQIIKkaYaqBBAJov3tlqyEEDKC17HmrwQQG6MxNfaxhBAEg0r6BrREEC2jZH4WtsQQFoO+Aib5RBA/o5eGdvvEECiD8UpG/oQQEaQKzpbBBFA6hCSSpsOEUCOkfha2xgRQDISX2sbIxFA1pLFe1stEUB6EyyMmzcRQB6UkpzbQRFAwhT5rBtMEUBmlV+9W1YRQAoWxs2bYBFArpYs3ttqEUBSF5PuG3URQPaX+f5bfxFAmhhgD5yJEUA+mcYf3JMRQOIZLTAcnhFAhpqTQFyoEUAqG/pQnLIRQM6bYGHcvBFAchzHcRzHEUAWnS2CXNERQLodlJKc2xFAXp76otzlEUACH2GzHPARQKafx8Nc+hFASiAu1JwEEkDuoJTk3A4SQJIh+/QcGRJANqJhBV0jEkDaIsgVnS0SQH6jLibdNxJAIiSVNh1CEkDGpPtGXUwSQGolYledVhJADqbIZ91gEkCyJi94HWsSQFanlYhddRJA+if8mJ1/EkCeqGKp3YkSQEIpybkdlBJA5qkvyl2eEkCKKpbanagSQC6r/OrdshJA0itj+x29EkB2rMkLXscSQBotMBye0RJAvq2WLN7bEkBiLv08HuYSQAavY01e8BJAqi/KXZ76EkBOsDBu3gQTQPIwl34eDxNAlrH9jl4ZE0A6MmSfniMTQN6yyq/eLRNAgjMxwB44E0AmtJfQXkITQMo0/uCeTBNAbrVk8d5WE0ASNssBH2ETQLa2MRJfaxNAWjeYIp91E0D+t/4y338TQKI4ZUMfihNARrnLU1+UE0DqOTJkn54TQI66mHTfqBNAMjv/hB+zE0DWu2WVX70TQHo8zKWfxxNAHr0ytt/RE0DCPZnGH9wTQGa+/9Zf5hNACj9m55/wE0Cuv8z33/oTQFJAMwggBRRA9sCZGGAPFECaQQApoBkUQD7CZjngIxRA4kLNSSAuFECGwzNaYDgUQCpEmmqgQhRAzsQAe+BMFEByRWeLIFcUQBbGzZtgYRRAukY0rKBrFEBex5q84HUUQAJIAc0ggBRApshn3WCKFEBKSc7toJQUQO7JNP7gnhRAkkqbDiGpFEA2ywEfYbMUQNpLaC+hvRRAfszOP+HHFEAiTTVQIdIUQMbNm2Bh3BRAak4CcaHmFEAOz2iB4fAUQLJPz5Eh+xRAVtA1omEFFUD6UJyyoQ8VQJ7RAsPhGRVAQlJp0yEkFUDm0s/jYS4VQIpTNvShOBVALtScBOJCFUDSVAMVIk0VQHbVaSViVxVAGlbQNaJhFUC+1jZG4msVQGJXnVYidhVABtgDZ2KAFUCqWGp3oooVQE7Z0IfilBVA8lk3mCKfFUCW2p2oYqkVQDpbBLmisxVA3ttqyeK9FUCCXNHZIsgVQCbdN+pi0hVAyl2e+qLcFUBu3gQL4+YVQBJfaxsj8RVAtt/RK2P7FUBaYDg8owUWQP7gnkzjDxZAomEFXSMaFkBG4mttYyQWQOpi0n2jLhZAjuM4juM4FkAyZJ+eI0MWQNbkBa9jTRZAemVsv6NXFkAe5tLP42EWQMJmOeAjbBZAZuef8GN2FkAKaAYBpIAWQK7obBHkihZAUmnTISSVFkD26TkyZJ8WQJpqoEKkqRZAPusGU+SzFkDia21jJL4WQIbs03NkyBZAKm06hKTSFkDO7aCU5NwWQHJuB6Uk5xZAFu9ttWTxFkC6b9TFpPsWQF7wOtbkBRdAAnGh5iQQF0Cm8Qf3ZBoXQEpybgelJBdA7vLUF+UuF0CSczsoJTkXQDb0oThlQxdA2nQISaVNF0B+9W5Z5VcXQCJ21WklYhdAxvY7emVsF0Bqd6KKpXYXQA74CJvlgBdAsnhvqyWLF0BW+dW7ZZUXQPp5PMylnxdAnvqi3OWpF0BCewntJbQXQOb7b/1lvhdAinzWDabIF0Au/Twe5tIXQNJ9oy4m3RdAdv4JP2bnF0Aaf3BPpvEXQL7/1l/m+xdAYoA9cCYGGEAGAaSAZhAYQKqBCpGmGhhATgJxoeYkGEDygtexJi8YQJYDPsJmORhAOoSk0qZDGEDeBAvj5k0YQIKFcfMmWBhAJgbYA2diGEDKhj4Up2wYQG4HpSTndhhAEogLNSeBGEC2CHJFZ4sYQFqJ2FWnlRhA/gk/ZuefGECiiqV2J6oYQEYLDIdntBhA6otyl6e+GECODNmn58gYQDKNP7gn0xhA1g2myGfdGEB6jgzZp+cYQB4Pc+nn8RhAwo/Z+Sf8GEBmEEAKaAYZQAqRphqoEBlArhENK+gaGUBSknM7KCUZQPYS2ktoLxlAmpNAXKg5GUA+FKds6EMZQOKUDX0oThlAhhV0jWhYGUAqltqdqGIZQM4WQa7obBlAcpenvih3GUAWGA7PaIEZQLqYdN+oixlAXhnb7+iVGUACmkEAKaAZQKcaqBBpqhlAS5sOIam0GUDvG3Ux6b4ZQJOc20EpyRlANx1CUmnTGUDbnahiqd0ZQH8eD3Pp5xlAI591gynyGUDHH9yTafwZQGugQqSpBhpADyGptOkQGkCzoQ/FKRsaQFcidtVpJRpA+6Lc5akvGkCfI0P26TkaQEOkqQYqRBpA5yQQF2pOGkCLpXYnqlgaQC8m3TfqYhpA06ZDSCptGkB3J6pYancaQBuoEGmqgRpAvyh3eeqLGkBjqd2JKpYaQAcqRJpqoBpAq6qqqqqqGkBPKxG76rQaQPOrd8sqvxpAlyze22rJGkA7rUTsqtMaQN8tq/zq3RpAg64RDSvoGkAnL3gda/IaQMuv3i2r/BpAbzBFPusGG0ATsatOKxEbQLcxEl9rGxtAW7J4b6slG0D/Mt9/6y8bQKOzRZArOhtARzSsoGtEG0DrtBKxq04bQI81ecHrWBtAM7bf0StjG0DXNkbia20bQHu3rPKrdxtAHzgTA+yBG0DDuHkTLIwbQGc54CNslhtAC7pGNKygG0CvOq1E7KobQFO7E1UstRtA9zt6ZWy/G0CbvOB1rMkbQD89R4bs0xtA472tlizeG0CHPhSnbOgbQCu/eres8htAzz/hx+z8G0BzwEfYLAccQBdBruhsERxAu8EU+awbHEBfQnsJ7SUcQAPD4RktMBxAp0NIKm06HEBLxK46rUQcQO9EFUvtThxAk8V7Wy1ZHEA3RuJrbWMcQNvGSHytbRxAf0evjO13HEAjyBWdLYIcQMdIfK1tjBxAa8niva2WHEAPSknO7aAcQLPKr94tqxxAV0sW7221HED7y3z/rb8cQJ9M4w/uyRxAQ81JIC7UHEDnTbAwbt4cQIvOFkGu6BxAL099Ue7yHEDTz+NhLv0cQHdQSnJuBx1AG9Gwgq4RHUC/UReT7hsdQGPSfaMuJh1AB1Pks24wHUCr00rErjodQE9UsdTuRB1A89QX5S5PHUCXVX71blkdQDvW5AWvYx1A31ZLFu9tHUCD17EmL3gdQCdYGDdvgh1Ay9h+R6+MHUBvWeVX75YdQBPaS2gvoR1At1qyeG+rHUBb2xiJr7UdQP9bf5nvvx1Ao9zlqS/KHUBHXUy6b9QdQOvdssqv3h1Aj14Z2+/oHUAz33/rL/MdQNdf5vtv/R1Ae+BMDLAHHkAfYbMc8BEeQMPhGS0wHB5AZ2KAPXAmHkAL4+ZNsDAeQK9jTV7wOh5AU+SzbjBFHkD3ZBp/cE8eQJvlgI+wWR5AP2bnn/BjHkDj5k2wMG4eQIdntMBweB5AK+ga0bCCHkDPaIHh8IweQHPp5/Ewlx5AF2pOAnGhHkC76rQSsaseQF9rGyPxtR5AA+yBMzHAHkCnbOhDccoeQEvtTlSx1B5A7221ZPHeHkCT7ht1MekeQDdvgoVx8x5A2+/olbH9HkB/cE+m8QcfQCPxtbYxEh9Ax3Ecx3EcH0Br8oLXsSYfQA9z6efxMB9As/NP+DE7H0BXdLYIckUfQPv0HBmyTx9An3WDKfJZH0BD9uk5MmQfQOd2UEpybh9Ai/e2WrJ4H0AveB1r8oIfQNP4g3syjR9Ad3nqi3KXH0Ab+lCcsqEfQL96t6zyqx9AY/sdvTK2H0AHfITNcsAfQKv86t2yyh9AT31R7vLUH0Dz/bf+Mt8fQJd+Hg9z6R9AO/+EH7PzH0Dff+sv8/0fQEIAKaAZBCBAlEBcqDkJIEDmgI+wWQ4gQDjBwrh5EyBAigH2wJkYIEDcQSnJuR0gQC6CXNHZIiBAgMKP2fknIEDSAsPhGS0gQCRD9uk5MiBAdoMp8lk3IEDIw1z6eTwgQBoEkAKaQSBAbETDCrpGIEC+hPYS2ksgQBDFKRv6UCBAYgVdIxpWIEC0RZArOlsgQAaGwzNaYCBAWMb2O3plIECqBipEmmogQPxGXUy6byBAToeQVNp0IECgx8Nc+nkgQPIH92QafyBAREgqbTqEIECWiF11WokgQOjIkH16jiBAOgnEhZqTIECMSfeNupggQN6JKpbanSBAMMpdnvqiIECCCpGmGqggQNRKxK46rSBAJov3tlqyIEB4yyq/ercgQMoLXseavCBAHEyRz7rBIEBujMTX2sYgQMDM99/6yyBAEg0r6BrRIEBkTV7wOtYgQLaNkfha2yBACM7EAHvgIEBaDvgIm+UgQKxOKxG76iBA/o5eGdvvIEBQz5Eh+/QgQKIPxSkb+iBA9E/4MTv/IEBGkCs6WwQhQJjQXkJ7CSFA6hCSSpsOIUA8UcVSuxMhQI6R+FrbGCFA4NErY/sdIUAyEl9rGyMhQIRSknM7KCFA1pLFe1stIUAo0/iDezIhQHoTLIybNyFAzFNflLs8IUAelJKc20EhQHDUxaT7RiFAwhT5rBtMIUAUVSy1O1EhQGaVX71bViFAuNWSxXtbIUAKFsbNm2AhQFxW+dW7ZSFArpYs3ttqIUAA11/m+28hQFIXk+4bdSFApFfG9jt6IUD2l/n+W38hQEjYLAd8hCFAmhhgD5yJIUDsWJMXvI4hQD6Zxh/ckyFAkNn5J/yYIUDiGS0wHJ4hQDRaYDg8oyFAhpqTQFyoIUDY2sZIfK0hQCob+lCcsiFAfFstWby3IUDOm2Bh3LwhQCDck2n8wSFAchzHcRzHIUDEXPp5PMwhQBadLYJc0SFAaN1ginzWIUC6HZSSnNshQAxex5q84CFAXp76otzlIUCw3i2r/OohQAIfYbMc8CFAVF+Uuzz1IUCmn8fDXPohQPjf+st8/yFASiAu1JwEIkCcYGHcvAkiQO6glOTcDiJAQOHH7PwTIkCSIfv0HBkiQORhLv08HiJANqJhBV0jIkCI4pQNfSgiQNoiyBWdLSJALGP7Hb0yIkB+oy4m3TciQNDjYS79PCJAIiSVNh1CIkB0ZMg+PUciQMak+0ZdTCJAGOUuT31RIkBqJWJXnVYiQLxllV+9WyJADqbIZ91gIkBg5vtv/WUiQLImL3gdayJABGdigD1wIkBWp5WIXXUiQKjnyJB9eiJA+if8mJ1/IkBMaC+hvYQiQJ6oYqndiSJA8OiVsf2OIkBCKcm5HZQiQJRp/ME9mSJA5qkvyl2eIkA46mLSfaMiQIoqltqdqCJA3GrJ4r2tIkAuq/zq3bIiQIDrL/P9tyJA0itj+x29IkAkbJYDPsIiQHasyQtexyJAyOz8E37MIkAaLTAcntEiQGxtYyS+1iJAvq2WLN7bIkAQ7sk0/uAiQGIu/Twe5iJAtG4wRT7rIkAGr2NNXvAiQFjvllV+9SJAqi/KXZ76IkD8b/1lvv8iQE6wMG7eBCNAoPBjdv4JI0DyMJd+Hg8jQERxyoY+FCNAlrH9jl4ZI0Do8TCXfh4jQDoyZJ+eIyNAjHKXp74oI0Dessqv3i0jQDDz/bf+MiNAgjMxwB44I0DUc2TIPj0jQCa0l9BeQiNAePTK2H5HI0DKNP7gnkwjQBx1Mem+USNAbrVk8d5WI0DA9Zf5/lsjQBI2ywEfYSNAZHb+CT9mI0C2tjESX2sjQAj3ZBp/cCNAWjeYIp91I0Csd8sqv3ojQP63/jLffyNAUPgxO/+EI0CiOGVDH4ojQPR4mEs/jyNARrnLU1+UI0CY+f5bf5kjQOo5MmSfniNAPHplbL+jI0COuph036gjQOD6y3z/rSNAMjv/hB+zI0CEezKNP7gjQNa7ZZVfvSNAKPyYnX/CI0B6PMyln8cjQMx8/62/zCNAHr0ytt/RI0Bw/WW+/9YjQMI9mcYf3CNAFH7Mzj/hI0Bmvv/WX+YjQLj+Mt9/6yNACj9m55/wI0Bcf5nvv/UjQK6/zPff+iNAAAAAAAAAJEA=",
          "dtype": "f8"
         },
         "y": {
          "bdata": "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",
          "dtype": "f8"
         }
        },
        {
         "line": {
          "dash": "dash"
         },
         "mode": "lines",
         "name": "Fitted Curve",
         "type": "scatter",
         "x": {
          "bdata": "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",
          "dtype": "f8"
         },
         "y": {
          "bdata": "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",
          "dtype": "f8"
         }
        }
       ],
       "layout": {
        "template": {
         "data": {
          "bar": [
           {
            "error_x": {
             "color": "#2a3f5f"
            },
            "error_y": {
             "color": "#2a3f5f"
            },
            "marker": {
             "line": {
              "color": "#E5ECF6",
              "width": 0.5
             },
             "pattern": {
              "fillmode": "overlay",
              "size": 10,
              "solidity": 0.2
             }
            },
            "type": "bar"
           }
          ],
          "barpolar": [
           {
            "marker": {
             "line": {
              "color": "#E5ECF6",
              "width": 0.5
             },
             "pattern": {
              "fillmode": "overlay",
              "size": 10,
              "solidity": 0.2
             }
            },
            "type": "barpolar"
           }
          ],
          "carpet": [
           {
            "aaxis": {
             "endlinecolor": "#2a3f5f",
             "gridcolor": "white",
             "linecolor": "white",
             "minorgridcolor": "white",
             "startlinecolor": "#2a3f5f"
            },
            "baxis": {
             "endlinecolor": "#2a3f5f",
             "gridcolor": "white",
             "linecolor": "white",
             "minorgridcolor": "white",
             "startlinecolor": "#2a3f5f"
            },
            "type": "carpet"
           }
          ],
          "choropleth": [
           {
            "colorbar": {
             "outlinewidth": 0,
             "ticks": ""
            },
            "type": "choropleth"
           }
          ],
          "contour": [
           {
            "colorbar": {
             "outlinewidth": 0,
             "ticks": ""
            },
            "colorscale": [
             [
              0,
              "#0d0887"
             ],
             [
              0.1111111111111111,
              "#46039f"
             ],
             [
              0.2222222222222222,
              "#7201a8"
             ],
             [
              0.3333333333333333,
              "#9c179e"
             ],
             [
              0.4444444444444444,
              "#bd3786"
             ],
             [
              0.5555555555555556,
              "#d8576b"
             ],
             [
              0.6666666666666666,
              "#ed7953"
             ],
             [
              0.7777777777777778,
              "#fb9f3a"
             ],
             [
              0.8888888888888888,
              "#fdca26"
             ],
             [
              1,
              "#f0f921"
             ]
            ],
            "type": "contour"
           }
          ],
          "contourcarpet": [
           {
            "colorbar": {
             "outlinewidth": 0,
             "ticks": ""
            },
            "type": "contourcarpet"
           }
          ],
          "heatmap": [
           {
            "colorbar": {
             "outlinewidth": 0,
             "ticks": ""
            },
            "colorscale": [
             [
              0,
              "#0d0887"
             ],
             [
              0.1111111111111111,
              "#46039f"
             ],
             [
              0.2222222222222222,
              "#7201a8"
             ],
             [
              0.3333333333333333,
              "#9c179e"
             ],
             [
              0.4444444444444444,
              "#bd3786"
             ],
             [
              0.5555555555555556,
              "#d8576b"
             ],
             [
              0.6666666666666666,
              "#ed7953"
             ],
             [
              0.7777777777777778,
              "#fb9f3a"
             ],
             [
              0.8888888888888888,
              "#fdca26"
             ],
             [
              1,
              "#f0f921"
             ]
            ],
            "type": "heatmap"
           }
          ],
          "histogram": [
           {
            "marker": {
             "pattern": {
              "fillmode": "overlay",
              "size": 10,
              "solidity": 0.2
             }
            },
            "type": "histogram"
           }
          ],
          "histogram2d": [
           {
            "colorbar": {
             "outlinewidth": 0,
             "ticks": ""
            },
            "colorscale": [
             [
              0,
              "#0d0887"
             ],
             [
              0.1111111111111111,
              "#46039f"
             ],
             [
              0.2222222222222222,
              "#7201a8"
             ],
             [
              0.3333333333333333,
              "#9c179e"
             ],
             [
              0.4444444444444444,
              "#bd3786"
             ],
             [
              0.5555555555555556,
              "#d8576b"
             ],
             [
              0.6666666666666666,
              "#ed7953"
             ],
             [
              0.7777777777777778,
              "#fb9f3a"
             ],
             [
              0.8888888888888888,
              "#fdca26"
             ],
             [
              1,
              "#f0f921"
             ]
            ],
            "type": "histogram2d"
           }
          ],
          "histogram2dcontour": [
           {
            "colorbar": {
             "outlinewidth": 0,
             "ticks": ""
            },
            "colorscale": [
             [
              0,
              "#0d0887"
             ],
             [
              0.1111111111111111,
              "#46039f"
             ],
             [
              0.2222222222222222,
              "#7201a8"
             ],
             [
              0.3333333333333333,
              "#9c179e"
             ],
             [
              0.4444444444444444,
              "#bd3786"
             ],
             [
              0.5555555555555556,
              "#d8576b"
             ],
             [
              0.6666666666666666,
              "#ed7953"
             ],
             [
              0.7777777777777778,
              "#fb9f3a"
             ],
             [
              0.8888888888888888,
              "#fdca26"
             ],
             [
              1,
              "#f0f921"
             ]
            ],
            "type": "histogram2dcontour"
           }
          ],
          "mesh3d": [
           {
            "colorbar": {
             "outlinewidth": 0,
             "ticks": ""
            },
            "type": "mesh3d"
           }
          ],
          "parcoords": [
           {
            "line": {
             "colorbar": {
              "outlinewidth": 0,
              "ticks": ""
             }
            },
            "type": "parcoords"
           }
          ],
          "pie": [
           {
            "automargin": true,
            "type": "pie"
           }
          ],
          "scatter": [
           {
            "fillpattern": {
             "fillmode": "overlay",
             "size": 10,
             "solidity": 0.2
            },
            "type": "scatter"
           }
          ],
          "scatter3d": [
           {
            "line": {
             "colorbar": {
              "outlinewidth": 0,
              "ticks": ""
             }
            },
            "marker": {
             "colorbar": {
              "outlinewidth": 0,
              "ticks": ""
             }
            },
            "type": "scatter3d"
           }
          ],
          "scattercarpet": [
           {
            "marker": {
             "colorbar": {
              "outlinewidth": 0,
              "ticks": ""
             }
            },
            "type": "scattercarpet"
           }
          ],
          "scattergeo": [
           {
            "marker": {
             "colorbar": {
              "outlinewidth": 0,
              "ticks": ""
             }
            },
            "type": "scattergeo"
           }
          ],
          "scattergl": [
           {
            "marker": {
             "colorbar": {
              "outlinewidth": 0,
              "ticks": ""
             }
            },
            "type": "scattergl"
           }
          ],
          "scattermap": [
           {
            "marker": {
             "colorbar": {
              "outlinewidth": 0,
              "ticks": ""
             }
            },
            "type": "scattermap"
           }
          ],
          "scattermapbox": [
           {
            "marker": {
             "colorbar": {
              "outlinewidth": 0,
              "ticks": ""
             }
            },
            "type": "scattermapbox"
           }
          ],
          "scatterpolar": [
           {
            "marker": {
             "colorbar": {
              "outlinewidth": 0,
              "ticks": ""
             }
            },
            "type": "scatterpolar"
           }
          ],
          "scatterpolargl": [
           {
            "marker": {
             "colorbar": {
              "outlinewidth": 0,
              "ticks": ""
             }
            },
            "type": "scatterpolargl"
           }
          ],
          "scatterternary": [
           {
            "marker": {
             "colorbar": {
              "outlinewidth": 0,
              "ticks": ""
             }
            },
            "type": "scatterternary"
           }
          ],
          "surface": [
           {
            "colorbar": {
             "outlinewidth": 0,
             "ticks": ""
            },
            "colorscale": [
             [
              0,
              "#0d0887"
             ],
             [
              0.1111111111111111,
              "#46039f"
             ],
             [
              0.2222222222222222,
              "#7201a8"
             ],
             [
              0.3333333333333333,
              "#9c179e"
             ],
             [
              0.4444444444444444,
              "#bd3786"
             ],
             [
              0.5555555555555556,
              "#d8576b"
             ],
             [
              0.6666666666666666,
              "#ed7953"
             ],
             [
              0.7777777777777778,
              "#fb9f3a"
             ],
             [
              0.8888888888888888,
              "#fdca26"
             ],
             [
              1,
              "#f0f921"
             ]
            ],
            "type": "surface"
           }
          ],
          "table": [
           {
            "cells": {
             "fill": {
              "color": "#EBF0F8"
             },
             "line": {
              "color": "white"
             }
            },
            "header": {
             "fill": {
              "color": "#C8D4E3"
             },
             "line": {
              "color": "white"
             }
            },
            "type": "table"
           }
          ]
         },
         "layout": {
          "annotationdefaults": {
           "arrowcolor": "#2a3f5f",
           "arrowhead": 0,
           "arrowwidth": 1
          },
          "autotypenumbers": "strict",
          "coloraxis": {
           "colorbar": {
            "outlinewidth": 0,
            "ticks": ""
           }
          },
          "colorscale": {
           "diverging": [
            [
             0,
             "#8e0152"
            ],
            [
             0.1,
             "#c51b7d"
            ],
            [
             0.2,
             "#de77ae"
            ],
            [
             0.3,
             "#f1b6da"
            ],
            [
             0.4,
             "#fde0ef"
            ],
            [
             0.5,
             "#f7f7f7"
            ],
            [
             0.6,
             "#e6f5d0"
            ],
            [
             0.7,
             "#b8e186"
            ],
            [
             0.8,
             "#7fbc41"
            ],
            [
             0.9,
             "#4d9221"
            ],
            [
             1,
             "#276419"
            ]
           ],
           "sequential": [
            [
             0,
             "#0d0887"
            ],
            [
             0.1111111111111111,
             "#46039f"
            ],
            [
             0.2222222222222222,
             "#7201a8"
            ],
            [
             0.3333333333333333,
             "#9c179e"
            ],
            [
             0.4444444444444444,
             "#bd3786"
            ],
            [
             0.5555555555555556,
             "#d8576b"
            ],
            [
             0.6666666666666666,
             "#ed7953"
            ],
            [
             0.7777777777777778,
             "#fb9f3a"
            ],
            [
             0.8888888888888888,
             "#fdca26"
            ],
            [
             1,
             "#f0f921"
            ]
           ],
           "sequentialminus": [
            [
             0,
             "#0d0887"
            ],
            [
             0.1111111111111111,
             "#46039f"
            ],
            [
             0.2222222222222222,
             "#7201a8"
            ],
            [
             0.3333333333333333,
             "#9c179e"
            ],
            [
             0.4444444444444444,
             "#bd3786"
            ],
            [
             0.5555555555555556,
             "#d8576b"
            ],
            [
             0.6666666666666666,
             "#ed7953"
            ],
            [
             0.7777777777777778,
             "#fb9f3a"
            ],
            [
             0.8888888888888888,
             "#fdca26"
            ],
            [
             1,
             "#f0f921"
            ]
           ]
          },
          "colorway": [
           "#636efa",
           "#EF553B",
           "#00cc96",
           "#ab63fa",
           "#FFA15A",
           "#19d3f3",
           "#FF6692",
           "#B6E880",
           "#FF97FF",
           "#FECB52"
          ],
          "font": {
           "color": "#2a3f5f"
          },
          "geo": {
           "bgcolor": "white",
           "lakecolor": "white",
           "landcolor": "#E5ECF6",
           "showlakes": true,
           "showland": true,
           "subunitcolor": "white"
          },
          "hoverlabel": {
           "align": "left"
          },
          "hovermode": "closest",
          "mapbox": {
           "style": "light"
          },
          "paper_bgcolor": "white",
          "plot_bgcolor": "#E5ECF6",
          "polar": {
           "angularaxis": {
            "gridcolor": "white",
            "linecolor": "white",
            "ticks": ""
           },
           "bgcolor": "#E5ECF6",
           "radialaxis": {
            "gridcolor": "white",
            "linecolor": "white",
            "ticks": ""
           }
          },
          "scene": {
           "xaxis": {
            "backgroundcolor": "#E5ECF6",
            "gridcolor": "white",
            "gridwidth": 2,
            "linecolor": "white",
            "showbackground": true,
            "ticks": "",
            "zerolinecolor": "white"
           },
           "yaxis": {
            "backgroundcolor": "#E5ECF6",
            "gridcolor": "white",
            "gridwidth": 2,
            "linecolor": "white",
            "showbackground": true,
            "ticks": "",
            "zerolinecolor": "white"
           },
           "zaxis": {
            "backgroundcolor": "#E5ECF6",
            "gridcolor": "white",
            "gridwidth": 2,
            "linecolor": "white",
            "showbackground": true,
            "ticks": "",
            "zerolinecolor": "white"
           }
          },
          "shapedefaults": {
           "line": {
            "color": "#2a3f5f"
           }
          },
          "ternary": {
           "aaxis": {
            "gridcolor": "white",
            "linecolor": "white",
            "ticks": ""
           },
           "baxis": {
            "gridcolor": "white",
            "linecolor": "white",
            "ticks": ""
           },
           "bgcolor": "#E5ECF6",
           "caxis": {
            "gridcolor": "white",
            "linecolor": "white",
            "ticks": ""
           }
          },
          "title": {
           "x": 0.05
          },
          "xaxis": {
           "automargin": true,
           "gridcolor": "white",
           "linecolor": "white",
           "ticks": "",
           "title": {
            "standoff": 15
           },
           "zerolinecolor": "white",
           "zerolinewidth": 2
          },
          "yaxis": {
           "automargin": true,
           "gridcolor": "white",
           "linecolor": "white",
           "ticks": "",
           "title": {
            "standoff": 15
           },
           "zerolinecolor": "white",
           "zerolinewidth": 2
          }
         }
        },
        "title": {
         "text": "Fitted Params: {'frequency': np.float64(0.999884226827441), 'damping_rate': np.float64(0.10007028393190001), 'phase': np.float64(-0.0020240342440919056)}"
        },
        "width": 900,
        "xaxis": {
         "title": {
          "text": "time (s)"
         }
        },
        "yaxis": {
         "title": {
          "text": "Signal Amplitude (arb. u.)"
         }
        }
       }
      }
     },
     "metadata": {},
     "output_type": "display_data"
    }
   ],
   "source": [
    "import numpy as np\n",
    "import numpy.typing as npt\n",
    "import plotly.graph_objects as go\n",
    "from scipy.optimize import curve_fit\n",
    "from math_functions import damp_sine_wave\n",
    "\n",
    "# 1. Generate clean data\n",
    "x_samp: npt.NDArray[np.float64] = np.linspace(0, 10, 1000)\n",
    "true_params = dict(frequency=1.0, damping_rate=0.1, phase=0.0)\n",
    "y_clean: npt.NDArray[np.float64] = damp_sine_wave(x_samp, **true_params)\n",
    "\n",
    "# 2. Add noise\n",
    "rng = np.random.default_rng(seed=42)\n",
    "noise: npt.NDArray[np.float64] = rng.normal(scale=0.05, size=x_samp.shape)\n",
    "y_noisy = y_clean + noise\n",
    "\n",
    "\n",
    "# 3. Define a wrapper for curve_fit\n",
    "def wrapper(\n",
    "    x: npt.NDArray[np.float64], frequency: float, damping_rate: float, phase: float\n",
    ") -> npt.NDArray[np.float64]:\n",
    "    return damp_sine_wave(\n",
    "        x, frequency=frequency, damping_rate=damping_rate, phase=phase\n",
    "    )\n",
    "\n",
    "\n",
    "# 4. Fit data with perturbed initial guess\n",
    "initial_guess = [0.8, 0.6, 0.2]  # intentionally inaccurate\n",
    "popt, pcov = curve_fit(wrapper, x_samp, y_noisy, p0=initial_guess)\n",
    "fitted_params = dict(zip([\"frequency\", \"damping_rate\", \"phase\"], popt))\n",
    "\n",
    "# 5. Visualize\n",
    "fig = go.Figure().update_layout(width=900)\n",
    "\n",
    "fig.add_trace(go.Scatter(name=\"True Function\", mode=\"lines\", x=x_samp, y=y_clean))\n",
    "fig.add_trace(\n",
    "    go.Scatter(name=\"Noisy Data\", mode=\"lines\", x=x_samp, y=y_noisy, line=dict(width=1))\n",
    ")\n",
    "fig.add_trace(\n",
    "    go.Scatter(\n",
    "        name=\"Fitted Curve\",\n",
    "        mode=\"lines\",\n",
    "        x=x_samp,\n",
    "        y=wrapper(x_samp, *popt),\n",
    "        line=dict(dash=\"dash\"),\n",
    "    )\n",
    ")\n",
    "\n",
    "fig.update_layout(\n",
    "    xaxis_title=\"time (s)\",\n",
    "    yaxis_title=\"Signal Amplitude (arb. u.)\",\n",
    "    title=f\"Fitted Params: {fitted_params}\",\n",
    ")\n",
    "fig.show()"
   ]
  },
  {
   "cell_type": "code",
   "execution_count": 4,
   "id": "979d3c06",
   "metadata": {},
   "outputs": [
    {
     "name": "stdout",
     "output_type": "stream",
     "text": [
      "[9.46645619 0.34364176 0.06269742 4.93393202]\n"
     ]
    },
    {
     "data": {
      "application/vnd.plotly.v1+json": {
       "config": {
        "plotlyServerURL": "https://plot.ly"
       },
       "data": [
        {
         "mode": "lines",
         "name": "True Function",
         "type": "scatter",
         "x": {
          "bdata": "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",
          "dtype": "f8"
         },
         "y": {
          "bdata": "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",
          "dtype": "f8"
         }
        },
        {
         "line": {
          "width": 1
         },
         "mode": "markers",
         "name": "Noisy Data",
         "type": "scatter",
         "x": {
          "bdata": "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",
          "dtype": "f8"
         },
         "y": {
          "bdata": "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",
          "dtype": "f8"
         }
        },
        {
         "line": {
          "dash": "dash"
         },
         "mode": "lines",
         "name": "Fitted Curve",
         "type": "scatter",
         "x": {
          "bdata": "AAAAAAAAAAACSAHNIICEPwJIAc0ggJQ/A+yBMzHAnj8CSAHNIICkPwKaQQApoKk/A+yBMzHArj8CH2GzHPCxPwJIAc0ggLQ/AnGh5iQQtz8CmkEAKaC5PwPD4RktMLw/A+yBMzHAvj+CCpGmGqjAPwIfYbMc8ME/gjMxwB44wz8CSAHNIIDEP4Jc0dkiyMU/AnGh5iQQxz+ChXHzJljIPwKaQQApoMk/g64RDSvoyj8Dw+EZLTDMP4PXsSYveM0/A+yBMzHAzj9CACmgGQTQP4IKkaYaqNA/whT5rBtM0T8CH2GzHPDRP0IpybkdlNI/gjMxwB440z/CPZnGH9zTPwJIAc0ggNQ/QlJp0yEk1T+CXNHZIsjVP8JmOeAjbNY/AnGh5iQQ1z9CewntJbTXP4KFcfMmWNg/wo/Z+Sf82D8CmkEAKaDZP0OkqQYqRNo/g64RDSvo2j/DuHkTLIzbPwPD4RktMNw/Q81JIC7U3D+D17EmL3jdP8PhGS0wHN4/A+yBMzHA3j9D9uk5MmTfP0IAKaAZBOA/YgVdIxpW4D+CCpGmGqjgP6IPxSkb+uA/whT5rBtM4T/iGS0wHJ7hPwIfYbMc8OE/IiSVNh1C4j9CKcm5HZTiP2Iu/Twe5uI/gjMxwB444z+iOGVDH4rjP8I9mcYf3OM/4kLNSSAu5D8CSAHNIIDkPyJNNVAh0uQ/QlJp0yEk5T9iV51WInblP4Jc0dkiyOU/omEFXSMa5j/CZjngI2zmP+JrbWMkvuY/AnGh5iQQ5z8idtVpJWLnP0J7Ce0ltOc/YoA9cCYG6D+ChXHzJljoP6KKpXYnqug/wo/Z+Sf86D/ilA19KE7pPwKaQQApoOk/I591gyny6T9DpKkGKkTqP2Op3Ykqluo/g64RDSvo6j+js0WQKzrrP8O4eRMsjOs/472tlize6z8Dw+EZLTDsPyPIFZ0tguw/Q81JIC7U7D9j0n2jLibtP4PXsSYveO0/o9zlqS/K7T/D4RktMBzuP+PmTbAwbu4/A+yBMzHA7j8j8bW2MRLvP0P26TkyZO8/Y/sdvTK27z9CACmgGQTwP9ICw+EZLfA/YgVdIxpW8D/yB/dkGn/wP4IKkaYaqPA/Eg0r6BrR8D+iD8UpG/rwPzISX2sbI/E/whT5rBtM8T9SF5PuG3XxP+IZLTAcnvE/chzHcRzH8T8CH2GzHPDxP5Ih+/QcGfI/IiSVNh1C8j+yJi94HWvyP0IpybkdlPI/0itj+x298j9iLv08HubyP/Iwl34eD/M/gjMxwB448z8SNssBH2HzP6I4ZUMfivM/Mjv/hB+z8z/CPZnGH9zzP1JAMwggBfQ/4kLNSSAu9D9yRWeLIFf0PwJIAc0ggPQ/kkqbDiGp9D8iTTVQIdL0P7JPz5Eh+/Q/QlJp0yEk9T/SVAMVIk31P2JXnVYidvU/8lk3mCKf9T+CXNHZIsj1PxJfaxsj8fU/omEFXSMa9j8yZJ+eI0P2P8JmOeAjbPY/UmnTISSV9j/ia21jJL72P3JuB6Uk5/Y/AnGh5iQQ9z+SczsoJTn3PyJ21WklYvc/snhvqyWL9z9CewntJbT3P9J9oy4m3fc/YoA9cCYG+D/ygtexJi/4P4KFcfMmWPg/EogLNSeB+D+iiqV2J6r4PzKNP7gn0/g/wo/Z+Sf8+D9SknM7KCX5P+KUDX0oTvk/cpenvih3+T8CmkEAKaD5P5Oc20Epyfk/I591gyny+T+zoQ/FKRv6P0OkqQYqRPo/06ZDSCpt+j9jqd2JKpb6P/Ord8sqv/o/g64RDSvo+j8TsatOKxH7P6OzRZArOvs/M7bf0Stj+z/DuHkTLIz7P1O7E1Ustfs/472tlize+z9zwEfYLAf8PwPD4RktMPw/k8V7Wy1Z/D8jyBWdLYL8P7PKr94tq/w/Q81JIC7U/D/Tz+NhLv38P2PSfaMuJv0/89QX5S5P/T+D17EmL3j9PxPaS2gvof0/o9zlqS/K/T8z33/rL/P9P8PhGS0wHP4/U+SzbjBF/j/j5k2wMG7+P3Pp5/Ewl/4/A+yBMzHA/j+T7ht1Men+PyPxtbYxEv8/s/NP+DE7/z9D9uk5MmT/P9P4g3syjf8/Y/sdvTK2/z/z/bf+Mt//P0IAKaAZBABAigH2wJkYAEDSAsPhGS0AQBoEkAKaQQBAYgVdIxpWAECqBipEmmoAQPIH92QafwBAOgnEhZqTAECCCpGmGqgAQMoLXseavABAEg0r6BrRAEBaDvgIm+UAQKIPxSkb+gBA6hCSSpsOAUAyEl9rGyMBQHoTLIybNwFAwhT5rBtMAUAKFsbNm2ABQFIXk+4bdQFAmhhgD5yJAUDiGS0wHJ4BQCob+lCcsgFAchzHcRzHAUC6HZSSnNsBQAIfYbMc8AFASiAu1JwEAkCSIfv0HBkCQNoiyBWdLQJAIiSVNh1CAkBqJWJXnVYCQLImL3gdawJA+if8mJ1/AkBCKcm5HZQCQIoqltqdqAJA0itj+x29AkAaLTAcntECQGIu/Twe5gJAqi/KXZ76AkDyMJd+Hg8DQDoyZJ+eIwNAgjMxwB44A0DKNP7gnkwDQBI2ywEfYQNAWjeYIp91A0CiOGVDH4oDQOo5MmSfngNAMjv/hB+zA0B6PMyln8cDQMI9mcYf3ANACj9m55/wA0BSQDMIIAUEQJpBACmgGQRA4kLNSSAuBEAqRJpqoEIEQHJFZ4sgVwRAukY0rKBrBEACSAHNIIAEQEpJzu2glARAkkqbDiGpBEDaS2gvob0EQCJNNVAh0gRAak4CcaHmBECyT8+RIfsEQPpQnLKhDwVAQlJp0yEkBUCKUzb0oTgFQNJUAxUiTQVAGlbQNaJhBUBiV51WInYFQKpYaneiigVA8lk3mCKfBUA6WwS5orMFQIJc0dkiyAVAyl2e+qLcBUASX2sbI/EFQFpgODyjBQZAomEFXSMaBkDqYtJ9oy4GQDJkn54jQwZAemVsv6NXBkDCZjngI2wGQApoBgGkgAZAUmnTISSVBkCaaqBCpKkGQOJrbWMkvgZAKm06hKTSBkBybgelJOcGQLpv1MWk+wZAAnGh5iQQB0BKcm4HpSQHQJJzOyglOQdA2nQISaVNB0AidtVpJWIHQGp3ooqldgdAsnhvqyWLB0D6eTzMpZ8HQEJ7Ce0ltAdAinzWDabIB0DSfaMuJt0HQBp/cE+m8QdAYoA9cCYGCECqgQqRphoIQPKC17EmLwhAOoSk0qZDCECChXHzJlgIQMqGPhSnbAhAEogLNSeBCEBaidhVp5UIQKKKpXYnqghA6otyl6e+CEAyjT+4J9MIQHqODNmn5whAwo/Z+Sf8CEAKkaYaqBAJQFKSczsoJQlAmpNAXKg5CUDilA19KE4JQCqW2p2oYglAcpenvih3CUC6mHTfqIsJQAKaQQApoAlAS5sOIam0CUCTnNtBKckJQNudqGKp3QlAI591gynyCUBroEKkqQYKQLOhD8UpGwpA+6Lc5akvCkBDpKkGKkQKQIuldieqWApA06ZDSCptCkAbqBBpqoEKQGOp3YkqlgpAq6qqqqqqCkDzq3fLKr8KQDutROyq0wpAg64RDSvoCkDLr94tq/wKQBOxq04rEQtAW7J4b6slC0Cjs0WQKzoLQOu0ErGrTgtAM7bf0StjC0B7t6zyq3cLQMO4eRMsjAtAC7pGNKygC0BTuxNVLLULQJu84HWsyQtA472tlizeC0Arv3q3rPILQHPAR9gsBwxAu8EU+awbDEADw+EZLTAMQEvErjqtRAxAk8V7Wy1ZDEDbxkh8rW0MQCPIFZ0tggxAa8niva2WDECzyq/eLasMQPvLfP+tvwxAQ81JIC7UDECLzhZBrugMQNPP42Eu/QxAG9Gwgq4RDUBj0n2jLiYNQKvTSsSuOg1A89QX5S5PDUA71uQFr2MNQIPXsSYveA1Ay9h+R6+MDUAT2ktoL6ENQFvbGImvtQ1Ao9zlqS/KDUDr3bLKr94NQDPff+sv8w1Ae+BMDLAHDkDD4RktMBwOQAvj5k2wMA5AU+SzbjBFDkCb5YCPsFkOQOPmTbAwbg5AK+ga0bCCDkBz6efxMJcOQLvqtBKxqw5AA+yBMzHADkBL7U5UsdQOQJPuG3Ux6Q5A2+/olbH9DkAj8bW2MRIPQGvygtexJg9As/NP+DE7D0D79BwZsk8PQEP26TkyZA9Ai/e2WrJ4D0DT+IN7Mo0PQBv6UJyyoQ9AY/sdvTK2D0Cr/OrdssoPQPP9t/4y3w9AO/+EH7PzD0BCACmgGQQQQOaAj7BZDhBAigH2wJkYEEAuglzR2SIQQNICw+EZLRBAdoMp8lk3EEAaBJACmkEQQL6E9hLaSxBAYgVdIxpWEEAGhsMzWmAQQKoGKkSaahBAToeQVNp0EEDyB/dkGn8QQJaIXXVaiRBAOgnEhZqTEEDeiSqW2p0QQIIKkaYaqBBAJov3tlqyEEDKC17HmrwQQG6MxNfaxhBAEg0r6BrREEC2jZH4WtsQQFoO+Aib5RBA/o5eGdvvEECiD8UpG/oQQEaQKzpbBBFA6hCSSpsOEUCOkfha2xgRQDISX2sbIxFA1pLFe1stEUB6EyyMmzcRQB6UkpzbQRFAwhT5rBtMEUBmlV+9W1YRQAoWxs2bYBFArpYs3ttqEUBSF5PuG3URQPaX+f5bfxFAmhhgD5yJEUA+mcYf3JMRQOIZLTAcnhFAhpqTQFyoEUAqG/pQnLIRQM6bYGHcvBFAchzHcRzHEUAWnS2CXNERQLodlJKc2xFAXp76otzlEUACH2GzHPARQKafx8Nc+hFASiAu1JwEEkDuoJTk3A4SQJIh+/QcGRJANqJhBV0jEkDaIsgVnS0SQH6jLibdNxJAIiSVNh1CEkDGpPtGXUwSQGolYledVhJADqbIZ91gEkCyJi94HWsSQFanlYhddRJA+if8mJ1/EkCeqGKp3YkSQEIpybkdlBJA5qkvyl2eEkCKKpbanagSQC6r/OrdshJA0itj+x29EkB2rMkLXscSQBotMBye0RJAvq2WLN7bEkBiLv08HuYSQAavY01e8BJAqi/KXZ76EkBOsDBu3gQTQPIwl34eDxNAlrH9jl4ZE0A6MmSfniMTQN6yyq/eLRNAgjMxwB44E0AmtJfQXkITQMo0/uCeTBNAbrVk8d5WE0ASNssBH2ETQLa2MRJfaxNAWjeYIp91E0D+t/4y338TQKI4ZUMfihNARrnLU1+UE0DqOTJkn54TQI66mHTfqBNAMjv/hB+zE0DWu2WVX70TQHo8zKWfxxNAHr0ytt/RE0DCPZnGH9wTQGa+/9Zf5hNACj9m55/wE0Cuv8z33/oTQFJAMwggBRRA9sCZGGAPFECaQQApoBkUQD7CZjngIxRA4kLNSSAuFECGwzNaYDgUQCpEmmqgQhRAzsQAe+BMFEByRWeLIFcUQBbGzZtgYRRAukY0rKBrFEBex5q84HUUQAJIAc0ggBRApshn3WCKFEBKSc7toJQUQO7JNP7gnhRAkkqbDiGpFEA2ywEfYbMUQNpLaC+hvRRAfszOP+HHFEAiTTVQIdIUQMbNm2Bh3BRAak4CcaHmFEAOz2iB4fAUQLJPz5Eh+xRAVtA1omEFFUD6UJyyoQ8VQJ7RAsPhGRVAQlJp0yEkFUDm0s/jYS4VQIpTNvShOBVALtScBOJCFUDSVAMVIk0VQHbVaSViVxVAGlbQNaJhFUC+1jZG4msVQGJXnVYidhVABtgDZ2KAFUCqWGp3oooVQE7Z0IfilBVA8lk3mCKfFUCW2p2oYqkVQDpbBLmisxVA3ttqyeK9FUCCXNHZIsgVQCbdN+pi0hVAyl2e+qLcFUBu3gQL4+YVQBJfaxsj8RVAtt/RK2P7FUBaYDg8owUWQP7gnkzjDxZAomEFXSMaFkBG4mttYyQWQOpi0n2jLhZAjuM4juM4FkAyZJ+eI0MWQNbkBa9jTRZAemVsv6NXFkAe5tLP42EWQMJmOeAjbBZAZuef8GN2FkAKaAYBpIAWQK7obBHkihZAUmnTISSVFkD26TkyZJ8WQJpqoEKkqRZAPusGU+SzFkDia21jJL4WQIbs03NkyBZAKm06hKTSFkDO7aCU5NwWQHJuB6Uk5xZAFu9ttWTxFkC6b9TFpPsWQF7wOtbkBRdAAnGh5iQQF0Cm8Qf3ZBoXQEpybgelJBdA7vLUF+UuF0CSczsoJTkXQDb0oThlQxdA2nQISaVNF0B+9W5Z5VcXQCJ21WklYhdAxvY7emVsF0Bqd6KKpXYXQA74CJvlgBdAsnhvqyWLF0BW+dW7ZZUXQPp5PMylnxdAnvqi3OWpF0BCewntJbQXQOb7b/1lvhdAinzWDabIF0Au/Twe5tIXQNJ9oy4m3RdAdv4JP2bnF0Aaf3BPpvEXQL7/1l/m+xdAYoA9cCYGGEAGAaSAZhAYQKqBCpGmGhhATgJxoeYkGEDygtexJi8YQJYDPsJmORhAOoSk0qZDGEDeBAvj5k0YQIKFcfMmWBhAJgbYA2diGEDKhj4Up2wYQG4HpSTndhhAEogLNSeBGEC2CHJFZ4sYQFqJ2FWnlRhA/gk/ZuefGECiiqV2J6oYQEYLDIdntBhA6otyl6e+GECODNmn58gYQDKNP7gn0xhA1g2myGfdGEB6jgzZp+cYQB4Pc+nn8RhAwo/Z+Sf8GEBmEEAKaAYZQAqRphqoEBlArhENK+gaGUBSknM7KCUZQPYS2ktoLxlAmpNAXKg5GUA+FKds6EMZQOKUDX0oThlAhhV0jWhYGUAqltqdqGIZQM4WQa7obBlAcpenvih3GUAWGA7PaIEZQLqYdN+oixlAXhnb7+iVGUACmkEAKaAZQKcaqBBpqhlAS5sOIam0GUDvG3Ux6b4ZQJOc20EpyRlANx1CUmnTGUDbnahiqd0ZQH8eD3Pp5xlAI591gynyGUDHH9yTafwZQGugQqSpBhpADyGptOkQGkCzoQ/FKRsaQFcidtVpJRpA+6Lc5akvGkCfI0P26TkaQEOkqQYqRBpA5yQQF2pOGkCLpXYnqlgaQC8m3TfqYhpA06ZDSCptGkB3J6pYancaQBuoEGmqgRpAvyh3eeqLGkBjqd2JKpYaQAcqRJpqoBpAq6qqqqqqGkBPKxG76rQaQPOrd8sqvxpAlyze22rJGkA7rUTsqtMaQN8tq/zq3RpAg64RDSvoGkAnL3gda/IaQMuv3i2r/BpAbzBFPusGG0ATsatOKxEbQLcxEl9rGxtAW7J4b6slG0D/Mt9/6y8bQKOzRZArOhtARzSsoGtEG0DrtBKxq04bQI81ecHrWBtAM7bf0StjG0DXNkbia20bQHu3rPKrdxtAHzgTA+yBG0DDuHkTLIwbQGc54CNslhtAC7pGNKygG0CvOq1E7KobQFO7E1UstRtA9zt6ZWy/G0CbvOB1rMkbQD89R4bs0xtA472tlizeG0CHPhSnbOgbQCu/eres8htAzz/hx+z8G0BzwEfYLAccQBdBruhsERxAu8EU+awbHEBfQnsJ7SUcQAPD4RktMBxAp0NIKm06HEBLxK46rUQcQO9EFUvtThxAk8V7Wy1ZHEA3RuJrbWMcQNvGSHytbRxAf0evjO13HEAjyBWdLYIcQMdIfK1tjBxAa8niva2WHEAPSknO7aAcQLPKr94tqxxAV0sW7221HED7y3z/rb8cQJ9M4w/uyRxAQ81JIC7UHEDnTbAwbt4cQIvOFkGu6BxAL099Ue7yHEDTz+NhLv0cQHdQSnJuBx1AG9Gwgq4RHUC/UReT7hsdQGPSfaMuJh1AB1Pks24wHUCr00rErjodQE9UsdTuRB1A89QX5S5PHUCXVX71blkdQDvW5AWvYx1A31ZLFu9tHUCD17EmL3gdQCdYGDdvgh1Ay9h+R6+MHUBvWeVX75YdQBPaS2gvoR1At1qyeG+rHUBb2xiJr7UdQP9bf5nvvx1Ao9zlqS/KHUBHXUy6b9QdQOvdssqv3h1Aj14Z2+/oHUAz33/rL/MdQNdf5vtv/R1Ae+BMDLAHHkAfYbMc8BEeQMPhGS0wHB5AZ2KAPXAmHkAL4+ZNsDAeQK9jTV7wOh5AU+SzbjBFHkD3ZBp/cE8eQJvlgI+wWR5AP2bnn/BjHkDj5k2wMG4eQIdntMBweB5AK+ga0bCCHkDPaIHh8IweQHPp5/Ewlx5AF2pOAnGhHkC76rQSsaseQF9rGyPxtR5AA+yBMzHAHkCnbOhDccoeQEvtTlSx1B5A7221ZPHeHkCT7ht1MekeQDdvgoVx8x5A2+/olbH9HkB/cE+m8QcfQCPxtbYxEh9Ax3Ecx3EcH0Br8oLXsSYfQA9z6efxMB9As/NP+DE7H0BXdLYIckUfQPv0HBmyTx9An3WDKfJZH0BD9uk5MmQfQOd2UEpybh9Ai/e2WrJ4H0AveB1r8oIfQNP4g3syjR9Ad3nqi3KXH0Ab+lCcsqEfQL96t6zyqx9AY/sdvTK2H0AHfITNcsAfQKv86t2yyh9AT31R7vLUH0Dz/bf+Mt8fQJd+Hg9z6R9AO/+EH7PzH0Dff+sv8/0fQEIAKaAZBCBAlEBcqDkJIEDmgI+wWQ4gQDjBwrh5EyBAigH2wJkYIEDcQSnJuR0gQC6CXNHZIiBAgMKP2fknIEDSAsPhGS0gQCRD9uk5MiBAdoMp8lk3IEDIw1z6eTwgQBoEkAKaQSBAbETDCrpGIEC+hPYS2ksgQBDFKRv6UCBAYgVdIxpWIEC0RZArOlsgQAaGwzNaYCBAWMb2O3plIECqBipEmmogQPxGXUy6byBAToeQVNp0IECgx8Nc+nkgQPIH92QafyBAREgqbTqEIECWiF11WokgQOjIkH16jiBAOgnEhZqTIECMSfeNupggQN6JKpbanSBAMMpdnvqiIECCCpGmGqggQNRKxK46rSBAJov3tlqyIEB4yyq/ercgQMoLXseavCBAHEyRz7rBIEBujMTX2sYgQMDM99/6yyBAEg0r6BrRIEBkTV7wOtYgQLaNkfha2yBACM7EAHvgIEBaDvgIm+UgQKxOKxG76iBA/o5eGdvvIEBQz5Eh+/QgQKIPxSkb+iBA9E/4MTv/IEBGkCs6WwQhQJjQXkJ7CSFA6hCSSpsOIUA8UcVSuxMhQI6R+FrbGCFA4NErY/sdIUAyEl9rGyMhQIRSknM7KCFA1pLFe1stIUAo0/iDezIhQHoTLIybNyFAzFNflLs8IUAelJKc20EhQHDUxaT7RiFAwhT5rBtMIUAUVSy1O1EhQGaVX71bViFAuNWSxXtbIUAKFsbNm2AhQFxW+dW7ZSFArpYs3ttqIUAA11/m+28hQFIXk+4bdSFApFfG9jt6IUD2l/n+W38hQEjYLAd8hCFAmhhgD5yJIUDsWJMXvI4hQD6Zxh/ckyFAkNn5J/yYIUDiGS0wHJ4hQDRaYDg8oyFAhpqTQFyoIUDY2sZIfK0hQCob+lCcsiFAfFstWby3IUDOm2Bh3LwhQCDck2n8wSFAchzHcRzHIUDEXPp5PMwhQBadLYJc0SFAaN1ginzWIUC6HZSSnNshQAxex5q84CFAXp76otzlIUCw3i2r/OohQAIfYbMc8CFAVF+Uuzz1IUCmn8fDXPohQPjf+st8/yFASiAu1JwEIkCcYGHcvAkiQO6glOTcDiJAQOHH7PwTIkCSIfv0HBkiQORhLv08HiJANqJhBV0jIkCI4pQNfSgiQNoiyBWdLSJALGP7Hb0yIkB+oy4m3TciQNDjYS79PCJAIiSVNh1CIkB0ZMg+PUciQMak+0ZdTCJAGOUuT31RIkBqJWJXnVYiQLxllV+9WyJADqbIZ91gIkBg5vtv/WUiQLImL3gdayJABGdigD1wIkBWp5WIXXUiQKjnyJB9eiJA+if8mJ1/IkBMaC+hvYQiQJ6oYqndiSJA8OiVsf2OIkBCKcm5HZQiQJRp/ME9mSJA5qkvyl2eIkA46mLSfaMiQIoqltqdqCJA3GrJ4r2tIkAuq/zq3bIiQIDrL/P9tyJA0itj+x29IkAkbJYDPsIiQHasyQtexyJAyOz8E37MIkAaLTAcntEiQGxtYyS+1iJAvq2WLN7bIkAQ7sk0/uAiQGIu/Twe5iJAtG4wRT7rIkAGr2NNXvAiQFjvllV+9SJAqi/KXZ76IkD8b/1lvv8iQE6wMG7eBCNAoPBjdv4JI0DyMJd+Hg8jQERxyoY+FCNAlrH9jl4ZI0Do8TCXfh4jQDoyZJ+eIyNAjHKXp74oI0Dessqv3i0jQDDz/bf+MiNAgjMxwB44I0DUc2TIPj0jQCa0l9BeQiNAePTK2H5HI0DKNP7gnkwjQBx1Mem+USNAbrVk8d5WI0DA9Zf5/lsjQBI2ywEfYSNAZHb+CT9mI0C2tjESX2sjQAj3ZBp/cCNAWjeYIp91I0Csd8sqv3ojQP63/jLffyNAUPgxO/+EI0CiOGVDH4ojQPR4mEs/jyNARrnLU1+UI0CY+f5bf5kjQOo5MmSfniNAPHplbL+jI0COuph036gjQOD6y3z/rSNAMjv/hB+zI0CEezKNP7gjQNa7ZZVfvSNAKPyYnX/CI0B6PMyln8cjQMx8/62/zCNAHr0ytt/RI0Bw/WW+/9YjQMI9mcYf3CNAFH7Mzj/hI0Bmvv/WX+YjQLj+Mt9/6yNACj9m55/wI0Bcf5nvv/UjQK6/zPff+iNAAAAAAAAAJEA=",
          "dtype": "f8"
         },
         "y": {
          "bdata": "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",
          "dtype": "f8"
         }
        }
       ],
       "layout": {
        "template": {
         "data": {
          "bar": [
           {
            "error_x": {
             "color": "#2a3f5f"
            },
            "error_y": {
             "color": "#2a3f5f"
            },
            "marker": {
             "line": {
              "color": "#E5ECF6",
              "width": 0.5
             },
             "pattern": {
              "fillmode": "overlay",
              "size": 10,
              "solidity": 0.2
             }
            },
            "type": "bar"
           }
          ],
          "barpolar": [
           {
            "marker": {
             "line": {
              "color": "#E5ECF6",
              "width": 0.5
             },
             "pattern": {
              "fillmode": "overlay",
              "size": 10,
              "solidity": 0.2
             }
            },
            "type": "barpolar"
           }
          ],
          "carpet": [
           {
            "aaxis": {
             "endlinecolor": "#2a3f5f",
             "gridcolor": "white",
             "linecolor": "white",
             "minorgridcolor": "white",
             "startlinecolor": "#2a3f5f"
            },
            "baxis": {
             "endlinecolor": "#2a3f5f",
             "gridcolor": "white",
             "linecolor": "white",
             "minorgridcolor": "white",
             "startlinecolor": "#2a3f5f"
            },
            "type": "carpet"
           }
          ],
          "choropleth": [
           {
            "colorbar": {
             "outlinewidth": 0,
             "ticks": ""
            },
            "type": "choropleth"
           }
          ],
          "contour": [
           {
            "colorbar": {
             "outlinewidth": 0,
             "ticks": ""
            },
            "colorscale": [
             [
              0,
              "#0d0887"
             ],
             [
              0.1111111111111111,
              "#46039f"
             ],
             [
              0.2222222222222222,
              "#7201a8"
             ],
             [
              0.3333333333333333,
              "#9c179e"
             ],
             [
              0.4444444444444444,
              "#bd3786"
             ],
             [
              0.5555555555555556,
              "#d8576b"
             ],
             [
              0.6666666666666666,
              "#ed7953"
             ],
             [
              0.7777777777777778,
              "#fb9f3a"
             ],
             [
              0.8888888888888888,
              "#fdca26"
             ],
             [
              1,
              "#f0f921"
             ]
            ],
            "type": "contour"
           }
          ],
          "contourcarpet": [
           {
            "colorbar": {
             "outlinewidth": 0,
             "ticks": ""
            },
            "type": "contourcarpet"
           }
          ],
          "heatmap": [
           {
            "colorbar": {
             "outlinewidth": 0,
             "ticks": ""
            },
            "colorscale": [
             [
              0,
              "#0d0887"
             ],
             [
              0.1111111111111111,
              "#46039f"
             ],
             [
              0.2222222222222222,
              "#7201a8"
             ],
             [
              0.3333333333333333,
              "#9c179e"
             ],
             [
              0.4444444444444444,
              "#bd3786"
             ],
             [
              0.5555555555555556,
              "#d8576b"
             ],
             [
              0.6666666666666666,
              "#ed7953"
             ],
             [
              0.7777777777777778,
              "#fb9f3a"
             ],
             [
              0.8888888888888888,
              "#fdca26"
             ],
             [
              1,
              "#f0f921"
             ]
            ],
            "type": "heatmap"
           }
          ],
          "histogram": [
           {
            "marker": {
             "pattern": {
              "fillmode": "overlay",
              "size": 10,
              "solidity": 0.2
             }
            },
            "type": "histogram"
           }
          ],
          "histogram2d": [
           {
            "colorbar": {
             "outlinewidth": 0,
             "ticks": ""
            },
            "colorscale": [
             [
              0,
              "#0d0887"
             ],
             [
              0.1111111111111111,
              "#46039f"
             ],
             [
              0.2222222222222222,
              "#7201a8"
             ],
             [
              0.3333333333333333,
              "#9c179e"
             ],
             [
              0.4444444444444444,
              "#bd3786"
             ],
             [
              0.5555555555555556,
              "#d8576b"
             ],
             [
              0.6666666666666666,
              "#ed7953"
             ],
             [
              0.7777777777777778,
              "#fb9f3a"
             ],
             [
              0.8888888888888888,
              "#fdca26"
             ],
             [
              1,
              "#f0f921"
             ]
            ],
            "type": "histogram2d"
           }
          ],
          "histogram2dcontour": [
           {
            "colorbar": {
             "outlinewidth": 0,
             "ticks": ""
            },
            "colorscale": [
             [
              0,
              "#0d0887"
             ],
             [
              0.1111111111111111,
              "#46039f"
             ],
             [
              0.2222222222222222,
              "#7201a8"
             ],
             [
              0.3333333333333333,
              "#9c179e"
             ],
             [
              0.4444444444444444,
              "#bd3786"
             ],
             [
              0.5555555555555556,
              "#d8576b"
             ],
             [
              0.6666666666666666,
              "#ed7953"
             ],
             [
              0.7777777777777778,
              "#fb9f3a"
             ],
             [
              0.8888888888888888,
              "#fdca26"
             ],
             [
              1,
              "#f0f921"
             ]
            ],
            "type": "histogram2dcontour"
           }
          ],
          "mesh3d": [
           {
            "colorbar": {
             "outlinewidth": 0,
             "ticks": ""
            },
            "type": "mesh3d"
           }
          ],
          "parcoords": [
           {
            "line": {
             "colorbar": {
              "outlinewidth": 0,
              "ticks": ""
             }
            },
            "type": "parcoords"
           }
          ],
          "pie": [
           {
            "automargin": true,
            "type": "pie"
           }
          ],
          "scatter": [
           {
            "fillpattern": {
             "fillmode": "overlay",
             "size": 10,
             "solidity": 0.2
            },
            "type": "scatter"
           }
          ],
          "scatter3d": [
           {
            "line": {
             "colorbar": {
              "outlinewidth": 0,
              "ticks": ""
             }
            },
            "marker": {
             "colorbar": {
              "outlinewidth": 0,
              "ticks": ""
             }
            },
            "type": "scatter3d"
           }
          ],
          "scattercarpet": [
           {
            "marker": {
             "colorbar": {
              "outlinewidth": 0,
              "ticks": ""
             }
            },
            "type": "scattercarpet"
           }
          ],
          "scattergeo": [
           {
            "marker": {
             "colorbar": {
              "outlinewidth": 0,
              "ticks": ""
             }
            },
            "type": "scattergeo"
           }
          ],
          "scattergl": [
           {
            "marker": {
             "colorbar": {
              "outlinewidth": 0,
              "ticks": ""
             }
            },
            "type": "scattergl"
           }
          ],
          "scattermap": [
           {
            "marker": {
             "colorbar": {
              "outlinewidth": 0,
              "ticks": ""
             }
            },
            "type": "scattermap"
           }
          ],
          "scattermapbox": [
           {
            "marker": {
             "colorbar": {
              "outlinewidth": 0,
              "ticks": ""
             }
            },
            "type": "scattermapbox"
           }
          ],
          "scatterpolar": [
           {
            "marker": {
             "colorbar": {
              "outlinewidth": 0,
              "ticks": ""
             }
            },
            "type": "scatterpolar"
           }
          ],
          "scatterpolargl": [
           {
            "marker": {
             "colorbar": {
              "outlinewidth": 0,
              "ticks": ""
             }
            },
            "type": "scatterpolargl"
           }
          ],
          "scatterternary": [
           {
            "marker": {
             "colorbar": {
              "outlinewidth": 0,
              "ticks": ""
             }
            },
            "type": "scatterternary"
           }
          ],
          "surface": [
           {
            "colorbar": {
             "outlinewidth": 0,
             "ticks": ""
            },
            "colorscale": [
             [
              0,
              "#0d0887"
             ],
             [
              0.1111111111111111,
              "#46039f"
             ],
             [
              0.2222222222222222,
              "#7201a8"
             ],
             [
              0.3333333333333333,
              "#9c179e"
             ],
             [
              0.4444444444444444,
              "#bd3786"
             ],
             [
              0.5555555555555556,
              "#d8576b"
             ],
             [
              0.6666666666666666,
              "#ed7953"
             ],
             [
              0.7777777777777778,
              "#fb9f3a"
             ],
             [
              0.8888888888888888,
              "#fdca26"
             ],
             [
              1,
              "#f0f921"
             ]
            ],
            "type": "surface"
           }
          ],
          "table": [
           {
            "cells": {
             "fill": {
              "color": "#EBF0F8"
             },
             "line": {
              "color": "white"
             }
            },
            "header": {
             "fill": {
              "color": "#C8D4E3"
             },
             "line": {
              "color": "white"
             }
            },
            "type": "table"
           }
          ]
         },
         "layout": {
          "annotationdefaults": {
           "arrowcolor": "#2a3f5f",
           "arrowhead": 0,
           "arrowwidth": 1
          },
          "autotypenumbers": "strict",
          "coloraxis": {
           "colorbar": {
            "outlinewidth": 0,
            "ticks": ""
           }
          },
          "colorscale": {
           "diverging": [
            [
             0,
             "#8e0152"
            ],
            [
             0.1,
             "#c51b7d"
            ],
            [
             0.2,
             "#de77ae"
            ],
            [
             0.3,
             "#f1b6da"
            ],
            [
             0.4,
             "#fde0ef"
            ],
            [
             0.5,
             "#f7f7f7"
            ],
            [
             0.6,
             "#e6f5d0"
            ],
            [
             0.7,
             "#b8e186"
            ],
            [
             0.8,
             "#7fbc41"
            ],
            [
             0.9,
             "#4d9221"
            ],
            [
             1,
             "#276419"
            ]
           ],
           "sequential": [
            [
             0,
             "#0d0887"
            ],
            [
             0.1111111111111111,
             "#46039f"
            ],
            [
             0.2222222222222222,
             "#7201a8"
            ],
            [
             0.3333333333333333,
             "#9c179e"
            ],
            [
             0.4444444444444444,
             "#bd3786"
            ],
            [
             0.5555555555555556,
             "#d8576b"
            ],
            [
             0.6666666666666666,
             "#ed7953"
            ],
            [
             0.7777777777777778,
             "#fb9f3a"
            ],
            [
             0.8888888888888888,
             "#fdca26"
            ],
            [
             1,
             "#f0f921"
            ]
           ],
           "sequentialminus": [
            [
             0,
             "#0d0887"
            ],
            [
             0.1111111111111111,
             "#46039f"
            ],
            [
             0.2222222222222222,
             "#7201a8"
            ],
            [
             0.3333333333333333,
             "#9c179e"
            ],
            [
             0.4444444444444444,
             "#bd3786"
            ],
            [
             0.5555555555555556,
             "#d8576b"
            ],
            [
             0.6666666666666666,
             "#ed7953"
            ],
            [
             0.7777777777777778,
             "#fb9f3a"
            ],
            [
             0.8888888888888888,
             "#fdca26"
            ],
            [
             1,
             "#f0f921"
            ]
           ]
          },
          "colorway": [
           "#636efa",
           "#EF553B",
           "#00cc96",
           "#ab63fa",
           "#FFA15A",
           "#19d3f3",
           "#FF6692",
           "#B6E880",
           "#FF97FF",
           "#FECB52"
          ],
          "font": {
           "color": "#2a3f5f"
          },
          "geo": {
           "bgcolor": "white",
           "lakecolor": "white",
           "landcolor": "#E5ECF6",
           "showlakes": true,
           "showland": true,
           "subunitcolor": "white"
          },
          "hoverlabel": {
           "align": "left"
          },
          "hovermode": "closest",
          "mapbox": {
           "style": "light"
          },
          "paper_bgcolor": "white",
          "plot_bgcolor": "#E5ECF6",
          "polar": {
           "angularaxis": {
            "gridcolor": "white",
            "linecolor": "white",
            "ticks": ""
           },
           "bgcolor": "#E5ECF6",
           "radialaxis": {
            "gridcolor": "white",
            "linecolor": "white",
            "ticks": ""
           }
          },
          "scene": {
           "xaxis": {
            "backgroundcolor": "#E5ECF6",
            "gridcolor": "white",
            "gridwidth": 2,
            "linecolor": "white",
            "showbackground": true,
            "ticks": "",
            "zerolinecolor": "white"
           },
           "yaxis": {
            "backgroundcolor": "#E5ECF6",
            "gridcolor": "white",
            "gridwidth": 2,
            "linecolor": "white",
            "showbackground": true,
            "ticks": "",
            "zerolinecolor": "white"
           },
           "zaxis": {
            "backgroundcolor": "#E5ECF6",
            "gridcolor": "white",
            "gridwidth": 2,
            "linecolor": "white",
            "showbackground": true,
            "ticks": "",
            "zerolinecolor": "white"
           }
          },
          "shapedefaults": {
           "line": {
            "color": "#2a3f5f"
           }
          },
          "ternary": {
           "aaxis": {
            "gridcolor": "white",
            "linecolor": "white",
            "ticks": ""
           },
           "baxis": {
            "gridcolor": "white",
            "linecolor": "white",
            "ticks": ""
           },
           "bgcolor": "#E5ECF6",
           "caxis": {
            "gridcolor": "white",
            "linecolor": "white",
            "ticks": ""
           }
          },
          "title": {
           "x": 0.05
          },
          "xaxis": {
           "automargin": true,
           "gridcolor": "white",
           "linecolor": "white",
           "ticks": "",
           "title": {
            "standoff": 15
           },
           "zerolinecolor": "white",
           "zerolinewidth": 2
          },
          "yaxis": {
           "automargin": true,
           "gridcolor": "white",
           "linecolor": "white",
           "ticks": "",
           "title": {
            "standoff": 15
           },
           "zerolinecolor": "white",
           "zerolinewidth": 2
          }
         }
        },
        "title": {
         "text": "Fitted Params: {'frequency': np.float64(10.000229930628597), 'damping_rate': np.float64(1.0068571964906003), 'phase': np.float64(0.1013701415198718)}"
        },
        "width": 900,
        "xaxis": {
         "title": {
          "text": "time (s)"
         }
        },
        "yaxis": {
         "title": {
          "text": "Signal Amplitude (arb. u.)"
         }
        }
       }
      }
     },
     "metadata": {},
     "output_type": "display_data"
    }
   ],
   "source": [
    "# True model parameters\n",
    "true_params: Dict[str, float] = dict(\n",
    "    frequency=10.0, amplitude=1.0, damping_rate=0.1, phase=np.pi\n",
    ")\n",
    "\n",
    "\n",
    "np_rng = np.random.default_rng(42)\n",
    "# 1. Generate clean data\n",
    "x_samp: npt.NDArray[np.float64] = np.linspace(0, 10, 1000)\n",
    "y_clean: npt.NDArray[np.float64] = damp_sine_wave(x_samp, **true_params)\n",
    "\n",
    "# 2. Add noise\n",
    "rng = np.random.default_rng(seed=42)\n",
    "noise: npt.NDArray[np.float64] = np_rng.normal(scale=0.05, size=x_samp.shape)\n",
    "y_noisy = y_clean + noise\n",
    "\n",
    "\n",
    "# 3. Define a wrapper for curve_fit\n",
    "# Wrapper for curve_fit\n",
    "def wrapper(\n",
    "    x: npt.NDArray[np.float64],\n",
    "    frequency: float,\n",
    "    amplitude: float,\n",
    "    damping_rate: float,\n",
    "    phase: float,\n",
    ") -> npt.NDArray[np.float64]:\n",
    "    return damp_sine_wave(\n",
    "        x,\n",
    "        frequency=frequency,\n",
    "        damping_rate=damping_rate,\n",
    "        phase=phase,\n",
    "        amplitude=amplitude,\n",
    "    )\n",
    "\n",
    "\n",
    "key_order = (\"frequency\", \"amplitude\", \"damping_rate\", \"phase\")\n",
    "\n",
    "# 4. Fit data with perturbed initial guess\n",
    "initial_guess = [true_params[k] for k in key_order]  # intentionally inaccurate\n",
    "initial_guess = np.array(initial_guess)\n",
    "initial_guess = (\n",
    "    initial_guess + np_rng.normal(scale=0.9, size=initial_guess.shape) * initial_guess\n",
    ")  # add some noise to the initial guess\n",
    "print(initial_guess)\n",
    "popt, pcov = curve_fit(wrapper, x_samp, y_noisy, p0=initial_guess)\n",
    "fitted_params = dict(zip([\"frequency\", \"damping_rate\", \"phase\"], popt))\n",
    "\n",
    "# 5. Visualize\n",
    "fig = go.Figure().update_layout(width=900)\n",
    "\n",
    "fig.add_trace(go.Scatter(name=\"True Function\", mode=\"lines\", x=x_samp, y=y_clean))\n",
    "fig.add_trace(\n",
    "    go.Scatter(\n",
    "        name=\"Noisy Data\", mode=\"markers\", x=x_samp, y=y_noisy, line=dict(width=1)\n",
    "    )\n",
    ")\n",
    "fig.add_trace(\n",
    "    go.Scatter(\n",
    "        name=\"Fitted Curve\",\n",
    "        mode=\"lines\",\n",
    "        x=x_samp,\n",
    "        y=wrapper(x_samp, *popt),\n",
    "        line=dict(dash=\"dash\"),\n",
    "    )\n",
    ")\n",
    "\n",
    "fig.update_layout(\n",
    "    xaxis_title=\"time (s)\",\n",
    "    yaxis_title=\"Signal Amplitude (arb. u.)\",\n",
    "    title=f\"Fitted Params: {fitted_params}\",\n",
    ")\n",
    "fig.show()"
   ]
  },
  {
   "cell_type": "code",
   "execution_count": 5,
   "id": "6180d35a",
   "metadata": {},
   "outputs": [
    {
     "data": {
      "text/plain": [
       "200000"
      ]
     },
     "execution_count": 5,
     "metadata": {},
     "output_type": "execute_result"
    }
   ],
   "source": [
    "10**4 * 10 * 2"
   ]
  },
  {
   "cell_type": "code",
   "execution_count": 6,
   "id": "c4cd4447",
   "metadata": {},
   "outputs": [
    {
     "name": "stdout",
     "output_type": "stream",
     "text": [
      "Starting parallel fits...\n"
     ]
    },
    {
     "name": "stderr",
     "output_type": "stream",
     "text": [
      "  0%|          | 0/300 [00:00<?, ?it/s]"
     ]
    },
    {
     "name": "stderr",
     "output_type": "stream",
     "text": [
      "100%|██████████| 300/300 [00:18<00:00, 16.63it/s]\n"
     ]
    },
    {
     "data": {
      "application/vnd.plotly.v1+json": {
       "config": {
        "plotlyServerURL": "https://plot.ly"
       },
       "data": [
        {
         "mode": "lines+markers",
         "name": "RMSE frequency",
         "type": "scatter",
         "x": {
          "bdata": "FzmcYKqZuT85m+DT75q6PwFg18ROprs/+2lmsyy8vD9xoY4b89y9P0hNeZ0PCb8/FwmME3ogwD+4tLOPi8LAPyMAssn5asE/ygpisgQawj8jTEO97s/CP4s9tfn8jMM/QbYwLXdRxD9U8Yjupx3FP9OZPsLc8cU/zKHvN2bOxj8rFe8ImLPHPz+KEDjJocg/pUazMlSZyT9+qRnzlprKP/fpGSTzpcs/H701Rs67zD+J/ibWkdzNP3gF8HSrCM8/GHK/iEYg0D8ttPmJVsLQP8EpTEXDatE/IXRQrMwZ0j+zSl4ztc/SP/adyerBjNM/U6MemTpR1D9NxmXWaR3VPzzgeSid8dU/g4B7ICXO1j/3e2x5VbPXP4hr/zeFodg/xDenyw6Z2T8ZSfMwUJraPwx0RRWrpds/pDzv+4S73D/glcRkR9zdP+HQMvRfCN8/BYJ1TiAg4D9n5pflL8LgP85360icauE/CgCIbKUZ4j/k9IDHjc/iP9jyKG2ajOM/cZJTJxNR5D/snZ+RQh3lP04S1DV28eU/ysBaqf7N5j/e0uOrL7PnP7LlPUdgoeg/Oehu8OqY6T+VYhqqLZrqP/RNQiiKpes/ZSlw9WW77D8Wg1SZKtztP+m968BFCO8/jbgbtBQg8D9RLs4CJsLwP2PHeluUavE/VwA3uJ8Z8j/rT5mWis/yP124BxGajPM/3JoF+RVR9D+A5YrySB31Pz8bb5CA8fU/aiDzcQ3O9j/aJXVhQ7P3P+eAWnR5ofg/9rY7LAqZ+T88gV+ZU5r6P90Pkn63pfs/y1tmdpu7/D9S5O8Zadz9P/DIAymOCP8/f2QIWj4gAECVKc+jVcIAQD66wYzKagFAE5LzG90ZAkC7Dg7dz88CQJGatfnnjANARO3vU21RBECVoJWhqh0FQG7B2Yjt8QVAxnPyvYbOBkAhM+4hyrMHQBKxweIOoghAJtCanK+ZCUCvu4V8CpsKQImkcWSBpgtAKTijEHq8DECpeqM+Xt0NQPZFutWbCQ9ALiiCiNIgEEDHoZpV+MIQQJiNCwZ9axFAzlvsu6AaEkBPJx8gptASQL+U43vSjRNA13Zu021SFEAjwpABwx4VQH3KeNQf8xVAhDmZK9XPFkDAp8EWN7UXQGJBdfacoxhAOmWMnWGbGUAqty5045waQCOxM5yEqBtAaFX4Fqu+HEBpQ7nswN8dQLcWgVU0DB9AT9Ld8TsiIEBSsT9YgcQgQKp+z0QobSFAyPbKEHEcIkDt1LGgntIiQBL1NH72jyNATawx88BUJECLe8QlSSElQF69fjXd9SVADnLLWc7SJkAy1o8BcbgnQNL+FPQcpyhAYU1Icy2fKUA7KmFfAaEqQEcb+1v7rCtAC/iz9oHDLEBWtF7P/+QtQM7428HjES9ArkTViFAlMEDpJqHL18cwQF3WpvfFcDFA1+nq1VsgMkDMvbvD3NYyQJhdW82OlDNAscPEybpZNEC/0Jh3rCY1QLPuP5uy+zVA6vRNHh/ZNkBBiDYwR783QIDjYGiDrjhAOa2q6S+nOUCrRWqHrKk6QCnFAexctjtAqr8UwajNPED0x3PZ++89QOGi0VzGHT9AGI6rer4rQECuwJV/zM5AQOVzBF1MeEFAGUt6vn8oQkDDlxr2qt9CQC3K0BgVnkNAuG+yGwhkREABsqry0DFFQDgZf7C/B0ZAly0+qCfmRkDZfSmQX81HQFCGLabBvUhALP361au3SUCgHtbgf7tKQCPAMYejyUtA8C0ttIDiTEAAKw2rhQZOQKLTyTYlNk9AjFPmbes4UECJy/2FC91QQIHbl66zh1FAav0bYSc5UkB7N0XjrPFSQF43ZGaNsVNAilAeKBV5VECb+L2Uk0hVQDaoKmtbIFZAkm2f4sIAV0Df+zjSI+pXQLOgddrb3FhASELDkEzZWUAqaDmt299aQPBPnzrz8FtA8zrgyAENXUDwdBKiejReQE4ZOALWZ19AG6nxqMhTYEDoXvWxF/pgQBHoLlscp2FAbTx22x1bYkADhXyFZhZjQLuyx+1D2WNAX2nAEgekZEB0T/SGBHdlQE9lsZ2UUmZAgNIhmhM3Z0AroxLh4SRoQDQ+ky1kHGlA2PmeyAMeakCuIQbELiprQLIN0DhYQWxAeZhUifhjbUAoZFCnjZJuQMX3PF6bzW9A5fEd0dWKcEAna/VxpzVxQID1vjSO53FAd87CVtmgckAVVufh22FzQMAKauLsKnRADAUjoGf8dECbXZrbq9Z1QBx7PQ8eunZA/4cJtSend0BoWQiRN554QL30BQHCn3lA9b7uUUGsekCYUlEbNsR7QEsji6En6HxAQqA0P6QYfkCmmXDWQVZ/QP7AaSXPUIBAluCEw2IdgEB83lekVL+AQJ/0PfqhZ4FAGzRGqIoWgkDUGocTUcyCQD+eUjw6iYNAUn1n2I1NhECkyylulhmFQDsK7XCh7YVA3otaXv/JhkAjTf/cA6+HQCnaDNwFnYhA6E5ZtF+UiUC4+apKb5WKQPyjXDOWoItAKQlo1zm2jECddXe+IuuMQGKg5B9yBI5A7AMtkEZlkEDdEGtKEb+QQKQ0eftbZ5FAMJkX6kEWkkDsuFF6BcySQHAKZKvriJNANensMTxNlEA6sySTQRmVQPdvJ0FJ7ZVAcL5auKPJlkB+MvudpK6XQNe63N+inJhAihxq1fiTmUCcC/BhBJWaQG7kQBgnoJtA+Y2+X8a1nECg8qpmK0edQLHbpQ6sZ55ASL18uGJWoEBQH43xzb6gQMnyzf0VZ6FAPYkNLfkVokDbXUziucuiQLtssRudiKNAgrK6jOpMpEAd3HS57BilQGZ8xBLx7KVAUH0n0V95pkAb2+PBnfCnQE2Z2szv46hAuZ4Y+JGTqUCAD+N6mZSqQLf34/63n6tA7m/l6VK1rEBFoxWBp4WtQMAU4p8Zq65AEhJkIchCsECnBb6Zir6wQJwqPAHQZrFApv8ncbAVskA9QV6HtKGyQJvBd796rrNAoN6ejtZ1tEDqQBrhlxi1QOspxOWY7LVAkQFuzaCdtkBmdyv6jNa3QIpDFc/Hx7hA5c5kHCuTuUC2hbaiX2i6QANp/nQzybtATEi+tyfivEDnZddRtaq9QK06tyYd075AhxxdzboywEBetWDK5ajAQAHFW4tzT8FAGRh2MBMswkDOMkz8MLXCQN/0pje9ncNA",
          "dtype": "f8"
         },
         "xaxis": "x",
         "y": [
          0.06586183349976825,
          0.06582984461174858,
          0.0582476028836147,
          0.05219099352993657,
          0.047164691224501586,
          0.042879219008292425,
          0.03915222087063458,
          0.0358611304898039,
          0.03292038358460672,
          0.030268862396776293,
          0.02786196087508135,
          0.025665646845193898,
          0.023653824981162596,
          0.021805659803061435,
          0.02010413427872389,
          0.01853527882093827,
          0.01737097363353467,
          0.015993913156701595,
          0.014723385462416354,
          0.013550363333573486,
          0.012466842950566626,
          0.011465616251765584,
          0.010540286043569913,
          0.009684711768133264,
          0.008977004422809227,
          0.008162385176709799,
          0.007486046741715809,
          0.006860648645879684,
          0.006345137333847096,
          0.005805052541953024,
          0.0053053503286930115,
          0.004843325892186128,
          0.00441599212416172,
          0.004020897215361188,
          0.003623649394206379,
          0.0032908497340188784,
          0.003007135626507243,
          0.0027196373700277415,
          0.002454454888839257,
          0.002283922148694034,
          0.001984713610691724,
          0.0018441541557138383,
          0.0015850780027744165,
          0.0014716975115902904,
          0.0013079025523346395,
          0.0011577674465660319,
          0.0010204474568715834,
          0.0008952039679048276,
          0.0007392291184475382,
          0.0006546342370974144,
          0.0005835178008656028,
          0.00047675342560178917,
          0.00042693846421946953,
          0.00037364889994923793,
          0.0003251984223059935,
          0.00030042558907700034,
          0.0002771606386201168,
          0.0002524113063599517,
          0.0002765556241256594,
          0.00025064034746022243,
          0.0002884352137403508,
          0.0002914322105229369,
          0.0002551079092275786,
          0.00027014928464821875,
          0.0002474043169025543,
          0.00023691222631478536,
          0.0002106292533490479,
          0.0001812609757518328,
          0.00017414093575717393,
          0.00016580467388482273,
          0.00017518753918859456,
          0.0001650308818503901,
          0.00017708343397094444,
          0.00015468192753831375,
          0.00014201704238443516,
          0.0001358847155414853,
          0.00012111184753530004,
          0.0001231752306678702,
          0.00012681834419922826,
          0.00013599934806037965,
          0.00012369975635849597,
          0.00011178641595675017,
          0.0001000643649310257,
          0.00009816176689004247,
          0.00010399787635849822,
          0.00009884823922038826,
          0.00009592758322865815,
          0.00008157101761262132,
          0.00008103389060146528,
          0.00008358625975377072,
          0.00008014313784390782,
          0.00007500665238611871,
          0.00007057545197463088,
          0.00007203399558871103,
          0.0000667127811406727,
          0.00006125848782634201,
          0.00006767273944558783,
          0.00006246387006109166,
          0.000059911267596289145,
          0.00005776576371619487,
          0.00005455476401612064,
          0.0000480508196939443,
          0.00005246039700905515,
          0.00005297729082905214,
          0.000050302429540611014,
          0.000043547456374871835,
          0.0000408226554888229,
          0.000043214929027593194,
          0.00003965353864244541,
          0.000039234124804198223,
          0.000036746580046841325,
          0.000036121295790597746,
          0.00003461307796320316,
          0.00003551681064020736,
          0.000034030349738703185,
          0.000030170820488669185,
          0.00003140900887473341,
          0.00002780457224723145,
          0.000027416116580680984,
          0.00002588641191644941,
          0.000025095982120083267,
          0.000026175205771942274,
          0.000023926009510124863,
          0.000021952704846265673,
          0.000022163121260003636,
          0.000021724270592082965,
          0.000020442921348864253,
          0.000018736305639664942,
          0.0000198354704462383,
          0.00001799994008969376,
          0.000017628290761926107,
          0.00001638629856192766,
          0.00001718261549968566,
          0.000015471932569634632,
          0.000014887411653742679,
          0.000014650341127371834,
          0.000014201112759086641,
          0.00001342010586173071,
          0.00001275388937169256,
          0.000012646124622618606,
          0.000011618943893351234,
          0.000012237766988168876,
          0.00001109877706756454,
          0.000010878751107248895,
          0.000011203882549161225,
          0.000011143490129473816,
          0.000010208441497166913,
          0.000010199355124968605,
          0.000009030011355618587,
          0.00000932838791825275,
          0.00000917395699875577,
          0.000008836279528792738,
          0.000008268169991859364,
          0.00000798902848940319,
          0.000007275651573957853,
          0.000008257644609841432,
          0.000008099977290971072,
          0.000006816846627204856,
          0.000007216804990872192,
          0.000006362634532896792,
          0.000006884789157916077,
          0.000006455036061674231,
          0.000006499164085291058,
          0.0000061971354616422705,
          0.000005880597855558598,
          0.000005586269180931935,
          0.000005786287254876449,
          0.000005274179008064902,
          0.000005695965468748191,
          0.000004904892100277475,
          0.000005108355727207276,
          0.0000049658711169015006,
          0.000004822813724479546,
          0.000004746473721967007,
          0.000004565138524098653,
          0.000004508635937935489,
          0.000004361837079617453,
          0.000004220009275626004,
          0.000004244702648989624,
          0.000004056651433618786,
          0.000003880249361856448,
          0.000003905391814856887,
          0.000003846794143367232,
          0.000003865873092020446,
          0.0000035178716595401796,
          0.0000035319118706742476,
          0.0000035365564633047814,
          0.0000036201445646871353,
          0.000003669091163409829,
          0.0000037986585106476784,
          0.0000035811511936798397,
          0.000003271671034452487,
          0.0000036748622714226697,
          0.0000033392212466723772,
          0.0000035545204827472757,
          0.000003705226632895806,
          0.00000332327112683857,
          0.0000033713890847091053,
          0.000003488502182716642,
          0.000003199387664183012,
          0.000003471182797251899,
          0.0000032923514451598664,
          0.0000035972176982545555,
          0.000003688813829840049,
          0.0000037390263566060326,
          0.0000035192208630792002,
          0.0000036372887543122803,
          0.000003535836751357255,
          0.000003821927999093239,
          0.0000035968357148416494,
          0.000003827271673221809,
          0.0000036699711919105827,
          0.0000042090132471376295,
          0.000003862289720305026,
          0.000004228493989853484,
          0.000003939691917745571,
          0.0000038874180977600115,
          0.000004211496718491473,
          0.000004100676310488232,
          0.000004400915940638464,
          0.000005870582359393964,
          0.000004769392422114364,
          0.000004654939691024896,
          0.000004614815135610515,
          0.000004471254860054168,
          0.000005036448706604318,
          0.00000483660611823365,
          0.000005231133002247305,
          0.00000487571869795124,
          0.000005318119843747758,
          0.000005730401308089335,
          0.000005152833636662132,
          0.000005318762672472319,
          0.000005709837217205154,
          0.000005352890829375213,
          0.000005840169813933993,
          0.000005989851870199623,
          0.000006231016657346774,
          0.000006285683765913961,
          0.000005851665062636616,
          0.000006310351899351472,
          0.000006706409702885233,
          0.0000064417169991056504,
          0.000006462656792257179,
          0.000006902212047020137,
          0.0000066299197005023555,
          0.000008032800427656485,
          0.000007660529892000286,
          0.000007362829142597448,
          0.000007658020874809187,
          0.000008580734377089417,
          0.000008184975789952919,
          0.000008334130171397699,
          0.000008129846967096681,
          0.000008390913632653933,
          0.000008410523714311009,
          0.00000866595560647926,
          0.000008998798038697253,
          0.000009964250589162713,
          0.000009510384035535688,
          0.00000888073209288704,
          0.000009510911025628062,
          0.000010451975098821554,
          0.00003284453468871477,
          0.000009948650980226854,
          0.000010554317733351115,
          0.00001100566451248414,
          0.000011021801220296149,
          0.000010811081871889112,
          0.000011208095760883833,
          0.000011695244519212789,
          0.000011670550245362126,
          0.00001216302412151528,
          0.000012528293304073372,
          0.0000115463896291623,
          0.000012538609675153677,
          0.0000136582348234789,
          0.000013700207629352606,
          0.000013694774515844493,
          0.000013128312680310997,
          0.000014188485046163113,
          0.000015218674109905201,
          0.000014443785036479147,
          0.000014963131554601757,
          0.000015564387355762075,
          0.000015218967027715212,
          0.00001633273158264469,
          0.00001595653855618692,
          0.00001669135390368411,
          0.000017424129240486112,
          0.000017557098814023697,
          0.000016637234743215257,
          0.00001838676621217301,
          0.00001870366145119773,
          0.000018850358843040017,
          0.000022800443135370807,
          0.000019177333351035726,
          0.00001992403836511189,
          0.000019734242561100916,
          0.000022982230568363624
         ],
         "yaxis": "y"
        },
        {
         "line": {
          "dash": "dot"
         },
         "mode": "lines+markers",
         "name": "stderr frequency",
         "type": "scatter",
         "x": {
          "bdata": "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",
          "dtype": "f8"
         },
         "xaxis": "x",
         "y": [
          0.07035884685822641,
          0.0640638421169645,
          0.05784060068116782,
          0.052648385108505134,
          0.04814311233722182,
          0.044144175811727075,
          0.040544838020089756,
          0.0372815654557036,
          0.03430821540900846,
          0.03158959215426492,
          0.029097910295326948,
          0.026809677135420595,
          0.024705019488536442,
          0.022766802015109486,
          0.020980184202383234,
          0.019331907143140592,
          0.01785441574246818,
          0.016439642278229603,
          0.015133760109366338,
          0.013927842433674075,
          0.012813818470140525,
          0.011784424502739832,
          0.010832991518990184,
          0.009953448101300954,
          0.009108899747570178,
          0.008388429483329523,
          0.007693188006306695,
          0.007050331241293084,
          0.006443735120753172,
          0.005896717378602354,
          0.005390661678557008,
          0.004922597867423035,
          0.004489743239588243,
          0.0040895865104837725,
          0.0037224768603986965,
          0.003380095822592022,
          0.003062558318865905,
          0.00277129597511476,
          0.002502580603789091,
          0.002251106796462965,
          0.0020265445997233156,
          0.0018132420057693007,
          0.0016233415344160892,
          0.0014430506724732277,
          0.0012805519320936752,
          0.0011318447764526183,
          0.000996108525807636,
          0.0008726379875219256,
          0.000762350000492504,
          0.000661562311999212,
          0.0005712309213856888,
          0.0004934224785892339,
          0.00042602335129112416,
          0.00036987869049260295,
          0.0003269543245329332,
          0.0002971162387114551,
          0.0002798582537481651,
          0.00027231242007735526,
          0.00027325084083203594,
          0.0002776867692710259,
          0.0002827427715103078,
          0.00028439179758387194,
          0.00027999868416743294,
          0.0002692222451936593,
          0.00025072868432261255,
          0.0002275524114367348,
          0.00020436508528417978,
          0.0001847996709516568,
          0.00017388454790680791,
          0.00017100222254155708,
          0.00017373117330954087,
          0.00017615406368968117,
          0.0001745495726139067,
          0.00016609658373981814,
          0.00015233970622332153,
          0.0001379208259999253,
          0.00012837545311698137,
          0.00012639754856110834,
          0.00012875554569158335,
          0.0001285058266134327,
          0.0001223208156732291,
          0.00011146164250370632,
          0.0001028209826671797,
          0.00010081496135176393,
          0.00010232020725001502,
          0.00010037453585481912,
          0.00009273434152530123,
          0.00008530315699515117,
          0.00008406157739671323,
          0.00008489839315331542,
          0.00008086591501513966,
          0.00007379904114941615,
          0.00007192836975899147,
          0.00007257811130197825,
          0.00006826206103750942,
          0.00006326638402841076,
          0.00006353084640509781,
          0.00006161023768719451,
          0.00005659066060388601,
          0.00005648180853577711,
          0.00005465717998924836,
          0.000050636598616089086,
          0.000050985195733980064,
          0.00004766115111219484,
          0.00004622699766886901,
          0.000045078581373778604,
          0.00004233387559112501,
          0.000042106179839817734,
          0.000039195699209153304,
          0.00003903791637638322,
          0.00003642348706666254,
          0.000035990768563588435,
          0.00003415915006225055,
          0.00003295342298277677,
          0.000032235600780140885,
          0.000030254421096603535,
          0.00002976366027901349,
          0.000028782457730137495,
          0.000027205046564801546,
          0.000026333537180759473,
          0.00002576660209794374,
          0.000024812107897460086,
          0.000023672420686617618,
          0.00002267813728899179,
          0.00002183728334588332,
          0.000021126219778268627,
          0.000020366217301458963,
          0.000019679323144666918,
          0.000018944503407686393,
          0.000018291991414697393,
          0.00001769273910379684,
          0.00001720997642611808,
          0.000016648728008366932,
          0.00001592031745593877,
          0.000015357026677554472,
          0.000014973266166373923,
          0.000014290485573998926,
          0.0000139726658660396,
          0.000013354071232995491,
          0.000013010981158270892,
          0.000012529340598618587,
          0.000012033650716599277,
          0.000011712958064806094,
          0.000011332746929167255,
          0.000010962631702050152,
          0.00001062772074003235,
          0.000010245879957106299,
          0.000009859219781199194,
          0.000009546113773635966,
          0.000009290736951167722,
          0.000008933912871183495,
          0.000008732373240670857,
          0.000008396713279520337,
          0.00000814990875463791,
          0.00000789172652249056,
          0.00000767494225701616,
          0.000007412308873610201,
          0.000007185466712232282,
          0.000007000186221235847,
          0.000006763953328950064,
          0.00000661753259183522,
          0.000006392119814918315,
          0.000006228122943468801,
          0.0000060424121957304755,
          0.0000059043777662448186,
          0.000005714167807585767,
          0.0000055907099085782716,
          0.000005417051076638969,
          0.00000527041283010965,
          0.000005143667541331632,
          0.000005029695651368207,
          0.000004911354951880152,
          0.000004792231951216056,
          0.000004669239752070972,
          0.0000045688209540982065,
          0.0000044734359960125945,
          0.000004394754120923679,
          0.000004289284335995428,
          0.000004203851168437617,
          0.0000041350889135216574,
          0.0000040500764081073804,
          0.00000397976319594725,
          0.000003924621770603839,
          0.00000386528204391321,
          0.000003806403012624807,
          0.0000037547692324110293,
          0.000003694542147849124,
          0.000003661428832899187,
          0.0000036187427332757466,
          0.000003582584019595953,
          0.000003551565718711757,
          0.0000035152540036197725,
          0.000003493810329254963,
          0.0000034715529681429444,
          0.0000034683802715024885,
          0.0000034580615163615862,
          0.000003439435554724587,
          0.000003447335470992182,
          0.0000034497240631655284,
          0.000003444728133193515,
          0.0000034554851701542036,
          0.000003471514598874896,
          0.000003498428900591287,
          0.00000351264305309963,
          0.0000035489263382597986,
          0.0000035701183352697745,
          0.0000036048219820272326,
          0.0000036476406872920437,
          0.0000036905117762691125,
          0.000003737761274368989,
          0.0000037896070218178963,
          0.0000038482214690554405,
          0.0000039066860041642616,
          0.000003982377396837426,
          0.000004038471433346706,
          0.000004108171476731364,
          0.0000041838178816047794,
          0.000004273840773855113,
          0.00000434678091527734,
          0.0000044565485500166406,
          0.0000061919088167727284,
          0.000004613661586339316,
          0.0000046014634643191175,
          0.000004677778934383841,
          0.0000047602892490550405,
          0.000004838087402192989,
          0.00000494624132968997,
          0.000005037679293757724,
          0.000005126297987700303,
          0.000005221158120017815,
          0.000005327970288346321,
          0.00000542975028866831,
          0.0000055332214026966915,
          0.000005645109144516489,
          0.000005753965278778941,
          0.000005877590406323358,
          0.0000059788799701596535,
          0.000006107164237535746,
          0.000006131510649826619,
          0.000006256347878131333,
          0.000006529985576131042,
          0.0000066002304988376455,
          0.000006722191095465159,
          0.000006839658637702523,
          0.00000697535220521055,
          0.000007124016843156689,
          0.000007249751046494333,
          0.000007393899051608751,
          0.000007552233696809633,
          0.000007750492484426944,
          0.000008210585174351498,
          0.000007994110341832605,
          0.00000813875031548411,
          0.000008293212680395747,
          0.000008458534135051055,
          0.000008626494048979297,
          0.000008757409303526864,
          0.000008948571102069229,
          0.0000092136284720788,
          0.000009315401887636632,
          0.000009541287324607473,
          0.000009699554821098823,
          0.000009893319231454913,
          0.0000329046656502994,
          0.000010288347358255676,
          0.00001047380208796802,
          0.000010680570120461174,
          0.00001085982671689702,
          0.000011318272182937387,
          0.00001141512325934986,
          0.000011564875471677413,
          0.000011827990057429215,
          0.000012561919855922339,
          0.000012242112555163903,
          0.000012441396795875118,
          0.000012845339005469885,
          0.000013065423495056351,
          0.000013195605293181469,
          0.000014383856056797758,
          0.000013825934448940912,
          0.000013920198974370413,
          0.000015338432379507504,
          0.000014595738672911914,
          0.000015058453300627522,
          0.000015252831289545235,
          0.000015370922456461247,
          0.00001599313071097515,
          0.000016163658832838255,
          0.000017587899233661925,
          0.000016620484475064213,
          0.000017250695033856968,
          0.000017801860764574253,
          0.000018067552781583096,
          0.000018448931450530435,
          0.000018459865101063492,
          0.000023198011648020704,
          0.000019390351622799314,
          0.000019630743798810355,
          0.000020959254439743834,
          0.000023731693033412654
         ],
         "yaxis": "y"
        },
        {
         "mode": "lines+markers",
         "name": "RMSE amplitude",
         "type": "scatter",
         "x": {
          "bdata": "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",
          "dtype": "f8"
         },
         "xaxis": "x2",
         "y": [
          0.037470888913230714,
          0.04752390793797885,
          0.03235853872644521,
          0.023641745589859518,
          0.017863401992851576,
          0.013758207309302974,
          0.010730324704493721,
          0.008447258136471377,
          0.00670271615226565,
          0.0053592994751918525,
          0.004321228886023968,
          0.0035193958164227023,
          0.0029026798682613725,
          0.002432361628308925,
          0.0020782123813132816,
          0.0018159740168190207,
          0.0016726734863244976,
          0.0015451007481928473,
          0.0014552637192901837,
          0.0013926397140907045,
          0.0013491920818055206,
          0.0013189961086805372,
          0.001297841284353698,
          0.0012827501577098136,
          0.001299909506044254,
          0.0012633863542493853,
          0.0012567877961018675,
          0.001251305363633265,
          0.0012905363211029707,
          0.0012882040069575342,
          0.0012855935815099934,
          0.0012826834079246808,
          0.001279385544566395,
          0.0012756828494552026,
          0.0012202092023515946,
          0.0012152296906981345,
          0.0012619434537453923,
          0.001256388809114562,
          0.0012502979854227074,
          0.00112567936833357,
          0.001236344852836039,
          0.001112384668626703,
          0.001168193635996316,
          0.0010969996284313063,
          0.0010883539210412663,
          0.0010789751396672943,
          0.0010687838760953525,
          0.00105769646680122,
          0.001149034989277435,
          0.0010865897460520595,
          0.0010587764511915474,
          0.0010983029415476506,
          0.001035963537613776,
          0.0009674999837506075,
          0.0009479581342774822,
          0.0009711717384048978,
          0.0009896947844196527,
          0.000883759168905787,
          0.0009148756088220219,
          0.0008432904505728309,
          0.0008911059347359851,
          0.000888279013583667,
          0.0008167051073249027,
          0.0009454956459304044,
          0.0008834302041314557,
          0.0009278515148287938,
          0.0009895005034030726,
          0.0008663552627719884,
          0.0009219282757563907,
          0.000859460801292319,
          0.0008726973965433802,
          0.0008774841413253935,
          0.0008713219060044792,
          0.0008760266271660758,
          0.000881707659699835,
          0.0009192098901953548,
          0.0008671100675291867,
          0.000911998567057119,
          0.000877528844159511,
          0.0008591603409747548,
          0.0008415642997899444,
          0.0009013186715474471,
          0.0008835557215140943,
          0.0008710216765532005,
          0.0009413095673751922,
          0.0008441291261763755,
          0.0009520603073937396,
          0.0009136171475023626,
          0.0009003322437758967,
          0.0008929663645778433,
          0.0009006348036388332,
          0.000890244352030418,
          0.000886126118569068,
          0.0008997550981006027,
          0.0009577016290690044,
          0.0009824470208811393,
          0.0009495628365441723,
          0.0009425616537636592,
          0.0009154387281475356,
          0.0009090800642477621,
          0.0009581813131407741,
          0.0009540358058107967,
          0.0009505113282720321,
          0.000860750238845188,
          0.0009597997340519507,
          0.0009411864807057031,
          0.0009346003676442367,
          0.0009125795439665965,
          0.0009269600572165966,
          0.0009412531599740234,
          0.0008496050039853481,
          0.0009607426382329985,
          0.0009030589585319925,
          0.0008592814158868441,
          0.0009452803025518567,
          0.0009218262926121482,
          0.0009029107197345375,
          0.000938363858557271,
          0.0009580971207907749,
          0.0008721225247191388,
          0.000907843209222924,
          0.0009201436036357061,
          0.0008750447316887231,
          0.0009343463136491333,
          0.0008995828397275648,
          0.0008904781222911245,
          0.0009036591731878961,
          0.0008818019365632212,
          0.0009325612411238627,
          0.0009503615415765177,
          0.0009458256534372816,
          0.0008821811584578926,
          0.0009844323613640228,
          0.0010131509000110906,
          0.00102380217086449,
          0.0009387554094908328,
          0.0009504757463196614,
          0.0009045695053739323,
          0.0009556700316730947,
          0.0008635634799003665,
          0.0008810865790406853,
          0.0009833149162549336,
          0.0009952425101463595,
          0.0009562832701563112,
          0.0010076736075230396,
          0.0009679657126609457,
          0.0009483487470856146,
          0.0010088807687718628,
          0.0009011534955711943,
          0.0009578750051148282,
          0.0009325164134085694,
          0.001036371410169813,
          0.0009452975422486235,
          0.0009734547794981997,
          0.000912224759948582,
          0.0009700633923435292,
          0.0009756866225160849,
          0.001001595486731254,
          0.0009943021345044374,
          0.0009831565176830056,
          0.0010120598117124384,
          0.0009735308626946398,
          0.001035970387220899,
          0.0009283669673649989,
          0.0010700999250001756,
          0.0010749591870992023,
          0.001001444533629241,
          0.0009653834404318695,
          0.0011179040662092847,
          0.001087963169010888,
          0.000985573951268115,
          0.0010242925562707983,
          0.0010582424551671406,
          0.0010650178663602855,
          0.001043089973346317,
          0.001068535818852078,
          0.0010171662024473177,
          0.001069422015019587,
          0.001171034248838139,
          0.001105419090886938,
          0.0011314442117740875,
          0.0011129315765724954,
          0.0011675648998687798,
          0.0012344854693710084,
          0.0011673525302817436,
          0.0011490814695717295,
          0.0012681454153791324,
          0.001210738291696148,
          0.0012963933104780897,
          0.0011907682226015312,
          0.0012107831601396947,
          0.0012961852038573718,
          0.00121511043284694,
          0.001227615637787017,
          0.0012893078422199758,
          0.001339468479904428,
          0.001379254445686671,
          0.0014074703221470788,
          0.0013185861166645683,
          0.001177800487299924,
          0.001432566624618669,
          0.0013328861631643157,
          0.0014571586077231022,
          0.0016039113301062773,
          0.0013823474967334878,
          0.0015275018405956596,
          0.0016355694995984155,
          0.0015128217231950183,
          0.0015605048612016307,
          0.0016846757706396153,
          0.0016438179113065913,
          0.0016019328081830092,
          0.0017136845157904581,
          0.0017073569997737182,
          0.0017279932063060867,
          0.001770294658428186,
          0.00176648870025087,
          0.001818037675234546,
          0.0018072932888643512,
          0.0019616983315887517,
          0.002122795233158489,
          0.0018998514426251856,
          0.0019224325340725264,
          0.00208677225342499,
          0.0019962478222772372,
          0.0020819709508457067,
          0.002250717882599693,
          0.0022299728701905986,
          0.0021523460054933387,
          0.0022035633935994716,
          0.002269765232686174,
          0.0024245122021962825,
          0.00252371230022764,
          0.002489072965696374,
          0.002447971283307381,
          0.0026760317680671513,
          0.0027754353321496725,
          0.0027744855463417667,
          0.002742958752671533,
          0.002768595779037369,
          0.0027350544507956484,
          0.003011134994700775,
          0.0030749746806494186,
          0.003116740592882539,
          0.002774926804461791,
          0.0030502043182440617,
          0.0032272580001665115,
          0.0031714993653814494,
          0.0032364044301392884,
          0.0033634961079611614,
          0.0033610399568656064,
          0.003509798346081549,
          0.0036485507481967714,
          0.0033502283792443597,
          0.003667657512540893,
          0.003500564295219883,
          0.003914201674685692,
          0.00354851831248869,
          0.0039026460918912312,
          0.003914699091431816,
          0.0041484108251742605,
          0.0040520914323561395,
          0.004356793446629273,
          0.00425221097144478,
          0.004362679644380628,
          0.004428045187910103,
          0.004560262280488749,
          0.00471322523334102,
          0.004630200491344606,
          0.00482273424866805,
          0.004693836709047903,
          0.004607848609743215,
          0.005024614888120249,
          0.005278663246669131,
          0.005082810486052705,
          0.005394906861018803,
          0.005168990864938078,
          0.004994710052867385,
          0.005665714014739662,
          0.0056969775950071674,
          0.0060277458480203355,
          0.005775095702026052,
          0.006142937059976684,
          0.00578524669189313,
          0.00563573915067705,
          0.0059618727411519514,
          0.005976467998352132,
          0.006769950621500487,
          0.006464313638032369,
          0.007154281318636066,
          0.005940842693660293,
          0.007002749499165843,
          0.006851649223719601,
          0.0064640509588216825,
          0.006892537739178525,
          0.007151373010351653,
          0.006813547143178421,
          0.0070746572259752505,
          0.007372543096921396,
          0.007722266098207476
         ],
         "yaxis": "y2"
        },
        {
         "line": {
          "dash": "dot"
         },
         "mode": "lines+markers",
         "name": "stderr amplitude",
         "type": "scatter",
         "x": {
          "bdata": "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",
          "dtype": "f8"
         },
         "xaxis": "x2",
         "y": [
          0.03853009217379888,
          0.03296504962480191,
          0.02461117044626331,
          0.01896181909940866,
          0.014814966988927475,
          0.011675697424268126,
          0.009263381150710251,
          0.00739557777016515,
          0.0059432568211219795,
          0.004812291939722721,
          0.003932452547661788,
          0.003250263892561811,
          0.002724619747718528,
          0.00232312677866942,
          0.0020199746621447265,
          0.0017941233549921916,
          0.0016557463808186193,
          0.0015329370486542406,
          0.0014455070490210493,
          0.001384125335633386,
          0.0013413478306712717,
          0.001311478001790929,
          0.0012903456843242254,
          0.0012750298804009967,
          0.001231269341164945,
          0.001254709473655729,
          0.0012475409114179067,
          0.0012415133744203962,
          0.0012217798372993617,
          0.0012195795823217734,
          0.0012171624211539047,
          0.0012144692329406359,
          0.0012114540996488986,
          0.001208091025572798,
          0.0012086602777291633,
          0.0012037218331544908,
          0.0011956433428526156,
          0.0011906238562605657,
          0.0011851197735727951,
          0.0011780499594266254,
          0.0011725149030695162,
          0.001163827646688161,
          0.0011582255234376415,
          0.0011471566835082885,
          0.0011377478380260452,
          0.0011275320678833982,
          0.0011164354180253527,
          0.0011043799760061693,
          0.0010934087775712892,
          0.0010791920271317423,
          0.001062387023003403,
          0.001047164247096268,
          0.0010290851966581048,
          0.0010079117613464902,
          0.0009876079071372563,
          0.000967205744961274,
          0.0009469823738229132,
          0.0009239591263131579,
          0.0009055262027398062,
          0.0008892373223835089,
          0.0008802157189199306,
          0.0008782282748118073,
          0.0008840786186845026,
          0.0008998626165989891,
          0.0009166706554072698,
          0.0009309286974654285,
          0.0009403393591114931,
          0.0009368447573409963,
          0.0009270793697794838,
          0.0009095456754450648,
          0.0008939947695901263,
          0.0008823336311607212,
          0.0008839000331170991,
          0.0008955145854158901,
          0.0009122716075438241,
          0.0009235620354108055,
          0.0009199215555123756,
          0.000904867514768735,
          0.0008905561274948364,
          0.000884640164807104,
          0.0008955539738645288,
          0.0009108976274532773,
          0.0009173941453935793,
          0.0009056686346223349,
          0.0008897418132815044,
          0.0008900747081741931,
          0.0009056717402576295,
          0.000914567251330755,
          0.0009030412793369713,
          0.0008898889307189922,
          0.000899500321490324,
          0.0009118109969311537,
          0.0009037396888235549,
          0.0008920700593183665,
          0.0009039733818790936,
          0.0009115387185478918,
          0.0008967390876213168,
          0.0008998770897081365,
          0.0009109386563486869,
          0.0008987897690663881,
          0.0009021782396469473,
          0.0009103537115886199,
          0.0008984409207849924,
          0.0009083962546769444,
          0.0009053579167458111,
          0.0009032614941430842,
          0.0009106875249571587,
          0.0009028539546881724,
          0.0009124773126803102,
          0.0009039477451417333,
          0.0009117117894254376,
          0.0009053539853044646,
          0.0009110269088306491,
          0.0009110999459284088,
          0.0009075900738075678,
          0.0009146050379262541,
          0.0009116053840547603,
          0.0009105134511772987,
          0.0009171935997180822,
          0.0009156470750397187,
          0.0009121992685800155,
          0.0009129877712954933,
          0.0009166890670839415,
          0.0009201018401959902,
          0.0009211220060128748,
          0.0009231899212708809,
          0.0009222438605069642,
          0.0009249509790444855,
          0.000925239498918844,
          0.0009273190968259844,
          0.0009261675370359131,
          0.0009252775223537933,
          0.0009255575293840812,
          0.0009302338559976856,
          0.0009316991010804095,
          0.0009301241850834102,
          0.0009352846394743242,
          0.0009351197967623372,
          0.0009400599958712899,
          0.0009373264935796155,
          0.0009422702867219013,
          0.000943915081167854,
          0.00094732923549346,
          0.0009459873882291965,
          0.0009475245790550435,
          0.0009526983329547909,
          0.000954508238410436,
          0.0009567497261718621,
          0.0009588491303455543,
          0.0009598179002985648,
          0.0009645136499174441,
          0.0009681577833979968,
          0.0009700691820642935,
          0.0009761176862864227,
          0.000975964336981507,
          0.0009818943957128612,
          0.0009830627073480142,
          0.0009868841857911819,
          0.0009891127481840203,
          0.0009932477139163358,
          0.000999796178545453,
          0.0010008570620919967,
          0.001009358006748808,
          0.0010109522486362954,
          0.001017772954294973,
          0.001020857809444394,
          0.0010280111345306335,
          0.0010310831407498195,
          0.0010355596213379008,
          0.001041148225298463,
          0.001047728758708713,
          0.0010575893589742302,
          0.0010630568521110305,
          0.001066720276328956,
          0.001074663794106477,
          0.0010804621632342938,
          0.0010922130085981973,
          0.0010959230191732675,
          0.0011040624550580443,
          0.0011160770409831748,
          0.0011228885195213418,
          0.0011306867758302988,
          0.0011448131497262773,
          0.0011548542633539438,
          0.0011654414355937977,
          0.0011750415481157298,
          0.0011826770866421067,
          0.0011993953314053684,
          0.001210333536339531,
          0.0012231025350966285,
          0.0012362156399926948,
          0.0012472440931899698,
          0.0012611913726175805,
          0.00127577617237958,
          0.0012946857384036157,
          0.001312084941243281,
          0.00132402476210956,
          0.0013454900463205778,
          0.001363731663611769,
          0.0013789457856045004,
          0.0013981210369726498,
          0.001419569080060345,
          0.001444174634796072,
          0.0014626996582882631,
          0.0014897889886769406,
          0.001509253000781892,
          0.0015335472781885403,
          0.0015604034050647174,
          0.001586940718914925,
          0.0016140450292802912,
          0.0016422900731354933,
          0.0016727868692287635,
          0.0017028015802130968,
          0.0017389187923724566,
          0.0017668835351184946,
          0.0017997199863417138,
          0.0018348856387279426,
          0.0018748575392112214,
          0.001906855670742004,
          0.0019484267123655984,
          0.0019814775187160373,
          0.002020154901506219,
          0.0020083407228552595,
          0.0020519555122744844,
          0.0020892872335393445,
          0.0021238177335565524,
          0.0021702542593365157,
          0.0022098873558728587,
          0.00224727290621535,
          0.002289016965136323,
          0.002333687550104768,
          0.002377001744497835,
          0.0024213619647849125,
          0.00246815795538575,
          0.002514741038519829,
          0.0025666110978104,
          0.0026097071900004366,
          0.002662365300793426,
          0.0026718252865351043,
          0.002716220446494464,
          0.002834164640316436,
          0.0028668782146996216,
          0.0029204574223965054,
          0.002968447179578527,
          0.0030244046765023195,
          0.0030871049078853427,
          0.003137710691017806,
          0.0031962440867738828,
          0.0032598630847545888,
          0.003319831906499189,
          0.003381143070155268,
          0.003435026882960111,
          0.003498551484617877,
          0.003561349580001183,
          0.0036272556041911765,
          0.0036929743486520308,
          0.003743268718413246,
          0.0037932720055894437,
          0.003918450609623279,
          0.003962555469318491,
          0.004053877379257164,
          0.004113736626086503,
          0.004177194605632085,
          0.004541768244744926,
          0.0043262981846197675,
          0.004409244898586084,
          0.0044868119266005405,
          0.00454715273061288,
          0.004677728608927785,
          0.004758245899976938,
          0.004815896562146744,
          0.004878727796073575,
          0.004979613100838612,
          0.005049860351377771,
          0.005125052869095522,
          0.005193399408127516,
          0.005337272632988068,
          0.005383738649609768,
          0.0054935543951053645,
          0.005581716180743314,
          0.0056247842407922315,
          0.005752513078604626,
          0.00584339535776317,
          0.005919067799737226,
          0.006009219311850402,
          0.006084428515760089,
          0.006212669328219531,
          0.006307969469867564,
          0.006380230440370455,
          0.006455541090920694,
          0.006580890814728495,
          0.006672405431438276,
          0.006751845734529752,
          0.006837760075864944,
          0.006956298312986829,
          0.007059666547007385,
          0.007125662903776167,
          0.007238494760296046,
          0.007341433211637168,
          0.007438202742248244
         ],
         "yaxis": "y2"
        },
        {
         "mode": "lines+markers",
         "name": "RMSE damping_rate",
         "type": "scatter",
         "x": {
          "bdata": "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",
          "dtype": "f8"
         },
         "xaxis": "x3",
         "y": [
          1.1482956941404703,
          1.03953517090361,
          0.9224279299280836,
          0.8182119310342888,
          0.7254991813710635,
          0.6430254849692225,
          0.5696768304259091,
          0.504449273019041,
          0.4464555573116889,
          0.3949010546002288,
          0.3490830971153877,
          0.3083701481076291,
          0.272204597057601,
          0.24008557431826164,
          0.21156906044404072,
          0.18625977617854717,
          0.16271660641078428,
          0.14287632715731446,
          0.12529242913355612,
          0.10971583817886843,
          0.09592502002178593,
          0.08372294783630298,
          0.07293414335855264,
          0.06340167664159312,
          0.054138308785457535,
          0.04756687259277974,
          0.041030237705082254,
          0.03527968189882838,
          0.029496277827162017,
          0.02509384070732468,
          0.02124425223663743,
          0.017887866213116558,
          0.014971053153538022,
          0.012447615191357784,
          0.010848284434167518,
          0.008967435301711322,
          0.006871839980210003,
          0.005586263374321945,
          0.004557286426651847,
          0.00401195013371996,
          0.003226665419924351,
          0.002816887715514082,
          0.002790446918051851,
          0.0024252677350545394,
          0.0024199576007223503,
          0.0024699470542892507,
          0.002536903607384121,
          0.00259752717789497,
          0.0028664646384436022,
          0.0026685890770009033,
          0.002748076704903276,
          0.0027545382991995917,
          0.0025047419961390775,
          0.0024680104492631975,
          0.002363735545937284,
          0.002293003420515977,
          0.0021440384091997314,
          0.0019528615762506008,
          0.0018177441005413435,
          0.001638435944531943,
          0.0014997553225878889,
          0.0013766068396571561,
          0.00127627236630618,
          0.0013726645262679897,
          0.0012636363071363954,
          0.001289196147814394,
          0.0013810837690500638,
          0.0011975293739010494,
          0.0012188859470999255,
          0.0010755289202558124,
          0.0010021655211674735,
          0.0009731872669640829,
          0.000892392241248171,
          0.000911864374323721,
          0.0009191508919318724,
          0.0009575039006964618,
          0.0008764063224519741,
          0.0008234138151800533,
          0.0007665088309033939,
          0.0007055373626324933,
          0.0006688508385251599,
          0.0006932918586583721,
          0.0006964809259320446,
          0.0006458247539940532,
          0.0006367106459671864,
          0.0005650097196845764,
          0.0005965955779267416,
          0.0005766032817521653,
          0.0005391945757424266,
          0.0005082981456683989,
          0.0004934542363826086,
          0.0004590235097625708,
          0.0004399700638526805,
          0.00044484409411488956,
          0.0004286871393017425,
          0.0004340828549995725,
          0.0004077773374336105,
          0.0003857216930188172,
          0.0003666166537343356,
          0.0003450012693612289,
          0.0003476868894551435,
          0.00035570849785759325,
          0.0003166982572010044,
          0.00028591560348998257,
          0.00029327036187028297,
          0.0002907957101045457,
          0.0002737010738055689,
          0.0002528704360531336,
          0.00025880625041648365,
          0.00023692911955496527,
          0.00021548957972016144,
          0.00023189158598379894,
          0.00021198805780950044,
          0.0002118764962748119,
          0.0002013802354111023,
          0.0001989548766598614,
          0.0001843747859137534,
          0.0001753534382716697,
          0.00017397904957223423,
          0.00016693676821276487,
          0.0001560280527389103,
          0.00015636012040682847,
          0.0001429517345979955,
          0.00014237738948180996,
          0.00013871210953995576,
          0.00013562764919736498,
          0.00012538362406044732,
          0.00012409592110724615,
          0.0001169368037500338,
          0.00012109939040477594,
          0.00011646188010958763,
          0.00010453695785883496,
          0.00010963141408157565,
          0.0001006390978232934,
          0.0001051596924583038,
          0.0000897633103220657,
          0.00008581099477824291,
          0.00008743881795350283,
          0.00008747946422748852,
          0.00007666044832487606,
          0.00007844289108549625,
          0.00008259702965387415,
          0.00007622861841472748,
          0.00007582121862706832,
          0.00007146670551713417,
          0.00006753388021945393,
          0.00006205852145961906,
          0.00006732317349440999,
          0.00005382029810424736,
          0.00005503989354872122,
          0.00005606122779346803,
          0.00005774613584771986,
          0.00005220027864000671,
          0.00005218645804234124,
          0.00004592328100202522,
          0.00004741888012539031,
          0.000044382596156474524,
          0.000044693955708473156,
          0.000043834950240526484,
          0.000043238009066195164,
          0.00004178887658744273,
          0.0000414632322751512,
          0.00003987942360387077,
          0.000034988187165451646,
          0.000040019719256537444,
          0.00003690434606651405,
          0.000034548752854302054,
          0.00003168839079883408,
          0.00003562328802263221,
          0.000034149740972383604,
          0.000029753066943663257,
          0.000029935129723606786,
          0.00003073160138302724,
          0.000029264017251862055,
          0.000028834727394388397,
          0.000027911929174127537,
          0.0000258394923489352,
          0.000026992780068513644,
          0.000027354444269963506,
          0.00002492117030377789,
          0.000026111691979674866,
          0.000025264845033904332,
          0.00002570265384465625,
          0.000025341483415663392,
          0.000024075449231227395,
          0.000022872328856949502,
          0.000022495591819860222,
          0.00002280965457828045,
          0.00002482649662405578,
          0.000022195399770491288,
          0.000021246423339574316,
          0.00002154638337756892,
          0.000022472682759040197,
          0.000021765147571155365,
          0.000022203330239858765,
          0.000021889598493331893,
          0.0000229741460943921,
          0.00002153512602913966,
          0.00002182967611347084,
          0.00002054401266172203,
          0.000022160540337186396,
          0.000022004480272128875,
          0.00002240459388681024,
          0.000022703426497737307,
          0.000021894957100712284,
          0.00002174049875757337,
          0.000022000503302663465,
          0.00002376638820833375,
          0.000022858147132253572,
          0.000023921133985944874,
          0.000022836420255104343,
          0.000024703288753857787,
          0.000027236064052841642,
          0.000023303377141345874,
          0.000024450953722475653,
          0.000026163348491562552,
          0.000025606309774499802,
          0.000025467532419922642,
          0.00002613469378351017,
          0.000027312656724181863,
          0.00002809907775272189,
          0.000028384477116194756,
          0.00002618581039138343,
          0.000028179796713642686,
          0.000027317984033835993,
          0.00003105704574922153,
          0.000033192763692098374,
          0.000033321821855267355,
          0.00003106063766057089,
          0.000031415703187739486,
          0.00003413322450313228,
          0.00003354352805114282,
          0.000036389367929119436,
          0.00003584764101690484,
          0.00003875507232605793,
          0.00003665508706279269,
          0.00003755840956700824,
          0.00003980219597281446,
          0.0000396129524919899,
          0.000038697947896404414,
          0.00003850964274697176,
          0.00004296329292976588,
          0.00004741281559239633,
          0.00004385106794133958,
          0.00004292629590190328,
          0.00004189004894803961,
          0.0000477492566649072,
          0.000044785331441575234,
          0.000045497816905765873,
          0.0000451754860096471,
          0.000047700829825077184,
          0.000052257904631654015,
          0.000051611086576751544,
          0.000050719866258286396,
          0.00005284770041327587,
          0.00005235612644873449,
          0.000057305099494310266,
          0.000052018253849977865,
          0.00005552912781070524,
          0.0000577865112013576,
          0.00006151128386489543,
          0.00005747124662406547,
          0.00006146056766647082,
          0.00017307163368534347,
          0.00006372525289295443,
          0.00006621562500504056,
          0.00006113939532457117,
          0.0000664604900265162,
          0.00006929999336149473,
          0.00007346061917505115,
          0.00006989301313128559,
          0.00007231317517243072,
          0.0000684648640177599,
          0.00006915212363110053,
          0.00007890812810039452,
          0.00007033891327577848,
          0.00008004844258246081,
          0.00007214808244329429,
          0.00007921711900749594,
          0.00008525596417305044,
          0.00008491666451144177,
          0.00008863563983276206,
          0.00008840277936143061,
          0.00009094165243447589,
          0.00008840662496262329,
          0.00008803212079354007,
          0.00009456937009380838,
          0.00009913700162041552,
          0.00009103362739082543,
          0.00009912538125361689,
          0.00009647381291244462,
          0.00010169022586154383,
          0.00010140118849548959,
          0.0001034299200674451,
          0.00010855427522245719,
          0.00010125528482075305,
          0.00010983435507323026,
          0.00011430932186949267,
          0.00011333417128906053,
          0.00011110365927423179
         ],
         "yaxis": "y3"
        },
        {
         "line": {
          "dash": "dot"
         },
         "mode": "lines+markers",
         "name": "stderr damping_rate",
         "type": "scatter",
         "x": {
          "bdata": "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",
          "dtype": "f8"
         },
         "xaxis": "x3",
         "y": [
          1.209067497649397,
          1.072867796247757,
          0.9516539878092797,
          0.8438469490363152,
          0.7479714007363271,
          0.662718761925288,
          0.5869148360085064,
          0.5195342342781906,
          0.4596420350512535,
          0.4064158064081249,
          0.35912399239371834,
          0.3171149920531593,
          0.2798071275092405,
          0.24668327947521818,
          0.2172830702267975,
          0.1911964152028519,
          0.16802953459539638,
          0.1475166657040778,
          0.12933777234231875,
          0.11323507652913681,
          0.09897916923832217,
          0.08636606241141162,
          0.07521376573566506,
          0.06536049267499398,
          0.05666381832648736,
          0.048991488934012124,
          0.04223368561243521,
          0.03628793315299037,
          0.031066675751629986,
          0.02648504720687167,
          0.022474876431951164,
          0.01897347949494487,
          0.015925552348234947,
          0.013282781450813252,
          0.01100126371602095,
          0.009048579079864241,
          0.007395107474144168,
          0.006012740349489235,
          0.004885753167902949,
          0.003994043655267692,
          0.003351900636899157,
          0.002915211533585704,
          0.002680621253181231,
          0.002579887625584326,
          0.0025744220744820046,
          0.002612761139851063,
          0.002662416305455661,
          0.0027037771736205763,
          0.0027322732114689933,
          0.002730518670321966,
          0.002701150943550617,
          0.002653672701671385,
          0.0025782104632585193,
          0.002477070601087338,
          0.002361294817168346,
          0.0022302597967226835,
          0.0020861704350428932,
          0.0019247240096125892,
          0.001765262234717938,
          0.001607698238135234,
          0.0014704784739908597,
          0.0013650213454688438,
          0.0013043620433808923,
          0.0012944554846910442,
          0.0013118425800468646,
          0.001333360887329895,
          0.0013388795059232695,
          0.0013068008625547185,
          0.0012441787875870742,
          0.0011521569957279683,
          0.0010526551268301358,
          0.0009634565830498689,
          0.0009130160305569948,
          0.0009050948000650361,
          0.0009206890251088906,
          0.0009256314426855516,
          0.0008950826547340618,
          0.0008313541993684665,
          0.0007590329310586308,
          0.000708016818271176,
          0.0007002562565104013,
          0.0007111633434108812,
          0.0007029827931780953,
          0.0006575246339313177,
          0.0005995545086828125,
          0.0005715672146424574,
          0.0005779829135932888,
          0.000575263132344506,
          0.0005369629132860525,
          0.0004928563039195965,
          0.0004855971945314403,
          0.0004891918316186401,
          0.0004614695773936948,
          0.00042497823311234953,
          0.0004229875870315238,
          0.0004192564593575769,
          0.0003855473677601919,
          0.00037192352987271116,
          0.0003729463488878152,
          0.0003455065784688382,
          0.0003337794738178116,
          0.0003316605690511948,
          0.00030596668486260593,
          0.0003041825234268745,
          0.0002900761241704524,
          0.00027658553119870696,
          0.0002728025521947612,
          0.0002550712805575675,
          0.00025371354448816205,
          0.00023682162770791566,
          0.00023462435437220216,
          0.00022069045718354097,
          0.0002160183724746233,
          0.00020790767071269026,
          0.0001973699158611965,
          0.00019479084378757895,
          0.00018471428080275233,
          0.0001771430919750433,
          0.00017412350378563188,
          0.00016687613385071005,
          0.00015852108448035688,
          0.00015288221158854404,
          0.00014887691114919577,
          0.00014462182230785917,
          0.00013957182890451448,
          0.00013462113163065098,
          0.00012944657407238917,
          0.00012508101617408974,
          0.00012063505079417811,
          0.000116494482866757,
          0.00011183128327375509,
          0.0001070978633216755,
          0.00010305759269037758,
          0.00010049318071898485,
          0.00009703585603543443,
          0.00009276075411942305,
          0.00009064146153206649,
          0.00008672567863470944,
          0.00008466174586372409,
          0.00008084289187567302,
          0.00007863067856598232,
          0.00007619458723011841,
          0.00007354790129462298,
          0.00007067648076563009,
          0.00006825236037107602,
          0.00006622603325642023,
          0.00006411940284544086,
          0.00006219127053918132,
          0.000060114727987023197,
          0.000057874055935660924,
          0.00005639834674789496,
          0.000054426940149811256,
          0.000052827002341072256,
          0.000051378151435644394,
          0.00004955544283708944,
          0.00004815450236711313,
          0.00004663547230651931,
          0.00004526583021775552,
          0.000043729394461283625,
          0.000042571444413461045,
          0.000041329163820456736,
          0.0000400757228785563,
          0.00003913381767689494,
          0.00003791164630413756,
          0.00003690512663979856,
          0.00003590767094605607,
          0.00003496718998749639,
          0.000034030575236672624,
          0.000033134565498122624,
          0.00003227256082283057,
          0.000031465974135329053,
          0.000030861477157068063,
          0.000030106040009844517,
          0.00002933028936304995,
          0.000028698449986123144,
          0.000028007138642651367,
          0.000027527681510695194,
          0.000026864270931179444,
          0.000026337235759991586,
          0.000025929436106964474,
          0.000025421152978270333,
          0.000024932359341842538,
          0.00002463579880263908,
          0.00002424076676190591,
          0.000023896509461569214,
          0.000023521798754152773,
          0.000023144753455657854,
          0.000022979820958562593,
          0.000022699053341657884,
          0.000022477685342874565,
          0.000022271383781550292,
          0.000022054595785344443,
          0.000021893277009872264,
          0.000021771128479553306,
          0.000021728438220628902,
          0.000021684586279348204,
          0.000021557197210284063,
          0.000021607590585848707,
          0.00002161438375794752,
          0.00002159502420511835,
          0.000021645184272997398,
          0.00002175180202985881,
          0.000021915564584704274,
          0.00002200312462646939,
          0.000022237510799672824,
          0.00002236476289345044,
          0.000022574151152469126,
          0.00002284284558958695,
          0.000023113146538528552,
          0.000023409226325209553,
          0.00002372979946065825,
          0.00002408798934090531,
          0.000024456400745108055,
          0.000024920934006845134,
          0.000025268274564566862,
          0.000025699912845900468,
          0.000026169216500392354,
          0.000026721626976663252,
          0.000027153295640048754,
          0.00002771866165378927,
          0.00002657579597934651,
          0.000028720704699341452,
          0.000028541840857870816,
          0.000029188981700308178,
          0.000029724247984282237,
          0.00003021293848692902,
          0.000030885217657422826,
          0.000031451451115170644,
          0.00003199849550918084,
          0.000032583398086968916,
          0.000033241791126944414,
          0.000033867808096200144,
          0.000034503464665730716,
          0.000035190266953646167,
          0.000035856603275526665,
          0.00003661248702314747,
          0.00003722425066192951,
          0.00003799031839826122,
          0.000038131256523358536,
          0.000038760475535824024,
          0.0000404779472776097,
          0.000040970534583443616,
          0.00004174903116866957,
          0.00004247272267994032,
          0.00004330107288599021,
          0.000044204729270420906,
          0.00004496050123157925,
          0.00004581977003724443,
          0.00004673230360304693,
          0.000047546137596490674,
          0.00004810144526433429,
          0.00004931166133284906,
          0.000050278749652069196,
          0.00005122356021047354,
          0.00005221320250780702,
          0.00005319321183979841,
          0.00005394602861682978,
          0.000054621722790011556,
          0.0000565298849218949,
          0.00005724271857070714,
          0.00005862598506067152,
          0.00005952964666802037,
          0.00006044396171039463,
          0.00016771551954842886,
          0.0000627586772055161,
          0.0000640415112689659,
          0.00006522600369919595,
          0.00006612419608413383,
          0.00006806780493467559,
          0.00006944089775437328,
          0.00007031554312459722,
          0.00007130678219985858,
          0.00007225813610358566,
          0.00007407474965226149,
          0.00007525576161273197,
          0.00007614185828343512,
          0.00007861782334358417,
          0.00007940167024398506,
          0.00008013848844943855,
          0.00008254851463086286,
          0.00008337041694606511,
          0.00008434205733150169,
          0.00008702052265891343,
          0.00008806845075249673,
          0.00008969076334974548,
          0.00009106953129975978,
          0.00009312460935707627,
          0.00009477756867821887,
          0.00009490103872157505,
          0.00009757580519974615,
          0.00009946150664693121,
          0.00010101661810878281,
          0.00010246486373594912,
          0.0001040215824471384,
          0.0001065405395397364,
          0.00010471544318759389,
          0.00010945801534421533,
          0.00011194240520490006,
          0.00011290086299158312,
          0.00011310447751023795
         ],
         "yaxis": "y3"
        },
        {
         "mode": "lines+markers",
         "name": "RMSE phase",
         "type": "scatter",
         "x": {
          "bdata": "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",
          "dtype": "f8"
         },
         "xaxis": "x4",
         "y": [
          0.20049422444329765,
          0.18567439262653307,
          0.16456846260468,
          0.14622613811147217,
          0.13014458713608382,
          0.11597170343029053,
          0.10344152735780388,
          0.09233832773830138,
          0.08248321343841022,
          0.07372463909471158,
          0.06593340637940853,
          0.05899668004650519,
          0.05281696493687567,
          0.047308361619892256,
          0.04239552332165487,
          0.03801229128643475,
          0.03423088694377149,
          0.030720658732159054,
          0.027586307492975602,
          0.024786455735205146,
          0.02228446767190026,
          0.0200477882652272,
          0.01804762324429166,
          0.016257909705595645,
          0.014712035217329953,
          0.013221725592806354,
          0.011936535112248757,
          0.010784472896067194,
          0.009802718857281206,
          0.008872370544669194,
          0.008035953440127678,
          0.007283760362367541,
          0.006606366682866301,
          0.005995868004771164,
          0.005416671311804784,
          0.0049241564272241925,
          0.004498928169497525,
          0.004092357139583853,
          0.003724121567978981,
          0.003449134999778305,
          0.003086998491091443,
          0.0028613758973556913,
          0.002572038879547986,
          0.0023774973028554895,
          0.0021683876492938053,
          0.0019785483554079146,
          0.0018063958588856737,
          0.00165063806497631,
          0.001472291056220318,
          0.0013966869109049683,
          0.0013221544146353496,
          0.0011451650801867733,
          0.0011282528539543828,
          0.001023969047288904,
          0.0009700521284854656,
          0.0009916250631332596,
          0.0009169584450817802,
          0.000895968645966388,
          0.0009689850996979213,
          0.0009071852863824632,
          0.000997958474049087,
          0.0010123390593096725,
          0.0009505508575214206,
          0.0010154725009245858,
          0.0009860457286967465,
          0.0009671376978635819,
          0.000958147406966903,
          0.0008928379586116487,
          0.0008800549728122233,
          0.0008818369268397406,
          0.0009145278065319213,
          0.0008866504956844771,
          0.0009538176358724604,
          0.0008934039523036284,
          0.0008821492010814114,
          0.0009140708715688259,
          0.0008663815864539509,
          0.0008846923587228245,
          0.0009023180765705697,
          0.0009536548576857985,
          0.0009370754694990303,
          0.0009007008604398927,
          0.000857121787872578,
          0.0008531759800081062,
          0.000900886353352868,
          0.0008960713425289536,
          0.0008970630185670121,
          0.0008247444477294528,
          0.0008496472415661211,
          0.0009040806453315703,
          0.0009175287404680311,
          0.0008926582665706045,
          0.0008891223478901171,
          0.0009353144842593935,
          0.0009216988076756765,
          0.00090905674968954,
          0.0009638979849589576,
          0.0009254845352694915,
          0.0009166248855928705,
          0.0009093651803354615,
          0.0009149421685706956,
          0.000874415562933256,
          0.0009878497280055181,
          0.0010092618376184891,
          0.0009756284609559711,
          0.0009140369790176557,
          0.0008867159311208893,
          0.0009346927462694712,
          0.0009237606587050847,
          0.0009179796963769231,
          0.0009458862355792585,
          0.0009133048878015383,
          0.0009196646309645908,
          0.0009616918388148705,
          0.0009671539016624268,
          0.0008798722293862668,
          0.0009967294517771532,
          0.0009409615590413438,
          0.0009618126895107682,
          0.0009429290462596256,
          0.0009346447878181767,
          0.0009760826120001023,
          0.0009497619671590471,
          0.0008905116027615511,
          0.0008932934325326884,
          0.0009399333463401019,
          0.0009335312608176076,
          0.0008961930074562599,
          0.0008880904268368136,
          0.0009253899910309652,
          0.0008966664203474455,
          0.0008671420468752267,
          0.0009387628455936122,
          0.0008964082924677818,
          0.0009084705417494303,
          0.0009643732354233899,
          0.0009379376808360474,
          0.0009054575233843213,
          0.0008806368680155579,
          0.0009240708247940488,
          0.0008901861399866219,
          0.0010093163009486147,
          0.0009186406205929611,
          0.0009108817679691145,
          0.0008932906194659926,
          0.0009831571797778889,
          0.0009275496295012679,
          0.0009602696453601177,
          0.0009620220842321062,
          0.0009753193617223641,
          0.0009432766812389827,
          0.0010356409788998652,
          0.000989695909054597,
          0.0009542779496886305,
          0.0009655916906222553,
          0.0010370313423557684,
          0.0010554730579152155,
          0.0010139291890078684,
          0.001010850027169091,
          0.0010171393148818732,
          0.001058154405390748,
          0.0010245803438051985,
          0.0010322052059159102,
          0.0010262025713240527,
          0.001049342726817972,
          0.0009667651891996074,
          0.0010114533457717925,
          0.0010134758154386175,
          0.0010810161709251418,
          0.0010352167790618225,
          0.001041194181038641,
          0.0010509030675849974,
          0.0011002339436198888,
          0.001065603999488766,
          0.0010539133221586568,
          0.0011111165618103607,
          0.0010923367779643726,
          0.0011627558708591885,
          0.0011180603312284493,
          0.0010951453743619595,
          0.0010342202102193627,
          0.0011316758397552989,
          0.0011367771871814,
          0.0010932931365694389,
          0.001141900722053738,
          0.0010853941532720823,
          0.001142507473397518,
          0.0011502076438518487,
          0.0012368343123127573,
          0.0012258127039191044,
          0.0011945353802523034,
          0.0012435608753717574,
          0.0013409121415881562,
          0.00126863198075547,
          0.001343270748930786,
          0.0013759125519073752,
          0.0013060960969343727,
          0.0012771773486663573,
          0.0013411079203294336,
          0.0013063595298051774,
          0.0014620630466437637,
          0.0014244716856727168,
          0.0014922116159143994,
          0.0014777208915964176,
          0.0015141540224041779,
          0.0016103286970496889,
          0.0016124724193261062,
          0.0014794140594677403,
          0.0015572427751092196,
          0.0015680599412474158,
          0.0017229629600215692,
          0.0015212003605731966,
          0.001768861806250902,
          0.001763071318359681,
          0.0017789256479888147,
          0.0017764554159199627,
          0.0017227133723253267,
          0.0018837355194828735,
          0.001911312905123743,
          0.0019969473818527905,
          0.0031747554376117823,
          0.0020798020316883372,
          0.0021159397830522596,
          0.002107563061204745,
          0.002233816475441517,
          0.002189875144499802,
          0.0021900990868732517,
          0.0023881521032355856,
          0.0022389411604233846,
          0.0023230926234123067,
          0.0024340165369471766,
          0.0022995396133710655,
          0.0023805048513847013,
          0.0024440023274856473,
          0.0023676859491899727,
          0.0024318859581957137,
          0.0026150648123605628,
          0.0026747053752182465,
          0.0028645167301967317,
          0.0028267701403103325,
          0.0029373936167368655,
          0.0031038518831930447,
          0.002916515749522979,
          0.003223466961231198,
          0.0029641123181912746,
          0.0030486825234657513,
          0.0034729930111558594,
          0.003374785315680085,
          0.0035445388179177538,
          0.0033109763209728253,
          0.0037845441120222868,
          0.003648317325126548,
          0.003774425432395277,
          0.0035857947608188665,
          0.0036731231837451995,
          0.003811756558160234,
          0.003609604374254971,
          0.003994947337329984,
          0.00444529665995589,
          0.004319125502551572,
          0.004178665236147403,
          0.004302642160919995,
          0.0048023464054083465,
          0.041271774835198546,
          0.004919822002393334,
          0.0045636518039628,
          0.004956053380608967,
          0.004777885579922424,
          0.005155171710304203,
          0.004936395710709406,
          0.004959635805955433,
          0.005180533026025379,
          0.005574274891438579,
          0.005260509029494077,
          0.005396511645315124,
          0.005316212549532823,
          0.0060752338493904766,
          0.005757760768461496,
          0.006439348682801508,
          0.006050228860291385,
          0.006594009224370168,
          0.007008755156923091,
          0.006647097148044507,
          0.006724855872811805,
          0.007112481199874525,
          0.0068692846881437605,
          0.006959439733313208,
          0.00730404938027995,
          0.007973215668409502,
          0.007938818257940117,
          0.007820688053847058,
          0.008074228548106384,
          0.008126399131068546,
          0.008117074752621906,
          0.008031341817442413,
          0.0114168599246798,
          0.00847943110719052,
          0.008711601871945807,
          0.00945341077145261,
          0.011702453062004523
         ],
         "yaxis": "y4"
        },
        {
         "line": {
          "dash": "dot"
         },
         "mode": "lines+markers",
         "name": "stderr phase",
         "type": "scatter",
         "x": {
          "bdata": "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",
          "dtype": "f8"
         },
         "xaxis": "x4",
         "y": [
          0.21495195784501656,
          0.19170186259750086,
          0.17017044562232206,
          0.15133128362494858,
          0.1347454054982742,
          0.12009268247558676,
          0.10711702254365821,
          0.09561012330111908,
          0.08539118955800253,
          0.07630679241698823,
          0.0682248174283136,
          0.061029859533385154,
          0.05462080545536502,
          0.04890893059133997,
          0.043816205696953124,
          0.039273553366869024,
          0.035267425625542095,
          0.031639874037152634,
          0.028401374174070498,
          0.025509123884182392,
          0.022925127110053824,
          0.020615706637927063,
          0.018550838478096195,
          0.01670384288102272,
          0.01500597082658239,
          0.013571374052743602,
          0.012245958130490217,
          0.011058159476631878,
          0.009973852226447871,
          0.009021973367926903,
          0.008167051653938655,
          0.00739867844811882,
          0.006707530773541084,
          0.006085395558308981,
          0.005529582541865708,
          0.005022971367989929,
          0.00456327480775193,
          0.004151118799180772,
          0.0037783780804057027,
          0.0034354539618618746,
          0.003135208286712779,
          0.0028529810397873367,
          0.0026065371566796574,
          0.00237356904988406,
          0.0021665680903363454,
          0.0019788638292985643,
          0.0018089650516349943,
          0.0016556826063613983,
          0.0015212710660659917,
          0.0013982621040218844,
          0.0012891057275672367,
          0.0011979722834471714,
          0.0011196798958069628,
          0.001055252996437384,
          0.0010084416568681704,
          0.0009780258032392583,
          0.000963057995508481,
          0.0009581641951986547,
          0.0009673643035286154,
          0.0009824560354382197,
          0.0010021820837309869,
          0.001018611267046384,
          0.0010262463947010828,
          0.0010250653856198478,
          0.0010078354552708786,
          0.0009802319183675626,
          0.0009518027247610861,
          0.0009255405210641443,
          0.0009149495302102898,
          0.000917381171504623,
          0.0009335445205523303,
          0.0009501672684389342,
          0.0009611898909053784,
          0.0009562165773098475,
          0.0009380947273837844,
          0.0009167286546711606,
          0.0009035850937559039,
          0.0009075211112239464,
          0.0009255463521364715,
          0.0009372893088966383,
          0.0009338276952469219,
          0.0009147546242568794,
          0.000901492119597462,
          0.0009053833193024549,
          0.0009209123649619736,
          0.0009275571462342497,
          0.0009144326914652597,
          0.0009002952582147846,
          0.0009061498294404901,
          0.0009206137486081732,
          0.0009183296589408194,
          0.000900994951713861,
          0.000903811905851752,
          0.0009185934654976829,
          0.0009122386812831103,
          0.0009003153409283503,
          0.0009121326199409194,
          0.0009156225920149359,
          0.0009006068424865143,
          0.0009111487185473377,
          0.0009139074318972614,
          0.0009014971411942964,
          0.0009156717396199365,
          0.0009065241671714845,
          0.0009091104946062793,
          0.0009129570034704537,
          0.0009061443389463338,
          0.0009164309906024541,
          0.000906257320885859,
          0.0009169417925956854,
          0.0009068930126386936,
          0.0009149028581509949,
          0.0009115814429743424,
          0.0009120310090571064,
          0.0009176876701310621,
          0.0009095431759381438,
          0.0009173502659428101,
          0.0009189710943152404,
          0.0009137942749906088,
          0.0009149764081938898,
          0.0009204915940860746,
          0.0009208843099424961,
          0.0009183648233797759,
          0.0009176864564463295,
          0.0009179000977561999,
          0.0009207522933009795,
          0.0009205550414140484,
          0.0009232136227460602,
          0.0009231072353608535,
          0.000925054294209569,
          0.0009262248036106975,
          0.000929976575754999,
          0.0009318073303086051,
          0.0009305554452824879,
          0.0009316773696999103,
          0.0009361351079479955,
          0.0009342450502030712,
          0.0009405819692380565,
          0.0009391258283562809,
          0.0009424480181992841,
          0.0009443104263514472,
          0.0009433102111499834,
          0.0009492423512882012,
          0.0009499413326472816,
          0.0009520365157804814,
          0.0009569357367563872,
          0.0009575088848986315,
          0.0009573719423026111,
          0.000959909179896847,
          0.0009642736569887271,
          0.0009648447915429007,
          0.000972545662686604,
          0.0009714847073795223,
          0.0009769231927810398,
          0.0009780011858942451,
          0.0009841926825004581,
          0.0009845926113929357,
          0.0009880109765136682,
          0.000992802692685986,
          0.0009947049635594832,
          0.001003594830487861,
          0.0010035090416425213,
          0.0010113673899693866,
          0.0010133677423926374,
          0.0010216056117188968,
          0.0010229567802172482,
          0.0010316544668174206,
          0.001033354531663897,
          0.001037642116710917,
          0.0010438318649532037,
          0.0010513820242258967,
          0.0010599251734371257,
          0.0010655519908386545,
          0.0010694424781539694,
          0.0010772134179230384,
          0.0010842163704278347,
          0.0010959697590825633,
          0.001099720556294404,
          0.001107731741757871,
          0.001119659189610548,
          0.0011261885381837343,
          0.0011346662981412895,
          0.0011481726061774381,
          0.0011586471337466978,
          0.0011691213549927114,
          0.001179431227090705,
          0.001187199274100267,
          0.0012032991025245235,
          0.0012145596730616208,
          0.0012273784835556828,
          0.001240870925904442,
          0.0012517214985416983,
          0.0012664780702980332,
          0.0012808275254252148,
          0.0013004641189289401,
          0.0013176024782311387,
          0.001329881932066806,
          0.001351735428383133,
          0.0013702867134565708,
          0.0013854644637997897,
          0.0014054068940832682,
          0.001427045658396157,
          0.0014519690930993646,
          0.0014707864379315764,
          0.0014979151026787588,
          0.0015181487677576944,
          0.0015427744441474322,
          0.0015702247216945779,
          0.0015970801166198805,
          0.0016245929217333082,
          0.0016536490821114425,
          0.0016849595123018546,
          0.001715433049124212,
          0.001752423177460579,
          0.001781103965506321,
          0.0018148694756654445,
          0.0018511266109846913,
          0.0018927717142928743,
          0.0019271785166310432,
          0.0019817762003972363,
          0.0033200716273604457,
          0.0020519646330372323,
          0.0020500762295045595,
          0.002078241325730904,
          0.0021148027020637004,
          0.002148998821427197,
          0.0021967985250574504,
          0.002237626252785956,
          0.002276630741363404,
          0.002320136732811129,
          0.0023663972580374687,
          0.0024114105304679774,
          0.00245822988336329,
          0.0025076995858086685,
          0.0025559314224627523,
          0.0026105233727169936,
          0.0026568124028122034,
          0.0027158515996511578,
          0.0027260721089782274,
          0.002785983649824955,
          0.0029055704405263083,
          0.002935371564736354,
          0.00298794221165864,
          0.003039167430383592,
          0.0030986404701452103,
          0.0031647350950151356,
          0.0032206648843653564,
          0.0032849778497509607,
          0.0033582444391382954,
          0.0034601994065856126,
          0.0037463554125673065,
          0.003555749792544213,
          0.0036182241329900007,
          0.0036843753083050145,
          0.0037578133881493634,
          0.0038329022852001044,
          0.0038925413185834164,
          0.0039920841106872215,
          0.004100811868930728,
          0.004140354112522639,
          0.004238212633205603,
          0.00431072089831928,
          0.004407308658996808,
          0.04178455996856744,
          0.004579956485330972,
          0.004654804969064738,
          0.004745215778596164,
          0.004835322503288916,
          0.005061726153713079,
          0.005075222189959313,
          0.005140143917646297,
          0.0052743497545846155,
          0.005729750237365363,
          0.005440967060876427,
          0.005527441257048187,
          0.005762056371023386,
          0.005814442394275515,
          0.005870284341350579,
          0.006632846627507839,
          0.006159428466495176,
          0.006186774147891252,
          0.007095530776718455,
          0.0064887438526917305,
          0.006751797938659153,
          0.006817747977424394,
          0.006840600033810348,
          0.00716216998905047,
          0.007215822447442277,
          0.008156260423623746,
          0.007389511637462459,
          0.0077412584292684715,
          0.008028246148651533,
          0.008140801792847822,
          0.008327581347746816,
          0.00823684978771848,
          0.011692243597120759,
          0.008717615973258744,
          0.008767850199795408,
          0.009597116491025464,
          0.011523767551633913
         ],
         "yaxis": "y4"
        }
       ],
       "layout": {
        "annotations": [
         {
          "align": "left",
          "font": {
           "size": 14
          },
          "showarrow": false,
          "text": "<b>frequency</b>",
          "x": 0.5,
          "xref": "x domain",
          "y": 0.95,
          "yref": "y domain"
         },
         {
          "align": "left",
          "font": {
           "size": 14
          },
          "showarrow": false,
          "text": "<b>amplitude</b>",
          "x": 0.5,
          "xref": "x2 domain",
          "y": 0.95,
          "yref": "y2 domain"
         },
         {
          "align": "left",
          "font": {
           "size": 14
          },
          "showarrow": false,
          "text": "<b>damping_rate</b>",
          "x": 0.5,
          "xref": "x3 domain",
          "y": 0.95,
          "yref": "y3 domain"
         },
         {
          "align": "left",
          "font": {
           "size": 14
          },
          "showarrow": false,
          "text": "<b>phase</b>",
          "x": 0.5,
          "xref": "x4 domain",
          "y": 0.95,
          "yref": "y4 domain"
         }
        ],
        "height": 900,
        "showlegend": true,
        "template": {
         "data": {
          "bar": [
           {
            "error_x": {
             "color": "#2a3f5f"
            },
            "error_y": {
             "color": "#2a3f5f"
            },
            "marker": {
             "line": {
              "color": "#E5ECF6",
              "width": 0.5
             },
             "pattern": {
              "fillmode": "overlay",
              "size": 10,
              "solidity": 0.2
             }
            },
            "type": "bar"
           }
          ],
          "barpolar": [
           {
            "marker": {
             "line": {
              "color": "#E5ECF6",
              "width": 0.5
             },
             "pattern": {
              "fillmode": "overlay",
              "size": 10,
              "solidity": 0.2
             }
            },
            "type": "barpolar"
           }
          ],
          "carpet": [
           {
            "aaxis": {
             "endlinecolor": "#2a3f5f",
             "gridcolor": "white",
             "linecolor": "white",
             "minorgridcolor": "white",
             "startlinecolor": "#2a3f5f"
            },
            "baxis": {
             "endlinecolor": "#2a3f5f",
             "gridcolor": "white",
             "linecolor": "white",
             "minorgridcolor": "white",
             "startlinecolor": "#2a3f5f"
            },
            "type": "carpet"
           }
          ],
          "choropleth": [
           {
            "colorbar": {
             "outlinewidth": 0,
             "ticks": ""
            },
            "type": "choropleth"
           }
          ],
          "contour": [
           {
            "colorbar": {
             "outlinewidth": 0,
             "ticks": ""
            },
            "colorscale": [
             [
              0,
              "#0d0887"
             ],
             [
              0.1111111111111111,
              "#46039f"
             ],
             [
              0.2222222222222222,
              "#7201a8"
             ],
             [
              0.3333333333333333,
              "#9c179e"
             ],
             [
              0.4444444444444444,
              "#bd3786"
             ],
             [
              0.5555555555555556,
              "#d8576b"
             ],
             [
              0.6666666666666666,
              "#ed7953"
             ],
             [
              0.7777777777777778,
              "#fb9f3a"
             ],
             [
              0.8888888888888888,
              "#fdca26"
             ],
             [
              1,
              "#f0f921"
             ]
            ],
            "type": "contour"
           }
          ],
          "contourcarpet": [
           {
            "colorbar": {
             "outlinewidth": 0,
             "ticks": ""
            },
            "type": "contourcarpet"
           }
          ],
          "heatmap": [
           {
            "colorbar": {
             "outlinewidth": 0,
             "ticks": ""
            },
            "colorscale": [
             [
              0,
              "#0d0887"
             ],
             [
              0.1111111111111111,
              "#46039f"
             ],
             [
              0.2222222222222222,
              "#7201a8"
             ],
             [
              0.3333333333333333,
              "#9c179e"
             ],
             [
              0.4444444444444444,
              "#bd3786"
             ],
             [
              0.5555555555555556,
              "#d8576b"
             ],
             [
              0.6666666666666666,
              "#ed7953"
             ],
             [
              0.7777777777777778,
              "#fb9f3a"
             ],
             [
              0.8888888888888888,
              "#fdca26"
             ],
             [
              1,
              "#f0f921"
             ]
            ],
            "type": "heatmap"
           }
          ],
          "histogram": [
           {
            "marker": {
             "pattern": {
              "fillmode": "overlay",
              "size": 10,
              "solidity": 0.2
             }
            },
            "type": "histogram"
           }
          ],
          "histogram2d": [
           {
            "colorbar": {
             "outlinewidth": 0,
             "ticks": ""
            },
            "colorscale": [
             [
              0,
              "#0d0887"
             ],
             [
              0.1111111111111111,
              "#46039f"
             ],
             [
              0.2222222222222222,
              "#7201a8"
             ],
             [
              0.3333333333333333,
              "#9c179e"
             ],
             [
              0.4444444444444444,
              "#bd3786"
             ],
             [
              0.5555555555555556,
              "#d8576b"
             ],
             [
              0.6666666666666666,
              "#ed7953"
             ],
             [
              0.7777777777777778,
              "#fb9f3a"
             ],
             [
              0.8888888888888888,
              "#fdca26"
             ],
             [
              1,
              "#f0f921"
             ]
            ],
            "type": "histogram2d"
           }
          ],
          "histogram2dcontour": [
           {
            "colorbar": {
             "outlinewidth": 0,
             "ticks": ""
            },
            "colorscale": [
             [
              0,
              "#0d0887"
             ],
             [
              0.1111111111111111,
              "#46039f"
             ],
             [
              0.2222222222222222,
              "#7201a8"
             ],
             [
              0.3333333333333333,
              "#9c179e"
             ],
             [
              0.4444444444444444,
              "#bd3786"
             ],
             [
              0.5555555555555556,
              "#d8576b"
             ],
             [
              0.6666666666666666,
              "#ed7953"
             ],
             [
              0.7777777777777778,
              "#fb9f3a"
             ],
             [
              0.8888888888888888,
              "#fdca26"
             ],
             [
              1,
              "#f0f921"
             ]
            ],
            "type": "histogram2dcontour"
           }
          ],
          "mesh3d": [
           {
            "colorbar": {
             "outlinewidth": 0,
             "ticks": ""
            },
            "type": "mesh3d"
           }
          ],
          "parcoords": [
           {
            "line": {
             "colorbar": {
              "outlinewidth": 0,
              "ticks": ""
             }
            },
            "type": "parcoords"
           }
          ],
          "pie": [
           {
            "automargin": true,
            "type": "pie"
           }
          ],
          "scatter": [
           {
            "fillpattern": {
             "fillmode": "overlay",
             "size": 10,
             "solidity": 0.2
            },
            "type": "scatter"
           }
          ],
          "scatter3d": [
           {
            "line": {
             "colorbar": {
              "outlinewidth": 0,
              "ticks": ""
             }
            },
            "marker": {
             "colorbar": {
              "outlinewidth": 0,
              "ticks": ""
             }
            },
            "type": "scatter3d"
           }
          ],
          "scattercarpet": [
           {
            "marker": {
             "colorbar": {
              "outlinewidth": 0,
              "ticks": ""
             }
            },
            "type": "scattercarpet"
           }
          ],
          "scattergeo": [
           {
            "marker": {
             "colorbar": {
              "outlinewidth": 0,
              "ticks": ""
             }
            },
            "type": "scattergeo"
           }
          ],
          "scattergl": [
           {
            "marker": {
             "colorbar": {
              "outlinewidth": 0,
              "ticks": ""
             }
            },
            "type": "scattergl"
           }
          ],
          "scattermap": [
           {
            "marker": {
             "colorbar": {
              "outlinewidth": 0,
              "ticks": ""
             }
            },
            "type": "scattermap"
           }
          ],
          "scattermapbox": [
           {
            "marker": {
             "colorbar": {
              "outlinewidth": 0,
              "ticks": ""
             }
            },
            "type": "scattermapbox"
           }
          ],
          "scatterpolar": [
           {
            "marker": {
             "colorbar": {
              "outlinewidth": 0,
              "ticks": ""
             }
            },
            "type": "scatterpolar"
           }
          ],
          "scatterpolargl": [
           {
            "marker": {
             "colorbar": {
              "outlinewidth": 0,
              "ticks": ""
             }
            },
            "type": "scatterpolargl"
           }
          ],
          "scatterternary": [
           {
            "marker": {
             "colorbar": {
              "outlinewidth": 0,
              "ticks": ""
             }
            },
            "type": "scatterternary"
           }
          ],
          "surface": [
           {
            "colorbar": {
             "outlinewidth": 0,
             "ticks": ""
            },
            "colorscale": [
             [
              0,
              "#0d0887"
             ],
             [
              0.1111111111111111,
              "#46039f"
             ],
             [
              0.2222222222222222,
              "#7201a8"
             ],
             [
              0.3333333333333333,
              "#9c179e"
             ],
             [
              0.4444444444444444,
              "#bd3786"
             ],
             [
              0.5555555555555556,
              "#d8576b"
             ],
             [
              0.6666666666666666,
              "#ed7953"
             ],
             [
              0.7777777777777778,
              "#fb9f3a"
             ],
             [
              0.8888888888888888,
              "#fdca26"
             ],
             [
              1,
              "#f0f921"
             ]
            ],
            "type": "surface"
           }
          ],
          "table": [
           {
            "cells": {
             "fill": {
              "color": "#EBF0F8"
             },
             "line": {
              "color": "white"
             }
            },
            "header": {
             "fill": {
              "color": "#C8D4E3"
             },
             "line": {
              "color": "white"
             }
            },
            "type": "table"
           }
          ]
         },
         "layout": {
          "annotationdefaults": {
           "arrowcolor": "#2a3f5f",
           "arrowhead": 0,
           "arrowwidth": 1
          },
          "autotypenumbers": "strict",
          "coloraxis": {
           "colorbar": {
            "outlinewidth": 0,
            "ticks": ""
           }
          },
          "colorscale": {
           "diverging": [
            [
             0,
             "#8e0152"
            ],
            [
             0.1,
             "#c51b7d"
            ],
            [
             0.2,
             "#de77ae"
            ],
            [
             0.3,
             "#f1b6da"
            ],
            [
             0.4,
             "#fde0ef"
            ],
            [
             0.5,
             "#f7f7f7"
            ],
            [
             0.6,
             "#e6f5d0"
            ],
            [
             0.7,
             "#b8e186"
            ],
            [
             0.8,
             "#7fbc41"
            ],
            [
             0.9,
             "#4d9221"
            ],
            [
             1,
             "#276419"
            ]
           ],
           "sequential": [
            [
             0,
             "#0d0887"
            ],
            [
             0.1111111111111111,
             "#46039f"
            ],
            [
             0.2222222222222222,
             "#7201a8"
            ],
            [
             0.3333333333333333,
             "#9c179e"
            ],
            [
             0.4444444444444444,
             "#bd3786"
            ],
            [
             0.5555555555555556,
             "#d8576b"
            ],
            [
             0.6666666666666666,
             "#ed7953"
            ],
            [
             0.7777777777777778,
             "#fb9f3a"
            ],
            [
             0.8888888888888888,
             "#fdca26"
            ],
            [
             1,
             "#f0f921"
            ]
           ],
           "sequentialminus": [
            [
             0,
             "#0d0887"
            ],
            [
             0.1111111111111111,
             "#46039f"
            ],
            [
             0.2222222222222222,
             "#7201a8"
            ],
            [
             0.3333333333333333,
             "#9c179e"
            ],
            [
             0.4444444444444444,
             "#bd3786"
            ],
            [
             0.5555555555555556,
             "#d8576b"
            ],
            [
             0.6666666666666666,
             "#ed7953"
            ],
            [
             0.7777777777777778,
             "#fb9f3a"
            ],
            [
             0.8888888888888888,
             "#fdca26"
            ],
            [
             1,
             "#f0f921"
            ]
           ]
          },
          "colorway": [
           "#636efa",
           "#EF553B",
           "#00cc96",
           "#ab63fa",
           "#FFA15A",
           "#19d3f3",
           "#FF6692",
           "#B6E880",
           "#FF97FF",
           "#FECB52"
          ],
          "font": {
           "color": "#2a3f5f"
          },
          "geo": {
           "bgcolor": "white",
           "lakecolor": "white",
           "landcolor": "#E5ECF6",
           "showlakes": true,
           "showland": true,
           "subunitcolor": "white"
          },
          "hoverlabel": {
           "align": "left"
          },
          "hovermode": "closest",
          "mapbox": {
           "style": "light"
          },
          "paper_bgcolor": "white",
          "plot_bgcolor": "#E5ECF6",
          "polar": {
           "angularaxis": {
            "gridcolor": "white",
            "linecolor": "white",
            "ticks": ""
           },
           "bgcolor": "#E5ECF6",
           "radialaxis": {
            "gridcolor": "white",
            "linecolor": "white",
            "ticks": ""
           }
          },
          "scene": {
           "xaxis": {
            "backgroundcolor": "#E5ECF6",
            "gridcolor": "white",
            "gridwidth": 2,
            "linecolor": "white",
            "showbackground": true,
            "ticks": "",
            "zerolinecolor": "white"
           },
           "yaxis": {
            "backgroundcolor": "#E5ECF6",
            "gridcolor": "white",
            "gridwidth": 2,
            "linecolor": "white",
            "showbackground": true,
            "ticks": "",
            "zerolinecolor": "white"
           },
           "zaxis": {
            "backgroundcolor": "#E5ECF6",
            "gridcolor": "white",
            "gridwidth": 2,
            "linecolor": "white",
            "showbackground": true,
            "ticks": "",
            "zerolinecolor": "white"
           }
          },
          "shapedefaults": {
           "line": {
            "color": "#2a3f5f"
           }
          },
          "ternary": {
           "aaxis": {
            "gridcolor": "white",
            "linecolor": "white",
            "ticks": ""
           },
           "baxis": {
            "gridcolor": "white",
            "linecolor": "white",
            "ticks": ""
           },
           "bgcolor": "#E5ECF6",
           "caxis": {
            "gridcolor": "white",
            "linecolor": "white",
            "ticks": ""
           }
          },
          "title": {
           "x": 0.05
          },
          "xaxis": {
           "automargin": true,
           "gridcolor": "white",
           "linecolor": "white",
           "ticks": "",
           "title": {
            "standoff": 15
           },
           "zerolinecolor": "white",
           "zerolinewidth": 2
          },
          "yaxis": {
           "automargin": true,
           "gridcolor": "white",
           "linecolor": "white",
           "ticks": "",
           "title": {
            "standoff": 15
           },
           "zerolinecolor": "white",
           "zerolinewidth": 2
          }
         }
        },
        "title": {
         "text": "Fit RMSE and stderr vs Sample Duration (each parameter in separate subplot)"
        },
        "width": 900,
        "xaxis": {
         "anchor": "y",
         "domain": [
          0,
          1
         ],
         "matches": "x4",
         "showticklabels": false,
         "type": "log"
        },
        "xaxis2": {
         "anchor": "y2",
         "domain": [
          0,
          1
         ],
         "matches": "x4",
         "showticklabels": false,
         "type": "log"
        },
        "xaxis3": {
         "anchor": "y3",
         "domain": [
          0,
          1
         ],
         "matches": "x4",
         "showticklabels": false,
         "type": "log"
        },
        "xaxis4": {
         "anchor": "y4",
         "domain": [
          0,
          1
         ],
         "title": {
          "text": "Sample Duration (s)"
         },
         "type": "log"
        },
        "yaxis": {
         "anchor": "x",
         "domain": [
          0.7575000000000001,
          1
         ],
         "type": "log"
        },
        "yaxis2": {
         "anchor": "x2",
         "domain": [
          0.505,
          0.7475
         ],
         "type": "log"
        },
        "yaxis3": {
         "anchor": "x3",
         "domain": [
          0.2525,
          0.495
         ],
         "type": "log"
        },
        "yaxis4": {
         "anchor": "x4",
         "domain": [
          0,
          0.2425
         ]
        }
       }
      }
     },
     "metadata": {},
     "output_type": "display_data"
    }
   ],
   "source": [
    "import math_functions\n",
    "import numpy as np\n",
    "import numpy.typing as npt\n",
    "import plotly.graph_objects as go\n",
    "from scipy.optimize import curve_fit\n",
    "\n",
    "from math_functions import damp_sine_wave\n",
    "from plotly.subplots import make_subplots\n",
    "from tqdm import tqdm\n",
    "from typing import Tuple\n",
    "from multiprocessing import Pool, cpu_count\n",
    "\n",
    "from typing import Tuple\n",
    "\n",
    "np_rng = np.random.default_rng(42)\n",
    "\n",
    "\n",
    "# Wrapper for curve_fit\n",
    "def wrapper(\n",
    "    x: npt.NDArray[np.float64],\n",
    "    frequency: float,\n",
    "    amplitude: float,\n",
    "    damping_rate: float,\n",
    "    phase: float,\n",
    ") -> npt.NDArray[np.float64]:\n",
    "    return damp_sine_wave(\n",
    "        x,\n",
    "        frequency=frequency,\n",
    "        damping_rate=damping_rate,\n",
    "        phase=phase,\n",
    "        amplitude=amplitude,\n",
    "    )\n",
    "\n",
    "\n",
    "key_order = (\"frequency\", \"amplitude\", \"damping_rate\", \"phase\")\n",
    "\n",
    "# True model parameters\n",
    "true_params: Dict[str, float] = dict(\n",
    "    frequency=1.0, amplitude=1.0, damping_rate=0.01, phase=np.pi / 2\n",
    ")\n",
    "\n",
    "# Settings\n",
    "noise_scale = 0.01\n",
    "num_repeats: int = 300\n",
    "num_points: int = 1000  # points that the curve is sampling\n",
    "# durations: npt.NDArray[np.float64] = np.linspace(0.1, 100, 100)\n",
    "durations = np.logspace(-1.0, 4, 300)\n",
    "\n",
    "\n",
    "# the problem is that the sampling can alias the true frequency, so we pick durations that do not alias to a frequency that is close to the niquist or zero frequency\n",
    "# Step 1: Compute sampling frequencies\n",
    "f_s_vals = num_points / durations\n",
    "# Step 2: Compute apparent frequencies\n",
    "f_a_vals = np.array(\n",
    "    [\n",
    "        math_functions.apparent_frequency(true_params[\"frequency\"], f_s)\n",
    "        for f_s in f_s_vals\n",
    "    ]\n",
    ")\n",
    "# Step 3: Normalize apparent frequencies by f_true\n",
    "f_a_norm = f_a_vals / true_params[\"frequency\"]\n",
    "f_N_norm = f_s_vals / (2 * true_params[\"frequency\"])\n",
    "# Step 4: Mask out undesired edge cases\n",
    "min_thresh = 0.05\n",
    "max_thresh = 0.95\n",
    "valid: npt.NDArray[np.bool_] = (f_a_norm > min_thresh) & (f_a_norm < max_thresh)\n",
    "\n",
    "# Step 5: Adjust durations for invalid cases by nudging a fraction of the Nyquist zone\n",
    "delta: float = 0.1  # fraction of Nyquist zone width\n",
    "adjusted_durations: npt.NDArray[np.float64] = durations.copy()\n",
    "\n",
    "for idx in np.where(~valid)[0]:\n",
    "    f_s = f_s_vals[idx]\n",
    "    N = int(np.floor(2 * true_params[\"frequency\"] / f_s)) + 1\n",
    "    f_s_zone_width = 2 * true_params[\"frequency\"] * (1 / N - 1 / (N + 1))\n",
    "    f_s_offset = delta * f_s_zone_width\n",
    "    direction = 1 if N % 2 == 0 else -1\n",
    "    f_s_adjusted = f_s + direction * f_s_offset\n",
    "    adjusted_durations[idx] = num_points / f_s_adjusted\n",
    "\n",
    "# Final assignment\n",
    "durations = adjusted_durations\n",
    "\n",
    "\n",
    "# Storage\n",
    "rmse_results = {k: [] for k in true_params}\n",
    "stderr_results = {k: [] for k in true_params}\n",
    "\n",
    "\n",
    "def fit_for_duration(\n",
    "    duration: float,\n",
    ") -> Tuple[float, Dict[str, float], Dict[str, float]]:\n",
    "    x_vals = np.linspace(0, duration, num_points)\n",
    "\n",
    "    param_diffs = {k: [] for k in true_params}\n",
    "    param_stderr = {k: [] for k in true_params}\n",
    "\n",
    "    for _ in range(num_repeats):\n",
    "        y_clean = damp_sine_wave(x_vals, **true_params)\n",
    "        noise = np_rng.normal(scale=noise_scale, size=y_clean.shape)\n",
    "        y_noisy = y_clean + noise\n",
    "\n",
    "        try:\n",
    "            initial_guess = np.array([true_params[k] for k in key_order])\n",
    "            initial_guess += (\n",
    "                np_rng.normal(scale=0.00001, size=initial_guess.shape) * initial_guess\n",
    "            )\n",
    "            popt, pcov = curve_fit(wrapper, x_vals, y_noisy, p0=initial_guess)\n",
    "            perr = np.sqrt(np.diag(pcov))\n",
    "\n",
    "            for i, key in enumerate(true_params):\n",
    "                param_diffs[key].append(popt[i] - true_params[key])\n",
    "                param_stderr[key].append(perr[i])\n",
    "        except RuntimeError:\n",
    "            for key in true_params:\n",
    "                param_diffs[key].append(np.nan)\n",
    "                param_stderr[key].append(np.nan)\n",
    "\n",
    "    rmse = {\n",
    "        key: np.sqrt(np.nanmean(np.square(param_diffs[key]))) for key in true_params\n",
    "    }\n",
    "    stderr = {key: np.nanmean(param_stderr[key]) for key in true_params}\n",
    "\n",
    "    return duration, rmse, stderr\n",
    "\n",
    "\n",
    "print(\"Starting parallel fits...\")\n",
    "with Pool(processes=cpu_count()) as pool:\n",
    "    results = list(tqdm(pool.imap(fit_for_duration, durations), total=len(durations)))\n",
    "\n",
    "rmse_results = {k: [] for k in true_params}\n",
    "stderr_results = {k: [] for k in true_params}\n",
    "\n",
    "# Extract from results\n",
    "durations_out = []\n",
    "for duration, rmse, stderr in results:\n",
    "    durations_out.append(duration)\n",
    "    for key in true_params:\n",
    "        rmse_results[key].append(rmse[key])\n",
    "        stderr_results[key].append(stderr[key])\n",
    "\n",
    "durations = np.array(durations_out)\n",
    "\n",
    "# Plotting with Plotly\n",
    "# Create subplots\n",
    "fig = make_subplots(rows=4, cols=1, shared_xaxes=True, vertical_spacing=0.01)\n",
    "\n",
    "for i, k in enumerate(true_params, start=1):\n",
    "    fig.add_trace(\n",
    "        go.Scatter(\n",
    "            x=durations, y=rmse_results[k], mode=\"lines+markers\", name=f\"RMSE {k}\"\n",
    "        ),\n",
    "        row=i,\n",
    "        col=1,\n",
    "    )\n",
    "    fig.add_trace(\n",
    "        go.Scatter(\n",
    "            x=durations,\n",
    "            y=stderr_results[k],\n",
    "            mode=\"lines+markers\",\n",
    "            name=f\"stderr {k}\",\n",
    "            line=dict(dash=\"dot\"),\n",
    "        ),\n",
    "        row=i,\n",
    "        col=1,\n",
    "    )\n",
    "\n",
    "    xref = \"x domain\" if i == 1 else f\"x{i} domain\"\n",
    "    yref = \"y domain\" if i == 1 else f\"y{i} domain\"\n",
    "    fig.add_annotation(\n",
    "        text=f\"<b>{k}</b>\",\n",
    "        x=0.5,\n",
    "        y=0.95,\n",
    "        xref=xref,\n",
    "        yref=yref,\n",
    "        showarrow=False,\n",
    "        font=dict(size=14),\n",
    "        align=\"left\",\n",
    "    )\n",
    "\n",
    "fig.update_layout(\n",
    "    title=\"Fit RMSE and stderr vs Sample Duration (each parameter in separate subplot)\",\n",
    "    xaxis4_title=\"Sample Duration (s)\",\n",
    "    height=900,\n",
    "    width=900,\n",
    "    showlegend=True,\n",
    ")\n",
    "\n",
    "for i in range(1, 4):\n",
    "    fig.update_yaxes(type=\"log\", row=i, col=1)\n",
    "    fig.update_xaxes(type=\"log\", row=i, col=1)\n",
    "\n",
    "\n",
    "fig.update_xaxes(type=\"log\", title=\"Sample Duration (s)\", row=4, col=1)\n",
    "\n",
    "fig.show()"
   ]
  },
  {
   "cell_type": "code",
   "execution_count": 7,
   "id": "14969cee",
   "metadata": {},
   "outputs": [
    {
     "data": {
      "text/plain": [
       "1.5707963267948966"
      ]
     },
     "execution_count": 7,
     "metadata": {},
     "output_type": "execute_result"
    }
   ],
   "source": [
    "true_params[\"phase\"]"
   ]
  },
  {
   "cell_type": "code",
   "execution_count": 8,
   "id": "234fbe5f",
   "metadata": {},
   "outputs": [
    {
     "data": {
      "application/vnd.plotly.v1+json": {
       "config": {
        "plotlyServerURL": "https://plot.ly"
       },
       "data": [
        {
         "mode": "lines+markers",
         "name": "RMSE frequency",
         "type": "scatter",
         "x": {
          "bdata": "FzmcYKqZuT85m+DT75q6PwFg18ROprs/+2lmsyy8vD9xoY4b89y9P0hNeZ0PCb8/FwmME3ogwD+4tLOPi8LAPyMAssn5asE/ygpisgQawj8jTEO97s/CP4s9tfn8jMM/QbYwLXdRxD9U8Yjupx3FP9OZPsLc8cU/zKHvN2bOxj8rFe8ImLPHPz+KEDjJocg/pUazMlSZyT9+qRnzlprKP/fpGSTzpcs/H701Rs67zD+J/ibWkdzNP3gF8HSrCM8/GHK/iEYg0D8ttPmJVsLQP8EpTEXDatE/IXRQrMwZ0j+zSl4ztc/SP/adyerBjNM/U6MemTpR1D9NxmXWaR3VPzzgeSid8dU/g4B7ICXO1j/3e2x5VbPXP4hr/zeFodg/xDenyw6Z2T8ZSfMwUJraPwx0RRWrpds/pDzv+4S73D/glcRkR9zdP+HQMvRfCN8/BYJ1TiAg4D9n5pflL8LgP85360icauE/CgCIbKUZ4j/k9IDHjc/iP9jyKG2ajOM/cZJTJxNR5D/snZ+RQh3lP04S1DV28eU/ysBaqf7N5j/e0uOrL7PnP7LlPUdgoeg/Oehu8OqY6T+VYhqqLZrqP/RNQiiKpes/ZSlw9WW77D8Wg1SZKtztP+m968BFCO8/jbgbtBQg8D9RLs4CJsLwP2PHeluUavE/VwA3uJ8Z8j/rT5mWis/yP124BxGajPM/3JoF+RVR9D+A5YrySB31Pz8bb5CA8fU/aiDzcQ3O9j/aJXVhQ7P3P+eAWnR5ofg/9rY7LAqZ+T88gV+ZU5r6P90Pkn63pfs/y1tmdpu7/D9S5O8Zadz9P/DIAymOCP8/f2QIWj4gAECVKc+jVcIAQD66wYzKagFAE5LzG90ZAkC7Dg7dz88CQJGatfnnjANARO3vU21RBECVoJWhqh0FQG7B2Yjt8QVAxnPyvYbOBkAhM+4hyrMHQBKxweIOoghAJtCanK+ZCUCvu4V8CpsKQImkcWSBpgtAKTijEHq8DECpeqM+Xt0NQPZFutWbCQ9ALiiCiNIgEEDHoZpV+MIQQJiNCwZ9axFAzlvsu6AaEkBPJx8gptASQL+U43vSjRNA13Zu021SFEAjwpABwx4VQH3KeNQf8xVAhDmZK9XPFkDAp8EWN7UXQGJBdfacoxhAOmWMnWGbGUAqty5045waQCOxM5yEqBtAaFX4Fqu+HEBpQ7nswN8dQLcWgVU0DB9AT9Ld8TsiIEBSsT9YgcQgQKp+z0QobSFAyPbKEHEcIkDt1LGgntIiQBL1NH72jyNATawx88BUJECLe8QlSSElQF69fjXd9SVADnLLWc7SJkAy1o8BcbgnQNL+FPQcpyhAYU1Icy2fKUA7KmFfAaEqQEcb+1v7rCtAC/iz9oHDLEBWtF7P/+QtQM7428HjES9ArkTViFAlMEDpJqHL18cwQF3WpvfFcDFA1+nq1VsgMkDMvbvD3NYyQJhdW82OlDNAscPEybpZNEC/0Jh3rCY1QLPuP5uy+zVA6vRNHh/ZNkBBiDYwR783QIDjYGiDrjhAOa2q6S+nOUCrRWqHrKk6QCnFAexctjtAqr8UwajNPED0x3PZ++89QOGi0VzGHT9AGI6rer4rQECuwJV/zM5AQOVzBF1MeEFAGUt6vn8oQkDDlxr2qt9CQC3K0BgVnkNAuG+yGwhkREABsqry0DFFQDgZf7C/B0ZAly0+qCfmRkDZfSmQX81HQFCGLabBvUhALP361au3SUCgHtbgf7tKQCPAMYejyUtA8C0ttIDiTEAAKw2rhQZOQKLTyTYlNk9AjFPmbes4UECJy/2FC91QQIHbl66zh1FAav0bYSc5UkB7N0XjrPFSQF43ZGaNsVNAilAeKBV5VECb+L2Uk0hVQDaoKmtbIFZAkm2f4sIAV0Df+zjSI+pXQLOgddrb3FhASELDkEzZWUAqaDmt299aQPBPnzrz8FtA8zrgyAENXUDwdBKiejReQE4ZOALWZ19AG6nxqMhTYEDoXvWxF/pgQBHoLlscp2FAbTx22x1bYkADhXyFZhZjQLuyx+1D2WNAX2nAEgekZEB0T/SGBHdlQE9lsZ2UUmZAgNIhmhM3Z0AroxLh4SRoQDQ+ky1kHGlA2PmeyAMeakCuIQbELiprQLIN0DhYQWxAeZhUifhjbUAoZFCnjZJuQMX3PF6bzW9A5fEd0dWKcEAna/VxpzVxQID1vjSO53FAd87CVtmgckAVVufh22FzQMAKauLsKnRADAUjoGf8dECbXZrbq9Z1QBx7PQ8eunZA/4cJtSend0BoWQiRN554QL30BQHCn3lA9b7uUUGsekCYUlEbNsR7QEsji6En6HxAQqA0P6QYfkCmmXDWQVZ/QP7AaSXPUIBAluCEw2IdgEB83lekVL+AQJ/0PfqhZ4FAGzRGqIoWgkDUGocTUcyCQD+eUjw6iYNAUn1n2I1NhECkyylulhmFQDsK7XCh7YVA3otaXv/JhkAjTf/cA6+HQCnaDNwFnYhA6E5ZtF+UiUC4+apKb5WKQPyjXDOWoItAKQlo1zm2jECddXe+IuuMQGKg5B9yBI5A7AMtkEZlkEDdEGtKEb+QQKQ0eftbZ5FAMJkX6kEWkkDsuFF6BcySQHAKZKvriJNANensMTxNlEA6sySTQRmVQPdvJ0FJ7ZVAcL5auKPJlkB+MvudpK6XQNe63N+inJhAihxq1fiTmUCcC/BhBJWaQG7kQBgnoJtA+Y2+X8a1nECg8qpmK0edQLHbpQ6sZ55ASL18uGJWoEBQH43xzb6gQMnyzf0VZ6FAPYkNLfkVokDbXUziucuiQLtssRudiKNAgrK6jOpMpEAd3HS57BilQGZ8xBLx7KVAUH0n0V95pkAb2+PBnfCnQE2Z2szv46hAuZ4Y+JGTqUCAD+N6mZSqQLf34/63n6tA7m/l6VK1rEBFoxWBp4WtQMAU4p8Zq65AEhJkIchCsECnBb6Zir6wQJwqPAHQZrFApv8ncbAVskA9QV6HtKGyQJvBd796rrNAoN6ejtZ1tEDqQBrhlxi1QOspxOWY7LVAkQFuzaCdtkBmdyv6jNa3QIpDFc/Hx7hA5c5kHCuTuUC2hbaiX2i6QANp/nQzybtATEi+tyfivEDnZddRtaq9QK06tyYd075AhxxdzboywEBetWDK5ajAQAHFW4tzT8FAGRh2MBMswkDOMkz8MLXCQN/0pje9ncNA",
          "dtype": "f8"
         },
         "y": [
          0.06586183349976825,
          0.06582984461174858,
          0.0582476028836147,
          0.05219099352993657,
          0.047164691224501586,
          0.042879219008292425,
          0.03915222087063458,
          0.0358611304898039,
          0.03292038358460672,
          0.030268862396776293,
          0.02786196087508135,
          0.025665646845193898,
          0.023653824981162596,
          0.021805659803061435,
          0.02010413427872389,
          0.01853527882093827,
          0.01737097363353467,
          0.015993913156701595,
          0.014723385462416354,
          0.013550363333573486,
          0.012466842950566626,
          0.011465616251765584,
          0.010540286043569913,
          0.009684711768133264,
          0.008977004422809227,
          0.008162385176709799,
          0.007486046741715809,
          0.006860648645879684,
          0.006345137333847096,
          0.005805052541953024,
          0.0053053503286930115,
          0.004843325892186128,
          0.00441599212416172,
          0.004020897215361188,
          0.003623649394206379,
          0.0032908497340188784,
          0.003007135626507243,
          0.0027196373700277415,
          0.002454454888839257,
          0.002283922148694034,
          0.001984713610691724,
          0.0018441541557138383,
          0.0015850780027744165,
          0.0014716975115902904,
          0.0013079025523346395,
          0.0011577674465660319,
          0.0010204474568715834,
          0.0008952039679048276,
          0.0007392291184475382,
          0.0006546342370974144,
          0.0005835178008656028,
          0.00047675342560178917,
          0.00042693846421946953,
          0.00037364889994923793,
          0.0003251984223059935,
          0.00030042558907700034,
          0.0002771606386201168,
          0.0002524113063599517,
          0.0002765556241256594,
          0.00025064034746022243,
          0.0002884352137403508,
          0.0002914322105229369,
          0.0002551079092275786,
          0.00027014928464821875,
          0.0002474043169025543,
          0.00023691222631478536,
          0.0002106292533490479,
          0.0001812609757518328,
          0.00017414093575717393,
          0.00016580467388482273,
          0.00017518753918859456,
          0.0001650308818503901,
          0.00017708343397094444,
          0.00015468192753831375,
          0.00014201704238443516,
          0.0001358847155414853,
          0.00012111184753530004,
          0.0001231752306678702,
          0.00012681834419922826,
          0.00013599934806037965,
          0.00012369975635849597,
          0.00011178641595675017,
          0.0001000643649310257,
          0.00009816176689004247,
          0.00010399787635849822,
          0.00009884823922038826,
          0.00009592758322865815,
          0.00008157101761262132,
          0.00008103389060146528,
          0.00008358625975377072,
          0.00008014313784390782,
          0.00007500665238611871,
          0.00007057545197463088,
          0.00007203399558871103,
          0.0000667127811406727,
          0.00006125848782634201,
          0.00006767273944558783,
          0.00006246387006109166,
          0.000059911267596289145,
          0.00005776576371619487,
          0.00005455476401612064,
          0.0000480508196939443,
          0.00005246039700905515,
          0.00005297729082905214,
          0.000050302429540611014,
          0.000043547456374871835,
          0.0000408226554888229,
          0.000043214929027593194,
          0.00003965353864244541,
          0.000039234124804198223,
          0.000036746580046841325,
          0.000036121295790597746,
          0.00003461307796320316,
          0.00003551681064020736,
          0.000034030349738703185,
          0.000030170820488669185,
          0.00003140900887473341,
          0.00002780457224723145,
          0.000027416116580680984,
          0.00002588641191644941,
          0.000025095982120083267,
          0.000026175205771942274,
          0.000023926009510124863,
          0.000021952704846265673,
          0.000022163121260003636,
          0.000021724270592082965,
          0.000020442921348864253,
          0.000018736305639664942,
          0.0000198354704462383,
          0.00001799994008969376,
          0.000017628290761926107,
          0.00001638629856192766,
          0.00001718261549968566,
          0.000015471932569634632,
          0.000014887411653742679,
          0.000014650341127371834,
          0.000014201112759086641,
          0.00001342010586173071,
          0.00001275388937169256,
          0.000012646124622618606,
          0.000011618943893351234,
          0.000012237766988168876,
          0.00001109877706756454,
          0.000010878751107248895,
          0.000011203882549161225,
          0.000011143490129473816,
          0.000010208441497166913,
          0.000010199355124968605,
          0.000009030011355618587,
          0.00000932838791825275,
          0.00000917395699875577,
          0.000008836279528792738,
          0.000008268169991859364,
          0.00000798902848940319,
          0.000007275651573957853,
          0.000008257644609841432,
          0.000008099977290971072,
          0.000006816846627204856,
          0.000007216804990872192,
          0.000006362634532896792,
          0.000006884789157916077,
          0.000006455036061674231,
          0.000006499164085291058,
          0.0000061971354616422705,
          0.000005880597855558598,
          0.000005586269180931935,
          0.000005786287254876449,
          0.000005274179008064902,
          0.000005695965468748191,
          0.000004904892100277475,
          0.000005108355727207276,
          0.0000049658711169015006,
          0.000004822813724479546,
          0.000004746473721967007,
          0.000004565138524098653,
          0.000004508635937935489,
          0.000004361837079617453,
          0.000004220009275626004,
          0.000004244702648989624,
          0.000004056651433618786,
          0.000003880249361856448,
          0.000003905391814856887,
          0.000003846794143367232,
          0.000003865873092020446,
          0.0000035178716595401796,
          0.0000035319118706742476,
          0.0000035365564633047814,
          0.0000036201445646871353,
          0.000003669091163409829,
          0.0000037986585106476784,
          0.0000035811511936798397,
          0.000003271671034452487,
          0.0000036748622714226697,
          0.0000033392212466723772,
          0.0000035545204827472757,
          0.000003705226632895806,
          0.00000332327112683857,
          0.0000033713890847091053,
          0.000003488502182716642,
          0.000003199387664183012,
          0.000003471182797251899,
          0.0000032923514451598664,
          0.0000035972176982545555,
          0.000003688813829840049,
          0.0000037390263566060326,
          0.0000035192208630792002,
          0.0000036372887543122803,
          0.000003535836751357255,
          0.000003821927999093239,
          0.0000035968357148416494,
          0.000003827271673221809,
          0.0000036699711919105827,
          0.0000042090132471376295,
          0.000003862289720305026,
          0.000004228493989853484,
          0.000003939691917745571,
          0.0000038874180977600115,
          0.000004211496718491473,
          0.000004100676310488232,
          0.000004400915940638464,
          0.000005870582359393964,
          0.000004769392422114364,
          0.000004654939691024896,
          0.000004614815135610515,
          0.000004471254860054168,
          0.000005036448706604318,
          0.00000483660611823365,
          0.000005231133002247305,
          0.00000487571869795124,
          0.000005318119843747758,
          0.000005730401308089335,
          0.000005152833636662132,
          0.000005318762672472319,
          0.000005709837217205154,
          0.000005352890829375213,
          0.000005840169813933993,
          0.000005989851870199623,
          0.000006231016657346774,
          0.000006285683765913961,
          0.000005851665062636616,
          0.000006310351899351472,
          0.000006706409702885233,
          0.0000064417169991056504,
          0.000006462656792257179,
          0.000006902212047020137,
          0.0000066299197005023555,
          0.000008032800427656485,
          0.000007660529892000286,
          0.000007362829142597448,
          0.000007658020874809187,
          0.000008580734377089417,
          0.000008184975789952919,
          0.000008334130171397699,
          0.000008129846967096681,
          0.000008390913632653933,
          0.000008410523714311009,
          0.00000866595560647926,
          0.000008998798038697253,
          0.000009964250589162713,
          0.000009510384035535688,
          0.00000888073209288704,
          0.000009510911025628062,
          0.000010451975098821554,
          0.00003284453468871477,
          0.000009948650980226854,
          0.000010554317733351115,
          0.00001100566451248414,
          0.000011021801220296149,
          0.000010811081871889112,
          0.000011208095760883833,
          0.000011695244519212789,
          0.000011670550245362126,
          0.00001216302412151528,
          0.000012528293304073372,
          0.0000115463896291623,
          0.000012538609675153677,
          0.0000136582348234789,
          0.000013700207629352606,
          0.000013694774515844493,
          0.000013128312680310997,
          0.000014188485046163113,
          0.000015218674109905201,
          0.000014443785036479147,
          0.000014963131554601757,
          0.000015564387355762075,
          0.000015218967027715212,
          0.00001633273158264469,
          0.00001595653855618692,
          0.00001669135390368411,
          0.000017424129240486112,
          0.000017557098814023697,
          0.000016637234743215257,
          0.00001838676621217301,
          0.00001870366145119773,
          0.000018850358843040017,
          0.000022800443135370807,
          0.000019177333351035726,
          0.00001992403836511189,
          0.000019734242561100916,
          0.000022982230568363624
         ]
        },
        {
         "line": {
          "dash": "dot"
         },
         "mode": "lines+markers",
         "name": "stderr frequency",
         "type": "scatter",
         "x": {
          "bdata": "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",
          "dtype": "f8"
         },
         "y": [
          0.07035884685822641,
          0.0640638421169645,
          0.05784060068116782,
          0.052648385108505134,
          0.04814311233722182,
          0.044144175811727075,
          0.040544838020089756,
          0.0372815654557036,
          0.03430821540900846,
          0.03158959215426492,
          0.029097910295326948,
          0.026809677135420595,
          0.024705019488536442,
          0.022766802015109486,
          0.020980184202383234,
          0.019331907143140592,
          0.01785441574246818,
          0.016439642278229603,
          0.015133760109366338,
          0.013927842433674075,
          0.012813818470140525,
          0.011784424502739832,
          0.010832991518990184,
          0.009953448101300954,
          0.009108899747570178,
          0.008388429483329523,
          0.007693188006306695,
          0.007050331241293084,
          0.006443735120753172,
          0.005896717378602354,
          0.005390661678557008,
          0.004922597867423035,
          0.004489743239588243,
          0.0040895865104837725,
          0.0037224768603986965,
          0.003380095822592022,
          0.003062558318865905,
          0.00277129597511476,
          0.002502580603789091,
          0.002251106796462965,
          0.0020265445997233156,
          0.0018132420057693007,
          0.0016233415344160892,
          0.0014430506724732277,
          0.0012805519320936752,
          0.0011318447764526183,
          0.000996108525807636,
          0.0008726379875219256,
          0.000762350000492504,
          0.000661562311999212,
          0.0005712309213856888,
          0.0004934224785892339,
          0.00042602335129112416,
          0.00036987869049260295,
          0.0003269543245329332,
          0.0002971162387114551,
          0.0002798582537481651,
          0.00027231242007735526,
          0.00027325084083203594,
          0.0002776867692710259,
          0.0002827427715103078,
          0.00028439179758387194,
          0.00027999868416743294,
          0.0002692222451936593,
          0.00025072868432261255,
          0.0002275524114367348,
          0.00020436508528417978,
          0.0001847996709516568,
          0.00017388454790680791,
          0.00017100222254155708,
          0.00017373117330954087,
          0.00017615406368968117,
          0.0001745495726139067,
          0.00016609658373981814,
          0.00015233970622332153,
          0.0001379208259999253,
          0.00012837545311698137,
          0.00012639754856110834,
          0.00012875554569158335,
          0.0001285058266134327,
          0.0001223208156732291,
          0.00011146164250370632,
          0.0001028209826671797,
          0.00010081496135176393,
          0.00010232020725001502,
          0.00010037453585481912,
          0.00009273434152530123,
          0.00008530315699515117,
          0.00008406157739671323,
          0.00008489839315331542,
          0.00008086591501513966,
          0.00007379904114941615,
          0.00007192836975899147,
          0.00007257811130197825,
          0.00006826206103750942,
          0.00006326638402841076,
          0.00006353084640509781,
          0.00006161023768719451,
          0.00005659066060388601,
          0.00005648180853577711,
          0.00005465717998924836,
          0.000050636598616089086,
          0.000050985195733980064,
          0.00004766115111219484,
          0.00004622699766886901,
          0.000045078581373778604,
          0.00004233387559112501,
          0.000042106179839817734,
          0.000039195699209153304,
          0.00003903791637638322,
          0.00003642348706666254,
          0.000035990768563588435,
          0.00003415915006225055,
          0.00003295342298277677,
          0.000032235600780140885,
          0.000030254421096603535,
          0.00002976366027901349,
          0.000028782457730137495,
          0.000027205046564801546,
          0.000026333537180759473,
          0.00002576660209794374,
          0.000024812107897460086,
          0.000023672420686617618,
          0.00002267813728899179,
          0.00002183728334588332,
          0.000021126219778268627,
          0.000020366217301458963,
          0.000019679323144666918,
          0.000018944503407686393,
          0.000018291991414697393,
          0.00001769273910379684,
          0.00001720997642611808,
          0.000016648728008366932,
          0.00001592031745593877,
          0.000015357026677554472,
          0.000014973266166373923,
          0.000014290485573998926,
          0.0000139726658660396,
          0.000013354071232995491,
          0.000013010981158270892,
          0.000012529340598618587,
          0.000012033650716599277,
          0.000011712958064806094,
          0.000011332746929167255,
          0.000010962631702050152,
          0.00001062772074003235,
          0.000010245879957106299,
          0.000009859219781199194,
          0.000009546113773635966,
          0.000009290736951167722,
          0.000008933912871183495,
          0.000008732373240670857,
          0.000008396713279520337,
          0.00000814990875463791,
          0.00000789172652249056,
          0.00000767494225701616,
          0.000007412308873610201,
          0.000007185466712232282,
          0.000007000186221235847,
          0.000006763953328950064,
          0.00000661753259183522,
          0.000006392119814918315,
          0.000006228122943468801,
          0.0000060424121957304755,
          0.0000059043777662448186,
          0.000005714167807585767,
          0.0000055907099085782716,
          0.000005417051076638969,
          0.00000527041283010965,
          0.000005143667541331632,
          0.000005029695651368207,
          0.000004911354951880152,
          0.000004792231951216056,
          0.000004669239752070972,
          0.0000045688209540982065,
          0.0000044734359960125945,
          0.000004394754120923679,
          0.000004289284335995428,
          0.000004203851168437617,
          0.0000041350889135216574,
          0.0000040500764081073804,
          0.00000397976319594725,
          0.000003924621770603839,
          0.00000386528204391321,
          0.000003806403012624807,
          0.0000037547692324110293,
          0.000003694542147849124,
          0.000003661428832899187,
          0.0000036187427332757466,
          0.000003582584019595953,
          0.000003551565718711757,
          0.0000035152540036197725,
          0.000003493810329254963,
          0.0000034715529681429444,
          0.0000034683802715024885,
          0.0000034580615163615862,
          0.000003439435554724587,
          0.000003447335470992182,
          0.0000034497240631655284,
          0.000003444728133193515,
          0.0000034554851701542036,
          0.000003471514598874896,
          0.000003498428900591287,
          0.00000351264305309963,
          0.0000035489263382597986,
          0.0000035701183352697745,
          0.0000036048219820272326,
          0.0000036476406872920437,
          0.0000036905117762691125,
          0.000003737761274368989,
          0.0000037896070218178963,
          0.0000038482214690554405,
          0.0000039066860041642616,
          0.000003982377396837426,
          0.000004038471433346706,
          0.000004108171476731364,
          0.0000041838178816047794,
          0.000004273840773855113,
          0.00000434678091527734,
          0.0000044565485500166406,
          0.0000061919088167727284,
          0.000004613661586339316,
          0.0000046014634643191175,
          0.000004677778934383841,
          0.0000047602892490550405,
          0.000004838087402192989,
          0.00000494624132968997,
          0.000005037679293757724,
          0.000005126297987700303,
          0.000005221158120017815,
          0.000005327970288346321,
          0.00000542975028866831,
          0.0000055332214026966915,
          0.000005645109144516489,
          0.000005753965278778941,
          0.000005877590406323358,
          0.0000059788799701596535,
          0.000006107164237535746,
          0.000006131510649826619,
          0.000006256347878131333,
          0.000006529985576131042,
          0.0000066002304988376455,
          0.000006722191095465159,
          0.000006839658637702523,
          0.00000697535220521055,
          0.000007124016843156689,
          0.000007249751046494333,
          0.000007393899051608751,
          0.000007552233696809633,
          0.000007750492484426944,
          0.000008210585174351498,
          0.000007994110341832605,
          0.00000813875031548411,
          0.000008293212680395747,
          0.000008458534135051055,
          0.000008626494048979297,
          0.000008757409303526864,
          0.000008948571102069229,
          0.0000092136284720788,
          0.000009315401887636632,
          0.000009541287324607473,
          0.000009699554821098823,
          0.000009893319231454913,
          0.0000329046656502994,
          0.000010288347358255676,
          0.00001047380208796802,
          0.000010680570120461174,
          0.00001085982671689702,
          0.000011318272182937387,
          0.00001141512325934986,
          0.000011564875471677413,
          0.000011827990057429215,
          0.000012561919855922339,
          0.000012242112555163903,
          0.000012441396795875118,
          0.000012845339005469885,
          0.000013065423495056351,
          0.000013195605293181469,
          0.000014383856056797758,
          0.000013825934448940912,
          0.000013920198974370413,
          0.000015338432379507504,
          0.000014595738672911914,
          0.000015058453300627522,
          0.000015252831289545235,
          0.000015370922456461247,
          0.00001599313071097515,
          0.000016163658832838255,
          0.000017587899233661925,
          0.000016620484475064213,
          0.000017250695033856968,
          0.000017801860764574253,
          0.000018067552781583096,
          0.000018448931450530435,
          0.000018459865101063492,
          0.000023198011648020704,
          0.000019390351622799314,
          0.000019630743798810355,
          0.000020959254439743834,
          0.000023731693033412654
         ]
        },
        {
         "line": {
          "dash": "dash"
         },
         "mode": "lines",
         "name": "theory frequency",
         "type": "scatter",
         "x": {
          "bdata": "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",
          "dtype": "f8"
         },
         "y": [
          0.002466629224562157,
          0.0023738571096598117,
          0.0022842732902277145,
          0.0021978541817386536,
          0.0021149968688720646,
          0.0020350994190817093,
          0.001958254384453887,
          0.0018842979867587284,
          0.0018131242372903358,
          0.0017447032161614594,
          0.0016788876233970378,
          0.0016154948291909224,
          0.0015544793555095976,
          0.0014958514515795104,
          0.0014393849086748467,
          0.0013850669732032293,
          0.0013327843815834715,
          0.0012824952943770774,
          0.001234086629585951,
          0.0011875275947714735,
          0.001142713571917943,
          0.0010995973214944575,
          0.0010581107096572086,
          0.0010181855621003285,
          0.0009797695958219878,
          0.0009428076467959183,
          0.0009072408288593898,
          0.0008730164174697055,
          0.0008400858188892221,
          0.0008083987987715804,
          0.0007779098445565791,
          0.0007485718358508969,
          0.0007203416266404111,
          0.000693177586110779,
          0.0006670398546701615,
          0.0006418900910337637,
          0.0006176895102363365,
          0.0005944033881316493,
          0.0005719969161287282,
          0.0005504366170729232,
          0.0005296909644987076,
          0.0005097287862618828,
          0.0004905205724980647,
          0.0004720378869981367,
          0.0004542534474736649,
          0.00043714073700040605,
          0.00042067449097259147,
          0.00040483018278426625,
          0.0003895843991955254,
          0.0003749144854919812,
          0.0003607986740173419,
          0.00034721608514926206,
          0.00033414656350505475,
          0.0003215707209371088,
          0.0003094699179899286,
          0.0002978261969024213,
          0.00028662229849194047,
          0.00027584161736469634,
          0.0002654681687798976,
          0.0002554865586591189,
          0.00024588198859225004,
          0.0002366402254026237,
          0.00022774756149735272,
          0.00021919080917707164,
          0.00021095727944770264,
          0.0002030347684203165,
          0.0001954115253975477,
          0.00018807624746879588,
          0.000181018056789341,
          0.00017422648877595253,
          0.00016769147304040804,
          0.00016140331858924883,
          0.00015535270146383226,
          0.00014953065024979462,
          0.0001439285319024255,
          0.00013853803908629513,
          0.00013335117939873288,
          0.00012836026153090796,
          0.00012355788494031108,
          0.00011893692877227225,
          0.0001144905410386166,
          0.00011021212853197497,
          0.0001060953473058727,
          0.00010213409310315833,
          0.00009832249204904765,
          0.0000946548924257461,
          0.00009112585587871213,
          0.00008773014959906164,
          0.00008446273842236581,
          0.00008131877748230966,
          0.00007829360489546235,
          0.00007538273500103119,
          0.00007258185157356636,
          0.00006988680148438556,
          0.00006729358856579004,
          0.00006479836761364147,
          0.00006239743875891197,
          0.00006008724194789741,
          0.000057864351660731846,
          0.00005572547184757239,
          0.000053667431020968564,
          0.00005168717757879276,
          0.000049781775257472466,
          0.000047948398794745926,
          0.00004618432972602278,
          0.00004448695236659497,
          0.000042853749927534925,
          0.000041282300782802415,
          0.0000397702748846022,
          0.00003831543030383826,
          0.000036915609908191315,
          0.00003556873816473378,
          0.000034272818062465845,
          0.000033025928152155925,
          0.0000318262196978797,
          0.00003067191393685469,
          0.00002956129944264809,
          0.000028492729589028834,
          0.000027464620108659097,
          0.00002647544674630454,
          0.000025523742999124712,
          0.000024608097944190216,
          0.0000237271541476916,
          0.000022879605653988596,
          0.000022064196051058523,
          0.000021279716609343026,
          0.000020525004491909592,
          0.000019798941032322455,
          0.00001910045007868368,
          0.00001842849640056085,
          0.00001778208415701474,
          0.000017160255423242634,
          0.000016562088773703352,
          0.00001598669791961807,
          0.000015433230398962214,
          0.000014900866316898399,
          0.00001438881713486147,
          0.000013896324506567173,
          0.000013422659159203778,
          0.00001296711981819613,
          0.000012529032173968322,
          0.000012107747889266087,
          0.000011702643645535152,
          0.00001131312022705161,
          0.000010938601641452677,
          0.000010578534275443644,
          0.000010232386084471059,
          0.00000989964581522276,
          0.000009579822259872769,
          0.000009272443541026248,
          0.000008977056426378305,
          0.000008693225672151264,
          0.000008420533394410572,
          0.000008158578467418591,
          0.000007906975948217225,
          0.000007665356526681293,
          0.000007433366000321891,
          0.000007210664773157273,
          0.000006996927378008156,
          0.0000067918420216083,
          0.00000659511015195417,
          0.000006406446047347709,
          0.000006225576426612586,
          0.000006052240079988775,
          0.000005886187520227867,
          0.000005727180653426294,
          0.000005574992469140981,
          0.00000542940674933311,
          0.000005290217795677295,
          0.000005157230174756175,
          0.000005030258480630615,
          0.000004909127114231974,
          0.000004793670078963037,
          0.0000046837307918147535,
          0.00000457916190920394,
          0.000004479825166609275,
          0.000004385591230924155,
          0.000004296339564252079,
          0.000004211958297636725,
          0.000004132344112940848,
          0.000004057402130759008,
          0.000003987045801863807,
          0.0000039211967992383675,
          0.000003859784907234299,
          0.00000380274790381113,
          0.0000037500314311584022,
          0.000003701588849276712,
          0.000003657381066305076,
          0.0000036173763385404526,
          0.0000035815500322213536,
          0.000003549884338271522,
          0.000003522367930365991,
          0.0000034989955559512294,
          0.0000034797675493051017,
          0.000003464689255465785,
          0.000003453770354022985,
          0.00000344702407250863,
          0.0000034444662806327415,
          0.000003446114459089827,
          0.000003451986540328349,
          0.0000034620996237393953,
          0.0000034764685743532036,
          0.000003495104522431957,
          0.000003518013291288437,
          0.0000035451937920339574,
          0.0000035766364363116397,
          0.0000036123216306466,
          0.0000036522184277483773,
          0.000003696283419501631,
          0.0000037444599617732935,
          0.00000379667782071015,
          0.0000038528533221616375,
          0.000003912890068915489,
          0.000003976680264038276,
          0.000004044106643371202,
          0.000004115044978151896,
          0.000004189367063300314,
          0.000004266944062873547,
          0.0000043476500470552685,
          0.000004431365530230505,
          0.000004517980811604939,
          0.000004607398930903991,
          0.00000457975741723584,
          0.0000046664471844407315,
          0.000004755376578420114,
          0.000004846479271692715,
          0.000004939703287323504,
          0.000005035010671812504,
          0.000005132376737045883,
          0.000005231788972418283,
          0.000005333245737819778,
          0.000005436754846455185,
          0.000005542332135252056,
          0.000005650000102665046,
          0.0000057597866721282495,
          0.000005871724117247222,
          0.000005985848164534489,
          0.000006102197272789538,
          0.000006124119673423824,
          0.0000062393847898538275,
          0.000006521296496535158,
          0.000006590681723625801,
          0.000006718796960056567,
          0.000006849402824214984,
          0.000006982547628031946,
          0.0000071182806720113175,
          0.000007256652241723335,
          0.000007397713614150518,
          0.000007541517070020632,
          0.000007688115909704476,
          0.000007837564471230008,
          0.000007989918149587562,
          0.000008145233416878768,
          0.000008303567843080255,
          0.000008464980117312159,
          0.000008629530069563975,
          0.000008714467562165041,
          0.00000888060172569845,
          0.000009206131242083122,
          0.000009320344442591286,
          0.000009501521741505247,
          0.000009686220928890605,
          0.000009874510466406064,
          0.000010066460146530078,
          0.000010262141118430546,
          0.000010461625914337321,
          0.000010664988476427462,
          0.000010797580215149208,
          0.000011144134345061672,
          0.000011363205274227498,
          0.000011518746128153955,
          0.000011742657950643882,
          0.000011970922373989245,
          0.000012203624007988636,
          0.000012375382665563834,
          0.000012613348124969184,
          0.000012988887175085491,
          0.000013180553087531675,
          0.000013436768619189339,
          0.000013697964700466332,
          0.000013903556027606598,
          0.000014289922394236824,
          0.00001456988616851619,
          0.000014794519300778476,
          0.000015082108569839887,
          0.00001531811966851711,
          0.000015726635487350684,
          0.00001603445476953421,
          0.000016289467173567497,
          0.000016552571433354215,
          0.00001697902170567449,
          0.000017311089527522298,
          0.000017544284908231447,
          0.000017883366548477926,
          0.000018333609814847682,
          0.000018592998142307597,
          0.000018952570180284044,
          0.00001941862489794374,
          0.00001970272136019767,
          0.00002017540190704902
         ]
        },
        {
         "line": {
          "dash": "dashdot"
         },
         "mode": "lines",
         "name": "theory short time frequency",
         "type": "scatter",
         "x": {
          "bdata": "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",
          "dtype": "f8"
         },
         "y": [
          0.24665798922243287,
          0.21978635712824354,
          0.19581639380887284,
          0.17444345423760088,
          0.1554248054020238,
          0.1384685103393854,
          0.1233642344096524,
          0.10990678366352356,
          0.0979168008249442,
          0.08723804685767139,
          0.07772499475300107,
          0.06924673943698292,
          0.06169264329780869,
          0.05496567045602635,
          0.04897051022500463,
          0.04362978340992475,
          0.038871093177792145,
          0.03463196968672727,
          0.03085471840797457,
          0.027489962814011212,
          0.024491890152851113,
          0.021820919049153654,
          0.019441281717537177,
          0.017321085535248408,
          0.015432151829743092,
          0.013749279807318139,
          0.01224993351777877,
          0.01091409706673567,
          0.009723962476775648,
          0.008663621330869217,
          0.007718931952922631,
          0.006877261363125132,
          0.006127377218688931,
          0.005459270725633034,
          0.004864025827059899,
          0.004333698381690572,
          0.003861198316670169,
          0.003440226037629275,
          0.0030651600480681713,
          0.002730992433953007,
          0.0024332649358972795,
          0.002168001541403258,
          0.0019316622084495853,
          0.0017210927697236952,
          0.0015334833069967323,
          0.0013663294493728093,
          0.001217400798105541,
          0.0010847095615605722,
          0.0009664852759360775,
          0.000861150234858552,
          0.0007672988915364013,
          0.0006836791254983336,
          0.0006091752313463856,
          0.0005427931969229702,
          0.0004836474427743146,
          0.00043094893151348745,
          0.0003839947053803201,
          0.0003421584662833368,
          0.00030488220479861044,
          0.0002716687479250809,
          0.00024588198859225004,
          0.0002366402254026237,
          0.00022774756149735272,
          0.00021919080917707164,
          0.00021095727944770264,
          0.0002030347684203165,
          0.0001954115253975477,
          0.00018807624746879588,
          0.000181018056789341,
          0.00017422648877595253,
          0.00016769147304040804,
          0.00016140331858924883,
          0.00015535270146383226,
          0.00014953065024979462,
          0.0001439285319024255,
          0.00013853803908629513,
          0.00013335117939873288,
          0.00012836026153090796,
          0.00012355788494031108,
          0.00011893692877227225,
          0.0001144905410386166,
          0.00011021212853197497,
          0.0001060953473058727,
          0.00010213409310315833,
          0.00009832249204904765,
          0.0000946548924257461,
          0.00009112585587871213,
          0.00008773014959906164,
          0.00008446273842236581,
          0.00008131877748230966,
          0.00007829360489546235,
          0.00007538273500103119,
          0.00007258185157356636,
          0.00006988680148438556,
          0.00006729358856579004,
          0.00006479836761364147,
          0.00006239743875891197,
          0.00006008724194789741,
          0.000057864351660731846,
          0.00005572547184757239,
          0.000053667431020968564,
          0.00005168717757879276,
          0.000049781775257472466,
          0.000047948398794745926,
          0.00004618432972602278,
          0.00004448695236659497,
          0.000042853749927534925,
          0.000041282300782802415,
          0.0000397702748846022,
          0.00003831543030383826,
          0.000036915609908191315,
          0.00003556873816473378,
          0.000034272818062465845,
          0.000033025928152155925,
          0.0000318262196978797,
          0.00003067191393685469,
          0.00002956129944264809,
          0.000028492729589028834,
          0.000027464620108659097,
          0.00002647544674630454,
          0.000025523742999124712,
          0.000024608097944190216,
          0.0000237271541476916,
          0.000022879605653988596,
          0.000022064196051058523,
          0.000021279716609343026,
          0.000020525004491909592,
          0.000019798941032322455,
          0.00001910045007868368,
          0.00001842849640056085,
          0.00001778208415701474,
          0.000017160255423242634,
          0.000016562088773703352,
          0.00001598669791961807,
          0.000015433230398962214,
          0.000014900866316898399,
          0.00001438881713486147,
          0.000013896324506567173,
          0.000013422659159203778,
          0.00001296711981819613,
          0.000012529032173968322,
          0.000012107747889266087,
          0.000011702643645535152,
          0.00001131312022705161,
          0.000010938601641452677,
          0.000010578534275443644,
          0.000010232386084471059,
          0.00000989964581522276,
          0.000009579822259872769,
          0.000009272443541026248,
          0.000008977056426378305,
          0.000008693225672151264,
          0.000008420533394410572,
          0.000008158578467418591,
          0.000007906975948217225,
          0.000007665356526681293,
          0.000007433366000321891,
          0.000007210664773157273,
          0.000006996927378008156,
          0.0000067918420216083,
          0.00000659511015195417,
          0.000006406446047347709,
          0.000006225576426612586,
          0.000006052240079988775,
          0.000005886187520227867,
          0.000005727180653426294,
          0.000005574992469140981,
          0.00000542940674933311,
          0.000005290217795677295,
          0.000005157230174756175,
          0.000005030258480630615,
          0.000004909127114231974,
          0.000004793670078963037,
          0.0000046837307918147535,
          0.00000457916190920394,
          0.000004479825166609275,
          0.000004385591230924155,
          0.000004296339564252079,
          0.000004211958297636725,
          0.000004132344112940848,
          0.000004057402130759008,
          0.000003987045801863807,
          0.0000039211967992383675,
          0.000003859784907234299,
          0.00000380274790381113,
          0.0000037500314311584022,
          0.000003701588849276712,
          0.000003657381066305076,
          0.0000036173763385404526,
          0.0000035815500322213536,
          0.000003549884338271522,
          0.000003522367930365991,
          0.0000034989955559512294,
          0.0000034797675493051017,
          0.000003464689255465785,
          0.000003453770354022985,
          0.00000344702407250863,
          0.0000034444662806327415,
          0.000003446114459089827,
          0.000003451986540328349,
          0.0000034620996237393953,
          0.0000034764685743532036,
          0.000003495104522431957,
          0.000003518013291288437,
          0.0000035451937920339574,
          0.0000035766364363116397,
          0.0000036123216306466,
          0.0000036522184277483773,
          0.000003696283419501631,
          0.0000037444599617732935,
          0.00000379667782071015,
          0.0000038528533221616375,
          0.000003912890068915489,
          0.000003976680264038276,
          0.000004044106643371202,
          0.000004115044978151896,
          0.000004189367063300314,
          0.000004266944062873547,
          0.0000043476500470552685,
          0.000004431365530230505,
          0.000004517980811604939,
          0.000004607398930903991,
          0.00000457975741723584,
          0.0000046664471844407315,
          0.000004755376578420114,
          0.000004846479271692715,
          0.000004939703287323504,
          0.000005035010671812504,
          0.000005132376737045883,
          0.000005231788972418283,
          0.000005333245737819778,
          0.000005436754846455185,
          0.000005542332135252056,
          0.000005650000102665046,
          0.0000057597866721282495,
          0.000005871724117247222,
          0.000005985848164534489,
          0.000006102197272789538,
          0.000006124119673423824,
          0.0000062393847898538275,
          0.000006521296496535158,
          0.000006590681723625801,
          0.000006718796960056567,
          0.000006849402824214984,
          0.000006982547628031946,
          0.0000071182806720113175,
          0.000007256652241723335,
          0.000007397713614150518,
          0.000007541517070020632,
          0.000007688115909704476,
          0.000007837564471230008,
          0.000007989918149587562,
          0.000008145233416878768,
          0.000008303567843080255,
          0.000008464980117312159,
          0.000008629530069563975,
          0.000008714467562165041,
          0.00000888060172569845,
          0.000009206131242083122,
          0.000009320344442591286,
          0.000009501521741505247,
          0.000009686220928890605,
          0.000009874510466406064,
          0.000010066460146530078,
          0.000010262141118430546,
          0.000010461625914337321,
          0.000010664988476427462,
          0.000010797580215149208,
          0.000011144134345061672,
          0.000011363205274227498,
          0.000011518746128153955,
          0.000011742657950643882,
          0.000011970922373989245,
          0.000012203624007988636,
          0.000012375382665563834,
          0.000012613348124969184,
          0.000012988887175085491,
          0.000013180553087531675,
          0.000013436768619189339,
          0.000013697964700466332,
          0.000013903556027606598,
          0.000014289922394236824,
          0.00001456988616851619,
          0.000014794519300778476,
          0.000015082108569839887,
          0.00001531811966851711,
          0.000015726635487350684,
          0.00001603445476953421,
          0.000016289467173567497,
          0.000016552571433354215,
          0.00001697902170567449,
          0.000017311089527522298,
          0.000017544284908231447,
          0.000017883366548477926,
          0.000018333609814847682,
          0.000018592998142307597,
          0.000018952570180284044,
          0.00001941862489794374,
          0.00001970272136019767,
          0.00002017540190704902
         ]
        },
        {
         "line": {
          "dash": "dash"
         },
         "mode": "lines",
         "name": "theory undamped frequency",
         "type": "scatter",
         "x": {
          "bdata": "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",
          "dtype": "f8"
         },
         "y": [
          0.002465593120068237,
          0.0023724596291895255,
          0.0022828440587309294,
          0.0021966135266973086,
          0.002113640170429531,
          0.0020338009570096804,
          0.001956977500827807,
          0.0018830558880397134,
          0.0018119265076554682,
          0.0017434838890081992,
          0.0016776265453621532,
          0.0016142568234281372,
          0.0015532807585631873,
          0.0014946079354397727,
          0.0014381513539779146,
          0.001383827300341447,
          0.0013315552228071105,
          0.001281257612322435,
          0.0012328598875752915,
          0.0011862902844047014,
          0.0011414797493889152,
          0.0010983618374529795,
          0.0010568726133439574,
          0.0010169505568277187,
          0.000978536471466715,
          0.000941573396843487,
          0.0009060065240997382,
          0.0008717831146657432,
          0.0008388524220595821,
          0.0008071656166402402,
          0.0007766757132030012,
          0.000747337501309773,
          0.0007191074782510349,
          0.0006919437845400067,
          0.00066580614184339,
          0.0006406557932566425,
          0.0006164554458352283,
          0.0005931692152966286,
          0.0005707625728111162,
          0.0005492022938023974,
          0.0005284564086821984,
          0.0005084941554457519,
          0.0004892859340578856,
          0.0004708032625620821,
          0.00045301873484742414,
          0.0004359059800108064,
          0.00041943962325415057,
          0.0004035952482586486,
          0.0003883493609802368,
          0.00037367935481262044,
          0.00035956347706619143,
          0.0003459807967131329,
          0.00033291117335088483,
          0.00032033522733794983,
          0.0003082343110577539,
          0.0002965904812679555,
          0.0002853864724941997,
          0.0002746056714288682,
          0.0002642320922968618,
          0.0002542503531518873,
          0.00024464565306810414,
          0.00023540375019330602,
          0.00022651094063109837,
          0.00021795403812075706,
          0.00020972035448463651,
          0.0002017976808141362,
          0.00019417426936632718,
          0.00018683881614439535,
          0.00017978044413607171,
          0.00017298868718519485,
          0.0001664534744724919,
          0.00016016511558256414,
          0.00015411428613493658,
          0.0001482920139578635,
          0.0001426896657843893,
          0.00013729893445093804,
          0.0001321118265794486,
          0.00012712065072479094,
          0.00012231800596988938,
          0.00011769677095164023,
          0.00011325009330135254,
          0.00010897137948405369,
          0.00010485428502159364,
          0.00010089270508505096,
          0.00009708076544249049,
          0.00009341281374865062,
          0.00008988341116364377,
          0.00008648732428824318,
          0.00008321951740379683,
          0.00008007514500526228,
          0.00007704954461629042,
          0.000074138229875704,
          0.00007133688388511997,
          0.00006864135280785126,
          0.00006604763970959644,
          0.00006355189863178434,
          0.00006115042888878551,
          0.00005883966958053443,
          0.00005661619431242585,
          0.00005447670611465577,
          0.000052418032553473655,
          0.00005043712102709668,
          0.000048531034239310877,
          0.00004669694584404744,
          0.000044932136254475885,
          0.00004323398861039992,
          0.000041599984897976244,
          0.00004002770221600302,
          0.000038514809183241054,
          0.000037059062481441094,
          0.00003565830352895087,
          0.00003431045527996946,
          0.00003301351914470322,
          0.000031765572025856226,
          0.00003056476346706099,
          0.00002940931290902121,
          0.00002829750704929791,
          0.000027227697301824052,
          0.00002619829735238059,
          0.000025207780806409357,
          0.00002425467892567464,
          0.000023337578450417723,
          0.000022455119503774858,
          0.000021605993575351544,
          0.000020788941580962747,
          0.00002000275199566266,
          0.00001924625905729497,
          0.000018518341037900568,
          0.0000178179185804188,
          0.000017143953098216654,
          0.000016495445235072095,
          0.000015871433383328317,
          0.000015270992258021755,
          0.0000146932315248691,
          0.000014137294480079494,
          0.000013602356780033768,
          0.00001308762521894757,
          0.000012592336552705505,
          0.000012115756367122614,
          0.000011657177988954705,
          0.000011215921438043136,
          0.000010791332419039957,
          0.000010382781351218635,
          0.0000099896624349315,
          0.000009611392753329894,
          0.000009247411408014845,
          0.000008897178687336806,
          0.000008560175266110986,
          0.00000823590143556188,
          0.000007923876362354887,
          0.000007623637375616534,
          0.0000073347392808859546,
          0.000007056753699980373,
          0.000006789268435795868,
          0.000006531886861101319,
          0.000006284227330419477,
          0.000006045922614122892,
          0.00000581661935390575,
          0.000005595977538824031,
          0.000005383670001127219,
          0.000005179381931133812,
          0.000004982810410431492,
          0.000004793663962709544,
          0.000004611662121557754,
          0.000004436535014590683,
          0.000004268022963280848,
          0.000004105876097907297,
          0.000003949853987048729,
          0.0000037997252810716924,
          0.000003655267369085295,
          0.0000035162660488536912,
          0.000003382515209176957,
          0.0000032538165242693305,
          0.000003129979159681673,
          0.0000030108194893321037,
          0.000002896160823225172,
          0.0000027858331454558985,
          0.000002679672862110115,
          0.000002577522558687386,
          0.0000024792307666867137,
          0.000002384651739009022,
          0.000002293645233843292,
          0.0000022060763067159823,
          0.000002121815110395303,
          0.0000020407367023537203,
          0.0000019627208595031183,
          0.0000018876518999279882,
          0.0000018154185113522316,
          0.0000017459135860852946,
          0.0000016790340622028439,
          0.0000016146807707265231,
          0.0000015527582885761508,
          0.0000014931747970763572,
          0.0000014358419458078182,
          0.0000013806747216012313,
          0.000001327591322479761,
          0.0000012765130363630382,
          0.0000012273641243528722,
          0.0000011800717084275797,
          0.0000011345656633784407,
          0.0000010907785128280105,
          0.0000010486453291761337,
          0.0000010081036373252718,
          9.69093322042415e-7,
          9.315565388201931e-7,
          8.954376281050264e-7,
          8.606830327651162e-7,
          8.272412186759204e-7,
          7.950625983053327e-7,
          7.640994571852792e-7,
          7.343058831606857e-7,
          7.056376983109265e-7,
          6.780523934427828e-7,
          6.515090650578054e-7,
          6.259683547005888e-7,
          6.013923905980456e-7,
          5.777447315031286e-7,
          5.549903126597365e-7,
          5.330953938086868e-7,
          5.120275091576448e-7,
          4.91755419240842e-7,
          4.7224906459718147e-7,
          4.781356989605239e-7,
          4.600751353212861e-7,
          4.426967712326702e-7,
          4.259748380511179e-7,
          4.09884540489021e-7,
          3.944020198482585e-7,
          3.7950431864251496e-7,
          3.651693465559094e-7,
          3.5137584768747167e-7,
          3.381033690328824e-7,
          3.253322301567553e-7,
          3.1304349401047915e-7,
          3.0121893885235804e-7,
          2.898410312284058e-7,
          2.788928999737364e-7,
          2.6835831119599486e-7,
          2.664403701245563e-7,
          2.566865942648811e-7,
          2.3497315775474678e-7,
          2.3005168472070412e-7,
          2.2136196943434363e-7,
          2.1300048974360405e-7,
          2.049548472438567e-7,
          1.972131118539553e-7,
          1.8976380412630885e-7,
          1.825958782251516e-7,
          1.7569870554777714e-7,
          1.6906205896444117e-7,
          1.6267609765357113e-7,
          1.5653135250979188e-7,
          1.5061871210313512e-7,
          1.449294091686071e-7,
          1.3945500760608598e-7,
          1.3418738997126877e-7,
          1.3158436321537032e-7,
          1.2670717599824442e-7,
          1.1790485124103762e-7,
          1.1503290132355418e-7,
          1.1068777704298518e-7,
          1.0650678063188966e-7,
          1.0248371250751731e-7,
          9.861260726322956e-8,
          9.488772482299209e-8,
          9.130354192998954e-8,
          8.785474395673774e-8,
          8.571032072752716e-8,
          8.046246264345932e-8,
          7.738990152467899e-8,
          7.53139776736502e-8,
          7.246915163439785e-8,
          6.973178287523587e-8,
          6.709781242493556e-8,
          6.524822845804685e-8,
          6.280948519665649e-8,
          5.923005141012628e-8,
          5.7519980359977047e-8,
          5.5347284892816696e-8,
          5.325665839653354e-8,
          5.169329503065858e-8,
          4.8935751034474974e-8,
          4.707319551913554e-8,
          4.565457254561988e-8,
          4.393006773521793e-8,
          4.258680728572682e-8,
          4.0403069152081894e-8,
          3.8866694313460955e-8,
          3.7659299789677513e-8,
          3.6471620219295244e-8,
          3.4662562956994e-8,
          3.33454969104384e-8,
          3.24649438178231e-8,
          3.124549735612211e-8,
          2.9729665989128046e-8,
          2.8905943311444108e-8,
          2.7819528910335027e-8,
          2.650019398219525e-8,
          2.5741483229431788e-8,
          2.45494410621896e-8
         ]
        }
       ],
       "layout": {
        "height": 500,
        "template": {
         "data": {
          "bar": [
           {
            "error_x": {
             "color": "#2a3f5f"
            },
            "error_y": {
             "color": "#2a3f5f"
            },
            "marker": {
             "line": {
              "color": "#E5ECF6",
              "width": 0.5
             },
             "pattern": {
              "fillmode": "overlay",
              "size": 10,
              "solidity": 0.2
             }
            },
            "type": "bar"
           }
          ],
          "barpolar": [
           {
            "marker": {
             "line": {
              "color": "#E5ECF6",
              "width": 0.5
             },
             "pattern": {
              "fillmode": "overlay",
              "size": 10,
              "solidity": 0.2
             }
            },
            "type": "barpolar"
           }
          ],
          "carpet": [
           {
            "aaxis": {
             "endlinecolor": "#2a3f5f",
             "gridcolor": "white",
             "linecolor": "white",
             "minorgridcolor": "white",
             "startlinecolor": "#2a3f5f"
            },
            "baxis": {
             "endlinecolor": "#2a3f5f",
             "gridcolor": "white",
             "linecolor": "white",
             "minorgridcolor": "white",
             "startlinecolor": "#2a3f5f"
            },
            "type": "carpet"
           }
          ],
          "choropleth": [
           {
            "colorbar": {
             "outlinewidth": 0,
             "ticks": ""
            },
            "type": "choropleth"
           }
          ],
          "contour": [
           {
            "colorbar": {
             "outlinewidth": 0,
             "ticks": ""
            },
            "colorscale": [
             [
              0,
              "#0d0887"
             ],
             [
              0.1111111111111111,
              "#46039f"
             ],
             [
              0.2222222222222222,
              "#7201a8"
             ],
             [
              0.3333333333333333,
              "#9c179e"
             ],
             [
              0.4444444444444444,
              "#bd3786"
             ],
             [
              0.5555555555555556,
              "#d8576b"
             ],
             [
              0.6666666666666666,
              "#ed7953"
             ],
             [
              0.7777777777777778,
              "#fb9f3a"
             ],
             [
              0.8888888888888888,
              "#fdca26"
             ],
             [
              1,
              "#f0f921"
             ]
            ],
            "type": "contour"
           }
          ],
          "contourcarpet": [
           {
            "colorbar": {
             "outlinewidth": 0,
             "ticks": ""
            },
            "type": "contourcarpet"
           }
          ],
          "heatmap": [
           {
            "colorbar": {
             "outlinewidth": 0,
             "ticks": ""
            },
            "colorscale": [
             [
              0,
              "#0d0887"
             ],
             [
              0.1111111111111111,
              "#46039f"
             ],
             [
              0.2222222222222222,
              "#7201a8"
             ],
             [
              0.3333333333333333,
              "#9c179e"
             ],
             [
              0.4444444444444444,
              "#bd3786"
             ],
             [
              0.5555555555555556,
              "#d8576b"
             ],
             [
              0.6666666666666666,
              "#ed7953"
             ],
             [
              0.7777777777777778,
              "#fb9f3a"
             ],
             [
              0.8888888888888888,
              "#fdca26"
             ],
             [
              1,
              "#f0f921"
             ]
            ],
            "type": "heatmap"
           }
          ],
          "histogram": [
           {
            "marker": {
             "pattern": {
              "fillmode": "overlay",
              "size": 10,
              "solidity": 0.2
             }
            },
            "type": "histogram"
           }
          ],
          "histogram2d": [
           {
            "colorbar": {
             "outlinewidth": 0,
             "ticks": ""
            },
            "colorscale": [
             [
              0,
              "#0d0887"
             ],
             [
              0.1111111111111111,
              "#46039f"
             ],
             [
              0.2222222222222222,
              "#7201a8"
             ],
             [
              0.3333333333333333,
              "#9c179e"
             ],
             [
              0.4444444444444444,
              "#bd3786"
             ],
             [
              0.5555555555555556,
              "#d8576b"
             ],
             [
              0.6666666666666666,
              "#ed7953"
             ],
             [
              0.7777777777777778,
              "#fb9f3a"
             ],
             [
              0.8888888888888888,
              "#fdca26"
             ],
             [
              1,
              "#f0f921"
             ]
            ],
            "type": "histogram2d"
           }
          ],
          "histogram2dcontour": [
           {
            "colorbar": {
             "outlinewidth": 0,
             "ticks": ""
            },
            "colorscale": [
             [
              0,
              "#0d0887"
             ],
             [
              0.1111111111111111,
              "#46039f"
             ],
             [
              0.2222222222222222,
              "#7201a8"
             ],
             [
              0.3333333333333333,
              "#9c179e"
             ],
             [
              0.4444444444444444,
              "#bd3786"
             ],
             [
              0.5555555555555556,
              "#d8576b"
             ],
             [
              0.6666666666666666,
              "#ed7953"
             ],
             [
              0.7777777777777778,
              "#fb9f3a"
             ],
             [
              0.8888888888888888,
              "#fdca26"
             ],
             [
              1,
              "#f0f921"
             ]
            ],
            "type": "histogram2dcontour"
           }
          ],
          "mesh3d": [
           {
            "colorbar": {
             "outlinewidth": 0,
             "ticks": ""
            },
            "type": "mesh3d"
           }
          ],
          "parcoords": [
           {
            "line": {
             "colorbar": {
              "outlinewidth": 0,
              "ticks": ""
             }
            },
            "type": "parcoords"
           }
          ],
          "pie": [
           {
            "automargin": true,
            "type": "pie"
           }
          ],
          "scatter": [
           {
            "fillpattern": {
             "fillmode": "overlay",
             "size": 10,
             "solidity": 0.2
            },
            "type": "scatter"
           }
          ],
          "scatter3d": [
           {
            "line": {
             "colorbar": {
              "outlinewidth": 0,
              "ticks": ""
             }
            },
            "marker": {
             "colorbar": {
              "outlinewidth": 0,
              "ticks": ""
             }
            },
            "type": "scatter3d"
           }
          ],
          "scattercarpet": [
           {
            "marker": {
             "colorbar": {
              "outlinewidth": 0,
              "ticks": ""
             }
            },
            "type": "scattercarpet"
           }
          ],
          "scattergeo": [
           {
            "marker": {
             "colorbar": {
              "outlinewidth": 0,
              "ticks": ""
             }
            },
            "type": "scattergeo"
           }
          ],
          "scattergl": [
           {
            "marker": {
             "colorbar": {
              "outlinewidth": 0,
              "ticks": ""
             }
            },
            "type": "scattergl"
           }
          ],
          "scattermap": [
           {
            "marker": {
             "colorbar": {
              "outlinewidth": 0,
              "ticks": ""
             }
            },
            "type": "scattermap"
           }
          ],
          "scattermapbox": [
           {
            "marker": {
             "colorbar": {
              "outlinewidth": 0,
              "ticks": ""
             }
            },
            "type": "scattermapbox"
           }
          ],
          "scatterpolar": [
           {
            "marker": {
             "colorbar": {
              "outlinewidth": 0,
              "ticks": ""
             }
            },
            "type": "scatterpolar"
           }
          ],
          "scatterpolargl": [
           {
            "marker": {
             "colorbar": {
              "outlinewidth": 0,
              "ticks": ""
             }
            },
            "type": "scatterpolargl"
           }
          ],
          "scatterternary": [
           {
            "marker": {
             "colorbar": {
              "outlinewidth": 0,
              "ticks": ""
             }
            },
            "type": "scatterternary"
           }
          ],
          "surface": [
           {
            "colorbar": {
             "outlinewidth": 0,
             "ticks": ""
            },
            "colorscale": [
             [
              0,
              "#0d0887"
             ],
             [
              0.1111111111111111,
              "#46039f"
             ],
             [
              0.2222222222222222,
              "#7201a8"
             ],
             [
              0.3333333333333333,
              "#9c179e"
             ],
             [
              0.4444444444444444,
              "#bd3786"
             ],
             [
              0.5555555555555556,
              "#d8576b"
             ],
             [
              0.6666666666666666,
              "#ed7953"
             ],
             [
              0.7777777777777778,
              "#fb9f3a"
             ],
             [
              0.8888888888888888,
              "#fdca26"
             ],
             [
              1,
              "#f0f921"
             ]
            ],
            "type": "surface"
           }
          ],
          "table": [
           {
            "cells": {
             "fill": {
              "color": "#EBF0F8"
             },
             "line": {
              "color": "white"
             }
            },
            "header": {
             "fill": {
              "color": "#C8D4E3"
             },
             "line": {
              "color": "white"
             }
            },
            "type": "table"
           }
          ]
         },
         "layout": {
          "annotationdefaults": {
           "arrowcolor": "#2a3f5f",
           "arrowhead": 0,
           "arrowwidth": 1
          },
          "autotypenumbers": "strict",
          "coloraxis": {
           "colorbar": {
            "outlinewidth": 0,
            "ticks": ""
           }
          },
          "colorscale": {
           "diverging": [
            [
             0,
             "#8e0152"
            ],
            [
             0.1,
             "#c51b7d"
            ],
            [
             0.2,
             "#de77ae"
            ],
            [
             0.3,
             "#f1b6da"
            ],
            [
             0.4,
             "#fde0ef"
            ],
            [
             0.5,
             "#f7f7f7"
            ],
            [
             0.6,
             "#e6f5d0"
            ],
            [
             0.7,
             "#b8e186"
            ],
            [
             0.8,
             "#7fbc41"
            ],
            [
             0.9,
             "#4d9221"
            ],
            [
             1,
             "#276419"
            ]
           ],
           "sequential": [
            [
             0,
             "#0d0887"
            ],
            [
             0.1111111111111111,
             "#46039f"
            ],
            [
             0.2222222222222222,
             "#7201a8"
            ],
            [
             0.3333333333333333,
             "#9c179e"
            ],
            [
             0.4444444444444444,
             "#bd3786"
            ],
            [
             0.5555555555555556,
             "#d8576b"
            ],
            [
             0.6666666666666666,
             "#ed7953"
            ],
            [
             0.7777777777777778,
             "#fb9f3a"
            ],
            [
             0.8888888888888888,
             "#fdca26"
            ],
            [
             1,
             "#f0f921"
            ]
           ],
           "sequentialminus": [
            [
             0,
             "#0d0887"
            ],
            [
             0.1111111111111111,
             "#46039f"
            ],
            [
             0.2222222222222222,
             "#7201a8"
            ],
            [
             0.3333333333333333,
             "#9c179e"
            ],
            [
             0.4444444444444444,
             "#bd3786"
            ],
            [
             0.5555555555555556,
             "#d8576b"
            ],
            [
             0.6666666666666666,
             "#ed7953"
            ],
            [
             0.7777777777777778,
             "#fb9f3a"
            ],
            [
             0.8888888888888888,
             "#fdca26"
            ],
            [
             1,
             "#f0f921"
            ]
           ]
          },
          "colorway": [
           "#636efa",
           "#EF553B",
           "#00cc96",
           "#ab63fa",
           "#FFA15A",
           "#19d3f3",
           "#FF6692",
           "#B6E880",
           "#FF97FF",
           "#FECB52"
          ],
          "font": {
           "color": "#2a3f5f"
          },
          "geo": {
           "bgcolor": "white",
           "lakecolor": "white",
           "landcolor": "#E5ECF6",
           "showlakes": true,
           "showland": true,
           "subunitcolor": "white"
          },
          "hoverlabel": {
           "align": "left"
          },
          "hovermode": "closest",
          "mapbox": {
           "style": "light"
          },
          "paper_bgcolor": "white",
          "plot_bgcolor": "#E5ECF6",
          "polar": {
           "angularaxis": {
            "gridcolor": "white",
            "linecolor": "white",
            "ticks": ""
           },
           "bgcolor": "#E5ECF6",
           "radialaxis": {
            "gridcolor": "white",
            "linecolor": "white",
            "ticks": ""
           }
          },
          "scene": {
           "xaxis": {
            "backgroundcolor": "#E5ECF6",
            "gridcolor": "white",
            "gridwidth": 2,
            "linecolor": "white",
            "showbackground": true,
            "ticks": "",
            "zerolinecolor": "white"
           },
           "yaxis": {
            "backgroundcolor": "#E5ECF6",
            "gridcolor": "white",
            "gridwidth": 2,
            "linecolor": "white",
            "showbackground": true,
            "ticks": "",
            "zerolinecolor": "white"
           },
           "zaxis": {
            "backgroundcolor": "#E5ECF6",
            "gridcolor": "white",
            "gridwidth": 2,
            "linecolor": "white",
            "showbackground": true,
            "ticks": "",
            "zerolinecolor": "white"
           }
          },
          "shapedefaults": {
           "line": {
            "color": "#2a3f5f"
           }
          },
          "ternary": {
           "aaxis": {
            "gridcolor": "white",
            "linecolor": "white",
            "ticks": ""
           },
           "baxis": {
            "gridcolor": "white",
            "linecolor": "white",
            "ticks": ""
           },
           "bgcolor": "#E5ECF6",
           "caxis": {
            "gridcolor": "white",
            "linecolor": "white",
            "ticks": ""
           }
          },
          "title": {
           "x": 0.05
          },
          "xaxis": {
           "automargin": true,
           "gridcolor": "white",
           "linecolor": "white",
           "ticks": "",
           "title": {
            "standoff": 15
           },
           "zerolinecolor": "white",
           "zerolinewidth": 2
          },
          "yaxis": {
           "automargin": true,
           "gridcolor": "white",
           "linecolor": "white",
           "ticks": "",
           "title": {
            "standoff": 15
           },
           "zerolinecolor": "white",
           "zerolinewidth": 2
          }
         }
        },
        "title": {
         "text": "Comparison for frequency"
        },
        "width": 900,
        "xaxis": {
         "title": {
          "text": "Sample Duration (s)"
         },
         "type": "log"
        },
        "yaxis": {
         "title": {
          "text": "Uncertainty"
         },
         "type": "log"
        }
       }
      }
     },
     "metadata": {},
     "output_type": "display_data"
    },
    {
     "data": {
      "application/vnd.plotly.v1+json": {
       "config": {
        "plotlyServerURL": "https://plot.ly"
       },
       "data": [
        {
         "mode": "lines+markers",
         "name": "RMSE amplitude",
         "type": "scatter",
         "x": {
          "bdata": "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",
          "dtype": "f8"
         },
         "y": [
          0.037470888913230714,
          0.04752390793797885,
          0.03235853872644521,
          0.023641745589859518,
          0.017863401992851576,
          0.013758207309302974,
          0.010730324704493721,
          0.008447258136471377,
          0.00670271615226565,
          0.0053592994751918525,
          0.004321228886023968,
          0.0035193958164227023,
          0.0029026798682613725,
          0.002432361628308925,
          0.0020782123813132816,
          0.0018159740168190207,
          0.0016726734863244976,
          0.0015451007481928473,
          0.0014552637192901837,
          0.0013926397140907045,
          0.0013491920818055206,
          0.0013189961086805372,
          0.001297841284353698,
          0.0012827501577098136,
          0.001299909506044254,
          0.0012633863542493853,
          0.0012567877961018675,
          0.001251305363633265,
          0.0012905363211029707,
          0.0012882040069575342,
          0.0012855935815099934,
          0.0012826834079246808,
          0.001279385544566395,
          0.0012756828494552026,
          0.0012202092023515946,
          0.0012152296906981345,
          0.0012619434537453923,
          0.001256388809114562,
          0.0012502979854227074,
          0.00112567936833357,
          0.001236344852836039,
          0.001112384668626703,
          0.001168193635996316,
          0.0010969996284313063,
          0.0010883539210412663,
          0.0010789751396672943,
          0.0010687838760953525,
          0.00105769646680122,
          0.001149034989277435,
          0.0010865897460520595,
          0.0010587764511915474,
          0.0010983029415476506,
          0.001035963537613776,
          0.0009674999837506075,
          0.0009479581342774822,
          0.0009711717384048978,
          0.0009896947844196527,
          0.000883759168905787,
          0.0009148756088220219,
          0.0008432904505728309,
          0.0008911059347359851,
          0.000888279013583667,
          0.0008167051073249027,
          0.0009454956459304044,
          0.0008834302041314557,
          0.0009278515148287938,
          0.0009895005034030726,
          0.0008663552627719884,
          0.0009219282757563907,
          0.000859460801292319,
          0.0008726973965433802,
          0.0008774841413253935,
          0.0008713219060044792,
          0.0008760266271660758,
          0.000881707659699835,
          0.0009192098901953548,
          0.0008671100675291867,
          0.000911998567057119,
          0.000877528844159511,
          0.0008591603409747548,
          0.0008415642997899444,
          0.0009013186715474471,
          0.0008835557215140943,
          0.0008710216765532005,
          0.0009413095673751922,
          0.0008441291261763755,
          0.0009520603073937396,
          0.0009136171475023626,
          0.0009003322437758967,
          0.0008929663645778433,
          0.0009006348036388332,
          0.000890244352030418,
          0.000886126118569068,
          0.0008997550981006027,
          0.0009577016290690044,
          0.0009824470208811393,
          0.0009495628365441723,
          0.0009425616537636592,
          0.0009154387281475356,
          0.0009090800642477621,
          0.0009581813131407741,
          0.0009540358058107967,
          0.0009505113282720321,
          0.000860750238845188,
          0.0009597997340519507,
          0.0009411864807057031,
          0.0009346003676442367,
          0.0009125795439665965,
          0.0009269600572165966,
          0.0009412531599740234,
          0.0008496050039853481,
          0.0009607426382329985,
          0.0009030589585319925,
          0.0008592814158868441,
          0.0009452803025518567,
          0.0009218262926121482,
          0.0009029107197345375,
          0.000938363858557271,
          0.0009580971207907749,
          0.0008721225247191388,
          0.000907843209222924,
          0.0009201436036357061,
          0.0008750447316887231,
          0.0009343463136491333,
          0.0008995828397275648,
          0.0008904781222911245,
          0.0009036591731878961,
          0.0008818019365632212,
          0.0009325612411238627,
          0.0009503615415765177,
          0.0009458256534372816,
          0.0008821811584578926,
          0.0009844323613640228,
          0.0010131509000110906,
          0.00102380217086449,
          0.0009387554094908328,
          0.0009504757463196614,
          0.0009045695053739323,
          0.0009556700316730947,
          0.0008635634799003665,
          0.0008810865790406853,
          0.0009833149162549336,
          0.0009952425101463595,
          0.0009562832701563112,
          0.0010076736075230396,
          0.0009679657126609457,
          0.0009483487470856146,
          0.0010088807687718628,
          0.0009011534955711943,
          0.0009578750051148282,
          0.0009325164134085694,
          0.001036371410169813,
          0.0009452975422486235,
          0.0009734547794981997,
          0.000912224759948582,
          0.0009700633923435292,
          0.0009756866225160849,
          0.001001595486731254,
          0.0009943021345044374,
          0.0009831565176830056,
          0.0010120598117124384,
          0.0009735308626946398,
          0.001035970387220899,
          0.0009283669673649989,
          0.0010700999250001756,
          0.0010749591870992023,
          0.001001444533629241,
          0.0009653834404318695,
          0.0011179040662092847,
          0.001087963169010888,
          0.000985573951268115,
          0.0010242925562707983,
          0.0010582424551671406,
          0.0010650178663602855,
          0.001043089973346317,
          0.001068535818852078,
          0.0010171662024473177,
          0.001069422015019587,
          0.001171034248838139,
          0.001105419090886938,
          0.0011314442117740875,
          0.0011129315765724954,
          0.0011675648998687798,
          0.0012344854693710084,
          0.0011673525302817436,
          0.0011490814695717295,
          0.0012681454153791324,
          0.001210738291696148,
          0.0012963933104780897,
          0.0011907682226015312,
          0.0012107831601396947,
          0.0012961852038573718,
          0.00121511043284694,
          0.001227615637787017,
          0.0012893078422199758,
          0.001339468479904428,
          0.001379254445686671,
          0.0014074703221470788,
          0.0013185861166645683,
          0.001177800487299924,
          0.001432566624618669,
          0.0013328861631643157,
          0.0014571586077231022,
          0.0016039113301062773,
          0.0013823474967334878,
          0.0015275018405956596,
          0.0016355694995984155,
          0.0015128217231950183,
          0.0015605048612016307,
          0.0016846757706396153,
          0.0016438179113065913,
          0.0016019328081830092,
          0.0017136845157904581,
          0.0017073569997737182,
          0.0017279932063060867,
          0.001770294658428186,
          0.00176648870025087,
          0.001818037675234546,
          0.0018072932888643512,
          0.0019616983315887517,
          0.002122795233158489,
          0.0018998514426251856,
          0.0019224325340725264,
          0.00208677225342499,
          0.0019962478222772372,
          0.0020819709508457067,
          0.002250717882599693,
          0.0022299728701905986,
          0.0021523460054933387,
          0.0022035633935994716,
          0.002269765232686174,
          0.0024245122021962825,
          0.00252371230022764,
          0.002489072965696374,
          0.002447971283307381,
          0.0026760317680671513,
          0.0027754353321496725,
          0.0027744855463417667,
          0.002742958752671533,
          0.002768595779037369,
          0.0027350544507956484,
          0.003011134994700775,
          0.0030749746806494186,
          0.003116740592882539,
          0.002774926804461791,
          0.0030502043182440617,
          0.0032272580001665115,
          0.0031714993653814494,
          0.0032364044301392884,
          0.0033634961079611614,
          0.0033610399568656064,
          0.003509798346081549,
          0.0036485507481967714,
          0.0033502283792443597,
          0.003667657512540893,
          0.003500564295219883,
          0.003914201674685692,
          0.00354851831248869,
          0.0039026460918912312,
          0.003914699091431816,
          0.0041484108251742605,
          0.0040520914323561395,
          0.004356793446629273,
          0.00425221097144478,
          0.004362679644380628,
          0.004428045187910103,
          0.004560262280488749,
          0.00471322523334102,
          0.004630200491344606,
          0.00482273424866805,
          0.004693836709047903,
          0.004607848609743215,
          0.005024614888120249,
          0.005278663246669131,
          0.005082810486052705,
          0.005394906861018803,
          0.005168990864938078,
          0.004994710052867385,
          0.005665714014739662,
          0.0056969775950071674,
          0.0060277458480203355,
          0.005775095702026052,
          0.006142937059976684,
          0.00578524669189313,
          0.00563573915067705,
          0.0059618727411519514,
          0.005976467998352132,
          0.006769950621500487,
          0.006464313638032369,
          0.007154281318636066,
          0.005940842693660293,
          0.007002749499165843,
          0.006851649223719601,
          0.0064640509588216825,
          0.006892537739178525,
          0.007151373010351653,
          0.006813547143178421,
          0.0070746572259752505,
          0.007372543096921396,
          0.007722266098207476
         ]
        },
        {
         "line": {
          "dash": "dot"
         },
         "mode": "lines+markers",
         "name": "stderr amplitude",
         "type": "scatter",
         "x": {
          "bdata": "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",
          "dtype": "f8"
         },
         "y": [
          0.03853009217379888,
          0.03296504962480191,
          0.02461117044626331,
          0.01896181909940866,
          0.014814966988927475,
          0.011675697424268126,
          0.009263381150710251,
          0.00739557777016515,
          0.0059432568211219795,
          0.004812291939722721,
          0.003932452547661788,
          0.003250263892561811,
          0.002724619747718528,
          0.00232312677866942,
          0.0020199746621447265,
          0.0017941233549921916,
          0.0016557463808186193,
          0.0015329370486542406,
          0.0014455070490210493,
          0.001384125335633386,
          0.0013413478306712717,
          0.001311478001790929,
          0.0012903456843242254,
          0.0012750298804009967,
          0.001231269341164945,
          0.001254709473655729,
          0.0012475409114179067,
          0.0012415133744203962,
          0.0012217798372993617,
          0.0012195795823217734,
          0.0012171624211539047,
          0.0012144692329406359,
          0.0012114540996488986,
          0.001208091025572798,
          0.0012086602777291633,
          0.0012037218331544908,
          0.0011956433428526156,
          0.0011906238562605657,
          0.0011851197735727951,
          0.0011780499594266254,
          0.0011725149030695162,
          0.001163827646688161,
          0.0011582255234376415,
          0.0011471566835082885,
          0.0011377478380260452,
          0.0011275320678833982,
          0.0011164354180253527,
          0.0011043799760061693,
          0.0010934087775712892,
          0.0010791920271317423,
          0.001062387023003403,
          0.001047164247096268,
          0.0010290851966581048,
          0.0010079117613464902,
          0.0009876079071372563,
          0.000967205744961274,
          0.0009469823738229132,
          0.0009239591263131579,
          0.0009055262027398062,
          0.0008892373223835089,
          0.0008802157189199306,
          0.0008782282748118073,
          0.0008840786186845026,
          0.0008998626165989891,
          0.0009166706554072698,
          0.0009309286974654285,
          0.0009403393591114931,
          0.0009368447573409963,
          0.0009270793697794838,
          0.0009095456754450648,
          0.0008939947695901263,
          0.0008823336311607212,
          0.0008839000331170991,
          0.0008955145854158901,
          0.0009122716075438241,
          0.0009235620354108055,
          0.0009199215555123756,
          0.000904867514768735,
          0.0008905561274948364,
          0.000884640164807104,
          0.0008955539738645288,
          0.0009108976274532773,
          0.0009173941453935793,
          0.0009056686346223349,
          0.0008897418132815044,
          0.0008900747081741931,
          0.0009056717402576295,
          0.000914567251330755,
          0.0009030412793369713,
          0.0008898889307189922,
          0.000899500321490324,
          0.0009118109969311537,
          0.0009037396888235549,
          0.0008920700593183665,
          0.0009039733818790936,
          0.0009115387185478918,
          0.0008967390876213168,
          0.0008998770897081365,
          0.0009109386563486869,
          0.0008987897690663881,
          0.0009021782396469473,
          0.0009103537115886199,
          0.0008984409207849924,
          0.0009083962546769444,
          0.0009053579167458111,
          0.0009032614941430842,
          0.0009106875249571587,
          0.0009028539546881724,
          0.0009124773126803102,
          0.0009039477451417333,
          0.0009117117894254376,
          0.0009053539853044646,
          0.0009110269088306491,
          0.0009110999459284088,
          0.0009075900738075678,
          0.0009146050379262541,
          0.0009116053840547603,
          0.0009105134511772987,
          0.0009171935997180822,
          0.0009156470750397187,
          0.0009121992685800155,
          0.0009129877712954933,
          0.0009166890670839415,
          0.0009201018401959902,
          0.0009211220060128748,
          0.0009231899212708809,
          0.0009222438605069642,
          0.0009249509790444855,
          0.000925239498918844,
          0.0009273190968259844,
          0.0009261675370359131,
          0.0009252775223537933,
          0.0009255575293840812,
          0.0009302338559976856,
          0.0009316991010804095,
          0.0009301241850834102,
          0.0009352846394743242,
          0.0009351197967623372,
          0.0009400599958712899,
          0.0009373264935796155,
          0.0009422702867219013,
          0.000943915081167854,
          0.00094732923549346,
          0.0009459873882291965,
          0.0009475245790550435,
          0.0009526983329547909,
          0.000954508238410436,
          0.0009567497261718621,
          0.0009588491303455543,
          0.0009598179002985648,
          0.0009645136499174441,
          0.0009681577833979968,
          0.0009700691820642935,
          0.0009761176862864227,
          0.000975964336981507,
          0.0009818943957128612,
          0.0009830627073480142,
          0.0009868841857911819,
          0.0009891127481840203,
          0.0009932477139163358,
          0.000999796178545453,
          0.0010008570620919967,
          0.001009358006748808,
          0.0010109522486362954,
          0.001017772954294973,
          0.001020857809444394,
          0.0010280111345306335,
          0.0010310831407498195,
          0.0010355596213379008,
          0.001041148225298463,
          0.001047728758708713,
          0.0010575893589742302,
          0.0010630568521110305,
          0.001066720276328956,
          0.001074663794106477,
          0.0010804621632342938,
          0.0010922130085981973,
          0.0010959230191732675,
          0.0011040624550580443,
          0.0011160770409831748,
          0.0011228885195213418,
          0.0011306867758302988,
          0.0011448131497262773,
          0.0011548542633539438,
          0.0011654414355937977,
          0.0011750415481157298,
          0.0011826770866421067,
          0.0011993953314053684,
          0.001210333536339531,
          0.0012231025350966285,
          0.0012362156399926948,
          0.0012472440931899698,
          0.0012611913726175805,
          0.00127577617237958,
          0.0012946857384036157,
          0.001312084941243281,
          0.00132402476210956,
          0.0013454900463205778,
          0.001363731663611769,
          0.0013789457856045004,
          0.0013981210369726498,
          0.001419569080060345,
          0.001444174634796072,
          0.0014626996582882631,
          0.0014897889886769406,
          0.001509253000781892,
          0.0015335472781885403,
          0.0015604034050647174,
          0.001586940718914925,
          0.0016140450292802912,
          0.0016422900731354933,
          0.0016727868692287635,
          0.0017028015802130968,
          0.0017389187923724566,
          0.0017668835351184946,
          0.0017997199863417138,
          0.0018348856387279426,
          0.0018748575392112214,
          0.001906855670742004,
          0.0019484267123655984,
          0.0019814775187160373,
          0.002020154901506219,
          0.0020083407228552595,
          0.0020519555122744844,
          0.0020892872335393445,
          0.0021238177335565524,
          0.0021702542593365157,
          0.0022098873558728587,
          0.00224727290621535,
          0.002289016965136323,
          0.002333687550104768,
          0.002377001744497835,
          0.0024213619647849125,
          0.00246815795538575,
          0.002514741038519829,
          0.0025666110978104,
          0.0026097071900004366,
          0.002662365300793426,
          0.0026718252865351043,
          0.002716220446494464,
          0.002834164640316436,
          0.0028668782146996216,
          0.0029204574223965054,
          0.002968447179578527,
          0.0030244046765023195,
          0.0030871049078853427,
          0.003137710691017806,
          0.0031962440867738828,
          0.0032598630847545888,
          0.003319831906499189,
          0.003381143070155268,
          0.003435026882960111,
          0.003498551484617877,
          0.003561349580001183,
          0.0036272556041911765,
          0.0036929743486520308,
          0.003743268718413246,
          0.0037932720055894437,
          0.003918450609623279,
          0.003962555469318491,
          0.004053877379257164,
          0.004113736626086503,
          0.004177194605632085,
          0.004541768244744926,
          0.0043262981846197675,
          0.004409244898586084,
          0.0044868119266005405,
          0.00454715273061288,
          0.004677728608927785,
          0.004758245899976938,
          0.004815896562146744,
          0.004878727796073575,
          0.004979613100838612,
          0.005049860351377771,
          0.005125052869095522,
          0.005193399408127516,
          0.005337272632988068,
          0.005383738649609768,
          0.0054935543951053645,
          0.005581716180743314,
          0.0056247842407922315,
          0.005752513078604626,
          0.00584339535776317,
          0.005919067799737226,
          0.006009219311850402,
          0.006084428515760089,
          0.006212669328219531,
          0.006307969469867564,
          0.006380230440370455,
          0.006455541090920694,
          0.006580890814728495,
          0.006672405431438276,
          0.006751845734529752,
          0.006837760075864944,
          0.006956298312986829,
          0.007059666547007385,
          0.007125662903776167,
          0.007238494760296046,
          0.007341433211637168,
          0.007438202742248244
         ]
        },
        {
         "line": {
          "dash": "dash"
         },
         "mode": "lines",
         "name": "theory amplitude",
         "type": "scatter",
         "x": {
          "bdata": "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",
          "dtype": "f8"
         },
         "y": [
          0.0008945793081586014,
          0.0008947215289161835,
          0.0008947454850404331,
          0.0008946812462793698,
          0.0008947402798128351,
          0.0008947269590514296,
          0.0008947288516459625,
          0.0008947241982374856,
          0.0008947139438681593,
          0.0008947362609391088,
          0.0008947706343033573,
          0.0008947713174818995,
          0.0008947621253429307,
          0.000894802121021959,
          0.0008948106420116134,
          0.0008948296384679974,
          0.0008948383622816179,
          0.0008948604303329135,
          0.0008948694820821227,
          0.0008948947900272366,
          0.0008949103913649053,
          0.0008949306941059329,
          0.0008949526471028052,
          0.0008949705248892375,
          0.0008949901081104363,
          0.000895013240388642,
          0.000895036267885804,
          0.0008950591142714908,
          0.0008950839809273195,
          0.0008951094821380565,
          0.0008951373128582081,
          0.0008951653817719916,
          0.0008951940713686664,
          0.0008952236712415949,
          0.0008952547535018902,
          0.0008952879892215983,
          0.0008953213667719307,
          0.0008953565521505345,
          0.0008953932150833463,
          0.0008954310105662043,
          0.0008954707083999309,
          0.000895511695624434,
          0.0008955541647113803,
          0.0008955982513537151,
          0.0008956442583423462,
          0.0008956919779358396,
          0.0008957417034919626,
          0.0008957932803371835,
          0.0008958469583941429,
          0.0008959027116777003,
          0.0008959605806615892,
          0.0008960207756575278,
          0.0008960833512113607,
          0.0008961483784739998,
          0.0008962159762487379,
          0.0008962862028299336,
          0.0008963591786159574,
          0.0008964350358502076,
          0.0008965138922274719,
          0.000896595823557224,
          0.0008966809575720591,
          0.0008967694510724205,
          0.000896861421889399,
          0.0008969570000134954,
          0.0008970563223802654,
          0.0008971595565518209,
          0.000897266842319563,
          0.0008973783427651772,
          0.0008974942180913951,
          0.0008976146465251944,
          0.0008977398079716931,
          0.0008978698837730052,
          0.0008980050676038211,
          0.0008981455627108543,
          0.0008982915773078595,
          0.0008984433250031507,
          0.0008986010350793638,
          0.0008987649403582979,
          0.0008989352842305145,
          0.0008991123205669222,
          0.0008992963121782475,
          0.0008994875316094864,
          0.0008996862636052643,
          0.0008998928044049295,
          0.0009001074598441075,
          0.0009003305500392915,
          0.0009005624062422529,
          0.000900803373527091,
          0.0009010538099874135,
          0.0009013140884582484,
          0.0009015845956924753,
          0.0009018657346161887,
          0.0009021579234192695,
          0.000902461596854936,
          0.0009027772071998269,
          0.0009031052240102262,
          0.0009034461357697216,
          0.0009038004501997201,
          0.0009041686949637226,
          0.0009045514186951569,
          0.0009049491915011841,
          0.0009053626062341995,
          0.0009057922790208967,
          0.0009062388504754715,
          0.0009067029864041477,
          0.0009071853790452221,
          0.0009076867480130859,
          0.0009082078413514453,
          0.0009087494367902267,
          0.0009093123428185419,
          0.0009098973999524455,
          0.0009105054820270784,
          0.0009111374975167145,
          0.0009117943909250951,
          0.0009124771442248165,
          0.0009131867783641861,
          0.0009139243548239067,
          0.0009146909772591821,
          0.0009154877931666708,
          0.0009163159956823488,
          0.0009171768253893563,
          0.000918071572247985,
          0.0009190015775769171,
          0.0009199682361307212,
          0.0009209729982607874,
          0.0009220173721567408,
          0.000923102926199762,
          0.0009242312913918529,
          0.0009254041639075757,
          0.0009266233077363254,
          0.000927890557444197,
          0.0009292078210506306,
          0.0009305770830259148,
          0.0009320004074137173,
          0.0009334799410904236,
          0.0009350179171601697,
          0.0009366166584945162,
          0.000938278581425912,
          0.0009400061995989812,
          0.0009418021279883853,
          0.0009436690870894161,
          0.0009456099072936788,
          0.0009476275334531831,
          0.0009497250296468819,
          0.0009519055841559733,
          0.0009541725146607448,
          0.0009565292736684961,
          0.0009589794541845336,
          0.0009615267956389758,
          0.0009641751900820015,
          0.0009669286886614695,
          0.0009697915083981986,
          0.000972768039273965,
          0.0009758628516496447,
          0.0009790807040307257,
          0.0009824265511995816,
          0.000985905552734634,
          0.0009895230819377701,
          0.0009932847351930534,
          0.0009971963417809498,
          0.0010012639741739443,
          0.0010054939588408135,
          0.0010098928875884414,
          0.001014467629471626,
          0.0010192253433027195,
          0.0010241734907943632,
          0.0010293198503697224,
          0.0010346725316755562,
          0.0010402399908338825,
          0.0010460310464679235,
          0.0010520548965371698,
          0.0010583211360144236,
          0.0010648397754344995,
          0.0010716212603391858,
          0.001078676491635822,
          0.0010860168468768121,
          0.0010936542024536538,
          0.001101600956681115,
          0.0011098700537235569,
          0.0011184750082853063,
          0.0011274299309486666,
          0.0011367495539952148,
          0.001146449257486515,
          0.0011565450953073386,
          0.0011670538207856564,
          0.0011779929113969077,
          0.001189380591933001,
          0.0012012358553673199,
          0.001213578480474061,
          0.001226429045062998,
          0.0012398089334698969,
          0.0012537403367011703,
          0.0012682462433744662,
          0.0012833504193343304,
          0.0012990773735682684,
          0.001315452307824258,
          0.0013325010471643283,
          0.0013502499486169807,
          0.0013687257851600749,
          0.0013879556025299157,
          0.001407966546873585,
          0.0014287856621049031,
          0.0014504396570515822,
          0.00147295464414064,
          0.0014963558534834,
          0.00152066732876977,
          0.0015459116142827402,
          0.001572109445438395,
          0.0015992794582939702,
          0.0016274379361036443,
          0.0016565986128181753,
          0.0016867725539579162,
          0.0017179681340971302,
          0.0017501911269413944,
          0.0017834449185179402,
          0.001817730846476196,
          0.0018530486594035766,
          0.0018893970802398533,
          0.0019267744484421647,
          0.0019651794077648562,
          0.0020046116015538457,
          0.00204507233619474,
          0.00203258776926079,
          0.0020716832278664097,
          0.002111634358792706,
          0.002152439817984471,
          0.0021941004804820257,
          0.002236619504760988,
          0.002280002306242542,
          0.002324256455360214,
          0.002369391519031712,
          0.0024154188655674882,
          0.0024623514521605163,
          0.002510203611591929,
          0.002558990851234032,
          0.002608729673439627,
          0.0026594374225095813,
          0.002711132160034124,
          0.0027208723145181147,
          0.0027720843416483222,
          0.0028973354253297202,
          0.0029281625576515883,
          0.002985082752519288,
          0.003043109455351263,
          0.0031022641548590813,
          0.0031625687672898095,
          0.0032240456402536184,
          0.0032867175585669086,
          0.003350607751365136,
          0.0034157399000140885,
          0.003482138146536064,
          0.0035498271023889486,
          0.0036188318575105863,
          0.003689177989584283,
          0.0037608915735050535,
          0.003833999191038886,
          0.003871735924707683,
          0.003945547388768518,
          0.0040901763421897774,
          0.004140919930174796,
          0.004221414883187443,
          0.004303474570020054,
          0.004387129407386171,
          0.0044724104032669645,
          0.004559349168404848,
          0.00464797792802047,
          0.004738329533757515,
          0.004797238491128275,
          0.004951208434221916,
          0.00504853908356565,
          0.005117644064175294,
          0.0052171254657545395,
          0.0053185406769415055,
          0.005421927288879251,
          0.0054982376498014345,
          0.005603962917747741,
          0.005770810521585134,
          0.005855965442808505,
          0.005969799004217806,
          0.006085845365519744,
          0.0061771871854782254,
          0.006348845239296193,
          0.006473229866901014,
          0.006573031737968332,
          0.00670080428363937,
          0.006805661251992276,
          0.006987160048138623,
          0.007123920551823559,
          0.00723721957771338,
          0.007354113720389701,
          0.0075435805842761754,
          0.0076911144302760776,
          0.00779472040809708,
          0.007945370411506463,
          0.008145408224123952,
          0.008260651421566862,
          0.0084204050688233,
          0.008627467724157149,
          0.008753688456651062,
          0.008963694890331582
         ]
        },
        {
         "line": {
          "dash": "dashdot"
         },
         "mode": "lines",
         "name": "theory short time amplitude",
         "type": "scatter",
         "x": {
          "bdata": "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",
          "dtype": "f8"
         },
         "y": [
          0.05964395833361925,
          0.05113004136638936,
          0.043831446503887844,
          0.03757469245490353,
          0.03221106150259293,
          0.027613064633355878,
          0.023671411249750855,
          0.020292411440805503,
          0.017395749064487563,
          0.014912572710896488,
          0.012783859170410772,
          0.010959010508169137,
          0.009394651398830833,
          0.008053598135528564,
          0.006903974807436723,
          0.005918455638416372,
          0.005073615477911061,
          0.0043493730059305895,
          0.0037285134176748315,
          0.003196279242495829,
          0.002740019571377966,
          0.0023488893554246344,
          0.0020135916279754246,
          0.001726156523227754,
          0.0014797518388516744,
          0.0012685206398549051,
          0.0010874420436979032,
          0.0009322118776536622,
          0.0008950839809273195,
          0.0008951094821380565,
          0.0008951373128582081,
          0.0008951653817719916,
          0.0008951940713686664,
          0.0008952236712415949,
          0.0008952547535018902,
          0.0008952879892215983,
          0.0008953213667719307,
          0.0008953565521505345,
          0.0008953932150833463,
          0.0008954310105662043,
          0.0008954707083999309,
          0.000895511695624434,
          0.0008955541647113803,
          0.0008955982513537151,
          0.0008956442583423462,
          0.0008956919779358396,
          0.0008957417034919626,
          0.0008957932803371835,
          0.0008958469583941429,
          0.0008959027116777003,
          0.0008959605806615892,
          0.0008960207756575278,
          0.0008960833512113607,
          0.0008961483784739998,
          0.0008962159762487379,
          0.0008962862028299336,
          0.0008963591786159574,
          0.0008964350358502076,
          0.0008965138922274719,
          0.000896595823557224,
          0.0008966809575720591,
          0.0008967694510724205,
          0.000896861421889399,
          0.0008969570000134954,
          0.0008970563223802654,
          0.0008971595565518209,
          0.000897266842319563,
          0.0008973783427651772,
          0.0008974942180913951,
          0.0008976146465251944,
          0.0008977398079716931,
          0.0008978698837730052,
          0.0008980050676038211,
          0.0008981455627108543,
          0.0008982915773078595,
          0.0008984433250031507,
          0.0008986010350793638,
          0.0008987649403582979,
          0.0008989352842305145,
          0.0008991123205669222,
          0.0008992963121782475,
          0.0008994875316094864,
          0.0008996862636052643,
          0.0008998928044049295,
          0.0009001074598441075,
          0.0009003305500392915,
          0.0009005624062422529,
          0.000900803373527091,
          0.0009010538099874135,
          0.0009013140884582484,
          0.0009015845956924753,
          0.0009018657346161887,
          0.0009021579234192695,
          0.000902461596854936,
          0.0009027772071998269,
          0.0009031052240102262,
          0.0009034461357697216,
          0.0009038004501997201,
          0.0009041686949637226,
          0.0009045514186951569,
          0.0009049491915011841,
          0.0009053626062341995,
          0.0009057922790208967,
          0.0009062388504754715,
          0.0009067029864041477,
          0.0009071853790452221,
          0.0009076867480130859,
          0.0009082078413514453,
          0.0009087494367902267,
          0.0009093123428185419,
          0.0009098973999524455,
          0.0009105054820270784,
          0.0009111374975167145,
          0.0009117943909250951,
          0.0009124771442248165,
          0.0009131867783641861,
          0.0009139243548239067,
          0.0009146909772591821,
          0.0009154877931666708,
          0.0009163159956823488,
          0.0009171768253893563,
          0.000918071572247985,
          0.0009190015775769171,
          0.0009199682361307212,
          0.0009209729982607874,
          0.0009220173721567408,
          0.000923102926199762,
          0.0009242312913918529,
          0.0009254041639075757,
          0.0009266233077363254,
          0.000927890557444197,
          0.0009292078210506306,
          0.0009305770830259148,
          0.0009320004074137173,
          0.0009334799410904236,
          0.0009350179171601697,
          0.0009366166584945162,
          0.000938278581425912,
          0.0009400061995989812,
          0.0009418021279883853,
          0.0009436690870894161,
          0.0009456099072936788,
          0.0009476275334531831,
          0.0009497250296468819,
          0.0009519055841559733,
          0.0009541725146607448,
          0.0009565292736684961,
          0.0009589794541845336,
          0.0009615267956389758,
          0.0009641751900820015,
          0.0009669286886614695,
          0.0009697915083981986,
          0.000972768039273965,
          0.0009758628516496447,
          0.0009790807040307257,
          0.0009824265511995816,
          0.000985905552734634,
          0.0009895230819377701,
          0.0009932847351930534,
          0.0009971963417809498,
          0.0010012639741739443,
          0.0010054939588408135,
          0.0010098928875884414,
          0.001014467629471626,
          0.0010192253433027195,
          0.0010241734907943632,
          0.0010293198503697224,
          0.0010346725316755562,
          0.0010402399908338825,
          0.0010460310464679235,
          0.0010520548965371698,
          0.0010583211360144236,
          0.0010648397754344995,
          0.0010716212603391858,
          0.001078676491635822,
          0.0010860168468768121,
          0.0010936542024536538,
          0.001101600956681115,
          0.0011098700537235569,
          0.0011184750082853063,
          0.0011274299309486666,
          0.0011367495539952148,
          0.001146449257486515,
          0.0011565450953073386,
          0.0011670538207856564,
          0.0011779929113969077,
          0.001189380591933001,
          0.0012012358553673199,
          0.001213578480474061,
          0.001226429045062998,
          0.0012398089334698969,
          0.0012537403367011703,
          0.0012682462433744662,
          0.0012833504193343304,
          0.0012990773735682684,
          0.001315452307824258,
          0.0013325010471643283,
          0.0013502499486169807,
          0.0013687257851600749,
          0.0013879556025299157,
          0.001407966546873585,
          0.0014287856621049031,
          0.0014504396570515822,
          0.00147295464414064,
          0.0014963558534834,
          0.00152066732876977,
          0.0015459116142827402,
          0.001572109445438395,
          0.0015992794582939702,
          0.0016274379361036443,
          0.0016565986128181753,
          0.0016867725539579162,
          0.0017179681340971302,
          0.0017501911269413944,
          0.0017834449185179402,
          0.001817730846476196,
          0.0018530486594035766,
          0.0018893970802398533,
          0.0019267744484421647,
          0.0019651794077648562,
          0.0020046116015538457,
          0.00204507233619474,
          0.00203258776926079,
          0.0020716832278664097,
          0.002111634358792706,
          0.002152439817984471,
          0.0021941004804820257,
          0.002236619504760988,
          0.002280002306242542,
          0.002324256455360214,
          0.002369391519031712,
          0.0024154188655674882,
          0.0024623514521605163,
          0.002510203611591929,
          0.002558990851234032,
          0.002608729673439627,
          0.0026594374225095813,
          0.002711132160034124,
          0.0027208723145181147,
          0.0027720843416483222,
          0.0028973354253297202,
          0.0029281625576515883,
          0.002985082752519288,
          0.003043109455351263,
          0.0031022641548590813,
          0.0031625687672898095,
          0.0032240456402536184,
          0.0032867175585669086,
          0.003350607751365136,
          0.0034157399000140885,
          0.003482138146536064,
          0.0035498271023889486,
          0.0036188318575105863,
          0.003689177989584283,
          0.0037608915735050535,
          0.003833999191038886,
          0.003871735924707683,
          0.003945547388768518,
          0.0040901763421897774,
          0.004140919930174796,
          0.004221414883187443,
          0.004303474570020054,
          0.004387129407386171,
          0.0044724104032669645,
          0.004559349168404848,
          0.00464797792802047,
          0.004738329533757515,
          0.004797238491128275,
          0.004951208434221916,
          0.00504853908356565,
          0.005117644064175294,
          0.0052171254657545395,
          0.0053185406769415055,
          0.005421927288879251,
          0.0054982376498014345,
          0.005603962917747741,
          0.005770810521585134,
          0.005855965442808505,
          0.005969799004217806,
          0.006085845365519744,
          0.0061771871854782254,
          0.006348845239296193,
          0.006473229866901014,
          0.006573031737968332,
          0.00670080428363937,
          0.006805661251992276,
          0.006987160048138623,
          0.007123920551823559,
          0.00723721957771338,
          0.007354113720389701,
          0.0075435805842761754,
          0.0076911144302760776,
          0.00779472040809708,
          0.007945370411506463,
          0.008145408224123952,
          0.008260651421566862,
          0.0084204050688233,
          0.008627467724157149,
          0.008753688456651062,
          0.008963694890331582
         ]
        },
        {
         "line": {
          "dash": "dash"
         },
         "mode": "lines",
         "name": "theory undamped amplitude",
         "type": "scatter",
         "x": {
          "bdata": "FzmcYKqZuT85m+DT75q6PwFg18ROprs/+2lmsyy8vD9xoY4b89y9P0hNeZ0PCb8/FwmME3ogwD+4tLOPi8LAPyMAssn5asE/ygpisgQawj8jTEO97s/CP4s9tfn8jMM/QbYwLXdRxD9U8Yjupx3FP9OZPsLc8cU/zKHvN2bOxj8rFe8ImLPHPz+KEDjJocg/pUazMlSZyT9+qRnzlprKP/fpGSTzpcs/H701Rs67zD+J/ibWkdzNP3gF8HSrCM8/GHK/iEYg0D8ttPmJVsLQP8EpTEXDatE/IXRQrMwZ0j+zSl4ztc/SP/adyerBjNM/U6MemTpR1D9NxmXWaR3VPzzgeSid8dU/g4B7ICXO1j/3e2x5VbPXP4hr/zeFodg/xDenyw6Z2T8ZSfMwUJraPwx0RRWrpds/pDzv+4S73D/glcRkR9zdP+HQMvRfCN8/BYJ1TiAg4D9n5pflL8LgP85360icauE/CgCIbKUZ4j/k9IDHjc/iP9jyKG2ajOM/cZJTJxNR5D/snZ+RQh3lP04S1DV28eU/ysBaqf7N5j/e0uOrL7PnP7LlPUdgoeg/Oehu8OqY6T+VYhqqLZrqP/RNQiiKpes/ZSlw9WW77D8Wg1SZKtztP+m968BFCO8/jbgbtBQg8D9RLs4CJsLwP2PHeluUavE/VwA3uJ8Z8j/rT5mWis/yP124BxGajPM/3JoF+RVR9D+A5YrySB31Pz8bb5CA8fU/aiDzcQ3O9j/aJXVhQ7P3P+eAWnR5ofg/9rY7LAqZ+T88gV+ZU5r6P90Pkn63pfs/y1tmdpu7/D9S5O8Zadz9P/DIAymOCP8/f2QIWj4gAECVKc+jVcIAQD66wYzKagFAE5LzG90ZAkC7Dg7dz88CQJGatfnnjANARO3vU21RBECVoJWhqh0FQG7B2Yjt8QVAxnPyvYbOBkAhM+4hyrMHQBKxweIOoghAJtCanK+ZCUCvu4V8CpsKQImkcWSBpgtAKTijEHq8DECpeqM+Xt0NQPZFutWbCQ9ALiiCiNIgEEDHoZpV+MIQQJiNCwZ9axFAzlvsu6AaEkBPJx8gptASQL+U43vSjRNA13Zu021SFEAjwpABwx4VQH3KeNQf8xVAhDmZK9XPFkDAp8EWN7UXQGJBdfacoxhAOmWMnWGbGUAqty5045waQCOxM5yEqBtAaFX4Fqu+HEBpQ7nswN8dQLcWgVU0DB9AT9Ld8TsiIEBSsT9YgcQgQKp+z0QobSFAyPbKEHEcIkDt1LGgntIiQBL1NH72jyNATawx88BUJECLe8QlSSElQF69fjXd9SVADnLLWc7SJkAy1o8BcbgnQNL+FPQcpyhAYU1Icy2fKUA7KmFfAaEqQEcb+1v7rCtAC/iz9oHDLEBWtF7P/+QtQM7428HjES9ArkTViFAlMEDpJqHL18cwQF3WpvfFcDFA1+nq1VsgMkDMvbvD3NYyQJhdW82OlDNAscPEybpZNEC/0Jh3rCY1QLPuP5uy+zVA6vRNHh/ZNkBBiDYwR783QIDjYGiDrjhAOa2q6S+nOUCrRWqHrKk6QCnFAexctjtAqr8UwajNPED0x3PZ++89QOGi0VzGHT9AGI6rer4rQECuwJV/zM5AQOVzBF1MeEFAGUt6vn8oQkDDlxr2qt9CQC3K0BgVnkNAuG+yGwhkREABsqry0DFFQDgZf7C/B0ZAly0+qCfmRkDZfSmQX81HQFCGLabBvUhALP361au3SUCgHtbgf7tKQCPAMYejyUtA8C0ttIDiTEAAKw2rhQZOQKLTyTYlNk9AjFPmbes4UECJy/2FC91QQIHbl66zh1FAav0bYSc5UkB7N0XjrPFSQF43ZGaNsVNAilAeKBV5VECb+L2Uk0hVQDaoKmtbIFZAkm2f4sIAV0Df+zjSI+pXQLOgddrb3FhASELDkEzZWUAqaDmt299aQPBPnzrz8FtA8zrgyAENXUDwdBKiejReQE4ZOALWZ19AG6nxqMhTYEDoXvWxF/pgQBHoLlscp2FAbTx22x1bYkADhXyFZhZjQLuyx+1D2WNAX2nAEgekZEB0T/SGBHdlQE9lsZ2UUmZAgNIhmhM3Z0AroxLh4SRoQDQ+ky1kHGlA2PmeyAMeakCuIQbELiprQLIN0DhYQWxAeZhUifhjbUAoZFCnjZJuQMX3PF6bzW9A5fEd0dWKcEAna/VxpzVxQID1vjSO53FAd87CVtmgckAVVufh22FzQMAKauLsKnRADAUjoGf8dECbXZrbq9Z1QBx7PQ8eunZA/4cJtSend0BoWQiRN554QL30BQHCn3lA9b7uUUGsekCYUlEbNsR7QEsji6En6HxAQqA0P6QYfkCmmXDWQVZ/QP7AaSXPUIBAluCEw2IdgEB83lekVL+AQJ/0PfqhZ4FAGzRGqIoWgkDUGocTUcyCQD+eUjw6iYNAUn1n2I1NhECkyylulhmFQDsK7XCh7YVA3otaXv/JhkAjTf/cA6+HQCnaDNwFnYhA6E5ZtF+UiUC4+apKb5WKQPyjXDOWoItAKQlo1zm2jECddXe+IuuMQGKg5B9yBI5A7AMtkEZlkEDdEGtKEb+QQKQ0eftbZ5FAMJkX6kEWkkDsuFF6BcySQHAKZKvriJNANensMTxNlEA6sySTQRmVQPdvJ0FJ7ZVAcL5auKPJlkB+MvudpK6XQNe63N+inJhAihxq1fiTmUCcC/BhBJWaQG7kQBgnoJtA+Y2+X8a1nECg8qpmK0edQLHbpQ6sZ55ASL18uGJWoEBQH43xzb6gQMnyzf0VZ6FAPYkNLfkVokDbXUziucuiQLtssRudiKNAgrK6jOpMpEAd3HS57BilQGZ8xBLx7KVAUH0n0V95pkAb2+PBnfCnQE2Z2szv46hAuZ4Y+JGTqUCAD+N6mZSqQLf34/63n6tA7m/l6VK1rEBFoxWBp4WtQMAU4p8Zq65AEhJkIchCsECnBb6Zir6wQJwqPAHQZrFApv8ncbAVskA9QV6HtKGyQJvBd796rrNAoN6ejtZ1tEDqQBrhlxi1QOspxOWY7LVAkQFuzaCdtkBmdyv6jNa3QIpDFc/Hx7hA5c5kHCuTuUC2hbaiX2i6QANp/nQzybtATEi+tyfivEDnZddRtaq9QK06tyYd075AhxxdzboywEBetWDK5ajAQAHFW4tzT8FAGRh2MBMswkDOMkz8MLXCQN/0pje9ncNA",
          "dtype": "f8"
         },
         "y": [
          0.00044721359549995795,
          0.00044721359549995795,
          0.00044721359549995795,
          0.00044721359549995795,
          0.00044721359549995795,
          0.00044721359549995795,
          0.00044721359549995795,
          0.00044721359549995795,
          0.00044721359549995795,
          0.00044721359549995795,
          0.00044721359549995795,
          0.00044721359549995795,
          0.00044721359549995795,
          0.00044721359549995795,
          0.00044721359549995795,
          0.00044721359549995795,
          0.00044721359549995795,
          0.00044721359549995795,
          0.00044721359549995795,
          0.00044721359549995795,
          0.00044721359549995795,
          0.00044721359549995795,
          0.00044721359549995795,
          0.00044721359549995795,
          0.00044721359549995795,
          0.00044721359549995795,
          0.00044721359549995795,
          0.00044721359549995795,
          0.00044721359549995795,
          0.00044721359549995795,
          0.00044721359549995795,
          0.00044721359549995795,
          0.00044721359549995795,
          0.00044721359549995795,
          0.00044721359549995795,
          0.00044721359549995795,
          0.00044721359549995795,
          0.00044721359549995795,
          0.00044721359549995795,
          0.00044721359549995795,
          0.00044721359549995795,
          0.00044721359549995795,
          0.00044721359549995795,
          0.00044721359549995795,
          0.00044721359549995795,
          0.00044721359549995795,
          0.00044721359549995795,
          0.00044721359549995795,
          0.00044721359549995795,
          0.00044721359549995795,
          0.00044721359549995795,
          0.00044721359549995795,
          0.00044721359549995795,
          0.00044721359549995795,
          0.00044721359549995795,
          0.00044721359549995795,
          0.00044721359549995795,
          0.00044721359549995795,
          0.00044721359549995795,
          0.00044721359549995795,
          0.00044721359549995795,
          0.00044721359549995795,
          0.00044721359549995795,
          0.00044721359549995795,
          0.00044721359549995795,
          0.00044721359549995795,
          0.00044721359549995795,
          0.00044721359549995795,
          0.00044721359549995795,
          0.00044721359549995795,
          0.00044721359549995795,
          0.00044721359549995795,
          0.00044721359549995795,
          0.00044721359549995795,
          0.00044721359549995795,
          0.00044721359549995795,
          0.00044721359549995795,
          0.00044721359549995795,
          0.00044721359549995795,
          0.00044721359549995795,
          0.00044721359549995795,
          0.00044721359549995795,
          0.00044721359549995795,
          0.00044721359549995795,
          0.00044721359549995795,
          0.00044721359549995795,
          0.00044721359549995795,
          0.00044721359549995795,
          0.00044721359549995795,
          0.00044721359549995795,
          0.00044721359549995795,
          0.00044721359549995795,
          0.00044721359549995795,
          0.00044721359549995795,
          0.00044721359549995795,
          0.00044721359549995795,
          0.00044721359549995795,
          0.00044721359549995795,
          0.00044721359549995795,
          0.00044721359549995795,
          0.00044721359549995795,
          0.00044721359549995795,
          0.00044721359549995795,
          0.00044721359549995795,
          0.00044721359549995795,
          0.00044721359549995795,
          0.00044721359549995795,
          0.00044721359549995795,
          0.00044721359549995795,
          0.00044721359549995795,
          0.00044721359549995795,
          0.00044721359549995795,
          0.00044721359549995795,
          0.00044721359549995795,
          0.00044721359549995795,
          0.00044721359549995795,
          0.00044721359549995795,
          0.00044721359549995795,
          0.00044721359549995795,
          0.00044721359549995795,
          0.00044721359549995795,
          0.00044721359549995795,
          0.00044721359549995795,
          0.00044721359549995795,
          0.00044721359549995795,
          0.00044721359549995795,
          0.00044721359549995795,
          0.00044721359549995795,
          0.00044721359549995795,
          0.00044721359549995795,
          0.00044721359549995795,
          0.00044721359549995795,
          0.00044721359549995795,
          0.00044721359549995795,
          0.00044721359549995795,
          0.00044721359549995795,
          0.00044721359549995795,
          0.00044721359549995795,
          0.00044721359549995795,
          0.00044721359549995795,
          0.00044721359549995795,
          0.00044721359549995795,
          0.00044721359549995795,
          0.00044721359549995795,
          0.00044721359549995795,
          0.00044721359549995795,
          0.00044721359549995795,
          0.00044721359549995795,
          0.00044721359549995795,
          0.00044721359549995795,
          0.00044721359549995795,
          0.00044721359549995795,
          0.00044721359549995795,
          0.00044721359549995795,
          0.00044721359549995795,
          0.00044721359549995795,
          0.00044721359549995795,
          0.00044721359549995795,
          0.00044721359549995795,
          0.00044721359549995795,
          0.00044721359549995795,
          0.00044721359549995795,
          0.00044721359549995795,
          0.00044721359549995795,
          0.00044721359549995795,
          0.00044721359549995795,
          0.00044721359549995795,
          0.00044721359549995795,
          0.00044721359549995795,
          0.00044721359549995795,
          0.00044721359549995795,
          0.00044721359549995795,
          0.00044721359549995795,
          0.00044721359549995795,
          0.00044721359549995795,
          0.00044721359549995795,
          0.00044721359549995795,
          0.00044721359549995795,
          0.00044721359549995795,
          0.00044721359549995795,
          0.00044721359549995795,
          0.00044721359549995795,
          0.00044721359549995795,
          0.00044721359549995795,
          0.00044721359549995795,
          0.00044721359549995795,
          0.00044721359549995795,
          0.00044721359549995795,
          0.00044721359549995795,
          0.00044721359549995795,
          0.00044721359549995795,
          0.00044721359549995795,
          0.00044721359549995795,
          0.00044721359549995795,
          0.00044721359549995795,
          0.00044721359549995795,
          0.00044721359549995795,
          0.00044721359549995795,
          0.00044721359549995795,
          0.00044721359549995795,
          0.00044721359549995795,
          0.00044721359549995795,
          0.00044721359549995795,
          0.00044721359549995795,
          0.00044721359549995795,
          0.00044721359549995795,
          0.00044721359549995795,
          0.00044721359549995795,
          0.00044721359549995795,
          0.00044721359549995795,
          0.00044721359549995795,
          0.00044721359549995795,
          0.00044721359549995795,
          0.00044721359549995795,
          0.00044721359549995795,
          0.00044721359549995795,
          0.00044721359549995795,
          0.00044721359549995795,
          0.00044721359549995795,
          0.00044721359549995795,
          0.00044721359549995795,
          0.00044721359549995795,
          0.00044721359549995795,
          0.00044721359549995795,
          0.00044721359549995795,
          0.00044721359549995795,
          0.00044721359549995795,
          0.00044721359549995795,
          0.00044721359549995795,
          0.00044721359549995795,
          0.00044721359549995795,
          0.00044721359549995795,
          0.00044721359549995795,
          0.00044721359549995795,
          0.00044721359549995795,
          0.00044721359549995795,
          0.00044721359549995795,
          0.00044721359549995795,
          0.00044721359549995795,
          0.00044721359549995795,
          0.00044721359549995795,
          0.00044721359549995795,
          0.00044721359549995795,
          0.00044721359549995795,
          0.00044721359549995795,
          0.00044721359549995795,
          0.00044721359549995795,
          0.00044721359549995795,
          0.00044721359549995795,
          0.00044721359549995795,
          0.00044721359549995795,
          0.00044721359549995795,
          0.00044721359549995795,
          0.00044721359549995795,
          0.00044721359549995795,
          0.00044721359549995795,
          0.00044721359549995795,
          0.00044721359549995795,
          0.00044721359549995795,
          0.00044721359549995795,
          0.00044721359549995795,
          0.00044721359549995795,
          0.00044721359549995795,
          0.00044721359549995795,
          0.00044721359549995795,
          0.00044721359549995795,
          0.00044721359549995795,
          0.00044721359549995795,
          0.00044721359549995795,
          0.00044721359549995795,
          0.00044721359549995795,
          0.00044721359549995795,
          0.00044721359549995795,
          0.00044721359549995795,
          0.00044721359549995795,
          0.00044721359549995795,
          0.00044721359549995795,
          0.00044721359549995795,
          0.00044721359549995795,
          0.00044721359549995795,
          0.00044721359549995795,
          0.00044721359549995795,
          0.00044721359549995795,
          0.00044721359549995795,
          0.00044721359549995795,
          0.00044721359549995795,
          0.00044721359549995795,
          0.00044721359549995795,
          0.00044721359549995795,
          0.00044721359549995795,
          0.00044721359549995795,
          0.00044721359549995795,
          0.00044721359549995795,
          0.00044721359549995795,
          0.00044721359549995795,
          0.00044721359549995795,
          0.00044721359549995795,
          0.00044721359549995795,
          0.00044721359549995795,
          0.00044721359549995795
         ]
        }
       ],
       "layout": {
        "height": 500,
        "template": {
         "data": {
          "bar": [
           {
            "error_x": {
             "color": "#2a3f5f"
            },
            "error_y": {
             "color": "#2a3f5f"
            },
            "marker": {
             "line": {
              "color": "#E5ECF6",
              "width": 0.5
             },
             "pattern": {
              "fillmode": "overlay",
              "size": 10,
              "solidity": 0.2
             }
            },
            "type": "bar"
           }
          ],
          "barpolar": [
           {
            "marker": {
             "line": {
              "color": "#E5ECF6",
              "width": 0.5
             },
             "pattern": {
              "fillmode": "overlay",
              "size": 10,
              "solidity": 0.2
             }
            },
            "type": "barpolar"
           }
          ],
          "carpet": [
           {
            "aaxis": {
             "endlinecolor": "#2a3f5f",
             "gridcolor": "white",
             "linecolor": "white",
             "minorgridcolor": "white",
             "startlinecolor": "#2a3f5f"
            },
            "baxis": {
             "endlinecolor": "#2a3f5f",
             "gridcolor": "white",
             "linecolor": "white",
             "minorgridcolor": "white",
             "startlinecolor": "#2a3f5f"
            },
            "type": "carpet"
           }
          ],
          "choropleth": [
           {
            "colorbar": {
             "outlinewidth": 0,
             "ticks": ""
            },
            "type": "choropleth"
           }
          ],
          "contour": [
           {
            "colorbar": {
             "outlinewidth": 0,
             "ticks": ""
            },
            "colorscale": [
             [
              0,
              "#0d0887"
             ],
             [
              0.1111111111111111,
              "#46039f"
             ],
             [
              0.2222222222222222,
              "#7201a8"
             ],
             [
              0.3333333333333333,
              "#9c179e"
             ],
             [
              0.4444444444444444,
              "#bd3786"
             ],
             [
              0.5555555555555556,
              "#d8576b"
             ],
             [
              0.6666666666666666,
              "#ed7953"
             ],
             [
              0.7777777777777778,
              "#fb9f3a"
             ],
             [
              0.8888888888888888,
              "#fdca26"
             ],
             [
              1,
              "#f0f921"
             ]
            ],
            "type": "contour"
           }
          ],
          "contourcarpet": [
           {
            "colorbar": {
             "outlinewidth": 0,
             "ticks": ""
            },
            "type": "contourcarpet"
           }
          ],
          "heatmap": [
           {
            "colorbar": {
             "outlinewidth": 0,
             "ticks": ""
            },
            "colorscale": [
             [
              0,
              "#0d0887"
             ],
             [
              0.1111111111111111,
              "#46039f"
             ],
             [
              0.2222222222222222,
              "#7201a8"
             ],
             [
              0.3333333333333333,
              "#9c179e"
             ],
             [
              0.4444444444444444,
              "#bd3786"
             ],
             [
              0.5555555555555556,
              "#d8576b"
             ],
             [
              0.6666666666666666,
              "#ed7953"
             ],
             [
              0.7777777777777778,
              "#fb9f3a"
             ],
             [
              0.8888888888888888,
              "#fdca26"
             ],
             [
              1,
              "#f0f921"
             ]
            ],
            "type": "heatmap"
           }
          ],
          "histogram": [
           {
            "marker": {
             "pattern": {
              "fillmode": "overlay",
              "size": 10,
              "solidity": 0.2
             }
            },
            "type": "histogram"
           }
          ],
          "histogram2d": [
           {
            "colorbar": {
             "outlinewidth": 0,
             "ticks": ""
            },
            "colorscale": [
             [
              0,
              "#0d0887"
             ],
             [
              0.1111111111111111,
              "#46039f"
             ],
             [
              0.2222222222222222,
              "#7201a8"
             ],
             [
              0.3333333333333333,
              "#9c179e"
             ],
             [
              0.4444444444444444,
              "#bd3786"
             ],
             [
              0.5555555555555556,
              "#d8576b"
             ],
             [
              0.6666666666666666,
              "#ed7953"
             ],
             [
              0.7777777777777778,
              "#fb9f3a"
             ],
             [
              0.8888888888888888,
              "#fdca26"
             ],
             [
              1,
              "#f0f921"
             ]
            ],
            "type": "histogram2d"
           }
          ],
          "histogram2dcontour": [
           {
            "colorbar": {
             "outlinewidth": 0,
             "ticks": ""
            },
            "colorscale": [
             [
              0,
              "#0d0887"
             ],
             [
              0.1111111111111111,
              "#46039f"
             ],
             [
              0.2222222222222222,
              "#7201a8"
             ],
             [
              0.3333333333333333,
              "#9c179e"
             ],
             [
              0.4444444444444444,
              "#bd3786"
             ],
             [
              0.5555555555555556,
              "#d8576b"
             ],
             [
              0.6666666666666666,
              "#ed7953"
             ],
             [
              0.7777777777777778,
              "#fb9f3a"
             ],
             [
              0.8888888888888888,
              "#fdca26"
             ],
             [
              1,
              "#f0f921"
             ]
            ],
            "type": "histogram2dcontour"
           }
          ],
          "mesh3d": [
           {
            "colorbar": {
             "outlinewidth": 0,
             "ticks": ""
            },
            "type": "mesh3d"
           }
          ],
          "parcoords": [
           {
            "line": {
             "colorbar": {
              "outlinewidth": 0,
              "ticks": ""
             }
            },
            "type": "parcoords"
           }
          ],
          "pie": [
           {
            "automargin": true,
            "type": "pie"
           }
          ],
          "scatter": [
           {
            "fillpattern": {
             "fillmode": "overlay",
             "size": 10,
             "solidity": 0.2
            },
            "type": "scatter"
           }
          ],
          "scatter3d": [
           {
            "line": {
             "colorbar": {
              "outlinewidth": 0,
              "ticks": ""
             }
            },
            "marker": {
             "colorbar": {
              "outlinewidth": 0,
              "ticks": ""
             }
            },
            "type": "scatter3d"
           }
          ],
          "scattercarpet": [
           {
            "marker": {
             "colorbar": {
              "outlinewidth": 0,
              "ticks": ""
             }
            },
            "type": "scattercarpet"
           }
          ],
          "scattergeo": [
           {
            "marker": {
             "colorbar": {
              "outlinewidth": 0,
              "ticks": ""
             }
            },
            "type": "scattergeo"
           }
          ],
          "scattergl": [
           {
            "marker": {
             "colorbar": {
              "outlinewidth": 0,
              "ticks": ""
             }
            },
            "type": "scattergl"
           }
          ],
          "scattermap": [
           {
            "marker": {
             "colorbar": {
              "outlinewidth": 0,
              "ticks": ""
             }
            },
            "type": "scattermap"
           }
          ],
          "scattermapbox": [
           {
            "marker": {
             "colorbar": {
              "outlinewidth": 0,
              "ticks": ""
             }
            },
            "type": "scattermapbox"
           }
          ],
          "scatterpolar": [
           {
            "marker": {
             "colorbar": {
              "outlinewidth": 0,
              "ticks": ""
             }
            },
            "type": "scatterpolar"
           }
          ],
          "scatterpolargl": [
           {
            "marker": {
             "colorbar": {
              "outlinewidth": 0,
              "ticks": ""
             }
            },
            "type": "scatterpolargl"
           }
          ],
          "scatterternary": [
           {
            "marker": {
             "colorbar": {
              "outlinewidth": 0,
              "ticks": ""
             }
            },
            "type": "scatterternary"
           }
          ],
          "surface": [
           {
            "colorbar": {
             "outlinewidth": 0,
             "ticks": ""
            },
            "colorscale": [
             [
              0,
              "#0d0887"
             ],
             [
              0.1111111111111111,
              "#46039f"
             ],
             [
              0.2222222222222222,
              "#7201a8"
             ],
             [
              0.3333333333333333,
              "#9c179e"
             ],
             [
              0.4444444444444444,
              "#bd3786"
             ],
             [
              0.5555555555555556,
              "#d8576b"
             ],
             [
              0.6666666666666666,
              "#ed7953"
             ],
             [
              0.7777777777777778,
              "#fb9f3a"
             ],
             [
              0.8888888888888888,
              "#fdca26"
             ],
             [
              1,
              "#f0f921"
             ]
            ],
            "type": "surface"
           }
          ],
          "table": [
           {
            "cells": {
             "fill": {
              "color": "#EBF0F8"
             },
             "line": {
              "color": "white"
             }
            },
            "header": {
             "fill": {
              "color": "#C8D4E3"
             },
             "line": {
              "color": "white"
             }
            },
            "type": "table"
           }
          ]
         },
         "layout": {
          "annotationdefaults": {
           "arrowcolor": "#2a3f5f",
           "arrowhead": 0,
           "arrowwidth": 1
          },
          "autotypenumbers": "strict",
          "coloraxis": {
           "colorbar": {
            "outlinewidth": 0,
            "ticks": ""
           }
          },
          "colorscale": {
           "diverging": [
            [
             0,
             "#8e0152"
            ],
            [
             0.1,
             "#c51b7d"
            ],
            [
             0.2,
             "#de77ae"
            ],
            [
             0.3,
             "#f1b6da"
            ],
            [
             0.4,
             "#fde0ef"
            ],
            [
             0.5,
             "#f7f7f7"
            ],
            [
             0.6,
             "#e6f5d0"
            ],
            [
             0.7,
             "#b8e186"
            ],
            [
             0.8,
             "#7fbc41"
            ],
            [
             0.9,
             "#4d9221"
            ],
            [
             1,
             "#276419"
            ]
           ],
           "sequential": [
            [
             0,
             "#0d0887"
            ],
            [
             0.1111111111111111,
             "#46039f"
            ],
            [
             0.2222222222222222,
             "#7201a8"
            ],
            [
             0.3333333333333333,
             "#9c179e"
            ],
            [
             0.4444444444444444,
             "#bd3786"
            ],
            [
             0.5555555555555556,
             "#d8576b"
            ],
            [
             0.6666666666666666,
             "#ed7953"
            ],
            [
             0.7777777777777778,
             "#fb9f3a"
            ],
            [
             0.8888888888888888,
             "#fdca26"
            ],
            [
             1,
             "#f0f921"
            ]
           ],
           "sequentialminus": [
            [
             0,
             "#0d0887"
            ],
            [
             0.1111111111111111,
             "#46039f"
            ],
            [
             0.2222222222222222,
             "#7201a8"
            ],
            [
             0.3333333333333333,
             "#9c179e"
            ],
            [
             0.4444444444444444,
             "#bd3786"
            ],
            [
             0.5555555555555556,
             "#d8576b"
            ],
            [
             0.6666666666666666,
             "#ed7953"
            ],
            [
             0.7777777777777778,
             "#fb9f3a"
            ],
            [
             0.8888888888888888,
             "#fdca26"
            ],
            [
             1,
             "#f0f921"
            ]
           ]
          },
          "colorway": [
           "#636efa",
           "#EF553B",
           "#00cc96",
           "#ab63fa",
           "#FFA15A",
           "#19d3f3",
           "#FF6692",
           "#B6E880",
           "#FF97FF",
           "#FECB52"
          ],
          "font": {
           "color": "#2a3f5f"
          },
          "geo": {
           "bgcolor": "white",
           "lakecolor": "white",
           "landcolor": "#E5ECF6",
           "showlakes": true,
           "showland": true,
           "subunitcolor": "white"
          },
          "hoverlabel": {
           "align": "left"
          },
          "hovermode": "closest",
          "mapbox": {
           "style": "light"
          },
          "paper_bgcolor": "white",
          "plot_bgcolor": "#E5ECF6",
          "polar": {
           "angularaxis": {
            "gridcolor": "white",
            "linecolor": "white",
            "ticks": ""
           },
           "bgcolor": "#E5ECF6",
           "radialaxis": {
            "gridcolor": "white",
            "linecolor": "white",
            "ticks": ""
           }
          },
          "scene": {
           "xaxis": {
            "backgroundcolor": "#E5ECF6",
            "gridcolor": "white",
            "gridwidth": 2,
            "linecolor": "white",
            "showbackground": true,
            "ticks": "",
            "zerolinecolor": "white"
           },
           "yaxis": {
            "backgroundcolor": "#E5ECF6",
            "gridcolor": "white",
            "gridwidth": 2,
            "linecolor": "white",
            "showbackground": true,
            "ticks": "",
            "zerolinecolor": "white"
           },
           "zaxis": {
            "backgroundcolor": "#E5ECF6",
            "gridcolor": "white",
            "gridwidth": 2,
            "linecolor": "white",
            "showbackground": true,
            "ticks": "",
            "zerolinecolor": "white"
           }
          },
          "shapedefaults": {
           "line": {
            "color": "#2a3f5f"
           }
          },
          "ternary": {
           "aaxis": {
            "gridcolor": "white",
            "linecolor": "white",
            "ticks": ""
           },
           "baxis": {
            "gridcolor": "white",
            "linecolor": "white",
            "ticks": ""
           },
           "bgcolor": "#E5ECF6",
           "caxis": {
            "gridcolor": "white",
            "linecolor": "white",
            "ticks": ""
           }
          },
          "title": {
           "x": 0.05
          },
          "xaxis": {
           "automargin": true,
           "gridcolor": "white",
           "linecolor": "white",
           "ticks": "",
           "title": {
            "standoff": 15
           },
           "zerolinecolor": "white",
           "zerolinewidth": 2
          },
          "yaxis": {
           "automargin": true,
           "gridcolor": "white",
           "linecolor": "white",
           "ticks": "",
           "title": {
            "standoff": 15
           },
           "zerolinecolor": "white",
           "zerolinewidth": 2
          }
         }
        },
        "title": {
         "text": "Comparison for amplitude"
        },
        "width": 900,
        "xaxis": {
         "title": {
          "text": "Sample Duration (s)"
         },
         "type": "log"
        },
        "yaxis": {
         "title": {
          "text": "Uncertainty"
         },
         "type": "log"
        }
       }
      }
     },
     "metadata": {},
     "output_type": "display_data"
    },
    {
     "data": {
      "application/vnd.plotly.v1+json": {
       "config": {
        "plotlyServerURL": "https://plot.ly"
       },
       "data": [
        {
         "mode": "lines+markers",
         "name": "RMSE damping_rate",
         "type": "scatter",
         "x": {
          "bdata": "FzmcYKqZuT85m+DT75q6PwFg18ROprs/+2lmsyy8vD9xoY4b89y9P0hNeZ0PCb8/FwmME3ogwD+4tLOPi8LAPyMAssn5asE/ygpisgQawj8jTEO97s/CP4s9tfn8jMM/QbYwLXdRxD9U8Yjupx3FP9OZPsLc8cU/zKHvN2bOxj8rFe8ImLPHPz+KEDjJocg/pUazMlSZyT9+qRnzlprKP/fpGSTzpcs/H701Rs67zD+J/ibWkdzNP3gF8HSrCM8/GHK/iEYg0D8ttPmJVsLQP8EpTEXDatE/IXRQrMwZ0j+zSl4ztc/SP/adyerBjNM/U6MemTpR1D9NxmXWaR3VPzzgeSid8dU/g4B7ICXO1j/3e2x5VbPXP4hr/zeFodg/xDenyw6Z2T8ZSfMwUJraPwx0RRWrpds/pDzv+4S73D/glcRkR9zdP+HQMvRfCN8/BYJ1TiAg4D9n5pflL8LgP85360icauE/CgCIbKUZ4j/k9IDHjc/iP9jyKG2ajOM/cZJTJxNR5D/snZ+RQh3lP04S1DV28eU/ysBaqf7N5j/e0uOrL7PnP7LlPUdgoeg/Oehu8OqY6T+VYhqqLZrqP/RNQiiKpes/ZSlw9WW77D8Wg1SZKtztP+m968BFCO8/jbgbtBQg8D9RLs4CJsLwP2PHeluUavE/VwA3uJ8Z8j/rT5mWis/yP124BxGajPM/3JoF+RVR9D+A5YrySB31Pz8bb5CA8fU/aiDzcQ3O9j/aJXVhQ7P3P+eAWnR5ofg/9rY7LAqZ+T88gV+ZU5r6P90Pkn63pfs/y1tmdpu7/D9S5O8Zadz9P/DIAymOCP8/f2QIWj4gAECVKc+jVcIAQD66wYzKagFAE5LzG90ZAkC7Dg7dz88CQJGatfnnjANARO3vU21RBECVoJWhqh0FQG7B2Yjt8QVAxnPyvYbOBkAhM+4hyrMHQBKxweIOoghAJtCanK+ZCUCvu4V8CpsKQImkcWSBpgtAKTijEHq8DECpeqM+Xt0NQPZFutWbCQ9ALiiCiNIgEEDHoZpV+MIQQJiNCwZ9axFAzlvsu6AaEkBPJx8gptASQL+U43vSjRNA13Zu021SFEAjwpABwx4VQH3KeNQf8xVAhDmZK9XPFkDAp8EWN7UXQGJBdfacoxhAOmWMnWGbGUAqty5045waQCOxM5yEqBtAaFX4Fqu+HEBpQ7nswN8dQLcWgVU0DB9AT9Ld8TsiIEBSsT9YgcQgQKp+z0QobSFAyPbKEHEcIkDt1LGgntIiQBL1NH72jyNATawx88BUJECLe8QlSSElQF69fjXd9SVADnLLWc7SJkAy1o8BcbgnQNL+FPQcpyhAYU1Icy2fKUA7KmFfAaEqQEcb+1v7rCtAC/iz9oHDLEBWtF7P/+QtQM7428HjES9ArkTViFAlMEDpJqHL18cwQF3WpvfFcDFA1+nq1VsgMkDMvbvD3NYyQJhdW82OlDNAscPEybpZNEC/0Jh3rCY1QLPuP5uy+zVA6vRNHh/ZNkBBiDYwR783QIDjYGiDrjhAOa2q6S+nOUCrRWqHrKk6QCnFAexctjtAqr8UwajNPED0x3PZ++89QOGi0VzGHT9AGI6rer4rQECuwJV/zM5AQOVzBF1MeEFAGUt6vn8oQkDDlxr2qt9CQC3K0BgVnkNAuG+yGwhkREABsqry0DFFQDgZf7C/B0ZAly0+qCfmRkDZfSmQX81HQFCGLabBvUhALP361au3SUCgHtbgf7tKQCPAMYejyUtA8C0ttIDiTEAAKw2rhQZOQKLTyTYlNk9AjFPmbes4UECJy/2FC91QQIHbl66zh1FAav0bYSc5UkB7N0XjrPFSQF43ZGaNsVNAilAeKBV5VECb+L2Uk0hVQDaoKmtbIFZAkm2f4sIAV0Df+zjSI+pXQLOgddrb3FhASELDkEzZWUAqaDmt299aQPBPnzrz8FtA8zrgyAENXUDwdBKiejReQE4ZOALWZ19AG6nxqMhTYEDoXvWxF/pgQBHoLlscp2FAbTx22x1bYkADhXyFZhZjQLuyx+1D2WNAX2nAEgekZEB0T/SGBHdlQE9lsZ2UUmZAgNIhmhM3Z0AroxLh4SRoQDQ+ky1kHGlA2PmeyAMeakCuIQbELiprQLIN0DhYQWxAeZhUifhjbUAoZFCnjZJuQMX3PF6bzW9A5fEd0dWKcEAna/VxpzVxQID1vjSO53FAd87CVtmgckAVVufh22FzQMAKauLsKnRADAUjoGf8dECbXZrbq9Z1QBx7PQ8eunZA/4cJtSend0BoWQiRN554QL30BQHCn3lA9b7uUUGsekCYUlEbNsR7QEsji6En6HxAQqA0P6QYfkCmmXDWQVZ/QP7AaSXPUIBAluCEw2IdgEB83lekVL+AQJ/0PfqhZ4FAGzRGqIoWgkDUGocTUcyCQD+eUjw6iYNAUn1n2I1NhECkyylulhmFQDsK7XCh7YVA3otaXv/JhkAjTf/cA6+HQCnaDNwFnYhA6E5ZtF+UiUC4+apKb5WKQPyjXDOWoItAKQlo1zm2jECddXe+IuuMQGKg5B9yBI5A7AMtkEZlkEDdEGtKEb+QQKQ0eftbZ5FAMJkX6kEWkkDsuFF6BcySQHAKZKvriJNANensMTxNlEA6sySTQRmVQPdvJ0FJ7ZVAcL5auKPJlkB+MvudpK6XQNe63N+inJhAihxq1fiTmUCcC/BhBJWaQG7kQBgnoJtA+Y2+X8a1nECg8qpmK0edQLHbpQ6sZ55ASL18uGJWoEBQH43xzb6gQMnyzf0VZ6FAPYkNLfkVokDbXUziucuiQLtssRudiKNAgrK6jOpMpEAd3HS57BilQGZ8xBLx7KVAUH0n0V95pkAb2+PBnfCnQE2Z2szv46hAuZ4Y+JGTqUCAD+N6mZSqQLf34/63n6tA7m/l6VK1rEBFoxWBp4WtQMAU4p8Zq65AEhJkIchCsECnBb6Zir6wQJwqPAHQZrFApv8ncbAVskA9QV6HtKGyQJvBd796rrNAoN6ejtZ1tEDqQBrhlxi1QOspxOWY7LVAkQFuzaCdtkBmdyv6jNa3QIpDFc/Hx7hA5c5kHCuTuUC2hbaiX2i6QANp/nQzybtATEi+tyfivEDnZddRtaq9QK06tyYd075AhxxdzboywEBetWDK5ajAQAHFW4tzT8FAGRh2MBMswkDOMkz8MLXCQN/0pje9ncNA",
          "dtype": "f8"
         },
         "y": [
          1.1482956941404703,
          1.03953517090361,
          0.9224279299280836,
          0.8182119310342888,
          0.7254991813710635,
          0.6430254849692225,
          0.5696768304259091,
          0.504449273019041,
          0.4464555573116889,
          0.3949010546002288,
          0.3490830971153877,
          0.3083701481076291,
          0.272204597057601,
          0.24008557431826164,
          0.21156906044404072,
          0.18625977617854717,
          0.16271660641078428,
          0.14287632715731446,
          0.12529242913355612,
          0.10971583817886843,
          0.09592502002178593,
          0.08372294783630298,
          0.07293414335855264,
          0.06340167664159312,
          0.054138308785457535,
          0.04756687259277974,
          0.041030237705082254,
          0.03527968189882838,
          0.029496277827162017,
          0.02509384070732468,
          0.02124425223663743,
          0.017887866213116558,
          0.014971053153538022,
          0.012447615191357784,
          0.010848284434167518,
          0.008967435301711322,
          0.006871839980210003,
          0.005586263374321945,
          0.004557286426651847,
          0.00401195013371996,
          0.003226665419924351,
          0.002816887715514082,
          0.002790446918051851,
          0.0024252677350545394,
          0.0024199576007223503,
          0.0024699470542892507,
          0.002536903607384121,
          0.00259752717789497,
          0.0028664646384436022,
          0.0026685890770009033,
          0.002748076704903276,
          0.0027545382991995917,
          0.0025047419961390775,
          0.0024680104492631975,
          0.002363735545937284,
          0.002293003420515977,
          0.0021440384091997314,
          0.0019528615762506008,
          0.0018177441005413435,
          0.001638435944531943,
          0.0014997553225878889,
          0.0013766068396571561,
          0.00127627236630618,
          0.0013726645262679897,
          0.0012636363071363954,
          0.001289196147814394,
          0.0013810837690500638,
          0.0011975293739010494,
          0.0012188859470999255,
          0.0010755289202558124,
          0.0010021655211674735,
          0.0009731872669640829,
          0.000892392241248171,
          0.000911864374323721,
          0.0009191508919318724,
          0.0009575039006964618,
          0.0008764063224519741,
          0.0008234138151800533,
          0.0007665088309033939,
          0.0007055373626324933,
          0.0006688508385251599,
          0.0006932918586583721,
          0.0006964809259320446,
          0.0006458247539940532,
          0.0006367106459671864,
          0.0005650097196845764,
          0.0005965955779267416,
          0.0005766032817521653,
          0.0005391945757424266,
          0.0005082981456683989,
          0.0004934542363826086,
          0.0004590235097625708,
          0.0004399700638526805,
          0.00044484409411488956,
          0.0004286871393017425,
          0.0004340828549995725,
          0.0004077773374336105,
          0.0003857216930188172,
          0.0003666166537343356,
          0.0003450012693612289,
          0.0003476868894551435,
          0.00035570849785759325,
          0.0003166982572010044,
          0.00028591560348998257,
          0.00029327036187028297,
          0.0002907957101045457,
          0.0002737010738055689,
          0.0002528704360531336,
          0.00025880625041648365,
          0.00023692911955496527,
          0.00021548957972016144,
          0.00023189158598379894,
          0.00021198805780950044,
          0.0002118764962748119,
          0.0002013802354111023,
          0.0001989548766598614,
          0.0001843747859137534,
          0.0001753534382716697,
          0.00017397904957223423,
          0.00016693676821276487,
          0.0001560280527389103,
          0.00015636012040682847,
          0.0001429517345979955,
          0.00014237738948180996,
          0.00013871210953995576,
          0.00013562764919736498,
          0.00012538362406044732,
          0.00012409592110724615,
          0.0001169368037500338,
          0.00012109939040477594,
          0.00011646188010958763,
          0.00010453695785883496,
          0.00010963141408157565,
          0.0001006390978232934,
          0.0001051596924583038,
          0.0000897633103220657,
          0.00008581099477824291,
          0.00008743881795350283,
          0.00008747946422748852,
          0.00007666044832487606,
          0.00007844289108549625,
          0.00008259702965387415,
          0.00007622861841472748,
          0.00007582121862706832,
          0.00007146670551713417,
          0.00006753388021945393,
          0.00006205852145961906,
          0.00006732317349440999,
          0.00005382029810424736,
          0.00005503989354872122,
          0.00005606122779346803,
          0.00005774613584771986,
          0.00005220027864000671,
          0.00005218645804234124,
          0.00004592328100202522,
          0.00004741888012539031,
          0.000044382596156474524,
          0.000044693955708473156,
          0.000043834950240526484,
          0.000043238009066195164,
          0.00004178887658744273,
          0.0000414632322751512,
          0.00003987942360387077,
          0.000034988187165451646,
          0.000040019719256537444,
          0.00003690434606651405,
          0.000034548752854302054,
          0.00003168839079883408,
          0.00003562328802263221,
          0.000034149740972383604,
          0.000029753066943663257,
          0.000029935129723606786,
          0.00003073160138302724,
          0.000029264017251862055,
          0.000028834727394388397,
          0.000027911929174127537,
          0.0000258394923489352,
          0.000026992780068513644,
          0.000027354444269963506,
          0.00002492117030377789,
          0.000026111691979674866,
          0.000025264845033904332,
          0.00002570265384465625,
          0.000025341483415663392,
          0.000024075449231227395,
          0.000022872328856949502,
          0.000022495591819860222,
          0.00002280965457828045,
          0.00002482649662405578,
          0.000022195399770491288,
          0.000021246423339574316,
          0.00002154638337756892,
          0.000022472682759040197,
          0.000021765147571155365,
          0.000022203330239858765,
          0.000021889598493331893,
          0.0000229741460943921,
          0.00002153512602913966,
          0.00002182967611347084,
          0.00002054401266172203,
          0.000022160540337186396,
          0.000022004480272128875,
          0.00002240459388681024,
          0.000022703426497737307,
          0.000021894957100712284,
          0.00002174049875757337,
          0.000022000503302663465,
          0.00002376638820833375,
          0.000022858147132253572,
          0.000023921133985944874,
          0.000022836420255104343,
          0.000024703288753857787,
          0.000027236064052841642,
          0.000023303377141345874,
          0.000024450953722475653,
          0.000026163348491562552,
          0.000025606309774499802,
          0.000025467532419922642,
          0.00002613469378351017,
          0.000027312656724181863,
          0.00002809907775272189,
          0.000028384477116194756,
          0.00002618581039138343,
          0.000028179796713642686,
          0.000027317984033835993,
          0.00003105704574922153,
          0.000033192763692098374,
          0.000033321821855267355,
          0.00003106063766057089,
          0.000031415703187739486,
          0.00003413322450313228,
          0.00003354352805114282,
          0.000036389367929119436,
          0.00003584764101690484,
          0.00003875507232605793,
          0.00003665508706279269,
          0.00003755840956700824,
          0.00003980219597281446,
          0.0000396129524919899,
          0.000038697947896404414,
          0.00003850964274697176,
          0.00004296329292976588,
          0.00004741281559239633,
          0.00004385106794133958,
          0.00004292629590190328,
          0.00004189004894803961,
          0.0000477492566649072,
          0.000044785331441575234,
          0.000045497816905765873,
          0.0000451754860096471,
          0.000047700829825077184,
          0.000052257904631654015,
          0.000051611086576751544,
          0.000050719866258286396,
          0.00005284770041327587,
          0.00005235612644873449,
          0.000057305099494310266,
          0.000052018253849977865,
          0.00005552912781070524,
          0.0000577865112013576,
          0.00006151128386489543,
          0.00005747124662406547,
          0.00006146056766647082,
          0.00017307163368534347,
          0.00006372525289295443,
          0.00006621562500504056,
          0.00006113939532457117,
          0.0000664604900265162,
          0.00006929999336149473,
          0.00007346061917505115,
          0.00006989301313128559,
          0.00007231317517243072,
          0.0000684648640177599,
          0.00006915212363110053,
          0.00007890812810039452,
          0.00007033891327577848,
          0.00008004844258246081,
          0.00007214808244329429,
          0.00007921711900749594,
          0.00008525596417305044,
          0.00008491666451144177,
          0.00008863563983276206,
          0.00008840277936143061,
          0.00009094165243447589,
          0.00008840662496262329,
          0.00008803212079354007,
          0.00009456937009380838,
          0.00009913700162041552,
          0.00009103362739082543,
          0.00009912538125361689,
          0.00009647381291244462,
          0.00010169022586154383,
          0.00010140118849548959,
          0.0001034299200674451,
          0.00010855427522245719,
          0.00010125528482075305,
          0.00010983435507323026,
          0.00011430932186949267,
          0.00011333417128906053,
          0.00011110365927423179
         ]
        },
        {
         "line": {
          "dash": "dot"
         },
         "mode": "lines+markers",
         "name": "stderr damping_rate",
         "type": "scatter",
         "x": {
          "bdata": "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",
          "dtype": "f8"
         },
         "y": [
          1.209067497649397,
          1.072867796247757,
          0.9516539878092797,
          0.8438469490363152,
          0.7479714007363271,
          0.662718761925288,
          0.5869148360085064,
          0.5195342342781906,
          0.4596420350512535,
          0.4064158064081249,
          0.35912399239371834,
          0.3171149920531593,
          0.2798071275092405,
          0.24668327947521818,
          0.2172830702267975,
          0.1911964152028519,
          0.16802953459539638,
          0.1475166657040778,
          0.12933777234231875,
          0.11323507652913681,
          0.09897916923832217,
          0.08636606241141162,
          0.07521376573566506,
          0.06536049267499398,
          0.05666381832648736,
          0.048991488934012124,
          0.04223368561243521,
          0.03628793315299037,
          0.031066675751629986,
          0.02648504720687167,
          0.022474876431951164,
          0.01897347949494487,
          0.015925552348234947,
          0.013282781450813252,
          0.01100126371602095,
          0.009048579079864241,
          0.007395107474144168,
          0.006012740349489235,
          0.004885753167902949,
          0.003994043655267692,
          0.003351900636899157,
          0.002915211533585704,
          0.002680621253181231,
          0.002579887625584326,
          0.0025744220744820046,
          0.002612761139851063,
          0.002662416305455661,
          0.0027037771736205763,
          0.0027322732114689933,
          0.002730518670321966,
          0.002701150943550617,
          0.002653672701671385,
          0.0025782104632585193,
          0.002477070601087338,
          0.002361294817168346,
          0.0022302597967226835,
          0.0020861704350428932,
          0.0019247240096125892,
          0.001765262234717938,
          0.001607698238135234,
          0.0014704784739908597,
          0.0013650213454688438,
          0.0013043620433808923,
          0.0012944554846910442,
          0.0013118425800468646,
          0.001333360887329895,
          0.0013388795059232695,
          0.0013068008625547185,
          0.0012441787875870742,
          0.0011521569957279683,
          0.0010526551268301358,
          0.0009634565830498689,
          0.0009130160305569948,
          0.0009050948000650361,
          0.0009206890251088906,
          0.0009256314426855516,
          0.0008950826547340618,
          0.0008313541993684665,
          0.0007590329310586308,
          0.000708016818271176,
          0.0007002562565104013,
          0.0007111633434108812,
          0.0007029827931780953,
          0.0006575246339313177,
          0.0005995545086828125,
          0.0005715672146424574,
          0.0005779829135932888,
          0.000575263132344506,
          0.0005369629132860525,
          0.0004928563039195965,
          0.0004855971945314403,
          0.0004891918316186401,
          0.0004614695773936948,
          0.00042497823311234953,
          0.0004229875870315238,
          0.0004192564593575769,
          0.0003855473677601919,
          0.00037192352987271116,
          0.0003729463488878152,
          0.0003455065784688382,
          0.0003337794738178116,
          0.0003316605690511948,
          0.00030596668486260593,
          0.0003041825234268745,
          0.0002900761241704524,
          0.00027658553119870696,
          0.0002728025521947612,
          0.0002550712805575675,
          0.00025371354448816205,
          0.00023682162770791566,
          0.00023462435437220216,
          0.00022069045718354097,
          0.0002160183724746233,
          0.00020790767071269026,
          0.0001973699158611965,
          0.00019479084378757895,
          0.00018471428080275233,
          0.0001771430919750433,
          0.00017412350378563188,
          0.00016687613385071005,
          0.00015852108448035688,
          0.00015288221158854404,
          0.00014887691114919577,
          0.00014462182230785917,
          0.00013957182890451448,
          0.00013462113163065098,
          0.00012944657407238917,
          0.00012508101617408974,
          0.00012063505079417811,
          0.000116494482866757,
          0.00011183128327375509,
          0.0001070978633216755,
          0.00010305759269037758,
          0.00010049318071898485,
          0.00009703585603543443,
          0.00009276075411942305,
          0.00009064146153206649,
          0.00008672567863470944,
          0.00008466174586372409,
          0.00008084289187567302,
          0.00007863067856598232,
          0.00007619458723011841,
          0.00007354790129462298,
          0.00007067648076563009,
          0.00006825236037107602,
          0.00006622603325642023,
          0.00006411940284544086,
          0.00006219127053918132,
          0.000060114727987023197,
          0.000057874055935660924,
          0.00005639834674789496,
          0.000054426940149811256,
          0.000052827002341072256,
          0.000051378151435644394,
          0.00004955544283708944,
          0.00004815450236711313,
          0.00004663547230651931,
          0.00004526583021775552,
          0.000043729394461283625,
          0.000042571444413461045,
          0.000041329163820456736,
          0.0000400757228785563,
          0.00003913381767689494,
          0.00003791164630413756,
          0.00003690512663979856,
          0.00003590767094605607,
          0.00003496718998749639,
          0.000034030575236672624,
          0.000033134565498122624,
          0.00003227256082283057,
          0.000031465974135329053,
          0.000030861477157068063,
          0.000030106040009844517,
          0.00002933028936304995,
          0.000028698449986123144,
          0.000028007138642651367,
          0.000027527681510695194,
          0.000026864270931179444,
          0.000026337235759991586,
          0.000025929436106964474,
          0.000025421152978270333,
          0.000024932359341842538,
          0.00002463579880263908,
          0.00002424076676190591,
          0.000023896509461569214,
          0.000023521798754152773,
          0.000023144753455657854,
          0.000022979820958562593,
          0.000022699053341657884,
          0.000022477685342874565,
          0.000022271383781550292,
          0.000022054595785344443,
          0.000021893277009872264,
          0.000021771128479553306,
          0.000021728438220628902,
          0.000021684586279348204,
          0.000021557197210284063,
          0.000021607590585848707,
          0.00002161438375794752,
          0.00002159502420511835,
          0.000021645184272997398,
          0.00002175180202985881,
          0.000021915564584704274,
          0.00002200312462646939,
          0.000022237510799672824,
          0.00002236476289345044,
          0.000022574151152469126,
          0.00002284284558958695,
          0.000023113146538528552,
          0.000023409226325209553,
          0.00002372979946065825,
          0.00002408798934090531,
          0.000024456400745108055,
          0.000024920934006845134,
          0.000025268274564566862,
          0.000025699912845900468,
          0.000026169216500392354,
          0.000026721626976663252,
          0.000027153295640048754,
          0.00002771866165378927,
          0.00002657579597934651,
          0.000028720704699341452,
          0.000028541840857870816,
          0.000029188981700308178,
          0.000029724247984282237,
          0.00003021293848692902,
          0.000030885217657422826,
          0.000031451451115170644,
          0.00003199849550918084,
          0.000032583398086968916,
          0.000033241791126944414,
          0.000033867808096200144,
          0.000034503464665730716,
          0.000035190266953646167,
          0.000035856603275526665,
          0.00003661248702314747,
          0.00003722425066192951,
          0.00003799031839826122,
          0.000038131256523358536,
          0.000038760475535824024,
          0.0000404779472776097,
          0.000040970534583443616,
          0.00004174903116866957,
          0.00004247272267994032,
          0.00004330107288599021,
          0.000044204729270420906,
          0.00004496050123157925,
          0.00004581977003724443,
          0.00004673230360304693,
          0.000047546137596490674,
          0.00004810144526433429,
          0.00004931166133284906,
          0.000050278749652069196,
          0.00005122356021047354,
          0.00005221320250780702,
          0.00005319321183979841,
          0.00005394602861682978,
          0.000054621722790011556,
          0.0000565298849218949,
          0.00005724271857070714,
          0.00005862598506067152,
          0.00005952964666802037,
          0.00006044396171039463,
          0.00016771551954842886,
          0.0000627586772055161,
          0.0000640415112689659,
          0.00006522600369919595,
          0.00006612419608413383,
          0.00006806780493467559,
          0.00006944089775437328,
          0.00007031554312459722,
          0.00007130678219985858,
          0.00007225813610358566,
          0.00007407474965226149,
          0.00007525576161273197,
          0.00007614185828343512,
          0.00007861782334358417,
          0.00007940167024398506,
          0.00008013848844943855,
          0.00008254851463086286,
          0.00008337041694606511,
          0.00008434205733150169,
          0.00008702052265891343,
          0.00008806845075249673,
          0.00008969076334974548,
          0.00009106953129975978,
          0.00009312460935707627,
          0.00009477756867821887,
          0.00009490103872157505,
          0.00009757580519974615,
          0.00009946150664693121,
          0.00010101661810878281,
          0.00010246486373594912,
          0.0001040215824471384,
          0.0001065405395397364,
          0.00010471544318759389,
          0.00010945801534421533,
          0.00011194240520490006,
          0.00011290086299158312,
          0.00011310447751023795
         ]
        },
        {
         "line": {
          "dash": "dash"
         },
         "mode": "lines",
         "name": "theory damping_rate",
         "type": "scatter",
         "x": {
          "bdata": "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",
          "dtype": "f8"
         },
         "y": [
          0.015498288502028721,
          0.014915384112758327,
          0.014352512374741546,
          0.013809525102023521,
          0.013288917251227786,
          0.012786906768623908,
          0.01230407517612067,
          0.011839393424750516,
          0.011392195567833831,
          0.010962293613174651,
          0.010548762047733922,
          0.010150453374597,
          0.009767081846851896,
          0.009398711862287636,
          0.009043922109561828,
          0.008702632455490232,
          0.008374131244003699,
          0.008058155590157011,
          0.007753994978801223,
          0.007461455935338436,
          0.007179881125389523,
          0.006908973734228003,
          0.0066483056642875375,
          0.006397448563771172,
          0.006156073928889996,
          0.0059238351538446745,
          0.005700362245962747,
          0.005485323927172213,
          0.005278414874014692,
          0.005079319454783221,
          0.004887751705628254,
          0.0047034155603868045,
          0.0045260399246568744,
          0.004355363224317459,
          0.004191135014166765,
          0.004033114388807511,
          0.0038810576551159045,
          0.0037347466348465435,
          0.003593962619172059,
          0.0034584952649262275,
          0.0033281464854840632,
          0.003202720420487146,
          0.0030820316539891595,
          0.00296590151601879,
          0.002854158586902205,
          0.002746636255890607,
          0.0026431757807842383,
          0.002543623056372928,
          0.0024478309729317116,
          0.0023556571866920105,
          0.00226696492743564,
          0.0021816230046262596,
          0.0020995047782595105,
          0.002020488429011189,
          0.0019444568417283908,
          0.0018712971844704678,
          0.001800901014594602,
          0.0017331639973345136,
          0.001667985697601723,
          0.0016052693915488514,
          0.0015449220980229242,
          0.0014868543873374307,
          0.001430980132146146,
          0.001377216471690181,
          0.0013254836786683833,
          0.0012757050737851425,
          0.0012278068252314222,
          0.00118171791472541,
          0.0011373699947529873,
          0.001094697314398554,
          0.0010536365995467934,
          0.001014126959889994,
          0.0009761098112682075,
          0.0009395287846225191,
          0.0009043296369332482,
          0.0008704601716724809,
          0.0008378701710931876,
          0.0008065113092767299,
          0.0007763370872431484,
          0.000747302763343006,
          0.0007193652852648773,
          0.0006924832266650932,
          0.0006666167273523746,
          0.0006417274331478763,
          0.0006177784374078579,
          0.0005947342293421122,
          0.0005725606387612886,
          0.0005512247869574911,
          0.0005306950370595616,
          0.0005109409478746543,
          0.0004919332279252927,
          0.0004736436929734915,
          0.00045604522337492167,
          0.00043911172425246784,
          0.0004228180869439602,
          0.00040714015131925363,
          0.0003920546704156337,
          0.0003775392757559739,
          0.000363572444164183,
          0.00035013346594831653,
          0.00033720241406502363,
          0.0003247601147326528,
          0.00031278811886306727,
          0.00030126867480993497,
          0.00029018470195648374,
          0.00027951976547098764,
          0.0002692580519022357,
          0.00025938434572507247,
          0.0002498840068174259,
          0.00024074294872334,
          0.00023194761778072085,
          0.0002234849730315731,
          0.00021534246688572454,
          0.00020750802652159478,
          0.00019997003598878723,
          0.00019271731899112214,
          0.00018573912231918257,
          0.00017902509991522703,
          0.00017256529753399585,
          0.00016635013799739628,
          0.00016037040699632823,
          0.00015461723944057215,
          0.00014908210632196103,
          0.00014375680207920414,
          0.00013863343244274075,
          0.0001337044027407695,
          0.00012896240665336136,
          0.00012440041539200347,
          0.00012001166729490247,
          0.00011578965781741584,
          0.00011172812990638593,
          0.00010782106474276693,
          0.00010406267283913687,
          0.0001004473854788627,
          0.00009696984648507672,
          0.00009362490430658321,
          0.00009040760440945546,
          0.00008731318196346248,
          0.00008433705481238868,
          0.00008147481671812714,
          0.00007872223086865806,
          0.00007607522364087133,
          0.00007352987860878502,
          0.00007108243078896686,
          0.00006872926111466597,
          0.00006646689113096315,
          0.00006429197790333742,
          0.00006220130913248951,
          0.00006019179846862452,
          0.00005826048101862837,
          0.000056404509039942255,
          0.000054621147815257204,
          0.00005290777170237556,
          0.00005126186035395623,
          0.00004968099510206085,
          0.00004816285550273704,
          0.000046705216036110795,
          0.0000453059429576992,
          0.00004396299129690343,
          0.000042674401998854166,
          0.00004143829920598937,
          0.00004025288767593386,
          0.00003911645033241579,
          0.00003802734594610888,
          0.00003698400694239958,
          0.00003598493733317127,
          0.000035028710769743454,
          0.000034113968714111473,
          0.00003323941872557956,
          0.00003240383285977121,
          0.00003160604617681379,
          0.00003084495535521926,
          0.00003011951740760696,
          0.00002942874849391507,
          0.000028771722827106617,
          0.00002814757166557274,
          0.00002755548238543829,
          0.00002699469762476301,
          0.000026464514490164213,
          0.000025964283814639997,
          0.000025493409453304146,
          0.000025051347601322727,
          0.000024637606115534134,
          0.000024251743818008067,
          0.000023893369756134063,
          0.00002356214238971611,
          0.00002325776867099523,
          0.00002298000297856486,
          0.00002272864586085646,
          0.000022503542539381782,
          0.000022304581116414556,
          0.000022131690426556163,
          0.000021984837467039433,
          0.00002186402433819413,
          0.000021769284623885598,
          0.00002170067914276966,
          0.000021658291005880565,
          0.000021642219925547158,
          0.00002165257573621233,
          0.000021689471110772774,
          0.000021753013487871342,
          0.000021843296267247613,
          0.000021960389382401397,
          0.000022104329422286003,
          0.000022275109545212043,
          0.000022472669505756452,
          0.000022696886194485722,
          0.000022947565163839135,
          0.000023224433672584165,
          0.000023527135815136193,
          0.000023855230299180626,
          0.000024208191384524056,
          0.000024585413389618716,
          0.000024986219006356332,
          0.000025409871442297287,
          0.000025855590145107135,
          0.000026322569578510628,
          0.000026810000242404244,
          0.0000273170908964163,
          0.000027843090790286385,
          0.000028387310653595456,
          0.000028949141266970893,
          0.000028775464514422957,
          0.000029320152386007554,
          0.00002987891224763519,
          0.000030451327351450092,
          0.000031037071116737744,
          0.00003163590507462474,
          0.000032247674105117,
          0.000032872299601762744,
          0.00003350977125944738,
          0.00003416013816998462,
          0.000034823499839724984,
          0.00003549999763062817,
          0.00003618980699080502,
          0.00003689313070129977,
          0.000037610193238411,
          0.000038341236245902565,
          0.000038478978751466016,
          0.00003920321083744936,
          0.000040974514330791415,
          0.00004141047457018266,
          0.000042215446341350295,
          0.00004303606718806195,
          0.00004387264066313199,
          0.00004472547653076194,
          0.00004559489074450787,
          0.000046481205487152926,
          0.00004738474924819768,
          0.000048305856923748776,
          0.000049244869929705133,
          0.00005020213632305608,
          0.000051178010928480855,
          0.00005217285546881075,
          0.000053187038698663087,
          0.000054220936540948796,
          0.0000547546145464885,
          0.00005579846628182217,
          0.000057843828556223626,
          0.00005856145125954248,
          0.00005969982180207317,
          0.00006086032102250085,
          0.00006204337907811363,
          0.00006324943448798665,
          0.0000644789342955263,
          0.00006573233423417346,
          0.00006701009889632862,
          0.0000678431973609185,
          0.0000700206611781269,
          0.0000713971244214918,
          0.00007237441642954868,
          0.0000737812959027212,
          0.0000752155235736366,
          0.00007667763106133825,
          0.00007775682253499562,
          0.00007925200361314756,
          0.00008161158505511052,
          0.00008281585750007955,
          0.00008442570716406219,
          0.00008606685054423468,
          0.00008735861895020595,
          0.00008978623042820535,
          0.0000915452947013,
          0.00009295670629743613,
          0.0000947636829673053,
          0.00009624658443484535,
          0.00009881336502549089,
          0.000100747450616573,
          0.00010234974080674347,
          0.00010400287362609175,
          0.00010668233971137724,
          0.0001087687833705985,
          0.00011023399316037238,
          0.0001123645059403034,
          0.00011519346781621442,
          0.00011682325274416444,
          0.00011908251049005067,
          0.00012201081864439181,
          0.00012379584936184738,
          0.0001267657888288134
         ]
        },
        {
         "line": {
          "dash": "dashdot"
         },
         "mode": "lines",
         "name": "theory short time damping_rate",
         "type": "scatter",
         "x": {
          "bdata": "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",
          "dtype": "f8"
         },
         "y": [
          0.015498288502028721,
          0.014915384112758327,
          0.014352512374741546,
          0.013809525102023521,
          0.013288917251227786,
          0.012786906768623908,
          0.01230407517612067,
          0.011839393424750516,
          0.011392195567833831,
          0.010962293613174651,
          0.010548762047733922,
          0.010150453374597,
          0.009767081846851896,
          0.009398711862287636,
          0.009043922109561828,
          0.008702632455490232,
          0.008374131244003699,
          0.008058155590157011,
          0.007753994978801223,
          0.007461455935338436,
          0.007179881125389523,
          0.006908973734228003,
          0.0066483056642875375,
          0.006397448563771172,
          0.006156073928889996,
          0.0059238351538446745,
          0.005700362245962747,
          0.005485323927172213,
          0.005278414874014692,
          0.005079319454783221,
          0.004887751705628254,
          0.0047034155603868045,
          0.0045260399246568744,
          0.004355363224317459,
          0.004191135014166765,
          0.004033114388807511,
          0.0038810576551159045,
          0.0037347466348465435,
          0.003593962619172059,
          0.0034584952649262275,
          0.0033281464854840632,
          0.003202720420487146,
          0.0030820316539891595,
          0.00296590151601879,
          0.002854158586902205,
          0.002746636255890607,
          0.0026431757807842383,
          0.002543623056372928,
          0.0024478309729317116,
          0.0023556571866920105,
          0.00226696492743564,
          0.0021816230046262596,
          0.0020995047782595105,
          0.002020488429011189,
          0.0019444568417283908,
          0.0018712971844704678,
          0.001800901014594602,
          0.0017331639973345136,
          0.001667985697601723,
          0.0016052693915488514,
          0.0015449220980229242,
          0.0014868543873374307,
          0.001430980132146146,
          0.001377216471690181,
          0.0013254836786683833,
          0.0012757050737851425,
          0.0012278068252314222,
          0.00118171791472541,
          0.0011373699947529873,
          0.001094697314398554,
          0.0010536365995467934,
          0.001014126959889994,
          0.0009761098112682075,
          0.0009395287846225191,
          0.0009043296369332482,
          0.0008704601716724809,
          0.0008378701710931876,
          0.0008065113092767299,
          0.0007763370872431484,
          0.000747302763343006,
          0.0007193652852648773,
          0.0006924832266650932,
          0.0006666167273523746,
          0.0006417274331478763,
          0.0006177784374078579,
          0.0005947342293421122,
          0.0005725606387612886,
          0.0005512247869574911,
          0.0005306950370595616,
          0.0005109409478746543,
          0.0004919332279252927,
          0.0004736436929734915,
          0.00045604522337492167,
          0.00043911172425246784,
          0.0004228180869439602,
          0.00040714015131925363,
          0.0003920546704156337,
          0.0003775392757559739,
          0.000363572444164183,
          0.00035013346594831653,
          0.00033720241406502363,
          0.0003247601147326528,
          0.00031278811886306727,
          0.00030126867480993497,
          0.00029018470195648374,
          0.00027951976547098764,
          0.0002692580519022357,
          0.00025938434572507247,
          0.0002498840068174259,
          0.00024074294872334,
          0.00023194761778072085,
          0.0002234849730315731,
          0.00021534246688572454,
          0.00020750802652159478,
          0.00019997003598878723,
          0.00019271731899112214,
          0.00018573912231918257,
          0.00017902509991522703,
          0.00017256529753399585,
          0.00016635013799739628,
          0.00016037040699632823,
          0.00015461723944057215,
          0.00014908210632196103,
          0.00014375680207920414,
          0.00013863343244274075,
          0.0001337044027407695,
          0.00012896240665336136,
          0.00012440041539200347,
          0.00012001166729490247,
          0.00011578965781741584,
          0.00011172812990638593,
          0.00010782106474276693,
          0.00010406267283913687,
          0.0001004473854788627,
          0.00009696984648507672,
          0.00009362490430658321,
          0.00009040760440945546,
          0.00008731318196346248,
          0.00008433705481238868,
          0.00008147481671812714,
          0.00007872223086865806,
          0.00007607522364087133,
          0.00007352987860878502,
          0.00007108243078896686,
          0.00006872926111466597,
          0.00006646689113096315,
          0.00006429197790333742,
          0.00006220130913248951,
          0.00006019179846862452,
          0.00005826048101862837,
          0.000056404509039942255,
          0.000054621147815257204,
          0.00005290777170237556,
          0.00005126186035395623,
          0.00004968099510206085,
          0.00004816285550273704,
          0.000046705216036110795,
          0.0000453059429576992,
          0.00004396299129690343,
          0.000042674401998854166,
          0.00004143829920598937,
          0.00004025288767593386,
          0.00003911645033241579,
          0.00003802734594610888,
          0.00003698400694239958,
          0.00003598493733317127,
          0.000035028710769743454,
          0.000034113968714111473,
          0.00003323941872557956,
          0.00003240383285977121,
          0.00003160604617681379,
          0.00003084495535521926,
          0.00003011951740760696,
          0.00002942874849391507,
          0.000028771722827106617,
          0.00002814757166557274,
          0.00002755548238543829,
          0.00002699469762476301,
          0.000026464514490164213,
          0.000025964283814639997,
          0.000025493409453304146,
          0.000025051347601322727,
          0.000024637606115534134,
          0.000024251743818008067,
          0.000023893369756134063,
          0.00002356214238971611,
          0.00002325776867099523,
          0.00002298000297856486,
          0.00002272864586085646,
          0.000022503542539381782,
          0.000022304581116414556,
          0.000022131690426556163,
          0.000021984837467039433,
          0.00002186402433819413,
          0.000021769284623885598,
          0.00002170067914276966,
          0.000021658291005880565,
          0.000021642219925547158,
          0.00002165257573621233,
          0.000021689471110772774,
          0.000021753013487871342,
          0.000021843296267247613,
          0.000021960389382401397,
          0.000022104329422286003,
          0.000022275109545212043,
          0.000022472669505756452,
          0.000022696886194485722,
          0.000022947565163839135,
          0.000023224433672584165,
          0.000023527135815136193,
          0.000023855230299180626,
          0.000024208191384524056,
          0.000024585413389618716,
          0.000024986219006356332,
          0.000025409871442297287,
          0.000025855590145107135,
          0.000026322569578510628,
          0.000026810000242404244,
          0.0000273170908964163,
          0.000027843090790286385,
          0.000028387310653595456,
          0.000028949141266970893,
          0.000028775464514422957,
          0.000029320152386007554,
          0.00002987891224763519,
          0.000030451327351450092,
          0.000031037071116737744,
          0.00003163590507462474,
          0.000032247674105117,
          0.000032872299601762744,
          0.00003350977125944738,
          0.00003416013816998462,
          0.000034823499839724984,
          0.00003549999763062817,
          0.00003618980699080502,
          0.00003689313070129977,
          0.000037610193238411,
          0.000038341236245902565,
          0.000038478978751466016,
          0.00003920321083744936,
          0.000040974514330791415,
          0.00004141047457018266,
          0.000042215446341350295,
          0.00004303606718806195,
          0.00004387264066313199,
          0.00004472547653076194,
          0.00004559489074450787,
          0.000046481205487152926,
          0.00004738474924819768,
          0.000048305856923748776,
          0.000049244869929705133,
          0.00005020213632305608,
          0.000051178010928480855,
          0.00005217285546881075,
          0.000053187038698663087,
          0.000054220936540948796,
          0.0000547546145464885,
          0.00005579846628182217,
          0.000057843828556223626,
          0.00005856145125954248,
          0.00005969982180207317,
          0.00006086032102250085,
          0.00006204337907811363,
          0.00006324943448798665,
          0.0000644789342955263,
          0.00006573233423417346,
          0.00006701009889632862,
          0.0000678431973609185,
          0.0000700206611781269,
          0.0000713971244214918,
          0.00007237441642954868,
          0.0000737812959027212,
          0.0000752155235736366,
          0.00007667763106133825,
          0.00007775682253499562,
          0.00007925200361314756,
          0.00008161158505511052,
          0.00008281585750007955,
          0.00008442570716406219,
          0.00008606685054423468,
          0.00008735861895020595,
          0.00008978623042820535,
          0.0000915452947013,
          0.00009295670629743613,
          0.0000947636829673053,
          0.00009624658443484535,
          0.00009881336502549089,
          0.000100747450616573,
          0.00010234974080674347,
          0.00010400287362609175,
          0.00010668233971137724,
          0.0001087687833705985,
          0.00011023399316037238,
          0.0001123645059403034,
          0.00011519346781621442,
          0.00011682325274416444,
          0.00011908251049005067,
          0.00012201081864439181,
          0.00012379584936184738,
          0.0001267657888288134
         ]
        },
        {
         "line": {
          "dash": "dash"
         },
         "mode": "lines",
         "name": "theory undamped damping_rate",
         "type": "scatter",
         "x": {
          "bdata": "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",
          "dtype": "f8"
         },
         "y": [
          null,
          null,
          null,
          null,
          null,
          null,
          null,
          null,
          null,
          null,
          null,
          null,
          null,
          null,
          null,
          null,
          null,
          null,
          null,
          null,
          null,
          null,
          null,
          null,
          null,
          null,
          null,
          null,
          null,
          null,
          null,
          null,
          null,
          null,
          null,
          null,
          null,
          null,
          null,
          null,
          null,
          null,
          null,
          null,
          null,
          null,
          null,
          null,
          null,
          null,
          null,
          null,
          null,
          null,
          null,
          null,
          null,
          null,
          null,
          null,
          null,
          null,
          null,
          null,
          null,
          null,
          null,
          null,
          null,
          null,
          null,
          null,
          null,
          null,
          null,
          null,
          null,
          null,
          null,
          null,
          null,
          null,
          null,
          null,
          null,
          null,
          null,
          null,
          null,
          null,
          null,
          null,
          null,
          null,
          null,
          null,
          null,
          null,
          null,
          null,
          null,
          null,
          null,
          null,
          null,
          null,
          null,
          null,
          null,
          null,
          null,
          null,
          null,
          null,
          null,
          null,
          null,
          null,
          null,
          null,
          null,
          null,
          null,
          null,
          null,
          null,
          null,
          null,
          null,
          null,
          null,
          null,
          null,
          null,
          null,
          null,
          null,
          null,
          null,
          null,
          null,
          null,
          null,
          null,
          null,
          null,
          null,
          null,
          null,
          null,
          null,
          null,
          null,
          null,
          null,
          null,
          null,
          null,
          null,
          null,
          null,
          null,
          null,
          null,
          null,
          null,
          null,
          null,
          null,
          null,
          null,
          null,
          null,
          null,
          null,
          null,
          null,
          null,
          null,
          null,
          null,
          null,
          null,
          null,
          null,
          null,
          null,
          null,
          null,
          null,
          null,
          null,
          null,
          null,
          null,
          null,
          null,
          null,
          null,
          null,
          null,
          null,
          null,
          null,
          null,
          null,
          null,
          null,
          null,
          null,
          null,
          null,
          null,
          null,
          null,
          null,
          null,
          null,
          null,
          null,
          null,
          null,
          null,
          null,
          null,
          null,
          null,
          null,
          null,
          null,
          null,
          null,
          null,
          null,
          null,
          null,
          null,
          null,
          null,
          null,
          null,
          null,
          null,
          null,
          null,
          null,
          null,
          null,
          null,
          null,
          null,
          null,
          null,
          null,
          null,
          null,
          null,
          null,
          null,
          null,
          null,
          null,
          null,
          null,
          null,
          null,
          null,
          null,
          null,
          null,
          null,
          null,
          null,
          null,
          null,
          null,
          null,
          null,
          null,
          null,
          null,
          null,
          null,
          null,
          null,
          null,
          null,
          null,
          null,
          null,
          null,
          null,
          null,
          null,
          null,
          null,
          null,
          null,
          null,
          null
         ]
        }
       ],
       "layout": {
        "height": 500,
        "template": {
         "data": {
          "bar": [
           {
            "error_x": {
             "color": "#2a3f5f"
            },
            "error_y": {
             "color": "#2a3f5f"
            },
            "marker": {
             "line": {
              "color": "#E5ECF6",
              "width": 0.5
             },
             "pattern": {
              "fillmode": "overlay",
              "size": 10,
              "solidity": 0.2
             }
            },
            "type": "bar"
           }
          ],
          "barpolar": [
           {
            "marker": {
             "line": {
              "color": "#E5ECF6",
              "width": 0.5
             },
             "pattern": {
              "fillmode": "overlay",
              "size": 10,
              "solidity": 0.2
             }
            },
            "type": "barpolar"
           }
          ],
          "carpet": [
           {
            "aaxis": {
             "endlinecolor": "#2a3f5f",
             "gridcolor": "white",
             "linecolor": "white",
             "minorgridcolor": "white",
             "startlinecolor": "#2a3f5f"
            },
            "baxis": {
             "endlinecolor": "#2a3f5f",
             "gridcolor": "white",
             "linecolor": "white",
             "minorgridcolor": "white",
             "startlinecolor": "#2a3f5f"
            },
            "type": "carpet"
           }
          ],
          "choropleth": [
           {
            "colorbar": {
             "outlinewidth": 0,
             "ticks": ""
            },
            "type": "choropleth"
           }
          ],
          "contour": [
           {
            "colorbar": {
             "outlinewidth": 0,
             "ticks": ""
            },
            "colorscale": [
             [
              0,
              "#0d0887"
             ],
             [
              0.1111111111111111,
              "#46039f"
             ],
             [
              0.2222222222222222,
              "#7201a8"
             ],
             [
              0.3333333333333333,
              "#9c179e"
             ],
             [
              0.4444444444444444,
              "#bd3786"
             ],
             [
              0.5555555555555556,
              "#d8576b"
             ],
             [
              0.6666666666666666,
              "#ed7953"
             ],
             [
              0.7777777777777778,
              "#fb9f3a"
             ],
             [
              0.8888888888888888,
              "#fdca26"
             ],
             [
              1,
              "#f0f921"
             ]
            ],
            "type": "contour"
           }
          ],
          "contourcarpet": [
           {
            "colorbar": {
             "outlinewidth": 0,
             "ticks": ""
            },
            "type": "contourcarpet"
           }
          ],
          "heatmap": [
           {
            "colorbar": {
             "outlinewidth": 0,
             "ticks": ""
            },
            "colorscale": [
             [
              0,
              "#0d0887"
             ],
             [
              0.1111111111111111,
              "#46039f"
             ],
             [
              0.2222222222222222,
              "#7201a8"
             ],
             [
              0.3333333333333333,
              "#9c179e"
             ],
             [
              0.4444444444444444,
              "#bd3786"
             ],
             [
              0.5555555555555556,
              "#d8576b"
             ],
             [
              0.6666666666666666,
              "#ed7953"
             ],
             [
              0.7777777777777778,
              "#fb9f3a"
             ],
             [
              0.8888888888888888,
              "#fdca26"
             ],
             [
              1,
              "#f0f921"
             ]
            ],
            "type": "heatmap"
           }
          ],
          "histogram": [
           {
            "marker": {
             "pattern": {
              "fillmode": "overlay",
              "size": 10,
              "solidity": 0.2
             }
            },
            "type": "histogram"
           }
          ],
          "histogram2d": [
           {
            "colorbar": {
             "outlinewidth": 0,
             "ticks": ""
            },
            "colorscale": [
             [
              0,
              "#0d0887"
             ],
             [
              0.1111111111111111,
              "#46039f"
             ],
             [
              0.2222222222222222,
              "#7201a8"
             ],
             [
              0.3333333333333333,
              "#9c179e"
             ],
             [
              0.4444444444444444,
              "#bd3786"
             ],
             [
              0.5555555555555556,
              "#d8576b"
             ],
             [
              0.6666666666666666,
              "#ed7953"
             ],
             [
              0.7777777777777778,
              "#fb9f3a"
             ],
             [
              0.8888888888888888,
              "#fdca26"
             ],
             [
              1,
              "#f0f921"
             ]
            ],
            "type": "histogram2d"
           }
          ],
          "histogram2dcontour": [
           {
            "colorbar": {
             "outlinewidth": 0,
             "ticks": ""
            },
            "colorscale": [
             [
              0,
              "#0d0887"
             ],
             [
              0.1111111111111111,
              "#46039f"
             ],
             [
              0.2222222222222222,
              "#7201a8"
             ],
             [
              0.3333333333333333,
              "#9c179e"
             ],
             [
              0.4444444444444444,
              "#bd3786"
             ],
             [
              0.5555555555555556,
              "#d8576b"
             ],
             [
              0.6666666666666666,
              "#ed7953"
             ],
             [
              0.7777777777777778,
              "#fb9f3a"
             ],
             [
              0.8888888888888888,
              "#fdca26"
             ],
             [
              1,
              "#f0f921"
             ]
            ],
            "type": "histogram2dcontour"
           }
          ],
          "mesh3d": [
           {
            "colorbar": {
             "outlinewidth": 0,
             "ticks": ""
            },
            "type": "mesh3d"
           }
          ],
          "parcoords": [
           {
            "line": {
             "colorbar": {
              "outlinewidth": 0,
              "ticks": ""
             }
            },
            "type": "parcoords"
           }
          ],
          "pie": [
           {
            "automargin": true,
            "type": "pie"
           }
          ],
          "scatter": [
           {
            "fillpattern": {
             "fillmode": "overlay",
             "size": 10,
             "solidity": 0.2
            },
            "type": "scatter"
           }
          ],
          "scatter3d": [
           {
            "line": {
             "colorbar": {
              "outlinewidth": 0,
              "ticks": ""
             }
            },
            "marker": {
             "colorbar": {
              "outlinewidth": 0,
              "ticks": ""
             }
            },
            "type": "scatter3d"
           }
          ],
          "scattercarpet": [
           {
            "marker": {
             "colorbar": {
              "outlinewidth": 0,
              "ticks": ""
             }
            },
            "type": "scattercarpet"
           }
          ],
          "scattergeo": [
           {
            "marker": {
             "colorbar": {
              "outlinewidth": 0,
              "ticks": ""
             }
            },
            "type": "scattergeo"
           }
          ],
          "scattergl": [
           {
            "marker": {
             "colorbar": {
              "outlinewidth": 0,
              "ticks": ""
             }
            },
            "type": "scattergl"
           }
          ],
          "scattermap": [
           {
            "marker": {
             "colorbar": {
              "outlinewidth": 0,
              "ticks": ""
             }
            },
            "type": "scattermap"
           }
          ],
          "scattermapbox": [
           {
            "marker": {
             "colorbar": {
              "outlinewidth": 0,
              "ticks": ""
             }
            },
            "type": "scattermapbox"
           }
          ],
          "scatterpolar": [
           {
            "marker": {
             "colorbar": {
              "outlinewidth": 0,
              "ticks": ""
             }
            },
            "type": "scatterpolar"
           }
          ],
          "scatterpolargl": [
           {
            "marker": {
             "colorbar": {
              "outlinewidth": 0,
              "ticks": ""
             }
            },
            "type": "scatterpolargl"
           }
          ],
          "scatterternary": [
           {
            "marker": {
             "colorbar": {
              "outlinewidth": 0,
              "ticks": ""
             }
            },
            "type": "scatterternary"
           }
          ],
          "surface": [
           {
            "colorbar": {
             "outlinewidth": 0,
             "ticks": ""
            },
            "colorscale": [
             [
              0,
              "#0d0887"
             ],
             [
              0.1111111111111111,
              "#46039f"
             ],
             [
              0.2222222222222222,
              "#7201a8"
             ],
             [
              0.3333333333333333,
              "#9c179e"
             ],
             [
              0.4444444444444444,
              "#bd3786"
             ],
             [
              0.5555555555555556,
              "#d8576b"
             ],
             [
              0.6666666666666666,
              "#ed7953"
             ],
             [
              0.7777777777777778,
              "#fb9f3a"
             ],
             [
              0.8888888888888888,
              "#fdca26"
             ],
             [
              1,
              "#f0f921"
             ]
            ],
            "type": "surface"
           }
          ],
          "table": [
           {
            "cells": {
             "fill": {
              "color": "#EBF0F8"
             },
             "line": {
              "color": "white"
             }
            },
            "header": {
             "fill": {
              "color": "#C8D4E3"
             },
             "line": {
              "color": "white"
             }
            },
            "type": "table"
           }
          ]
         },
         "layout": {
          "annotationdefaults": {
           "arrowcolor": "#2a3f5f",
           "arrowhead": 0,
           "arrowwidth": 1
          },
          "autotypenumbers": "strict",
          "coloraxis": {
           "colorbar": {
            "outlinewidth": 0,
            "ticks": ""
           }
          },
          "colorscale": {
           "diverging": [
            [
             0,
             "#8e0152"
            ],
            [
             0.1,
             "#c51b7d"
            ],
            [
             0.2,
             "#de77ae"
            ],
            [
             0.3,
             "#f1b6da"
            ],
            [
             0.4,
             "#fde0ef"
            ],
            [
             0.5,
             "#f7f7f7"
            ],
            [
             0.6,
             "#e6f5d0"
            ],
            [
             0.7,
             "#b8e186"
            ],
            [
             0.8,
             "#7fbc41"
            ],
            [
             0.9,
             "#4d9221"
            ],
            [
             1,
             "#276419"
            ]
           ],
           "sequential": [
            [
             0,
             "#0d0887"
            ],
            [
             0.1111111111111111,
             "#46039f"
            ],
            [
             0.2222222222222222,
             "#7201a8"
            ],
            [
             0.3333333333333333,
             "#9c179e"
            ],
            [
             0.4444444444444444,
             "#bd3786"
            ],
            [
             0.5555555555555556,
             "#d8576b"
            ],
            [
             0.6666666666666666,
             "#ed7953"
            ],
            [
             0.7777777777777778,
             "#fb9f3a"
            ],
            [
             0.8888888888888888,
             "#fdca26"
            ],
            [
             1,
             "#f0f921"
            ]
           ],
           "sequentialminus": [
            [
             0,
             "#0d0887"
            ],
            [
             0.1111111111111111,
             "#46039f"
            ],
            [
             0.2222222222222222,
             "#7201a8"
            ],
            [
             0.3333333333333333,
             "#9c179e"
            ],
            [
             0.4444444444444444,
             "#bd3786"
            ],
            [
             0.5555555555555556,
             "#d8576b"
            ],
            [
             0.6666666666666666,
             "#ed7953"
            ],
            [
             0.7777777777777778,
             "#fb9f3a"
            ],
            [
             0.8888888888888888,
             "#fdca26"
            ],
            [
             1,
             "#f0f921"
            ]
           ]
          },
          "colorway": [
           "#636efa",
           "#EF553B",
           "#00cc96",
           "#ab63fa",
           "#FFA15A",
           "#19d3f3",
           "#FF6692",
           "#B6E880",
           "#FF97FF",
           "#FECB52"
          ],
          "font": {
           "color": "#2a3f5f"
          },
          "geo": {
           "bgcolor": "white",
           "lakecolor": "white",
           "landcolor": "#E5ECF6",
           "showlakes": true,
           "showland": true,
           "subunitcolor": "white"
          },
          "hoverlabel": {
           "align": "left"
          },
          "hovermode": "closest",
          "mapbox": {
           "style": "light"
          },
          "paper_bgcolor": "white",
          "plot_bgcolor": "#E5ECF6",
          "polar": {
           "angularaxis": {
            "gridcolor": "white",
            "linecolor": "white",
            "ticks": ""
           },
           "bgcolor": "#E5ECF6",
           "radialaxis": {
            "gridcolor": "white",
            "linecolor": "white",
            "ticks": ""
           }
          },
          "scene": {
           "xaxis": {
            "backgroundcolor": "#E5ECF6",
            "gridcolor": "white",
            "gridwidth": 2,
            "linecolor": "white",
            "showbackground": true,
            "ticks": "",
            "zerolinecolor": "white"
           },
           "yaxis": {
            "backgroundcolor": "#E5ECF6",
            "gridcolor": "white",
            "gridwidth": 2,
            "linecolor": "white",
            "showbackground": true,
            "ticks": "",
            "zerolinecolor": "white"
           },
           "zaxis": {
            "backgroundcolor": "#E5ECF6",
            "gridcolor": "white",
            "gridwidth": 2,
            "linecolor": "white",
            "showbackground": true,
            "ticks": "",
            "zerolinecolor": "white"
           }
          },
          "shapedefaults": {
           "line": {
            "color": "#2a3f5f"
           }
          },
          "ternary": {
           "aaxis": {
            "gridcolor": "white",
            "linecolor": "white",
            "ticks": ""
           },
           "baxis": {
            "gridcolor": "white",
            "linecolor": "white",
            "ticks": ""
           },
           "bgcolor": "#E5ECF6",
           "caxis": {
            "gridcolor": "white",
            "linecolor": "white",
            "ticks": ""
           }
          },
          "title": {
           "x": 0.05
          },
          "xaxis": {
           "automargin": true,
           "gridcolor": "white",
           "linecolor": "white",
           "ticks": "",
           "title": {
            "standoff": 15
           },
           "zerolinecolor": "white",
           "zerolinewidth": 2
          },
          "yaxis": {
           "automargin": true,
           "gridcolor": "white",
           "linecolor": "white",
           "ticks": "",
           "title": {
            "standoff": 15
           },
           "zerolinecolor": "white",
           "zerolinewidth": 2
          }
         }
        },
        "title": {
         "text": "Comparison for damping_rate"
        },
        "width": 900,
        "xaxis": {
         "title": {
          "text": "Sample Duration (s)"
         },
         "type": "log"
        },
        "yaxis": {
         "title": {
          "text": "Uncertainty"
         },
         "type": "log"
        }
       }
      }
     },
     "metadata": {},
     "output_type": "display_data"
    },
    {
     "data": {
      "application/vnd.plotly.v1+json": {
       "config": {
        "plotlyServerURL": "https://plot.ly"
       },
       "data": [
        {
         "mode": "lines+markers",
         "name": "RMSE phase",
         "type": "scatter",
         "x": {
          "bdata": "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",
          "dtype": "f8"
         },
         "y": [
          0.20049422444329765,
          0.18567439262653307,
          0.16456846260468,
          0.14622613811147217,
          0.13014458713608382,
          0.11597170343029053,
          0.10344152735780388,
          0.09233832773830138,
          0.08248321343841022,
          0.07372463909471158,
          0.06593340637940853,
          0.05899668004650519,
          0.05281696493687567,
          0.047308361619892256,
          0.04239552332165487,
          0.03801229128643475,
          0.03423088694377149,
          0.030720658732159054,
          0.027586307492975602,
          0.024786455735205146,
          0.02228446767190026,
          0.0200477882652272,
          0.01804762324429166,
          0.016257909705595645,
          0.014712035217329953,
          0.013221725592806354,
          0.011936535112248757,
          0.010784472896067194,
          0.009802718857281206,
          0.008872370544669194,
          0.008035953440127678,
          0.007283760362367541,
          0.006606366682866301,
          0.005995868004771164,
          0.005416671311804784,
          0.0049241564272241925,
          0.004498928169497525,
          0.004092357139583853,
          0.003724121567978981,
          0.003449134999778305,
          0.003086998491091443,
          0.0028613758973556913,
          0.002572038879547986,
          0.0023774973028554895,
          0.0021683876492938053,
          0.0019785483554079146,
          0.0018063958588856737,
          0.00165063806497631,
          0.001472291056220318,
          0.0013966869109049683,
          0.0013221544146353496,
          0.0011451650801867733,
          0.0011282528539543828,
          0.001023969047288904,
          0.0009700521284854656,
          0.0009916250631332596,
          0.0009169584450817802,
          0.000895968645966388,
          0.0009689850996979213,
          0.0009071852863824632,
          0.000997958474049087,
          0.0010123390593096725,
          0.0009505508575214206,
          0.0010154725009245858,
          0.0009860457286967465,
          0.0009671376978635819,
          0.000958147406966903,
          0.0008928379586116487,
          0.0008800549728122233,
          0.0008818369268397406,
          0.0009145278065319213,
          0.0008866504956844771,
          0.0009538176358724604,
          0.0008934039523036284,
          0.0008821492010814114,
          0.0009140708715688259,
          0.0008663815864539509,
          0.0008846923587228245,
          0.0009023180765705697,
          0.0009536548576857985,
          0.0009370754694990303,
          0.0009007008604398927,
          0.000857121787872578,
          0.0008531759800081062,
          0.000900886353352868,
          0.0008960713425289536,
          0.0008970630185670121,
          0.0008247444477294528,
          0.0008496472415661211,
          0.0009040806453315703,
          0.0009175287404680311,
          0.0008926582665706045,
          0.0008891223478901171,
          0.0009353144842593935,
          0.0009216988076756765,
          0.00090905674968954,
          0.0009638979849589576,
          0.0009254845352694915,
          0.0009166248855928705,
          0.0009093651803354615,
          0.0009149421685706956,
          0.000874415562933256,
          0.0009878497280055181,
          0.0010092618376184891,
          0.0009756284609559711,
          0.0009140369790176557,
          0.0008867159311208893,
          0.0009346927462694712,
          0.0009237606587050847,
          0.0009179796963769231,
          0.0009458862355792585,
          0.0009133048878015383,
          0.0009196646309645908,
          0.0009616918388148705,
          0.0009671539016624268,
          0.0008798722293862668,
          0.0009967294517771532,
          0.0009409615590413438,
          0.0009618126895107682,
          0.0009429290462596256,
          0.0009346447878181767,
          0.0009760826120001023,
          0.0009497619671590471,
          0.0008905116027615511,
          0.0008932934325326884,
          0.0009399333463401019,
          0.0009335312608176076,
          0.0008961930074562599,
          0.0008880904268368136,
          0.0009253899910309652,
          0.0008966664203474455,
          0.0008671420468752267,
          0.0009387628455936122,
          0.0008964082924677818,
          0.0009084705417494303,
          0.0009643732354233899,
          0.0009379376808360474,
          0.0009054575233843213,
          0.0008806368680155579,
          0.0009240708247940488,
          0.0008901861399866219,
          0.0010093163009486147,
          0.0009186406205929611,
          0.0009108817679691145,
          0.0008932906194659926,
          0.0009831571797778889,
          0.0009275496295012679,
          0.0009602696453601177,
          0.0009620220842321062,
          0.0009753193617223641,
          0.0009432766812389827,
          0.0010356409788998652,
          0.000989695909054597,
          0.0009542779496886305,
          0.0009655916906222553,
          0.0010370313423557684,
          0.0010554730579152155,
          0.0010139291890078684,
          0.001010850027169091,
          0.0010171393148818732,
          0.001058154405390748,
          0.0010245803438051985,
          0.0010322052059159102,
          0.0010262025713240527,
          0.001049342726817972,
          0.0009667651891996074,
          0.0010114533457717925,
          0.0010134758154386175,
          0.0010810161709251418,
          0.0010352167790618225,
          0.001041194181038641,
          0.0010509030675849974,
          0.0011002339436198888,
          0.001065603999488766,
          0.0010539133221586568,
          0.0011111165618103607,
          0.0010923367779643726,
          0.0011627558708591885,
          0.0011180603312284493,
          0.0010951453743619595,
          0.0010342202102193627,
          0.0011316758397552989,
          0.0011367771871814,
          0.0010932931365694389,
          0.001141900722053738,
          0.0010853941532720823,
          0.001142507473397518,
          0.0011502076438518487,
          0.0012368343123127573,
          0.0012258127039191044,
          0.0011945353802523034,
          0.0012435608753717574,
          0.0013409121415881562,
          0.00126863198075547,
          0.001343270748930786,
          0.0013759125519073752,
          0.0013060960969343727,
          0.0012771773486663573,
          0.0013411079203294336,
          0.0013063595298051774,
          0.0014620630466437637,
          0.0014244716856727168,
          0.0014922116159143994,
          0.0014777208915964176,
          0.0015141540224041779,
          0.0016103286970496889,
          0.0016124724193261062,
          0.0014794140594677403,
          0.0015572427751092196,
          0.0015680599412474158,
          0.0017229629600215692,
          0.0015212003605731966,
          0.001768861806250902,
          0.001763071318359681,
          0.0017789256479888147,
          0.0017764554159199627,
          0.0017227133723253267,
          0.0018837355194828735,
          0.001911312905123743,
          0.0019969473818527905,
          0.0031747554376117823,
          0.0020798020316883372,
          0.0021159397830522596,
          0.002107563061204745,
          0.002233816475441517,
          0.002189875144499802,
          0.0021900990868732517,
          0.0023881521032355856,
          0.0022389411604233846,
          0.0023230926234123067,
          0.0024340165369471766,
          0.0022995396133710655,
          0.0023805048513847013,
          0.0024440023274856473,
          0.0023676859491899727,
          0.0024318859581957137,
          0.0026150648123605628,
          0.0026747053752182465,
          0.0028645167301967317,
          0.0028267701403103325,
          0.0029373936167368655,
          0.0031038518831930447,
          0.002916515749522979,
          0.003223466961231198,
          0.0029641123181912746,
          0.0030486825234657513,
          0.0034729930111558594,
          0.003374785315680085,
          0.0035445388179177538,
          0.0033109763209728253,
          0.0037845441120222868,
          0.003648317325126548,
          0.003774425432395277,
          0.0035857947608188665,
          0.0036731231837451995,
          0.003811756558160234,
          0.003609604374254971,
          0.003994947337329984,
          0.00444529665995589,
          0.004319125502551572,
          0.004178665236147403,
          0.004302642160919995,
          0.0048023464054083465,
          0.041271774835198546,
          0.004919822002393334,
          0.0045636518039628,
          0.004956053380608967,
          0.004777885579922424,
          0.005155171710304203,
          0.004936395710709406,
          0.004959635805955433,
          0.005180533026025379,
          0.005574274891438579,
          0.005260509029494077,
          0.005396511645315124,
          0.005316212549532823,
          0.0060752338493904766,
          0.005757760768461496,
          0.006439348682801508,
          0.006050228860291385,
          0.006594009224370168,
          0.007008755156923091,
          0.006647097148044507,
          0.006724855872811805,
          0.007112481199874525,
          0.0068692846881437605,
          0.006959439733313208,
          0.00730404938027995,
          0.007973215668409502,
          0.007938818257940117,
          0.007820688053847058,
          0.008074228548106384,
          0.008126399131068546,
          0.008117074752621906,
          0.008031341817442413,
          0.0114168599246798,
          0.00847943110719052,
          0.008711601871945807,
          0.00945341077145261,
          0.011702453062004523
         ]
        },
        {
         "line": {
          "dash": "dot"
         },
         "mode": "lines+markers",
         "name": "stderr phase",
         "type": "scatter",
         "x": {
          "bdata": "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",
          "dtype": "f8"
         },
         "y": [
          0.21495195784501656,
          0.19170186259750086,
          0.17017044562232206,
          0.15133128362494858,
          0.1347454054982742,
          0.12009268247558676,
          0.10711702254365821,
          0.09561012330111908,
          0.08539118955800253,
          0.07630679241698823,
          0.0682248174283136,
          0.061029859533385154,
          0.05462080545536502,
          0.04890893059133997,
          0.043816205696953124,
          0.039273553366869024,
          0.035267425625542095,
          0.031639874037152634,
          0.028401374174070498,
          0.025509123884182392,
          0.022925127110053824,
          0.020615706637927063,
          0.018550838478096195,
          0.01670384288102272,
          0.01500597082658239,
          0.013571374052743602,
          0.012245958130490217,
          0.011058159476631878,
          0.009973852226447871,
          0.009021973367926903,
          0.008167051653938655,
          0.00739867844811882,
          0.006707530773541084,
          0.006085395558308981,
          0.005529582541865708,
          0.005022971367989929,
          0.00456327480775193,
          0.004151118799180772,
          0.0037783780804057027,
          0.0034354539618618746,
          0.003135208286712779,
          0.0028529810397873367,
          0.0026065371566796574,
          0.00237356904988406,
          0.0021665680903363454,
          0.0019788638292985643,
          0.0018089650516349943,
          0.0016556826063613983,
          0.0015212710660659917,
          0.0013982621040218844,
          0.0012891057275672367,
          0.0011979722834471714,
          0.0011196798958069628,
          0.001055252996437384,
          0.0010084416568681704,
          0.0009780258032392583,
          0.000963057995508481,
          0.0009581641951986547,
          0.0009673643035286154,
          0.0009824560354382197,
          0.0010021820837309869,
          0.001018611267046384,
          0.0010262463947010828,
          0.0010250653856198478,
          0.0010078354552708786,
          0.0009802319183675626,
          0.0009518027247610861,
          0.0009255405210641443,
          0.0009149495302102898,
          0.000917381171504623,
          0.0009335445205523303,
          0.0009501672684389342,
          0.0009611898909053784,
          0.0009562165773098475,
          0.0009380947273837844,
          0.0009167286546711606,
          0.0009035850937559039,
          0.0009075211112239464,
          0.0009255463521364715,
          0.0009372893088966383,
          0.0009338276952469219,
          0.0009147546242568794,
          0.000901492119597462,
          0.0009053833193024549,
          0.0009209123649619736,
          0.0009275571462342497,
          0.0009144326914652597,
          0.0009002952582147846,
          0.0009061498294404901,
          0.0009206137486081732,
          0.0009183296589408194,
          0.000900994951713861,
          0.000903811905851752,
          0.0009185934654976829,
          0.0009122386812831103,
          0.0009003153409283503,
          0.0009121326199409194,
          0.0009156225920149359,
          0.0009006068424865143,
          0.0009111487185473377,
          0.0009139074318972614,
          0.0009014971411942964,
          0.0009156717396199365,
          0.0009065241671714845,
          0.0009091104946062793,
          0.0009129570034704537,
          0.0009061443389463338,
          0.0009164309906024541,
          0.000906257320885859,
          0.0009169417925956854,
          0.0009068930126386936,
          0.0009149028581509949,
          0.0009115814429743424,
          0.0009120310090571064,
          0.0009176876701310621,
          0.0009095431759381438,
          0.0009173502659428101,
          0.0009189710943152404,
          0.0009137942749906088,
          0.0009149764081938898,
          0.0009204915940860746,
          0.0009208843099424961,
          0.0009183648233797759,
          0.0009176864564463295,
          0.0009179000977561999,
          0.0009207522933009795,
          0.0009205550414140484,
          0.0009232136227460602,
          0.0009231072353608535,
          0.000925054294209569,
          0.0009262248036106975,
          0.000929976575754999,
          0.0009318073303086051,
          0.0009305554452824879,
          0.0009316773696999103,
          0.0009361351079479955,
          0.0009342450502030712,
          0.0009405819692380565,
          0.0009391258283562809,
          0.0009424480181992841,
          0.0009443104263514472,
          0.0009433102111499834,
          0.0009492423512882012,
          0.0009499413326472816,
          0.0009520365157804814,
          0.0009569357367563872,
          0.0009575088848986315,
          0.0009573719423026111,
          0.000959909179896847,
          0.0009642736569887271,
          0.0009648447915429007,
          0.000972545662686604,
          0.0009714847073795223,
          0.0009769231927810398,
          0.0009780011858942451,
          0.0009841926825004581,
          0.0009845926113929357,
          0.0009880109765136682,
          0.000992802692685986,
          0.0009947049635594832,
          0.001003594830487861,
          0.0010035090416425213,
          0.0010113673899693866,
          0.0010133677423926374,
          0.0010216056117188968,
          0.0010229567802172482,
          0.0010316544668174206,
          0.001033354531663897,
          0.001037642116710917,
          0.0010438318649532037,
          0.0010513820242258967,
          0.0010599251734371257,
          0.0010655519908386545,
          0.0010694424781539694,
          0.0010772134179230384,
          0.0010842163704278347,
          0.0010959697590825633,
          0.001099720556294404,
          0.001107731741757871,
          0.001119659189610548,
          0.0011261885381837343,
          0.0011346662981412895,
          0.0011481726061774381,
          0.0011586471337466978,
          0.0011691213549927114,
          0.001179431227090705,
          0.001187199274100267,
          0.0012032991025245235,
          0.0012145596730616208,
          0.0012273784835556828,
          0.001240870925904442,
          0.0012517214985416983,
          0.0012664780702980332,
          0.0012808275254252148,
          0.0013004641189289401,
          0.0013176024782311387,
          0.001329881932066806,
          0.001351735428383133,
          0.0013702867134565708,
          0.0013854644637997897,
          0.0014054068940832682,
          0.001427045658396157,
          0.0014519690930993646,
          0.0014707864379315764,
          0.0014979151026787588,
          0.0015181487677576944,
          0.0015427744441474322,
          0.0015702247216945779,
          0.0015970801166198805,
          0.0016245929217333082,
          0.0016536490821114425,
          0.0016849595123018546,
          0.001715433049124212,
          0.001752423177460579,
          0.001781103965506321,
          0.0018148694756654445,
          0.0018511266109846913,
          0.0018927717142928743,
          0.0019271785166310432,
          0.0019817762003972363,
          0.0033200716273604457,
          0.0020519646330372323,
          0.0020500762295045595,
          0.002078241325730904,
          0.0021148027020637004,
          0.002148998821427197,
          0.0021967985250574504,
          0.002237626252785956,
          0.002276630741363404,
          0.002320136732811129,
          0.0023663972580374687,
          0.0024114105304679774,
          0.00245822988336329,
          0.0025076995858086685,
          0.0025559314224627523,
          0.0026105233727169936,
          0.0026568124028122034,
          0.0027158515996511578,
          0.0027260721089782274,
          0.002785983649824955,
          0.0029055704405263083,
          0.002935371564736354,
          0.00298794221165864,
          0.003039167430383592,
          0.0030986404701452103,
          0.0031647350950151356,
          0.0032206648843653564,
          0.0032849778497509607,
          0.0033582444391382954,
          0.0034601994065856126,
          0.0037463554125673065,
          0.003555749792544213,
          0.0036182241329900007,
          0.0036843753083050145,
          0.0037578133881493634,
          0.0038329022852001044,
          0.0038925413185834164,
          0.0039920841106872215,
          0.004100811868930728,
          0.004140354112522639,
          0.004238212633205603,
          0.00431072089831928,
          0.004407308658996808,
          0.04178455996856744,
          0.004579956485330972,
          0.004654804969064738,
          0.004745215778596164,
          0.004835322503288916,
          0.005061726153713079,
          0.005075222189959313,
          0.005140143917646297,
          0.0052743497545846155,
          0.005729750237365363,
          0.005440967060876427,
          0.005527441257048187,
          0.005762056371023386,
          0.005814442394275515,
          0.005870284341350579,
          0.006632846627507839,
          0.006159428466495176,
          0.006186774147891252,
          0.007095530776718455,
          0.0064887438526917305,
          0.006751797938659153,
          0.006817747977424394,
          0.006840600033810348,
          0.00716216998905047,
          0.007215822447442277,
          0.008156260423623746,
          0.007389511637462459,
          0.0077412584292684715,
          0.008028246148651533,
          0.008140801792847822,
          0.008327581347746816,
          0.00823684978771848,
          0.011692243597120759,
          0.008717615973258744,
          0.008767850199795408,
          0.009597116491025464,
          0.011523767551633913
         ]
        },
        {
         "line": {
          "dash": "dash"
         },
         "mode": "lines",
         "name": "theory phase",
         "type": "scatter",
         "x": {
          "bdata": "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",
          "dtype": "f8"
         },
         "y": [
          0.0008945793081586014,
          0.0008947215289161835,
          0.0008947454850404331,
          0.0008946812462793698,
          0.0008947402798128351,
          0.0008947269590514296,
          0.0008947288516459625,
          0.0008947241982374856,
          0.0008947139438681593,
          0.0008947362609391088,
          0.0008947706343033573,
          0.0008947713174818995,
          0.0008947621253429307,
          0.000894802121021959,
          0.0008948106420116134,
          0.0008948296384679974,
          0.0008948383622816179,
          0.0008948604303329135,
          0.0008948694820821227,
          0.0008948947900272366,
          0.0008949103913649053,
          0.0008949306941059329,
          0.0008949526471028052,
          0.0008949705248892375,
          0.0008949901081104363,
          0.000895013240388642,
          0.000895036267885804,
          0.0008950591142714908,
          0.0008950839809273195,
          0.0008951094821380565,
          0.0008951373128582081,
          0.0008951653817719916,
          0.0008951940713686664,
          0.0008952236712415949,
          0.0008952547535018902,
          0.0008952879892215983,
          0.0008953213667719307,
          0.0008953565521505345,
          0.0008953932150833463,
          0.0008954310105662043,
          0.0008954707083999309,
          0.000895511695624434,
          0.0008955541647113803,
          0.0008955982513537151,
          0.0008956442583423462,
          0.0008956919779358396,
          0.0008957417034919626,
          0.0008957932803371835,
          0.0008958469583941429,
          0.0008959027116777003,
          0.0008959605806615892,
          0.0008960207756575278,
          0.0008960833512113607,
          0.0008961483784739998,
          0.0008962159762487379,
          0.0008962862028299336,
          0.0008963591786159574,
          0.0008964350358502076,
          0.0008965138922274719,
          0.000896595823557224,
          0.0008966809575720591,
          0.0008967694510724205,
          0.000896861421889399,
          0.0008969570000134954,
          0.0008970563223802654,
          0.0008971595565518209,
          0.000897266842319563,
          0.0008973783427651772,
          0.0008974942180913951,
          0.0008976146465251944,
          0.0008977398079716931,
          0.0008978698837730052,
          0.0008980050676038211,
          0.0008981455627108543,
          0.0008982915773078595,
          0.0008984433250031507,
          0.0008986010350793638,
          0.0008987649403582979,
          0.0008989352842305145,
          0.0008991123205669222,
          0.0008992963121782475,
          0.0008994875316094864,
          0.0008996862636052643,
          0.0008998928044049295,
          0.0009001074598441075,
          0.0009003305500392915,
          0.0009005624062422529,
          0.000900803373527091,
          0.0009010538099874135,
          0.0009013140884582484,
          0.0009015845956924753,
          0.0009018657346161887,
          0.0009021579234192695,
          0.000902461596854936,
          0.0009027772071998269,
          0.0009031052240102262,
          0.0009034461357697216,
          0.0009038004501997201,
          0.0009041686949637226,
          0.0009045514186951569,
          0.0009049491915011841,
          0.0009053626062341995,
          0.0009057922790208967,
          0.0009062388504754715,
          0.0009067029864041477,
          0.0009071853790452221,
          0.0009076867480130859,
          0.0009082078413514453,
          0.0009087494367902267,
          0.0009093123428185419,
          0.0009098973999524455,
          0.0009105054820270784,
          0.0009111374975167145,
          0.0009117943909250951,
          0.0009124771442248165,
          0.0009131867783641861,
          0.0009139243548239067,
          0.0009146909772591821,
          0.0009154877931666708,
          0.0009163159956823488,
          0.0009171768253893563,
          0.000918071572247985,
          0.0009190015775769171,
          0.0009199682361307212,
          0.0009209729982607874,
          0.0009220173721567408,
          0.000923102926199762,
          0.0009242312913918529,
          0.0009254041639075757,
          0.0009266233077363254,
          0.000927890557444197,
          0.0009292078210506306,
          0.0009305770830259148,
          0.0009320004074137173,
          0.0009334799410904236,
          0.0009350179171601697,
          0.0009366166584945162,
          0.000938278581425912,
          0.0009400061995989812,
          0.0009418021279883853,
          0.0009436690870894161,
          0.0009456099072936788,
          0.0009476275334531831,
          0.0009497250296468819,
          0.0009519055841559733,
          0.0009541725146607448,
          0.0009565292736684961,
          0.0009589794541845336,
          0.0009615267956389758,
          0.0009641751900820015,
          0.0009669286886614695,
          0.0009697915083981986,
          0.000972768039273965,
          0.0009758628516496447,
          0.0009790807040307257,
          0.0009824265511995816,
          0.000985905552734634,
          0.0009895230819377701,
          0.0009932847351930534,
          0.0009971963417809498,
          0.0010012639741739443,
          0.0010054939588408135,
          0.0010098928875884414,
          0.001014467629471626,
          0.0010192253433027195,
          0.0010241734907943632,
          0.0010293198503697224,
          0.0010346725316755562,
          0.0010402399908338825,
          0.0010460310464679235,
          0.0010520548965371698,
          0.0010583211360144236,
          0.0010648397754344995,
          0.0010716212603391858,
          0.001078676491635822,
          0.0010860168468768121,
          0.0010936542024536538,
          0.001101600956681115,
          0.0011098700537235569,
          0.0011184750082853063,
          0.0011274299309486666,
          0.0011367495539952148,
          0.001146449257486515,
          0.0011565450953073386,
          0.0011670538207856564,
          0.0011779929113969077,
          0.001189380591933001,
          0.0012012358553673199,
          0.001213578480474061,
          0.001226429045062998,
          0.0012398089334698969,
          0.0012537403367011703,
          0.0012682462433744662,
          0.0012833504193343304,
          0.0012990773735682684,
          0.001315452307824258,
          0.0013325010471643283,
          0.0013502499486169807,
          0.0013687257851600749,
          0.0013879556025299157,
          0.001407966546873585,
          0.0014287856621049031,
          0.0014504396570515822,
          0.00147295464414064,
          0.0014963558534834,
          0.00152066732876977,
          0.0015459116142827402,
          0.001572109445438395,
          0.0015992794582939702,
          0.0016274379361036443,
          0.0016565986128181753,
          0.0016867725539579162,
          0.0017179681340971302,
          0.0017501911269413944,
          0.0017834449185179402,
          0.001817730846476196,
          0.0018530486594035766,
          0.0018893970802398533,
          0.0019267744484421647,
          0.0019651794077648562,
          0.0020046116015538457,
          0.00204507233619474,
          0.00203258776926079,
          0.0020716832278664097,
          0.002111634358792706,
          0.002152439817984471,
          0.0021941004804820257,
          0.002236619504760988,
          0.002280002306242542,
          0.002324256455360214,
          0.002369391519031712,
          0.0024154188655674882,
          0.0024623514521605163,
          0.002510203611591929,
          0.002558990851234032,
          0.002608729673439627,
          0.0026594374225095813,
          0.002711132160034124,
          0.0027208723145181147,
          0.0027720843416483222,
          0.0028973354253297202,
          0.0029281625576515883,
          0.002985082752519288,
          0.003043109455351263,
          0.0031022641548590813,
          0.0031625687672898095,
          0.0032240456402536184,
          0.0032867175585669086,
          0.003350607751365136,
          0.0034157399000140885,
          0.003482138146536064,
          0.0035498271023889486,
          0.0036188318575105863,
          0.003689177989584283,
          0.0037608915735050535,
          0.003833999191038886,
          0.003871735924707683,
          0.003945547388768518,
          0.0040901763421897774,
          0.004140919930174796,
          0.004221414883187443,
          0.004303474570020054,
          0.004387129407386171,
          0.0044724104032669645,
          0.004559349168404848,
          0.00464797792802047,
          0.004738329533757515,
          0.004797238491128275,
          0.004951208434221916,
          0.00504853908356565,
          0.005117644064175294,
          0.0052171254657545395,
          0.0053185406769415055,
          0.005421927288879251,
          0.0054982376498014345,
          0.005603962917747741,
          0.005770810521585134,
          0.005855965442808505,
          0.005969799004217806,
          0.006085845365519744,
          0.0061771871854782254,
          0.006348845239296193,
          0.006473229866901014,
          0.006573031737968332,
          0.00670080428363937,
          0.006805661251992276,
          0.006987160048138623,
          0.007123920551823559,
          0.00723721957771338,
          0.007354113720389701,
          0.0075435805842761754,
          0.0076911144302760776,
          0.00779472040809708,
          0.007945370411506463,
          0.008145408224123952,
          0.008260651421566862,
          0.0084204050688233,
          0.008627467724157149,
          0.008753688456651062,
          0.008963694890331582
         ]
        },
        {
         "line": {
          "dash": "dashdot"
         },
         "mode": "lines",
         "name": "theory short time phase",
         "type": "scatter",
         "x": {
          "bdata": "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",
          "dtype": "f8"
         },
         "y": [
          0.020875594172708466,
          0.018598208403521027,
          0.016569269213037738,
          0.014761672904554381,
          0.013151272591371277,
          0.01171655563131283,
          0.010438356250664296,
          0.009299599518632233,
          0.00828507325222862,
          0.007381224804584968,
          0.006575980022106212,
          0.005858581952014899,
          0.005219447145670204,
          0.004650037638098278,
          0.004142746893579868,
          0.0036907981937057896,
          0.0032881541105225895,
          0.0029294358554701667,
          0.0026098514267382847,
          0.002325131595201829,
          0.002071472873806001,
          0.0018454867085604394,
          0.0016441542124123482,
          0.00146478583731286,
          0.001304985445757424,
          0.001162618301851179,
          0.0010357825543089393,
          0.0009227838304463288,
          0.0008950839809273195,
          0.0008951094821380565,
          0.0008951373128582081,
          0.0008951653817719916,
          0.0008951940713686664,
          0.0008952236712415949,
          0.0008952547535018902,
          0.0008952879892215983,
          0.0008953213667719307,
          0.0008953565521505345,
          0.0008953932150833463,
          0.0008954310105662043,
          0.0008954707083999309,
          0.000895511695624434,
          0.0008955541647113803,
          0.0008955982513537151,
          0.0008956442583423462,
          0.0008956919779358396,
          0.0008957417034919626,
          0.0008957932803371835,
          0.0008958469583941429,
          0.0008959027116777003,
          0.0008959605806615892,
          0.0008960207756575278,
          0.0008960833512113607,
          0.0008961483784739998,
          0.0008962159762487379,
          0.0008962862028299336,
          0.0008963591786159574,
          0.0008964350358502076,
          0.0008965138922274719,
          0.000896595823557224,
          0.0008966809575720591,
          0.0008967694510724205,
          0.000896861421889399,
          0.0008969570000134954,
          0.0008970563223802654,
          0.0008971595565518209,
          0.000897266842319563,
          0.0008973783427651772,
          0.0008974942180913951,
          0.0008976146465251944,
          0.0008977398079716931,
          0.0008978698837730052,
          0.0008980050676038211,
          0.0008981455627108543,
          0.0008982915773078595,
          0.0008984433250031507,
          0.0008986010350793638,
          0.0008987649403582979,
          0.0008989352842305145,
          0.0008991123205669222,
          0.0008992963121782475,
          0.0008994875316094864,
          0.0008996862636052643,
          0.0008998928044049295,
          0.0009001074598441075,
          0.0009003305500392915,
          0.0009005624062422529,
          0.000900803373527091,
          0.0009010538099874135,
          0.0009013140884582484,
          0.0009015845956924753,
          0.0009018657346161887,
          0.0009021579234192695,
          0.000902461596854936,
          0.0009027772071998269,
          0.0009031052240102262,
          0.0009034461357697216,
          0.0009038004501997201,
          0.0009041686949637226,
          0.0009045514186951569,
          0.0009049491915011841,
          0.0009053626062341995,
          0.0009057922790208967,
          0.0009062388504754715,
          0.0009067029864041477,
          0.0009071853790452221,
          0.0009076867480130859,
          0.0009082078413514453,
          0.0009087494367902267,
          0.0009093123428185419,
          0.0009098973999524455,
          0.0009105054820270784,
          0.0009111374975167145,
          0.0009117943909250951,
          0.0009124771442248165,
          0.0009131867783641861,
          0.0009139243548239067,
          0.0009146909772591821,
          0.0009154877931666708,
          0.0009163159956823488,
          0.0009171768253893563,
          0.000918071572247985,
          0.0009190015775769171,
          0.0009199682361307212,
          0.0009209729982607874,
          0.0009220173721567408,
          0.000923102926199762,
          0.0009242312913918529,
          0.0009254041639075757,
          0.0009266233077363254,
          0.000927890557444197,
          0.0009292078210506306,
          0.0009305770830259148,
          0.0009320004074137173,
          0.0009334799410904236,
          0.0009350179171601697,
          0.0009366166584945162,
          0.000938278581425912,
          0.0009400061995989812,
          0.0009418021279883853,
          0.0009436690870894161,
          0.0009456099072936788,
          0.0009476275334531831,
          0.0009497250296468819,
          0.0009519055841559733,
          0.0009541725146607448,
          0.0009565292736684961,
          0.0009589794541845336,
          0.0009615267956389758,
          0.0009641751900820015,
          0.0009669286886614695,
          0.0009697915083981986,
          0.000972768039273965,
          0.0009758628516496447,
          0.0009790807040307257,
          0.0009824265511995816,
          0.000985905552734634,
          0.0009895230819377701,
          0.0009932847351930534,
          0.0009971963417809498,
          0.0010012639741739443,
          0.0010054939588408135,
          0.0010098928875884414,
          0.001014467629471626,
          0.0010192253433027195,
          0.0010241734907943632,
          0.0010293198503697224,
          0.0010346725316755562,
          0.0010402399908338825,
          0.0010460310464679235,
          0.0010520548965371698,
          0.0010583211360144236,
          0.0010648397754344995,
          0.0010716212603391858,
          0.001078676491635822,
          0.0010860168468768121,
          0.0010936542024536538,
          0.001101600956681115,
          0.0011098700537235569,
          0.0011184750082853063,
          0.0011274299309486666,
          0.0011367495539952148,
          0.001146449257486515,
          0.0011565450953073386,
          0.0011670538207856564,
          0.0011779929113969077,
          0.001189380591933001,
          0.0012012358553673199,
          0.001213578480474061,
          0.001226429045062998,
          0.0012398089334698969,
          0.0012537403367011703,
          0.0012682462433744662,
          0.0012833504193343304,
          0.0012990773735682684,
          0.001315452307824258,
          0.0013325010471643283,
          0.0013502499486169807,
          0.0013687257851600749,
          0.0013879556025299157,
          0.001407966546873585,
          0.0014287856621049031,
          0.0014504396570515822,
          0.00147295464414064,
          0.0014963558534834,
          0.00152066732876977,
          0.0015459116142827402,
          0.001572109445438395,
          0.0015992794582939702,
          0.0016274379361036443,
          0.0016565986128181753,
          0.0016867725539579162,
          0.0017179681340971302,
          0.0017501911269413944,
          0.0017834449185179402,
          0.001817730846476196,
          0.0018530486594035766,
          0.0018893970802398533,
          0.0019267744484421647,
          0.0019651794077648562,
          0.0020046116015538457,
          0.00204507233619474,
          0.00203258776926079,
          0.0020716832278664097,
          0.002111634358792706,
          0.002152439817984471,
          0.0021941004804820257,
          0.002236619504760988,
          0.002280002306242542,
          0.002324256455360214,
          0.002369391519031712,
          0.0024154188655674882,
          0.0024623514521605163,
          0.002510203611591929,
          0.002558990851234032,
          0.002608729673439627,
          0.0026594374225095813,
          0.002711132160034124,
          0.0027208723145181147,
          0.0027720843416483222,
          0.0028973354253297202,
          0.0029281625576515883,
          0.002985082752519288,
          0.003043109455351263,
          0.0031022641548590813,
          0.0031625687672898095,
          0.0032240456402536184,
          0.0032867175585669086,
          0.003350607751365136,
          0.0034157399000140885,
          0.003482138146536064,
          0.0035498271023889486,
          0.0036188318575105863,
          0.003689177989584283,
          0.0037608915735050535,
          0.003833999191038886,
          0.003871735924707683,
          0.003945547388768518,
          0.0040901763421897774,
          0.004140919930174796,
          0.004221414883187443,
          0.004303474570020054,
          0.004387129407386171,
          0.0044724104032669645,
          0.004559349168404848,
          0.00464797792802047,
          0.004738329533757515,
          0.004797238491128275,
          0.004951208434221916,
          0.00504853908356565,
          0.005117644064175294,
          0.0052171254657545395,
          0.0053185406769415055,
          0.005421927288879251,
          0.0054982376498014345,
          0.005603962917747741,
          0.005770810521585134,
          0.005855965442808505,
          0.005969799004217806,
          0.006085845365519744,
          0.0061771871854782254,
          0.006348845239296193,
          0.006473229866901014,
          0.006573031737968332,
          0.00670080428363937,
          0.006805661251992276,
          0.006987160048138623,
          0.007123920551823559,
          0.00723721957771338,
          0.007354113720389701,
          0.0075435805842761754,
          0.0076911144302760776,
          0.00779472040809708,
          0.007945370411506463,
          0.008145408224123952,
          0.008260651421566862,
          0.0084204050688233,
          0.008627467724157149,
          0.008753688456651062,
          0.008963694890331582
         ]
        },
        {
         "line": {
          "dash": "dash"
         },
         "mode": "lines",
         "name": "theory undamped phase",
         "type": "scatter",
         "x": {
          "bdata": "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",
          "dtype": "f8"
         },
         "y": [
          0.00044721359549995795,
          0.00044721359549995795,
          0.00044721359549995795,
          0.00044721359549995795,
          0.00044721359549995795,
          0.00044721359549995795,
          0.00044721359549995795,
          0.00044721359549995795,
          0.00044721359549995795,
          0.00044721359549995795,
          0.00044721359549995795,
          0.00044721359549995795,
          0.00044721359549995795,
          0.00044721359549995795,
          0.00044721359549995795,
          0.00044721359549995795,
          0.00044721359549995795,
          0.00044721359549995795,
          0.00044721359549995795,
          0.00044721359549995795,
          0.00044721359549995795,
          0.00044721359549995795,
          0.00044721359549995795,
          0.00044721359549995795,
          0.00044721359549995795,
          0.00044721359549995795,
          0.00044721359549995795,
          0.00044721359549995795,
          0.00044721359549995795,
          0.00044721359549995795,
          0.00044721359549995795,
          0.00044721359549995795,
          0.00044721359549995795,
          0.00044721359549995795,
          0.00044721359549995795,
          0.00044721359549995795,
          0.00044721359549995795,
          0.00044721359549995795,
          0.00044721359549995795,
          0.00044721359549995795,
          0.00044721359549995795,
          0.00044721359549995795,
          0.00044721359549995795,
          0.00044721359549995795,
          0.00044721359549995795,
          0.00044721359549995795,
          0.00044721359549995795,
          0.00044721359549995795,
          0.00044721359549995795,
          0.00044721359549995795,
          0.00044721359549995795,
          0.00044721359549995795,
          0.00044721359549995795,
          0.00044721359549995795,
          0.00044721359549995795,
          0.00044721359549995795,
          0.00044721359549995795,
          0.00044721359549995795,
          0.00044721359549995795,
          0.00044721359549995795,
          0.00044721359549995795,
          0.00044721359549995795,
          0.00044721359549995795,
          0.00044721359549995795,
          0.00044721359549995795,
          0.00044721359549995795,
          0.00044721359549995795,
          0.00044721359549995795,
          0.00044721359549995795,
          0.00044721359549995795,
          0.00044721359549995795,
          0.00044721359549995795,
          0.00044721359549995795,
          0.00044721359549995795,
          0.00044721359549995795,
          0.00044721359549995795,
          0.00044721359549995795,
          0.00044721359549995795,
          0.00044721359549995795,
          0.00044721359549995795,
          0.00044721359549995795,
          0.00044721359549995795,
          0.00044721359549995795,
          0.00044721359549995795,
          0.00044721359549995795,
          0.00044721359549995795,
          0.00044721359549995795,
          0.00044721359549995795,
          0.00044721359549995795,
          0.00044721359549995795,
          0.00044721359549995795,
          0.00044721359549995795,
          0.00044721359549995795,
          0.00044721359549995795,
          0.00044721359549995795,
          0.00044721359549995795,
          0.00044721359549995795,
          0.00044721359549995795,
          0.00044721359549995795,
          0.00044721359549995795,
          0.00044721359549995795,
          0.00044721359549995795,
          0.00044721359549995795,
          0.00044721359549995795,
          0.00044721359549995795,
          0.00044721359549995795,
          0.00044721359549995795,
          0.00044721359549995795,
          0.00044721359549995795,
          0.00044721359549995795,
          0.00044721359549995795,
          0.00044721359549995795,
          0.00044721359549995795,
          0.00044721359549995795,
          0.00044721359549995795,
          0.00044721359549995795,
          0.00044721359549995795,
          0.00044721359549995795,
          0.00044721359549995795,
          0.00044721359549995795,
          0.00044721359549995795,
          0.00044721359549995795,
          0.00044721359549995795,
          0.00044721359549995795,
          0.00044721359549995795,
          0.00044721359549995795,
          0.00044721359549995795,
          0.00044721359549995795,
          0.00044721359549995795,
          0.00044721359549995795,
          0.00044721359549995795,
          0.00044721359549995795,
          0.00044721359549995795,
          0.00044721359549995795,
          0.00044721359549995795,
          0.00044721359549995795,
          0.00044721359549995795,
          0.00044721359549995795,
          0.00044721359549995795,
          0.00044721359549995795,
          0.00044721359549995795,
          0.00044721359549995795,
          0.00044721359549995795,
          0.00044721359549995795,
          0.00044721359549995795,
          0.00044721359549995795,
          0.00044721359549995795,
          0.00044721359549995795,
          0.00044721359549995795,
          0.00044721359549995795,
          0.00044721359549995795,
          0.00044721359549995795,
          0.00044721359549995795,
          0.00044721359549995795,
          0.00044721359549995795,
          0.00044721359549995795,
          0.00044721359549995795,
          0.00044721359549995795,
          0.00044721359549995795,
          0.00044721359549995795,
          0.00044721359549995795,
          0.00044721359549995795,
          0.00044721359549995795,
          0.00044721359549995795,
          0.00044721359549995795,
          0.00044721359549995795,
          0.00044721359549995795,
          0.00044721359549995795,
          0.00044721359549995795,
          0.00044721359549995795,
          0.00044721359549995795,
          0.00044721359549995795,
          0.00044721359549995795,
          0.00044721359549995795,
          0.00044721359549995795,
          0.00044721359549995795,
          0.00044721359549995795,
          0.00044721359549995795,
          0.00044721359549995795,
          0.00044721359549995795,
          0.00044721359549995795,
          0.00044721359549995795,
          0.00044721359549995795,
          0.00044721359549995795,
          0.00044721359549995795,
          0.00044721359549995795,
          0.00044721359549995795,
          0.00044721359549995795,
          0.00044721359549995795,
          0.00044721359549995795,
          0.00044721359549995795,
          0.00044721359549995795,
          0.00044721359549995795,
          0.00044721359549995795,
          0.00044721359549995795,
          0.00044721359549995795,
          0.00044721359549995795,
          0.00044721359549995795,
          0.00044721359549995795,
          0.00044721359549995795,
          0.00044721359549995795,
          0.00044721359549995795,
          0.00044721359549995795,
          0.00044721359549995795,
          0.00044721359549995795,
          0.00044721359549995795,
          0.00044721359549995795,
          0.00044721359549995795,
          0.00044721359549995795,
          0.00044721359549995795,
          0.00044721359549995795,
          0.00044721359549995795,
          0.00044721359549995795,
          0.00044721359549995795,
          0.00044721359549995795,
          0.00044721359549995795,
          0.00044721359549995795,
          0.00044721359549995795,
          0.00044721359549995795,
          0.00044721359549995795,
          0.00044721359549995795,
          0.00044721359549995795,
          0.00044721359549995795,
          0.00044721359549995795,
          0.00044721359549995795,
          0.00044721359549995795,
          0.00044721359549995795,
          0.00044721359549995795,
          0.00044721359549995795,
          0.00044721359549995795,
          0.00044721359549995795,
          0.00044721359549995795,
          0.00044721359549995795,
          0.00044721359549995795,
          0.00044721359549995795,
          0.00044721359549995795,
          0.00044721359549995795,
          0.00044721359549995795,
          0.00044721359549995795,
          0.00044721359549995795,
          0.00044721359549995795,
          0.00044721359549995795,
          0.00044721359549995795,
          0.00044721359549995795,
          0.00044721359549995795,
          0.00044721359549995795,
          0.00044721359549995795,
          0.00044721359549995795,
          0.00044721359549995795,
          0.00044721359549995795,
          0.00044721359549995795,
          0.00044721359549995795,
          0.00044721359549995795,
          0.00044721359549995795,
          0.00044721359549995795,
          0.00044721359549995795,
          0.00044721359549995795,
          0.00044721359549995795,
          0.00044721359549995795,
          0.00044721359549995795,
          0.00044721359549995795,
          0.00044721359549995795,
          0.00044721359549995795,
          0.00044721359549995795,
          0.00044721359549995795,
          0.00044721359549995795,
          0.00044721359549995795,
          0.00044721359549995795,
          0.00044721359549995795,
          0.00044721359549995795,
          0.00044721359549995795,
          0.00044721359549995795,
          0.00044721359549995795,
          0.00044721359549995795,
          0.00044721359549995795,
          0.00044721359549995795,
          0.00044721359549995795,
          0.00044721359549995795,
          0.00044721359549995795,
          0.00044721359549995795,
          0.00044721359549995795,
          0.00044721359549995795,
          0.00044721359549995795,
          0.00044721359549995795,
          0.00044721359549995795,
          0.00044721359549995795,
          0.00044721359549995795,
          0.00044721359549995795,
          0.00044721359549995795,
          0.00044721359549995795,
          0.00044721359549995795,
          0.00044721359549995795,
          0.00044721359549995795,
          0.00044721359549995795,
          0.00044721359549995795,
          0.00044721359549995795,
          0.00044721359549995795,
          0.00044721359549995795,
          0.00044721359549995795,
          0.00044721359549995795
         ]
        }
       ],
       "layout": {
        "height": 500,
        "template": {
         "data": {
          "bar": [
           {
            "error_x": {
             "color": "#2a3f5f"
            },
            "error_y": {
             "color": "#2a3f5f"
            },
            "marker": {
             "line": {
              "color": "#E5ECF6",
              "width": 0.5
             },
             "pattern": {
              "fillmode": "overlay",
              "size": 10,
              "solidity": 0.2
             }
            },
            "type": "bar"
           }
          ],
          "barpolar": [
           {
            "marker": {
             "line": {
              "color": "#E5ECF6",
              "width": 0.5
             },
             "pattern": {
              "fillmode": "overlay",
              "size": 10,
              "solidity": 0.2
             }
            },
            "type": "barpolar"
           }
          ],
          "carpet": [
           {
            "aaxis": {
             "endlinecolor": "#2a3f5f",
             "gridcolor": "white",
             "linecolor": "white",
             "minorgridcolor": "white",
             "startlinecolor": "#2a3f5f"
            },
            "baxis": {
             "endlinecolor": "#2a3f5f",
             "gridcolor": "white",
             "linecolor": "white",
             "minorgridcolor": "white",
             "startlinecolor": "#2a3f5f"
            },
            "type": "carpet"
           }
          ],
          "choropleth": [
           {
            "colorbar": {
             "outlinewidth": 0,
             "ticks": ""
            },
            "type": "choropleth"
           }
          ],
          "contour": [
           {
            "colorbar": {
             "outlinewidth": 0,
             "ticks": ""
            },
            "colorscale": [
             [
              0,
              "#0d0887"
             ],
             [
              0.1111111111111111,
              "#46039f"
             ],
             [
              0.2222222222222222,
              "#7201a8"
             ],
             [
              0.3333333333333333,
              "#9c179e"
             ],
             [
              0.4444444444444444,
              "#bd3786"
             ],
             [
              0.5555555555555556,
              "#d8576b"
             ],
             [
              0.6666666666666666,
              "#ed7953"
             ],
             [
              0.7777777777777778,
              "#fb9f3a"
             ],
             [
              0.8888888888888888,
              "#fdca26"
             ],
             [
              1,
              "#f0f921"
             ]
            ],
            "type": "contour"
           }
          ],
          "contourcarpet": [
           {
            "colorbar": {
             "outlinewidth": 0,
             "ticks": ""
            },
            "type": "contourcarpet"
           }
          ],
          "heatmap": [
           {
            "colorbar": {
             "outlinewidth": 0,
             "ticks": ""
            },
            "colorscale": [
             [
              0,
              "#0d0887"
             ],
             [
              0.1111111111111111,
              "#46039f"
             ],
             [
              0.2222222222222222,
              "#7201a8"
             ],
             [
              0.3333333333333333,
              "#9c179e"
             ],
             [
              0.4444444444444444,
              "#bd3786"
             ],
             [
              0.5555555555555556,
              "#d8576b"
             ],
             [
              0.6666666666666666,
              "#ed7953"
             ],
             [
              0.7777777777777778,
              "#fb9f3a"
             ],
             [
              0.8888888888888888,
              "#fdca26"
             ],
             [
              1,
              "#f0f921"
             ]
            ],
            "type": "heatmap"
           }
          ],
          "histogram": [
           {
            "marker": {
             "pattern": {
              "fillmode": "overlay",
              "size": 10,
              "solidity": 0.2
             }
            },
            "type": "histogram"
           }
          ],
          "histogram2d": [
           {
            "colorbar": {
             "outlinewidth": 0,
             "ticks": ""
            },
            "colorscale": [
             [
              0,
              "#0d0887"
             ],
             [
              0.1111111111111111,
              "#46039f"
             ],
             [
              0.2222222222222222,
              "#7201a8"
             ],
             [
              0.3333333333333333,
              "#9c179e"
             ],
             [
              0.4444444444444444,
              "#bd3786"
             ],
             [
              0.5555555555555556,
              "#d8576b"
             ],
             [
              0.6666666666666666,
              "#ed7953"
             ],
             [
              0.7777777777777778,
              "#fb9f3a"
             ],
             [
              0.8888888888888888,
              "#fdca26"
             ],
             [
              1,
              "#f0f921"
             ]
            ],
            "type": "histogram2d"
           }
          ],
          "histogram2dcontour": [
           {
            "colorbar": {
             "outlinewidth": 0,
             "ticks": ""
            },
            "colorscale": [
             [
              0,
              "#0d0887"
             ],
             [
              0.1111111111111111,
              "#46039f"
             ],
             [
              0.2222222222222222,
              "#7201a8"
             ],
             [
              0.3333333333333333,
              "#9c179e"
             ],
             [
              0.4444444444444444,
              "#bd3786"
             ],
             [
              0.5555555555555556,
              "#d8576b"
             ],
             [
              0.6666666666666666,
              "#ed7953"
             ],
             [
              0.7777777777777778,
              "#fb9f3a"
             ],
             [
              0.8888888888888888,
              "#fdca26"
             ],
             [
              1,
              "#f0f921"
             ]
            ],
            "type": "histogram2dcontour"
           }
          ],
          "mesh3d": [
           {
            "colorbar": {
             "outlinewidth": 0,
             "ticks": ""
            },
            "type": "mesh3d"
           }
          ],
          "parcoords": [
           {
            "line": {
             "colorbar": {
              "outlinewidth": 0,
              "ticks": ""
             }
            },
            "type": "parcoords"
           }
          ],
          "pie": [
           {
            "automargin": true,
            "type": "pie"
           }
          ],
          "scatter": [
           {
            "fillpattern": {
             "fillmode": "overlay",
             "size": 10,
             "solidity": 0.2
            },
            "type": "scatter"
           }
          ],
          "scatter3d": [
           {
            "line": {
             "colorbar": {
              "outlinewidth": 0,
              "ticks": ""
             }
            },
            "marker": {
             "colorbar": {
              "outlinewidth": 0,
              "ticks": ""
             }
            },
            "type": "scatter3d"
           }
          ],
          "scattercarpet": [
           {
            "marker": {
             "colorbar": {
              "outlinewidth": 0,
              "ticks": ""
             }
            },
            "type": "scattercarpet"
           }
          ],
          "scattergeo": [
           {
            "marker": {
             "colorbar": {
              "outlinewidth": 0,
              "ticks": ""
             }
            },
            "type": "scattergeo"
           }
          ],
          "scattergl": [
           {
            "marker": {
             "colorbar": {
              "outlinewidth": 0,
              "ticks": ""
             }
            },
            "type": "scattergl"
           }
          ],
          "scattermap": [
           {
            "marker": {
             "colorbar": {
              "outlinewidth": 0,
              "ticks": ""
             }
            },
            "type": "scattermap"
           }
          ],
          "scattermapbox": [
           {
            "marker": {
             "colorbar": {
              "outlinewidth": 0,
              "ticks": ""
             }
            },
            "type": "scattermapbox"
           }
          ],
          "scatterpolar": [
           {
            "marker": {
             "colorbar": {
              "outlinewidth": 0,
              "ticks": ""
             }
            },
            "type": "scatterpolar"
           }
          ],
          "scatterpolargl": [
           {
            "marker": {
             "colorbar": {
              "outlinewidth": 0,
              "ticks": ""
             }
            },
            "type": "scatterpolargl"
           }
          ],
          "scatterternary": [
           {
            "marker": {
             "colorbar": {
              "outlinewidth": 0,
              "ticks": ""
             }
            },
            "type": "scatterternary"
           }
          ],
          "surface": [
           {
            "colorbar": {
             "outlinewidth": 0,
             "ticks": ""
            },
            "colorscale": [
             [
              0,
              "#0d0887"
             ],
             [
              0.1111111111111111,
              "#46039f"
             ],
             [
              0.2222222222222222,
              "#7201a8"
             ],
             [
              0.3333333333333333,
              "#9c179e"
             ],
             [
              0.4444444444444444,
              "#bd3786"
             ],
             [
              0.5555555555555556,
              "#d8576b"
             ],
             [
              0.6666666666666666,
              "#ed7953"
             ],
             [
              0.7777777777777778,
              "#fb9f3a"
             ],
             [
              0.8888888888888888,
              "#fdca26"
             ],
             [
              1,
              "#f0f921"
             ]
            ],
            "type": "surface"
           }
          ],
          "table": [
           {
            "cells": {
             "fill": {
              "color": "#EBF0F8"
             },
             "line": {
              "color": "white"
             }
            },
            "header": {
             "fill": {
              "color": "#C8D4E3"
             },
             "line": {
              "color": "white"
             }
            },
            "type": "table"
           }
          ]
         },
         "layout": {
          "annotationdefaults": {
           "arrowcolor": "#2a3f5f",
           "arrowhead": 0,
           "arrowwidth": 1
          },
          "autotypenumbers": "strict",
          "coloraxis": {
           "colorbar": {
            "outlinewidth": 0,
            "ticks": ""
           }
          },
          "colorscale": {
           "diverging": [
            [
             0,
             "#8e0152"
            ],
            [
             0.1,
             "#c51b7d"
            ],
            [
             0.2,
             "#de77ae"
            ],
            [
             0.3,
             "#f1b6da"
            ],
            [
             0.4,
             "#fde0ef"
            ],
            [
             0.5,
             "#f7f7f7"
            ],
            [
             0.6,
             "#e6f5d0"
            ],
            [
             0.7,
             "#b8e186"
            ],
            [
             0.8,
             "#7fbc41"
            ],
            [
             0.9,
             "#4d9221"
            ],
            [
             1,
             "#276419"
            ]
           ],
           "sequential": [
            [
             0,
             "#0d0887"
            ],
            [
             0.1111111111111111,
             "#46039f"
            ],
            [
             0.2222222222222222,
             "#7201a8"
            ],
            [
             0.3333333333333333,
             "#9c179e"
            ],
            [
             0.4444444444444444,
             "#bd3786"
            ],
            [
             0.5555555555555556,
             "#d8576b"
            ],
            [
             0.6666666666666666,
             "#ed7953"
            ],
            [
             0.7777777777777778,
             "#fb9f3a"
            ],
            [
             0.8888888888888888,
             "#fdca26"
            ],
            [
             1,
             "#f0f921"
            ]
           ],
           "sequentialminus": [
            [
             0,
             "#0d0887"
            ],
            [
             0.1111111111111111,
             "#46039f"
            ],
            [
             0.2222222222222222,
             "#7201a8"
            ],
            [
             0.3333333333333333,
             "#9c179e"
            ],
            [
             0.4444444444444444,
             "#bd3786"
            ],
            [
             0.5555555555555556,
             "#d8576b"
            ],
            [
             0.6666666666666666,
             "#ed7953"
            ],
            [
             0.7777777777777778,
             "#fb9f3a"
            ],
            [
             0.8888888888888888,
             "#fdca26"
            ],
            [
             1,
             "#f0f921"
            ]
           ]
          },
          "colorway": [
           "#636efa",
           "#EF553B",
           "#00cc96",
           "#ab63fa",
           "#FFA15A",
           "#19d3f3",
           "#FF6692",
           "#B6E880",
           "#FF97FF",
           "#FECB52"
          ],
          "font": {
           "color": "#2a3f5f"
          },
          "geo": {
           "bgcolor": "white",
           "lakecolor": "white",
           "landcolor": "#E5ECF6",
           "showlakes": true,
           "showland": true,
           "subunitcolor": "white"
          },
          "hoverlabel": {
           "align": "left"
          },
          "hovermode": "closest",
          "mapbox": {
           "style": "light"
          },
          "paper_bgcolor": "white",
          "plot_bgcolor": "#E5ECF6",
          "polar": {
           "angularaxis": {
            "gridcolor": "white",
            "linecolor": "white",
            "ticks": ""
           },
           "bgcolor": "#E5ECF6",
           "radialaxis": {
            "gridcolor": "white",
            "linecolor": "white",
            "ticks": ""
           }
          },
          "scene": {
           "xaxis": {
            "backgroundcolor": "#E5ECF6",
            "gridcolor": "white",
            "gridwidth": 2,
            "linecolor": "white",
            "showbackground": true,
            "ticks": "",
            "zerolinecolor": "white"
           },
           "yaxis": {
            "backgroundcolor": "#E5ECF6",
            "gridcolor": "white",
            "gridwidth": 2,
            "linecolor": "white",
            "showbackground": true,
            "ticks": "",
            "zerolinecolor": "white"
           },
           "zaxis": {
            "backgroundcolor": "#E5ECF6",
            "gridcolor": "white",
            "gridwidth": 2,
            "linecolor": "white",
            "showbackground": true,
            "ticks": "",
            "zerolinecolor": "white"
           }
          },
          "shapedefaults": {
           "line": {
            "color": "#2a3f5f"
           }
          },
          "ternary": {
           "aaxis": {
            "gridcolor": "white",
            "linecolor": "white",
            "ticks": ""
           },
           "baxis": {
            "gridcolor": "white",
            "linecolor": "white",
            "ticks": ""
           },
           "bgcolor": "#E5ECF6",
           "caxis": {
            "gridcolor": "white",
            "linecolor": "white",
            "ticks": ""
           }
          },
          "title": {
           "x": 0.05
          },
          "xaxis": {
           "automargin": true,
           "gridcolor": "white",
           "linecolor": "white",
           "ticks": "",
           "title": {
            "standoff": 15
           },
           "zerolinecolor": "white",
           "zerolinewidth": 2
          },
          "yaxis": {
           "automargin": true,
           "gridcolor": "white",
           "linecolor": "white",
           "ticks": "",
           "title": {
            "standoff": 15
           },
           "zerolinecolor": "white",
           "zerolinewidth": 2
          }
         }
        },
        "title": {
         "text": "Comparison for phase"
        },
        "width": 900,
        "xaxis": {
         "title": {
          "text": "Sample Duration (s)"
         },
         "type": "log"
        },
        "yaxis": {
         "title": {
          "text": "Uncertainty"
         },
         "type": "log"
        }
       }
      }
     },
     "metadata": {},
     "output_type": "display_data"
    }
   ],
   "source": [
    "import anal_fit_err\n",
    "import importlib\n",
    "import dataclasses\n",
    "\n",
    "importlib.reload(anal_fit_err)\n",
    "\n",
    "# Generate theoretical predictions\n",
    "theory_undamped_curves = {\n",
    "    \"amplitude\": [],\n",
    "    \"frequency\": [],\n",
    "    \"phase\": [],\n",
    "    \"damping_rate\": [],\n",
    "}\n",
    "\n",
    "theory_curves = {\"amplitude\": [], \"frequency\": [], \"phase\": [], \"damping_rate\": []}\n",
    "\n",
    "theory_short_time_curves = {\n",
    "    \"amplitude\": [],\n",
    "    \"frequency\": [],\n",
    "    \"phase\": [],\n",
    "    \"damping_rate\": [],\n",
    "}\n",
    "\n",
    "for this_duration in durations:\n",
    "    est = anal_fit_err.analy_err_in_fit_damp_sine(\n",
    "        amplitude=true_params[\"amplitude\"],\n",
    "        samp_num=num_points,\n",
    "        samp_time=this_duration,\n",
    "        sigma_obs=noise_scale,\n",
    "        damp_rate=true_params[\"damping_rate\"],\n",
    "    )\n",
    "    theory_curves[\"amplitude\"].append(est.amplitude)\n",
    "    theory_curves[\"frequency\"].append(est.frequency)\n",
    "    theory_curves[\"phase\"].append(est.phase)\n",
    "    theory_curves[\"damping_rate\"].append(est.damping_rate)\n",
    "\n",
    "    est = anal_fit_err.analy_err_in_fit_cw_sine(\n",
    "        amplitude=true_params[\"amplitude\"],\n",
    "        samp_num=num_points,\n",
    "        samp_time=this_duration,\n",
    "        sigma_obs=noise_scale,\n",
    "    )\n",
    "    theory_undamped_curves[\"amplitude\"].append(est.amplitude)\n",
    "    theory_undamped_curves[\"frequency\"].append(est.frequency)\n",
    "    theory_undamped_curves[\"phase\"].append(est.phase)\n",
    "    theory_undamped_curves[\"damping_rate\"].append(np.nan)\n",
    "\n",
    "    est = anal_fit_err.analy_err_in_fit_damp_sine_short_analytic(\n",
    "        amplitude=true_params[\"amplitude\"],\n",
    "        frequency=true_params[\"frequency\"],\n",
    "        samp_num=num_points,\n",
    "        samp_time=this_duration,\n",
    "        sigma_obs=noise_scale,\n",
    "        damp_rate=true_params[\"damping_rate\"],\n",
    "        phase=true_params[\"phase\"],\n",
    "    )\n",
    "    theory_short_time_curves[\"amplitude\"].append(est.amplitude)\n",
    "    theory_short_time_curves[\"frequency\"].append(est.frequency)\n",
    "    theory_short_time_curves[\"phase\"].append(est.phase)\n",
    "    theory_short_time_curves[\"damping_rate\"].append(est.damping_rate)\n",
    "\n",
    "\n",
    "for key in true_params:\n",
    "    fig = go.Figure()\n",
    "    fig.add_trace(\n",
    "        go.Scatter(\n",
    "            x=durations, y=rmse_results[key], mode=\"lines+markers\", name=f\"RMSE {key}\"\n",
    "        )\n",
    "    )\n",
    "    fig.add_trace(\n",
    "        go.Scatter(\n",
    "            x=durations,\n",
    "            y=stderr_results[key],\n",
    "            mode=\"lines+markers\",\n",
    "            name=f\"stderr {key}\",\n",
    "            line=dict(dash=\"dot\"),\n",
    "        )\n",
    "    )\n",
    "    fig.add_trace(\n",
    "        go.Scatter(\n",
    "            x=durations,\n",
    "            y=theory_curves[key],\n",
    "            mode=\"lines\",\n",
    "            name=f\"theory {key}\",\n",
    "            line=dict(dash=\"dash\"),\n",
    "        )\n",
    "    )\n",
    "\n",
    "    fig.add_trace(\n",
    "        go.Scatter(\n",
    "            x=durations,\n",
    "            y=theory_short_time_curves[key],\n",
    "            mode=\"lines\",\n",
    "            name=f\"theory short time {key}\",\n",
    "            line=dict(dash=\"dashdot\"),\n",
    "        )\n",
    "    )\n",
    "\n",
    "    fig.add_trace(\n",
    "        go.Scatter(\n",
    "            x=durations,\n",
    "            y=theory_undamped_curves[key],\n",
    "            mode=\"lines\",\n",
    "            name=f\"theory undamped {key}\",\n",
    "            line=dict(dash=\"dash\"),\n",
    "        )\n",
    "    )\n",
    "\n",
    "    fig.update_layout(\n",
    "        title=f\"Comparison for {key}\",\n",
    "        xaxis_title=\"Sample Duration (s)\",\n",
    "        yaxis_title=\"Uncertainty\",\n",
    "        width=900,\n",
    "        height=500,\n",
    "        yaxis_type=\"log\",\n",
    "        xaxis_type=\"log\",\n",
    "    )\n",
    "    fig.show()"
   ]
  },
  {
   "cell_type": "code",
   "execution_count": 9,
   "id": "d4e49b36",
   "metadata": {},
   "outputs": [],
   "source": [
    "import plotly.graph_objects as go\n",
    "import plotly.io as pio\n",
    "\n",
    "# Set default font to Computer Modern (may require CMU Serif if CM not available)\n",
    "latex_font = \"CMU Serif\"\n",
    "pio.templates[\"cm10_latex\"] = go.layout.Template(\n",
    "    layout=go.Layout(\n",
    "        font=dict(family=latex_font, size=18),\n",
    "        title_font=dict(family=latex_font, size=22),\n",
    "        legend=dict(\n",
    "            font=dict(family=latex_font, size=16),\n",
    "            bordercolor=\"black\",\n",
    "            borderwidth=1,\n",
    "        ),\n",
    "        xaxis=dict(\n",
    "            title_font=dict(family=latex_font, size=20),\n",
    "            tickfont=dict(family=latex_font, size=16),\n",
    "        ),\n",
    "        yaxis=dict(\n",
    "            title_font=dict(family=latex_font, size=20),\n",
    "            tickfont=dict(family=latex_font, size=16),\n",
    "        ),\n",
    "        width=900,\n",
    "        height=500,\n",
    "        margin=dict(l=80, r=20, t=50, b=80),\n",
    "    )\n",
    ")\n",
    "pio.templates.default = \"cm10_latex\""
   ]
  },
  {
   "cell_type": "code",
   "execution_count": 10,
   "id": "11b63abe",
   "metadata": {},
   "outputs": [],
   "source": [
    "def add_minor_log_ticks(\n",
    "    fig: go.Figure, axis: str, range_vals: tuple[float, float], length: float = 0.01\n",
    "):\n",
    "    import numpy as np\n",
    "\n",
    "    minor_ticks = []\n",
    "    for decade in range(\n",
    "        int(np.floor(np.log10(range_vals[0]))), int(np.ceil(np.log10(range_vals[1])))\n",
    "    ):\n",
    "        base = 10**decade\n",
    "        for i in range(2, 10):  # 2 through 9\n",
    "            tick = i * base\n",
    "            if range_vals[0] <= tick <= range_vals[1]:\n",
    "                minor_ticks.append(tick)\n",
    "\n",
    "    for t in minor_ticks:\n",
    "        if axis == \"x\":\n",
    "            fig.add_shape(\n",
    "                type=\"line\",\n",
    "                x0=t,\n",
    "                x1=t,\n",
    "                y0=0,\n",
    "                y1=length,\n",
    "                xref=\"x\",\n",
    "                yref=\"paper\",\n",
    "                line=dict(color=\"black\", width=1),\n",
    "                layer=\"above\",\n",
    "            )\n",
    "        elif axis == \"y\":\n",
    "            fig.add_shape(\n",
    "                type=\"line\",\n",
    "                x0=0,\n",
    "                x1=length,\n",
    "                y0=t,\n",
    "                y1=t,\n",
    "                xref=\"paper\",\n",
    "                yref=\"y\",\n",
    "                line=dict(color=\"black\", width=1),\n",
    "                layer=\"above\",\n",
    "            )"
   ]
  },
  {
   "cell_type": "code",
   "execution_count": 11,
   "id": "886fd750",
   "metadata": {},
   "outputs": [
    {
     "data": {
      "text/plain": [
       "{'frequency': 1.0,\n",
       " 'amplitude': 1.0,\n",
       " 'damping_rate': 0.01,\n",
       " 'phase': 1.5707963267948966}"
      ]
     },
     "execution_count": 11,
     "metadata": {},
     "output_type": "execute_result"
    }
   ],
   "source": [
    "true_params"
   ]
  },
  {
   "cell_type": "code",
   "execution_count": 12,
   "id": "b4f6b16b",
   "metadata": {},
   "outputs": [
    {
     "name": "stdout",
     "output_type": "stream",
     "text": [
      "[-7. -6. -5. -4. -3. -2. -1.]\n"
     ]
    },
    {
     "data": {
      "application/vnd.plotly.v1+json": {
       "config": {
        "plotlyServerURL": "https://plot.ly"
       },
       "data": [
        {
         "line": {
          "color": "black",
          "width": 2
         },
         "mode": "lines",
         "name": "Simulation",
         "opacity": 0.8,
         "type": "scatter",
         "x": {
          "bdata": "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",
          "dtype": "f8"
         },
         "y": [
          0.06586183349976825,
          0.06582984461174858,
          0.0582476028836147,
          0.05219099352993657,
          0.047164691224501586,
          0.042879219008292425,
          0.03915222087063458,
          0.0358611304898039,
          0.03292038358460672,
          0.030268862396776293,
          0.02786196087508135,
          0.025665646845193898,
          0.023653824981162596,
          0.021805659803061435,
          0.02010413427872389,
          0.01853527882093827,
          0.01737097363353467,
          0.015993913156701595,
          0.014723385462416354,
          0.013550363333573486,
          0.012466842950566626,
          0.011465616251765584,
          0.010540286043569913,
          0.009684711768133264,
          0.008977004422809227,
          0.008162385176709799,
          0.007486046741715809,
          0.006860648645879684,
          0.006345137333847096,
          0.005805052541953024,
          0.0053053503286930115,
          0.004843325892186128,
          0.00441599212416172,
          0.004020897215361188,
          0.003623649394206379,
          0.0032908497340188784,
          0.003007135626507243,
          0.0027196373700277415,
          0.002454454888839257,
          0.002283922148694034,
          0.001984713610691724,
          0.0018441541557138383,
          0.0015850780027744165,
          0.0014716975115902904,
          0.0013079025523346395,
          0.0011577674465660319,
          0.0010204474568715834,
          0.0008952039679048276,
          0.0007392291184475382,
          0.0006546342370974144,
          0.0005835178008656028,
          0.00047675342560178917,
          0.00042693846421946953,
          0.00037364889994923793,
          0.0003251984223059935,
          0.00030042558907700034,
          0.0002771606386201168,
          0.0002524113063599517,
          0.0002765556241256594,
          0.00025064034746022243,
          0.0002884352137403508,
          0.0002914322105229369,
          0.0002551079092275786,
          0.00027014928464821875,
          0.0002474043169025543,
          0.00023691222631478536,
          0.0002106292533490479,
          0.0001812609757518328,
          0.00017414093575717393,
          0.00016580467388482273,
          0.00017518753918859456,
          0.0001650308818503901,
          0.00017708343397094444,
          0.00015468192753831375,
          0.00014201704238443516,
          0.0001358847155414853,
          0.00012111184753530004,
          0.0001231752306678702,
          0.00012681834419922826,
          0.00013599934806037965,
          0.00012369975635849597,
          0.00011178641595675017,
          0.0001000643649310257,
          0.00009816176689004247,
          0.00010399787635849822,
          0.00009884823922038826,
          0.00009592758322865815,
          0.00008157101761262132,
          0.00008103389060146528,
          0.00008358625975377072,
          0.00008014313784390782,
          0.00007500665238611871,
          0.00007057545197463088,
          0.00007203399558871103,
          0.0000667127811406727,
          0.00006125848782634201,
          0.00006767273944558783,
          0.00006246387006109166,
          0.000059911267596289145,
          0.00005776576371619487,
          0.00005455476401612064,
          0.0000480508196939443,
          0.00005246039700905515,
          0.00005297729082905214,
          0.000050302429540611014,
          0.000043547456374871835,
          0.0000408226554888229,
          0.000043214929027593194,
          0.00003965353864244541,
          0.000039234124804198223,
          0.000036746580046841325,
          0.000036121295790597746,
          0.00003461307796320316,
          0.00003551681064020736,
          0.000034030349738703185,
          0.000030170820488669185,
          0.00003140900887473341,
          0.00002780457224723145,
          0.000027416116580680984,
          0.00002588641191644941,
          0.000025095982120083267,
          0.000026175205771942274,
          0.000023926009510124863,
          0.000021952704846265673,
          0.000022163121260003636,
          0.000021724270592082965,
          0.000020442921348864253,
          0.000018736305639664942,
          0.0000198354704462383,
          0.00001799994008969376,
          0.000017628290761926107,
          0.00001638629856192766,
          0.00001718261549968566,
          0.000015471932569634632,
          0.000014887411653742679,
          0.000014650341127371834,
          0.000014201112759086641,
          0.00001342010586173071,
          0.00001275388937169256,
          0.000012646124622618606,
          0.000011618943893351234,
          0.000012237766988168876,
          0.00001109877706756454,
          0.000010878751107248895,
          0.000011203882549161225,
          0.000011143490129473816,
          0.000010208441497166913,
          0.000010199355124968605,
          0.000009030011355618587,
          0.00000932838791825275,
          0.00000917395699875577,
          0.000008836279528792738,
          0.000008268169991859364,
          0.00000798902848940319,
          0.000007275651573957853,
          0.000008257644609841432,
          0.000008099977290971072,
          0.000006816846627204856,
          0.000007216804990872192,
          0.000006362634532896792,
          0.000006884789157916077,
          0.000006455036061674231,
          0.000006499164085291058,
          0.0000061971354616422705,
          0.000005880597855558598,
          0.000005586269180931935,
          0.000005786287254876449,
          0.000005274179008064902,
          0.000005695965468748191,
          0.000004904892100277475,
          0.000005108355727207276,
          0.0000049658711169015006,
          0.000004822813724479546,
          0.000004746473721967007,
          0.000004565138524098653,
          0.000004508635937935489,
          0.000004361837079617453,
          0.000004220009275626004,
          0.000004244702648989624,
          0.000004056651433618786,
          0.000003880249361856448,
          0.000003905391814856887,
          0.000003846794143367232,
          0.000003865873092020446,
          0.0000035178716595401796,
          0.0000035319118706742476,
          0.0000035365564633047814,
          0.0000036201445646871353,
          0.000003669091163409829,
          0.0000037986585106476784,
          0.0000035811511936798397,
          0.000003271671034452487,
          0.0000036748622714226697,
          0.0000033392212466723772,
          0.0000035545204827472757,
          0.000003705226632895806,
          0.00000332327112683857,
          0.0000033713890847091053,
          0.000003488502182716642,
          0.000003199387664183012,
          0.000003471182797251899,
          0.0000032923514451598664,
          0.0000035972176982545555,
          0.000003688813829840049,
          0.0000037390263566060326,
          0.0000035192208630792002,
          0.0000036372887543122803,
          0.000003535836751357255,
          0.000003821927999093239,
          0.0000035968357148416494,
          0.000003827271673221809,
          0.0000036699711919105827,
          0.0000042090132471376295,
          0.000003862289720305026,
          0.000004228493989853484,
          0.000003939691917745571,
          0.0000038874180977600115,
          0.000004211496718491473,
          0.000004100676310488232,
          0.000004400915940638464,
          0.000005870582359393964,
          0.000004769392422114364,
          0.000004654939691024896,
          0.000004614815135610515,
          0.000004471254860054168,
          0.000005036448706604318,
          0.00000483660611823365,
          0.000005231133002247305,
          0.00000487571869795124,
          0.000005318119843747758,
          0.000005730401308089335,
          0.000005152833636662132,
          0.000005318762672472319,
          0.000005709837217205154,
          0.000005352890829375213,
          0.000005840169813933993,
          0.000005989851870199623,
          0.000006231016657346774,
          0.000006285683765913961,
          0.000005851665062636616,
          0.000006310351899351472,
          0.000006706409702885233,
          0.0000064417169991056504,
          0.000006462656792257179,
          0.000006902212047020137,
          0.0000066299197005023555,
          0.000008032800427656485,
          0.000007660529892000286,
          0.000007362829142597448,
          0.000007658020874809187,
          0.000008580734377089417,
          0.000008184975789952919,
          0.000008334130171397699,
          0.000008129846967096681,
          0.000008390913632653933,
          0.000008410523714311009,
          0.00000866595560647926,
          0.000008998798038697253,
          0.000009964250589162713,
          0.000009510384035535688,
          0.00000888073209288704,
          0.000009510911025628062,
          0.000010451975098821554,
          0.00003284453468871477,
          0.000009948650980226854,
          0.000010554317733351115,
          0.00001100566451248414,
          0.000011021801220296149,
          0.000010811081871889112,
          0.000011208095760883833,
          0.000011695244519212789,
          0.000011670550245362126,
          0.00001216302412151528,
          0.000012528293304073372,
          0.0000115463896291623,
          0.000012538609675153677,
          0.0000136582348234789,
          0.000013700207629352606,
          0.000013694774515844493,
          0.000013128312680310997,
          0.000014188485046163113,
          0.000015218674109905201,
          0.000014443785036479147,
          0.000014963131554601757,
          0.000015564387355762075,
          0.000015218967027715212,
          0.00001633273158264469,
          0.00001595653855618692,
          0.00001669135390368411,
          0.000017424129240486112,
          0.000017557098814023697,
          0.000016637234743215257,
          0.00001838676621217301,
          0.00001870366145119773,
          0.000018850358843040017,
          0.000022800443135370807,
          0.000019177333351035726,
          0.00001992403836511189,
          0.000019734242561100916,
          0.000022982230568363624
         ]
        },
        {
         "line": {
          "color": "blue",
          "dash": "dash",
          "width": 2
         },
         "mode": "lines",
         "name": "Theory Damped",
         "type": "scatter",
         "x": {
          "bdata": "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",
          "dtype": "f8"
         },
         "y": [
          0.002466629224562157,
          0.0023738571096598117,
          0.0022842732902277145,
          0.0021978541817386536,
          0.0021149968688720646,
          0.0020350994190817093,
          0.001958254384453887,
          0.0018842979867587284,
          0.0018131242372903358,
          0.0017447032161614594,
          0.0016788876233970378,
          0.0016154948291909224,
          0.0015544793555095976,
          0.0014958514515795104,
          0.0014393849086748467,
          0.0013850669732032293,
          0.0013327843815834715,
          0.0012824952943770774,
          0.001234086629585951,
          0.0011875275947714735,
          0.001142713571917943,
          0.0010995973214944575,
          0.0010581107096572086,
          0.0010181855621003285,
          0.0009797695958219878,
          0.0009428076467959183,
          0.0009072408288593898,
          0.0008730164174697055,
          0.0008400858188892221,
          0.0008083987987715804,
          0.0007779098445565791,
          0.0007485718358508969,
          0.0007203416266404111,
          0.000693177586110779,
          0.0006670398546701615,
          0.0006418900910337637,
          0.0006176895102363365,
          0.0005944033881316493,
          0.0005719969161287282,
          0.0005504366170729232,
          0.0005296909644987076,
          0.0005097287862618828,
          0.0004905205724980647,
          0.0004720378869981367,
          0.0004542534474736649,
          0.00043714073700040605,
          0.00042067449097259147,
          0.00040483018278426625,
          0.0003895843991955254,
          0.0003749144854919812,
          0.0003607986740173419,
          0.00034721608514926206,
          0.00033414656350505475,
          0.0003215707209371088,
          0.0003094699179899286,
          0.0002978261969024213,
          0.00028662229849194047,
          0.00027584161736469634,
          0.0002654681687798976,
          0.0002554865586591189,
          0.00024588198859225004,
          0.0002366402254026237,
          0.00022774756149735272,
          0.00021919080917707164,
          0.00021095727944770264,
          0.0002030347684203165,
          0.0001954115253975477,
          0.00018807624746879588,
          0.000181018056789341,
          0.00017422648877595253,
          0.00016769147304040804,
          0.00016140331858924883,
          0.00015535270146383226,
          0.00014953065024979462,
          0.0001439285319024255,
          0.00013853803908629513,
          0.00013335117939873288,
          0.00012836026153090796,
          0.00012355788494031108,
          0.00011893692877227225,
          0.0001144905410386166,
          0.00011021212853197497,
          0.0001060953473058727,
          0.00010213409310315833,
          0.00009832249204904765,
          0.0000946548924257461,
          0.00009112585587871213,
          0.00008773014959906164,
          0.00008446273842236581,
          0.00008131877748230966,
          0.00007829360489546235,
          0.00007538273500103119,
          0.00007258185157356636,
          0.00006988680148438556,
          0.00006729358856579004,
          0.00006479836761364147,
          0.00006239743875891197,
          0.00006008724194789741,
          0.000057864351660731846,
          0.00005572547184757239,
          0.000053667431020968564,
          0.00005168717757879276,
          0.000049781775257472466,
          0.000047948398794745926,
          0.00004618432972602278,
          0.00004448695236659497,
          0.000042853749927534925,
          0.000041282300782802415,
          0.0000397702748846022,
          0.00003831543030383826,
          0.000036915609908191315,
          0.00003556873816473378,
          0.000034272818062465845,
          0.000033025928152155925,
          0.0000318262196978797,
          0.00003067191393685469,
          0.00002956129944264809,
          0.000028492729589028834,
          0.000027464620108659097,
          0.00002647544674630454,
          0.000025523742999124712,
          0.000024608097944190216,
          0.0000237271541476916,
          0.000022879605653988596,
          0.000022064196051058523,
          0.000021279716609343026,
          0.000020525004491909592,
          0.000019798941032322455,
          0.00001910045007868368,
          0.00001842849640056085,
          0.00001778208415701474,
          0.000017160255423242634,
          0.000016562088773703352,
          0.00001598669791961807,
          0.000015433230398962214,
          0.000014900866316898399,
          0.00001438881713486147,
          0.000013896324506567173,
          0.000013422659159203778,
          0.00001296711981819613,
          0.000012529032173968322,
          0.000012107747889266087,
          0.000011702643645535152,
          0.00001131312022705161,
          0.000010938601641452677,
          0.000010578534275443644,
          0.000010232386084471059,
          0.00000989964581522276,
          0.000009579822259872769,
          0.000009272443541026248,
          0.000008977056426378305,
          0.000008693225672151264,
          0.000008420533394410572,
          0.000008158578467418591,
          0.000007906975948217225,
          0.000007665356526681293,
          0.000007433366000321891,
          0.000007210664773157273,
          0.000006996927378008156,
          0.0000067918420216083,
          0.00000659511015195417,
          0.000006406446047347709,
          0.000006225576426612586,
          0.000006052240079988775,
          0.000005886187520227867,
          0.000005727180653426294,
          0.000005574992469140981,
          0.00000542940674933311,
          0.000005290217795677295,
          0.000005157230174756175,
          0.000005030258480630615,
          0.000004909127114231974,
          0.000004793670078963037,
          0.0000046837307918147535,
          0.00000457916190920394,
          0.000004479825166609275,
          0.000004385591230924155,
          0.000004296339564252079,
          0.000004211958297636725,
          0.000004132344112940848,
          0.000004057402130759008,
          0.000003987045801863807,
          0.0000039211967992383675,
          0.000003859784907234299,
          0.00000380274790381113,
          0.0000037500314311584022,
          0.000003701588849276712,
          0.000003657381066305076,
          0.0000036173763385404526,
          0.0000035815500322213536,
          0.000003549884338271522,
          0.000003522367930365991,
          0.0000034989955559512294,
          0.0000034797675493051017,
          0.000003464689255465785,
          0.000003453770354022985,
          0.00000344702407250863,
          0.0000034444662806327415,
          0.000003446114459089827,
          0.000003451986540328349,
          0.0000034620996237393953,
          0.0000034764685743532036,
          0.000003495104522431957,
          0.000003518013291288437,
          0.0000035451937920339574,
          0.0000035766364363116397,
          0.0000036123216306466,
          0.0000036522184277483773,
          0.000003696283419501631,
          0.0000037444599617732935,
          0.00000379667782071015,
          0.0000038528533221616375,
          0.000003912890068915489,
          0.000003976680264038276,
          0.000004044106643371202,
          0.000004115044978151896,
          0.000004189367063300314,
          0.000004266944062873547,
          0.0000043476500470552685,
          0.000004431365530230505,
          0.000004517980811604939,
          0.000004607398930903991,
          0.00000457975741723584,
          0.0000046664471844407315,
          0.000004755376578420114,
          0.000004846479271692715,
          0.000004939703287323504,
          0.000005035010671812504,
          0.000005132376737045883,
          0.000005231788972418283,
          0.000005333245737819778,
          0.000005436754846455185,
          0.000005542332135252056,
          0.000005650000102665046,
          0.0000057597866721282495,
          0.000005871724117247222,
          0.000005985848164534489,
          0.000006102197272789538,
          0.000006124119673423824,
          0.0000062393847898538275,
          0.000006521296496535158,
          0.000006590681723625801,
          0.000006718796960056567,
          0.000006849402824214984,
          0.000006982547628031946,
          0.0000071182806720113175,
          0.000007256652241723335,
          0.000007397713614150518,
          0.000007541517070020632,
          0.000007688115909704476,
          0.000007837564471230008,
          0.000007989918149587562,
          0.000008145233416878768,
          0.000008303567843080255,
          0.000008464980117312159,
          0.000008629530069563975,
          0.000008714467562165041,
          0.00000888060172569845,
          0.000009206131242083122,
          0.000009320344442591286,
          0.000009501521741505247,
          0.000009686220928890605,
          0.000009874510466406064,
          0.000010066460146530078,
          0.000010262141118430546,
          0.000010461625914337321,
          0.000010664988476427462,
          0.000010797580215149208,
          0.000011144134345061672,
          0.000011363205274227498,
          0.000011518746128153955,
          0.000011742657950643882,
          0.000011970922373989245,
          0.000012203624007988636,
          0.000012375382665563834,
          0.000012613348124969184,
          0.000012988887175085491,
          0.000013180553087531675,
          0.000013436768619189339,
          0.000013697964700466332,
          0.000013903556027606598,
          0.000014289922394236824,
          0.00001456988616851619,
          0.000014794519300778476,
          0.000015082108569839887,
          0.00001531811966851711,
          0.000015726635487350684,
          0.00001603445476953421,
          0.000016289467173567497,
          0.000016552571433354215,
          0.00001697902170567449,
          0.000017311089527522298,
          0.000017544284908231447,
          0.000017883366548477926,
          0.000018333609814847682,
          0.000018592998142307597,
          0.000018952570180284044,
          0.00001941862489794374,
          0.00001970272136019767,
          0.00002017540190704902
         ]
        },
        {
         "line": {
          "color": "red",
          "dash": "dot",
          "width": 2
         },
         "mode": "lines",
         "name": "Theory CW",
         "type": "scatter",
         "x": {
          "bdata": "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",
          "dtype": "f8"
         },
         "y": [
          0.002465593120068237,
          0.0023724596291895255,
          0.0022828440587309294,
          0.0021966135266973086,
          0.002113640170429531,
          0.0020338009570096804,
          0.001956977500827807,
          0.0018830558880397134,
          0.0018119265076554682,
          0.0017434838890081992,
          0.0016776265453621532,
          0.0016142568234281372,
          0.0015532807585631873,
          0.0014946079354397727,
          0.0014381513539779146,
          0.001383827300341447,
          0.0013315552228071105,
          0.001281257612322435,
          0.0012328598875752915,
          0.0011862902844047014,
          0.0011414797493889152,
          0.0010983618374529795,
          0.0010568726133439574,
          0.0010169505568277187,
          0.000978536471466715,
          0.000941573396843487,
          0.0009060065240997382,
          0.0008717831146657432,
          0.0008388524220595821,
          0.0008071656166402402,
          0.0007766757132030012,
          0.000747337501309773,
          0.0007191074782510349,
          0.0006919437845400067,
          0.00066580614184339,
          0.0006406557932566425,
          0.0006164554458352283,
          0.0005931692152966286,
          0.0005707625728111162,
          0.0005492022938023974,
          0.0005284564086821984,
          0.0005084941554457519,
          0.0004892859340578856,
          0.0004708032625620821,
          0.00045301873484742414,
          0.0004359059800108064,
          0.00041943962325415057,
          0.0004035952482586486,
          0.0003883493609802368,
          0.00037367935481262044,
          0.00035956347706619143,
          0.0003459807967131329,
          0.00033291117335088483,
          0.00032033522733794983,
          0.0003082343110577539,
          0.0002965904812679555,
          0.0002853864724941997,
          0.0002746056714288682,
          0.0002642320922968618,
          0.0002542503531518873,
          0.00024464565306810414,
          0.00023540375019330602,
          0.00022651094063109837,
          0.00021795403812075706,
          0.00020972035448463651,
          0.0002017976808141362,
          0.00019417426936632718,
          0.00018683881614439535,
          0.00017978044413607171,
          0.00017298868718519485,
          0.0001664534744724919,
          0.00016016511558256414,
          0.00015411428613493658,
          0.0001482920139578635,
          0.0001426896657843893,
          0.00013729893445093804,
          0.0001321118265794486,
          0.00012712065072479094,
          0.00012231800596988938,
          0.00011769677095164023,
          0.00011325009330135254,
          0.00010897137948405369,
          0.00010485428502159364,
          0.00010089270508505096,
          0.00009708076544249049,
          0.00009341281374865062,
          0.00008988341116364377,
          0.00008648732428824318,
          0.00008321951740379683,
          0.00008007514500526228,
          0.00007704954461629042,
          0.000074138229875704,
          0.00007133688388511997,
          0.00006864135280785126,
          0.00006604763970959644,
          0.00006355189863178434,
          0.00006115042888878551,
          0.00005883966958053443,
          0.00005661619431242585,
          0.00005447670611465577,
          0.000052418032553473655,
          0.00005043712102709668,
          0.000048531034239310877,
          0.00004669694584404744,
          0.000044932136254475885,
          0.00004323398861039992,
          0.000041599984897976244,
          0.00004002770221600302,
          0.000038514809183241054,
          0.000037059062481441094,
          0.00003565830352895087,
          0.00003431045527996946,
          0.00003301351914470322,
          0.000031765572025856226,
          0.00003056476346706099,
          0.00002940931290902121,
          0.00002829750704929791,
          0.000027227697301824052,
          0.00002619829735238059,
          0.000025207780806409357,
          0.00002425467892567464,
          0.000023337578450417723,
          0.000022455119503774858,
          0.000021605993575351544,
          0.000020788941580962747,
          0.00002000275199566266,
          0.00001924625905729497,
          0.000018518341037900568,
          0.0000178179185804188,
          0.000017143953098216654,
          0.000016495445235072095,
          0.000015871433383328317,
          0.000015270992258021755,
          0.0000146932315248691,
          0.000014137294480079494,
          0.000013602356780033768,
          0.00001308762521894757,
          0.000012592336552705505,
          0.000012115756367122614,
          0.000011657177988954705,
          0.000011215921438043136,
          0.000010791332419039957,
          0.000010382781351218635,
          0.0000099896624349315,
          0.000009611392753329894,
          0.000009247411408014845,
          0.000008897178687336806,
          0.000008560175266110986,
          0.00000823590143556188,
          0.000007923876362354887,
          0.000007623637375616534,
          0.0000073347392808859546,
          0.000007056753699980373,
          0.000006789268435795868,
          0.000006531886861101319,
          0.000006284227330419477,
          0.000006045922614122892,
          0.00000581661935390575,
          0.000005595977538824031,
          0.000005383670001127219,
          0.000005179381931133812,
          0.000004982810410431492,
          0.000004793663962709544,
          0.000004611662121557754,
          0.000004436535014590683,
          0.000004268022963280848,
          0.000004105876097907297,
          0.000003949853987048729,
          0.0000037997252810716924,
          0.000003655267369085295,
          0.0000035162660488536912,
          0.000003382515209176957,
          0.0000032538165242693305,
          0.000003129979159681673,
          0.0000030108194893321037,
          0.000002896160823225172,
          0.0000027858331454558985,
          0.000002679672862110115,
          0.000002577522558687386,
          0.0000024792307666867137,
          0.000002384651739009022,
          0.000002293645233843292,
          0.0000022060763067159823,
          0.000002121815110395303,
          0.0000020407367023537203,
          0.0000019627208595031183,
          0.0000018876518999279882,
          0.0000018154185113522316,
          0.0000017459135860852946,
          0.0000016790340622028439,
          0.0000016146807707265231,
          0.0000015527582885761508,
          0.0000014931747970763572,
          0.0000014358419458078182,
          0.0000013806747216012313,
          0.000001327591322479761,
          0.0000012765130363630382,
          0.0000012273641243528722,
          0.0000011800717084275797,
          0.0000011345656633784407,
          0.0000010907785128280105,
          0.0000010486453291761337,
          0.0000010081036373252718,
          9.69093322042415e-7,
          9.315565388201931e-7,
          8.954376281050264e-7,
          8.606830327651162e-7,
          8.272412186759204e-7,
          7.950625983053327e-7,
          7.640994571852792e-7,
          7.343058831606857e-7,
          7.056376983109265e-7,
          6.780523934427828e-7,
          6.515090650578054e-7,
          6.259683547005888e-7,
          6.013923905980456e-7,
          5.777447315031286e-7,
          5.549903126597365e-7,
          5.330953938086868e-7,
          5.120275091576448e-7,
          4.91755419240842e-7,
          4.7224906459718147e-7,
          4.781356989605239e-7,
          4.600751353212861e-7,
          4.426967712326702e-7,
          4.259748380511179e-7,
          4.09884540489021e-7,
          3.944020198482585e-7,
          3.7950431864251496e-7,
          3.651693465559094e-7,
          3.5137584768747167e-7,
          3.381033690328824e-7,
          3.253322301567553e-7,
          3.1304349401047915e-7,
          3.0121893885235804e-7,
          2.898410312284058e-7,
          2.788928999737364e-7,
          2.6835831119599486e-7,
          2.664403701245563e-7,
          2.566865942648811e-7,
          2.3497315775474678e-7,
          2.3005168472070412e-7,
          2.2136196943434363e-7,
          2.1300048974360405e-7,
          2.049548472438567e-7,
          1.972131118539553e-7,
          1.8976380412630885e-7,
          1.825958782251516e-7,
          1.7569870554777714e-7,
          1.6906205896444117e-7,
          1.6267609765357113e-7,
          1.5653135250979188e-7,
          1.5061871210313512e-7,
          1.449294091686071e-7,
          1.3945500760608598e-7,
          1.3418738997126877e-7,
          1.3158436321537032e-7,
          1.2670717599824442e-7,
          1.1790485124103762e-7,
          1.1503290132355418e-7,
          1.1068777704298518e-7,
          1.0650678063188966e-7,
          1.0248371250751731e-7,
          9.861260726322956e-8,
          9.488772482299209e-8,
          9.130354192998954e-8,
          8.785474395673774e-8,
          8.571032072752716e-8,
          8.046246264345932e-8,
          7.738990152467899e-8,
          7.53139776736502e-8,
          7.246915163439785e-8,
          6.973178287523587e-8,
          6.709781242493556e-8,
          6.524822845804685e-8,
          6.280948519665649e-8,
          5.923005141012628e-8,
          5.7519980359977047e-8,
          5.5347284892816696e-8,
          5.325665839653354e-8,
          5.169329503065858e-8,
          4.8935751034474974e-8,
          4.707319551913554e-8,
          4.565457254561988e-8,
          4.393006773521793e-8,
          4.258680728572682e-8,
          4.0403069152081894e-8,
          3.8866694313460955e-8,
          3.7659299789677513e-8,
          3.6471620219295244e-8,
          3.4662562956994e-8,
          3.33454969104384e-8,
          3.24649438178231e-8,
          3.124549735612211e-8,
          2.9729665989128046e-8,
          2.8905943311444108e-8,
          2.7819528910335027e-8,
          2.650019398219525e-8,
          2.5741483229431788e-8,
          2.45494410621896e-8
         ]
        }
       ],
       "layout": {
        "font": {
         "family": "CMU Serif",
         "size": 18
        },
        "height": 500,
        "legend": {
         "bgcolor": "rgba(255,255,255,1.0)",
         "bordercolor": "black",
         "borderwidth": 1,
         "font": {
          "size": 16
         },
         "x": 0.4,
         "xanchor": "center",
         "y": 0.8,
         "yanchor": "middle"
        },
        "margin": {
         "b": 80,
         "l": 80,
         "r": 20,
         "t": 40
        },
        "shapes": [
         {
          "layer": "below",
          "line": {
           "color": "limegreen",
           "dash": "dot",
           "width": 2
          },
          "type": "line",
          "x0": 1,
          "x1": 1,
          "y0": 3.199387664183012e-8,
          "y1": 6.5861833499768245
         },
         {
          "layer": "below",
          "line": {
           "color": "limegreen",
           "dash": "dot",
           "width": 2
          },
          "type": "line",
          "x0": 100,
          "x1": 100,
          "y0": 3.199387664183012e-8,
          "y1": 6.5861833499768245
         }
        ],
        "template": {
         "layout": {
          "font": {
           "family": "CMU Serif",
           "size": 18
          },
          "height": 500,
          "legend": {
           "bordercolor": "black",
           "borderwidth": 1,
           "font": {
            "family": "CMU Serif",
            "size": 16
           }
          },
          "margin": {
           "b": 80,
           "l": 80,
           "r": 20,
           "t": 50
          },
          "title": {
           "font": {
            "family": "CMU Serif",
            "size": 22
           }
          },
          "width": 900,
          "xaxis": {
           "tickfont": {
            "family": "CMU Serif",
            "size": 16
           },
           "title": {
            "font": {
             "family": "CMU Serif",
             "size": 20
            }
           }
          },
          "yaxis": {
           "tickfont": {
            "family": "CMU Serif",
            "size": 16
           },
           "title": {
            "font": {
             "family": "CMU Serif",
             "size": 20
            }
           }
          }
         }
        },
        "width": 800,
        "xaxis": {
         "mirror": true,
         "range": [
          -0.999995657033466,
          4.001884143874552
         ],
         "showline": true,
         "ticks": "outside",
         "ticktext": [
          "10<sup>−1</sup>",
          "10<sup>0</sup>",
          "10<sup>1</sup>",
          "10<sup>2</sup>",
          "10<sup>3</sup>",
          "10<sup>4</sup>",
          "10<sup>5</sup>"
         ],
         "tickvals": {
          "bdata": "mpmZmZmZuT8AAAAAAADwPwAAAAAAACRAAAAAAAAAWUAAAAAAAECPQAAAAAAAiMNAAAAAAABq+EA=",
          "dtype": "f8"
         },
         "title": {
          "standoff": 0,
          "text": "Sample Duration (s)"
         },
         "type": "log"
        },
        "yaxis": {
         "mirror": true,
         "range": [
          -7,
          -1
         ],
         "showline": true,
         "ticks": "outside",
         "ticktext": [
          "10<sup>−7</sup>",
          "10<sup>−6</sup>",
          "10<sup>−5</sup>",
          "10<sup>−4</sup>",
          "10<sup>−3</sup>",
          "10<sup>−2</sup>",
          "10<sup>−1</sup>"
         ],
         "tickvals": {
          "bdata": "SK+8mvLXej6N7bWg98awPvFo44i1+OQ+LUMc6+I2Gj/8qfHSTWJQP3sUrkfheoQ/mpmZmZmZuT8=",
          "dtype": "f8"
         },
         "title": {
          "standoff": 4,
          "text": "Frequency Uncertainty (Hz)"
         },
         "type": "log"
        }
       }
      }
     },
     "metadata": {},
     "output_type": "display_data"
    },
    {
     "name": "stdout",
     "output_type": "stream",
     "text": [
      "[-4. -3. -2. -1.]\n"
     ]
    },
    {
     "data": {
      "application/vnd.plotly.v1+json": {
       "config": {
        "plotlyServerURL": "https://plot.ly"
       },
       "data": [
        {
         "line": {
          "color": "black",
          "width": 2
         },
         "mode": "lines",
         "name": "Simulation",
         "opacity": 0.8,
         "type": "scatter",
         "x": {
          "bdata": "FzmcYKqZuT85m+DT75q6PwFg18ROprs/+2lmsyy8vD9xoY4b89y9P0hNeZ0PCb8/FwmME3ogwD+4tLOPi8LAPyMAssn5asE/ygpisgQawj8jTEO97s/CP4s9tfn8jMM/QbYwLXdRxD9U8Yjupx3FP9OZPsLc8cU/zKHvN2bOxj8rFe8ImLPHPz+KEDjJocg/pUazMlSZyT9+qRnzlprKP/fpGSTzpcs/H701Rs67zD+J/ibWkdzNP3gF8HSrCM8/GHK/iEYg0D8ttPmJVsLQP8EpTEXDatE/IXRQrMwZ0j+zSl4ztc/SP/adyerBjNM/U6MemTpR1D9NxmXWaR3VPzzgeSid8dU/g4B7ICXO1j/3e2x5VbPXP4hr/zeFodg/xDenyw6Z2T8ZSfMwUJraPwx0RRWrpds/pDzv+4S73D/glcRkR9zdP+HQMvRfCN8/BYJ1TiAg4D9n5pflL8LgP85360icauE/CgCIbKUZ4j/k9IDHjc/iP9jyKG2ajOM/cZJTJxNR5D/snZ+RQh3lP04S1DV28eU/ysBaqf7N5j/e0uOrL7PnP7LlPUdgoeg/Oehu8OqY6T+VYhqqLZrqP/RNQiiKpes/ZSlw9WW77D8Wg1SZKtztP+m968BFCO8/jbgbtBQg8D9RLs4CJsLwP2PHeluUavE/VwA3uJ8Z8j/rT5mWis/yP124BxGajPM/3JoF+RVR9D+A5YrySB31Pz8bb5CA8fU/aiDzcQ3O9j/aJXVhQ7P3P+eAWnR5ofg/9rY7LAqZ+T88gV+ZU5r6P90Pkn63pfs/y1tmdpu7/D9S5O8Zadz9P/DIAymOCP8/f2QIWj4gAECVKc+jVcIAQD66wYzKagFAE5LzG90ZAkC7Dg7dz88CQJGatfnnjANARO3vU21RBECVoJWhqh0FQG7B2Yjt8QVAxnPyvYbOBkAhM+4hyrMHQBKxweIOoghAJtCanK+ZCUCvu4V8CpsKQImkcWSBpgtAKTijEHq8DECpeqM+Xt0NQPZFutWbCQ9ALiiCiNIgEEDHoZpV+MIQQJiNCwZ9axFAzlvsu6AaEkBPJx8gptASQL+U43vSjRNA13Zu021SFEAjwpABwx4VQH3KeNQf8xVAhDmZK9XPFkDAp8EWN7UXQGJBdfacoxhAOmWMnWGbGUAqty5045waQCOxM5yEqBtAaFX4Fqu+HEBpQ7nswN8dQLcWgVU0DB9AT9Ld8TsiIEBSsT9YgcQgQKp+z0QobSFAyPbKEHEcIkDt1LGgntIiQBL1NH72jyNATawx88BUJECLe8QlSSElQF69fjXd9SVADnLLWc7SJkAy1o8BcbgnQNL+FPQcpyhAYU1Icy2fKUA7KmFfAaEqQEcb+1v7rCtAC/iz9oHDLEBWtF7P/+QtQM7428HjES9ArkTViFAlMEDpJqHL18cwQF3WpvfFcDFA1+nq1VsgMkDMvbvD3NYyQJhdW82OlDNAscPEybpZNEC/0Jh3rCY1QLPuP5uy+zVA6vRNHh/ZNkBBiDYwR783QIDjYGiDrjhAOa2q6S+nOUCrRWqHrKk6QCnFAexctjtAqr8UwajNPED0x3PZ++89QOGi0VzGHT9AGI6rer4rQECuwJV/zM5AQOVzBF1MeEFAGUt6vn8oQkDDlxr2qt9CQC3K0BgVnkNAuG+yGwhkREABsqry0DFFQDgZf7C/B0ZAly0+qCfmRkDZfSmQX81HQFCGLabBvUhALP361au3SUCgHtbgf7tKQCPAMYejyUtA8C0ttIDiTEAAKw2rhQZOQKLTyTYlNk9AjFPmbes4UECJy/2FC91QQIHbl66zh1FAav0bYSc5UkB7N0XjrPFSQF43ZGaNsVNAilAeKBV5VECb+L2Uk0hVQDaoKmtbIFZAkm2f4sIAV0Df+zjSI+pXQLOgddrb3FhASELDkEzZWUAqaDmt299aQPBPnzrz8FtA8zrgyAENXUDwdBKiejReQE4ZOALWZ19AG6nxqMhTYEDoXvWxF/pgQBHoLlscp2FAbTx22x1bYkADhXyFZhZjQLuyx+1D2WNAX2nAEgekZEB0T/SGBHdlQE9lsZ2UUmZAgNIhmhM3Z0AroxLh4SRoQDQ+ky1kHGlA2PmeyAMeakCuIQbELiprQLIN0DhYQWxAeZhUifhjbUAoZFCnjZJuQMX3PF6bzW9A5fEd0dWKcEAna/VxpzVxQID1vjSO53FAd87CVtmgckAVVufh22FzQMAKauLsKnRADAUjoGf8dECbXZrbq9Z1QBx7PQ8eunZA/4cJtSend0BoWQiRN554QL30BQHCn3lA9b7uUUGsekCYUlEbNsR7QEsji6En6HxAQqA0P6QYfkCmmXDWQVZ/QP7AaSXPUIBAluCEw2IdgEB83lekVL+AQJ/0PfqhZ4FAGzRGqIoWgkDUGocTUcyCQD+eUjw6iYNAUn1n2I1NhECkyylulhmFQDsK7XCh7YVA3otaXv/JhkAjTf/cA6+HQCnaDNwFnYhA6E5ZtF+UiUC4+apKb5WKQPyjXDOWoItAKQlo1zm2jECddXe+IuuMQGKg5B9yBI5A7AMtkEZlkEDdEGtKEb+QQKQ0eftbZ5FAMJkX6kEWkkDsuFF6BcySQHAKZKvriJNANensMTxNlEA6sySTQRmVQPdvJ0FJ7ZVAcL5auKPJlkB+MvudpK6XQNe63N+inJhAihxq1fiTmUCcC/BhBJWaQG7kQBgnoJtA+Y2+X8a1nECg8qpmK0edQLHbpQ6sZ55ASL18uGJWoEBQH43xzb6gQMnyzf0VZ6FAPYkNLfkVokDbXUziucuiQLtssRudiKNAgrK6jOpMpEAd3HS57BilQGZ8xBLx7KVAUH0n0V95pkAb2+PBnfCnQE2Z2szv46hAuZ4Y+JGTqUCAD+N6mZSqQLf34/63n6tA7m/l6VK1rEBFoxWBp4WtQMAU4p8Zq65AEhJkIchCsECnBb6Zir6wQJwqPAHQZrFApv8ncbAVskA9QV6HtKGyQJvBd796rrNAoN6ejtZ1tEDqQBrhlxi1QOspxOWY7LVAkQFuzaCdtkBmdyv6jNa3QIpDFc/Hx7hA5c5kHCuTuUC2hbaiX2i6QANp/nQzybtATEi+tyfivEDnZddRtaq9QK06tyYd075AhxxdzboywEBetWDK5ajAQAHFW4tzT8FAGRh2MBMswkDOMkz8MLXCQN/0pje9ncNA",
          "dtype": "f8"
         },
         "y": [
          0.037470888913230714,
          0.04752390793797885,
          0.03235853872644521,
          0.023641745589859518,
          0.017863401992851576,
          0.013758207309302974,
          0.010730324704493721,
          0.008447258136471377,
          0.00670271615226565,
          0.0053592994751918525,
          0.004321228886023968,
          0.0035193958164227023,
          0.0029026798682613725,
          0.002432361628308925,
          0.0020782123813132816,
          0.0018159740168190207,
          0.0016726734863244976,
          0.0015451007481928473,
          0.0014552637192901837,
          0.0013926397140907045,
          0.0013491920818055206,
          0.0013189961086805372,
          0.001297841284353698,
          0.0012827501577098136,
          0.001299909506044254,
          0.0012633863542493853,
          0.0012567877961018675,
          0.001251305363633265,
          0.0012905363211029707,
          0.0012882040069575342,
          0.0012855935815099934,
          0.0012826834079246808,
          0.001279385544566395,
          0.0012756828494552026,
          0.0012202092023515946,
          0.0012152296906981345,
          0.0012619434537453923,
          0.001256388809114562,
          0.0012502979854227074,
          0.00112567936833357,
          0.001236344852836039,
          0.001112384668626703,
          0.001168193635996316,
          0.0010969996284313063,
          0.0010883539210412663,
          0.0010789751396672943,
          0.0010687838760953525,
          0.00105769646680122,
          0.001149034989277435,
          0.0010865897460520595,
          0.0010587764511915474,
          0.0010983029415476506,
          0.001035963537613776,
          0.0009674999837506075,
          0.0009479581342774822,
          0.0009711717384048978,
          0.0009896947844196527,
          0.000883759168905787,
          0.0009148756088220219,
          0.0008432904505728309,
          0.0008911059347359851,
          0.000888279013583667,
          0.0008167051073249027,
          0.0009454956459304044,
          0.0008834302041314557,
          0.0009278515148287938,
          0.0009895005034030726,
          0.0008663552627719884,
          0.0009219282757563907,
          0.000859460801292319,
          0.0008726973965433802,
          0.0008774841413253935,
          0.0008713219060044792,
          0.0008760266271660758,
          0.000881707659699835,
          0.0009192098901953548,
          0.0008671100675291867,
          0.000911998567057119,
          0.000877528844159511,
          0.0008591603409747548,
          0.0008415642997899444,
          0.0009013186715474471,
          0.0008835557215140943,
          0.0008710216765532005,
          0.0009413095673751922,
          0.0008441291261763755,
          0.0009520603073937396,
          0.0009136171475023626,
          0.0009003322437758967,
          0.0008929663645778433,
          0.0009006348036388332,
          0.000890244352030418,
          0.000886126118569068,
          0.0008997550981006027,
          0.0009577016290690044,
          0.0009824470208811393,
          0.0009495628365441723,
          0.0009425616537636592,
          0.0009154387281475356,
          0.0009090800642477621,
          0.0009581813131407741,
          0.0009540358058107967,
          0.0009505113282720321,
          0.000860750238845188,
          0.0009597997340519507,
          0.0009411864807057031,
          0.0009346003676442367,
          0.0009125795439665965,
          0.0009269600572165966,
          0.0009412531599740234,
          0.0008496050039853481,
          0.0009607426382329985,
          0.0009030589585319925,
          0.0008592814158868441,
          0.0009452803025518567,
          0.0009218262926121482,
          0.0009029107197345375,
          0.000938363858557271,
          0.0009580971207907749,
          0.0008721225247191388,
          0.000907843209222924,
          0.0009201436036357061,
          0.0008750447316887231,
          0.0009343463136491333,
          0.0008995828397275648,
          0.0008904781222911245,
          0.0009036591731878961,
          0.0008818019365632212,
          0.0009325612411238627,
          0.0009503615415765177,
          0.0009458256534372816,
          0.0008821811584578926,
          0.0009844323613640228,
          0.0010131509000110906,
          0.00102380217086449,
          0.0009387554094908328,
          0.0009504757463196614,
          0.0009045695053739323,
          0.0009556700316730947,
          0.0008635634799003665,
          0.0008810865790406853,
          0.0009833149162549336,
          0.0009952425101463595,
          0.0009562832701563112,
          0.0010076736075230396,
          0.0009679657126609457,
          0.0009483487470856146,
          0.0010088807687718628,
          0.0009011534955711943,
          0.0009578750051148282,
          0.0009325164134085694,
          0.001036371410169813,
          0.0009452975422486235,
          0.0009734547794981997,
          0.000912224759948582,
          0.0009700633923435292,
          0.0009756866225160849,
          0.001001595486731254,
          0.0009943021345044374,
          0.0009831565176830056,
          0.0010120598117124384,
          0.0009735308626946398,
          0.001035970387220899,
          0.0009283669673649989,
          0.0010700999250001756,
          0.0010749591870992023,
          0.001001444533629241,
          0.0009653834404318695,
          0.0011179040662092847,
          0.001087963169010888,
          0.000985573951268115,
          0.0010242925562707983,
          0.0010582424551671406,
          0.0010650178663602855,
          0.001043089973346317,
          0.001068535818852078,
          0.0010171662024473177,
          0.001069422015019587,
          0.001171034248838139,
          0.001105419090886938,
          0.0011314442117740875,
          0.0011129315765724954,
          0.0011675648998687798,
          0.0012344854693710084,
          0.0011673525302817436,
          0.0011490814695717295,
          0.0012681454153791324,
          0.001210738291696148,
          0.0012963933104780897,
          0.0011907682226015312,
          0.0012107831601396947,
          0.0012961852038573718,
          0.00121511043284694,
          0.001227615637787017,
          0.0012893078422199758,
          0.001339468479904428,
          0.001379254445686671,
          0.0014074703221470788,
          0.0013185861166645683,
          0.001177800487299924,
          0.001432566624618669,
          0.0013328861631643157,
          0.0014571586077231022,
          0.0016039113301062773,
          0.0013823474967334878,
          0.0015275018405956596,
          0.0016355694995984155,
          0.0015128217231950183,
          0.0015605048612016307,
          0.0016846757706396153,
          0.0016438179113065913,
          0.0016019328081830092,
          0.0017136845157904581,
          0.0017073569997737182,
          0.0017279932063060867,
          0.001770294658428186,
          0.00176648870025087,
          0.001818037675234546,
          0.0018072932888643512,
          0.0019616983315887517,
          0.002122795233158489,
          0.0018998514426251856,
          0.0019224325340725264,
          0.00208677225342499,
          0.0019962478222772372,
          0.0020819709508457067,
          0.002250717882599693,
          0.0022299728701905986,
          0.0021523460054933387,
          0.0022035633935994716,
          0.002269765232686174,
          0.0024245122021962825,
          0.00252371230022764,
          0.002489072965696374,
          0.002447971283307381,
          0.0026760317680671513,
          0.0027754353321496725,
          0.0027744855463417667,
          0.002742958752671533,
          0.002768595779037369,
          0.0027350544507956484,
          0.003011134994700775,
          0.0030749746806494186,
          0.003116740592882539,
          0.002774926804461791,
          0.0030502043182440617,
          0.0032272580001665115,
          0.0031714993653814494,
          0.0032364044301392884,
          0.0033634961079611614,
          0.0033610399568656064,
          0.003509798346081549,
          0.0036485507481967714,
          0.0033502283792443597,
          0.003667657512540893,
          0.003500564295219883,
          0.003914201674685692,
          0.00354851831248869,
          0.0039026460918912312,
          0.003914699091431816,
          0.0041484108251742605,
          0.0040520914323561395,
          0.004356793446629273,
          0.00425221097144478,
          0.004362679644380628,
          0.004428045187910103,
          0.004560262280488749,
          0.00471322523334102,
          0.004630200491344606,
          0.00482273424866805,
          0.004693836709047903,
          0.004607848609743215,
          0.005024614888120249,
          0.005278663246669131,
          0.005082810486052705,
          0.005394906861018803,
          0.005168990864938078,
          0.004994710052867385,
          0.005665714014739662,
          0.0056969775950071674,
          0.0060277458480203355,
          0.005775095702026052,
          0.006142937059976684,
          0.00578524669189313,
          0.00563573915067705,
          0.0059618727411519514,
          0.005976467998352132,
          0.006769950621500487,
          0.006464313638032369,
          0.007154281318636066,
          0.005940842693660293,
          0.007002749499165843,
          0.006851649223719601,
          0.0064640509588216825,
          0.006892537739178525,
          0.007151373010351653,
          0.006813547143178421,
          0.0070746572259752505,
          0.007372543096921396,
          0.007722266098207476
         ]
        },
        {
         "line": {
          "color": "blue",
          "dash": "dash",
          "width": 2
         },
         "mode": "lines",
         "name": "Theory Damped",
         "type": "scatter",
         "x": {
          "bdata": "FzmcYKqZuT85m+DT75q6PwFg18ROprs/+2lmsyy8vD9xoY4b89y9P0hNeZ0PCb8/FwmME3ogwD+4tLOPi8LAPyMAssn5asE/ygpisgQawj8jTEO97s/CP4s9tfn8jMM/QbYwLXdRxD9U8Yjupx3FP9OZPsLc8cU/zKHvN2bOxj8rFe8ImLPHPz+KEDjJocg/pUazMlSZyT9+qRnzlprKP/fpGSTzpcs/H701Rs67zD+J/ibWkdzNP3gF8HSrCM8/GHK/iEYg0D8ttPmJVsLQP8EpTEXDatE/IXRQrMwZ0j+zSl4ztc/SP/adyerBjNM/U6MemTpR1D9NxmXWaR3VPzzgeSid8dU/g4B7ICXO1j/3e2x5VbPXP4hr/zeFodg/xDenyw6Z2T8ZSfMwUJraPwx0RRWrpds/pDzv+4S73D/glcRkR9zdP+HQMvRfCN8/BYJ1TiAg4D9n5pflL8LgP85360icauE/CgCIbKUZ4j/k9IDHjc/iP9jyKG2ajOM/cZJTJxNR5D/snZ+RQh3lP04S1DV28eU/ysBaqf7N5j/e0uOrL7PnP7LlPUdgoeg/Oehu8OqY6T+VYhqqLZrqP/RNQiiKpes/ZSlw9WW77D8Wg1SZKtztP+m968BFCO8/jbgbtBQg8D9RLs4CJsLwP2PHeluUavE/VwA3uJ8Z8j/rT5mWis/yP124BxGajPM/3JoF+RVR9D+A5YrySB31Pz8bb5CA8fU/aiDzcQ3O9j/aJXVhQ7P3P+eAWnR5ofg/9rY7LAqZ+T88gV+ZU5r6P90Pkn63pfs/y1tmdpu7/D9S5O8Zadz9P/DIAymOCP8/f2QIWj4gAECVKc+jVcIAQD66wYzKagFAE5LzG90ZAkC7Dg7dz88CQJGatfnnjANARO3vU21RBECVoJWhqh0FQG7B2Yjt8QVAxnPyvYbOBkAhM+4hyrMHQBKxweIOoghAJtCanK+ZCUCvu4V8CpsKQImkcWSBpgtAKTijEHq8DECpeqM+Xt0NQPZFutWbCQ9ALiiCiNIgEEDHoZpV+MIQQJiNCwZ9axFAzlvsu6AaEkBPJx8gptASQL+U43vSjRNA13Zu021SFEAjwpABwx4VQH3KeNQf8xVAhDmZK9XPFkDAp8EWN7UXQGJBdfacoxhAOmWMnWGbGUAqty5045waQCOxM5yEqBtAaFX4Fqu+HEBpQ7nswN8dQLcWgVU0DB9AT9Ld8TsiIEBSsT9YgcQgQKp+z0QobSFAyPbKEHEcIkDt1LGgntIiQBL1NH72jyNATawx88BUJECLe8QlSSElQF69fjXd9SVADnLLWc7SJkAy1o8BcbgnQNL+FPQcpyhAYU1Icy2fKUA7KmFfAaEqQEcb+1v7rCtAC/iz9oHDLEBWtF7P/+QtQM7428HjES9ArkTViFAlMEDpJqHL18cwQF3WpvfFcDFA1+nq1VsgMkDMvbvD3NYyQJhdW82OlDNAscPEybpZNEC/0Jh3rCY1QLPuP5uy+zVA6vRNHh/ZNkBBiDYwR783QIDjYGiDrjhAOa2q6S+nOUCrRWqHrKk6QCnFAexctjtAqr8UwajNPED0x3PZ++89QOGi0VzGHT9AGI6rer4rQECuwJV/zM5AQOVzBF1MeEFAGUt6vn8oQkDDlxr2qt9CQC3K0BgVnkNAuG+yGwhkREABsqry0DFFQDgZf7C/B0ZAly0+qCfmRkDZfSmQX81HQFCGLabBvUhALP361au3SUCgHtbgf7tKQCPAMYejyUtA8C0ttIDiTEAAKw2rhQZOQKLTyTYlNk9AjFPmbes4UECJy/2FC91QQIHbl66zh1FAav0bYSc5UkB7N0XjrPFSQF43ZGaNsVNAilAeKBV5VECb+L2Uk0hVQDaoKmtbIFZAkm2f4sIAV0Df+zjSI+pXQLOgddrb3FhASELDkEzZWUAqaDmt299aQPBPnzrz8FtA8zrgyAENXUDwdBKiejReQE4ZOALWZ19AG6nxqMhTYEDoXvWxF/pgQBHoLlscp2FAbTx22x1bYkADhXyFZhZjQLuyx+1D2WNAX2nAEgekZEB0T/SGBHdlQE9lsZ2UUmZAgNIhmhM3Z0AroxLh4SRoQDQ+ky1kHGlA2PmeyAMeakCuIQbELiprQLIN0DhYQWxAeZhUifhjbUAoZFCnjZJuQMX3PF6bzW9A5fEd0dWKcEAna/VxpzVxQID1vjSO53FAd87CVtmgckAVVufh22FzQMAKauLsKnRADAUjoGf8dECbXZrbq9Z1QBx7PQ8eunZA/4cJtSend0BoWQiRN554QL30BQHCn3lA9b7uUUGsekCYUlEbNsR7QEsji6En6HxAQqA0P6QYfkCmmXDWQVZ/QP7AaSXPUIBAluCEw2IdgEB83lekVL+AQJ/0PfqhZ4FAGzRGqIoWgkDUGocTUcyCQD+eUjw6iYNAUn1n2I1NhECkyylulhmFQDsK7XCh7YVA3otaXv/JhkAjTf/cA6+HQCnaDNwFnYhA6E5ZtF+UiUC4+apKb5WKQPyjXDOWoItAKQlo1zm2jECddXe+IuuMQGKg5B9yBI5A7AMtkEZlkEDdEGtKEb+QQKQ0eftbZ5FAMJkX6kEWkkDsuFF6BcySQHAKZKvriJNANensMTxNlEA6sySTQRmVQPdvJ0FJ7ZVAcL5auKPJlkB+MvudpK6XQNe63N+inJhAihxq1fiTmUCcC/BhBJWaQG7kQBgnoJtA+Y2+X8a1nECg8qpmK0edQLHbpQ6sZ55ASL18uGJWoEBQH43xzb6gQMnyzf0VZ6FAPYkNLfkVokDbXUziucuiQLtssRudiKNAgrK6jOpMpEAd3HS57BilQGZ8xBLx7KVAUH0n0V95pkAb2+PBnfCnQE2Z2szv46hAuZ4Y+JGTqUCAD+N6mZSqQLf34/63n6tA7m/l6VK1rEBFoxWBp4WtQMAU4p8Zq65AEhJkIchCsECnBb6Zir6wQJwqPAHQZrFApv8ncbAVskA9QV6HtKGyQJvBd796rrNAoN6ejtZ1tEDqQBrhlxi1QOspxOWY7LVAkQFuzaCdtkBmdyv6jNa3QIpDFc/Hx7hA5c5kHCuTuUC2hbaiX2i6QANp/nQzybtATEi+tyfivEDnZddRtaq9QK06tyYd075AhxxdzboywEBetWDK5ajAQAHFW4tzT8FAGRh2MBMswkDOMkz8MLXCQN/0pje9ncNA",
          "dtype": "f8"
         },
         "y": [
          0.0008945793081586014,
          0.0008947215289161835,
          0.0008947454850404331,
          0.0008946812462793698,
          0.0008947402798128351,
          0.0008947269590514296,
          0.0008947288516459625,
          0.0008947241982374856,
          0.0008947139438681593,
          0.0008947362609391088,
          0.0008947706343033573,
          0.0008947713174818995,
          0.0008947621253429307,
          0.000894802121021959,
          0.0008948106420116134,
          0.0008948296384679974,
          0.0008948383622816179,
          0.0008948604303329135,
          0.0008948694820821227,
          0.0008948947900272366,
          0.0008949103913649053,
          0.0008949306941059329,
          0.0008949526471028052,
          0.0008949705248892375,
          0.0008949901081104363,
          0.000895013240388642,
          0.000895036267885804,
          0.0008950591142714908,
          0.0008950839809273195,
          0.0008951094821380565,
          0.0008951373128582081,
          0.0008951653817719916,
          0.0008951940713686664,
          0.0008952236712415949,
          0.0008952547535018902,
          0.0008952879892215983,
          0.0008953213667719307,
          0.0008953565521505345,
          0.0008953932150833463,
          0.0008954310105662043,
          0.0008954707083999309,
          0.000895511695624434,
          0.0008955541647113803,
          0.0008955982513537151,
          0.0008956442583423462,
          0.0008956919779358396,
          0.0008957417034919626,
          0.0008957932803371835,
          0.0008958469583941429,
          0.0008959027116777003,
          0.0008959605806615892,
          0.0008960207756575278,
          0.0008960833512113607,
          0.0008961483784739998,
          0.0008962159762487379,
          0.0008962862028299336,
          0.0008963591786159574,
          0.0008964350358502076,
          0.0008965138922274719,
          0.000896595823557224,
          0.0008966809575720591,
          0.0008967694510724205,
          0.000896861421889399,
          0.0008969570000134954,
          0.0008970563223802654,
          0.0008971595565518209,
          0.000897266842319563,
          0.0008973783427651772,
          0.0008974942180913951,
          0.0008976146465251944,
          0.0008977398079716931,
          0.0008978698837730052,
          0.0008980050676038211,
          0.0008981455627108543,
          0.0008982915773078595,
          0.0008984433250031507,
          0.0008986010350793638,
          0.0008987649403582979,
          0.0008989352842305145,
          0.0008991123205669222,
          0.0008992963121782475,
          0.0008994875316094864,
          0.0008996862636052643,
          0.0008998928044049295,
          0.0009001074598441075,
          0.0009003305500392915,
          0.0009005624062422529,
          0.000900803373527091,
          0.0009010538099874135,
          0.0009013140884582484,
          0.0009015845956924753,
          0.0009018657346161887,
          0.0009021579234192695,
          0.000902461596854936,
          0.0009027772071998269,
          0.0009031052240102262,
          0.0009034461357697216,
          0.0009038004501997201,
          0.0009041686949637226,
          0.0009045514186951569,
          0.0009049491915011841,
          0.0009053626062341995,
          0.0009057922790208967,
          0.0009062388504754715,
          0.0009067029864041477,
          0.0009071853790452221,
          0.0009076867480130859,
          0.0009082078413514453,
          0.0009087494367902267,
          0.0009093123428185419,
          0.0009098973999524455,
          0.0009105054820270784,
          0.0009111374975167145,
          0.0009117943909250951,
          0.0009124771442248165,
          0.0009131867783641861,
          0.0009139243548239067,
          0.0009146909772591821,
          0.0009154877931666708,
          0.0009163159956823488,
          0.0009171768253893563,
          0.000918071572247985,
          0.0009190015775769171,
          0.0009199682361307212,
          0.0009209729982607874,
          0.0009220173721567408,
          0.000923102926199762,
          0.0009242312913918529,
          0.0009254041639075757,
          0.0009266233077363254,
          0.000927890557444197,
          0.0009292078210506306,
          0.0009305770830259148,
          0.0009320004074137173,
          0.0009334799410904236,
          0.0009350179171601697,
          0.0009366166584945162,
          0.000938278581425912,
          0.0009400061995989812,
          0.0009418021279883853,
          0.0009436690870894161,
          0.0009456099072936788,
          0.0009476275334531831,
          0.0009497250296468819,
          0.0009519055841559733,
          0.0009541725146607448,
          0.0009565292736684961,
          0.0009589794541845336,
          0.0009615267956389758,
          0.0009641751900820015,
          0.0009669286886614695,
          0.0009697915083981986,
          0.000972768039273965,
          0.0009758628516496447,
          0.0009790807040307257,
          0.0009824265511995816,
          0.000985905552734634,
          0.0009895230819377701,
          0.0009932847351930534,
          0.0009971963417809498,
          0.0010012639741739443,
          0.0010054939588408135,
          0.0010098928875884414,
          0.001014467629471626,
          0.0010192253433027195,
          0.0010241734907943632,
          0.0010293198503697224,
          0.0010346725316755562,
          0.0010402399908338825,
          0.0010460310464679235,
          0.0010520548965371698,
          0.0010583211360144236,
          0.0010648397754344995,
          0.0010716212603391858,
          0.001078676491635822,
          0.0010860168468768121,
          0.0010936542024536538,
          0.001101600956681115,
          0.0011098700537235569,
          0.0011184750082853063,
          0.0011274299309486666,
          0.0011367495539952148,
          0.001146449257486515,
          0.0011565450953073386,
          0.0011670538207856564,
          0.0011779929113969077,
          0.001189380591933001,
          0.0012012358553673199,
          0.001213578480474061,
          0.001226429045062998,
          0.0012398089334698969,
          0.0012537403367011703,
          0.0012682462433744662,
          0.0012833504193343304,
          0.0012990773735682684,
          0.001315452307824258,
          0.0013325010471643283,
          0.0013502499486169807,
          0.0013687257851600749,
          0.0013879556025299157,
          0.001407966546873585,
          0.0014287856621049031,
          0.0014504396570515822,
          0.00147295464414064,
          0.0014963558534834,
          0.00152066732876977,
          0.0015459116142827402,
          0.001572109445438395,
          0.0015992794582939702,
          0.0016274379361036443,
          0.0016565986128181753,
          0.0016867725539579162,
          0.0017179681340971302,
          0.0017501911269413944,
          0.0017834449185179402,
          0.001817730846476196,
          0.0018530486594035766,
          0.0018893970802398533,
          0.0019267744484421647,
          0.0019651794077648562,
          0.0020046116015538457,
          0.00204507233619474,
          0.00203258776926079,
          0.0020716832278664097,
          0.002111634358792706,
          0.002152439817984471,
          0.0021941004804820257,
          0.002236619504760988,
          0.002280002306242542,
          0.002324256455360214,
          0.002369391519031712,
          0.0024154188655674882,
          0.0024623514521605163,
          0.002510203611591929,
          0.002558990851234032,
          0.002608729673439627,
          0.0026594374225095813,
          0.002711132160034124,
          0.0027208723145181147,
          0.0027720843416483222,
          0.0028973354253297202,
          0.0029281625576515883,
          0.002985082752519288,
          0.003043109455351263,
          0.0031022641548590813,
          0.0031625687672898095,
          0.0032240456402536184,
          0.0032867175585669086,
          0.003350607751365136,
          0.0034157399000140885,
          0.003482138146536064,
          0.0035498271023889486,
          0.0036188318575105863,
          0.003689177989584283,
          0.0037608915735050535,
          0.003833999191038886,
          0.003871735924707683,
          0.003945547388768518,
          0.0040901763421897774,
          0.004140919930174796,
          0.004221414883187443,
          0.004303474570020054,
          0.004387129407386171,
          0.0044724104032669645,
          0.004559349168404848,
          0.00464797792802047,
          0.004738329533757515,
          0.004797238491128275,
          0.004951208434221916,
          0.00504853908356565,
          0.005117644064175294,
          0.0052171254657545395,
          0.0053185406769415055,
          0.005421927288879251,
          0.0054982376498014345,
          0.005603962917747741,
          0.005770810521585134,
          0.005855965442808505,
          0.005969799004217806,
          0.006085845365519744,
          0.0061771871854782254,
          0.006348845239296193,
          0.006473229866901014,
          0.006573031737968332,
          0.00670080428363937,
          0.006805661251992276,
          0.006987160048138623,
          0.007123920551823559,
          0.00723721957771338,
          0.007354113720389701,
          0.0075435805842761754,
          0.0076911144302760776,
          0.00779472040809708,
          0.007945370411506463,
          0.008145408224123952,
          0.008260651421566862,
          0.0084204050688233,
          0.008627467724157149,
          0.008753688456651062,
          0.008963694890331582
         ]
        },
        {
         "line": {
          "color": "red",
          "dash": "dot",
          "width": 2
         },
         "mode": "lines",
         "name": "Theory CW",
         "type": "scatter",
         "x": {
          "bdata": "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",
          "dtype": "f8"
         },
         "y": [
          0.00044721359549995795,
          0.00044721359549995795,
          0.00044721359549995795,
          0.00044721359549995795,
          0.00044721359549995795,
          0.00044721359549995795,
          0.00044721359549995795,
          0.00044721359549995795,
          0.00044721359549995795,
          0.00044721359549995795,
          0.00044721359549995795,
          0.00044721359549995795,
          0.00044721359549995795,
          0.00044721359549995795,
          0.00044721359549995795,
          0.00044721359549995795,
          0.00044721359549995795,
          0.00044721359549995795,
          0.00044721359549995795,
          0.00044721359549995795,
          0.00044721359549995795,
          0.00044721359549995795,
          0.00044721359549995795,
          0.00044721359549995795,
          0.00044721359549995795,
          0.00044721359549995795,
          0.00044721359549995795,
          0.00044721359549995795,
          0.00044721359549995795,
          0.00044721359549995795,
          0.00044721359549995795,
          0.00044721359549995795,
          0.00044721359549995795,
          0.00044721359549995795,
          0.00044721359549995795,
          0.00044721359549995795,
          0.00044721359549995795,
          0.00044721359549995795,
          0.00044721359549995795,
          0.00044721359549995795,
          0.00044721359549995795,
          0.00044721359549995795,
          0.00044721359549995795,
          0.00044721359549995795,
          0.00044721359549995795,
          0.00044721359549995795,
          0.00044721359549995795,
          0.00044721359549995795,
          0.00044721359549995795,
          0.00044721359549995795,
          0.00044721359549995795,
          0.00044721359549995795,
          0.00044721359549995795,
          0.00044721359549995795,
          0.00044721359549995795,
          0.00044721359549995795,
          0.00044721359549995795,
          0.00044721359549995795,
          0.00044721359549995795,
          0.00044721359549995795,
          0.00044721359549995795,
          0.00044721359549995795,
          0.00044721359549995795,
          0.00044721359549995795,
          0.00044721359549995795,
          0.00044721359549995795,
          0.00044721359549995795,
          0.00044721359549995795,
          0.00044721359549995795,
          0.00044721359549995795,
          0.00044721359549995795,
          0.00044721359549995795,
          0.00044721359549995795,
          0.00044721359549995795,
          0.00044721359549995795,
          0.00044721359549995795,
          0.00044721359549995795,
          0.00044721359549995795,
          0.00044721359549995795,
          0.00044721359549995795,
          0.00044721359549995795,
          0.00044721359549995795,
          0.00044721359549995795,
          0.00044721359549995795,
          0.00044721359549995795,
          0.00044721359549995795,
          0.00044721359549995795,
          0.00044721359549995795,
          0.00044721359549995795,
          0.00044721359549995795,
          0.00044721359549995795,
          0.00044721359549995795,
          0.00044721359549995795,
          0.00044721359549995795,
          0.00044721359549995795,
          0.00044721359549995795,
          0.00044721359549995795,
          0.00044721359549995795,
          0.00044721359549995795,
          0.00044721359549995795,
          0.00044721359549995795,
          0.00044721359549995795,
          0.00044721359549995795,
          0.00044721359549995795,
          0.00044721359549995795,
          0.00044721359549995795,
          0.00044721359549995795,
          0.00044721359549995795,
          0.00044721359549995795,
          0.00044721359549995795,
          0.00044721359549995795,
          0.00044721359549995795,
          0.00044721359549995795,
          0.00044721359549995795,
          0.00044721359549995795,
          0.00044721359549995795,
          0.00044721359549995795,
          0.00044721359549995795,
          0.00044721359549995795,
          0.00044721359549995795,
          0.00044721359549995795,
          0.00044721359549995795,
          0.00044721359549995795,
          0.00044721359549995795,
          0.00044721359549995795,
          0.00044721359549995795,
          0.00044721359549995795,
          0.00044721359549995795,
          0.00044721359549995795,
          0.00044721359549995795,
          0.00044721359549995795,
          0.00044721359549995795,
          0.00044721359549995795,
          0.00044721359549995795,
          0.00044721359549995795,
          0.00044721359549995795,
          0.00044721359549995795,
          0.00044721359549995795,
          0.00044721359549995795,
          0.00044721359549995795,
          0.00044721359549995795,
          0.00044721359549995795,
          0.00044721359549995795,
          0.00044721359549995795,
          0.00044721359549995795,
          0.00044721359549995795,
          0.00044721359549995795,
          0.00044721359549995795,
          0.00044721359549995795,
          0.00044721359549995795,
          0.00044721359549995795,
          0.00044721359549995795,
          0.00044721359549995795,
          0.00044721359549995795,
          0.00044721359549995795,
          0.00044721359549995795,
          0.00044721359549995795,
          0.00044721359549995795,
          0.00044721359549995795,
          0.00044721359549995795,
          0.00044721359549995795,
          0.00044721359549995795,
          0.00044721359549995795,
          0.00044721359549995795,
          0.00044721359549995795,
          0.00044721359549995795,
          0.00044721359549995795,
          0.00044721359549995795,
          0.00044721359549995795,
          0.00044721359549995795,
          0.00044721359549995795,
          0.00044721359549995795,
          0.00044721359549995795,
          0.00044721359549995795,
          0.00044721359549995795,
          0.00044721359549995795,
          0.00044721359549995795,
          0.00044721359549995795,
          0.00044721359549995795,
          0.00044721359549995795,
          0.00044721359549995795,
          0.00044721359549995795,
          0.00044721359549995795,
          0.00044721359549995795,
          0.00044721359549995795,
          0.00044721359549995795,
          0.00044721359549995795,
          0.00044721359549995795,
          0.00044721359549995795,
          0.00044721359549995795,
          0.00044721359549995795,
          0.00044721359549995795,
          0.00044721359549995795,
          0.00044721359549995795,
          0.00044721359549995795,
          0.00044721359549995795,
          0.00044721359549995795,
          0.00044721359549995795,
          0.00044721359549995795,
          0.00044721359549995795,
          0.00044721359549995795,
          0.00044721359549995795,
          0.00044721359549995795,
          0.00044721359549995795,
          0.00044721359549995795,
          0.00044721359549995795,
          0.00044721359549995795,
          0.00044721359549995795,
          0.00044721359549995795,
          0.00044721359549995795,
          0.00044721359549995795,
          0.00044721359549995795,
          0.00044721359549995795,
          0.00044721359549995795,
          0.00044721359549995795,
          0.00044721359549995795,
          0.00044721359549995795,
          0.00044721359549995795,
          0.00044721359549995795,
          0.00044721359549995795,
          0.00044721359549995795,
          0.00044721359549995795,
          0.00044721359549995795,
          0.00044721359549995795,
          0.00044721359549995795,
          0.00044721359549995795,
          0.00044721359549995795,
          0.00044721359549995795,
          0.00044721359549995795,
          0.00044721359549995795,
          0.00044721359549995795,
          0.00044721359549995795,
          0.00044721359549995795,
          0.00044721359549995795,
          0.00044721359549995795,
          0.00044721359549995795,
          0.00044721359549995795,
          0.00044721359549995795,
          0.00044721359549995795,
          0.00044721359549995795,
          0.00044721359549995795,
          0.00044721359549995795,
          0.00044721359549995795,
          0.00044721359549995795,
          0.00044721359549995795,
          0.00044721359549995795,
          0.00044721359549995795,
          0.00044721359549995795,
          0.00044721359549995795,
          0.00044721359549995795,
          0.00044721359549995795,
          0.00044721359549995795,
          0.00044721359549995795,
          0.00044721359549995795,
          0.00044721359549995795,
          0.00044721359549995795,
          0.00044721359549995795,
          0.00044721359549995795,
          0.00044721359549995795,
          0.00044721359549995795,
          0.00044721359549995795,
          0.00044721359549995795,
          0.00044721359549995795,
          0.00044721359549995795,
          0.00044721359549995795,
          0.00044721359549995795,
          0.00044721359549995795,
          0.00044721359549995795,
          0.00044721359549995795,
          0.00044721359549995795,
          0.00044721359549995795,
          0.00044721359549995795,
          0.00044721359549995795,
          0.00044721359549995795,
          0.00044721359549995795,
          0.00044721359549995795,
          0.00044721359549995795,
          0.00044721359549995795,
          0.00044721359549995795,
          0.00044721359549995795,
          0.00044721359549995795,
          0.00044721359549995795,
          0.00044721359549995795,
          0.00044721359549995795,
          0.00044721359549995795,
          0.00044721359549995795,
          0.00044721359549995795,
          0.00044721359549995795,
          0.00044721359549995795,
          0.00044721359549995795,
          0.00044721359549995795,
          0.00044721359549995795,
          0.00044721359549995795,
          0.00044721359549995795,
          0.00044721359549995795,
          0.00044721359549995795,
          0.00044721359549995795,
          0.00044721359549995795,
          0.00044721359549995795,
          0.00044721359549995795
         ]
        }
       ],
       "layout": {
        "font": {
         "family": "CMU Serif",
         "size": 18
        },
        "height": 500,
        "legend": {
         "bgcolor": "rgba(255,255,255,1.0)",
         "bordercolor": "black",
         "borderwidth": 1,
         "font": {
          "size": 16
         },
         "x": 0.4,
         "xanchor": "center",
         "y": 0.8,
         "yanchor": "middle"
        },
        "margin": {
         "b": 80,
         "l": 80,
         "r": 20,
         "t": 40
        },
        "shapes": [
         {
          "layer": "below",
          "line": {
           "color": "limegreen",
           "dash": "dot",
           "width": 2
          },
          "type": "line",
          "x0": 1,
          "x1": 1,
          "y0": 0.000008167051073249027,
          "y1": 4.752390793797885
         },
         {
          "layer": "below",
          "line": {
           "color": "limegreen",
           "dash": "dot",
           "width": 2
          },
          "type": "line",
          "x0": 100,
          "x1": 100,
          "y0": 0.000008167051073249027,
          "y1": 4.752390793797885
         }
        ],
        "template": {
         "layout": {
          "font": {
           "family": "CMU Serif",
           "size": 18
          },
          "height": 500,
          "legend": {
           "bordercolor": "black",
           "borderwidth": 1,
           "font": {
            "family": "CMU Serif",
            "size": 16
           }
          },
          "margin": {
           "b": 80,
           "l": 80,
           "r": 20,
           "t": 50
          },
          "title": {
           "font": {
            "family": "CMU Serif",
            "size": 22
           }
          },
          "width": 900,
          "xaxis": {
           "tickfont": {
            "family": "CMU Serif",
            "size": 16
           },
           "title": {
            "font": {
             "family": "CMU Serif",
             "size": 20
            }
           }
          },
          "yaxis": {
           "tickfont": {
            "family": "CMU Serif",
            "size": 16
           },
           "title": {
            "font": {
             "family": "CMU Serif",
             "size": 20
            }
           }
          }
         }
        },
        "width": 800,
        "xaxis": {
         "mirror": true,
         "range": [
          -0.999995657033466,
          4.001884143874552
         ],
         "showline": true,
         "ticks": "outside",
         "ticktext": [
          "10<sup>−1</sup>",
          "10<sup>0</sup>",
          "10<sup>1</sup>",
          "10<sup>2</sup>",
          "10<sup>3</sup>",
          "10<sup>4</sup>",
          "10<sup>5</sup>"
         ],
         "tickvals": {
          "bdata": "mpmZmZmZuT8AAAAAAADwPwAAAAAAACRAAAAAAAAAWUAAAAAAAECPQAAAAAAAiMNAAAAAAABq+EA=",
          "dtype": "f8"
         },
         "title": {
          "standoff": 0,
          "text": "Sample Duration (s)"
         },
         "type": "log"
        },
        "yaxis": {
         "mirror": true,
         "range": [
          -4,
          -1
         ],
         "showline": true,
         "ticks": "outside",
         "ticktext": [
          "10<sup>−4</sup>",
          "10<sup>−3</sup>",
          "10<sup>−2</sup>",
          "10<sup>−1</sup>"
         ],
         "tickvals": {
          "bdata": "LUMc6+I2Gj/8qfHSTWJQP3sUrkfheoQ/mpmZmZmZuT8=",
          "dtype": "f8"
         },
         "title": {
          "standoff": 4,
          "text": "Amplitude Uncertainty (m)"
         },
         "type": "log"
        }
       }
      }
     },
     "metadata": {},
     "output_type": "display_data"
    },
    {
     "name": "stdout",
     "output_type": "stream",
     "text": [
      "[-5. -4. -3. -2. -1.  0.  1.]\n"
     ]
    },
    {
     "data": {
      "application/vnd.plotly.v1+json": {
       "config": {
        "plotlyServerURL": "https://plot.ly"
       },
       "data": [
        {
         "line": {
          "color": "black",
          "width": 2
         },
         "mode": "lines",
         "name": "Simulation",
         "opacity": 0.8,
         "type": "scatter",
         "x": {
          "bdata": "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",
          "dtype": "f8"
         },
         "y": [
          1.1482956941404703,
          1.03953517090361,
          0.9224279299280836,
          0.8182119310342888,
          0.7254991813710635,
          0.6430254849692225,
          0.5696768304259091,
          0.504449273019041,
          0.4464555573116889,
          0.3949010546002288,
          0.3490830971153877,
          0.3083701481076291,
          0.272204597057601,
          0.24008557431826164,
          0.21156906044404072,
          0.18625977617854717,
          0.16271660641078428,
          0.14287632715731446,
          0.12529242913355612,
          0.10971583817886843,
          0.09592502002178593,
          0.08372294783630298,
          0.07293414335855264,
          0.06340167664159312,
          0.054138308785457535,
          0.04756687259277974,
          0.041030237705082254,
          0.03527968189882838,
          0.029496277827162017,
          0.02509384070732468,
          0.02124425223663743,
          0.017887866213116558,
          0.014971053153538022,
          0.012447615191357784,
          0.010848284434167518,
          0.008967435301711322,
          0.006871839980210003,
          0.005586263374321945,
          0.004557286426651847,
          0.00401195013371996,
          0.003226665419924351,
          0.002816887715514082,
          0.002790446918051851,
          0.0024252677350545394,
          0.0024199576007223503,
          0.0024699470542892507,
          0.002536903607384121,
          0.00259752717789497,
          0.0028664646384436022,
          0.0026685890770009033,
          0.002748076704903276,
          0.0027545382991995917,
          0.0025047419961390775,
          0.0024680104492631975,
          0.002363735545937284,
          0.002293003420515977,
          0.0021440384091997314,
          0.0019528615762506008,
          0.0018177441005413435,
          0.001638435944531943,
          0.0014997553225878889,
          0.0013766068396571561,
          0.00127627236630618,
          0.0013726645262679897,
          0.0012636363071363954,
          0.001289196147814394,
          0.0013810837690500638,
          0.0011975293739010494,
          0.0012188859470999255,
          0.0010755289202558124,
          0.0010021655211674735,
          0.0009731872669640829,
          0.000892392241248171,
          0.000911864374323721,
          0.0009191508919318724,
          0.0009575039006964618,
          0.0008764063224519741,
          0.0008234138151800533,
          0.0007665088309033939,
          0.0007055373626324933,
          0.0006688508385251599,
          0.0006932918586583721,
          0.0006964809259320446,
          0.0006458247539940532,
          0.0006367106459671864,
          0.0005650097196845764,
          0.0005965955779267416,
          0.0005766032817521653,
          0.0005391945757424266,
          0.0005082981456683989,
          0.0004934542363826086,
          0.0004590235097625708,
          0.0004399700638526805,
          0.00044484409411488956,
          0.0004286871393017425,
          0.0004340828549995725,
          0.0004077773374336105,
          0.0003857216930188172,
          0.0003666166537343356,
          0.0003450012693612289,
          0.0003476868894551435,
          0.00035570849785759325,
          0.0003166982572010044,
          0.00028591560348998257,
          0.00029327036187028297,
          0.0002907957101045457,
          0.0002737010738055689,
          0.0002528704360531336,
          0.00025880625041648365,
          0.00023692911955496527,
          0.00021548957972016144,
          0.00023189158598379894,
          0.00021198805780950044,
          0.0002118764962748119,
          0.0002013802354111023,
          0.0001989548766598614,
          0.0001843747859137534,
          0.0001753534382716697,
          0.00017397904957223423,
          0.00016693676821276487,
          0.0001560280527389103,
          0.00015636012040682847,
          0.0001429517345979955,
          0.00014237738948180996,
          0.00013871210953995576,
          0.00013562764919736498,
          0.00012538362406044732,
          0.00012409592110724615,
          0.0001169368037500338,
          0.00012109939040477594,
          0.00011646188010958763,
          0.00010453695785883496,
          0.00010963141408157565,
          0.0001006390978232934,
          0.0001051596924583038,
          0.0000897633103220657,
          0.00008581099477824291,
          0.00008743881795350283,
          0.00008747946422748852,
          0.00007666044832487606,
          0.00007844289108549625,
          0.00008259702965387415,
          0.00007622861841472748,
          0.00007582121862706832,
          0.00007146670551713417,
          0.00006753388021945393,
          0.00006205852145961906,
          0.00006732317349440999,
          0.00005382029810424736,
          0.00005503989354872122,
          0.00005606122779346803,
          0.00005774613584771986,
          0.00005220027864000671,
          0.00005218645804234124,
          0.00004592328100202522,
          0.00004741888012539031,
          0.000044382596156474524,
          0.000044693955708473156,
          0.000043834950240526484,
          0.000043238009066195164,
          0.00004178887658744273,
          0.0000414632322751512,
          0.00003987942360387077,
          0.000034988187165451646,
          0.000040019719256537444,
          0.00003690434606651405,
          0.000034548752854302054,
          0.00003168839079883408,
          0.00003562328802263221,
          0.000034149740972383604,
          0.000029753066943663257,
          0.000029935129723606786,
          0.00003073160138302724,
          0.000029264017251862055,
          0.000028834727394388397,
          0.000027911929174127537,
          0.0000258394923489352,
          0.000026992780068513644,
          0.000027354444269963506,
          0.00002492117030377789,
          0.000026111691979674866,
          0.000025264845033904332,
          0.00002570265384465625,
          0.000025341483415663392,
          0.000024075449231227395,
          0.000022872328856949502,
          0.000022495591819860222,
          0.00002280965457828045,
          0.00002482649662405578,
          0.000022195399770491288,
          0.000021246423339574316,
          0.00002154638337756892,
          0.000022472682759040197,
          0.000021765147571155365,
          0.000022203330239858765,
          0.000021889598493331893,
          0.0000229741460943921,
          0.00002153512602913966,
          0.00002182967611347084,
          0.00002054401266172203,
          0.000022160540337186396,
          0.000022004480272128875,
          0.00002240459388681024,
          0.000022703426497737307,
          0.000021894957100712284,
          0.00002174049875757337,
          0.000022000503302663465,
          0.00002376638820833375,
          0.000022858147132253572,
          0.000023921133985944874,
          0.000022836420255104343,
          0.000024703288753857787,
          0.000027236064052841642,
          0.000023303377141345874,
          0.000024450953722475653,
          0.000026163348491562552,
          0.000025606309774499802,
          0.000025467532419922642,
          0.00002613469378351017,
          0.000027312656724181863,
          0.00002809907775272189,
          0.000028384477116194756,
          0.00002618581039138343,
          0.000028179796713642686,
          0.000027317984033835993,
          0.00003105704574922153,
          0.000033192763692098374,
          0.000033321821855267355,
          0.00003106063766057089,
          0.000031415703187739486,
          0.00003413322450313228,
          0.00003354352805114282,
          0.000036389367929119436,
          0.00003584764101690484,
          0.00003875507232605793,
          0.00003665508706279269,
          0.00003755840956700824,
          0.00003980219597281446,
          0.0000396129524919899,
          0.000038697947896404414,
          0.00003850964274697176,
          0.00004296329292976588,
          0.00004741281559239633,
          0.00004385106794133958,
          0.00004292629590190328,
          0.00004189004894803961,
          0.0000477492566649072,
          0.000044785331441575234,
          0.000045497816905765873,
          0.0000451754860096471,
          0.000047700829825077184,
          0.000052257904631654015,
          0.000051611086576751544,
          0.000050719866258286396,
          0.00005284770041327587,
          0.00005235612644873449,
          0.000057305099494310266,
          0.000052018253849977865,
          0.00005552912781070524,
          0.0000577865112013576,
          0.00006151128386489543,
          0.00005747124662406547,
          0.00006146056766647082,
          0.00017307163368534347,
          0.00006372525289295443,
          0.00006621562500504056,
          0.00006113939532457117,
          0.0000664604900265162,
          0.00006929999336149473,
          0.00007346061917505115,
          0.00006989301313128559,
          0.00007231317517243072,
          0.0000684648640177599,
          0.00006915212363110053,
          0.00007890812810039452,
          0.00007033891327577848,
          0.00008004844258246081,
          0.00007214808244329429,
          0.00007921711900749594,
          0.00008525596417305044,
          0.00008491666451144177,
          0.00008863563983276206,
          0.00008840277936143061,
          0.00009094165243447589,
          0.00008840662496262329,
          0.00008803212079354007,
          0.00009456937009380838,
          0.00009913700162041552,
          0.00009103362739082543,
          0.00009912538125361689,
          0.00009647381291244462,
          0.00010169022586154383,
          0.00010140118849548959,
          0.0001034299200674451,
          0.00010855427522245719,
          0.00010125528482075305,
          0.00010983435507323026,
          0.00011430932186949267,
          0.00011333417128906053,
          0.00011110365927423179
         ]
        },
        {
         "line": {
          "color": "blue",
          "dash": "dash",
          "width": 2
         },
         "mode": "lines",
         "name": "Theory Damped",
         "type": "scatter",
         "x": {
          "bdata": "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",
          "dtype": "f8"
         },
         "y": [
          0.015498288502028721,
          0.014915384112758327,
          0.014352512374741546,
          0.013809525102023521,
          0.013288917251227786,
          0.012786906768623908,
          0.01230407517612067,
          0.011839393424750516,
          0.011392195567833831,
          0.010962293613174651,
          0.010548762047733922,
          0.010150453374597,
          0.009767081846851896,
          0.009398711862287636,
          0.009043922109561828,
          0.008702632455490232,
          0.008374131244003699,
          0.008058155590157011,
          0.007753994978801223,
          0.007461455935338436,
          0.007179881125389523,
          0.006908973734228003,
          0.0066483056642875375,
          0.006397448563771172,
          0.006156073928889996,
          0.0059238351538446745,
          0.005700362245962747,
          0.005485323927172213,
          0.005278414874014692,
          0.005079319454783221,
          0.004887751705628254,
          0.0047034155603868045,
          0.0045260399246568744,
          0.004355363224317459,
          0.004191135014166765,
          0.004033114388807511,
          0.0038810576551159045,
          0.0037347466348465435,
          0.003593962619172059,
          0.0034584952649262275,
          0.0033281464854840632,
          0.003202720420487146,
          0.0030820316539891595,
          0.00296590151601879,
          0.002854158586902205,
          0.002746636255890607,
          0.0026431757807842383,
          0.002543623056372928,
          0.0024478309729317116,
          0.0023556571866920105,
          0.00226696492743564,
          0.0021816230046262596,
          0.0020995047782595105,
          0.002020488429011189,
          0.0019444568417283908,
          0.0018712971844704678,
          0.001800901014594602,
          0.0017331639973345136,
          0.001667985697601723,
          0.0016052693915488514,
          0.0015449220980229242,
          0.0014868543873374307,
          0.001430980132146146,
          0.001377216471690181,
          0.0013254836786683833,
          0.0012757050737851425,
          0.0012278068252314222,
          0.00118171791472541,
          0.0011373699947529873,
          0.001094697314398554,
          0.0010536365995467934,
          0.001014126959889994,
          0.0009761098112682075,
          0.0009395287846225191,
          0.0009043296369332482,
          0.0008704601716724809,
          0.0008378701710931876,
          0.0008065113092767299,
          0.0007763370872431484,
          0.000747302763343006,
          0.0007193652852648773,
          0.0006924832266650932,
          0.0006666167273523746,
          0.0006417274331478763,
          0.0006177784374078579,
          0.0005947342293421122,
          0.0005725606387612886,
          0.0005512247869574911,
          0.0005306950370595616,
          0.0005109409478746543,
          0.0004919332279252927,
          0.0004736436929734915,
          0.00045604522337492167,
          0.00043911172425246784,
          0.0004228180869439602,
          0.00040714015131925363,
          0.0003920546704156337,
          0.0003775392757559739,
          0.000363572444164183,
          0.00035013346594831653,
          0.00033720241406502363,
          0.0003247601147326528,
          0.00031278811886306727,
          0.00030126867480993497,
          0.00029018470195648374,
          0.00027951976547098764,
          0.0002692580519022357,
          0.00025938434572507247,
          0.0002498840068174259,
          0.00024074294872334,
          0.00023194761778072085,
          0.0002234849730315731,
          0.00021534246688572454,
          0.00020750802652159478,
          0.00019997003598878723,
          0.00019271731899112214,
          0.00018573912231918257,
          0.00017902509991522703,
          0.00017256529753399585,
          0.00016635013799739628,
          0.00016037040699632823,
          0.00015461723944057215,
          0.00014908210632196103,
          0.00014375680207920414,
          0.00013863343244274075,
          0.0001337044027407695,
          0.00012896240665336136,
          0.00012440041539200347,
          0.00012001166729490247,
          0.00011578965781741584,
          0.00011172812990638593,
          0.00010782106474276693,
          0.00010406267283913687,
          0.0001004473854788627,
          0.00009696984648507672,
          0.00009362490430658321,
          0.00009040760440945546,
          0.00008731318196346248,
          0.00008433705481238868,
          0.00008147481671812714,
          0.00007872223086865806,
          0.00007607522364087133,
          0.00007352987860878502,
          0.00007108243078896686,
          0.00006872926111466597,
          0.00006646689113096315,
          0.00006429197790333742,
          0.00006220130913248951,
          0.00006019179846862452,
          0.00005826048101862837,
          0.000056404509039942255,
          0.000054621147815257204,
          0.00005290777170237556,
          0.00005126186035395623,
          0.00004968099510206085,
          0.00004816285550273704,
          0.000046705216036110795,
          0.0000453059429576992,
          0.00004396299129690343,
          0.000042674401998854166,
          0.00004143829920598937,
          0.00004025288767593386,
          0.00003911645033241579,
          0.00003802734594610888,
          0.00003698400694239958,
          0.00003598493733317127,
          0.000035028710769743454,
          0.000034113968714111473,
          0.00003323941872557956,
          0.00003240383285977121,
          0.00003160604617681379,
          0.00003084495535521926,
          0.00003011951740760696,
          0.00002942874849391507,
          0.000028771722827106617,
          0.00002814757166557274,
          0.00002755548238543829,
          0.00002699469762476301,
          0.000026464514490164213,
          0.000025964283814639997,
          0.000025493409453304146,
          0.000025051347601322727,
          0.000024637606115534134,
          0.000024251743818008067,
          0.000023893369756134063,
          0.00002356214238971611,
          0.00002325776867099523,
          0.00002298000297856486,
          0.00002272864586085646,
          0.000022503542539381782,
          0.000022304581116414556,
          0.000022131690426556163,
          0.000021984837467039433,
          0.00002186402433819413,
          0.000021769284623885598,
          0.00002170067914276966,
          0.000021658291005880565,
          0.000021642219925547158,
          0.00002165257573621233,
          0.000021689471110772774,
          0.000021753013487871342,
          0.000021843296267247613,
          0.000021960389382401397,
          0.000022104329422286003,
          0.000022275109545212043,
          0.000022472669505756452,
          0.000022696886194485722,
          0.000022947565163839135,
          0.000023224433672584165,
          0.000023527135815136193,
          0.000023855230299180626,
          0.000024208191384524056,
          0.000024585413389618716,
          0.000024986219006356332,
          0.000025409871442297287,
          0.000025855590145107135,
          0.000026322569578510628,
          0.000026810000242404244,
          0.0000273170908964163,
          0.000027843090790286385,
          0.000028387310653595456,
          0.000028949141266970893,
          0.000028775464514422957,
          0.000029320152386007554,
          0.00002987891224763519,
          0.000030451327351450092,
          0.000031037071116737744,
          0.00003163590507462474,
          0.000032247674105117,
          0.000032872299601762744,
          0.00003350977125944738,
          0.00003416013816998462,
          0.000034823499839724984,
          0.00003549999763062817,
          0.00003618980699080502,
          0.00003689313070129977,
          0.000037610193238411,
          0.000038341236245902565,
          0.000038478978751466016,
          0.00003920321083744936,
          0.000040974514330791415,
          0.00004141047457018266,
          0.000042215446341350295,
          0.00004303606718806195,
          0.00004387264066313199,
          0.00004472547653076194,
          0.00004559489074450787,
          0.000046481205487152926,
          0.00004738474924819768,
          0.000048305856923748776,
          0.000049244869929705133,
          0.00005020213632305608,
          0.000051178010928480855,
          0.00005217285546881075,
          0.000053187038698663087,
          0.000054220936540948796,
          0.0000547546145464885,
          0.00005579846628182217,
          0.000057843828556223626,
          0.00005856145125954248,
          0.00005969982180207317,
          0.00006086032102250085,
          0.00006204337907811363,
          0.00006324943448798665,
          0.0000644789342955263,
          0.00006573233423417346,
          0.00006701009889632862,
          0.0000678431973609185,
          0.0000700206611781269,
          0.0000713971244214918,
          0.00007237441642954868,
          0.0000737812959027212,
          0.0000752155235736366,
          0.00007667763106133825,
          0.00007775682253499562,
          0.00007925200361314756,
          0.00008161158505511052,
          0.00008281585750007955,
          0.00008442570716406219,
          0.00008606685054423468,
          0.00008735861895020595,
          0.00008978623042820535,
          0.0000915452947013,
          0.00009295670629743613,
          0.0000947636829673053,
          0.00009624658443484535,
          0.00009881336502549089,
          0.000100747450616573,
          0.00010234974080674347,
          0.00010400287362609175,
          0.00010668233971137724,
          0.0001087687833705985,
          0.00011023399316037238,
          0.0001123645059403034,
          0.00011519346781621442,
          0.00011682325274416444,
          0.00011908251049005067,
          0.00012201081864439181,
          0.00012379584936184738,
          0.0001267657888288134
         ]
        }
       ],
       "layout": {
        "font": {
         "family": "CMU Serif",
         "size": 18
        },
        "height": 500,
        "legend": {
         "bgcolor": "rgba(255,255,255,1.0)",
         "bordercolor": "black",
         "borderwidth": 1,
         "font": {
          "size": 16
         },
         "x": 0.4,
         "xanchor": "center",
         "y": 0.8,
         "yanchor": "middle"
        },
        "margin": {
         "b": 80,
         "l": 80,
         "r": 20,
         "t": 40
        },
        "shapes": [
         {
          "layer": "below",
          "line": {
           "color": "limegreen",
           "dash": "dot",
           "width": 2
          },
          "type": "line",
          "x0": 1,
          "x1": 1,
          "y0": 2.054401266172203e-7,
          "y1": 114.82956941404703
         },
         {
          "layer": "below",
          "line": {
           "color": "limegreen",
           "dash": "dot",
           "width": 2
          },
          "type": "line",
          "x0": 100,
          "x1": 100,
          "y0": 2.054401266172203e-7,
          "y1": 114.82956941404703
         }
        ],
        "template": {
         "layout": {
          "font": {
           "family": "CMU Serif",
           "size": 18
          },
          "height": 500,
          "legend": {
           "bordercolor": "black",
           "borderwidth": 1,
           "font": {
            "family": "CMU Serif",
            "size": 16
           }
          },
          "margin": {
           "b": 80,
           "l": 80,
           "r": 20,
           "t": 50
          },
          "title": {
           "font": {
            "family": "CMU Serif",
            "size": 22
           }
          },
          "width": 900,
          "xaxis": {
           "tickfont": {
            "family": "CMU Serif",
            "size": 16
           },
           "title": {
            "font": {
             "family": "CMU Serif",
             "size": 20
            }
           }
          },
          "yaxis": {
           "tickfont": {
            "family": "CMU Serif",
            "size": 16
           },
           "title": {
            "font": {
             "family": "CMU Serif",
             "size": 20
            }
           }
          }
         }
        },
        "width": 800,
        "xaxis": {
         "mirror": true,
         "range": [
          -0.999995657033466,
          4.001884143874552
         ],
         "showline": true,
         "ticks": "outside",
         "ticktext": [
          "10<sup>−1</sup>",
          "10<sup>0</sup>",
          "10<sup>1</sup>",
          "10<sup>2</sup>",
          "10<sup>3</sup>",
          "10<sup>4</sup>",
          "10<sup>5</sup>"
         ],
         "tickvals": {
          "bdata": "mpmZmZmZuT8AAAAAAADwPwAAAAAAACRAAAAAAAAAWUAAAAAAAECPQAAAAAAAiMNAAAAAAABq+EA=",
          "dtype": "f8"
         },
         "title": {
          "standoff": 0,
          "text": "Sample Duration (s)"
         },
         "type": "log"
        },
        "yaxis": {
         "mirror": true,
         "range": [
          -5,
          1
         ],
         "showline": true,
         "ticks": "outside",
         "ticktext": [
          "10<sup>−5</sup>",
          "10<sup>−4</sup>",
          "10<sup>−3</sup>",
          "10<sup>−2</sup>",
          "10<sup>−1</sup>",
          "10<sup>0</sup>",
          "10<sup>1</sup>"
         ],
         "tickvals": {
          "bdata": "8WjjiLX45D4tQxzr4jYaP/yp8dJNYlA/exSuR+F6hD+amZmZmZm5PwAAAAAAAPA/AAAAAAAAJEA=",
          "dtype": "f8"
         },
         "title": {
          "standoff": 4,
          "text": "Damping Rate Uncertainty (1/s)"
         },
         "type": "log"
        }
       }
      }
     },
     "metadata": {},
     "output_type": "display_data"
    },
    {
     "name": "stdout",
     "output_type": "stream",
     "text": [
      "[-4. -3. -2. -1.  0.]\n"
     ]
    },
    {
     "data": {
      "application/vnd.plotly.v1+json": {
       "config": {
        "plotlyServerURL": "https://plot.ly"
       },
       "data": [
        {
         "line": {
          "color": "black",
          "width": 2
         },
         "mode": "lines",
         "name": "Simulation",
         "opacity": 0.8,
         "type": "scatter",
         "x": {
          "bdata": "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",
          "dtype": "f8"
         },
         "y": [
          0.20049422444329765,
          0.18567439262653307,
          0.16456846260468,
          0.14622613811147217,
          0.13014458713608382,
          0.11597170343029053,
          0.10344152735780388,
          0.09233832773830138,
          0.08248321343841022,
          0.07372463909471158,
          0.06593340637940853,
          0.05899668004650519,
          0.05281696493687567,
          0.047308361619892256,
          0.04239552332165487,
          0.03801229128643475,
          0.03423088694377149,
          0.030720658732159054,
          0.027586307492975602,
          0.024786455735205146,
          0.02228446767190026,
          0.0200477882652272,
          0.01804762324429166,
          0.016257909705595645,
          0.014712035217329953,
          0.013221725592806354,
          0.011936535112248757,
          0.010784472896067194,
          0.009802718857281206,
          0.008872370544669194,
          0.008035953440127678,
          0.007283760362367541,
          0.006606366682866301,
          0.005995868004771164,
          0.005416671311804784,
          0.0049241564272241925,
          0.004498928169497525,
          0.004092357139583853,
          0.003724121567978981,
          0.003449134999778305,
          0.003086998491091443,
          0.0028613758973556913,
          0.002572038879547986,
          0.0023774973028554895,
          0.0021683876492938053,
          0.0019785483554079146,
          0.0018063958588856737,
          0.00165063806497631,
          0.001472291056220318,
          0.0013966869109049683,
          0.0013221544146353496,
          0.0011451650801867733,
          0.0011282528539543828,
          0.001023969047288904,
          0.0009700521284854656,
          0.0009916250631332596,
          0.0009169584450817802,
          0.000895968645966388,
          0.0009689850996979213,
          0.0009071852863824632,
          0.000997958474049087,
          0.0010123390593096725,
          0.0009505508575214206,
          0.0010154725009245858,
          0.0009860457286967465,
          0.0009671376978635819,
          0.000958147406966903,
          0.0008928379586116487,
          0.0008800549728122233,
          0.0008818369268397406,
          0.0009145278065319213,
          0.0008866504956844771,
          0.0009538176358724604,
          0.0008934039523036284,
          0.0008821492010814114,
          0.0009140708715688259,
          0.0008663815864539509,
          0.0008846923587228245,
          0.0009023180765705697,
          0.0009536548576857985,
          0.0009370754694990303,
          0.0009007008604398927,
          0.000857121787872578,
          0.0008531759800081062,
          0.000900886353352868,
          0.0008960713425289536,
          0.0008970630185670121,
          0.0008247444477294528,
          0.0008496472415661211,
          0.0009040806453315703,
          0.0009175287404680311,
          0.0008926582665706045,
          0.0008891223478901171,
          0.0009353144842593935,
          0.0009216988076756765,
          0.00090905674968954,
          0.0009638979849589576,
          0.0009254845352694915,
          0.0009166248855928705,
          0.0009093651803354615,
          0.0009149421685706956,
          0.000874415562933256,
          0.0009878497280055181,
          0.0010092618376184891,
          0.0009756284609559711,
          0.0009140369790176557,
          0.0008867159311208893,
          0.0009346927462694712,
          0.0009237606587050847,
          0.0009179796963769231,
          0.0009458862355792585,
          0.0009133048878015383,
          0.0009196646309645908,
          0.0009616918388148705,
          0.0009671539016624268,
          0.0008798722293862668,
          0.0009967294517771532,
          0.0009409615590413438,
          0.0009618126895107682,
          0.0009429290462596256,
          0.0009346447878181767,
          0.0009760826120001023,
          0.0009497619671590471,
          0.0008905116027615511,
          0.0008932934325326884,
          0.0009399333463401019,
          0.0009335312608176076,
          0.0008961930074562599,
          0.0008880904268368136,
          0.0009253899910309652,
          0.0008966664203474455,
          0.0008671420468752267,
          0.0009387628455936122,
          0.0008964082924677818,
          0.0009084705417494303,
          0.0009643732354233899,
          0.0009379376808360474,
          0.0009054575233843213,
          0.0008806368680155579,
          0.0009240708247940488,
          0.0008901861399866219,
          0.0010093163009486147,
          0.0009186406205929611,
          0.0009108817679691145,
          0.0008932906194659926,
          0.0009831571797778889,
          0.0009275496295012679,
          0.0009602696453601177,
          0.0009620220842321062,
          0.0009753193617223641,
          0.0009432766812389827,
          0.0010356409788998652,
          0.000989695909054597,
          0.0009542779496886305,
          0.0009655916906222553,
          0.0010370313423557684,
          0.0010554730579152155,
          0.0010139291890078684,
          0.001010850027169091,
          0.0010171393148818732,
          0.001058154405390748,
          0.0010245803438051985,
          0.0010322052059159102,
          0.0010262025713240527,
          0.001049342726817972,
          0.0009667651891996074,
          0.0010114533457717925,
          0.0010134758154386175,
          0.0010810161709251418,
          0.0010352167790618225,
          0.001041194181038641,
          0.0010509030675849974,
          0.0011002339436198888,
          0.001065603999488766,
          0.0010539133221586568,
          0.0011111165618103607,
          0.0010923367779643726,
          0.0011627558708591885,
          0.0011180603312284493,
          0.0010951453743619595,
          0.0010342202102193627,
          0.0011316758397552989,
          0.0011367771871814,
          0.0010932931365694389,
          0.001141900722053738,
          0.0010853941532720823,
          0.001142507473397518,
          0.0011502076438518487,
          0.0012368343123127573,
          0.0012258127039191044,
          0.0011945353802523034,
          0.0012435608753717574,
          0.0013409121415881562,
          0.00126863198075547,
          0.001343270748930786,
          0.0013759125519073752,
          0.0013060960969343727,
          0.0012771773486663573,
          0.0013411079203294336,
          0.0013063595298051774,
          0.0014620630466437637,
          0.0014244716856727168,
          0.0014922116159143994,
          0.0014777208915964176,
          0.0015141540224041779,
          0.0016103286970496889,
          0.0016124724193261062,
          0.0014794140594677403,
          0.0015572427751092196,
          0.0015680599412474158,
          0.0017229629600215692,
          0.0015212003605731966,
          0.001768861806250902,
          0.001763071318359681,
          0.0017789256479888147,
          0.0017764554159199627,
          0.0017227133723253267,
          0.0018837355194828735,
          0.001911312905123743,
          0.0019969473818527905,
          0.0031747554376117823,
          0.0020798020316883372,
          0.0021159397830522596,
          0.002107563061204745,
          0.002233816475441517,
          0.002189875144499802,
          0.0021900990868732517,
          0.0023881521032355856,
          0.0022389411604233846,
          0.0023230926234123067,
          0.0024340165369471766,
          0.0022995396133710655,
          0.0023805048513847013,
          0.0024440023274856473,
          0.0023676859491899727,
          0.0024318859581957137,
          0.0026150648123605628,
          0.0026747053752182465,
          0.0028645167301967317,
          0.0028267701403103325,
          0.0029373936167368655,
          0.0031038518831930447,
          0.002916515749522979,
          0.003223466961231198,
          0.0029641123181912746,
          0.0030486825234657513,
          0.0034729930111558594,
          0.003374785315680085,
          0.0035445388179177538,
          0.0033109763209728253,
          0.0037845441120222868,
          0.003648317325126548,
          0.003774425432395277,
          0.0035857947608188665,
          0.0036731231837451995,
          0.003811756558160234,
          0.003609604374254971,
          0.003994947337329984,
          0.00444529665995589,
          0.004319125502551572,
          0.004178665236147403,
          0.004302642160919995,
          0.0048023464054083465,
          0.041271774835198546,
          0.004919822002393334,
          0.0045636518039628,
          0.004956053380608967,
          0.004777885579922424,
          0.005155171710304203,
          0.004936395710709406,
          0.004959635805955433,
          0.005180533026025379,
          0.005574274891438579,
          0.005260509029494077,
          0.005396511645315124,
          0.005316212549532823,
          0.0060752338493904766,
          0.005757760768461496,
          0.006439348682801508,
          0.006050228860291385,
          0.006594009224370168,
          0.007008755156923091,
          0.006647097148044507,
          0.006724855872811805,
          0.007112481199874525,
          0.0068692846881437605,
          0.006959439733313208,
          0.00730404938027995,
          0.007973215668409502,
          0.007938818257940117,
          0.007820688053847058,
          0.008074228548106384,
          0.008126399131068546,
          0.008117074752621906,
          0.008031341817442413,
          0.0114168599246798,
          0.00847943110719052,
          0.008711601871945807,
          0.00945341077145261,
          0.011702453062004523
         ]
        },
        {
         "line": {
          "color": "blue",
          "dash": "dash",
          "width": 2
         },
         "mode": "lines",
         "name": "Theory Damped",
         "type": "scatter",
         "x": {
          "bdata": "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",
          "dtype": "f8"
         },
         "y": [
          0.0008945793081586014,
          0.0008947215289161835,
          0.0008947454850404331,
          0.0008946812462793698,
          0.0008947402798128351,
          0.0008947269590514296,
          0.0008947288516459625,
          0.0008947241982374856,
          0.0008947139438681593,
          0.0008947362609391088,
          0.0008947706343033573,
          0.0008947713174818995,
          0.0008947621253429307,
          0.000894802121021959,
          0.0008948106420116134,
          0.0008948296384679974,
          0.0008948383622816179,
          0.0008948604303329135,
          0.0008948694820821227,
          0.0008948947900272366,
          0.0008949103913649053,
          0.0008949306941059329,
          0.0008949526471028052,
          0.0008949705248892375,
          0.0008949901081104363,
          0.000895013240388642,
          0.000895036267885804,
          0.0008950591142714908,
          0.0008950839809273195,
          0.0008951094821380565,
          0.0008951373128582081,
          0.0008951653817719916,
          0.0008951940713686664,
          0.0008952236712415949,
          0.0008952547535018902,
          0.0008952879892215983,
          0.0008953213667719307,
          0.0008953565521505345,
          0.0008953932150833463,
          0.0008954310105662043,
          0.0008954707083999309,
          0.000895511695624434,
          0.0008955541647113803,
          0.0008955982513537151,
          0.0008956442583423462,
          0.0008956919779358396,
          0.0008957417034919626,
          0.0008957932803371835,
          0.0008958469583941429,
          0.0008959027116777003,
          0.0008959605806615892,
          0.0008960207756575278,
          0.0008960833512113607,
          0.0008961483784739998,
          0.0008962159762487379,
          0.0008962862028299336,
          0.0008963591786159574,
          0.0008964350358502076,
          0.0008965138922274719,
          0.000896595823557224,
          0.0008966809575720591,
          0.0008967694510724205,
          0.000896861421889399,
          0.0008969570000134954,
          0.0008970563223802654,
          0.0008971595565518209,
          0.000897266842319563,
          0.0008973783427651772,
          0.0008974942180913951,
          0.0008976146465251944,
          0.0008977398079716931,
          0.0008978698837730052,
          0.0008980050676038211,
          0.0008981455627108543,
          0.0008982915773078595,
          0.0008984433250031507,
          0.0008986010350793638,
          0.0008987649403582979,
          0.0008989352842305145,
          0.0008991123205669222,
          0.0008992963121782475,
          0.0008994875316094864,
          0.0008996862636052643,
          0.0008998928044049295,
          0.0009001074598441075,
          0.0009003305500392915,
          0.0009005624062422529,
          0.000900803373527091,
          0.0009010538099874135,
          0.0009013140884582484,
          0.0009015845956924753,
          0.0009018657346161887,
          0.0009021579234192695,
          0.000902461596854936,
          0.0009027772071998269,
          0.0009031052240102262,
          0.0009034461357697216,
          0.0009038004501997201,
          0.0009041686949637226,
          0.0009045514186951569,
          0.0009049491915011841,
          0.0009053626062341995,
          0.0009057922790208967,
          0.0009062388504754715,
          0.0009067029864041477,
          0.0009071853790452221,
          0.0009076867480130859,
          0.0009082078413514453,
          0.0009087494367902267,
          0.0009093123428185419,
          0.0009098973999524455,
          0.0009105054820270784,
          0.0009111374975167145,
          0.0009117943909250951,
          0.0009124771442248165,
          0.0009131867783641861,
          0.0009139243548239067,
          0.0009146909772591821,
          0.0009154877931666708,
          0.0009163159956823488,
          0.0009171768253893563,
          0.000918071572247985,
          0.0009190015775769171,
          0.0009199682361307212,
          0.0009209729982607874,
          0.0009220173721567408,
          0.000923102926199762,
          0.0009242312913918529,
          0.0009254041639075757,
          0.0009266233077363254,
          0.000927890557444197,
          0.0009292078210506306,
          0.0009305770830259148,
          0.0009320004074137173,
          0.0009334799410904236,
          0.0009350179171601697,
          0.0009366166584945162,
          0.000938278581425912,
          0.0009400061995989812,
          0.0009418021279883853,
          0.0009436690870894161,
          0.0009456099072936788,
          0.0009476275334531831,
          0.0009497250296468819,
          0.0009519055841559733,
          0.0009541725146607448,
          0.0009565292736684961,
          0.0009589794541845336,
          0.0009615267956389758,
          0.0009641751900820015,
          0.0009669286886614695,
          0.0009697915083981986,
          0.000972768039273965,
          0.0009758628516496447,
          0.0009790807040307257,
          0.0009824265511995816,
          0.000985905552734634,
          0.0009895230819377701,
          0.0009932847351930534,
          0.0009971963417809498,
          0.0010012639741739443,
          0.0010054939588408135,
          0.0010098928875884414,
          0.001014467629471626,
          0.0010192253433027195,
          0.0010241734907943632,
          0.0010293198503697224,
          0.0010346725316755562,
          0.0010402399908338825,
          0.0010460310464679235,
          0.0010520548965371698,
          0.0010583211360144236,
          0.0010648397754344995,
          0.0010716212603391858,
          0.001078676491635822,
          0.0010860168468768121,
          0.0010936542024536538,
          0.001101600956681115,
          0.0011098700537235569,
          0.0011184750082853063,
          0.0011274299309486666,
          0.0011367495539952148,
          0.001146449257486515,
          0.0011565450953073386,
          0.0011670538207856564,
          0.0011779929113969077,
          0.001189380591933001,
          0.0012012358553673199,
          0.001213578480474061,
          0.001226429045062998,
          0.0012398089334698969,
          0.0012537403367011703,
          0.0012682462433744662,
          0.0012833504193343304,
          0.0012990773735682684,
          0.001315452307824258,
          0.0013325010471643283,
          0.0013502499486169807,
          0.0013687257851600749,
          0.0013879556025299157,
          0.001407966546873585,
          0.0014287856621049031,
          0.0014504396570515822,
          0.00147295464414064,
          0.0014963558534834,
          0.00152066732876977,
          0.0015459116142827402,
          0.001572109445438395,
          0.0015992794582939702,
          0.0016274379361036443,
          0.0016565986128181753,
          0.0016867725539579162,
          0.0017179681340971302,
          0.0017501911269413944,
          0.0017834449185179402,
          0.001817730846476196,
          0.0018530486594035766,
          0.0018893970802398533,
          0.0019267744484421647,
          0.0019651794077648562,
          0.0020046116015538457,
          0.00204507233619474,
          0.00203258776926079,
          0.0020716832278664097,
          0.002111634358792706,
          0.002152439817984471,
          0.0021941004804820257,
          0.002236619504760988,
          0.002280002306242542,
          0.002324256455360214,
          0.002369391519031712,
          0.0024154188655674882,
          0.0024623514521605163,
          0.002510203611591929,
          0.002558990851234032,
          0.002608729673439627,
          0.0026594374225095813,
          0.002711132160034124,
          0.0027208723145181147,
          0.0027720843416483222,
          0.0028973354253297202,
          0.0029281625576515883,
          0.002985082752519288,
          0.003043109455351263,
          0.0031022641548590813,
          0.0031625687672898095,
          0.0032240456402536184,
          0.0032867175585669086,
          0.003350607751365136,
          0.0034157399000140885,
          0.003482138146536064,
          0.0035498271023889486,
          0.0036188318575105863,
          0.003689177989584283,
          0.0037608915735050535,
          0.003833999191038886,
          0.003871735924707683,
          0.003945547388768518,
          0.0040901763421897774,
          0.004140919930174796,
          0.004221414883187443,
          0.004303474570020054,
          0.004387129407386171,
          0.0044724104032669645,
          0.004559349168404848,
          0.00464797792802047,
          0.004738329533757515,
          0.004797238491128275,
          0.004951208434221916,
          0.00504853908356565,
          0.005117644064175294,
          0.0052171254657545395,
          0.0053185406769415055,
          0.005421927288879251,
          0.0054982376498014345,
          0.005603962917747741,
          0.005770810521585134,
          0.005855965442808505,
          0.005969799004217806,
          0.006085845365519744,
          0.0061771871854782254,
          0.006348845239296193,
          0.006473229866901014,
          0.006573031737968332,
          0.00670080428363937,
          0.006805661251992276,
          0.006987160048138623,
          0.007123920551823559,
          0.00723721957771338,
          0.007354113720389701,
          0.0075435805842761754,
          0.0076911144302760776,
          0.00779472040809708,
          0.007945370411506463,
          0.008145408224123952,
          0.008260651421566862,
          0.0084204050688233,
          0.008627467724157149,
          0.008753688456651062,
          0.008963694890331582
         ]
        },
        {
         "line": {
          "color": "red",
          "dash": "dot",
          "width": 2
         },
         "mode": "lines",
         "name": "Theory CW",
         "type": "scatter",
         "x": {
          "bdata": "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",
          "dtype": "f8"
         },
         "y": [
          0.00044721359549995795,
          0.00044721359549995795,
          0.00044721359549995795,
          0.00044721359549995795,
          0.00044721359549995795,
          0.00044721359549995795,
          0.00044721359549995795,
          0.00044721359549995795,
          0.00044721359549995795,
          0.00044721359549995795,
          0.00044721359549995795,
          0.00044721359549995795,
          0.00044721359549995795,
          0.00044721359549995795,
          0.00044721359549995795,
          0.00044721359549995795,
          0.00044721359549995795,
          0.00044721359549995795,
          0.00044721359549995795,
          0.00044721359549995795,
          0.00044721359549995795,
          0.00044721359549995795,
          0.00044721359549995795,
          0.00044721359549995795,
          0.00044721359549995795,
          0.00044721359549995795,
          0.00044721359549995795,
          0.00044721359549995795,
          0.00044721359549995795,
          0.00044721359549995795,
          0.00044721359549995795,
          0.00044721359549995795,
          0.00044721359549995795,
          0.00044721359549995795,
          0.00044721359549995795,
          0.00044721359549995795,
          0.00044721359549995795,
          0.00044721359549995795,
          0.00044721359549995795,
          0.00044721359549995795,
          0.00044721359549995795,
          0.00044721359549995795,
          0.00044721359549995795,
          0.00044721359549995795,
          0.00044721359549995795,
          0.00044721359549995795,
          0.00044721359549995795,
          0.00044721359549995795,
          0.00044721359549995795,
          0.00044721359549995795,
          0.00044721359549995795,
          0.00044721359549995795,
          0.00044721359549995795,
          0.00044721359549995795,
          0.00044721359549995795,
          0.00044721359549995795,
          0.00044721359549995795,
          0.00044721359549995795,
          0.00044721359549995795,
          0.00044721359549995795,
          0.00044721359549995795,
          0.00044721359549995795,
          0.00044721359549995795,
          0.00044721359549995795,
          0.00044721359549995795,
          0.00044721359549995795,
          0.00044721359549995795,
          0.00044721359549995795,
          0.00044721359549995795,
          0.00044721359549995795,
          0.00044721359549995795,
          0.00044721359549995795,
          0.00044721359549995795,
          0.00044721359549995795,
          0.00044721359549995795,
          0.00044721359549995795,
          0.00044721359549995795,
          0.00044721359549995795,
          0.00044721359549995795,
          0.00044721359549995795,
          0.00044721359549995795,
          0.00044721359549995795,
          0.00044721359549995795,
          0.00044721359549995795,
          0.00044721359549995795,
          0.00044721359549995795,
          0.00044721359549995795,
          0.00044721359549995795,
          0.00044721359549995795,
          0.00044721359549995795,
          0.00044721359549995795,
          0.00044721359549995795,
          0.00044721359549995795,
          0.00044721359549995795,
          0.00044721359549995795,
          0.00044721359549995795,
          0.00044721359549995795,
          0.00044721359549995795,
          0.00044721359549995795,
          0.00044721359549995795,
          0.00044721359549995795,
          0.00044721359549995795,
          0.00044721359549995795,
          0.00044721359549995795,
          0.00044721359549995795,
          0.00044721359549995795,
          0.00044721359549995795,
          0.00044721359549995795,
          0.00044721359549995795,
          0.00044721359549995795,
          0.00044721359549995795,
          0.00044721359549995795,
          0.00044721359549995795,
          0.00044721359549995795,
          0.00044721359549995795,
          0.00044721359549995795,
          0.00044721359549995795,
          0.00044721359549995795,
          0.00044721359549995795,
          0.00044721359549995795,
          0.00044721359549995795,
          0.00044721359549995795,
          0.00044721359549995795,
          0.00044721359549995795,
          0.00044721359549995795,
          0.00044721359549995795,
          0.00044721359549995795,
          0.00044721359549995795,
          0.00044721359549995795,
          0.00044721359549995795,
          0.00044721359549995795,
          0.00044721359549995795,
          0.00044721359549995795,
          0.00044721359549995795,
          0.00044721359549995795,
          0.00044721359549995795,
          0.00044721359549995795,
          0.00044721359549995795,
          0.00044721359549995795,
          0.00044721359549995795,
          0.00044721359549995795,
          0.00044721359549995795,
          0.00044721359549995795,
          0.00044721359549995795,
          0.00044721359549995795,
          0.00044721359549995795,
          0.00044721359549995795,
          0.00044721359549995795,
          0.00044721359549995795,
          0.00044721359549995795,
          0.00044721359549995795,
          0.00044721359549995795,
          0.00044721359549995795,
          0.00044721359549995795,
          0.00044721359549995795,
          0.00044721359549995795,
          0.00044721359549995795,
          0.00044721359549995795,
          0.00044721359549995795,
          0.00044721359549995795,
          0.00044721359549995795,
          0.00044721359549995795,
          0.00044721359549995795,
          0.00044721359549995795,
          0.00044721359549995795,
          0.00044721359549995795,
          0.00044721359549995795,
          0.00044721359549995795,
          0.00044721359549995795,
          0.00044721359549995795,
          0.00044721359549995795,
          0.00044721359549995795,
          0.00044721359549995795,
          0.00044721359549995795,
          0.00044721359549995795,
          0.00044721359549995795,
          0.00044721359549995795,
          0.00044721359549995795,
          0.00044721359549995795,
          0.00044721359549995795,
          0.00044721359549995795,
          0.00044721359549995795,
          0.00044721359549995795,
          0.00044721359549995795,
          0.00044721359549995795,
          0.00044721359549995795,
          0.00044721359549995795,
          0.00044721359549995795,
          0.00044721359549995795,
          0.00044721359549995795,
          0.00044721359549995795,
          0.00044721359549995795,
          0.00044721359549995795,
          0.00044721359549995795,
          0.00044721359549995795,
          0.00044721359549995795,
          0.00044721359549995795,
          0.00044721359549995795,
          0.00044721359549995795,
          0.00044721359549995795,
          0.00044721359549995795,
          0.00044721359549995795,
          0.00044721359549995795,
          0.00044721359549995795,
          0.00044721359549995795,
          0.00044721359549995795,
          0.00044721359549995795,
          0.00044721359549995795,
          0.00044721359549995795,
          0.00044721359549995795,
          0.00044721359549995795,
          0.00044721359549995795,
          0.00044721359549995795,
          0.00044721359549995795,
          0.00044721359549995795,
          0.00044721359549995795,
          0.00044721359549995795,
          0.00044721359549995795,
          0.00044721359549995795,
          0.00044721359549995795,
          0.00044721359549995795,
          0.00044721359549995795,
          0.00044721359549995795,
          0.00044721359549995795,
          0.00044721359549995795,
          0.00044721359549995795,
          0.00044721359549995795,
          0.00044721359549995795,
          0.00044721359549995795,
          0.00044721359549995795,
          0.00044721359549995795,
          0.00044721359549995795,
          0.00044721359549995795,
          0.00044721359549995795,
          0.00044721359549995795,
          0.00044721359549995795,
          0.00044721359549995795,
          0.00044721359549995795,
          0.00044721359549995795,
          0.00044721359549995795,
          0.00044721359549995795,
          0.00044721359549995795,
          0.00044721359549995795,
          0.00044721359549995795,
          0.00044721359549995795,
          0.00044721359549995795,
          0.00044721359549995795,
          0.00044721359549995795,
          0.00044721359549995795,
          0.00044721359549995795,
          0.00044721359549995795,
          0.00044721359549995795,
          0.00044721359549995795,
          0.00044721359549995795,
          0.00044721359549995795,
          0.00044721359549995795,
          0.00044721359549995795,
          0.00044721359549995795,
          0.00044721359549995795,
          0.00044721359549995795,
          0.00044721359549995795,
          0.00044721359549995795,
          0.00044721359549995795,
          0.00044721359549995795,
          0.00044721359549995795,
          0.00044721359549995795,
          0.00044721359549995795,
          0.00044721359549995795,
          0.00044721359549995795,
          0.00044721359549995795,
          0.00044721359549995795,
          0.00044721359549995795,
          0.00044721359549995795,
          0.00044721359549995795,
          0.00044721359549995795,
          0.00044721359549995795,
          0.00044721359549995795,
          0.00044721359549995795,
          0.00044721359549995795,
          0.00044721359549995795,
          0.00044721359549995795,
          0.00044721359549995795,
          0.00044721359549995795,
          0.00044721359549995795,
          0.00044721359549995795,
          0.00044721359549995795,
          0.00044721359549995795,
          0.00044721359549995795,
          0.00044721359549995795,
          0.00044721359549995795,
          0.00044721359549995795,
          0.00044721359549995795,
          0.00044721359549995795,
          0.00044721359549995795,
          0.00044721359549995795,
          0.00044721359549995795,
          0.00044721359549995795,
          0.00044721359549995795,
          0.00044721359549995795,
          0.00044721359549995795
         ]
        }
       ],
       "layout": {
        "font": {
         "family": "CMU Serif",
         "size": 18
        },
        "height": 500,
        "legend": {
         "bgcolor": "rgba(255,255,255,1.0)",
         "bordercolor": "black",
         "borderwidth": 1,
         "font": {
          "size": 16
         },
         "x": 0.4,
         "xanchor": "center",
         "y": 0.8,
         "yanchor": "middle"
        },
        "margin": {
         "b": 80,
         "l": 80,
         "r": 20,
         "t": 40
        },
        "shapes": [
         {
          "layer": "below",
          "line": {
           "color": "limegreen",
           "dash": "dot",
           "width": 2
          },
          "type": "line",
          "x0": 1,
          "x1": 1,
          "y0": 0.000008247444477294528,
          "y1": 20.049422444329764
         },
         {
          "layer": "below",
          "line": {
           "color": "limegreen",
           "dash": "dot",
           "width": 2
          },
          "type": "line",
          "x0": 100,
          "x1": 100,
          "y0": 0.000008247444477294528,
          "y1": 20.049422444329764
         }
        ],
        "template": {
         "layout": {
          "font": {
           "family": "CMU Serif",
           "size": 18
          },
          "height": 500,
          "legend": {
           "bordercolor": "black",
           "borderwidth": 1,
           "font": {
            "family": "CMU Serif",
            "size": 16
           }
          },
          "margin": {
           "b": 80,
           "l": 80,
           "r": 20,
           "t": 50
          },
          "title": {
           "font": {
            "family": "CMU Serif",
            "size": 22
           }
          },
          "width": 900,
          "xaxis": {
           "tickfont": {
            "family": "CMU Serif",
            "size": 16
           },
           "title": {
            "font": {
             "family": "CMU Serif",
             "size": 20
            }
           }
          },
          "yaxis": {
           "tickfont": {
            "family": "CMU Serif",
            "size": 16
           },
           "title": {
            "font": {
             "family": "CMU Serif",
             "size": 20
            }
           }
          }
         }
        },
        "width": 800,
        "xaxis": {
         "mirror": true,
         "range": [
          -0.999995657033466,
          4.001884143874552
         ],
         "showline": true,
         "ticks": "outside",
         "ticktext": [
          "10<sup>−1</sup>",
          "10<sup>0</sup>",
          "10<sup>1</sup>",
          "10<sup>2</sup>",
          "10<sup>3</sup>",
          "10<sup>4</sup>",
          "10<sup>5</sup>"
         ],
         "tickvals": {
          "bdata": "mpmZmZmZuT8AAAAAAADwPwAAAAAAACRAAAAAAAAAWUAAAAAAAECPQAAAAAAAiMNAAAAAAABq+EA=",
          "dtype": "f8"
         },
         "title": {
          "standoff": 0,
          "text": "Sample Duration (s)"
         },
         "type": "log"
        },
        "yaxis": {
         "mirror": true,
         "range": [
          -4,
          0
         ],
         "showline": true,
         "ticks": "outside",
         "ticktext": [
          "10<sup>−4</sup>",
          "10<sup>−3</sup>",
          "10<sup>−2</sup>",
          "10<sup>−1</sup>",
          "10<sup>0</sup>"
         ],
         "tickvals": {
          "bdata": "LUMc6+I2Gj/8qfHSTWJQP3sUrkfheoQ/mpmZmZmZuT8AAAAAAADwPw==",
          "dtype": "f8"
         },
         "title": {
          "standoff": 4,
          "text": "Phase Uncertainty  (rad)"
         },
         "type": "log"
        }
       }
      }
     },
     "metadata": {},
     "output_type": "display_data"
    }
   ],
   "source": [
    "import os\n",
    "import str_utils\n",
    "\n",
    "# the chrome i installed didnt work\n",
    "# os.environ[\"CHROME_PATH\"] = \"/usr/bin/google-chrome\"  # or whatever `which google-chrome` gave\n",
    "import kaleido\n",
    "\n",
    "# chrome_path = \"/usr/bin/google-chrome\"\n",
    "# kaleido.get_chrome_sync(chrome_path)\n",
    "\n",
    "import numpy as np\n",
    "\n",
    "x_min = min(durations)\n",
    "x_max = max(durations)\n",
    "\n",
    "y_min_rounded = np.floor(np.log10(x_min))\n",
    "y_max_rounded = np.ceil(np.log10(x_max))\n",
    "# Define major tick positions\n",
    "x_range_log = [np.log10(x_min), np.log10(x_max)]\n",
    "x_major_ticks = np.arange(y_min_rounded, y_max_rounded + 1, 1)\n",
    "x_tick_labels = [str_utils.make_plotly_power_ten(int(v)) for v in x_major_ticks]\n",
    "\n",
    "\n",
    "for key in true_params:\n",
    "    fig = go.Figure()\n",
    "\n",
    "    fig.add_trace(\n",
    "        go.Scatter(\n",
    "            x=durations,\n",
    "            y=rmse_results[key],\n",
    "            mode=\"lines\",\n",
    "            name=\"Simulation\",\n",
    "            line=dict(color=\"black\", width=2),\n",
    "            opacity=0.8,\n",
    "        )\n",
    "    )\n",
    "\n",
    "    # fig.add_trace(go.Scatter(\n",
    "    #     x=durations, y=stderr_results[key],\n",
    "    #     mode=\"lines+markers\",\n",
    "    #     name=\"stderr\",\n",
    "    #     line=dict(dash=\"dot\", color=\"dimgray\"),\n",
    "    #     marker=dict(size=6, symbol=\"circle-open\")\n",
    "    # ))\n",
    "\n",
    "    fig.add_trace(\n",
    "        go.Scatter(\n",
    "            x=durations,\n",
    "            y=theory_curves[key],\n",
    "            mode=\"lines\",\n",
    "            name=\"Theory Damped\",\n",
    "            line=dict(dash=\"dash\", color=\"blue\", width=2),\n",
    "        )\n",
    "    )\n",
    "\n",
    "    if key != \"damping_rate\":\n",
    "        fig.add_trace(\n",
    "            go.Scatter(\n",
    "                x=durations,\n",
    "                y=theory_undamped_curves[key],\n",
    "                mode=\"lines\",\n",
    "                name=\"Theory CW\",\n",
    "                line=dict(dash=\"dot\", color=\"red\", width=2),\n",
    "            )\n",
    "        )\n",
    "\n",
    "    osc_period = 1 / true_params[\"frequency\"]\n",
    "    damping_time = 1 / true_params[\"damping_rate\"]\n",
    "    for vline in [osc_period, damping_time]:\n",
    "        fig.add_shape(\n",
    "            type=\"line\",\n",
    "            x0=vline,\n",
    "            x1=vline,\n",
    "            y0=min(rmse_results[key]) * 0.01,\n",
    "            y1=max(rmse_results[key]) * 100,\n",
    "            line=dict(color=\"limegreen\", dash=\"dot\", width=2),\n",
    "            layer=\"below\",\n",
    "        )\n",
    "\n",
    "    y_max = max(rmse_results[key])\n",
    "    y_min = min(rmse_results[key])\n",
    "    y_max_rounded = np.ceil(np.log10(y_max))\n",
    "    y_min_rounded = np.floor(np.log10(y_min))\n",
    "    if key == \"frequency\":\n",
    "        y_min_rounded = y_min_rounded - 1\n",
    "    y_range_log = [y_min_rounded, y_max_rounded]\n",
    "    num_decades = y_max_rounded - y_min_rounded\n",
    "    y_major_ticks = np.arange(y_min_rounded, y_max_rounded + 1, 1)\n",
    "    print(y_major_ticks)\n",
    "\n",
    "    y_tick_labels = [str_utils.make_plotly_power_ten(int(v)) for v in y_major_ticks]\n",
    "\n",
    "    key_to_title = {\n",
    "        \"frequency\": \"Frequency Uncertainty (Hz)\",\n",
    "        \"amplitude\": \"Amplitude Uncertainty (m)\",\n",
    "        \"damping_rate\": \"Damping Rate Uncertainty (1/s)\",\n",
    "        \"phase\": \"Phase Uncertainty  (rad)\",\n",
    "    }\n",
    "    fig.update_layout(\n",
    "        xaxis=dict(\n",
    "            range=x_range_log,\n",
    "            type=\"log\",\n",
    "            tickvals=10**x_major_ticks,\n",
    "            ticktext=x_tick_labels,\n",
    "            title=\"Sample Duration (s)\",\n",
    "            ticks=\"outside\",\n",
    "            showline=True,\n",
    "            mirror=True,\n",
    "            title_standoff=0,  # default is ~15–20, decrease to move label closer\n",
    "        ),\n",
    "        yaxis=dict(\n",
    "            range=y_range_log,\n",
    "            type=\"log\",\n",
    "            tickvals=10**y_major_ticks,\n",
    "            ticktext=y_tick_labels,\n",
    "            title=key_to_title[key],\n",
    "            ticks=\"outside\",\n",
    "            showline=True,\n",
    "            mirror=True,\n",
    "            title_standoff=4,  # default is ~15–20, decrease to move label closer\n",
    "        ),\n",
    "        font=dict(family=\"CMU Serif\", size=18),\n",
    "        legend=dict(\n",
    "            x=0.4,\n",
    "            y=0.8,\n",
    "            xanchor=\"center\",\n",
    "            yanchor=\"middle\",\n",
    "            bgcolor=\"rgba(255,255,255,1.0)\",  # semi-transparent white background,\n",
    "            font=dict(size=16),\n",
    "            bordercolor=\"black\",\n",
    "            borderwidth=1,\n",
    "        ),\n",
    "        width=800,\n",
    "        height=500,\n",
    "        margin=dict(l=80, r=20, t=40, b=80),\n",
    "    )\n",
    "\n",
    "    # Add minor ticks\n",
    "    # add_minor_log_ticks(fig, \"x\", (min(durations), max(durations)))\n",
    "    # add_minor_log_ticks(fig, \"y\", (min(y_major_ticks), max(y_major_ticks)))\n",
    "\n",
    "    fig.show()\n",
    "\n",
    "    # Create export directory\n",
    "    EXPORT_DIR = \"figures\"\n",
    "    os.makedirs(EXPORT_DIR, exist_ok=True)\n",
    "\n",
    "    # Define filename stem\n",
    "    filename_base = os.path.join(EXPORT_DIR, f\"uncertainty_{key}\")\n",
    "\n",
    "    # Export to SVG and PDF\n",
    "    # pio.write_image(fig, f\"{filename_base}.svg\")\n",
    "    pio.write_image(fig, f\"{filename_base}.pdf\")\n",
    "    pio.write_image(fig, f\"{filename_base}.png\")"
   ]
  }
 ],
 "metadata": {
  "kernelspec": {
   "display_name": "Python 3",
   "language": "python",
   "name": "python3"
  },
  "language_info": {
   "codemirror_mode": {
    "name": "ipython",
    "version": 3
   },
   "file_extension": ".py",
   "mimetype": "text/x-python",
   "name": "python",
   "nbconvert_exporter": "python",
   "pygments_lexer": "ipython3",
   "version": "3.13.5"
  }
 },
 "nbformat": 4,
 "nbformat_minor": 5
}
