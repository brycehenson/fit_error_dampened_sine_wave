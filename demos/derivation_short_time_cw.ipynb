{
 "cells": [
  {
   "cell_type": "code",
   "execution_count": 4,
   "id": "e8c1beff",
   "metadata": {},
   "outputs": [],
   "source": [
    "import sympy as sp\n",
    "import sym_functions\n",
    "from typing import Dict, Tuple, List\n",
    "\n",
    "# Symbols\n",
    "t = sp.symbols(\"t\", positive=True, real=True)\n",
    "T = sp.symbols(\"T\", positive=True, real=True, nonzero=True)\n",
    "A = sp.symbols(\"A\", positive=True, real=True, nonzero=True)\n",
    "N = sp.symbols(\"N\", positive=True, real=True, nonzero=True)\n",
    "sigma_m = sp.symbols(\"sigma_m\", positive=True, real=True, nonzero=True)\n",
    "omega = sp.symbols(\"omega\", real=True, positive=True, nonzero=True)\n",
    "phi = sp.symbols(\"phi\", real=True)\n",
    "\n",
    "# Model\n",
    "f = A * sp.sin(omega * t + phi)\n",
    "\n",
    "\n",
    "# Parameter list\n",
    "params = [A, omega, phi]\n",
    "param_indices = {param: i for i, param in enumerate(params)}"
   ]
  },
  {
   "cell_type": "code",
   "execution_count": null,
   "id": "ed411611",
   "metadata": {},
   "outputs": [],
   "source": []
  },
  {
   "cell_type": "code",
   "execution_count": 11,
   "id": "ba02efab",
   "metadata": {},
   "outputs": [],
   "source": [
    "def simplify_trig_identities(\n",
    "    expr: sp.Expr, phi: sp.Symbol, print_replacements: bool = True\n",
    ") -> Tuple[sp.Expr, List[sp.Expr]]:\n",
    "    \"\"\"\n",
    "    Simplifies trig identities with explicit logging via log_and_replace().\n",
    "    \"\"\"\n",
    "    replacements_log: List[sp.Expr] = []\n",
    "\n",
    "    a = sp.Wild(\"a\", exclude=[phi, sp.sin(phi), sp.cos(phi)])\n",
    "\n",
    "    def log_and_replace(matched_expr: sp.Expr, replacement: sp.Expr):\n",
    "        replacements_log.append((matched_expr, replacement))\n",
    "        return replacement\n",
    "\n",
    "    # Pattern: a * sin^2(phi) * cos^2(phi) => a * (1 - cos(4phi))/8\n",
    "    pattern = a * sp.sin(phi) ** 2 * sp.cos(phi) ** 2\n",
    "    expr = expr.replace(\n",
    "        pattern, lambda a: log_and_replace(pattern, a * (1 - sp.cos(4 * phi)) / 8)\n",
    "    )\n",
    "\n",
    "    # Pattern: a * sin(phi) * cos(phi) => a * sin(2phi)/2\n",
    "    pattern = a * sp.sin(phi) * sp.cos(phi)\n",
    "    expr = expr.replace(\n",
    "        pattern, lambda a: log_and_replace(pattern, a * sp.sin(2 * phi) / 2)\n",
    "    )\n",
    "\n",
    "    if print_replacements and replacements_log:\n",
    "        print(\"Trig identity simplifications applied to:\")\n",
    "        for old, new in replacements_log:\n",
    "            print(\"  \", old, \"→\", new)\n",
    "\n",
    "    return expr.simplify()"
   ]
  },
  {
   "cell_type": "code",
   "execution_count": 12,
   "id": "f2bb4648",
   "metadata": {},
   "outputs": [
    {
     "name": "stdout",
     "output_type": "stream",
     "text": [
      "test\n",
      "FIM[2, 0]  [phi, A]  :\n",
      "df1:   A*cos(omega*t + phi)\n",
      "df2:    sin(omega*t + phi)\n",
      "product:    A*sin(omega*t + phi)*cos(omega*t + phi)\n",
      "A*sin(2*omega*t + 2*phi)/2\n",
      "\n",
      "\n",
      "FIM[2, 1]  [phi, omega]  :\n",
      "df1:   A*cos(omega*t + phi)\n",
      "df2:    A*t*cos(omega*t + phi)\n",
      "product:    A**2*t*cos(omega*t + phi)**2\n",
      "A**2*t*cos(omega*t + phi)**2\n",
      "\n",
      "\n",
      "FIM[2, 2]  [phi, phi]  :\n",
      "df1:   A*cos(omega*t + phi)\n",
      "df2:    A*cos(omega*t + phi)\n",
      "product:    A**2*cos(omega*t + phi)**2\n",
      "A**2*cos(omega*t + phi)**2\n",
      "\n",
      "\n"
     ]
    }
   ],
   "source": [
    "print(\"test\")\n",
    "ii = 2\n",
    "for jj in range(3):\n",
    "    print(f\"FIM[{ii}, {jj}]  [{str(params[ii])}, {str(params[jj])}]  :\")\n",
    "    df1 = sp.diff(f, params[ii])\n",
    "    df2 = sp.diff(f, params[jj])\n",
    "    print(f\"df1:   {df1}\")\n",
    "    print(f\"df2:    {df2}\")\n",
    "    product = sp.expand(df1 * df2)\n",
    "    print(f\"product:    {product}\")\n",
    "    product = simplify_trig_identities(product, phi)\n",
    "    product = sp.expand(product)\n",
    "    # product=product.series(t, 0, 2).removeO().expand()\n",
    "    print(product)\n",
    "    print(\"\\n\")"
   ]
  },
  {
   "cell_type": "code",
   "execution_count": 13,
   "id": "d09d4a4f",
   "metadata": {},
   "outputs": [],
   "source": [
    "from sympy import Matrix, symbols, integrate, diff, simplify, eye\n",
    "from typing import Dict, Tuple\n",
    "from multiprocessing import Pool, cpu_count\n",
    "\n",
    "from typing import Tuple, List\n",
    "\n",
    "\n",
    "# Update the integral computation function to include simplification inside the parallelized task\n",
    "def compute_integral_pair_simplified(\n",
    "    args: Tuple[sp.Expr, sp.Expr, sp.Symbol, sp.Symbol, sp.Symbol, sp.Symbol],\n",
    ") -> sp.Expr:\n",
    "    df1, df2, t, T, R, sigma_m, phi = args\n",
    "    product = sp.expand(df1 * df2)\n",
    "    product = sp.simplify(product)\n",
    "    product = simplify_trig_identities(product, omega, phi)\n",
    "    integral = sp.integrate(product, (t, 0, T))\n",
    "    scaled = integral * R / sigma_m**2\n",
    "    expr = sp.expand(scaled)  # Expand basic algebra first\n",
    "    expr = sp.expand_trig(expr)  # Expand trig products (e.g., sin^2)\n",
    "    expr = sp.factor(expr)  # Pull out common exponentials\n",
    "    expr = sp.cancel(expr)  # Clean up rational forms\n",
    "    expr = sp.collect(expr, T)  # Group by powers of T (or lambda_D, etc.)\n",
    "    # expr = sp.simplify(expr)\n",
    "    return expr\n",
    "\n",
    "\n",
    "def compute_fisher_matrix_serial_simplified(\n",
    "    model: sp.Expr,\n",
    "    parameters: list[sp.Symbol],\n",
    "    t: sp.Symbol,\n",
    "    T: sp.Symbol,\n",
    "    sigma_m: sp.Symbol,\n",
    "    N: sp.Symbol,\n",
    ") -> sp.Matrix:\n",
    "    \"\"\"\n",
    "    Computes the Fisher Information Matrix (FIM) without parallelism,\n",
    "    using simplified symbolic integrals over all parameter pairs.\n",
    "\n",
    "    Args:\n",
    "        model: symbolic expression of the model function\n",
    "        parameters: list of parameters to differentiate with respect to\n",
    "        t: time symbol\n",
    "        T: total acquisition time symbol\n",
    "        sigma_m: measurement noise\n",
    "        N: number of samples\n",
    "\n",
    "    Returns:\n",
    "        sympy.Matrix: symbolic Fisher Information Matrix\n",
    "    \"\"\"\n",
    "    R = N / T\n",
    "    n = len(parameters)\n",
    "\n",
    "    entries: list[sp.Expr] = []\n",
    "\n",
    "    for p1 in parameters:\n",
    "        df1 = sp.diff(model, p1)\n",
    "        for p2 in parameters:\n",
    "            df2 = sp.diff(model, p2)\n",
    "            result = compute_integral_pair_simplified((df1, df2, t, T, R, sigma_m, phi))\n",
    "            entries.append(result)\n",
    "\n",
    "    return sp.Matrix(n, n, entries)"
   ]
  },
  {
   "cell_type": "code",
   "execution_count": 14,
   "id": "e5985a7d",
   "metadata": {},
   "outputs": [],
   "source": [
    "# runtime ~2 s\n",
    "FIM = compute_fisher_matrix_serial_simplified(f, params, t, T, sigma_m, N)"
   ]
  },
  {
   "cell_type": "code",
   "execution_count": 15,
   "id": "1192722e",
   "metadata": {},
   "outputs": [
    {
     "data": {
      "text/latex": [
       "$\\displaystyle \\left[\\begin{matrix}\\frac{N \\sin^{2}{\\left(\\phi \\right)} \\sin{\\left(T \\omega \\right)} \\cos{\\left(T \\omega \\right)} + N \\sin{\\left(\\phi \\right)} \\sin^{2}{\\left(T \\omega \\right)} \\cos{\\left(\\phi \\right)} - N \\sin{\\left(\\phi \\right)} \\cos{\\left(\\phi \\right)} \\cos^{2}{\\left(T \\omega \\right)} + N \\sin{\\left(\\phi \\right)} \\cos{\\left(\\phi \\right)} - N \\sin{\\left(T \\omega \\right)} \\cos^{2}{\\left(\\phi \\right)} \\cos{\\left(T \\omega \\right)} + T \\left(N \\omega \\sin^{2}{\\left(\\phi \\right)} \\sin^{2}{\\left(T \\omega \\right)} + N \\omega \\sin^{2}{\\left(\\phi \\right)} \\cos^{2}{\\left(T \\omega \\right)} + N \\omega \\sin^{2}{\\left(T \\omega \\right)} \\cos^{2}{\\left(\\phi \\right)} + N \\omega \\cos^{2}{\\left(\\phi \\right)} \\cos^{2}{\\left(T \\omega \\right)}\\right)}{2 T \\omega \\sigma_{m}^{2}} & \\frac{2 A N \\sin{\\left(\\phi \\right)} \\cos{\\left(\\phi \\right)} \\cos^{2}{\\left(T \\omega \\right)} - 2 A N \\sin{\\left(\\phi \\right)} \\cos{\\left(\\phi \\right)} + 2 A N \\sin{\\left(T \\omega \\right)} \\cos^{2}{\\left(\\phi \\right)} \\cos{\\left(T \\omega \\right)} - A N \\sin{\\left(T \\omega \\right)} \\cos{\\left(T \\omega \\right)} + T \\left(4 A N \\omega \\sin{\\left(\\phi \\right)} \\sin{\\left(T \\omega \\right)} \\cos{\\left(\\phi \\right)} \\cos{\\left(T \\omega \\right)} - 4 A N \\omega \\cos^{2}{\\left(\\phi \\right)} \\cos^{2}{\\left(T \\omega \\right)} + 2 A N \\omega \\cos^{2}{\\left(\\phi \\right)} + 2 A N \\omega \\cos^{2}{\\left(T \\omega \\right)} - A N \\omega\\right)}{4 T \\omega^{2} \\sigma_{m}^{2}} & \\frac{2 A N \\sin{\\left(\\phi \\right)} \\sin{\\left(T \\omega \\right)} \\cos{\\left(\\phi \\right)} \\cos{\\left(T \\omega \\right)} - 2 A N \\cos^{2}{\\left(\\phi \\right)} \\cos^{2}{\\left(T \\omega \\right)} + 2 A N \\cos^{2}{\\left(\\phi \\right)} + A N \\cos^{2}{\\left(T \\omega \\right)} - A N}{2 T \\omega \\sigma_{m}^{2}}\\\\\\frac{2 A N \\sin{\\left(\\phi \\right)} \\cos{\\left(\\phi \\right)} \\cos^{2}{\\left(T \\omega \\right)} - 2 A N \\sin{\\left(\\phi \\right)} \\cos{\\left(\\phi \\right)} + 2 A N \\sin{\\left(T \\omega \\right)} \\cos^{2}{\\left(\\phi \\right)} \\cos{\\left(T \\omega \\right)} - A N \\sin{\\left(T \\omega \\right)} \\cos{\\left(T \\omega \\right)} + T \\left(4 A N \\omega \\sin{\\left(\\phi \\right)} \\sin{\\left(T \\omega \\right)} \\cos{\\left(\\phi \\right)} \\cos{\\left(T \\omega \\right)} - 4 A N \\omega \\cos^{2}{\\left(\\phi \\right)} \\cos^{2}{\\left(T \\omega \\right)} + 2 A N \\omega \\cos^{2}{\\left(\\phi \\right)} + 2 A N \\omega \\cos^{2}{\\left(T \\omega \\right)} - A N \\omega\\right)}{4 T \\omega^{2} \\sigma_{m}^{2}} & \\frac{3 A^{2} N \\sin^{2}{\\left(\\phi \\right)} \\sin{\\left(T \\omega \\right)} \\cos{\\left(T \\omega \\right)} + 3 A^{2} N \\sin{\\left(\\phi \\right)} \\sin^{2}{\\left(T \\omega \\right)} \\cos{\\left(\\phi \\right)} - 3 A^{2} N \\sin{\\left(\\phi \\right)} \\cos{\\left(\\phi \\right)} \\cos^{2}{\\left(T \\omega \\right)} + 3 A^{2} N \\sin{\\left(\\phi \\right)} \\cos{\\left(\\phi \\right)} - 3 A^{2} N \\sin{\\left(T \\omega \\right)} \\cos^{2}{\\left(\\phi \\right)} \\cos{\\left(T \\omega \\right)} + T^{3} \\left(2 A^{2} N \\omega^{3} \\sin^{2}{\\left(\\phi \\right)} \\sin^{2}{\\left(T \\omega \\right)} + 2 A^{2} N \\omega^{3} \\sin^{2}{\\left(\\phi \\right)} \\cos^{2}{\\left(T \\omega \\right)} + 2 A^{2} N \\omega^{3} \\sin^{2}{\\left(T \\omega \\right)} \\cos^{2}{\\left(\\phi \\right)} + 2 A^{2} N \\omega^{3} \\cos^{2}{\\left(\\phi \\right)} \\cos^{2}{\\left(T \\omega \\right)}\\right) + T^{2} \\left(- 6 A^{2} N \\omega^{2} \\sin^{2}{\\left(\\phi \\right)} \\sin{\\left(T \\omega \\right)} \\cos{\\left(T \\omega \\right)} - 6 A^{2} N \\omega^{2} \\sin{\\left(\\phi \\right)} \\sin^{2}{\\left(T \\omega \\right)} \\cos{\\left(\\phi \\right)} + 6 A^{2} N \\omega^{2} \\sin{\\left(\\phi \\right)} \\cos{\\left(\\phi \\right)} \\cos^{2}{\\left(T \\omega \\right)} + 6 A^{2} N \\omega^{2} \\sin{\\left(T \\omega \\right)} \\cos^{2}{\\left(\\phi \\right)} \\cos{\\left(T \\omega \\right)}\\right) + T \\left(3 A^{2} N \\omega \\sin^{2}{\\left(\\phi \\right)} \\sin^{2}{\\left(T \\omega \\right)} - 3 A^{2} N \\omega \\sin^{2}{\\left(\\phi \\right)} \\cos^{2}{\\left(T \\omega \\right)} - 12 A^{2} N \\omega \\sin{\\left(\\phi \\right)} \\sin{\\left(T \\omega \\right)} \\cos{\\left(\\phi \\right)} \\cos{\\left(T \\omega \\right)} - 3 A^{2} N \\omega \\sin^{2}{\\left(T \\omega \\right)} \\cos^{2}{\\left(\\phi \\right)} + 3 A^{2} N \\omega \\cos^{2}{\\left(\\phi \\right)} \\cos^{2}{\\left(T \\omega \\right)}\\right)}{12 T \\omega^{3} \\sigma_{m}^{2}} & \\frac{A^{2} N \\sin^{2}{\\left(\\phi \\right)} \\sin^{2}{\\left(T \\omega \\right)} - 2 A^{2} N \\sin{\\left(\\phi \\right)} \\sin{\\left(T \\omega \\right)} \\cos{\\left(\\phi \\right)} \\cos{\\left(T \\omega \\right)} + A^{2} N \\cos^{2}{\\left(\\phi \\right)} \\cos^{2}{\\left(T \\omega \\right)} - A^{2} N \\cos^{2}{\\left(\\phi \\right)} + T^{2} \\left(A^{2} N \\omega^{2} \\sin^{2}{\\left(\\phi \\right)} \\sin^{2}{\\left(T \\omega \\right)} + A^{2} N \\omega^{2} \\sin^{2}{\\left(\\phi \\right)} \\cos^{2}{\\left(T \\omega \\right)} + A^{2} N \\omega^{2} \\sin^{2}{\\left(T \\omega \\right)} \\cos^{2}{\\left(\\phi \\right)} + A^{2} N \\omega^{2} \\cos^{2}{\\left(\\phi \\right)} \\cos^{2}{\\left(T \\omega \\right)}\\right) + T \\left(- 2 A^{2} N \\omega \\sin^{2}{\\left(\\phi \\right)} \\sin{\\left(T \\omega \\right)} \\cos{\\left(T \\omega \\right)} - 2 A^{2} N \\omega \\sin{\\left(\\phi \\right)} \\sin^{2}{\\left(T \\omega \\right)} \\cos{\\left(\\phi \\right)} + 2 A^{2} N \\omega \\sin{\\left(\\phi \\right)} \\cos{\\left(\\phi \\right)} \\cos^{2}{\\left(T \\omega \\right)} + 2 A^{2} N \\omega \\sin{\\left(T \\omega \\right)} \\cos^{2}{\\left(\\phi \\right)} \\cos{\\left(T \\omega \\right)}\\right)}{4 T \\omega^{2} \\sigma_{m}^{2}}\\\\\\frac{2 A N \\sin{\\left(\\phi \\right)} \\sin{\\left(T \\omega \\right)} \\cos{\\left(\\phi \\right)} \\cos{\\left(T \\omega \\right)} - 2 A N \\cos^{2}{\\left(\\phi \\right)} \\cos^{2}{\\left(T \\omega \\right)} + 2 A N \\cos^{2}{\\left(\\phi \\right)} + A N \\cos^{2}{\\left(T \\omega \\right)} - A N}{2 T \\omega \\sigma_{m}^{2}} & \\frac{A^{2} N \\sin^{2}{\\left(\\phi \\right)} \\sin^{2}{\\left(T \\omega \\right)} - 2 A^{2} N \\sin{\\left(\\phi \\right)} \\sin{\\left(T \\omega \\right)} \\cos{\\left(\\phi \\right)} \\cos{\\left(T \\omega \\right)} + A^{2} N \\cos^{2}{\\left(\\phi \\right)} \\cos^{2}{\\left(T \\omega \\right)} - A^{2} N \\cos^{2}{\\left(\\phi \\right)} + T^{2} \\left(A^{2} N \\omega^{2} \\sin^{2}{\\left(\\phi \\right)} \\sin^{2}{\\left(T \\omega \\right)} + A^{2} N \\omega^{2} \\sin^{2}{\\left(\\phi \\right)} \\cos^{2}{\\left(T \\omega \\right)} + A^{2} N \\omega^{2} \\sin^{2}{\\left(T \\omega \\right)} \\cos^{2}{\\left(\\phi \\right)} + A^{2} N \\omega^{2} \\cos^{2}{\\left(\\phi \\right)} \\cos^{2}{\\left(T \\omega \\right)}\\right) + T \\left(- 2 A^{2} N \\omega \\sin^{2}{\\left(\\phi \\right)} \\sin{\\left(T \\omega \\right)} \\cos{\\left(T \\omega \\right)} - 2 A^{2} N \\omega \\sin{\\left(\\phi \\right)} \\sin^{2}{\\left(T \\omega \\right)} \\cos{\\left(\\phi \\right)} + 2 A^{2} N \\omega \\sin{\\left(\\phi \\right)} \\cos{\\left(\\phi \\right)} \\cos^{2}{\\left(T \\omega \\right)} + 2 A^{2} N \\omega \\sin{\\left(T \\omega \\right)} \\cos^{2}{\\left(\\phi \\right)} \\cos{\\left(T \\omega \\right)}\\right)}{4 T \\omega^{2} \\sigma_{m}^{2}} & \\frac{- A^{2} N \\sin^{2}{\\left(\\phi \\right)} \\sin{\\left(T \\omega \\right)} \\cos{\\left(T \\omega \\right)} - A^{2} N \\sin{\\left(\\phi \\right)} \\sin^{2}{\\left(T \\omega \\right)} \\cos{\\left(\\phi \\right)} + A^{2} N \\sin{\\left(\\phi \\right)} \\cos{\\left(\\phi \\right)} \\cos^{2}{\\left(T \\omega \\right)} - A^{2} N \\sin{\\left(\\phi \\right)} \\cos{\\left(\\phi \\right)} + A^{2} N \\sin{\\left(T \\omega \\right)} \\cos^{2}{\\left(\\phi \\right)} \\cos{\\left(T \\omega \\right)} + T \\left(A^{2} N \\omega \\sin^{2}{\\left(\\phi \\right)} \\sin^{2}{\\left(T \\omega \\right)} + A^{2} N \\omega \\sin^{2}{\\left(\\phi \\right)} \\cos^{2}{\\left(T \\omega \\right)} + A^{2} N \\omega \\sin^{2}{\\left(T \\omega \\right)} \\cos^{2}{\\left(\\phi \\right)} + A^{2} N \\omega \\cos^{2}{\\left(\\phi \\right)} \\cos^{2}{\\left(T \\omega \\right)}\\right)}{2 T \\omega \\sigma_{m}^{2}}\\end{matrix}\\right]$"
      ],
      "text/plain": [
       "Matrix([\n",
       "[(N*sin(phi)**2*sin(T*omega)*cos(T*omega) + N*sin(phi)*sin(T*omega)**2*cos(phi) - N*sin(phi)*cos(phi)*cos(T*omega)**2 + N*sin(phi)*cos(phi) - N*sin(T*omega)*cos(phi)**2*cos(T*omega) + T*(N*omega*sin(phi)**2*sin(T*omega)**2 + N*omega*sin(phi)**2*cos(T*omega)**2 + N*omega*sin(T*omega)**2*cos(phi)**2 + N*omega*cos(phi)**2*cos(T*omega)**2))/(2*T*omega*sigma_m**2),                                                                                                                                                                                                                                                                                                                                                                                                                                                                                                                                                                                                  (2*A*N*sin(phi)*cos(phi)*cos(T*omega)**2 - 2*A*N*sin(phi)*cos(phi) + 2*A*N*sin(T*omega)*cos(phi)**2*cos(T*omega) - A*N*sin(T*omega)*cos(T*omega) + T*(4*A*N*omega*sin(phi)*sin(T*omega)*cos(phi)*cos(T*omega) - 4*A*N*omega*cos(phi)**2*cos(T*omega)**2 + 2*A*N*omega*cos(phi)**2 + 2*A*N*omega*cos(T*omega)**2 - A*N*omega))/(4*T*omega**2*sigma_m**2),                                                                                                                                                                                                                                                                                                                                                                                                                                          (2*A*N*sin(phi)*sin(T*omega)*cos(phi)*cos(T*omega) - 2*A*N*cos(phi)**2*cos(T*omega)**2 + 2*A*N*cos(phi)**2 + A*N*cos(T*omega)**2 - A*N)/(2*T*omega*sigma_m**2)],\n",
       "[                 (2*A*N*sin(phi)*cos(phi)*cos(T*omega)**2 - 2*A*N*sin(phi)*cos(phi) + 2*A*N*sin(T*omega)*cos(phi)**2*cos(T*omega) - A*N*sin(T*omega)*cos(T*omega) + T*(4*A*N*omega*sin(phi)*sin(T*omega)*cos(phi)*cos(T*omega) - 4*A*N*omega*cos(phi)**2*cos(T*omega)**2 + 2*A*N*omega*cos(phi)**2 + 2*A*N*omega*cos(T*omega)**2 - A*N*omega))/(4*T*omega**2*sigma_m**2), (3*A**2*N*sin(phi)**2*sin(T*omega)*cos(T*omega) + 3*A**2*N*sin(phi)*sin(T*omega)**2*cos(phi) - 3*A**2*N*sin(phi)*cos(phi)*cos(T*omega)**2 + 3*A**2*N*sin(phi)*cos(phi) - 3*A**2*N*sin(T*omega)*cos(phi)**2*cos(T*omega) + T**3*(2*A**2*N*omega**3*sin(phi)**2*sin(T*omega)**2 + 2*A**2*N*omega**3*sin(phi)**2*cos(T*omega)**2 + 2*A**2*N*omega**3*sin(T*omega)**2*cos(phi)**2 + 2*A**2*N*omega**3*cos(phi)**2*cos(T*omega)**2) + T**2*(-6*A**2*N*omega**2*sin(phi)**2*sin(T*omega)*cos(T*omega) - 6*A**2*N*omega**2*sin(phi)*sin(T*omega)**2*cos(phi) + 6*A**2*N*omega**2*sin(phi)*cos(phi)*cos(T*omega)**2 + 6*A**2*N*omega**2*sin(T*omega)*cos(phi)**2*cos(T*omega)) + T*(3*A**2*N*omega*sin(phi)**2*sin(T*omega)**2 - 3*A**2*N*omega*sin(phi)**2*cos(T*omega)**2 - 12*A**2*N*omega*sin(phi)*sin(T*omega)*cos(phi)*cos(T*omega) - 3*A**2*N*omega*sin(T*omega)**2*cos(phi)**2 + 3*A**2*N*omega*cos(phi)**2*cos(T*omega)**2))/(12*T*omega**3*sigma_m**2), (A**2*N*sin(phi)**2*sin(T*omega)**2 - 2*A**2*N*sin(phi)*sin(T*omega)*cos(phi)*cos(T*omega) + A**2*N*cos(phi)**2*cos(T*omega)**2 - A**2*N*cos(phi)**2 + T**2*(A**2*N*omega**2*sin(phi)**2*sin(T*omega)**2 + A**2*N*omega**2*sin(phi)**2*cos(T*omega)**2 + A**2*N*omega**2*sin(T*omega)**2*cos(phi)**2 + A**2*N*omega**2*cos(phi)**2*cos(T*omega)**2) + T*(-2*A**2*N*omega*sin(phi)**2*sin(T*omega)*cos(T*omega) - 2*A**2*N*omega*sin(phi)*sin(T*omega)**2*cos(phi) + 2*A**2*N*omega*sin(phi)*cos(phi)*cos(T*omega)**2 + 2*A**2*N*omega*sin(T*omega)*cos(phi)**2*cos(T*omega)))/(4*T*omega**2*sigma_m**2)],\n",
       "[                                                                                                                                                                                                          (2*A*N*sin(phi)*sin(T*omega)*cos(phi)*cos(T*omega) - 2*A*N*cos(phi)**2*cos(T*omega)**2 + 2*A*N*cos(phi)**2 + A*N*cos(T*omega)**2 - A*N)/(2*T*omega*sigma_m**2),                                                                                                                                                                                                                                                                                                                                                  (A**2*N*sin(phi)**2*sin(T*omega)**2 - 2*A**2*N*sin(phi)*sin(T*omega)*cos(phi)*cos(T*omega) + A**2*N*cos(phi)**2*cos(T*omega)**2 - A**2*N*cos(phi)**2 + T**2*(A**2*N*omega**2*sin(phi)**2*sin(T*omega)**2 + A**2*N*omega**2*sin(phi)**2*cos(T*omega)**2 + A**2*N*omega**2*sin(T*omega)**2*cos(phi)**2 + A**2*N*omega**2*cos(phi)**2*cos(T*omega)**2) + T*(-2*A**2*N*omega*sin(phi)**2*sin(T*omega)*cos(T*omega) - 2*A**2*N*omega*sin(phi)*sin(T*omega)**2*cos(phi) + 2*A**2*N*omega*sin(phi)*cos(phi)*cos(T*omega)**2 + 2*A**2*N*omega*sin(T*omega)*cos(phi)**2*cos(T*omega)))/(4*T*omega**2*sigma_m**2),                                                                                                                                                                                  (-A**2*N*sin(phi)**2*sin(T*omega)*cos(T*omega) - A**2*N*sin(phi)*sin(T*omega)**2*cos(phi) + A**2*N*sin(phi)*cos(phi)*cos(T*omega)**2 - A**2*N*sin(phi)*cos(phi) + A**2*N*sin(T*omega)*cos(phi)**2*cos(T*omega) + T*(A**2*N*omega*sin(phi)**2*sin(T*omega)**2 + A**2*N*omega*sin(phi)**2*cos(T*omega)**2 + A**2*N*omega*sin(T*omega)**2*cos(phi)**2 + A**2*N*omega*cos(phi)**2*cos(T*omega)**2))/(2*T*omega*sigma_m**2)]])"
      ]
     },
     "execution_count": 15,
     "metadata": {},
     "output_type": "execute_result"
    }
   ],
   "source": [
    "FIM"
   ]
  },
  {
   "cell_type": "code",
   "execution_count": 16,
   "id": "4768b258",
   "metadata": {},
   "outputs": [
    {
     "name": "stdout",
     "output_type": "stream",
     "text": [
      "creating template for symbolic symmetric inverse\n",
      "applying substitution to symbolic inverse\n"
     ]
    }
   ],
   "source": [
    "# runtime ~ 30s\n",
    "FIM_inv = sym_functions.inverse_via_symmetric_substitution(FIM)"
   ]
  },
  {
   "cell_type": "code",
   "execution_count": null,
   "id": "b861e872",
   "metadata": {},
   "outputs": [],
   "source": []
  },
  {
   "cell_type": "code",
   "execution_count": null,
   "id": "19268805",
   "metadata": {},
   "outputs": [],
   "source": [
    "# Param list and symbolic variables\n",
    "\n",
    "param_vars = {}\n",
    "\n",
    "# T omega = R\n",
    "R = sp.symbols(\"R\", real=True, positive=True, nonzero=True)\n",
    "\n",
    "expansion_pt = sp.Rational(1, 2) * 1 / (2 * sp.pi)\n",
    "\n",
    "\n",
    "# Rewrite and simplify each diagonal entry\n",
    "param = params[0]\n",
    "idx = param_indices[param]\n",
    "expr = FIM_inv[idx, idx]\n",
    "expr_sub = expr.subs(omega, R / T)\n",
    "expr_sub = sp.collect(expr_sub, R)\n",
    "expr_sub = sp.simplify(expr_sub)\n",
    "expr_series = expr_sub.series(R, expansion_pt, 5).removeO().expand()\n",
    "expr_series = sp.simplfy(expr_series)\n",
    "sp.simplify(expr_series)"
   ]
  },
  {
   "cell_type": "code",
   "execution_count": 34,
   "id": "522d9039",
   "metadata": {},
   "outputs": [
    {
     "data": {
      "text/latex": [
       "$\\displaystyle \\frac{\\frac{T^{2} \\left(A^{2} N \\sin^{2}{\\left(R \\right)} \\sin^{2}{\\left(\\phi \\right)} - 2 A^{2} N \\sin{\\left(R \\right)} \\sin{\\left(\\phi \\right)} \\cos{\\left(R \\right)} \\cos{\\left(\\phi \\right)} + A^{2} N \\cos^{2}{\\left(R \\right)} \\cos^{2}{\\left(\\phi \\right)} - A^{2} N \\cos^{2}{\\left(\\phi \\right)} + T^{2} \\left(\\frac{A^{2} N R^{2} \\sin^{2}{\\left(R \\right)} \\sin^{2}{\\left(\\phi \\right)}}{T^{2}} + \\frac{A^{2} N R^{2} \\sin^{2}{\\left(R \\right)} \\cos^{2}{\\left(\\phi \\right)}}{T^{2}} + \\frac{A^{2} N R^{2} \\sin^{2}{\\left(\\phi \\right)} \\cos^{2}{\\left(R \\right)}}{T^{2}} + \\frac{A^{2} N R^{2} \\cos^{2}{\\left(R \\right)} \\cos^{2}{\\left(\\phi \\right)}}{T^{2}}\\right) + T \\left(- \\frac{2 A^{2} N R \\sin^{2}{\\left(R \\right)} \\sin{\\left(\\phi \\right)} \\cos{\\left(\\phi \\right)}}{T} - \\frac{2 A^{2} N R \\sin{\\left(R \\right)} \\sin^{2}{\\left(\\phi \\right)} \\cos{\\left(R \\right)}}{T} + \\frac{2 A^{2} N R \\sin{\\left(R \\right)} \\cos{\\left(R \\right)} \\cos^{2}{\\left(\\phi \\right)}}{T} + \\frac{2 A^{2} N R \\sin{\\left(\\phi \\right)} \\cos^{2}{\\left(R \\right)} \\cos{\\left(\\phi \\right)}}{T}\\right)\\right)^{2}}{16 R^{4} \\sigma_{m}^{4}} - \\frac{T^{2} \\left(- A^{2} N \\sin^{2}{\\left(R \\right)} \\sin{\\left(\\phi \\right)} \\cos{\\left(\\phi \\right)} - A^{2} N \\sin{\\left(R \\right)} \\sin^{2}{\\left(\\phi \\right)} \\cos{\\left(R \\right)} + A^{2} N \\sin{\\left(R \\right)} \\cos{\\left(R \\right)} \\cos^{2}{\\left(\\phi \\right)} + A^{2} N \\sin{\\left(\\phi \\right)} \\cos^{2}{\\left(R \\right)} \\cos{\\left(\\phi \\right)} - A^{2} N \\sin{\\left(\\phi \\right)} \\cos{\\left(\\phi \\right)} + T \\left(\\frac{A^{2} N R \\sin^{2}{\\left(R \\right)} \\sin^{2}{\\left(\\phi \\right)}}{T} + \\frac{A^{2} N R \\sin^{2}{\\left(R \\right)} \\cos^{2}{\\left(\\phi \\right)}}{T} + \\frac{A^{2} N R \\sin^{2}{\\left(\\phi \\right)} \\cos^{2}{\\left(R \\right)}}{T} + \\frac{A^{2} N R \\cos^{2}{\\left(R \\right)} \\cos^{2}{\\left(\\phi \\right)}}{T}\\right)\\right) \\left(3 A^{2} N \\sin^{2}{\\left(R \\right)} \\sin{\\left(\\phi \\right)} \\cos{\\left(\\phi \\right)} + 3 A^{2} N \\sin{\\left(R \\right)} \\sin^{2}{\\left(\\phi \\right)} \\cos{\\left(R \\right)} - 3 A^{2} N \\sin{\\left(R \\right)} \\cos{\\left(R \\right)} \\cos^{2}{\\left(\\phi \\right)} - 3 A^{2} N \\sin{\\left(\\phi \\right)} \\cos^{2}{\\left(R \\right)} \\cos{\\left(\\phi \\right)} + 3 A^{2} N \\sin{\\left(\\phi \\right)} \\cos{\\left(\\phi \\right)} + T^{3} \\left(\\frac{2 A^{2} N R^{3} \\sin^{2}{\\left(R \\right)} \\sin^{2}{\\left(\\phi \\right)}}{T^{3}} + \\frac{2 A^{2} N R^{3} \\sin^{2}{\\left(R \\right)} \\cos^{2}{\\left(\\phi \\right)}}{T^{3}} + \\frac{2 A^{2} N R^{3} \\sin^{2}{\\left(\\phi \\right)} \\cos^{2}{\\left(R \\right)}}{T^{3}} + \\frac{2 A^{2} N R^{3} \\cos^{2}{\\left(R \\right)} \\cos^{2}{\\left(\\phi \\right)}}{T^{3}}\\right) + T^{2} \\left(- \\frac{6 A^{2} N R^{2} \\sin^{2}{\\left(R \\right)} \\sin{\\left(\\phi \\right)} \\cos{\\left(\\phi \\right)}}{T^{2}} - \\frac{6 A^{2} N R^{2} \\sin{\\left(R \\right)} \\sin^{2}{\\left(\\phi \\right)} \\cos{\\left(R \\right)}}{T^{2}} + \\frac{6 A^{2} N R^{2} \\sin{\\left(R \\right)} \\cos{\\left(R \\right)} \\cos^{2}{\\left(\\phi \\right)}}{T^{2}} + \\frac{6 A^{2} N R^{2} \\sin{\\left(\\phi \\right)} \\cos^{2}{\\left(R \\right)} \\cos{\\left(\\phi \\right)}}{T^{2}}\\right) + T \\left(\\frac{3 A^{2} N R \\sin^{2}{\\left(R \\right)} \\sin^{2}{\\left(\\phi \\right)}}{T} - \\frac{3 A^{2} N R \\sin^{2}{\\left(R \\right)} \\cos^{2}{\\left(\\phi \\right)}}{T} - \\frac{12 A^{2} N R \\sin{\\left(R \\right)} \\sin{\\left(\\phi \\right)} \\cos{\\left(R \\right)} \\cos{\\left(\\phi \\right)}}{T} - \\frac{3 A^{2} N R \\sin^{2}{\\left(\\phi \\right)} \\cos^{2}{\\left(R \\right)}}{T} + \\frac{3 A^{2} N R \\cos^{2}{\\left(R \\right)} \\cos^{2}{\\left(\\phi \\right)}}{T}\\right)\\right)}{24 R^{4} \\sigma_{m}^{4}}}{\\frac{T^{2} \\left(2 A N \\sin{\\left(R \\right)} \\cos{\\left(R \\right)} \\cos^{2}{\\left(\\phi \\right)} - A N \\sin{\\left(R \\right)} \\cos{\\left(R \\right)} + 2 A N \\sin{\\left(\\phi \\right)} \\cos^{2}{\\left(R \\right)} \\cos{\\left(\\phi \\right)} - 2 A N \\sin{\\left(\\phi \\right)} \\cos{\\left(\\phi \\right)} + T \\left(\\frac{4 A N R \\sin{\\left(R \\right)} \\sin{\\left(\\phi \\right)} \\cos{\\left(R \\right)} \\cos{\\left(\\phi \\right)}}{T} - \\frac{4 A N R \\cos^{2}{\\left(R \\right)} \\cos^{2}{\\left(\\phi \\right)}}{T} + \\frac{2 A N R \\cos^{2}{\\left(R \\right)}}{T} + \\frac{2 A N R \\cos^{2}{\\left(\\phi \\right)}}{T} - \\frac{A N R}{T}\\right)\\right)^{2} \\left(- A^{2} N \\sin^{2}{\\left(R \\right)} \\sin{\\left(\\phi \\right)} \\cos{\\left(\\phi \\right)} - A^{2} N \\sin{\\left(R \\right)} \\sin^{2}{\\left(\\phi \\right)} \\cos{\\left(R \\right)} + A^{2} N \\sin{\\left(R \\right)} \\cos{\\left(R \\right)} \\cos^{2}{\\left(\\phi \\right)} + A^{2} N \\sin{\\left(\\phi \\right)} \\cos^{2}{\\left(R \\right)} \\cos{\\left(\\phi \\right)} - A^{2} N \\sin{\\left(\\phi \\right)} \\cos{\\left(\\phi \\right)} + T \\left(\\frac{A^{2} N R \\sin^{2}{\\left(R \\right)} \\sin^{2}{\\left(\\phi \\right)}}{T} + \\frac{A^{2} N R \\sin^{2}{\\left(R \\right)} \\cos^{2}{\\left(\\phi \\right)}}{T} + \\frac{A^{2} N R \\sin^{2}{\\left(\\phi \\right)} \\cos^{2}{\\left(R \\right)}}{T} + \\frac{A^{2} N R \\cos^{2}{\\left(R \\right)} \\cos^{2}{\\left(\\phi \\right)}}{T}\\right)\\right)}{32 R^{5} \\sigma_{m}^{6}} - \\frac{T^{2} \\left(2 A N \\sin{\\left(R \\right)} \\cos{\\left(R \\right)} \\cos^{2}{\\left(\\phi \\right)} - A N \\sin{\\left(R \\right)} \\cos{\\left(R \\right)} + 2 A N \\sin{\\left(\\phi \\right)} \\cos^{2}{\\left(R \\right)} \\cos{\\left(\\phi \\right)} - 2 A N \\sin{\\left(\\phi \\right)} \\cos{\\left(\\phi \\right)} + T \\left(\\frac{4 A N R \\sin{\\left(R \\right)} \\sin{\\left(\\phi \\right)} \\cos{\\left(R \\right)} \\cos{\\left(\\phi \\right)}}{T} - \\frac{4 A N R \\cos^{2}{\\left(R \\right)} \\cos^{2}{\\left(\\phi \\right)}}{T} + \\frac{2 A N R \\cos^{2}{\\left(R \\right)}}{T} + \\frac{2 A N R \\cos^{2}{\\left(\\phi \\right)}}{T} - \\frac{A N R}{T}\\right)\\right) \\left(2 A N \\sin{\\left(R \\right)} \\sin{\\left(\\phi \\right)} \\cos{\\left(R \\right)} \\cos{\\left(\\phi \\right)} - 2 A N \\cos^{2}{\\left(R \\right)} \\cos^{2}{\\left(\\phi \\right)} + A N \\cos^{2}{\\left(R \\right)} + 2 A N \\cos^{2}{\\left(\\phi \\right)} - A N\\right) \\left(A^{2} N \\sin^{2}{\\left(R \\right)} \\sin^{2}{\\left(\\phi \\right)} - 2 A^{2} N \\sin{\\left(R \\right)} \\sin{\\left(\\phi \\right)} \\cos{\\left(R \\right)} \\cos{\\left(\\phi \\right)} + A^{2} N \\cos^{2}{\\left(R \\right)} \\cos^{2}{\\left(\\phi \\right)} - A^{2} N \\cos^{2}{\\left(\\phi \\right)} + T^{2} \\left(\\frac{A^{2} N R^{2} \\sin^{2}{\\left(R \\right)} \\sin^{2}{\\left(\\phi \\right)}}{T^{2}} + \\frac{A^{2} N R^{2} \\sin^{2}{\\left(R \\right)} \\cos^{2}{\\left(\\phi \\right)}}{T^{2}} + \\frac{A^{2} N R^{2} \\sin^{2}{\\left(\\phi \\right)} \\cos^{2}{\\left(R \\right)}}{T^{2}} + \\frac{A^{2} N R^{2} \\cos^{2}{\\left(R \\right)} \\cos^{2}{\\left(\\phi \\right)}}{T^{2}}\\right) + T \\left(- \\frac{2 A^{2} N R \\sin^{2}{\\left(R \\right)} \\sin{\\left(\\phi \\right)} \\cos{\\left(\\phi \\right)}}{T} - \\frac{2 A^{2} N R \\sin{\\left(R \\right)} \\sin^{2}{\\left(\\phi \\right)} \\cos{\\left(R \\right)}}{T} + \\frac{2 A^{2} N R \\sin{\\left(R \\right)} \\cos{\\left(R \\right)} \\cos^{2}{\\left(\\phi \\right)}}{T} + \\frac{2 A^{2} N R \\sin{\\left(\\phi \\right)} \\cos^{2}{\\left(R \\right)} \\cos{\\left(\\phi \\right)}}{T}\\right)\\right)}{16 R^{5} \\sigma_{m}^{6}} + \\frac{T^{2} \\left(2 A N \\sin{\\left(R \\right)} \\sin{\\left(\\phi \\right)} \\cos{\\left(R \\right)} \\cos{\\left(\\phi \\right)} - 2 A N \\cos^{2}{\\left(R \\right)} \\cos^{2}{\\left(\\phi \\right)} + A N \\cos^{2}{\\left(R \\right)} + 2 A N \\cos^{2}{\\left(\\phi \\right)} - A N\\right)^{2} \\left(3 A^{2} N \\sin^{2}{\\left(R \\right)} \\sin{\\left(\\phi \\right)} \\cos{\\left(\\phi \\right)} + 3 A^{2} N \\sin{\\left(R \\right)} \\sin^{2}{\\left(\\phi \\right)} \\cos{\\left(R \\right)} - 3 A^{2} N \\sin{\\left(R \\right)} \\cos{\\left(R \\right)} \\cos^{2}{\\left(\\phi \\right)} - 3 A^{2} N \\sin{\\left(\\phi \\right)} \\cos^{2}{\\left(R \\right)} \\cos{\\left(\\phi \\right)} + 3 A^{2} N \\sin{\\left(\\phi \\right)} \\cos{\\left(\\phi \\right)} + T^{3} \\left(\\frac{2 A^{2} N R^{3} \\sin^{2}{\\left(R \\right)} \\sin^{2}{\\left(\\phi \\right)}}{T^{3}} + \\frac{2 A^{2} N R^{3} \\sin^{2}{\\left(R \\right)} \\cos^{2}{\\left(\\phi \\right)}}{T^{3}} + \\frac{2 A^{2} N R^{3} \\sin^{2}{\\left(\\phi \\right)} \\cos^{2}{\\left(R \\right)}}{T^{3}} + \\frac{2 A^{2} N R^{3} \\cos^{2}{\\left(R \\right)} \\cos^{2}{\\left(\\phi \\right)}}{T^{3}}\\right) + T^{2} \\left(- \\frac{6 A^{2} N R^{2} \\sin^{2}{\\left(R \\right)} \\sin{\\left(\\phi \\right)} \\cos{\\left(\\phi \\right)}}{T^{2}} - \\frac{6 A^{2} N R^{2} \\sin{\\left(R \\right)} \\sin^{2}{\\left(\\phi \\right)} \\cos{\\left(R \\right)}}{T^{2}} + \\frac{6 A^{2} N R^{2} \\sin{\\left(R \\right)} \\cos{\\left(R \\right)} \\cos^{2}{\\left(\\phi \\right)}}{T^{2}} + \\frac{6 A^{2} N R^{2} \\sin{\\left(\\phi \\right)} \\cos^{2}{\\left(R \\right)} \\cos{\\left(\\phi \\right)}}{T^{2}}\\right) + T \\left(\\frac{3 A^{2} N R \\sin^{2}{\\left(R \\right)} \\sin^{2}{\\left(\\phi \\right)}}{T} - \\frac{3 A^{2} N R \\sin^{2}{\\left(R \\right)} \\cos^{2}{\\left(\\phi \\right)}}{T} - \\frac{12 A^{2} N R \\sin{\\left(R \\right)} \\sin{\\left(\\phi \\right)} \\cos{\\left(R \\right)} \\cos{\\left(\\phi \\right)}}{T} - \\frac{3 A^{2} N R \\sin^{2}{\\left(\\phi \\right)} \\cos^{2}{\\left(R \\right)}}{T} + \\frac{3 A^{2} N R \\cos^{2}{\\left(R \\right)} \\cos^{2}{\\left(\\phi \\right)}}{T}\\right)\\right)}{48 R^{5} \\sigma_{m}^{6}} + \\frac{T^{2} \\left(A^{2} N \\sin^{2}{\\left(R \\right)} \\sin^{2}{\\left(\\phi \\right)} - 2 A^{2} N \\sin{\\left(R \\right)} \\sin{\\left(\\phi \\right)} \\cos{\\left(R \\right)} \\cos{\\left(\\phi \\right)} + A^{2} N \\cos^{2}{\\left(R \\right)} \\cos^{2}{\\left(\\phi \\right)} - A^{2} N \\cos^{2}{\\left(\\phi \\right)} + T^{2} \\left(\\frac{A^{2} N R^{2} \\sin^{2}{\\left(R \\right)} \\sin^{2}{\\left(\\phi \\right)}}{T^{2}} + \\frac{A^{2} N R^{2} \\sin^{2}{\\left(R \\right)} \\cos^{2}{\\left(\\phi \\right)}}{T^{2}} + \\frac{A^{2} N R^{2} \\sin^{2}{\\left(\\phi \\right)} \\cos^{2}{\\left(R \\right)}}{T^{2}} + \\frac{A^{2} N R^{2} \\cos^{2}{\\left(R \\right)} \\cos^{2}{\\left(\\phi \\right)}}{T^{2}}\\right) + T \\left(- \\frac{2 A^{2} N R \\sin^{2}{\\left(R \\right)} \\sin{\\left(\\phi \\right)} \\cos{\\left(\\phi \\right)}}{T} - \\frac{2 A^{2} N R \\sin{\\left(R \\right)} \\sin^{2}{\\left(\\phi \\right)} \\cos{\\left(R \\right)}}{T} + \\frac{2 A^{2} N R \\sin{\\left(R \\right)} \\cos{\\left(R \\right)} \\cos^{2}{\\left(\\phi \\right)}}{T} + \\frac{2 A^{2} N R \\sin{\\left(\\phi \\right)} \\cos^{2}{\\left(R \\right)} \\cos{\\left(\\phi \\right)}}{T}\\right)\\right)^{2} \\left(N \\sin^{2}{\\left(R \\right)} \\sin{\\left(\\phi \\right)} \\cos{\\left(\\phi \\right)} + N \\sin{\\left(R \\right)} \\sin^{2}{\\left(\\phi \\right)} \\cos{\\left(R \\right)} - N \\sin{\\left(R \\right)} \\cos{\\left(R \\right)} \\cos^{2}{\\left(\\phi \\right)} - N \\sin{\\left(\\phi \\right)} \\cos^{2}{\\left(R \\right)} \\cos{\\left(\\phi \\right)} + N \\sin{\\left(\\phi \\right)} \\cos{\\left(\\phi \\right)} + T \\left(\\frac{N R \\sin^{2}{\\left(R \\right)} \\sin^{2}{\\left(\\phi \\right)}}{T} + \\frac{N R \\sin^{2}{\\left(R \\right)} \\cos^{2}{\\left(\\phi \\right)}}{T} + \\frac{N R \\sin^{2}{\\left(\\phi \\right)} \\cos^{2}{\\left(R \\right)}}{T} + \\frac{N R \\cos^{2}{\\left(R \\right)} \\cos^{2}{\\left(\\phi \\right)}}{T}\\right)\\right)}{32 R^{5} \\sigma_{m}^{6}} - \\frac{T^{2} \\left(N \\sin^{2}{\\left(R \\right)} \\sin{\\left(\\phi \\right)} \\cos{\\left(\\phi \\right)} + N \\sin{\\left(R \\right)} \\sin^{2}{\\left(\\phi \\right)} \\cos{\\left(R \\right)} - N \\sin{\\left(R \\right)} \\cos{\\left(R \\right)} \\cos^{2}{\\left(\\phi \\right)} - N \\sin{\\left(\\phi \\right)} \\cos^{2}{\\left(R \\right)} \\cos{\\left(\\phi \\right)} + N \\sin{\\left(\\phi \\right)} \\cos{\\left(\\phi \\right)} + T \\left(\\frac{N R \\sin^{2}{\\left(R \\right)} \\sin^{2}{\\left(\\phi \\right)}}{T} + \\frac{N R \\sin^{2}{\\left(R \\right)} \\cos^{2}{\\left(\\phi \\right)}}{T} + \\frac{N R \\sin^{2}{\\left(\\phi \\right)} \\cos^{2}{\\left(R \\right)}}{T} + \\frac{N R \\cos^{2}{\\left(R \\right)} \\cos^{2}{\\left(\\phi \\right)}}{T}\\right)\\right) \\left(- A^{2} N \\sin^{2}{\\left(R \\right)} \\sin{\\left(\\phi \\right)} \\cos{\\left(\\phi \\right)} - A^{2} N \\sin{\\left(R \\right)} \\sin^{2}{\\left(\\phi \\right)} \\cos{\\left(R \\right)} + A^{2} N \\sin{\\left(R \\right)} \\cos{\\left(R \\right)} \\cos^{2}{\\left(\\phi \\right)} + A^{2} N \\sin{\\left(\\phi \\right)} \\cos^{2}{\\left(R \\right)} \\cos{\\left(\\phi \\right)} - A^{2} N \\sin{\\left(\\phi \\right)} \\cos{\\left(\\phi \\right)} + T \\left(\\frac{A^{2} N R \\sin^{2}{\\left(R \\right)} \\sin^{2}{\\left(\\phi \\right)}}{T} + \\frac{A^{2} N R \\sin^{2}{\\left(R \\right)} \\cos^{2}{\\left(\\phi \\right)}}{T} + \\frac{A^{2} N R \\sin^{2}{\\left(\\phi \\right)} \\cos^{2}{\\left(R \\right)}}{T} + \\frac{A^{2} N R \\cos^{2}{\\left(R \\right)} \\cos^{2}{\\left(\\phi \\right)}}{T}\\right)\\right) \\left(3 A^{2} N \\sin^{2}{\\left(R \\right)} \\sin{\\left(\\phi \\right)} \\cos{\\left(\\phi \\right)} + 3 A^{2} N \\sin{\\left(R \\right)} \\sin^{2}{\\left(\\phi \\right)} \\cos{\\left(R \\right)} - 3 A^{2} N \\sin{\\left(R \\right)} \\cos{\\left(R \\right)} \\cos^{2}{\\left(\\phi \\right)} - 3 A^{2} N \\sin{\\left(\\phi \\right)} \\cos^{2}{\\left(R \\right)} \\cos{\\left(\\phi \\right)} + 3 A^{2} N \\sin{\\left(\\phi \\right)} \\cos{\\left(\\phi \\right)} + T^{3} \\left(\\frac{2 A^{2} N R^{3} \\sin^{2}{\\left(R \\right)} \\sin^{2}{\\left(\\phi \\right)}}{T^{3}} + \\frac{2 A^{2} N R^{3} \\sin^{2}{\\left(R \\right)} \\cos^{2}{\\left(\\phi \\right)}}{T^{3}} + \\frac{2 A^{2} N R^{3} \\sin^{2}{\\left(\\phi \\right)} \\cos^{2}{\\left(R \\right)}}{T^{3}} + \\frac{2 A^{2} N R^{3} \\cos^{2}{\\left(R \\right)} \\cos^{2}{\\left(\\phi \\right)}}{T^{3}}\\right) + T^{2} \\left(- \\frac{6 A^{2} N R^{2} \\sin^{2}{\\left(R \\right)} \\sin{\\left(\\phi \\right)} \\cos{\\left(\\phi \\right)}}{T^{2}} - \\frac{6 A^{2} N R^{2} \\sin{\\left(R \\right)} \\sin^{2}{\\left(\\phi \\right)} \\cos{\\left(R \\right)}}{T^{2}} + \\frac{6 A^{2} N R^{2} \\sin{\\left(R \\right)} \\cos{\\left(R \\right)} \\cos^{2}{\\left(\\phi \\right)}}{T^{2}} + \\frac{6 A^{2} N R^{2} \\sin{\\left(\\phi \\right)} \\cos^{2}{\\left(R \\right)} \\cos{\\left(\\phi \\right)}}{T^{2}}\\right) + T \\left(\\frac{3 A^{2} N R \\sin^{2}{\\left(R \\right)} \\sin^{2}{\\left(\\phi \\right)}}{T} - \\frac{3 A^{2} N R \\sin^{2}{\\left(R \\right)} \\cos^{2}{\\left(\\phi \\right)}}{T} - \\frac{12 A^{2} N R \\sin{\\left(R \\right)} \\sin{\\left(\\phi \\right)} \\cos{\\left(R \\right)} \\cos{\\left(\\phi \\right)}}{T} - \\frac{3 A^{2} N R \\sin^{2}{\\left(\\phi \\right)} \\cos^{2}{\\left(R \\right)}}{T} + \\frac{3 A^{2} N R \\cos^{2}{\\left(R \\right)} \\cos^{2}{\\left(\\phi \\right)}}{T}\\right)\\right)}{48 R^{5} \\sigma_{m}^{6}}}$"
      ],
      "text/plain": [
       "(T**2*(A**2*N*sin(R)**2*sin(phi)**2 - 2*A**2*N*sin(R)*sin(phi)*cos(R)*cos(phi) + A**2*N*cos(R)**2*cos(phi)**2 - A**2*N*cos(phi)**2 + T**2*(A**2*N*R**2*sin(R)**2*sin(phi)**2/T**2 + A**2*N*R**2*sin(R)**2*cos(phi)**2/T**2 + A**2*N*R**2*sin(phi)**2*cos(R)**2/T**2 + A**2*N*R**2*cos(R)**2*cos(phi)**2/T**2) + T*(-2*A**2*N*R*sin(R)**2*sin(phi)*cos(phi)/T - 2*A**2*N*R*sin(R)*sin(phi)**2*cos(R)/T + 2*A**2*N*R*sin(R)*cos(R)*cos(phi)**2/T + 2*A**2*N*R*sin(phi)*cos(R)**2*cos(phi)/T))**2/(16*R**4*sigma_m**4) - T**2*(-A**2*N*sin(R)**2*sin(phi)*cos(phi) - A**2*N*sin(R)*sin(phi)**2*cos(R) + A**2*N*sin(R)*cos(R)*cos(phi)**2 + A**2*N*sin(phi)*cos(R)**2*cos(phi) - A**2*N*sin(phi)*cos(phi) + T*(A**2*N*R*sin(R)**2*sin(phi)**2/T + A**2*N*R*sin(R)**2*cos(phi)**2/T + A**2*N*R*sin(phi)**2*cos(R)**2/T + A**2*N*R*cos(R)**2*cos(phi)**2/T))*(3*A**2*N*sin(R)**2*sin(phi)*cos(phi) + 3*A**2*N*sin(R)*sin(phi)**2*cos(R) - 3*A**2*N*sin(R)*cos(R)*cos(phi)**2 - 3*A**2*N*sin(phi)*cos(R)**2*cos(phi) + 3*A**2*N*sin(phi)*cos(phi) + T**3*(2*A**2*N*R**3*sin(R)**2*sin(phi)**2/T**3 + 2*A**2*N*R**3*sin(R)**2*cos(phi)**2/T**3 + 2*A**2*N*R**3*sin(phi)**2*cos(R)**2/T**3 + 2*A**2*N*R**3*cos(R)**2*cos(phi)**2/T**3) + T**2*(-6*A**2*N*R**2*sin(R)**2*sin(phi)*cos(phi)/T**2 - 6*A**2*N*R**2*sin(R)*sin(phi)**2*cos(R)/T**2 + 6*A**2*N*R**2*sin(R)*cos(R)*cos(phi)**2/T**2 + 6*A**2*N*R**2*sin(phi)*cos(R)**2*cos(phi)/T**2) + T*(3*A**2*N*R*sin(R)**2*sin(phi)**2/T - 3*A**2*N*R*sin(R)**2*cos(phi)**2/T - 12*A**2*N*R*sin(R)*sin(phi)*cos(R)*cos(phi)/T - 3*A**2*N*R*sin(phi)**2*cos(R)**2/T + 3*A**2*N*R*cos(R)**2*cos(phi)**2/T))/(24*R**4*sigma_m**4))/(T**2*(2*A*N*sin(R)*cos(R)*cos(phi)**2 - A*N*sin(R)*cos(R) + 2*A*N*sin(phi)*cos(R)**2*cos(phi) - 2*A*N*sin(phi)*cos(phi) + T*(4*A*N*R*sin(R)*sin(phi)*cos(R)*cos(phi)/T - 4*A*N*R*cos(R)**2*cos(phi)**2/T + 2*A*N*R*cos(R)**2/T + 2*A*N*R*cos(phi)**2/T - A*N*R/T))**2*(-A**2*N*sin(R)**2*sin(phi)*cos(phi) - A**2*N*sin(R)*sin(phi)**2*cos(R) + A**2*N*sin(R)*cos(R)*cos(phi)**2 + A**2*N*sin(phi)*cos(R)**2*cos(phi) - A**2*N*sin(phi)*cos(phi) + T*(A**2*N*R*sin(R)**2*sin(phi)**2/T + A**2*N*R*sin(R)**2*cos(phi)**2/T + A**2*N*R*sin(phi)**2*cos(R)**2/T + A**2*N*R*cos(R)**2*cos(phi)**2/T))/(32*R**5*sigma_m**6) - T**2*(2*A*N*sin(R)*cos(R)*cos(phi)**2 - A*N*sin(R)*cos(R) + 2*A*N*sin(phi)*cos(R)**2*cos(phi) - 2*A*N*sin(phi)*cos(phi) + T*(4*A*N*R*sin(R)*sin(phi)*cos(R)*cos(phi)/T - 4*A*N*R*cos(R)**2*cos(phi)**2/T + 2*A*N*R*cos(R)**2/T + 2*A*N*R*cos(phi)**2/T - A*N*R/T))*(2*A*N*sin(R)*sin(phi)*cos(R)*cos(phi) - 2*A*N*cos(R)**2*cos(phi)**2 + A*N*cos(R)**2 + 2*A*N*cos(phi)**2 - A*N)*(A**2*N*sin(R)**2*sin(phi)**2 - 2*A**2*N*sin(R)*sin(phi)*cos(R)*cos(phi) + A**2*N*cos(R)**2*cos(phi)**2 - A**2*N*cos(phi)**2 + T**2*(A**2*N*R**2*sin(R)**2*sin(phi)**2/T**2 + A**2*N*R**2*sin(R)**2*cos(phi)**2/T**2 + A**2*N*R**2*sin(phi)**2*cos(R)**2/T**2 + A**2*N*R**2*cos(R)**2*cos(phi)**2/T**2) + T*(-2*A**2*N*R*sin(R)**2*sin(phi)*cos(phi)/T - 2*A**2*N*R*sin(R)*sin(phi)**2*cos(R)/T + 2*A**2*N*R*sin(R)*cos(R)*cos(phi)**2/T + 2*A**2*N*R*sin(phi)*cos(R)**2*cos(phi)/T))/(16*R**5*sigma_m**6) + T**2*(2*A*N*sin(R)*sin(phi)*cos(R)*cos(phi) - 2*A*N*cos(R)**2*cos(phi)**2 + A*N*cos(R)**2 + 2*A*N*cos(phi)**2 - A*N)**2*(3*A**2*N*sin(R)**2*sin(phi)*cos(phi) + 3*A**2*N*sin(R)*sin(phi)**2*cos(R) - 3*A**2*N*sin(R)*cos(R)*cos(phi)**2 - 3*A**2*N*sin(phi)*cos(R)**2*cos(phi) + 3*A**2*N*sin(phi)*cos(phi) + T**3*(2*A**2*N*R**3*sin(R)**2*sin(phi)**2/T**3 + 2*A**2*N*R**3*sin(R)**2*cos(phi)**2/T**3 + 2*A**2*N*R**3*sin(phi)**2*cos(R)**2/T**3 + 2*A**2*N*R**3*cos(R)**2*cos(phi)**2/T**3) + T**2*(-6*A**2*N*R**2*sin(R)**2*sin(phi)*cos(phi)/T**2 - 6*A**2*N*R**2*sin(R)*sin(phi)**2*cos(R)/T**2 + 6*A**2*N*R**2*sin(R)*cos(R)*cos(phi)**2/T**2 + 6*A**2*N*R**2*sin(phi)*cos(R)**2*cos(phi)/T**2) + T*(3*A**2*N*R*sin(R)**2*sin(phi)**2/T - 3*A**2*N*R*sin(R)**2*cos(phi)**2/T - 12*A**2*N*R*sin(R)*sin(phi)*cos(R)*cos(phi)/T - 3*A**2*N*R*sin(phi)**2*cos(R)**2/T + 3*A**2*N*R*cos(R)**2*cos(phi)**2/T))/(48*R**5*sigma_m**6) + T**2*(A**2*N*sin(R)**2*sin(phi)**2 - 2*A**2*N*sin(R)*sin(phi)*cos(R)*cos(phi) + A**2*N*cos(R)**2*cos(phi)**2 - A**2*N*cos(phi)**2 + T**2*(A**2*N*R**2*sin(R)**2*sin(phi)**2/T**2 + A**2*N*R**2*sin(R)**2*cos(phi)**2/T**2 + A**2*N*R**2*sin(phi)**2*cos(R)**2/T**2 + A**2*N*R**2*cos(R)**2*cos(phi)**2/T**2) + T*(-2*A**2*N*R*sin(R)**2*sin(phi)*cos(phi)/T - 2*A**2*N*R*sin(R)*sin(phi)**2*cos(R)/T + 2*A**2*N*R*sin(R)*cos(R)*cos(phi)**2/T + 2*A**2*N*R*sin(phi)*cos(R)**2*cos(phi)/T))**2*(N*sin(R)**2*sin(phi)*cos(phi) + N*sin(R)*sin(phi)**2*cos(R) - N*sin(R)*cos(R)*cos(phi)**2 - N*sin(phi)*cos(R)**2*cos(phi) + N*sin(phi)*cos(phi) + T*(N*R*sin(R)**2*sin(phi)**2/T + N*R*sin(R)**2*cos(phi)**2/T + N*R*sin(phi)**2*cos(R)**2/T + N*R*cos(R)**2*cos(phi)**2/T))/(32*R**5*sigma_m**6) - T**2*(N*sin(R)**2*sin(phi)*cos(phi) + N*sin(R)*sin(phi)**2*cos(R) - N*sin(R)*cos(R)*cos(phi)**2 - N*sin(phi)*cos(R)**2*cos(phi) + N*sin(phi)*cos(phi) + T*(N*R*sin(R)**2*sin(phi)**2/T + N*R*sin(R)**2*cos(phi)**2/T + N*R*sin(phi)**2*cos(R)**2/T + N*R*cos(R)**2*cos(phi)**2/T))*(-A**2*N*sin(R)**2*sin(phi)*cos(phi) - A**2*N*sin(R)*sin(phi)**2*cos(R) + A**2*N*sin(R)*cos(R)*cos(phi)**2 + A**2*N*sin(phi)*cos(R)**2*cos(phi) - A**2*N*sin(phi)*cos(phi) + T*(A**2*N*R*sin(R)**2*sin(phi)**2/T + A**2*N*R*sin(R)**2*cos(phi)**2/T + A**2*N*R*sin(phi)**2*cos(R)**2/T + A**2*N*R*cos(R)**2*cos(phi)**2/T))*(3*A**2*N*sin(R)**2*sin(phi)*cos(phi) + 3*A**2*N*sin(R)*sin(phi)**2*cos(R) - 3*A**2*N*sin(R)*cos(R)*cos(phi)**2 - 3*A**2*N*sin(phi)*cos(R)**2*cos(phi) + 3*A**2*N*sin(phi)*cos(phi) + T**3*(2*A**2*N*R**3*sin(R)**2*sin(phi)**2/T**3 + 2*A**2*N*R**3*sin(R)**2*cos(phi)**2/T**3 + 2*A**2*N*R**3*sin(phi)**2*cos(R)**2/T**3 + 2*A**2*N*R**3*cos(R)**2*cos(phi)**2/T**3) + T**2*(-6*A**2*N*R**2*sin(R)**2*sin(phi)*cos(phi)/T**2 - 6*A**2*N*R**2*sin(R)*sin(phi)**2*cos(R)/T**2 + 6*A**2*N*R**2*sin(R)*cos(R)*cos(phi)**2/T**2 + 6*A**2*N*R**2*sin(phi)*cos(R)**2*cos(phi)/T**2) + T*(3*A**2*N*R*sin(R)**2*sin(phi)**2/T - 3*A**2*N*R*sin(R)**2*cos(phi)**2/T - 12*A**2*N*R*sin(R)*sin(phi)*cos(R)*cos(phi)/T - 3*A**2*N*R*sin(phi)**2*cos(R)**2/T + 3*A**2*N*R*cos(R)**2*cos(phi)**2/T))/(48*R**5*sigma_m**6))"
      ]
     },
     "execution_count": 34,
     "metadata": {},
     "output_type": "execute_result"
    }
   ],
   "source": [
    "expr.subs(omega, R / T)"
   ]
  },
  {
   "cell_type": "code",
   "execution_count": null,
   "id": "a1d89494",
   "metadata": {},
   "outputs": [],
   "source": [
    "expr_series"
   ]
  },
  {
   "cell_type": "code",
   "execution_count": null,
   "id": "344b35ff",
   "metadata": {},
   "outputs": [
    {
     "ename": "KeyboardInterrupt",
     "evalue": "",
     "output_type": "error",
     "traceback": [
      "\u001b[0;31m---------------------------------------------------------------------------\u001b[0m",
      "\u001b[0;31mKeyboardInterrupt\u001b[0m                         Traceback (most recent call last)",
      "Cell \u001b[0;32mIn[20], line 13\u001b[0m\n\u001b[1;32m     10\u001b[0m var \u001b[38;5;241m=\u001b[39m FIM_inv[idx, idx]\n\u001b[1;32m     12\u001b[0m var_hyper \u001b[38;5;241m=\u001b[39m var\u001b[38;5;241m.\u001b[39mrewrite(sp\u001b[38;5;241m.\u001b[39mcosh)\n\u001b[0;32m---> 13\u001b[0m var_simplified \u001b[38;5;241m=\u001b[39m \u001b[43msp\u001b[49m\u001b[38;5;241;43m.\u001b[39;49m\u001b[43msimplify\u001b[49m\u001b[43m(\u001b[49m\u001b[43mvar_hyper\u001b[49m\u001b[43m)\u001b[49m\n\u001b[1;32m     15\u001b[0m param_vars[param] \u001b[38;5;241m=\u001b[39m var_simplified\n",
      "File \u001b[0;32m~/.local/lib/python3.13/site-packages/sympy/simplify/simplify.py:658\u001b[0m, in \u001b[0;36msimplify\u001b[0;34m(expr, ratio, measure, rational, inverse, doit, **kwargs)\u001b[0m\n\u001b[1;32m    656\u001b[0m expr \u001b[38;5;241m=\u001b[39m _bottom_up(expr, \u001b[38;5;28;01mlambda\u001b[39;00m w: \u001b[38;5;28mgetattr\u001b[39m(w, \u001b[38;5;124m'\u001b[39m\u001b[38;5;124mnormal\u001b[39m\u001b[38;5;124m'\u001b[39m, \u001b[38;5;28;01mlambda\u001b[39;00m: w)())\n\u001b[1;32m    657\u001b[0m expr \u001b[38;5;241m=\u001b[39m Mul(\u001b[38;5;241m*\u001b[39mpowsimp(expr)\u001b[38;5;241m.\u001b[39mas_content_primitive())\n\u001b[0;32m--> 658\u001b[0m _e \u001b[38;5;241m=\u001b[39m \u001b[43mcancel\u001b[49m\u001b[43m(\u001b[49m\u001b[43mexpr\u001b[49m\u001b[43m)\u001b[49m\n\u001b[1;32m    659\u001b[0m expr1 \u001b[38;5;241m=\u001b[39m shorter(_e, _mexpand(_e)\u001b[38;5;241m.\u001b[39mcancel())  \u001b[38;5;66;03m# issue 6829\u001b[39;00m\n\u001b[1;32m    660\u001b[0m expr2 \u001b[38;5;241m=\u001b[39m shorter(together(expr, deep\u001b[38;5;241m=\u001b[39m\u001b[38;5;28;01mTrue\u001b[39;00m), together(expr1, deep\u001b[38;5;241m=\u001b[39m\u001b[38;5;28;01mTrue\u001b[39;00m))\n",
      "File \u001b[0;32m~/.local/lib/python3.13/site-packages/sympy/polys/polytools.py:7380\u001b[0m, in \u001b[0;36mcancel\u001b[0;34m(f, _signsimp, *gens, **args)\u001b[0m\n\u001b[1;32m   7378\u001b[0m \u001b[38;5;28;01mif\u001b[39;00m f\u001b[38;5;241m.\u001b[39mhas(Piecewise):\n\u001b[1;32m   7379\u001b[0m     \u001b[38;5;28;01mraise\u001b[39;00m PolynomialError()\n\u001b[0;32m-> 7380\u001b[0m R, (F, G) \u001b[38;5;241m=\u001b[39m \u001b[43msring\u001b[49m\u001b[43m(\u001b[49m\u001b[43m(\u001b[49m\u001b[43mp\u001b[49m\u001b[43m,\u001b[49m\u001b[43m \u001b[49m\u001b[43mq\u001b[49m\u001b[43m)\u001b[49m\u001b[43m,\u001b[49m\u001b[43m \u001b[49m\u001b[38;5;241;43m*\u001b[39;49m\u001b[43mgens\u001b[49m\u001b[43m,\u001b[49m\u001b[43m \u001b[49m\u001b[38;5;241;43m*\u001b[39;49m\u001b[38;5;241;43m*\u001b[39;49m\u001b[43margs\u001b[49m\u001b[43m)\u001b[49m\n\u001b[1;32m   7381\u001b[0m \u001b[38;5;28;01mif\u001b[39;00m \u001b[38;5;129;01mnot\u001b[39;00m R\u001b[38;5;241m.\u001b[39mngens:\n\u001b[1;32m   7382\u001b[0m     \u001b[38;5;28;01mif\u001b[39;00m \u001b[38;5;129;01mnot\u001b[39;00m \u001b[38;5;28misinstance\u001b[39m(f, Tuple):\n",
      "File \u001b[0;32m~/.local/lib/python3.13/site-packages/sympy/polys/rings.py:164\u001b[0m, in \u001b[0;36msring\u001b[0;34m(exprs, *symbols, **options)\u001b[0m\n\u001b[1;32m    161\u001b[0m opt \u001b[38;5;241m=\u001b[39m build_options(symbols, options)\n\u001b[1;32m    163\u001b[0m \u001b[38;5;66;03m# TODO: rewrite this so that it doesn't use expand() (see poly()).\u001b[39;00m\n\u001b[0;32m--> 164\u001b[0m reps, opt \u001b[38;5;241m=\u001b[39m \u001b[43m_parallel_dict_from_expr\u001b[49m\u001b[43m(\u001b[49m\u001b[43mexprs\u001b[49m\u001b[43m,\u001b[49m\u001b[43m \u001b[49m\u001b[43mopt\u001b[49m\u001b[43m)\u001b[49m\n\u001b[1;32m    166\u001b[0m \u001b[38;5;28;01mif\u001b[39;00m opt\u001b[38;5;241m.\u001b[39mdomain \u001b[38;5;129;01mis\u001b[39;00m \u001b[38;5;28;01mNone\u001b[39;00m:\n\u001b[1;32m    167\u001b[0m     coeffs \u001b[38;5;241m=\u001b[39m \u001b[38;5;28msum\u001b[39m([ \u001b[38;5;28mlist\u001b[39m(rep\u001b[38;5;241m.\u001b[39mvalues()) \u001b[38;5;28;01mfor\u001b[39;00m rep \u001b[38;5;129;01min\u001b[39;00m reps ], [])\n",
      "File \u001b[0;32m~/.local/lib/python3.13/site-packages/sympy/polys/polyutils.py:346\u001b[0m, in \u001b[0;36m_parallel_dict_from_expr\u001b[0;34m(exprs, opt)\u001b[0m\n\u001b[1;32m    344\u001b[0m \u001b[38;5;250m\u001b[39m\u001b[38;5;124;03m\"\"\"Transform expressions into a multinomial form. \"\"\"\u001b[39;00m\n\u001b[1;32m    345\u001b[0m \u001b[38;5;28;01mif\u001b[39;00m opt\u001b[38;5;241m.\u001b[39mexpand \u001b[38;5;129;01mis\u001b[39;00m \u001b[38;5;129;01mnot\u001b[39;00m \u001b[38;5;28;01mFalse\u001b[39;00m:\n\u001b[0;32m--> 346\u001b[0m     exprs \u001b[38;5;241m=\u001b[39m [ \u001b[43mexpr\u001b[49m\u001b[38;5;241;43m.\u001b[39;49m\u001b[43mexpand\u001b[49m\u001b[43m(\u001b[49m\u001b[43m)\u001b[49m \u001b[38;5;28;01mfor\u001b[39;00m expr \u001b[38;5;129;01min\u001b[39;00m exprs ]\n\u001b[1;32m    348\u001b[0m \u001b[38;5;28;01mif\u001b[39;00m \u001b[38;5;28many\u001b[39m(expr\u001b[38;5;241m.\u001b[39mis_commutative \u001b[38;5;129;01mis\u001b[39;00m \u001b[38;5;28;01mFalse\u001b[39;00m \u001b[38;5;28;01mfor\u001b[39;00m expr \u001b[38;5;129;01min\u001b[39;00m exprs):\n\u001b[1;32m    349\u001b[0m     \u001b[38;5;28;01mraise\u001b[39;00m PolynomialError(\u001b[38;5;124m'\u001b[39m\u001b[38;5;124mnon-commutative expressions are not supported\u001b[39m\u001b[38;5;124m'\u001b[39m)\n",
      "File \u001b[0;32m~/.local/lib/python3.13/site-packages/sympy/core/cache.py:72\u001b[0m, in \u001b[0;36m__cacheit.<locals>.func_wrapper.<locals>.wrapper\u001b[0;34m(*args, **kwargs)\u001b[0m\n\u001b[1;32m     69\u001b[0m \u001b[38;5;129m@wraps\u001b[39m(func)\n\u001b[1;32m     70\u001b[0m \u001b[38;5;28;01mdef\u001b[39;00m\u001b[38;5;250m \u001b[39m\u001b[38;5;21mwrapper\u001b[39m(\u001b[38;5;241m*\u001b[39margs, \u001b[38;5;241m*\u001b[39m\u001b[38;5;241m*\u001b[39mkwargs):\n\u001b[1;32m     71\u001b[0m     \u001b[38;5;28;01mtry\u001b[39;00m:\n\u001b[0;32m---> 72\u001b[0m         retval \u001b[38;5;241m=\u001b[39m \u001b[43mcfunc\u001b[49m\u001b[43m(\u001b[49m\u001b[38;5;241;43m*\u001b[39;49m\u001b[43margs\u001b[49m\u001b[43m,\u001b[49m\u001b[43m \u001b[49m\u001b[38;5;241;43m*\u001b[39;49m\u001b[38;5;241;43m*\u001b[39;49m\u001b[43mkwargs\u001b[49m\u001b[43m)\u001b[49m\n\u001b[1;32m     73\u001b[0m     \u001b[38;5;28;01mexcept\u001b[39;00m \u001b[38;5;167;01mTypeError\u001b[39;00m \u001b[38;5;28;01mas\u001b[39;00m e:\n\u001b[1;32m     74\u001b[0m         \u001b[38;5;28;01mif\u001b[39;00m \u001b[38;5;129;01mnot\u001b[39;00m e\u001b[38;5;241m.\u001b[39margs \u001b[38;5;129;01mor\u001b[39;00m \u001b[38;5;129;01mnot\u001b[39;00m e\u001b[38;5;241m.\u001b[39margs[\u001b[38;5;241m0\u001b[39m]\u001b[38;5;241m.\u001b[39mstartswith(\u001b[38;5;124m'\u001b[39m\u001b[38;5;124munhashable type:\u001b[39m\u001b[38;5;124m'\u001b[39m):\n",
      "File \u001b[0;32m~/.local/lib/python3.13/site-packages/sympy/core/expr.py:3704\u001b[0m, in \u001b[0;36mExpr.expand\u001b[0;34m(self, deep, modulus, power_base, power_exp, mul, log, multinomial, basic, **hints)\u001b[0m\n\u001b[1;32m   3702\u001b[0m     \u001b[38;5;28;01mif\u001b[39;00m use_hint:\n\u001b[1;32m   3703\u001b[0m         hint \u001b[38;5;241m=\u001b[39m \u001b[38;5;124m'\u001b[39m\u001b[38;5;124m_eval_expand_\u001b[39m\u001b[38;5;124m'\u001b[39m \u001b[38;5;241m+\u001b[39m hint\n\u001b[0;32m-> 3704\u001b[0m         expr, hit \u001b[38;5;241m=\u001b[39m \u001b[43mExpr\u001b[49m\u001b[38;5;241;43m.\u001b[39;49m\u001b[43m_expand_hint\u001b[49m\u001b[43m(\u001b[49m\u001b[43mexpr\u001b[49m\u001b[43m,\u001b[49m\u001b[43m \u001b[49m\u001b[43mhint\u001b[49m\u001b[43m,\u001b[49m\u001b[43m \u001b[49m\u001b[43mdeep\u001b[49m\u001b[38;5;241;43m=\u001b[39;49m\u001b[43mdeep\u001b[49m\u001b[43m,\u001b[49m\u001b[43m \u001b[49m\u001b[38;5;241;43m*\u001b[39;49m\u001b[38;5;241;43m*\u001b[39;49m\u001b[43mhints\u001b[49m\u001b[43m)\u001b[49m\n\u001b[1;32m   3706\u001b[0m \u001b[38;5;28;01mwhile\u001b[39;00m \u001b[38;5;28;01mTrue\u001b[39;00m:\n\u001b[1;32m   3707\u001b[0m     was \u001b[38;5;241m=\u001b[39m expr\n",
      "File \u001b[0;32m~/.local/lib/python3.13/site-packages/sympy/core/expr.py:3635\u001b[0m, in \u001b[0;36mExpr._expand_hint\u001b[0;34m(expr, hint, deep, **hints)\u001b[0m\n\u001b[1;32m   3633\u001b[0m sargs \u001b[38;5;241m=\u001b[39m []\n\u001b[1;32m   3634\u001b[0m \u001b[38;5;28;01mfor\u001b[39;00m arg \u001b[38;5;129;01min\u001b[39;00m expr\u001b[38;5;241m.\u001b[39margs:\n\u001b[0;32m-> 3635\u001b[0m     arg, arghit \u001b[38;5;241m=\u001b[39m \u001b[43mExpr\u001b[49m\u001b[38;5;241;43m.\u001b[39;49m\u001b[43m_expand_hint\u001b[49m\u001b[43m(\u001b[49m\u001b[43marg\u001b[49m\u001b[43m,\u001b[49m\u001b[43m \u001b[49m\u001b[43mhint\u001b[49m\u001b[43m,\u001b[49m\u001b[43m \u001b[49m\u001b[38;5;241;43m*\u001b[39;49m\u001b[38;5;241;43m*\u001b[39;49m\u001b[43mhints\u001b[49m\u001b[43m)\u001b[49m\n\u001b[1;32m   3636\u001b[0m     hit \u001b[38;5;241m|\u001b[39m\u001b[38;5;241m=\u001b[39m arghit\n\u001b[1;32m   3637\u001b[0m     sargs\u001b[38;5;241m.\u001b[39mappend(arg)\n",
      "File \u001b[0;32m~/.local/lib/python3.13/site-packages/sympy/core/expr.py:3640\u001b[0m, in \u001b[0;36mExpr._expand_hint\u001b[0;34m(expr, hint, deep, **hints)\u001b[0m\n\u001b[1;32m   3637\u001b[0m         sargs\u001b[38;5;241m.\u001b[39mappend(arg)\n\u001b[1;32m   3639\u001b[0m     \u001b[38;5;28;01mif\u001b[39;00m hit:\n\u001b[0;32m-> 3640\u001b[0m         expr \u001b[38;5;241m=\u001b[39m \u001b[43mexpr\u001b[49m\u001b[38;5;241;43m.\u001b[39;49m\u001b[43mfunc\u001b[49m\u001b[43m(\u001b[49m\u001b[38;5;241;43m*\u001b[39;49m\u001b[43msargs\u001b[49m\u001b[43m)\u001b[49m\n\u001b[1;32m   3642\u001b[0m \u001b[38;5;28;01mif\u001b[39;00m \u001b[38;5;28mhasattr\u001b[39m(expr, hint):\n\u001b[1;32m   3643\u001b[0m     newexpr \u001b[38;5;241m=\u001b[39m \u001b[38;5;28mgetattr\u001b[39m(expr, hint)(\u001b[38;5;241m*\u001b[39m\u001b[38;5;241m*\u001b[39mhints)\n",
      "File \u001b[0;32m~/.local/lib/python3.13/site-packages/sympy/core/cache.py:72\u001b[0m, in \u001b[0;36m__cacheit.<locals>.func_wrapper.<locals>.wrapper\u001b[0;34m(*args, **kwargs)\u001b[0m\n\u001b[1;32m     69\u001b[0m \u001b[38;5;129m@wraps\u001b[39m(func)\n\u001b[1;32m     70\u001b[0m \u001b[38;5;28;01mdef\u001b[39;00m\u001b[38;5;250m \u001b[39m\u001b[38;5;21mwrapper\u001b[39m(\u001b[38;5;241m*\u001b[39margs, \u001b[38;5;241m*\u001b[39m\u001b[38;5;241m*\u001b[39mkwargs):\n\u001b[1;32m     71\u001b[0m     \u001b[38;5;28;01mtry\u001b[39;00m:\n\u001b[0;32m---> 72\u001b[0m         retval \u001b[38;5;241m=\u001b[39m \u001b[43mcfunc\u001b[49m\u001b[43m(\u001b[49m\u001b[38;5;241;43m*\u001b[39;49m\u001b[43margs\u001b[49m\u001b[43m,\u001b[49m\u001b[43m \u001b[49m\u001b[38;5;241;43m*\u001b[39;49m\u001b[38;5;241;43m*\u001b[39;49m\u001b[43mkwargs\u001b[49m\u001b[43m)\u001b[49m\n\u001b[1;32m     73\u001b[0m     \u001b[38;5;28;01mexcept\u001b[39;00m \u001b[38;5;167;01mTypeError\u001b[39;00m \u001b[38;5;28;01mas\u001b[39;00m e:\n\u001b[1;32m     74\u001b[0m         \u001b[38;5;28;01mif\u001b[39;00m \u001b[38;5;129;01mnot\u001b[39;00m e\u001b[38;5;241m.\u001b[39margs \u001b[38;5;129;01mor\u001b[39;00m \u001b[38;5;129;01mnot\u001b[39;00m e\u001b[38;5;241m.\u001b[39margs[\u001b[38;5;241m0\u001b[39m]\u001b[38;5;241m.\u001b[39mstartswith(\u001b[38;5;124m'\u001b[39m\u001b[38;5;124munhashable type:\u001b[39m\u001b[38;5;124m'\u001b[39m):\n",
      "File \u001b[0;32m~/.local/lib/python3.13/site-packages/sympy/core/operations.py:108\u001b[0m, in \u001b[0;36mAssocOp.__new__\u001b[0;34m(cls, evaluate, _sympify, *args)\u001b[0m\n\u001b[1;32m    105\u001b[0m \u001b[38;5;28;01mif\u001b[39;00m \u001b[38;5;28mlen\u001b[39m(args) \u001b[38;5;241m==\u001b[39m \u001b[38;5;241m1\u001b[39m:\n\u001b[1;32m    106\u001b[0m     \u001b[38;5;28;01mreturn\u001b[39;00m args[\u001b[38;5;241m0\u001b[39m]\n\u001b[0;32m--> 108\u001b[0m c_part, nc_part, order_symbols \u001b[38;5;241m=\u001b[39m \u001b[38;5;28;43mcls\u001b[39;49m\u001b[38;5;241;43m.\u001b[39;49m\u001b[43mflatten\u001b[49m\u001b[43m(\u001b[49m\u001b[43margs\u001b[49m\u001b[43m)\u001b[49m\n\u001b[1;32m    109\u001b[0m is_commutative \u001b[38;5;241m=\u001b[39m \u001b[38;5;129;01mnot\u001b[39;00m nc_part\n\u001b[1;32m    110\u001b[0m obj \u001b[38;5;241m=\u001b[39m \u001b[38;5;28mcls\u001b[39m\u001b[38;5;241m.\u001b[39m_from_args(c_part \u001b[38;5;241m+\u001b[39m nc_part, is_commutative)\n",
      "File \u001b[0;32m~/.local/lib/python3.13/site-packages/sympy/core/add.py:321\u001b[0m, in \u001b[0;36mAdd.flatten\u001b[0;34m(cls, seq)\u001b[0m\n\u001b[1;32m    313\u001b[0m \u001b[38;5;66;03m# now we have:\u001b[39;00m\n\u001b[1;32m    314\u001b[0m \u001b[38;5;66;03m# o = c*s, where\u001b[39;00m\n\u001b[1;32m    315\u001b[0m \u001b[38;5;66;03m#\u001b[39;00m\n\u001b[0;32m   (...)\u001b[0m\n\u001b[1;32m    318\u001b[0m \u001b[38;5;66;03m# let's collect terms with the same s, so e.g.\u001b[39;00m\n\u001b[1;32m    319\u001b[0m \u001b[38;5;66;03m# 2*x**2 + 3*x**2  ->  5*x**2\u001b[39;00m\n\u001b[1;32m    320\u001b[0m \u001b[38;5;28;01mif\u001b[39;00m s \u001b[38;5;129;01min\u001b[39;00m terms:\n\u001b[0;32m--> 321\u001b[0m     \u001b[43mterms\u001b[49m\u001b[43m[\u001b[49m\u001b[43ms\u001b[49m\u001b[43m]\u001b[49m \u001b[38;5;241m+\u001b[39m\u001b[38;5;241m=\u001b[39m c\n\u001b[1;32m    322\u001b[0m     \u001b[38;5;28;01mif\u001b[39;00m terms[s] \u001b[38;5;129;01mis\u001b[39;00m S\u001b[38;5;241m.\u001b[39mNaN \u001b[38;5;129;01mand\u001b[39;00m \u001b[38;5;129;01mnot\u001b[39;00m extra:\n\u001b[1;32m    323\u001b[0m         \u001b[38;5;66;03m# we know for sure the result will be nan\u001b[39;00m\n\u001b[1;32m    324\u001b[0m         \u001b[38;5;28;01mreturn\u001b[39;00m [S\u001b[38;5;241m.\u001b[39mNaN], [], \u001b[38;5;28;01mNone\u001b[39;00m\n",
      "File \u001b[0;32m~/.local/lib/python3.13/site-packages/sympy/core/basic.py:532\u001b[0m, in \u001b[0;36mBasic.__eq__\u001b[0;34m(self, other)\u001b[0m\n\u001b[1;32m    530\u001b[0m     \u001b[38;5;28;01mreturn\u001b[39;00m \u001b[38;5;28;01mFalse\u001b[39;00m\n\u001b[1;32m    531\u001b[0m \u001b[38;5;66;03m# check number *in* an expression\u001b[39;00m\n\u001b[0;32m--> 532\u001b[0m \u001b[38;5;28;01mfor\u001b[39;00m a, b \u001b[38;5;129;01min\u001b[39;00m \u001b[38;5;28;43mzip\u001b[39;49m\u001b[43m(\u001b[49m\u001b[43ma\u001b[49m\u001b[43m,\u001b[49m\u001b[43m \u001b[49m\u001b[43mb\u001b[49m\u001b[43m)\u001b[49m:\n\u001b[1;32m    533\u001b[0m     \u001b[38;5;28;01mif\u001b[39;00m \u001b[38;5;129;01mnot\u001b[39;00m \u001b[38;5;28misinstance\u001b[39m(a, Basic):\n\u001b[1;32m    534\u001b[0m         \u001b[38;5;28;01mcontinue\u001b[39;00m\n",
      "\u001b[0;31mKeyboardInterrupt\u001b[0m: "
     ]
    }
   ],
   "source": [
    "import sympy as sp\n",
    "\n",
    "# Param list and symbolic variables\n",
    "param_vars = {}\n",
    "\n",
    "# Rewrite and simplify each diagonal entry\n",
    "for param in params:\n",
    "    idx = param_indices[param]\n",
    "    var = FIM_inv[idx, idx]\n",
    "\n",
    "    var_hyper = var.rewrite(sp.cosh)\n",
    "    var_simplified = sp.simplify(var_hyper)\n",
    "\n",
    "    param_vars[param] = var_simplified"
   ]
  }
 ],
 "metadata": {
  "kernelspec": {
   "display_name": "Python 3",
   "language": "python",
   "name": "python3"
  },
  "language_info": {
   "codemirror_mode": {
    "name": "ipython",
    "version": 3
   },
   "file_extension": ".py",
   "mimetype": "text/x-python",
   "name": "python",
   "nbconvert_exporter": "python",
   "pygments_lexer": "ipython3",
   "version": "3.13.5"
  }
 },
 "nbformat": 4,
 "nbformat_minor": 5
}
