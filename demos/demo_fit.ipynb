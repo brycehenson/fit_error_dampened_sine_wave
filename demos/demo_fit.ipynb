{
 "cells": [
  {
   "cell_type": "code",
   "execution_count": null,
   "id": "c352ae14",
   "metadata": {},
   "outputs": [],
   "source": []
  },
  {
   "cell_type": "code",
   "execution_count": 1,
   "id": "6537e580",
   "metadata": {},
   "outputs": [],
   "source": [
    "import numpy as np\n",
    "import plotly.graph_objects as go\n",
    "from typing import Dict"
   ]
  },
  {
   "cell_type": "code",
   "execution_count": 2,
   "id": "c0f559d8",
   "metadata": {},
   "outputs": [
    {
     "data": {
      "application/vnd.plotly.v1+json": {
       "config": {
        "plotlyServerURL": "https://plot.ly"
       },
       "data": [
        {
         "mode": "lines",
         "name": "fun",
         "type": "scatter",
         "x": {
          "bdata": "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",
          "dtype": "f8"
         },
         "y": {
          "bdata": "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",
          "dtype": "f8"
         }
        }
       ],
       "layout": {
        "template": {
         "data": {
          "bar": [
           {
            "error_x": {
             "color": "#2a3f5f"
            },
            "error_y": {
             "color": "#2a3f5f"
            },
            "marker": {
             "line": {
              "color": "#E5ECF6",
              "width": 0.5
             },
             "pattern": {
              "fillmode": "overlay",
              "size": 10,
              "solidity": 0.2
             }
            },
            "type": "bar"
           }
          ],
          "barpolar": [
           {
            "marker": {
             "line": {
              "color": "#E5ECF6",
              "width": 0.5
             },
             "pattern": {
              "fillmode": "overlay",
              "size": 10,
              "solidity": 0.2
             }
            },
            "type": "barpolar"
           }
          ],
          "carpet": [
           {
            "aaxis": {
             "endlinecolor": "#2a3f5f",
             "gridcolor": "white",
             "linecolor": "white",
             "minorgridcolor": "white",
             "startlinecolor": "#2a3f5f"
            },
            "baxis": {
             "endlinecolor": "#2a3f5f",
             "gridcolor": "white",
             "linecolor": "white",
             "minorgridcolor": "white",
             "startlinecolor": "#2a3f5f"
            },
            "type": "carpet"
           }
          ],
          "choropleth": [
           {
            "colorbar": {
             "outlinewidth": 0,
             "ticks": ""
            },
            "type": "choropleth"
           }
          ],
          "contour": [
           {
            "colorbar": {
             "outlinewidth": 0,
             "ticks": ""
            },
            "colorscale": [
             [
              0,
              "#0d0887"
             ],
             [
              0.1111111111111111,
              "#46039f"
             ],
             [
              0.2222222222222222,
              "#7201a8"
             ],
             [
              0.3333333333333333,
              "#9c179e"
             ],
             [
              0.4444444444444444,
              "#bd3786"
             ],
             [
              0.5555555555555556,
              "#d8576b"
             ],
             [
              0.6666666666666666,
              "#ed7953"
             ],
             [
              0.7777777777777778,
              "#fb9f3a"
             ],
             [
              0.8888888888888888,
              "#fdca26"
             ],
             [
              1,
              "#f0f921"
             ]
            ],
            "type": "contour"
           }
          ],
          "contourcarpet": [
           {
            "colorbar": {
             "outlinewidth": 0,
             "ticks": ""
            },
            "type": "contourcarpet"
           }
          ],
          "heatmap": [
           {
            "colorbar": {
             "outlinewidth": 0,
             "ticks": ""
            },
            "colorscale": [
             [
              0,
              "#0d0887"
             ],
             [
              0.1111111111111111,
              "#46039f"
             ],
             [
              0.2222222222222222,
              "#7201a8"
             ],
             [
              0.3333333333333333,
              "#9c179e"
             ],
             [
              0.4444444444444444,
              "#bd3786"
             ],
             [
              0.5555555555555556,
              "#d8576b"
             ],
             [
              0.6666666666666666,
              "#ed7953"
             ],
             [
              0.7777777777777778,
              "#fb9f3a"
             ],
             [
              0.8888888888888888,
              "#fdca26"
             ],
             [
              1,
              "#f0f921"
             ]
            ],
            "type": "heatmap"
           }
          ],
          "histogram": [
           {
            "marker": {
             "pattern": {
              "fillmode": "overlay",
              "size": 10,
              "solidity": 0.2
             }
            },
            "type": "histogram"
           }
          ],
          "histogram2d": [
           {
            "colorbar": {
             "outlinewidth": 0,
             "ticks": ""
            },
            "colorscale": [
             [
              0,
              "#0d0887"
             ],
             [
              0.1111111111111111,
              "#46039f"
             ],
             [
              0.2222222222222222,
              "#7201a8"
             ],
             [
              0.3333333333333333,
              "#9c179e"
             ],
             [
              0.4444444444444444,
              "#bd3786"
             ],
             [
              0.5555555555555556,
              "#d8576b"
             ],
             [
              0.6666666666666666,
              "#ed7953"
             ],
             [
              0.7777777777777778,
              "#fb9f3a"
             ],
             [
              0.8888888888888888,
              "#fdca26"
             ],
             [
              1,
              "#f0f921"
             ]
            ],
            "type": "histogram2d"
           }
          ],
          "histogram2dcontour": [
           {
            "colorbar": {
             "outlinewidth": 0,
             "ticks": ""
            },
            "colorscale": [
             [
              0,
              "#0d0887"
             ],
             [
              0.1111111111111111,
              "#46039f"
             ],
             [
              0.2222222222222222,
              "#7201a8"
             ],
             [
              0.3333333333333333,
              "#9c179e"
             ],
             [
              0.4444444444444444,
              "#bd3786"
             ],
             [
              0.5555555555555556,
              "#d8576b"
             ],
             [
              0.6666666666666666,
              "#ed7953"
             ],
             [
              0.7777777777777778,
              "#fb9f3a"
             ],
             [
              0.8888888888888888,
              "#fdca26"
             ],
             [
              1,
              "#f0f921"
             ]
            ],
            "type": "histogram2dcontour"
           }
          ],
          "mesh3d": [
           {
            "colorbar": {
             "outlinewidth": 0,
             "ticks": ""
            },
            "type": "mesh3d"
           }
          ],
          "parcoords": [
           {
            "line": {
             "colorbar": {
              "outlinewidth": 0,
              "ticks": ""
             }
            },
            "type": "parcoords"
           }
          ],
          "pie": [
           {
            "automargin": true,
            "type": "pie"
           }
          ],
          "scatter": [
           {
            "fillpattern": {
             "fillmode": "overlay",
             "size": 10,
             "solidity": 0.2
            },
            "type": "scatter"
           }
          ],
          "scatter3d": [
           {
            "line": {
             "colorbar": {
              "outlinewidth": 0,
              "ticks": ""
             }
            },
            "marker": {
             "colorbar": {
              "outlinewidth": 0,
              "ticks": ""
             }
            },
            "type": "scatter3d"
           }
          ],
          "scattercarpet": [
           {
            "marker": {
             "colorbar": {
              "outlinewidth": 0,
              "ticks": ""
             }
            },
            "type": "scattercarpet"
           }
          ],
          "scattergeo": [
           {
            "marker": {
             "colorbar": {
              "outlinewidth": 0,
              "ticks": ""
             }
            },
            "type": "scattergeo"
           }
          ],
          "scattergl": [
           {
            "marker": {
             "colorbar": {
              "outlinewidth": 0,
              "ticks": ""
             }
            },
            "type": "scattergl"
           }
          ],
          "scattermap": [
           {
            "marker": {
             "colorbar": {
              "outlinewidth": 0,
              "ticks": ""
             }
            },
            "type": "scattermap"
           }
          ],
          "scattermapbox": [
           {
            "marker": {
             "colorbar": {
              "outlinewidth": 0,
              "ticks": ""
             }
            },
            "type": "scattermapbox"
           }
          ],
          "scatterpolar": [
           {
            "marker": {
             "colorbar": {
              "outlinewidth": 0,
              "ticks": ""
             }
            },
            "type": "scatterpolar"
           }
          ],
          "scatterpolargl": [
           {
            "marker": {
             "colorbar": {
              "outlinewidth": 0,
              "ticks": ""
             }
            },
            "type": "scatterpolargl"
           }
          ],
          "scatterternary": [
           {
            "marker": {
             "colorbar": {
              "outlinewidth": 0,
              "ticks": ""
             }
            },
            "type": "scatterternary"
           }
          ],
          "surface": [
           {
            "colorbar": {
             "outlinewidth": 0,
             "ticks": ""
            },
            "colorscale": [
             [
              0,
              "#0d0887"
             ],
             [
              0.1111111111111111,
              "#46039f"
             ],
             [
              0.2222222222222222,
              "#7201a8"
             ],
             [
              0.3333333333333333,
              "#9c179e"
             ],
             [
              0.4444444444444444,
              "#bd3786"
             ],
             [
              0.5555555555555556,
              "#d8576b"
             ],
             [
              0.6666666666666666,
              "#ed7953"
             ],
             [
              0.7777777777777778,
              "#fb9f3a"
             ],
             [
              0.8888888888888888,
              "#fdca26"
             ],
             [
              1,
              "#f0f921"
             ]
            ],
            "type": "surface"
           }
          ],
          "table": [
           {
            "cells": {
             "fill": {
              "color": "#EBF0F8"
             },
             "line": {
              "color": "white"
             }
            },
            "header": {
             "fill": {
              "color": "#C8D4E3"
             },
             "line": {
              "color": "white"
             }
            },
            "type": "table"
           }
          ]
         },
         "layout": {
          "annotationdefaults": {
           "arrowcolor": "#2a3f5f",
           "arrowhead": 0,
           "arrowwidth": 1
          },
          "autotypenumbers": "strict",
          "coloraxis": {
           "colorbar": {
            "outlinewidth": 0,
            "ticks": ""
           }
          },
          "colorscale": {
           "diverging": [
            [
             0,
             "#8e0152"
            ],
            [
             0.1,
             "#c51b7d"
            ],
            [
             0.2,
             "#de77ae"
            ],
            [
             0.3,
             "#f1b6da"
            ],
            [
             0.4,
             "#fde0ef"
            ],
            [
             0.5,
             "#f7f7f7"
            ],
            [
             0.6,
             "#e6f5d0"
            ],
            [
             0.7,
             "#b8e186"
            ],
            [
             0.8,
             "#7fbc41"
            ],
            [
             0.9,
             "#4d9221"
            ],
            [
             1,
             "#276419"
            ]
           ],
           "sequential": [
            [
             0,
             "#0d0887"
            ],
            [
             0.1111111111111111,
             "#46039f"
            ],
            [
             0.2222222222222222,
             "#7201a8"
            ],
            [
             0.3333333333333333,
             "#9c179e"
            ],
            [
             0.4444444444444444,
             "#bd3786"
            ],
            [
             0.5555555555555556,
             "#d8576b"
            ],
            [
             0.6666666666666666,
             "#ed7953"
            ],
            [
             0.7777777777777778,
             "#fb9f3a"
            ],
            [
             0.8888888888888888,
             "#fdca26"
            ],
            [
             1,
             "#f0f921"
            ]
           ],
           "sequentialminus": [
            [
             0,
             "#0d0887"
            ],
            [
             0.1111111111111111,
             "#46039f"
            ],
            [
             0.2222222222222222,
             "#7201a8"
            ],
            [
             0.3333333333333333,
             "#9c179e"
            ],
            [
             0.4444444444444444,
             "#bd3786"
            ],
            [
             0.5555555555555556,
             "#d8576b"
            ],
            [
             0.6666666666666666,
             "#ed7953"
            ],
            [
             0.7777777777777778,
             "#fb9f3a"
            ],
            [
             0.8888888888888888,
             "#fdca26"
            ],
            [
             1,
             "#f0f921"
            ]
           ]
          },
          "colorway": [
           "#636efa",
           "#EF553B",
           "#00cc96",
           "#ab63fa",
           "#FFA15A",
           "#19d3f3",
           "#FF6692",
           "#B6E880",
           "#FF97FF",
           "#FECB52"
          ],
          "font": {
           "color": "#2a3f5f"
          },
          "geo": {
           "bgcolor": "white",
           "lakecolor": "white",
           "landcolor": "#E5ECF6",
           "showlakes": true,
           "showland": true,
           "subunitcolor": "white"
          },
          "hoverlabel": {
           "align": "left"
          },
          "hovermode": "closest",
          "mapbox": {
           "style": "light"
          },
          "paper_bgcolor": "white",
          "plot_bgcolor": "#E5ECF6",
          "polar": {
           "angularaxis": {
            "gridcolor": "white",
            "linecolor": "white",
            "ticks": ""
           },
           "bgcolor": "#E5ECF6",
           "radialaxis": {
            "gridcolor": "white",
            "linecolor": "white",
            "ticks": ""
           }
          },
          "scene": {
           "xaxis": {
            "backgroundcolor": "#E5ECF6",
            "gridcolor": "white",
            "gridwidth": 2,
            "linecolor": "white",
            "showbackground": true,
            "ticks": "",
            "zerolinecolor": "white"
           },
           "yaxis": {
            "backgroundcolor": "#E5ECF6",
            "gridcolor": "white",
            "gridwidth": 2,
            "linecolor": "white",
            "showbackground": true,
            "ticks": "",
            "zerolinecolor": "white"
           },
           "zaxis": {
            "backgroundcolor": "#E5ECF6",
            "gridcolor": "white",
            "gridwidth": 2,
            "linecolor": "white",
            "showbackground": true,
            "ticks": "",
            "zerolinecolor": "white"
           }
          },
          "shapedefaults": {
           "line": {
            "color": "#2a3f5f"
           }
          },
          "ternary": {
           "aaxis": {
            "gridcolor": "white",
            "linecolor": "white",
            "ticks": ""
           },
           "baxis": {
            "gridcolor": "white",
            "linecolor": "white",
            "ticks": ""
           },
           "bgcolor": "#E5ECF6",
           "caxis": {
            "gridcolor": "white",
            "linecolor": "white",
            "ticks": ""
           }
          },
          "title": {
           "x": 0.05
          },
          "xaxis": {
           "automargin": true,
           "gridcolor": "white",
           "linecolor": "white",
           "ticks": "",
           "title": {
            "standoff": 15
           },
           "zerolinecolor": "white",
           "zerolinewidth": 2
          },
          "yaxis": {
           "automargin": true,
           "gridcolor": "white",
           "linecolor": "white",
           "ticks": "",
           "title": {
            "standoff": 15
           },
           "zerolinecolor": "white",
           "zerolinewidth": 2
          }
         }
        },
        "width": 900,
        "xaxis": {
         "title": {
          "text": "time (s)"
         }
        },
        "yaxis": {
         "title": {
          "text": "Signal Amplitude (arb. u.)"
         }
        }
       }
      }
     },
     "metadata": {},
     "output_type": "display_data"
    }
   ],
   "source": [
    "from math_functions import damp_sine_wave\n",
    "\n",
    "\n",
    "x_samp = np.linspace(0, 10, 1000)\n",
    "y_samp = damp_sine_wave(x_samp, frequency=1, damping_rate=1, phase=0)\n",
    "\n",
    "\n",
    "fig = go.Figure().update_layout(width=900)\n",
    "\n",
    "fig.add_trace(go.Scatter(name=\"fun\", mode=\"lines\", x=x_samp, y=y_samp))\n",
    "fig.update_layout(\n",
    "    xaxis_title=\"time (s)\",\n",
    "    yaxis_title=\"Signal Amplitude (arb. u.)\",\n",
    ")\n",
    "fig.show()"
   ]
  },
  {
   "cell_type": "code",
   "execution_count": 3,
   "id": "740c978c",
   "metadata": {},
   "outputs": [
    {
     "data": {
      "application/vnd.plotly.v1+json": {
       "config": {
        "plotlyServerURL": "https://plot.ly"
       },
       "data": [
        {
         "mode": "lines",
         "name": "True Function",
         "type": "scatter",
         "x": {
          "bdata": "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",
          "dtype": "f8"
         },
         "y": {
          "bdata": "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",
          "dtype": "f8"
         }
        },
        {
         "line": {
          "width": 1
         },
         "mode": "lines",
         "name": "Noisy Data",
         "type": "scatter",
         "x": {
          "bdata": "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",
          "dtype": "f8"
         },
         "y": {
          "bdata": "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",
          "dtype": "f8"
         }
        },
        {
         "line": {
          "dash": "dash"
         },
         "mode": "lines",
         "name": "Fitted Curve",
         "type": "scatter",
         "x": {
          "bdata": "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",
          "dtype": "f8"
         },
         "y": {
          "bdata": "I8Igmda2gL/mbvspdbqrP6K2dLECcr0/NNVMca9Mxj9U5Dlb9KLNP8P/ggG/WtI/ZVPtBTC/1T8TuXjwC/zYP7hk0CLIDtw/Cyx5MRL13j+Fu42UaNbgPwI6JUkTGuI/ZToFmrdE4z/zDM3KoVXkP9vsICA8TOU/9qYV4Q4o5j8mpb45wOjmP15ymf8Tjuc/CwytWOsX6D+1L01GRIboP+8zihQ52eg/m89sr/8Q6T/xazLf6C3pP2It0mxfMOk/IbskMOcY6T8Z6hgJHOjoPz3HbcWwnug/iwh39G096D/1p3uqMMXnP+VVRzXpNuc/k4qOw5mT5j8RR8oAVdzlP7cVNKc8EuU/xpGMCYA25D/It1aWWkrjPwGEMFYST+I/jPztZvZF4T+YvRZ1XTDgP1sKv2pIH94/1D5iv1fK2z8iCYlasWTZPwgRorYg8dY/0XN6Z3Fy1D8TIms6bOvRP26h9c+ovc4/yPr7ssmeyT/pLToKm3/EP1lyForDyr4/nJaY6YWqtD8eh3eV/FClP+hXgLR8y2k/ex+XgRi1ob93JJYjR0myvwId9v1Kdbu/gXVX/T4rwr+hBzEnnnLGv0Nhy9wujcq/15PoN513zr8YoXDYaxfRv2TMUXoI2NK/+wWktWB81L+t/p43VAPWv+v7sZrma9e/d2VXsz+12L8oFii2q97Zv4wxzDeb59q/u06LB6PP278pWGDle5bcv6x2lhQCPN2/oJ4TzDTA3b9QzZKFNSPev12ZKy1HZd6/3lueMs2G3r9v1fN9Sojev4G/FElgat6/jygR4Mwt3r86wuBJatPdv9ZidNssXN2/heT9tiHJ3L8dQF45bRvcvxlDsldJVNu/Go787gN12r9rrO8H/X7ZvzsQ3RClc9i/WJ/ND3tU17/bR8bOCiPWvyLcNgTr4NS/30WLebuP078nCc8xIzHSv8ImSZLOxtC/9n/VHdukzr/pDru4Y6vLv2w24FKapMi/EvIbw96Txb+z1L3ziXzCvxqZWirVw76/bluk14OOuL/TEQl4gV+yv2wzVFoReqi/ph2FQp60mL90xu+xLt1KvzG38GFmjpY/8VAmNNWypj+SkqvujuawP/Ep1OQgRrY/NYEFgYJzuz9y7/BnMDXAP5uPPW1bk8I/xHe5HWjSxD8mtxiqpfDGP8VY6pCN7Mg/3z3wWMTEyj/BFowbGnjMP0Cvpt+KBc4/w5ilxT5szz/0Q5gCxVXQPwau2V524dA/XstZTQlZ0T8t8psmabzRPz8R022WC9I/xPXPZKZG0j8AgsOMwm3SP+f9uBQogdI/Ney6NieB0j9lz6GEIm7SPwYBmCWOSNI/DShoBe8Q0j8r8rT22cfRP+52QMnybdE/rBhwVesD0T+7zT5+gorQPxqA0yqDAtA/JEXncYbZzj9vfhbTRJTNP/o+B5ESN8w/UJRAItDDyj+86i4gazzJP7t6Lgncosc/VffHAiT5xT9OFmyeSkHEP29L7KJbfcI/tcre3GSvwD8ubxPw57K9P6rOusco+7k/x97fiZo7tj+t7anqPniyPyJFUFYOaq0/RJKXv6DrpT8IOSl6f/mcP0dVRLz+kow/EvPKEspHJb84McOLB6qMvxJ0Mq3EKJy/r5ibsKrMpL9vyjksb02rv/tp8ZKNyLC/VetIjjrJs79/mZYgUaa2v9w/QMmUXbm/Odp0Qvvsu7/g/KaarVK+v80q2YmERsC/fqr3409Nwb/1NNmKHD3Cvyxx9uhoFcO/Ai5uIc7Vw7/dOvXx/33EvzmDCHrMDcW/Kakj6BuFxb+lM9UN8OPFv3nqnttjKsa/lRulxapYxr9qOEISEG/GvwhwpRP2bca/pZqyTdVVxr+47GeJOyfGv/lzGtfK4sW/5FLlgDiJxb8vBLHuSxvFvySmP33dmcS/H2axSdUFxL/2n/jyKWDDv78ouFLfqcK/dYsHLwXkwb8lwZjmtQ/Bv58ruRgVLsC/37lIlZyAvr8uDzUXJ4+8v5rCTDI4irq/cbPtCUZ0uL/0p1C7y0+2vwpQnrdGH7S/xjgUKTTlsb/QfF3LHEivv9JQZeOUvKq/UaqpKKsspr+DsEABJp2hv4JEb1JmJZq/7d02wsYjkb+EVuhAmXyAv2/gyotYTkA/8Bu272Ysgj/KSbLACXWRP5DgDYRol5k/O4eikxO7oD9pIzR2Q4WkP+mIY+MbJ6g/XTiWUq6dqz9a6hOYR+auP8Y/1L44/7A/ON5CCvpxsj/0iDhga8qzP0wQSX6wB7U/GaI+bQ0ptj8FCS2e5i23PwUGpOXAFbg/HtWxVUHguD+0g4X3LI25P5rlnWVoHLo/kZONR/eNuj+3YHaw++G6P20Id2G1GLs/J2pc8YAyuz/kcPza1i+7Pxixs3NKEbs/jNKPy4jXuj/c+b94V4O6PyaT8U+TFbo/RxdLCy+PuT8Wp7/hMfG4P9yjfRC2PLg/AcQ/WOdytz/Ci0twAZW2Pw+S6XBOpLU/qZgjNyWitD+TRpLD54+zPxxSAJYBb7I/FyajB+ZAsT/YnqGlDgewPwrXMBvzha0/0QqCm0/sqj8VLqiUN0SoP/JdZVOvkKU/7JelkbfUoj9wh7dyShOgPzpZNyuxnpo/sQT4f4wXlT9cmd+Qoi2PP6eJHxMNRIQ/nISauCv6cj8KCEsW/s1BvxLki/On/3a/cq1ZljGihb9L64Ht1nqPv3sRHy6OgJS/5n4ob20Wmb/5PK7wOHudv8asDxyz1aC/hO4sbdnRor88Vn4zk7Ckv5X1+f6JcKa/sG+px40QqL+mDfNilY+pvx8Tn86+7Kq/B/ciUk8nrL8aTeR2sz6tv13MS9h+Mq6/n9+lzGsCr7+GbvHnWq6vv6137ywpG7C/96AwlD5NsL/WnCcklW2wv+n/18plfLC/m8eyVvp5sL/8r//UrGawvwHzyeLmQrC/3d5I8SAPsL/4PYn9wpevv9Wk/Il4866/gS9QvKIyrr/aKfzCmFatv1tgKfHGYKy/A2Tk3KxSq79qxhVz2y2qv+7jbAPz86i/1wVoRqGmp7/vsZ9fn0emv2/oc96v2KS/dvYwv5xbo7+icbZuNdKhv/r7ndJMPqC/WWmhr25Dnb8JmNMSkvyZv9xOZWOnq5a/zQHjDUpUk785HLqWE/SPv9JQ9WfOQIm/qRAF5aCVgr+calZuePJ3v1KqK1mByGW/rZH5YDUtPz8C+Ff4Uw1tP2fivDqsy3o/V3xVdWdbgz8u25itzR6JP4F9FZAbq44/FmIHxtr9kT95BrRpKoaUP/MVgQiF7JY/1Rq32x8vmT/Eq9LzXUybP1zt8PfQQp0/H9ePsTkRnz/1k4wyRFugP96c8HvuGKE/kL45ckPBoT8BkBp/AlSiP96SyYIC0aI/u+wNhzE4oz9B7wVclImjP92Qfh9GxaM/n7nEr3froz9jvukKb/yjP9OJg5uG+KM/7Lj+cyzgoz++VKV54bOjP4LMh4A4dKM/KF9/WdUhoz8oP4nTa72iP+NlwLG+R6I/W0VBl57BoT/CUUbq6CuhP527zq+Gh6A/DFhDwtaqnz/h1/94Jy2eP/08qCQJmJw/fEpdIJPtmj+o1qsV6C+ZP22DXJEzYZc/YmVrm6eDlT+VlZBUepmTPzW4sJvjpJE/X/PwejVQjz+KLaBgqEqLP6WMeL1+PYc/pt9QBAktgz+0qew/Cjt+P2am5uo0JnY/0AQJR1hHbD+oSucvOO1YP7Z6xWShtDi/q0vgr5RRYr/H/5I4MJZwv8WcV0POzHe/DxVpO1HGfr9WkcFoYr6Cv0myAPBL9YW/y2nCFVAFib+vo2PTDuyLv54uXpxep46//CkpwaaakL+g2Q4NEcqRvzXnKREu4ZK/Sq3VdVrfk7+rHxjCD8SUv99/IlPkjpW//mZbNos/lr/72q7m09WWvw7p+u2pUZe/GqaHaxSzl79XbJCANfqXv8ef+aNJJ5i/zSZi3qY6mL8WDNLvuzSYv1xdWGAPFpi/J0v5fD7fl78cx1pC/JCXv1xbqTYQLJe/RbU4NFWxlr/gXGsmuCGWv0xTc7o2fpW/j9WBBd7HlL85Tf8hyf+Tv1yRZcUfJ5O/uwdW0BQ/kr8oAoPa5EiRv4Xp/7vURZC/yd4MK2Bujr8FV3CyjzyMv0aMt6rh+Im/wVQWhQSmh78cl3qtqEaFv4urE7193YK/zpPvuy9tgL/yU2boyPB7vxv6prJxA3e/Hq4rC30Xcr/F5+U/5WNqv3mtKPJzr2C/6y5Wj7BsTL9PXVAd7X0yP2HnCEjcEFc/j3s0uGqGZD/H8TMioEFtP/r58mQ02XI/MJ3MNcnodj+DvZSZMcx6P8O2tiBPgH4/xi2R5iEBgT+3QI/euaeCP7za2UTDMoQ/4pxlLDShhT9VH7ZRJfKGP4SUZljSJIg/uzCc45k4iT8JowWK/SyKP7skLaahAYs/s2MDBE22iz/TtKhs6EqMP+57lxF+v4w/hndu2DgUjT8whrOIY0mNP4yD/9xnX40/GugZec1WjT8W557GODCNP/DH3Llp7Iw/2ialgDqMjD/5nNwcnhCMP3oHn+yeeos/wj3YIV3Lij8QgTgrDQSKP8BPcRD2JYk/mpGqw28yiD8dTSFq4SqHP5pN4J2/EIY/pV6AqorlhD/zD9nGzKqDPxpmhE0YYoI/GIAP9gUNgT9xOlAhZlp/Pz9aFox/iHw/YXfWupqneT+eYe0T+bp2P0s8K4PXxXM/6orKPGvLcD8Z2pIxvZ1rPwcMyBKcpmU/9LgUvRRvXz/1rVs38KxTP2ZHdw+jJEA/S9hwYxytKr9sN5HQbwBNv8KjOfIpY1m/RR5x5Fr6Yb8+RJxmzhVnv8LdsT6W/2u/+lUyJ9FZcL9tJqEpF5dyv3xsEiLitXS/wFIfKZ+0dr87McNG5JF4v4MXVRZxTHq/AjuHPC/je79MoNyvMlV9v4zqMdS5oX6/z0Qhai3If7++X5kpEGSAv80L+ZWn0IC/SUaU3s8pgb87ic4ikG+Bv7lc704DooG/ijfem1fBgb9dIZX9zc2Bvz57N4G5x4G/KGzGm36vgb+dS3dqkoWBvzn8ueV5SoG/L3sFCMn+gL/G84fpIaOAvzZn3dEzOIC/suXogXR9f7+g4Jfg925+vxg3bJuTRn2/EDad4fsFfL+KeqAY9a56v+oJ67hRQ3m/TWwYJ/DEd79qIcCLuDV2v0mKN6yal3S/swhyxovscr9yvCJyhDZxvyEGZhL97m6/5JEdM+Zia7837WfEsMxnv7nQubo/MGS/awsOs2iRYL+VkfmL4OdZv1fU9/0Mt1K/t8jJ6g0vR78OX5B4IUEyvyEq7wSKvyI/uNNq/VQ1Qj/9oGzYXmNPP1WxFIYYF1Y/k2YPQ09FXD/3GyMbiRthP4oSrGK882M/AkgwOPuoZj+s0VHVLjlpPwlkmSFxoms/QFWkrg3jbT8ih0h8gvlvPwWwgEJA8nA/jEyYCXbRcT+Vzflv7plyP/0ZQf5OS3M/lMWew1blcz9uD+MW3md0PzeUzj7W0nQ/9m+AAkkmdT+u0O0iWGJ1PynkYb48h3U/f40Wn0aVdT9TYwZ224x1Py0QJwN2bnU/2UNILKU6dT8N9t4DC/J0P6W9DsFblXQ/3HVLqlwldD/QUvTz4qJzP8XeTpTSDnM/HSlMDh1qcj++tIQ0wLVxP7h32OXE8nA/IYgfxT0icD8Lzavai4puPxGEUkf/uWw/cUSVESbVaj9FOL+VWd5oP4NZzrL512Y/USq7OGrEZD+xTsFfEKZiP87oFUtQf2A/kwPBMhWlXD+TqmIKNERYP8cZKC+i4FM/d1MCu9/9Tj/EcTNrKEdGPxXeEJGkSzs/H81t9TuJJD+CjWrCytkZvwiDlyXe1Ta/Fe0Je1FlQ7/aIInEPCNLvwkkw8X3TlG/dSsL6YfnVL8j8tS8V1hYvzW9fRuonlu/F8B/f/O3Xr+nmf+699BgvzFvpOZGLWK/2oOyv/5vY7/YZpOsVZhkv8GjMS+hpWW/oYke9lWXZr8b/VfNB21nv8R6Ym9pJmi/x2KIN0zDaL9COSu2n0Npv56QLShxp2m/fNSU0uruab9UA5lDUxpqv9KJbXoMKmq/2Nsh95Iear/RAQq0fPhpv8gYLwp4uGm/IrFVgkpfab+OBTSUz+1ov1gufFX3ZGi/Yr1mGsXFZ7+Hk3AJThFnvxVHA6S3SGa/fB7CRTZtZb9yeDacC4BkvxWKlRiFgmO/oqRWXfp1Yr9zyUypy1thv/xC8EFgNWC/QZX6vEkIXr8wGQcrFJNbv4dg75wFDlm/9eSXcQV8Vr+J+A6U+d9Tv0rviojDPFG/r2/UGXsqTb+SHIyeb9hHv156CXrriEK/HafLsq2COr+BHBGT7A0wv2WsOBMw9xa/jzQDY1SPET9yYyqp85osP8gfQ/oO9jc/w84GJnmqQD+aQheS/DBFP8o1xTy7ikk/219eIiC0TT/hDMcQ7dRQPwKDggVvtFI/gOZjLzR3VD+g3n5b/xtWP2rWNnC4oVc/aouV0GwHWT+rfSOXT0xaPyGG06i5b1s/rve4oClxXD8BXWSVQ1BdPwHq5bjQDF4/Jg6W1L6mXj+SEOShHx5fPwA6iAEoc18/a6qSEi+mXz/Mf+kqrbdfP01h4LI6qF8/8L6o5Y54Xz8+G214filfPwR9+in6u14/H6bpPA0xXj9P5UXe24ldP9xGuXqhx1w/DIxNBK/rWz+Ps9YqafdaP6X9HolG7Fk/TkHtyM3LWD9sKP2/k5dXP0OG/Yc5UVY/j4ejk2r6VD+DCtrC2pRTP6MFC3hEIlI/VKN1sGakUD/TaO1CBjpOP4K8NLm4G0s/Ejl7+GfxRz8rqei0kb5EP+UYq6eqhkE/GSTrXjaaPD8jm6cdeCo2P93tTyxNiS8/MvlguUTeIj9dlgTz1oAJP+iCcAG4kwe/UvHQ4avlIb/gQbPmCZctv1j5uLFLdzS/acg9gTrxOb+S/HEDrjQ/v+YVVjOpHkK/jKgiIpODRL/LjcWNPsdGvydZbbQA6Ei/XqRcLFvkSr8Wx5OL/LpMv7go6d3Aak6/2aMS6rHyT78iJymjA6lQv2GP0x4TRFG/vh1Hw1DKUb/tEUZmnDtSv+SY7gbsl1K/SH9pZ0vfUr/u/0OS2xFTv5wDWkzSL1O/5ZFFdHk5U79gVlZQLi9Tv9vsIMxgEVO/Kx7BppLgUr+mUvSSVp1Sv8k4OkpPSFK/FvUwlC7iUb/0JGhDtGtRv7eP6iit5VC/NpLB//FQUL9rUG6jzFxPv4DoN63u/U2/TqirnjWHTL8z6/K7m/pKv1cCXLgnWkm/AbwqYuqnR78rp9tP/OVFv+XbNZF7FkS/ASt3Zok7Qr+brNT/R1dAv0qC646w1zy/PNHzb6/2OL8x8wSDvA81v6uXQH74JjG/Pius+eGAKr9q/7BrOcAivy1HWndfJxa/8NoyYQsW/L4B3wRAu1r/PpoyllJSXxY/Z/fYdZBDIj8BRU5mvSApP4NlLWI4wS8/SYZ0QLMPMz9H6ru6Bhs2P1KIW4ErADk/uta2++m8Oz+V06BYP08+P3GXnEmvWkA/V+ipndh2QT89/ucAbHtCP74AwITVZ0M/fCi+/pw7RD8nV/r2ZfZEP3XkY3rvl0U/jG2u0RMgRj+Dz7UdyI5GP0F3Rtob5EY/ds9MSDggRz/LuILAX0NHPwiVxO/sTUc/Jn9I/lFARz/BvQGjFxtHP5dPiCTc3kY/Wp7oSFKMRj+u4sk1QCRGP36WYkJ+p0U/NHW5vPUWRT8QALejn3NEP+dGj1eDvkM/tNwNQrX4Qj8zZE54VSNCP/gNa1eOP0E//cKnHZNOQD9tHjkDPaM+P1uFuJHikzw/gnMav6FxOj96rMPkCz84P30BqRi2/jU/SD4AczazMz8+ocNgIV8xP6M5DgsOCi4/uHEEXuFOKT9xJia5vJEkP0PKe3MRrx8/FydNDiRKFj8BATjJE/wJP0SS8sqUnu4+nTN5MAyv9L6w1twDofALvz2qFF3OiRa/dwRZrprYHr8I6EFrv24jv5eZWmfaSCe/vRUZ8XX3Kr9gD9Brpncuv3y4EWJf4zC/VJIj+ShxMr++xGEZGuQzv5XD+fo9OzW/SjpdQ8F1Nr+2IZw08pI3v2Y+RLlAkji/2xduTT5zOb/H5r/FnTU6v5v9TfUy2Tq/x6FdM/JdO79eGyvC78M7vzrh7RdfCzy/dxpuC5I0PL/yKJXl9z88v+mHd1kcLjy/tO5oZKb/O7/TT7wXV7U7v3z2300IUDu/TqWSTKvQOr/zMPlVRzg6v4GgZCr4hzm/lWKffOzAOL9Tp5xaZOQ3v9VyZ4yv8za/aIUv6yvwNb+z0lCyQ9s0vz39LsxrtjO/Ei65HCKDMr9ou2PL60Ixv8v1uByn7i+/kbBo8c9DLb9i7Fmac4gqvymil660vye/zTuLmLPsJL/ZH4lqixIiv9uv65GdaB6/ZXaD2QmqGL9IKqSBTe8SvzrYF3NwfAq/uWvS+shx/r5c8E6ounvgvrer8cxvG+s+mrGfplFuAT+BJ+RrvM0LPyMZsc7w7RI/fDiBfgTIFz+oQsKJAXEcP649triLciA/VIZIul+QIj/mIKxcX5AkP0V/gw4UcSY/N1B51S4xKD+dR1PdiM8pPwRQ7NojSys/kn2QQyqjLD9AeF9Z79YtP4r9gg3v5S4/Elouuc3PLz9dmkDXK0owP97TRVHAmTA/WqLpeLHWMD9MFWxgHwExPx5eG308GTE/edUOFk0fMT+jb3SjphMxP78kZB+v9jA/8ts2SdzIMD9TPGfcsoowPxJfCrzFPDA/fnfpJ2q/Lz8OkEnhWuguP4pTIZ7N9S0/7wvuSkfpLD8+3qjMX8QrP/x0Pv2/iCo/9jvVoB84KT/L4B9WQ9QnP+5784P6XiY/1VVQRh3aJD+8sQFdikcjP9KH7B0lqSE/2agWbdMAID+3Fb9496AcPxgnpCkGNBk/2lDGVpa+FT+6i7cFYUQSP3b0W3Iikg0/oC6S5oCgBj9GjD9uzXX/PmcNkS1a0PE+p4olN7h30T5XXqOcUanhvstUa+seu/W+1Z8PwNokAb8X0PDdoToHv5deVKKfGQ2/MUOn+XBeEb8KGYCc5g8Uv8XlGbEPnxa/wdLSPvkJGb/W2LZz304bv2PdOIUubB2/8XAbW4NgH78Ce3UCVpUgv/36T/3TZCG/iNeZFFQeIr/wNBFmh8EivwZQg4o3TiO/PqhSUUbEI79GendkrSMkvx6X0NV9bCS/HLOtlt+eJL8wCY7aELskv2qTHmZlwSS/5BWSy0WyJL/YynqVLo4kvyeZWWGvVSS/G18h62kJJL/a//UKEaojv/aFdqZnOCO/E9Pnlj+1Ir+9+5mFeCEiv6qZ5b/+fSG/hBQgBMrLIL8jJOZI3Asgv0lONQCBfh6/qMXqrRLOHL/MufLonwgbv8anSm9lMBm/J9BU7adHF78yy9qAsVAVvySlHEPPTRO/HAJQ3E5BEb9p87lF+FoOv6IfHZE9KQq/ET2mL/DxBb+zoRuGgbkBv3Qfdh+bCPu+yJJ9oC2t8r4r+J7SCdLkvlytm11KIcK+RUlhgZfm1j5Eb9N/8RHrPmWwrwW1IvU+pJ69ixuA/D4gV5u5Zs0BP2H0gGNoNgU/V0CfT0p4CD8ODd9hepALP28fLGaefA4/VHidr0qdED9bVO9JPOQRP6OEky1OEhM/PvTfU8gmFD9696WpECEVP+c5WRWrABY/BxJKXjnFFj9Q0Kn1em4XPyAFK6JM/Bc/bsYpD6huGD/9jmBAo8UYP5FXRetvARk/lP4/t1oiGT+x2/5lyigZP9lzQOU+FRk/eZ95S1DoGD8DC87AraIYP6HG3VUcRRg/L5n1yXXQFz939zhCp0UXP3bfY/OvpRY/2mPIv5/xFT8rdy/LlSoVP/CCRga/URQ/EpNDs1RoEz8WY2jlmm8SP692Cf3eaBE/BJ65IXZVED8P1Wd4d20OP0B5LOMfHAw/K3PqQqy5CT+2hY/Q5kgHPwDyN0+azAQ/uxz1Ko9HAj+W0zpREXn/PrqVZVKEXPo+YtyYBtk+9T5TBprpViXwPkLOKbxMKuY+Bj4v+y9N2D7/5nDFQkqyPrAdcSkJkc2+lDUAuwjZ4L6kYbvTcwzqvsNNop4te/G+F53DzoXH9b5GLH4Xpuf5viPA0t4x2P2+2jHmQQfLAL87cO6fMo8Cv/H2eFxSNwS/91YcIkHCBb8BaOts/S4Hv1ZAGN2pfAi/Gu/PYo2qCb+u8OZDE7gKv8yHEvzKpAu/z+qN+GdwDL9TWCswwRoNv96l8JjQow2/34x8fLILDr9gzY2spFIOv/gmH5kFeQ6/kQ2jSVN/Dr/b0f86KmYOv2e0ACRELg6/xu0BonbYDb+OIK3PsWUNv/TjqMf+1gy/PRspFX4tDL92oVYUZmoLv6Zyi0QBjwq/Je9kjqycCb/+JbB/1ZQIv2xCNH/4eAe/ilRd+p5KBr+OxsWOXQsFvw7rljHSvAO/IUaxVqJgAr8YlIMZefgAv1lR2NIKDP++0GDmdvAV/L4yWzuGBRL5vmLCEWipA/a+K2jYGzXu8r7vMzPS76nvvt2YZ1Rodum+kONOaThI474R0ESGPUvavqjlzMW5Usy+kzJsDpi0ob4=",
          "dtype": "f8"
         }
        }
       ],
       "layout": {
        "template": {
         "data": {
          "bar": [
           {
            "error_x": {
             "color": "#2a3f5f"
            },
            "error_y": {
             "color": "#2a3f5f"
            },
            "marker": {
             "line": {
              "color": "#E5ECF6",
              "width": 0.5
             },
             "pattern": {
              "fillmode": "overlay",
              "size": 10,
              "solidity": 0.2
             }
            },
            "type": "bar"
           }
          ],
          "barpolar": [
           {
            "marker": {
             "line": {
              "color": "#E5ECF6",
              "width": 0.5
             },
             "pattern": {
              "fillmode": "overlay",
              "size": 10,
              "solidity": 0.2
             }
            },
            "type": "barpolar"
           }
          ],
          "carpet": [
           {
            "aaxis": {
             "endlinecolor": "#2a3f5f",
             "gridcolor": "white",
             "linecolor": "white",
             "minorgridcolor": "white",
             "startlinecolor": "#2a3f5f"
            },
            "baxis": {
             "endlinecolor": "#2a3f5f",
             "gridcolor": "white",
             "linecolor": "white",
             "minorgridcolor": "white",
             "startlinecolor": "#2a3f5f"
            },
            "type": "carpet"
           }
          ],
          "choropleth": [
           {
            "colorbar": {
             "outlinewidth": 0,
             "ticks": ""
            },
            "type": "choropleth"
           }
          ],
          "contour": [
           {
            "colorbar": {
             "outlinewidth": 0,
             "ticks": ""
            },
            "colorscale": [
             [
              0,
              "#0d0887"
             ],
             [
              0.1111111111111111,
              "#46039f"
             ],
             [
              0.2222222222222222,
              "#7201a8"
             ],
             [
              0.3333333333333333,
              "#9c179e"
             ],
             [
              0.4444444444444444,
              "#bd3786"
             ],
             [
              0.5555555555555556,
              "#d8576b"
             ],
             [
              0.6666666666666666,
              "#ed7953"
             ],
             [
              0.7777777777777778,
              "#fb9f3a"
             ],
             [
              0.8888888888888888,
              "#fdca26"
             ],
             [
              1,
              "#f0f921"
             ]
            ],
            "type": "contour"
           }
          ],
          "contourcarpet": [
           {
            "colorbar": {
             "outlinewidth": 0,
             "ticks": ""
            },
            "type": "contourcarpet"
           }
          ],
          "heatmap": [
           {
            "colorbar": {
             "outlinewidth": 0,
             "ticks": ""
            },
            "colorscale": [
             [
              0,
              "#0d0887"
             ],
             [
              0.1111111111111111,
              "#46039f"
             ],
             [
              0.2222222222222222,
              "#7201a8"
             ],
             [
              0.3333333333333333,
              "#9c179e"
             ],
             [
              0.4444444444444444,
              "#bd3786"
             ],
             [
              0.5555555555555556,
              "#d8576b"
             ],
             [
              0.6666666666666666,
              "#ed7953"
             ],
             [
              0.7777777777777778,
              "#fb9f3a"
             ],
             [
              0.8888888888888888,
              "#fdca26"
             ],
             [
              1,
              "#f0f921"
             ]
            ],
            "type": "heatmap"
           }
          ],
          "histogram": [
           {
            "marker": {
             "pattern": {
              "fillmode": "overlay",
              "size": 10,
              "solidity": 0.2
             }
            },
            "type": "histogram"
           }
          ],
          "histogram2d": [
           {
            "colorbar": {
             "outlinewidth": 0,
             "ticks": ""
            },
            "colorscale": [
             [
              0,
              "#0d0887"
             ],
             [
              0.1111111111111111,
              "#46039f"
             ],
             [
              0.2222222222222222,
              "#7201a8"
             ],
             [
              0.3333333333333333,
              "#9c179e"
             ],
             [
              0.4444444444444444,
              "#bd3786"
             ],
             [
              0.5555555555555556,
              "#d8576b"
             ],
             [
              0.6666666666666666,
              "#ed7953"
             ],
             [
              0.7777777777777778,
              "#fb9f3a"
             ],
             [
              0.8888888888888888,
              "#fdca26"
             ],
             [
              1,
              "#f0f921"
             ]
            ],
            "type": "histogram2d"
           }
          ],
          "histogram2dcontour": [
           {
            "colorbar": {
             "outlinewidth": 0,
             "ticks": ""
            },
            "colorscale": [
             [
              0,
              "#0d0887"
             ],
             [
              0.1111111111111111,
              "#46039f"
             ],
             [
              0.2222222222222222,
              "#7201a8"
             ],
             [
              0.3333333333333333,
              "#9c179e"
             ],
             [
              0.4444444444444444,
              "#bd3786"
             ],
             [
              0.5555555555555556,
              "#d8576b"
             ],
             [
              0.6666666666666666,
              "#ed7953"
             ],
             [
              0.7777777777777778,
              "#fb9f3a"
             ],
             [
              0.8888888888888888,
              "#fdca26"
             ],
             [
              1,
              "#f0f921"
             ]
            ],
            "type": "histogram2dcontour"
           }
          ],
          "mesh3d": [
           {
            "colorbar": {
             "outlinewidth": 0,
             "ticks": ""
            },
            "type": "mesh3d"
           }
          ],
          "parcoords": [
           {
            "line": {
             "colorbar": {
              "outlinewidth": 0,
              "ticks": ""
             }
            },
            "type": "parcoords"
           }
          ],
          "pie": [
           {
            "automargin": true,
            "type": "pie"
           }
          ],
          "scatter": [
           {
            "fillpattern": {
             "fillmode": "overlay",
             "size": 10,
             "solidity": 0.2
            },
            "type": "scatter"
           }
          ],
          "scatter3d": [
           {
            "line": {
             "colorbar": {
              "outlinewidth": 0,
              "ticks": ""
             }
            },
            "marker": {
             "colorbar": {
              "outlinewidth": 0,
              "ticks": ""
             }
            },
            "type": "scatter3d"
           }
          ],
          "scattercarpet": [
           {
            "marker": {
             "colorbar": {
              "outlinewidth": 0,
              "ticks": ""
             }
            },
            "type": "scattercarpet"
           }
          ],
          "scattergeo": [
           {
            "marker": {
             "colorbar": {
              "outlinewidth": 0,
              "ticks": ""
             }
            },
            "type": "scattergeo"
           }
          ],
          "scattergl": [
           {
            "marker": {
             "colorbar": {
              "outlinewidth": 0,
              "ticks": ""
             }
            },
            "type": "scattergl"
           }
          ],
          "scattermap": [
           {
            "marker": {
             "colorbar": {
              "outlinewidth": 0,
              "ticks": ""
             }
            },
            "type": "scattermap"
           }
          ],
          "scattermapbox": [
           {
            "marker": {
             "colorbar": {
              "outlinewidth": 0,
              "ticks": ""
             }
            },
            "type": "scattermapbox"
           }
          ],
          "scatterpolar": [
           {
            "marker": {
             "colorbar": {
              "outlinewidth": 0,
              "ticks": ""
             }
            },
            "type": "scatterpolar"
           }
          ],
          "scatterpolargl": [
           {
            "marker": {
             "colorbar": {
              "outlinewidth": 0,
              "ticks": ""
             }
            },
            "type": "scatterpolargl"
           }
          ],
          "scatterternary": [
           {
            "marker": {
             "colorbar": {
              "outlinewidth": 0,
              "ticks": ""
             }
            },
            "type": "scatterternary"
           }
          ],
          "surface": [
           {
            "colorbar": {
             "outlinewidth": 0,
             "ticks": ""
            },
            "colorscale": [
             [
              0,
              "#0d0887"
             ],
             [
              0.1111111111111111,
              "#46039f"
             ],
             [
              0.2222222222222222,
              "#7201a8"
             ],
             [
              0.3333333333333333,
              "#9c179e"
             ],
             [
              0.4444444444444444,
              "#bd3786"
             ],
             [
              0.5555555555555556,
              "#d8576b"
             ],
             [
              0.6666666666666666,
              "#ed7953"
             ],
             [
              0.7777777777777778,
              "#fb9f3a"
             ],
             [
              0.8888888888888888,
              "#fdca26"
             ],
             [
              1,
              "#f0f921"
             ]
            ],
            "type": "surface"
           }
          ],
          "table": [
           {
            "cells": {
             "fill": {
              "color": "#EBF0F8"
             },
             "line": {
              "color": "white"
             }
            },
            "header": {
             "fill": {
              "color": "#C8D4E3"
             },
             "line": {
              "color": "white"
             }
            },
            "type": "table"
           }
          ]
         },
         "layout": {
          "annotationdefaults": {
           "arrowcolor": "#2a3f5f",
           "arrowhead": 0,
           "arrowwidth": 1
          },
          "autotypenumbers": "strict",
          "coloraxis": {
           "colorbar": {
            "outlinewidth": 0,
            "ticks": ""
           }
          },
          "colorscale": {
           "diverging": [
            [
             0,
             "#8e0152"
            ],
            [
             0.1,
             "#c51b7d"
            ],
            [
             0.2,
             "#de77ae"
            ],
            [
             0.3,
             "#f1b6da"
            ],
            [
             0.4,
             "#fde0ef"
            ],
            [
             0.5,
             "#f7f7f7"
            ],
            [
             0.6,
             "#e6f5d0"
            ],
            [
             0.7,
             "#b8e186"
            ],
            [
             0.8,
             "#7fbc41"
            ],
            [
             0.9,
             "#4d9221"
            ],
            [
             1,
             "#276419"
            ]
           ],
           "sequential": [
            [
             0,
             "#0d0887"
            ],
            [
             0.1111111111111111,
             "#46039f"
            ],
            [
             0.2222222222222222,
             "#7201a8"
            ],
            [
             0.3333333333333333,
             "#9c179e"
            ],
            [
             0.4444444444444444,
             "#bd3786"
            ],
            [
             0.5555555555555556,
             "#d8576b"
            ],
            [
             0.6666666666666666,
             "#ed7953"
            ],
            [
             0.7777777777777778,
             "#fb9f3a"
            ],
            [
             0.8888888888888888,
             "#fdca26"
            ],
            [
             1,
             "#f0f921"
            ]
           ],
           "sequentialminus": [
            [
             0,
             "#0d0887"
            ],
            [
             0.1111111111111111,
             "#46039f"
            ],
            [
             0.2222222222222222,
             "#7201a8"
            ],
            [
             0.3333333333333333,
             "#9c179e"
            ],
            [
             0.4444444444444444,
             "#bd3786"
            ],
            [
             0.5555555555555556,
             "#d8576b"
            ],
            [
             0.6666666666666666,
             "#ed7953"
            ],
            [
             0.7777777777777778,
             "#fb9f3a"
            ],
            [
             0.8888888888888888,
             "#fdca26"
            ],
            [
             1,
             "#f0f921"
            ]
           ]
          },
          "colorway": [
           "#636efa",
           "#EF553B",
           "#00cc96",
           "#ab63fa",
           "#FFA15A",
           "#19d3f3",
           "#FF6692",
           "#B6E880",
           "#FF97FF",
           "#FECB52"
          ],
          "font": {
           "color": "#2a3f5f"
          },
          "geo": {
           "bgcolor": "white",
           "lakecolor": "white",
           "landcolor": "#E5ECF6",
           "showlakes": true,
           "showland": true,
           "subunitcolor": "white"
          },
          "hoverlabel": {
           "align": "left"
          },
          "hovermode": "closest",
          "mapbox": {
           "style": "light"
          },
          "paper_bgcolor": "white",
          "plot_bgcolor": "#E5ECF6",
          "polar": {
           "angularaxis": {
            "gridcolor": "white",
            "linecolor": "white",
            "ticks": ""
           },
           "bgcolor": "#E5ECF6",
           "radialaxis": {
            "gridcolor": "white",
            "linecolor": "white",
            "ticks": ""
           }
          },
          "scene": {
           "xaxis": {
            "backgroundcolor": "#E5ECF6",
            "gridcolor": "white",
            "gridwidth": 2,
            "linecolor": "white",
            "showbackground": true,
            "ticks": "",
            "zerolinecolor": "white"
           },
           "yaxis": {
            "backgroundcolor": "#E5ECF6",
            "gridcolor": "white",
            "gridwidth": 2,
            "linecolor": "white",
            "showbackground": true,
            "ticks": "",
            "zerolinecolor": "white"
           },
           "zaxis": {
            "backgroundcolor": "#E5ECF6",
            "gridcolor": "white",
            "gridwidth": 2,
            "linecolor": "white",
            "showbackground": true,
            "ticks": "",
            "zerolinecolor": "white"
           }
          },
          "shapedefaults": {
           "line": {
            "color": "#2a3f5f"
           }
          },
          "ternary": {
           "aaxis": {
            "gridcolor": "white",
            "linecolor": "white",
            "ticks": ""
           },
           "baxis": {
            "gridcolor": "white",
            "linecolor": "white",
            "ticks": ""
           },
           "bgcolor": "#E5ECF6",
           "caxis": {
            "gridcolor": "white",
            "linecolor": "white",
            "ticks": ""
           }
          },
          "title": {
           "x": 0.05
          },
          "xaxis": {
           "automargin": true,
           "gridcolor": "white",
           "linecolor": "white",
           "ticks": "",
           "title": {
            "standoff": 15
           },
           "zerolinecolor": "white",
           "zerolinewidth": 2
          },
          "yaxis": {
           "automargin": true,
           "gridcolor": "white",
           "linecolor": "white",
           "ticks": "",
           "title": {
            "standoff": 15
           },
           "zerolinecolor": "white",
           "zerolinewidth": 2
          }
         }
        },
        "title": {
         "text": "Fitted Params: {'frequency': np.float64(0.9999424725313475), 'damping_rate': np.float64(1.001308263710119), 'phase': np.float64(-0.008161326932328614)}"
        },
        "width": 900,
        "xaxis": {
         "title": {
          "text": "time (s)"
         }
        },
        "yaxis": {
         "title": {
          "text": "Signal Amplitude (arb. u.)"
         }
        }
       }
      }
     },
     "metadata": {},
     "output_type": "display_data"
    }
   ],
   "source": [
    "import numpy as np\n",
    "import numpy.typing as npt\n",
    "import plotly.graph_objects as go\n",
    "from scipy.optimize import curve_fit\n",
    "from math_functions import damp_sine_wave\n",
    "\n",
    "# 1. Generate clean data\n",
    "x_samp: npt.NDArray[np.float64] = np.linspace(0, 10, 1000)\n",
    "true_params = dict(frequency=1.0, damping_rate=1.0, phase=0.0)\n",
    "y_clean: npt.NDArray[np.float64] = damp_sine_wave(x_samp, **true_params)\n",
    "\n",
    "# 2. Add noise\n",
    "rng = np.random.default_rng(seed=42)\n",
    "noise: npt.NDArray[np.float64] = rng.normal(scale=0.05, size=x_samp.shape)\n",
    "y_noisy = y_clean + noise\n",
    "\n",
    "\n",
    "# 3. Define a wrapper for curve_fit\n",
    "def wrapper(\n",
    "    x: npt.NDArray[np.float64], frequency: float, damping_rate: float, phase: float\n",
    ") -> npt.NDArray[np.float64]:\n",
    "    return damp_sine_wave(\n",
    "        x, frequency=frequency, damping_rate=damping_rate, phase=phase\n",
    "    )\n",
    "\n",
    "\n",
    "# 4. Fit data with perturbed initial guess\n",
    "initial_guess = [0.8, 0.6, 0.2]  # intentionally inaccurate\n",
    "popt, pcov = curve_fit(wrapper, x_samp, y_noisy, p0=initial_guess)\n",
    "fitted_params = dict(zip([\"frequency\", \"damping_rate\", \"phase\"], popt))\n",
    "\n",
    "# 5. Visualize\n",
    "fig = go.Figure().update_layout(width=900)\n",
    "\n",
    "fig.add_trace(go.Scatter(name=\"True Function\", mode=\"lines\", x=x_samp, y=y_clean))\n",
    "fig.add_trace(\n",
    "    go.Scatter(name=\"Noisy Data\", mode=\"lines\", x=x_samp, y=y_noisy, line=dict(width=1))\n",
    ")\n",
    "fig.add_trace(\n",
    "    go.Scatter(\n",
    "        name=\"Fitted Curve\",\n",
    "        mode=\"lines\",\n",
    "        x=x_samp,\n",
    "        y=wrapper(x_samp, *popt),\n",
    "        line=dict(dash=\"dash\"),\n",
    "    )\n",
    ")\n",
    "\n",
    "fig.update_layout(\n",
    "    xaxis_title=\"time (s)\",\n",
    "    yaxis_title=\"Signal Amplitude (arb. u.)\",\n",
    "    title=f\"Fitted Params: {fitted_params}\",\n",
    ")\n",
    "fig.show()"
   ]
  },
  {
   "cell_type": "code",
   "execution_count": 4,
   "id": "979d3c06",
   "metadata": {},
   "outputs": [
    {
     "name": "stdout",
     "output_type": "stream",
     "text": [
      "[9.46645619 0.34364176 0.06269742 0.        ]\n"
     ]
    },
    {
     "data": {
      "application/vnd.plotly.v1+json": {
       "config": {
        "plotlyServerURL": "https://plot.ly"
       },
       "data": [
        {
         "mode": "lines",
         "name": "True Function",
         "type": "scatter",
         "x": {
          "bdata": "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",
          "dtype": "f8"
         },
         "y": {
          "bdata": "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",
          "dtype": "f8"
         }
        },
        {
         "line": {
          "width": 1
         },
         "mode": "markers",
         "name": "Noisy Data",
         "type": "scatter",
         "x": {
          "bdata": "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",
          "dtype": "f8"
         },
         "y": {
          "bdata": "EsfUtPkzjz+d/vNEgSThP8XVWYwHlu8/spJLPyzU7z/vsNhgQhjfP9h3cMoLeLG/8qpkMMSW4r9rF4rXLcXuv0w398MPK+6/RcLFoRrc478HSrZhYbOpP95KphI6BuQ/ygDwrLs/7j/wdW99W8PvP2Zb5FvkEeM/taqw45LBqr/haWfo+yziv59/grKGju+/gW8YjHtf7L8oGoe51DrivwhuZgEwSGk/89YRnl2p4T+gEux3pNvvP4fzjIXaWe0/kBwPPDJL4T8KkcXkqN2gv4Fj3HRc4uG/3Mtq4l0y7b9UKKaQJMLsv2g+f2y1HuG/zvPPUtQMwD8uqn186xHiPzrpEXVx1+w/cCfWMx/w6z9s2qBGSaDiP6Cq9tUVBaI/2nMmFe3i4r+SXAxDouLuv5u7zV2XYe6/U94cXZRu4L/+zNaeumavPwe60T14juM/1wZ7SzRb7D80jSTdnEHtPyp7JMo1fuE/1ckV6DuBkL/ayhZOrEbhvyU5YzKM8ey/m2wiVkSf679l6Mn1Wwjhv2JhAVLGtqY/JJHWFq6p4z/BxehMqdnqP+seVf1vBew/wltDu0Q54D9VArZIo46wv5XrP/QsE+O/RPq+EJyr6r+zlljzPL7tv6gW6Or5ht6/BLybDAvkqL9nAKDGjxTiP9AVVIYSNO0/QRLnch8f7T/ZvJ+c18nhP8DEWYZoeVY/kpJ5/7Mn47/7dqU7TpDtv3jg014vo+q/e2txq5PL4L9kRQGN7UuXv1iFvUmww+A/hatiIeI76z/08egzDKLsP9liqPyDjuA/0JOyHFfhgr8P082ryT3jv39wy1sqVey/hixq8yiq6r9vhLnzG6rgv9I6p7A0u7E/euqLp3J64T/jjkKbDuPrP/a2Mqg54uo/r4QZ2SMy3D8CNsEbSlKZv74H37aDROO/DQGCEVtU7L+ji57VC47qvx3QFz13R96/MOFiEJ3AtT+7z01xeFbiP0KrcmHZjes/jdumsd8G6z8UIB/8Av/ZP0Pu8twrNsC/XEngTgqX5L9TyzRgg7Xtv9/g8z6JWOq/WJV7bcn94L/4FVBzQW+jP7IYZQbFh+Q/yi6Pc/ls6z8zT9VbUf/rPy01r5gHyts/+m5mPILWsb8eIdtX+PLjv4LoHquta+y/Rfsz3C1O6b8cySSftv/hv2gWgaaYabU/bCULp1jJ4j+QYQyUaM/qP0C/IkdkK+g/9K/tno9l3j+0b+AkFUS3vysW+2OwAuK/0XP779Wb678Tz/MWIMHnvx+XBYkgod6/nqkN78ARkD9/70gFWKXiP7ALUa/24Os/T+OXoqRT7D+LIB/9Hx7gP6zglGWNWKq/Zke5Z7j8378B/VPe40/tv9pzaEPbAuu/NVd0XGEd4L8by6HSELyqP2cMvaSNG+A/hfkm1k1P7D/OsIfU33fpP8qnXJvoQtg/YrXa4yr3v78EVxSqpMjhv38Yg8MT1um/0yPtUU535r9dmGa+VlnTv1ZRADV937g/YFHTU0Kt4D+c8YK2XqbnP1QMfmhH7ek/yoKkz33H2T+/W0psHnu5v/RqV8y0NuO/IADMWKkr678vqwygpKHnv1VgP71eltu/+TLuOha5sj8mDRy/G43gP+pPSr5vJug/4RJrUuhl6D977+1DB6HbP3BYaXTOsXQ/23BNTS354b/QQ4dCTiTpvzQF1pmg0Om/GY4PQlhO37+a8h09BB6jP7pOZJ+d/uA/gbmcqikB7j9W01TK4IrnP7QvnVCR6d0/zIg1yQEFwb9KzFI9IqPgv9l0ZXo63um/sqCnQd3y6L9k4Gy/lxPbv2w1LomuU60/2LJ17FzQ4j8BgTHUKaTpPzp8I/FElOY/pCD7ilGT1j9kkU5aa2S1v6+WnQJsF9+/8Knil6v/6b+yRbLCoJLov6kS83WKeNm/TrIEXCtvxD+KAyeNIWXiP6hNh6ife+k/d24OFBz/6T8OC2+X43rbP9RYPSLnJpS/qO6TWOW44b9Sb9QDR/zrv78YNM5+Quq/3uYjHqaM1L901Sjj7KXHPx3Pd8gBs+E/3gVW06JM6T+iZjfoAkHqP7gun4EbBNY/li2mANKbwr8LQxPRiO3gv+CHGFkibuq/tGDMmv3E57+SesPERc/Zv7qTmm9vnL4/P3MrrfYt5D/FM2f5lNTpP4CBqTFSo+g/X9P/c7p00j9Zkvhcz267v1JW+xQuP+O/3PAMN72F67/c60iKG9zovxqaXzBC0dm/cSwcHd6Fwz9+HQm7gX3fP3PYI+Inguk/S53AZSKH5j9jNXDc5G7XP0Ntsmvo/K2/6HqcBc354L8XiebP9zTnvzZTk0DzZee/QsytRK5x2r+gwmmu/na5P7dgl8SgMeI/8wDrP0+E6T9ASt3j5EPlPwlZZ9ZkPtg/Bvv6WWTnub/6WkQnTn7bvyN5ea+CHua/XY+xXR836L8oQQ6r2JzYv5qMJqwUKqU/IX3yWEnM4D9NSJaY4YPpPyVbSj5Ooeg/JjfYwMQZ1T/+1jxJ0hXDv4xKKUyfJeW/NY4xw6Qo6b/ftHtcfEDovwZPc83Q3ti/pJNkqgcNsz9ge3FBQofhP7ZB2/6E+eU/eF1XyIcO5D8u1dWy5LvdP5i1w1DUnMe/B9RIEtBm47+JMc1Gnrzlvz2D+07Om+G/HJHlM1Nq2r9sAExalX+6P6LgQ8kYKeI/ROnjg7BU6z/gcra2+IfkP/2FpDkOodU/W7uof9i4tb8i7Usbq+Lgv2CJqoNZDum/CIHVW6Ut5r/kE3K8J5Dav9kPuwXjE70/tdvw5x0f4T+c+gFGGbfoP6ls4sEw7uQ/9Li8g2ts1z/Kw6lmu5yzv6538Xr5Q+G/V5HQmLar578DMGhq4Jblv4wAnA7NqtW/JpSUhDrItz9kZAwGnfzhP7SzsNbM9+c/kMhE2i7h6D/jbkct73TaP/KirYhLhLy/h7Rzkcuq4r+GQFnSNsvpv/4xOctGe+O/em1Mm2dW1L8u03NHSATEPy2Z61C7Pd0/c1pY029j6T/5Zd9G0vjlPzl2cyEGYtE/6HEMx8EsxL8Ul0JOkPTgv4zzgxkftue//voifg+S5b8zpK3h7wbVvwPAzCOKgr8/yDWqtiOW4T9zc0eXdArqP64w1Tz02uA/ikpL8gez0z+jmHd4HnLAvzkiBLxp1eC/PKs9f0Es6L+TkWWi2qHnvwO5M9KwK9O/LZv/uu3VzD8vqucIpKLdPwdhP4L/2eg/Gk7BAPQn5D/Lr3/c5cnTP6XT4SW/uMi/4O+mKHXF4b+3mHdx/0flv/AvNwZAnOO/jMHrJWVqzL+eZEyo6bfJP5p1CE4g5+E/Wc76jjML6j++NUQbRxvlP5FzsQowK9Y/h4lNHzxHxL9Mne75xA7hv5Aq+iUCQ+i/jWuBTN2u4r8kUe40LQ/Xv1KBjRP2lMc/hVKIKKDS4D9cLjzNnOnoPwWK9B+oVOU/ib2+Ws/i2D8yphTFCi68v4g0wwNBm+O/l+6kb+MJ57+iBW5nOt7lv4J/1WvAfdS/iwzre9OgzD9d8ZMjDRPiP0rMd5jYtOU/n3Cl0DI84j/msTChSLbSP2wUkpvl7cq/CsnqcVQX4r9+U+/FDzjmvzFqNimd3+G/GiGMgmRv0L88cfiVYKeiP9Qh50eOd+E/RVzw8Sq65j8ifnfU8D/kPzQVRmooVdc/hhSOMm9b0L/8bLJHZ+PhvxgpNNR/j+W/XKkMfvv75b+WK+9LEm/KvxVhLjznC8Y/ww04tmRC4j+GOFMhnnzlPybLKKBln+Q/RoaDf80j1T9N7ZrrImDCv3u4BLDpfeC/VfnrY8Hc5b98IgOIypHkvxnPky2l+dG/13BEd3UQwz8GaTnyMnHhP8RN2yQZyuc/AoTHUtdc4T/4PJp5D+PQP1+vNQlcdrW/mJ5xZev64b98ng5BhGbnvzZb1NL4meK/QZZuQqW9zL+L8GQMi3TEP1KhDT7S4OI/8UXMtONZ5z+WfwoxOyTkP3V7TBzyodI/Jr23UQicpr/TXa97mArhvybuj1XiFOm/KhUh3xEZ4L+/+N4H0xzSv9FtaNiWZ8U/rahHXvzE4j+y7elnUjXjP1aIltZpiOA/wofdqbqgxj+bAiuQjPXJv3CvGAkB3d+/XTiUbFbU5L/9ww2rAffhv/sPnd8cwNS/Tq6WTT4CqT9tvZaDxq7gP881i5FQz+Q/i3aGwpMD4z+M10+M2ETSP56ACJVXT8S/pl3/PBmu3r+IYA8ZQBjlv+VqL8m0TeG/y8f9Qn0S0r+eCiKBXzPEP6VU9RrX1OA/0x2ui+Cr5j9cSfaEHWXhP4eXKKv1R9E/0IBldWw0x79NXVdiLqrgvw2KCEm+7eO/CqpimHsW5b/lwMDcRI/Tv1821B81Vrg/1Ef/sd9n2T8LXaXOfhHkPye7zzH9+OI/OZ9lsMKYzD8yEGa5hYnEv+qignOyTt2/5dWw8lzt4r98la6kZcLhv4RURparW8W/dJo0mwOKxj8Pa9gCUAjeP/q27SKp/+M/Dg95xrxP3j9qJYJC4/DHPx+pjFmSYsi/6+IukkAP3r9ZP1ELURjiv6qSSSDRnOO/1t2XwMO3yr8c3x/PDie/P6EI0eHJCOE/hECFd4qJ5D/k0OzzjLLcPyq9e7gzZNE/2UO6YmM/yr9pZklHkxbhv9QJhGyRW+a/Ph5+Regz4r9j/MoeRrfJv/kZqyJXTcU/o7pSrQG44D8rtBu04B/lPx6i3qm2JeM/co/NWUrgyT9SFnoS4wzQvwtZ41Jr49y/e3fXErn55L8hrdnTf0Levwr9tSkZPMm/7NOFEWHxxT8cO9MAH6vgP4P63wF3d+c/1crCNrEd5D++xFuh78DLP2VrLGth48W/YpgGWKGx3L8CKMDzK5nlvwW8WwTeI+C/DAIIpGUZy79XKFQTNQ3JP8qeRvRGY90/SlNZLzya4T9+H5MmYHnaP9q9TAnIaMM/vqVnMOwayr9540xzYnTgv9AUin5w8uC/MHgDKdNU3b8Kb4iQfizQv7ytbf8chck/fs/XeKaV3j8nCCjBIn7jP+DgbmQjneA/+Cs0FQ7JzT+FtxbVvZbJv1bZ9vwXZty/xGRpCBut5b+FrIvpljDgv9woK1lhqrG/0uq0V1j3yD+gOef9CyfiP7ZQuYav5eM/NRryNy8D4T8lxh+hgLvIPymSZOV6v8i/yordQXIQ4b/WwnCO2vbiv9HcT8BaVOG/8ahV6Q56xL+jrgiAVrjOPxWVwdVvXOA/uKa+wtYY4z/SS14P7pPgPyjdD0aJZ8Y/1FfgI9Dmwb+sNbd3janiv63qnoeb/uO/CTsBG//r4r8r5sTtFszQvw3biOiIXdA/DQih5iUf4T8zxq1GkzXiP8ewOEC5b9o/vCzUk7nOoj+YwzEuYpfLvwhNZPw8jNe/PdQGU1qR4r+ow8MtXmfgvxZ3z3KOWcS//SiHAbR2vD84OtIQf0HeP6gpTYqCU+M/hbWJPd2D3j/1QhwFqQrMP8eX3RySH8a/bNo2mYj73L+AGSxRFCzkv4zy2jNGsdu/fSqJkJRsuL9b/1CuqjnCP28EQCq7Mdw/fRr0c7Ec5T+4ZhMyr7rdP7VI2Nj4R88/I2jElKVey796OPKazkrav/Cqm341q+K/XrnnrdxK3b/DbqdqmOO3v9uk8JHTUsY/aMNJe5vZ2z9KGLhQ6xDiP3ZBjok5WN8/kSBOV3o0tz9shw+SmKjEv3wE7p7WP+C/4E/iJyva4L/MokRLT6viv/6jIvkYU8q/wT0gGtgVvD+/rCcWKAvcP5YdjoV+/eI/B4qfHEni3D/pM6IUuVbDP0NKsoNf88m/HYWTlgbz3b8Kzh/f9Rzkv1muoGg4+tq/YIDv0kRkwL/JCrxGen3LPz3yhh+SJeA/TNuhvCrh4j/WLbp4bsThPz8qVbsPwMM/XP0Ob1wVy79BocGIB2vgv6dwuQmJ9uO/JXfPcvpk4L+y2wbSYqzJv7FX4zeUwcg/CqINwh1o3z9Wi3AKtkziP2+sUjRoJNo/VduxhxxtyT9M/ApwnpDEv2D72gp+wt6/VdxUKVEr47+UF/g6mp/av0xdKJP7JMK/GI+eX7MdwD+nX4PWa/HdPxBxuYRoc+I/EhsoQXpJ2T985vpYWD/EP46FxsrXY9G/r8zgqd3L2b9rXPGMYeLfv+xqbCBLw9y/+T7Nls1kwL9KwQUJE0K0P4+IuJmBSNo/DsNIPF5g4T+6mgJ7WlDYP6MTA4Bd+8Y/Jkivhfuzub8WZYPweNTgv4LfVJsmGOO/Q8ywkUTI2r+2SbMv7ymvvxnsrZIY5ME/Egkr/E6a3j+W85LnoZPkP5GK0/DQCtY/pweKLTAysz/kfCwZ6YDMvzv/DDP2Yd+/RmeCzV1F4L9It7TnC1navxSl2MOT2sy/KfJ8oe4qzT/vzVk4icfbP4eFrLrghOM/SDCczkHo2D8U5d/xFz26PwksbRQUe8a/8p1kXcoY279vXnxaDqzgv52cxcZuDeC/niPTe4vnur8VnU4m0mXDPzS5imSbM94/AiCXEH4K3j9IN48Qle/bP6FUvkQn4LY//FG6Px8m0b/B5+2TKRPbv00/j0pR0uC/B/4ghCNF3L/wQ29lsROsv8TaIXG9Vsc/zCuyrz9f3T9vSkMMaIzhP4WwNrcIH9g/tp5jKvkHwz/xEng1O6TNv9E9f6Qmf96/m+oxM1Oy3b8dXuh54zvdv6BMzoBKK8+/u1rLm1hN0j9yYHE5p5/iP11z+9JrSuA/ZhkxqdaB0z+NwgL8b+i6P7g/JIj8MMy/d/zLz2mb3b/zav+uqKHiv9JesNwNp9e/c83pHMKZt7/IC1/I6NvAPyWMsRiDJd8/6kv09aoL5D9cH9wDUNzZP1Esb33tbrk/k5Gnn+hky7+ed9pDltnavzFktAYfceO/GgRElKmW2L+fA6pVXRjBv3xJCbyeL9M/xb1NpMUr3D+LizMH1UDjP+SUEqZPY9U/vA/4BN4Twj8orCmYlI/Iv0UF36cza9+/Vo7qJ4I24L9sUgaOo9jUv4XdbMTaHcC/FcXIowSrvz+9QvDRsH3cPwQnGfs87t0/o8vjdDNw1z+icTha0X+6P3b1P4pB0dK/+UtvgTPQ4L+qwuJ56Rnfv5BBq8HXA9q/QfXVuHXqzb8+5R941MvPP6Iblj68PN0/TMVExXwv3j9M/1UNJPDTPx1pJ88jlcI/D25TdiiXyL9a9o8phKbUv3QmEr+z896/pTPVCs+41r/hD6ZNXRK8v/xX9aV6DdA/HEnewSAv3j/+u3LBjhDiPx6qat0kG9Y/bCXQn6DVsz/UPkYYkP7NvyStyLjtj9m/JBQ+eyso27/BrImxKA7ZvyxNDyNiUr6/+j3ZE6r8zD+jLLlUGjfbP/OHKVfTaeE/RaLVFvQx0D+skdYch5GrPyp+5aoNBNC/M458nvaq4b+j+Ap2sVjhv5FIuIjnJNq//GBrwgVtur+8AVSAtxjRP2Sel1n7CNs/Zj0nRe4j3D8q21N+atnWP4yFs/GzYsI/cF5dxy2u0L9RUT/WTqTev1TYkzFde92/3hSqRK+O179juleYoxitv5pOnogHEss/PnVDisjh3T+fwHsls8nbPydLYPKxoNY/wiMk5Tejsz9lRZDTmH3Rv2Q8PSkxRuC//5p8pru83L8Z8g0IwJvXv3QMvX4NdsG/OZngD9efyj86CmwOPxDfPylo9qcid9c/GAGRvR6E0T8kPJjD5A+jP+Jsg49r7cG/O3+p1UF12r9rXqfeGSTcvyvtYwVdxtm/6Ot2k7GXwb8YFuRoxC7OP+tWLUYPdds/lFWmHcUX4D+6YHw8ClnVP/TnZKY07rc/F+EpP1JXyr87orDeu7DYv3AB3FZkrtu/PPsuZXn02r9T2z9aylPIv2yzoIlP5tA/v7tunWrj3j8modFtCNXaP34lsWSzSc8/9RMegT6utD9juHDd63bFvz7Ne+JiPtW/Jjnq7/ZH3L8yCBaWJZzWvwmp0hBgX76/uuWuUxWHyz8OMufkWvLZP+pl3nFQhdo/XpUuC3HN2z8RgD9LPanEP2ldMcsBN8S/WBiEk2fC3b/TEdG0hd7avyYNMYLWBtO/PIq8n56vqL85lQlNtsHRP+p34/wQwdw/XG8BhmzP3z9iIvzBi/DWPydIrd3G6LU/r+PArMp607+fsx0dl1zav0IHDps9D9+/RYHXgnbT2L94oyJRCb+RP1ZMX/yPUdM/CfwN3BXj3j9WteSWPO/dP9z6oP3s4dg/mjpJDd/KsD8nwWzWyEzKv9ghv4fm8d2/1NG9bqmv27+/akefwDLUv8DBkeOIbsC/VTYC/Y9Lyz9hM6loVBnaP0SwquomRuE/0IHYkbwV1z8Y3UvOacivP4j4ctfqDcq/OSKhr/Ae2r+3yM+//Ejdv1sd/3klhde/OOEDc9M8sb/omk8x5+TGPyEA2VlqK9Y/Irr/gbkc3j/CrNsnayTVP4caxtBbAaC/h9A4Dct5zL+gjCHlguTWvwHIWVmK7di/rpyghD9x0L9pMU8tPd+rv37j/ohwTcY/O7jECvGE1j/3Z9PkCEPdP42EsdZIxtQ/dHGwJI97vj+Ka3jZobDEv5YSY7uMUdq/qP3aZZ77379crTgfM2vUvxy2DJf2mKW/7O2OzVN0yj83/gxHV/TXP5RShvFPp9w/AJ0l82Wf0T8UtrA5LXmUP+nbRuBsxcm/ikkAkJf/2r//ujp/Hejav103oo0gM9K/+V56PwRTu790sM1QPrPIP9SSwrSjON4//RNt+TLQ1z+G2GfC0UfIPwyiHSY5A6e/0UoPMrqby7/BDVwWBm7Zv7aLlljDwNu/QIWM4MW8zb8/gACPQhDHv8Fw9wWMV84/6TWgxgZv3j/RPhKl7pzXP2w0I6xUYdE/QH3fsvLufT+nattVpcXQv1MPfPG4Y9q/4EVW3vV/1r/egv7e3x3Jv8FjG9Irz66/u3ymeA4D1D+FG04zJ17ZPzf25NFWQ+A/7Gz2ipb70T9qqLuo28OoPzoePvmogMm/ywM6/uv6zb/8XxkWiAnYvx/+LUKKY9S/AL/mYePAgD8CyG7G8YjJP94GvfLzgNc/WbohnTuE3T+MqPAQ+xHSPzWvL1j19qo/SnXyaefEy7/Q69IUBOfXvxNrmJbtGNm/XYW5RuED2L9AB/t6z9tvvz2bJqenlMU/Jr8WFdBF1D81J3O9gx7aP1lhvb+/7tE/wOFfcUP+UD8mIlWdi43GvwMJshV3F92/GSK7jTB127/cCJAOJmLTvwe23UK+tqK/BCmyoD+pzT8N5E+j6XrVP0+GxNXCUtw/sfOxY+6P0T+S9DFiUauvv9xEQ7ImNdS/9iU7h06n2L+tSrEUNJDav5uBmYCSitG/XLWlETi7oL/c8jxYolPNP9YBkOEtjts/vBynA+Em1j+MyKp/EJ/KPy5VTqsGb5m/yQm89DAJyr9MeMX/qnLUvxkosFCC8Nq/EHbGZP7q2L8mSLDkTBS9v+Ax4mrtjcY/E3V8CFGO1j8u+zJc0BrYP1T6Sb9s49A/s5QwAHlOhz9Mn3hDgivFv64oWD2yadq/IAHkFiMG3L/HnNxL8CvOv35et97hMrq/E8xWIvFgzj/1EaQloHzYPyiFEKFzpdg/ALt7Fw2O1T+UYDliunh8v/z82Oy2ZL2/4PYP+gPK2L8DIAdWBw/dv2YyabmNGtC/Ytpj+zabs79gLMBBghHHP0sO32JWP9k/8bEf6taa2j8eYp6Oi2LMP+NmXOI5HrI/wI8nXbh3xL/tjWe3O0rTv/lCLXX4/Na/Ov7ePMBax7/YcLeDqjS9v3Q6lnoU1sk/h0zQOmIF1T+1KMHFcevYP7+9hm92I8w/CV5H4RNIhT8CmmyZaKO/v4cygpl4P9i/OCqytw0S17+VuyTa7H/Qv/AsB28x0Iu/NJd7CZvlyz8gla2ohgzZP3jj4AUP+9s/oiTVEzTj1D8PPf9KUiSgP6wu0ELkE8i/YbSq3+M0279t3xiG+2PYv/zdf5Mz78i/NBmZ7dM+nT9tNtXjVTLNPztwWaIZRdo/NocOybuJ2T9YxR13ny3TP9zi1DHFlJw/0umPTwMczr+1AuMvu0TWv9zrgmQlmuC/W3Uz76vyy78/hFO0CejIvxj5ZKrkysA/E/F7jdmy2D+zt56yvTbZP/ZG/a06r8Y/2+PhqtpOmb984YFWRwrDv7wEwMo1tti/ZhMu0kte0L+vBjcmF93Nvyt8Zx5nDoY/6mGdKuYS0z/gWeo+/H3XP2ggCxLfMtQ//5AqHcrgzD9xNImpmg57P11S+Gm2QtK/vQf6ezTN17//3NMMcKTZv/FfKCQmZce/WbRYNEU1dr/yvOo9m/bJP4aUwriljdY/BRbgEM7X1z+paOkj137QP6fi9pBbjqa/oEK2mmI20b+GdDQ3tUTTv6USSsqLT9i/pFNITyzs0r+ULTgakOORP+Y0HJiAtc4/7AMlJsHQ0T/dC19PopbXP3f5zyM/nNA/tjZ+FbjGlj9ABHFCwa7HvwitnuYsHtu/Bre32Xuo1b8G5O5K3i/OvyjN22WqHJu/11S1UBek0D9L3LR8ukTbPzCnTZXLUtw/mZb68LIz0j+j39zTELZxvwGAQSBvb8m/5O3gj9z90792g2dN5g7Wv1mkCMyM5Mq/pHojbIwWpT8=",
          "dtype": "f8"
         }
        },
        {
         "line": {
          "dash": "dash"
         },
         "mode": "lines",
         "name": "Fitted Curve",
         "type": "scatter",
         "x": {
          "bdata": "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",
          "dtype": "f8"
         },
         "y": {
          "bdata": "JIwA6CMAcj/l8wHJf8riP3EDNNF3OO4/igWwo+sS7j9wG/56Dm7iPwj0q0hXWX6/uJqfRNLG4r//XYmp4Bnuv+PKhWEq5e2/sv1W5ahC4r+hV+4anUmFPyl7q5sEw+I/YCcfFFT77T/n3jpImrftP3y1WDCIF+I/sEqWPQBXi7/shFwnF7/iv8GztznS3O2/JEagQDuK7b8nReANrOzhv8mioml3qpA/p2RPQAq74j8wMJdCW77tP7UmVTMNXe0/YgP4LxTC4T97DhlCwaGTv3VEhz7etuK/Q4eEVu+f7b9peccIEDDtv27V10jAl+G/9czzbGqRlj+9i255k7LiP1REypyOge0/Trk0qUMD7T8FaOUKsG3hPx7CrJ9/eZm/FJ/XRyqu4r+mdTc8OWPtv/uRqvyn1uy/7ma0KOND4b9JtHyADVqcP96e/f+iqeI/bI0gW+9E7T+SjAfrPKrsPza0BlVZGuE/q81lpiAzn79TJYX3/aTiv35BYB+xJu2/qbv7WwJ+7L+TnsxCEvHgvwoJn8xiAqE/ywR9gzug4j9MaliufgjtP2dlCTf4Uew/6xUlpQ3I4D83+dxohGeiv50EX/hbm+K/+N/yLFjq7L/5rIVjHibsv9XfXS9Ln+C/OGi7XPvIoz9WnRCqX5biP1ZXor89zOw/ZjqZyHT66z9Jy/OUynbgPxrZgtXNJqW/xLXj60aR4r+LPGOKL67sv9ngQE37zuu/8uGSiYtO4L8N1fr4AYGmP/lclxASjOI/to28sC2Q7D+XRE7YsaPrPxybFsGNJuA/iFpv5Z3Xp7+nhlhqwYbiv3ezwFU4cuy/bn5oUJh46799FRTfof3fvwwUtrGnKqk/GMTCSlWB4j9LWQ6cT1TsPym/DJyuTes/FyVQkqmu3z/M0DNtJXqqv6H+4ALOe+K/mEPRpXM27L/b8I6h9CLrv/cftwQyYN+/JbPhHx3Gqz+NMC7jK3biPyAmw5SkGOw/ZFcaR2r46j9FFX+fOhLfPy7BUsqUDq2/gx2WO29w4r/QdyyK4vrrv1QvsnIPzuq/AcE+zMLE3r+rHLllklOuP1ILdluYauI/iUblpi3d6z9TTDIK5KPqP8jm7fTJd94/tXTr4xuVr79Cd52Rp2Tiv1cJVguGv+u/t7VP8+d56r+8p+WDTyvev/c6tZebabA/AtBOLJ1e4j9ocXjX66HrP3BBmRMbUOo//tTg41Lf3T8SC7MV9Qaxv+coQHl5WOK/WjrYKl+E679iL3hQfSbqv4xH/H/Tk92/35ThWZ2isT/U8JvFPFLiPwn5kyTgZus/2sEwjw796T/5LrfD0EjdP1tRkE6XPLK/PKgBXudL4r/W6V3jbknrv97V4rTO0+m/8mLzGkr+3L9Qjm7a5dSyP5+Tho55ReI/2Lx8hQss6z87eYqmvarpP7iu9fE+tNw/PCCO4Itrs7/FcLai8z7iv/9hzCi2Duu/JYEASduB6b9tIma1rmrcv0IqZkCMALQ/YimU5VU44j96077qbvHqPwIe+4AnWek/N1tQ0pgh3D95xNXV6ZO0vyGHmqGgMeK/rN9c6DXU6r/7bg4zojDpv6rNI7b82Nu/CMYmeacltT/R47wg1CriPw7xRj4Lt+o/bxOtQ0sI6T+CDrTO2ZDbP4h7EP/HtbW/QtxnrPAj4r//1bUI75nqv/e8KJci4Oi/IBY5ii9J27/Ccro4TkS2P+0Ago32HOI/+IZ7Y+F86j9bvrIRKLjoPyCJT1f9Ads/2yi/8zzRtr9ZhmwM5hXiv9zrA2riX+q/UJtcl1uQ6L+z+/ikQrvav4/KLvqWXLc/5fQDcb8O4j8uoFU38kLqP0uUGAy9aOg/dDCc4v502j+hApISX+a3vwTYoAKDB+K/NLYS5hAm6r+6NLpTTEHov8dYBYAxL9q/h7vs/5duuD+UbBgIMQDiPxx5eZA+Ceo/bt32UQka6D89V2bt2enZP23RwIFE9bi/IlC9x8n44b/vLWVQe+zpvzRPZurz8ue//vlWm/ek2b8J4xBUZ3q5P4osYIdN8eE/8NNOP8fP6T9DM4MADMznPwc41fqJYNk/Kg9jLwP+ub8VZlCMvOnhvxPjTXYis+m/TaSrd1Gl57+oaEV9kBzZv/TJw8gagLo/d8dcGxfi4T9bChkOjZbpP4y0ITPEfuc/uoBylArZ2D+/fsjRsAC7v9It1Hhd2uG/XewGHwd66b+A9AsWZFjnv3tGjrL3ldi//oaS+Md/uz9aMoboj9LhP4XbDsGQXek/1vZ1AzEy5z/fizFKV1PYP5C90edi/bu/itfDra7K4b/blMkLKkHpvz/UUN4qDOe/V1tczigR2L+hecdGhHm8P5gxYAu6wuE/1flxFtMk6T8drnOJUebmP6Q1drJrz9c/uiNJuS70vL8iDrFDsrrhv7XI5feLCOm/TzGc56TA5r/JOU5qH47Xv+kqw99kbb0/aqCPmJey4T9DVabGVOzoPzsUb9skm+Y/sVkbakNN1z/HujtXKeW9v84nWUtqquG/jD7ZmC3Q6L8fmXhH0XXmv2uNfCbXDNe/e3JVuX5bvj+0le+cKqLhP5olSYQWtOg/BAotDqpQ5j9/+HgU2szWP5NaUpxn0L6/hTi6zdiZ4b/PYWaeD5jovzY36RGvK+a/dxqAqUuN1r/PfRaT5kO/P6hdph11keE/V7RH/Bh86D+u9PI04AbmPxD+aVsrTtY/dN8qLf61v79B+yfM/4jhv7P7qrIyYOi/TpN5WT3i5b8xWXegeA/Wv/gZYHtYE8A/ylM6GHmA4T8f5fXVXEToP0JclmHGveU/ZcBR7zLR1T83zVi8AEvAvyqZYEDhd+G/E502epco6L9iC00ve5nlv0LEC79Zk9W/q8ZDHPmBwD8RlKaCOG/hP+F/JLPiDOg/BUWMpFt15T9jGyGH7FXVPxlOPdxCuMC/2kWhHH9m4b+uxyCUPvHnvycQLqNnUeW/+Mp2v+oY1b84E7s73+3AP+6Jb0u1XeE/EDs3MKvV5z8+SvgMny3lP99BW+BT3NQ//KiNeM8iwb/Iu7pL21Thv6XZHpoouue/mh2dwwEK5b+6foZiJ6DUv0rU4c4UV8E/l1S3WfFL4T+7hzrktp7nP9N2u6iP5uQ/wzQav2Rk1D9RB0J5sIrBvwqQJbH3QuG/1rmZIFaD57+kdd+dSMPkv9bhoW8LKdS/S7+XsKO9wT9jC1KN7jnhP3Qe+WAGaOc/K+KChCyg5D+J9xLuGu7TP4TiLKzv78G/82MWKdYw4b/MRsO2x0znv92bDT47feS/4u7MtJKz07+rOK2hlSHCPyHa2b6uJ+E/iU8RM5ox5z8FC9ardFrkPzxomT5yedM/18gnxZZSwr857JGIeB7hv0KHq+Z9Fue/YZEhr9g35L8CSqwGuT/Tv9o3EEn0gsI/ufjCvzMV4T9ZFQricvvmPzT2JClnFeQ/39CjiGYG0z8ERkBer7LCv4zYgJ3gC+G/qJ5VNXng5r9d1gT7H/Pjv3CxiEB6zdK/5BP5M8nhwj+mfW9afwLhPxfqZ/CQxeY//w/WBQPR4z9sK86q85TSPwqu5PdCEMO/gpDDLhD54L8ihMwiuqrmvyItnioQr+O/3RtSRNJc0r/+XxfWHT7DPycLQ1KT7+A/KWHB2/SP5j8X0VNKR43jPyMbXYoVJdI/mhUR+Vprw78Y00X8CObgv7p+NypBdea/zR/fRahr47+vh6L6vO3Rv5TSvon7l8M/eVe2Y3Hc4D+4hNMcn1rmP+wnGv4ySuM/k5xAE8i20T/GEHyvAMTDv4MnEr/M0uC/aWTuwQ5A5r/8S9FT5yjjv/mGwFI2gNG/uR4UkGvvwz9xj2pEG8ngP8v3lSeQJeY/ZqfDJ8UH4z+bbRY4B0rRP1uZw089GsS/LjBlKV2/4L8mn41bIwvmv9N1o1rM5uK/eIqhQjoU0b+2vDkRd0TEP3KWPKOSteA/2N1Oa8jw5T+deRbN/MXiPyQwLPLO3tA/U92Z9RluxL901cDmu6vgv8L2CWR/1uW/zF22X1al4r/42uvGxKnQv1rGfBwnl8Q/1BxYKNmh4D8uh6ZSSLzlP5EcEfPYhOI/CkGBQRt10D/PF/Kjn7/Evx9O/5vql+C/9yDEQyOi5b+AX6lnhGTiv8FV+OLRQNC/jbyBqITnxD8Plkp18I3gPynkukMQiOU/euL2nVhE4j/RV8gs6AzQPydILUXXDsW/p/5l5+qD4L8kF5xeD27lv8bVZnZVJOK/F7ynQbuyz79sV3GTmDXFP8UHFiXaeeA/fL4yoCBU5T+qO1zRegTiPw6r0YJjTM8/5v1Gq8lbxb+LOLhgvm/gv2EzBBREOuW/Nkowj8jk4b9IL4EiyObOv/4lJaNrgcU/cLVDzJdl4D+iuVDFeSDlP+XHMpA+xeE/Ebv/JuiBzj8UAwKQf6bFvxHRSZlmW+C/VxQUv8EG5b9Xa6q03KXhvx+ybZfCHc6/SFpUhQbLxT+4ovb4KlHgP1MaBgwc7eQ/0DTV3KKG4T9NT8J7VrrNP5cIFZUB78W/n5URHOVG4L8ASZu2iNPkv6nM6OiQZ+G/pL7L3KJXzb/0UsDPcRLGP2f7/TKVPOA/ylYFyQe65D+f3RK5pkjhP/IcL8Sm9cw/y09XRFg1xr8lnbttOzLgv6fEM02ZoOS/Y255LeQp4b+AdWg8YZTMvxNQYQC2V8Y/q0zn+9cn4D9sbtRMPYfkP9w9OyZJC+E/BdbKUNEzzD9aL+0PjHnGv0lxuwxrHeC/5hpU0fNt5L99F3CD1ezgv4IwgA3208u/NtWSfduaxj/rmxDP9BLgP4cK3+O8VOQ/5C0pJYnO4D+Va4l/znTLP76EdFKlu8a/tRJecXUI4L93hWGNmDvkvy1xcetjsOC/w1i+tFkWy7+ZRECW6tvGPw7AdEPa+98/zmiI1oYi5D8X5U22ZZLgPyOpzbuWuMo/qkYxT6z7xr/YwbcbuObfv/OywceHCeS/ufW9ZY504L/c9zykhFvKvzg3EYLrGsc/SZ4yxoTR3z8CDz1pm/DjP/LOu9ndVuA/fKNofiL/yT81vDkyqTnHv4Kk1JxAvN+/ql/swsHX47/4qzzyUzngvw3Vg1tvo8m/usOVYeZXxz8qEdD466bfP+dIhNz6vuM/NC0xj/Ab4D+WbZhNakjJP4nqohCkdce/tCabMoeR378WuXy9Rqbjv7FTCyFn/d+/y/aGZxLuyL/v4XI+45LHP5VE8aESfN8/JXERbaWN4z87AUWsOcPfP0aNBr1mlMg/+r2s6KSvx78I9tOdjmbfv/CLQvIWdeO/stbYf1iJ379J4KRiZjvIvzdyjgvqy8c/NQ6MfPtQ3z/iBNVTm1zjP1mViVvDT98/iwHGbRDjxz8YH+6hs+fHv8y0qpNZO9+/pD1TmDJE478s8BP/eRbfv6RhpPRji8e/j3Y7pQIDyD+reAo4qSXfPx+DDcbcK+M/UCcvKnzd3j+8s1AOYDTHP4kbgQ3YHci/+l/QveoP37+UkRrjmRPjvyCijZzJpN6/rc+x0gPexr+OBWbRNDjIP574bHge+t4/+xdY9Wn74j+2jt0VYmzeP0SphFpOiMY/b80u5hlSyL+PYJ26ROTev4c6awJN4+K/5nHJVUU03r95GFy/PjPGv74mvz+Ia8g/Alts1l3O3j9qFMEPQ8viP+TD+Btz/N0/m82gG9TexT+cK5vQgITIv39WMx1quN6/vziPIkyz4r9ehBAo68TdvxotkYoNi8W/y77oiQSdyD/reJvfaaLeP78y1D9om+I/LM2zOa2N3T8EKkEo6jfFPy/tcFsUtci/T6qebV2M3r8SBVhsl4Piv5JqhBC5Vt2/JTWaEWnlxL/rOKEzsczIP/uXiBZFdt4/jqisrNlr4j8CZCNsDiDdPx7+WmSJk8Q//Q+N/9vjyL/Fw/coIWDev9OJLgUvVOK/i5ExDK3p3L+wXxc/SkLEv3kW76qV+sg/6ITe8vFJ3j91BgV6lzziP9ooULCUs9w/GDQ4warxwz9Chiog3xDJv3cOhMG3M96/QOkiDxMl4r8mSiEYxX3cvzco+wqqocO/RY5MSLkmyT+ndIXhch3eP6zlRsihDeI/aIpIAz5I3D8Oo3I9R1LDP9CbDQslPMm/u6rWniMH3r/AEvyoQ/bhvyuDazH/Ety/EoCFeoEDw78sztJOI1HJP1WMw0TK8N0/0WSatPje4T/wUjJiCN7bP/Pz7uRXtcI/AT+v+LRlyb9L2fAdZ9rdv+YmR+7Ax+G/SypIVVmp27/+WT6gyWfCv6hfZezaeck/eDZddPrD3T8fc/VYnLDhP4nQW8rxdNs/jgTX0NUawj+sUWgMlo3Jv54tYpGErd2/Zqpm94qZ4b8cJyCB0UDbv+gH8Jt7zsG/6ULdOeegyT8UJrW9BZfdP5PrKsyMguE/kbJMOfgM2z/7GJQnuoLBP6+0nFTPs8m/bWhoQX6A3b9giaHZoWvhv0AUnrJl2dq/MkChmpA3wb9n6zM7T8bJP/8U7GPuad0/D4D5IcpU4T+6kNasGabaP6y1yBz+7MA/mjTmymfYyb9tHw9sVlPdvxvqMacFPuG/w42+5xNz2r+wpo7WAaPAvxZBrt8Z6sk/00cAoLY83T80dBprVCfhPxsPJSNUQNo/FvpJ8ZpZwD9Ifj9UZvvJvxcUT0UPJt2/wNBTb7YQ4b/rOOAe2g3avy0oJJfIEMC/SlsHAk4Myj92wuygYA/dPwcqULUr+uA/+sLNmqXb2T9YzzHmE5G/Pxy1LsHRHMq/TkYt96r43L9GlFM+tOPgv4B401a2qdm/VwbsYbwBv7+IGpto8izKP6g5yIvu4dw/on50C1DN4D9xrt8SDHjZP8cotvqIc74/OyfwzbA8yr/pzdmhK8vcv+wjnB3/tuC/ucDpjqZG2b+VpXILeOa9v+DKkMUNTMo/Msbje2K03D+l+YZ1waDgPw9/8oqFFdk/0Jim8IdavT8Vo6AiClvKv5tgzluTndy/tB/FE5eK4L9JrQTHqOTYv1M7eQi3z7y/mFQFt6Zpyj9nTumCvobcP/vNuvh/dOA/sG01AxC02D/PeLOyA0a8P73QZ1Pkd8q/aZ/sMeRv3L9IwqAkfF7gv1S5pP+6g9i/xWK/UGy9u7+lqTXHw4XKP7Wx+agEWdw/Dq2El4tI4D8v0H18qVPYP26pp0XvNbs/42Wi4EWTyr9FIJwnIELcv3edSVGuMuC/MKj3Odsj2L91Chf2iq+6v6LAqGxroMo/XqvK7DYr3D9BbahR5BzgP9FhVfhP9Nc/M+VXyD0quj/TDgw3Na3Kv0wq6DZJFNy/3CowmC0H4L/TreZ3B8XXvw59UyQGprm/Jn5ZCqS5yj+kccRDV/3bP9MHjUgU498/gT8IeQGW1z9uiZFz4iK5PzNm6a+4xcq/uz2dUGHm278LXVDq87ffv942JLw9Z9e/pZs3IdGguL9LleDvc9HKPxwbH5pnz9s/sKPSE/qM3z+9ibIBvDjXP9mCCJrQH7g/NqAxkdbcyr/FTmZcarjbvzXd68ImYt+/ZHI5CnwK17/W1GNM35+3v1wfnlnh58o/rLj/0mmh2z9miyT1eTffP4DPTZZ93NY/3CZFqPsgtz9LD7gNlfLKv8q+6Thmitu/wX62p/MM37+FkJNmwK7Wv06SQx8ko7a/kQzjcPL8yj+LLZXIX3PbPzaijdeT4t4/Ixq+O0SB1j9pEJEkVya2P/igVUX6Bsu/Ahzmu1Zc27/MxUiBWrjev4+pkNYIVNa/HtT5LJOqtb8FkBpMrRDLPw/PNExLRds/x2c6oUeO3j9zvd73DSfWPxXI467WL7U/WBESRQway7/plk6yPS7bv7J9aTNbZN6/S3CMYFP61b9vvk0iILa0v1Et8+4XI8s/0bR2Ji4X2z+BOZIzlTrePxTfjtHYzdU/++rOAG49tD8W9kwH0SvLv5E2Z+AcANu/DdAmnfUQ3r8jiOwLnqHVv081lsW+xbO/d9GHSjg0yz+Z1VEXCunaP948UGt8590/Uaq90KJ11T+WkGntEE+zP/bB5nNOPMu//tTgAfbR2r+8BO+YKb7dv6KhLOHmSdW/Mkql9mLZsr9Vnog9FETLPy/aN9bguto/WvibIP2U3T+KSXb+aR7VP5l7O2GzZLI/LmppYIpLy79OzfTJyqPav9HyqPz2a92/2lDq6Svz1L8SMLOuAPGxvxaMY5SxUss/4a8wErSM2j+6mSEnF0PdP9yZ62QsyNQ/GdMnYkl+sT/3EzGQilnLv9J2gOOcddq/oRrMmV0a3b+/kvAwa53Uv7V3SACMDLG/Yv1sCRZgyz9l4/VxhV7aPw/nKU7K8dw/AY2DD+hy1D9UHlcPx5uwP1l0lLRUZsu/Klcg8W1H2r8CcXg9Xcncv1IaQ8KiSNS/Ox0oF/krsL9ACQhFR2zLPwSvDZRWMNo/6eKxYBah3D9XW+IKmx7UPxp9QkJBeq8/jwQNbe5xy78XFUuNPxnav5rZjbD1eNy/glopq9D007/ySnJweJ6uv2+czt1Kd8s/kdblDikC2j8OG4Il+1DcPwxe9WRDy9M/SQzt0ZTErT8YKl9HXXzLv8IzbEoT69m/7U3DtyYp3L9rPzn68qHTv9r/3oKT7Ky/EX65WCaByz/RN+5w/tPZPySsRV94Adw/Qrv9LN940z8dpJGicRasPysBwr+mhcu/RIL+suq82b+vub0T8Nnbv/bCYb8HUNO/dSxqUyxCq7+DEEgp34nLP24js0DYpdk/DfOgzI2y2z9txZpzbCfTP43l57rAb6o/kSkHQdCNy79gXaZJx47Zv6ODJoFRi9u/2xD1Cw3/0r+NPqMBLJ+pvyMZqLF6kcs/5Hn3/Ld32T9f8EcoO2TbP58V1Erp1tI/3XBLU2vQqD9TQsIk35TLv1ybS4mqYNm/J8zBuEo92794rbLyAK/Sv3nWpd57A6i/S+rcQv6Xyz8If84cn0nZP/pfFCmAFts/Q3ojxlOH0j+hf4vVWjinP9BGcLPYmsu/91Mz5ZUy2b8SXYRv2+/avw8d0YfhX9K/+mXobAVvpr+85uYcb53LP4R7tQ+PG9k/koIbglzJ2j/kkn76qTjSPz2Hudx4p6U/eL+eJMKfy78tVxnJigTZv69MqVYDo9q/2HYH4awR0r9s/wpgsuGkv9p16m7Socs/PBWtPYnt2D+Nm8Piz3zaP0dDYP7p6tE/KjD3NK8dpD+WpRKfoKPLv75uSZmK1ti/3FjHG8JW2r+oq5YVYcTRv3VNpJxsW6O/d+1WVy2lyz8feVIHj7/YP6sj2fbZMNo/L8/R6RGe0T9zfkPb55qiP4JS7zh5psu/YmK4spao2L/57+VoFwvav7OQUj78d9G/YuwOOB7cob8LSw3khKfLPwo6+MWhkdg/WbCjZnrl2T9A1HPWH1LRPzrRR/0MH6E/LwPd91Coy7+4uBxrsHrYv/D2keQCwNm/0ruqdXws0b9ijTV4sWOgv++fhhLeqMs/Efq+y8Jj2D8zlfrWsJrZP178ht8RB9E/uVhG8hFUnz/nSC/RLKnLv+VIBxHZTNi/T0LyMYR12b83DLPX3+HQv9UcvaYh5J2/G4b6zz2pyz9b161j8zXYP8I0Wel8UNk/PXb0Iea80D+N1Gu6jHecP4tIC6oRqcu/3IL76xEf2L+SxtvwmivZvxITLIIkmNC/Nazt300Om79IKoX5qKjLP96WytE0CNg/mBDzO94G2T+BQVa8mnPQP0mP2M9fqJk/Aa2NVwSoy7+agoc8XPHXv4+E5b1G4ti/8TaLlEhP0L9nKLlIvUWYv1RBTVwkp8s/AKAxU4ja1z8cjsdp1L3YP6Up/84tK9A/694QD2Hmlj8in/CeCabLv5rmWzy5w9e/qyZ8MoeZ2L9unwIwSgfQv6zMUO1FipW/gsuptbSkyz9osC0e76zXP1R0tQpfddg/PUUF+DrHzz9lsNezZjGUP2JUsTUmo8u/UGxjHiqW17+MX/XkW1HYv57sEe9OgM+/BtvtOL7bkr+pikezXqHLP0pbT2Jqf9c/vieOs30t2D/HxHjOzznPPwYdwVhHiZE/xoa1wV6fy79iTNoOsGjXvwv/omjECdi/lbPBH73zzr+cpWL1/DmQv6Z7TvMmncs/0EyESPtR1z+OmCj2L+bXP7CJr2wWrs4/QNmD7bPbjT/6uXDZt5rLv7FnZTNMO9e/DsLlTcDC179cZEA/22jOv6cOVZWySYu/SOeGBBKYyz9rVC7zoiTXP070c2F1n9c/9w2uIQskzj/7CIDJ672IP5QzCQQ2lcu/IC8pq/8N17834j8iT3zXv2KNbp6l382/xJHzfFU4hr8lW35mJJLLP/0vOn5i99Y/gw+KgU1Z1z8NazRAqpvNP++jQa7luIM/CvR8ud2Oy79KV+COy+DWv41ZZ3BwNte/3kHvkRhYzb8vK5Vnkj+Bv6hurIlii8s/HSg2/zrK1j/ui8HftxPXP0ABzB7wFM0/FOxafaOYfT81SMZis4fLv8VS8vCws9a/iutXwCPx1r8MdjVyMNLMvymeq6kzvni/wjuXz9CDyz+SaGiFLZ3WP3zAvwK0ztY/hKHUF9mPzD8NL7qtwe9zP0ZBAFq7f8u/fo6J3bCG1r+952SXaKzWvxsPkZvpTcy/TV1E9HNabr8=",
          "dtype": "f8"
         }
        }
       ],
       "layout": {
        "template": {
         "data": {
          "bar": [
           {
            "error_x": {
             "color": "#2a3f5f"
            },
            "error_y": {
             "color": "#2a3f5f"
            },
            "marker": {
             "line": {
              "color": "#E5ECF6",
              "width": 0.5
             },
             "pattern": {
              "fillmode": "overlay",
              "size": 10,
              "solidity": 0.2
             }
            },
            "type": "bar"
           }
          ],
          "barpolar": [
           {
            "marker": {
             "line": {
              "color": "#E5ECF6",
              "width": 0.5
             },
             "pattern": {
              "fillmode": "overlay",
              "size": 10,
              "solidity": 0.2
             }
            },
            "type": "barpolar"
           }
          ],
          "carpet": [
           {
            "aaxis": {
             "endlinecolor": "#2a3f5f",
             "gridcolor": "white",
             "linecolor": "white",
             "minorgridcolor": "white",
             "startlinecolor": "#2a3f5f"
            },
            "baxis": {
             "endlinecolor": "#2a3f5f",
             "gridcolor": "white",
             "linecolor": "white",
             "minorgridcolor": "white",
             "startlinecolor": "#2a3f5f"
            },
            "type": "carpet"
           }
          ],
          "choropleth": [
           {
            "colorbar": {
             "outlinewidth": 0,
             "ticks": ""
            },
            "type": "choropleth"
           }
          ],
          "contour": [
           {
            "colorbar": {
             "outlinewidth": 0,
             "ticks": ""
            },
            "colorscale": [
             [
              0,
              "#0d0887"
             ],
             [
              0.1111111111111111,
              "#46039f"
             ],
             [
              0.2222222222222222,
              "#7201a8"
             ],
             [
              0.3333333333333333,
              "#9c179e"
             ],
             [
              0.4444444444444444,
              "#bd3786"
             ],
             [
              0.5555555555555556,
              "#d8576b"
             ],
             [
              0.6666666666666666,
              "#ed7953"
             ],
             [
              0.7777777777777778,
              "#fb9f3a"
             ],
             [
              0.8888888888888888,
              "#fdca26"
             ],
             [
              1,
              "#f0f921"
             ]
            ],
            "type": "contour"
           }
          ],
          "contourcarpet": [
           {
            "colorbar": {
             "outlinewidth": 0,
             "ticks": ""
            },
            "type": "contourcarpet"
           }
          ],
          "heatmap": [
           {
            "colorbar": {
             "outlinewidth": 0,
             "ticks": ""
            },
            "colorscale": [
             [
              0,
              "#0d0887"
             ],
             [
              0.1111111111111111,
              "#46039f"
             ],
             [
              0.2222222222222222,
              "#7201a8"
             ],
             [
              0.3333333333333333,
              "#9c179e"
             ],
             [
              0.4444444444444444,
              "#bd3786"
             ],
             [
              0.5555555555555556,
              "#d8576b"
             ],
             [
              0.6666666666666666,
              "#ed7953"
             ],
             [
              0.7777777777777778,
              "#fb9f3a"
             ],
             [
              0.8888888888888888,
              "#fdca26"
             ],
             [
              1,
              "#f0f921"
             ]
            ],
            "type": "heatmap"
           }
          ],
          "histogram": [
           {
            "marker": {
             "pattern": {
              "fillmode": "overlay",
              "size": 10,
              "solidity": 0.2
             }
            },
            "type": "histogram"
           }
          ],
          "histogram2d": [
           {
            "colorbar": {
             "outlinewidth": 0,
             "ticks": ""
            },
            "colorscale": [
             [
              0,
              "#0d0887"
             ],
             [
              0.1111111111111111,
              "#46039f"
             ],
             [
              0.2222222222222222,
              "#7201a8"
             ],
             [
              0.3333333333333333,
              "#9c179e"
             ],
             [
              0.4444444444444444,
              "#bd3786"
             ],
             [
              0.5555555555555556,
              "#d8576b"
             ],
             [
              0.6666666666666666,
              "#ed7953"
             ],
             [
              0.7777777777777778,
              "#fb9f3a"
             ],
             [
              0.8888888888888888,
              "#fdca26"
             ],
             [
              1,
              "#f0f921"
             ]
            ],
            "type": "histogram2d"
           }
          ],
          "histogram2dcontour": [
           {
            "colorbar": {
             "outlinewidth": 0,
             "ticks": ""
            },
            "colorscale": [
             [
              0,
              "#0d0887"
             ],
             [
              0.1111111111111111,
              "#46039f"
             ],
             [
              0.2222222222222222,
              "#7201a8"
             ],
             [
              0.3333333333333333,
              "#9c179e"
             ],
             [
              0.4444444444444444,
              "#bd3786"
             ],
             [
              0.5555555555555556,
              "#d8576b"
             ],
             [
              0.6666666666666666,
              "#ed7953"
             ],
             [
              0.7777777777777778,
              "#fb9f3a"
             ],
             [
              0.8888888888888888,
              "#fdca26"
             ],
             [
              1,
              "#f0f921"
             ]
            ],
            "type": "histogram2dcontour"
           }
          ],
          "mesh3d": [
           {
            "colorbar": {
             "outlinewidth": 0,
             "ticks": ""
            },
            "type": "mesh3d"
           }
          ],
          "parcoords": [
           {
            "line": {
             "colorbar": {
              "outlinewidth": 0,
              "ticks": ""
             }
            },
            "type": "parcoords"
           }
          ],
          "pie": [
           {
            "automargin": true,
            "type": "pie"
           }
          ],
          "scatter": [
           {
            "fillpattern": {
             "fillmode": "overlay",
             "size": 10,
             "solidity": 0.2
            },
            "type": "scatter"
           }
          ],
          "scatter3d": [
           {
            "line": {
             "colorbar": {
              "outlinewidth": 0,
              "ticks": ""
             }
            },
            "marker": {
             "colorbar": {
              "outlinewidth": 0,
              "ticks": ""
             }
            },
            "type": "scatter3d"
           }
          ],
          "scattercarpet": [
           {
            "marker": {
             "colorbar": {
              "outlinewidth": 0,
              "ticks": ""
             }
            },
            "type": "scattercarpet"
           }
          ],
          "scattergeo": [
           {
            "marker": {
             "colorbar": {
              "outlinewidth": 0,
              "ticks": ""
             }
            },
            "type": "scattergeo"
           }
          ],
          "scattergl": [
           {
            "marker": {
             "colorbar": {
              "outlinewidth": 0,
              "ticks": ""
             }
            },
            "type": "scattergl"
           }
          ],
          "scattermap": [
           {
            "marker": {
             "colorbar": {
              "outlinewidth": 0,
              "ticks": ""
             }
            },
            "type": "scattermap"
           }
          ],
          "scattermapbox": [
           {
            "marker": {
             "colorbar": {
              "outlinewidth": 0,
              "ticks": ""
             }
            },
            "type": "scattermapbox"
           }
          ],
          "scatterpolar": [
           {
            "marker": {
             "colorbar": {
              "outlinewidth": 0,
              "ticks": ""
             }
            },
            "type": "scatterpolar"
           }
          ],
          "scatterpolargl": [
           {
            "marker": {
             "colorbar": {
              "outlinewidth": 0,
              "ticks": ""
             }
            },
            "type": "scatterpolargl"
           }
          ],
          "scatterternary": [
           {
            "marker": {
             "colorbar": {
              "outlinewidth": 0,
              "ticks": ""
             }
            },
            "type": "scatterternary"
           }
          ],
          "surface": [
           {
            "colorbar": {
             "outlinewidth": 0,
             "ticks": ""
            },
            "colorscale": [
             [
              0,
              "#0d0887"
             ],
             [
              0.1111111111111111,
              "#46039f"
             ],
             [
              0.2222222222222222,
              "#7201a8"
             ],
             [
              0.3333333333333333,
              "#9c179e"
             ],
             [
              0.4444444444444444,
              "#bd3786"
             ],
             [
              0.5555555555555556,
              "#d8576b"
             ],
             [
              0.6666666666666666,
              "#ed7953"
             ],
             [
              0.7777777777777778,
              "#fb9f3a"
             ],
             [
              0.8888888888888888,
              "#fdca26"
             ],
             [
              1,
              "#f0f921"
             ]
            ],
            "type": "surface"
           }
          ],
          "table": [
           {
            "cells": {
             "fill": {
              "color": "#EBF0F8"
             },
             "line": {
              "color": "white"
             }
            },
            "header": {
             "fill": {
              "color": "#C8D4E3"
             },
             "line": {
              "color": "white"
             }
            },
            "type": "table"
           }
          ]
         },
         "layout": {
          "annotationdefaults": {
           "arrowcolor": "#2a3f5f",
           "arrowhead": 0,
           "arrowwidth": 1
          },
          "autotypenumbers": "strict",
          "coloraxis": {
           "colorbar": {
            "outlinewidth": 0,
            "ticks": ""
           }
          },
          "colorscale": {
           "diverging": [
            [
             0,
             "#8e0152"
            ],
            [
             0.1,
             "#c51b7d"
            ],
            [
             0.2,
             "#de77ae"
            ],
            [
             0.3,
             "#f1b6da"
            ],
            [
             0.4,
             "#fde0ef"
            ],
            [
             0.5,
             "#f7f7f7"
            ],
            [
             0.6,
             "#e6f5d0"
            ],
            [
             0.7,
             "#b8e186"
            ],
            [
             0.8,
             "#7fbc41"
            ],
            [
             0.9,
             "#4d9221"
            ],
            [
             1,
             "#276419"
            ]
           ],
           "sequential": [
            [
             0,
             "#0d0887"
            ],
            [
             0.1111111111111111,
             "#46039f"
            ],
            [
             0.2222222222222222,
             "#7201a8"
            ],
            [
             0.3333333333333333,
             "#9c179e"
            ],
            [
             0.4444444444444444,
             "#bd3786"
            ],
            [
             0.5555555555555556,
             "#d8576b"
            ],
            [
             0.6666666666666666,
             "#ed7953"
            ],
            [
             0.7777777777777778,
             "#fb9f3a"
            ],
            [
             0.8888888888888888,
             "#fdca26"
            ],
            [
             1,
             "#f0f921"
            ]
           ],
           "sequentialminus": [
            [
             0,
             "#0d0887"
            ],
            [
             0.1111111111111111,
             "#46039f"
            ],
            [
             0.2222222222222222,
             "#7201a8"
            ],
            [
             0.3333333333333333,
             "#9c179e"
            ],
            [
             0.4444444444444444,
             "#bd3786"
            ],
            [
             0.5555555555555556,
             "#d8576b"
            ],
            [
             0.6666666666666666,
             "#ed7953"
            ],
            [
             0.7777777777777778,
             "#fb9f3a"
            ],
            [
             0.8888888888888888,
             "#fdca26"
            ],
            [
             1,
             "#f0f921"
            ]
           ]
          },
          "colorway": [
           "#636efa",
           "#EF553B",
           "#00cc96",
           "#ab63fa",
           "#FFA15A",
           "#19d3f3",
           "#FF6692",
           "#B6E880",
           "#FF97FF",
           "#FECB52"
          ],
          "font": {
           "color": "#2a3f5f"
          },
          "geo": {
           "bgcolor": "white",
           "lakecolor": "white",
           "landcolor": "#E5ECF6",
           "showlakes": true,
           "showland": true,
           "subunitcolor": "white"
          },
          "hoverlabel": {
           "align": "left"
          },
          "hovermode": "closest",
          "mapbox": {
           "style": "light"
          },
          "paper_bgcolor": "white",
          "plot_bgcolor": "#E5ECF6",
          "polar": {
           "angularaxis": {
            "gridcolor": "white",
            "linecolor": "white",
            "ticks": ""
           },
           "bgcolor": "#E5ECF6",
           "radialaxis": {
            "gridcolor": "white",
            "linecolor": "white",
            "ticks": ""
           }
          },
          "scene": {
           "xaxis": {
            "backgroundcolor": "#E5ECF6",
            "gridcolor": "white",
            "gridwidth": 2,
            "linecolor": "white",
            "showbackground": true,
            "ticks": "",
            "zerolinecolor": "white"
           },
           "yaxis": {
            "backgroundcolor": "#E5ECF6",
            "gridcolor": "white",
            "gridwidth": 2,
            "linecolor": "white",
            "showbackground": true,
            "ticks": "",
            "zerolinecolor": "white"
           },
           "zaxis": {
            "backgroundcolor": "#E5ECF6",
            "gridcolor": "white",
            "gridwidth": 2,
            "linecolor": "white",
            "showbackground": true,
            "ticks": "",
            "zerolinecolor": "white"
           }
          },
          "shapedefaults": {
           "line": {
            "color": "#2a3f5f"
           }
          },
          "ternary": {
           "aaxis": {
            "gridcolor": "white",
            "linecolor": "white",
            "ticks": ""
           },
           "baxis": {
            "gridcolor": "white",
            "linecolor": "white",
            "ticks": ""
           },
           "bgcolor": "#E5ECF6",
           "caxis": {
            "gridcolor": "white",
            "linecolor": "white",
            "ticks": ""
           }
          },
          "title": {
           "x": 0.05
          },
          "xaxis": {
           "automargin": true,
           "gridcolor": "white",
           "linecolor": "white",
           "ticks": "",
           "title": {
            "standoff": 15
           },
           "zerolinecolor": "white",
           "zerolinewidth": 2
          },
          "yaxis": {
           "automargin": true,
           "gridcolor": "white",
           "linecolor": "white",
           "ticks": "",
           "title": {
            "standoff": 15
           },
           "zerolinecolor": "white",
           "zerolinewidth": 2
          }
         }
        },
        "title": {
         "text": "Fitted Params: {'frequency': np.float64(9.999770380823177), 'damping_rate': np.float64(0.9931474568245174), 'phase': np.float64(0.09861836879537521)}"
        },
        "width": 900,
        "xaxis": {
         "title": {
          "text": "time (s)"
         }
        },
        "yaxis": {
         "title": {
          "text": "Signal Amplitude (arb. u.)"
         }
        }
       }
      }
     },
     "metadata": {},
     "output_type": "display_data"
    }
   ],
   "source": [
    "# True model parameters\n",
    "true_params: Dict[str, float] = dict(\n",
    "    frequency=10.0, amplitude=1.0, damping_rate=0.1, phase=0.0\n",
    ")\n",
    "\n",
    "\n",
    "np_rng = np.random.default_rng(42)\n",
    "# 1. Generate clean data\n",
    "x_samp: npt.NDArray[np.float64] = np.linspace(0, 10, 1000)\n",
    "y_clean: npt.NDArray[np.float64] = damp_sine_wave(x_samp, **true_params)\n",
    "\n",
    "# 2. Add noise\n",
    "rng = np.random.default_rng(seed=42)\n",
    "noise: npt.NDArray[np.float64] = np_rng.normal(scale=0.05, size=x_samp.shape)\n",
    "y_noisy = y_clean + noise\n",
    "\n",
    "\n",
    "# 3. Define a wrapper for curve_fit\n",
    "# Wrapper for curve_fit\n",
    "def wrapper(\n",
    "    x: npt.NDArray[np.float64],\n",
    "    frequency: float,\n",
    "    amplitude: float,\n",
    "    damping_rate: float,\n",
    "    phase: float,\n",
    ") -> npt.NDArray[np.float64]:\n",
    "    return damp_sine_wave(\n",
    "        x,\n",
    "        frequency=frequency,\n",
    "        damping_rate=damping_rate,\n",
    "        phase=phase,\n",
    "        amplitude=amplitude,\n",
    "    )\n",
    "\n",
    "\n",
    "key_order = (\"frequency\", \"amplitude\", \"damping_rate\", \"phase\")\n",
    "\n",
    "# 4. Fit data with perturbed initial guess\n",
    "initial_guess = [true_params[k] for k in key_order]  # intentionally inaccurate\n",
    "initial_guess = np.array(initial_guess)\n",
    "initial_guess = (\n",
    "    initial_guess + np_rng.normal(scale=0.9, size=initial_guess.shape) * initial_guess\n",
    ")  # add some noise to the initial guess\n",
    "print(initial_guess)\n",
    "popt, pcov = curve_fit(wrapper, x_samp, y_noisy, p0=initial_guess)\n",
    "fitted_params = dict(zip([\"frequency\", \"damping_rate\", \"phase\"], popt))\n",
    "\n",
    "# 5. Visualize\n",
    "fig = go.Figure().update_layout(width=900)\n",
    "\n",
    "fig.add_trace(go.Scatter(name=\"True Function\", mode=\"lines\", x=x_samp, y=y_clean))\n",
    "fig.add_trace(\n",
    "    go.Scatter(\n",
    "        name=\"Noisy Data\", mode=\"markers\", x=x_samp, y=y_noisy, line=dict(width=1)\n",
    "    )\n",
    ")\n",
    "fig.add_trace(\n",
    "    go.Scatter(\n",
    "        name=\"Fitted Curve\",\n",
    "        mode=\"lines\",\n",
    "        x=x_samp,\n",
    "        y=wrapper(x_samp, *popt),\n",
    "        line=dict(dash=\"dash\"),\n",
    "    )\n",
    ")\n",
    "\n",
    "fig.update_layout(\n",
    "    xaxis_title=\"time (s)\",\n",
    "    yaxis_title=\"Signal Amplitude (arb. u.)\",\n",
    "    title=f\"Fitted Params: {fitted_params}\",\n",
    ")\n",
    "fig.show()"
   ]
  },
  {
   "cell_type": "code",
   "execution_count": 5,
   "id": "6180d35a",
   "metadata": {},
   "outputs": [
    {
     "data": {
      "text/plain": [
       "200000"
      ]
     },
     "execution_count": 5,
     "metadata": {},
     "output_type": "execute_result"
    }
   ],
   "source": [
    "10**4 * 10 * 2"
   ]
  },
  {
   "cell_type": "code",
   "execution_count": 9,
   "id": "c4cd4447",
   "metadata": {},
   "outputs": [
    {
     "name": "stdout",
     "output_type": "stream",
     "text": [
      "Starting parallel fits...\n"
     ]
    },
    {
     "name": "stderr",
     "output_type": "stream",
     "text": [
      " 63%|██████▎   | 19/30 [00:04<00:02,  5.29it/s]/workspaces/repo/src/math_functions.py:16: RuntimeWarning:\n",
      "\n",
      "overflow encountered in exp\n",
      "\n",
      " 70%|███████   | 21/30 [00:04<00:01,  6.23it/s]/workspaces/repo/src/math_functions.py:15: RuntimeWarning:\n",
      "\n",
      "overflow encountered in multiply\n",
      "\n",
      " 77%|███████▋  | 23/30 [00:04<00:01,  5.74it/s]/workspaces/repo/src/math_functions.py:16: RuntimeWarning:\n",
      "\n",
      "overflow encountered in exp\n",
      "\n",
      "/workspaces/repo/src/math_functions.py:15: RuntimeWarning:\n",
      "\n",
      "overflow encountered in multiply\n",
      "\n",
      "100%|██████████| 30/30 [00:05<00:00,  5.03it/s]\n"
     ]
    },
    {
     "data": {
      "application/vnd.plotly.v1+json": {
       "config": {
        "plotlyServerURL": "https://plot.ly"
       },
       "data": [
        {
         "mode": "lines+markers",
         "name": "RMSE frequency",
         "type": "scatter",
         "x": {
          "bdata": "exSuR+F6hD/DxtqNNH2QP76kaCA/jZo//m2ojaxgpT+jw2I3ODaxPwUyiwgrt7s/2kvgNYpQxj/53LfQV/fRPzSyAr4l7tw/t83cQutK5z9tkLdW7sDyP/PtbMTBMv4/5YMpq0VQCECb5irDWpMTQN2VWguYhR9AjxzqkBRhKUDxl4U5AG80QI+FLhukc0BAf6nde9h9SkD1RJs1RlRVQKJQHnQ8LGFANNPslRena0CDw2C8mEN2QE9kvQjs7IFA5YBf6l3djEBEedCOaD2XQFiPIqENtqJAuL3Xpz0hrkDlvQlfK0K4QAAAAAAAiMNA",
          "dtype": "f8"
         },
         "xaxis": "x",
         "y": [
          0.08478898499985409,
          0.01873829363400777,
          0.0035582003537246954,
          0.0004078727753365982,
          0.00018639527462264034,
          9.476077208013929e-05,
          6.325008248446736e-05,
          4.1801524471715794e-05,
          2.2891711717851302e-05,
          1.456154424671393e-05,
          9.91055323421269e-06,
          6.251268287630789e-06,
          3.5826694400252692e-06,
          2.146871925660143e-06,
          1.3931880751524478e-06,
          8.624920795127303e-07,
          6.140177025882914e-07,
          3.5596105571264416e-07,
          2.5790837463938344e-07,
          2.3881711159283547e-07,
          1.6886438371770143e-07,
          1.391004683292597e-07,
          1.7891679624941294e-07,
          1.9818120496877045e-07,
          2.539833796544349e-07,
          3.492499794776452e-07,
          4.0647964826211675e-07,
          4.985826941002977e-07,
          6.772323284094014e-07,
          0.0024658316775370967
         ],
         "yaxis": "y"
        },
        {
         "line": {
          "dash": "dot"
         },
         "mode": "lines+markers",
         "name": "stderr frequency",
         "type": "scatter",
         "x": {
          "bdata": "exSuR+F6hD/DxtqNNH2QP76kaCA/jZo//m2ojaxgpT+jw2I3ODaxPwUyiwgrt7s/2kvgNYpQxj/53LfQV/fRPzSyAr4l7tw/t83cQutK5z9tkLdW7sDyP/PtbMTBMv4/5YMpq0VQCECb5irDWpMTQN2VWguYhR9AjxzqkBRhKUDxl4U5AG80QI+FLhukc0BAf6nde9h9SkD1RJs1RlRVQKJQHnQ8LGFANNPslRena0CDw2C8mEN2QE9kvQjs7IFA5YBf6l3djEBEedCOaD2XQFiPIqENtqJAuL3Xpz0hrkDlvQlfK0K4QAAAAAAAiMNA",
          "dtype": "f8"
         },
         "xaxis": "x",
         "y": [
          0.08603913210058348,
          0.019029465957994537,
          0.0036243849942368617,
          0.00041753664138104976,
          0.00019347818196214215,
          9.311210204413821e-05,
          6.544961916583636e-05,
          4.0845855707564614e-05,
          2.458450087872595e-05,
          1.5176653147727535e-05,
          9.496675413466606e-06,
          5.90324357127099e-06,
          3.6741991420045418e-06,
          2.2780742258573183e-06,
          1.3946257486532e-06,
          9.03541283779479e-07,
          5.724620502421275e-07,
          3.7569723756869627e-07,
          2.580473862272515e-07,
          1.8495294490988357e-07,
          1.5122257787441906e-07,
          1.4583408122269612e-07,
          1.5355428730900033e-07,
          2.0292632609078676e-07,
          2.548470264248224e-07,
          3.3463831313744434e-07,
          4.2234826716580705e-07,
          5.412603660595797e-07,
          6.854848197125756e-07,
          9.789566050809699e-07
         ],
         "yaxis": "y"
        },
        {
         "mode": "lines+markers",
         "name": "RMSE amplitude",
         "type": "scatter",
         "x": {
          "bdata": "exSuR+F6hD/DxtqNNH2QP76kaCA/jZo//m2ojaxgpT+jw2I3ODaxPwUyiwgrt7s/2kvgNYpQxj/53LfQV/fRPzSyAr4l7tw/t83cQutK5z9tkLdW7sDyP/PtbMTBMv4/5YMpq0VQCECb5irDWpMTQN2VWguYhR9AjxzqkBRhKUDxl4U5AG80QI+FLhukc0BAf6nde9h9SkD1RJs1RlRVQKJQHnQ8LGFANNPslRena0CDw2C8mEN2QE9kvQjs7IFA5YBf6l3djEBEedCOaD2XQFiPIqENtqJAuL3Xpz0hrkDlvQlfK0K4QAAAAAAAiMNA",
          "dtype": "f8"
         },
         "xaxis": "x2",
         "y": [
          0.09150186220295906,
          0.023096127030083787,
          0.006184645864939739,
          0.0018432326410523893,
          0.0006290476942255438,
          0.00046716069341518957,
          0.00040899561082012717,
          0.0004205761553790861,
          0.00040361577587121945,
          0.0004025852217773108,
          0.0004253196612670543,
          0.0004169737603256882,
          0.000364313723703176,
          0.0004157645840089159,
          0.00035653788889515483,
          0.00039182148433964157,
          0.0004761659520052204,
          0.00040703626426987085,
          0.0004184626685644275,
          0.0004730392290310563,
          0.0005745565172390298,
          0.0005655252358319374,
          0.0007766629647826626,
          0.0008561838897048516,
          0.0012520885502028923,
          0.001481631217617261,
          0.0018380866369452872,
          0.002537674781808748,
          0.00335524928587514,
          12.328378345008447
         ],
         "yaxis": "y2"
        },
        {
         "line": {
          "dash": "dot"
         },
         "mode": "lines+markers",
         "name": "stderr amplitude",
         "type": "scatter",
         "x": {
          "bdata": "exSuR+F6hD/DxtqNNH2QP76kaCA/jZo//m2ojaxgpT+jw2I3ODaxPwUyiwgrt7s/2kvgNYpQxj/53LfQV/fRPzSyAr4l7tw/t83cQutK5z9tkLdW7sDyP/PtbMTBMv4/5YMpq0VQCECb5irDWpMTQN2VWguYhR9AjxzqkBRhKUDxl4U5AG80QI+FLhukc0BAf6nde9h9SkD1RJs1RlRVQKJQHnQ8LGFANNPslRena0CDw2C8mEN2QE9kvQjs7IFA5YBf6l3djEBEedCOaD2XQFiPIqENtqJAuL3Xpz0hrkDlvQlfK0K4QAAAAAAAiMNA",
          "dtype": "f8"
         },
         "xaxis": "x2",
         "y": [
          0.09283243109789098,
          0.023364090272667278,
          0.006230746003940289,
          0.0018388917265311313,
          0.000600542380392775,
          0.00045840602473515215,
          0.00041603785398595467,
          0.00040202529988355893,
          0.000403621996786622,
          0.0004010979035470103,
          0.0004022896538136372,
          0.00040149845349651944,
          0.0004029220036156037,
          0.00040504082262591466,
          0.000408112079416502,
          0.0004129588581896104,
          0.00042040357196839427,
          0.0004330682785060276,
          0.0004532216429818224,
          0.00048590054387934596,
          0.0005388707037183455,
          0.0006247834669541732,
          0.0007611374066730068,
          0.0009584234128059195,
          0.0012158269177882089,
          0.0015450327135334352,
          0.0019581415651352694,
          0.0024846853102046458,
          0.0031597810374739328,
          0.013051230648214156
         ],
         "yaxis": "y2"
        },
        {
         "mode": "lines+markers",
         "name": "RMSE damping_rate",
         "type": "scatter",
         "x": {
          "bdata": "exSuR+F6hD/DxtqNNH2QP76kaCA/jZo//m2ojaxgpT+jw2I3ODaxPwUyiwgrt7s/2kvgNYpQxj/53LfQV/fRPzSyAr4l7tw/t83cQutK5z9tkLdW7sDyP/PtbMTBMv4/5YMpq0VQCECb5irDWpMTQN2VWguYhR9AjxzqkBRhKUDxl4U5AG80QI+FLhukc0BAf6nde9h9SkD1RJs1RlRVQKJQHnQ8LGFANNPslRena0CDw2C8mEN2QE9kvQjs7IFA5YBf6l3djEBEedCOaD2XQFiPIqENtqJAuL3Xpz0hrkDlvQlfK0K4QAAAAAAAiMNA",
          "dtype": "f8"
         },
         "xaxis": "x3",
         "y": [
          0.1776642602998052,
          0.06667312967340056,
          0.02394238455332818,
          0.007621353491497707,
          0.0017285104301011578,
          0.0007652938313191269,
          0.0003969549909761134,
          0.00025013935626017785,
          0.00015159663472691956,
          9.896695311727792e-05,
          5.701078875785729e-05,
          3.7632742260965516e-05,
          2.1363026456702198e-05,
          1.4592871151900104e-05,
          7.804224537664719e-06,
          5.756323820352489e-06,
          4.226731043811454e-06,
          2.37170776872435e-06,
          1.4588057300817496e-06,
          1.2049285536929443e-06,
          1.1036236240829608e-06,
          1.0245926614663768e-06,
          1.0215589564324187e-06,
          1.310883861457541e-06,
          1.9322059621633682e-06,
          2.41466939233261e-06,
          2.7893945078680982e-06,
          3.933496400401574e-06,
          4.236568915019688e-06,
          1.096476741713067e-05
         ],
         "yaxis": "y3"
        },
        {
         "line": {
          "dash": "dot"
         },
         "mode": "lines+markers",
         "name": "stderr damping_rate",
         "type": "scatter",
         "x": {
          "bdata": "exSuR+F6hD/DxtqNNH2QP76kaCA/jZo//m2ojaxgpT+jw2I3ODaxPwUyiwgrt7s/2kvgNYpQxj/53LfQV/fRPzSyAr4l7tw/t83cQutK5z9tkLdW7sDyP/PtbMTBMv4/5YMpq0VQCECb5irDWpMTQN2VWguYhR9AjxzqkBRhKUDxl4U5AG80QI+FLhukc0BAf6nde9h9SkD1RJs1RlRVQKJQHnQ8LGFANNPslRena0CDw2C8mEN2QE9kvQjs7IFA5YBf6l3djEBEedCOaD2XQFiPIqENtqJAuL3Xpz0hrkDlvQlfK0K4QAAAAAAAiMNA",
          "dtype": "f8"
         },
         "xaxis": "x3",
         "y": [
          0.1782785811632319,
          0.06696482417611596,
          0.02409130633611672,
          0.007705974028441401,
          0.0017303632154641565,
          0.0007877664849697201,
          0.0004158616417686146,
          0.00024361174773112438,
          0.00015564873544206194,
          9.523351526675579e-05,
          5.975681126498757e-05,
          3.6861541014209925e-05,
          2.3078398149852563e-05,
          1.4496832808032795e-05,
          9.143630417132248e-06,
          5.8187522739403185e-06,
          3.7556396397304384e-06,
          2.487201435540436e-06,
          1.711550627182515e-06,
          1.2572844998899758e-06,
          1.0243111404886063e-06,
          9.71143516228985e-07,
          1.0907797944682726e-06,
          1.3559656952006754e-06,
          1.7194221119019171e-06,
          2.1839223462698545e-06,
          2.7690888741482057e-06,
          3.513652624531343e-06,
          4.465011282244665e-06,
          1.1378441117020634e-05
         ],
         "yaxis": "y3"
        },
        {
         "mode": "lines+markers",
         "name": "RMSE phase",
         "type": "scatter",
         "x": {
          "bdata": "exSuR+F6hD/DxtqNNH2QP76kaCA/jZo//m2ojaxgpT+jw2I3ODaxPwUyiwgrt7s/2kvgNYpQxj/53LfQV/fRPzSyAr4l7tw/t83cQutK5z9tkLdW7sDyP/PtbMTBMv4/5YMpq0VQCECb5irDWpMTQN2VWguYhR9AjxzqkBRhKUDxl4U5AG80QI+FLhukc0BAf6nde9h9SkD1RJs1RlRVQKJQHnQ8LGFANNPslRena0CDw2C8mEN2QE9kvQjs7IFA5YBf6l3djEBEedCOaD2XQFiPIqENtqJAuL3Xpz0hrkDlvQlfK0K4QAAAAAAAiMNA",
          "dtype": "f8"
         },
         "xaxis": "x4",
         "y": [
          5.5793624638419215e-05,
          5.5300425628498486e-05,
          5.451215102808881e-05,
          5.255477123860402e-05,
          4.748963254383737e-05,
          4.233849340088414e-05,
          4.1817295647335704e-05,
          4.273608717687352e-05,
          3.912405981251213e-05,
          3.902465369216474e-05,
          4.0330733697237536e-05,
          4.064727667231067e-05,
          3.78896673802551e-05,
          4.074617504809084e-05,
          4.16403174431074e-05,
          3.589706384021789e-05,
          4.202878921731468e-05,
          3.729687865642541e-05,
          4.192378661326096e-05,
          5.392851215822258e-05,
          5.034188266766851e-05,
          5.672433405174697e-05,
          6.973916866609755e-05,
          9.804546515276028e-05,
          0.00011749394661676152,
          0.0001655361135354894,
          0.00018581035415017906,
          0.00023216842837479114,
          0.0003004940244272714,
          0.0004039395433022094
         ],
         "yaxis": "y4"
        },
        {
         "line": {
          "dash": "dot"
         },
         "mode": "lines+markers",
         "name": "stderr phase",
         "type": "scatter",
         "x": {
          "bdata": "exSuR+F6hD/DxtqNNH2QP76kaCA/jZo//m2ojaxgpT+jw2I3ODaxPwUyiwgrt7s/2kvgNYpQxj/53LfQV/fRPzSyAr4l7tw/t83cQutK5z9tkLdW7sDyP/PtbMTBMv4/5YMpq0VQCECb5irDWpMTQN2VWguYhR9AjxzqkBRhKUDxl4U5AG80QI+FLhukc0BAf6nde9h9SkD1RJs1RlRVQKJQHnQ8LGFANNPslRena0CDw2C8mEN2QE9kvQjs7IFA5YBf6l3djEBEedCOaD2XQFiPIqENtqJAuL3Xpz0hrkDlvQlfK0K4QAAAAAAAiMNA",
          "dtype": "f8"
         },
         "xaxis": "x4",
         "y": [
          5.65641232202627e-05,
          5.614845129889447e-05,
          5.534118399677474e-05,
          5.3409531233285805e-05,
          4.7999760887439636e-05,
          3.9516371893334046e-05,
          4.0921340488646836e-05,
          4.066794178680692e-05,
          4.008980863609918e-05,
          4.012643797283472e-05,
          3.997304303815288e-05,
          4.0156296179288004e-05,
          3.977179913213699e-05,
          4.035620113194522e-05,
          3.95373400467871e-05,
          3.9501433210645694e-05,
          3.9792308307974475e-05,
          3.952954372982776e-05,
          4.179099990820755e-05,
          4.147689078825393e-05,
          4.673604310761418e-05,
          6.370039200707303e-05,
          6.469290045846789e-05,
          8.554401969530057e-05,
          0.00010900124765799227,
          0.00014456769099987127,
          0.00018592493615562935,
          0.00022977899081979395,
          0.0002959354379766615,
          0.00037654347795695967
         ],
         "yaxis": "y4"
        }
       ],
       "layout": {
        "annotations": [
         {
          "align": "left",
          "font": {
           "size": 14
          },
          "showarrow": false,
          "text": "<b>frequency</b>",
          "x": 0.5,
          "xref": "x domain",
          "y": 0.95,
          "yref": "y domain"
         },
         {
          "align": "left",
          "font": {
           "size": 14
          },
          "showarrow": false,
          "text": "<b>amplitude</b>",
          "x": 0.5,
          "xref": "x2 domain",
          "y": 0.95,
          "yref": "y2 domain"
         },
         {
          "align": "left",
          "font": {
           "size": 14
          },
          "showarrow": false,
          "text": "<b>damping_rate</b>",
          "x": 0.5,
          "xref": "x3 domain",
          "y": 0.95,
          "yref": "y3 domain"
         },
         {
          "align": "left",
          "font": {
           "size": 14
          },
          "showarrow": false,
          "text": "<b>phase</b>",
          "x": 0.5,
          "xref": "x4 domain",
          "y": 0.95,
          "yref": "y4 domain"
         }
        ],
        "height": 900,
        "showlegend": true,
        "template": {
         "data": {
          "bar": [
           {
            "error_x": {
             "color": "#2a3f5f"
            },
            "error_y": {
             "color": "#2a3f5f"
            },
            "marker": {
             "line": {
              "color": "#E5ECF6",
              "width": 0.5
             },
             "pattern": {
              "fillmode": "overlay",
              "size": 10,
              "solidity": 0.2
             }
            },
            "type": "bar"
           }
          ],
          "barpolar": [
           {
            "marker": {
             "line": {
              "color": "#E5ECF6",
              "width": 0.5
             },
             "pattern": {
              "fillmode": "overlay",
              "size": 10,
              "solidity": 0.2
             }
            },
            "type": "barpolar"
           }
          ],
          "carpet": [
           {
            "aaxis": {
             "endlinecolor": "#2a3f5f",
             "gridcolor": "white",
             "linecolor": "white",
             "minorgridcolor": "white",
             "startlinecolor": "#2a3f5f"
            },
            "baxis": {
             "endlinecolor": "#2a3f5f",
             "gridcolor": "white",
             "linecolor": "white",
             "minorgridcolor": "white",
             "startlinecolor": "#2a3f5f"
            },
            "type": "carpet"
           }
          ],
          "choropleth": [
           {
            "colorbar": {
             "outlinewidth": 0,
             "ticks": ""
            },
            "type": "choropleth"
           }
          ],
          "contour": [
           {
            "colorbar": {
             "outlinewidth": 0,
             "ticks": ""
            },
            "colorscale": [
             [
              0,
              "#0d0887"
             ],
             [
              0.1111111111111111,
              "#46039f"
             ],
             [
              0.2222222222222222,
              "#7201a8"
             ],
             [
              0.3333333333333333,
              "#9c179e"
             ],
             [
              0.4444444444444444,
              "#bd3786"
             ],
             [
              0.5555555555555556,
              "#d8576b"
             ],
             [
              0.6666666666666666,
              "#ed7953"
             ],
             [
              0.7777777777777778,
              "#fb9f3a"
             ],
             [
              0.8888888888888888,
              "#fdca26"
             ],
             [
              1,
              "#f0f921"
             ]
            ],
            "type": "contour"
           }
          ],
          "contourcarpet": [
           {
            "colorbar": {
             "outlinewidth": 0,
             "ticks": ""
            },
            "type": "contourcarpet"
           }
          ],
          "heatmap": [
           {
            "colorbar": {
             "outlinewidth": 0,
             "ticks": ""
            },
            "colorscale": [
             [
              0,
              "#0d0887"
             ],
             [
              0.1111111111111111,
              "#46039f"
             ],
             [
              0.2222222222222222,
              "#7201a8"
             ],
             [
              0.3333333333333333,
              "#9c179e"
             ],
             [
              0.4444444444444444,
              "#bd3786"
             ],
             [
              0.5555555555555556,
              "#d8576b"
             ],
             [
              0.6666666666666666,
              "#ed7953"
             ],
             [
              0.7777777777777778,
              "#fb9f3a"
             ],
             [
              0.8888888888888888,
              "#fdca26"
             ],
             [
              1,
              "#f0f921"
             ]
            ],
            "type": "heatmap"
           }
          ],
          "histogram": [
           {
            "marker": {
             "pattern": {
              "fillmode": "overlay",
              "size": 10,
              "solidity": 0.2
             }
            },
            "type": "histogram"
           }
          ],
          "histogram2d": [
           {
            "colorbar": {
             "outlinewidth": 0,
             "ticks": ""
            },
            "colorscale": [
             [
              0,
              "#0d0887"
             ],
             [
              0.1111111111111111,
              "#46039f"
             ],
             [
              0.2222222222222222,
              "#7201a8"
             ],
             [
              0.3333333333333333,
              "#9c179e"
             ],
             [
              0.4444444444444444,
              "#bd3786"
             ],
             [
              0.5555555555555556,
              "#d8576b"
             ],
             [
              0.6666666666666666,
              "#ed7953"
             ],
             [
              0.7777777777777778,
              "#fb9f3a"
             ],
             [
              0.8888888888888888,
              "#fdca26"
             ],
             [
              1,
              "#f0f921"
             ]
            ],
            "type": "histogram2d"
           }
          ],
          "histogram2dcontour": [
           {
            "colorbar": {
             "outlinewidth": 0,
             "ticks": ""
            },
            "colorscale": [
             [
              0,
              "#0d0887"
             ],
             [
              0.1111111111111111,
              "#46039f"
             ],
             [
              0.2222222222222222,
              "#7201a8"
             ],
             [
              0.3333333333333333,
              "#9c179e"
             ],
             [
              0.4444444444444444,
              "#bd3786"
             ],
             [
              0.5555555555555556,
              "#d8576b"
             ],
             [
              0.6666666666666666,
              "#ed7953"
             ],
             [
              0.7777777777777778,
              "#fb9f3a"
             ],
             [
              0.8888888888888888,
              "#fdca26"
             ],
             [
              1,
              "#f0f921"
             ]
            ],
            "type": "histogram2dcontour"
           }
          ],
          "mesh3d": [
           {
            "colorbar": {
             "outlinewidth": 0,
             "ticks": ""
            },
            "type": "mesh3d"
           }
          ],
          "parcoords": [
           {
            "line": {
             "colorbar": {
              "outlinewidth": 0,
              "ticks": ""
             }
            },
            "type": "parcoords"
           }
          ],
          "pie": [
           {
            "automargin": true,
            "type": "pie"
           }
          ],
          "scatter": [
           {
            "fillpattern": {
             "fillmode": "overlay",
             "size": 10,
             "solidity": 0.2
            },
            "type": "scatter"
           }
          ],
          "scatter3d": [
           {
            "line": {
             "colorbar": {
              "outlinewidth": 0,
              "ticks": ""
             }
            },
            "marker": {
             "colorbar": {
              "outlinewidth": 0,
              "ticks": ""
             }
            },
            "type": "scatter3d"
           }
          ],
          "scattercarpet": [
           {
            "marker": {
             "colorbar": {
              "outlinewidth": 0,
              "ticks": ""
             }
            },
            "type": "scattercarpet"
           }
          ],
          "scattergeo": [
           {
            "marker": {
             "colorbar": {
              "outlinewidth": 0,
              "ticks": ""
             }
            },
            "type": "scattergeo"
           }
          ],
          "scattergl": [
           {
            "marker": {
             "colorbar": {
              "outlinewidth": 0,
              "ticks": ""
             }
            },
            "type": "scattergl"
           }
          ],
          "scattermap": [
           {
            "marker": {
             "colorbar": {
              "outlinewidth": 0,
              "ticks": ""
             }
            },
            "type": "scattermap"
           }
          ],
          "scattermapbox": [
           {
            "marker": {
             "colorbar": {
              "outlinewidth": 0,
              "ticks": ""
             }
            },
            "type": "scattermapbox"
           }
          ],
          "scatterpolar": [
           {
            "marker": {
             "colorbar": {
              "outlinewidth": 0,
              "ticks": ""
             }
            },
            "type": "scatterpolar"
           }
          ],
          "scatterpolargl": [
           {
            "marker": {
             "colorbar": {
              "outlinewidth": 0,
              "ticks": ""
             }
            },
            "type": "scatterpolargl"
           }
          ],
          "scatterternary": [
           {
            "marker": {
             "colorbar": {
              "outlinewidth": 0,
              "ticks": ""
             }
            },
            "type": "scatterternary"
           }
          ],
          "surface": [
           {
            "colorbar": {
             "outlinewidth": 0,
             "ticks": ""
            },
            "colorscale": [
             [
              0,
              "#0d0887"
             ],
             [
              0.1111111111111111,
              "#46039f"
             ],
             [
              0.2222222222222222,
              "#7201a8"
             ],
             [
              0.3333333333333333,
              "#9c179e"
             ],
             [
              0.4444444444444444,
              "#bd3786"
             ],
             [
              0.5555555555555556,
              "#d8576b"
             ],
             [
              0.6666666666666666,
              "#ed7953"
             ],
             [
              0.7777777777777778,
              "#fb9f3a"
             ],
             [
              0.8888888888888888,
              "#fdca26"
             ],
             [
              1,
              "#f0f921"
             ]
            ],
            "type": "surface"
           }
          ],
          "table": [
           {
            "cells": {
             "fill": {
              "color": "#EBF0F8"
             },
             "line": {
              "color": "white"
             }
            },
            "header": {
             "fill": {
              "color": "#C8D4E3"
             },
             "line": {
              "color": "white"
             }
            },
            "type": "table"
           }
          ]
         },
         "layout": {
          "annotationdefaults": {
           "arrowcolor": "#2a3f5f",
           "arrowhead": 0,
           "arrowwidth": 1
          },
          "autotypenumbers": "strict",
          "coloraxis": {
           "colorbar": {
            "outlinewidth": 0,
            "ticks": ""
           }
          },
          "colorscale": {
           "diverging": [
            [
             0,
             "#8e0152"
            ],
            [
             0.1,
             "#c51b7d"
            ],
            [
             0.2,
             "#de77ae"
            ],
            [
             0.3,
             "#f1b6da"
            ],
            [
             0.4,
             "#fde0ef"
            ],
            [
             0.5,
             "#f7f7f7"
            ],
            [
             0.6,
             "#e6f5d0"
            ],
            [
             0.7,
             "#b8e186"
            ],
            [
             0.8,
             "#7fbc41"
            ],
            [
             0.9,
             "#4d9221"
            ],
            [
             1,
             "#276419"
            ]
           ],
           "sequential": [
            [
             0,
             "#0d0887"
            ],
            [
             0.1111111111111111,
             "#46039f"
            ],
            [
             0.2222222222222222,
             "#7201a8"
            ],
            [
             0.3333333333333333,
             "#9c179e"
            ],
            [
             0.4444444444444444,
             "#bd3786"
            ],
            [
             0.5555555555555556,
             "#d8576b"
            ],
            [
             0.6666666666666666,
             "#ed7953"
            ],
            [
             0.7777777777777778,
             "#fb9f3a"
            ],
            [
             0.8888888888888888,
             "#fdca26"
            ],
            [
             1,
             "#f0f921"
            ]
           ],
           "sequentialminus": [
            [
             0,
             "#0d0887"
            ],
            [
             0.1111111111111111,
             "#46039f"
            ],
            [
             0.2222222222222222,
             "#7201a8"
            ],
            [
             0.3333333333333333,
             "#9c179e"
            ],
            [
             0.4444444444444444,
             "#bd3786"
            ],
            [
             0.5555555555555556,
             "#d8576b"
            ],
            [
             0.6666666666666666,
             "#ed7953"
            ],
            [
             0.7777777777777778,
             "#fb9f3a"
            ],
            [
             0.8888888888888888,
             "#fdca26"
            ],
            [
             1,
             "#f0f921"
            ]
           ]
          },
          "colorway": [
           "#636efa",
           "#EF553B",
           "#00cc96",
           "#ab63fa",
           "#FFA15A",
           "#19d3f3",
           "#FF6692",
           "#B6E880",
           "#FF97FF",
           "#FECB52"
          ],
          "font": {
           "color": "#2a3f5f"
          },
          "geo": {
           "bgcolor": "white",
           "lakecolor": "white",
           "landcolor": "#E5ECF6",
           "showlakes": true,
           "showland": true,
           "subunitcolor": "white"
          },
          "hoverlabel": {
           "align": "left"
          },
          "hovermode": "closest",
          "mapbox": {
           "style": "light"
          },
          "paper_bgcolor": "white",
          "plot_bgcolor": "#E5ECF6",
          "polar": {
           "angularaxis": {
            "gridcolor": "white",
            "linecolor": "white",
            "ticks": ""
           },
           "bgcolor": "#E5ECF6",
           "radialaxis": {
            "gridcolor": "white",
            "linecolor": "white",
            "ticks": ""
           }
          },
          "scene": {
           "xaxis": {
            "backgroundcolor": "#E5ECF6",
            "gridcolor": "white",
            "gridwidth": 2,
            "linecolor": "white",
            "showbackground": true,
            "ticks": "",
            "zerolinecolor": "white"
           },
           "yaxis": {
            "backgroundcolor": "#E5ECF6",
            "gridcolor": "white",
            "gridwidth": 2,
            "linecolor": "white",
            "showbackground": true,
            "ticks": "",
            "zerolinecolor": "white"
           },
           "zaxis": {
            "backgroundcolor": "#E5ECF6",
            "gridcolor": "white",
            "gridwidth": 2,
            "linecolor": "white",
            "showbackground": true,
            "ticks": "",
            "zerolinecolor": "white"
           }
          },
          "shapedefaults": {
           "line": {
            "color": "#2a3f5f"
           }
          },
          "ternary": {
           "aaxis": {
            "gridcolor": "white",
            "linecolor": "white",
            "ticks": ""
           },
           "baxis": {
            "gridcolor": "white",
            "linecolor": "white",
            "ticks": ""
           },
           "bgcolor": "#E5ECF6",
           "caxis": {
            "gridcolor": "white",
            "linecolor": "white",
            "ticks": ""
           }
          },
          "title": {
           "x": 0.05
          },
          "xaxis": {
           "automargin": true,
           "gridcolor": "white",
           "linecolor": "white",
           "ticks": "",
           "title": {
            "standoff": 15
           },
           "zerolinecolor": "white",
           "zerolinewidth": 2
          },
          "yaxis": {
           "automargin": true,
           "gridcolor": "white",
           "linecolor": "white",
           "ticks": "",
           "title": {
            "standoff": 15
           },
           "zerolinecolor": "white",
           "zerolinewidth": 2
          }
         }
        },
        "title": {
         "text": "Fit RMSE and stderr vs Sample Duration (each parameter in separate subplot)"
        },
        "width": 900,
        "xaxis": {
         "anchor": "y",
         "domain": [
          0,
          1
         ],
         "matches": "x4",
         "showticklabels": false,
         "type": "log"
        },
        "xaxis2": {
         "anchor": "y2",
         "domain": [
          0,
          1
         ],
         "matches": "x4",
         "showticklabels": false,
         "type": "log"
        },
        "xaxis3": {
         "anchor": "y3",
         "domain": [
          0,
          1
         ],
         "matches": "x4",
         "showticklabels": false,
         "type": "log"
        },
        "xaxis4": {
         "anchor": "y4",
         "domain": [
          0,
          1
         ],
         "title": {
          "text": "Sample Duration (s)"
         },
         "type": "log"
        },
        "yaxis": {
         "anchor": "x",
         "domain": [
          0.7575000000000001,
          1
         ],
         "type": "log"
        },
        "yaxis2": {
         "anchor": "x2",
         "domain": [
          0.505,
          0.7475
         ],
         "type": "log"
        },
        "yaxis3": {
         "anchor": "x3",
         "domain": [
          0.2525,
          0.495
         ],
         "type": "log"
        },
        "yaxis4": {
         "anchor": "x4",
         "domain": [
          0,
          0.2425
         ]
        }
       }
      }
     },
     "metadata": {},
     "output_type": "display_data"
    }
   ],
   "source": [
    "import numpy as np\n",
    "import numpy.typing as npt\n",
    "import plotly.graph_objects as go\n",
    "from scipy.optimize import curve_fit\n",
    "\n",
    "from math_functions import damp_sine_wave\n",
    "from plotly.subplots import make_subplots\n",
    "from tqdm import tqdm\n",
    "from typing import Tuple\n",
    "from multiprocessing import Pool, cpu_count\n",
    "\n",
    "from typing import Tuple\n",
    "\n",
    "np_rng = np.random.default_rng(42)\n",
    "\n",
    "\n",
    "# Wrapper for curve_fit\n",
    "def wrapper(\n",
    "    x: npt.NDArray[np.float64],\n",
    "    frequency: float,\n",
    "    amplitude: float,\n",
    "    damping_rate: float,\n",
    "    phase: float,\n",
    ") -> npt.NDArray[np.float64]:\n",
    "    return damp_sine_wave(\n",
    "        x,\n",
    "        frequency=frequency,\n",
    "        damping_rate=damping_rate,\n",
    "        phase=phase,\n",
    "        amplitude=amplitude,\n",
    "    )\n",
    "\n",
    "\n",
    "key_order = (\"frequency\", \"amplitude\", \"damping_rate\", \"phase\")\n",
    "\n",
    "# True model parameters\n",
    "true_params: Dict[str, float] = dict(\n",
    "    frequency=10.0, amplitude=10.0, damping_rate=0.01, phase=0.0\n",
    ")\n",
    "\n",
    "# Settings\n",
    "noise_scale = 0.01\n",
    "num_repeats: int = 100\n",
    "num_points: int = 5000\n",
    "# durations: npt.NDArray[np.float64] = np.linspace(0.1, 100, 100)\n",
    "durations: npt.NDArray[np.float64] = np.logspace(-2, 4, 30)\n",
    "\n",
    "# Storage\n",
    "rmse_results = {k: [] for k in true_params}\n",
    "stderr_results = {k: [] for k in true_params}\n",
    "\n",
    "\n",
    "def fit_for_duration(\n",
    "    duration: float,\n",
    ") -> Tuple[float, Dict[str, float], Dict[str, float]]:\n",
    "    x_vals = np.linspace(0, duration, num_points)\n",
    "\n",
    "    param_diffs = {k: [] for k in true_params}\n",
    "    param_stderr = {k: [] for k in true_params}\n",
    "\n",
    "    for _ in range(num_repeats):\n",
    "        y_clean = damp_sine_wave(x_vals, **true_params)\n",
    "        noise = np_rng.normal(scale=noise_scale, size=y_clean.shape)\n",
    "        y_noisy = y_clean + noise\n",
    "\n",
    "        try:\n",
    "            initial_guess = np.array([true_params[k] for k in key_order])\n",
    "            initial_guess += (\n",
    "                np_rng.normal(scale=0.001, size=initial_guess.shape) * initial_guess\n",
    "            )\n",
    "            popt, pcov = curve_fit(wrapper, x_vals, y_noisy, p0=initial_guess)\n",
    "            perr = np.sqrt(np.diag(pcov))\n",
    "\n",
    "            for i, key in enumerate(true_params):\n",
    "                param_diffs[key].append(popt[i] - true_params[key])\n",
    "                param_stderr[key].append(perr[i])\n",
    "        except RuntimeError:\n",
    "            for key in true_params:\n",
    "                param_diffs[key].append(np.nan)\n",
    "                param_stderr[key].append(np.nan)\n",
    "\n",
    "    rmse = {\n",
    "        key: np.sqrt(np.nanmean(np.square(param_diffs[key]))) for key in true_params\n",
    "    }\n",
    "    stderr = {key: np.nanmean(param_stderr[key]) for key in true_params}\n",
    "\n",
    "    return duration, rmse, stderr\n",
    "\n",
    "\n",
    "print(\"Starting parallel fits...\")\n",
    "with Pool(processes=cpu_count()) as pool:\n",
    "    results = list(tqdm(pool.imap(fit_for_duration, durations), total=len(durations)))\n",
    "\n",
    "rmse_results = {k: [] for k in true_params}\n",
    "stderr_results = {k: [] for k in true_params}\n",
    "\n",
    "# Extract from results\n",
    "durations_out = []\n",
    "for duration, rmse, stderr in results:\n",
    "    durations_out.append(duration)\n",
    "    for key in true_params:\n",
    "        rmse_results[key].append(rmse[key])\n",
    "        stderr_results[key].append(stderr[key])\n",
    "\n",
    "durations = np.array(durations_out)\n",
    "\n",
    "# Plotting with Plotly\n",
    "# Create subplots\n",
    "fig = make_subplots(rows=4, cols=1, shared_xaxes=True, vertical_spacing=0.01)\n",
    "\n",
    "for i, k in enumerate(true_params, start=1):\n",
    "    fig.add_trace(\n",
    "        go.Scatter(\n",
    "            x=durations, y=rmse_results[k], mode=\"lines+markers\", name=f\"RMSE {k}\"\n",
    "        ),\n",
    "        row=i,\n",
    "        col=1,\n",
    "    )\n",
    "    fig.add_trace(\n",
    "        go.Scatter(\n",
    "            x=durations,\n",
    "            y=stderr_results[k],\n",
    "            mode=\"lines+markers\",\n",
    "            name=f\"stderr {k}\",\n",
    "            line=dict(dash=\"dot\"),\n",
    "        ),\n",
    "        row=i,\n",
    "        col=1,\n",
    "    )\n",
    "\n",
    "    xref = \"x domain\" if i == 1 else f\"x{i} domain\"\n",
    "    yref = \"y domain\" if i == 1 else f\"y{i} domain\"\n",
    "    fig.add_annotation(\n",
    "        text=f\"<b>{k}</b>\",\n",
    "        x=0.5,\n",
    "        y=0.95,\n",
    "        xref=xref,\n",
    "        yref=yref,\n",
    "        showarrow=False,\n",
    "        font=dict(size=14),\n",
    "        align=\"left\",\n",
    "    )\n",
    "\n",
    "fig.update_layout(\n",
    "    title=\"Fit RMSE and stderr vs Sample Duration (each parameter in separate subplot)\",\n",
    "    xaxis4_title=\"Sample Duration (s)\",\n",
    "    height=900,\n",
    "    width=900,\n",
    "    showlegend=True,\n",
    ")\n",
    "\n",
    "for i in range(1, 4):\n",
    "    fig.update_yaxes(type=\"log\", row=i, col=1)\n",
    "    fig.update_xaxes(type=\"log\", row=i, col=1)\n",
    "\n",
    "\n",
    "fig.update_xaxes(type=\"log\", title=\"Sample Duration (s)\", row=4, col=1)\n",
    "\n",
    "fig.show()"
   ]
  },
  {
   "cell_type": "code",
   "execution_count": 21,
   "id": "234fbe5f",
   "metadata": {},
   "outputs": [
    {
     "data": {
      "application/vnd.plotly.v1+json": {
       "config": {
        "plotlyServerURL": "https://plot.ly"
       },
       "data": [
        {
         "mode": "lines+markers",
         "name": "RMSE frequency",
         "type": "scatter",
         "x": {
          "bdata": "exSuR+F6hD/DxtqNNH2QP76kaCA/jZo//m2ojaxgpT+jw2I3ODaxPwUyiwgrt7s/2kvgNYpQxj/53LfQV/fRPzSyAr4l7tw/t83cQutK5z9tkLdW7sDyP/PtbMTBMv4/5YMpq0VQCECb5irDWpMTQN2VWguYhR9AjxzqkBRhKUDxl4U5AG80QI+FLhukc0BAf6nde9h9SkD1RJs1RlRVQKJQHnQ8LGFANNPslRena0CDw2C8mEN2QE9kvQjs7IFA5YBf6l3djEBEedCOaD2XQFiPIqENtqJAuL3Xpz0hrkDlvQlfK0K4QAAAAAAAiMNA",
          "dtype": "f8"
         },
         "y": [
          0.08478898499985409,
          0.01873829363400777,
          0.0035582003537246954,
          0.0004078727753365982,
          0.00018639527462264034,
          9.476077208013929e-05,
          6.325008248446736e-05,
          4.1801524471715794e-05,
          2.2891711717851302e-05,
          1.456154424671393e-05,
          9.91055323421269e-06,
          6.251268287630789e-06,
          3.5826694400252692e-06,
          2.146871925660143e-06,
          1.3931880751524478e-06,
          8.624920795127303e-07,
          6.140177025882914e-07,
          3.5596105571264416e-07,
          2.5790837463938344e-07,
          2.3881711159283547e-07,
          1.6886438371770143e-07,
          1.391004683292597e-07,
          1.7891679624941294e-07,
          1.9818120496877045e-07,
          2.539833796544349e-07,
          3.492499794776452e-07,
          4.0647964826211675e-07,
          4.985826941002977e-07,
          6.772323284094014e-07,
          0.0024658316775370967
         ]
        },
        {
         "line": {
          "dash": "dot"
         },
         "mode": "lines+markers",
         "name": "stderr frequency",
         "type": "scatter",
         "x": {
          "bdata": "exSuR+F6hD/DxtqNNH2QP76kaCA/jZo//m2ojaxgpT+jw2I3ODaxPwUyiwgrt7s/2kvgNYpQxj/53LfQV/fRPzSyAr4l7tw/t83cQutK5z9tkLdW7sDyP/PtbMTBMv4/5YMpq0VQCECb5irDWpMTQN2VWguYhR9AjxzqkBRhKUDxl4U5AG80QI+FLhukc0BAf6nde9h9SkD1RJs1RlRVQKJQHnQ8LGFANNPslRena0CDw2C8mEN2QE9kvQjs7IFA5YBf6l3djEBEedCOaD2XQFiPIqENtqJAuL3Xpz0hrkDlvQlfK0K4QAAAAAAAiMNA",
          "dtype": "f8"
         },
         "y": [
          0.08603913210058348,
          0.019029465957994537,
          0.0036243849942368617,
          0.00041753664138104976,
          0.00019347818196214215,
          9.311210204413821e-05,
          6.544961916583636e-05,
          4.0845855707564614e-05,
          2.458450087872595e-05,
          1.5176653147727535e-05,
          9.496675413466606e-06,
          5.90324357127099e-06,
          3.6741991420045418e-06,
          2.2780742258573183e-06,
          1.3946257486532e-06,
          9.03541283779479e-07,
          5.724620502421275e-07,
          3.7569723756869627e-07,
          2.580473862272515e-07,
          1.8495294490988357e-07,
          1.5122257787441906e-07,
          1.4583408122269612e-07,
          1.5355428730900033e-07,
          2.0292632609078676e-07,
          2.548470264248224e-07,
          3.3463831313744434e-07,
          4.2234826716580705e-07,
          5.412603660595797e-07,
          6.854848197125756e-07,
          9.789566050809699e-07
         ]
        },
        {
         "line": {
          "dash": "dash"
         },
         "mode": "lines",
         "name": "theory frequency",
         "type": "scatter",
         "x": {
          "bdata": "exSuR+F6hD/DxtqNNH2QP76kaCA/jZo//m2ojaxgpT+jw2I3ODaxPwUyiwgrt7s/2kvgNYpQxj/53LfQV/fRPzSyAr4l7tw/t83cQutK5z9tkLdW7sDyP/PtbMTBMv4/5YMpq0VQCECb5irDWpMTQN2VWguYhR9AjxzqkBRhKUDxl4U5AG80QI+FLhukc0BAf6nde9h9SkD1RJs1RlRVQKJQHnQ8LGFANNPslRena0CDw2C8mEN2QE9kvQjs7IFA5YBf6l3djEBEedCOaD2XQFiPIqENtqJAuL3Xpz0hrkDlvQlfK0K4QAAAAAAAiMNA",
          "dtype": "f8"
         },
         "y": [
          null,
          0.0006880048968021428,
          0.0004345629964294156,
          0.0002645054587735465,
          0.00016399214317698395,
          0.0001019015814969362,
          6.330563824448317e-05,
          3.933450757229295e-05,
          2.44483697749472e-05,
          1.5203822581436241e-05,
          9.462838252366215e-06,
          5.89765927614059e-06,
          3.6837346836164275e-06,
          2.309031601928938e-06,
          1.4556136940034891e-06,
          9.261126556068078e-07,
          5.9809035362345e-07,
          3.9574577769407157e-07,
          2.724471292129134e-07,
          2.00105226815189e-07,
          1.6301777814469414e-07,
          1.545586122789601e-07,
          1.7358321541411527e-07,
          2.1577721397847085e-07,
          2.7362416327711376e-07,
          3.4721782905835074e-07,
          4.406058846561536e-07,
          5.591116853949625e-07,
          7.094909251816993e-07,
          9.003163161571064e-07
         ]
        },
        {
         "line": {
          "dash": "dashdot"
         },
         "mode": "lines",
         "name": "theory testing frequency",
         "type": "scatter",
         "x": {
          "bdata": "exSuR+F6hD/DxtqNNH2QP76kaCA/jZo//m2ojaxgpT+jw2I3ODaxPwUyiwgrt7s/2kvgNYpQxj/53LfQV/fRPzSyAr4l7tw/t83cQutK5z9tkLdW7sDyP/PtbMTBMv4/5YMpq0VQCECb5irDWpMTQN2VWguYhR9AjxzqkBRhKUDxl4U5AG80QI+FLhukc0BAf6nde9h9SkD1RJs1RlRVQKJQHnQ8LGFANNPslRena0CDw2C8mEN2QE9kvQjs7IFA5YBf6l3djEBEedCOaD2XQFiPIqENtqJAuL3Xpz0hrkDlvQlfK0K4QAAAAAAAiMNA",
          "dtype": "f8"
         },
         "y": [
          0.0008545847732851018,
          0.0007945675606413269,
          0.00042655019504351957,
          0.00026389193657231605,
          0.00016403566185872262,
          0.0001019008596284256,
          6.330491116984757e-05,
          3.933458972245605e-05,
          2.4448377841098795e-05,
          1.5203821240008674e-05,
          9.462838181320976e-06,
          5.897659282741951e-06,
          3.683734683527492e-06,
          2.3090316019495083e-06,
          1.4556136940045956e-06,
          9.261126556067847e-07,
          5.980903536234443e-07,
          3.957457776940718e-07,
          2.7244712921291263e-07,
          2.0010522681518893e-07,
          1.6301777814469406e-07,
          1.5455861227896008e-07,
          1.735832154141153e-07,
          2.157772139784708e-07,
          2.736241632771137e-07,
          3.4721782905835064e-07,
          4.406058846561536e-07,
          5.591116853949625e-07,
          7.094909251816991e-07,
          9.003163161571061e-07
         ]
        },
        {
         "line": {
          "dash": "dash"
         },
         "mode": "lines",
         "name": "theory undamped frequency",
         "type": "scatter",
         "x": {
          "bdata": "exSuR+F6hD/DxtqNNH2QP76kaCA/jZo//m2ojaxgpT+jw2I3ODaxPwUyiwgrt7s/2kvgNYpQxj/53LfQV/fRPzSyAr4l7tw/t83cQutK5z9tkLdW7sDyP/PtbMTBMv4/5YMpq0VQCECb5irDWpMTQN2VWguYhR9AjxzqkBRhKUDxl4U5AG80QI+FLhukc0BAf6nde9h9SkD1RJs1RlRVQKJQHnQ8LGFANNPslRena0CDw2C8mEN2QE9kvQjs7IFA5YBf6l3djEBEedCOaD2XQFiPIqENtqJAuL3Xpz0hrkDlvQlfK0K4QAAAAAAAiMNA",
          "dtype": "f8"
         },
         "y": [
          0.0011026577908435841,
          0.0006847691692225879,
          0.0004252532553722368,
          0.0002640894761806978,
          0.00016400403888348135,
          0.00010184928668528428,
          6.325013255113219e-05,
          3.927940389114003e-05,
          2.4393175283799287e-05,
          1.5148575117769861e-05,
          9.407521793652037e-06,
          5.842230415072006e-06,
          3.628124066193886e-06,
          2.253126512390905e-06,
          1.3992297364197994e-06,
          8.689453719151597e-07,
          5.39629797537578e-07,
          3.3511924662034927e-07,
          2.0811472970517336e-07,
          1.292427730040957e-07,
          8.02619516525887e-08,
          4.984403176553901e-08,
          3.095398817858089e-08,
          1.9222951078009855e-08,
          1.1937778292596778e-08,
          7.413562568247919e-09,
          4.603947954655074e-09,
          2.859129679427804e-09,
          1.775567969989656e-09,
          1.102657790843584e-09
         ]
        }
       ],
       "layout": {
        "height": 500,
        "template": {
         "data": {
          "bar": [
           {
            "error_x": {
             "color": "#2a3f5f"
            },
            "error_y": {
             "color": "#2a3f5f"
            },
            "marker": {
             "line": {
              "color": "#E5ECF6",
              "width": 0.5
             },
             "pattern": {
              "fillmode": "overlay",
              "size": 10,
              "solidity": 0.2
             }
            },
            "type": "bar"
           }
          ],
          "barpolar": [
           {
            "marker": {
             "line": {
              "color": "#E5ECF6",
              "width": 0.5
             },
             "pattern": {
              "fillmode": "overlay",
              "size": 10,
              "solidity": 0.2
             }
            },
            "type": "barpolar"
           }
          ],
          "carpet": [
           {
            "aaxis": {
             "endlinecolor": "#2a3f5f",
             "gridcolor": "white",
             "linecolor": "white",
             "minorgridcolor": "white",
             "startlinecolor": "#2a3f5f"
            },
            "baxis": {
             "endlinecolor": "#2a3f5f",
             "gridcolor": "white",
             "linecolor": "white",
             "minorgridcolor": "white",
             "startlinecolor": "#2a3f5f"
            },
            "type": "carpet"
           }
          ],
          "choropleth": [
           {
            "colorbar": {
             "outlinewidth": 0,
             "ticks": ""
            },
            "type": "choropleth"
           }
          ],
          "contour": [
           {
            "colorbar": {
             "outlinewidth": 0,
             "ticks": ""
            },
            "colorscale": [
             [
              0,
              "#0d0887"
             ],
             [
              0.1111111111111111,
              "#46039f"
             ],
             [
              0.2222222222222222,
              "#7201a8"
             ],
             [
              0.3333333333333333,
              "#9c179e"
             ],
             [
              0.4444444444444444,
              "#bd3786"
             ],
             [
              0.5555555555555556,
              "#d8576b"
             ],
             [
              0.6666666666666666,
              "#ed7953"
             ],
             [
              0.7777777777777778,
              "#fb9f3a"
             ],
             [
              0.8888888888888888,
              "#fdca26"
             ],
             [
              1,
              "#f0f921"
             ]
            ],
            "type": "contour"
           }
          ],
          "contourcarpet": [
           {
            "colorbar": {
             "outlinewidth": 0,
             "ticks": ""
            },
            "type": "contourcarpet"
           }
          ],
          "heatmap": [
           {
            "colorbar": {
             "outlinewidth": 0,
             "ticks": ""
            },
            "colorscale": [
             [
              0,
              "#0d0887"
             ],
             [
              0.1111111111111111,
              "#46039f"
             ],
             [
              0.2222222222222222,
              "#7201a8"
             ],
             [
              0.3333333333333333,
              "#9c179e"
             ],
             [
              0.4444444444444444,
              "#bd3786"
             ],
             [
              0.5555555555555556,
              "#d8576b"
             ],
             [
              0.6666666666666666,
              "#ed7953"
             ],
             [
              0.7777777777777778,
              "#fb9f3a"
             ],
             [
              0.8888888888888888,
              "#fdca26"
             ],
             [
              1,
              "#f0f921"
             ]
            ],
            "type": "heatmap"
           }
          ],
          "histogram": [
           {
            "marker": {
             "pattern": {
              "fillmode": "overlay",
              "size": 10,
              "solidity": 0.2
             }
            },
            "type": "histogram"
           }
          ],
          "histogram2d": [
           {
            "colorbar": {
             "outlinewidth": 0,
             "ticks": ""
            },
            "colorscale": [
             [
              0,
              "#0d0887"
             ],
             [
              0.1111111111111111,
              "#46039f"
             ],
             [
              0.2222222222222222,
              "#7201a8"
             ],
             [
              0.3333333333333333,
              "#9c179e"
             ],
             [
              0.4444444444444444,
              "#bd3786"
             ],
             [
              0.5555555555555556,
              "#d8576b"
             ],
             [
              0.6666666666666666,
              "#ed7953"
             ],
             [
              0.7777777777777778,
              "#fb9f3a"
             ],
             [
              0.8888888888888888,
              "#fdca26"
             ],
             [
              1,
              "#f0f921"
             ]
            ],
            "type": "histogram2d"
           }
          ],
          "histogram2dcontour": [
           {
            "colorbar": {
             "outlinewidth": 0,
             "ticks": ""
            },
            "colorscale": [
             [
              0,
              "#0d0887"
             ],
             [
              0.1111111111111111,
              "#46039f"
             ],
             [
              0.2222222222222222,
              "#7201a8"
             ],
             [
              0.3333333333333333,
              "#9c179e"
             ],
             [
              0.4444444444444444,
              "#bd3786"
             ],
             [
              0.5555555555555556,
              "#d8576b"
             ],
             [
              0.6666666666666666,
              "#ed7953"
             ],
             [
              0.7777777777777778,
              "#fb9f3a"
             ],
             [
              0.8888888888888888,
              "#fdca26"
             ],
             [
              1,
              "#f0f921"
             ]
            ],
            "type": "histogram2dcontour"
           }
          ],
          "mesh3d": [
           {
            "colorbar": {
             "outlinewidth": 0,
             "ticks": ""
            },
            "type": "mesh3d"
           }
          ],
          "parcoords": [
           {
            "line": {
             "colorbar": {
              "outlinewidth": 0,
              "ticks": ""
             }
            },
            "type": "parcoords"
           }
          ],
          "pie": [
           {
            "automargin": true,
            "type": "pie"
           }
          ],
          "scatter": [
           {
            "fillpattern": {
             "fillmode": "overlay",
             "size": 10,
             "solidity": 0.2
            },
            "type": "scatter"
           }
          ],
          "scatter3d": [
           {
            "line": {
             "colorbar": {
              "outlinewidth": 0,
              "ticks": ""
             }
            },
            "marker": {
             "colorbar": {
              "outlinewidth": 0,
              "ticks": ""
             }
            },
            "type": "scatter3d"
           }
          ],
          "scattercarpet": [
           {
            "marker": {
             "colorbar": {
              "outlinewidth": 0,
              "ticks": ""
             }
            },
            "type": "scattercarpet"
           }
          ],
          "scattergeo": [
           {
            "marker": {
             "colorbar": {
              "outlinewidth": 0,
              "ticks": ""
             }
            },
            "type": "scattergeo"
           }
          ],
          "scattergl": [
           {
            "marker": {
             "colorbar": {
              "outlinewidth": 0,
              "ticks": ""
             }
            },
            "type": "scattergl"
           }
          ],
          "scattermap": [
           {
            "marker": {
             "colorbar": {
              "outlinewidth": 0,
              "ticks": ""
             }
            },
            "type": "scattermap"
           }
          ],
          "scattermapbox": [
           {
            "marker": {
             "colorbar": {
              "outlinewidth": 0,
              "ticks": ""
             }
            },
            "type": "scattermapbox"
           }
          ],
          "scatterpolar": [
           {
            "marker": {
             "colorbar": {
              "outlinewidth": 0,
              "ticks": ""
             }
            },
            "type": "scatterpolar"
           }
          ],
          "scatterpolargl": [
           {
            "marker": {
             "colorbar": {
              "outlinewidth": 0,
              "ticks": ""
             }
            },
            "type": "scatterpolargl"
           }
          ],
          "scatterternary": [
           {
            "marker": {
             "colorbar": {
              "outlinewidth": 0,
              "ticks": ""
             }
            },
            "type": "scatterternary"
           }
          ],
          "surface": [
           {
            "colorbar": {
             "outlinewidth": 0,
             "ticks": ""
            },
            "colorscale": [
             [
              0,
              "#0d0887"
             ],
             [
              0.1111111111111111,
              "#46039f"
             ],
             [
              0.2222222222222222,
              "#7201a8"
             ],
             [
              0.3333333333333333,
              "#9c179e"
             ],
             [
              0.4444444444444444,
              "#bd3786"
             ],
             [
              0.5555555555555556,
              "#d8576b"
             ],
             [
              0.6666666666666666,
              "#ed7953"
             ],
             [
              0.7777777777777778,
              "#fb9f3a"
             ],
             [
              0.8888888888888888,
              "#fdca26"
             ],
             [
              1,
              "#f0f921"
             ]
            ],
            "type": "surface"
           }
          ],
          "table": [
           {
            "cells": {
             "fill": {
              "color": "#EBF0F8"
             },
             "line": {
              "color": "white"
             }
            },
            "header": {
             "fill": {
              "color": "#C8D4E3"
             },
             "line": {
              "color": "white"
             }
            },
            "type": "table"
           }
          ]
         },
         "layout": {
          "annotationdefaults": {
           "arrowcolor": "#2a3f5f",
           "arrowhead": 0,
           "arrowwidth": 1
          },
          "autotypenumbers": "strict",
          "coloraxis": {
           "colorbar": {
            "outlinewidth": 0,
            "ticks": ""
           }
          },
          "colorscale": {
           "diverging": [
            [
             0,
             "#8e0152"
            ],
            [
             0.1,
             "#c51b7d"
            ],
            [
             0.2,
             "#de77ae"
            ],
            [
             0.3,
             "#f1b6da"
            ],
            [
             0.4,
             "#fde0ef"
            ],
            [
             0.5,
             "#f7f7f7"
            ],
            [
             0.6,
             "#e6f5d0"
            ],
            [
             0.7,
             "#b8e186"
            ],
            [
             0.8,
             "#7fbc41"
            ],
            [
             0.9,
             "#4d9221"
            ],
            [
             1,
             "#276419"
            ]
           ],
           "sequential": [
            [
             0,
             "#0d0887"
            ],
            [
             0.1111111111111111,
             "#46039f"
            ],
            [
             0.2222222222222222,
             "#7201a8"
            ],
            [
             0.3333333333333333,
             "#9c179e"
            ],
            [
             0.4444444444444444,
             "#bd3786"
            ],
            [
             0.5555555555555556,
             "#d8576b"
            ],
            [
             0.6666666666666666,
             "#ed7953"
            ],
            [
             0.7777777777777778,
             "#fb9f3a"
            ],
            [
             0.8888888888888888,
             "#fdca26"
            ],
            [
             1,
             "#f0f921"
            ]
           ],
           "sequentialminus": [
            [
             0,
             "#0d0887"
            ],
            [
             0.1111111111111111,
             "#46039f"
            ],
            [
             0.2222222222222222,
             "#7201a8"
            ],
            [
             0.3333333333333333,
             "#9c179e"
            ],
            [
             0.4444444444444444,
             "#bd3786"
            ],
            [
             0.5555555555555556,
             "#d8576b"
            ],
            [
             0.6666666666666666,
             "#ed7953"
            ],
            [
             0.7777777777777778,
             "#fb9f3a"
            ],
            [
             0.8888888888888888,
             "#fdca26"
            ],
            [
             1,
             "#f0f921"
            ]
           ]
          },
          "colorway": [
           "#636efa",
           "#EF553B",
           "#00cc96",
           "#ab63fa",
           "#FFA15A",
           "#19d3f3",
           "#FF6692",
           "#B6E880",
           "#FF97FF",
           "#FECB52"
          ],
          "font": {
           "color": "#2a3f5f"
          },
          "geo": {
           "bgcolor": "white",
           "lakecolor": "white",
           "landcolor": "#E5ECF6",
           "showlakes": true,
           "showland": true,
           "subunitcolor": "white"
          },
          "hoverlabel": {
           "align": "left"
          },
          "hovermode": "closest",
          "mapbox": {
           "style": "light"
          },
          "paper_bgcolor": "white",
          "plot_bgcolor": "#E5ECF6",
          "polar": {
           "angularaxis": {
            "gridcolor": "white",
            "linecolor": "white",
            "ticks": ""
           },
           "bgcolor": "#E5ECF6",
           "radialaxis": {
            "gridcolor": "white",
            "linecolor": "white",
            "ticks": ""
           }
          },
          "scene": {
           "xaxis": {
            "backgroundcolor": "#E5ECF6",
            "gridcolor": "white",
            "gridwidth": 2,
            "linecolor": "white",
            "showbackground": true,
            "ticks": "",
            "zerolinecolor": "white"
           },
           "yaxis": {
            "backgroundcolor": "#E5ECF6",
            "gridcolor": "white",
            "gridwidth": 2,
            "linecolor": "white",
            "showbackground": true,
            "ticks": "",
            "zerolinecolor": "white"
           },
           "zaxis": {
            "backgroundcolor": "#E5ECF6",
            "gridcolor": "white",
            "gridwidth": 2,
            "linecolor": "white",
            "showbackground": true,
            "ticks": "",
            "zerolinecolor": "white"
           }
          },
          "shapedefaults": {
           "line": {
            "color": "#2a3f5f"
           }
          },
          "ternary": {
           "aaxis": {
            "gridcolor": "white",
            "linecolor": "white",
            "ticks": ""
           },
           "baxis": {
            "gridcolor": "white",
            "linecolor": "white",
            "ticks": ""
           },
           "bgcolor": "#E5ECF6",
           "caxis": {
            "gridcolor": "white",
            "linecolor": "white",
            "ticks": ""
           }
          },
          "title": {
           "x": 0.05
          },
          "xaxis": {
           "automargin": true,
           "gridcolor": "white",
           "linecolor": "white",
           "ticks": "",
           "title": {
            "standoff": 15
           },
           "zerolinecolor": "white",
           "zerolinewidth": 2
          },
          "yaxis": {
           "automargin": true,
           "gridcolor": "white",
           "linecolor": "white",
           "ticks": "",
           "title": {
            "standoff": 15
           },
           "zerolinecolor": "white",
           "zerolinewidth": 2
          }
         }
        },
        "title": {
         "text": "Comparison for frequency"
        },
        "width": 900,
        "xaxis": {
         "title": {
          "text": "Sample Duration (s)"
         },
         "type": "log"
        },
        "yaxis": {
         "title": {
          "text": "Uncertainty"
         },
         "type": "log"
        }
       }
      }
     },
     "metadata": {},
     "output_type": "display_data"
    },
    {
     "data": {
      "application/vnd.plotly.v1+json": {
       "config": {
        "plotlyServerURL": "https://plot.ly"
       },
       "data": [
        {
         "mode": "lines+markers",
         "name": "RMSE amplitude",
         "type": "scatter",
         "x": {
          "bdata": "exSuR+F6hD/DxtqNNH2QP76kaCA/jZo//m2ojaxgpT+jw2I3ODaxPwUyiwgrt7s/2kvgNYpQxj/53LfQV/fRPzSyAr4l7tw/t83cQutK5z9tkLdW7sDyP/PtbMTBMv4/5YMpq0VQCECb5irDWpMTQN2VWguYhR9AjxzqkBRhKUDxl4U5AG80QI+FLhukc0BAf6nde9h9SkD1RJs1RlRVQKJQHnQ8LGFANNPslRena0CDw2C8mEN2QE9kvQjs7IFA5YBf6l3djEBEedCOaD2XQFiPIqENtqJAuL3Xpz0hrkDlvQlfK0K4QAAAAAAAiMNA",
          "dtype": "f8"
         },
         "y": [
          0.09150186220295906,
          0.023096127030083787,
          0.006184645864939739,
          0.0018432326410523893,
          0.0006290476942255438,
          0.00046716069341518957,
          0.00040899561082012717,
          0.0004205761553790861,
          0.00040361577587121945,
          0.0004025852217773108,
          0.0004253196612670543,
          0.0004169737603256882,
          0.000364313723703176,
          0.0004157645840089159,
          0.00035653788889515483,
          0.00039182148433964157,
          0.0004761659520052204,
          0.00040703626426987085,
          0.0004184626685644275,
          0.0004730392290310563,
          0.0005745565172390298,
          0.0005655252358319374,
          0.0007766629647826626,
          0.0008561838897048516,
          0.0012520885502028923,
          0.001481631217617261,
          0.0018380866369452872,
          0.002537674781808748,
          0.00335524928587514,
          12.328378345008447
         ]
        },
        {
         "line": {
          "dash": "dot"
         },
         "mode": "lines+markers",
         "name": "stderr amplitude",
         "type": "scatter",
         "x": {
          "bdata": "exSuR+F6hD/DxtqNNH2QP76kaCA/jZo//m2ojaxgpT+jw2I3ODaxPwUyiwgrt7s/2kvgNYpQxj/53LfQV/fRPzSyAr4l7tw/t83cQutK5z9tkLdW7sDyP/PtbMTBMv4/5YMpq0VQCECb5irDWpMTQN2VWguYhR9AjxzqkBRhKUDxl4U5AG80QI+FLhukc0BAf6nde9h9SkD1RJs1RlRVQKJQHnQ8LGFANNPslRena0CDw2C8mEN2QE9kvQjs7IFA5YBf6l3djEBEedCOaD2XQFiPIqENtqJAuL3Xpz0hrkDlvQlfK0K4QAAAAAAAiMNA",
          "dtype": "f8"
         },
         "y": [
          0.09283243109789098,
          0.023364090272667278,
          0.006230746003940289,
          0.0018388917265311313,
          0.000600542380392775,
          0.00045840602473515215,
          0.00041603785398595467,
          0.00040202529988355893,
          0.000403621996786622,
          0.0004010979035470103,
          0.0004022896538136372,
          0.00040149845349651944,
          0.0004029220036156037,
          0.00040504082262591466,
          0.000408112079416502,
          0.0004129588581896104,
          0.00042040357196839427,
          0.0004330682785060276,
          0.0004532216429818224,
          0.00048590054387934596,
          0.0005388707037183455,
          0.0006247834669541732,
          0.0007611374066730068,
          0.0009584234128059195,
          0.0012158269177882089,
          0.0015450327135334352,
          0.0019581415651352694,
          0.0024846853102046458,
          0.0031597810374739328,
          0.013051230648214156
         ]
        },
        {
         "line": {
          "dash": "dash"
         },
         "mode": "lines",
         "name": "theory amplitude",
         "type": "scatter",
         "x": {
          "bdata": "exSuR+F6hD/DxtqNNH2QP76kaCA/jZo//m2ojaxgpT+jw2I3ODaxPwUyiwgrt7s/2kvgNYpQxj/53LfQV/fRPzSyAr4l7tw/t83cQutK5z9tkLdW7sDyP/PtbMTBMv4/5YMpq0VQCECb5irDWpMTQN2VWguYhR9AjxzqkBRhKUDxl4U5AG80QI+FLhukc0BAf6nde9h9SkD1RJs1RlRVQKJQHnQ8LGFANNPslRena0CDw2C8mEN2QE9kvQjs7IFA5YBf6l3djEBEedCOaD2XQFiPIqENtqJAuL3Xpz0hrkDlvQlfK0K4QAAAAAAAiMNA",
          "dtype": "f8"
         },
         "y": [
          0.0004000100000833292,
          0.0004000161028363369,
          0.00040002592999818125,
          0.00040004175464183634,
          0.00040006723734106004,
          0.0004001082734356188,
          0.000400174358186769,
          0.0004002807871987226,
          0.00040045220526061984,
          0.00040072833530301153,
          0.0004011732404354465,
          0.0004018903323091896,
          0.00040304677541406494,
          0.00040491336939794346,
          0.00040793016405605805,
          0.0004128152144122955,
          0.00042074556524153813,
          0.00043365483406544833,
          0.00045469196229511904,
          0.0004887757941423693,
          0.0005426815959036172,
          0.0006232297034556762,
          0.0007340500579984955,
          0.0008774193531701176,
          0.0010596142697510812,
          0.00129081698090695,
          0.001584204210364204,
          0.0019565011633730215,
          0.002428931478339452,
          0.0030284271247461906
         ]
        },
        {
         "line": {
          "dash": "dashdot"
         },
         "mode": "lines",
         "name": "theory testing amplitude",
         "type": "scatter",
         "x": {
          "bdata": "exSuR+F6hD/DxtqNNH2QP76kaCA/jZo//m2ojaxgpT+jw2I3ODaxPwUyiwgrt7s/2kvgNYpQxj/53LfQV/fRPzSyAr4l7tw/t83cQutK5z9tkLdW7sDyP/PtbMTBMv4/5YMpq0VQCECb5irDWpMTQN2VWguYhR9AjxzqkBRhKUDxl4U5AG80QI+FLhukc0BAf6nde9h9SkD1RJs1RlRVQKJQHnQ8LGFANNPslRena0CDw2C8mEN2QE9kvQjs7IFA5YBf6l3djEBEedCOaD2XQFiPIqENtqJAuL3Xpz0hrkDlvQlfK0K4QAAAAAAAiMNA",
          "dtype": "f8"
         },
         "y": [
          0.00030999873858086603,
          0.00046411903799309617,
          0.00040119396350116724,
          0.0003996591453387622,
          0.00040000981727808413,
          0.00040009422192793705,
          0.0004001719214282089,
          0.00040028082113892865,
          0.0004004520357577316,
          0.00040072792246861807,
          0.0004011722148374156,
          0.00040188768743633943,
          0.0004030399593713521,
          0.0004048958733722025,
          0.0004078855427371863,
          0.0004127026479109609,
          0.00042046690858084834,
          0.00043298815525665517,
          0.00045319819921615966,
          0.00048586661443444706,
          0.0005388083138814777,
          0.0006247174158215768,
          0.0007610434819480823,
          0.0009582870366876884,
          0.0012156790360713433,
          0.001542648168503843,
          0.001957560367390998,
          0.0024840677675662466,
          0.0031521851262679645,
          0.004
         ]
        },
        {
         "line": {
          "dash": "dash"
         },
         "mode": "lines",
         "name": "theory undamped amplitude",
         "type": "scatter",
         "x": {
          "bdata": "exSuR+F6hD/DxtqNNH2QP76kaCA/jZo//m2ojaxgpT+jw2I3ODaxPwUyiwgrt7s/2kvgNYpQxj/53LfQV/fRPzSyAr4l7tw/t83cQutK5z9tkLdW7sDyP/PtbMTBMv4/5YMpq0VQCECb5irDWpMTQN2VWguYhR9AjxzqkBRhKUDxl4U5AG80QI+FLhukc0BAf6nde9h9SkD1RJs1RlRVQKJQHnQ8LGFANNPslRena0CDw2C8mEN2QE9kvQjs7IFA5YBf6l3djEBEedCOaD2XQFiPIqENtqJAuL3Xpz0hrkDlvQlfK0K4QAAAAAAAiMNA",
          "dtype": "f8"
         },
         "y": [
          0.0002,
          0.0002,
          0.0002,
          0.0002,
          0.0002,
          0.0002,
          0.0002,
          0.0002,
          0.0002,
          0.0002,
          0.0002,
          0.0002,
          0.0002,
          0.0002,
          0.0002,
          0.0002,
          0.0002,
          0.0002,
          0.0002,
          0.0002,
          0.0002,
          0.0002,
          0.0002,
          0.0002,
          0.0002,
          0.0002,
          0.0002,
          0.0002,
          0.0002,
          0.0002
         ]
        }
       ],
       "layout": {
        "height": 500,
        "template": {
         "data": {
          "bar": [
           {
            "error_x": {
             "color": "#2a3f5f"
            },
            "error_y": {
             "color": "#2a3f5f"
            },
            "marker": {
             "line": {
              "color": "#E5ECF6",
              "width": 0.5
             },
             "pattern": {
              "fillmode": "overlay",
              "size": 10,
              "solidity": 0.2
             }
            },
            "type": "bar"
           }
          ],
          "barpolar": [
           {
            "marker": {
             "line": {
              "color": "#E5ECF6",
              "width": 0.5
             },
             "pattern": {
              "fillmode": "overlay",
              "size": 10,
              "solidity": 0.2
             }
            },
            "type": "barpolar"
           }
          ],
          "carpet": [
           {
            "aaxis": {
             "endlinecolor": "#2a3f5f",
             "gridcolor": "white",
             "linecolor": "white",
             "minorgridcolor": "white",
             "startlinecolor": "#2a3f5f"
            },
            "baxis": {
             "endlinecolor": "#2a3f5f",
             "gridcolor": "white",
             "linecolor": "white",
             "minorgridcolor": "white",
             "startlinecolor": "#2a3f5f"
            },
            "type": "carpet"
           }
          ],
          "choropleth": [
           {
            "colorbar": {
             "outlinewidth": 0,
             "ticks": ""
            },
            "type": "choropleth"
           }
          ],
          "contour": [
           {
            "colorbar": {
             "outlinewidth": 0,
             "ticks": ""
            },
            "colorscale": [
             [
              0,
              "#0d0887"
             ],
             [
              0.1111111111111111,
              "#46039f"
             ],
             [
              0.2222222222222222,
              "#7201a8"
             ],
             [
              0.3333333333333333,
              "#9c179e"
             ],
             [
              0.4444444444444444,
              "#bd3786"
             ],
             [
              0.5555555555555556,
              "#d8576b"
             ],
             [
              0.6666666666666666,
              "#ed7953"
             ],
             [
              0.7777777777777778,
              "#fb9f3a"
             ],
             [
              0.8888888888888888,
              "#fdca26"
             ],
             [
              1,
              "#f0f921"
             ]
            ],
            "type": "contour"
           }
          ],
          "contourcarpet": [
           {
            "colorbar": {
             "outlinewidth": 0,
             "ticks": ""
            },
            "type": "contourcarpet"
           }
          ],
          "heatmap": [
           {
            "colorbar": {
             "outlinewidth": 0,
             "ticks": ""
            },
            "colorscale": [
             [
              0,
              "#0d0887"
             ],
             [
              0.1111111111111111,
              "#46039f"
             ],
             [
              0.2222222222222222,
              "#7201a8"
             ],
             [
              0.3333333333333333,
              "#9c179e"
             ],
             [
              0.4444444444444444,
              "#bd3786"
             ],
             [
              0.5555555555555556,
              "#d8576b"
             ],
             [
              0.6666666666666666,
              "#ed7953"
             ],
             [
              0.7777777777777778,
              "#fb9f3a"
             ],
             [
              0.8888888888888888,
              "#fdca26"
             ],
             [
              1,
              "#f0f921"
             ]
            ],
            "type": "heatmap"
           }
          ],
          "histogram": [
           {
            "marker": {
             "pattern": {
              "fillmode": "overlay",
              "size": 10,
              "solidity": 0.2
             }
            },
            "type": "histogram"
           }
          ],
          "histogram2d": [
           {
            "colorbar": {
             "outlinewidth": 0,
             "ticks": ""
            },
            "colorscale": [
             [
              0,
              "#0d0887"
             ],
             [
              0.1111111111111111,
              "#46039f"
             ],
             [
              0.2222222222222222,
              "#7201a8"
             ],
             [
              0.3333333333333333,
              "#9c179e"
             ],
             [
              0.4444444444444444,
              "#bd3786"
             ],
             [
              0.5555555555555556,
              "#d8576b"
             ],
             [
              0.6666666666666666,
              "#ed7953"
             ],
             [
              0.7777777777777778,
              "#fb9f3a"
             ],
             [
              0.8888888888888888,
              "#fdca26"
             ],
             [
              1,
              "#f0f921"
             ]
            ],
            "type": "histogram2d"
           }
          ],
          "histogram2dcontour": [
           {
            "colorbar": {
             "outlinewidth": 0,
             "ticks": ""
            },
            "colorscale": [
             [
              0,
              "#0d0887"
             ],
             [
              0.1111111111111111,
              "#46039f"
             ],
             [
              0.2222222222222222,
              "#7201a8"
             ],
             [
              0.3333333333333333,
              "#9c179e"
             ],
             [
              0.4444444444444444,
              "#bd3786"
             ],
             [
              0.5555555555555556,
              "#d8576b"
             ],
             [
              0.6666666666666666,
              "#ed7953"
             ],
             [
              0.7777777777777778,
              "#fb9f3a"
             ],
             [
              0.8888888888888888,
              "#fdca26"
             ],
             [
              1,
              "#f0f921"
             ]
            ],
            "type": "histogram2dcontour"
           }
          ],
          "mesh3d": [
           {
            "colorbar": {
             "outlinewidth": 0,
             "ticks": ""
            },
            "type": "mesh3d"
           }
          ],
          "parcoords": [
           {
            "line": {
             "colorbar": {
              "outlinewidth": 0,
              "ticks": ""
             }
            },
            "type": "parcoords"
           }
          ],
          "pie": [
           {
            "automargin": true,
            "type": "pie"
           }
          ],
          "scatter": [
           {
            "fillpattern": {
             "fillmode": "overlay",
             "size": 10,
             "solidity": 0.2
            },
            "type": "scatter"
           }
          ],
          "scatter3d": [
           {
            "line": {
             "colorbar": {
              "outlinewidth": 0,
              "ticks": ""
             }
            },
            "marker": {
             "colorbar": {
              "outlinewidth": 0,
              "ticks": ""
             }
            },
            "type": "scatter3d"
           }
          ],
          "scattercarpet": [
           {
            "marker": {
             "colorbar": {
              "outlinewidth": 0,
              "ticks": ""
             }
            },
            "type": "scattercarpet"
           }
          ],
          "scattergeo": [
           {
            "marker": {
             "colorbar": {
              "outlinewidth": 0,
              "ticks": ""
             }
            },
            "type": "scattergeo"
           }
          ],
          "scattergl": [
           {
            "marker": {
             "colorbar": {
              "outlinewidth": 0,
              "ticks": ""
             }
            },
            "type": "scattergl"
           }
          ],
          "scattermap": [
           {
            "marker": {
             "colorbar": {
              "outlinewidth": 0,
              "ticks": ""
             }
            },
            "type": "scattermap"
           }
          ],
          "scattermapbox": [
           {
            "marker": {
             "colorbar": {
              "outlinewidth": 0,
              "ticks": ""
             }
            },
            "type": "scattermapbox"
           }
          ],
          "scatterpolar": [
           {
            "marker": {
             "colorbar": {
              "outlinewidth": 0,
              "ticks": ""
             }
            },
            "type": "scatterpolar"
           }
          ],
          "scatterpolargl": [
           {
            "marker": {
             "colorbar": {
              "outlinewidth": 0,
              "ticks": ""
             }
            },
            "type": "scatterpolargl"
           }
          ],
          "scatterternary": [
           {
            "marker": {
             "colorbar": {
              "outlinewidth": 0,
              "ticks": ""
             }
            },
            "type": "scatterternary"
           }
          ],
          "surface": [
           {
            "colorbar": {
             "outlinewidth": 0,
             "ticks": ""
            },
            "colorscale": [
             [
              0,
              "#0d0887"
             ],
             [
              0.1111111111111111,
              "#46039f"
             ],
             [
              0.2222222222222222,
              "#7201a8"
             ],
             [
              0.3333333333333333,
              "#9c179e"
             ],
             [
              0.4444444444444444,
              "#bd3786"
             ],
             [
              0.5555555555555556,
              "#d8576b"
             ],
             [
              0.6666666666666666,
              "#ed7953"
             ],
             [
              0.7777777777777778,
              "#fb9f3a"
             ],
             [
              0.8888888888888888,
              "#fdca26"
             ],
             [
              1,
              "#f0f921"
             ]
            ],
            "type": "surface"
           }
          ],
          "table": [
           {
            "cells": {
             "fill": {
              "color": "#EBF0F8"
             },
             "line": {
              "color": "white"
             }
            },
            "header": {
             "fill": {
              "color": "#C8D4E3"
             },
             "line": {
              "color": "white"
             }
            },
            "type": "table"
           }
          ]
         },
         "layout": {
          "annotationdefaults": {
           "arrowcolor": "#2a3f5f",
           "arrowhead": 0,
           "arrowwidth": 1
          },
          "autotypenumbers": "strict",
          "coloraxis": {
           "colorbar": {
            "outlinewidth": 0,
            "ticks": ""
           }
          },
          "colorscale": {
           "diverging": [
            [
             0,
             "#8e0152"
            ],
            [
             0.1,
             "#c51b7d"
            ],
            [
             0.2,
             "#de77ae"
            ],
            [
             0.3,
             "#f1b6da"
            ],
            [
             0.4,
             "#fde0ef"
            ],
            [
             0.5,
             "#f7f7f7"
            ],
            [
             0.6,
             "#e6f5d0"
            ],
            [
             0.7,
             "#b8e186"
            ],
            [
             0.8,
             "#7fbc41"
            ],
            [
             0.9,
             "#4d9221"
            ],
            [
             1,
             "#276419"
            ]
           ],
           "sequential": [
            [
             0,
             "#0d0887"
            ],
            [
             0.1111111111111111,
             "#46039f"
            ],
            [
             0.2222222222222222,
             "#7201a8"
            ],
            [
             0.3333333333333333,
             "#9c179e"
            ],
            [
             0.4444444444444444,
             "#bd3786"
            ],
            [
             0.5555555555555556,
             "#d8576b"
            ],
            [
             0.6666666666666666,
             "#ed7953"
            ],
            [
             0.7777777777777778,
             "#fb9f3a"
            ],
            [
             0.8888888888888888,
             "#fdca26"
            ],
            [
             1,
             "#f0f921"
            ]
           ],
           "sequentialminus": [
            [
             0,
             "#0d0887"
            ],
            [
             0.1111111111111111,
             "#46039f"
            ],
            [
             0.2222222222222222,
             "#7201a8"
            ],
            [
             0.3333333333333333,
             "#9c179e"
            ],
            [
             0.4444444444444444,
             "#bd3786"
            ],
            [
             0.5555555555555556,
             "#d8576b"
            ],
            [
             0.6666666666666666,
             "#ed7953"
            ],
            [
             0.7777777777777778,
             "#fb9f3a"
            ],
            [
             0.8888888888888888,
             "#fdca26"
            ],
            [
             1,
             "#f0f921"
            ]
           ]
          },
          "colorway": [
           "#636efa",
           "#EF553B",
           "#00cc96",
           "#ab63fa",
           "#FFA15A",
           "#19d3f3",
           "#FF6692",
           "#B6E880",
           "#FF97FF",
           "#FECB52"
          ],
          "font": {
           "color": "#2a3f5f"
          },
          "geo": {
           "bgcolor": "white",
           "lakecolor": "white",
           "landcolor": "#E5ECF6",
           "showlakes": true,
           "showland": true,
           "subunitcolor": "white"
          },
          "hoverlabel": {
           "align": "left"
          },
          "hovermode": "closest",
          "mapbox": {
           "style": "light"
          },
          "paper_bgcolor": "white",
          "plot_bgcolor": "#E5ECF6",
          "polar": {
           "angularaxis": {
            "gridcolor": "white",
            "linecolor": "white",
            "ticks": ""
           },
           "bgcolor": "#E5ECF6",
           "radialaxis": {
            "gridcolor": "white",
            "linecolor": "white",
            "ticks": ""
           }
          },
          "scene": {
           "xaxis": {
            "backgroundcolor": "#E5ECF6",
            "gridcolor": "white",
            "gridwidth": 2,
            "linecolor": "white",
            "showbackground": true,
            "ticks": "",
            "zerolinecolor": "white"
           },
           "yaxis": {
            "backgroundcolor": "#E5ECF6",
            "gridcolor": "white",
            "gridwidth": 2,
            "linecolor": "white",
            "showbackground": true,
            "ticks": "",
            "zerolinecolor": "white"
           },
           "zaxis": {
            "backgroundcolor": "#E5ECF6",
            "gridcolor": "white",
            "gridwidth": 2,
            "linecolor": "white",
            "showbackground": true,
            "ticks": "",
            "zerolinecolor": "white"
           }
          },
          "shapedefaults": {
           "line": {
            "color": "#2a3f5f"
           }
          },
          "ternary": {
           "aaxis": {
            "gridcolor": "white",
            "linecolor": "white",
            "ticks": ""
           },
           "baxis": {
            "gridcolor": "white",
            "linecolor": "white",
            "ticks": ""
           },
           "bgcolor": "#E5ECF6",
           "caxis": {
            "gridcolor": "white",
            "linecolor": "white",
            "ticks": ""
           }
          },
          "title": {
           "x": 0.05
          },
          "xaxis": {
           "automargin": true,
           "gridcolor": "white",
           "linecolor": "white",
           "ticks": "",
           "title": {
            "standoff": 15
           },
           "zerolinecolor": "white",
           "zerolinewidth": 2
          },
          "yaxis": {
           "automargin": true,
           "gridcolor": "white",
           "linecolor": "white",
           "ticks": "",
           "title": {
            "standoff": 15
           },
           "zerolinecolor": "white",
           "zerolinewidth": 2
          }
         }
        },
        "title": {
         "text": "Comparison for amplitude"
        },
        "width": 900,
        "xaxis": {
         "title": {
          "text": "Sample Duration (s)"
         },
         "type": "log"
        },
        "yaxis": {
         "title": {
          "text": "Uncertainty"
         },
         "type": "log"
        }
       }
      }
     },
     "metadata": {},
     "output_type": "display_data"
    },
    {
     "data": {
      "application/vnd.plotly.v1+json": {
       "config": {
        "plotlyServerURL": "https://plot.ly"
       },
       "data": [
        {
         "mode": "lines+markers",
         "name": "RMSE damping_rate",
         "type": "scatter",
         "x": {
          "bdata": "exSuR+F6hD/DxtqNNH2QP76kaCA/jZo//m2ojaxgpT+jw2I3ODaxPwUyiwgrt7s/2kvgNYpQxj/53LfQV/fRPzSyAr4l7tw/t83cQutK5z9tkLdW7sDyP/PtbMTBMv4/5YMpq0VQCECb5irDWpMTQN2VWguYhR9AjxzqkBRhKUDxl4U5AG80QI+FLhukc0BAf6nde9h9SkD1RJs1RlRVQKJQHnQ8LGFANNPslRena0CDw2C8mEN2QE9kvQjs7IFA5YBf6l3djEBEedCOaD2XQFiPIqENtqJAuL3Xpz0hrkDlvQlfK0K4QAAAAAAAiMNA",
          "dtype": "f8"
         },
         "y": [
          0.1776642602998052,
          0.06667312967340056,
          0.02394238455332818,
          0.007621353491497707,
          0.0017285104301011578,
          0.0007652938313191269,
          0.0003969549909761134,
          0.00025013935626017785,
          0.00015159663472691956,
          9.896695311727792e-05,
          5.701078875785729e-05,
          3.7632742260965516e-05,
          2.1363026456702198e-05,
          1.4592871151900104e-05,
          7.804224537664719e-06,
          5.756323820352489e-06,
          4.226731043811454e-06,
          2.37170776872435e-06,
          1.4588057300817496e-06,
          1.2049285536929443e-06,
          1.1036236240829608e-06,
          1.0245926614663768e-06,
          1.0215589564324187e-06,
          1.310883861457541e-06,
          1.9322059621633682e-06,
          2.41466939233261e-06,
          2.7893945078680982e-06,
          3.933496400401574e-06,
          4.236568915019688e-06,
          1.096476741713067e-05
         ]
        },
        {
         "line": {
          "dash": "dot"
         },
         "mode": "lines+markers",
         "name": "stderr damping_rate",
         "type": "scatter",
         "x": {
          "bdata": "exSuR+F6hD/DxtqNNH2QP76kaCA/jZo//m2ojaxgpT+jw2I3ODaxPwUyiwgrt7s/2kvgNYpQxj/53LfQV/fRPzSyAr4l7tw/t83cQutK5z9tkLdW7sDyP/PtbMTBMv4/5YMpq0VQCECb5irDWpMTQN2VWguYhR9AjxzqkBRhKUDxl4U5AG80QI+FLhukc0BAf6nde9h9SkD1RJs1RlRVQKJQHnQ8LGFANNPslRena0CDw2C8mEN2QE9kvQjs7IFA5YBf6l3djEBEedCOaD2XQFiPIqENtqJAuL3Xpz0hrkDlvQlfK0K4QAAAAAAAiMNA",
          "dtype": "f8"
         },
         "y": [
          0.1782785811632319,
          0.06696482417611596,
          0.02409130633611672,
          0.007705974028441401,
          0.0017303632154641565,
          0.0007877664849697201,
          0.0004158616417686146,
          0.00024361174773112438,
          0.00015564873544206194,
          9.523351526675579e-05,
          5.975681126498757e-05,
          3.6861541014209925e-05,
          2.3078398149852563e-05,
          1.4496832808032795e-05,
          9.143630417132248e-06,
          5.8187522739403185e-06,
          3.7556396397304384e-06,
          2.487201435540436e-06,
          1.711550627182515e-06,
          1.2572844998899758e-06,
          1.0243111404886063e-06,
          9.71143516228985e-07,
          1.0907797944682726e-06,
          1.3559656952006754e-06,
          1.7194221119019171e-06,
          2.1839223462698545e-06,
          2.7690888741482057e-06,
          3.513652624531343e-06,
          4.465011282244665e-06,
          1.1378441117020634e-05
         ]
        },
        {
         "line": {
          "dash": "dash"
         },
         "mode": "lines",
         "name": "theory damping_rate",
         "type": "scatter",
         "x": {
          "bdata": "exSuR+F6hD/DxtqNNH2QP76kaCA/jZo//m2ojaxgpT+jw2I3ODaxPwUyiwgrt7s/2kvgNYpQxj/53LfQV/fRPzSyAr4l7tw/t83cQutK5z9tkLdW7sDyP/PtbMTBMv4/5YMpq0VQCECb5irDWpMTQN2VWguYhR9AjxzqkBRhKUDxl4U5AG80QI+FLhukc0BAf6nde9h9SkD1RJs1RlRVQKJQHnQ8LGFANNPslRena0CDw2C8mEN2QE9kvQjs7IFA5YBf6l3djEBEedCOaD2XQFiPIqENtqJAuL3Xpz0hrkDlvQlfK0K4QAAAAAAAiMNA",
          "dtype": "f8"
         },
         "y": [
          8.192684384388944e-06,
          8.209803152710249e-06,
          8.237395584848738e-06,
          8.282217629159361e-06,
          8.35540068114321e-06,
          8.475947099471351e-06,
          8.677375533222715e-06,
          9.022188497173248e-06,
          9.637595101263411e-06,
          1.082232884282892e-05,
          1.3475478775615805e-05,
          2.214044605466261e-05,
          0.0010502352877486312,
          1.3594131803121728e-05,
          5.367673307235409e-06,
          2.7976959390397636e-06,
          1.6453739067636558e-06,
          1.0503794573618426e-06,
          7.255988929404208e-07,
          5.513533046501718e-07,
          4.74557666638202e-07,
          4.760991531686473e-07,
          5.52465532400992e-07,
          6.915322558655709e-07,
          8.77158233868399e-07,
          1.1130785519787476e-06,
          1.4124532758818405e-06,
          1.792348125890838e-06,
          2.2744198758565836e-06,
          2.886150127292031e-06
         ]
        },
        {
         "line": {
          "dash": "dashdot"
         },
         "mode": "lines",
         "name": "theory testing damping_rate",
         "type": "scatter",
         "x": {
          "bdata": "exSuR+F6hD/DxtqNNH2QP76kaCA/jZo//m2ojaxgpT+jw2I3ODaxPwUyiwgrt7s/2kvgNYpQxj/53LfQV/fRPzSyAr4l7tw/t83cQutK5z9tkLdW7sDyP/PtbMTBMv4/5YMpq0VQCECb5irDWpMTQN2VWguYhR9AjxzqkBRhKUDxl4U5AG80QI+FLhukc0BAf6nde9h9SkD1RJs1RlRVQKJQHnQ8LGFANNPslRena0CDw2C8mEN2QE9kvQjs7IFA5YBf6l3djEBEedCOaD2XQFiPIqENtqJAuL3Xpz0hrkDlvQlfK0K4QAAAAAAAiMNA",
          "dtype": "f8"
         },
         "y": [
          0.00536951449124435,
          0.00499241522258311,
          0.002680093918272029,
          0.0016580819385543437,
          0.0010306664604442049,
          0.0006402619840062932,
          0.0003977564877346951,
          0.000247146516208073,
          0.00015361368843556692,
          9.552842622820742e-05,
          5.9456765825093954e-05,
          3.7056086152075524e-05,
          2.314558763908778e-05,
          1.4508073435182493e-05,
          9.145890575099077e-06,
          5.818937430501618e-06,
          3.757912522252668e-06,
          2.4865440557857506e-06,
          1.7118357992538308e-06,
          1.2572982210150336e-06,
          1.0242709084478032e-06,
          9.711204017692284e-07,
          1.0906555086629582e-06,
          1.3557682204936734e-06,
          1.719231322392069e-06,
          2.181633961930222e-06,
          2.7684084207284078e-06,
          3.5130023267460436e-06,
          4.457862956678903e-06,
          5.65685424949238e-06
         ]
        },
        {
         "line": {
          "dash": "dash"
         },
         "mode": "lines",
         "name": "theory undamped damping_rate",
         "type": "scatter",
         "x": {
          "bdata": "exSuR+F6hD/DxtqNNH2QP76kaCA/jZo//m2ojaxgpT+jw2I3ODaxPwUyiwgrt7s/2kvgNYpQxj/53LfQV/fRPzSyAr4l7tw/t83cQutK5z9tkLdW7sDyP/PtbMTBMv4/5YMpq0VQCECb5irDWpMTQN2VWguYhR9AjxzqkBRhKUDxl4U5AG80QI+FLhukc0BAf6nde9h9SkD1RJs1RlRVQKJQHnQ8LGFANNPslRena0CDw2C8mEN2QE9kvQjs7IFA5YBf6l3djEBEedCOaD2XQFiPIqENtqJAuL3Xpz0hrkDlvQlfK0K4QAAAAAAAiMNA",
          "dtype": "f8"
         },
         "y": [
          null,
          null,
          null,
          null,
          null,
          null,
          null,
          null,
          null,
          null,
          null,
          null,
          null,
          null,
          null,
          null,
          null,
          null,
          null,
          null,
          null,
          null,
          null,
          null,
          null,
          null,
          null,
          null,
          null,
          null
         ]
        }
       ],
       "layout": {
        "height": 500,
        "template": {
         "data": {
          "bar": [
           {
            "error_x": {
             "color": "#2a3f5f"
            },
            "error_y": {
             "color": "#2a3f5f"
            },
            "marker": {
             "line": {
              "color": "#E5ECF6",
              "width": 0.5
             },
             "pattern": {
              "fillmode": "overlay",
              "size": 10,
              "solidity": 0.2
             }
            },
            "type": "bar"
           }
          ],
          "barpolar": [
           {
            "marker": {
             "line": {
              "color": "#E5ECF6",
              "width": 0.5
             },
             "pattern": {
              "fillmode": "overlay",
              "size": 10,
              "solidity": 0.2
             }
            },
            "type": "barpolar"
           }
          ],
          "carpet": [
           {
            "aaxis": {
             "endlinecolor": "#2a3f5f",
             "gridcolor": "white",
             "linecolor": "white",
             "minorgridcolor": "white",
             "startlinecolor": "#2a3f5f"
            },
            "baxis": {
             "endlinecolor": "#2a3f5f",
             "gridcolor": "white",
             "linecolor": "white",
             "minorgridcolor": "white",
             "startlinecolor": "#2a3f5f"
            },
            "type": "carpet"
           }
          ],
          "choropleth": [
           {
            "colorbar": {
             "outlinewidth": 0,
             "ticks": ""
            },
            "type": "choropleth"
           }
          ],
          "contour": [
           {
            "colorbar": {
             "outlinewidth": 0,
             "ticks": ""
            },
            "colorscale": [
             [
              0,
              "#0d0887"
             ],
             [
              0.1111111111111111,
              "#46039f"
             ],
             [
              0.2222222222222222,
              "#7201a8"
             ],
             [
              0.3333333333333333,
              "#9c179e"
             ],
             [
              0.4444444444444444,
              "#bd3786"
             ],
             [
              0.5555555555555556,
              "#d8576b"
             ],
             [
              0.6666666666666666,
              "#ed7953"
             ],
             [
              0.7777777777777778,
              "#fb9f3a"
             ],
             [
              0.8888888888888888,
              "#fdca26"
             ],
             [
              1,
              "#f0f921"
             ]
            ],
            "type": "contour"
           }
          ],
          "contourcarpet": [
           {
            "colorbar": {
             "outlinewidth": 0,
             "ticks": ""
            },
            "type": "contourcarpet"
           }
          ],
          "heatmap": [
           {
            "colorbar": {
             "outlinewidth": 0,
             "ticks": ""
            },
            "colorscale": [
             [
              0,
              "#0d0887"
             ],
             [
              0.1111111111111111,
              "#46039f"
             ],
             [
              0.2222222222222222,
              "#7201a8"
             ],
             [
              0.3333333333333333,
              "#9c179e"
             ],
             [
              0.4444444444444444,
              "#bd3786"
             ],
             [
              0.5555555555555556,
              "#d8576b"
             ],
             [
              0.6666666666666666,
              "#ed7953"
             ],
             [
              0.7777777777777778,
              "#fb9f3a"
             ],
             [
              0.8888888888888888,
              "#fdca26"
             ],
             [
              1,
              "#f0f921"
             ]
            ],
            "type": "heatmap"
           }
          ],
          "histogram": [
           {
            "marker": {
             "pattern": {
              "fillmode": "overlay",
              "size": 10,
              "solidity": 0.2
             }
            },
            "type": "histogram"
           }
          ],
          "histogram2d": [
           {
            "colorbar": {
             "outlinewidth": 0,
             "ticks": ""
            },
            "colorscale": [
             [
              0,
              "#0d0887"
             ],
             [
              0.1111111111111111,
              "#46039f"
             ],
             [
              0.2222222222222222,
              "#7201a8"
             ],
             [
              0.3333333333333333,
              "#9c179e"
             ],
             [
              0.4444444444444444,
              "#bd3786"
             ],
             [
              0.5555555555555556,
              "#d8576b"
             ],
             [
              0.6666666666666666,
              "#ed7953"
             ],
             [
              0.7777777777777778,
              "#fb9f3a"
             ],
             [
              0.8888888888888888,
              "#fdca26"
             ],
             [
              1,
              "#f0f921"
             ]
            ],
            "type": "histogram2d"
           }
          ],
          "histogram2dcontour": [
           {
            "colorbar": {
             "outlinewidth": 0,
             "ticks": ""
            },
            "colorscale": [
             [
              0,
              "#0d0887"
             ],
             [
              0.1111111111111111,
              "#46039f"
             ],
             [
              0.2222222222222222,
              "#7201a8"
             ],
             [
              0.3333333333333333,
              "#9c179e"
             ],
             [
              0.4444444444444444,
              "#bd3786"
             ],
             [
              0.5555555555555556,
              "#d8576b"
             ],
             [
              0.6666666666666666,
              "#ed7953"
             ],
             [
              0.7777777777777778,
              "#fb9f3a"
             ],
             [
              0.8888888888888888,
              "#fdca26"
             ],
             [
              1,
              "#f0f921"
             ]
            ],
            "type": "histogram2dcontour"
           }
          ],
          "mesh3d": [
           {
            "colorbar": {
             "outlinewidth": 0,
             "ticks": ""
            },
            "type": "mesh3d"
           }
          ],
          "parcoords": [
           {
            "line": {
             "colorbar": {
              "outlinewidth": 0,
              "ticks": ""
             }
            },
            "type": "parcoords"
           }
          ],
          "pie": [
           {
            "automargin": true,
            "type": "pie"
           }
          ],
          "scatter": [
           {
            "fillpattern": {
             "fillmode": "overlay",
             "size": 10,
             "solidity": 0.2
            },
            "type": "scatter"
           }
          ],
          "scatter3d": [
           {
            "line": {
             "colorbar": {
              "outlinewidth": 0,
              "ticks": ""
             }
            },
            "marker": {
             "colorbar": {
              "outlinewidth": 0,
              "ticks": ""
             }
            },
            "type": "scatter3d"
           }
          ],
          "scattercarpet": [
           {
            "marker": {
             "colorbar": {
              "outlinewidth": 0,
              "ticks": ""
             }
            },
            "type": "scattercarpet"
           }
          ],
          "scattergeo": [
           {
            "marker": {
             "colorbar": {
              "outlinewidth": 0,
              "ticks": ""
             }
            },
            "type": "scattergeo"
           }
          ],
          "scattergl": [
           {
            "marker": {
             "colorbar": {
              "outlinewidth": 0,
              "ticks": ""
             }
            },
            "type": "scattergl"
           }
          ],
          "scattermap": [
           {
            "marker": {
             "colorbar": {
              "outlinewidth": 0,
              "ticks": ""
             }
            },
            "type": "scattermap"
           }
          ],
          "scattermapbox": [
           {
            "marker": {
             "colorbar": {
              "outlinewidth": 0,
              "ticks": ""
             }
            },
            "type": "scattermapbox"
           }
          ],
          "scatterpolar": [
           {
            "marker": {
             "colorbar": {
              "outlinewidth": 0,
              "ticks": ""
             }
            },
            "type": "scatterpolar"
           }
          ],
          "scatterpolargl": [
           {
            "marker": {
             "colorbar": {
              "outlinewidth": 0,
              "ticks": ""
             }
            },
            "type": "scatterpolargl"
           }
          ],
          "scatterternary": [
           {
            "marker": {
             "colorbar": {
              "outlinewidth": 0,
              "ticks": ""
             }
            },
            "type": "scatterternary"
           }
          ],
          "surface": [
           {
            "colorbar": {
             "outlinewidth": 0,
             "ticks": ""
            },
            "colorscale": [
             [
              0,
              "#0d0887"
             ],
             [
              0.1111111111111111,
              "#46039f"
             ],
             [
              0.2222222222222222,
              "#7201a8"
             ],
             [
              0.3333333333333333,
              "#9c179e"
             ],
             [
              0.4444444444444444,
              "#bd3786"
             ],
             [
              0.5555555555555556,
              "#d8576b"
             ],
             [
              0.6666666666666666,
              "#ed7953"
             ],
             [
              0.7777777777777778,
              "#fb9f3a"
             ],
             [
              0.8888888888888888,
              "#fdca26"
             ],
             [
              1,
              "#f0f921"
             ]
            ],
            "type": "surface"
           }
          ],
          "table": [
           {
            "cells": {
             "fill": {
              "color": "#EBF0F8"
             },
             "line": {
              "color": "white"
             }
            },
            "header": {
             "fill": {
              "color": "#C8D4E3"
             },
             "line": {
              "color": "white"
             }
            },
            "type": "table"
           }
          ]
         },
         "layout": {
          "annotationdefaults": {
           "arrowcolor": "#2a3f5f",
           "arrowhead": 0,
           "arrowwidth": 1
          },
          "autotypenumbers": "strict",
          "coloraxis": {
           "colorbar": {
            "outlinewidth": 0,
            "ticks": ""
           }
          },
          "colorscale": {
           "diverging": [
            [
             0,
             "#8e0152"
            ],
            [
             0.1,
             "#c51b7d"
            ],
            [
             0.2,
             "#de77ae"
            ],
            [
             0.3,
             "#f1b6da"
            ],
            [
             0.4,
             "#fde0ef"
            ],
            [
             0.5,
             "#f7f7f7"
            ],
            [
             0.6,
             "#e6f5d0"
            ],
            [
             0.7,
             "#b8e186"
            ],
            [
             0.8,
             "#7fbc41"
            ],
            [
             0.9,
             "#4d9221"
            ],
            [
             1,
             "#276419"
            ]
           ],
           "sequential": [
            [
             0,
             "#0d0887"
            ],
            [
             0.1111111111111111,
             "#46039f"
            ],
            [
             0.2222222222222222,
             "#7201a8"
            ],
            [
             0.3333333333333333,
             "#9c179e"
            ],
            [
             0.4444444444444444,
             "#bd3786"
            ],
            [
             0.5555555555555556,
             "#d8576b"
            ],
            [
             0.6666666666666666,
             "#ed7953"
            ],
            [
             0.7777777777777778,
             "#fb9f3a"
            ],
            [
             0.8888888888888888,
             "#fdca26"
            ],
            [
             1,
             "#f0f921"
            ]
           ],
           "sequentialminus": [
            [
             0,
             "#0d0887"
            ],
            [
             0.1111111111111111,
             "#46039f"
            ],
            [
             0.2222222222222222,
             "#7201a8"
            ],
            [
             0.3333333333333333,
             "#9c179e"
            ],
            [
             0.4444444444444444,
             "#bd3786"
            ],
            [
             0.5555555555555556,
             "#d8576b"
            ],
            [
             0.6666666666666666,
             "#ed7953"
            ],
            [
             0.7777777777777778,
             "#fb9f3a"
            ],
            [
             0.8888888888888888,
             "#fdca26"
            ],
            [
             1,
             "#f0f921"
            ]
           ]
          },
          "colorway": [
           "#636efa",
           "#EF553B",
           "#00cc96",
           "#ab63fa",
           "#FFA15A",
           "#19d3f3",
           "#FF6692",
           "#B6E880",
           "#FF97FF",
           "#FECB52"
          ],
          "font": {
           "color": "#2a3f5f"
          },
          "geo": {
           "bgcolor": "white",
           "lakecolor": "white",
           "landcolor": "#E5ECF6",
           "showlakes": true,
           "showland": true,
           "subunitcolor": "white"
          },
          "hoverlabel": {
           "align": "left"
          },
          "hovermode": "closest",
          "mapbox": {
           "style": "light"
          },
          "paper_bgcolor": "white",
          "plot_bgcolor": "#E5ECF6",
          "polar": {
           "angularaxis": {
            "gridcolor": "white",
            "linecolor": "white",
            "ticks": ""
           },
           "bgcolor": "#E5ECF6",
           "radialaxis": {
            "gridcolor": "white",
            "linecolor": "white",
            "ticks": ""
           }
          },
          "scene": {
           "xaxis": {
            "backgroundcolor": "#E5ECF6",
            "gridcolor": "white",
            "gridwidth": 2,
            "linecolor": "white",
            "showbackground": true,
            "ticks": "",
            "zerolinecolor": "white"
           },
           "yaxis": {
            "backgroundcolor": "#E5ECF6",
            "gridcolor": "white",
            "gridwidth": 2,
            "linecolor": "white",
            "showbackground": true,
            "ticks": "",
            "zerolinecolor": "white"
           },
           "zaxis": {
            "backgroundcolor": "#E5ECF6",
            "gridcolor": "white",
            "gridwidth": 2,
            "linecolor": "white",
            "showbackground": true,
            "ticks": "",
            "zerolinecolor": "white"
           }
          },
          "shapedefaults": {
           "line": {
            "color": "#2a3f5f"
           }
          },
          "ternary": {
           "aaxis": {
            "gridcolor": "white",
            "linecolor": "white",
            "ticks": ""
           },
           "baxis": {
            "gridcolor": "white",
            "linecolor": "white",
            "ticks": ""
           },
           "bgcolor": "#E5ECF6",
           "caxis": {
            "gridcolor": "white",
            "linecolor": "white",
            "ticks": ""
           }
          },
          "title": {
           "x": 0.05
          },
          "xaxis": {
           "automargin": true,
           "gridcolor": "white",
           "linecolor": "white",
           "ticks": "",
           "title": {
            "standoff": 15
           },
           "zerolinecolor": "white",
           "zerolinewidth": 2
          },
          "yaxis": {
           "automargin": true,
           "gridcolor": "white",
           "linecolor": "white",
           "ticks": "",
           "title": {
            "standoff": 15
           },
           "zerolinecolor": "white",
           "zerolinewidth": 2
          }
         }
        },
        "title": {
         "text": "Comparison for damping_rate"
        },
        "width": 900,
        "xaxis": {
         "title": {
          "text": "Sample Duration (s)"
         },
         "type": "log"
        },
        "yaxis": {
         "title": {
          "text": "Uncertainty"
         },
         "type": "log"
        }
       }
      }
     },
     "metadata": {},
     "output_type": "display_data"
    },
    {
     "data": {
      "application/vnd.plotly.v1+json": {
       "config": {
        "plotlyServerURL": "https://plot.ly"
       },
       "data": [
        {
         "mode": "lines+markers",
         "name": "RMSE phase",
         "type": "scatter",
         "x": {
          "bdata": "exSuR+F6hD/DxtqNNH2QP76kaCA/jZo//m2ojaxgpT+jw2I3ODaxPwUyiwgrt7s/2kvgNYpQxj/53LfQV/fRPzSyAr4l7tw/t83cQutK5z9tkLdW7sDyP/PtbMTBMv4/5YMpq0VQCECb5irDWpMTQN2VWguYhR9AjxzqkBRhKUDxl4U5AG80QI+FLhukc0BAf6nde9h9SkD1RJs1RlRVQKJQHnQ8LGFANNPslRena0CDw2C8mEN2QE9kvQjs7IFA5YBf6l3djEBEedCOaD2XQFiPIqENtqJAuL3Xpz0hrkDlvQlfK0K4QAAAAAAAiMNA",
          "dtype": "f8"
         },
         "y": [
          5.5793624638419215e-05,
          5.5300425628498486e-05,
          5.451215102808881e-05,
          5.255477123860402e-05,
          4.748963254383737e-05,
          4.233849340088414e-05,
          4.1817295647335704e-05,
          4.273608717687352e-05,
          3.912405981251213e-05,
          3.902465369216474e-05,
          4.0330733697237536e-05,
          4.064727667231067e-05,
          3.78896673802551e-05,
          4.074617504809084e-05,
          4.16403174431074e-05,
          3.589706384021789e-05,
          4.202878921731468e-05,
          3.729687865642541e-05,
          4.192378661326096e-05,
          5.392851215822258e-05,
          5.034188266766851e-05,
          5.672433405174697e-05,
          6.973916866609755e-05,
          9.804546515276028e-05,
          0.00011749394661676152,
          0.0001655361135354894,
          0.00018581035415017906,
          0.00023216842837479114,
          0.0003004940244272714,
          0.0004039395433022094
         ]
        },
        {
         "line": {
          "dash": "dot"
         },
         "mode": "lines+markers",
         "name": "stderr phase",
         "type": "scatter",
         "x": {
          "bdata": "exSuR+F6hD/DxtqNNH2QP76kaCA/jZo//m2ojaxgpT+jw2I3ODaxPwUyiwgrt7s/2kvgNYpQxj/53LfQV/fRPzSyAr4l7tw/t83cQutK5z9tkLdW7sDyP/PtbMTBMv4/5YMpq0VQCECb5irDWpMTQN2VWguYhR9AjxzqkBRhKUDxl4U5AG80QI+FLhukc0BAf6nde9h9SkD1RJs1RlRVQKJQHnQ8LGFANNPslRena0CDw2C8mEN2QE9kvQjs7IFA5YBf6l3djEBEedCOaD2XQFiPIqENtqJAuL3Xpz0hrkDlvQlfK0K4QAAAAAAAiMNA",
          "dtype": "f8"
         },
         "y": [
          5.65641232202627e-05,
          5.614845129889447e-05,
          5.534118399677474e-05,
          5.3409531233285805e-05,
          4.7999760887439636e-05,
          3.9516371893334046e-05,
          4.0921340488646836e-05,
          4.066794178680692e-05,
          4.008980863609918e-05,
          4.012643797283472e-05,
          3.997304303815288e-05,
          4.0156296179288004e-05,
          3.977179913213699e-05,
          4.035620113194522e-05,
          3.95373400467871e-05,
          3.9501433210645694e-05,
          3.9792308307974475e-05,
          3.952954372982776e-05,
          4.179099990820755e-05,
          4.147689078825393e-05,
          4.673604310761418e-05,
          6.370039200707303e-05,
          6.469290045846789e-05,
          8.554401969530057e-05,
          0.00010900124765799227,
          0.00014456769099987127,
          0.00018592493615562935,
          0.00022977899081979395,
          0.0002959354379766615,
          0.00037654347795695967
         ]
        },
        {
         "line": {
          "dash": "dash"
         },
         "mode": "lines",
         "name": "theory phase",
         "type": "scatter",
         "x": {
          "bdata": "exSuR+F6hD/DxtqNNH2QP76kaCA/jZo//m2ojaxgpT+jw2I3ODaxPwUyiwgrt7s/2kvgNYpQxj/53LfQV/fRPzSyAr4l7tw/t83cQutK5z9tkLdW7sDyP/PtbMTBMv4/5YMpq0VQCECb5irDWpMTQN2VWguYhR9AjxzqkBRhKUDxl4U5AG80QI+FLhukc0BAf6nde9h9SkD1RJs1RlRVQKJQHnQ8LGFANNPslRena0CDw2C8mEN2QE9kvQjs7IFA5YBf6l3djEBEedCOaD2XQFiPIqENtqJAuL3Xpz0hrkDlvQlfK0K4QAAAAAAAiMNA",
          "dtype": "f8"
         },
         "y": [
          null,
          4.018753102131314e-05,
          4.0873087364934426e-05,
          4.005882723729489e-05,
          3.9990370799324244e-05,
          4.00097044880502e-05,
          4.001765187175237e-05,
          4.0027998497154365e-05,
          4.0045190356790925e-05,
          4.0072795784894075e-05,
          4.01172217844831e-05,
          4.018876869846502e-05,
          4.030399593808618e-05,
          4.0489587336871824e-05,
          4.0788554273684286e-05,
          4.1270264791097126e-05,
          4.204669085808533e-05,
          4.3298815525665544e-05,
          4.531981992161609e-05,
          4.858666144344473e-05,
          5.388083138814778e-05,
          6.247174158215768e-05,
          7.610434819480825e-05,
          9.582870366876885e-05,
          0.00012156790360713434,
          0.0001542648168503843,
          0.00019575603673909977,
          0.0002484067767566247,
          0.0003152185126267965,
          0.0004
         ]
        },
        {
         "line": {
          "dash": "dashdot"
         },
         "mode": "lines",
         "name": "theory testing phase",
         "type": "scatter",
         "x": {
          "bdata": "exSuR+F6hD/DxtqNNH2QP76kaCA/jZo//m2ojaxgpT+jw2I3ODaxPwUyiwgrt7s/2kvgNYpQxj/53LfQV/fRPzSyAr4l7tw/t83cQutK5z9tkLdW7sDyP/PtbMTBMv4/5YMpq0VQCECb5irDWpMTQN2VWguYhR9AjxzqkBRhKUDxl4U5AG80QI+FLhukc0BAf6nde9h9SkD1RJs1RlRVQKJQHnQ8LGFANNPslRena0CDw2C8mEN2QE9kvQjs7IFA5YBf6l3djEBEedCOaD2XQFiPIqENtqJAuL3Xpz0hrkDlvQlfK0K4QAAAAAAAiMNA",
          "dtype": "f8"
         },
         "y": [
          3.0999873858086606e-05,
          4.641190379930962e-05,
          4.011939635011672e-05,
          3.9965914533876215e-05,
          4.000098172780841e-05,
          4.00094221927937e-05,
          4.001719214282089e-05,
          4.0028082113892865e-05,
          4.004520357577316e-05,
          4.007279224686181e-05,
          4.011722148374156e-05,
          4.0188768743633944e-05,
          4.0303995937135215e-05,
          4.048958733722025e-05,
          4.078855427371863e-05,
          4.1270264791096096e-05,
          4.2046690858084834e-05,
          4.329881552566552e-05,
          4.5319819921615965e-05,
          4.8586661443444706e-05,
          5.3880831388147765e-05,
          6.247174158215768e-05,
          7.610434819480823e-05,
          9.582870366876883e-05,
          0.00012156790360713433,
          0.0001542648168503843,
          0.00019575603673909977,
          0.00024840677675662463,
          0.00031521851262679646,
          0.00039999999999999996
         ]
        },
        {
         "line": {
          "dash": "dash"
         },
         "mode": "lines",
         "name": "theory undamped phase",
         "type": "scatter",
         "x": {
          "bdata": "exSuR+F6hD/DxtqNNH2QP76kaCA/jZo//m2ojaxgpT+jw2I3ODaxPwUyiwgrt7s/2kvgNYpQxj/53LfQV/fRPzSyAr4l7tw/t83cQutK5z9tkLdW7sDyP/PtbMTBMv4/5YMpq0VQCECb5irDWpMTQN2VWguYhR9AjxzqkBRhKUDxl4U5AG80QI+FLhukc0BAf6nde9h9SkD1RJs1RlRVQKJQHnQ8LGFANNPslRena0CDw2C8mEN2QE9kvQjs7IFA5YBf6l3djEBEedCOaD2XQFiPIqENtqJAuL3Xpz0hrkDlvQlfK0K4QAAAAAAAiMNA",
          "dtype": "f8"
         },
         "y": [
          4e-05,
          4e-05,
          4e-05,
          4e-05,
          4e-05,
          4e-05,
          4e-05,
          4e-05,
          4e-05,
          4e-05,
          4e-05,
          4e-05,
          4e-05,
          4e-05,
          4e-05,
          4e-05,
          4e-05,
          4e-05,
          4e-05,
          4e-05,
          4e-05,
          4e-05,
          4e-05,
          4e-05,
          4e-05,
          4e-05,
          4e-05,
          4e-05,
          4e-05,
          4e-05
         ]
        }
       ],
       "layout": {
        "height": 500,
        "template": {
         "data": {
          "bar": [
           {
            "error_x": {
             "color": "#2a3f5f"
            },
            "error_y": {
             "color": "#2a3f5f"
            },
            "marker": {
             "line": {
              "color": "#E5ECF6",
              "width": 0.5
             },
             "pattern": {
              "fillmode": "overlay",
              "size": 10,
              "solidity": 0.2
             }
            },
            "type": "bar"
           }
          ],
          "barpolar": [
           {
            "marker": {
             "line": {
              "color": "#E5ECF6",
              "width": 0.5
             },
             "pattern": {
              "fillmode": "overlay",
              "size": 10,
              "solidity": 0.2
             }
            },
            "type": "barpolar"
           }
          ],
          "carpet": [
           {
            "aaxis": {
             "endlinecolor": "#2a3f5f",
             "gridcolor": "white",
             "linecolor": "white",
             "minorgridcolor": "white",
             "startlinecolor": "#2a3f5f"
            },
            "baxis": {
             "endlinecolor": "#2a3f5f",
             "gridcolor": "white",
             "linecolor": "white",
             "minorgridcolor": "white",
             "startlinecolor": "#2a3f5f"
            },
            "type": "carpet"
           }
          ],
          "choropleth": [
           {
            "colorbar": {
             "outlinewidth": 0,
             "ticks": ""
            },
            "type": "choropleth"
           }
          ],
          "contour": [
           {
            "colorbar": {
             "outlinewidth": 0,
             "ticks": ""
            },
            "colorscale": [
             [
              0,
              "#0d0887"
             ],
             [
              0.1111111111111111,
              "#46039f"
             ],
             [
              0.2222222222222222,
              "#7201a8"
             ],
             [
              0.3333333333333333,
              "#9c179e"
             ],
             [
              0.4444444444444444,
              "#bd3786"
             ],
             [
              0.5555555555555556,
              "#d8576b"
             ],
             [
              0.6666666666666666,
              "#ed7953"
             ],
             [
              0.7777777777777778,
              "#fb9f3a"
             ],
             [
              0.8888888888888888,
              "#fdca26"
             ],
             [
              1,
              "#f0f921"
             ]
            ],
            "type": "contour"
           }
          ],
          "contourcarpet": [
           {
            "colorbar": {
             "outlinewidth": 0,
             "ticks": ""
            },
            "type": "contourcarpet"
           }
          ],
          "heatmap": [
           {
            "colorbar": {
             "outlinewidth": 0,
             "ticks": ""
            },
            "colorscale": [
             [
              0,
              "#0d0887"
             ],
             [
              0.1111111111111111,
              "#46039f"
             ],
             [
              0.2222222222222222,
              "#7201a8"
             ],
             [
              0.3333333333333333,
              "#9c179e"
             ],
             [
              0.4444444444444444,
              "#bd3786"
             ],
             [
              0.5555555555555556,
              "#d8576b"
             ],
             [
              0.6666666666666666,
              "#ed7953"
             ],
             [
              0.7777777777777778,
              "#fb9f3a"
             ],
             [
              0.8888888888888888,
              "#fdca26"
             ],
             [
              1,
              "#f0f921"
             ]
            ],
            "type": "heatmap"
           }
          ],
          "histogram": [
           {
            "marker": {
             "pattern": {
              "fillmode": "overlay",
              "size": 10,
              "solidity": 0.2
             }
            },
            "type": "histogram"
           }
          ],
          "histogram2d": [
           {
            "colorbar": {
             "outlinewidth": 0,
             "ticks": ""
            },
            "colorscale": [
             [
              0,
              "#0d0887"
             ],
             [
              0.1111111111111111,
              "#46039f"
             ],
             [
              0.2222222222222222,
              "#7201a8"
             ],
             [
              0.3333333333333333,
              "#9c179e"
             ],
             [
              0.4444444444444444,
              "#bd3786"
             ],
             [
              0.5555555555555556,
              "#d8576b"
             ],
             [
              0.6666666666666666,
              "#ed7953"
             ],
             [
              0.7777777777777778,
              "#fb9f3a"
             ],
             [
              0.8888888888888888,
              "#fdca26"
             ],
             [
              1,
              "#f0f921"
             ]
            ],
            "type": "histogram2d"
           }
          ],
          "histogram2dcontour": [
           {
            "colorbar": {
             "outlinewidth": 0,
             "ticks": ""
            },
            "colorscale": [
             [
              0,
              "#0d0887"
             ],
             [
              0.1111111111111111,
              "#46039f"
             ],
             [
              0.2222222222222222,
              "#7201a8"
             ],
             [
              0.3333333333333333,
              "#9c179e"
             ],
             [
              0.4444444444444444,
              "#bd3786"
             ],
             [
              0.5555555555555556,
              "#d8576b"
             ],
             [
              0.6666666666666666,
              "#ed7953"
             ],
             [
              0.7777777777777778,
              "#fb9f3a"
             ],
             [
              0.8888888888888888,
              "#fdca26"
             ],
             [
              1,
              "#f0f921"
             ]
            ],
            "type": "histogram2dcontour"
           }
          ],
          "mesh3d": [
           {
            "colorbar": {
             "outlinewidth": 0,
             "ticks": ""
            },
            "type": "mesh3d"
           }
          ],
          "parcoords": [
           {
            "line": {
             "colorbar": {
              "outlinewidth": 0,
              "ticks": ""
             }
            },
            "type": "parcoords"
           }
          ],
          "pie": [
           {
            "automargin": true,
            "type": "pie"
           }
          ],
          "scatter": [
           {
            "fillpattern": {
             "fillmode": "overlay",
             "size": 10,
             "solidity": 0.2
            },
            "type": "scatter"
           }
          ],
          "scatter3d": [
           {
            "line": {
             "colorbar": {
              "outlinewidth": 0,
              "ticks": ""
             }
            },
            "marker": {
             "colorbar": {
              "outlinewidth": 0,
              "ticks": ""
             }
            },
            "type": "scatter3d"
           }
          ],
          "scattercarpet": [
           {
            "marker": {
             "colorbar": {
              "outlinewidth": 0,
              "ticks": ""
             }
            },
            "type": "scattercarpet"
           }
          ],
          "scattergeo": [
           {
            "marker": {
             "colorbar": {
              "outlinewidth": 0,
              "ticks": ""
             }
            },
            "type": "scattergeo"
           }
          ],
          "scattergl": [
           {
            "marker": {
             "colorbar": {
              "outlinewidth": 0,
              "ticks": ""
             }
            },
            "type": "scattergl"
           }
          ],
          "scattermap": [
           {
            "marker": {
             "colorbar": {
              "outlinewidth": 0,
              "ticks": ""
             }
            },
            "type": "scattermap"
           }
          ],
          "scattermapbox": [
           {
            "marker": {
             "colorbar": {
              "outlinewidth": 0,
              "ticks": ""
             }
            },
            "type": "scattermapbox"
           }
          ],
          "scatterpolar": [
           {
            "marker": {
             "colorbar": {
              "outlinewidth": 0,
              "ticks": ""
             }
            },
            "type": "scatterpolar"
           }
          ],
          "scatterpolargl": [
           {
            "marker": {
             "colorbar": {
              "outlinewidth": 0,
              "ticks": ""
             }
            },
            "type": "scatterpolargl"
           }
          ],
          "scatterternary": [
           {
            "marker": {
             "colorbar": {
              "outlinewidth": 0,
              "ticks": ""
             }
            },
            "type": "scatterternary"
           }
          ],
          "surface": [
           {
            "colorbar": {
             "outlinewidth": 0,
             "ticks": ""
            },
            "colorscale": [
             [
              0,
              "#0d0887"
             ],
             [
              0.1111111111111111,
              "#46039f"
             ],
             [
              0.2222222222222222,
              "#7201a8"
             ],
             [
              0.3333333333333333,
              "#9c179e"
             ],
             [
              0.4444444444444444,
              "#bd3786"
             ],
             [
              0.5555555555555556,
              "#d8576b"
             ],
             [
              0.6666666666666666,
              "#ed7953"
             ],
             [
              0.7777777777777778,
              "#fb9f3a"
             ],
             [
              0.8888888888888888,
              "#fdca26"
             ],
             [
              1,
              "#f0f921"
             ]
            ],
            "type": "surface"
           }
          ],
          "table": [
           {
            "cells": {
             "fill": {
              "color": "#EBF0F8"
             },
             "line": {
              "color": "white"
             }
            },
            "header": {
             "fill": {
              "color": "#C8D4E3"
             },
             "line": {
              "color": "white"
             }
            },
            "type": "table"
           }
          ]
         },
         "layout": {
          "annotationdefaults": {
           "arrowcolor": "#2a3f5f",
           "arrowhead": 0,
           "arrowwidth": 1
          },
          "autotypenumbers": "strict",
          "coloraxis": {
           "colorbar": {
            "outlinewidth": 0,
            "ticks": ""
           }
          },
          "colorscale": {
           "diverging": [
            [
             0,
             "#8e0152"
            ],
            [
             0.1,
             "#c51b7d"
            ],
            [
             0.2,
             "#de77ae"
            ],
            [
             0.3,
             "#f1b6da"
            ],
            [
             0.4,
             "#fde0ef"
            ],
            [
             0.5,
             "#f7f7f7"
            ],
            [
             0.6,
             "#e6f5d0"
            ],
            [
             0.7,
             "#b8e186"
            ],
            [
             0.8,
             "#7fbc41"
            ],
            [
             0.9,
             "#4d9221"
            ],
            [
             1,
             "#276419"
            ]
           ],
           "sequential": [
            [
             0,
             "#0d0887"
            ],
            [
             0.1111111111111111,
             "#46039f"
            ],
            [
             0.2222222222222222,
             "#7201a8"
            ],
            [
             0.3333333333333333,
             "#9c179e"
            ],
            [
             0.4444444444444444,
             "#bd3786"
            ],
            [
             0.5555555555555556,
             "#d8576b"
            ],
            [
             0.6666666666666666,
             "#ed7953"
            ],
            [
             0.7777777777777778,
             "#fb9f3a"
            ],
            [
             0.8888888888888888,
             "#fdca26"
            ],
            [
             1,
             "#f0f921"
            ]
           ],
           "sequentialminus": [
            [
             0,
             "#0d0887"
            ],
            [
             0.1111111111111111,
             "#46039f"
            ],
            [
             0.2222222222222222,
             "#7201a8"
            ],
            [
             0.3333333333333333,
             "#9c179e"
            ],
            [
             0.4444444444444444,
             "#bd3786"
            ],
            [
             0.5555555555555556,
             "#d8576b"
            ],
            [
             0.6666666666666666,
             "#ed7953"
            ],
            [
             0.7777777777777778,
             "#fb9f3a"
            ],
            [
             0.8888888888888888,
             "#fdca26"
            ],
            [
             1,
             "#f0f921"
            ]
           ]
          },
          "colorway": [
           "#636efa",
           "#EF553B",
           "#00cc96",
           "#ab63fa",
           "#FFA15A",
           "#19d3f3",
           "#FF6692",
           "#B6E880",
           "#FF97FF",
           "#FECB52"
          ],
          "font": {
           "color": "#2a3f5f"
          },
          "geo": {
           "bgcolor": "white",
           "lakecolor": "white",
           "landcolor": "#E5ECF6",
           "showlakes": true,
           "showland": true,
           "subunitcolor": "white"
          },
          "hoverlabel": {
           "align": "left"
          },
          "hovermode": "closest",
          "mapbox": {
           "style": "light"
          },
          "paper_bgcolor": "white",
          "plot_bgcolor": "#E5ECF6",
          "polar": {
           "angularaxis": {
            "gridcolor": "white",
            "linecolor": "white",
            "ticks": ""
           },
           "bgcolor": "#E5ECF6",
           "radialaxis": {
            "gridcolor": "white",
            "linecolor": "white",
            "ticks": ""
           }
          },
          "scene": {
           "xaxis": {
            "backgroundcolor": "#E5ECF6",
            "gridcolor": "white",
            "gridwidth": 2,
            "linecolor": "white",
            "showbackground": true,
            "ticks": "",
            "zerolinecolor": "white"
           },
           "yaxis": {
            "backgroundcolor": "#E5ECF6",
            "gridcolor": "white",
            "gridwidth": 2,
            "linecolor": "white",
            "showbackground": true,
            "ticks": "",
            "zerolinecolor": "white"
           },
           "zaxis": {
            "backgroundcolor": "#E5ECF6",
            "gridcolor": "white",
            "gridwidth": 2,
            "linecolor": "white",
            "showbackground": true,
            "ticks": "",
            "zerolinecolor": "white"
           }
          },
          "shapedefaults": {
           "line": {
            "color": "#2a3f5f"
           }
          },
          "ternary": {
           "aaxis": {
            "gridcolor": "white",
            "linecolor": "white",
            "ticks": ""
           },
           "baxis": {
            "gridcolor": "white",
            "linecolor": "white",
            "ticks": ""
           },
           "bgcolor": "#E5ECF6",
           "caxis": {
            "gridcolor": "white",
            "linecolor": "white",
            "ticks": ""
           }
          },
          "title": {
           "x": 0.05
          },
          "xaxis": {
           "automargin": true,
           "gridcolor": "white",
           "linecolor": "white",
           "ticks": "",
           "title": {
            "standoff": 15
           },
           "zerolinecolor": "white",
           "zerolinewidth": 2
          },
          "yaxis": {
           "automargin": true,
           "gridcolor": "white",
           "linecolor": "white",
           "ticks": "",
           "title": {
            "standoff": 15
           },
           "zerolinecolor": "white",
           "zerolinewidth": 2
          }
         }
        },
        "title": {
         "text": "Comparison for phase"
        },
        "width": 900,
        "xaxis": {
         "title": {
          "text": "Sample Duration (s)"
         },
         "type": "log"
        },
        "yaxis": {
         "title": {
          "text": "Uncertainty"
         },
         "type": "log"
        }
       }
      }
     },
     "metadata": {},
     "output_type": "display_data"
    }
   ],
   "source": [
    "import anal_fit_err\n",
    "import importlib\n",
    "import dataclasses\n",
    "\n",
    "importlib.reload(anal_fit_err)\n",
    "\n",
    "# Generate theoretical predictions\n",
    "theory_undamped_curves = {\n",
    "    \"amplitude\": [],\n",
    "    \"frequency\": [],\n",
    "    \"phase\": [],\n",
    "    \"damping_rate\": [],\n",
    "}\n",
    "\n",
    "theory_curves = {\"amplitude\": [], \"frequency\": [], \"phase\": [], \"damping_rate\": []}\n",
    "\n",
    "theory_testing_curves = {\n",
    "    \"amplitude\": [],\n",
    "    \"frequency\": [],\n",
    "    \"phase\": [],\n",
    "    \"damping_rate\": [],\n",
    "}\n",
    "\n",
    "\n",
    "for this_duration in durations:\n",
    "    est = anal_fit_err.analy_err_in_fit_damp_sine(\n",
    "        amp=true_params[\"amplitude\"],\n",
    "        samp_num=num_points,\n",
    "        samp_time=this_duration,\n",
    "        sigma_obs=noise_scale,\n",
    "        damp_rate=true_params[\"damping_rate\"],\n",
    "    )\n",
    "    theory_curves[\"amplitude\"].append(est.amplitude)\n",
    "    theory_curves[\"frequency\"].append(est.frequency)\n",
    "    theory_curves[\"phase\"].append(est.phase)\n",
    "    theory_curves[\"damping_rate\"].append(est.damping_rate)\n",
    "\n",
    "    est = anal_fit_err.analy_err_in_fit_damp_sine_testing(\n",
    "        amp=true_params[\"amplitude\"],\n",
    "        samp_num=num_points,\n",
    "        samp_time=this_duration,\n",
    "        sigma_obs=noise_scale,\n",
    "        damp_rate=true_params[\"damping_rate\"],\n",
    "    )\n",
    "    theory_testing_curves[\"amplitude\"].append(est.amplitude)\n",
    "    theory_testing_curves[\"frequency\"].append(est.frequency)\n",
    "    theory_testing_curves[\"phase\"].append(est.phase)\n",
    "    theory_testing_curves[\"damping_rate\"].append(est.damping_rate)\n",
    "\n",
    "    est = anal_fit_err.analy_err_in_fit_sine(\n",
    "        amplitude=true_params[\"amplitude\"],\n",
    "        samp_num=num_points,\n",
    "        samp_time=this_duration,\n",
    "        sigma_obs=noise_scale,\n",
    "    )\n",
    "    theory_undamped_curves[\"amplitude\"].append(est.amplitude)\n",
    "    theory_undamped_curves[\"frequency\"].append(est.frequency)\n",
    "    theory_undamped_curves[\"phase\"].append(est.phase)\n",
    "    theory_undamped_curves[\"damping_rate\"].append(np.nan)\n",
    "\n",
    "\n",
    "for key in true_params:\n",
    "    fig = go.Figure()\n",
    "    fig.add_trace(\n",
    "        go.Scatter(\n",
    "            x=durations, y=rmse_results[key], mode=\"lines+markers\", name=f\"RMSE {key}\"\n",
    "        )\n",
    "    )\n",
    "    fig.add_trace(\n",
    "        go.Scatter(\n",
    "            x=durations,\n",
    "            y=stderr_results[key],\n",
    "            mode=\"lines+markers\",\n",
    "            name=f\"stderr {key}\",\n",
    "            line=dict(dash=\"dot\"),\n",
    "        )\n",
    "    )\n",
    "    fig.add_trace(\n",
    "        go.Scatter(\n",
    "            x=durations,\n",
    "            y=theory_curves[key],\n",
    "            mode=\"lines\",\n",
    "            name=f\"theory {key}\",\n",
    "            line=dict(dash=\"dash\"),\n",
    "        )\n",
    "    )\n",
    "    fig.add_trace(\n",
    "        go.Scatter(\n",
    "            x=durations,\n",
    "            y=theory_testing_curves[key],\n",
    "            mode=\"lines\",\n",
    "            name=f\"theory testing {key}\",\n",
    "            line=dict(dash=\"dashdot\"),\n",
    "        )\n",
    "    )\n",
    "\n",
    "    fig.add_trace(\n",
    "        go.Scatter(\n",
    "            x=durations,\n",
    "            y=theory_undamped_curves[key],\n",
    "            mode=\"lines\",\n",
    "            name=f\"theory undamped {key}\",\n",
    "            line=dict(dash=\"dash\"),\n",
    "        )\n",
    "    )\n",
    "\n",
    "    fig.update_layout(\n",
    "        title=f\"Comparison for {key}\",\n",
    "        xaxis_title=\"Sample Duration (s)\",\n",
    "        yaxis_title=\"Uncertainty\",\n",
    "        width=900,\n",
    "        height=500,\n",
    "        yaxis_type=\"log\",\n",
    "        xaxis_type=\"log\",\n",
    "    )\n",
    "    fig.show()"
   ]
  },
  {
   "cell_type": "code",
   "execution_count": 25,
   "id": "d4e49b36",
   "metadata": {},
   "outputs": [],
   "source": [
    "import plotly.graph_objects as go\n",
    "import plotly.io as pio\n",
    "\n",
    "# Set default font to Computer Modern (may require CMU Serif if CM not available)\n",
    "latex_font = \"CMU Serif\"\n",
    "pio.templates[\"cm10_latex\"] = go.layout.Template(\n",
    "    layout=go.Layout(\n",
    "        font=dict(family=latex_font, size=18),\n",
    "        title_font=dict(family=latex_font, size=22),\n",
    "        legend=dict(\n",
    "            font=dict(family=latex_font, size=16),\n",
    "            bordercolor=\"black\",\n",
    "            borderwidth=1,\n",
    "        ),\n",
    "        xaxis=dict(\n",
    "            title_font=dict(family=latex_font, size=20),\n",
    "            tickfont=dict(family=latex_font, size=16),\n",
    "            type=\"log\",\n",
    "        ),\n",
    "        yaxis=dict(\n",
    "            title_font=dict(family=latex_font, size=20),\n",
    "            tickfont=dict(family=latex_font, size=16),\n",
    "            type=\"log\",\n",
    "        ),\n",
    "        width=900,\n",
    "        height=500,\n",
    "        margin=dict(l=80, r=20, t=50, b=80),\n",
    "    )\n",
    ")\n",
    "pio.templates.default = \"cm10_latex\""
   ]
  },
  {
   "cell_type": "code",
   "execution_count": 27,
   "id": "11b63abe",
   "metadata": {},
   "outputs": [],
   "source": [
    "def add_minor_log_ticks(\n",
    "    fig: go.Figure, axis: str, range_vals: tuple[float, float], length: float = 0.01\n",
    "):\n",
    "    import numpy as np\n",
    "\n",
    "    minor_ticks = []\n",
    "    for decade in range(\n",
    "        int(np.floor(np.log10(range_vals[0]))), int(np.ceil(np.log10(range_vals[1])))\n",
    "    ):\n",
    "        base = 10**decade\n",
    "        for i in range(2, 10):  # 2 through 9\n",
    "            tick = i * base\n",
    "            if range_vals[0] <= tick <= range_vals[1]:\n",
    "                minor_ticks.append(tick)\n",
    "\n",
    "    for t in minor_ticks:\n",
    "        if axis == \"x\":\n",
    "            fig.add_shape(\n",
    "                type=\"line\",\n",
    "                x0=t,\n",
    "                x1=t,\n",
    "                y0=0,\n",
    "                y1=length,\n",
    "                xref=\"x\",\n",
    "                yref=\"paper\",\n",
    "                line=dict(color=\"black\", width=1),\n",
    "                layer=\"above\",\n",
    "            )\n",
    "        elif axis == \"y\":\n",
    "            fig.add_shape(\n",
    "                type=\"line\",\n",
    "                x0=0,\n",
    "                x1=length,\n",
    "                y0=t,\n",
    "                y1=t,\n",
    "                xref=\"paper\",\n",
    "                yref=\"y\",\n",
    "                line=dict(color=\"black\", width=1),\n",
    "                layer=\"above\",\n",
    "            )"
   ]
  },
  {
   "cell_type": "code",
   "execution_count": 29,
   "id": "2df2b532",
   "metadata": {},
   "outputs": [],
   "source": [
    "import str_utils"
   ]
  },
  {
   "cell_type": "code",
   "execution_count": 35,
   "id": "1c11ae8e",
   "metadata": {},
   "outputs": [
    {
     "data": {
      "text/plain": [
       "'10<sup>1</sup>'"
      ]
     },
     "execution_count": 35,
     "metadata": {},
     "output_type": "execute_result"
    }
   ],
   "source": [
    "importlib.reload(str_utils)\n",
    "str_utils.make_plotly_power_ten(1)"
   ]
  },
  {
   "cell_type": "code",
   "execution_count": 57,
   "id": "88383978",
   "metadata": {},
   "outputs": [
    {
     "data": {
      "text/plain": [
       "np.float64(-3.0)"
      ]
     },
     "execution_count": 57,
     "metadata": {},
     "output_type": "execute_result"
    }
   ],
   "source": [
    "y_max_rounded"
   ]
  },
  {
   "cell_type": "code",
   "execution_count": 59,
   "id": "8f3e31a3",
   "metadata": {},
   "outputs": [
    {
     "data": {
      "text/plain": [
       "np.float64(4.0)"
      ]
     },
     "execution_count": 59,
     "metadata": {},
     "output_type": "execute_result"
    }
   ],
   "source": [
    "np.log10(x_max)"
   ]
  },
  {
   "cell_type": "code",
   "execution_count": null,
   "id": "b4f6b16b",
   "metadata": {},
   "outputs": [
    {
     "name": "stdout",
     "output_type": "stream",
     "text": [
      "[-2. -1.  0.  1.  2.  3.  4.]\n",
      "['10<sup>-2</sup>', '10<sup>-1</sup>', '10<sup>0</sup>', '10<sup>1</sup>', '10<sup>2</sup>', '10<sup>3</sup>', '10<sup>4</sup>']\n",
      "[np.float64(1e-05), np.float64(0.001)]\n",
      "[-8. -7. -6. -5. -4. -3. -2. -1.]\n"
     ]
    },
    {
     "data": {
      "application/vnd.plotly.v1+json": {
       "config": {
        "plotlyServerURL": "https://plot.ly"
       },
       "data": [
        {
         "line": {
          "color": "black",
          "width": 2
         },
         "marker": {
          "size": 6
         },
         "mode": "lines+markers",
         "name": "simulation",
         "type": "scatter",
         "x": {
          "bdata": "exSuR+F6hD/DxtqNNH2QP76kaCA/jZo//m2ojaxgpT+jw2I3ODaxPwUyiwgrt7s/2kvgNYpQxj/53LfQV/fRPzSyAr4l7tw/t83cQutK5z9tkLdW7sDyP/PtbMTBMv4/5YMpq0VQCECb5irDWpMTQN2VWguYhR9AjxzqkBRhKUDxl4U5AG80QI+FLhukc0BAf6nde9h9SkD1RJs1RlRVQKJQHnQ8LGFANNPslRena0CDw2C8mEN2QE9kvQjs7IFA5YBf6l3djEBEedCOaD2XQFiPIqENtqJAuL3Xpz0hrkDlvQlfK0K4QAAAAAAAiMNA",
          "dtype": "f8"
         },
         "y": [
          0.08478898499985409,
          0.01873829363400777,
          0.0035582003537246954,
          0.0004078727753365982,
          0.00018639527462264034,
          9.476077208013929e-05,
          6.325008248446736e-05,
          4.1801524471715794e-05,
          2.2891711717851302e-05,
          1.456154424671393e-05,
          9.91055323421269e-06,
          6.251268287630789e-06,
          3.5826694400252692e-06,
          2.146871925660143e-06,
          1.3931880751524478e-06,
          8.624920795127303e-07,
          6.140177025882914e-07,
          3.5596105571264416e-07,
          2.5790837463938344e-07,
          2.3881711159283547e-07,
          1.6886438371770143e-07,
          1.391004683292597e-07,
          1.7891679624941294e-07,
          1.9818120496877045e-07,
          2.539833796544349e-07,
          3.492499794776452e-07,
          4.0647964826211675e-07,
          4.985826941002977e-07,
          6.772323284094014e-07,
          0.0024658316775370967
         ]
        },
        {
         "line": {
          "color": "dimgray",
          "dash": "dot"
         },
         "marker": {
          "size": 6,
          "symbol": "circle-open"
         },
         "mode": "lines+markers",
         "name": "stderr",
         "type": "scatter",
         "x": {
          "bdata": "exSuR+F6hD/DxtqNNH2QP76kaCA/jZo//m2ojaxgpT+jw2I3ODaxPwUyiwgrt7s/2kvgNYpQxj/53LfQV/fRPzSyAr4l7tw/t83cQutK5z9tkLdW7sDyP/PtbMTBMv4/5YMpq0VQCECb5irDWpMTQN2VWguYhR9AjxzqkBRhKUDxl4U5AG80QI+FLhukc0BAf6nde9h9SkD1RJs1RlRVQKJQHnQ8LGFANNPslRena0CDw2C8mEN2QE9kvQjs7IFA5YBf6l3djEBEedCOaD2XQFiPIqENtqJAuL3Xpz0hrkDlvQlfK0K4QAAAAAAAiMNA",
          "dtype": "f8"
         },
         "y": [
          0.08603913210058348,
          0.019029465957994537,
          0.0036243849942368617,
          0.00041753664138104976,
          0.00019347818196214215,
          9.311210204413821e-05,
          6.544961916583636e-05,
          4.0845855707564614e-05,
          2.458450087872595e-05,
          1.5176653147727535e-05,
          9.496675413466606e-06,
          5.90324357127099e-06,
          3.6741991420045418e-06,
          2.2780742258573183e-06,
          1.3946257486532e-06,
          9.03541283779479e-07,
          5.724620502421275e-07,
          3.7569723756869627e-07,
          2.580473862272515e-07,
          1.8495294490988357e-07,
          1.5122257787441906e-07,
          1.4583408122269612e-07,
          1.5355428730900033e-07,
          2.0292632609078676e-07,
          2.548470264248224e-07,
          3.3463831313744434e-07,
          4.2234826716580705e-07,
          5.412603660595797e-07,
          6.854848197125756e-07,
          9.789566050809699e-07
         ]
        },
        {
         "line": {
          "color": "blue",
          "dash": "dash",
          "width": 2
         },
         "mode": "lines",
         "name": "an. damped",
         "type": "scatter",
         "x": {
          "bdata": "exSuR+F6hD/DxtqNNH2QP76kaCA/jZo//m2ojaxgpT+jw2I3ODaxPwUyiwgrt7s/2kvgNYpQxj/53LfQV/fRPzSyAr4l7tw/t83cQutK5z9tkLdW7sDyP/PtbMTBMv4/5YMpq0VQCECb5irDWpMTQN2VWguYhR9AjxzqkBRhKUDxl4U5AG80QI+FLhukc0BAf6nde9h9SkD1RJs1RlRVQKJQHnQ8LGFANNPslRena0CDw2C8mEN2QE9kvQjs7IFA5YBf6l3djEBEedCOaD2XQFiPIqENtqJAuL3Xpz0hrkDlvQlfK0K4QAAAAAAAiMNA",
          "dtype": "f8"
         },
         "y": [
          null,
          0.0006880048968021428,
          0.0004345629964294156,
          0.0002645054587735465,
          0.00016399214317698395,
          0.0001019015814969362,
          6.330563824448317e-05,
          3.933450757229295e-05,
          2.44483697749472e-05,
          1.5203822581436241e-05,
          9.462838252366215e-06,
          5.89765927614059e-06,
          3.6837346836164275e-06,
          2.309031601928938e-06,
          1.4556136940034891e-06,
          9.261126556068078e-07,
          5.9809035362345e-07,
          3.9574577769407157e-07,
          2.724471292129134e-07,
          2.00105226815189e-07,
          1.6301777814469414e-07,
          1.545586122789601e-07,
          1.7358321541411527e-07,
          2.1577721397847085e-07,
          2.7362416327711376e-07,
          3.4721782905835074e-07,
          4.406058846561536e-07,
          5.591116853949625e-07,
          7.094909251816993e-07,
          9.003163161571064e-07
         ]
        },
        {
         "line": {
          "color": "blue",
          "dash": "dashdot",
          "width": 2
         },
         "mode": "lines",
         "name": "an. testing",
         "type": "scatter",
         "x": {
          "bdata": "exSuR+F6hD/DxtqNNH2QP76kaCA/jZo//m2ojaxgpT+jw2I3ODaxPwUyiwgrt7s/2kvgNYpQxj/53LfQV/fRPzSyAr4l7tw/t83cQutK5z9tkLdW7sDyP/PtbMTBMv4/5YMpq0VQCECb5irDWpMTQN2VWguYhR9AjxzqkBRhKUDxl4U5AG80QI+FLhukc0BAf6nde9h9SkD1RJs1RlRVQKJQHnQ8LGFANNPslRena0CDw2C8mEN2QE9kvQjs7IFA5YBf6l3djEBEedCOaD2XQFiPIqENtqJAuL3Xpz0hrkDlvQlfK0K4QAAAAAAAiMNA",
          "dtype": "f8"
         },
         "y": [
          0.0008545847732851018,
          0.0007945675606413269,
          0.00042655019504351957,
          0.00026389193657231605,
          0.00016403566185872262,
          0.0001019008596284256,
          6.330491116984757e-05,
          3.933458972245605e-05,
          2.4448377841098795e-05,
          1.5203821240008674e-05,
          9.462838181320976e-06,
          5.897659282741951e-06,
          3.683734683527492e-06,
          2.3090316019495083e-06,
          1.4556136940045956e-06,
          9.261126556067847e-07,
          5.980903536234443e-07,
          3.957457776940718e-07,
          2.7244712921291263e-07,
          2.0010522681518893e-07,
          1.6301777814469406e-07,
          1.5455861227896008e-07,
          1.735832154141153e-07,
          2.157772139784708e-07,
          2.736241632771137e-07,
          3.4721782905835064e-07,
          4.406058846561536e-07,
          5.591116853949625e-07,
          7.094909251816991e-07,
          9.003163161571061e-07
         ]
        },
        {
         "line": {
          "color": "red",
          "dash": "dash",
          "width": 2
         },
         "mode": "lines",
         "name": "an. CW",
         "type": "scatter",
         "x": {
          "bdata": "exSuR+F6hD/DxtqNNH2QP76kaCA/jZo//m2ojaxgpT+jw2I3ODaxPwUyiwgrt7s/2kvgNYpQxj/53LfQV/fRPzSyAr4l7tw/t83cQutK5z9tkLdW7sDyP/PtbMTBMv4/5YMpq0VQCECb5irDWpMTQN2VWguYhR9AjxzqkBRhKUDxl4U5AG80QI+FLhukc0BAf6nde9h9SkD1RJs1RlRVQKJQHnQ8LGFANNPslRena0CDw2C8mEN2QE9kvQjs7IFA5YBf6l3djEBEedCOaD2XQFiPIqENtqJAuL3Xpz0hrkDlvQlfK0K4QAAAAAAAiMNA",
          "dtype": "f8"
         },
         "y": [
          0.0011026577908435841,
          0.0006847691692225879,
          0.0004252532553722368,
          0.0002640894761806978,
          0.00016400403888348135,
          0.00010184928668528428,
          6.325013255113219e-05,
          3.927940389114003e-05,
          2.4393175283799287e-05,
          1.5148575117769861e-05,
          9.407521793652037e-06,
          5.842230415072006e-06,
          3.628124066193886e-06,
          2.253126512390905e-06,
          1.3992297364197994e-06,
          8.689453719151597e-07,
          5.39629797537578e-07,
          3.3511924662034927e-07,
          2.0811472970517336e-07,
          1.292427730040957e-07,
          8.02619516525887e-08,
          4.984403176553901e-08,
          3.095398817858089e-08,
          1.9222951078009855e-08,
          1.1937778292596778e-08,
          7.413562568247919e-09,
          4.603947954655074e-09,
          2.859129679427804e-09,
          1.775567969989656e-09,
          1.102657790843584e-09
         ]
        }
       ],
       "layout": {
        "font": {
         "family": "CMU Serif",
         "size": 18
        },
        "height": 500,
        "legend": {
         "bgcolor": "rgba(255,255,255,0.7)",
         "bordercolor": "black",
         "borderwidth": 1,
         "font": {
          "size": 16
         },
         "x": 0.5,
         "xanchor": "center",
         "y": 0.8,
         "yanchor": "middle"
        },
        "margin": {
         "b": 80,
         "l": 80,
         "r": 20,
         "t": 40
        },
        "shapes": [
         {
          "layer": "below",
          "line": {
           "color": "limegreen",
           "dash": "dot",
           "width": 2
          },
          "type": "line",
          "x0": 0.1,
          "x1": 0.1,
          "y0": 1.391004683292597e-09,
          "y1": 8.478898499985409
         },
         {
          "layer": "below",
          "line": {
           "color": "limegreen",
           "dash": "dot",
           "width": 2
          },
          "type": "line",
          "x0": 100,
          "x1": 100,
          "y0": 1.391004683292597e-09,
          "y1": 8.478898499985409
         }
        ],
        "template": {
         "layout": {
          "font": {
           "family": "CMU Serif",
           "size": 18
          },
          "height": 500,
          "legend": {
           "bordercolor": "black",
           "borderwidth": 1,
           "font": {
            "family": "CMU Serif",
            "size": 16
           }
          },
          "margin": {
           "b": 80,
           "l": 80,
           "r": 20,
           "t": 50
          },
          "title": {
           "font": {
            "family": "CMU Serif",
            "size": 22
           }
          },
          "width": 900,
          "xaxis": {
           "tickfont": {
            "family": "CMU Serif",
            "size": 16
           },
           "title": {
            "font": {
             "family": "CMU Serif",
             "size": 20
            }
           },
           "type": "log"
          },
          "yaxis": {
           "tickfont": {
            "family": "CMU Serif",
            "size": 16
           },
           "title": {
            "font": {
             "family": "CMU Serif",
             "size": 20
            }
           },
           "type": "log"
          }
         }
        },
        "width": 800,
        "xaxis": {
         "mirror": true,
         "range": [
          -2,
          4
         ],
         "showline": true,
         "ticks": "outside",
         "ticktext": [
          "10<sup>-2</sup>",
          "10<sup>-1</sup>",
          "10<sup>0</sup>",
          "10<sup>1</sup>",
          "10<sup>2</sup>",
          "10<sup>3</sup>",
          "10<sup>4</sup>"
         ],
         "tickvals": {
          "bdata": "exSuR+F6hD+amZmZmZm5PwAAAAAAAPA/AAAAAAAAJEAAAAAAAABZQAAAAAAAQI9AAAAAAACIw0A=",
          "dtype": "f8"
         },
         "title": {
          "text": "Sample Duration (s)"
         },
         "type": "log"
        },
        "yaxis": {
         "mirror": true,
         "range": [
          -8,
          -1
         ],
         "showline": true,
         "ticks": "outside",
         "ticktext": [
          "10<sup>-8</sup>",
          "10<sup>-7</sup>",
          "10<sup>-6</sup>",
          "10<sup>-5</sup>",
          "10<sup>-4</sup>",
          "10<sup>-3</sup>",
          "10<sup>-2</sup>",
          "10<sup>-1</sup>"
         ],
         "tickvals": {
          "bdata": "Ooww4o55RT5Ir7ya8td6Po3ttaD3xrA+8WjjiLX45D4tQxzr4jYaP/yp8dJNYlA/exSuR+F6hD+amZmZmZm5Pw==",
          "dtype": "f8"
         },
         "title": {
          "text": "Uncertainty"
         },
         "type": "log"
        }
       }
      }
     },
     "metadata": {},
     "output_type": "display_data"
    },
    {
     "name": "stdout",
     "output_type": "stream",
     "text": [
      "[np.float64(1e-05), np.float64(0.001)]\n",
      "[-5. -4. -3. -2. -1.  0.  1.  2.]\n"
     ]
    },
    {
     "data": {
      "application/vnd.plotly.v1+json": {
       "config": {
        "plotlyServerURL": "https://plot.ly"
       },
       "data": [
        {
         "line": {
          "color": "black",
          "width": 2
         },
         "marker": {
          "size": 6
         },
         "mode": "lines+markers",
         "name": "simulation",
         "type": "scatter",
         "x": {
          "bdata": "exSuR+F6hD/DxtqNNH2QP76kaCA/jZo//m2ojaxgpT+jw2I3ODaxPwUyiwgrt7s/2kvgNYpQxj/53LfQV/fRPzSyAr4l7tw/t83cQutK5z9tkLdW7sDyP/PtbMTBMv4/5YMpq0VQCECb5irDWpMTQN2VWguYhR9AjxzqkBRhKUDxl4U5AG80QI+FLhukc0BAf6nde9h9SkD1RJs1RlRVQKJQHnQ8LGFANNPslRena0CDw2C8mEN2QE9kvQjs7IFA5YBf6l3djEBEedCOaD2XQFiPIqENtqJAuL3Xpz0hrkDlvQlfK0K4QAAAAAAAiMNA",
          "dtype": "f8"
         },
         "y": [
          0.09150186220295906,
          0.023096127030083787,
          0.006184645864939739,
          0.0018432326410523893,
          0.0006290476942255438,
          0.00046716069341518957,
          0.00040899561082012717,
          0.0004205761553790861,
          0.00040361577587121945,
          0.0004025852217773108,
          0.0004253196612670543,
          0.0004169737603256882,
          0.000364313723703176,
          0.0004157645840089159,
          0.00035653788889515483,
          0.00039182148433964157,
          0.0004761659520052204,
          0.00040703626426987085,
          0.0004184626685644275,
          0.0004730392290310563,
          0.0005745565172390298,
          0.0005655252358319374,
          0.0007766629647826626,
          0.0008561838897048516,
          0.0012520885502028923,
          0.001481631217617261,
          0.0018380866369452872,
          0.002537674781808748,
          0.00335524928587514,
          12.328378345008447
         ]
        },
        {
         "line": {
          "color": "dimgray",
          "dash": "dot"
         },
         "marker": {
          "size": 6,
          "symbol": "circle-open"
         },
         "mode": "lines+markers",
         "name": "stderr",
         "type": "scatter",
         "x": {
          "bdata": "exSuR+F6hD/DxtqNNH2QP76kaCA/jZo//m2ojaxgpT+jw2I3ODaxPwUyiwgrt7s/2kvgNYpQxj/53LfQV/fRPzSyAr4l7tw/t83cQutK5z9tkLdW7sDyP/PtbMTBMv4/5YMpq0VQCECb5irDWpMTQN2VWguYhR9AjxzqkBRhKUDxl4U5AG80QI+FLhukc0BAf6nde9h9SkD1RJs1RlRVQKJQHnQ8LGFANNPslRena0CDw2C8mEN2QE9kvQjs7IFA5YBf6l3djEBEedCOaD2XQFiPIqENtqJAuL3Xpz0hrkDlvQlfK0K4QAAAAAAAiMNA",
          "dtype": "f8"
         },
         "y": [
          0.09283243109789098,
          0.023364090272667278,
          0.006230746003940289,
          0.0018388917265311313,
          0.000600542380392775,
          0.00045840602473515215,
          0.00041603785398595467,
          0.00040202529988355893,
          0.000403621996786622,
          0.0004010979035470103,
          0.0004022896538136372,
          0.00040149845349651944,
          0.0004029220036156037,
          0.00040504082262591466,
          0.000408112079416502,
          0.0004129588581896104,
          0.00042040357196839427,
          0.0004330682785060276,
          0.0004532216429818224,
          0.00048590054387934596,
          0.0005388707037183455,
          0.0006247834669541732,
          0.0007611374066730068,
          0.0009584234128059195,
          0.0012158269177882089,
          0.0015450327135334352,
          0.0019581415651352694,
          0.0024846853102046458,
          0.0031597810374739328,
          0.013051230648214156
         ]
        },
        {
         "line": {
          "color": "blue",
          "dash": "dash",
          "width": 2
         },
         "mode": "lines",
         "name": "an. damped",
         "type": "scatter",
         "x": {
          "bdata": "exSuR+F6hD/DxtqNNH2QP76kaCA/jZo//m2ojaxgpT+jw2I3ODaxPwUyiwgrt7s/2kvgNYpQxj/53LfQV/fRPzSyAr4l7tw/t83cQutK5z9tkLdW7sDyP/PtbMTBMv4/5YMpq0VQCECb5irDWpMTQN2VWguYhR9AjxzqkBRhKUDxl4U5AG80QI+FLhukc0BAf6nde9h9SkD1RJs1RlRVQKJQHnQ8LGFANNPslRena0CDw2C8mEN2QE9kvQjs7IFA5YBf6l3djEBEedCOaD2XQFiPIqENtqJAuL3Xpz0hrkDlvQlfK0K4QAAAAAAAiMNA",
          "dtype": "f8"
         },
         "y": [
          0.0004000100000833292,
          0.0004000161028363369,
          0.00040002592999818125,
          0.00040004175464183634,
          0.00040006723734106004,
          0.0004001082734356188,
          0.000400174358186769,
          0.0004002807871987226,
          0.00040045220526061984,
          0.00040072833530301153,
          0.0004011732404354465,
          0.0004018903323091896,
          0.00040304677541406494,
          0.00040491336939794346,
          0.00040793016405605805,
          0.0004128152144122955,
          0.00042074556524153813,
          0.00043365483406544833,
          0.00045469196229511904,
          0.0004887757941423693,
          0.0005426815959036172,
          0.0006232297034556762,
          0.0007340500579984955,
          0.0008774193531701176,
          0.0010596142697510812,
          0.00129081698090695,
          0.001584204210364204,
          0.0019565011633730215,
          0.002428931478339452,
          0.0030284271247461906
         ]
        },
        {
         "line": {
          "color": "blue",
          "dash": "dashdot",
          "width": 2
         },
         "mode": "lines",
         "name": "an. testing",
         "type": "scatter",
         "x": {
          "bdata": "exSuR+F6hD/DxtqNNH2QP76kaCA/jZo//m2ojaxgpT+jw2I3ODaxPwUyiwgrt7s/2kvgNYpQxj/53LfQV/fRPzSyAr4l7tw/t83cQutK5z9tkLdW7sDyP/PtbMTBMv4/5YMpq0VQCECb5irDWpMTQN2VWguYhR9AjxzqkBRhKUDxl4U5AG80QI+FLhukc0BAf6nde9h9SkD1RJs1RlRVQKJQHnQ8LGFANNPslRena0CDw2C8mEN2QE9kvQjs7IFA5YBf6l3djEBEedCOaD2XQFiPIqENtqJAuL3Xpz0hrkDlvQlfK0K4QAAAAAAAiMNA",
          "dtype": "f8"
         },
         "y": [
          0.00030999873858086603,
          0.00046411903799309617,
          0.00040119396350116724,
          0.0003996591453387622,
          0.00040000981727808413,
          0.00040009422192793705,
          0.0004001719214282089,
          0.00040028082113892865,
          0.0004004520357577316,
          0.00040072792246861807,
          0.0004011722148374156,
          0.00040188768743633943,
          0.0004030399593713521,
          0.0004048958733722025,
          0.0004078855427371863,
          0.0004127026479109609,
          0.00042046690858084834,
          0.00043298815525665517,
          0.00045319819921615966,
          0.00048586661443444706,
          0.0005388083138814777,
          0.0006247174158215768,
          0.0007610434819480823,
          0.0009582870366876884,
          0.0012156790360713433,
          0.001542648168503843,
          0.001957560367390998,
          0.0024840677675662466,
          0.0031521851262679645,
          0.004
         ]
        },
        {
         "line": {
          "color": "red",
          "dash": "dash",
          "width": 2
         },
         "mode": "lines",
         "name": "an. CW",
         "type": "scatter",
         "x": {
          "bdata": "exSuR+F6hD/DxtqNNH2QP76kaCA/jZo//m2ojaxgpT+jw2I3ODaxPwUyiwgrt7s/2kvgNYpQxj/53LfQV/fRPzSyAr4l7tw/t83cQutK5z9tkLdW7sDyP/PtbMTBMv4/5YMpq0VQCECb5irDWpMTQN2VWguYhR9AjxzqkBRhKUDxl4U5AG80QI+FLhukc0BAf6nde9h9SkD1RJs1RlRVQKJQHnQ8LGFANNPslRena0CDw2C8mEN2QE9kvQjs7IFA5YBf6l3djEBEedCOaD2XQFiPIqENtqJAuL3Xpz0hrkDlvQlfK0K4QAAAAAAAiMNA",
          "dtype": "f8"
         },
         "y": [
          0.0002,
          0.0002,
          0.0002,
          0.0002,
          0.0002,
          0.0002,
          0.0002,
          0.0002,
          0.0002,
          0.0002,
          0.0002,
          0.0002,
          0.0002,
          0.0002,
          0.0002,
          0.0002,
          0.0002,
          0.0002,
          0.0002,
          0.0002,
          0.0002,
          0.0002,
          0.0002,
          0.0002,
          0.0002,
          0.0002,
          0.0002,
          0.0002,
          0.0002,
          0.0002
         ]
        }
       ],
       "layout": {
        "font": {
         "family": "CMU Serif",
         "size": 18
        },
        "height": 500,
        "legend": {
         "bgcolor": "rgba(255,255,255,0.7)",
         "bordercolor": "black",
         "borderwidth": 1,
         "font": {
          "size": 16
         },
         "x": 0.5,
         "xanchor": "center",
         "y": 0.8,
         "yanchor": "middle"
        },
        "margin": {
         "b": 80,
         "l": 80,
         "r": 20,
         "t": 40
        },
        "shapes": [
         {
          "layer": "below",
          "line": {
           "color": "limegreen",
           "dash": "dot",
           "width": 2
          },
          "type": "line",
          "x0": 0.1,
          "x1": 0.1,
          "y0": 3.5653788889515486e-06,
          "y1": 1232.8378345008448
         },
         {
          "layer": "below",
          "line": {
           "color": "limegreen",
           "dash": "dot",
           "width": 2
          },
          "type": "line",
          "x0": 100,
          "x1": 100,
          "y0": 3.5653788889515486e-06,
          "y1": 1232.8378345008448
         }
        ],
        "template": {
         "layout": {
          "font": {
           "family": "CMU Serif",
           "size": 18
          },
          "height": 500,
          "legend": {
           "bordercolor": "black",
           "borderwidth": 1,
           "font": {
            "family": "CMU Serif",
            "size": 16
           }
          },
          "margin": {
           "b": 80,
           "l": 80,
           "r": 20,
           "t": 50
          },
          "title": {
           "font": {
            "family": "CMU Serif",
            "size": 22
           }
          },
          "width": 900,
          "xaxis": {
           "tickfont": {
            "family": "CMU Serif",
            "size": 16
           },
           "title": {
            "font": {
             "family": "CMU Serif",
             "size": 20
            }
           },
           "type": "log"
          },
          "yaxis": {
           "tickfont": {
            "family": "CMU Serif",
            "size": 16
           },
           "title": {
            "font": {
             "family": "CMU Serif",
             "size": 20
            }
           },
           "type": "log"
          }
         }
        },
        "width": 800,
        "xaxis": {
         "mirror": true,
         "range": [
          -2,
          4
         ],
         "showline": true,
         "ticks": "outside",
         "ticktext": [
          "10<sup>-2</sup>",
          "10<sup>-1</sup>",
          "10<sup>0</sup>",
          "10<sup>1</sup>",
          "10<sup>2</sup>",
          "10<sup>3</sup>",
          "10<sup>4</sup>"
         ],
         "tickvals": {
          "bdata": "exSuR+F6hD+amZmZmZm5PwAAAAAAAPA/AAAAAAAAJEAAAAAAAABZQAAAAAAAQI9AAAAAAACIw0A=",
          "dtype": "f8"
         },
         "title": {
          "text": "Sample Duration (s)"
         },
         "type": "log"
        },
        "yaxis": {
         "mirror": true,
         "range": [
          -5,
          2
         ],
         "showline": true,
         "ticks": "outside",
         "ticktext": [
          "10<sup>-5</sup>",
          "10<sup>-4</sup>",
          "10<sup>-3</sup>",
          "10<sup>-2</sup>",
          "10<sup>-1</sup>",
          "10<sup>0</sup>",
          "10<sup>1</sup>",
          "10<sup>2</sup>"
         ],
         "tickvals": {
          "bdata": "8WjjiLX45D4tQxzr4jYaP/yp8dJNYlA/exSuR+F6hD+amZmZmZm5PwAAAAAAAPA/AAAAAAAAJEAAAAAAAABZQA==",
          "dtype": "f8"
         },
         "title": {
          "text": "fit amp unc (m)"
         },
         "type": "log"
        }
       }
      }
     },
     "metadata": {},
     "output_type": "display_data"
    },
    {
     "name": "stdout",
     "output_type": "stream",
     "text": [
      "[np.float64(1e-05), np.float64(0.001)]\n",
      "[-7. -6. -5. -4. -3. -2. -1.  0.]\n"
     ]
    },
    {
     "data": {
      "application/vnd.plotly.v1+json": {
       "config": {
        "plotlyServerURL": "https://plot.ly"
       },
       "data": [
        {
         "line": {
          "color": "black",
          "width": 2
         },
         "marker": {
          "size": 6
         },
         "mode": "lines+markers",
         "name": "simulation",
         "type": "scatter",
         "x": {
          "bdata": "exSuR+F6hD/DxtqNNH2QP76kaCA/jZo//m2ojaxgpT+jw2I3ODaxPwUyiwgrt7s/2kvgNYpQxj/53LfQV/fRPzSyAr4l7tw/t83cQutK5z9tkLdW7sDyP/PtbMTBMv4/5YMpq0VQCECb5irDWpMTQN2VWguYhR9AjxzqkBRhKUDxl4U5AG80QI+FLhukc0BAf6nde9h9SkD1RJs1RlRVQKJQHnQ8LGFANNPslRena0CDw2C8mEN2QE9kvQjs7IFA5YBf6l3djEBEedCOaD2XQFiPIqENtqJAuL3Xpz0hrkDlvQlfK0K4QAAAAAAAiMNA",
          "dtype": "f8"
         },
         "y": [
          0.1776642602998052,
          0.06667312967340056,
          0.02394238455332818,
          0.007621353491497707,
          0.0017285104301011578,
          0.0007652938313191269,
          0.0003969549909761134,
          0.00025013935626017785,
          0.00015159663472691956,
          9.896695311727792e-05,
          5.701078875785729e-05,
          3.7632742260965516e-05,
          2.1363026456702198e-05,
          1.4592871151900104e-05,
          7.804224537664719e-06,
          5.756323820352489e-06,
          4.226731043811454e-06,
          2.37170776872435e-06,
          1.4588057300817496e-06,
          1.2049285536929443e-06,
          1.1036236240829608e-06,
          1.0245926614663768e-06,
          1.0215589564324187e-06,
          1.310883861457541e-06,
          1.9322059621633682e-06,
          2.41466939233261e-06,
          2.7893945078680982e-06,
          3.933496400401574e-06,
          4.236568915019688e-06,
          1.096476741713067e-05
         ]
        },
        {
         "line": {
          "color": "dimgray",
          "dash": "dot"
         },
         "marker": {
          "size": 6,
          "symbol": "circle-open"
         },
         "mode": "lines+markers",
         "name": "stderr",
         "type": "scatter",
         "x": {
          "bdata": "exSuR+F6hD/DxtqNNH2QP76kaCA/jZo//m2ojaxgpT+jw2I3ODaxPwUyiwgrt7s/2kvgNYpQxj/53LfQV/fRPzSyAr4l7tw/t83cQutK5z9tkLdW7sDyP/PtbMTBMv4/5YMpq0VQCECb5irDWpMTQN2VWguYhR9AjxzqkBRhKUDxl4U5AG80QI+FLhukc0BAf6nde9h9SkD1RJs1RlRVQKJQHnQ8LGFANNPslRena0CDw2C8mEN2QE9kvQjs7IFA5YBf6l3djEBEedCOaD2XQFiPIqENtqJAuL3Xpz0hrkDlvQlfK0K4QAAAAAAAiMNA",
          "dtype": "f8"
         },
         "y": [
          0.1782785811632319,
          0.06696482417611596,
          0.02409130633611672,
          0.007705974028441401,
          0.0017303632154641565,
          0.0007877664849697201,
          0.0004158616417686146,
          0.00024361174773112438,
          0.00015564873544206194,
          9.523351526675579e-05,
          5.975681126498757e-05,
          3.6861541014209925e-05,
          2.3078398149852563e-05,
          1.4496832808032795e-05,
          9.143630417132248e-06,
          5.8187522739403185e-06,
          3.7556396397304384e-06,
          2.487201435540436e-06,
          1.711550627182515e-06,
          1.2572844998899758e-06,
          1.0243111404886063e-06,
          9.71143516228985e-07,
          1.0907797944682726e-06,
          1.3559656952006754e-06,
          1.7194221119019171e-06,
          2.1839223462698545e-06,
          2.7690888741482057e-06,
          3.513652624531343e-06,
          4.465011282244665e-06,
          1.1378441117020634e-05
         ]
        },
        {
         "line": {
          "color": "blue",
          "dash": "dash",
          "width": 2
         },
         "mode": "lines",
         "name": "an. damped",
         "type": "scatter",
         "x": {
          "bdata": "exSuR+F6hD/DxtqNNH2QP76kaCA/jZo//m2ojaxgpT+jw2I3ODaxPwUyiwgrt7s/2kvgNYpQxj/53LfQV/fRPzSyAr4l7tw/t83cQutK5z9tkLdW7sDyP/PtbMTBMv4/5YMpq0VQCECb5irDWpMTQN2VWguYhR9AjxzqkBRhKUDxl4U5AG80QI+FLhukc0BAf6nde9h9SkD1RJs1RlRVQKJQHnQ8LGFANNPslRena0CDw2C8mEN2QE9kvQjs7IFA5YBf6l3djEBEedCOaD2XQFiPIqENtqJAuL3Xpz0hrkDlvQlfK0K4QAAAAAAAiMNA",
          "dtype": "f8"
         },
         "y": [
          8.192684384388944e-06,
          8.209803152710249e-06,
          8.237395584848738e-06,
          8.282217629159361e-06,
          8.35540068114321e-06,
          8.475947099471351e-06,
          8.677375533222715e-06,
          9.022188497173248e-06,
          9.637595101263411e-06,
          1.082232884282892e-05,
          1.3475478775615805e-05,
          2.214044605466261e-05,
          0.0010502352877486312,
          1.3594131803121728e-05,
          5.367673307235409e-06,
          2.7976959390397636e-06,
          1.6453739067636558e-06,
          1.0503794573618426e-06,
          7.255988929404208e-07,
          5.513533046501718e-07,
          4.74557666638202e-07,
          4.760991531686473e-07,
          5.52465532400992e-07,
          6.915322558655709e-07,
          8.77158233868399e-07,
          1.1130785519787476e-06,
          1.4124532758818405e-06,
          1.792348125890838e-06,
          2.2744198758565836e-06,
          2.886150127292031e-06
         ]
        },
        {
         "line": {
          "color": "blue",
          "dash": "dashdot",
          "width": 2
         },
         "mode": "lines",
         "name": "an. testing",
         "type": "scatter",
         "x": {
          "bdata": "exSuR+F6hD/DxtqNNH2QP76kaCA/jZo//m2ojaxgpT+jw2I3ODaxPwUyiwgrt7s/2kvgNYpQxj/53LfQV/fRPzSyAr4l7tw/t83cQutK5z9tkLdW7sDyP/PtbMTBMv4/5YMpq0VQCECb5irDWpMTQN2VWguYhR9AjxzqkBRhKUDxl4U5AG80QI+FLhukc0BAf6nde9h9SkD1RJs1RlRVQKJQHnQ8LGFANNPslRena0CDw2C8mEN2QE9kvQjs7IFA5YBf6l3djEBEedCOaD2XQFiPIqENtqJAuL3Xpz0hrkDlvQlfK0K4QAAAAAAAiMNA",
          "dtype": "f8"
         },
         "y": [
          0.00536951449124435,
          0.00499241522258311,
          0.002680093918272029,
          0.0016580819385543437,
          0.0010306664604442049,
          0.0006402619840062932,
          0.0003977564877346951,
          0.000247146516208073,
          0.00015361368843556692,
          9.552842622820742e-05,
          5.9456765825093954e-05,
          3.7056086152075524e-05,
          2.314558763908778e-05,
          1.4508073435182493e-05,
          9.145890575099077e-06,
          5.818937430501618e-06,
          3.757912522252668e-06,
          2.4865440557857506e-06,
          1.7118357992538308e-06,
          1.2572982210150336e-06,
          1.0242709084478032e-06,
          9.711204017692284e-07,
          1.0906555086629582e-06,
          1.3557682204936734e-06,
          1.719231322392069e-06,
          2.181633961930222e-06,
          2.7684084207284078e-06,
          3.5130023267460436e-06,
          4.457862956678903e-06,
          5.65685424949238e-06
         ]
        },
        {
         "line": {
          "color": "red",
          "dash": "dash",
          "width": 2
         },
         "mode": "lines",
         "name": "an. CW",
         "type": "scatter",
         "x": {
          "bdata": "exSuR+F6hD/DxtqNNH2QP76kaCA/jZo//m2ojaxgpT+jw2I3ODaxPwUyiwgrt7s/2kvgNYpQxj/53LfQV/fRPzSyAr4l7tw/t83cQutK5z9tkLdW7sDyP/PtbMTBMv4/5YMpq0VQCECb5irDWpMTQN2VWguYhR9AjxzqkBRhKUDxl4U5AG80QI+FLhukc0BAf6nde9h9SkD1RJs1RlRVQKJQHnQ8LGFANNPslRena0CDw2C8mEN2QE9kvQjs7IFA5YBf6l3djEBEedCOaD2XQFiPIqENtqJAuL3Xpz0hrkDlvQlfK0K4QAAAAAAAiMNA",
          "dtype": "f8"
         },
         "y": [
          null,
          null,
          null,
          null,
          null,
          null,
          null,
          null,
          null,
          null,
          null,
          null,
          null,
          null,
          null,
          null,
          null,
          null,
          null,
          null,
          null,
          null,
          null,
          null,
          null,
          null,
          null,
          null,
          null,
          null
         ]
        }
       ],
       "layout": {
        "font": {
         "family": "CMU Serif",
         "size": 18
        },
        "height": 500,
        "legend": {
         "bgcolor": "rgba(255,255,255,0.7)",
         "bordercolor": "black",
         "borderwidth": 1,
         "font": {
          "size": 16
         },
         "x": 0.5,
         "xanchor": "center",
         "y": 0.8,
         "yanchor": "middle"
        },
        "margin": {
         "b": 80,
         "l": 80,
         "r": 20,
         "t": 40
        },
        "shapes": [
         {
          "layer": "below",
          "line": {
           "color": "limegreen",
           "dash": "dot",
           "width": 2
          },
          "type": "line",
          "x0": 0.1,
          "x1": 0.1,
          "y0": 1.0215589564324187e-08,
          "y1": 17.76642602998052
         },
         {
          "layer": "below",
          "line": {
           "color": "limegreen",
           "dash": "dot",
           "width": 2
          },
          "type": "line",
          "x0": 100,
          "x1": 100,
          "y0": 1.0215589564324187e-08,
          "y1": 17.76642602998052
         }
        ],
        "template": {
         "layout": {
          "font": {
           "family": "CMU Serif",
           "size": 18
          },
          "height": 500,
          "legend": {
           "bordercolor": "black",
           "borderwidth": 1,
           "font": {
            "family": "CMU Serif",
            "size": 16
           }
          },
          "margin": {
           "b": 80,
           "l": 80,
           "r": 20,
           "t": 50
          },
          "title": {
           "font": {
            "family": "CMU Serif",
            "size": 22
           }
          },
          "width": 900,
          "xaxis": {
           "tickfont": {
            "family": "CMU Serif",
            "size": 16
           },
           "title": {
            "font": {
             "family": "CMU Serif",
             "size": 20
            }
           },
           "type": "log"
          },
          "yaxis": {
           "tickfont": {
            "family": "CMU Serif",
            "size": 16
           },
           "title": {
            "font": {
             "family": "CMU Serif",
             "size": 20
            }
           },
           "type": "log"
          }
         }
        },
        "width": 800,
        "xaxis": {
         "mirror": true,
         "range": [
          -2,
          4
         ],
         "showline": true,
         "ticks": "outside",
         "ticktext": [
          "10<sup>-2</sup>",
          "10<sup>-1</sup>",
          "10<sup>0</sup>",
          "10<sup>1</sup>",
          "10<sup>2</sup>",
          "10<sup>3</sup>",
          "10<sup>4</sup>"
         ],
         "tickvals": {
          "bdata": "exSuR+F6hD+amZmZmZm5PwAAAAAAAPA/AAAAAAAAJEAAAAAAAABZQAAAAAAAQI9AAAAAAACIw0A=",
          "dtype": "f8"
         },
         "title": {
          "text": "Sample Duration (s)"
         },
         "type": "log"
        },
        "yaxis": {
         "mirror": true,
         "range": [
          -7,
          0
         ],
         "showline": true,
         "ticks": "outside",
         "ticktext": [
          "10<sup>-7</sup>",
          "10<sup>-6</sup>",
          "10<sup>-5</sup>",
          "10<sup>-4</sup>",
          "10<sup>-3</sup>",
          "10<sup>-2</sup>",
          "10<sup>-1</sup>",
          "10<sup>0</sup>"
         ],
         "tickvals": {
          "bdata": "SK+8mvLXej6N7bWg98awPvFo44i1+OQ+LUMc6+I2Gj/8qfHSTWJQP3sUrkfheoQ/mpmZmZmZuT8AAAAAAADwPw==",
          "dtype": "f8"
         },
         "title": {
          "text": "Uncertainty"
         },
         "type": "log"
        }
       }
      }
     },
     "metadata": {},
     "output_type": "display_data"
    },
    {
     "name": "stdout",
     "output_type": "stream",
     "text": [
      "[np.float64(1e-05), np.float64(0.001)]\n",
      "[-5. -4. -3.]\n"
     ]
    },
    {
     "data": {
      "application/vnd.plotly.v1+json": {
       "config": {
        "plotlyServerURL": "https://plot.ly"
       },
       "data": [
        {
         "line": {
          "color": "black",
          "width": 2
         },
         "marker": {
          "size": 6
         },
         "mode": "lines+markers",
         "name": "simulation",
         "type": "scatter",
         "x": {
          "bdata": "exSuR+F6hD/DxtqNNH2QP76kaCA/jZo//m2ojaxgpT+jw2I3ODaxPwUyiwgrt7s/2kvgNYpQxj/53LfQV/fRPzSyAr4l7tw/t83cQutK5z9tkLdW7sDyP/PtbMTBMv4/5YMpq0VQCECb5irDWpMTQN2VWguYhR9AjxzqkBRhKUDxl4U5AG80QI+FLhukc0BAf6nde9h9SkD1RJs1RlRVQKJQHnQ8LGFANNPslRena0CDw2C8mEN2QE9kvQjs7IFA5YBf6l3djEBEedCOaD2XQFiPIqENtqJAuL3Xpz0hrkDlvQlfK0K4QAAAAAAAiMNA",
          "dtype": "f8"
         },
         "y": [
          5.5793624638419215e-05,
          5.5300425628498486e-05,
          5.451215102808881e-05,
          5.255477123860402e-05,
          4.748963254383737e-05,
          4.233849340088414e-05,
          4.1817295647335704e-05,
          4.273608717687352e-05,
          3.912405981251213e-05,
          3.902465369216474e-05,
          4.0330733697237536e-05,
          4.064727667231067e-05,
          3.78896673802551e-05,
          4.074617504809084e-05,
          4.16403174431074e-05,
          3.589706384021789e-05,
          4.202878921731468e-05,
          3.729687865642541e-05,
          4.192378661326096e-05,
          5.392851215822258e-05,
          5.034188266766851e-05,
          5.672433405174697e-05,
          6.973916866609755e-05,
          9.804546515276028e-05,
          0.00011749394661676152,
          0.0001655361135354894,
          0.00018581035415017906,
          0.00023216842837479114,
          0.0003004940244272714,
          0.0004039395433022094
         ]
        },
        {
         "line": {
          "color": "dimgray",
          "dash": "dot"
         },
         "marker": {
          "size": 6,
          "symbol": "circle-open"
         },
         "mode": "lines+markers",
         "name": "stderr",
         "type": "scatter",
         "x": {
          "bdata": "exSuR+F6hD/DxtqNNH2QP76kaCA/jZo//m2ojaxgpT+jw2I3ODaxPwUyiwgrt7s/2kvgNYpQxj/53LfQV/fRPzSyAr4l7tw/t83cQutK5z9tkLdW7sDyP/PtbMTBMv4/5YMpq0VQCECb5irDWpMTQN2VWguYhR9AjxzqkBRhKUDxl4U5AG80QI+FLhukc0BAf6nde9h9SkD1RJs1RlRVQKJQHnQ8LGFANNPslRena0CDw2C8mEN2QE9kvQjs7IFA5YBf6l3djEBEedCOaD2XQFiPIqENtqJAuL3Xpz0hrkDlvQlfK0K4QAAAAAAAiMNA",
          "dtype": "f8"
         },
         "y": [
          5.65641232202627e-05,
          5.614845129889447e-05,
          5.534118399677474e-05,
          5.3409531233285805e-05,
          4.7999760887439636e-05,
          3.9516371893334046e-05,
          4.0921340488646836e-05,
          4.066794178680692e-05,
          4.008980863609918e-05,
          4.012643797283472e-05,
          3.997304303815288e-05,
          4.0156296179288004e-05,
          3.977179913213699e-05,
          4.035620113194522e-05,
          3.95373400467871e-05,
          3.9501433210645694e-05,
          3.9792308307974475e-05,
          3.952954372982776e-05,
          4.179099990820755e-05,
          4.147689078825393e-05,
          4.673604310761418e-05,
          6.370039200707303e-05,
          6.469290045846789e-05,
          8.554401969530057e-05,
          0.00010900124765799227,
          0.00014456769099987127,
          0.00018592493615562935,
          0.00022977899081979395,
          0.0002959354379766615,
          0.00037654347795695967
         ]
        },
        {
         "line": {
          "color": "blue",
          "dash": "dash",
          "width": 2
         },
         "mode": "lines",
         "name": "an. damped",
         "type": "scatter",
         "x": {
          "bdata": "exSuR+F6hD/DxtqNNH2QP76kaCA/jZo//m2ojaxgpT+jw2I3ODaxPwUyiwgrt7s/2kvgNYpQxj/53LfQV/fRPzSyAr4l7tw/t83cQutK5z9tkLdW7sDyP/PtbMTBMv4/5YMpq0VQCECb5irDWpMTQN2VWguYhR9AjxzqkBRhKUDxl4U5AG80QI+FLhukc0BAf6nde9h9SkD1RJs1RlRVQKJQHnQ8LGFANNPslRena0CDw2C8mEN2QE9kvQjs7IFA5YBf6l3djEBEedCOaD2XQFiPIqENtqJAuL3Xpz0hrkDlvQlfK0K4QAAAAAAAiMNA",
          "dtype": "f8"
         },
         "y": [
          null,
          4.018753102131314e-05,
          4.0873087364934426e-05,
          4.005882723729489e-05,
          3.9990370799324244e-05,
          4.00097044880502e-05,
          4.001765187175237e-05,
          4.0027998497154365e-05,
          4.0045190356790925e-05,
          4.0072795784894075e-05,
          4.01172217844831e-05,
          4.018876869846502e-05,
          4.030399593808618e-05,
          4.0489587336871824e-05,
          4.0788554273684286e-05,
          4.1270264791097126e-05,
          4.204669085808533e-05,
          4.3298815525665544e-05,
          4.531981992161609e-05,
          4.858666144344473e-05,
          5.388083138814778e-05,
          6.247174158215768e-05,
          7.610434819480825e-05,
          9.582870366876885e-05,
          0.00012156790360713434,
          0.0001542648168503843,
          0.00019575603673909977,
          0.0002484067767566247,
          0.0003152185126267965,
          0.0004
         ]
        },
        {
         "line": {
          "color": "blue",
          "dash": "dashdot",
          "width": 2
         },
         "mode": "lines",
         "name": "an. testing",
         "type": "scatter",
         "x": {
          "bdata": "exSuR+F6hD/DxtqNNH2QP76kaCA/jZo//m2ojaxgpT+jw2I3ODaxPwUyiwgrt7s/2kvgNYpQxj/53LfQV/fRPzSyAr4l7tw/t83cQutK5z9tkLdW7sDyP/PtbMTBMv4/5YMpq0VQCECb5irDWpMTQN2VWguYhR9AjxzqkBRhKUDxl4U5AG80QI+FLhukc0BAf6nde9h9SkD1RJs1RlRVQKJQHnQ8LGFANNPslRena0CDw2C8mEN2QE9kvQjs7IFA5YBf6l3djEBEedCOaD2XQFiPIqENtqJAuL3Xpz0hrkDlvQlfK0K4QAAAAAAAiMNA",
          "dtype": "f8"
         },
         "y": [
          3.0999873858086606e-05,
          4.641190379930962e-05,
          4.011939635011672e-05,
          3.9965914533876215e-05,
          4.000098172780841e-05,
          4.00094221927937e-05,
          4.001719214282089e-05,
          4.0028082113892865e-05,
          4.004520357577316e-05,
          4.007279224686181e-05,
          4.011722148374156e-05,
          4.0188768743633944e-05,
          4.0303995937135215e-05,
          4.048958733722025e-05,
          4.078855427371863e-05,
          4.1270264791096096e-05,
          4.2046690858084834e-05,
          4.329881552566552e-05,
          4.5319819921615965e-05,
          4.8586661443444706e-05,
          5.3880831388147765e-05,
          6.247174158215768e-05,
          7.610434819480823e-05,
          9.582870366876883e-05,
          0.00012156790360713433,
          0.0001542648168503843,
          0.00019575603673909977,
          0.00024840677675662463,
          0.00031521851262679646,
          0.00039999999999999996
         ]
        },
        {
         "line": {
          "color": "red",
          "dash": "dash",
          "width": 2
         },
         "mode": "lines",
         "name": "an. CW",
         "type": "scatter",
         "x": {
          "bdata": "exSuR+F6hD/DxtqNNH2QP76kaCA/jZo//m2ojaxgpT+jw2I3ODaxPwUyiwgrt7s/2kvgNYpQxj/53LfQV/fRPzSyAr4l7tw/t83cQutK5z9tkLdW7sDyP/PtbMTBMv4/5YMpq0VQCECb5irDWpMTQN2VWguYhR9AjxzqkBRhKUDxl4U5AG80QI+FLhukc0BAf6nde9h9SkD1RJs1RlRVQKJQHnQ8LGFANNPslRena0CDw2C8mEN2QE9kvQjs7IFA5YBf6l3djEBEedCOaD2XQFiPIqENtqJAuL3Xpz0hrkDlvQlfK0K4QAAAAAAAiMNA",
          "dtype": "f8"
         },
         "y": [
          4e-05,
          4e-05,
          4e-05,
          4e-05,
          4e-05,
          4e-05,
          4e-05,
          4e-05,
          4e-05,
          4e-05,
          4e-05,
          4e-05,
          4e-05,
          4e-05,
          4e-05,
          4e-05,
          4e-05,
          4e-05,
          4e-05,
          4e-05,
          4e-05,
          4e-05,
          4e-05,
          4e-05,
          4e-05,
          4e-05,
          4e-05,
          4e-05,
          4e-05,
          4e-05
         ]
        }
       ],
       "layout": {
        "font": {
         "family": "CMU Serif",
         "size": 18
        },
        "height": 500,
        "legend": {
         "bgcolor": "rgba(255,255,255,0.7)",
         "bordercolor": "black",
         "borderwidth": 1,
         "font": {
          "size": 16
         },
         "x": 0.5,
         "xanchor": "center",
         "y": 0.8,
         "yanchor": "middle"
        },
        "margin": {
         "b": 80,
         "l": 80,
         "r": 20,
         "t": 40
        },
        "shapes": [
         {
          "layer": "below",
          "line": {
           "color": "limegreen",
           "dash": "dot",
           "width": 2
          },
          "type": "line",
          "x0": 0.1,
          "x1": 0.1,
          "y0": 3.589706384021789e-07,
          "y1": 0.04039395433022094
         },
         {
          "layer": "below",
          "line": {
           "color": "limegreen",
           "dash": "dot",
           "width": 2
          },
          "type": "line",
          "x0": 100,
          "x1": 100,
          "y0": 3.589706384021789e-07,
          "y1": 0.04039395433022094
         }
        ],
        "template": {
         "layout": {
          "font": {
           "family": "CMU Serif",
           "size": 18
          },
          "height": 500,
          "legend": {
           "bordercolor": "black",
           "borderwidth": 1,
           "font": {
            "family": "CMU Serif",
            "size": 16
           }
          },
          "margin": {
           "b": 80,
           "l": 80,
           "r": 20,
           "t": 50
          },
          "title": {
           "font": {
            "family": "CMU Serif",
            "size": 22
           }
          },
          "width": 900,
          "xaxis": {
           "tickfont": {
            "family": "CMU Serif",
            "size": 16
           },
           "title": {
            "font": {
             "family": "CMU Serif",
             "size": 20
            }
           },
           "type": "log"
          },
          "yaxis": {
           "tickfont": {
            "family": "CMU Serif",
            "size": 16
           },
           "title": {
            "font": {
             "family": "CMU Serif",
             "size": 20
            }
           },
           "type": "log"
          }
         }
        },
        "width": 800,
        "xaxis": {
         "mirror": true,
         "range": [
          -2,
          4
         ],
         "showline": true,
         "ticks": "outside",
         "ticktext": [
          "10<sup>-2</sup>",
          "10<sup>-1</sup>",
          "10<sup>0</sup>",
          "10<sup>1</sup>",
          "10<sup>2</sup>",
          "10<sup>3</sup>",
          "10<sup>4</sup>"
         ],
         "tickvals": {
          "bdata": "exSuR+F6hD+amZmZmZm5PwAAAAAAAPA/AAAAAAAAJEAAAAAAAABZQAAAAAAAQI9AAAAAAACIw0A=",
          "dtype": "f8"
         },
         "title": {
          "text": "Sample Duration (s)"
         },
         "type": "log"
        },
        "yaxis": {
         "mirror": true,
         "range": [
          -5,
          -3
         ],
         "showline": true,
         "ticks": "outside",
         "ticktext": [
          "10<sup>-5</sup>",
          "10<sup>-4</sup>",
          "10<sup>-3</sup>"
         ],
         "tickvals": {
          "bdata": "8WjjiLX45D4tQxzr4jYaP/yp8dJNYlA/",
          "dtype": "f8"
         },
         "title": {
          "text": "Uncertainty"
         },
         "type": "log"
        }
       }
      }
     },
     "metadata": {},
     "output_type": "display_data"
    }
   ],
   "source": [
    "from tkinter import Y\n",
    "import numpy as np\n",
    "\n",
    "x_min = min(durations)\n",
    "x_max = max(durations)\n",
    "\n",
    "y_min_rounded = np.floor(np.log10(x_min))\n",
    "y_max_rounded = np.ceil(np.log10(x_max))\n",
    "# Define major tick positions\n",
    "x_range_log = [np.log10(x_min), np.log10(x_max)]\n",
    "x_major_ticks = np.arange(y_min_rounded, y_max_rounded + 1, 1)\n",
    "print(x_major_ticks)\n",
    "x_tick_labels = [str_utils.make_plotly_power_ten(int(v)) for v in x_major_ticks]\n",
    "print(x_tick_labels)\n",
    "\n",
    "for key in true_params:\n",
    "    fig = go.Figure()\n",
    "\n",
    "    fig.add_trace(\n",
    "        go.Scatter(\n",
    "            x=durations,\n",
    "            y=rmse_results[key],\n",
    "            mode=\"lines+markers\",\n",
    "            name=\"simulation\",\n",
    "            line=dict(color=\"black\", width=2),\n",
    "            marker=dict(size=6),\n",
    "        )\n",
    "    )\n",
    "\n",
    "    # fig.add_trace(go.Scatter(\n",
    "    #     x=durations, y=stderr_results[key],\n",
    "    #     mode=\"lines+markers\",\n",
    "    #     name=\"stderr\",\n",
    "    #     line=dict(dash=\"dot\", color=\"dimgray\"),\n",
    "    #     marker=dict(size=6, symbol=\"circle-open\")\n",
    "    # ))\n",
    "\n",
    "    fig.add_trace(\n",
    "        go.Scatter(\n",
    "            x=durations,\n",
    "            y=theory_curves[key],\n",
    "            mode=\"lines\",\n",
    "            name=\"an. damped\",\n",
    "            line=dict(dash=\"dash\", color=\"blue\", width=2),\n",
    "        )\n",
    "    )\n",
    "\n",
    "    fig.add_trace(\n",
    "        go.Scatter(\n",
    "            x=durations,\n",
    "            y=theory_testing_curves[key],\n",
    "            mode=\"lines\",\n",
    "            name=\"an. testing\",\n",
    "            line=dict(dash=\"dashdot\", color=\"blue\", width=2),\n",
    "        )\n",
    "    )\n",
    "\n",
    "    fig.add_trace(\n",
    "        go.Scatter(\n",
    "            x=durations,\n",
    "            y=theory_undamped_curves[key],\n",
    "            mode=\"lines\",\n",
    "            name=\"an. CW\",\n",
    "            line=dict(dash=\"dash\", color=\"red\", width=2),\n",
    "        )\n",
    "    )\n",
    "\n",
    "    osc_period = 1 / true_params[\"frequency\"]\n",
    "    damping_time = 1 / true_params[\"damping_rate\"]\n",
    "    for vline in [osc_period, damping_time]:\n",
    "        fig.add_shape(\n",
    "            type=\"line\",\n",
    "            x0=vline,\n",
    "            x1=vline,\n",
    "            y0=min(rmse_results[key]) * 0.01,\n",
    "            y1=max(rmse_results[key]) * 100,\n",
    "            line=dict(color=\"limegreen\", dash=\"dot\", width=2),\n",
    "            layer=\"below\",\n",
    "        )\n",
    "\n",
    "    y_max = max(rmse_results[key])\n",
    "    y_min = min(rmse_results[key])\n",
    "    y_max_rounded = np.ceil(np.log10(y_max))\n",
    "    y_min_rounded = np.floor(np.log10(y_min))\n",
    "    if y_max_rounded - y_min_rounded > 3:\n",
    "        y_min_rounded = y_min_rounded - 1\n",
    "    y_range_log = [y_min_rounded, y_max_rounded]\n",
    "    print(y_range)\n",
    "    num_decades = y_max_rounded - y_min_rounded\n",
    "    y_major_ticks = np.arange(y_min_rounded, y_max_rounded + 1, 1)\n",
    "    print(y_major_ticks)\n",
    "\n",
    "    y_tick_labels = [str_utils.make_plotly_power_ten(int(v)) for v in y_major_ticks]\n",
    "\n",
    "    fig.update_layout(\n",
    "        xaxis=dict(\n",
    "            range=x_range_log,\n",
    "            type=\"log\",\n",
    "            tickvals=10**x_major_ticks,\n",
    "            ticktext=x_tick_labels,\n",
    "            title=\"Sample Duration (s)\",\n",
    "            ticks=\"outside\",\n",
    "            showline=True,\n",
    "            mirror=True,\n",
    "        ),\n",
    "        yaxis=dict(\n",
    "            range=y_range_log,\n",
    "            type=\"log\",\n",
    "            tickvals=10**y_major_ticks,\n",
    "            ticktext=y_tick_labels,\n",
    "            title=\"fit amp unc (m)\" if key == \"amplitude\" else \"Uncertainty\",\n",
    "            ticks=\"outside\",\n",
    "            showline=True,\n",
    "            mirror=True,\n",
    "        ),\n",
    "        font=dict(family=\"CMU Serif\", size=18),\n",
    "        legend=dict(\n",
    "            x=0.5,\n",
    "            y=0.8,\n",
    "            xanchor=\"center\",\n",
    "            yanchor=\"middle\",\n",
    "            bgcolor=\"rgba(255,255,255,0.7)\",  # semi-transparent white background,\n",
    "            font=dict(size=16),\n",
    "            bordercolor=\"black\",\n",
    "            borderwidth=1,\n",
    "        ),\n",
    "        width=800,\n",
    "        height=500,\n",
    "        margin=dict(l=80, r=20, t=40, b=80),\n",
    "    )\n",
    "\n",
    "    # Add minor ticks\n",
    "    # add_minor_log_ticks(fig, \"x\", (min(durations), max(durations)))\n",
    "    # add_minor_log_ticks(fig, \"y\", (min(y_major_ticks), max(y_major_ticks)))\n",
    "\n",
    "    fig.show()"
   ]
  },
  {
   "cell_type": "code",
   "execution_count": 23,
   "id": "86dd6f62",
   "metadata": {},
   "outputs": [
    {
     "ename": "ModuleNotFoundError",
     "evalue": "No module named 'matplotlib'",
     "output_type": "error",
     "traceback": [
      "\u001b[0;31m---------------------------------------------------------------------------\u001b[0m",
      "\u001b[0;31mModuleNotFoundError\u001b[0m                       Traceback (most recent call last)",
      "Cell \u001b[0;32mIn[23], line 1\u001b[0m\n\u001b[0;32m----> 1\u001b[0m \u001b[38;5;28;01mimport\u001b[39;00m\u001b[38;5;250m \u001b[39m\u001b[38;5;21;01mmatplotlib\u001b[39;00m\u001b[38;5;21;01m.\u001b[39;00m\u001b[38;5;21;01mfont_manager\u001b[39;00m\n\u001b[1;32m      2\u001b[0m \u001b[38;5;28;01mfrom\u001b[39;00m\u001b[38;5;250m \u001b[39m\u001b[38;5;21;01mIPython\u001b[39;00m\u001b[38;5;21;01m.\u001b[39;00m\u001b[38;5;21;01mcore\u001b[39;00m\u001b[38;5;21;01m.\u001b[39;00m\u001b[38;5;21;01mdisplay\u001b[39;00m\u001b[38;5;250m \u001b[39m\u001b[38;5;28;01mimport\u001b[39;00m HTML\n\u001b[1;32m      5\u001b[0m \u001b[38;5;28;01mdef\u001b[39;00m\u001b[38;5;250m \u001b[39m\u001b[38;5;21mmake_html\u001b[39m(fontname):\n",
      "\u001b[0;31mModuleNotFoundError\u001b[0m: No module named 'matplotlib'"
     ]
    }
   ],
   "source": [
    "import matplotlib.font_manager\n",
    "from IPython.core.display import HTML\n",
    "\n",
    "\n",
    "def make_html(fontname):\n",
    "    return \"<p>{font}: <span style='font-family:{font}; font-size: 24px;'>{font}</p>\".format(\n",
    "        font=fontname\n",
    "    )\n",
    "\n",
    "\n",
    "code = \"\\n\".join(\n",
    "    [\n",
    "        make_html(font)\n",
    "        for font in sorted(\n",
    "            set([f.name for f in matplotlib.font_manager.fontManager.ttflist])\n",
    "        )\n",
    "    ]\n",
    ")\n",
    "\n",
    "HTML(\"<div style='column-count: 2;'>{}</div>\".format(code))"
   ]
  },
  {
   "cell_type": "code",
   "execution_count": null,
   "id": "892d6152",
   "metadata": {},
   "outputs": [],
   "source": []
  }
 ],
 "metadata": {
  "kernelspec": {
   "display_name": "Python 3",
   "language": "python",
   "name": "python3"
  },
  "language_info": {
   "codemirror_mode": {
    "name": "ipython",
    "version": 3
   },
   "file_extension": ".py",
   "mimetype": "text/x-python",
   "name": "python",
   "nbconvert_exporter": "python",
   "pygments_lexer": "ipython3",
   "version": "3.13.5"
  }
 },
 "nbformat": 4,
 "nbformat_minor": 5
}
