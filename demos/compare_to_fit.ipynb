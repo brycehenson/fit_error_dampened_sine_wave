{
 "cells": [
  {
   "cell_type": "code",
   "execution_count": null,
   "id": "c352ae14",
   "metadata": {},
   "outputs": [],
   "source": []
  },
  {
   "cell_type": "code",
   "execution_count": 1,
   "id": "6537e580",
   "metadata": {},
   "outputs": [],
   "source": [
    "import numpy as np\n",
    "import plotly.graph_objects as go\n",
    "from typing import Dict"
   ]
  },
  {
   "cell_type": "code",
   "execution_count": null,
   "id": "c0f559d8",
   "metadata": {},
   "outputs": [
    {
     "data": {
      "application/vnd.plotly.v1+json": {
       "config": {
        "plotlyServerURL": "https://plot.ly"
       },
       "data": [
        {
         "mode": "lines",
         "name": "fun",
         "type": "scatter",
         "x": {
          "bdata": "AAAAAAAAAAACSAHNIICEPwJIAc0ggJQ/A+yBMzHAnj8CSAHNIICkPwKaQQApoKk/A+yBMzHArj8CH2GzHPCxPwJIAc0ggLQ/AnGh5iQQtz8CmkEAKaC5PwPD4RktMLw/A+yBMzHAvj+CCpGmGqjAPwIfYbMc8ME/gjMxwB44wz8CSAHNIIDEP4Jc0dkiyMU/AnGh5iQQxz+ChXHzJljIPwKaQQApoMk/g64RDSvoyj8Dw+EZLTDMP4PXsSYveM0/A+yBMzHAzj9CACmgGQTQP4IKkaYaqNA/whT5rBtM0T8CH2GzHPDRP0IpybkdlNI/gjMxwB440z/CPZnGH9zTPwJIAc0ggNQ/QlJp0yEk1T+CXNHZIsjVP8JmOeAjbNY/AnGh5iQQ1z9CewntJbTXP4KFcfMmWNg/wo/Z+Sf82D8CmkEAKaDZP0OkqQYqRNo/g64RDSvo2j/DuHkTLIzbPwPD4RktMNw/Q81JIC7U3D+D17EmL3jdP8PhGS0wHN4/A+yBMzHA3j9D9uk5MmTfP0IAKaAZBOA/YgVdIxpW4D+CCpGmGqjgP6IPxSkb+uA/whT5rBtM4T/iGS0wHJ7hPwIfYbMc8OE/IiSVNh1C4j9CKcm5HZTiP2Iu/Twe5uI/gjMxwB444z+iOGVDH4rjP8I9mcYf3OM/4kLNSSAu5D8CSAHNIIDkPyJNNVAh0uQ/QlJp0yEk5T9iV51WInblP4Jc0dkiyOU/omEFXSMa5j/CZjngI2zmP+JrbWMkvuY/AnGh5iQQ5z8idtVpJWLnP0J7Ce0ltOc/YoA9cCYG6D+ChXHzJljoP6KKpXYnqug/wo/Z+Sf86D/ilA19KE7pPwKaQQApoOk/I591gyny6T9DpKkGKkTqP2Op3Ykqluo/g64RDSvo6j+js0WQKzrrP8O4eRMsjOs/472tlize6z8Dw+EZLTDsPyPIFZ0tguw/Q81JIC7U7D9j0n2jLibtP4PXsSYveO0/o9zlqS/K7T/D4RktMBzuP+PmTbAwbu4/A+yBMzHA7j8j8bW2MRLvP0P26TkyZO8/Y/sdvTK27z9CACmgGQTwP9ICw+EZLfA/YgVdIxpW8D/yB/dkGn/wP4IKkaYaqPA/Eg0r6BrR8D+iD8UpG/rwPzISX2sbI/E/whT5rBtM8T9SF5PuG3XxP+IZLTAcnvE/chzHcRzH8T8CH2GzHPDxP5Ih+/QcGfI/IiSVNh1C8j+yJi94HWvyP0IpybkdlPI/0itj+x298j9iLv08HubyP/Iwl34eD/M/gjMxwB448z8SNssBH2HzP6I4ZUMfivM/Mjv/hB+z8z/CPZnGH9zzP1JAMwggBfQ/4kLNSSAu9D9yRWeLIFf0PwJIAc0ggPQ/kkqbDiGp9D8iTTVQIdL0P7JPz5Eh+/Q/QlJp0yEk9T/SVAMVIk31P2JXnVYidvU/8lk3mCKf9T+CXNHZIsj1PxJfaxsj8fU/omEFXSMa9j8yZJ+eI0P2P8JmOeAjbPY/UmnTISSV9j/ia21jJL72P3JuB6Uk5/Y/AnGh5iQQ9z+SczsoJTn3PyJ21WklYvc/snhvqyWL9z9CewntJbT3P9J9oy4m3fc/YoA9cCYG+D/ygtexJi/4P4KFcfMmWPg/EogLNSeB+D+iiqV2J6r4PzKNP7gn0/g/wo/Z+Sf8+D9SknM7KCX5P+KUDX0oTvk/cpenvih3+T8CmkEAKaD5P5Oc20Epyfk/I591gyny+T+zoQ/FKRv6P0OkqQYqRPo/06ZDSCpt+j9jqd2JKpb6P/Ord8sqv/o/g64RDSvo+j8TsatOKxH7P6OzRZArOvs/M7bf0Stj+z/DuHkTLIz7P1O7E1Ustfs/472tlize+z9zwEfYLAf8PwPD4RktMPw/k8V7Wy1Z/D8jyBWdLYL8P7PKr94tq/w/Q81JIC7U/D/Tz+NhLv38P2PSfaMuJv0/89QX5S5P/T+D17EmL3j9PxPaS2gvof0/o9zlqS/K/T8z33/rL/P9P8PhGS0wHP4/U+SzbjBF/j/j5k2wMG7+P3Pp5/Ewl/4/A+yBMzHA/j+T7ht1Men+PyPxtbYxEv8/s/NP+DE7/z9D9uk5MmT/P9P4g3syjf8/Y/sdvTK2/z/z/bf+Mt//P0IAKaAZBABAigH2wJkYAEDSAsPhGS0AQBoEkAKaQQBAYgVdIxpWAECqBipEmmoAQPIH92QafwBAOgnEhZqTAECCCpGmGqgAQMoLXseavABAEg0r6BrRAEBaDvgIm+UAQKIPxSkb+gBA6hCSSpsOAUAyEl9rGyMBQHoTLIybNwFAwhT5rBtMAUAKFsbNm2ABQFIXk+4bdQFAmhhgD5yJAUDiGS0wHJ4BQCob+lCcsgFAchzHcRzHAUC6HZSSnNsBQAIfYbMc8AFASiAu1JwEAkCSIfv0HBkCQNoiyBWdLQJAIiSVNh1CAkBqJWJXnVYCQLImL3gdawJA+if8mJ1/AkBCKcm5HZQCQIoqltqdqAJA0itj+x29AkAaLTAcntECQGIu/Twe5gJAqi/KXZ76AkDyMJd+Hg8DQDoyZJ+eIwNAgjMxwB44A0DKNP7gnkwDQBI2ywEfYQNAWjeYIp91A0CiOGVDH4oDQOo5MmSfngNAMjv/hB+zA0B6PMyln8cDQMI9mcYf3ANACj9m55/wA0BSQDMIIAUEQJpBACmgGQRA4kLNSSAuBEAqRJpqoEIEQHJFZ4sgVwRAukY0rKBrBEACSAHNIIAEQEpJzu2glARAkkqbDiGpBEDaS2gvob0EQCJNNVAh0gRAak4CcaHmBECyT8+RIfsEQPpQnLKhDwVAQlJp0yEkBUCKUzb0oTgFQNJUAxUiTQVAGlbQNaJhBUBiV51WInYFQKpYaneiigVA8lk3mCKfBUA6WwS5orMFQIJc0dkiyAVAyl2e+qLcBUASX2sbI/EFQFpgODyjBQZAomEFXSMaBkDqYtJ9oy4GQDJkn54jQwZAemVsv6NXBkDCZjngI2wGQApoBgGkgAZAUmnTISSVBkCaaqBCpKkGQOJrbWMkvgZAKm06hKTSBkBybgelJOcGQLpv1MWk+wZAAnGh5iQQB0BKcm4HpSQHQJJzOyglOQdA2nQISaVNB0AidtVpJWIHQGp3ooqldgdAsnhvqyWLB0D6eTzMpZ8HQEJ7Ce0ltAdAinzWDabIB0DSfaMuJt0HQBp/cE+m8QdAYoA9cCYGCECqgQqRphoIQPKC17EmLwhAOoSk0qZDCECChXHzJlgIQMqGPhSnbAhAEogLNSeBCEBaidhVp5UIQKKKpXYnqghA6otyl6e+CEAyjT+4J9MIQHqODNmn5whAwo/Z+Sf8CEAKkaYaqBAJQFKSczsoJQlAmpNAXKg5CUDilA19KE4JQCqW2p2oYglAcpenvih3CUC6mHTfqIsJQAKaQQApoAlAS5sOIam0CUCTnNtBKckJQNudqGKp3QlAI591gynyCUBroEKkqQYKQLOhD8UpGwpA+6Lc5akvCkBDpKkGKkQKQIuldieqWApA06ZDSCptCkAbqBBpqoEKQGOp3YkqlgpAq6qqqqqqCkDzq3fLKr8KQDutROyq0wpAg64RDSvoCkDLr94tq/wKQBOxq04rEQtAW7J4b6slC0Cjs0WQKzoLQOu0ErGrTgtAM7bf0StjC0B7t6zyq3cLQMO4eRMsjAtAC7pGNKygC0BTuxNVLLULQJu84HWsyQtA472tlizeC0Arv3q3rPILQHPAR9gsBwxAu8EU+awbDEADw+EZLTAMQEvErjqtRAxAk8V7Wy1ZDEDbxkh8rW0MQCPIFZ0tggxAa8niva2WDECzyq/eLasMQPvLfP+tvwxAQ81JIC7UDECLzhZBrugMQNPP42Eu/QxAG9Gwgq4RDUBj0n2jLiYNQKvTSsSuOg1A89QX5S5PDUA71uQFr2MNQIPXsSYveA1Ay9h+R6+MDUAT2ktoL6ENQFvbGImvtQ1Ao9zlqS/KDUDr3bLKr94NQDPff+sv8w1Ae+BMDLAHDkDD4RktMBwOQAvj5k2wMA5AU+SzbjBFDkCb5YCPsFkOQOPmTbAwbg5AK+ga0bCCDkBz6efxMJcOQLvqtBKxqw5AA+yBMzHADkBL7U5UsdQOQJPuG3Ux6Q5A2+/olbH9DkAj8bW2MRIPQGvygtexJg9As/NP+DE7D0D79BwZsk8PQEP26TkyZA9Ai/e2WrJ4D0DT+IN7Mo0PQBv6UJyyoQ9AY/sdvTK2D0Cr/OrdssoPQPP9t/4y3w9AO/+EH7PzD0BCACmgGQQQQOaAj7BZDhBAigH2wJkYEEAuglzR2SIQQNICw+EZLRBAdoMp8lk3EEAaBJACmkEQQL6E9hLaSxBAYgVdIxpWEEAGhsMzWmAQQKoGKkSaahBAToeQVNp0EEDyB/dkGn8QQJaIXXVaiRBAOgnEhZqTEEDeiSqW2p0QQIIKkaYaqBBAJov3tlqyEEDKC17HmrwQQG6MxNfaxhBAEg0r6BrREEC2jZH4WtsQQFoO+Aib5RBA/o5eGdvvEECiD8UpG/oQQEaQKzpbBBFA6hCSSpsOEUCOkfha2xgRQDISX2sbIxFA1pLFe1stEUB6EyyMmzcRQB6UkpzbQRFAwhT5rBtMEUBmlV+9W1YRQAoWxs2bYBFArpYs3ttqEUBSF5PuG3URQPaX+f5bfxFAmhhgD5yJEUA+mcYf3JMRQOIZLTAcnhFAhpqTQFyoEUAqG/pQnLIRQM6bYGHcvBFAchzHcRzHEUAWnS2CXNERQLodlJKc2xFAXp76otzlEUACH2GzHPARQKafx8Nc+hFASiAu1JwEEkDuoJTk3A4SQJIh+/QcGRJANqJhBV0jEkDaIsgVnS0SQH6jLibdNxJAIiSVNh1CEkDGpPtGXUwSQGolYledVhJADqbIZ91gEkCyJi94HWsSQFanlYhddRJA+if8mJ1/EkCeqGKp3YkSQEIpybkdlBJA5qkvyl2eEkCKKpbanagSQC6r/OrdshJA0itj+x29EkB2rMkLXscSQBotMBye0RJAvq2WLN7bEkBiLv08HuYSQAavY01e8BJAqi/KXZ76EkBOsDBu3gQTQPIwl34eDxNAlrH9jl4ZE0A6MmSfniMTQN6yyq/eLRNAgjMxwB44E0AmtJfQXkITQMo0/uCeTBNAbrVk8d5WE0ASNssBH2ETQLa2MRJfaxNAWjeYIp91E0D+t/4y338TQKI4ZUMfihNARrnLU1+UE0DqOTJkn54TQI66mHTfqBNAMjv/hB+zE0DWu2WVX70TQHo8zKWfxxNAHr0ytt/RE0DCPZnGH9wTQGa+/9Zf5hNACj9m55/wE0Cuv8z33/oTQFJAMwggBRRA9sCZGGAPFECaQQApoBkUQD7CZjngIxRA4kLNSSAuFECGwzNaYDgUQCpEmmqgQhRAzsQAe+BMFEByRWeLIFcUQBbGzZtgYRRAukY0rKBrFEBex5q84HUUQAJIAc0ggBRApshn3WCKFEBKSc7toJQUQO7JNP7gnhRAkkqbDiGpFEA2ywEfYbMUQNpLaC+hvRRAfszOP+HHFEAiTTVQIdIUQMbNm2Bh3BRAak4CcaHmFEAOz2iB4fAUQLJPz5Eh+xRAVtA1omEFFUD6UJyyoQ8VQJ7RAsPhGRVAQlJp0yEkFUDm0s/jYS4VQIpTNvShOBVALtScBOJCFUDSVAMVIk0VQHbVaSViVxVAGlbQNaJhFUC+1jZG4msVQGJXnVYidhVABtgDZ2KAFUCqWGp3oooVQE7Z0IfilBVA8lk3mCKfFUCW2p2oYqkVQDpbBLmisxVA3ttqyeK9FUCCXNHZIsgVQCbdN+pi0hVAyl2e+qLcFUBu3gQL4+YVQBJfaxsj8RVAtt/RK2P7FUBaYDg8owUWQP7gnkzjDxZAomEFXSMaFkBG4mttYyQWQOpi0n2jLhZAjuM4juM4FkAyZJ+eI0MWQNbkBa9jTRZAemVsv6NXFkAe5tLP42EWQMJmOeAjbBZAZuef8GN2FkAKaAYBpIAWQK7obBHkihZAUmnTISSVFkD26TkyZJ8WQJpqoEKkqRZAPusGU+SzFkDia21jJL4WQIbs03NkyBZAKm06hKTSFkDO7aCU5NwWQHJuB6Uk5xZAFu9ttWTxFkC6b9TFpPsWQF7wOtbkBRdAAnGh5iQQF0Cm8Qf3ZBoXQEpybgelJBdA7vLUF+UuF0CSczsoJTkXQDb0oThlQxdA2nQISaVNF0B+9W5Z5VcXQCJ21WklYhdAxvY7emVsF0Bqd6KKpXYXQA74CJvlgBdAsnhvqyWLF0BW+dW7ZZUXQPp5PMylnxdAnvqi3OWpF0BCewntJbQXQOb7b/1lvhdAinzWDabIF0Au/Twe5tIXQNJ9oy4m3RdAdv4JP2bnF0Aaf3BPpvEXQL7/1l/m+xdAYoA9cCYGGEAGAaSAZhAYQKqBCpGmGhhATgJxoeYkGEDygtexJi8YQJYDPsJmORhAOoSk0qZDGEDeBAvj5k0YQIKFcfMmWBhAJgbYA2diGEDKhj4Up2wYQG4HpSTndhhAEogLNSeBGEC2CHJFZ4sYQFqJ2FWnlRhA/gk/ZuefGECiiqV2J6oYQEYLDIdntBhA6otyl6e+GECODNmn58gYQDKNP7gn0xhA1g2myGfdGEB6jgzZp+cYQB4Pc+nn8RhAwo/Z+Sf8GEBmEEAKaAYZQAqRphqoEBlArhENK+gaGUBSknM7KCUZQPYS2ktoLxlAmpNAXKg5GUA+FKds6EMZQOKUDX0oThlAhhV0jWhYGUAqltqdqGIZQM4WQa7obBlAcpenvih3GUAWGA7PaIEZQLqYdN+oixlAXhnb7+iVGUACmkEAKaAZQKcaqBBpqhlAS5sOIam0GUDvG3Ux6b4ZQJOc20EpyRlANx1CUmnTGUDbnahiqd0ZQH8eD3Pp5xlAI591gynyGUDHH9yTafwZQGugQqSpBhpADyGptOkQGkCzoQ/FKRsaQFcidtVpJRpA+6Lc5akvGkCfI0P26TkaQEOkqQYqRBpA5yQQF2pOGkCLpXYnqlgaQC8m3TfqYhpA06ZDSCptGkB3J6pYancaQBuoEGmqgRpAvyh3eeqLGkBjqd2JKpYaQAcqRJpqoBpAq6qqqqqqGkBPKxG76rQaQPOrd8sqvxpAlyze22rJGkA7rUTsqtMaQN8tq/zq3RpAg64RDSvoGkAnL3gda/IaQMuv3i2r/BpAbzBFPusGG0ATsatOKxEbQLcxEl9rGxtAW7J4b6slG0D/Mt9/6y8bQKOzRZArOhtARzSsoGtEG0DrtBKxq04bQI81ecHrWBtAM7bf0StjG0DXNkbia20bQHu3rPKrdxtAHzgTA+yBG0DDuHkTLIwbQGc54CNslhtAC7pGNKygG0CvOq1E7KobQFO7E1UstRtA9zt6ZWy/G0CbvOB1rMkbQD89R4bs0xtA472tlizeG0CHPhSnbOgbQCu/eres8htAzz/hx+z8G0BzwEfYLAccQBdBruhsERxAu8EU+awbHEBfQnsJ7SUcQAPD4RktMBxAp0NIKm06HEBLxK46rUQcQO9EFUvtThxAk8V7Wy1ZHEA3RuJrbWMcQNvGSHytbRxAf0evjO13HEAjyBWdLYIcQMdIfK1tjBxAa8niva2WHEAPSknO7aAcQLPKr94tqxxAV0sW7221HED7y3z/rb8cQJ9M4w/uyRxAQ81JIC7UHEDnTbAwbt4cQIvOFkGu6BxAL099Ue7yHEDTz+NhLv0cQHdQSnJuBx1AG9Gwgq4RHUC/UReT7hsdQGPSfaMuJh1AB1Pks24wHUCr00rErjodQE9UsdTuRB1A89QX5S5PHUCXVX71blkdQDvW5AWvYx1A31ZLFu9tHUCD17EmL3gdQCdYGDdvgh1Ay9h+R6+MHUBvWeVX75YdQBPaS2gvoR1At1qyeG+rHUBb2xiJr7UdQP9bf5nvvx1Ao9zlqS/KHUBHXUy6b9QdQOvdssqv3h1Aj14Z2+/oHUAz33/rL/MdQNdf5vtv/R1Ae+BMDLAHHkAfYbMc8BEeQMPhGS0wHB5AZ2KAPXAmHkAL4+ZNsDAeQK9jTV7wOh5AU+SzbjBFHkD3ZBp/cE8eQJvlgI+wWR5AP2bnn/BjHkDj5k2wMG4eQIdntMBweB5AK+ga0bCCHkDPaIHh8IweQHPp5/Ewlx5AF2pOAnGhHkC76rQSsaseQF9rGyPxtR5AA+yBMzHAHkCnbOhDccoeQEvtTlSx1B5A7221ZPHeHkCT7ht1MekeQDdvgoVx8x5A2+/olbH9HkB/cE+m8QcfQCPxtbYxEh9Ax3Ecx3EcH0Br8oLXsSYfQA9z6efxMB9As/NP+DE7H0BXdLYIckUfQPv0HBmyTx9An3WDKfJZH0BD9uk5MmQfQOd2UEpybh9Ai/e2WrJ4H0AveB1r8oIfQNP4g3syjR9Ad3nqi3KXH0Ab+lCcsqEfQL96t6zyqx9AY/sdvTK2H0AHfITNcsAfQKv86t2yyh9AT31R7vLUH0Dz/bf+Mt8fQJd+Hg9z6R9AO/+EH7PzH0Dff+sv8/0fQEIAKaAZBCBAlEBcqDkJIEDmgI+wWQ4gQDjBwrh5EyBAigH2wJkYIEDcQSnJuR0gQC6CXNHZIiBAgMKP2fknIEDSAsPhGS0gQCRD9uk5MiBAdoMp8lk3IEDIw1z6eTwgQBoEkAKaQSBAbETDCrpGIEC+hPYS2ksgQBDFKRv6UCBAYgVdIxpWIEC0RZArOlsgQAaGwzNaYCBAWMb2O3plIECqBipEmmogQPxGXUy6byBAToeQVNp0IECgx8Nc+nkgQPIH92QafyBAREgqbTqEIECWiF11WokgQOjIkH16jiBAOgnEhZqTIECMSfeNupggQN6JKpbanSBAMMpdnvqiIECCCpGmGqggQNRKxK46rSBAJov3tlqyIEB4yyq/ercgQMoLXseavCBAHEyRz7rBIEBujMTX2sYgQMDM99/6yyBAEg0r6BrRIEBkTV7wOtYgQLaNkfha2yBACM7EAHvgIEBaDvgIm+UgQKxOKxG76iBA/o5eGdvvIEBQz5Eh+/QgQKIPxSkb+iBA9E/4MTv/IEBGkCs6WwQhQJjQXkJ7CSFA6hCSSpsOIUA8UcVSuxMhQI6R+FrbGCFA4NErY/sdIUAyEl9rGyMhQIRSknM7KCFA1pLFe1stIUAo0/iDezIhQHoTLIybNyFAzFNflLs8IUAelJKc20EhQHDUxaT7RiFAwhT5rBtMIUAUVSy1O1EhQGaVX71bViFAuNWSxXtbIUAKFsbNm2AhQFxW+dW7ZSFArpYs3ttqIUAA11/m+28hQFIXk+4bdSFApFfG9jt6IUD2l/n+W38hQEjYLAd8hCFAmhhgD5yJIUDsWJMXvI4hQD6Zxh/ckyFAkNn5J/yYIUDiGS0wHJ4hQDRaYDg8oyFAhpqTQFyoIUDY2sZIfK0hQCob+lCcsiFAfFstWby3IUDOm2Bh3LwhQCDck2n8wSFAchzHcRzHIUDEXPp5PMwhQBadLYJc0SFAaN1ginzWIUC6HZSSnNshQAxex5q84CFAXp76otzlIUCw3i2r/OohQAIfYbMc8CFAVF+Uuzz1IUCmn8fDXPohQPjf+st8/yFASiAu1JwEIkCcYGHcvAkiQO6glOTcDiJAQOHH7PwTIkCSIfv0HBkiQORhLv08HiJANqJhBV0jIkCI4pQNfSgiQNoiyBWdLSJALGP7Hb0yIkB+oy4m3TciQNDjYS79PCJAIiSVNh1CIkB0ZMg+PUciQMak+0ZdTCJAGOUuT31RIkBqJWJXnVYiQLxllV+9WyJADqbIZ91gIkBg5vtv/WUiQLImL3gdayJABGdigD1wIkBWp5WIXXUiQKjnyJB9eiJA+if8mJ1/IkBMaC+hvYQiQJ6oYqndiSJA8OiVsf2OIkBCKcm5HZQiQJRp/ME9mSJA5qkvyl2eIkA46mLSfaMiQIoqltqdqCJA3GrJ4r2tIkAuq/zq3bIiQIDrL/P9tyJA0itj+x29IkAkbJYDPsIiQHasyQtexyJAyOz8E37MIkAaLTAcntEiQGxtYyS+1iJAvq2WLN7bIkAQ7sk0/uAiQGIu/Twe5iJAtG4wRT7rIkAGr2NNXvAiQFjvllV+9SJAqi/KXZ76IkD8b/1lvv8iQE6wMG7eBCNAoPBjdv4JI0DyMJd+Hg8jQERxyoY+FCNAlrH9jl4ZI0Do8TCXfh4jQDoyZJ+eIyNAjHKXp74oI0Dessqv3i0jQDDz/bf+MiNAgjMxwB44I0DUc2TIPj0jQCa0l9BeQiNAePTK2H5HI0DKNP7gnkwjQBx1Mem+USNAbrVk8d5WI0DA9Zf5/lsjQBI2ywEfYSNAZHb+CT9mI0C2tjESX2sjQAj3ZBp/cCNAWjeYIp91I0Csd8sqv3ojQP63/jLffyNAUPgxO/+EI0CiOGVDH4ojQPR4mEs/jyNARrnLU1+UI0CY+f5bf5kjQOo5MmSfniNAPHplbL+jI0COuph036gjQOD6y3z/rSNAMjv/hB+zI0CEezKNP7gjQNa7ZZVfvSNAKPyYnX/CI0B6PMyln8cjQMx8/62/zCNAHr0ytt/RI0Bw/WW+/9YjQMI9mcYf3CNAFH7Mzj/hI0Bmvv/WX+YjQLj+Mt9/6yNACj9m55/wI0Bcf5nvv/UjQK6/zPff+iNAAAAAAAAAJEA=",
          "dtype": "f8"
         },
         "y": {
          "bdata": "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",
          "dtype": "f8"
         }
        }
       ],
       "layout": {
        "template": {
         "data": {
          "bar": [
           {
            "error_x": {
             "color": "#2a3f5f"
            },
            "error_y": {
             "color": "#2a3f5f"
            },
            "marker": {
             "line": {
              "color": "#E5ECF6",
              "width": 0.5
             },
             "pattern": {
              "fillmode": "overlay",
              "size": 10,
              "solidity": 0.2
             }
            },
            "type": "bar"
           }
          ],
          "barpolar": [
           {
            "marker": {
             "line": {
              "color": "#E5ECF6",
              "width": 0.5
             },
             "pattern": {
              "fillmode": "overlay",
              "size": 10,
              "solidity": 0.2
             }
            },
            "type": "barpolar"
           }
          ],
          "carpet": [
           {
            "aaxis": {
             "endlinecolor": "#2a3f5f",
             "gridcolor": "white",
             "linecolor": "white",
             "minorgridcolor": "white",
             "startlinecolor": "#2a3f5f"
            },
            "baxis": {
             "endlinecolor": "#2a3f5f",
             "gridcolor": "white",
             "linecolor": "white",
             "minorgridcolor": "white",
             "startlinecolor": "#2a3f5f"
            },
            "type": "carpet"
           }
          ],
          "choropleth": [
           {
            "colorbar": {
             "outlinewidth": 0,
             "ticks": ""
            },
            "type": "choropleth"
           }
          ],
          "contour": [
           {
            "colorbar": {
             "outlinewidth": 0,
             "ticks": ""
            },
            "colorscale": [
             [
              0,
              "#0d0887"
             ],
             [
              0.1111111111111111,
              "#46039f"
             ],
             [
              0.2222222222222222,
              "#7201a8"
             ],
             [
              0.3333333333333333,
              "#9c179e"
             ],
             [
              0.4444444444444444,
              "#bd3786"
             ],
             [
              0.5555555555555556,
              "#d8576b"
             ],
             [
              0.6666666666666666,
              "#ed7953"
             ],
             [
              0.7777777777777778,
              "#fb9f3a"
             ],
             [
              0.8888888888888888,
              "#fdca26"
             ],
             [
              1,
              "#f0f921"
             ]
            ],
            "type": "contour"
           }
          ],
          "contourcarpet": [
           {
            "colorbar": {
             "outlinewidth": 0,
             "ticks": ""
            },
            "type": "contourcarpet"
           }
          ],
          "heatmap": [
           {
            "colorbar": {
             "outlinewidth": 0,
             "ticks": ""
            },
            "colorscale": [
             [
              0,
              "#0d0887"
             ],
             [
              0.1111111111111111,
              "#46039f"
             ],
             [
              0.2222222222222222,
              "#7201a8"
             ],
             [
              0.3333333333333333,
              "#9c179e"
             ],
             [
              0.4444444444444444,
              "#bd3786"
             ],
             [
              0.5555555555555556,
              "#d8576b"
             ],
             [
              0.6666666666666666,
              "#ed7953"
             ],
             [
              0.7777777777777778,
              "#fb9f3a"
             ],
             [
              0.8888888888888888,
              "#fdca26"
             ],
             [
              1,
              "#f0f921"
             ]
            ],
            "type": "heatmap"
           }
          ],
          "histogram": [
           {
            "marker": {
             "pattern": {
              "fillmode": "overlay",
              "size": 10,
              "solidity": 0.2
             }
            },
            "type": "histogram"
           }
          ],
          "histogram2d": [
           {
            "colorbar": {
             "outlinewidth": 0,
             "ticks": ""
            },
            "colorscale": [
             [
              0,
              "#0d0887"
             ],
             [
              0.1111111111111111,
              "#46039f"
             ],
             [
              0.2222222222222222,
              "#7201a8"
             ],
             [
              0.3333333333333333,
              "#9c179e"
             ],
             [
              0.4444444444444444,
              "#bd3786"
             ],
             [
              0.5555555555555556,
              "#d8576b"
             ],
             [
              0.6666666666666666,
              "#ed7953"
             ],
             [
              0.7777777777777778,
              "#fb9f3a"
             ],
             [
              0.8888888888888888,
              "#fdca26"
             ],
             [
              1,
              "#f0f921"
             ]
            ],
            "type": "histogram2d"
           }
          ],
          "histogram2dcontour": [
           {
            "colorbar": {
             "outlinewidth": 0,
             "ticks": ""
            },
            "colorscale": [
             [
              0,
              "#0d0887"
             ],
             [
              0.1111111111111111,
              "#46039f"
             ],
             [
              0.2222222222222222,
              "#7201a8"
             ],
             [
              0.3333333333333333,
              "#9c179e"
             ],
             [
              0.4444444444444444,
              "#bd3786"
             ],
             [
              0.5555555555555556,
              "#d8576b"
             ],
             [
              0.6666666666666666,
              "#ed7953"
             ],
             [
              0.7777777777777778,
              "#fb9f3a"
             ],
             [
              0.8888888888888888,
              "#fdca26"
             ],
             [
              1,
              "#f0f921"
             ]
            ],
            "type": "histogram2dcontour"
           }
          ],
          "mesh3d": [
           {
            "colorbar": {
             "outlinewidth": 0,
             "ticks": ""
            },
            "type": "mesh3d"
           }
          ],
          "parcoords": [
           {
            "line": {
             "colorbar": {
              "outlinewidth": 0,
              "ticks": ""
             }
            },
            "type": "parcoords"
           }
          ],
          "pie": [
           {
            "automargin": true,
            "type": "pie"
           }
          ],
          "scatter": [
           {
            "fillpattern": {
             "fillmode": "overlay",
             "size": 10,
             "solidity": 0.2
            },
            "type": "scatter"
           }
          ],
          "scatter3d": [
           {
            "line": {
             "colorbar": {
              "outlinewidth": 0,
              "ticks": ""
             }
            },
            "marker": {
             "colorbar": {
              "outlinewidth": 0,
              "ticks": ""
             }
            },
            "type": "scatter3d"
           }
          ],
          "scattercarpet": [
           {
            "marker": {
             "colorbar": {
              "outlinewidth": 0,
              "ticks": ""
             }
            },
            "type": "scattercarpet"
           }
          ],
          "scattergeo": [
           {
            "marker": {
             "colorbar": {
              "outlinewidth": 0,
              "ticks": ""
             }
            },
            "type": "scattergeo"
           }
          ],
          "scattergl": [
           {
            "marker": {
             "colorbar": {
              "outlinewidth": 0,
              "ticks": ""
             }
            },
            "type": "scattergl"
           }
          ],
          "scattermap": [
           {
            "marker": {
             "colorbar": {
              "outlinewidth": 0,
              "ticks": ""
             }
            },
            "type": "scattermap"
           }
          ],
          "scattermapbox": [
           {
            "marker": {
             "colorbar": {
              "outlinewidth": 0,
              "ticks": ""
             }
            },
            "type": "scattermapbox"
           }
          ],
          "scatterpolar": [
           {
            "marker": {
             "colorbar": {
              "outlinewidth": 0,
              "ticks": ""
             }
            },
            "type": "scatterpolar"
           }
          ],
          "scatterpolargl": [
           {
            "marker": {
             "colorbar": {
              "outlinewidth": 0,
              "ticks": ""
             }
            },
            "type": "scatterpolargl"
           }
          ],
          "scatterternary": [
           {
            "marker": {
             "colorbar": {
              "outlinewidth": 0,
              "ticks": ""
             }
            },
            "type": "scatterternary"
           }
          ],
          "surface": [
           {
            "colorbar": {
             "outlinewidth": 0,
             "ticks": ""
            },
            "colorscale": [
             [
              0,
              "#0d0887"
             ],
             [
              0.1111111111111111,
              "#46039f"
             ],
             [
              0.2222222222222222,
              "#7201a8"
             ],
             [
              0.3333333333333333,
              "#9c179e"
             ],
             [
              0.4444444444444444,
              "#bd3786"
             ],
             [
              0.5555555555555556,
              "#d8576b"
             ],
             [
              0.6666666666666666,
              "#ed7953"
             ],
             [
              0.7777777777777778,
              "#fb9f3a"
             ],
             [
              0.8888888888888888,
              "#fdca26"
             ],
             [
              1,
              "#f0f921"
             ]
            ],
            "type": "surface"
           }
          ],
          "table": [
           {
            "cells": {
             "fill": {
              "color": "#EBF0F8"
             },
             "line": {
              "color": "white"
             }
            },
            "header": {
             "fill": {
              "color": "#C8D4E3"
             },
             "line": {
              "color": "white"
             }
            },
            "type": "table"
           }
          ]
         },
         "layout": {
          "annotationdefaults": {
           "arrowcolor": "#2a3f5f",
           "arrowhead": 0,
           "arrowwidth": 1
          },
          "autotypenumbers": "strict",
          "coloraxis": {
           "colorbar": {
            "outlinewidth": 0,
            "ticks": ""
           }
          },
          "colorscale": {
           "diverging": [
            [
             0,
             "#8e0152"
            ],
            [
             0.1,
             "#c51b7d"
            ],
            [
             0.2,
             "#de77ae"
            ],
            [
             0.3,
             "#f1b6da"
            ],
            [
             0.4,
             "#fde0ef"
            ],
            [
             0.5,
             "#f7f7f7"
            ],
            [
             0.6,
             "#e6f5d0"
            ],
            [
             0.7,
             "#b8e186"
            ],
            [
             0.8,
             "#7fbc41"
            ],
            [
             0.9,
             "#4d9221"
            ],
            [
             1,
             "#276419"
            ]
           ],
           "sequential": [
            [
             0,
             "#0d0887"
            ],
            [
             0.1111111111111111,
             "#46039f"
            ],
            [
             0.2222222222222222,
             "#7201a8"
            ],
            [
             0.3333333333333333,
             "#9c179e"
            ],
            [
             0.4444444444444444,
             "#bd3786"
            ],
            [
             0.5555555555555556,
             "#d8576b"
            ],
            [
             0.6666666666666666,
             "#ed7953"
            ],
            [
             0.7777777777777778,
             "#fb9f3a"
            ],
            [
             0.8888888888888888,
             "#fdca26"
            ],
            [
             1,
             "#f0f921"
            ]
           ],
           "sequentialminus": [
            [
             0,
             "#0d0887"
            ],
            [
             0.1111111111111111,
             "#46039f"
            ],
            [
             0.2222222222222222,
             "#7201a8"
            ],
            [
             0.3333333333333333,
             "#9c179e"
            ],
            [
             0.4444444444444444,
             "#bd3786"
            ],
            [
             0.5555555555555556,
             "#d8576b"
            ],
            [
             0.6666666666666666,
             "#ed7953"
            ],
            [
             0.7777777777777778,
             "#fb9f3a"
            ],
            [
             0.8888888888888888,
             "#fdca26"
            ],
            [
             1,
             "#f0f921"
            ]
           ]
          },
          "colorway": [
           "#636efa",
           "#EF553B",
           "#00cc96",
           "#ab63fa",
           "#FFA15A",
           "#19d3f3",
           "#FF6692",
           "#B6E880",
           "#FF97FF",
           "#FECB52"
          ],
          "font": {
           "color": "#2a3f5f"
          },
          "geo": {
           "bgcolor": "white",
           "lakecolor": "white",
           "landcolor": "#E5ECF6",
           "showlakes": true,
           "showland": true,
           "subunitcolor": "white"
          },
          "hoverlabel": {
           "align": "left"
          },
          "hovermode": "closest",
          "mapbox": {
           "style": "light"
          },
          "paper_bgcolor": "white",
          "plot_bgcolor": "#E5ECF6",
          "polar": {
           "angularaxis": {
            "gridcolor": "white",
            "linecolor": "white",
            "ticks": ""
           },
           "bgcolor": "#E5ECF6",
           "radialaxis": {
            "gridcolor": "white",
            "linecolor": "white",
            "ticks": ""
           }
          },
          "scene": {
           "xaxis": {
            "backgroundcolor": "#E5ECF6",
            "gridcolor": "white",
            "gridwidth": 2,
            "linecolor": "white",
            "showbackground": true,
            "ticks": "",
            "zerolinecolor": "white"
           },
           "yaxis": {
            "backgroundcolor": "#E5ECF6",
            "gridcolor": "white",
            "gridwidth": 2,
            "linecolor": "white",
            "showbackground": true,
            "ticks": "",
            "zerolinecolor": "white"
           },
           "zaxis": {
            "backgroundcolor": "#E5ECF6",
            "gridcolor": "white",
            "gridwidth": 2,
            "linecolor": "white",
            "showbackground": true,
            "ticks": "",
            "zerolinecolor": "white"
           }
          },
          "shapedefaults": {
           "line": {
            "color": "#2a3f5f"
           }
          },
          "ternary": {
           "aaxis": {
            "gridcolor": "white",
            "linecolor": "white",
            "ticks": ""
           },
           "baxis": {
            "gridcolor": "white",
            "linecolor": "white",
            "ticks": ""
           },
           "bgcolor": "#E5ECF6",
           "caxis": {
            "gridcolor": "white",
            "linecolor": "white",
            "ticks": ""
           }
          },
          "title": {
           "x": 0.05
          },
          "xaxis": {
           "automargin": true,
           "gridcolor": "white",
           "linecolor": "white",
           "ticks": "",
           "title": {
            "standoff": 15
           },
           "zerolinecolor": "white",
           "zerolinewidth": 2
          },
          "yaxis": {
           "automargin": true,
           "gridcolor": "white",
           "linecolor": "white",
           "ticks": "",
           "title": {
            "standoff": 15
           },
           "zerolinecolor": "white",
           "zerolinewidth": 2
          }
         }
        },
        "width": 900,
        "xaxis": {
         "title": {
          "text": "time (s)"
         }
        },
        "yaxis": {
         "title": {
          "text": "Signal Amplitude (arb. u.)"
         }
        }
       }
      }
     },
     "metadata": {},
     "output_type": "display_data"
    }
   ],
   "source": [
    "from math_functions import damp_sine_wave\n",
    "\n",
    "\n",
    "x_samp = np.linspace(0, 10, 1000)\n",
    "y_samp = damp_sine_wave(x_samp, frequency=1, damping_rate=0.1, phase=0)\n",
    "\n",
    "\n",
    "fig = go.Figure().update_layout(width=900)\n",
    "\n",
    "fig.add_trace(go.Scatter(name=\"fun\", mode=\"lines\", x=x_samp, y=y_samp))\n",
    "fig.update_layout(\n",
    "    xaxis_title=\"time (s)\",\n",
    "    yaxis_title=\"Signal Amplitude (arb. u.)\",\n",
    ")\n",
    "fig.show()"
   ]
  },
  {
   "cell_type": "code",
   "execution_count": null,
   "id": "740c978c",
   "metadata": {},
   "outputs": [
    {
     "data": {
      "application/vnd.plotly.v1+json": {
       "config": {
        "plotlyServerURL": "https://plot.ly"
       },
       "data": [
        {
         "mode": "lines",
         "name": "True Function",
         "type": "scatter",
         "x": {
          "bdata": "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",
          "dtype": "f8"
         },
         "y": {
          "bdata": "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",
          "dtype": "f8"
         }
        },
        {
         "line": {
          "width": 1
         },
         "mode": "lines",
         "name": "Noisy Data",
         "type": "scatter",
         "x": {
          "bdata": "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",
          "dtype": "f8"
         },
         "y": {
          "bdata": "EsfUtPkzjz/QYBIhc/KEP7To/lkQi8Q/pZXGB2FRzT8i2fZ5UiDCPx3Q5XNfU80/z81xsumd1j/JtMmC6WrYPx+yc5WGbtw/BInI6QGj3D8DYiqgc3DiP2Hln03Th+M/agnMHyCM4z+bgsqtykzmP/UYlzAlMuY/bC+U6GXr5D8doBq+6J/nP+GZQPUvIuY/4FldDk2Z6T97B+cZDYjoP141751hoOg/DG/faJoJ6D9kx2+v0C7rP2jLL/Pi+eg/InLtdPRu6D8VyYEMGVroP3TZ0iC6d+k/tgH8hfbO6D+8gENWA2foP+4Y0AMm3ec/TxsokrHz6T+lUcqs8SXlP1X+hhHSLeQ/JuaxYQTU4j945BrsEC/kP2817zScA+Q/ssRVVT/74D9oJHZzYHTdP1e9Jf4PPNs/3vijkhuc3T/scQtpSn/bP26PWeUNZdg/OmSzANAF0j9qp4f+E1zSP7gYjqpF3s4/Z+3UirBjyj9Qri8Wy2/JP+sG1hypLsA/orvBU2IPvD+SKYg3f3OkP25MWcyTs4k/UE5aUdR4gL99Prtr8hrDv4RHXGYIZ8C/hYHUQLTLxb+HE+agxCPLv71qz+x55sy/NrKfc2N4xb9QIkQGTyPUv8sVCe6/AtC/7f3pgQkg2r9PQmWZpVPXv0b9OU1NIde/hZUAMFQM17+DI1PlyMvXv+qY4eDAjdi/Zev3tI8Z3b+wVu/ZlTnevyYIk36Codq/GMJA9Dl93r+iin5HOirhvydv4LfeDuG/NXCT1vjF4L9m1rKhzADdv+CDnQdbAd6/8Hx1wbb/279/TAeF7jTfv0YHqxjT2dy/ldOnWUPE2r8DDXlLoxDdv2ROrDUs0tm/6HPH/ryD3L849NH5ZZXav33Hc2QFltm/OG+dtpMO27+aXNMri3fUv0PHrBwDQta/IS6yX1xj07+S+IV3qILQv7ayyXcOZM6/GhWKqnQQyr9DZFHXovbLvzwBgZGLAMu/wTPgC9K5xb/8XKahv+nMv5lQrRlNQ8i/Sh5kUvlaxL8bMKyMqVm+v0TcAS2xTZm/tylcq2f3sL+sd8L4uP6Qv70tMW23Ebc/U2eI6olWnj9sU6Ze7yC7PzGx3im5M6Y/63emHfWVuT8ki85C5gC1P5AmXR5MxcA/vMItrOaNyj+q6XuzuXS4P5L/fybQCMw/69Z41kCbzD8zsq+s3PfIP8pILbOLDcU/0w56f7kT0D9Otw9IqYjNP1UOg/IdvtE/lt4yuaKG0T8uYr8K4PXWPwDfK9xUXtE/sbMdIgopzj/wI66qZxLTPzpn1DeaRNM/D9UaXEHn1j8MqFn9VyTVP46enLxtdNM/FcBnQ6fE1j84uF6/9/jLPwEJl9q0w84/iv/J19kUzD+Rbgy8tozOP3S1kpgwJ8c/dQEPVbJr0T+uJ5hnFBHMP6ZytEoJssI//T2CeqIkxD/akVdqCBvLP96Sahpp2cw/fuXdhklL0T92MdviGV3TP8LPwaM+9MQ/3nBd9r1OtD8g107LaeN/P0tsxVad+bw/0IpVNTXCpj8e+RG8X2KpP4YelIrImZk/gbuaLI1aoT8Th8c1Xma0P4plNvy1WpQ/aI66R4CMhL/O7eCoSFaxv1V+KbX9+Ly/kNBw8mAesb9FFxfBm6itv2QHXvN2c5U/e2CBygOYsr/3ByZrgRKlvyx8K/z4GsC/r35S1mPExb+QzBgPPY3Fv+pIKnJeH8W/pCsM1u4Dn7/BoC9sAa/Hv0pdHvuUyru/b+ohhjjIyb91WqPeGWC9vxeWPj2cvMK/Zfksw1eoxr8iEfIzU0bGv84AOMe7d8q/3f5I2z6Xw7+mGqw0xm7Jv0baDnQTWc6/eFmwPn2Tzr/I8FJmJRnFv6V/zNAyore/IYQ+NWmJxL+KfvrD2+DFvyBCiHipxcK/LGjwtUdOt7/HFv4H0vLBvxSG45FWQsW/utHsgcCHtb9Zi97z2oW8vwoX/jj0I6m/pi0OzmIBvL9wKnSM+QfGv3ZPS+2v7sW/KIseAh7yiL8A5DOfrP4dv1dgVsauL7a/PCFKUqKNtr+QkWTqbZiKP9tDwjzeRLu/+ilgtsJCtr+AGz4X+j9Sv7rrhPIrlqa/ivYa1NUzkL9dJAth4smOv/eNYDoFBpM/DmOIQtGYtD+i3ZyzBlaXP9yZ+Wtq5q0/jpx7vpeRsb8n3Z3cSeKjP1ha9z6lWXk/AGWdRbbxd7/wV7SaqP+RPyiOtGG3Aao/BNc83aNxvj8IU/Ei56GIP1b/ZUOxrbU/A/rZxW81sD9SSmQyLjizP0Tzpu8/ksI/XNriaDX5vz/b1fjP6G7FP0RLbXfZULg/jlpckpTQsT9EG7GRxiu4P9WsjGjTVr4/4P0L+LSUvT8WXS2/WtSqP3gMD7R8Ubw/ZFA/ghLXvT99Ugx3I2bNPy/t2SunE8k/wZYIx/9VrT9BWmD0TEe1P2j7xaD6BJY/ar/ua9i+rz9Y0AGJnpe6P6IzW8o8hMI/+21p29B8pj8OZ5I4rjymP1r1C1IURaK/Bn+8a+kmrj/QHY7L4JKCPxJdn624d58/fCNvsWPggD8hbKuR7JOlP+cXkvTZuae/IgN1pPoIo792o59DnZDBP/bLlyZi/KO/pub6KZzhob87yL/D2Tq7P8/0XCxWxMM/eXV3HtT+q7/weNJmMiyUv5YnYdK/74U/MKsiUcI6sz/palZ4wcKwv7pVAhrj6qC/LsHKaTDiiz9A8oCS/O9/vwRMNO1B16q/c+9lnp2dpr9Gln967h+8v2wNOe7o46y/FfBPHzk6r7+YoSsZA/Ojv7W0qOD4urS/7oOhpWljoL8o3ZUazeN8v6XYxPqwfqq/I4cEvd9Dpr/chvBbcZCuv80SryfjN7C/7mfMXFukub/869octPGov2+XaZ8j0bG/dArCedF6pD9gisnA6V6NP8h5YU4vwqa//MXC5Ynfub8edQ+uixK+vyDVKdE1Z1C/SA9sQ7+Bp794FSmuFRChv0do/JtaQsK/OEMQFIN5fL9g7rO6aAOdvyrGGztYqbq/9T9hEe7Ssb/oXVoaS+Cevx1sQLqaZaO/0q8uV0W3qr9IKxaboFWkvz032/lei6a/X70RzKMglb8WlYfB5tmoP3oAqCPPNsO/3a4//qkQn79EJ7aPvB56v8ilcyTYoWc/dmRQEuHkm7+yo3nGmt63v3sexgdKEY0/Ij2ixI5Ztj/xcHxwHpuyv7nd8A56tKk/rjsZl/ifer+gyZQfTdCDP0vb7KtgC6O/cOs51aSYVT/1zdb1FeS1P8DKtp8Fnao/P21PRNOVvD8uf91hNAK2P/LkTgR5F6o/CuqYRzsyvj8DBdHBNM2rP0aKztAVP7M/RwvVIdO0lD9Di0lbjTakPxCZ1ctaJWI/CnJmSXNbtj9+lmuuxfOUv6hGQRcs+LM/C3+N/PZVnj/Mb6VfKAu5P9Ibam8xprM/qN+cEvakwD92wc4q7T6zP4JVpDituKS/zP3KoIV5oT988IdxP3CWv0Z5M9pQLYQ/i6VcgFY7vD92d0a3BcCwP0A/KoVP4GW/BMwpkypElL9xq5jSBs2fP44a+k6O4qC/VDMEq28gfr9Gw7LLpYWkP5jOd7A3mbQ/1JSn2V9Dqj/oPFvd43i4v4MFJHunhKA/LLA+LTojkz/T+vxZuk6hPyC22SWbiLc/tumrohATuL/69NBbV/eWv1il6r3awqE/SsLF2SVus795sFPzzDWzP0HDR1x9LpI/aMi/hwNhpD9OSXSeENegv9Tg7/+WtKE/+8AaqXlapz8Iew/5+vdhP3C0sDNB+EY/YD5L6IN2UD8gEfcyTTutv7Ri8iPILJe/TMnRMM6zmL9AHG6x2exYP34afoCjBKA/c+7yh4WVsr8VstETfmybv2LPF23CBas/qsCHHzhHrr/rcuxCMkqwv1QTpNLUWIq/OQP3vVJVkz/oj8jTIZSXv7J7b7LE26U/08XhXw57kz9C0jTddsCSP3Qm2d3sn3A/ucirRzLMtz+C794pkRWhvwGH331udb+/a0HhPWmwrT8bBsltBc+mvz/hWyJtAZC/1D3F7a0fpz8iztd2mIK5v1MhhH2YzrS/v1ozilMNub8e/eJOEPSsv2CdfFAOJ3k/AaDDsRVghz+AYoveTMYaP3mxJQ+1TrW/s7qtfP8/wL+JwsVKNvh+v7Kvx3Fwu6C/thyLPmjhjj+Xq1Jf0BidPwhutv2tmVc/kz15aOdGoT9lEPYjHjSBP0WxC5GGOZk/h/bOsUNlor++kb4t0HOBv7Lp1WMQZ4c/4jZJldhhpj+rJGOvBFCQv4WQF+pUlp8/P/Ad1TTEfr8wKADt2fBLP1+MnD7UJKk/Yap6sJdWt7/y1eiQq26sv3KmxcWwZrC/+x2xIRYfu78keVSf8ROXv8Z9M7yiTqk/kDKXvv/zXL85ZY2i6V+XP3KkcYsrW7E/V9ezNrh+tD+ZlvRzpX2FPylYKfnB87Q/PIVHtRdhkz+FcDVF+x2cv32CbuptSI+/6FfRxc2Err+i78ESisqev4j3tjYjVG6//ET/jyO+qz+lEQ3GbYy5PwyuOCBkfay/ohhGiz7GoD9u9R6Tkh6kvz/vslvzcqI/KkWNgj2WdT9knaw5IIq0vyw1/pu9Rq0/6oj9qK6LlL/dCKK1YoeRv7zE/+65zqa/qDSFJ3gEmb/kRxWZ2bGdPwTCKBPb62S/qc2DPr4slz9GIKpyxiOYP9KvJzvPHrI/6ZeQshngir/JeM+GRxCyv8prWq85oKw/6QcRXJo3jr8YhUBriBitP+IyyypGBpQ/OoRNbosjfL8i/gh9FdaQPx/qpBkLjLg/HKJunG7+uT/MkOxaYX9BP3poO45TU3I/i3d1GI5yqT+toWLycQiov1sFlsTrgoc/wu/kaiV6fL8qua3FAaCDP7s9YQ7arai/Z5CUUxoetr/cdZ66GmW8vzaxGLBfPrC/4DYwc12In7+vjr/IUk6Xv6NqC9PDq7Y/19iNEzj6pz+86IgIAQitvx7UxRW5z4E/8HS+tpjLnb+K65Py/IeXvzDmDZ7aGUE/Jt0P+ebMlj/KYf0S9C6av7waXsF846Y/BQg8i1bAsL/RMCxJhA6Av0aQA/w6N78/4Oe5JqE3bD//SYmwZ3CwP9qldferJGW/SU9wUuO5lj+YEKXB8iaDv2gjNqLCEI6/quWkL03rpr/8QtKGfH+QPxmQeMN3XKi/8G2Lrl5gnT/ZxcpVIKapP9Fx4Dyt4I0/bHqewCAJkr/ep0cB3VCUP/BT3LqgRpK/PKl7jjTxpj8WRbP5AtW3vzBRO993SpK/0a+0Pbilub86XOgb+DCzv0x3uCrrgrE/wLrsxaM8pz/hUc9uT+Shv0D3UQRN3rK/pucHQiS+wr+sw82v5JyZv68f8Rayn78/YxQJ+bEsmT9kQVcv5GuZv2PwBClyV5s/biM/1xgHs7+OlJ1DTk6Gv85lCSOgzYI/QPHAY7HIHT+UAVTXmpqmPyUN5Q0XiZY/X/lT7sWgoz9ade2Z/RSev6/VVqLDnak/Qu4USqYvtj9mllI49iKmvzPv2RZlAqS/PpsYDF11sj/j4at7rndxv5or3pxtUbM/QbcDNsFQkb96BnIyB/GzPwxrNjWcz4c/dmZBeRFIkj+NhNIAuEK1P77WQUYBfIu//vngY+zIpb9hKdbM3YeSvxSLmZmqZps/vv/Wa34Is78xAirXATqiPyC4Bmk4AJi/lqg7TVUOrz+hCsbZbd+9v6vyX/19t6K/P9kLUFzxtL8CyXnHWP+jv8qzm3v3bo0/5FPsZriofb9oKMWvnPmGv3heKBYsxHu/mIq3AzKxhj+CajIhSX2pv9aYhADoSaI//VFYIhMGoT/jyEC365GTPxR6UA7tF5w/oMozvt8MjT/A7PBCS9O5P2ld6nIKWna/nHyYJp0Tkb9pSkBsMBOkv7dKy4IeUKu/yBQUFtFrsL99N7Oy9tOnv17yPUCFwHe/L4YTVpFHjT8AAFr4e5q5vn72SNQV+aS/LhfzgGmcpT/kOBlSlXGhP5r2ut6id4a/esurfTJIor9oSw6lP+KYPzAwl6K5hnk/52gfC95as7/ok7AdFxp7v1xymlZDO4Q/Wm2BRLWtqL8e1ye618p5PyzuZ5NqbrO/5BBP4hhOsD8kQYjLU2GuP43s1bMY/Y+/bHqcHEY/jz/NRNk6GJK/v1+oRnnq/66/RSr5M+m5kb9eUGB32Lqsv/KLUR2BEaE/JKSr3Rn9uD9XUYl5aTSvvwgOh7IPc6a/s209VOtehD/NY/etnjG0P9R908LzCLC/A5FXo8a3hj+Os0IvhQG3PzBEmiFVaLW/O3kbXO6esL9yyPc002mWv3lBJFMgNpu/nXmlemubpD96HJlsEUuIP7g6GGlMvLa/FfoMpfR7mj9/5H4ArVGdv9eA9hzgabA/71WHxjSVn79k7e4dNOefv7xRayepiJw/SlckaZACpD+mac+JVgaYP5gDQbWeRrW/1u8BVEDbnD/ToUHZwcWpvzBfL3bmGos/6W5LoFLTsb9IKo8LFIaYP8sbftUUx6O/5RGgbeHur79jEjwJ8zOjP+Sj0cIWjYw/o+Id7eR+nb85RGiJLBGzP+aHbNDlkpS/NpYNKk8kbT82fbewU4qPP0nWcK7uup2/GMM8tBgbmj9NgprkjVmZv0vDgM4hJJO/Ku1rN6rqsT937gNB47Wpv3ExlIF7br6/riF1UeYOtT8VDpW584bAP5ca2fP3H5O/+Rgz1z1nuL8V00JIVteMv2RiKYTnhIq/DyDcghTUgL8UpkRNZOSrv2R53IqFzZ4/gF6hULXjmz9jM7uW2OSyv845N4WqUaI/xQiSL4l1uj/+mpfIdOKCP2torUUavJC/YHdH3yZYe78q1Z/qh9WfPx5pi5s1GLa/XHzB/SgZgT/Z8rf9LvWTv0FLjsPzorc/qMTsSSYmgr+V3fp7akm1P7LLrjm1bKy/QC5iCN2knT/fZNN9uLGPPyRgnX1Fiqa/5xN+AW/YgD+SSO+W06yuP8/QmTAXYJG/L8dZqDXftb/cBJT+4gxdv1I9xhAjlqe/5qpp0FSLkr844EEi3/F0v0Petdo+G7a/xWqALGv2tL8BDsItsYaXP0Lg1SrY8Ju/NQHK8EuQwL/r9h7bL32jPwTo2+Aud4k/SCrtUdvhor8cV72Keiixv7xT3/icy6Q/BGWSOWmykD8YUJlGRTS+P9JWdtTiXJQ/8a4ar7e5kj+2AmUolkiDv/6PLFr3YKQ/KxgcmfL6nj8wsk50bI2vP1rTRcCioZu/io5zFZIvl7/g8V78qV+Zv8VQIw0+2aM/xNeKZqX+sj+zVeZovCyYvyAT4NSCX5a/sKrnjJ8Hjz+cd/IriS2KvxcuywllJqg/GbgQojDrvL9l9y4PIlOlv2udY+H6KKS/PlIwJRLAvb++oEKJ7ryovydOQOR0d6e/i993nuKghL+yVIAuKIOsP7FGjlj15Yi/Uz/4S+FPqr9GquHgIatlvwVE9kcV/ao/EcVZyG7UqL/4Ia+E0yGnvxgXRhkNAJ0/0gaVmnDLhb9LvjhTf9GgP7SlqxWzgCa/CBR2hsg9oj+g1Eb+EjSqvwAsmGgZLq2+do9X/6dJhL+cPLLfNsuuv5yXAXxW17O/VY87HvHnoT+WIIRxAUGRv6F2jRTWzqm/w3bE5T3FcL+JXTW5vD6tP3+Jv/FkAr2/oO1AhTL5sr8KSBvo5kKnvz6FwPgl4rI/7FYBiqhbjj+vzmdB8f2jP8Eu6HLu2Ky/N1EyIBlUrL8Mdaz6G5KXP9xycg0w1Gw/6I/gdM2wnD824qgWlRSCv9tWlTvtj40/D7jAwy82gT8f2uM9ciakP8Tqbb/i4aQ/9rNi1KChtL8h6n/Ftqu8vyk3VUa90Kk//rDdo+uOrj8bSY76bf6pv0QkzyuHv7e/a/cY2HUOdT80bD1KUuinP1dHp231Cbc/9XPPbiGEmj+mHUp+ovySvwtDZgIU3Ka/n+Ywz+HpQT8tqIzxV8SOvwckxYZ8CKq/yuj0XjQxuj+KLeZ/d8+2P4+phHb+/Kw/YDt6Z8uup79R+a8qCcSlP5ia4n4fPaA/DxyJ+dlclj8o3bzjEdWvP9g7/sOOGKA/1X01UubDoj+bOCoA9R2gPwktm964DpE/GivLLm7utr+QDFgxy+tuP/kelrMv55y/1qgDtY19sL+Eh0HU0mq1PzyBYywoBbY/u8jaIVZJsT+22cjHmj2JP8vv3Vk8LbE/HFaD4GtpJj9GlrMaY+SDPxp4Su9KNay/hoVIK0rnkz+jfPO7fW5lPxTS1808xrC/20peIWAVaL8Eksewb9RxvxEGSJcx67Y/ZXLlh0i4pj/XRG6BApgwPyIC1Wfe24g/SeBkXdGWXz9BOUFUOVGFvyvWusWl1au/+IrhZZjYf79UDLDL/jOjvzQtkMvNDLC/v0su61UDmj9MUpx90OSTPyOHk40f5ra/Q0ixpP5/eb81/xdFWnSpPwrDS26HF6s/IsqvoJE/qj/n/5X89M5fP4Vwvy/ln6W/27nLB0C5q7+MfUFJybORP/yILB1Xf5M/D6eFg46AsD8y13XQoDesP9kNSxxLjHq/xuDlJ97Gr7/Y5p1DRCyQv8rmVbTBmoY/NCZwfVJOhL9n3YtEwmGdv5UgqBHDVIo/uWylqQiTmb/X7DbCXOufv2Guv2UxMZA/BE9Wp0dUlL+fwTDQfYOJP1zmD4y8gIw/cXt36TAJrb9+ABTgwl6Yv4JdU4iheLI/H9w1QyKdrb8FZwCAkwa7v3tY8E2+w7e/mJSECx8WXD91FfBFtIBdPwJ3ldQTEHe/Q3VOm1I1rz8EkeAsYxPBvwv9FLHngZQ/8pOcog8LtD8jJqM+HsOsv+ptx1XqPJO/37fGD9sso78HHCJUT82mv0/ak9Kah5C/FAP58QBQsj9VYyQsXo63P3zadyQKEJG/1gSwYXRquD/Kp/d1DOteP0bzCaO4eLY/yHQPe/HFcr/ORrqGsx57P8qdg/qxxJI/nlRvk5ZZxD9y3e2dqM6lP3P8TOMtGaK/b1e7Ka3OqD9nkqn5b4mSv6Q/qAdVGZm/4g1EHv09pz9lVBHEOLJYP0jB0DsuaIw/UbNfmdKmRD85WowB3SaRPwI0+/O+qpU/kFsjOIDRuL8dIBdmawKhP3XSU8PZMqm/8M85XCh+sr8/ORZCJvxov3og3p/upHA/Jn+0LHHTob8xpIXYIzOlP8PkI4TdN7G/InwPTxn+lL9VU+Db/RqevxpyhfrSYGS/OxOrapM6jD8yW78uWOKpv6r31byhdaI/VFpqgQl/aD8GknRV7UG4v6Bh6fIwHLm/SzgZQ5Q+Sb+1tXWd7u+Gv3rKJVJOyXW/XuJxOM5HWb9RpgBY3s+GPzHHZZPpMKg/rjufMqCCrL+qzZWywBCuv9H5lyqCDKy/cp3O3gZcjT8l8UOlWtGvPxxYGivWLpa/6nzkmrAFwL8TnZ8S9NS1v9jKg1b8XKW/8XmixV+fnL+y9Qnl1PeUv5lOJqUYzV4/SHjRE9sAkL/+iMl2p9iqP5ryJ2SUUaG/GEwOZXYVpr9Htq7PdIKYPx5ubvgKqLO/gzecupT1kz/EAoB14A91P3vxEq1uG36/YveAGlpWtD/vfUPZDdKfv56TjxzzYbo/3H0F7Sj8hr+r3Fsi91Swv5nKqVZPIW0/PgFyrryEq78EjvZghjWjv+tzCKOJZ5Q/yO9ysL6GnD9waLbiSMWfvxYKCJlJUqk/HPZZmXOtrT91a53QcGiyP8qS07eJM5s/F2zN6uR5sT/WM20/tQy4vyGWLld6LZC/2Qglq0Elpr+spj+t49B4Pyq/c5GwKJ2/dkw4+EzRgL/pPbKlvR24P5t49TQJMIG/sq1RwLZHlT8zY5Q00pmHv0eH/OfYuW8/OthYPX0+OT+dF7gUlgmXP2VUGS8u360/iu4coA4btT/ja41rhtmPP7p0JtTEQJ4/qriOHiBurb8J7NWJZ8Jxv38gN29MGag/a82sSZ8xpj9sqtLiYMKFP9bbD4A6tqY/UCGndZwpmT+mrRPHMr6uP9wUC6tEro0/u4xtYg8xkr9NOgCnyzWRP1IapfYpwcK/nGI5Vd6bkz/xCGtGjVnHv/v2Niy8D7a/yTYEOxEflz9OfRvdjm+YP7/vkYBpxK2/h4SoJrE9or/Uve2XTImxPzPL8y8H0Ji/GwV8522zvD+cgbghcF4hv2ttus7O2ZQ/fPeMTWGvtD9FTJV3C6Z6P0xRbOo6r6m/DuV+yF+tdr+chZmucwZev6phE+SCe7G/B+PfWnlPir8cPuW5cAejv4REyrlUoqc/LbPPf0BmWz+0F9NfIBSNvw5XgiTc/HW/PSSOyxK6hj9rLLvJTIWfP1fSz1Rbn6m/euKrebOxqr86ZR00MUCsP56ytfonK5W/8+088UMmsr/XaD8GT6uWP/SiFkAXrJc/a1n8uRKbs79Xfoax+2aHPy7HiArRzqI/K+XfUfYfkz8afW6meSigP313wjH7+7G/3b+xt9DpkD+byX2y8g2Pv0zxawnEv5i/ytOu8MdFpj8aBXJ/u+2yPxgmcYZu9rY/0m92vzLTsD+fkkFYtoh2v630pw0XDJI/KPL42Uygoz9sjPEIH8t4P45xRYbJxHo/1HkjbIwWpT8=",
          "dtype": "f8"
         }
        },
        {
         "line": {
          "dash": "dash"
         },
         "mode": "lines",
         "name": "Fitted Curve",
         "type": "scatter",
         "x": {
          "bdata": "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",
          "dtype": "f8"
         },
         "y": {
          "bdata": "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",
          "dtype": "f8"
         }
        }
       ],
       "layout": {
        "template": {
         "data": {
          "bar": [
           {
            "error_x": {
             "color": "#2a3f5f"
            },
            "error_y": {
             "color": "#2a3f5f"
            },
            "marker": {
             "line": {
              "color": "#E5ECF6",
              "width": 0.5
             },
             "pattern": {
              "fillmode": "overlay",
              "size": 10,
              "solidity": 0.2
             }
            },
            "type": "bar"
           }
          ],
          "barpolar": [
           {
            "marker": {
             "line": {
              "color": "#E5ECF6",
              "width": 0.5
             },
             "pattern": {
              "fillmode": "overlay",
              "size": 10,
              "solidity": 0.2
             }
            },
            "type": "barpolar"
           }
          ],
          "carpet": [
           {
            "aaxis": {
             "endlinecolor": "#2a3f5f",
             "gridcolor": "white",
             "linecolor": "white",
             "minorgridcolor": "white",
             "startlinecolor": "#2a3f5f"
            },
            "baxis": {
             "endlinecolor": "#2a3f5f",
             "gridcolor": "white",
             "linecolor": "white",
             "minorgridcolor": "white",
             "startlinecolor": "#2a3f5f"
            },
            "type": "carpet"
           }
          ],
          "choropleth": [
           {
            "colorbar": {
             "outlinewidth": 0,
             "ticks": ""
            },
            "type": "choropleth"
           }
          ],
          "contour": [
           {
            "colorbar": {
             "outlinewidth": 0,
             "ticks": ""
            },
            "colorscale": [
             [
              0,
              "#0d0887"
             ],
             [
              0.1111111111111111,
              "#46039f"
             ],
             [
              0.2222222222222222,
              "#7201a8"
             ],
             [
              0.3333333333333333,
              "#9c179e"
             ],
             [
              0.4444444444444444,
              "#bd3786"
             ],
             [
              0.5555555555555556,
              "#d8576b"
             ],
             [
              0.6666666666666666,
              "#ed7953"
             ],
             [
              0.7777777777777778,
              "#fb9f3a"
             ],
             [
              0.8888888888888888,
              "#fdca26"
             ],
             [
              1,
              "#f0f921"
             ]
            ],
            "type": "contour"
           }
          ],
          "contourcarpet": [
           {
            "colorbar": {
             "outlinewidth": 0,
             "ticks": ""
            },
            "type": "contourcarpet"
           }
          ],
          "heatmap": [
           {
            "colorbar": {
             "outlinewidth": 0,
             "ticks": ""
            },
            "colorscale": [
             [
              0,
              "#0d0887"
             ],
             [
              0.1111111111111111,
              "#46039f"
             ],
             [
              0.2222222222222222,
              "#7201a8"
             ],
             [
              0.3333333333333333,
              "#9c179e"
             ],
             [
              0.4444444444444444,
              "#bd3786"
             ],
             [
              0.5555555555555556,
              "#d8576b"
             ],
             [
              0.6666666666666666,
              "#ed7953"
             ],
             [
              0.7777777777777778,
              "#fb9f3a"
             ],
             [
              0.8888888888888888,
              "#fdca26"
             ],
             [
              1,
              "#f0f921"
             ]
            ],
            "type": "heatmap"
           }
          ],
          "histogram": [
           {
            "marker": {
             "pattern": {
              "fillmode": "overlay",
              "size": 10,
              "solidity": 0.2
             }
            },
            "type": "histogram"
           }
          ],
          "histogram2d": [
           {
            "colorbar": {
             "outlinewidth": 0,
             "ticks": ""
            },
            "colorscale": [
             [
              0,
              "#0d0887"
             ],
             [
              0.1111111111111111,
              "#46039f"
             ],
             [
              0.2222222222222222,
              "#7201a8"
             ],
             [
              0.3333333333333333,
              "#9c179e"
             ],
             [
              0.4444444444444444,
              "#bd3786"
             ],
             [
              0.5555555555555556,
              "#d8576b"
             ],
             [
              0.6666666666666666,
              "#ed7953"
             ],
             [
              0.7777777777777778,
              "#fb9f3a"
             ],
             [
              0.8888888888888888,
              "#fdca26"
             ],
             [
              1,
              "#f0f921"
             ]
            ],
            "type": "histogram2d"
           }
          ],
          "histogram2dcontour": [
           {
            "colorbar": {
             "outlinewidth": 0,
             "ticks": ""
            },
            "colorscale": [
             [
              0,
              "#0d0887"
             ],
             [
              0.1111111111111111,
              "#46039f"
             ],
             [
              0.2222222222222222,
              "#7201a8"
             ],
             [
              0.3333333333333333,
              "#9c179e"
             ],
             [
              0.4444444444444444,
              "#bd3786"
             ],
             [
              0.5555555555555556,
              "#d8576b"
             ],
             [
              0.6666666666666666,
              "#ed7953"
             ],
             [
              0.7777777777777778,
              "#fb9f3a"
             ],
             [
              0.8888888888888888,
              "#fdca26"
             ],
             [
              1,
              "#f0f921"
             ]
            ],
            "type": "histogram2dcontour"
           }
          ],
          "mesh3d": [
           {
            "colorbar": {
             "outlinewidth": 0,
             "ticks": ""
            },
            "type": "mesh3d"
           }
          ],
          "parcoords": [
           {
            "line": {
             "colorbar": {
              "outlinewidth": 0,
              "ticks": ""
             }
            },
            "type": "parcoords"
           }
          ],
          "pie": [
           {
            "automargin": true,
            "type": "pie"
           }
          ],
          "scatter": [
           {
            "fillpattern": {
             "fillmode": "overlay",
             "size": 10,
             "solidity": 0.2
            },
            "type": "scatter"
           }
          ],
          "scatter3d": [
           {
            "line": {
             "colorbar": {
              "outlinewidth": 0,
              "ticks": ""
             }
            },
            "marker": {
             "colorbar": {
              "outlinewidth": 0,
              "ticks": ""
             }
            },
            "type": "scatter3d"
           }
          ],
          "scattercarpet": [
           {
            "marker": {
             "colorbar": {
              "outlinewidth": 0,
              "ticks": ""
             }
            },
            "type": "scattercarpet"
           }
          ],
          "scattergeo": [
           {
            "marker": {
             "colorbar": {
              "outlinewidth": 0,
              "ticks": ""
             }
            },
            "type": "scattergeo"
           }
          ],
          "scattergl": [
           {
            "marker": {
             "colorbar": {
              "outlinewidth": 0,
              "ticks": ""
             }
            },
            "type": "scattergl"
           }
          ],
          "scattermap": [
           {
            "marker": {
             "colorbar": {
              "outlinewidth": 0,
              "ticks": ""
             }
            },
            "type": "scattermap"
           }
          ],
          "scattermapbox": [
           {
            "marker": {
             "colorbar": {
              "outlinewidth": 0,
              "ticks": ""
             }
            },
            "type": "scattermapbox"
           }
          ],
          "scatterpolar": [
           {
            "marker": {
             "colorbar": {
              "outlinewidth": 0,
              "ticks": ""
             }
            },
            "type": "scatterpolar"
           }
          ],
          "scatterpolargl": [
           {
            "marker": {
             "colorbar": {
              "outlinewidth": 0,
              "ticks": ""
             }
            },
            "type": "scatterpolargl"
           }
          ],
          "scatterternary": [
           {
            "marker": {
             "colorbar": {
              "outlinewidth": 0,
              "ticks": ""
             }
            },
            "type": "scatterternary"
           }
          ],
          "surface": [
           {
            "colorbar": {
             "outlinewidth": 0,
             "ticks": ""
            },
            "colorscale": [
             [
              0,
              "#0d0887"
             ],
             [
              0.1111111111111111,
              "#46039f"
             ],
             [
              0.2222222222222222,
              "#7201a8"
             ],
             [
              0.3333333333333333,
              "#9c179e"
             ],
             [
              0.4444444444444444,
              "#bd3786"
             ],
             [
              0.5555555555555556,
              "#d8576b"
             ],
             [
              0.6666666666666666,
              "#ed7953"
             ],
             [
              0.7777777777777778,
              "#fb9f3a"
             ],
             [
              0.8888888888888888,
              "#fdca26"
             ],
             [
              1,
              "#f0f921"
             ]
            ],
            "type": "surface"
           }
          ],
          "table": [
           {
            "cells": {
             "fill": {
              "color": "#EBF0F8"
             },
             "line": {
              "color": "white"
             }
            },
            "header": {
             "fill": {
              "color": "#C8D4E3"
             },
             "line": {
              "color": "white"
             }
            },
            "type": "table"
           }
          ]
         },
         "layout": {
          "annotationdefaults": {
           "arrowcolor": "#2a3f5f",
           "arrowhead": 0,
           "arrowwidth": 1
          },
          "autotypenumbers": "strict",
          "coloraxis": {
           "colorbar": {
            "outlinewidth": 0,
            "ticks": ""
           }
          },
          "colorscale": {
           "diverging": [
            [
             0,
             "#8e0152"
            ],
            [
             0.1,
             "#c51b7d"
            ],
            [
             0.2,
             "#de77ae"
            ],
            [
             0.3,
             "#f1b6da"
            ],
            [
             0.4,
             "#fde0ef"
            ],
            [
             0.5,
             "#f7f7f7"
            ],
            [
             0.6,
             "#e6f5d0"
            ],
            [
             0.7,
             "#b8e186"
            ],
            [
             0.8,
             "#7fbc41"
            ],
            [
             0.9,
             "#4d9221"
            ],
            [
             1,
             "#276419"
            ]
           ],
           "sequential": [
            [
             0,
             "#0d0887"
            ],
            [
             0.1111111111111111,
             "#46039f"
            ],
            [
             0.2222222222222222,
             "#7201a8"
            ],
            [
             0.3333333333333333,
             "#9c179e"
            ],
            [
             0.4444444444444444,
             "#bd3786"
            ],
            [
             0.5555555555555556,
             "#d8576b"
            ],
            [
             0.6666666666666666,
             "#ed7953"
            ],
            [
             0.7777777777777778,
             "#fb9f3a"
            ],
            [
             0.8888888888888888,
             "#fdca26"
            ],
            [
             1,
             "#f0f921"
            ]
           ],
           "sequentialminus": [
            [
             0,
             "#0d0887"
            ],
            [
             0.1111111111111111,
             "#46039f"
            ],
            [
             0.2222222222222222,
             "#7201a8"
            ],
            [
             0.3333333333333333,
             "#9c179e"
            ],
            [
             0.4444444444444444,
             "#bd3786"
            ],
            [
             0.5555555555555556,
             "#d8576b"
            ],
            [
             0.6666666666666666,
             "#ed7953"
            ],
            [
             0.7777777777777778,
             "#fb9f3a"
            ],
            [
             0.8888888888888888,
             "#fdca26"
            ],
            [
             1,
             "#f0f921"
            ]
           ]
          },
          "colorway": [
           "#636efa",
           "#EF553B",
           "#00cc96",
           "#ab63fa",
           "#FFA15A",
           "#19d3f3",
           "#FF6692",
           "#B6E880",
           "#FF97FF",
           "#FECB52"
          ],
          "font": {
           "color": "#2a3f5f"
          },
          "geo": {
           "bgcolor": "white",
           "lakecolor": "white",
           "landcolor": "#E5ECF6",
           "showlakes": true,
           "showland": true,
           "subunitcolor": "white"
          },
          "hoverlabel": {
           "align": "left"
          },
          "hovermode": "closest",
          "mapbox": {
           "style": "light"
          },
          "paper_bgcolor": "white",
          "plot_bgcolor": "#E5ECF6",
          "polar": {
           "angularaxis": {
            "gridcolor": "white",
            "linecolor": "white",
            "ticks": ""
           },
           "bgcolor": "#E5ECF6",
           "radialaxis": {
            "gridcolor": "white",
            "linecolor": "white",
            "ticks": ""
           }
          },
          "scene": {
           "xaxis": {
            "backgroundcolor": "#E5ECF6",
            "gridcolor": "white",
            "gridwidth": 2,
            "linecolor": "white",
            "showbackground": true,
            "ticks": "",
            "zerolinecolor": "white"
           },
           "yaxis": {
            "backgroundcolor": "#E5ECF6",
            "gridcolor": "white",
            "gridwidth": 2,
            "linecolor": "white",
            "showbackground": true,
            "ticks": "",
            "zerolinecolor": "white"
           },
           "zaxis": {
            "backgroundcolor": "#E5ECF6",
            "gridcolor": "white",
            "gridwidth": 2,
            "linecolor": "white",
            "showbackground": true,
            "ticks": "",
            "zerolinecolor": "white"
           }
          },
          "shapedefaults": {
           "line": {
            "color": "#2a3f5f"
           }
          },
          "ternary": {
           "aaxis": {
            "gridcolor": "white",
            "linecolor": "white",
            "ticks": ""
           },
           "baxis": {
            "gridcolor": "white",
            "linecolor": "white",
            "ticks": ""
           },
           "bgcolor": "#E5ECF6",
           "caxis": {
            "gridcolor": "white",
            "linecolor": "white",
            "ticks": ""
           }
          },
          "title": {
           "x": 0.05
          },
          "xaxis": {
           "automargin": true,
           "gridcolor": "white",
           "linecolor": "white",
           "ticks": "",
           "title": {
            "standoff": 15
           },
           "zerolinecolor": "white",
           "zerolinewidth": 2
          },
          "yaxis": {
           "automargin": true,
           "gridcolor": "white",
           "linecolor": "white",
           "ticks": "",
           "title": {
            "standoff": 15
           },
           "zerolinecolor": "white",
           "zerolinewidth": 2
          }
         }
        },
        "title": {
         "text": "Fitted Params: {'frequency': np.float64(0.9999424725313475), 'damping_rate': np.float64(1.001308263710119), 'phase': np.float64(-0.008161326932328614)}"
        },
        "width": 900,
        "xaxis": {
         "title": {
          "text": "time (s)"
         }
        },
        "yaxis": {
         "title": {
          "text": "Signal Amplitude (arb. u.)"
         }
        }
       }
      }
     },
     "metadata": {},
     "output_type": "display_data"
    }
   ],
   "source": [
    "import numpy as np\n",
    "import numpy.typing as npt\n",
    "import plotly.graph_objects as go\n",
    "from scipy.optimize import curve_fit\n",
    "from math_functions import damp_sine_wave\n",
    "\n",
    "# 1. Generate clean data\n",
    "x_samp: npt.NDArray[np.float64] = np.linspace(0, 10, 1000)\n",
    "true_params = dict(frequency=1.0, damping_rate=0.1, phase=0.0)\n",
    "y_clean: npt.NDArray[np.float64] = damp_sine_wave(x_samp, **true_params)\n",
    "\n",
    "# 2. Add noise\n",
    "rng = np.random.default_rng(seed=42)\n",
    "noise: npt.NDArray[np.float64] = rng.normal(scale=0.05, size=x_samp.shape)\n",
    "y_noisy = y_clean + noise\n",
    "\n",
    "\n",
    "# 3. Define a wrapper for curve_fit\n",
    "def wrapper(\n",
    "    x: npt.NDArray[np.float64], frequency: float, damping_rate: float, phase: float\n",
    ") -> npt.NDArray[np.float64]:\n",
    "    return damp_sine_wave(\n",
    "        x, frequency=frequency, damping_rate=damping_rate, phase=phase\n",
    "    )\n",
    "\n",
    "\n",
    "# 4. Fit data with perturbed initial guess\n",
    "initial_guess = [0.8, 0.6, 0.2]  # intentionally inaccurate\n",
    "popt, pcov = curve_fit(wrapper, x_samp, y_noisy, p0=initial_guess)\n",
    "fitted_params = dict(zip([\"frequency\", \"damping_rate\", \"phase\"], popt))\n",
    "\n",
    "# 5. Visualize\n",
    "fig = go.Figure().update_layout(width=900)\n",
    "\n",
    "fig.add_trace(go.Scatter(name=\"True Function\", mode=\"lines\", x=x_samp, y=y_clean))\n",
    "fig.add_trace(\n",
    "    go.Scatter(name=\"Noisy Data\", mode=\"lines\", x=x_samp, y=y_noisy, line=dict(width=1))\n",
    ")\n",
    "fig.add_trace(\n",
    "    go.Scatter(\n",
    "        name=\"Fitted Curve\",\n",
    "        mode=\"lines\",\n",
    "        x=x_samp,\n",
    "        y=wrapper(x_samp, *popt),\n",
    "        line=dict(dash=\"dash\"),\n",
    "    )\n",
    ")\n",
    "\n",
    "fig.update_layout(\n",
    "    xaxis_title=\"time (s)\",\n",
    "    yaxis_title=\"Signal Amplitude (arb. u.)\",\n",
    "    title=f\"Fitted Params: {fitted_params}\",\n",
    ")\n",
    "fig.show()"
   ]
  },
  {
   "cell_type": "code",
   "execution_count": 4,
   "id": "979d3c06",
   "metadata": {},
   "outputs": [
    {
     "name": "stdout",
     "output_type": "stream",
     "text": [
      "[9.46645619 0.34364176 0.06269742 0.        ]\n"
     ]
    },
    {
     "data": {
      "application/vnd.plotly.v1+json": {
       "config": {
        "plotlyServerURL": "https://plot.ly"
       },
       "data": [
        {
         "mode": "lines",
         "name": "True Function",
         "type": "scatter",
         "x": {
          "bdata": "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",
          "dtype": "f8"
         },
         "y": {
          "bdata": "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",
          "dtype": "f8"
         }
        },
        {
         "line": {
          "width": 1
         },
         "mode": "markers",
         "name": "Noisy Data",
         "type": "scatter",
         "x": {
          "bdata": "AAAAAAAAAAACSAHNIICEPwJIAc0ggJQ/A+yBMzHAnj8CSAHNIICkPwKaQQApoKk/A+yBMzHArj8CH2GzHPCxPwJIAc0ggLQ/AnGh5iQQtz8CmkEAKaC5PwPD4RktMLw/A+yBMzHAvj+CCpGmGqjAPwIfYbMc8ME/gjMxwB44wz8CSAHNIIDEP4Jc0dkiyMU/AnGh5iQQxz+ChXHzJljIPwKaQQApoMk/g64RDSvoyj8Dw+EZLTDMP4PXsSYveM0/A+yBMzHAzj9CACmgGQTQP4IKkaYaqNA/whT5rBtM0T8CH2GzHPDRP0IpybkdlNI/gjMxwB440z/CPZnGH9zTPwJIAc0ggNQ/QlJp0yEk1T+CXNHZIsjVP8JmOeAjbNY/AnGh5iQQ1z9CewntJbTXP4KFcfMmWNg/wo/Z+Sf82D8CmkEAKaDZP0OkqQYqRNo/g64RDSvo2j/DuHkTLIzbPwPD4RktMNw/Q81JIC7U3D+D17EmL3jdP8PhGS0wHN4/A+yBMzHA3j9D9uk5MmTfP0IAKaAZBOA/YgVdIxpW4D+CCpGmGqjgP6IPxSkb+uA/whT5rBtM4T/iGS0wHJ7hPwIfYbMc8OE/IiSVNh1C4j9CKcm5HZTiP2Iu/Twe5uI/gjMxwB444z+iOGVDH4rjP8I9mcYf3OM/4kLNSSAu5D8CSAHNIIDkPyJNNVAh0uQ/QlJp0yEk5T9iV51WInblP4Jc0dkiyOU/omEFXSMa5j/CZjngI2zmP+JrbWMkvuY/AnGh5iQQ5z8idtVpJWLnP0J7Ce0ltOc/YoA9cCYG6D+ChXHzJljoP6KKpXYnqug/wo/Z+Sf86D/ilA19KE7pPwKaQQApoOk/I591gyny6T9DpKkGKkTqP2Op3Ykqluo/g64RDSvo6j+js0WQKzrrP8O4eRMsjOs/472tlize6z8Dw+EZLTDsPyPIFZ0tguw/Q81JIC7U7D9j0n2jLibtP4PXsSYveO0/o9zlqS/K7T/D4RktMBzuP+PmTbAwbu4/A+yBMzHA7j8j8bW2MRLvP0P26TkyZO8/Y/sdvTK27z9CACmgGQTwP9ICw+EZLfA/YgVdIxpW8D/yB/dkGn/wP4IKkaYaqPA/Eg0r6BrR8D+iD8UpG/rwPzISX2sbI/E/whT5rBtM8T9SF5PuG3XxP+IZLTAcnvE/chzHcRzH8T8CH2GzHPDxP5Ih+/QcGfI/IiSVNh1C8j+yJi94HWvyP0IpybkdlPI/0itj+x298j9iLv08HubyP/Iwl34eD/M/gjMxwB448z8SNssBH2HzP6I4ZUMfivM/Mjv/hB+z8z/CPZnGH9zzP1JAMwggBfQ/4kLNSSAu9D9yRWeLIFf0PwJIAc0ggPQ/kkqbDiGp9D8iTTVQIdL0P7JPz5Eh+/Q/QlJp0yEk9T/SVAMVIk31P2JXnVYidvU/8lk3mCKf9T+CXNHZIsj1PxJfaxsj8fU/omEFXSMa9j8yZJ+eI0P2P8JmOeAjbPY/UmnTISSV9j/ia21jJL72P3JuB6Uk5/Y/AnGh5iQQ9z+SczsoJTn3PyJ21WklYvc/snhvqyWL9z9CewntJbT3P9J9oy4m3fc/YoA9cCYG+D/ygtexJi/4P4KFcfMmWPg/EogLNSeB+D+iiqV2J6r4PzKNP7gn0/g/wo/Z+Sf8+D9SknM7KCX5P+KUDX0oTvk/cpenvih3+T8CmkEAKaD5P5Oc20Epyfk/I591gyny+T+zoQ/FKRv6P0OkqQYqRPo/06ZDSCpt+j9jqd2JKpb6P/Ord8sqv/o/g64RDSvo+j8TsatOKxH7P6OzRZArOvs/M7bf0Stj+z/DuHkTLIz7P1O7E1Ustfs/472tlize+z9zwEfYLAf8PwPD4RktMPw/k8V7Wy1Z/D8jyBWdLYL8P7PKr94tq/w/Q81JIC7U/D/Tz+NhLv38P2PSfaMuJv0/89QX5S5P/T+D17EmL3j9PxPaS2gvof0/o9zlqS/K/T8z33/rL/P9P8PhGS0wHP4/U+SzbjBF/j/j5k2wMG7+P3Pp5/Ewl/4/A+yBMzHA/j+T7ht1Men+PyPxtbYxEv8/s/NP+DE7/z9D9uk5MmT/P9P4g3syjf8/Y/sdvTK2/z/z/bf+Mt//P0IAKaAZBABAigH2wJkYAEDSAsPhGS0AQBoEkAKaQQBAYgVdIxpWAECqBipEmmoAQPIH92QafwBAOgnEhZqTAECCCpGmGqgAQMoLXseavABAEg0r6BrRAEBaDvgIm+UAQKIPxSkb+gBA6hCSSpsOAUAyEl9rGyMBQHoTLIybNwFAwhT5rBtMAUAKFsbNm2ABQFIXk+4bdQFAmhhgD5yJAUDiGS0wHJ4BQCob+lCcsgFAchzHcRzHAUC6HZSSnNsBQAIfYbMc8AFASiAu1JwEAkCSIfv0HBkCQNoiyBWdLQJAIiSVNh1CAkBqJWJXnVYCQLImL3gdawJA+if8mJ1/AkBCKcm5HZQCQIoqltqdqAJA0itj+x29AkAaLTAcntECQGIu/Twe5gJAqi/KXZ76AkDyMJd+Hg8DQDoyZJ+eIwNAgjMxwB44A0DKNP7gnkwDQBI2ywEfYQNAWjeYIp91A0CiOGVDH4oDQOo5MmSfngNAMjv/hB+zA0B6PMyln8cDQMI9mcYf3ANACj9m55/wA0BSQDMIIAUEQJpBACmgGQRA4kLNSSAuBEAqRJpqoEIEQHJFZ4sgVwRAukY0rKBrBEACSAHNIIAEQEpJzu2glARAkkqbDiGpBEDaS2gvob0EQCJNNVAh0gRAak4CcaHmBECyT8+RIfsEQPpQnLKhDwVAQlJp0yEkBUCKUzb0oTgFQNJUAxUiTQVAGlbQNaJhBUBiV51WInYFQKpYaneiigVA8lk3mCKfBUA6WwS5orMFQIJc0dkiyAVAyl2e+qLcBUASX2sbI/EFQFpgODyjBQZAomEFXSMaBkDqYtJ9oy4GQDJkn54jQwZAemVsv6NXBkDCZjngI2wGQApoBgGkgAZAUmnTISSVBkCaaqBCpKkGQOJrbWMkvgZAKm06hKTSBkBybgelJOcGQLpv1MWk+wZAAnGh5iQQB0BKcm4HpSQHQJJzOyglOQdA2nQISaVNB0AidtVpJWIHQGp3ooqldgdAsnhvqyWLB0D6eTzMpZ8HQEJ7Ce0ltAdAinzWDabIB0DSfaMuJt0HQBp/cE+m8QdAYoA9cCYGCECqgQqRphoIQPKC17EmLwhAOoSk0qZDCECChXHzJlgIQMqGPhSnbAhAEogLNSeBCEBaidhVp5UIQKKKpXYnqghA6otyl6e+CEAyjT+4J9MIQHqODNmn5whAwo/Z+Sf8CEAKkaYaqBAJQFKSczsoJQlAmpNAXKg5CUDilA19KE4JQCqW2p2oYglAcpenvih3CUC6mHTfqIsJQAKaQQApoAlAS5sOIam0CUCTnNtBKckJQNudqGKp3QlAI591gynyCUBroEKkqQYKQLOhD8UpGwpA+6Lc5akvCkBDpKkGKkQKQIuldieqWApA06ZDSCptCkAbqBBpqoEKQGOp3YkqlgpAq6qqqqqqCkDzq3fLKr8KQDutROyq0wpAg64RDSvoCkDLr94tq/wKQBOxq04rEQtAW7J4b6slC0Cjs0WQKzoLQOu0ErGrTgtAM7bf0StjC0B7t6zyq3cLQMO4eRMsjAtAC7pGNKygC0BTuxNVLLULQJu84HWsyQtA472tlizeC0Arv3q3rPILQHPAR9gsBwxAu8EU+awbDEADw+EZLTAMQEvErjqtRAxAk8V7Wy1ZDEDbxkh8rW0MQCPIFZ0tggxAa8niva2WDECzyq/eLasMQPvLfP+tvwxAQ81JIC7UDECLzhZBrugMQNPP42Eu/QxAG9Gwgq4RDUBj0n2jLiYNQKvTSsSuOg1A89QX5S5PDUA71uQFr2MNQIPXsSYveA1Ay9h+R6+MDUAT2ktoL6ENQFvbGImvtQ1Ao9zlqS/KDUDr3bLKr94NQDPff+sv8w1Ae+BMDLAHDkDD4RktMBwOQAvj5k2wMA5AU+SzbjBFDkCb5YCPsFkOQOPmTbAwbg5AK+ga0bCCDkBz6efxMJcOQLvqtBKxqw5AA+yBMzHADkBL7U5UsdQOQJPuG3Ux6Q5A2+/olbH9DkAj8bW2MRIPQGvygtexJg9As/NP+DE7D0D79BwZsk8PQEP26TkyZA9Ai/e2WrJ4D0DT+IN7Mo0PQBv6UJyyoQ9AY/sdvTK2D0Cr/OrdssoPQPP9t/4y3w9AO/+EH7PzD0BCACmgGQQQQOaAj7BZDhBAigH2wJkYEEAuglzR2SIQQNICw+EZLRBAdoMp8lk3EEAaBJACmkEQQL6E9hLaSxBAYgVdIxpWEEAGhsMzWmAQQKoGKkSaahBAToeQVNp0EEDyB/dkGn8QQJaIXXVaiRBAOgnEhZqTEEDeiSqW2p0QQIIKkaYaqBBAJov3tlqyEEDKC17HmrwQQG6MxNfaxhBAEg0r6BrREEC2jZH4WtsQQFoO+Aib5RBA/o5eGdvvEECiD8UpG/oQQEaQKzpbBBFA6hCSSpsOEUCOkfha2xgRQDISX2sbIxFA1pLFe1stEUB6EyyMmzcRQB6UkpzbQRFAwhT5rBtMEUBmlV+9W1YRQAoWxs2bYBFArpYs3ttqEUBSF5PuG3URQPaX+f5bfxFAmhhgD5yJEUA+mcYf3JMRQOIZLTAcnhFAhpqTQFyoEUAqG/pQnLIRQM6bYGHcvBFAchzHcRzHEUAWnS2CXNERQLodlJKc2xFAXp76otzlEUACH2GzHPARQKafx8Nc+hFASiAu1JwEEkDuoJTk3A4SQJIh+/QcGRJANqJhBV0jEkDaIsgVnS0SQH6jLibdNxJAIiSVNh1CEkDGpPtGXUwSQGolYledVhJADqbIZ91gEkCyJi94HWsSQFanlYhddRJA+if8mJ1/EkCeqGKp3YkSQEIpybkdlBJA5qkvyl2eEkCKKpbanagSQC6r/OrdshJA0itj+x29EkB2rMkLXscSQBotMBye0RJAvq2WLN7bEkBiLv08HuYSQAavY01e8BJAqi/KXZ76EkBOsDBu3gQTQPIwl34eDxNAlrH9jl4ZE0A6MmSfniMTQN6yyq/eLRNAgjMxwB44E0AmtJfQXkITQMo0/uCeTBNAbrVk8d5WE0ASNssBH2ETQLa2MRJfaxNAWjeYIp91E0D+t/4y338TQKI4ZUMfihNARrnLU1+UE0DqOTJkn54TQI66mHTfqBNAMjv/hB+zE0DWu2WVX70TQHo8zKWfxxNAHr0ytt/RE0DCPZnGH9wTQGa+/9Zf5hNACj9m55/wE0Cuv8z33/oTQFJAMwggBRRA9sCZGGAPFECaQQApoBkUQD7CZjngIxRA4kLNSSAuFECGwzNaYDgUQCpEmmqgQhRAzsQAe+BMFEByRWeLIFcUQBbGzZtgYRRAukY0rKBrFEBex5q84HUUQAJIAc0ggBRApshn3WCKFEBKSc7toJQUQO7JNP7gnhRAkkqbDiGpFEA2ywEfYbMUQNpLaC+hvRRAfszOP+HHFEAiTTVQIdIUQMbNm2Bh3BRAak4CcaHmFEAOz2iB4fAUQLJPz5Eh+xRAVtA1omEFFUD6UJyyoQ8VQJ7RAsPhGRVAQlJp0yEkFUDm0s/jYS4VQIpTNvShOBVALtScBOJCFUDSVAMVIk0VQHbVaSViVxVAGlbQNaJhFUC+1jZG4msVQGJXnVYidhVABtgDZ2KAFUCqWGp3oooVQE7Z0IfilBVA8lk3mCKfFUCW2p2oYqkVQDpbBLmisxVA3ttqyeK9FUCCXNHZIsgVQCbdN+pi0hVAyl2e+qLcFUBu3gQL4+YVQBJfaxsj8RVAtt/RK2P7FUBaYDg8owUWQP7gnkzjDxZAomEFXSMaFkBG4mttYyQWQOpi0n2jLhZAjuM4juM4FkAyZJ+eI0MWQNbkBa9jTRZAemVsv6NXFkAe5tLP42EWQMJmOeAjbBZAZuef8GN2FkAKaAYBpIAWQK7obBHkihZAUmnTISSVFkD26TkyZJ8WQJpqoEKkqRZAPusGU+SzFkDia21jJL4WQIbs03NkyBZAKm06hKTSFkDO7aCU5NwWQHJuB6Uk5xZAFu9ttWTxFkC6b9TFpPsWQF7wOtbkBRdAAnGh5iQQF0Cm8Qf3ZBoXQEpybgelJBdA7vLUF+UuF0CSczsoJTkXQDb0oThlQxdA2nQISaVNF0B+9W5Z5VcXQCJ21WklYhdAxvY7emVsF0Bqd6KKpXYXQA74CJvlgBdAsnhvqyWLF0BW+dW7ZZUXQPp5PMylnxdAnvqi3OWpF0BCewntJbQXQOb7b/1lvhdAinzWDabIF0Au/Twe5tIXQNJ9oy4m3RdAdv4JP2bnF0Aaf3BPpvEXQL7/1l/m+xdAYoA9cCYGGEAGAaSAZhAYQKqBCpGmGhhATgJxoeYkGEDygtexJi8YQJYDPsJmORhAOoSk0qZDGEDeBAvj5k0YQIKFcfMmWBhAJgbYA2diGEDKhj4Up2wYQG4HpSTndhhAEogLNSeBGEC2CHJFZ4sYQFqJ2FWnlRhA/gk/ZuefGECiiqV2J6oYQEYLDIdntBhA6otyl6e+GECODNmn58gYQDKNP7gn0xhA1g2myGfdGEB6jgzZp+cYQB4Pc+nn8RhAwo/Z+Sf8GEBmEEAKaAYZQAqRphqoEBlArhENK+gaGUBSknM7KCUZQPYS2ktoLxlAmpNAXKg5GUA+FKds6EMZQOKUDX0oThlAhhV0jWhYGUAqltqdqGIZQM4WQa7obBlAcpenvih3GUAWGA7PaIEZQLqYdN+oixlAXhnb7+iVGUACmkEAKaAZQKcaqBBpqhlAS5sOIam0GUDvG3Ux6b4ZQJOc20EpyRlANx1CUmnTGUDbnahiqd0ZQH8eD3Pp5xlAI591gynyGUDHH9yTafwZQGugQqSpBhpADyGptOkQGkCzoQ/FKRsaQFcidtVpJRpA+6Lc5akvGkCfI0P26TkaQEOkqQYqRBpA5yQQF2pOGkCLpXYnqlgaQC8m3TfqYhpA06ZDSCptGkB3J6pYancaQBuoEGmqgRpAvyh3eeqLGkBjqd2JKpYaQAcqRJpqoBpAq6qqqqqqGkBPKxG76rQaQPOrd8sqvxpAlyze22rJGkA7rUTsqtMaQN8tq/zq3RpAg64RDSvoGkAnL3gda/IaQMuv3i2r/BpAbzBFPusGG0ATsatOKxEbQLcxEl9rGxtAW7J4b6slG0D/Mt9/6y8bQKOzRZArOhtARzSsoGtEG0DrtBKxq04bQI81ecHrWBtAM7bf0StjG0DXNkbia20bQHu3rPKrdxtAHzgTA+yBG0DDuHkTLIwbQGc54CNslhtAC7pGNKygG0CvOq1E7KobQFO7E1UstRtA9zt6ZWy/G0CbvOB1rMkbQD89R4bs0xtA472tlizeG0CHPhSnbOgbQCu/eres8htAzz/hx+z8G0BzwEfYLAccQBdBruhsERxAu8EU+awbHEBfQnsJ7SUcQAPD4RktMBxAp0NIKm06HEBLxK46rUQcQO9EFUvtThxAk8V7Wy1ZHEA3RuJrbWMcQNvGSHytbRxAf0evjO13HEAjyBWdLYIcQMdIfK1tjBxAa8niva2WHEAPSknO7aAcQLPKr94tqxxAV0sW7221HED7y3z/rb8cQJ9M4w/uyRxAQ81JIC7UHEDnTbAwbt4cQIvOFkGu6BxAL099Ue7yHEDTz+NhLv0cQHdQSnJuBx1AG9Gwgq4RHUC/UReT7hsdQGPSfaMuJh1AB1Pks24wHUCr00rErjodQE9UsdTuRB1A89QX5S5PHUCXVX71blkdQDvW5AWvYx1A31ZLFu9tHUCD17EmL3gdQCdYGDdvgh1Ay9h+R6+MHUBvWeVX75YdQBPaS2gvoR1At1qyeG+rHUBb2xiJr7UdQP9bf5nvvx1Ao9zlqS/KHUBHXUy6b9QdQOvdssqv3h1Aj14Z2+/oHUAz33/rL/MdQNdf5vtv/R1Ae+BMDLAHHkAfYbMc8BEeQMPhGS0wHB5AZ2KAPXAmHkAL4+ZNsDAeQK9jTV7wOh5AU+SzbjBFHkD3ZBp/cE8eQJvlgI+wWR5AP2bnn/BjHkDj5k2wMG4eQIdntMBweB5AK+ga0bCCHkDPaIHh8IweQHPp5/Ewlx5AF2pOAnGhHkC76rQSsaseQF9rGyPxtR5AA+yBMzHAHkCnbOhDccoeQEvtTlSx1B5A7221ZPHeHkCT7ht1MekeQDdvgoVx8x5A2+/olbH9HkB/cE+m8QcfQCPxtbYxEh9Ax3Ecx3EcH0Br8oLXsSYfQA9z6efxMB9As/NP+DE7H0BXdLYIckUfQPv0HBmyTx9An3WDKfJZH0BD9uk5MmQfQOd2UEpybh9Ai/e2WrJ4H0AveB1r8oIfQNP4g3syjR9Ad3nqi3KXH0Ab+lCcsqEfQL96t6zyqx9AY/sdvTK2H0AHfITNcsAfQKv86t2yyh9AT31R7vLUH0Dz/bf+Mt8fQJd+Hg9z6R9AO/+EH7PzH0Dff+sv8/0fQEIAKaAZBCBAlEBcqDkJIEDmgI+wWQ4gQDjBwrh5EyBAigH2wJkYIEDcQSnJuR0gQC6CXNHZIiBAgMKP2fknIEDSAsPhGS0gQCRD9uk5MiBAdoMp8lk3IEDIw1z6eTwgQBoEkAKaQSBAbETDCrpGIEC+hPYS2ksgQBDFKRv6UCBAYgVdIxpWIEC0RZArOlsgQAaGwzNaYCBAWMb2O3plIECqBipEmmogQPxGXUy6byBAToeQVNp0IECgx8Nc+nkgQPIH92QafyBAREgqbTqEIECWiF11WokgQOjIkH16jiBAOgnEhZqTIECMSfeNupggQN6JKpbanSBAMMpdnvqiIECCCpGmGqggQNRKxK46rSBAJov3tlqyIEB4yyq/ercgQMoLXseavCBAHEyRz7rBIEBujMTX2sYgQMDM99/6yyBAEg0r6BrRIEBkTV7wOtYgQLaNkfha2yBACM7EAHvgIEBaDvgIm+UgQKxOKxG76iBA/o5eGdvvIEBQz5Eh+/QgQKIPxSkb+iBA9E/4MTv/IEBGkCs6WwQhQJjQXkJ7CSFA6hCSSpsOIUA8UcVSuxMhQI6R+FrbGCFA4NErY/sdIUAyEl9rGyMhQIRSknM7KCFA1pLFe1stIUAo0/iDezIhQHoTLIybNyFAzFNflLs8IUAelJKc20EhQHDUxaT7RiFAwhT5rBtMIUAUVSy1O1EhQGaVX71bViFAuNWSxXtbIUAKFsbNm2AhQFxW+dW7ZSFArpYs3ttqIUAA11/m+28hQFIXk+4bdSFApFfG9jt6IUD2l/n+W38hQEjYLAd8hCFAmhhgD5yJIUDsWJMXvI4hQD6Zxh/ckyFAkNn5J/yYIUDiGS0wHJ4hQDRaYDg8oyFAhpqTQFyoIUDY2sZIfK0hQCob+lCcsiFAfFstWby3IUDOm2Bh3LwhQCDck2n8wSFAchzHcRzHIUDEXPp5PMwhQBadLYJc0SFAaN1ginzWIUC6HZSSnNshQAxex5q84CFAXp76otzlIUCw3i2r/OohQAIfYbMc8CFAVF+Uuzz1IUCmn8fDXPohQPjf+st8/yFASiAu1JwEIkCcYGHcvAkiQO6glOTcDiJAQOHH7PwTIkCSIfv0HBkiQORhLv08HiJANqJhBV0jIkCI4pQNfSgiQNoiyBWdLSJALGP7Hb0yIkB+oy4m3TciQNDjYS79PCJAIiSVNh1CIkB0ZMg+PUciQMak+0ZdTCJAGOUuT31RIkBqJWJXnVYiQLxllV+9WyJADqbIZ91gIkBg5vtv/WUiQLImL3gdayJABGdigD1wIkBWp5WIXXUiQKjnyJB9eiJA+if8mJ1/IkBMaC+hvYQiQJ6oYqndiSJA8OiVsf2OIkBCKcm5HZQiQJRp/ME9mSJA5qkvyl2eIkA46mLSfaMiQIoqltqdqCJA3GrJ4r2tIkAuq/zq3bIiQIDrL/P9tyJA0itj+x29IkAkbJYDPsIiQHasyQtexyJAyOz8E37MIkAaLTAcntEiQGxtYyS+1iJAvq2WLN7bIkAQ7sk0/uAiQGIu/Twe5iJAtG4wRT7rIkAGr2NNXvAiQFjvllV+9SJAqi/KXZ76IkD8b/1lvv8iQE6wMG7eBCNAoPBjdv4JI0DyMJd+Hg8jQERxyoY+FCNAlrH9jl4ZI0Do8TCXfh4jQDoyZJ+eIyNAjHKXp74oI0Dessqv3i0jQDDz/bf+MiNAgjMxwB44I0DUc2TIPj0jQCa0l9BeQiNAePTK2H5HI0DKNP7gnkwjQBx1Mem+USNAbrVk8d5WI0DA9Zf5/lsjQBI2ywEfYSNAZHb+CT9mI0C2tjESX2sjQAj3ZBp/cCNAWjeYIp91I0Csd8sqv3ojQP63/jLffyNAUPgxO/+EI0CiOGVDH4ojQPR4mEs/jyNARrnLU1+UI0CY+f5bf5kjQOo5MmSfniNAPHplbL+jI0COuph036gjQOD6y3z/rSNAMjv/hB+zI0CEezKNP7gjQNa7ZZVfvSNAKPyYnX/CI0B6PMyln8cjQMx8/62/zCNAHr0ytt/RI0Bw/WW+/9YjQMI9mcYf3CNAFH7Mzj/hI0Bmvv/WX+YjQLj+Mt9/6yNACj9m55/wI0Bcf5nvv/UjQK6/zPff+iNAAAAAAAAAJEA=",
          "dtype": "f8"
         },
         "y": {
          "bdata": "EsfUtPkzjz+d/vNEgSThP8XVWYwHlu8/spJLPyzU7z/vsNhgQhjfP9h3cMoLeLG/8qpkMMSW4r9rF4rXLcXuv0w398MPK+6/RcLFoRrc478HSrZhYbOpP95KphI6BuQ/ygDwrLs/7j/wdW99W8PvP2Zb5FvkEeM/taqw45LBqr/haWfo+yziv59/grKGju+/gW8YjHtf7L8oGoe51DrivwhuZgEwSGk/89YRnl2p4T+gEux3pNvvP4fzjIXaWe0/kBwPPDJL4T8KkcXkqN2gv4Fj3HRc4uG/3Mtq4l0y7b9UKKaQJMLsv2g+f2y1HuG/zvPPUtQMwD8uqn186xHiPzrpEXVx1+w/cCfWMx/w6z9s2qBGSaDiP6Cq9tUVBaI/2nMmFe3i4r+SXAxDouLuv5u7zV2XYe6/U94cXZRu4L/+zNaeumavPwe60T14juM/1wZ7SzRb7D80jSTdnEHtPyp7JMo1fuE/1ckV6DuBkL/ayhZOrEbhvyU5YzKM8ey/m2wiVkSf679l6Mn1Wwjhv2JhAVLGtqY/JJHWFq6p4z/BxehMqdnqP+seVf1vBew/wltDu0Q54D9VArZIo46wv5XrP/QsE+O/RPq+EJyr6r+zlljzPL7tv6gW6Or5ht6/BLybDAvkqL9nAKDGjxTiP9AVVIYSNO0/QRLnch8f7T/ZvJ+c18nhP8DEWYZoeVY/kpJ5/7Mn47/7dqU7TpDtv3jg014vo+q/e2txq5PL4L9kRQGN7UuXv1iFvUmww+A/hatiIeI76z/08egzDKLsP9liqPyDjuA/0JOyHFfhgr8P082ryT3jv39wy1sqVey/hixq8yiq6r9vhLnzG6rgv9I6p7A0u7E/euqLp3J64T/jjkKbDuPrP/a2Mqg54uo/r4QZ2SMy3D8CNsEbSlKZv74H37aDROO/DQGCEVtU7L+ji57VC47qvx3QFz13R96/MOFiEJ3AtT+7z01xeFbiP0KrcmHZjes/jdumsd8G6z8UIB/8Av/ZP0Pu8twrNsC/XEngTgqX5L9TyzRgg7Xtv9/g8z6JWOq/WJV7bcn94L/4FVBzQW+jP7IYZQbFh+Q/yi6Pc/ls6z8zT9VbUf/rPy01r5gHyts/+m5mPILWsb8eIdtX+PLjv4LoHquta+y/Rfsz3C1O6b8cySSftv/hv2gWgaaYabU/bCULp1jJ4j+QYQyUaM/qP0C/IkdkK+g/9K/tno9l3j+0b+AkFUS3vysW+2OwAuK/0XP779Wb678Tz/MWIMHnvx+XBYkgod6/nqkN78ARkD9/70gFWKXiP7ALUa/24Os/T+OXoqRT7D+LIB/9Hx7gP6zglGWNWKq/Zke5Z7j8378B/VPe40/tv9pzaEPbAuu/NVd0XGEd4L8by6HSELyqP2cMvaSNG+A/hfkm1k1P7D/OsIfU33fpP8qnXJvoQtg/YrXa4yr3v78EVxSqpMjhv38Yg8MT1um/0yPtUU535r9dmGa+VlnTv1ZRADV937g/YFHTU0Kt4D+c8YK2XqbnP1QMfmhH7ek/yoKkz33H2T+/W0psHnu5v/RqV8y0NuO/IADMWKkr678vqwygpKHnv1VgP71eltu/+TLuOha5sj8mDRy/G43gP+pPSr5vJug/4RJrUuhl6D977+1DB6HbP3BYaXTOsXQ/23BNTS354b/QQ4dCTiTpvzQF1pmg0Om/GY4PQlhO37+a8h09BB6jP7pOZJ+d/uA/gbmcqikB7j9W01TK4IrnP7QvnVCR6d0/zIg1yQEFwb9KzFI9IqPgv9l0ZXo63um/sqCnQd3y6L9k4Gy/lxPbv2w1LomuU60/2LJ17FzQ4j8BgTHUKaTpPzp8I/FElOY/pCD7ilGT1j9kkU5aa2S1v6+WnQJsF9+/8Knil6v/6b+yRbLCoJLov6kS83WKeNm/TrIEXCtvxD+KAyeNIWXiP6hNh6ife+k/d24OFBz/6T8OC2+X43rbP9RYPSLnJpS/qO6TWOW44b9Sb9QDR/zrv78YNM5+Quq/3uYjHqaM1L901Sjj7KXHPx3Pd8gBs+E/3gVW06JM6T+iZjfoAkHqP7gun4EbBNY/li2mANKbwr8LQxPRiO3gv+CHGFkibuq/tGDMmv3E57+SesPERc/Zv7qTmm9vnL4/P3MrrfYt5D/FM2f5lNTpP4CBqTFSo+g/X9P/c7p00j9Zkvhcz267v1JW+xQuP+O/3PAMN72F67/c60iKG9zovxqaXzBC0dm/cSwcHd6Fwz9+HQm7gX3fP3PYI+Inguk/S53AZSKH5j9jNXDc5G7XP0Ntsmvo/K2/6HqcBc354L8XiebP9zTnvzZTk0DzZee/QsytRK5x2r+gwmmu/na5P7dgl8SgMeI/8wDrP0+E6T9ASt3j5EPlPwlZZ9ZkPtg/Bvv6WWTnub/6WkQnTn7bvyN5ea+CHua/XY+xXR836L8oQQ6r2JzYv5qMJqwUKqU/IX3yWEnM4D9NSJaY4YPpPyVbSj5Ooeg/JjfYwMQZ1T/+1jxJ0hXDv4xKKUyfJeW/NY4xw6Qo6b/ftHtcfEDovwZPc83Q3ti/pJNkqgcNsz9ge3FBQofhP7ZB2/6E+eU/eF1XyIcO5D8u1dWy5LvdP5i1w1DUnMe/B9RIEtBm47+JMc1Gnrzlvz2D+07Om+G/HJHlM1Nq2r9sAExalX+6P6LgQ8kYKeI/ROnjg7BU6z/gcra2+IfkP/2FpDkOodU/W7uof9i4tb8i7Usbq+Lgv2CJqoNZDum/CIHVW6Ut5r/kE3K8J5Dav9kPuwXjE70/tdvw5x0f4T+c+gFGGbfoP6ls4sEw7uQ/9Li8g2ts1z/Kw6lmu5yzv6538Xr5Q+G/V5HQmLar578DMGhq4Jblv4wAnA7NqtW/JpSUhDrItz9kZAwGnfzhP7SzsNbM9+c/kMhE2i7h6D/jbkct73TaP/KirYhLhLy/h7Rzkcuq4r+GQFnSNsvpv/4xOctGe+O/em1Mm2dW1L8u03NHSATEPy2Z61C7Pd0/c1pY029j6T/5Zd9G0vjlPzl2cyEGYtE/6HEMx8EsxL8Ul0JOkPTgv4zzgxkftue//voifg+S5b8zpK3h7wbVvwPAzCOKgr8/yDWqtiOW4T9zc0eXdArqP64w1Tz02uA/ikpL8gez0z+jmHd4HnLAvzkiBLxp1eC/PKs9f0Es6L+TkWWi2qHnvwO5M9KwK9O/LZv/uu3VzD8vqucIpKLdPwdhP4L/2eg/Gk7BAPQn5D/Lr3/c5cnTP6XT4SW/uMi/4O+mKHXF4b+3mHdx/0flv/AvNwZAnOO/jMHrJWVqzL+eZEyo6bfJP5p1CE4g5+E/Wc76jjML6j++NUQbRxvlP5FzsQowK9Y/h4lNHzxHxL9Mne75xA7hv5Aq+iUCQ+i/jWuBTN2u4r8kUe40LQ/Xv1KBjRP2lMc/hVKIKKDS4D9cLjzNnOnoPwWK9B+oVOU/ib2+Ws/i2D8yphTFCi68v4g0wwNBm+O/l+6kb+MJ57+iBW5nOt7lv4J/1WvAfdS/iwzre9OgzD9d8ZMjDRPiP0rMd5jYtOU/n3Cl0DI84j/msTChSLbSP2wUkpvl7cq/CsnqcVQX4r9+U+/FDzjmvzFqNimd3+G/GiGMgmRv0L88cfiVYKeiP9Qh50eOd+E/RVzw8Sq65j8ifnfU8D/kPzQVRmooVdc/hhSOMm9b0L/8bLJHZ+PhvxgpNNR/j+W/XKkMfvv75b+WK+9LEm/KvxVhLjznC8Y/ww04tmRC4j+GOFMhnnzlPybLKKBln+Q/RoaDf80j1T9N7ZrrImDCv3u4BLDpfeC/VfnrY8Hc5b98IgOIypHkvxnPky2l+dG/13BEd3UQwz8GaTnyMnHhP8RN2yQZyuc/AoTHUtdc4T/4PJp5D+PQP1+vNQlcdrW/mJ5xZev64b98ng5BhGbnvzZb1NL4meK/QZZuQqW9zL+L8GQMi3TEP1KhDT7S4OI/8UXMtONZ5z+WfwoxOyTkP3V7TBzyodI/Jr23UQicpr/TXa97mArhvybuj1XiFOm/KhUh3xEZ4L+/+N4H0xzSv9FtaNiWZ8U/rahHXvzE4j+y7elnUjXjP1aIltZpiOA/wofdqbqgxj+bAiuQjPXJv3CvGAkB3d+/XTiUbFbU5L/9ww2rAffhv/sPnd8cwNS/Tq6WTT4CqT9tvZaDxq7gP881i5FQz+Q/i3aGwpMD4z+M10+M2ETSP56ACJVXT8S/pl3/PBmu3r+IYA8ZQBjlv+VqL8m0TeG/y8f9Qn0S0r+eCiKBXzPEP6VU9RrX1OA/0x2ui+Cr5j9cSfaEHWXhP4eXKKv1R9E/0IBldWw0x79NXVdiLqrgvw2KCEm+7eO/CqpimHsW5b/lwMDcRI/Tv1821B81Vrg/1Ef/sd9n2T8LXaXOfhHkPye7zzH9+OI/OZ9lsMKYzD8yEGa5hYnEv+qignOyTt2/5dWw8lzt4r98la6kZcLhv4RURparW8W/dJo0mwOKxj8Pa9gCUAjeP/q27SKp/+M/Dg95xrxP3j9qJYJC4/DHPx+pjFmSYsi/6+IukkAP3r9ZP1ELURjiv6qSSSDRnOO/1t2XwMO3yr8c3x/PDie/P6EI0eHJCOE/hECFd4qJ5D/k0OzzjLLcPyq9e7gzZNE/2UO6YmM/yr9pZklHkxbhv9QJhGyRW+a/Ph5+Regz4r9j/MoeRrfJv/kZqyJXTcU/o7pSrQG44D8rtBu04B/lPx6i3qm2JeM/co/NWUrgyT9SFnoS4wzQvwtZ41Jr49y/e3fXErn55L8hrdnTf0Levwr9tSkZPMm/7NOFEWHxxT8cO9MAH6vgP4P63wF3d+c/1crCNrEd5D++xFuh78DLP2VrLGth48W/YpgGWKGx3L8CKMDzK5nlvwW8WwTeI+C/DAIIpGUZy79XKFQTNQ3JP8qeRvRGY90/SlNZLzya4T9+H5MmYHnaP9q9TAnIaMM/vqVnMOwayr9540xzYnTgv9AUin5w8uC/MHgDKdNU3b8Kb4iQfizQv7ytbf8chck/fs/XeKaV3j8nCCjBIn7jP+DgbmQjneA/+Cs0FQ7JzT+FtxbVvZbJv1bZ9vwXZty/xGRpCBut5b+FrIvpljDgv9woK1lhqrG/0uq0V1j3yD+gOef9CyfiP7ZQuYav5eM/NRryNy8D4T8lxh+hgLvIPymSZOV6v8i/yordQXIQ4b/WwnCO2vbiv9HcT8BaVOG/8ahV6Q56xL+jrgiAVrjOPxWVwdVvXOA/uKa+wtYY4z/SS14P7pPgPyjdD0aJZ8Y/1FfgI9Dmwb+sNbd3janiv63qnoeb/uO/CTsBG//r4r8r5sTtFszQvw3biOiIXdA/DQih5iUf4T8zxq1GkzXiP8ewOEC5b9o/vCzUk7nOoj+YwzEuYpfLvwhNZPw8jNe/PdQGU1qR4r+ow8MtXmfgvxZ3z3KOWcS//SiHAbR2vD84OtIQf0HeP6gpTYqCU+M/hbWJPd2D3j/1QhwFqQrMP8eX3RySH8a/bNo2mYj73L+AGSxRFCzkv4zy2jNGsdu/fSqJkJRsuL9b/1CuqjnCP28EQCq7Mdw/fRr0c7Ec5T+4ZhMyr7rdP7VI2Nj4R88/I2jElKVey796OPKazkrav/Cqm341q+K/XrnnrdxK3b/DbqdqmOO3v9uk8JHTUsY/aMNJe5vZ2z9KGLhQ6xDiP3ZBjok5WN8/kSBOV3o0tz9shw+SmKjEv3wE7p7WP+C/4E/iJyva4L/MokRLT6viv/6jIvkYU8q/wT0gGtgVvD+/rCcWKAvcP5YdjoV+/eI/B4qfHEni3D/pM6IUuVbDP0NKsoNf88m/HYWTlgbz3b8Kzh/f9Rzkv1muoGg4+tq/YIDv0kRkwL/JCrxGen3LPz3yhh+SJeA/TNuhvCrh4j/WLbp4bsThPz8qVbsPwMM/XP0Ob1wVy79BocGIB2vgv6dwuQmJ9uO/JXfPcvpk4L+y2wbSYqzJv7FX4zeUwcg/CqINwh1o3z9Wi3AKtkziP2+sUjRoJNo/VduxhxxtyT9M/ApwnpDEv2D72gp+wt6/VdxUKVEr47+UF/g6mp/av0xdKJP7JMK/GI+eX7MdwD+nX4PWa/HdPxBxuYRoc+I/EhsoQXpJ2T985vpYWD/EP46FxsrXY9G/r8zgqd3L2b9rXPGMYeLfv+xqbCBLw9y/+T7Nls1kwL9KwQUJE0K0P4+IuJmBSNo/DsNIPF5g4T+6mgJ7WlDYP6MTA4Bd+8Y/Jkivhfuzub8WZYPweNTgv4LfVJsmGOO/Q8ywkUTI2r+2SbMv7ymvvxnsrZIY5ME/Egkr/E6a3j+W85LnoZPkP5GK0/DQCtY/pweKLTAysz/kfCwZ6YDMvzv/DDP2Yd+/RmeCzV1F4L9It7TnC1navxSl2MOT2sy/KfJ8oe4qzT/vzVk4icfbP4eFrLrghOM/SDCczkHo2D8U5d/xFz26PwksbRQUe8a/8p1kXcoY279vXnxaDqzgv52cxcZuDeC/niPTe4vnur8VnU4m0mXDPzS5imSbM94/AiCXEH4K3j9IN48Qle/bP6FUvkQn4LY//FG6Px8m0b/B5+2TKRPbv00/j0pR0uC/B/4ghCNF3L/wQ29lsROsv8TaIXG9Vsc/zCuyrz9f3T9vSkMMaIzhP4WwNrcIH9g/tp5jKvkHwz/xEng1O6TNv9E9f6Qmf96/m+oxM1Oy3b8dXuh54zvdv6BMzoBKK8+/u1rLm1hN0j9yYHE5p5/iP11z+9JrSuA/ZhkxqdaB0z+NwgL8b+i6P7g/JIj8MMy/d/zLz2mb3b/zav+uqKHiv9JesNwNp9e/c83pHMKZt7/IC1/I6NvAPyWMsRiDJd8/6kv09aoL5D9cH9wDUNzZP1Esb33tbrk/k5Gnn+hky7+ed9pDltnavzFktAYfceO/GgRElKmW2L+fA6pVXRjBv3xJCbyeL9M/xb1NpMUr3D+LizMH1UDjP+SUEqZPY9U/vA/4BN4Twj8orCmYlI/Iv0UF36cza9+/Vo7qJ4I24L9sUgaOo9jUv4XdbMTaHcC/FcXIowSrvz+9QvDRsH3cPwQnGfs87t0/o8vjdDNw1z+icTha0X+6P3b1P4pB0dK/+UtvgTPQ4L+qwuJ56Rnfv5BBq8HXA9q/QfXVuHXqzb8+5R941MvPP6Iblj68PN0/TMVExXwv3j9M/1UNJPDTPx1pJ88jlcI/D25TdiiXyL9a9o8phKbUv3QmEr+z896/pTPVCs+41r/hD6ZNXRK8v/xX9aV6DdA/HEnewSAv3j/+u3LBjhDiPx6qat0kG9Y/bCXQn6DVsz/UPkYYkP7NvyStyLjtj9m/JBQ+eyso27/BrImxKA7ZvyxNDyNiUr6/+j3ZE6r8zD+jLLlUGjfbP/OHKVfTaeE/RaLVFvQx0D+skdYch5GrPyp+5aoNBNC/M458nvaq4b+j+Ap2sVjhv5FIuIjnJNq//GBrwgVtur+8AVSAtxjRP2Sel1n7CNs/Zj0nRe4j3D8q21N+atnWP4yFs/GzYsI/cF5dxy2u0L9RUT/WTqTev1TYkzFde92/3hSqRK+O179juleYoxitv5pOnogHEss/PnVDisjh3T+fwHsls8nbPydLYPKxoNY/wiMk5Tejsz9lRZDTmH3Rv2Q8PSkxRuC//5p8pru83L8Z8g0IwJvXv3QMvX4NdsG/OZngD9efyj86CmwOPxDfPylo9qcid9c/GAGRvR6E0T8kPJjD5A+jP+Jsg49r7cG/O3+p1UF12r9rXqfeGSTcvyvtYwVdxtm/6Ot2k7GXwb8YFuRoxC7OP+tWLUYPdds/lFWmHcUX4D+6YHw8ClnVP/TnZKY07rc/F+EpP1JXyr87orDeu7DYv3AB3FZkrtu/PPsuZXn02r9T2z9aylPIv2yzoIlP5tA/v7tunWrj3j8modFtCNXaP34lsWSzSc8/9RMegT6utD9juHDd63bFvz7Ne+JiPtW/Jjnq7/ZH3L8yCBaWJZzWvwmp0hBgX76/uuWuUxWHyz8OMufkWvLZP+pl3nFQhdo/XpUuC3HN2z8RgD9LPanEP2ldMcsBN8S/WBiEk2fC3b/TEdG0hd7avyYNMYLWBtO/PIq8n56vqL85lQlNtsHRP+p34/wQwdw/XG8BhmzP3z9iIvzBi/DWPydIrd3G6LU/r+PArMp607+fsx0dl1zav0IHDps9D9+/RYHXgnbT2L94oyJRCb+RP1ZMX/yPUdM/CfwN3BXj3j9WteSWPO/dP9z6oP3s4dg/mjpJDd/KsD8nwWzWyEzKv9ghv4fm8d2/1NG9bqmv27+/akefwDLUv8DBkeOIbsC/VTYC/Y9Lyz9hM6loVBnaP0SwquomRuE/0IHYkbwV1z8Y3UvOacivP4j4ctfqDcq/OSKhr/Ae2r+3yM+//Ejdv1sd/3klhde/OOEDc9M8sb/omk8x5+TGPyEA2VlqK9Y/Irr/gbkc3j/CrNsnayTVP4caxtBbAaC/h9A4Dct5zL+gjCHlguTWvwHIWVmK7di/rpyghD9x0L9pMU8tPd+rv37j/ohwTcY/O7jECvGE1j/3Z9PkCEPdP42EsdZIxtQ/dHGwJI97vj+Ka3jZobDEv5YSY7uMUdq/qP3aZZ77379crTgfM2vUvxy2DJf2mKW/7O2OzVN0yj83/gxHV/TXP5RShvFPp9w/AJ0l82Wf0T8UtrA5LXmUP+nbRuBsxcm/ikkAkJf/2r//ujp/Hejav103oo0gM9K/+V56PwRTu790sM1QPrPIP9SSwrSjON4//RNt+TLQ1z+G2GfC0UfIPwyiHSY5A6e/0UoPMrqby7/BDVwWBm7Zv7aLlljDwNu/QIWM4MW8zb8/gACPQhDHv8Fw9wWMV84/6TWgxgZv3j/RPhKl7pzXP2w0I6xUYdE/QH3fsvLufT+nattVpcXQv1MPfPG4Y9q/4EVW3vV/1r/egv7e3x3Jv8FjG9Irz66/u3ymeA4D1D+FG04zJ17ZPzf25NFWQ+A/7Gz2ipb70T9qqLuo28OoPzoePvmogMm/ywM6/uv6zb/8XxkWiAnYvx/+LUKKY9S/AL/mYePAgD8CyG7G8YjJP94GvfLzgNc/WbohnTuE3T+MqPAQ+xHSPzWvL1j19qo/SnXyaefEy7/Q69IUBOfXvxNrmJbtGNm/XYW5RuED2L9AB/t6z9tvvz2bJqenlMU/Jr8WFdBF1D81J3O9gx7aP1lhvb+/7tE/wOFfcUP+UD8mIlWdi43GvwMJshV3F92/GSK7jTB127/cCJAOJmLTvwe23UK+tqK/BCmyoD+pzT8N5E+j6XrVP0+GxNXCUtw/sfOxY+6P0T+S9DFiUauvv9xEQ7ImNdS/9iU7h06n2L+tSrEUNJDav5uBmYCSitG/XLWlETi7oL/c8jxYolPNP9YBkOEtjts/vBynA+Em1j+MyKp/EJ/KPy5VTqsGb5m/yQm89DAJyr9MeMX/qnLUvxkosFCC8Nq/EHbGZP7q2L8mSLDkTBS9v+Ax4mrtjcY/E3V8CFGO1j8u+zJc0BrYP1T6Sb9s49A/s5QwAHlOhz9Mn3hDgivFv64oWD2yadq/IAHkFiMG3L/HnNxL8CvOv35et97hMrq/E8xWIvFgzj/1EaQloHzYPyiFEKFzpdg/ALt7Fw2O1T+UYDliunh8v/z82Oy2ZL2/4PYP+gPK2L8DIAdWBw/dv2YyabmNGtC/Ytpj+zabs79gLMBBghHHP0sO32JWP9k/8bEf6taa2j8eYp6Oi2LMP+NmXOI5HrI/wI8nXbh3xL/tjWe3O0rTv/lCLXX4/Na/Ov7ePMBax7/YcLeDqjS9v3Q6lnoU1sk/h0zQOmIF1T+1KMHFcevYP7+9hm92I8w/CV5H4RNIhT8CmmyZaKO/v4cygpl4P9i/OCqytw0S17+VuyTa7H/Qv/AsB28x0Iu/NJd7CZvlyz8gla2ohgzZP3jj4AUP+9s/oiTVEzTj1D8PPf9KUiSgP6wu0ELkE8i/YbSq3+M0279t3xiG+2PYv/zdf5Mz78i/NBmZ7dM+nT9tNtXjVTLNPztwWaIZRdo/NocOybuJ2T9YxR13ny3TP9zi1DHFlJw/0umPTwMczr+1AuMvu0TWv9zrgmQlmuC/W3Uz76vyy78/hFO0CejIvxj5ZKrkysA/E/F7jdmy2D+zt56yvTbZP/ZG/a06r8Y/2+PhqtpOmb984YFWRwrDv7wEwMo1tti/ZhMu0kte0L+vBjcmF93Nvyt8Zx5nDoY/6mGdKuYS0z/gWeo+/H3XP2ggCxLfMtQ//5AqHcrgzD9xNImpmg57P11S+Gm2QtK/vQf6ezTN17//3NMMcKTZv/FfKCQmZce/WbRYNEU1dr/yvOo9m/bJP4aUwriljdY/BRbgEM7X1z+paOkj137QP6fi9pBbjqa/oEK2mmI20b+GdDQ3tUTTv6USSsqLT9i/pFNITyzs0r+ULTgakOORP+Y0HJiAtc4/7AMlJsHQ0T/dC19PopbXP3f5zyM/nNA/tjZ+FbjGlj9ABHFCwa7HvwitnuYsHtu/Bre32Xuo1b8G5O5K3i/OvyjN22WqHJu/11S1UBek0D9L3LR8ukTbPzCnTZXLUtw/mZb68LIz0j+j39zTELZxvwGAQSBvb8m/5O3gj9z90792g2dN5g7Wv1mkCMyM5Mq/pHojbIwWpT8=",
          "dtype": "f8"
         }
        },
        {
         "line": {
          "dash": "dash"
         },
         "mode": "lines",
         "name": "Fitted Curve",
         "type": "scatter",
         "x": {
          "bdata": "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",
          "dtype": "f8"
         },
         "y": {
          "bdata": "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",
          "dtype": "f8"
         }
        }
       ],
       "layout": {
        "template": {
         "data": {
          "bar": [
           {
            "error_x": {
             "color": "#2a3f5f"
            },
            "error_y": {
             "color": "#2a3f5f"
            },
            "marker": {
             "line": {
              "color": "#E5ECF6",
              "width": 0.5
             },
             "pattern": {
              "fillmode": "overlay",
              "size": 10,
              "solidity": 0.2
             }
            },
            "type": "bar"
           }
          ],
          "barpolar": [
           {
            "marker": {
             "line": {
              "color": "#E5ECF6",
              "width": 0.5
             },
             "pattern": {
              "fillmode": "overlay",
              "size": 10,
              "solidity": 0.2
             }
            },
            "type": "barpolar"
           }
          ],
          "carpet": [
           {
            "aaxis": {
             "endlinecolor": "#2a3f5f",
             "gridcolor": "white",
             "linecolor": "white",
             "minorgridcolor": "white",
             "startlinecolor": "#2a3f5f"
            },
            "baxis": {
             "endlinecolor": "#2a3f5f",
             "gridcolor": "white",
             "linecolor": "white",
             "minorgridcolor": "white",
             "startlinecolor": "#2a3f5f"
            },
            "type": "carpet"
           }
          ],
          "choropleth": [
           {
            "colorbar": {
             "outlinewidth": 0,
             "ticks": ""
            },
            "type": "choropleth"
           }
          ],
          "contour": [
           {
            "colorbar": {
             "outlinewidth": 0,
             "ticks": ""
            },
            "colorscale": [
             [
              0,
              "#0d0887"
             ],
             [
              0.1111111111111111,
              "#46039f"
             ],
             [
              0.2222222222222222,
              "#7201a8"
             ],
             [
              0.3333333333333333,
              "#9c179e"
             ],
             [
              0.4444444444444444,
              "#bd3786"
             ],
             [
              0.5555555555555556,
              "#d8576b"
             ],
             [
              0.6666666666666666,
              "#ed7953"
             ],
             [
              0.7777777777777778,
              "#fb9f3a"
             ],
             [
              0.8888888888888888,
              "#fdca26"
             ],
             [
              1,
              "#f0f921"
             ]
            ],
            "type": "contour"
           }
          ],
          "contourcarpet": [
           {
            "colorbar": {
             "outlinewidth": 0,
             "ticks": ""
            },
            "type": "contourcarpet"
           }
          ],
          "heatmap": [
           {
            "colorbar": {
             "outlinewidth": 0,
             "ticks": ""
            },
            "colorscale": [
             [
              0,
              "#0d0887"
             ],
             [
              0.1111111111111111,
              "#46039f"
             ],
             [
              0.2222222222222222,
              "#7201a8"
             ],
             [
              0.3333333333333333,
              "#9c179e"
             ],
             [
              0.4444444444444444,
              "#bd3786"
             ],
             [
              0.5555555555555556,
              "#d8576b"
             ],
             [
              0.6666666666666666,
              "#ed7953"
             ],
             [
              0.7777777777777778,
              "#fb9f3a"
             ],
             [
              0.8888888888888888,
              "#fdca26"
             ],
             [
              1,
              "#f0f921"
             ]
            ],
            "type": "heatmap"
           }
          ],
          "histogram": [
           {
            "marker": {
             "pattern": {
              "fillmode": "overlay",
              "size": 10,
              "solidity": 0.2
             }
            },
            "type": "histogram"
           }
          ],
          "histogram2d": [
           {
            "colorbar": {
             "outlinewidth": 0,
             "ticks": ""
            },
            "colorscale": [
             [
              0,
              "#0d0887"
             ],
             [
              0.1111111111111111,
              "#46039f"
             ],
             [
              0.2222222222222222,
              "#7201a8"
             ],
             [
              0.3333333333333333,
              "#9c179e"
             ],
             [
              0.4444444444444444,
              "#bd3786"
             ],
             [
              0.5555555555555556,
              "#d8576b"
             ],
             [
              0.6666666666666666,
              "#ed7953"
             ],
             [
              0.7777777777777778,
              "#fb9f3a"
             ],
             [
              0.8888888888888888,
              "#fdca26"
             ],
             [
              1,
              "#f0f921"
             ]
            ],
            "type": "histogram2d"
           }
          ],
          "histogram2dcontour": [
           {
            "colorbar": {
             "outlinewidth": 0,
             "ticks": ""
            },
            "colorscale": [
             [
              0,
              "#0d0887"
             ],
             [
              0.1111111111111111,
              "#46039f"
             ],
             [
              0.2222222222222222,
              "#7201a8"
             ],
             [
              0.3333333333333333,
              "#9c179e"
             ],
             [
              0.4444444444444444,
              "#bd3786"
             ],
             [
              0.5555555555555556,
              "#d8576b"
             ],
             [
              0.6666666666666666,
              "#ed7953"
             ],
             [
              0.7777777777777778,
              "#fb9f3a"
             ],
             [
              0.8888888888888888,
              "#fdca26"
             ],
             [
              1,
              "#f0f921"
             ]
            ],
            "type": "histogram2dcontour"
           }
          ],
          "mesh3d": [
           {
            "colorbar": {
             "outlinewidth": 0,
             "ticks": ""
            },
            "type": "mesh3d"
           }
          ],
          "parcoords": [
           {
            "line": {
             "colorbar": {
              "outlinewidth": 0,
              "ticks": ""
             }
            },
            "type": "parcoords"
           }
          ],
          "pie": [
           {
            "automargin": true,
            "type": "pie"
           }
          ],
          "scatter": [
           {
            "fillpattern": {
             "fillmode": "overlay",
             "size": 10,
             "solidity": 0.2
            },
            "type": "scatter"
           }
          ],
          "scatter3d": [
           {
            "line": {
             "colorbar": {
              "outlinewidth": 0,
              "ticks": ""
             }
            },
            "marker": {
             "colorbar": {
              "outlinewidth": 0,
              "ticks": ""
             }
            },
            "type": "scatter3d"
           }
          ],
          "scattercarpet": [
           {
            "marker": {
             "colorbar": {
              "outlinewidth": 0,
              "ticks": ""
             }
            },
            "type": "scattercarpet"
           }
          ],
          "scattergeo": [
           {
            "marker": {
             "colorbar": {
              "outlinewidth": 0,
              "ticks": ""
             }
            },
            "type": "scattergeo"
           }
          ],
          "scattergl": [
           {
            "marker": {
             "colorbar": {
              "outlinewidth": 0,
              "ticks": ""
             }
            },
            "type": "scattergl"
           }
          ],
          "scattermap": [
           {
            "marker": {
             "colorbar": {
              "outlinewidth": 0,
              "ticks": ""
             }
            },
            "type": "scattermap"
           }
          ],
          "scattermapbox": [
           {
            "marker": {
             "colorbar": {
              "outlinewidth": 0,
              "ticks": ""
             }
            },
            "type": "scattermapbox"
           }
          ],
          "scatterpolar": [
           {
            "marker": {
             "colorbar": {
              "outlinewidth": 0,
              "ticks": ""
             }
            },
            "type": "scatterpolar"
           }
          ],
          "scatterpolargl": [
           {
            "marker": {
             "colorbar": {
              "outlinewidth": 0,
              "ticks": ""
             }
            },
            "type": "scatterpolargl"
           }
          ],
          "scatterternary": [
           {
            "marker": {
             "colorbar": {
              "outlinewidth": 0,
              "ticks": ""
             }
            },
            "type": "scatterternary"
           }
          ],
          "surface": [
           {
            "colorbar": {
             "outlinewidth": 0,
             "ticks": ""
            },
            "colorscale": [
             [
              0,
              "#0d0887"
             ],
             [
              0.1111111111111111,
              "#46039f"
             ],
             [
              0.2222222222222222,
              "#7201a8"
             ],
             [
              0.3333333333333333,
              "#9c179e"
             ],
             [
              0.4444444444444444,
              "#bd3786"
             ],
             [
              0.5555555555555556,
              "#d8576b"
             ],
             [
              0.6666666666666666,
              "#ed7953"
             ],
             [
              0.7777777777777778,
              "#fb9f3a"
             ],
             [
              0.8888888888888888,
              "#fdca26"
             ],
             [
              1,
              "#f0f921"
             ]
            ],
            "type": "surface"
           }
          ],
          "table": [
           {
            "cells": {
             "fill": {
              "color": "#EBF0F8"
             },
             "line": {
              "color": "white"
             }
            },
            "header": {
             "fill": {
              "color": "#C8D4E3"
             },
             "line": {
              "color": "white"
             }
            },
            "type": "table"
           }
          ]
         },
         "layout": {
          "annotationdefaults": {
           "arrowcolor": "#2a3f5f",
           "arrowhead": 0,
           "arrowwidth": 1
          },
          "autotypenumbers": "strict",
          "coloraxis": {
           "colorbar": {
            "outlinewidth": 0,
            "ticks": ""
           }
          },
          "colorscale": {
           "diverging": [
            [
             0,
             "#8e0152"
            ],
            [
             0.1,
             "#c51b7d"
            ],
            [
             0.2,
             "#de77ae"
            ],
            [
             0.3,
             "#f1b6da"
            ],
            [
             0.4,
             "#fde0ef"
            ],
            [
             0.5,
             "#f7f7f7"
            ],
            [
             0.6,
             "#e6f5d0"
            ],
            [
             0.7,
             "#b8e186"
            ],
            [
             0.8,
             "#7fbc41"
            ],
            [
             0.9,
             "#4d9221"
            ],
            [
             1,
             "#276419"
            ]
           ],
           "sequential": [
            [
             0,
             "#0d0887"
            ],
            [
             0.1111111111111111,
             "#46039f"
            ],
            [
             0.2222222222222222,
             "#7201a8"
            ],
            [
             0.3333333333333333,
             "#9c179e"
            ],
            [
             0.4444444444444444,
             "#bd3786"
            ],
            [
             0.5555555555555556,
             "#d8576b"
            ],
            [
             0.6666666666666666,
             "#ed7953"
            ],
            [
             0.7777777777777778,
             "#fb9f3a"
            ],
            [
             0.8888888888888888,
             "#fdca26"
            ],
            [
             1,
             "#f0f921"
            ]
           ],
           "sequentialminus": [
            [
             0,
             "#0d0887"
            ],
            [
             0.1111111111111111,
             "#46039f"
            ],
            [
             0.2222222222222222,
             "#7201a8"
            ],
            [
             0.3333333333333333,
             "#9c179e"
            ],
            [
             0.4444444444444444,
             "#bd3786"
            ],
            [
             0.5555555555555556,
             "#d8576b"
            ],
            [
             0.6666666666666666,
             "#ed7953"
            ],
            [
             0.7777777777777778,
             "#fb9f3a"
            ],
            [
             0.8888888888888888,
             "#fdca26"
            ],
            [
             1,
             "#f0f921"
            ]
           ]
          },
          "colorway": [
           "#636efa",
           "#EF553B",
           "#00cc96",
           "#ab63fa",
           "#FFA15A",
           "#19d3f3",
           "#FF6692",
           "#B6E880",
           "#FF97FF",
           "#FECB52"
          ],
          "font": {
           "color": "#2a3f5f"
          },
          "geo": {
           "bgcolor": "white",
           "lakecolor": "white",
           "landcolor": "#E5ECF6",
           "showlakes": true,
           "showland": true,
           "subunitcolor": "white"
          },
          "hoverlabel": {
           "align": "left"
          },
          "hovermode": "closest",
          "mapbox": {
           "style": "light"
          },
          "paper_bgcolor": "white",
          "plot_bgcolor": "#E5ECF6",
          "polar": {
           "angularaxis": {
            "gridcolor": "white",
            "linecolor": "white",
            "ticks": ""
           },
           "bgcolor": "#E5ECF6",
           "radialaxis": {
            "gridcolor": "white",
            "linecolor": "white",
            "ticks": ""
           }
          },
          "scene": {
           "xaxis": {
            "backgroundcolor": "#E5ECF6",
            "gridcolor": "white",
            "gridwidth": 2,
            "linecolor": "white",
            "showbackground": true,
            "ticks": "",
            "zerolinecolor": "white"
           },
           "yaxis": {
            "backgroundcolor": "#E5ECF6",
            "gridcolor": "white",
            "gridwidth": 2,
            "linecolor": "white",
            "showbackground": true,
            "ticks": "",
            "zerolinecolor": "white"
           },
           "zaxis": {
            "backgroundcolor": "#E5ECF6",
            "gridcolor": "white",
            "gridwidth": 2,
            "linecolor": "white",
            "showbackground": true,
            "ticks": "",
            "zerolinecolor": "white"
           }
          },
          "shapedefaults": {
           "line": {
            "color": "#2a3f5f"
           }
          },
          "ternary": {
           "aaxis": {
            "gridcolor": "white",
            "linecolor": "white",
            "ticks": ""
           },
           "baxis": {
            "gridcolor": "white",
            "linecolor": "white",
            "ticks": ""
           },
           "bgcolor": "#E5ECF6",
           "caxis": {
            "gridcolor": "white",
            "linecolor": "white",
            "ticks": ""
           }
          },
          "title": {
           "x": 0.05
          },
          "xaxis": {
           "automargin": true,
           "gridcolor": "white",
           "linecolor": "white",
           "ticks": "",
           "title": {
            "standoff": 15
           },
           "zerolinecolor": "white",
           "zerolinewidth": 2
          },
          "yaxis": {
           "automargin": true,
           "gridcolor": "white",
           "linecolor": "white",
           "ticks": "",
           "title": {
            "standoff": 15
           },
           "zerolinecolor": "white",
           "zerolinewidth": 2
          }
         }
        },
        "title": {
         "text": "Fitted Params: {'frequency': np.float64(9.999770380823177), 'damping_rate': np.float64(0.9931474568245174), 'phase': np.float64(0.09861836879537521)}"
        },
        "width": 900,
        "xaxis": {
         "title": {
          "text": "time (s)"
         }
        },
        "yaxis": {
         "title": {
          "text": "Signal Amplitude (arb. u.)"
         }
        }
       }
      }
     },
     "metadata": {},
     "output_type": "display_data"
    }
   ],
   "source": [
    "# True model parameters\n",
    "true_params: Dict[str, float] = dict(\n",
    "    frequency=10.0, amplitude=1.0, damping_rate=0.1, phase=0.0\n",
    ")\n",
    "\n",
    "\n",
    "np_rng = np.random.default_rng(42)\n",
    "# 1. Generate clean data\n",
    "x_samp: npt.NDArray[np.float64] = np.linspace(0, 10, 1000)\n",
    "y_clean: npt.NDArray[np.float64] = damp_sine_wave(x_samp, **true_params)\n",
    "\n",
    "# 2. Add noise\n",
    "rng = np.random.default_rng(seed=42)\n",
    "noise: npt.NDArray[np.float64] = np_rng.normal(scale=0.05, size=x_samp.shape)\n",
    "y_noisy = y_clean + noise\n",
    "\n",
    "\n",
    "# 3. Define a wrapper for curve_fit\n",
    "# Wrapper for curve_fit\n",
    "def wrapper(\n",
    "    x: npt.NDArray[np.float64],\n",
    "    frequency: float,\n",
    "    amplitude: float,\n",
    "    damping_rate: float,\n",
    "    phase: float,\n",
    ") -> npt.NDArray[np.float64]:\n",
    "    return damp_sine_wave(\n",
    "        x,\n",
    "        frequency=frequency,\n",
    "        damping_rate=damping_rate,\n",
    "        phase=phase,\n",
    "        amplitude=amplitude,\n",
    "    )\n",
    "\n",
    "\n",
    "key_order = (\"frequency\", \"amplitude\", \"damping_rate\", \"phase\")\n",
    "\n",
    "# 4. Fit data with perturbed initial guess\n",
    "initial_guess = [true_params[k] for k in key_order]  # intentionally inaccurate\n",
    "initial_guess = np.array(initial_guess)\n",
    "initial_guess = (\n",
    "    initial_guess + np_rng.normal(scale=0.9, size=initial_guess.shape) * initial_guess\n",
    ")  # add some noise to the initial guess\n",
    "print(initial_guess)\n",
    "popt, pcov = curve_fit(wrapper, x_samp, y_noisy, p0=initial_guess)\n",
    "fitted_params = dict(zip([\"frequency\", \"damping_rate\", \"phase\"], popt))\n",
    "\n",
    "# 5. Visualize\n",
    "fig = go.Figure().update_layout(width=900)\n",
    "\n",
    "fig.add_trace(go.Scatter(name=\"True Function\", mode=\"lines\", x=x_samp, y=y_clean))\n",
    "fig.add_trace(\n",
    "    go.Scatter(\n",
    "        name=\"Noisy Data\", mode=\"markers\", x=x_samp, y=y_noisy, line=dict(width=1)\n",
    "    )\n",
    ")\n",
    "fig.add_trace(\n",
    "    go.Scatter(\n",
    "        name=\"Fitted Curve\",\n",
    "        mode=\"lines\",\n",
    "        x=x_samp,\n",
    "        y=wrapper(x_samp, *popt),\n",
    "        line=dict(dash=\"dash\"),\n",
    "    )\n",
    ")\n",
    "\n",
    "fig.update_layout(\n",
    "    xaxis_title=\"time (s)\",\n",
    "    yaxis_title=\"Signal Amplitude (arb. u.)\",\n",
    "    title=f\"Fitted Params: {fitted_params}\",\n",
    ")\n",
    "fig.show()"
   ]
  },
  {
   "cell_type": "code",
   "execution_count": 5,
   "id": "6180d35a",
   "metadata": {},
   "outputs": [
    {
     "data": {
      "text/plain": [
       "200000"
      ]
     },
     "execution_count": 5,
     "metadata": {},
     "output_type": "execute_result"
    }
   ],
   "source": [
    "10**4 * 10 * 2"
   ]
  },
  {
   "cell_type": "code",
   "execution_count": 6,
   "id": "c4cd4447",
   "metadata": {},
   "outputs": [
    {
     "name": "stdout",
     "output_type": "stream",
     "text": [
      "Starting parallel fits...\n"
     ]
    },
    {
     "name": "stderr",
     "output_type": "stream",
     "text": [
      "100%|██████████| 300/300 [00:17<00:00, 17.50it/s]\n"
     ]
    },
    {
     "data": {
      "application/vnd.plotly.v1+json": {
       "config": {
        "plotlyServerURL": "https://plot.ly"
       },
       "data": [
        {
         "mode": "lines+markers",
         "name": "RMSE frequency",
         "type": "scatter",
         "x": {
          "bdata": "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",
          "dtype": "f8"
         },
         "xaxis": "x",
         "y": [
          0.1873639274146283,
          0.16906037141248761,
          0.14799133820234137,
          0.13012839992079206,
          0.11992834264216405,
          0.10517741144690694,
          0.09252453619085307,
          0.08152341316632307,
          0.07188783712583012,
          0.06341352424365763,
          0.055940000510895725,
          0.0493381774255733,
          0.043499023851746754,
          0.03833078306796242,
          0.03375403641685708,
          0.029699697325152926,
          0.026070454221067085,
          0.022874115295165056,
          0.020046026435535894,
          0.017544219051556287,
          0.01533172408624222,
          0.013376009199525465,
          0.011648357000866642,
          0.010122835720029961,
          0.008777125918712998,
          0.007435983706180533,
          0.006401129075482314,
          0.0056279909676992665,
          0.004692062673739758,
          0.003991797766124601,
          0.003495869993700752,
          0.0028455229264034484,
          0.0023815265353205463,
          0.001980118730100312,
          0.0016349896952656147,
          0.0013407649063412476,
          0.0012084727335695208,
          0.000978844094379885,
          0.0007896523284709562,
          0.0006004452139595481,
          0.0005542249482611365,
          0.0004483502375130771,
          0.0004442813170541125,
          0.0004281838618379933,
          0.00041792571738159584,
          0.0003929225810625209,
          0.0004035952729740002,
          0.00041326446360043646,
          0.0004267635730638099,
          0.00042270377496443466,
          0.0004212504288800555,
          0.00043016129741802573,
          0.00040600654137956026,
          0.00040415971705407927,
          0.00037614110729519,
          0.00036499956058187846,
          0.0003414378652231803,
          0.0003159373298901239,
          0.0002761386093577387,
          0.00026296543784793216,
          0.000244396905398909,
          0.0002288567014657766,
          0.00020650040411629707,
          0.0002184884373601649,
          0.00022033231816534718,
          0.00020468623890448166,
          0.00020596319269499612,
          0.00020242823753286867,
          0.0001897842492029519,
          0.00018160219102236378,
          0.00015950303498860917,
          0.00014711386749572736,
          0.00014705925285877263,
          0.00014470354170297072,
          0.00013922946975746876,
          0.00015204733023769062,
          0.00013799205572637117,
          0.0001356915741498494,
          0.0001219915780611312,
          0.00011186656133867913,
          0.0001109176289512721,
          0.00011275328193069813,
          0.00011236956442180173,
          0.0001065004878132703,
          0.00009410241522363031,
          0.00008591869533340626,
          0.00009494931954490795,
          0.00009001308948261722,
          0.00008489265901844841,
          0.00008091233647377041,
          0.00007854269677400996,
          0.00007968463972367268,
          0.00006760294357641705,
          0.00006863761242571173,
          0.0000691406526905117,
          0.00006175116564667098,
          0.00006296336953502117,
          0.00006139115228502157,
          0.00006145421509116337,
          0.00005766636348461089,
          0.0000571040864914288,
          0.00005470089855214501,
          0.000047964040271907,
          0.00004550355161026185,
          0.00004667061575669919,
          0.00004373855719244807,
          0.00004497294408556655,
          0.000040242629277822645,
          0.00003968174529052966,
          0.00003770420464994939,
          0.00003759133129104422,
          0.00003603315633255604,
          0.00003454506665170461,
          0.00003372293000599723,
          0.00003229422730211052,
          0.0000316673238888686,
          0.00003041694679537484,
          0.00002790601424786915,
          0.00002860537538324034,
          0.000026572311380854033,
          0.000023312103592386574,
          0.00002441112379929705,
          0.000024068885675523302,
          0.000023793793899692637,
          0.000021476384633439023,
          0.000021272091287088846,
          0.000021597324291872747,
          0.000020349145371128195,
          0.000021263506832207306,
          0.000017729681808882328,
          0.00001885558111782305,
          0.000016634614152244225,
          0.000017446593930356728,
          0.000016057078610026087,
          0.00001659619225873053,
          0.00001488496918888251,
          0.000013655096561342476,
          0.000013950934806179986,
          0.000013437738545664346,
          0.000012844264576672826,
          0.000011343421123475182,
          0.000013147683091142147,
          0.000011575763530237284,
          0.00001206976719706423,
          0.000011209029715713496,
          0.000010951827321445273,
          0.000010777458146109934,
          0.000009484232233872264,
          0.000009381476682519246,
          0.000009518126210600772,
          0.000010029321225242308,
          0.000009190152390093945,
          0.00000846120308012427,
          0.000008305061681959209,
          0.000008181162182924324,
          0.00000781906976805023,
          0.000007080174356143549,
          0.0000068774689616534344,
          0.000007393769024336196,
          0.000006624906660697441,
          0.000006650748576475561,
          0.000006276050717979425,
          0.000006471517694625608,
          0.000005876650603333326,
          0.000006369456544169701,
          0.0000055675099563170535,
          0.000005625679314512035,
          0.000005484455724181764,
          0.000005670148507700598,
          0.00000543480446154041,
          0.0000047357757923712045,
          0.000004947456413814918,
          0.000004612478270670516,
          0.000004657415230285639,
          0.000004608623765812596,
          0.000004442752243698531,
          0.000004349577060653261,
          0.000004739196873059335,
          0.0000043543420796677676,
          0.000004156378825033767,
          0.000003942025995359546,
          0.0000037179453851306343,
          0.000004231727031147662,
          0.000003933729457305733,
          0.000003600362208933423,
          0.0000036402846844232374,
          0.0000036317306566494876,
          0.0000035757577101155483,
          0.000003456762340828592,
          0.0000035586615473328355,
          0.0000033818694532055967,
          0.0000034288687486696973,
          0.0000032696689127365016,
          0.0000032600851697420362,
          0.0000034950389821131527,
          0.0000035417367980061666,
          0.0000034914982109492974,
          0.0000031687361615292474,
          0.0000034738438067615262,
          0.0000032866131318518444,
          0.0000035771469431006383,
          0.0000035013290202932535,
          0.0000035651382552119797,
          0.0000037145446363361373,
          0.000003703849526642672,
          0.0000033997843314350074,
          0.000003541426558281383,
          0.0000036259834317024485,
          0.000003536249611081523,
          0.0000037141220295104783,
          0.000003635296284542356,
          0.0000036265711362376877,
          0.000004331658511135784,
          0.0000038079935040989126,
          0.000004059273633068827,
          0.000004132990121928496,
          0.000004369628365297629,
          0.000004112062783556276,
          0.000004159799297105623,
          0.0000043721178343300745,
          0.000004472780823152255,
          0.000004764346073117598,
          0.0000045231154366349245,
          0.0000042592550047752595,
          0.0000046495586889499,
          0.000004583083021836254,
          0.000004765192675307843,
          0.000004598831002605331,
          0.000005096682255862379,
          0.000004996888442352056,
          0.000005259630939158198,
          0.000005336900115873764,
          0.000005547519697400538,
          0.0000059316794147835965,
          0.00000532811593092361,
          0.000006085300197850155,
          0.000005617405002698781,
          0.000006345501013113921,
          0.0000062417921864102955,
          0.00000591800360149238,
          0.000006696926273005293,
          0.000006839402208450597,
          0.000006773991240321095,
          0.000006919910181877039,
          0.000006655795507323384,
          0.000006928250626571625,
          0.000007139628362031912,
          0.0000075162680283974185,
          0.000007491759519051925,
          0.000007203275742196586,
          0.000007588756518496188,
          0.000008316932065777976,
          0.000008213803722175672,
          0.000008746801990670489,
          0.000008417994377876378,
          0.000009005848815783353,
          0.000008970337559549718,
          0.000008600230881989013,
          0.00000956761835812575,
          0.000009496916202936154,
          0.00000905535282857023,
          0.000009134115721153643,
          0.00000876762701945667,
          0.000027081887056302575,
          0.000010122795926295092,
          0.000010929228463387853,
          0.000010881775539170555,
          0.000010560292218338405,
          0.00001091566102620312,
          0.000011574966514647146,
          0.000010420229760993814,
          0.000010451016504943002,
          0.000012154322842354969,
          0.00001170704269521885,
          0.000011473968660352628,
          0.000011198796820649278,
          0.000011931059635555332,
          0.00001231448128184543,
          0.000013193001168532431,
          0.000014462475817596286,
          0.000013500581020303602,
          0.000013924667043158987,
          0.000014027204896442154,
          0.000014512740882904125,
          0.000014041045469463438,
          0.000014163806708428844,
          0.000015025740739704051,
          0.00001550245756679734,
          0.000013599801525706976,
          0.000015136789339034409,
          0.000015372360210683467,
          0.000016788732325541157,
          0.00001594705808688403,
          0.000017065170909917773,
          0.000017891915550152705,
          0.00001704126219913957,
          0.000017400204707829453,
          0.000018018652171415012,
          0.00001850204434356915,
          0.00001748663173772927
         ],
         "yaxis": "y"
        },
        {
         "line": {
          "dash": "dot"
         },
         "mode": "lines+markers",
         "name": "stderr frequency",
         "type": "scatter",
         "x": {
          "bdata": "FzmcYKqZuT85m+DT75q6PwFg18ROprs/+2lmsyy8vD9xoY4b89y9P0hNeZ0PCb8/FwmME3ogwD+4tLOPi8LAPyMAssn5asE/ygpisgQawj8jTEO97s/CP4s9tfn8jMM/QbYwLXdRxD9U8Yjupx3FP9OZPsLc8cU/zKHvN2bOxj8rFe8ImLPHPz+KEDjJocg/pUazMlSZyT9+qRnzlprKP/fpGSTzpcs/H701Rs67zD+J/ibWkdzNP3gF8HSrCM8/GHK/iEYg0D8ttPmJVsLQP8EpTEXDatE/IXRQrMwZ0j+zSl4ztc/SP/adyerBjNM/U6MemTpR1D9NxmXWaR3VPzzgeSid8dU/g4B7ICXO1j/3e2x5VbPXP4hr/zeFodg/xDenyw6Z2T8ZSfMwUJraPwx0RRWrpds/pDzv+4S73D/glcRkR9zdP+HQMvRfCN8/BYJ1TiAg4D9n5pflL8LgP85360icauE/CgCIbKUZ4j/k9IDHjc/iP9jyKG2ajOM/cZJTJxNR5D/snZ+RQh3lP04S1DV28eU/ysBaqf7N5j/e0uOrL7PnP7LlPUdgoeg/Oehu8OqY6T+VYhqqLZrqP/RNQiiKpes/ZSlw9WW77D8Wg1SZKtztP+m968BFCO8/jbgbtBQg8D9RLs4CJsLwP2PHeluUavE/VwA3uJ8Z8j/rT5mWis/yP124BxGajPM/3JoF+RVR9D+A5YrySB31Pz8bb5CA8fU/aiDzcQ3O9j/aJXVhQ7P3P+eAWnR5ofg/9rY7LAqZ+T88gV+ZU5r6P90Pkn63pfs/y1tmdpu7/D9S5O8Zadz9P/DIAymOCP8/f2QIWj4gAECVKc+jVcIAQD66wYzKagFAE5LzG90ZAkC7Dg7dz88CQJGatfnnjANARO3vU21RBECVoJWhqh0FQG7B2Yjt8QVAxnPyvYbOBkAhM+4hyrMHQBKxweIOoghAJtCanK+ZCUCvu4V8CpsKQImkcWSBpgtAKTijEHq8DECpeqM+Xt0NQPZFutWbCQ9ALiiCiNIgEEDHoZpV+MIQQJiNCwZ9axFAzlvsu6AaEkBPJx8gptASQL+U43vSjRNA13Zu021SFEAjwpABwx4VQH3KeNQf8xVAhDmZK9XPFkDAp8EWN7UXQGJBdfacoxhAOmWMnWGbGUAqty5045waQCOxM5yEqBtAaFX4Fqu+HEBpQ7nswN8dQLcWgVU0DB9AT9Ld8TsiIEBSsT9YgcQgQKp+z0QobSFAyPbKEHEcIkDt1LGgntIiQBL1NH72jyNATawx88BUJECLe8QlSSElQF69fjXd9SVADnLLWc7SJkAy1o8BcbgnQNL+FPQcpyhAYU1Icy2fKUA7KmFfAaEqQEcb+1v7rCtAC/iz9oHDLEBWtF7P/+QtQM7428HjES9ArkTViFAlMEDpJqHL18cwQF3WpvfFcDFA1+nq1VsgMkDMvbvD3NYyQJhdW82OlDNAscPEybpZNEC/0Jh3rCY1QLPuP5uy+zVA6vRNHh/ZNkBBiDYwR783QIDjYGiDrjhAOa2q6S+nOUCrRWqHrKk6QCnFAexctjtAqr8UwajNPED0x3PZ++89QOGi0VzGHT9AGI6rer4rQECuwJV/zM5AQOVzBF1MeEFAGUt6vn8oQkDDlxr2qt9CQC3K0BgVnkNAuG+yGwhkREABsqry0DFFQDgZf7C/B0ZAly0+qCfmRkDZfSmQX81HQFCGLabBvUhALP361au3SUCgHtbgf7tKQCPAMYejyUtA8C0ttIDiTEAAKw2rhQZOQKLTyTYlNk9AjFPmbes4UECJy/2FC91QQIHbl66zh1FAav0bYSc5UkB7N0XjrPFSQF43ZGaNsVNAilAeKBV5VECb+L2Uk0hVQDaoKmtbIFZAkm2f4sIAV0Df+zjSI+pXQLOgddrb3FhASELDkEzZWUAqaDmt299aQPBPnzrz8FtA8zrgyAENXUDwdBKiejReQE4ZOALWZ19AG6nxqMhTYEDoXvWxF/pgQBHoLlscp2FAbTx22x1bYkADhXyFZhZjQLuyx+1D2WNAX2nAEgekZEB0T/SGBHdlQE9lsZ2UUmZAgNIhmhM3Z0AroxLh4SRoQDQ+ky1kHGlA2PmeyAMeakCuIQbELiprQLIN0DhYQWxAeZhUifhjbUAoZFCnjZJuQMX3PF6bzW9A5fEd0dWKcEAna/VxpzVxQID1vjSO53FAd87CVtmgckAVVufh22FzQMAKauLsKnRADAUjoGf8dECbXZrbq9Z1QBx7PQ8eunZA/4cJtSend0BoWQiRN554QL30BQHCn3lA9b7uUUGsekCYUlEbNsR7QEsji6En6HxAQqA0P6QYfkCmmXDWQVZ/QP7AaSXPUIBAluCEw2IdgEB83lekVL+AQJ/0PfqhZ4FAGzRGqIoWgkDUGocTUcyCQD+eUjw6iYNAUn1n2I1NhECkyylulhmFQDsK7XCh7YVA3otaXv/JhkAjTf/cA6+HQCnaDNwFnYhA6E5ZtF+UiUC4+apKb5WKQPyjXDOWoItAKQlo1zm2jECddXe+IuuMQGKg5B9yBI5A7AMtkEZlkEDdEGtKEb+QQKQ0eftbZ5FAMJkX6kEWkkDsuFF6BcySQHAKZKvriJNANensMTxNlEA6sySTQRmVQPdvJ0FJ7ZVAcL5auKPJlkB+MvudpK6XQNe63N+inJhAihxq1fiTmUCcC/BhBJWaQG7kQBgnoJtA+Y2+X8a1nECg8qpmK0edQLHbpQ6sZ55ASL18uGJWoEBQH43xzb6gQMnyzf0VZ6FAPYkNLfkVokDbXUziucuiQLtssRudiKNAgrK6jOpMpEAd3HS57BilQGZ8xBLx7KVAUH0n0V95pkAb2+PBnfCnQE2Z2szv46hAuZ4Y+JGTqUCAD+N6mZSqQLf34/63n6tA7m/l6VK1rEBFoxWBp4WtQMAU4p8Zq65AEhJkIchCsECnBb6Zir6wQJwqPAHQZrFApv8ncbAVskA9QV6HtKGyQJvBd796rrNAoN6ejtZ1tEDqQBrhlxi1QOspxOWY7LVAkQFuzaCdtkBmdyv6jNa3QIpDFc/Hx7hA5c5kHCuTuUC2hbaiX2i6QANp/nQzybtATEi+tyfivEDnZddRtaq9QK06tyYd075AhxxdzboywEBetWDK5ajAQAHFW4tzT8FAGRh2MBMswkDOMkz8MLXCQN/0pje9ncNA",
          "dtype": "f8"
         },
         "xaxis": "x",
         "y": [
          0.20627721561662052,
          0.18150365525504147,
          0.15848865803043533,
          0.13911068895578577,
          0.12307573698694052,
          0.10822320523243598,
          0.0953380617231686,
          0.08405734594399879,
          0.07413831038531983,
          0.06539523834096225,
          0.057674791404883026,
          0.05084975269219844,
          0.04481163407395167,
          0.03946698693384203,
          0.034734665206407236,
          0.03054150633886617,
          0.026872001980983207,
          0.02357676657752369,
          0.02066043906673618,
          0.018080133521803213,
          0.01579790103177799,
          0.01378026098187696,
          0.011997488091999686,
          0.010423119293244867,
          0.009034308251482624,
          0.007786985325791798,
          0.006713713844926918,
          0.00578310035588398,
          0.004939245168700808,
          0.004211196922713799,
          0.0035802542126240292,
          0.0030172746660559508,
          0.002532747162530633,
          0.00211258224419737,
          0.001750111823614621,
          0.0014396278887930526,
          0.0011752996669805178,
          0.000955528047488682,
          0.0007763594286022284,
          0.0006367693202137677,
          0.0005334801103237703,
          0.000464014130856157,
          0.0004266094080126731,
          0.0004115842626009238,
          0.000410438321586603,
          0.0004158240037295761,
          0.00042373004386094687,
          0.00043031546356838,
          0.0004346671179507254,
          0.00043373411590959585,
          0.0004295555852500746,
          0.00042182982333531846,
          0.000409550353041295,
          0.0003946069776062631,
          0.00037579926422184065,
          0.00035500167741869175,
          0.00033160447962802614,
          0.0003066153270178875,
          0.0002812209140298064,
          0.00025611345548689807,
          0.0002343701094777766,
          0.0002175595967741425,
          0.00020778808408817835,
          0.00020602827315532277,
          0.0002088897061301297,
          0.0002123928874430888,
          0.0002128045037861507,
          0.00020818222486340923,
          0.0001981834851441271,
          0.00018354215958097034,
          0.00016754092063023815,
          0.0001534735408079591,
          0.00014518441816161788,
          0.00014417747592310095,
          0.00014640116814163746,
          0.00014715485710078304,
          0.00014233350255178135,
          0.00013256234132838298,
          0.00012080700343423313,
          0.0001128589806015819,
          0.00011155997857922248,
          0.00011339824299312893,
          0.00011175371054748826,
          0.0001045302123279333,
          0.00009534099794676946,
          0.00009107824039608861,
          0.00009198701224055728,
          0.00009145908881960408,
          0.00008538647183680185,
          0.00007844274288122297,
          0.00007728865969413882,
          0.00007793578176246082,
          0.00007338148772223522,
          0.0000676312226762738,
          0.00006725444914653713,
          0.0000666066263677588,
          0.00006136133332534582,
          0.000059194925607065443,
          0.00005933791069206519,
          0.00005504467524215695,
          0.00005311155379132413,
          0.000052838507446306876,
          0.00004864683871144907,
          0.00004841010994652996,
          0.000046167987945026074,
          0.00004407341353275539,
          0.00004336824827933734,
          0.00004059785860281034,
          0.00004033943817700361,
          0.000037691916110498844,
          0.00003734927546010959,
          0.000035174555102002015,
          0.000034337088615107995,
          0.00003308934061858185,
          0.00003135837337022467,
          0.000031002774270457874,
          0.00002935621958178817,
          0.000028192773306371446,
          0.000027681441614637767,
          0.000026558475806813483,
          0.000025220376324334626,
          0.00002436072290003189,
          0.00002372810528292164,
          0.000023007259416008913,
          0.000022275835005499812,
          0.000021390929604889248,
          0.00002063870265067484,
          0.00001987916599908296,
          0.000019216743476520187,
          0.000018542980462895598,
          0.000017820948521663545,
          0.000017045117599818616,
          0.000016401981081955172,
          0.0000160178192340677,
          0.00001544156034341023,
          0.000014750331037253474,
          0.000014425794014951467,
          0.00001378024022005405,
          0.000013453028257821274,
          0.000012872585935303726,
          0.000012492673739679386,
          0.00001212676760893423,
          0.000011673350284171242,
          0.000011248505012149638,
          0.000010868866609366613,
          0.000010509371179556655,
          0.000010193333374750366,
          0.00000989752096077003,
          0.00000957032966744827,
          0.00000922806860903954,
          0.0000090025213803131,
          0.00000866242984891178,
          0.000008404873874373124,
          0.00000817621632679628,
          0.00000790740537187849,
          0.000007642186121556392,
          0.000007432899877537526,
          0.000007223526163206128,
          0.0000069798477669889486,
          0.000006793198343800121,
          0.00000657756686273576,
          0.000006383999649605316,
          0.000006221005328800163,
          0.000006030924999123403,
          0.0000058731014204370286,
          0.000005709202211032359,
          0.000005550235546548197,
          0.000005431836501588778,
          0.000005273572377279962,
          0.0000051365510090846674,
          0.000005007582346822479,
          0.000004893019584829686,
          0.0000047950831586726375,
          0.000004668049885275549,
          0.0000045631778315655575,
          0.0000044572943033336444,
          0.0000043693536461997946,
          0.00000429142854277084,
          0.000004191798356267177,
          0.000004119302059737246,
          0.000004054129929419701,
          0.000003979858267028893,
          0.000003918057872407011,
          0.0000038467135123491595,
          0.0000037891417748093764,
          0.0000037437530541214618,
          0.0000036847865147352825,
          0.00000364697288044633,
          0.000003603203422109282,
          0.000003567516382045692,
          0.000003544804200195161,
          0.000003510280074888162,
          0.0000034934282785651363,
          0.000003468107656797474,
          0.00000346136073458126,
          0.000003440085178385945,
          0.0000034334809400741816,
          0.0000034423625609729037,
          0.0000034400087348549877,
          0.0000034491810132458793,
          0.0000034547610883480994,
          0.0000034616513900264447,
          0.000003488437754903941,
          0.000003510059373143748,
          0.0000035363664962884543,
          0.0000035697898539673307,
          0.0000035938654670846065,
          0.0000036468733614397105,
          0.0000036778753538616255,
          0.0000037269236614765314,
          0.0000037765387220167147,
          0.000003832492144254956,
          0.000003892072959230525,
          0.000003956127599484631,
          0.000004020476157281285,
          0.000004092420099931,
          0.000004163446346765839,
          0.000004239924303976171,
          0.000004321582351609184,
          0.000004401188983735353,
          0.000004229377976263066,
          0.000004581505784546941,
          0.000004544483083562101,
          0.000004642174218331369,
          0.000004719363702817911,
          0.000004824160470135046,
          0.000004903020650202159,
          0.000004996773103147731,
          0.000005106911155959242,
          0.000005187634965191813,
          0.0000052890337375775075,
          0.0000053866398758920326,
          0.000005504412555769877,
          0.000005612626513824029,
          0.000005718534575414052,
          0.000005811356397356944,
          0.000005925848625652428,
          0.000006047629663037665,
          0.000006053414798364339,
          0.000006166853195795189,
          0.000006471291142257364,
          0.000006520743743674384,
          0.000006630970565739146,
          0.000006765229018483847,
          0.000006908422342346516,
          0.000007056758354481227,
          0.000007152942234665764,
          0.000007294967373466524,
          0.000007423465220267372,
          0.0000075719745331814975,
          0.00000765441355044036,
          0.00000784707991183294,
          0.000008005402845596976,
          0.000008193780291150282,
          0.000008310807283019658,
          0.000008478336009202544,
          0.000008558320358007893,
          0.000008695311793184147,
          0.000009003860103254644,
          0.000009123250812364733,
          0.000009285681393020453,
          0.00000947392929790118,
          0.000009675003210550532,
          0.000026877266917264692,
          0.000009982765876628954,
          0.00001022544795500658,
          0.000010364928818563892,
          0.000010519712440876629,
          0.000010779249532908028,
          0.000010990592566238777,
          0.000011171111729701493,
          0.000011384040890390584,
          0.000011450765140374935,
          0.000011756180654879198,
          0.000011926526633340358,
          0.00001210632879558664,
          0.00001246441588494489,
          0.000012691555539586012,
          0.00001271357547094403,
          0.000013107637421149864,
          0.000013253567961115977,
          0.000013494393206643047,
          0.000013882287019627241,
          0.000014010496187484619,
          0.000014281683221413178,
          0.0000145055988267539,
          0.000014802714617384192,
          0.000015140391882830933,
          0.000015117490088687233,
          0.00001554915600455747,
          0.000015914916647502843,
          0.000016072904745888893,
          0.00001626224284863624,
          0.000016557685491402032,
          0.000016961569634151747,
          0.00001658151297421263,
          0.00001749457502528654,
          0.00001786562139470046,
          0.000017926669991133805,
          0.00001799773652549216
         ],
         "yaxis": "y"
        },
        {
         "mode": "lines+markers",
         "name": "RMSE amplitude",
         "type": "scatter",
         "x": {
          "bdata": "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",
          "dtype": "f8"
         },
         "xaxis": "x2",
         "y": [
          0.2653893346917543,
          0.26048390294996454,
          0.19720716160303572,
          0.16374334522661962,
          0.17282387168747526,
          0.13755565783450258,
          0.11607658769817748,
          0.10021920215460643,
          0.08756026698255286,
          0.07705668478146091,
          0.0681440928075196,
          0.06047350582520129,
          0.05380716869232795,
          0.04797372322423758,
          0.04284311276237785,
          0.03831323725838571,
          0.034663914037901346,
          0.03103824565207942,
          0.02782020665661738,
          0.024959448886778007,
          0.022412841482962215,
          0.020143525464011443,
          0.018119252338706544,
          0.01631179502650169,
          0.014696844238943275,
          0.013275842455944029,
          0.011990337336255756,
          0.010802456348781273,
          0.009801852967692344,
          0.008871827772078827,
          0.007999106844916467,
          0.007283588714526798,
          0.006606363320276094,
          0.005996044882482087,
          0.005445526634873157,
          0.004948437257805291,
          0.0045832698660677905,
          0.004166785349803415,
          0.003790387676273733,
          0.0033903114365801323,
          0.0030885108163509942,
          0.0028617935812356057,
          0.002572609779360299,
          0.002333105426338661,
          0.002147793731679821,
          0.001978708213189679,
          0.0018065239313185876,
          0.0016507412128574934,
          0.0015157267894319905,
          0.0013846428900419292,
          0.001273188370079388,
          0.0012257684063275425,
          0.0010926839247413953,
          0.0010779523935696594,
          0.000970074789738298,
          0.0009915042738998052,
          0.0009710002629137527,
          0.0009642422214621675,
          0.0009873770520386989,
          0.0009817422534028747,
          0.0009777794174652458,
          0.0009997423886067948,
          0.0010194593419828718,
          0.001015400355189474,
          0.0010039065918809786,
          0.0009624708098086069,
          0.0009328226516809356,
          0.0009014198421178184,
          0.0008940333834906676,
          0.0008720388720994053,
          0.0009145358700747598,
          0.0009371225871841264,
          0.0008944449474048697,
          0.0009549273576585334,
          0.0009026471790064632,
          0.0009453124115383566,
          0.0008790728351267415,
          0.000893461280820507,
          0.0009023546599756322,
          0.000966479501493677,
          0.0008995645301429404,
          0.0008770367169293543,
          0.0008663929149603056,
          0.0008595170662137476,
          0.0008620368756037003,
          0.0009231279171380107,
          0.000896993371272285,
          0.0008962005286617533,
          0.0008897909350991098,
          0.000903979574827627,
          0.0009176297545259311,
          0.0009132742448044635,
          0.0009142885006875699,
          0.000889039877218636,
          0.0008849736371286809,
          0.0009352596492158169,
          0.0009113911139200014,
          0.0009256256501764539,
          0.0008829519274005999,
          0.0008965489075179323,
          0.0009847575874306598,
          0.0009205978262565376,
          0.0009670206575730989,
          0.0010093889645339123,
          0.000975801574226573,
          0.0008901767660703277,
          0.0009093087051657084,
          0.0009346193203115644,
          0.0009362962263259714,
          0.0009179344941671462,
          0.000850709869885818,
          0.000952353265542308,
          0.00097701021540729,
          0.0009617325740404003,
          0.0008841799719086839,
          0.0008797497048907163,
          0.0009096855005624231,
          0.0009410104062056269,
          0.0009824928077353085,
          0.000942816966708266,
          0.0009330663861677871,
          0.0009426445611282118,
          0.0009174585893415689,
          0.0009092859764605958,
          0.000877997995712275,
          0.0009567084249179146,
          0.0009127470775194324,
          0.0009116632899815073,
          0.0008733998267850573,
          0.0009519700741439482,
          0.0009806995379171184,
          0.0008670231128396963,
          0.0009386244096544763,
          0.0009605063019439423,
          0.0009360917821328442,
          0.0009503295930449387,
          0.0009378562080857232,
          0.0009167962956221241,
          0.000974638042410358,
          0.0009369456874536419,
          0.0010139695045962357,
          0.00100925145386224,
          0.0009523762380292374,
          0.0009108772705140547,
          0.0010389818383487067,
          0.0009761622280208426,
          0.0009420021160483042,
          0.0009094555334631106,
          0.0009354364103671148,
          0.0009614341309361349,
          0.0009158169676051157,
          0.0010356555341170443,
          0.0009477038583155163,
          0.0009541705424569061,
          0.0010294381244709777,
          0.0009301190224619647,
          0.0010247525477384142,
          0.0009848668340412584,
          0.0009369201482992813,
          0.0009371873081494233,
          0.0010582122807711177,
          0.0009984307872200138,
          0.0009743837045688721,
          0.001022665274637152,
          0.001049250464211965,
          0.0010160916509314884,
          0.0010477187752652958,
          0.0010385818763642223,
          0.0010810374573563908,
          0.001035220954981931,
          0.0010412516073477875,
          0.0010675957636355011,
          0.0010849301657285212,
          0.001065483064204327,
          0.0011387319930074003,
          0.0011109416600422512,
          0.0010990372104782784,
          0.001085181343410235,
          0.0011181071802470613,
          0.0011559668656085042,
          0.0011425446408035453,
          0.0011170101471946934,
          0.0011713346063200742,
          0.0011465487074923944,
          0.0011581740670216073,
          0.0010853474186949973,
          0.001137000343647197,
          0.0011505282873951245,
          0.0012098364914141066,
          0.0012314542195871493,
          0.0011945994351129647,
          0.0012434014804762954,
          0.0012403266297119438,
          0.001198936779670964,
          0.0012998383157245138,
          0.0013624190097009095,
          0.00129919791416457,
          0.0012725679595563188,
          0.0013410463441859604,
          0.0013611328842384886,
          0.001371723810917864,
          0.0014240343399817808,
          0.0014923449588768183,
          0.0014249331991117347,
          0.0014707544841899242,
          0.0015082042629681032,
          0.0015614398740717613,
          0.001698778338859933,
          0.0015475949861497394,
          0.0015479407838180947,
          0.001722863620044118,
          0.0016774751104774736,
          0.0017695078211659907,
          0.0017415063955353667,
          0.001769280015500797,
          0.001772856170181522,
          0.0016766949409147136,
          0.0018643671921679552,
          0.0019117911264718086,
          0.0019964820573596547,
          0.0031712034075347313,
          0.0021621173714486863,
          0.0020579294219296804,
          0.002027692150232275,
          0.0020974263855363085,
          0.001952309533200206,
          0.0022188449319137738,
          0.0022645043292246862,
          0.002056811706341782,
          0.002323188820910567,
          0.002348412050079023,
          0.0022991239003092726,
          0.002415365157902192,
          0.002588963899913073,
          0.002713959070572006,
          0.0026337333848820465,
          0.0027565792681166976,
          0.0026723904997395173,
          0.0026710267171539312,
          0.002913147445270973,
          0.002697637736060988,
          0.003103633614639461,
          0.0028363769778596386,
          0.00282209028835068,
          0.0028645272512159907,
          0.003034723012702679,
          0.0033552226954085586,
          0.002980401489159121,
          0.0035668563341217695,
          0.0033083535398673422,
          0.003785740887456904,
          0.0036501351306556617,
          0.003773897035907114,
          0.0037398750570211354,
          0.0036836415502216526,
          0.0037664570782101783,
          0.00395692028767274,
          0.004188528501002045,
          0.0041321566796079425,
          0.0040417127769349975,
          0.003985672431452245,
          0.004298578337269948,
          0.004366896780021898,
          0.04148954589240125,
          0.004920930117773532,
          0.004562943201235296,
          0.004994921932906827,
          0.004768810240092121,
          0.004881409420267267,
          0.005059975968069974,
          0.005012325520462334,
          0.005142320563845915,
          0.00567596944439697,
          0.0060783885765192955,
          0.005560075095275633,
          0.0053060949816237,
          0.005871134265205295,
          0.005731766464851113,
          0.0063218110455192135,
          0.0066483852122505875,
          0.006605178098614452,
          0.007355646337796055,
          0.006115581993337481,
          0.006713964646954525,
          0.0068904304856798855,
          0.006869620846271258,
          0.006938178954139906,
          0.007171684172222619,
          0.008309684418621812,
          0.006974981037889966,
          0.007803847445551517,
          0.008162038308181328,
          0.008253478137918118,
          0.008295733481226945,
          0.008929654226705037,
          0.011801915929046178,
          0.008934815099801242,
          0.008717816267250812,
          0.010381382467506264,
          0.012050077220489609
         ],
         "yaxis": "y2"
        },
        {
         "line": {
          "dash": "dot"
         },
         "mode": "lines+markers",
         "name": "stderr amplitude",
         "type": "scatter",
         "x": {
          "bdata": "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",
          "dtype": "f8"
         },
         "xaxis": "x2",
         "y": [
          0.29693605553175445,
          0.26516453511436017,
          0.20700440757495742,
          0.17420601450550455,
          0.15724927389616788,
          0.1330722694581579,
          0.11551158109192071,
          0.1012636322139303,
          0.08927615285220615,
          0.07900974731965521,
          0.07012074776766232,
          0.06236756275676928,
          0.05556895561074092,
          0.04958358893331049,
          0.04429774365614587,
          0.03961490656919782,
          0.03559750271063318,
          0.031880924188058005,
          0.028577815520190935,
          0.025638535490077965,
          0.023020198035546714,
          0.020685634247456987,
          0.018602308509034184,
          0.016741492261248124,
          0.015079050656678155,
          0.01352402634158981,
          0.012208057742598089,
          0.011069428509085339,
          0.009969043447221916,
          0.009018430519065751,
          0.008183823652571653,
          0.007396784493396596,
          0.006706209241279008,
          0.006084488640414006,
          0.0055242915356736476,
          0.005019090483163972,
          0.004557803587147688,
          0.004145599031630654,
          0.0037729173682064907,
          0.0034409640472336167,
          0.003136167214572601,
          0.002853015435922172,
          0.0026067317941745696,
          0.0023780229882950253,
          0.0021707437289446062,
          0.0019787999217665436,
          0.0018088941331550234,
          0.0016556081300553548,
          0.0015210329414028563,
          0.0013956381825308707,
          0.0012880693752316645,
          0.001196284005344261,
          0.0011175950410335514,
          0.0010560773544995683,
          0.0010083922320752213,
          0.0009779719842603158,
          0.000961677730666436,
          0.0009589382646325,
          0.000968375619947204,
          0.0009832590372362488,
          0.0010034916232346028,
          0.0010199440936752664,
          0.0010271341071431646,
          0.0010249791538785961,
          0.0010082736013818675,
          0.0009810815667491634,
          0.0009504672422426258,
          0.0009263957176759729,
          0.0009157383800254271,
          0.0009182204071197509,
          0.0009335717093786733,
          0.0009509733832329167,
          0.0009602960176559494,
          0.0009570395408682417,
          0.0009372564303888069,
          0.000915740980550508,
          0.0009027702966070555,
          0.0009092196444296126,
          0.000925567625893061,
          0.0009387205292731042,
          0.000934722924010641,
          0.0009164763092606426,
          0.0009004994387126955,
          0.0009043912504745331,
          0.0009201174460223286,
          0.0009286472335724596,
          0.0009143559688871336,
          0.0008993009957464943,
          0.0009053027629870817,
          0.0009205929993624389,
          0.0009183770644240982,
          0.0009018918114178215,
          0.0009030039395118828,
          0.0009184970011926252,
          0.0009113298929294011,
          0.0008987015381158336,
          0.0009120775911420507,
          0.0009156318865863246,
          0.0009003097857732613,
          0.000912076338862843,
          0.0009137718881669562,
          0.0009024311983942927,
          0.0009148218032534994,
          0.000906551430007861,
          0.0009091753933279041,
          0.0009140846681188069,
          0.0009051192381958203,
          0.0009164168067786031,
          0.0009053775046067502,
          0.0009169281811986696,
          0.0009070600350393025,
          0.0009162002800793422,
          0.000910456636602229,
          0.0009119991522281589,
          0.0009161106804768737,
          0.0009095272721384943,
          0.0009160171538469482,
          0.0009189251280380961,
          0.0009127363107580078,
          0.0009149867895689373,
          0.0009201350705124623,
          0.0009219336537919975,
          0.0009196640286601232,
          0.0009171942509991016,
          0.0009204157810772118,
          0.0009192995798314574,
          0.0009221980689870897,
          0.0009219710050067379,
          0.0009238683598200394,
          0.0009251545063821039,
          0.0009273787771945906,
          0.0009299780231625647,
          0.0009318006651818415,
          0.0009319801839487278,
          0.0009315689985577539,
          0.0009353019880711307,
          0.0009341843076886062,
          0.0009390948918443045,
          0.0009376038320798923,
          0.0009429090156212091,
          0.0009426744426480665,
          0.0009433034262314433,
          0.000946637031551312,
          0.0009499518631760275,
          0.0009526239432889464,
          0.000954061302923118,
          0.0009564435714602328,
          0.0009573481139593953,
          0.0009601983660239847,
          0.0009660962606675055,
          0.0009676672843744694,
          0.0009725309738040181,
          0.0009711525386141143,
          0.0009769179887657747,
          0.000980539653253973,
          0.000981411763307659,
          0.000986057867370415,
          0.0009906399614944075,
          0.0009957323562699149,
          0.0009973246009958182,
          0.0010036946617914297,
          0.0010044645907035877,
          0.0010101876173073752,
          0.0010129235797867087,
          0.0010215068591376045,
          0.0010219507753659188,
          0.0010288449876915485,
          0.0010362527519828745,
          0.0010376665107027835,
          0.0010438756786546417,
          0.0010514204812926793,
          0.0010559250264223518,
          0.0010663867773243634,
          0.0010693772306769249,
          0.0010763107629884014,
          0.0010842450236029854,
          0.0010928700957524354,
          0.0011038451858397095,
          0.001107802513066377,
          0.001117682359883636,
          0.0011284779921827681,
          0.0011380846614639606,
          0.0011474060590251289,
          0.0011552555285054362,
          0.0011646965371633526,
          0.001179437981346875,
          0.0011874736767643894,
          0.0011999249582369004,
          0.0012113794153383647,
          0.0012240553607189267,
          0.001240888550057469,
          0.001251794593501255,
          0.0012697363566845645,
          0.0012819124506528586,
          0.001301621926468132,
          0.001313309991900707,
          0.0013306918383670903,
          0.0013529523891025119,
          0.0013702541932410028,
          0.001390464960876942,
          0.001409328415078195,
          0.0014268478168778431,
          0.0014519827154595502,
          0.0014744587129167837,
          0.001496781503239728,
          0.0015223641286185234,
          0.0015432930712938524,
          0.0015750757639023147,
          0.0015965616326270597,
          0.001625352290767448,
          0.0016536117048785415,
          0.0016840058193784094,
          0.0017153779245675863,
          0.0017480580562528017,
          0.0017804872800564826,
          0.0018157388544850917,
          0.0018502471042316896,
          0.001887282424677507,
          0.0019273778982579575,
          0.001976740483911733,
          0.003319382492985803,
          0.0020566360442494935,
          0.002050684190992317,
          0.0020773122733269184,
          0.002109573395728499,
          0.0021561680302776046,
          0.0021919498331584276,
          0.0022337220612799707,
          0.0022834256062078044,
          0.0023203526450257007,
          0.002366625502101521,
          0.002411206864473509,
          0.002464035827725353,
          0.002513212593610704,
          0.0025621077442838282,
          0.002604637707650072,
          0.0026572994621412755,
          0.002715269954334502,
          0.0027194983705651557,
          0.002785250874466825,
          0.0029187290426309328,
          0.0029345751125608,
          0.002981718521173146,
          0.00304086353097091,
          0.0031052940164454893,
          0.0031740698389272396,
          0.0032202911523704974,
          0.0032858388006893093,
          0.0033521436029042414,
          0.0034613464953692137,
          0.0037473572637452108,
          0.003556835331184108,
          0.0036186390251356127,
          0.003703167103343797,
          0.003758765798114026,
          0.00383928368001247,
          0.003879982922918844,
          0.003995590397571629,
          0.004101802877729726,
          0.004143935953962754,
          0.004218395289314491,
          0.0043102653925438765,
          0.004429190538093604,
          0.04227393530048384,
          0.0045779625194827585,
          0.004669299485923172,
          0.004739591358723586,
          0.004833074713390426,
          0.005037718608810707,
          0.005048388046150495,
          0.005128984646171588,
          0.0052918515268881245,
          0.0057059434343389275,
          0.0054308176121756375,
          0.005506945845781465,
          0.005759246890463076,
          0.0057924742551086605,
          0.005892163301384116,
          0.0066139875498868695,
          0.006144605207494342,
          0.006187335977739453,
          0.007130908041136154,
          0.006501901305732141,
          0.006751547504922539,
          0.00682322549116437,
          0.006845519076395288,
          0.007159077490968853,
          0.0072383954250319444,
          0.008164727365866235,
          0.007405596311871143,
          0.007772908475932431,
          0.008032468849062594,
          0.00812047474738403,
          0.008331863296709251,
          0.008227486819841631,
          0.01163894112086477,
          0.008746278859128147,
          0.008784174112300445,
          0.009582240168720748,
          0.01153179838264185
         ],
         "yaxis": "y2"
        },
        {
         "mode": "lines+markers",
         "name": "RMSE damping_rate",
         "type": "scatter",
         "x": {
          "bdata": "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",
          "dtype": "f8"
         },
         "xaxis": "x3",
         "y": [
          0.37074770639035237,
          0.3456997114841682,
          0.31968070458210407,
          0.295571686094294,
          0.2796937621763191,
          0.25853642563792667,
          0.23893236515961935,
          0.22078271844840736,
          0.20397912891508346,
          0.18842182641792388,
          0.17401858577173882,
          0.16068422322905745,
          0.14833899499892803,
          0.1369097477554689,
          0.12632885926075765,
          0.11653368020420586,
          0.10857895456755494,
          0.10007058067001816,
          0.0921946664047985,
          0.08490435577060883,
          0.07815584457841612,
          0.07190996530194674,
          0.0661290990426667,
          0.060778872702568154,
          0.055828135931854254,
          0.051881985436468825,
          0.047582838312443615,
          0.04308640541350011,
          0.039926104951790505,
          0.036522619422544866,
          0.03300125876334986,
          0.03046435451282857,
          0.027773745896910826,
          0.0252869133766333,
          0.022989153282428888,
          0.02086677928434702,
          0.01942515659600983,
          0.01759382514021803,
          0.01590367443761773,
          0.013892568958470705,
          0.012419553859476158,
          0.0115833816761724,
          0.009959783936909935,
          0.00887341794947475,
          0.007887830887256647,
          0.007272754380505012,
          0.0064102666047169245,
          0.005623567869107137,
          0.004723920150420371,
          0.004262923752190673,
          0.0036838773546636052,
          0.003160215939136618,
          0.0027245666552646853,
          0.0023649964142066614,
          0.0020430383246944537,
          0.0018876408839298832,
          0.0017726321309586366,
          0.0017291610586718195,
          0.0017119065218343978,
          0.0017738394259856154,
          0.0017880216753942584,
          0.0017965583082337848,
          0.0018127804439883057,
          0.001697598575279495,
          0.0015872521022125127,
          0.00141965728289684,
          0.0013314744187038125,
          0.0011920585464744973,
          0.0010919299114428651,
          0.0010461444372522936,
          0.0011007686179377034,
          0.0011218748920536858,
          0.0010211120071785698,
          0.001056220604959063,
          0.0009273289019826695,
          0.0009181792399958888,
          0.0007931594775346663,
          0.0007767922052422883,
          0.0007969082945298866,
          0.0008222698996147093,
          0.0007609379351402994,
          0.0006883309571358687,
          0.0006360775972083331,
          0.0006031794062903713,
          0.0005908167987554077,
          0.0006316900949982727,
          0.0006027116106765818,
          0.0005561476118773949,
          0.0005277486638102869,
          0.0005251326823074241,
          0.0005035958021687343,
          0.00045992617302590506,
          0.000459626468310792,
          0.00041952273964647436,
          0.00039755427576859345,
          0.0003864057647139927,
          0.00040978259210267876,
          0.00039248877659518044,
          0.00034521397660613025,
          0.0003518370797249173,
          0.0003565990834062069,
          0.0003198428472771141,
          0.00033986910051402735,
          0.0003328185330887965,
          0.0003161390866522139,
          0.00026596258891223307,
          0.0002674941164399888,
          0.00027155344824227615,
          0.000261556921128864,
          0.0002465287673863922,
          0.00021502522739417446,
          0.00022602115118125967,
          0.00023446151653385873,
          0.0002231724743068993,
          0.00020303991181461458,
          0.00018956194135393242,
          0.00019056745352590384,
          0.0001747152141742385,
          0.00018226739171340825,
          0.00016264483773079533,
          0.00016895805102088706,
          0.00016013931876723064,
          0.0001481026611820097,
          0.00014618446528195838,
          0.0001389863208668959,
          0.00013433232553471025,
          0.0001255340247160499,
          0.00012109587826355102,
          0.00011893472424218987,
          0.00011406994898244522,
          0.00011508079496461976,
          0.00010295594437105506,
          0.00010796024029752011,
          0.00010305531026057545,
          0.00009358393268200766,
          0.00009371615585155308,
          0.00008921865245329803,
          0.00008219592058211319,
          0.00008442873340034322,
          0.00008255352067667031,
          0.0000855444797922509,
          0.00007689691575179573,
          0.00007139267310799135,
          0.00006835580663285729,
          0.00006830872052352005,
          0.00006696868587922047,
          0.00006407511633804946,
          0.00005654873983361724,
          0.00005843503807722792,
          0.00005795820366225462,
          0.000053164338430474496,
          0.000055517419342221806,
          0.00005198512710632604,
          0.00005018903759680227,
          0.000051069411176428173,
          0.00004608211684813373,
          0.000047977536894931926,
          0.00004553987879192048,
          0.00004203458343656439,
          0.000041025776716696895,
          0.0000432559077010203,
          0.00004101238051954424,
          0.000037330315679086465,
          0.000038443206576431224,
          0.000036950535723128975,
          0.00003677710668457085,
          0.000035747087614279596,
          0.00003391658666221312,
          0.00003578407410859397,
          0.000030822344426726266,
          0.00003209453193461493,
          0.000030094072485002494,
          0.000030922360833125965,
          0.000029822792247823575,
          0.000030167083100249092,
          0.0000283231353349664,
          0.000027329292325863042,
          0.000026014522788624283,
          0.000026673451558055678,
          0.000025595864652596885,
          0.00002325484321500645,
          0.000024973683660524635,
          0.000024753534231219062,
          0.00002364990449420492,
          0.00002388263144804726,
          0.000022193470327105715,
          0.000022973552938443955,
          0.000023308006000496355,
          0.000021762114452574374,
          0.000021146404671545013,
          0.000022506578092964575,
          0.000020560536473527524,
          0.000021179659216027436,
          0.00002168201577322086,
          0.000021954721071039968,
          0.000020980951019899173,
          0.000022723196532400288,
          0.000021246905816245893,
          0.00002192128079578777,
          0.000021084876790611825,
          0.00002163506457684935,
          0.000020681320459613846,
          0.00002260619792485851,
          0.000021215723669119342,
          0.000022985421753191664,
          0.000022703666993614748,
          0.00002334760338056693,
          0.00002390071017216475,
          0.000023853915361586656,
          0.000022021954164194468,
          0.000024054225901167235,
          0.000023688314780416598,
          0.000026446429230065815,
          0.000025198597892299782,
          0.00002656899477790223,
          0.00002585487882405124,
          0.000026457529265072067,
          0.000027180209071910352,
          0.000025777333260976474,
          0.000028561363421659645,
          0.0000368667656363415,
          0.000029220308975267678,
          0.000030307550970414322,
          0.000027479472347219107,
          0.000031224383704296056,
          0.00002688821708549697,
          0.00003249900648965887,
          0.000031380410503467076,
          0.00003187442795740623,
          0.00003343240002632016,
          0.000032682918697831056,
          0.00003237044036770075,
          0.0000342092594161735,
          0.00003641630451408511,
          0.00003746552387463323,
          0.000036750088874688274,
          0.000037082790831698076,
          0.0000391287236791434,
          0.00003992745169699357,
          0.00003659783921574425,
          0.0000379149817225734,
          0.000042180938531570175,
          0.00004185817405001509,
          0.00004034346786702553,
          0.000041390166850803026,
          0.00004701555686844869,
          0.00004723269933509487,
          0.00003982552786133256,
          0.000050606802263010205,
          0.00004810585364554431,
          0.00005381218561973227,
          0.00005143042120252523,
          0.00005240258892718022,
          0.00005066935300852375,
          0.0000528354068129474,
          0.000050803026933331035,
          0.00005725563885861511,
          0.00005832190122824399,
          0.00005713116674125528,
          0.00005928572737742055,
          0.000057632555167612273,
          0.000059676229571929564,
          0.00005200866161898501,
          0.00019793908379121575,
          0.00006251977760631224,
          0.0000636870493772488,
          0.00006732539017594064,
          0.0000691715771261723,
          0.00006949993207563305,
          0.0000704250542278099,
          0.0000732304978074224,
          0.00006862542522114077,
          0.00008313116367292328,
          0.00007772560961993711,
          0.00007418580731723151,
          0.00007861617284833167,
          0.00008298963793592814,
          0.00007490438392724301,
          0.00008504156331218913,
          0.00009670984980805213,
          0.00008919587493952676,
          0.00010029751958822284,
          0.0000867791046538678,
          0.00009353771340051935,
          0.00009214111454456819,
          0.00009790837343775744,
          0.00010212877306223168,
          0.00010308458437480513,
          0.00010972782263725577,
          0.00010118728110819903,
          0.00011004625426033654,
          0.00011324244815674338,
          0.0001100146234451822,
          0.00011703646189340995,
          0.00012164094792479524,
          0.00014822150741928885,
          0.00012312906052250414,
          0.00012549925162058008,
          0.00014044393806499214,
          0.0001502215328791165
         ],
         "yaxis": "y3"
        },
        {
         "line": {
          "dash": "dot"
         },
         "mode": "lines+markers",
         "name": "stderr damping_rate",
         "type": "scatter",
         "x": {
          "bdata": "FzmcYKqZuT85m+DT75q6PwFg18ROprs/+2lmsyy8vD9xoY4b89y9P0hNeZ0PCb8/FwmME3ogwD+4tLOPi8LAPyMAssn5asE/ygpisgQawj8jTEO97s/CP4s9tfn8jMM/QbYwLXdRxD9U8Yjupx3FP9OZPsLc8cU/zKHvN2bOxj8rFe8ImLPHPz+KEDjJocg/pUazMlSZyT9+qRnzlprKP/fpGSTzpcs/H701Rs67zD+J/ibWkdzNP3gF8HSrCM8/GHK/iEYg0D8ttPmJVsLQP8EpTEXDatE/IXRQrMwZ0j+zSl4ztc/SP/adyerBjNM/U6MemTpR1D9NxmXWaR3VPzzgeSid8dU/g4B7ICXO1j/3e2x5VbPXP4hr/zeFodg/xDenyw6Z2T8ZSfMwUJraPwx0RRWrpds/pDzv+4S73D/glcRkR9zdP+HQMvRfCN8/BYJ1TiAg4D9n5pflL8LgP85360icauE/CgCIbKUZ4j/k9IDHjc/iP9jyKG2ajOM/cZJTJxNR5D/snZ+RQh3lP04S1DV28eU/ysBaqf7N5j/e0uOrL7PnP7LlPUdgoeg/Oehu8OqY6T+VYhqqLZrqP/RNQiiKpes/ZSlw9WW77D8Wg1SZKtztP+m968BFCO8/jbgbtBQg8D9RLs4CJsLwP2PHeluUavE/VwA3uJ8Z8j/rT5mWis/yP124BxGajPM/3JoF+RVR9D+A5YrySB31Pz8bb5CA8fU/aiDzcQ3O9j/aJXVhQ7P3P+eAWnR5ofg/9rY7LAqZ+T88gV+ZU5r6P90Pkn63pfs/y1tmdpu7/D9S5O8Zadz9P/DIAymOCP8/f2QIWj4gAECVKc+jVcIAQD66wYzKagFAE5LzG90ZAkC7Dg7dz88CQJGatfnnjANARO3vU21RBECVoJWhqh0FQG7B2Yjt8QVAxnPyvYbOBkAhM+4hyrMHQBKxweIOoghAJtCanK+ZCUCvu4V8CpsKQImkcWSBpgtAKTijEHq8DECpeqM+Xt0NQPZFutWbCQ9ALiiCiNIgEEDHoZpV+MIQQJiNCwZ9axFAzlvsu6AaEkBPJx8gptASQL+U43vSjRNA13Zu021SFEAjwpABwx4VQH3KeNQf8xVAhDmZK9XPFkDAp8EWN7UXQGJBdfacoxhAOmWMnWGbGUAqty5045waQCOxM5yEqBtAaFX4Fqu+HEBpQ7nswN8dQLcWgVU0DB9AT9Ld8TsiIEBSsT9YgcQgQKp+z0QobSFAyPbKEHEcIkDt1LGgntIiQBL1NH72jyNATawx88BUJECLe8QlSSElQF69fjXd9SVADnLLWc7SJkAy1o8BcbgnQNL+FPQcpyhAYU1Icy2fKUA7KmFfAaEqQEcb+1v7rCtAC/iz9oHDLEBWtF7P/+QtQM7428HjES9ArkTViFAlMEDpJqHL18cwQF3WpvfFcDFA1+nq1VsgMkDMvbvD3NYyQJhdW82OlDNAscPEybpZNEC/0Jh3rCY1QLPuP5uy+zVA6vRNHh/ZNkBBiDYwR783QIDjYGiDrjhAOa2q6S+nOUCrRWqHrKk6QCnFAexctjtAqr8UwajNPED0x3PZ++89QOGi0VzGHT9AGI6rer4rQECuwJV/zM5AQOVzBF1MeEFAGUt6vn8oQkDDlxr2qt9CQC3K0BgVnkNAuG+yGwhkREABsqry0DFFQDgZf7C/B0ZAly0+qCfmRkDZfSmQX81HQFCGLabBvUhALP361au3SUCgHtbgf7tKQCPAMYejyUtA8C0ttIDiTEAAKw2rhQZOQKLTyTYlNk9AjFPmbes4UECJy/2FC91QQIHbl66zh1FAav0bYSc5UkB7N0XjrPFSQF43ZGaNsVNAilAeKBV5VECb+L2Uk0hVQDaoKmtbIFZAkm2f4sIAV0Df+zjSI+pXQLOgddrb3FhASELDkEzZWUAqaDmt299aQPBPnzrz8FtA8zrgyAENXUDwdBKiejReQE4ZOALWZ19AG6nxqMhTYEDoXvWxF/pgQBHoLlscp2FAbTx22x1bYkADhXyFZhZjQLuyx+1D2WNAX2nAEgekZEB0T/SGBHdlQE9lsZ2UUmZAgNIhmhM3Z0AroxLh4SRoQDQ+ky1kHGlA2PmeyAMeakCuIQbELiprQLIN0DhYQWxAeZhUifhjbUAoZFCnjZJuQMX3PF6bzW9A5fEd0dWKcEAna/VxpzVxQID1vjSO53FAd87CVtmgckAVVufh22FzQMAKauLsKnRADAUjoGf8dECbXZrbq9Z1QBx7PQ8eunZA/4cJtSend0BoWQiRN554QL30BQHCn3lA9b7uUUGsekCYUlEbNsR7QEsji6En6HxAQqA0P6QYfkCmmXDWQVZ/QP7AaSXPUIBAluCEw2IdgEB83lekVL+AQJ/0PfqhZ4FAGzRGqIoWgkDUGocTUcyCQD+eUjw6iYNAUn1n2I1NhECkyylulhmFQDsK7XCh7YVA3otaXv/JhkAjTf/cA6+HQCnaDNwFnYhA6E5ZtF+UiUC4+apKb5WKQPyjXDOWoItAKQlo1zm2jECddXe+IuuMQGKg5B9yBI5A7AMtkEZlkEDdEGtKEb+QQKQ0eftbZ5FAMJkX6kEWkkDsuFF6BcySQHAKZKvriJNANensMTxNlEA6sySTQRmVQPdvJ0FJ7ZVAcL5auKPJlkB+MvudpK6XQNe63N+inJhAihxq1fiTmUCcC/BhBJWaQG7kQBgnoJtA+Y2+X8a1nECg8qpmK0edQLHbpQ6sZ55ASL18uGJWoEBQH43xzb6gQMnyzf0VZ6FAPYkNLfkVokDbXUziucuiQLtssRudiKNAgrK6jOpMpEAd3HS57BilQGZ8xBLx7KVAUH0n0V95pkAb2+PBnfCnQE2Z2szv46hAuZ4Y+JGTqUCAD+N6mZSqQLf34/63n6tA7m/l6VK1rEBFoxWBp4WtQMAU4p8Zq65AEhJkIchCsECnBb6Zir6wQJwqPAHQZrFApv8ncbAVskA9QV6HtKGyQJvBd796rrNAoN6ejtZ1tEDqQBrhlxi1QOspxOWY7LVAkQFuzaCdtkBmdyv6jNa3QIpDFc/Hx7hA5c5kHCuTuUC2hbaiX2i6QANp/nQzybtATEi+tyfivEDnZddRtaq9QK06tyYd075AhxxdzboywEBetWDK5ajAQAHFW4tzT8FAGRh2MBMswkDOMkz8MLXCQN/0pje9ncNA",
          "dtype": "f8"
         },
         "xaxis": "x3",
         "y": [
          0.39777074776938576,
          0.36786274533364616,
          0.34011514422843625,
          0.31442570098713213,
          0.29062846504849194,
          0.2686075987632249,
          0.24821922545590794,
          0.22934287545397525,
          0.2118647570235425,
          0.19568603346818766,
          0.18070596681826667,
          0.16683693634004426,
          0.1539968406253495,
          0.14210945976979886,
          0.1311039612765244,
          0.12090530277886295,
          0.11145664900835348,
          0.10272679270575596,
          0.09464530257070448,
          0.08716459972006411,
          0.08023991735261626,
          0.07383045379900996,
          0.06789798769310587,
          0.06240615378445928,
          0.057326003908489215,
          0.052633895539636814,
          0.04828277919578382,
          0.04424697239977804,
          0.04053228473106364,
          0.03708706994031601,
          0.033891329599600555,
          0.030954117595307445,
          0.028230057943745144,
          0.02571221264923863,
          0.023385625448532815,
          0.02123649889748359,
          0.01921070646404342,
          0.01738275677605207,
          0.01569651605531612,
          0.014172917790714473,
          0.012732766381390098,
          0.011391344327464218,
          0.010197642989199295,
          0.009086122961382333,
          0.008059642301878476,
          0.007110648997004492,
          0.006257896939050932,
          0.005482195585419578,
          0.004788856259790507,
          0.004148490439770448,
          0.0035863611721386507,
          0.0030964540407521462,
          0.002671544573797486,
          0.00232594108992247,
          0.0020540914917390133,
          0.001866942360278414,
          0.0017560611568837015,
          0.001712408828362378,
          0.0017186317696022686,
          0.0017462174118956224,
          0.0017789993407654942,
          0.0017893711384826168,
          0.001760874375946684,
          0.001691558097383407,
          0.0015761440907800246,
          0.0014309305122606883,
          0.0012822994769628251,
          0.0011622394533506858,
          0.0010934398897267657,
          0.001075468560907701,
          0.0010916090619460875,
          0.001107723647347949,
          0.0010957676051588656,
          0.0010445544072166203,
          0.0009563546239766418,
          0.0008656113711305648,
          0.000805917122859695,
          0.0007956672872212602,
          0.000809032592746501,
          0.0008086662037418655,
          0.0007693115870149189,
          0.0007016375764400762,
          0.0006452941744592286,
          0.0006327104707056915,
          0.0006423434333388289,
          0.0006314415599748778,
          0.0005826531274938684,
          0.0005354150850418882,
          0.0005277070618799471,
          0.0005334438299277217,
          0.0005081169761463697,
          0.00046415982511724185,
          0.000451544687536877,
          0.0004559766424498298,
          0.0004284805403295609,
          0.0003968017007628799,
          0.0003991669002088538,
          0.000387116183624503,
          0.00035546290697880496,
          0.0003552530518594882,
          0.00034335126509847517,
          0.00031848066062649123,
          0.0003200267955483967,
          0.00029945551935236603,
          0.0002904624002698532,
          0.0002835815659014262,
          0.0002656829876308066,
          0.00026457373068739074,
          0.0002460274467847619,
          0.00024528497777951574,
          0.00022890146785501577,
          0.00022646079443539895,
          0.0002143577145361728,
          0.00020705317481215836,
          0.0002021947015226537,
          0.0001900989402441144,
          0.00018674252503631151,
          0.0001808420646096238,
          0.00017074264013313358,
          0.00016545381403757308,
          0.00016183815772222024,
          0.0001560836065114203,
          0.00014894898931821753,
          0.0001424279621305198,
          0.0001375926826044577,
          0.0001325247475660409,
          0.00012819261717264983,
          0.00012347447628223483,
          0.00011913808750957863,
          0.00011494658069154085,
          0.00011130666103894242,
          0.00010813338604911455,
          0.0001046062759398675,
          0.0001001795853259295,
          0.000096477406027696,
          0.00009399641299689216,
          0.00008978804122242874,
          0.0000876491701986061,
          0.00008377357270939342,
          0.00008178870518543389,
          0.00007858732039729619,
          0.00007560976329024801,
          0.00007339250020369314,
          0.00007120577465120239,
          0.00006891926860316533,
          0.00006658060553151609,
          0.00006430388063400148,
          0.00006194397885748571,
          0.00005999749214311971,
          0.000058483924251375536,
          0.00005629875293846254,
          0.00005486777773510628,
          0.00005274050824539282,
          0.00005120196457883098,
          0.00004971341271914043,
          0.00004808566081796557,
          0.00004663964264308424,
          0.00004526831898679777,
          0.00004411049128847885,
          0.000042610501977414205,
          0.00004157818674227179,
          0.000040199047012086314,
          0.00003908640753277718,
          0.000037947364193860454,
          0.00003709490283715746,
          0.00003586751503625593,
          0.00003503302686446088,
          0.00003413498449295872,
          0.00003311528931934954,
          0.00003231997169576977,
          0.000031600118745444524,
          0.00003074119928293637,
          0.000030132834490642212,
          0.0000293376505588911,
          0.00002867961733653005,
          0.00002810629679536118,
          0.0000275385714610522,
          0.000027050255653545378,
          0.00002641419471912023,
          0.00002593432940398507,
          0.000025499114954804384,
          0.000025079629495280075,
          0.000024641170602840984,
          0.00002421500014933147,
          0.000023827647120734037,
          0.00002359279785074093,
          0.000023220962159127197,
          0.000022940146582225203,
          0.000022677668054205762,
          0.00002244762370191418,
          0.00002231643183778068,
          0.000022088132263071978,
          0.000022008993715575914,
          0.000021832074508012316,
          0.000021812475778652137,
          0.000021657607623238647,
          0.000021626652556894892,
          0.000021681715925499796,
          0.000021675083227317895,
          0.000021720850421122037,
          0.000021773367218423326,
          0.000021810565934327402,
          0.00002198422666376053,
          0.00002212198182716045,
          0.0000222806359775964,
          0.00002249680759109445,
          0.000022656567298996,
          0.000022990177309627103,
          0.000023183800687466353,
          0.000023492784304083957,
          0.000023809695940789764,
          0.000024171330962728865,
          0.000024544641211928363,
          0.00002495787373662464,
          0.000025367576395715723,
          0.000025825948976952105,
          0.00002627817512340704,
          0.000026771544486578832,
          0.000027311469781469486,
          0.000027935253289405095,
          0.00003889910312934036,
          0.000029055503660952096,
          0.000028923803567329394,
          0.000029370103629455875,
          0.00002983773342672979,
          0.000030497400684372047,
          0.00003099896024392407,
          0.00003159655202156391,
          0.00003229924126261391,
          0.00003281704337502948,
          0.00003346670724847265,
          0.00003409326226855393,
          0.00003484870211895496,
          0.00003554472033262759,
          0.00003622781018407395,
          0.000036830418768506225,
          0.0000375752246303083,
          0.000038381359470105975,
          0.00003842759920757114,
          0.00003929685300210702,
          0.000041213868062232955,
          0.00004147020650903849,
          0.00004215049603942155,
          0.00004300990309793896,
          0.00004393478984894568,
          0.00004489746650191276,
          0.00004553374928015193,
          0.00004647368245881761,
          0.000047361820874901584,
          0.000048727739719235365,
          0.00005158695551735401,
          0.00005022218182354445,
          0.000051158856566717174,
          0.00005237162028262706,
          0.000053152001366864564,
          0.00005428053947197468,
          0.000054847338140232074,
          0.000056240173170215625,
          0.000057935865375375423,
          0.00005861420063653864,
          0.00005966134251925717,
          0.00006094088632441962,
          0.00006251759839658669,
          0.00020677994573362228,
          0.00006460484975172537,
          0.00006602217663234028,
          0.00006700340200249094,
          0.00006820874685451325,
          0.00007074820761843767,
          0.00007132578679485709,
          0.00007253591751883372,
          0.00007453923047161648,
          0.00007860623778038295,
          0.00007670177838340863,
          0.00007783937060804059,
          0.00008062900216755604,
          0.00008177813715678169,
          0.0000832671961122921,
          0.00009009687895293246,
          0.00008667545921098953,
          0.00008735826408933177,
          0.00009689998182475817,
          0.00009192352918085722,
          0.00009457021330722071,
          0.00009588294325958391,
          0.00009665401133072278,
          0.00010036312864910377,
          0.00010194153055165329,
          0.00011060770996399035,
          0.00010455596685679576,
          0.0001089931991646309,
          0.0001118269519569455,
          0.00011319626537230103,
          0.00011593634644610218,
          0.00011602520702353829,
          0.0001450231861213496,
          0.00012234561951705386,
          0.00012369768888973666,
          0.00013143439648814905,
          0.00014905594188837102
         ],
         "yaxis": "y3"
        },
        {
         "mode": "lines+markers",
         "name": "RMSE phase",
         "type": "scatter",
         "x": {
          "bdata": "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",
          "dtype": "f8"
         },
         "xaxis": "x4",
         "y": [
          0.0012231086892855723,
          0.0012179867770049104,
          0.0012152714777794095,
          0.0012128458557490152,
          0.0012111790577105175,
          0.001210928420291616,
          0.0012106670051246573,
          0.0012103779853259444,
          0.001210056553482334,
          0.0012096852272948766,
          0.001209272243899058,
          0.0012088015848276891,
          0.0012082862604241146,
          0.0012076997662306729,
          0.0012070479126254014,
          0.0012063320114397186,
          0.0012620484473772117,
          0.0012609465847629622,
          0.0012597518156595257,
          0.001258459641035327,
          0.0012570426253644374,
          0.0012555339672656513,
          0.0012538517976798222,
          0.0012520582057858976,
          0.001250112575581705,
          0.001307698091743549,
          0.0013049453665514926,
          0.0012432158262533314,
          0.001298950026401674,
          0.0012956475835538457,
          0.001234437369946656,
          0.0012883177045546462,
          0.001284254700595707,
          0.001279886298899315,
          0.0012751753069997298,
          0.0012700930315594256,
          0.0011369279723059582,
          0.0011324091634461592,
          0.0011274707440506089,
          0.0012453268701341843,
          0.0011838804264926864,
          0.0011097521041958343,
          0.0011678918879054214,
          0.001211228129789111,
          0.0011490953095202683,
          0.001077525720627235,
          0.001067527290317849,
          0.0010566100139666177,
          0.0011010591654004912,
          0.0010316579984118882,
          0.001017452695742502,
          0.0010435532493060977,
          0.000985187930477296,
          0.0010093489950360214,
          0.0009475538184149461,
          0.0009713519797164529,
          0.000951721644873532,
          0.0009325759664990212,
          0.0009196959499718643,
          0.0009006723159890389,
          0.0009218231472812107,
          0.0009210040177770404,
          0.0008927507795670846,
          0.0009455965612221909,
          0.0009647996149363845,
          0.000900563377874675,
          0.0009336042843141506,
          0.0009315701822298011,
          0.0009016274483535328,
          0.0009065575999114714,
          0.0008725903408112192,
          0.0008656813540264882,
          0.0008726467915456897,
          0.0008884348427563475,
          0.000896425709075536,
          0.0009236914347211918,
          0.0009179269004808932,
          0.000896627610120311,
          0.0008775626713346001,
          0.0008990203766660257,
          0.000875396332028751,
          0.0008848197332870841,
          0.0008800316892942422,
          0.000867007408053487,
          0.0008520928187601537,
          0.000838863768052633,
          0.0009521701110086437,
          0.0008860535917176667,
          0.0009071276662965318,
          0.0008930922669056153,
          0.0009006581536449603,
          0.0009286184308525578,
          0.0008547484654606897,
          0.0008929845764381717,
          0.0009184442814156704,
          0.0008721410192604032,
          0.0009346769082050479,
          0.0009425743199866024,
          0.0009531877125810493,
          0.0009616572208354578,
          0.0009691024610607097,
          0.0009635538542957976,
          0.0008868798486067203,
          0.000860618805354062,
          0.0009596154439070524,
          0.0009268813223850064,
          0.0009465873863332851,
          0.0009125590941398972,
          0.0009423492586308373,
          0.0009412360896091796,
          0.0009738836178635734,
          0.0009434848944798687,
          0.0008622782833590909,
          0.0008594269151604571,
          0.0009492603099956032,
          0.0009219667819924577,
          0.0009004682776769366,
          0.0009382898817405863,
          0.0009417896242948997,
          0.0008721994098824535,
          0.0008720187585436195,
          0.0009308694692562475,
          0.0009596701728094045,
          0.0009392619005561166,
          0.0008653983842661469,
          0.0008919872186500845,
          0.0008932750522360312,
          0.0009538705663064566,
          0.0010116303425210115,
          0.0009457700437521566,
          0.0009550706900987204,
          0.0008820940343713751,
          0.0009842918095140866,
          0.0009508077454628191,
          0.0009318487776983505,
          0.0009025679139596477,
          0.000950500973394045,
          0.0009515638661596365,
          0.0009392053017611086,
          0.0009250721781007904,
          0.0008752630634545645,
          0.0009833933174225326,
          0.000986435756148401,
          0.0009562902670693678,
          0.0009401984499686813,
          0.0009933994513227102,
          0.001022288583065303,
          0.0009054514487558877,
          0.0009456091820296248,
          0.000996898474604877,
          0.0010377684676662557,
          0.0010363769942051155,
          0.000997984236514102,
          0.0009733771841465256,
          0.0010518603323059802,
          0.0009853117715661653,
          0.0009048045325111001,
          0.000961243744999829,
          0.000999774418693989,
          0.000944784729396289,
          0.001011853488902817,
          0.0009307035831728322,
          0.001061527678446594,
          0.0010289275779185928,
          0.0010702048839795228,
          0.0009942157086286786,
          0.0010463259961157143,
          0.001084473621831616,
          0.0011179398280553566,
          0.0010880030083019617,
          0.000985590405053478,
          0.001113215006473764,
          0.0011226436961536753,
          0.0010651700475988758,
          0.0011126729360889747,
          0.0010686389623250695,
          0.0011172360983006861,
          0.0011849054679566313,
          0.001171081108232997,
          0.0011110646500802654,
          0.0011086509829902566,
          0.0010747138818900503,
          0.001135830483465756,
          0.0011375626471721635,
          0.0011049058982519262,
          0.0011491192804617438,
          0.0011880362801182864,
          0.0010845232185146601,
          0.0010987438629203436,
          0.0011865788019311727,
          0.0012109800182380302,
          0.0012962623119884913,
          0.0011590185786084226,
          0.0012702861493894201,
          0.0012769542006954408,
          0.0013142834896429881,
          0.0013496775781350805,
          0.001250470624173886,
          0.0013186207689183367,
          0.0013782993224822108,
          0.0014572548981498577,
          0.0013328655810186652,
          0.0014569733900208644,
          0.0015285359620545345,
          0.0015524449672821806,
          0.00152013743885112,
          0.0015193459785883966,
          0.001641960757397724,
          0.0015652025956238355,
          0.0016016430465824035,
          0.0016440885502677052,
          0.0016140350431719315,
          0.0017129862576721886,
          0.0017248493504752017,
          0.0016418699103637935,
          0.0017976941847052245,
          0.001851213721227545,
          0.0018871036225712656,
          0.0018072329348172314,
          0.0018777104828921797,
          0.002124786714808121,
          0.0020065281967042766,
          0.0019464225754735444,
          0.0019545700312813157,
          0.002086340818027452,
          0.0020315147709382077,
          0.002061296417653588,
          0.0020661817894700287,
          0.0019796807367816432,
          0.002204078985403656,
          0.002305256601619609,
          0.002424362363282808,
          0.002411143851372613,
          0.0023917670877891773,
          0.002265929477285496,
          0.0025442113821290075,
          0.0025985926170997656,
          0.0027761015374619612,
          0.002661948173518841,
          0.002743136742249403,
          0.00267149776481465,
          0.003010206621896214,
          0.0028569413255448307,
          0.002905414816004718,
          0.0030977997444064363,
          0.002956757502023324,
          0.0030585195278646313,
          0.003153748311397491,
          0.0032719781511965427,
          0.0033648064646453623,
          0.0033572367162745123,
          0.0035082100503926327,
          0.0036471037066797846,
          0.0034424598979608777,
          0.003667547376603424,
          0.003740298426849268,
          0.003766692627643146,
          0.003732064834823239,
          0.004163879745718553,
          0.00399763320195306,
          0.004028017903323242,
          0.004049974601300527,
          0.004021926662087488,
          0.004274438742017252,
          0.004357682306719686,
          0.004361375831813098,
          0.004670882110524917,
          0.00471469508451751,
          0.004947350449265874,
          0.004639066264747729,
          0.004827622833833488,
          0.004775238058981065,
          0.005165754279936526,
          0.00497560352765289,
          0.004926507949894746,
          0.005398257528086322,
          0.005087165327967997,
          0.005040118698851959,
          0.005440528258598933,
          0.0058358971605934175,
          0.006017086893305502,
          0.00576648320532726,
          0.00610549822071843,
          0.0057933361649163875,
          0.006067356352677592,
          0.00600618598411662,
          0.00597945102235014,
          0.006369724802148517,
          0.006055363908794942,
          0.0065665354697906535,
          0.006465981061338062,
          0.0067165399880766245,
          0.007008349029014725,
          0.00679550679810237,
          0.0070607214802756715,
          0.007274656301035991,
          0.00711931330646516,
          0.0071739137583712725,
          0.007804825988333535,
          0.007635776308394339
         ],
         "yaxis": "y4"
        },
        {
         "line": {
          "dash": "dot"
         },
         "mode": "lines+markers",
         "name": "stderr phase",
         "type": "scatter",
         "x": {
          "bdata": "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",
          "dtype": "f8"
         },
         "xaxis": "x4",
         "y": [
          0.0012361759971673976,
          0.0012338998121018603,
          0.0012355609082372058,
          0.0012380500175409258,
          0.0012393905241987946,
          0.0012402429341289258,
          0.0012415700902995922,
          0.0012428811978714956,
          0.0012439634949261667,
          0.0012447951766044482,
          0.0012453611993817348,
          0.0012456916528613992,
          0.0012458116107634878,
          0.0012457402767245855,
          0.0012454920146011753,
          0.001245031107449394,
          0.0012416018325355149,
          0.0012411708954140602,
          0.0012405672381043664,
          0.0012398009034828832,
          0.0012388703503467388,
          0.001237777927783545,
          0.0012365204978398085,
          0.0012350774632624822,
          0.001233489030035645,
          0.001236733221843629,
          0.001234284476334661,
          0.001227542483428922,
          0.001228910527210626,
          0.0012259493897432334,
          0.001219651741302953,
          0.0012193760597994658,
          0.0012157199633007487,
          0.0012117847626210842,
          0.0012075430273005743,
          0.001202966264393293,
          0.001194087280673618,
          0.0011888857536097547,
          0.001183234003420421,
          0.0011806318432702582,
          0.0011724632458544409,
          0.0011631562302552528,
          0.0011572935947087972,
          0.001149825180380427,
          0.001139353170127902,
          0.001127198899477299,
          0.0011161560873040755,
          0.0011041461352751464,
          0.0010930182724214251,
          0.0010769106815969843,
          0.0010615350277793513,
          0.0010460122817978147,
          0.001026997927497408,
          0.001008871495178289,
          0.0009875496277914576,
          0.0009673691324888861,
          0.0009458465197737709,
          0.0009248335270978063,
          0.0009063862087242743,
          0.0008900738805591616,
          0.0008815062663810877,
          0.0008795060202513787,
          0.0008849034211851112,
          0.0008999573900252196,
          0.0009171241362466314,
          0.0009317337551848594,
          0.000939123021842449,
          0.0009377236471362412,
          0.000927870638264304,
          0.0009103955451382348,
          0.0008939931183393849,
          0.0008831200034798768,
          0.0008831584709985067,
          0.0008963451181018655,
          0.0009114822567576431,
          0.0009224905618137215,
          0.0009191410451654145,
          0.0009065161780991232,
          0.0008905697121784571,
          0.000886013036857152,
          0.0008964244462089869,
          0.0009125780462598273,
          0.0009163426063827507,
          0.0009046426738972522,
          0.0008890065874525764,
          0.0008911407875116497,
          0.0009057280371547623,
          0.0009135953903398001,
          0.0009022658292915185,
          0.0008899310549043732,
          0.0008994931129861568,
          0.0009127289675213893,
          0.0009030030766180175,
          0.0008920071998703601,
          0.0009031047985338029,
          0.0009098919257136053,
          0.0008967365702307265,
          0.0008998873673798317,
          0.0009107141688188602,
          0.0008997453184282952,
          0.0009019715971609175,
          0.0009113136203783336,
          0.0008974963414949573,
          0.0009083367881028279,
          0.0009053173247824874,
          0.000904315832722757,
          0.0009096390641624025,
          0.0009029119196584314,
          0.0009115191201157996,
          0.0009039732877821152,
          0.0009119210577701231,
          0.000906653402906561,
          0.0009099116285511893,
          0.0009111297605747384,
          0.0009060238506755397,
          0.0009146439530171176,
          0.0009103256815115946,
          0.0009105422040191397,
          0.0009162020609723017,
          0.0009156127777312221,
          0.0009119112527601224,
          0.0009140815278651871,
          0.0009179854848991469,
          0.0009197826806197084,
          0.0009237710561733725,
          0.0009217054968333238,
          0.0009238525575615514,
          0.000923627193479518,
          0.0009261612486358641,
          0.0009274469399257779,
          0.0009273737378500946,
          0.0009252752008975698,
          0.0009255568342154494,
          0.0009316119655855776,
          0.0009315309904452111,
          0.0009292898615674888,
          0.0009353260996509402,
          0.0009336186966404029,
          0.0009385522379653144,
          0.0009377391083329641,
          0.0009406360358835673,
          0.0009439254960834752,
          0.00094472639678151,
          0.000945983998343108,
          0.0009479905327201779,
          0.0009498814668425241,
          0.0009533762405232463,
          0.000956728802809479,
          0.0009590375285129656,
          0.0009616382347861954,
          0.0009673099921136737,
          0.0009681722122230255,
          0.0009697158944652879,
          0.0009760271501035706,
          0.0009784829823777138,
          0.0009790444464783865,
          0.0009845195641683079,
          0.0009894504459430744,
          0.0009919296107020988,
          0.000995868606871249,
          0.0009996711621269284,
          0.0010017780823059618,
          0.0010081262402552387,
          0.0010103473210609341,
          0.0010177916465261287,
          0.0010197987991010951,
          0.001025219666916239,
          0.0010340453788940734,
          0.0010355272379804147,
          0.0010411575451345272,
          0.0010476271860080492,
          0.0010535630726904372,
          0.0010638275981315933,
          0.001066735018481723,
          0.0010735494621279401,
          0.001080377850609649,
          0.0010892631028134952,
          0.0010999058357180154,
          0.001104015265748956,
          0.001114002241616397,
          0.0011251054961087708,
          0.0011340311119306175,
          0.001144061866176505,
          0.0011514271325487758,
          0.001161084415006003,
          0.0011750868711422771,
          0.0011830623932902972,
          0.0011959851648417857,
          0.0012071197132559185,
          0.0012197487406264387,
          0.0012362609601893736,
          0.001247285895905332,
          0.0012645740080675135,
          0.001277000259208029,
          0.0012959782717360147,
          0.0013079321531253736,
          0.0013247634025818503,
          0.0013468759516032033,
          0.001363747617188497,
          0.0013840507517160331,
          0.0014022585484496437,
          0.0014196698195908975,
          0.00144426253676634,
          0.001466090601306215,
          0.0014886933631357096,
          0.001513565482691684,
          0.001533716367845836,
          0.0015653087473005704,
          0.0015862734057062351,
          0.0016146367679072571,
          0.0016422099435103648,
          0.0016721098038189157,
          0.0017027883633347245,
          0.0017347487425399674,
          0.001766181593318344,
          0.0018005331117833994,
          0.0018338100727451575,
          0.0018691414878121374,
          0.0019068470869185272,
          0.0019440175823472808,
          0.001981901203241981,
          0.0020245323535269697,
          0.0020089411575827266,
          0.0020505464876957747,
          0.002084434302390098,
          0.002130178398089662,
          0.002164843338096059,
          0.002205331603033606,
          0.0022535705923944077,
          0.002289531159348358,
          0.002333215070195696,
          0.0023763934963164017,
          0.002426587459534266,
          0.002473941793385008,
          0.0025202875330058204,
          0.002560273869400391,
          0.002609639095326296,
          0.002663001156885498,
          0.002665922612166111,
          0.002716055875551155,
          0.0028471602617882196,
          0.002867555018302447,
          0.0029147879716127727,
          0.002970374749904091,
          0.0030314416511675723,
          0.0030954955231778593,
          0.0031384989455119374,
          0.003196322135836251,
          0.0032534041661533776,
          0.0033201999339117663,
          0.0033796774989192256,
          0.0034343554209003385,
          0.003498670562835188,
          0.003578585379030607,
          0.0036259684864546316,
          0.003699029924637143,
          0.003733517253220438,
          0.0037940925557241392,
          0.003918087770194186,
          0.0039655487233206475,
          0.004032836104056508,
          0.0041143600057091615,
          0.004198880966525831,
          0.004250043725700342,
          0.00432660128953736,
          0.004421836988546502,
          0.004477594239551092,
          0.004547883276476811,
          0.0046603763272657795,
          0.004734339228381373,
          0.004803156566632727,
          0.004897766154256574,
          0.004955410808473026,
          0.005037007430586637,
          0.00510439705684071,
          0.005191757910911114,
          0.005318025110489514,
          0.005407296786946847,
          0.005476938913263492,
          0.005564042359945196,
          0.0056203056172949815,
          0.005780676045543208,
          0.005855715013369985,
          0.005915601660296994,
          0.006020006314480523,
          0.0060906152544881395,
          0.006208388881858961,
          0.0063289728582748405,
          0.006385657301177725,
          0.006463738869786864,
          0.006607337629912372,
          0.006672677387776229,
          0.006739591517112495,
          0.006841728189016273,
          0.006959099071379141,
          0.007023191952402618,
          0.0071505617129118005,
          0.0072513306040177085,
          0.007310676813822994,
          0.007434037694512014
         ],
         "yaxis": "y4"
        }
       ],
       "layout": {
        "annotations": [
         {
          "align": "left",
          "font": {
           "size": 14
          },
          "showarrow": false,
          "text": "<b>frequency</b>",
          "x": 0.5,
          "xref": "x domain",
          "y": 0.95,
          "yref": "y domain"
         },
         {
          "align": "left",
          "font": {
           "size": 14
          },
          "showarrow": false,
          "text": "<b>amplitude</b>",
          "x": 0.5,
          "xref": "x2 domain",
          "y": 0.95,
          "yref": "y2 domain"
         },
         {
          "align": "left",
          "font": {
           "size": 14
          },
          "showarrow": false,
          "text": "<b>damping_rate</b>",
          "x": 0.5,
          "xref": "x3 domain",
          "y": 0.95,
          "yref": "y3 domain"
         },
         {
          "align": "left",
          "font": {
           "size": 14
          },
          "showarrow": false,
          "text": "<b>phase</b>",
          "x": 0.5,
          "xref": "x4 domain",
          "y": 0.95,
          "yref": "y4 domain"
         }
        ],
        "height": 900,
        "showlegend": true,
        "template": {
         "data": {
          "bar": [
           {
            "error_x": {
             "color": "#2a3f5f"
            },
            "error_y": {
             "color": "#2a3f5f"
            },
            "marker": {
             "line": {
              "color": "#E5ECF6",
              "width": 0.5
             },
             "pattern": {
              "fillmode": "overlay",
              "size": 10,
              "solidity": 0.2
             }
            },
            "type": "bar"
           }
          ],
          "barpolar": [
           {
            "marker": {
             "line": {
              "color": "#E5ECF6",
              "width": 0.5
             },
             "pattern": {
              "fillmode": "overlay",
              "size": 10,
              "solidity": 0.2
             }
            },
            "type": "barpolar"
           }
          ],
          "carpet": [
           {
            "aaxis": {
             "endlinecolor": "#2a3f5f",
             "gridcolor": "white",
             "linecolor": "white",
             "minorgridcolor": "white",
             "startlinecolor": "#2a3f5f"
            },
            "baxis": {
             "endlinecolor": "#2a3f5f",
             "gridcolor": "white",
             "linecolor": "white",
             "minorgridcolor": "white",
             "startlinecolor": "#2a3f5f"
            },
            "type": "carpet"
           }
          ],
          "choropleth": [
           {
            "colorbar": {
             "outlinewidth": 0,
             "ticks": ""
            },
            "type": "choropleth"
           }
          ],
          "contour": [
           {
            "colorbar": {
             "outlinewidth": 0,
             "ticks": ""
            },
            "colorscale": [
             [
              0,
              "#0d0887"
             ],
             [
              0.1111111111111111,
              "#46039f"
             ],
             [
              0.2222222222222222,
              "#7201a8"
             ],
             [
              0.3333333333333333,
              "#9c179e"
             ],
             [
              0.4444444444444444,
              "#bd3786"
             ],
             [
              0.5555555555555556,
              "#d8576b"
             ],
             [
              0.6666666666666666,
              "#ed7953"
             ],
             [
              0.7777777777777778,
              "#fb9f3a"
             ],
             [
              0.8888888888888888,
              "#fdca26"
             ],
             [
              1,
              "#f0f921"
             ]
            ],
            "type": "contour"
           }
          ],
          "contourcarpet": [
           {
            "colorbar": {
             "outlinewidth": 0,
             "ticks": ""
            },
            "type": "contourcarpet"
           }
          ],
          "heatmap": [
           {
            "colorbar": {
             "outlinewidth": 0,
             "ticks": ""
            },
            "colorscale": [
             [
              0,
              "#0d0887"
             ],
             [
              0.1111111111111111,
              "#46039f"
             ],
             [
              0.2222222222222222,
              "#7201a8"
             ],
             [
              0.3333333333333333,
              "#9c179e"
             ],
             [
              0.4444444444444444,
              "#bd3786"
             ],
             [
              0.5555555555555556,
              "#d8576b"
             ],
             [
              0.6666666666666666,
              "#ed7953"
             ],
             [
              0.7777777777777778,
              "#fb9f3a"
             ],
             [
              0.8888888888888888,
              "#fdca26"
             ],
             [
              1,
              "#f0f921"
             ]
            ],
            "type": "heatmap"
           }
          ],
          "histogram": [
           {
            "marker": {
             "pattern": {
              "fillmode": "overlay",
              "size": 10,
              "solidity": 0.2
             }
            },
            "type": "histogram"
           }
          ],
          "histogram2d": [
           {
            "colorbar": {
             "outlinewidth": 0,
             "ticks": ""
            },
            "colorscale": [
             [
              0,
              "#0d0887"
             ],
             [
              0.1111111111111111,
              "#46039f"
             ],
             [
              0.2222222222222222,
              "#7201a8"
             ],
             [
              0.3333333333333333,
              "#9c179e"
             ],
             [
              0.4444444444444444,
              "#bd3786"
             ],
             [
              0.5555555555555556,
              "#d8576b"
             ],
             [
              0.6666666666666666,
              "#ed7953"
             ],
             [
              0.7777777777777778,
              "#fb9f3a"
             ],
             [
              0.8888888888888888,
              "#fdca26"
             ],
             [
              1,
              "#f0f921"
             ]
            ],
            "type": "histogram2d"
           }
          ],
          "histogram2dcontour": [
           {
            "colorbar": {
             "outlinewidth": 0,
             "ticks": ""
            },
            "colorscale": [
             [
              0,
              "#0d0887"
             ],
             [
              0.1111111111111111,
              "#46039f"
             ],
             [
              0.2222222222222222,
              "#7201a8"
             ],
             [
              0.3333333333333333,
              "#9c179e"
             ],
             [
              0.4444444444444444,
              "#bd3786"
             ],
             [
              0.5555555555555556,
              "#d8576b"
             ],
             [
              0.6666666666666666,
              "#ed7953"
             ],
             [
              0.7777777777777778,
              "#fb9f3a"
             ],
             [
              0.8888888888888888,
              "#fdca26"
             ],
             [
              1,
              "#f0f921"
             ]
            ],
            "type": "histogram2dcontour"
           }
          ],
          "mesh3d": [
           {
            "colorbar": {
             "outlinewidth": 0,
             "ticks": ""
            },
            "type": "mesh3d"
           }
          ],
          "parcoords": [
           {
            "line": {
             "colorbar": {
              "outlinewidth": 0,
              "ticks": ""
             }
            },
            "type": "parcoords"
           }
          ],
          "pie": [
           {
            "automargin": true,
            "type": "pie"
           }
          ],
          "scatter": [
           {
            "fillpattern": {
             "fillmode": "overlay",
             "size": 10,
             "solidity": 0.2
            },
            "type": "scatter"
           }
          ],
          "scatter3d": [
           {
            "line": {
             "colorbar": {
              "outlinewidth": 0,
              "ticks": ""
             }
            },
            "marker": {
             "colorbar": {
              "outlinewidth": 0,
              "ticks": ""
             }
            },
            "type": "scatter3d"
           }
          ],
          "scattercarpet": [
           {
            "marker": {
             "colorbar": {
              "outlinewidth": 0,
              "ticks": ""
             }
            },
            "type": "scattercarpet"
           }
          ],
          "scattergeo": [
           {
            "marker": {
             "colorbar": {
              "outlinewidth": 0,
              "ticks": ""
             }
            },
            "type": "scattergeo"
           }
          ],
          "scattergl": [
           {
            "marker": {
             "colorbar": {
              "outlinewidth": 0,
              "ticks": ""
             }
            },
            "type": "scattergl"
           }
          ],
          "scattermap": [
           {
            "marker": {
             "colorbar": {
              "outlinewidth": 0,
              "ticks": ""
             }
            },
            "type": "scattermap"
           }
          ],
          "scattermapbox": [
           {
            "marker": {
             "colorbar": {
              "outlinewidth": 0,
              "ticks": ""
             }
            },
            "type": "scattermapbox"
           }
          ],
          "scatterpolar": [
           {
            "marker": {
             "colorbar": {
              "outlinewidth": 0,
              "ticks": ""
             }
            },
            "type": "scatterpolar"
           }
          ],
          "scatterpolargl": [
           {
            "marker": {
             "colorbar": {
              "outlinewidth": 0,
              "ticks": ""
             }
            },
            "type": "scatterpolargl"
           }
          ],
          "scatterternary": [
           {
            "marker": {
             "colorbar": {
              "outlinewidth": 0,
              "ticks": ""
             }
            },
            "type": "scatterternary"
           }
          ],
          "surface": [
           {
            "colorbar": {
             "outlinewidth": 0,
             "ticks": ""
            },
            "colorscale": [
             [
              0,
              "#0d0887"
             ],
             [
              0.1111111111111111,
              "#46039f"
             ],
             [
              0.2222222222222222,
              "#7201a8"
             ],
             [
              0.3333333333333333,
              "#9c179e"
             ],
             [
              0.4444444444444444,
              "#bd3786"
             ],
             [
              0.5555555555555556,
              "#d8576b"
             ],
             [
              0.6666666666666666,
              "#ed7953"
             ],
             [
              0.7777777777777778,
              "#fb9f3a"
             ],
             [
              0.8888888888888888,
              "#fdca26"
             ],
             [
              1,
              "#f0f921"
             ]
            ],
            "type": "surface"
           }
          ],
          "table": [
           {
            "cells": {
             "fill": {
              "color": "#EBF0F8"
             },
             "line": {
              "color": "white"
             }
            },
            "header": {
             "fill": {
              "color": "#C8D4E3"
             },
             "line": {
              "color": "white"
             }
            },
            "type": "table"
           }
          ]
         },
         "layout": {
          "annotationdefaults": {
           "arrowcolor": "#2a3f5f",
           "arrowhead": 0,
           "arrowwidth": 1
          },
          "autotypenumbers": "strict",
          "coloraxis": {
           "colorbar": {
            "outlinewidth": 0,
            "ticks": ""
           }
          },
          "colorscale": {
           "diverging": [
            [
             0,
             "#8e0152"
            ],
            [
             0.1,
             "#c51b7d"
            ],
            [
             0.2,
             "#de77ae"
            ],
            [
             0.3,
             "#f1b6da"
            ],
            [
             0.4,
             "#fde0ef"
            ],
            [
             0.5,
             "#f7f7f7"
            ],
            [
             0.6,
             "#e6f5d0"
            ],
            [
             0.7,
             "#b8e186"
            ],
            [
             0.8,
             "#7fbc41"
            ],
            [
             0.9,
             "#4d9221"
            ],
            [
             1,
             "#276419"
            ]
           ],
           "sequential": [
            [
             0,
             "#0d0887"
            ],
            [
             0.1111111111111111,
             "#46039f"
            ],
            [
             0.2222222222222222,
             "#7201a8"
            ],
            [
             0.3333333333333333,
             "#9c179e"
            ],
            [
             0.4444444444444444,
             "#bd3786"
            ],
            [
             0.5555555555555556,
             "#d8576b"
            ],
            [
             0.6666666666666666,
             "#ed7953"
            ],
            [
             0.7777777777777778,
             "#fb9f3a"
            ],
            [
             0.8888888888888888,
             "#fdca26"
            ],
            [
             1,
             "#f0f921"
            ]
           ],
           "sequentialminus": [
            [
             0,
             "#0d0887"
            ],
            [
             0.1111111111111111,
             "#46039f"
            ],
            [
             0.2222222222222222,
             "#7201a8"
            ],
            [
             0.3333333333333333,
             "#9c179e"
            ],
            [
             0.4444444444444444,
             "#bd3786"
            ],
            [
             0.5555555555555556,
             "#d8576b"
            ],
            [
             0.6666666666666666,
             "#ed7953"
            ],
            [
             0.7777777777777778,
             "#fb9f3a"
            ],
            [
             0.8888888888888888,
             "#fdca26"
            ],
            [
             1,
             "#f0f921"
            ]
           ]
          },
          "colorway": [
           "#636efa",
           "#EF553B",
           "#00cc96",
           "#ab63fa",
           "#FFA15A",
           "#19d3f3",
           "#FF6692",
           "#B6E880",
           "#FF97FF",
           "#FECB52"
          ],
          "font": {
           "color": "#2a3f5f"
          },
          "geo": {
           "bgcolor": "white",
           "lakecolor": "white",
           "landcolor": "#E5ECF6",
           "showlakes": true,
           "showland": true,
           "subunitcolor": "white"
          },
          "hoverlabel": {
           "align": "left"
          },
          "hovermode": "closest",
          "mapbox": {
           "style": "light"
          },
          "paper_bgcolor": "white",
          "plot_bgcolor": "#E5ECF6",
          "polar": {
           "angularaxis": {
            "gridcolor": "white",
            "linecolor": "white",
            "ticks": ""
           },
           "bgcolor": "#E5ECF6",
           "radialaxis": {
            "gridcolor": "white",
            "linecolor": "white",
            "ticks": ""
           }
          },
          "scene": {
           "xaxis": {
            "backgroundcolor": "#E5ECF6",
            "gridcolor": "white",
            "gridwidth": 2,
            "linecolor": "white",
            "showbackground": true,
            "ticks": "",
            "zerolinecolor": "white"
           },
           "yaxis": {
            "backgroundcolor": "#E5ECF6",
            "gridcolor": "white",
            "gridwidth": 2,
            "linecolor": "white",
            "showbackground": true,
            "ticks": "",
            "zerolinecolor": "white"
           },
           "zaxis": {
            "backgroundcolor": "#E5ECF6",
            "gridcolor": "white",
            "gridwidth": 2,
            "linecolor": "white",
            "showbackground": true,
            "ticks": "",
            "zerolinecolor": "white"
           }
          },
          "shapedefaults": {
           "line": {
            "color": "#2a3f5f"
           }
          },
          "ternary": {
           "aaxis": {
            "gridcolor": "white",
            "linecolor": "white",
            "ticks": ""
           },
           "baxis": {
            "gridcolor": "white",
            "linecolor": "white",
            "ticks": ""
           },
           "bgcolor": "#E5ECF6",
           "caxis": {
            "gridcolor": "white",
            "linecolor": "white",
            "ticks": ""
           }
          },
          "title": {
           "x": 0.05
          },
          "xaxis": {
           "automargin": true,
           "gridcolor": "white",
           "linecolor": "white",
           "ticks": "",
           "title": {
            "standoff": 15
           },
           "zerolinecolor": "white",
           "zerolinewidth": 2
          },
          "yaxis": {
           "automargin": true,
           "gridcolor": "white",
           "linecolor": "white",
           "ticks": "",
           "title": {
            "standoff": 15
           },
           "zerolinecolor": "white",
           "zerolinewidth": 2
          }
         }
        },
        "title": {
         "text": "Fit RMSE and stderr vs Sample Duration (each parameter in separate subplot)"
        },
        "width": 900,
        "xaxis": {
         "anchor": "y",
         "domain": [
          0,
          1
         ],
         "matches": "x4",
         "showticklabels": false,
         "type": "log"
        },
        "xaxis2": {
         "anchor": "y2",
         "domain": [
          0,
          1
         ],
         "matches": "x4",
         "showticklabels": false,
         "type": "log"
        },
        "xaxis3": {
         "anchor": "y3",
         "domain": [
          0,
          1
         ],
         "matches": "x4",
         "showticklabels": false,
         "type": "log"
        },
        "xaxis4": {
         "anchor": "y4",
         "domain": [
          0,
          1
         ],
         "title": {
          "text": "Sample Duration (s)"
         },
         "type": "log"
        },
        "yaxis": {
         "anchor": "x",
         "domain": [
          0.7575000000000001,
          1
         ],
         "type": "log"
        },
        "yaxis2": {
         "anchor": "x2",
         "domain": [
          0.505,
          0.7475
         ],
         "type": "log"
        },
        "yaxis3": {
         "anchor": "x3",
         "domain": [
          0.2525,
          0.495
         ],
         "type": "log"
        },
        "yaxis4": {
         "anchor": "x4",
         "domain": [
          0,
          0.2425
         ]
        }
       }
      }
     },
     "metadata": {},
     "output_type": "display_data"
    }
   ],
   "source": [
    "import math_functions\n",
    "import numpy as np\n",
    "import numpy.typing as npt\n",
    "import plotly.graph_objects as go\n",
    "from scipy.optimize import curve_fit\n",
    "\n",
    "from math_functions import damp_sine_wave\n",
    "from plotly.subplots import make_subplots\n",
    "from tqdm import tqdm\n",
    "from typing import Tuple\n",
    "from multiprocessing import Pool, cpu_count\n",
    "\n",
    "from typing import Tuple\n",
    "\n",
    "np_rng = np.random.default_rng(42)\n",
    "\n",
    "\n",
    "# Wrapper for curve_fit\n",
    "def wrapper(\n",
    "    x: npt.NDArray[np.float64],\n",
    "    frequency: float,\n",
    "    amplitude: float,\n",
    "    damping_rate: float,\n",
    "    phase: float,\n",
    ") -> npt.NDArray[np.float64]:\n",
    "    return damp_sine_wave(\n",
    "        x,\n",
    "        frequency=frequency,\n",
    "        damping_rate=damping_rate,\n",
    "        phase=phase,\n",
    "        amplitude=amplitude,\n",
    "    )\n",
    "\n",
    "\n",
    "key_order = (\"frequency\", \"amplitude\", \"damping_rate\", \"phase\")\n",
    "\n",
    "# True model parameters\n",
    "true_params: Dict[str, float] = dict(\n",
    "    frequency=1.0, amplitude=1.0, damping_rate=0.01, phase=np.pi\n",
    ")\n",
    "\n",
    "# Settings\n",
    "noise_scale = 0.01\n",
    "num_repeats: int = 300\n",
    "num_points: int = 1000  # points that the curve is sampling\n",
    "# durations: npt.NDArray[np.float64] = np.linspace(0.1, 100, 100)\n",
    "durations = np.logspace(-1.0, 4, 300)\n",
    "\n",
    "\n",
    "# the problem is that the sampling can alias the true frequency, so we pick durations that do not alias to a frequency that is close to the niquist or zero frequency\n",
    "# Step 1: Compute sampling frequencies\n",
    "f_s_vals = num_points / durations\n",
    "# Step 2: Compute apparent frequencies\n",
    "f_a_vals = np.array(\n",
    "    [\n",
    "        math_functions.apparent_frequency(true_params[\"frequency\"], f_s)\n",
    "        for f_s in f_s_vals\n",
    "    ]\n",
    ")\n",
    "# Step 3: Normalize apparent frequencies by f_true\n",
    "f_a_norm = f_a_vals / true_params[\"frequency\"]\n",
    "f_N_norm = f_s_vals / (2 * true_params[\"frequency\"])\n",
    "# Step 4: Mask out undesired edge cases\n",
    "min_thresh = 0.05\n",
    "max_thresh = 0.95\n",
    "valid: npt.NDArray[np.bool_] = (f_a_norm > min_thresh) & (f_a_norm < max_thresh)\n",
    "\n",
    "# Step 5: Adjust durations for invalid cases by nudging a fraction of the Nyquist zone\n",
    "delta: float = 0.1  # fraction of Nyquist zone width\n",
    "adjusted_durations: npt.NDArray[np.float64] = durations.copy()\n",
    "\n",
    "for idx in np.where(~valid)[0]:\n",
    "    f_s = f_s_vals[idx]\n",
    "    N = int(np.floor(2 * true_params[\"frequency\"] / f_s)) + 1\n",
    "    f_s_zone_width = 2 * true_params[\"frequency\"] * (1 / N - 1 / (N + 1))\n",
    "    f_s_offset = delta * f_s_zone_width\n",
    "    direction = 1 if N % 2 == 0 else -1\n",
    "    f_s_adjusted = f_s + direction * f_s_offset\n",
    "    adjusted_durations[idx] = num_points / f_s_adjusted\n",
    "\n",
    "# Final assignment\n",
    "durations = adjusted_durations\n",
    "\n",
    "\n",
    "# Storage\n",
    "rmse_results = {k: [] for k in true_params}\n",
    "stderr_results = {k: [] for k in true_params}\n",
    "\n",
    "\n",
    "def fit_for_duration(\n",
    "    duration: float,\n",
    ") -> Tuple[float, Dict[str, float], Dict[str, float]]:\n",
    "    x_vals = np.linspace(0, duration, num_points)\n",
    "\n",
    "    param_diffs = {k: [] for k in true_params}\n",
    "    param_stderr = {k: [] for k in true_params}\n",
    "\n",
    "    for _ in range(num_repeats):\n",
    "        y_clean = damp_sine_wave(x_vals, **true_params)\n",
    "        noise = np_rng.normal(scale=noise_scale, size=y_clean.shape)\n",
    "        y_noisy = y_clean + noise\n",
    "\n",
    "        try:\n",
    "            initial_guess = np.array([true_params[k] for k in key_order])\n",
    "            initial_guess += (\n",
    "                np_rng.normal(scale=0.00001, size=initial_guess.shape) * initial_guess\n",
    "            )\n",
    "            popt, pcov = curve_fit(wrapper, x_vals, y_noisy, p0=initial_guess)\n",
    "            perr = np.sqrt(np.diag(pcov))\n",
    "\n",
    "            for i, key in enumerate(true_params):\n",
    "                param_diffs[key].append(popt[i] - true_params[key])\n",
    "                param_stderr[key].append(perr[i])\n",
    "        except RuntimeError:\n",
    "            for key in true_params:\n",
    "                param_diffs[key].append(np.nan)\n",
    "                param_stderr[key].append(np.nan)\n",
    "\n",
    "    rmse = {\n",
    "        key: np.sqrt(np.nanmean(np.square(param_diffs[key]))) for key in true_params\n",
    "    }\n",
    "    stderr = {key: np.nanmean(param_stderr[key]) for key in true_params}\n",
    "\n",
    "    return duration, rmse, stderr\n",
    "\n",
    "\n",
    "print(\"Starting parallel fits...\")\n",
    "with Pool(processes=cpu_count()) as pool:\n",
    "    results = list(tqdm(pool.imap(fit_for_duration, durations), total=len(durations)))\n",
    "\n",
    "rmse_results = {k: [] for k in true_params}\n",
    "stderr_results = {k: [] for k in true_params}\n",
    "\n",
    "# Extract from results\n",
    "durations_out = []\n",
    "for duration, rmse, stderr in results:\n",
    "    durations_out.append(duration)\n",
    "    for key in true_params:\n",
    "        rmse_results[key].append(rmse[key])\n",
    "        stderr_results[key].append(stderr[key])\n",
    "\n",
    "durations = np.array(durations_out)\n",
    "\n",
    "# Plotting with Plotly\n",
    "# Create subplots\n",
    "fig = make_subplots(rows=4, cols=1, shared_xaxes=True, vertical_spacing=0.01)\n",
    "\n",
    "for i, k in enumerate(true_params, start=1):\n",
    "    fig.add_trace(\n",
    "        go.Scatter(\n",
    "            x=durations, y=rmse_results[k], mode=\"lines+markers\", name=f\"RMSE {k}\"\n",
    "        ),\n",
    "        row=i,\n",
    "        col=1,\n",
    "    )\n",
    "    fig.add_trace(\n",
    "        go.Scatter(\n",
    "            x=durations,\n",
    "            y=stderr_results[k],\n",
    "            mode=\"lines+markers\",\n",
    "            name=f\"stderr {k}\",\n",
    "            line=dict(dash=\"dot\"),\n",
    "        ),\n",
    "        row=i,\n",
    "        col=1,\n",
    "    )\n",
    "\n",
    "    xref = \"x domain\" if i == 1 else f\"x{i} domain\"\n",
    "    yref = \"y domain\" if i == 1 else f\"y{i} domain\"\n",
    "    fig.add_annotation(\n",
    "        text=f\"<b>{k}</b>\",\n",
    "        x=0.5,\n",
    "        y=0.95,\n",
    "        xref=xref,\n",
    "        yref=yref,\n",
    "        showarrow=False,\n",
    "        font=dict(size=14),\n",
    "        align=\"left\",\n",
    "    )\n",
    "\n",
    "fig.update_layout(\n",
    "    title=\"Fit RMSE and stderr vs Sample Duration (each parameter in separate subplot)\",\n",
    "    xaxis4_title=\"Sample Duration (s)\",\n",
    "    height=900,\n",
    "    width=900,\n",
    "    showlegend=True,\n",
    ")\n",
    "\n",
    "for i in range(1, 4):\n",
    "    fig.update_yaxes(type=\"log\", row=i, col=1)\n",
    "    fig.update_xaxes(type=\"log\", row=i, col=1)\n",
    "\n",
    "\n",
    "fig.update_xaxes(type=\"log\", title=\"Sample Duration (s)\", row=4, col=1)\n",
    "\n",
    "fig.show()"
   ]
  },
  {
   "cell_type": "code",
   "execution_count": 8,
   "id": "234fbe5f",
   "metadata": {},
   "outputs": [
    {
     "data": {
      "application/vnd.plotly.v1+json": {
       "config": {
        "plotlyServerURL": "https://plot.ly"
       },
       "data": [
        {
         "mode": "lines+markers",
         "name": "RMSE frequency",
         "type": "scatter",
         "x": {
          "bdata": "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",
          "dtype": "f8"
         },
         "y": [
          0.1873639274146283,
          0.16906037141248761,
          0.14799133820234137,
          0.13012839992079206,
          0.11992834264216405,
          0.10517741144690694,
          0.09252453619085307,
          0.08152341316632307,
          0.07188783712583012,
          0.06341352424365763,
          0.055940000510895725,
          0.0493381774255733,
          0.043499023851746754,
          0.03833078306796242,
          0.03375403641685708,
          0.029699697325152926,
          0.026070454221067085,
          0.022874115295165056,
          0.020046026435535894,
          0.017544219051556287,
          0.01533172408624222,
          0.013376009199525465,
          0.011648357000866642,
          0.010122835720029961,
          0.008777125918712998,
          0.007435983706180533,
          0.006401129075482314,
          0.0056279909676992665,
          0.004692062673739758,
          0.003991797766124601,
          0.003495869993700752,
          0.0028455229264034484,
          0.0023815265353205463,
          0.001980118730100312,
          0.0016349896952656147,
          0.0013407649063412476,
          0.0012084727335695208,
          0.000978844094379885,
          0.0007896523284709562,
          0.0006004452139595481,
          0.0005542249482611365,
          0.0004483502375130771,
          0.0004442813170541125,
          0.0004281838618379933,
          0.00041792571738159584,
          0.0003929225810625209,
          0.0004035952729740002,
          0.00041326446360043646,
          0.0004267635730638099,
          0.00042270377496443466,
          0.0004212504288800555,
          0.00043016129741802573,
          0.00040600654137956026,
          0.00040415971705407927,
          0.00037614110729519,
          0.00036499956058187846,
          0.0003414378652231803,
          0.0003159373298901239,
          0.0002761386093577387,
          0.00026296543784793216,
          0.000244396905398909,
          0.0002288567014657766,
          0.00020650040411629707,
          0.0002184884373601649,
          0.00022033231816534718,
          0.00020468623890448166,
          0.00020596319269499612,
          0.00020242823753286867,
          0.0001897842492029519,
          0.00018160219102236378,
          0.00015950303498860917,
          0.00014711386749572736,
          0.00014705925285877263,
          0.00014470354170297072,
          0.00013922946975746876,
          0.00015204733023769062,
          0.00013799205572637117,
          0.0001356915741498494,
          0.0001219915780611312,
          0.00011186656133867913,
          0.0001109176289512721,
          0.00011275328193069813,
          0.00011236956442180173,
          0.0001065004878132703,
          0.00009410241522363031,
          0.00008591869533340626,
          0.00009494931954490795,
          0.00009001308948261722,
          0.00008489265901844841,
          0.00008091233647377041,
          0.00007854269677400996,
          0.00007968463972367268,
          0.00006760294357641705,
          0.00006863761242571173,
          0.0000691406526905117,
          0.00006175116564667098,
          0.00006296336953502117,
          0.00006139115228502157,
          0.00006145421509116337,
          0.00005766636348461089,
          0.0000571040864914288,
          0.00005470089855214501,
          0.000047964040271907,
          0.00004550355161026185,
          0.00004667061575669919,
          0.00004373855719244807,
          0.00004497294408556655,
          0.000040242629277822645,
          0.00003968174529052966,
          0.00003770420464994939,
          0.00003759133129104422,
          0.00003603315633255604,
          0.00003454506665170461,
          0.00003372293000599723,
          0.00003229422730211052,
          0.0000316673238888686,
          0.00003041694679537484,
          0.00002790601424786915,
          0.00002860537538324034,
          0.000026572311380854033,
          0.000023312103592386574,
          0.00002441112379929705,
          0.000024068885675523302,
          0.000023793793899692637,
          0.000021476384633439023,
          0.000021272091287088846,
          0.000021597324291872747,
          0.000020349145371128195,
          0.000021263506832207306,
          0.000017729681808882328,
          0.00001885558111782305,
          0.000016634614152244225,
          0.000017446593930356728,
          0.000016057078610026087,
          0.00001659619225873053,
          0.00001488496918888251,
          0.000013655096561342476,
          0.000013950934806179986,
          0.000013437738545664346,
          0.000012844264576672826,
          0.000011343421123475182,
          0.000013147683091142147,
          0.000011575763530237284,
          0.00001206976719706423,
          0.000011209029715713496,
          0.000010951827321445273,
          0.000010777458146109934,
          0.000009484232233872264,
          0.000009381476682519246,
          0.000009518126210600772,
          0.000010029321225242308,
          0.000009190152390093945,
          0.00000846120308012427,
          0.000008305061681959209,
          0.000008181162182924324,
          0.00000781906976805023,
          0.000007080174356143549,
          0.0000068774689616534344,
          0.000007393769024336196,
          0.000006624906660697441,
          0.000006650748576475561,
          0.000006276050717979425,
          0.000006471517694625608,
          0.000005876650603333326,
          0.000006369456544169701,
          0.0000055675099563170535,
          0.000005625679314512035,
          0.000005484455724181764,
          0.000005670148507700598,
          0.00000543480446154041,
          0.0000047357757923712045,
          0.000004947456413814918,
          0.000004612478270670516,
          0.000004657415230285639,
          0.000004608623765812596,
          0.000004442752243698531,
          0.000004349577060653261,
          0.000004739196873059335,
          0.0000043543420796677676,
          0.000004156378825033767,
          0.000003942025995359546,
          0.0000037179453851306343,
          0.000004231727031147662,
          0.000003933729457305733,
          0.000003600362208933423,
          0.0000036402846844232374,
          0.0000036317306566494876,
          0.0000035757577101155483,
          0.000003456762340828592,
          0.0000035586615473328355,
          0.0000033818694532055967,
          0.0000034288687486696973,
          0.0000032696689127365016,
          0.0000032600851697420362,
          0.0000034950389821131527,
          0.0000035417367980061666,
          0.0000034914982109492974,
          0.0000031687361615292474,
          0.0000034738438067615262,
          0.0000032866131318518444,
          0.0000035771469431006383,
          0.0000035013290202932535,
          0.0000035651382552119797,
          0.0000037145446363361373,
          0.000003703849526642672,
          0.0000033997843314350074,
          0.000003541426558281383,
          0.0000036259834317024485,
          0.000003536249611081523,
          0.0000037141220295104783,
          0.000003635296284542356,
          0.0000036265711362376877,
          0.000004331658511135784,
          0.0000038079935040989126,
          0.000004059273633068827,
          0.000004132990121928496,
          0.000004369628365297629,
          0.000004112062783556276,
          0.000004159799297105623,
          0.0000043721178343300745,
          0.000004472780823152255,
          0.000004764346073117598,
          0.0000045231154366349245,
          0.0000042592550047752595,
          0.0000046495586889499,
          0.000004583083021836254,
          0.000004765192675307843,
          0.000004598831002605331,
          0.000005096682255862379,
          0.000004996888442352056,
          0.000005259630939158198,
          0.000005336900115873764,
          0.000005547519697400538,
          0.0000059316794147835965,
          0.00000532811593092361,
          0.000006085300197850155,
          0.000005617405002698781,
          0.000006345501013113921,
          0.0000062417921864102955,
          0.00000591800360149238,
          0.000006696926273005293,
          0.000006839402208450597,
          0.000006773991240321095,
          0.000006919910181877039,
          0.000006655795507323384,
          0.000006928250626571625,
          0.000007139628362031912,
          0.0000075162680283974185,
          0.000007491759519051925,
          0.000007203275742196586,
          0.000007588756518496188,
          0.000008316932065777976,
          0.000008213803722175672,
          0.000008746801990670489,
          0.000008417994377876378,
          0.000009005848815783353,
          0.000008970337559549718,
          0.000008600230881989013,
          0.00000956761835812575,
          0.000009496916202936154,
          0.00000905535282857023,
          0.000009134115721153643,
          0.00000876762701945667,
          0.000027081887056302575,
          0.000010122795926295092,
          0.000010929228463387853,
          0.000010881775539170555,
          0.000010560292218338405,
          0.00001091566102620312,
          0.000011574966514647146,
          0.000010420229760993814,
          0.000010451016504943002,
          0.000012154322842354969,
          0.00001170704269521885,
          0.000011473968660352628,
          0.000011198796820649278,
          0.000011931059635555332,
          0.00001231448128184543,
          0.000013193001168532431,
          0.000014462475817596286,
          0.000013500581020303602,
          0.000013924667043158987,
          0.000014027204896442154,
          0.000014512740882904125,
          0.000014041045469463438,
          0.000014163806708428844,
          0.000015025740739704051,
          0.00001550245756679734,
          0.000013599801525706976,
          0.000015136789339034409,
          0.000015372360210683467,
          0.000016788732325541157,
          0.00001594705808688403,
          0.000017065170909917773,
          0.000017891915550152705,
          0.00001704126219913957,
          0.000017400204707829453,
          0.000018018652171415012,
          0.00001850204434356915,
          0.00001748663173772927
         ]
        },
        {
         "line": {
          "dash": "dot"
         },
         "mode": "lines+markers",
         "name": "stderr frequency",
         "type": "scatter",
         "x": {
          "bdata": "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",
          "dtype": "f8"
         },
         "y": [
          0.20627721561662052,
          0.18150365525504147,
          0.15848865803043533,
          0.13911068895578577,
          0.12307573698694052,
          0.10822320523243598,
          0.0953380617231686,
          0.08405734594399879,
          0.07413831038531983,
          0.06539523834096225,
          0.057674791404883026,
          0.05084975269219844,
          0.04481163407395167,
          0.03946698693384203,
          0.034734665206407236,
          0.03054150633886617,
          0.026872001980983207,
          0.02357676657752369,
          0.02066043906673618,
          0.018080133521803213,
          0.01579790103177799,
          0.01378026098187696,
          0.011997488091999686,
          0.010423119293244867,
          0.009034308251482624,
          0.007786985325791798,
          0.006713713844926918,
          0.00578310035588398,
          0.004939245168700808,
          0.004211196922713799,
          0.0035802542126240292,
          0.0030172746660559508,
          0.002532747162530633,
          0.00211258224419737,
          0.001750111823614621,
          0.0014396278887930526,
          0.0011752996669805178,
          0.000955528047488682,
          0.0007763594286022284,
          0.0006367693202137677,
          0.0005334801103237703,
          0.000464014130856157,
          0.0004266094080126731,
          0.0004115842626009238,
          0.000410438321586603,
          0.0004158240037295761,
          0.00042373004386094687,
          0.00043031546356838,
          0.0004346671179507254,
          0.00043373411590959585,
          0.0004295555852500746,
          0.00042182982333531846,
          0.000409550353041295,
          0.0003946069776062631,
          0.00037579926422184065,
          0.00035500167741869175,
          0.00033160447962802614,
          0.0003066153270178875,
          0.0002812209140298064,
          0.00025611345548689807,
          0.0002343701094777766,
          0.0002175595967741425,
          0.00020778808408817835,
          0.00020602827315532277,
          0.0002088897061301297,
          0.0002123928874430888,
          0.0002128045037861507,
          0.00020818222486340923,
          0.0001981834851441271,
          0.00018354215958097034,
          0.00016754092063023815,
          0.0001534735408079591,
          0.00014518441816161788,
          0.00014417747592310095,
          0.00014640116814163746,
          0.00014715485710078304,
          0.00014233350255178135,
          0.00013256234132838298,
          0.00012080700343423313,
          0.0001128589806015819,
          0.00011155997857922248,
          0.00011339824299312893,
          0.00011175371054748826,
          0.0001045302123279333,
          0.00009534099794676946,
          0.00009107824039608861,
          0.00009198701224055728,
          0.00009145908881960408,
          0.00008538647183680185,
          0.00007844274288122297,
          0.00007728865969413882,
          0.00007793578176246082,
          0.00007338148772223522,
          0.0000676312226762738,
          0.00006725444914653713,
          0.0000666066263677588,
          0.00006136133332534582,
          0.000059194925607065443,
          0.00005933791069206519,
          0.00005504467524215695,
          0.00005311155379132413,
          0.000052838507446306876,
          0.00004864683871144907,
          0.00004841010994652996,
          0.000046167987945026074,
          0.00004407341353275539,
          0.00004336824827933734,
          0.00004059785860281034,
          0.00004033943817700361,
          0.000037691916110498844,
          0.00003734927546010959,
          0.000035174555102002015,
          0.000034337088615107995,
          0.00003308934061858185,
          0.00003135837337022467,
          0.000031002774270457874,
          0.00002935621958178817,
          0.000028192773306371446,
          0.000027681441614637767,
          0.000026558475806813483,
          0.000025220376324334626,
          0.00002436072290003189,
          0.00002372810528292164,
          0.000023007259416008913,
          0.000022275835005499812,
          0.000021390929604889248,
          0.00002063870265067484,
          0.00001987916599908296,
          0.000019216743476520187,
          0.000018542980462895598,
          0.000017820948521663545,
          0.000017045117599818616,
          0.000016401981081955172,
          0.0000160178192340677,
          0.00001544156034341023,
          0.000014750331037253474,
          0.000014425794014951467,
          0.00001378024022005405,
          0.000013453028257821274,
          0.000012872585935303726,
          0.000012492673739679386,
          0.00001212676760893423,
          0.000011673350284171242,
          0.000011248505012149638,
          0.000010868866609366613,
          0.000010509371179556655,
          0.000010193333374750366,
          0.00000989752096077003,
          0.00000957032966744827,
          0.00000922806860903954,
          0.0000090025213803131,
          0.00000866242984891178,
          0.000008404873874373124,
          0.00000817621632679628,
          0.00000790740537187849,
          0.000007642186121556392,
          0.000007432899877537526,
          0.000007223526163206128,
          0.0000069798477669889486,
          0.000006793198343800121,
          0.00000657756686273576,
          0.000006383999649605316,
          0.000006221005328800163,
          0.000006030924999123403,
          0.0000058731014204370286,
          0.000005709202211032359,
          0.000005550235546548197,
          0.000005431836501588778,
          0.000005273572377279962,
          0.0000051365510090846674,
          0.000005007582346822479,
          0.000004893019584829686,
          0.0000047950831586726375,
          0.000004668049885275549,
          0.0000045631778315655575,
          0.0000044572943033336444,
          0.0000043693536461997946,
          0.00000429142854277084,
          0.000004191798356267177,
          0.000004119302059737246,
          0.000004054129929419701,
          0.000003979858267028893,
          0.000003918057872407011,
          0.0000038467135123491595,
          0.0000037891417748093764,
          0.0000037437530541214618,
          0.0000036847865147352825,
          0.00000364697288044633,
          0.000003603203422109282,
          0.000003567516382045692,
          0.000003544804200195161,
          0.000003510280074888162,
          0.0000034934282785651363,
          0.000003468107656797474,
          0.00000346136073458126,
          0.000003440085178385945,
          0.0000034334809400741816,
          0.0000034423625609729037,
          0.0000034400087348549877,
          0.0000034491810132458793,
          0.0000034547610883480994,
          0.0000034616513900264447,
          0.000003488437754903941,
          0.000003510059373143748,
          0.0000035363664962884543,
          0.0000035697898539673307,
          0.0000035938654670846065,
          0.0000036468733614397105,
          0.0000036778753538616255,
          0.0000037269236614765314,
          0.0000037765387220167147,
          0.000003832492144254956,
          0.000003892072959230525,
          0.000003956127599484631,
          0.000004020476157281285,
          0.000004092420099931,
          0.000004163446346765839,
          0.000004239924303976171,
          0.000004321582351609184,
          0.000004401188983735353,
          0.000004229377976263066,
          0.000004581505784546941,
          0.000004544483083562101,
          0.000004642174218331369,
          0.000004719363702817911,
          0.000004824160470135046,
          0.000004903020650202159,
          0.000004996773103147731,
          0.000005106911155959242,
          0.000005187634965191813,
          0.0000052890337375775075,
          0.0000053866398758920326,
          0.000005504412555769877,
          0.000005612626513824029,
          0.000005718534575414052,
          0.000005811356397356944,
          0.000005925848625652428,
          0.000006047629663037665,
          0.000006053414798364339,
          0.000006166853195795189,
          0.000006471291142257364,
          0.000006520743743674384,
          0.000006630970565739146,
          0.000006765229018483847,
          0.000006908422342346516,
          0.000007056758354481227,
          0.000007152942234665764,
          0.000007294967373466524,
          0.000007423465220267372,
          0.0000075719745331814975,
          0.00000765441355044036,
          0.00000784707991183294,
          0.000008005402845596976,
          0.000008193780291150282,
          0.000008310807283019658,
          0.000008478336009202544,
          0.000008558320358007893,
          0.000008695311793184147,
          0.000009003860103254644,
          0.000009123250812364733,
          0.000009285681393020453,
          0.00000947392929790118,
          0.000009675003210550532,
          0.000026877266917264692,
          0.000009982765876628954,
          0.00001022544795500658,
          0.000010364928818563892,
          0.000010519712440876629,
          0.000010779249532908028,
          0.000010990592566238777,
          0.000011171111729701493,
          0.000011384040890390584,
          0.000011450765140374935,
          0.000011756180654879198,
          0.000011926526633340358,
          0.00001210632879558664,
          0.00001246441588494489,
          0.000012691555539586012,
          0.00001271357547094403,
          0.000013107637421149864,
          0.000013253567961115977,
          0.000013494393206643047,
          0.000013882287019627241,
          0.000014010496187484619,
          0.000014281683221413178,
          0.0000145055988267539,
          0.000014802714617384192,
          0.000015140391882830933,
          0.000015117490088687233,
          0.00001554915600455747,
          0.000015914916647502843,
          0.000016072904745888893,
          0.00001626224284863624,
          0.000016557685491402032,
          0.000016961569634151747,
          0.00001658151297421263,
          0.00001749457502528654,
          0.00001786562139470046,
          0.000017926669991133805,
          0.00001799773652549216
         ]
        },
        {
         "line": {
          "dash": "dash"
         },
         "mode": "lines",
         "name": "theory frequency",
         "type": "scatter",
         "x": {
          "bdata": "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",
          "dtype": "f8"
         },
         "y": [
          0.002466629224562157,
          0.0023738571096598117,
          0.0022842732902277145,
          0.0021978541817386536,
          0.0021149968688720646,
          0.0020350994190817093,
          0.001958254384453887,
          0.0018842979867587284,
          0.0018131242372903358,
          0.0017447032161614594,
          0.0016788876233970378,
          0.0016154948291909224,
          0.0015544793555095976,
          0.0014958514515795104,
          0.0014393849086748467,
          0.0013850669732032293,
          0.0013327843815834715,
          0.0012824952943770774,
          0.001234086629585951,
          0.0011875275947714735,
          0.001142713571917943,
          0.0010995973214944575,
          0.0010581107096572086,
          0.0010181855621003285,
          0.0009797695958219878,
          0.0009428076467959183,
          0.0009072408288593898,
          0.0008730164174697055,
          0.0008400858188892221,
          0.0008083987987715804,
          0.0007779098445565791,
          0.0007485718358508969,
          0.0007203416266404111,
          0.000693177586110779,
          0.0006670398546701615,
          0.0006418900910337637,
          0.0006176895102363365,
          0.0005944033881316493,
          0.0005719969161287282,
          0.0005504366170729232,
          0.0005296909644987076,
          0.0005097287862618828,
          0.0004905205724980647,
          0.0004720378869981367,
          0.0004542534474736649,
          0.00043714073700040605,
          0.00042067449097259147,
          0.00040483018278426625,
          0.0003895843991955254,
          0.0003749144854919812,
          0.0003607986740173419,
          0.00034721608514926206,
          0.00033414656350505475,
          0.0003215707209371088,
          0.0003094699179899286,
          0.0002978261969024213,
          0.00028662229849194047,
          0.00027584161736469634,
          0.0002654681687798976,
          0.0002554865586591189,
          0.00024588198859225004,
          0.0002366402254026237,
          0.00022774756149735272,
          0.00021919080917707164,
          0.00021095727944770264,
          0.0002030347684203165,
          0.0001954115253975477,
          0.00018807624746879588,
          0.000181018056789341,
          0.00017422648877595253,
          0.00016769147304040804,
          0.00016140331858924883,
          0.00015535270146383226,
          0.00014953065024979462,
          0.0001439285319024255,
          0.00013853803908629513,
          0.00013335117939873288,
          0.00012836026153090796,
          0.00012355788494031108,
          0.00011893692877227225,
          0.0001144905410386166,
          0.00011021212853197497,
          0.0001060953473058727,
          0.00010213409310315833,
          0.00009832249204904765,
          0.0000946548924257461,
          0.00009112585587871213,
          0.00008773014959906164,
          0.00008446273842236581,
          0.00008131877748230966,
          0.00007829360489546235,
          0.00007538273500103119,
          0.00007258185157356636,
          0.00006988680148438556,
          0.00006729358856579004,
          0.00006479836761364147,
          0.00006239743875891197,
          0.00006008724194789741,
          0.000057864351660731846,
          0.00005572547184757239,
          0.000053667431020968564,
          0.00005168717757879276,
          0.000049781775257472466,
          0.000047948398794745926,
          0.00004618432972602278,
          0.00004448695236659497,
          0.000042853749927534925,
          0.000041282300782802415,
          0.0000397702748846022,
          0.00003831543030383826,
          0.000036915609908191315,
          0.00003556873816473378,
          0.000034272818062465845,
          0.000033025928152155925,
          0.0000318262196978797,
          0.00003067191393685469,
          0.00002956129944264809,
          0.000028492729589028834,
          0.000027464620108659097,
          0.00002647544674630454,
          0.000025523742999124712,
          0.000024608097944190216,
          0.0000237271541476916,
          0.000022879605653988596,
          0.000022064196051058523,
          0.000021279716609343026,
          0.000020525004491909592,
          0.000019798941032322455,
          0.00001910045007868368,
          0.00001842849640056085,
          0.00001778208415701474,
          0.000017160255423242634,
          0.000016562088773703352,
          0.00001598669791961807,
          0.000015433230398962214,
          0.000014900866316898399,
          0.00001438881713486147,
          0.000013896324506567173,
          0.000013422659159203778,
          0.00001296711981819613,
          0.000012529032173968322,
          0.000012107747889266087,
          0.000011702643645535152,
          0.00001131312022705161,
          0.000010938601641452677,
          0.000010578534275443644,
          0.000010232386084471059,
          0.00000989964581522276,
          0.000009579822259872769,
          0.000009272443541026248,
          0.000008977056426378305,
          0.000008693225672151264,
          0.000008420533394410572,
          0.000008158578467418591,
          0.000007906975948217225,
          0.000007665356526681293,
          0.000007433366000321891,
          0.000007210664773157273,
          0.000006996927378008156,
          0.0000067918420216083,
          0.00000659511015195417,
          0.000006406446047347709,
          0.000006225576426612586,
          0.000006052240079988775,
          0.000005886187520227867,
          0.000005727180653426294,
          0.000005574992469140981,
          0.00000542940674933311,
          0.000005290217795677295,
          0.000005157230174756175,
          0.000005030258480630615,
          0.000004909127114231974,
          0.000004793670078963037,
          0.0000046837307918147535,
          0.00000457916190920394,
          0.000004479825166609275,
          0.000004385591230924155,
          0.000004296339564252079,
          0.000004211958297636725,
          0.000004132344112940848,
          0.000004057402130759008,
          0.000003987045801863807,
          0.0000039211967992383675,
          0.000003859784907234299,
          0.00000380274790381113,
          0.0000037500314311584022,
          0.000003701588849276712,
          0.000003657381066305076,
          0.0000036173763385404526,
          0.0000035815500322213536,
          0.000003549884338271522,
          0.000003522367930365991,
          0.0000034989955559512294,
          0.0000034797675493051017,
          0.000003464689255465785,
          0.000003453770354022985,
          0.00000344702407250863,
          0.0000034444662806327415,
          0.000003446114459089827,
          0.000003451986540328349,
          0.0000034620996237393953,
          0.0000034764685743532036,
          0.000003495104522431957,
          0.000003518013291288437,
          0.0000035451937920339574,
          0.0000035766364363116397,
          0.0000036123216306466,
          0.0000036522184277483773,
          0.000003696283419501631,
          0.0000037444599617732935,
          0.00000379667782071015,
          0.0000038528533221616375,
          0.000003912890068915489,
          0.000003976680264038276,
          0.000004044106643371202,
          0.000004115044978151896,
          0.000004189367063300314,
          0.000004266944062873547,
          0.0000043476500470552685,
          0.000004431365530230505,
          0.000004517980811604939,
          0.000004607398930903991,
          0.00000457975741723584,
          0.0000046664471844407315,
          0.000004755376578420114,
          0.000004846479271692715,
          0.000004939703287323504,
          0.000005035010671812504,
          0.000005132376737045883,
          0.000005231788972418283,
          0.000005333245737819778,
          0.000005436754846455185,
          0.000005542332135252056,
          0.000005650000102665046,
          0.0000057597866721282495,
          0.000005871724117247222,
          0.000005985848164534489,
          0.000006102197272789538,
          0.000006124119673423824,
          0.0000062393847898538275,
          0.000006521296496535158,
          0.000006590681723625801,
          0.000006718796960056567,
          0.000006849402824214984,
          0.000006982547628031946,
          0.0000071182806720113175,
          0.000007256652241723335,
          0.000007397713614150518,
          0.000007541517070020632,
          0.000007688115909704476,
          0.000007837564471230008,
          0.000007989918149587562,
          0.000008145233416878768,
          0.000008303567843080255,
          0.000008464980117312159,
          0.000008629530069563975,
          0.000008714467562165041,
          0.00000888060172569845,
          0.000009206131242083122,
          0.000009320344442591286,
          0.000009501521741505247,
          0.000009686220928890605,
          0.000009874510466406064,
          0.000010066460146530078,
          0.000010262141118430546,
          0.000010461625914337321,
          0.000010664988476427462,
          0.000010797580215149208,
          0.000011144134345061672,
          0.000011363205274227498,
          0.000011518746128153955,
          0.000011742657950643882,
          0.000011970922373989245,
          0.000012203624007988636,
          0.000012375382665563834,
          0.000012613348124969184,
          0.000012988887175085491,
          0.000013180553087531675,
          0.000013436768619189339,
          0.000013697964700466332,
          0.000013903556027606598,
          0.000014289922394236824,
          0.00001456988616851619,
          0.000014794519300778476,
          0.000015082108569839887,
          0.00001531811966851711,
          0.000015726635487350684,
          0.00001603445476953421,
          0.000016289467173567497,
          0.000016552571433354215,
          0.00001697902170567449,
          0.000017311089527522298,
          0.000017544284908231447,
          0.000017883366548477926,
          0.000018333609814847682,
          0.000018592998142307597,
          0.000018952570180284044,
          0.00001941862489794374,
          0.00001970272136019767,
          0.00002017540190704902
         ]
        },
        {
         "line": {
          "dash": "dash"
         },
         "mode": "lines",
         "name": "theory undamped frequency",
         "type": "scatter",
         "x": {
          "bdata": "FzmcYKqZuT85m+DT75q6PwFg18ROprs/+2lmsyy8vD9xoY4b89y9P0hNeZ0PCb8/FwmME3ogwD+4tLOPi8LAPyMAssn5asE/ygpisgQawj8jTEO97s/CP4s9tfn8jMM/QbYwLXdRxD9U8Yjupx3FP9OZPsLc8cU/zKHvN2bOxj8rFe8ImLPHPz+KEDjJocg/pUazMlSZyT9+qRnzlprKP/fpGSTzpcs/H701Rs67zD+J/ibWkdzNP3gF8HSrCM8/GHK/iEYg0D8ttPmJVsLQP8EpTEXDatE/IXRQrMwZ0j+zSl4ztc/SP/adyerBjNM/U6MemTpR1D9NxmXWaR3VPzzgeSid8dU/g4B7ICXO1j/3e2x5VbPXP4hr/zeFodg/xDenyw6Z2T8ZSfMwUJraPwx0RRWrpds/pDzv+4S73D/glcRkR9zdP+HQMvRfCN8/BYJ1TiAg4D9n5pflL8LgP85360icauE/CgCIbKUZ4j/k9IDHjc/iP9jyKG2ajOM/cZJTJxNR5D/snZ+RQh3lP04S1DV28eU/ysBaqf7N5j/e0uOrL7PnP7LlPUdgoeg/Oehu8OqY6T+VYhqqLZrqP/RNQiiKpes/ZSlw9WW77D8Wg1SZKtztP+m968BFCO8/jbgbtBQg8D9RLs4CJsLwP2PHeluUavE/VwA3uJ8Z8j/rT5mWis/yP124BxGajPM/3JoF+RVR9D+A5YrySB31Pz8bb5CA8fU/aiDzcQ3O9j/aJXVhQ7P3P+eAWnR5ofg/9rY7LAqZ+T88gV+ZU5r6P90Pkn63pfs/y1tmdpu7/D9S5O8Zadz9P/DIAymOCP8/f2QIWj4gAECVKc+jVcIAQD66wYzKagFAE5LzG90ZAkC7Dg7dz88CQJGatfnnjANARO3vU21RBECVoJWhqh0FQG7B2Yjt8QVAxnPyvYbOBkAhM+4hyrMHQBKxweIOoghAJtCanK+ZCUCvu4V8CpsKQImkcWSBpgtAKTijEHq8DECpeqM+Xt0NQPZFutWbCQ9ALiiCiNIgEEDHoZpV+MIQQJiNCwZ9axFAzlvsu6AaEkBPJx8gptASQL+U43vSjRNA13Zu021SFEAjwpABwx4VQH3KeNQf8xVAhDmZK9XPFkDAp8EWN7UXQGJBdfacoxhAOmWMnWGbGUAqty5045waQCOxM5yEqBtAaFX4Fqu+HEBpQ7nswN8dQLcWgVU0DB9AT9Ld8TsiIEBSsT9YgcQgQKp+z0QobSFAyPbKEHEcIkDt1LGgntIiQBL1NH72jyNATawx88BUJECLe8QlSSElQF69fjXd9SVADnLLWc7SJkAy1o8BcbgnQNL+FPQcpyhAYU1Icy2fKUA7KmFfAaEqQEcb+1v7rCtAC/iz9oHDLEBWtF7P/+QtQM7428HjES9ArkTViFAlMEDpJqHL18cwQF3WpvfFcDFA1+nq1VsgMkDMvbvD3NYyQJhdW82OlDNAscPEybpZNEC/0Jh3rCY1QLPuP5uy+zVA6vRNHh/ZNkBBiDYwR783QIDjYGiDrjhAOa2q6S+nOUCrRWqHrKk6QCnFAexctjtAqr8UwajNPED0x3PZ++89QOGi0VzGHT9AGI6rer4rQECuwJV/zM5AQOVzBF1MeEFAGUt6vn8oQkDDlxr2qt9CQC3K0BgVnkNAuG+yGwhkREABsqry0DFFQDgZf7C/B0ZAly0+qCfmRkDZfSmQX81HQFCGLabBvUhALP361au3SUCgHtbgf7tKQCPAMYejyUtA8C0ttIDiTEAAKw2rhQZOQKLTyTYlNk9AjFPmbes4UECJy/2FC91QQIHbl66zh1FAav0bYSc5UkB7N0XjrPFSQF43ZGaNsVNAilAeKBV5VECb+L2Uk0hVQDaoKmtbIFZAkm2f4sIAV0Df+zjSI+pXQLOgddrb3FhASELDkEzZWUAqaDmt299aQPBPnzrz8FtA8zrgyAENXUDwdBKiejReQE4ZOALWZ19AG6nxqMhTYEDoXvWxF/pgQBHoLlscp2FAbTx22x1bYkADhXyFZhZjQLuyx+1D2WNAX2nAEgekZEB0T/SGBHdlQE9lsZ2UUmZAgNIhmhM3Z0AroxLh4SRoQDQ+ky1kHGlA2PmeyAMeakCuIQbELiprQLIN0DhYQWxAeZhUifhjbUAoZFCnjZJuQMX3PF6bzW9A5fEd0dWKcEAna/VxpzVxQID1vjSO53FAd87CVtmgckAVVufh22FzQMAKauLsKnRADAUjoGf8dECbXZrbq9Z1QBx7PQ8eunZA/4cJtSend0BoWQiRN554QL30BQHCn3lA9b7uUUGsekCYUlEbNsR7QEsji6En6HxAQqA0P6QYfkCmmXDWQVZ/QP7AaSXPUIBAluCEw2IdgEB83lekVL+AQJ/0PfqhZ4FAGzRGqIoWgkDUGocTUcyCQD+eUjw6iYNAUn1n2I1NhECkyylulhmFQDsK7XCh7YVA3otaXv/JhkAjTf/cA6+HQCnaDNwFnYhA6E5ZtF+UiUC4+apKb5WKQPyjXDOWoItAKQlo1zm2jECddXe+IuuMQGKg5B9yBI5A7AMtkEZlkEDdEGtKEb+QQKQ0eftbZ5FAMJkX6kEWkkDsuFF6BcySQHAKZKvriJNANensMTxNlEA6sySTQRmVQPdvJ0FJ7ZVAcL5auKPJlkB+MvudpK6XQNe63N+inJhAihxq1fiTmUCcC/BhBJWaQG7kQBgnoJtA+Y2+X8a1nECg8qpmK0edQLHbpQ6sZ55ASL18uGJWoEBQH43xzb6gQMnyzf0VZ6FAPYkNLfkVokDbXUziucuiQLtssRudiKNAgrK6jOpMpEAd3HS57BilQGZ8xBLx7KVAUH0n0V95pkAb2+PBnfCnQE2Z2szv46hAuZ4Y+JGTqUCAD+N6mZSqQLf34/63n6tA7m/l6VK1rEBFoxWBp4WtQMAU4p8Zq65AEhJkIchCsECnBb6Zir6wQJwqPAHQZrFApv8ncbAVskA9QV6HtKGyQJvBd796rrNAoN6ejtZ1tEDqQBrhlxi1QOspxOWY7LVAkQFuzaCdtkBmdyv6jNa3QIpDFc/Hx7hA5c5kHCuTuUC2hbaiX2i6QANp/nQzybtATEi+tyfivEDnZddRtaq9QK06tyYd075AhxxdzboywEBetWDK5ajAQAHFW4tzT8FAGRh2MBMswkDOMkz8MLXCQN/0pje9ncNA",
          "dtype": "f8"
         },
         "y": [
          0.002465593120068237,
          0.0023724596291895255,
          0.0022828440587309294,
          0.0021966135266973086,
          0.002113640170429531,
          0.0020338009570096804,
          0.001956977500827807,
          0.0018830558880397134,
          0.0018119265076554682,
          0.0017434838890081992,
          0.0016776265453621532,
          0.0016142568234281372,
          0.0015532807585631873,
          0.0014946079354397727,
          0.0014381513539779146,
          0.001383827300341447,
          0.0013315552228071105,
          0.001281257612322435,
          0.0012328598875752915,
          0.0011862902844047014,
          0.0011414797493889152,
          0.0010983618374529795,
          0.0010568726133439574,
          0.0010169505568277187,
          0.000978536471466715,
          0.000941573396843487,
          0.0009060065240997382,
          0.0008717831146657432,
          0.0008388524220595821,
          0.0008071656166402402,
          0.0007766757132030012,
          0.000747337501309773,
          0.0007191074782510349,
          0.0006919437845400067,
          0.00066580614184339,
          0.0006406557932566425,
          0.0006164554458352283,
          0.0005931692152966286,
          0.0005707625728111162,
          0.0005492022938023974,
          0.0005284564086821984,
          0.0005084941554457519,
          0.0004892859340578856,
          0.0004708032625620821,
          0.00045301873484742414,
          0.0004359059800108064,
          0.00041943962325415057,
          0.0004035952482586486,
          0.0003883493609802368,
          0.00037367935481262044,
          0.00035956347706619143,
          0.0003459807967131329,
          0.00033291117335088483,
          0.00032033522733794983,
          0.0003082343110577539,
          0.0002965904812679555,
          0.0002853864724941997,
          0.0002746056714288682,
          0.0002642320922968618,
          0.0002542503531518873,
          0.00024464565306810414,
          0.00023540375019330602,
          0.00022651094063109837,
          0.00021795403812075706,
          0.00020972035448463651,
          0.0002017976808141362,
          0.00019417426936632718,
          0.00018683881614439535,
          0.00017978044413607171,
          0.00017298868718519485,
          0.0001664534744724919,
          0.00016016511558256414,
          0.00015411428613493658,
          0.0001482920139578635,
          0.0001426896657843893,
          0.00013729893445093804,
          0.0001321118265794486,
          0.00012712065072479094,
          0.00012231800596988938,
          0.00011769677095164023,
          0.00011325009330135254,
          0.00010897137948405369,
          0.00010485428502159364,
          0.00010089270508505096,
          0.00009708076544249049,
          0.00009341281374865062,
          0.00008988341116364377,
          0.00008648732428824318,
          0.00008321951740379683,
          0.00008007514500526228,
          0.00007704954461629042,
          0.000074138229875704,
          0.00007133688388511997,
          0.00006864135280785126,
          0.00006604763970959644,
          0.00006355189863178434,
          0.00006115042888878551,
          0.00005883966958053443,
          0.00005661619431242585,
          0.00005447670611465577,
          0.000052418032553473655,
          0.00005043712102709668,
          0.000048531034239310877,
          0.00004669694584404744,
          0.000044932136254475885,
          0.00004323398861039992,
          0.000041599984897976244,
          0.00004002770221600302,
          0.000038514809183241054,
          0.000037059062481441094,
          0.00003565830352895087,
          0.00003431045527996946,
          0.00003301351914470322,
          0.000031765572025856226,
          0.00003056476346706099,
          0.00002940931290902121,
          0.00002829750704929791,
          0.000027227697301824052,
          0.00002619829735238059,
          0.000025207780806409357,
          0.00002425467892567464,
          0.000023337578450417723,
          0.000022455119503774858,
          0.000021605993575351544,
          0.000020788941580962747,
          0.00002000275199566266,
          0.00001924625905729497,
          0.000018518341037900568,
          0.0000178179185804188,
          0.000017143953098216654,
          0.000016495445235072095,
          0.000015871433383328317,
          0.000015270992258021755,
          0.0000146932315248691,
          0.000014137294480079494,
          0.000013602356780033768,
          0.00001308762521894757,
          0.000012592336552705505,
          0.000012115756367122614,
          0.000011657177988954705,
          0.000011215921438043136,
          0.000010791332419039957,
          0.000010382781351218635,
          0.0000099896624349315,
          0.000009611392753329894,
          0.000009247411408014845,
          0.000008897178687336806,
          0.000008560175266110986,
          0.00000823590143556188,
          0.000007923876362354887,
          0.000007623637375616534,
          0.0000073347392808859546,
          0.000007056753699980373,
          0.000006789268435795868,
          0.000006531886861101319,
          0.000006284227330419477,
          0.000006045922614122892,
          0.00000581661935390575,
          0.000005595977538824031,
          0.000005383670001127219,
          0.000005179381931133812,
          0.000004982810410431492,
          0.000004793663962709544,
          0.000004611662121557754,
          0.000004436535014590683,
          0.000004268022963280848,
          0.000004105876097907297,
          0.000003949853987048729,
          0.0000037997252810716924,
          0.000003655267369085295,
          0.0000035162660488536912,
          0.000003382515209176957,
          0.0000032538165242693305,
          0.000003129979159681673,
          0.0000030108194893321037,
          0.000002896160823225172,
          0.0000027858331454558985,
          0.000002679672862110115,
          0.000002577522558687386,
          0.0000024792307666867137,
          0.000002384651739009022,
          0.000002293645233843292,
          0.0000022060763067159823,
          0.000002121815110395303,
          0.0000020407367023537203,
          0.0000019627208595031183,
          0.0000018876518999279882,
          0.0000018154185113522316,
          0.0000017459135860852946,
          0.0000016790340622028439,
          0.0000016146807707265231,
          0.0000015527582885761508,
          0.0000014931747970763572,
          0.0000014358419458078182,
          0.0000013806747216012313,
          0.000001327591322479761,
          0.0000012765130363630382,
          0.0000012273641243528722,
          0.0000011800717084275797,
          0.0000011345656633784407,
          0.0000010907785128280105,
          0.0000010486453291761337,
          0.0000010081036373252718,
          9.69093322042415e-7,
          9.315565388201931e-7,
          8.954376281050264e-7,
          8.606830327651162e-7,
          8.272412186759204e-7,
          7.950625983053327e-7,
          7.640994571852792e-7,
          7.343058831606857e-7,
          7.056376983109265e-7,
          6.780523934427828e-7,
          6.515090650578054e-7,
          6.259683547005888e-7,
          6.013923905980456e-7,
          5.777447315031286e-7,
          5.549903126597365e-7,
          5.330953938086868e-7,
          5.120275091576448e-7,
          4.91755419240842e-7,
          4.7224906459718147e-7,
          4.781356989605239e-7,
          4.600751353212861e-7,
          4.426967712326702e-7,
          4.259748380511179e-7,
          4.09884540489021e-7,
          3.944020198482585e-7,
          3.7950431864251496e-7,
          3.651693465559094e-7,
          3.5137584768747167e-7,
          3.381033690328824e-7,
          3.253322301567553e-7,
          3.1304349401047915e-7,
          3.0121893885235804e-7,
          2.898410312284058e-7,
          2.788928999737364e-7,
          2.6835831119599486e-7,
          2.664403701245563e-7,
          2.566865942648811e-7,
          2.3497315775474678e-7,
          2.3005168472070412e-7,
          2.2136196943434363e-7,
          2.1300048974360405e-7,
          2.049548472438567e-7,
          1.972131118539553e-7,
          1.8976380412630885e-7,
          1.825958782251516e-7,
          1.7569870554777714e-7,
          1.6906205896444117e-7,
          1.6267609765357113e-7,
          1.5653135250979188e-7,
          1.5061871210313512e-7,
          1.449294091686071e-7,
          1.3945500760608598e-7,
          1.3418738997126877e-7,
          1.3158436321537032e-7,
          1.2670717599824442e-7,
          1.1790485124103762e-7,
          1.1503290132355418e-7,
          1.1068777704298518e-7,
          1.0650678063188966e-7,
          1.0248371250751731e-7,
          9.861260726322956e-8,
          9.488772482299209e-8,
          9.130354192998954e-8,
          8.785474395673774e-8,
          8.571032072752716e-8,
          8.046246264345932e-8,
          7.738990152467899e-8,
          7.53139776736502e-8,
          7.246915163439785e-8,
          6.973178287523587e-8,
          6.709781242493556e-8,
          6.524822845804685e-8,
          6.280948519665649e-8,
          5.923005141012628e-8,
          5.7519980359977047e-8,
          5.5347284892816696e-8,
          5.325665839653354e-8,
          5.169329503065858e-8,
          4.8935751034474974e-8,
          4.707319551913554e-8,
          4.565457254561988e-8,
          4.393006773521793e-8,
          4.258680728572682e-8,
          4.0403069152081894e-8,
          3.8866694313460955e-8,
          3.7659299789677513e-8,
          3.6471620219295244e-8,
          3.4662562956994e-8,
          3.33454969104384e-8,
          3.24649438178231e-8,
          3.124549735612211e-8,
          2.9729665989128046e-8,
          2.8905943311444108e-8,
          2.7819528910335027e-8,
          2.650019398219525e-8,
          2.5741483229431788e-8,
          2.45494410621896e-8
         ]
        }
       ],
       "layout": {
        "height": 500,
        "template": {
         "data": {
          "bar": [
           {
            "error_x": {
             "color": "#2a3f5f"
            },
            "error_y": {
             "color": "#2a3f5f"
            },
            "marker": {
             "line": {
              "color": "#E5ECF6",
              "width": 0.5
             },
             "pattern": {
              "fillmode": "overlay",
              "size": 10,
              "solidity": 0.2
             }
            },
            "type": "bar"
           }
          ],
          "barpolar": [
           {
            "marker": {
             "line": {
              "color": "#E5ECF6",
              "width": 0.5
             },
             "pattern": {
              "fillmode": "overlay",
              "size": 10,
              "solidity": 0.2
             }
            },
            "type": "barpolar"
           }
          ],
          "carpet": [
           {
            "aaxis": {
             "endlinecolor": "#2a3f5f",
             "gridcolor": "white",
             "linecolor": "white",
             "minorgridcolor": "white",
             "startlinecolor": "#2a3f5f"
            },
            "baxis": {
             "endlinecolor": "#2a3f5f",
             "gridcolor": "white",
             "linecolor": "white",
             "minorgridcolor": "white",
             "startlinecolor": "#2a3f5f"
            },
            "type": "carpet"
           }
          ],
          "choropleth": [
           {
            "colorbar": {
             "outlinewidth": 0,
             "ticks": ""
            },
            "type": "choropleth"
           }
          ],
          "contour": [
           {
            "colorbar": {
             "outlinewidth": 0,
             "ticks": ""
            },
            "colorscale": [
             [
              0,
              "#0d0887"
             ],
             [
              0.1111111111111111,
              "#46039f"
             ],
             [
              0.2222222222222222,
              "#7201a8"
             ],
             [
              0.3333333333333333,
              "#9c179e"
             ],
             [
              0.4444444444444444,
              "#bd3786"
             ],
             [
              0.5555555555555556,
              "#d8576b"
             ],
             [
              0.6666666666666666,
              "#ed7953"
             ],
             [
              0.7777777777777778,
              "#fb9f3a"
             ],
             [
              0.8888888888888888,
              "#fdca26"
             ],
             [
              1,
              "#f0f921"
             ]
            ],
            "type": "contour"
           }
          ],
          "contourcarpet": [
           {
            "colorbar": {
             "outlinewidth": 0,
             "ticks": ""
            },
            "type": "contourcarpet"
           }
          ],
          "heatmap": [
           {
            "colorbar": {
             "outlinewidth": 0,
             "ticks": ""
            },
            "colorscale": [
             [
              0,
              "#0d0887"
             ],
             [
              0.1111111111111111,
              "#46039f"
             ],
             [
              0.2222222222222222,
              "#7201a8"
             ],
             [
              0.3333333333333333,
              "#9c179e"
             ],
             [
              0.4444444444444444,
              "#bd3786"
             ],
             [
              0.5555555555555556,
              "#d8576b"
             ],
             [
              0.6666666666666666,
              "#ed7953"
             ],
             [
              0.7777777777777778,
              "#fb9f3a"
             ],
             [
              0.8888888888888888,
              "#fdca26"
             ],
             [
              1,
              "#f0f921"
             ]
            ],
            "type": "heatmap"
           }
          ],
          "histogram": [
           {
            "marker": {
             "pattern": {
              "fillmode": "overlay",
              "size": 10,
              "solidity": 0.2
             }
            },
            "type": "histogram"
           }
          ],
          "histogram2d": [
           {
            "colorbar": {
             "outlinewidth": 0,
             "ticks": ""
            },
            "colorscale": [
             [
              0,
              "#0d0887"
             ],
             [
              0.1111111111111111,
              "#46039f"
             ],
             [
              0.2222222222222222,
              "#7201a8"
             ],
             [
              0.3333333333333333,
              "#9c179e"
             ],
             [
              0.4444444444444444,
              "#bd3786"
             ],
             [
              0.5555555555555556,
              "#d8576b"
             ],
             [
              0.6666666666666666,
              "#ed7953"
             ],
             [
              0.7777777777777778,
              "#fb9f3a"
             ],
             [
              0.8888888888888888,
              "#fdca26"
             ],
             [
              1,
              "#f0f921"
             ]
            ],
            "type": "histogram2d"
           }
          ],
          "histogram2dcontour": [
           {
            "colorbar": {
             "outlinewidth": 0,
             "ticks": ""
            },
            "colorscale": [
             [
              0,
              "#0d0887"
             ],
             [
              0.1111111111111111,
              "#46039f"
             ],
             [
              0.2222222222222222,
              "#7201a8"
             ],
             [
              0.3333333333333333,
              "#9c179e"
             ],
             [
              0.4444444444444444,
              "#bd3786"
             ],
             [
              0.5555555555555556,
              "#d8576b"
             ],
             [
              0.6666666666666666,
              "#ed7953"
             ],
             [
              0.7777777777777778,
              "#fb9f3a"
             ],
             [
              0.8888888888888888,
              "#fdca26"
             ],
             [
              1,
              "#f0f921"
             ]
            ],
            "type": "histogram2dcontour"
           }
          ],
          "mesh3d": [
           {
            "colorbar": {
             "outlinewidth": 0,
             "ticks": ""
            },
            "type": "mesh3d"
           }
          ],
          "parcoords": [
           {
            "line": {
             "colorbar": {
              "outlinewidth": 0,
              "ticks": ""
             }
            },
            "type": "parcoords"
           }
          ],
          "pie": [
           {
            "automargin": true,
            "type": "pie"
           }
          ],
          "scatter": [
           {
            "fillpattern": {
             "fillmode": "overlay",
             "size": 10,
             "solidity": 0.2
            },
            "type": "scatter"
           }
          ],
          "scatter3d": [
           {
            "line": {
             "colorbar": {
              "outlinewidth": 0,
              "ticks": ""
             }
            },
            "marker": {
             "colorbar": {
              "outlinewidth": 0,
              "ticks": ""
             }
            },
            "type": "scatter3d"
           }
          ],
          "scattercarpet": [
           {
            "marker": {
             "colorbar": {
              "outlinewidth": 0,
              "ticks": ""
             }
            },
            "type": "scattercarpet"
           }
          ],
          "scattergeo": [
           {
            "marker": {
             "colorbar": {
              "outlinewidth": 0,
              "ticks": ""
             }
            },
            "type": "scattergeo"
           }
          ],
          "scattergl": [
           {
            "marker": {
             "colorbar": {
              "outlinewidth": 0,
              "ticks": ""
             }
            },
            "type": "scattergl"
           }
          ],
          "scattermap": [
           {
            "marker": {
             "colorbar": {
              "outlinewidth": 0,
              "ticks": ""
             }
            },
            "type": "scattermap"
           }
          ],
          "scattermapbox": [
           {
            "marker": {
             "colorbar": {
              "outlinewidth": 0,
              "ticks": ""
             }
            },
            "type": "scattermapbox"
           }
          ],
          "scatterpolar": [
           {
            "marker": {
             "colorbar": {
              "outlinewidth": 0,
              "ticks": ""
             }
            },
            "type": "scatterpolar"
           }
          ],
          "scatterpolargl": [
           {
            "marker": {
             "colorbar": {
              "outlinewidth": 0,
              "ticks": ""
             }
            },
            "type": "scatterpolargl"
           }
          ],
          "scatterternary": [
           {
            "marker": {
             "colorbar": {
              "outlinewidth": 0,
              "ticks": ""
             }
            },
            "type": "scatterternary"
           }
          ],
          "surface": [
           {
            "colorbar": {
             "outlinewidth": 0,
             "ticks": ""
            },
            "colorscale": [
             [
              0,
              "#0d0887"
             ],
             [
              0.1111111111111111,
              "#46039f"
             ],
             [
              0.2222222222222222,
              "#7201a8"
             ],
             [
              0.3333333333333333,
              "#9c179e"
             ],
             [
              0.4444444444444444,
              "#bd3786"
             ],
             [
              0.5555555555555556,
              "#d8576b"
             ],
             [
              0.6666666666666666,
              "#ed7953"
             ],
             [
              0.7777777777777778,
              "#fb9f3a"
             ],
             [
              0.8888888888888888,
              "#fdca26"
             ],
             [
              1,
              "#f0f921"
             ]
            ],
            "type": "surface"
           }
          ],
          "table": [
           {
            "cells": {
             "fill": {
              "color": "#EBF0F8"
             },
             "line": {
              "color": "white"
             }
            },
            "header": {
             "fill": {
              "color": "#C8D4E3"
             },
             "line": {
              "color": "white"
             }
            },
            "type": "table"
           }
          ]
         },
         "layout": {
          "annotationdefaults": {
           "arrowcolor": "#2a3f5f",
           "arrowhead": 0,
           "arrowwidth": 1
          },
          "autotypenumbers": "strict",
          "coloraxis": {
           "colorbar": {
            "outlinewidth": 0,
            "ticks": ""
           }
          },
          "colorscale": {
           "diverging": [
            [
             0,
             "#8e0152"
            ],
            [
             0.1,
             "#c51b7d"
            ],
            [
             0.2,
             "#de77ae"
            ],
            [
             0.3,
             "#f1b6da"
            ],
            [
             0.4,
             "#fde0ef"
            ],
            [
             0.5,
             "#f7f7f7"
            ],
            [
             0.6,
             "#e6f5d0"
            ],
            [
             0.7,
             "#b8e186"
            ],
            [
             0.8,
             "#7fbc41"
            ],
            [
             0.9,
             "#4d9221"
            ],
            [
             1,
             "#276419"
            ]
           ],
           "sequential": [
            [
             0,
             "#0d0887"
            ],
            [
             0.1111111111111111,
             "#46039f"
            ],
            [
             0.2222222222222222,
             "#7201a8"
            ],
            [
             0.3333333333333333,
             "#9c179e"
            ],
            [
             0.4444444444444444,
             "#bd3786"
            ],
            [
             0.5555555555555556,
             "#d8576b"
            ],
            [
             0.6666666666666666,
             "#ed7953"
            ],
            [
             0.7777777777777778,
             "#fb9f3a"
            ],
            [
             0.8888888888888888,
             "#fdca26"
            ],
            [
             1,
             "#f0f921"
            ]
           ],
           "sequentialminus": [
            [
             0,
             "#0d0887"
            ],
            [
             0.1111111111111111,
             "#46039f"
            ],
            [
             0.2222222222222222,
             "#7201a8"
            ],
            [
             0.3333333333333333,
             "#9c179e"
            ],
            [
             0.4444444444444444,
             "#bd3786"
            ],
            [
             0.5555555555555556,
             "#d8576b"
            ],
            [
             0.6666666666666666,
             "#ed7953"
            ],
            [
             0.7777777777777778,
             "#fb9f3a"
            ],
            [
             0.8888888888888888,
             "#fdca26"
            ],
            [
             1,
             "#f0f921"
            ]
           ]
          },
          "colorway": [
           "#636efa",
           "#EF553B",
           "#00cc96",
           "#ab63fa",
           "#FFA15A",
           "#19d3f3",
           "#FF6692",
           "#B6E880",
           "#FF97FF",
           "#FECB52"
          ],
          "font": {
           "color": "#2a3f5f"
          },
          "geo": {
           "bgcolor": "white",
           "lakecolor": "white",
           "landcolor": "#E5ECF6",
           "showlakes": true,
           "showland": true,
           "subunitcolor": "white"
          },
          "hoverlabel": {
           "align": "left"
          },
          "hovermode": "closest",
          "mapbox": {
           "style": "light"
          },
          "paper_bgcolor": "white",
          "plot_bgcolor": "#E5ECF6",
          "polar": {
           "angularaxis": {
            "gridcolor": "white",
            "linecolor": "white",
            "ticks": ""
           },
           "bgcolor": "#E5ECF6",
           "radialaxis": {
            "gridcolor": "white",
            "linecolor": "white",
            "ticks": ""
           }
          },
          "scene": {
           "xaxis": {
            "backgroundcolor": "#E5ECF6",
            "gridcolor": "white",
            "gridwidth": 2,
            "linecolor": "white",
            "showbackground": true,
            "ticks": "",
            "zerolinecolor": "white"
           },
           "yaxis": {
            "backgroundcolor": "#E5ECF6",
            "gridcolor": "white",
            "gridwidth": 2,
            "linecolor": "white",
            "showbackground": true,
            "ticks": "",
            "zerolinecolor": "white"
           },
           "zaxis": {
            "backgroundcolor": "#E5ECF6",
            "gridcolor": "white",
            "gridwidth": 2,
            "linecolor": "white",
            "showbackground": true,
            "ticks": "",
            "zerolinecolor": "white"
           }
          },
          "shapedefaults": {
           "line": {
            "color": "#2a3f5f"
           }
          },
          "ternary": {
           "aaxis": {
            "gridcolor": "white",
            "linecolor": "white",
            "ticks": ""
           },
           "baxis": {
            "gridcolor": "white",
            "linecolor": "white",
            "ticks": ""
           },
           "bgcolor": "#E5ECF6",
           "caxis": {
            "gridcolor": "white",
            "linecolor": "white",
            "ticks": ""
           }
          },
          "title": {
           "x": 0.05
          },
          "xaxis": {
           "automargin": true,
           "gridcolor": "white",
           "linecolor": "white",
           "ticks": "",
           "title": {
            "standoff": 15
           },
           "zerolinecolor": "white",
           "zerolinewidth": 2
          },
          "yaxis": {
           "automargin": true,
           "gridcolor": "white",
           "linecolor": "white",
           "ticks": "",
           "title": {
            "standoff": 15
           },
           "zerolinecolor": "white",
           "zerolinewidth": 2
          }
         }
        },
        "title": {
         "text": "Comparison for frequency"
        },
        "width": 900,
        "xaxis": {
         "title": {
          "text": "Sample Duration (s)"
         },
         "type": "log"
        },
        "yaxis": {
         "title": {
          "text": "Uncertainty"
         },
         "type": "log"
        }
       }
      }
     },
     "metadata": {},
     "output_type": "display_data"
    },
    {
     "data": {
      "application/vnd.plotly.v1+json": {
       "config": {
        "plotlyServerURL": "https://plot.ly"
       },
       "data": [
        {
         "mode": "lines+markers",
         "name": "RMSE amplitude",
         "type": "scatter",
         "x": {
          "bdata": "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",
          "dtype": "f8"
         },
         "y": [
          0.2653893346917543,
          0.26048390294996454,
          0.19720716160303572,
          0.16374334522661962,
          0.17282387168747526,
          0.13755565783450258,
          0.11607658769817748,
          0.10021920215460643,
          0.08756026698255286,
          0.07705668478146091,
          0.0681440928075196,
          0.06047350582520129,
          0.05380716869232795,
          0.04797372322423758,
          0.04284311276237785,
          0.03831323725838571,
          0.034663914037901346,
          0.03103824565207942,
          0.02782020665661738,
          0.024959448886778007,
          0.022412841482962215,
          0.020143525464011443,
          0.018119252338706544,
          0.01631179502650169,
          0.014696844238943275,
          0.013275842455944029,
          0.011990337336255756,
          0.010802456348781273,
          0.009801852967692344,
          0.008871827772078827,
          0.007999106844916467,
          0.007283588714526798,
          0.006606363320276094,
          0.005996044882482087,
          0.005445526634873157,
          0.004948437257805291,
          0.0045832698660677905,
          0.004166785349803415,
          0.003790387676273733,
          0.0033903114365801323,
          0.0030885108163509942,
          0.0028617935812356057,
          0.002572609779360299,
          0.002333105426338661,
          0.002147793731679821,
          0.001978708213189679,
          0.0018065239313185876,
          0.0016507412128574934,
          0.0015157267894319905,
          0.0013846428900419292,
          0.001273188370079388,
          0.0012257684063275425,
          0.0010926839247413953,
          0.0010779523935696594,
          0.000970074789738298,
          0.0009915042738998052,
          0.0009710002629137527,
          0.0009642422214621675,
          0.0009873770520386989,
          0.0009817422534028747,
          0.0009777794174652458,
          0.0009997423886067948,
          0.0010194593419828718,
          0.001015400355189474,
          0.0010039065918809786,
          0.0009624708098086069,
          0.0009328226516809356,
          0.0009014198421178184,
          0.0008940333834906676,
          0.0008720388720994053,
          0.0009145358700747598,
          0.0009371225871841264,
          0.0008944449474048697,
          0.0009549273576585334,
          0.0009026471790064632,
          0.0009453124115383566,
          0.0008790728351267415,
          0.000893461280820507,
          0.0009023546599756322,
          0.000966479501493677,
          0.0008995645301429404,
          0.0008770367169293543,
          0.0008663929149603056,
          0.0008595170662137476,
          0.0008620368756037003,
          0.0009231279171380107,
          0.000896993371272285,
          0.0008962005286617533,
          0.0008897909350991098,
          0.000903979574827627,
          0.0009176297545259311,
          0.0009132742448044635,
          0.0009142885006875699,
          0.000889039877218636,
          0.0008849736371286809,
          0.0009352596492158169,
          0.0009113911139200014,
          0.0009256256501764539,
          0.0008829519274005999,
          0.0008965489075179323,
          0.0009847575874306598,
          0.0009205978262565376,
          0.0009670206575730989,
          0.0010093889645339123,
          0.000975801574226573,
          0.0008901767660703277,
          0.0009093087051657084,
          0.0009346193203115644,
          0.0009362962263259714,
          0.0009179344941671462,
          0.000850709869885818,
          0.000952353265542308,
          0.00097701021540729,
          0.0009617325740404003,
          0.0008841799719086839,
          0.0008797497048907163,
          0.0009096855005624231,
          0.0009410104062056269,
          0.0009824928077353085,
          0.000942816966708266,
          0.0009330663861677871,
          0.0009426445611282118,
          0.0009174585893415689,
          0.0009092859764605958,
          0.000877997995712275,
          0.0009567084249179146,
          0.0009127470775194324,
          0.0009116632899815073,
          0.0008733998267850573,
          0.0009519700741439482,
          0.0009806995379171184,
          0.0008670231128396963,
          0.0009386244096544763,
          0.0009605063019439423,
          0.0009360917821328442,
          0.0009503295930449387,
          0.0009378562080857232,
          0.0009167962956221241,
          0.000974638042410358,
          0.0009369456874536419,
          0.0010139695045962357,
          0.00100925145386224,
          0.0009523762380292374,
          0.0009108772705140547,
          0.0010389818383487067,
          0.0009761622280208426,
          0.0009420021160483042,
          0.0009094555334631106,
          0.0009354364103671148,
          0.0009614341309361349,
          0.0009158169676051157,
          0.0010356555341170443,
          0.0009477038583155163,
          0.0009541705424569061,
          0.0010294381244709777,
          0.0009301190224619647,
          0.0010247525477384142,
          0.0009848668340412584,
          0.0009369201482992813,
          0.0009371873081494233,
          0.0010582122807711177,
          0.0009984307872200138,
          0.0009743837045688721,
          0.001022665274637152,
          0.001049250464211965,
          0.0010160916509314884,
          0.0010477187752652958,
          0.0010385818763642223,
          0.0010810374573563908,
          0.001035220954981931,
          0.0010412516073477875,
          0.0010675957636355011,
          0.0010849301657285212,
          0.001065483064204327,
          0.0011387319930074003,
          0.0011109416600422512,
          0.0010990372104782784,
          0.001085181343410235,
          0.0011181071802470613,
          0.0011559668656085042,
          0.0011425446408035453,
          0.0011170101471946934,
          0.0011713346063200742,
          0.0011465487074923944,
          0.0011581740670216073,
          0.0010853474186949973,
          0.001137000343647197,
          0.0011505282873951245,
          0.0012098364914141066,
          0.0012314542195871493,
          0.0011945994351129647,
          0.0012434014804762954,
          0.0012403266297119438,
          0.001198936779670964,
          0.0012998383157245138,
          0.0013624190097009095,
          0.00129919791416457,
          0.0012725679595563188,
          0.0013410463441859604,
          0.0013611328842384886,
          0.001371723810917864,
          0.0014240343399817808,
          0.0014923449588768183,
          0.0014249331991117347,
          0.0014707544841899242,
          0.0015082042629681032,
          0.0015614398740717613,
          0.001698778338859933,
          0.0015475949861497394,
          0.0015479407838180947,
          0.001722863620044118,
          0.0016774751104774736,
          0.0017695078211659907,
          0.0017415063955353667,
          0.001769280015500797,
          0.001772856170181522,
          0.0016766949409147136,
          0.0018643671921679552,
          0.0019117911264718086,
          0.0019964820573596547,
          0.0031712034075347313,
          0.0021621173714486863,
          0.0020579294219296804,
          0.002027692150232275,
          0.0020974263855363085,
          0.001952309533200206,
          0.0022188449319137738,
          0.0022645043292246862,
          0.002056811706341782,
          0.002323188820910567,
          0.002348412050079023,
          0.0022991239003092726,
          0.002415365157902192,
          0.002588963899913073,
          0.002713959070572006,
          0.0026337333848820465,
          0.0027565792681166976,
          0.0026723904997395173,
          0.0026710267171539312,
          0.002913147445270973,
          0.002697637736060988,
          0.003103633614639461,
          0.0028363769778596386,
          0.00282209028835068,
          0.0028645272512159907,
          0.003034723012702679,
          0.0033552226954085586,
          0.002980401489159121,
          0.0035668563341217695,
          0.0033083535398673422,
          0.003785740887456904,
          0.0036501351306556617,
          0.003773897035907114,
          0.0037398750570211354,
          0.0036836415502216526,
          0.0037664570782101783,
          0.00395692028767274,
          0.004188528501002045,
          0.0041321566796079425,
          0.0040417127769349975,
          0.003985672431452245,
          0.004298578337269948,
          0.004366896780021898,
          0.04148954589240125,
          0.004920930117773532,
          0.004562943201235296,
          0.004994921932906827,
          0.004768810240092121,
          0.004881409420267267,
          0.005059975968069974,
          0.005012325520462334,
          0.005142320563845915,
          0.00567596944439697,
          0.0060783885765192955,
          0.005560075095275633,
          0.0053060949816237,
          0.005871134265205295,
          0.005731766464851113,
          0.0063218110455192135,
          0.0066483852122505875,
          0.006605178098614452,
          0.007355646337796055,
          0.006115581993337481,
          0.006713964646954525,
          0.0068904304856798855,
          0.006869620846271258,
          0.006938178954139906,
          0.007171684172222619,
          0.008309684418621812,
          0.006974981037889966,
          0.007803847445551517,
          0.008162038308181328,
          0.008253478137918118,
          0.008295733481226945,
          0.008929654226705037,
          0.011801915929046178,
          0.008934815099801242,
          0.008717816267250812,
          0.010381382467506264,
          0.012050077220489609
         ]
        },
        {
         "line": {
          "dash": "dot"
         },
         "mode": "lines+markers",
         "name": "stderr amplitude",
         "type": "scatter",
         "x": {
          "bdata": "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",
          "dtype": "f8"
         },
         "y": [
          0.29693605553175445,
          0.26516453511436017,
          0.20700440757495742,
          0.17420601450550455,
          0.15724927389616788,
          0.1330722694581579,
          0.11551158109192071,
          0.1012636322139303,
          0.08927615285220615,
          0.07900974731965521,
          0.07012074776766232,
          0.06236756275676928,
          0.05556895561074092,
          0.04958358893331049,
          0.04429774365614587,
          0.03961490656919782,
          0.03559750271063318,
          0.031880924188058005,
          0.028577815520190935,
          0.025638535490077965,
          0.023020198035546714,
          0.020685634247456987,
          0.018602308509034184,
          0.016741492261248124,
          0.015079050656678155,
          0.01352402634158981,
          0.012208057742598089,
          0.011069428509085339,
          0.009969043447221916,
          0.009018430519065751,
          0.008183823652571653,
          0.007396784493396596,
          0.006706209241279008,
          0.006084488640414006,
          0.0055242915356736476,
          0.005019090483163972,
          0.004557803587147688,
          0.004145599031630654,
          0.0037729173682064907,
          0.0034409640472336167,
          0.003136167214572601,
          0.002853015435922172,
          0.0026067317941745696,
          0.0023780229882950253,
          0.0021707437289446062,
          0.0019787999217665436,
          0.0018088941331550234,
          0.0016556081300553548,
          0.0015210329414028563,
          0.0013956381825308707,
          0.0012880693752316645,
          0.001196284005344261,
          0.0011175950410335514,
          0.0010560773544995683,
          0.0010083922320752213,
          0.0009779719842603158,
          0.000961677730666436,
          0.0009589382646325,
          0.000968375619947204,
          0.0009832590372362488,
          0.0010034916232346028,
          0.0010199440936752664,
          0.0010271341071431646,
          0.0010249791538785961,
          0.0010082736013818675,
          0.0009810815667491634,
          0.0009504672422426258,
          0.0009263957176759729,
          0.0009157383800254271,
          0.0009182204071197509,
          0.0009335717093786733,
          0.0009509733832329167,
          0.0009602960176559494,
          0.0009570395408682417,
          0.0009372564303888069,
          0.000915740980550508,
          0.0009027702966070555,
          0.0009092196444296126,
          0.000925567625893061,
          0.0009387205292731042,
          0.000934722924010641,
          0.0009164763092606426,
          0.0009004994387126955,
          0.0009043912504745331,
          0.0009201174460223286,
          0.0009286472335724596,
          0.0009143559688871336,
          0.0008993009957464943,
          0.0009053027629870817,
          0.0009205929993624389,
          0.0009183770644240982,
          0.0009018918114178215,
          0.0009030039395118828,
          0.0009184970011926252,
          0.0009113298929294011,
          0.0008987015381158336,
          0.0009120775911420507,
          0.0009156318865863246,
          0.0009003097857732613,
          0.000912076338862843,
          0.0009137718881669562,
          0.0009024311983942927,
          0.0009148218032534994,
          0.000906551430007861,
          0.0009091753933279041,
          0.0009140846681188069,
          0.0009051192381958203,
          0.0009164168067786031,
          0.0009053775046067502,
          0.0009169281811986696,
          0.0009070600350393025,
          0.0009162002800793422,
          0.000910456636602229,
          0.0009119991522281589,
          0.0009161106804768737,
          0.0009095272721384943,
          0.0009160171538469482,
          0.0009189251280380961,
          0.0009127363107580078,
          0.0009149867895689373,
          0.0009201350705124623,
          0.0009219336537919975,
          0.0009196640286601232,
          0.0009171942509991016,
          0.0009204157810772118,
          0.0009192995798314574,
          0.0009221980689870897,
          0.0009219710050067379,
          0.0009238683598200394,
          0.0009251545063821039,
          0.0009273787771945906,
          0.0009299780231625647,
          0.0009318006651818415,
          0.0009319801839487278,
          0.0009315689985577539,
          0.0009353019880711307,
          0.0009341843076886062,
          0.0009390948918443045,
          0.0009376038320798923,
          0.0009429090156212091,
          0.0009426744426480665,
          0.0009433034262314433,
          0.000946637031551312,
          0.0009499518631760275,
          0.0009526239432889464,
          0.000954061302923118,
          0.0009564435714602328,
          0.0009573481139593953,
          0.0009601983660239847,
          0.0009660962606675055,
          0.0009676672843744694,
          0.0009725309738040181,
          0.0009711525386141143,
          0.0009769179887657747,
          0.000980539653253973,
          0.000981411763307659,
          0.000986057867370415,
          0.0009906399614944075,
          0.0009957323562699149,
          0.0009973246009958182,
          0.0010036946617914297,
          0.0010044645907035877,
          0.0010101876173073752,
          0.0010129235797867087,
          0.0010215068591376045,
          0.0010219507753659188,
          0.0010288449876915485,
          0.0010362527519828745,
          0.0010376665107027835,
          0.0010438756786546417,
          0.0010514204812926793,
          0.0010559250264223518,
          0.0010663867773243634,
          0.0010693772306769249,
          0.0010763107629884014,
          0.0010842450236029854,
          0.0010928700957524354,
          0.0011038451858397095,
          0.001107802513066377,
          0.001117682359883636,
          0.0011284779921827681,
          0.0011380846614639606,
          0.0011474060590251289,
          0.0011552555285054362,
          0.0011646965371633526,
          0.001179437981346875,
          0.0011874736767643894,
          0.0011999249582369004,
          0.0012113794153383647,
          0.0012240553607189267,
          0.001240888550057469,
          0.001251794593501255,
          0.0012697363566845645,
          0.0012819124506528586,
          0.001301621926468132,
          0.001313309991900707,
          0.0013306918383670903,
          0.0013529523891025119,
          0.0013702541932410028,
          0.001390464960876942,
          0.001409328415078195,
          0.0014268478168778431,
          0.0014519827154595502,
          0.0014744587129167837,
          0.001496781503239728,
          0.0015223641286185234,
          0.0015432930712938524,
          0.0015750757639023147,
          0.0015965616326270597,
          0.001625352290767448,
          0.0016536117048785415,
          0.0016840058193784094,
          0.0017153779245675863,
          0.0017480580562528017,
          0.0017804872800564826,
          0.0018157388544850917,
          0.0018502471042316896,
          0.001887282424677507,
          0.0019273778982579575,
          0.001976740483911733,
          0.003319382492985803,
          0.0020566360442494935,
          0.002050684190992317,
          0.0020773122733269184,
          0.002109573395728499,
          0.0021561680302776046,
          0.0021919498331584276,
          0.0022337220612799707,
          0.0022834256062078044,
          0.0023203526450257007,
          0.002366625502101521,
          0.002411206864473509,
          0.002464035827725353,
          0.002513212593610704,
          0.0025621077442838282,
          0.002604637707650072,
          0.0026572994621412755,
          0.002715269954334502,
          0.0027194983705651557,
          0.002785250874466825,
          0.0029187290426309328,
          0.0029345751125608,
          0.002981718521173146,
          0.00304086353097091,
          0.0031052940164454893,
          0.0031740698389272396,
          0.0032202911523704974,
          0.0032858388006893093,
          0.0033521436029042414,
          0.0034613464953692137,
          0.0037473572637452108,
          0.003556835331184108,
          0.0036186390251356127,
          0.003703167103343797,
          0.003758765798114026,
          0.00383928368001247,
          0.003879982922918844,
          0.003995590397571629,
          0.004101802877729726,
          0.004143935953962754,
          0.004218395289314491,
          0.0043102653925438765,
          0.004429190538093604,
          0.04227393530048384,
          0.0045779625194827585,
          0.004669299485923172,
          0.004739591358723586,
          0.004833074713390426,
          0.005037718608810707,
          0.005048388046150495,
          0.005128984646171588,
          0.0052918515268881245,
          0.0057059434343389275,
          0.0054308176121756375,
          0.005506945845781465,
          0.005759246890463076,
          0.0057924742551086605,
          0.005892163301384116,
          0.0066139875498868695,
          0.006144605207494342,
          0.006187335977739453,
          0.007130908041136154,
          0.006501901305732141,
          0.006751547504922539,
          0.00682322549116437,
          0.006845519076395288,
          0.007159077490968853,
          0.0072383954250319444,
          0.008164727365866235,
          0.007405596311871143,
          0.007772908475932431,
          0.008032468849062594,
          0.00812047474738403,
          0.008331863296709251,
          0.008227486819841631,
          0.01163894112086477,
          0.008746278859128147,
          0.008784174112300445,
          0.009582240168720748,
          0.01153179838264185
         ]
        },
        {
         "line": {
          "dash": "dash"
         },
         "mode": "lines",
         "name": "theory amplitude",
         "type": "scatter",
         "x": {
          "bdata": "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",
          "dtype": "f8"
         },
         "y": [
          0.0008945793081586014,
          0.0008947215289161835,
          0.0008947454850404331,
          0.0008946812462793698,
          0.0008947402798128351,
          0.0008947269590514296,
          0.0008947288516459625,
          0.0008947241982374856,
          0.0008947139438681593,
          0.0008947362609391088,
          0.0008947706343033573,
          0.0008947713174818995,
          0.0008947621253429307,
          0.000894802121021959,
          0.0008948106420116134,
          0.0008948296384679974,
          0.0008948383622816179,
          0.0008948604303329135,
          0.0008948694820821227,
          0.0008948947900272366,
          0.0008949103913649053,
          0.0008949306941059329,
          0.0008949526471028052,
          0.0008949705248892375,
          0.0008949901081104363,
          0.000895013240388642,
          0.000895036267885804,
          0.0008950591142714908,
          0.0008950839809273195,
          0.0008951094821380565,
          0.0008951373128582081,
          0.0008951653817719916,
          0.0008951940713686664,
          0.0008952236712415949,
          0.0008952547535018902,
          0.0008952879892215983,
          0.0008953213667719307,
          0.0008953565521505345,
          0.0008953932150833463,
          0.0008954310105662043,
          0.0008954707083999309,
          0.000895511695624434,
          0.0008955541647113803,
          0.0008955982513537151,
          0.0008956442583423462,
          0.0008956919779358396,
          0.0008957417034919626,
          0.0008957932803371835,
          0.0008958469583941429,
          0.0008959027116777003,
          0.0008959605806615892,
          0.0008960207756575278,
          0.0008960833512113607,
          0.0008961483784739998,
          0.0008962159762487379,
          0.0008962862028299336,
          0.0008963591786159574,
          0.0008964350358502076,
          0.0008965138922274719,
          0.000896595823557224,
          0.0008966809575720591,
          0.0008967694510724205,
          0.000896861421889399,
          0.0008969570000134954,
          0.0008970563223802654,
          0.0008971595565518209,
          0.000897266842319563,
          0.0008973783427651772,
          0.0008974942180913951,
          0.0008976146465251944,
          0.0008977398079716931,
          0.0008978698837730052,
          0.0008980050676038211,
          0.0008981455627108543,
          0.0008982915773078595,
          0.0008984433250031507,
          0.0008986010350793638,
          0.0008987649403582979,
          0.0008989352842305145,
          0.0008991123205669222,
          0.0008992963121782475,
          0.0008994875316094864,
          0.0008996862636052643,
          0.0008998928044049295,
          0.0009001074598441075,
          0.0009003305500392915,
          0.0009005624062422529,
          0.000900803373527091,
          0.0009010538099874135,
          0.0009013140884582484,
          0.0009015845956924753,
          0.0009018657346161887,
          0.0009021579234192695,
          0.000902461596854936,
          0.0009027772071998269,
          0.0009031052240102262,
          0.0009034461357697216,
          0.0009038004501997201,
          0.0009041686949637226,
          0.0009045514186951569,
          0.0009049491915011841,
          0.0009053626062341995,
          0.0009057922790208967,
          0.0009062388504754715,
          0.0009067029864041477,
          0.0009071853790452221,
          0.0009076867480130859,
          0.0009082078413514453,
          0.0009087494367902267,
          0.0009093123428185419,
          0.0009098973999524455,
          0.0009105054820270784,
          0.0009111374975167145,
          0.0009117943909250951,
          0.0009124771442248165,
          0.0009131867783641861,
          0.0009139243548239067,
          0.0009146909772591821,
          0.0009154877931666708,
          0.0009163159956823488,
          0.0009171768253893563,
          0.000918071572247985,
          0.0009190015775769171,
          0.0009199682361307212,
          0.0009209729982607874,
          0.0009220173721567408,
          0.000923102926199762,
          0.0009242312913918529,
          0.0009254041639075757,
          0.0009266233077363254,
          0.000927890557444197,
          0.0009292078210506306,
          0.0009305770830259148,
          0.0009320004074137173,
          0.0009334799410904236,
          0.0009350179171601697,
          0.0009366166584945162,
          0.000938278581425912,
          0.0009400061995989812,
          0.0009418021279883853,
          0.0009436690870894161,
          0.0009456099072936788,
          0.0009476275334531831,
          0.0009497250296468819,
          0.0009519055841559733,
          0.0009541725146607448,
          0.0009565292736684961,
          0.0009589794541845336,
          0.0009615267956389758,
          0.0009641751900820015,
          0.0009669286886614695,
          0.0009697915083981986,
          0.000972768039273965,
          0.0009758628516496447,
          0.0009790807040307257,
          0.0009824265511995816,
          0.000985905552734634,
          0.0009895230819377701,
          0.0009932847351930534,
          0.0009971963417809498,
          0.0010012639741739443,
          0.0010054939588408135,
          0.0010098928875884414,
          0.001014467629471626,
          0.0010192253433027195,
          0.0010241734907943632,
          0.0010293198503697224,
          0.0010346725316755562,
          0.0010402399908338825,
          0.0010460310464679235,
          0.0010520548965371698,
          0.0010583211360144236,
          0.0010648397754344995,
          0.0010716212603391858,
          0.001078676491635822,
          0.0010860168468768121,
          0.0010936542024536538,
          0.001101600956681115,
          0.0011098700537235569,
          0.0011184750082853063,
          0.0011274299309486666,
          0.0011367495539952148,
          0.001146449257486515,
          0.0011565450953073386,
          0.0011670538207856564,
          0.0011779929113969077,
          0.001189380591933001,
          0.0012012358553673199,
          0.001213578480474061,
          0.001226429045062998,
          0.0012398089334698969,
          0.0012537403367011703,
          0.0012682462433744662,
          0.0012833504193343304,
          0.0012990773735682684,
          0.001315452307824258,
          0.0013325010471643283,
          0.0013502499486169807,
          0.0013687257851600749,
          0.0013879556025299157,
          0.001407966546873585,
          0.0014287856621049031,
          0.0014504396570515822,
          0.00147295464414064,
          0.0014963558534834,
          0.00152066732876977,
          0.0015459116142827402,
          0.001572109445438395,
          0.0015992794582939702,
          0.0016274379361036443,
          0.0016565986128181753,
          0.0016867725539579162,
          0.0017179681340971302,
          0.0017501911269413944,
          0.0017834449185179402,
          0.001817730846476196,
          0.0018530486594035766,
          0.0018893970802398533,
          0.0019267744484421647,
          0.0019651794077648562,
          0.0020046116015538457,
          0.00204507233619474,
          0.00203258776926079,
          0.0020716832278664097,
          0.002111634358792706,
          0.002152439817984471,
          0.0021941004804820257,
          0.002236619504760988,
          0.002280002306242542,
          0.002324256455360214,
          0.002369391519031712,
          0.0024154188655674882,
          0.0024623514521605163,
          0.002510203611591929,
          0.002558990851234032,
          0.002608729673439627,
          0.0026594374225095813,
          0.002711132160034124,
          0.0027208723145181147,
          0.0027720843416483222,
          0.0028973354253297202,
          0.0029281625576515883,
          0.002985082752519288,
          0.003043109455351263,
          0.0031022641548590813,
          0.0031625687672898095,
          0.0032240456402536184,
          0.0032867175585669086,
          0.003350607751365136,
          0.0034157399000140885,
          0.003482138146536064,
          0.0035498271023889486,
          0.0036188318575105863,
          0.003689177989584283,
          0.0037608915735050535,
          0.003833999191038886,
          0.003871735924707683,
          0.003945547388768518,
          0.0040901763421897774,
          0.004140919930174796,
          0.004221414883187443,
          0.004303474570020054,
          0.004387129407386171,
          0.0044724104032669645,
          0.004559349168404848,
          0.00464797792802047,
          0.004738329533757515,
          0.004797238491128275,
          0.004951208434221916,
          0.00504853908356565,
          0.005117644064175294,
          0.0052171254657545395,
          0.0053185406769415055,
          0.005421927288879251,
          0.0054982376498014345,
          0.005603962917747741,
          0.005770810521585134,
          0.005855965442808505,
          0.005969799004217806,
          0.006085845365519744,
          0.0061771871854782254,
          0.006348845239296193,
          0.006473229866901014,
          0.006573031737968332,
          0.00670080428363937,
          0.006805661251992276,
          0.006987160048138623,
          0.007123920551823559,
          0.00723721957771338,
          0.007354113720389701,
          0.0075435805842761754,
          0.0076911144302760776,
          0.00779472040809708,
          0.007945370411506463,
          0.008145408224123952,
          0.008260651421566862,
          0.0084204050688233,
          0.008627467724157149,
          0.008753688456651062,
          0.008963694890331582
         ]
        },
        {
         "line": {
          "dash": "dash"
         },
         "mode": "lines",
         "name": "theory undamped amplitude",
         "type": "scatter",
         "x": {
          "bdata": "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",
          "dtype": "f8"
         },
         "y": [
          0.00044721359549995795,
          0.00044721359549995795,
          0.00044721359549995795,
          0.00044721359549995795,
          0.00044721359549995795,
          0.00044721359549995795,
          0.00044721359549995795,
          0.00044721359549995795,
          0.00044721359549995795,
          0.00044721359549995795,
          0.00044721359549995795,
          0.00044721359549995795,
          0.00044721359549995795,
          0.00044721359549995795,
          0.00044721359549995795,
          0.00044721359549995795,
          0.00044721359549995795,
          0.00044721359549995795,
          0.00044721359549995795,
          0.00044721359549995795,
          0.00044721359549995795,
          0.00044721359549995795,
          0.00044721359549995795,
          0.00044721359549995795,
          0.00044721359549995795,
          0.00044721359549995795,
          0.00044721359549995795,
          0.00044721359549995795,
          0.00044721359549995795,
          0.00044721359549995795,
          0.00044721359549995795,
          0.00044721359549995795,
          0.00044721359549995795,
          0.00044721359549995795,
          0.00044721359549995795,
          0.00044721359549995795,
          0.00044721359549995795,
          0.00044721359549995795,
          0.00044721359549995795,
          0.00044721359549995795,
          0.00044721359549995795,
          0.00044721359549995795,
          0.00044721359549995795,
          0.00044721359549995795,
          0.00044721359549995795,
          0.00044721359549995795,
          0.00044721359549995795,
          0.00044721359549995795,
          0.00044721359549995795,
          0.00044721359549995795,
          0.00044721359549995795,
          0.00044721359549995795,
          0.00044721359549995795,
          0.00044721359549995795,
          0.00044721359549995795,
          0.00044721359549995795,
          0.00044721359549995795,
          0.00044721359549995795,
          0.00044721359549995795,
          0.00044721359549995795,
          0.00044721359549995795,
          0.00044721359549995795,
          0.00044721359549995795,
          0.00044721359549995795,
          0.00044721359549995795,
          0.00044721359549995795,
          0.00044721359549995795,
          0.00044721359549995795,
          0.00044721359549995795,
          0.00044721359549995795,
          0.00044721359549995795,
          0.00044721359549995795,
          0.00044721359549995795,
          0.00044721359549995795,
          0.00044721359549995795,
          0.00044721359549995795,
          0.00044721359549995795,
          0.00044721359549995795,
          0.00044721359549995795,
          0.00044721359549995795,
          0.00044721359549995795,
          0.00044721359549995795,
          0.00044721359549995795,
          0.00044721359549995795,
          0.00044721359549995795,
          0.00044721359549995795,
          0.00044721359549995795,
          0.00044721359549995795,
          0.00044721359549995795,
          0.00044721359549995795,
          0.00044721359549995795,
          0.00044721359549995795,
          0.00044721359549995795,
          0.00044721359549995795,
          0.00044721359549995795,
          0.00044721359549995795,
          0.00044721359549995795,
          0.00044721359549995795,
          0.00044721359549995795,
          0.00044721359549995795,
          0.00044721359549995795,
          0.00044721359549995795,
          0.00044721359549995795,
          0.00044721359549995795,
          0.00044721359549995795,
          0.00044721359549995795,
          0.00044721359549995795,
          0.00044721359549995795,
          0.00044721359549995795,
          0.00044721359549995795,
          0.00044721359549995795,
          0.00044721359549995795,
          0.00044721359549995795,
          0.00044721359549995795,
          0.00044721359549995795,
          0.00044721359549995795,
          0.00044721359549995795,
          0.00044721359549995795,
          0.00044721359549995795,
          0.00044721359549995795,
          0.00044721359549995795,
          0.00044721359549995795,
          0.00044721359549995795,
          0.00044721359549995795,
          0.00044721359549995795,
          0.00044721359549995795,
          0.00044721359549995795,
          0.00044721359549995795,
          0.00044721359549995795,
          0.00044721359549995795,
          0.00044721359549995795,
          0.00044721359549995795,
          0.00044721359549995795,
          0.00044721359549995795,
          0.00044721359549995795,
          0.00044721359549995795,
          0.00044721359549995795,
          0.00044721359549995795,
          0.00044721359549995795,
          0.00044721359549995795,
          0.00044721359549995795,
          0.00044721359549995795,
          0.00044721359549995795,
          0.00044721359549995795,
          0.00044721359549995795,
          0.00044721359549995795,
          0.00044721359549995795,
          0.00044721359549995795,
          0.00044721359549995795,
          0.00044721359549995795,
          0.00044721359549995795,
          0.00044721359549995795,
          0.00044721359549995795,
          0.00044721359549995795,
          0.00044721359549995795,
          0.00044721359549995795,
          0.00044721359549995795,
          0.00044721359549995795,
          0.00044721359549995795,
          0.00044721359549995795,
          0.00044721359549995795,
          0.00044721359549995795,
          0.00044721359549995795,
          0.00044721359549995795,
          0.00044721359549995795,
          0.00044721359549995795,
          0.00044721359549995795,
          0.00044721359549995795,
          0.00044721359549995795,
          0.00044721359549995795,
          0.00044721359549995795,
          0.00044721359549995795,
          0.00044721359549995795,
          0.00044721359549995795,
          0.00044721359549995795,
          0.00044721359549995795,
          0.00044721359549995795,
          0.00044721359549995795,
          0.00044721359549995795,
          0.00044721359549995795,
          0.00044721359549995795,
          0.00044721359549995795,
          0.00044721359549995795,
          0.00044721359549995795,
          0.00044721359549995795,
          0.00044721359549995795,
          0.00044721359549995795,
          0.00044721359549995795,
          0.00044721359549995795,
          0.00044721359549995795,
          0.00044721359549995795,
          0.00044721359549995795,
          0.00044721359549995795,
          0.00044721359549995795,
          0.00044721359549995795,
          0.00044721359549995795,
          0.00044721359549995795,
          0.00044721359549995795,
          0.00044721359549995795,
          0.00044721359549995795,
          0.00044721359549995795,
          0.00044721359549995795,
          0.00044721359549995795,
          0.00044721359549995795,
          0.00044721359549995795,
          0.00044721359549995795,
          0.00044721359549995795,
          0.00044721359549995795,
          0.00044721359549995795,
          0.00044721359549995795,
          0.00044721359549995795,
          0.00044721359549995795,
          0.00044721359549995795,
          0.00044721359549995795,
          0.00044721359549995795,
          0.00044721359549995795,
          0.00044721359549995795,
          0.00044721359549995795,
          0.00044721359549995795,
          0.00044721359549995795,
          0.00044721359549995795,
          0.00044721359549995795,
          0.00044721359549995795,
          0.00044721359549995795,
          0.00044721359549995795,
          0.00044721359549995795,
          0.00044721359549995795,
          0.00044721359549995795,
          0.00044721359549995795,
          0.00044721359549995795,
          0.00044721359549995795,
          0.00044721359549995795,
          0.00044721359549995795,
          0.00044721359549995795,
          0.00044721359549995795,
          0.00044721359549995795,
          0.00044721359549995795,
          0.00044721359549995795,
          0.00044721359549995795,
          0.00044721359549995795,
          0.00044721359549995795,
          0.00044721359549995795,
          0.00044721359549995795,
          0.00044721359549995795,
          0.00044721359549995795,
          0.00044721359549995795,
          0.00044721359549995795,
          0.00044721359549995795,
          0.00044721359549995795,
          0.00044721359549995795,
          0.00044721359549995795,
          0.00044721359549995795,
          0.00044721359549995795,
          0.00044721359549995795,
          0.00044721359549995795,
          0.00044721359549995795,
          0.00044721359549995795,
          0.00044721359549995795,
          0.00044721359549995795,
          0.00044721359549995795,
          0.00044721359549995795,
          0.00044721359549995795,
          0.00044721359549995795,
          0.00044721359549995795,
          0.00044721359549995795,
          0.00044721359549995795,
          0.00044721359549995795,
          0.00044721359549995795,
          0.00044721359549995795,
          0.00044721359549995795,
          0.00044721359549995795,
          0.00044721359549995795,
          0.00044721359549995795,
          0.00044721359549995795,
          0.00044721359549995795,
          0.00044721359549995795,
          0.00044721359549995795,
          0.00044721359549995795,
          0.00044721359549995795,
          0.00044721359549995795,
          0.00044721359549995795,
          0.00044721359549995795,
          0.00044721359549995795,
          0.00044721359549995795,
          0.00044721359549995795,
          0.00044721359549995795,
          0.00044721359549995795,
          0.00044721359549995795,
          0.00044721359549995795,
          0.00044721359549995795,
          0.00044721359549995795,
          0.00044721359549995795,
          0.00044721359549995795,
          0.00044721359549995795,
          0.00044721359549995795,
          0.00044721359549995795,
          0.00044721359549995795,
          0.00044721359549995795,
          0.00044721359549995795,
          0.00044721359549995795
         ]
        }
       ],
       "layout": {
        "height": 500,
        "template": {
         "data": {
          "bar": [
           {
            "error_x": {
             "color": "#2a3f5f"
            },
            "error_y": {
             "color": "#2a3f5f"
            },
            "marker": {
             "line": {
              "color": "#E5ECF6",
              "width": 0.5
             },
             "pattern": {
              "fillmode": "overlay",
              "size": 10,
              "solidity": 0.2
             }
            },
            "type": "bar"
           }
          ],
          "barpolar": [
           {
            "marker": {
             "line": {
              "color": "#E5ECF6",
              "width": 0.5
             },
             "pattern": {
              "fillmode": "overlay",
              "size": 10,
              "solidity": 0.2
             }
            },
            "type": "barpolar"
           }
          ],
          "carpet": [
           {
            "aaxis": {
             "endlinecolor": "#2a3f5f",
             "gridcolor": "white",
             "linecolor": "white",
             "minorgridcolor": "white",
             "startlinecolor": "#2a3f5f"
            },
            "baxis": {
             "endlinecolor": "#2a3f5f",
             "gridcolor": "white",
             "linecolor": "white",
             "minorgridcolor": "white",
             "startlinecolor": "#2a3f5f"
            },
            "type": "carpet"
           }
          ],
          "choropleth": [
           {
            "colorbar": {
             "outlinewidth": 0,
             "ticks": ""
            },
            "type": "choropleth"
           }
          ],
          "contour": [
           {
            "colorbar": {
             "outlinewidth": 0,
             "ticks": ""
            },
            "colorscale": [
             [
              0,
              "#0d0887"
             ],
             [
              0.1111111111111111,
              "#46039f"
             ],
             [
              0.2222222222222222,
              "#7201a8"
             ],
             [
              0.3333333333333333,
              "#9c179e"
             ],
             [
              0.4444444444444444,
              "#bd3786"
             ],
             [
              0.5555555555555556,
              "#d8576b"
             ],
             [
              0.6666666666666666,
              "#ed7953"
             ],
             [
              0.7777777777777778,
              "#fb9f3a"
             ],
             [
              0.8888888888888888,
              "#fdca26"
             ],
             [
              1,
              "#f0f921"
             ]
            ],
            "type": "contour"
           }
          ],
          "contourcarpet": [
           {
            "colorbar": {
             "outlinewidth": 0,
             "ticks": ""
            },
            "type": "contourcarpet"
           }
          ],
          "heatmap": [
           {
            "colorbar": {
             "outlinewidth": 0,
             "ticks": ""
            },
            "colorscale": [
             [
              0,
              "#0d0887"
             ],
             [
              0.1111111111111111,
              "#46039f"
             ],
             [
              0.2222222222222222,
              "#7201a8"
             ],
             [
              0.3333333333333333,
              "#9c179e"
             ],
             [
              0.4444444444444444,
              "#bd3786"
             ],
             [
              0.5555555555555556,
              "#d8576b"
             ],
             [
              0.6666666666666666,
              "#ed7953"
             ],
             [
              0.7777777777777778,
              "#fb9f3a"
             ],
             [
              0.8888888888888888,
              "#fdca26"
             ],
             [
              1,
              "#f0f921"
             ]
            ],
            "type": "heatmap"
           }
          ],
          "histogram": [
           {
            "marker": {
             "pattern": {
              "fillmode": "overlay",
              "size": 10,
              "solidity": 0.2
             }
            },
            "type": "histogram"
           }
          ],
          "histogram2d": [
           {
            "colorbar": {
             "outlinewidth": 0,
             "ticks": ""
            },
            "colorscale": [
             [
              0,
              "#0d0887"
             ],
             [
              0.1111111111111111,
              "#46039f"
             ],
             [
              0.2222222222222222,
              "#7201a8"
             ],
             [
              0.3333333333333333,
              "#9c179e"
             ],
             [
              0.4444444444444444,
              "#bd3786"
             ],
             [
              0.5555555555555556,
              "#d8576b"
             ],
             [
              0.6666666666666666,
              "#ed7953"
             ],
             [
              0.7777777777777778,
              "#fb9f3a"
             ],
             [
              0.8888888888888888,
              "#fdca26"
             ],
             [
              1,
              "#f0f921"
             ]
            ],
            "type": "histogram2d"
           }
          ],
          "histogram2dcontour": [
           {
            "colorbar": {
             "outlinewidth": 0,
             "ticks": ""
            },
            "colorscale": [
             [
              0,
              "#0d0887"
             ],
             [
              0.1111111111111111,
              "#46039f"
             ],
             [
              0.2222222222222222,
              "#7201a8"
             ],
             [
              0.3333333333333333,
              "#9c179e"
             ],
             [
              0.4444444444444444,
              "#bd3786"
             ],
             [
              0.5555555555555556,
              "#d8576b"
             ],
             [
              0.6666666666666666,
              "#ed7953"
             ],
             [
              0.7777777777777778,
              "#fb9f3a"
             ],
             [
              0.8888888888888888,
              "#fdca26"
             ],
             [
              1,
              "#f0f921"
             ]
            ],
            "type": "histogram2dcontour"
           }
          ],
          "mesh3d": [
           {
            "colorbar": {
             "outlinewidth": 0,
             "ticks": ""
            },
            "type": "mesh3d"
           }
          ],
          "parcoords": [
           {
            "line": {
             "colorbar": {
              "outlinewidth": 0,
              "ticks": ""
             }
            },
            "type": "parcoords"
           }
          ],
          "pie": [
           {
            "automargin": true,
            "type": "pie"
           }
          ],
          "scatter": [
           {
            "fillpattern": {
             "fillmode": "overlay",
             "size": 10,
             "solidity": 0.2
            },
            "type": "scatter"
           }
          ],
          "scatter3d": [
           {
            "line": {
             "colorbar": {
              "outlinewidth": 0,
              "ticks": ""
             }
            },
            "marker": {
             "colorbar": {
              "outlinewidth": 0,
              "ticks": ""
             }
            },
            "type": "scatter3d"
           }
          ],
          "scattercarpet": [
           {
            "marker": {
             "colorbar": {
              "outlinewidth": 0,
              "ticks": ""
             }
            },
            "type": "scattercarpet"
           }
          ],
          "scattergeo": [
           {
            "marker": {
             "colorbar": {
              "outlinewidth": 0,
              "ticks": ""
             }
            },
            "type": "scattergeo"
           }
          ],
          "scattergl": [
           {
            "marker": {
             "colorbar": {
              "outlinewidth": 0,
              "ticks": ""
             }
            },
            "type": "scattergl"
           }
          ],
          "scattermap": [
           {
            "marker": {
             "colorbar": {
              "outlinewidth": 0,
              "ticks": ""
             }
            },
            "type": "scattermap"
           }
          ],
          "scattermapbox": [
           {
            "marker": {
             "colorbar": {
              "outlinewidth": 0,
              "ticks": ""
             }
            },
            "type": "scattermapbox"
           }
          ],
          "scatterpolar": [
           {
            "marker": {
             "colorbar": {
              "outlinewidth": 0,
              "ticks": ""
             }
            },
            "type": "scatterpolar"
           }
          ],
          "scatterpolargl": [
           {
            "marker": {
             "colorbar": {
              "outlinewidth": 0,
              "ticks": ""
             }
            },
            "type": "scatterpolargl"
           }
          ],
          "scatterternary": [
           {
            "marker": {
             "colorbar": {
              "outlinewidth": 0,
              "ticks": ""
             }
            },
            "type": "scatterternary"
           }
          ],
          "surface": [
           {
            "colorbar": {
             "outlinewidth": 0,
             "ticks": ""
            },
            "colorscale": [
             [
              0,
              "#0d0887"
             ],
             [
              0.1111111111111111,
              "#46039f"
             ],
             [
              0.2222222222222222,
              "#7201a8"
             ],
             [
              0.3333333333333333,
              "#9c179e"
             ],
             [
              0.4444444444444444,
              "#bd3786"
             ],
             [
              0.5555555555555556,
              "#d8576b"
             ],
             [
              0.6666666666666666,
              "#ed7953"
             ],
             [
              0.7777777777777778,
              "#fb9f3a"
             ],
             [
              0.8888888888888888,
              "#fdca26"
             ],
             [
              1,
              "#f0f921"
             ]
            ],
            "type": "surface"
           }
          ],
          "table": [
           {
            "cells": {
             "fill": {
              "color": "#EBF0F8"
             },
             "line": {
              "color": "white"
             }
            },
            "header": {
             "fill": {
              "color": "#C8D4E3"
             },
             "line": {
              "color": "white"
             }
            },
            "type": "table"
           }
          ]
         },
         "layout": {
          "annotationdefaults": {
           "arrowcolor": "#2a3f5f",
           "arrowhead": 0,
           "arrowwidth": 1
          },
          "autotypenumbers": "strict",
          "coloraxis": {
           "colorbar": {
            "outlinewidth": 0,
            "ticks": ""
           }
          },
          "colorscale": {
           "diverging": [
            [
             0,
             "#8e0152"
            ],
            [
             0.1,
             "#c51b7d"
            ],
            [
             0.2,
             "#de77ae"
            ],
            [
             0.3,
             "#f1b6da"
            ],
            [
             0.4,
             "#fde0ef"
            ],
            [
             0.5,
             "#f7f7f7"
            ],
            [
             0.6,
             "#e6f5d0"
            ],
            [
             0.7,
             "#b8e186"
            ],
            [
             0.8,
             "#7fbc41"
            ],
            [
             0.9,
             "#4d9221"
            ],
            [
             1,
             "#276419"
            ]
           ],
           "sequential": [
            [
             0,
             "#0d0887"
            ],
            [
             0.1111111111111111,
             "#46039f"
            ],
            [
             0.2222222222222222,
             "#7201a8"
            ],
            [
             0.3333333333333333,
             "#9c179e"
            ],
            [
             0.4444444444444444,
             "#bd3786"
            ],
            [
             0.5555555555555556,
             "#d8576b"
            ],
            [
             0.6666666666666666,
             "#ed7953"
            ],
            [
             0.7777777777777778,
             "#fb9f3a"
            ],
            [
             0.8888888888888888,
             "#fdca26"
            ],
            [
             1,
             "#f0f921"
            ]
           ],
           "sequentialminus": [
            [
             0,
             "#0d0887"
            ],
            [
             0.1111111111111111,
             "#46039f"
            ],
            [
             0.2222222222222222,
             "#7201a8"
            ],
            [
             0.3333333333333333,
             "#9c179e"
            ],
            [
             0.4444444444444444,
             "#bd3786"
            ],
            [
             0.5555555555555556,
             "#d8576b"
            ],
            [
             0.6666666666666666,
             "#ed7953"
            ],
            [
             0.7777777777777778,
             "#fb9f3a"
            ],
            [
             0.8888888888888888,
             "#fdca26"
            ],
            [
             1,
             "#f0f921"
            ]
           ]
          },
          "colorway": [
           "#636efa",
           "#EF553B",
           "#00cc96",
           "#ab63fa",
           "#FFA15A",
           "#19d3f3",
           "#FF6692",
           "#B6E880",
           "#FF97FF",
           "#FECB52"
          ],
          "font": {
           "color": "#2a3f5f"
          },
          "geo": {
           "bgcolor": "white",
           "lakecolor": "white",
           "landcolor": "#E5ECF6",
           "showlakes": true,
           "showland": true,
           "subunitcolor": "white"
          },
          "hoverlabel": {
           "align": "left"
          },
          "hovermode": "closest",
          "mapbox": {
           "style": "light"
          },
          "paper_bgcolor": "white",
          "plot_bgcolor": "#E5ECF6",
          "polar": {
           "angularaxis": {
            "gridcolor": "white",
            "linecolor": "white",
            "ticks": ""
           },
           "bgcolor": "#E5ECF6",
           "radialaxis": {
            "gridcolor": "white",
            "linecolor": "white",
            "ticks": ""
           }
          },
          "scene": {
           "xaxis": {
            "backgroundcolor": "#E5ECF6",
            "gridcolor": "white",
            "gridwidth": 2,
            "linecolor": "white",
            "showbackground": true,
            "ticks": "",
            "zerolinecolor": "white"
           },
           "yaxis": {
            "backgroundcolor": "#E5ECF6",
            "gridcolor": "white",
            "gridwidth": 2,
            "linecolor": "white",
            "showbackground": true,
            "ticks": "",
            "zerolinecolor": "white"
           },
           "zaxis": {
            "backgroundcolor": "#E5ECF6",
            "gridcolor": "white",
            "gridwidth": 2,
            "linecolor": "white",
            "showbackground": true,
            "ticks": "",
            "zerolinecolor": "white"
           }
          },
          "shapedefaults": {
           "line": {
            "color": "#2a3f5f"
           }
          },
          "ternary": {
           "aaxis": {
            "gridcolor": "white",
            "linecolor": "white",
            "ticks": ""
           },
           "baxis": {
            "gridcolor": "white",
            "linecolor": "white",
            "ticks": ""
           },
           "bgcolor": "#E5ECF6",
           "caxis": {
            "gridcolor": "white",
            "linecolor": "white",
            "ticks": ""
           }
          },
          "title": {
           "x": 0.05
          },
          "xaxis": {
           "automargin": true,
           "gridcolor": "white",
           "linecolor": "white",
           "ticks": "",
           "title": {
            "standoff": 15
           },
           "zerolinecolor": "white",
           "zerolinewidth": 2
          },
          "yaxis": {
           "automargin": true,
           "gridcolor": "white",
           "linecolor": "white",
           "ticks": "",
           "title": {
            "standoff": 15
           },
           "zerolinecolor": "white",
           "zerolinewidth": 2
          }
         }
        },
        "title": {
         "text": "Comparison for amplitude"
        },
        "width": 900,
        "xaxis": {
         "title": {
          "text": "Sample Duration (s)"
         },
         "type": "log"
        },
        "yaxis": {
         "title": {
          "text": "Uncertainty"
         },
         "type": "log"
        }
       }
      }
     },
     "metadata": {},
     "output_type": "display_data"
    },
    {
     "data": {
      "application/vnd.plotly.v1+json": {
       "config": {
        "plotlyServerURL": "https://plot.ly"
       },
       "data": [
        {
         "mode": "lines+markers",
         "name": "RMSE damping_rate",
         "type": "scatter",
         "x": {
          "bdata": "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",
          "dtype": "f8"
         },
         "y": [
          0.37074770639035237,
          0.3456997114841682,
          0.31968070458210407,
          0.295571686094294,
          0.2796937621763191,
          0.25853642563792667,
          0.23893236515961935,
          0.22078271844840736,
          0.20397912891508346,
          0.18842182641792388,
          0.17401858577173882,
          0.16068422322905745,
          0.14833899499892803,
          0.1369097477554689,
          0.12632885926075765,
          0.11653368020420586,
          0.10857895456755494,
          0.10007058067001816,
          0.0921946664047985,
          0.08490435577060883,
          0.07815584457841612,
          0.07190996530194674,
          0.0661290990426667,
          0.060778872702568154,
          0.055828135931854254,
          0.051881985436468825,
          0.047582838312443615,
          0.04308640541350011,
          0.039926104951790505,
          0.036522619422544866,
          0.03300125876334986,
          0.03046435451282857,
          0.027773745896910826,
          0.0252869133766333,
          0.022989153282428888,
          0.02086677928434702,
          0.01942515659600983,
          0.01759382514021803,
          0.01590367443761773,
          0.013892568958470705,
          0.012419553859476158,
          0.0115833816761724,
          0.009959783936909935,
          0.00887341794947475,
          0.007887830887256647,
          0.007272754380505012,
          0.0064102666047169245,
          0.005623567869107137,
          0.004723920150420371,
          0.004262923752190673,
          0.0036838773546636052,
          0.003160215939136618,
          0.0027245666552646853,
          0.0023649964142066614,
          0.0020430383246944537,
          0.0018876408839298832,
          0.0017726321309586366,
          0.0017291610586718195,
          0.0017119065218343978,
          0.0017738394259856154,
          0.0017880216753942584,
          0.0017965583082337848,
          0.0018127804439883057,
          0.001697598575279495,
          0.0015872521022125127,
          0.00141965728289684,
          0.0013314744187038125,
          0.0011920585464744973,
          0.0010919299114428651,
          0.0010461444372522936,
          0.0011007686179377034,
          0.0011218748920536858,
          0.0010211120071785698,
          0.001056220604959063,
          0.0009273289019826695,
          0.0009181792399958888,
          0.0007931594775346663,
          0.0007767922052422883,
          0.0007969082945298866,
          0.0008222698996147093,
          0.0007609379351402994,
          0.0006883309571358687,
          0.0006360775972083331,
          0.0006031794062903713,
          0.0005908167987554077,
          0.0006316900949982727,
          0.0006027116106765818,
          0.0005561476118773949,
          0.0005277486638102869,
          0.0005251326823074241,
          0.0005035958021687343,
          0.00045992617302590506,
          0.000459626468310792,
          0.00041952273964647436,
          0.00039755427576859345,
          0.0003864057647139927,
          0.00040978259210267876,
          0.00039248877659518044,
          0.00034521397660613025,
          0.0003518370797249173,
          0.0003565990834062069,
          0.0003198428472771141,
          0.00033986910051402735,
          0.0003328185330887965,
          0.0003161390866522139,
          0.00026596258891223307,
          0.0002674941164399888,
          0.00027155344824227615,
          0.000261556921128864,
          0.0002465287673863922,
          0.00021502522739417446,
          0.00022602115118125967,
          0.00023446151653385873,
          0.0002231724743068993,
          0.00020303991181461458,
          0.00018956194135393242,
          0.00019056745352590384,
          0.0001747152141742385,
          0.00018226739171340825,
          0.00016264483773079533,
          0.00016895805102088706,
          0.00016013931876723064,
          0.0001481026611820097,
          0.00014618446528195838,
          0.0001389863208668959,
          0.00013433232553471025,
          0.0001255340247160499,
          0.00012109587826355102,
          0.00011893472424218987,
          0.00011406994898244522,
          0.00011508079496461976,
          0.00010295594437105506,
          0.00010796024029752011,
          0.00010305531026057545,
          0.00009358393268200766,
          0.00009371615585155308,
          0.00008921865245329803,
          0.00008219592058211319,
          0.00008442873340034322,
          0.00008255352067667031,
          0.0000855444797922509,
          0.00007689691575179573,
          0.00007139267310799135,
          0.00006835580663285729,
          0.00006830872052352005,
          0.00006696868587922047,
          0.00006407511633804946,
          0.00005654873983361724,
          0.00005843503807722792,
          0.00005795820366225462,
          0.000053164338430474496,
          0.000055517419342221806,
          0.00005198512710632604,
          0.00005018903759680227,
          0.000051069411176428173,
          0.00004608211684813373,
          0.000047977536894931926,
          0.00004553987879192048,
          0.00004203458343656439,
          0.000041025776716696895,
          0.0000432559077010203,
          0.00004101238051954424,
          0.000037330315679086465,
          0.000038443206576431224,
          0.000036950535723128975,
          0.00003677710668457085,
          0.000035747087614279596,
          0.00003391658666221312,
          0.00003578407410859397,
          0.000030822344426726266,
          0.00003209453193461493,
          0.000030094072485002494,
          0.000030922360833125965,
          0.000029822792247823575,
          0.000030167083100249092,
          0.0000283231353349664,
          0.000027329292325863042,
          0.000026014522788624283,
          0.000026673451558055678,
          0.000025595864652596885,
          0.00002325484321500645,
          0.000024973683660524635,
          0.000024753534231219062,
          0.00002364990449420492,
          0.00002388263144804726,
          0.000022193470327105715,
          0.000022973552938443955,
          0.000023308006000496355,
          0.000021762114452574374,
          0.000021146404671545013,
          0.000022506578092964575,
          0.000020560536473527524,
          0.000021179659216027436,
          0.00002168201577322086,
          0.000021954721071039968,
          0.000020980951019899173,
          0.000022723196532400288,
          0.000021246905816245893,
          0.00002192128079578777,
          0.000021084876790611825,
          0.00002163506457684935,
          0.000020681320459613846,
          0.00002260619792485851,
          0.000021215723669119342,
          0.000022985421753191664,
          0.000022703666993614748,
          0.00002334760338056693,
          0.00002390071017216475,
          0.000023853915361586656,
          0.000022021954164194468,
          0.000024054225901167235,
          0.000023688314780416598,
          0.000026446429230065815,
          0.000025198597892299782,
          0.00002656899477790223,
          0.00002585487882405124,
          0.000026457529265072067,
          0.000027180209071910352,
          0.000025777333260976474,
          0.000028561363421659645,
          0.0000368667656363415,
          0.000029220308975267678,
          0.000030307550970414322,
          0.000027479472347219107,
          0.000031224383704296056,
          0.00002688821708549697,
          0.00003249900648965887,
          0.000031380410503467076,
          0.00003187442795740623,
          0.00003343240002632016,
          0.000032682918697831056,
          0.00003237044036770075,
          0.0000342092594161735,
          0.00003641630451408511,
          0.00003746552387463323,
          0.000036750088874688274,
          0.000037082790831698076,
          0.0000391287236791434,
          0.00003992745169699357,
          0.00003659783921574425,
          0.0000379149817225734,
          0.000042180938531570175,
          0.00004185817405001509,
          0.00004034346786702553,
          0.000041390166850803026,
          0.00004701555686844869,
          0.00004723269933509487,
          0.00003982552786133256,
          0.000050606802263010205,
          0.00004810585364554431,
          0.00005381218561973227,
          0.00005143042120252523,
          0.00005240258892718022,
          0.00005066935300852375,
          0.0000528354068129474,
          0.000050803026933331035,
          0.00005725563885861511,
          0.00005832190122824399,
          0.00005713116674125528,
          0.00005928572737742055,
          0.000057632555167612273,
          0.000059676229571929564,
          0.00005200866161898501,
          0.00019793908379121575,
          0.00006251977760631224,
          0.0000636870493772488,
          0.00006732539017594064,
          0.0000691715771261723,
          0.00006949993207563305,
          0.0000704250542278099,
          0.0000732304978074224,
          0.00006862542522114077,
          0.00008313116367292328,
          0.00007772560961993711,
          0.00007418580731723151,
          0.00007861617284833167,
          0.00008298963793592814,
          0.00007490438392724301,
          0.00008504156331218913,
          0.00009670984980805213,
          0.00008919587493952676,
          0.00010029751958822284,
          0.0000867791046538678,
          0.00009353771340051935,
          0.00009214111454456819,
          0.00009790837343775744,
          0.00010212877306223168,
          0.00010308458437480513,
          0.00010972782263725577,
          0.00010118728110819903,
          0.00011004625426033654,
          0.00011324244815674338,
          0.0001100146234451822,
          0.00011703646189340995,
          0.00012164094792479524,
          0.00014822150741928885,
          0.00012312906052250414,
          0.00012549925162058008,
          0.00014044393806499214,
          0.0001502215328791165
         ]
        },
        {
         "line": {
          "dash": "dot"
         },
         "mode": "lines+markers",
         "name": "stderr damping_rate",
         "type": "scatter",
         "x": {
          "bdata": "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",
          "dtype": "f8"
         },
         "y": [
          0.39777074776938576,
          0.36786274533364616,
          0.34011514422843625,
          0.31442570098713213,
          0.29062846504849194,
          0.2686075987632249,
          0.24821922545590794,
          0.22934287545397525,
          0.2118647570235425,
          0.19568603346818766,
          0.18070596681826667,
          0.16683693634004426,
          0.1539968406253495,
          0.14210945976979886,
          0.1311039612765244,
          0.12090530277886295,
          0.11145664900835348,
          0.10272679270575596,
          0.09464530257070448,
          0.08716459972006411,
          0.08023991735261626,
          0.07383045379900996,
          0.06789798769310587,
          0.06240615378445928,
          0.057326003908489215,
          0.052633895539636814,
          0.04828277919578382,
          0.04424697239977804,
          0.04053228473106364,
          0.03708706994031601,
          0.033891329599600555,
          0.030954117595307445,
          0.028230057943745144,
          0.02571221264923863,
          0.023385625448532815,
          0.02123649889748359,
          0.01921070646404342,
          0.01738275677605207,
          0.01569651605531612,
          0.014172917790714473,
          0.012732766381390098,
          0.011391344327464218,
          0.010197642989199295,
          0.009086122961382333,
          0.008059642301878476,
          0.007110648997004492,
          0.006257896939050932,
          0.005482195585419578,
          0.004788856259790507,
          0.004148490439770448,
          0.0035863611721386507,
          0.0030964540407521462,
          0.002671544573797486,
          0.00232594108992247,
          0.0020540914917390133,
          0.001866942360278414,
          0.0017560611568837015,
          0.001712408828362378,
          0.0017186317696022686,
          0.0017462174118956224,
          0.0017789993407654942,
          0.0017893711384826168,
          0.001760874375946684,
          0.001691558097383407,
          0.0015761440907800246,
          0.0014309305122606883,
          0.0012822994769628251,
          0.0011622394533506858,
          0.0010934398897267657,
          0.001075468560907701,
          0.0010916090619460875,
          0.001107723647347949,
          0.0010957676051588656,
          0.0010445544072166203,
          0.0009563546239766418,
          0.0008656113711305648,
          0.000805917122859695,
          0.0007956672872212602,
          0.000809032592746501,
          0.0008086662037418655,
          0.0007693115870149189,
          0.0007016375764400762,
          0.0006452941744592286,
          0.0006327104707056915,
          0.0006423434333388289,
          0.0006314415599748778,
          0.0005826531274938684,
          0.0005354150850418882,
          0.0005277070618799471,
          0.0005334438299277217,
          0.0005081169761463697,
          0.00046415982511724185,
          0.000451544687536877,
          0.0004559766424498298,
          0.0004284805403295609,
          0.0003968017007628799,
          0.0003991669002088538,
          0.000387116183624503,
          0.00035546290697880496,
          0.0003552530518594882,
          0.00034335126509847517,
          0.00031848066062649123,
          0.0003200267955483967,
          0.00029945551935236603,
          0.0002904624002698532,
          0.0002835815659014262,
          0.0002656829876308066,
          0.00026457373068739074,
          0.0002460274467847619,
          0.00024528497777951574,
          0.00022890146785501577,
          0.00022646079443539895,
          0.0002143577145361728,
          0.00020705317481215836,
          0.0002021947015226537,
          0.0001900989402441144,
          0.00018674252503631151,
          0.0001808420646096238,
          0.00017074264013313358,
          0.00016545381403757308,
          0.00016183815772222024,
          0.0001560836065114203,
          0.00014894898931821753,
          0.0001424279621305198,
          0.0001375926826044577,
          0.0001325247475660409,
          0.00012819261717264983,
          0.00012347447628223483,
          0.00011913808750957863,
          0.00011494658069154085,
          0.00011130666103894242,
          0.00010813338604911455,
          0.0001046062759398675,
          0.0001001795853259295,
          0.000096477406027696,
          0.00009399641299689216,
          0.00008978804122242874,
          0.0000876491701986061,
          0.00008377357270939342,
          0.00008178870518543389,
          0.00007858732039729619,
          0.00007560976329024801,
          0.00007339250020369314,
          0.00007120577465120239,
          0.00006891926860316533,
          0.00006658060553151609,
          0.00006430388063400148,
          0.00006194397885748571,
          0.00005999749214311971,
          0.000058483924251375536,
          0.00005629875293846254,
          0.00005486777773510628,
          0.00005274050824539282,
          0.00005120196457883098,
          0.00004971341271914043,
          0.00004808566081796557,
          0.00004663964264308424,
          0.00004526831898679777,
          0.00004411049128847885,
          0.000042610501977414205,
          0.00004157818674227179,
          0.000040199047012086314,
          0.00003908640753277718,
          0.000037947364193860454,
          0.00003709490283715746,
          0.00003586751503625593,
          0.00003503302686446088,
          0.00003413498449295872,
          0.00003311528931934954,
          0.00003231997169576977,
          0.000031600118745444524,
          0.00003074119928293637,
          0.000030132834490642212,
          0.0000293376505588911,
          0.00002867961733653005,
          0.00002810629679536118,
          0.0000275385714610522,
          0.000027050255653545378,
          0.00002641419471912023,
          0.00002593432940398507,
          0.000025499114954804384,
          0.000025079629495280075,
          0.000024641170602840984,
          0.00002421500014933147,
          0.000023827647120734037,
          0.00002359279785074093,
          0.000023220962159127197,
          0.000022940146582225203,
          0.000022677668054205762,
          0.00002244762370191418,
          0.00002231643183778068,
          0.000022088132263071978,
          0.000022008993715575914,
          0.000021832074508012316,
          0.000021812475778652137,
          0.000021657607623238647,
          0.000021626652556894892,
          0.000021681715925499796,
          0.000021675083227317895,
          0.000021720850421122037,
          0.000021773367218423326,
          0.000021810565934327402,
          0.00002198422666376053,
          0.00002212198182716045,
          0.0000222806359775964,
          0.00002249680759109445,
          0.000022656567298996,
          0.000022990177309627103,
          0.000023183800687466353,
          0.000023492784304083957,
          0.000023809695940789764,
          0.000024171330962728865,
          0.000024544641211928363,
          0.00002495787373662464,
          0.000025367576395715723,
          0.000025825948976952105,
          0.00002627817512340704,
          0.000026771544486578832,
          0.000027311469781469486,
          0.000027935253289405095,
          0.00003889910312934036,
          0.000029055503660952096,
          0.000028923803567329394,
          0.000029370103629455875,
          0.00002983773342672979,
          0.000030497400684372047,
          0.00003099896024392407,
          0.00003159655202156391,
          0.00003229924126261391,
          0.00003281704337502948,
          0.00003346670724847265,
          0.00003409326226855393,
          0.00003484870211895496,
          0.00003554472033262759,
          0.00003622781018407395,
          0.000036830418768506225,
          0.0000375752246303083,
          0.000038381359470105975,
          0.00003842759920757114,
          0.00003929685300210702,
          0.000041213868062232955,
          0.00004147020650903849,
          0.00004215049603942155,
          0.00004300990309793896,
          0.00004393478984894568,
          0.00004489746650191276,
          0.00004553374928015193,
          0.00004647368245881761,
          0.000047361820874901584,
          0.000048727739719235365,
          0.00005158695551735401,
          0.00005022218182354445,
          0.000051158856566717174,
          0.00005237162028262706,
          0.000053152001366864564,
          0.00005428053947197468,
          0.000054847338140232074,
          0.000056240173170215625,
          0.000057935865375375423,
          0.00005861420063653864,
          0.00005966134251925717,
          0.00006094088632441962,
          0.00006251759839658669,
          0.00020677994573362228,
          0.00006460484975172537,
          0.00006602217663234028,
          0.00006700340200249094,
          0.00006820874685451325,
          0.00007074820761843767,
          0.00007132578679485709,
          0.00007253591751883372,
          0.00007453923047161648,
          0.00007860623778038295,
          0.00007670177838340863,
          0.00007783937060804059,
          0.00008062900216755604,
          0.00008177813715678169,
          0.0000832671961122921,
          0.00009009687895293246,
          0.00008667545921098953,
          0.00008735826408933177,
          0.00009689998182475817,
          0.00009192352918085722,
          0.00009457021330722071,
          0.00009588294325958391,
          0.00009665401133072278,
          0.00010036312864910377,
          0.00010194153055165329,
          0.00011060770996399035,
          0.00010455596685679576,
          0.0001089931991646309,
          0.0001118269519569455,
          0.00011319626537230103,
          0.00011593634644610218,
          0.00011602520702353829,
          0.0001450231861213496,
          0.00012234561951705386,
          0.00012369768888973666,
          0.00013143439648814905,
          0.00014905594188837102
         ]
        },
        {
         "line": {
          "dash": "dash"
         },
         "mode": "lines",
         "name": "theory damping_rate",
         "type": "scatter",
         "x": {
          "bdata": "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",
          "dtype": "f8"
         },
         "y": [
          0.015498288502028721,
          0.014915384112758327,
          0.014352512374741546,
          0.013809525102023521,
          0.013288917251227786,
          0.012786906768623908,
          0.01230407517612067,
          0.011839393424750516,
          0.011392195567833831,
          0.010962293613174651,
          0.010548762047733922,
          0.010150453374597,
          0.009767081846851896,
          0.009398711862287636,
          0.009043922109561828,
          0.008702632455490232,
          0.008374131244003699,
          0.008058155590157011,
          0.007753994978801223,
          0.007461455935338436,
          0.007179881125389523,
          0.006908973734228003,
          0.0066483056642875375,
          0.006397448563771172,
          0.006156073928889996,
          0.0059238351538446745,
          0.005700362245962747,
          0.005485323927172213,
          0.005278414874014692,
          0.005079319454783221,
          0.004887751705628254,
          0.0047034155603868045,
          0.0045260399246568744,
          0.004355363224317459,
          0.004191135014166765,
          0.004033114388807511,
          0.0038810576551159045,
          0.0037347466348465435,
          0.003593962619172059,
          0.0034584952649262275,
          0.0033281464854840632,
          0.003202720420487146,
          0.0030820316539891595,
          0.00296590151601879,
          0.002854158586902205,
          0.002746636255890607,
          0.0026431757807842383,
          0.002543623056372928,
          0.0024478309729317116,
          0.0023556571866920105,
          0.00226696492743564,
          0.0021816230046262596,
          0.0020995047782595105,
          0.002020488429011189,
          0.0019444568417283908,
          0.0018712971844704678,
          0.001800901014594602,
          0.0017331639973345136,
          0.001667985697601723,
          0.0016052693915488514,
          0.0015449220980229242,
          0.0014868543873374307,
          0.001430980132146146,
          0.001377216471690181,
          0.0013254836786683833,
          0.0012757050737851425,
          0.0012278068252314222,
          0.00118171791472541,
          0.0011373699947529873,
          0.001094697314398554,
          0.0010536365995467934,
          0.001014126959889994,
          0.0009761098112682075,
          0.0009395287846225191,
          0.0009043296369332482,
          0.0008704601716724809,
          0.0008378701710931876,
          0.0008065113092767299,
          0.0007763370872431484,
          0.000747302763343006,
          0.0007193652852648773,
          0.0006924832266650932,
          0.0006666167273523746,
          0.0006417274331478763,
          0.0006177784374078579,
          0.0005947342293421122,
          0.0005725606387612886,
          0.0005512247869574911,
          0.0005306950370595616,
          0.0005109409478746543,
          0.0004919332279252927,
          0.0004736436929734915,
          0.00045604522337492167,
          0.00043911172425246784,
          0.0004228180869439602,
          0.00040714015131925363,
          0.0003920546704156337,
          0.0003775392757559739,
          0.000363572444164183,
          0.00035013346594831653,
          0.00033720241406502363,
          0.0003247601147326528,
          0.00031278811886306727,
          0.00030126867480993497,
          0.00029018470195648374,
          0.00027951976547098764,
          0.0002692580519022357,
          0.00025938434572507247,
          0.0002498840068174259,
          0.00024074294872334,
          0.00023194761778072085,
          0.0002234849730315731,
          0.00021534246688572454,
          0.00020750802652159478,
          0.00019997003598878723,
          0.00019271731899112214,
          0.00018573912231918257,
          0.00017902509991522703,
          0.00017256529753399585,
          0.00016635013799739628,
          0.00016037040699632823,
          0.00015461723944057215,
          0.00014908210632196103,
          0.00014375680207920414,
          0.00013863343244274075,
          0.0001337044027407695,
          0.00012896240665336136,
          0.00012440041539200347,
          0.00012001166729490247,
          0.00011578965781741584,
          0.00011172812990638593,
          0.00010782106474276693,
          0.00010406267283913687,
          0.0001004473854788627,
          0.00009696984648507672,
          0.00009362490430658321,
          0.00009040760440945546,
          0.00008731318196346248,
          0.00008433705481238868,
          0.00008147481671812714,
          0.00007872223086865806,
          0.00007607522364087133,
          0.00007352987860878502,
          0.00007108243078896686,
          0.00006872926111466597,
          0.00006646689113096315,
          0.00006429197790333742,
          0.00006220130913248951,
          0.00006019179846862452,
          0.00005826048101862837,
          0.000056404509039942255,
          0.000054621147815257204,
          0.00005290777170237556,
          0.00005126186035395623,
          0.00004968099510206085,
          0.00004816285550273704,
          0.000046705216036110795,
          0.0000453059429576992,
          0.00004396299129690343,
          0.000042674401998854166,
          0.00004143829920598937,
          0.00004025288767593386,
          0.00003911645033241579,
          0.00003802734594610888,
          0.00003698400694239958,
          0.00003598493733317127,
          0.000035028710769743454,
          0.000034113968714111473,
          0.00003323941872557956,
          0.00003240383285977121,
          0.00003160604617681379,
          0.00003084495535521926,
          0.00003011951740760696,
          0.00002942874849391507,
          0.000028771722827106617,
          0.00002814757166557274,
          0.00002755548238543829,
          0.00002699469762476301,
          0.000026464514490164213,
          0.000025964283814639997,
          0.000025493409453304146,
          0.000025051347601322727,
          0.000024637606115534134,
          0.000024251743818008067,
          0.000023893369756134063,
          0.00002356214238971611,
          0.00002325776867099523,
          0.00002298000297856486,
          0.00002272864586085646,
          0.000022503542539381782,
          0.000022304581116414556,
          0.000022131690426556163,
          0.000021984837467039433,
          0.00002186402433819413,
          0.000021769284623885598,
          0.00002170067914276966,
          0.000021658291005880565,
          0.000021642219925547158,
          0.00002165257573621233,
          0.000021689471110772774,
          0.000021753013487871342,
          0.000021843296267247613,
          0.000021960389382401397,
          0.000022104329422286003,
          0.000022275109545212043,
          0.000022472669505756452,
          0.000022696886194485722,
          0.000022947565163839135,
          0.000023224433672584165,
          0.000023527135815136193,
          0.000023855230299180626,
          0.000024208191384524056,
          0.000024585413389618716,
          0.000024986219006356332,
          0.000025409871442297287,
          0.000025855590145107135,
          0.000026322569578510628,
          0.000026810000242404244,
          0.0000273170908964163,
          0.000027843090790286385,
          0.000028387310653595456,
          0.000028949141266970893,
          0.000028775464514422957,
          0.000029320152386007554,
          0.00002987891224763519,
          0.000030451327351450092,
          0.000031037071116737744,
          0.00003163590507462474,
          0.000032247674105117,
          0.000032872299601762744,
          0.00003350977125944738,
          0.00003416013816998462,
          0.000034823499839724984,
          0.00003549999763062817,
          0.00003618980699080502,
          0.00003689313070129977,
          0.000037610193238411,
          0.000038341236245902565,
          0.000038478978751466016,
          0.00003920321083744936,
          0.000040974514330791415,
          0.00004141047457018266,
          0.000042215446341350295,
          0.00004303606718806195,
          0.00004387264066313199,
          0.00004472547653076194,
          0.00004559489074450787,
          0.000046481205487152926,
          0.00004738474924819768,
          0.000048305856923748776,
          0.000049244869929705133,
          0.00005020213632305608,
          0.000051178010928480855,
          0.00005217285546881075,
          0.000053187038698663087,
          0.000054220936540948796,
          0.0000547546145464885,
          0.00005579846628182217,
          0.000057843828556223626,
          0.00005856145125954248,
          0.00005969982180207317,
          0.00006086032102250085,
          0.00006204337907811363,
          0.00006324943448798665,
          0.0000644789342955263,
          0.00006573233423417346,
          0.00006701009889632862,
          0.0000678431973609185,
          0.0000700206611781269,
          0.0000713971244214918,
          0.00007237441642954868,
          0.0000737812959027212,
          0.0000752155235736366,
          0.00007667763106133825,
          0.00007775682253499562,
          0.00007925200361314756,
          0.00008161158505511052,
          0.00008281585750007955,
          0.00008442570716406219,
          0.00008606685054423468,
          0.00008735861895020595,
          0.00008978623042820535,
          0.0000915452947013,
          0.00009295670629743613,
          0.0000947636829673053,
          0.00009624658443484535,
          0.00009881336502549089,
          0.000100747450616573,
          0.00010234974080674347,
          0.00010400287362609175,
          0.00010668233971137724,
          0.0001087687833705985,
          0.00011023399316037238,
          0.0001123645059403034,
          0.00011519346781621442,
          0.00011682325274416444,
          0.00011908251049005067,
          0.00012201081864439181,
          0.00012379584936184738,
          0.0001267657888288134
         ]
        },
        {
         "line": {
          "dash": "dash"
         },
         "mode": "lines",
         "name": "theory undamped damping_rate",
         "type": "scatter",
         "x": {
          "bdata": "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",
          "dtype": "f8"
         },
         "y": [
          null,
          null,
          null,
          null,
          null,
          null,
          null,
          null,
          null,
          null,
          null,
          null,
          null,
          null,
          null,
          null,
          null,
          null,
          null,
          null,
          null,
          null,
          null,
          null,
          null,
          null,
          null,
          null,
          null,
          null,
          null,
          null,
          null,
          null,
          null,
          null,
          null,
          null,
          null,
          null,
          null,
          null,
          null,
          null,
          null,
          null,
          null,
          null,
          null,
          null,
          null,
          null,
          null,
          null,
          null,
          null,
          null,
          null,
          null,
          null,
          null,
          null,
          null,
          null,
          null,
          null,
          null,
          null,
          null,
          null,
          null,
          null,
          null,
          null,
          null,
          null,
          null,
          null,
          null,
          null,
          null,
          null,
          null,
          null,
          null,
          null,
          null,
          null,
          null,
          null,
          null,
          null,
          null,
          null,
          null,
          null,
          null,
          null,
          null,
          null,
          null,
          null,
          null,
          null,
          null,
          null,
          null,
          null,
          null,
          null,
          null,
          null,
          null,
          null,
          null,
          null,
          null,
          null,
          null,
          null,
          null,
          null,
          null,
          null,
          null,
          null,
          null,
          null,
          null,
          null,
          null,
          null,
          null,
          null,
          null,
          null,
          null,
          null,
          null,
          null,
          null,
          null,
          null,
          null,
          null,
          null,
          null,
          null,
          null,
          null,
          null,
          null,
          null,
          null,
          null,
          null,
          null,
          null,
          null,
          null,
          null,
          null,
          null,
          null,
          null,
          null,
          null,
          null,
          null,
          null,
          null,
          null,
          null,
          null,
          null,
          null,
          null,
          null,
          null,
          null,
          null,
          null,
          null,
          null,
          null,
          null,
          null,
          null,
          null,
          null,
          null,
          null,
          null,
          null,
          null,
          null,
          null,
          null,
          null,
          null,
          null,
          null,
          null,
          null,
          null,
          null,
          null,
          null,
          null,
          null,
          null,
          null,
          null,
          null,
          null,
          null,
          null,
          null,
          null,
          null,
          null,
          null,
          null,
          null,
          null,
          null,
          null,
          null,
          null,
          null,
          null,
          null,
          null,
          null,
          null,
          null,
          null,
          null,
          null,
          null,
          null,
          null,
          null,
          null,
          null,
          null,
          null,
          null,
          null,
          null,
          null,
          null,
          null,
          null,
          null,
          null,
          null,
          null,
          null,
          null,
          null,
          null,
          null,
          null,
          null,
          null,
          null,
          null,
          null,
          null,
          null,
          null,
          null,
          null,
          null,
          null,
          null,
          null,
          null,
          null,
          null,
          null,
          null,
          null,
          null,
          null,
          null,
          null,
          null,
          null,
          null,
          null,
          null,
          null,
          null,
          null,
          null,
          null,
          null,
          null
         ]
        }
       ],
       "layout": {
        "height": 500,
        "template": {
         "data": {
          "bar": [
           {
            "error_x": {
             "color": "#2a3f5f"
            },
            "error_y": {
             "color": "#2a3f5f"
            },
            "marker": {
             "line": {
              "color": "#E5ECF6",
              "width": 0.5
             },
             "pattern": {
              "fillmode": "overlay",
              "size": 10,
              "solidity": 0.2
             }
            },
            "type": "bar"
           }
          ],
          "barpolar": [
           {
            "marker": {
             "line": {
              "color": "#E5ECF6",
              "width": 0.5
             },
             "pattern": {
              "fillmode": "overlay",
              "size": 10,
              "solidity": 0.2
             }
            },
            "type": "barpolar"
           }
          ],
          "carpet": [
           {
            "aaxis": {
             "endlinecolor": "#2a3f5f",
             "gridcolor": "white",
             "linecolor": "white",
             "minorgridcolor": "white",
             "startlinecolor": "#2a3f5f"
            },
            "baxis": {
             "endlinecolor": "#2a3f5f",
             "gridcolor": "white",
             "linecolor": "white",
             "minorgridcolor": "white",
             "startlinecolor": "#2a3f5f"
            },
            "type": "carpet"
           }
          ],
          "choropleth": [
           {
            "colorbar": {
             "outlinewidth": 0,
             "ticks": ""
            },
            "type": "choropleth"
           }
          ],
          "contour": [
           {
            "colorbar": {
             "outlinewidth": 0,
             "ticks": ""
            },
            "colorscale": [
             [
              0,
              "#0d0887"
             ],
             [
              0.1111111111111111,
              "#46039f"
             ],
             [
              0.2222222222222222,
              "#7201a8"
             ],
             [
              0.3333333333333333,
              "#9c179e"
             ],
             [
              0.4444444444444444,
              "#bd3786"
             ],
             [
              0.5555555555555556,
              "#d8576b"
             ],
             [
              0.6666666666666666,
              "#ed7953"
             ],
             [
              0.7777777777777778,
              "#fb9f3a"
             ],
             [
              0.8888888888888888,
              "#fdca26"
             ],
             [
              1,
              "#f0f921"
             ]
            ],
            "type": "contour"
           }
          ],
          "contourcarpet": [
           {
            "colorbar": {
             "outlinewidth": 0,
             "ticks": ""
            },
            "type": "contourcarpet"
           }
          ],
          "heatmap": [
           {
            "colorbar": {
             "outlinewidth": 0,
             "ticks": ""
            },
            "colorscale": [
             [
              0,
              "#0d0887"
             ],
             [
              0.1111111111111111,
              "#46039f"
             ],
             [
              0.2222222222222222,
              "#7201a8"
             ],
             [
              0.3333333333333333,
              "#9c179e"
             ],
             [
              0.4444444444444444,
              "#bd3786"
             ],
             [
              0.5555555555555556,
              "#d8576b"
             ],
             [
              0.6666666666666666,
              "#ed7953"
             ],
             [
              0.7777777777777778,
              "#fb9f3a"
             ],
             [
              0.8888888888888888,
              "#fdca26"
             ],
             [
              1,
              "#f0f921"
             ]
            ],
            "type": "heatmap"
           }
          ],
          "histogram": [
           {
            "marker": {
             "pattern": {
              "fillmode": "overlay",
              "size": 10,
              "solidity": 0.2
             }
            },
            "type": "histogram"
           }
          ],
          "histogram2d": [
           {
            "colorbar": {
             "outlinewidth": 0,
             "ticks": ""
            },
            "colorscale": [
             [
              0,
              "#0d0887"
             ],
             [
              0.1111111111111111,
              "#46039f"
             ],
             [
              0.2222222222222222,
              "#7201a8"
             ],
             [
              0.3333333333333333,
              "#9c179e"
             ],
             [
              0.4444444444444444,
              "#bd3786"
             ],
             [
              0.5555555555555556,
              "#d8576b"
             ],
             [
              0.6666666666666666,
              "#ed7953"
             ],
             [
              0.7777777777777778,
              "#fb9f3a"
             ],
             [
              0.8888888888888888,
              "#fdca26"
             ],
             [
              1,
              "#f0f921"
             ]
            ],
            "type": "histogram2d"
           }
          ],
          "histogram2dcontour": [
           {
            "colorbar": {
             "outlinewidth": 0,
             "ticks": ""
            },
            "colorscale": [
             [
              0,
              "#0d0887"
             ],
             [
              0.1111111111111111,
              "#46039f"
             ],
             [
              0.2222222222222222,
              "#7201a8"
             ],
             [
              0.3333333333333333,
              "#9c179e"
             ],
             [
              0.4444444444444444,
              "#bd3786"
             ],
             [
              0.5555555555555556,
              "#d8576b"
             ],
             [
              0.6666666666666666,
              "#ed7953"
             ],
             [
              0.7777777777777778,
              "#fb9f3a"
             ],
             [
              0.8888888888888888,
              "#fdca26"
             ],
             [
              1,
              "#f0f921"
             ]
            ],
            "type": "histogram2dcontour"
           }
          ],
          "mesh3d": [
           {
            "colorbar": {
             "outlinewidth": 0,
             "ticks": ""
            },
            "type": "mesh3d"
           }
          ],
          "parcoords": [
           {
            "line": {
             "colorbar": {
              "outlinewidth": 0,
              "ticks": ""
             }
            },
            "type": "parcoords"
           }
          ],
          "pie": [
           {
            "automargin": true,
            "type": "pie"
           }
          ],
          "scatter": [
           {
            "fillpattern": {
             "fillmode": "overlay",
             "size": 10,
             "solidity": 0.2
            },
            "type": "scatter"
           }
          ],
          "scatter3d": [
           {
            "line": {
             "colorbar": {
              "outlinewidth": 0,
              "ticks": ""
             }
            },
            "marker": {
             "colorbar": {
              "outlinewidth": 0,
              "ticks": ""
             }
            },
            "type": "scatter3d"
           }
          ],
          "scattercarpet": [
           {
            "marker": {
             "colorbar": {
              "outlinewidth": 0,
              "ticks": ""
             }
            },
            "type": "scattercarpet"
           }
          ],
          "scattergeo": [
           {
            "marker": {
             "colorbar": {
              "outlinewidth": 0,
              "ticks": ""
             }
            },
            "type": "scattergeo"
           }
          ],
          "scattergl": [
           {
            "marker": {
             "colorbar": {
              "outlinewidth": 0,
              "ticks": ""
             }
            },
            "type": "scattergl"
           }
          ],
          "scattermap": [
           {
            "marker": {
             "colorbar": {
              "outlinewidth": 0,
              "ticks": ""
             }
            },
            "type": "scattermap"
           }
          ],
          "scattermapbox": [
           {
            "marker": {
             "colorbar": {
              "outlinewidth": 0,
              "ticks": ""
             }
            },
            "type": "scattermapbox"
           }
          ],
          "scatterpolar": [
           {
            "marker": {
             "colorbar": {
              "outlinewidth": 0,
              "ticks": ""
             }
            },
            "type": "scatterpolar"
           }
          ],
          "scatterpolargl": [
           {
            "marker": {
             "colorbar": {
              "outlinewidth": 0,
              "ticks": ""
             }
            },
            "type": "scatterpolargl"
           }
          ],
          "scatterternary": [
           {
            "marker": {
             "colorbar": {
              "outlinewidth": 0,
              "ticks": ""
             }
            },
            "type": "scatterternary"
           }
          ],
          "surface": [
           {
            "colorbar": {
             "outlinewidth": 0,
             "ticks": ""
            },
            "colorscale": [
             [
              0,
              "#0d0887"
             ],
             [
              0.1111111111111111,
              "#46039f"
             ],
             [
              0.2222222222222222,
              "#7201a8"
             ],
             [
              0.3333333333333333,
              "#9c179e"
             ],
             [
              0.4444444444444444,
              "#bd3786"
             ],
             [
              0.5555555555555556,
              "#d8576b"
             ],
             [
              0.6666666666666666,
              "#ed7953"
             ],
             [
              0.7777777777777778,
              "#fb9f3a"
             ],
             [
              0.8888888888888888,
              "#fdca26"
             ],
             [
              1,
              "#f0f921"
             ]
            ],
            "type": "surface"
           }
          ],
          "table": [
           {
            "cells": {
             "fill": {
              "color": "#EBF0F8"
             },
             "line": {
              "color": "white"
             }
            },
            "header": {
             "fill": {
              "color": "#C8D4E3"
             },
             "line": {
              "color": "white"
             }
            },
            "type": "table"
           }
          ]
         },
         "layout": {
          "annotationdefaults": {
           "arrowcolor": "#2a3f5f",
           "arrowhead": 0,
           "arrowwidth": 1
          },
          "autotypenumbers": "strict",
          "coloraxis": {
           "colorbar": {
            "outlinewidth": 0,
            "ticks": ""
           }
          },
          "colorscale": {
           "diverging": [
            [
             0,
             "#8e0152"
            ],
            [
             0.1,
             "#c51b7d"
            ],
            [
             0.2,
             "#de77ae"
            ],
            [
             0.3,
             "#f1b6da"
            ],
            [
             0.4,
             "#fde0ef"
            ],
            [
             0.5,
             "#f7f7f7"
            ],
            [
             0.6,
             "#e6f5d0"
            ],
            [
             0.7,
             "#b8e186"
            ],
            [
             0.8,
             "#7fbc41"
            ],
            [
             0.9,
             "#4d9221"
            ],
            [
             1,
             "#276419"
            ]
           ],
           "sequential": [
            [
             0,
             "#0d0887"
            ],
            [
             0.1111111111111111,
             "#46039f"
            ],
            [
             0.2222222222222222,
             "#7201a8"
            ],
            [
             0.3333333333333333,
             "#9c179e"
            ],
            [
             0.4444444444444444,
             "#bd3786"
            ],
            [
             0.5555555555555556,
             "#d8576b"
            ],
            [
             0.6666666666666666,
             "#ed7953"
            ],
            [
             0.7777777777777778,
             "#fb9f3a"
            ],
            [
             0.8888888888888888,
             "#fdca26"
            ],
            [
             1,
             "#f0f921"
            ]
           ],
           "sequentialminus": [
            [
             0,
             "#0d0887"
            ],
            [
             0.1111111111111111,
             "#46039f"
            ],
            [
             0.2222222222222222,
             "#7201a8"
            ],
            [
             0.3333333333333333,
             "#9c179e"
            ],
            [
             0.4444444444444444,
             "#bd3786"
            ],
            [
             0.5555555555555556,
             "#d8576b"
            ],
            [
             0.6666666666666666,
             "#ed7953"
            ],
            [
             0.7777777777777778,
             "#fb9f3a"
            ],
            [
             0.8888888888888888,
             "#fdca26"
            ],
            [
             1,
             "#f0f921"
            ]
           ]
          },
          "colorway": [
           "#636efa",
           "#EF553B",
           "#00cc96",
           "#ab63fa",
           "#FFA15A",
           "#19d3f3",
           "#FF6692",
           "#B6E880",
           "#FF97FF",
           "#FECB52"
          ],
          "font": {
           "color": "#2a3f5f"
          },
          "geo": {
           "bgcolor": "white",
           "lakecolor": "white",
           "landcolor": "#E5ECF6",
           "showlakes": true,
           "showland": true,
           "subunitcolor": "white"
          },
          "hoverlabel": {
           "align": "left"
          },
          "hovermode": "closest",
          "mapbox": {
           "style": "light"
          },
          "paper_bgcolor": "white",
          "plot_bgcolor": "#E5ECF6",
          "polar": {
           "angularaxis": {
            "gridcolor": "white",
            "linecolor": "white",
            "ticks": ""
           },
           "bgcolor": "#E5ECF6",
           "radialaxis": {
            "gridcolor": "white",
            "linecolor": "white",
            "ticks": ""
           }
          },
          "scene": {
           "xaxis": {
            "backgroundcolor": "#E5ECF6",
            "gridcolor": "white",
            "gridwidth": 2,
            "linecolor": "white",
            "showbackground": true,
            "ticks": "",
            "zerolinecolor": "white"
           },
           "yaxis": {
            "backgroundcolor": "#E5ECF6",
            "gridcolor": "white",
            "gridwidth": 2,
            "linecolor": "white",
            "showbackground": true,
            "ticks": "",
            "zerolinecolor": "white"
           },
           "zaxis": {
            "backgroundcolor": "#E5ECF6",
            "gridcolor": "white",
            "gridwidth": 2,
            "linecolor": "white",
            "showbackground": true,
            "ticks": "",
            "zerolinecolor": "white"
           }
          },
          "shapedefaults": {
           "line": {
            "color": "#2a3f5f"
           }
          },
          "ternary": {
           "aaxis": {
            "gridcolor": "white",
            "linecolor": "white",
            "ticks": ""
           },
           "baxis": {
            "gridcolor": "white",
            "linecolor": "white",
            "ticks": ""
           },
           "bgcolor": "#E5ECF6",
           "caxis": {
            "gridcolor": "white",
            "linecolor": "white",
            "ticks": ""
           }
          },
          "title": {
           "x": 0.05
          },
          "xaxis": {
           "automargin": true,
           "gridcolor": "white",
           "linecolor": "white",
           "ticks": "",
           "title": {
            "standoff": 15
           },
           "zerolinecolor": "white",
           "zerolinewidth": 2
          },
          "yaxis": {
           "automargin": true,
           "gridcolor": "white",
           "linecolor": "white",
           "ticks": "",
           "title": {
            "standoff": 15
           },
           "zerolinecolor": "white",
           "zerolinewidth": 2
          }
         }
        },
        "title": {
         "text": "Comparison for damping_rate"
        },
        "width": 900,
        "xaxis": {
         "title": {
          "text": "Sample Duration (s)"
         },
         "type": "log"
        },
        "yaxis": {
         "title": {
          "text": "Uncertainty"
         },
         "type": "log"
        }
       }
      }
     },
     "metadata": {},
     "output_type": "display_data"
    },
    {
     "data": {
      "application/vnd.plotly.v1+json": {
       "config": {
        "plotlyServerURL": "https://plot.ly"
       },
       "data": [
        {
         "mode": "lines+markers",
         "name": "RMSE phase",
         "type": "scatter",
         "x": {
          "bdata": "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",
          "dtype": "f8"
         },
         "y": [
          0.0012231086892855723,
          0.0012179867770049104,
          0.0012152714777794095,
          0.0012128458557490152,
          0.0012111790577105175,
          0.001210928420291616,
          0.0012106670051246573,
          0.0012103779853259444,
          0.001210056553482334,
          0.0012096852272948766,
          0.001209272243899058,
          0.0012088015848276891,
          0.0012082862604241146,
          0.0012076997662306729,
          0.0012070479126254014,
          0.0012063320114397186,
          0.0012620484473772117,
          0.0012609465847629622,
          0.0012597518156595257,
          0.001258459641035327,
          0.0012570426253644374,
          0.0012555339672656513,
          0.0012538517976798222,
          0.0012520582057858976,
          0.001250112575581705,
          0.001307698091743549,
          0.0013049453665514926,
          0.0012432158262533314,
          0.001298950026401674,
          0.0012956475835538457,
          0.001234437369946656,
          0.0012883177045546462,
          0.001284254700595707,
          0.001279886298899315,
          0.0012751753069997298,
          0.0012700930315594256,
          0.0011369279723059582,
          0.0011324091634461592,
          0.0011274707440506089,
          0.0012453268701341843,
          0.0011838804264926864,
          0.0011097521041958343,
          0.0011678918879054214,
          0.001211228129789111,
          0.0011490953095202683,
          0.001077525720627235,
          0.001067527290317849,
          0.0010566100139666177,
          0.0011010591654004912,
          0.0010316579984118882,
          0.001017452695742502,
          0.0010435532493060977,
          0.000985187930477296,
          0.0010093489950360214,
          0.0009475538184149461,
          0.0009713519797164529,
          0.000951721644873532,
          0.0009325759664990212,
          0.0009196959499718643,
          0.0009006723159890389,
          0.0009218231472812107,
          0.0009210040177770404,
          0.0008927507795670846,
          0.0009455965612221909,
          0.0009647996149363845,
          0.000900563377874675,
          0.0009336042843141506,
          0.0009315701822298011,
          0.0009016274483535328,
          0.0009065575999114714,
          0.0008725903408112192,
          0.0008656813540264882,
          0.0008726467915456897,
          0.0008884348427563475,
          0.000896425709075536,
          0.0009236914347211918,
          0.0009179269004808932,
          0.000896627610120311,
          0.0008775626713346001,
          0.0008990203766660257,
          0.000875396332028751,
          0.0008848197332870841,
          0.0008800316892942422,
          0.000867007408053487,
          0.0008520928187601537,
          0.000838863768052633,
          0.0009521701110086437,
          0.0008860535917176667,
          0.0009071276662965318,
          0.0008930922669056153,
          0.0009006581536449603,
          0.0009286184308525578,
          0.0008547484654606897,
          0.0008929845764381717,
          0.0009184442814156704,
          0.0008721410192604032,
          0.0009346769082050479,
          0.0009425743199866024,
          0.0009531877125810493,
          0.0009616572208354578,
          0.0009691024610607097,
          0.0009635538542957976,
          0.0008868798486067203,
          0.000860618805354062,
          0.0009596154439070524,
          0.0009268813223850064,
          0.0009465873863332851,
          0.0009125590941398972,
          0.0009423492586308373,
          0.0009412360896091796,
          0.0009738836178635734,
          0.0009434848944798687,
          0.0008622782833590909,
          0.0008594269151604571,
          0.0009492603099956032,
          0.0009219667819924577,
          0.0009004682776769366,
          0.0009382898817405863,
          0.0009417896242948997,
          0.0008721994098824535,
          0.0008720187585436195,
          0.0009308694692562475,
          0.0009596701728094045,
          0.0009392619005561166,
          0.0008653983842661469,
          0.0008919872186500845,
          0.0008932750522360312,
          0.0009538705663064566,
          0.0010116303425210115,
          0.0009457700437521566,
          0.0009550706900987204,
          0.0008820940343713751,
          0.0009842918095140866,
          0.0009508077454628191,
          0.0009318487776983505,
          0.0009025679139596477,
          0.000950500973394045,
          0.0009515638661596365,
          0.0009392053017611086,
          0.0009250721781007904,
          0.0008752630634545645,
          0.0009833933174225326,
          0.000986435756148401,
          0.0009562902670693678,
          0.0009401984499686813,
          0.0009933994513227102,
          0.001022288583065303,
          0.0009054514487558877,
          0.0009456091820296248,
          0.000996898474604877,
          0.0010377684676662557,
          0.0010363769942051155,
          0.000997984236514102,
          0.0009733771841465256,
          0.0010518603323059802,
          0.0009853117715661653,
          0.0009048045325111001,
          0.000961243744999829,
          0.000999774418693989,
          0.000944784729396289,
          0.001011853488902817,
          0.0009307035831728322,
          0.001061527678446594,
          0.0010289275779185928,
          0.0010702048839795228,
          0.0009942157086286786,
          0.0010463259961157143,
          0.001084473621831616,
          0.0011179398280553566,
          0.0010880030083019617,
          0.000985590405053478,
          0.001113215006473764,
          0.0011226436961536753,
          0.0010651700475988758,
          0.0011126729360889747,
          0.0010686389623250695,
          0.0011172360983006861,
          0.0011849054679566313,
          0.001171081108232997,
          0.0011110646500802654,
          0.0011086509829902566,
          0.0010747138818900503,
          0.001135830483465756,
          0.0011375626471721635,
          0.0011049058982519262,
          0.0011491192804617438,
          0.0011880362801182864,
          0.0010845232185146601,
          0.0010987438629203436,
          0.0011865788019311727,
          0.0012109800182380302,
          0.0012962623119884913,
          0.0011590185786084226,
          0.0012702861493894201,
          0.0012769542006954408,
          0.0013142834896429881,
          0.0013496775781350805,
          0.001250470624173886,
          0.0013186207689183367,
          0.0013782993224822108,
          0.0014572548981498577,
          0.0013328655810186652,
          0.0014569733900208644,
          0.0015285359620545345,
          0.0015524449672821806,
          0.00152013743885112,
          0.0015193459785883966,
          0.001641960757397724,
          0.0015652025956238355,
          0.0016016430465824035,
          0.0016440885502677052,
          0.0016140350431719315,
          0.0017129862576721886,
          0.0017248493504752017,
          0.0016418699103637935,
          0.0017976941847052245,
          0.001851213721227545,
          0.0018871036225712656,
          0.0018072329348172314,
          0.0018777104828921797,
          0.002124786714808121,
          0.0020065281967042766,
          0.0019464225754735444,
          0.0019545700312813157,
          0.002086340818027452,
          0.0020315147709382077,
          0.002061296417653588,
          0.0020661817894700287,
          0.0019796807367816432,
          0.002204078985403656,
          0.002305256601619609,
          0.002424362363282808,
          0.002411143851372613,
          0.0023917670877891773,
          0.002265929477285496,
          0.0025442113821290075,
          0.0025985926170997656,
          0.0027761015374619612,
          0.002661948173518841,
          0.002743136742249403,
          0.00267149776481465,
          0.003010206621896214,
          0.0028569413255448307,
          0.002905414816004718,
          0.0030977997444064363,
          0.002956757502023324,
          0.0030585195278646313,
          0.003153748311397491,
          0.0032719781511965427,
          0.0033648064646453623,
          0.0033572367162745123,
          0.0035082100503926327,
          0.0036471037066797846,
          0.0034424598979608777,
          0.003667547376603424,
          0.003740298426849268,
          0.003766692627643146,
          0.003732064834823239,
          0.004163879745718553,
          0.00399763320195306,
          0.004028017903323242,
          0.004049974601300527,
          0.004021926662087488,
          0.004274438742017252,
          0.004357682306719686,
          0.004361375831813098,
          0.004670882110524917,
          0.00471469508451751,
          0.004947350449265874,
          0.004639066264747729,
          0.004827622833833488,
          0.004775238058981065,
          0.005165754279936526,
          0.00497560352765289,
          0.004926507949894746,
          0.005398257528086322,
          0.005087165327967997,
          0.005040118698851959,
          0.005440528258598933,
          0.0058358971605934175,
          0.006017086893305502,
          0.00576648320532726,
          0.00610549822071843,
          0.0057933361649163875,
          0.006067356352677592,
          0.00600618598411662,
          0.00597945102235014,
          0.006369724802148517,
          0.006055363908794942,
          0.0065665354697906535,
          0.006465981061338062,
          0.0067165399880766245,
          0.007008349029014725,
          0.00679550679810237,
          0.0070607214802756715,
          0.007274656301035991,
          0.00711931330646516,
          0.0071739137583712725,
          0.007804825988333535,
          0.007635776308394339
         ]
        },
        {
         "line": {
          "dash": "dot"
         },
         "mode": "lines+markers",
         "name": "stderr phase",
         "type": "scatter",
         "x": {
          "bdata": "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",
          "dtype": "f8"
         },
         "y": [
          0.0012361759971673976,
          0.0012338998121018603,
          0.0012355609082372058,
          0.0012380500175409258,
          0.0012393905241987946,
          0.0012402429341289258,
          0.0012415700902995922,
          0.0012428811978714956,
          0.0012439634949261667,
          0.0012447951766044482,
          0.0012453611993817348,
          0.0012456916528613992,
          0.0012458116107634878,
          0.0012457402767245855,
          0.0012454920146011753,
          0.001245031107449394,
          0.0012416018325355149,
          0.0012411708954140602,
          0.0012405672381043664,
          0.0012398009034828832,
          0.0012388703503467388,
          0.001237777927783545,
          0.0012365204978398085,
          0.0012350774632624822,
          0.001233489030035645,
          0.001236733221843629,
          0.001234284476334661,
          0.001227542483428922,
          0.001228910527210626,
          0.0012259493897432334,
          0.001219651741302953,
          0.0012193760597994658,
          0.0012157199633007487,
          0.0012117847626210842,
          0.0012075430273005743,
          0.001202966264393293,
          0.001194087280673618,
          0.0011888857536097547,
          0.001183234003420421,
          0.0011806318432702582,
          0.0011724632458544409,
          0.0011631562302552528,
          0.0011572935947087972,
          0.001149825180380427,
          0.001139353170127902,
          0.001127198899477299,
          0.0011161560873040755,
          0.0011041461352751464,
          0.0010930182724214251,
          0.0010769106815969843,
          0.0010615350277793513,
          0.0010460122817978147,
          0.001026997927497408,
          0.001008871495178289,
          0.0009875496277914576,
          0.0009673691324888861,
          0.0009458465197737709,
          0.0009248335270978063,
          0.0009063862087242743,
          0.0008900738805591616,
          0.0008815062663810877,
          0.0008795060202513787,
          0.0008849034211851112,
          0.0008999573900252196,
          0.0009171241362466314,
          0.0009317337551848594,
          0.000939123021842449,
          0.0009377236471362412,
          0.000927870638264304,
          0.0009103955451382348,
          0.0008939931183393849,
          0.0008831200034798768,
          0.0008831584709985067,
          0.0008963451181018655,
          0.0009114822567576431,
          0.0009224905618137215,
          0.0009191410451654145,
          0.0009065161780991232,
          0.0008905697121784571,
          0.000886013036857152,
          0.0008964244462089869,
          0.0009125780462598273,
          0.0009163426063827507,
          0.0009046426738972522,
          0.0008890065874525764,
          0.0008911407875116497,
          0.0009057280371547623,
          0.0009135953903398001,
          0.0009022658292915185,
          0.0008899310549043732,
          0.0008994931129861568,
          0.0009127289675213893,
          0.0009030030766180175,
          0.0008920071998703601,
          0.0009031047985338029,
          0.0009098919257136053,
          0.0008967365702307265,
          0.0008998873673798317,
          0.0009107141688188602,
          0.0008997453184282952,
          0.0009019715971609175,
          0.0009113136203783336,
          0.0008974963414949573,
          0.0009083367881028279,
          0.0009053173247824874,
          0.000904315832722757,
          0.0009096390641624025,
          0.0009029119196584314,
          0.0009115191201157996,
          0.0009039732877821152,
          0.0009119210577701231,
          0.000906653402906561,
          0.0009099116285511893,
          0.0009111297605747384,
          0.0009060238506755397,
          0.0009146439530171176,
          0.0009103256815115946,
          0.0009105422040191397,
          0.0009162020609723017,
          0.0009156127777312221,
          0.0009119112527601224,
          0.0009140815278651871,
          0.0009179854848991469,
          0.0009197826806197084,
          0.0009237710561733725,
          0.0009217054968333238,
          0.0009238525575615514,
          0.000923627193479518,
          0.0009261612486358641,
          0.0009274469399257779,
          0.0009273737378500946,
          0.0009252752008975698,
          0.0009255568342154494,
          0.0009316119655855776,
          0.0009315309904452111,
          0.0009292898615674888,
          0.0009353260996509402,
          0.0009336186966404029,
          0.0009385522379653144,
          0.0009377391083329641,
          0.0009406360358835673,
          0.0009439254960834752,
          0.00094472639678151,
          0.000945983998343108,
          0.0009479905327201779,
          0.0009498814668425241,
          0.0009533762405232463,
          0.000956728802809479,
          0.0009590375285129656,
          0.0009616382347861954,
          0.0009673099921136737,
          0.0009681722122230255,
          0.0009697158944652879,
          0.0009760271501035706,
          0.0009784829823777138,
          0.0009790444464783865,
          0.0009845195641683079,
          0.0009894504459430744,
          0.0009919296107020988,
          0.000995868606871249,
          0.0009996711621269284,
          0.0010017780823059618,
          0.0010081262402552387,
          0.0010103473210609341,
          0.0010177916465261287,
          0.0010197987991010951,
          0.001025219666916239,
          0.0010340453788940734,
          0.0010355272379804147,
          0.0010411575451345272,
          0.0010476271860080492,
          0.0010535630726904372,
          0.0010638275981315933,
          0.001066735018481723,
          0.0010735494621279401,
          0.001080377850609649,
          0.0010892631028134952,
          0.0010999058357180154,
          0.001104015265748956,
          0.001114002241616397,
          0.0011251054961087708,
          0.0011340311119306175,
          0.001144061866176505,
          0.0011514271325487758,
          0.001161084415006003,
          0.0011750868711422771,
          0.0011830623932902972,
          0.0011959851648417857,
          0.0012071197132559185,
          0.0012197487406264387,
          0.0012362609601893736,
          0.001247285895905332,
          0.0012645740080675135,
          0.001277000259208029,
          0.0012959782717360147,
          0.0013079321531253736,
          0.0013247634025818503,
          0.0013468759516032033,
          0.001363747617188497,
          0.0013840507517160331,
          0.0014022585484496437,
          0.0014196698195908975,
          0.00144426253676634,
          0.001466090601306215,
          0.0014886933631357096,
          0.001513565482691684,
          0.001533716367845836,
          0.0015653087473005704,
          0.0015862734057062351,
          0.0016146367679072571,
          0.0016422099435103648,
          0.0016721098038189157,
          0.0017027883633347245,
          0.0017347487425399674,
          0.001766181593318344,
          0.0018005331117833994,
          0.0018338100727451575,
          0.0018691414878121374,
          0.0019068470869185272,
          0.0019440175823472808,
          0.001981901203241981,
          0.0020245323535269697,
          0.0020089411575827266,
          0.0020505464876957747,
          0.002084434302390098,
          0.002130178398089662,
          0.002164843338096059,
          0.002205331603033606,
          0.0022535705923944077,
          0.002289531159348358,
          0.002333215070195696,
          0.0023763934963164017,
          0.002426587459534266,
          0.002473941793385008,
          0.0025202875330058204,
          0.002560273869400391,
          0.002609639095326296,
          0.002663001156885498,
          0.002665922612166111,
          0.002716055875551155,
          0.0028471602617882196,
          0.002867555018302447,
          0.0029147879716127727,
          0.002970374749904091,
          0.0030314416511675723,
          0.0030954955231778593,
          0.0031384989455119374,
          0.003196322135836251,
          0.0032534041661533776,
          0.0033201999339117663,
          0.0033796774989192256,
          0.0034343554209003385,
          0.003498670562835188,
          0.003578585379030607,
          0.0036259684864546316,
          0.003699029924637143,
          0.003733517253220438,
          0.0037940925557241392,
          0.003918087770194186,
          0.0039655487233206475,
          0.004032836104056508,
          0.0041143600057091615,
          0.004198880966525831,
          0.004250043725700342,
          0.00432660128953736,
          0.004421836988546502,
          0.004477594239551092,
          0.004547883276476811,
          0.0046603763272657795,
          0.004734339228381373,
          0.004803156566632727,
          0.004897766154256574,
          0.004955410808473026,
          0.005037007430586637,
          0.00510439705684071,
          0.005191757910911114,
          0.005318025110489514,
          0.005407296786946847,
          0.005476938913263492,
          0.005564042359945196,
          0.0056203056172949815,
          0.005780676045543208,
          0.005855715013369985,
          0.005915601660296994,
          0.006020006314480523,
          0.0060906152544881395,
          0.006208388881858961,
          0.0063289728582748405,
          0.006385657301177725,
          0.006463738869786864,
          0.006607337629912372,
          0.006672677387776229,
          0.006739591517112495,
          0.006841728189016273,
          0.006959099071379141,
          0.007023191952402618,
          0.0071505617129118005,
          0.0072513306040177085,
          0.007310676813822994,
          0.007434037694512014
         ]
        },
        {
         "line": {
          "dash": "dash"
         },
         "mode": "lines",
         "name": "theory phase",
         "type": "scatter",
         "x": {
          "bdata": "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",
          "dtype": "f8"
         },
         "y": [
          0.0008945793081586014,
          0.0008947215289161835,
          0.0008947454850404331,
          0.0008946812462793698,
          0.0008947402798128351,
          0.0008947269590514296,
          0.0008947288516459625,
          0.0008947241982374856,
          0.0008947139438681593,
          0.0008947362609391088,
          0.0008947706343033573,
          0.0008947713174818995,
          0.0008947621253429307,
          0.000894802121021959,
          0.0008948106420116134,
          0.0008948296384679974,
          0.0008948383622816179,
          0.0008948604303329135,
          0.0008948694820821227,
          0.0008948947900272366,
          0.0008949103913649053,
          0.0008949306941059329,
          0.0008949526471028052,
          0.0008949705248892375,
          0.0008949901081104363,
          0.000895013240388642,
          0.000895036267885804,
          0.0008950591142714908,
          0.0008950839809273195,
          0.0008951094821380565,
          0.0008951373128582081,
          0.0008951653817719916,
          0.0008951940713686664,
          0.0008952236712415949,
          0.0008952547535018902,
          0.0008952879892215983,
          0.0008953213667719307,
          0.0008953565521505345,
          0.0008953932150833463,
          0.0008954310105662043,
          0.0008954707083999309,
          0.000895511695624434,
          0.0008955541647113803,
          0.0008955982513537151,
          0.0008956442583423462,
          0.0008956919779358396,
          0.0008957417034919626,
          0.0008957932803371835,
          0.0008958469583941429,
          0.0008959027116777003,
          0.0008959605806615892,
          0.0008960207756575278,
          0.0008960833512113607,
          0.0008961483784739998,
          0.0008962159762487379,
          0.0008962862028299336,
          0.0008963591786159574,
          0.0008964350358502076,
          0.0008965138922274719,
          0.000896595823557224,
          0.0008966809575720591,
          0.0008967694510724205,
          0.000896861421889399,
          0.0008969570000134954,
          0.0008970563223802654,
          0.0008971595565518209,
          0.000897266842319563,
          0.0008973783427651772,
          0.0008974942180913951,
          0.0008976146465251944,
          0.0008977398079716931,
          0.0008978698837730052,
          0.0008980050676038211,
          0.0008981455627108543,
          0.0008982915773078595,
          0.0008984433250031507,
          0.0008986010350793638,
          0.0008987649403582979,
          0.0008989352842305145,
          0.0008991123205669222,
          0.0008992963121782475,
          0.0008994875316094864,
          0.0008996862636052643,
          0.0008998928044049295,
          0.0009001074598441075,
          0.0009003305500392915,
          0.0009005624062422529,
          0.000900803373527091,
          0.0009010538099874135,
          0.0009013140884582484,
          0.0009015845956924753,
          0.0009018657346161887,
          0.0009021579234192695,
          0.000902461596854936,
          0.0009027772071998269,
          0.0009031052240102262,
          0.0009034461357697216,
          0.0009038004501997201,
          0.0009041686949637226,
          0.0009045514186951569,
          0.0009049491915011841,
          0.0009053626062341995,
          0.0009057922790208967,
          0.0009062388504754715,
          0.0009067029864041477,
          0.0009071853790452221,
          0.0009076867480130859,
          0.0009082078413514453,
          0.0009087494367902267,
          0.0009093123428185419,
          0.0009098973999524455,
          0.0009105054820270784,
          0.0009111374975167145,
          0.0009117943909250951,
          0.0009124771442248165,
          0.0009131867783641861,
          0.0009139243548239067,
          0.0009146909772591821,
          0.0009154877931666708,
          0.0009163159956823488,
          0.0009171768253893563,
          0.000918071572247985,
          0.0009190015775769171,
          0.0009199682361307212,
          0.0009209729982607874,
          0.0009220173721567408,
          0.000923102926199762,
          0.0009242312913918529,
          0.0009254041639075757,
          0.0009266233077363254,
          0.000927890557444197,
          0.0009292078210506306,
          0.0009305770830259148,
          0.0009320004074137173,
          0.0009334799410904236,
          0.0009350179171601697,
          0.0009366166584945162,
          0.000938278581425912,
          0.0009400061995989812,
          0.0009418021279883853,
          0.0009436690870894161,
          0.0009456099072936788,
          0.0009476275334531831,
          0.0009497250296468819,
          0.0009519055841559733,
          0.0009541725146607448,
          0.0009565292736684961,
          0.0009589794541845336,
          0.0009615267956389758,
          0.0009641751900820015,
          0.0009669286886614695,
          0.0009697915083981986,
          0.000972768039273965,
          0.0009758628516496447,
          0.0009790807040307257,
          0.0009824265511995816,
          0.000985905552734634,
          0.0009895230819377701,
          0.0009932847351930534,
          0.0009971963417809498,
          0.0010012639741739443,
          0.0010054939588408135,
          0.0010098928875884414,
          0.001014467629471626,
          0.0010192253433027195,
          0.0010241734907943632,
          0.0010293198503697224,
          0.0010346725316755562,
          0.0010402399908338825,
          0.0010460310464679235,
          0.0010520548965371698,
          0.0010583211360144236,
          0.0010648397754344995,
          0.0010716212603391858,
          0.001078676491635822,
          0.0010860168468768121,
          0.0010936542024536538,
          0.001101600956681115,
          0.0011098700537235569,
          0.0011184750082853063,
          0.0011274299309486666,
          0.0011367495539952148,
          0.001146449257486515,
          0.0011565450953073386,
          0.0011670538207856564,
          0.0011779929113969077,
          0.001189380591933001,
          0.0012012358553673199,
          0.001213578480474061,
          0.001226429045062998,
          0.0012398089334698969,
          0.0012537403367011703,
          0.0012682462433744662,
          0.0012833504193343304,
          0.0012990773735682684,
          0.001315452307824258,
          0.0013325010471643283,
          0.0013502499486169807,
          0.0013687257851600749,
          0.0013879556025299157,
          0.001407966546873585,
          0.0014287856621049031,
          0.0014504396570515822,
          0.00147295464414064,
          0.0014963558534834,
          0.00152066732876977,
          0.0015459116142827402,
          0.001572109445438395,
          0.0015992794582939702,
          0.0016274379361036443,
          0.0016565986128181753,
          0.0016867725539579162,
          0.0017179681340971302,
          0.0017501911269413944,
          0.0017834449185179402,
          0.001817730846476196,
          0.0018530486594035766,
          0.0018893970802398533,
          0.0019267744484421647,
          0.0019651794077648562,
          0.0020046116015538457,
          0.00204507233619474,
          0.00203258776926079,
          0.0020716832278664097,
          0.002111634358792706,
          0.002152439817984471,
          0.0021941004804820257,
          0.002236619504760988,
          0.002280002306242542,
          0.002324256455360214,
          0.002369391519031712,
          0.0024154188655674882,
          0.0024623514521605163,
          0.002510203611591929,
          0.002558990851234032,
          0.002608729673439627,
          0.0026594374225095813,
          0.002711132160034124,
          0.0027208723145181147,
          0.0027720843416483222,
          0.0028973354253297202,
          0.0029281625576515883,
          0.002985082752519288,
          0.003043109455351263,
          0.0031022641548590813,
          0.0031625687672898095,
          0.0032240456402536184,
          0.0032867175585669086,
          0.003350607751365136,
          0.0034157399000140885,
          0.003482138146536064,
          0.0035498271023889486,
          0.0036188318575105863,
          0.003689177989584283,
          0.0037608915735050535,
          0.003833999191038886,
          0.003871735924707683,
          0.003945547388768518,
          0.0040901763421897774,
          0.004140919930174796,
          0.004221414883187443,
          0.004303474570020054,
          0.004387129407386171,
          0.0044724104032669645,
          0.004559349168404848,
          0.00464797792802047,
          0.004738329533757515,
          0.004797238491128275,
          0.004951208434221916,
          0.00504853908356565,
          0.005117644064175294,
          0.0052171254657545395,
          0.0053185406769415055,
          0.005421927288879251,
          0.0054982376498014345,
          0.005603962917747741,
          0.005770810521585134,
          0.005855965442808505,
          0.005969799004217806,
          0.006085845365519744,
          0.0061771871854782254,
          0.006348845239296193,
          0.006473229866901014,
          0.006573031737968332,
          0.00670080428363937,
          0.006805661251992276,
          0.006987160048138623,
          0.007123920551823559,
          0.00723721957771338,
          0.007354113720389701,
          0.0075435805842761754,
          0.0076911144302760776,
          0.00779472040809708,
          0.007945370411506463,
          0.008145408224123952,
          0.008260651421566862,
          0.0084204050688233,
          0.008627467724157149,
          0.008753688456651062,
          0.008963694890331582
         ]
        },
        {
         "line": {
          "dash": "dash"
         },
         "mode": "lines",
         "name": "theory undamped phase",
         "type": "scatter",
         "x": {
          "bdata": "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",
          "dtype": "f8"
         },
         "y": [
          0.0008944271909999159,
          0.0008944271909999159,
          0.0008944271909999159,
          0.0008944271909999159,
          0.0008944271909999159,
          0.0008944271909999159,
          0.0008944271909999159,
          0.0008944271909999159,
          0.0008944271909999159,
          0.0008944271909999159,
          0.0008944271909999159,
          0.0008944271909999159,
          0.0008944271909999159,
          0.0008944271909999159,
          0.0008944271909999159,
          0.0008944271909999159,
          0.0008944271909999159,
          0.0008944271909999159,
          0.0008944271909999159,
          0.0008944271909999159,
          0.0008944271909999159,
          0.0008944271909999159,
          0.0008944271909999159,
          0.0008944271909999159,
          0.0008944271909999159,
          0.0008944271909999159,
          0.0008944271909999159,
          0.0008944271909999159,
          0.0008944271909999159,
          0.0008944271909999159,
          0.0008944271909999159,
          0.0008944271909999159,
          0.0008944271909999159,
          0.0008944271909999159,
          0.0008944271909999159,
          0.0008944271909999159,
          0.0008944271909999159,
          0.0008944271909999159,
          0.0008944271909999159,
          0.0008944271909999159,
          0.0008944271909999159,
          0.0008944271909999159,
          0.0008944271909999159,
          0.0008944271909999159,
          0.0008944271909999159,
          0.0008944271909999159,
          0.0008944271909999159,
          0.0008944271909999159,
          0.0008944271909999159,
          0.0008944271909999159,
          0.0008944271909999159,
          0.0008944271909999159,
          0.0008944271909999159,
          0.0008944271909999159,
          0.0008944271909999159,
          0.0008944271909999159,
          0.0008944271909999159,
          0.0008944271909999159,
          0.0008944271909999159,
          0.0008944271909999159,
          0.0008944271909999159,
          0.0008944271909999159,
          0.0008944271909999159,
          0.0008944271909999159,
          0.0008944271909999159,
          0.0008944271909999159,
          0.0008944271909999159,
          0.0008944271909999159,
          0.0008944271909999159,
          0.0008944271909999159,
          0.0008944271909999159,
          0.0008944271909999159,
          0.0008944271909999159,
          0.0008944271909999159,
          0.0008944271909999159,
          0.0008944271909999159,
          0.0008944271909999159,
          0.0008944271909999159,
          0.0008944271909999159,
          0.0008944271909999159,
          0.0008944271909999159,
          0.0008944271909999159,
          0.0008944271909999159,
          0.0008944271909999159,
          0.0008944271909999159,
          0.0008944271909999159,
          0.0008944271909999159,
          0.0008944271909999159,
          0.0008944271909999159,
          0.0008944271909999159,
          0.0008944271909999159,
          0.0008944271909999159,
          0.0008944271909999159,
          0.0008944271909999159,
          0.0008944271909999159,
          0.0008944271909999159,
          0.0008944271909999159,
          0.0008944271909999159,
          0.0008944271909999159,
          0.0008944271909999159,
          0.0008944271909999159,
          0.0008944271909999159,
          0.0008944271909999159,
          0.0008944271909999159,
          0.0008944271909999159,
          0.0008944271909999159,
          0.0008944271909999159,
          0.0008944271909999159,
          0.0008944271909999159,
          0.0008944271909999159,
          0.0008944271909999159,
          0.0008944271909999159,
          0.0008944271909999159,
          0.0008944271909999159,
          0.0008944271909999159,
          0.0008944271909999159,
          0.0008944271909999159,
          0.0008944271909999159,
          0.0008944271909999159,
          0.0008944271909999159,
          0.0008944271909999159,
          0.0008944271909999159,
          0.0008944271909999159,
          0.0008944271909999159,
          0.0008944271909999159,
          0.0008944271909999159,
          0.0008944271909999159,
          0.0008944271909999159,
          0.0008944271909999159,
          0.0008944271909999159,
          0.0008944271909999159,
          0.0008944271909999159,
          0.0008944271909999159,
          0.0008944271909999159,
          0.0008944271909999159,
          0.0008944271909999159,
          0.0008944271909999159,
          0.0008944271909999159,
          0.0008944271909999159,
          0.0008944271909999159,
          0.0008944271909999159,
          0.0008944271909999159,
          0.0008944271909999159,
          0.0008944271909999159,
          0.0008944271909999159,
          0.0008944271909999159,
          0.0008944271909999159,
          0.0008944271909999159,
          0.0008944271909999159,
          0.0008944271909999159,
          0.0008944271909999159,
          0.0008944271909999159,
          0.0008944271909999159,
          0.0008944271909999159,
          0.0008944271909999159,
          0.0008944271909999159,
          0.0008944271909999159,
          0.0008944271909999159,
          0.0008944271909999159,
          0.0008944271909999159,
          0.0008944271909999159,
          0.0008944271909999159,
          0.0008944271909999159,
          0.0008944271909999159,
          0.0008944271909999159,
          0.0008944271909999159,
          0.0008944271909999159,
          0.0008944271909999159,
          0.0008944271909999159,
          0.0008944271909999159,
          0.0008944271909999159,
          0.0008944271909999159,
          0.0008944271909999159,
          0.0008944271909999159,
          0.0008944271909999159,
          0.0008944271909999159,
          0.0008944271909999159,
          0.0008944271909999159,
          0.0008944271909999159,
          0.0008944271909999159,
          0.0008944271909999159,
          0.0008944271909999159,
          0.0008944271909999159,
          0.0008944271909999159,
          0.0008944271909999159,
          0.0008944271909999159,
          0.0008944271909999159,
          0.0008944271909999159,
          0.0008944271909999159,
          0.0008944271909999159,
          0.0008944271909999159,
          0.0008944271909999159,
          0.0008944271909999159,
          0.0008944271909999159,
          0.0008944271909999159,
          0.0008944271909999159,
          0.0008944271909999159,
          0.0008944271909999159,
          0.0008944271909999159,
          0.0008944271909999159,
          0.0008944271909999159,
          0.0008944271909999159,
          0.0008944271909999159,
          0.0008944271909999159,
          0.0008944271909999159,
          0.0008944271909999159,
          0.0008944271909999159,
          0.0008944271909999159,
          0.0008944271909999159,
          0.0008944271909999159,
          0.0008944271909999159,
          0.0008944271909999159,
          0.0008944271909999159,
          0.0008944271909999159,
          0.0008944271909999159,
          0.0008944271909999159,
          0.0008944271909999159,
          0.0008944271909999159,
          0.0008944271909999159,
          0.0008944271909999159,
          0.0008944271909999159,
          0.0008944271909999159,
          0.0008944271909999159,
          0.0008944271909999159,
          0.0008944271909999159,
          0.0008944271909999159,
          0.0008944271909999159,
          0.0008944271909999159,
          0.0008944271909999159,
          0.0008944271909999159,
          0.0008944271909999159,
          0.0008944271909999159,
          0.0008944271909999159,
          0.0008944271909999159,
          0.0008944271909999159,
          0.0008944271909999159,
          0.0008944271909999159,
          0.0008944271909999159,
          0.0008944271909999159,
          0.0008944271909999159,
          0.0008944271909999159,
          0.0008944271909999159,
          0.0008944271909999159,
          0.0008944271909999159,
          0.0008944271909999159,
          0.0008944271909999159,
          0.0008944271909999159,
          0.0008944271909999159,
          0.0008944271909999159,
          0.0008944271909999159,
          0.0008944271909999159,
          0.0008944271909999159,
          0.0008944271909999159,
          0.0008944271909999159,
          0.0008944271909999159,
          0.0008944271909999159,
          0.0008944271909999159,
          0.0008944271909999159,
          0.0008944271909999159,
          0.0008944271909999159,
          0.0008944271909999159,
          0.0008944271909999159,
          0.0008944271909999159,
          0.0008944271909999159,
          0.0008944271909999159,
          0.0008944271909999159,
          0.0008944271909999159,
          0.0008944271909999159,
          0.0008944271909999159,
          0.0008944271909999159,
          0.0008944271909999159,
          0.0008944271909999159,
          0.0008944271909999159,
          0.0008944271909999159,
          0.0008944271909999159,
          0.0008944271909999159,
          0.0008944271909999159,
          0.0008944271909999159,
          0.0008944271909999159,
          0.0008944271909999159,
          0.0008944271909999159,
          0.0008944271909999159,
          0.0008944271909999159,
          0.0008944271909999159,
          0.0008944271909999159,
          0.0008944271909999159,
          0.0008944271909999159,
          0.0008944271909999159,
          0.0008944271909999159,
          0.0008944271909999159,
          0.0008944271909999159,
          0.0008944271909999159,
          0.0008944271909999159,
          0.0008944271909999159,
          0.0008944271909999159,
          0.0008944271909999159,
          0.0008944271909999159,
          0.0008944271909999159,
          0.0008944271909999159,
          0.0008944271909999159
         ]
        }
       ],
       "layout": {
        "height": 500,
        "template": {
         "data": {
          "bar": [
           {
            "error_x": {
             "color": "#2a3f5f"
            },
            "error_y": {
             "color": "#2a3f5f"
            },
            "marker": {
             "line": {
              "color": "#E5ECF6",
              "width": 0.5
             },
             "pattern": {
              "fillmode": "overlay",
              "size": 10,
              "solidity": 0.2
             }
            },
            "type": "bar"
           }
          ],
          "barpolar": [
           {
            "marker": {
             "line": {
              "color": "#E5ECF6",
              "width": 0.5
             },
             "pattern": {
              "fillmode": "overlay",
              "size": 10,
              "solidity": 0.2
             }
            },
            "type": "barpolar"
           }
          ],
          "carpet": [
           {
            "aaxis": {
             "endlinecolor": "#2a3f5f",
             "gridcolor": "white",
             "linecolor": "white",
             "minorgridcolor": "white",
             "startlinecolor": "#2a3f5f"
            },
            "baxis": {
             "endlinecolor": "#2a3f5f",
             "gridcolor": "white",
             "linecolor": "white",
             "minorgridcolor": "white",
             "startlinecolor": "#2a3f5f"
            },
            "type": "carpet"
           }
          ],
          "choropleth": [
           {
            "colorbar": {
             "outlinewidth": 0,
             "ticks": ""
            },
            "type": "choropleth"
           }
          ],
          "contour": [
           {
            "colorbar": {
             "outlinewidth": 0,
             "ticks": ""
            },
            "colorscale": [
             [
              0,
              "#0d0887"
             ],
             [
              0.1111111111111111,
              "#46039f"
             ],
             [
              0.2222222222222222,
              "#7201a8"
             ],
             [
              0.3333333333333333,
              "#9c179e"
             ],
             [
              0.4444444444444444,
              "#bd3786"
             ],
             [
              0.5555555555555556,
              "#d8576b"
             ],
             [
              0.6666666666666666,
              "#ed7953"
             ],
             [
              0.7777777777777778,
              "#fb9f3a"
             ],
             [
              0.8888888888888888,
              "#fdca26"
             ],
             [
              1,
              "#f0f921"
             ]
            ],
            "type": "contour"
           }
          ],
          "contourcarpet": [
           {
            "colorbar": {
             "outlinewidth": 0,
             "ticks": ""
            },
            "type": "contourcarpet"
           }
          ],
          "heatmap": [
           {
            "colorbar": {
             "outlinewidth": 0,
             "ticks": ""
            },
            "colorscale": [
             [
              0,
              "#0d0887"
             ],
             [
              0.1111111111111111,
              "#46039f"
             ],
             [
              0.2222222222222222,
              "#7201a8"
             ],
             [
              0.3333333333333333,
              "#9c179e"
             ],
             [
              0.4444444444444444,
              "#bd3786"
             ],
             [
              0.5555555555555556,
              "#d8576b"
             ],
             [
              0.6666666666666666,
              "#ed7953"
             ],
             [
              0.7777777777777778,
              "#fb9f3a"
             ],
             [
              0.8888888888888888,
              "#fdca26"
             ],
             [
              1,
              "#f0f921"
             ]
            ],
            "type": "heatmap"
           }
          ],
          "histogram": [
           {
            "marker": {
             "pattern": {
              "fillmode": "overlay",
              "size": 10,
              "solidity": 0.2
             }
            },
            "type": "histogram"
           }
          ],
          "histogram2d": [
           {
            "colorbar": {
             "outlinewidth": 0,
             "ticks": ""
            },
            "colorscale": [
             [
              0,
              "#0d0887"
             ],
             [
              0.1111111111111111,
              "#46039f"
             ],
             [
              0.2222222222222222,
              "#7201a8"
             ],
             [
              0.3333333333333333,
              "#9c179e"
             ],
             [
              0.4444444444444444,
              "#bd3786"
             ],
             [
              0.5555555555555556,
              "#d8576b"
             ],
             [
              0.6666666666666666,
              "#ed7953"
             ],
             [
              0.7777777777777778,
              "#fb9f3a"
             ],
             [
              0.8888888888888888,
              "#fdca26"
             ],
             [
              1,
              "#f0f921"
             ]
            ],
            "type": "histogram2d"
           }
          ],
          "histogram2dcontour": [
           {
            "colorbar": {
             "outlinewidth": 0,
             "ticks": ""
            },
            "colorscale": [
             [
              0,
              "#0d0887"
             ],
             [
              0.1111111111111111,
              "#46039f"
             ],
             [
              0.2222222222222222,
              "#7201a8"
             ],
             [
              0.3333333333333333,
              "#9c179e"
             ],
             [
              0.4444444444444444,
              "#bd3786"
             ],
             [
              0.5555555555555556,
              "#d8576b"
             ],
             [
              0.6666666666666666,
              "#ed7953"
             ],
             [
              0.7777777777777778,
              "#fb9f3a"
             ],
             [
              0.8888888888888888,
              "#fdca26"
             ],
             [
              1,
              "#f0f921"
             ]
            ],
            "type": "histogram2dcontour"
           }
          ],
          "mesh3d": [
           {
            "colorbar": {
             "outlinewidth": 0,
             "ticks": ""
            },
            "type": "mesh3d"
           }
          ],
          "parcoords": [
           {
            "line": {
             "colorbar": {
              "outlinewidth": 0,
              "ticks": ""
             }
            },
            "type": "parcoords"
           }
          ],
          "pie": [
           {
            "automargin": true,
            "type": "pie"
           }
          ],
          "scatter": [
           {
            "fillpattern": {
             "fillmode": "overlay",
             "size": 10,
             "solidity": 0.2
            },
            "type": "scatter"
           }
          ],
          "scatter3d": [
           {
            "line": {
             "colorbar": {
              "outlinewidth": 0,
              "ticks": ""
             }
            },
            "marker": {
             "colorbar": {
              "outlinewidth": 0,
              "ticks": ""
             }
            },
            "type": "scatter3d"
           }
          ],
          "scattercarpet": [
           {
            "marker": {
             "colorbar": {
              "outlinewidth": 0,
              "ticks": ""
             }
            },
            "type": "scattercarpet"
           }
          ],
          "scattergeo": [
           {
            "marker": {
             "colorbar": {
              "outlinewidth": 0,
              "ticks": ""
             }
            },
            "type": "scattergeo"
           }
          ],
          "scattergl": [
           {
            "marker": {
             "colorbar": {
              "outlinewidth": 0,
              "ticks": ""
             }
            },
            "type": "scattergl"
           }
          ],
          "scattermap": [
           {
            "marker": {
             "colorbar": {
              "outlinewidth": 0,
              "ticks": ""
             }
            },
            "type": "scattermap"
           }
          ],
          "scattermapbox": [
           {
            "marker": {
             "colorbar": {
              "outlinewidth": 0,
              "ticks": ""
             }
            },
            "type": "scattermapbox"
           }
          ],
          "scatterpolar": [
           {
            "marker": {
             "colorbar": {
              "outlinewidth": 0,
              "ticks": ""
             }
            },
            "type": "scatterpolar"
           }
          ],
          "scatterpolargl": [
           {
            "marker": {
             "colorbar": {
              "outlinewidth": 0,
              "ticks": ""
             }
            },
            "type": "scatterpolargl"
           }
          ],
          "scatterternary": [
           {
            "marker": {
             "colorbar": {
              "outlinewidth": 0,
              "ticks": ""
             }
            },
            "type": "scatterternary"
           }
          ],
          "surface": [
           {
            "colorbar": {
             "outlinewidth": 0,
             "ticks": ""
            },
            "colorscale": [
             [
              0,
              "#0d0887"
             ],
             [
              0.1111111111111111,
              "#46039f"
             ],
             [
              0.2222222222222222,
              "#7201a8"
             ],
             [
              0.3333333333333333,
              "#9c179e"
             ],
             [
              0.4444444444444444,
              "#bd3786"
             ],
             [
              0.5555555555555556,
              "#d8576b"
             ],
             [
              0.6666666666666666,
              "#ed7953"
             ],
             [
              0.7777777777777778,
              "#fb9f3a"
             ],
             [
              0.8888888888888888,
              "#fdca26"
             ],
             [
              1,
              "#f0f921"
             ]
            ],
            "type": "surface"
           }
          ],
          "table": [
           {
            "cells": {
             "fill": {
              "color": "#EBF0F8"
             },
             "line": {
              "color": "white"
             }
            },
            "header": {
             "fill": {
              "color": "#C8D4E3"
             },
             "line": {
              "color": "white"
             }
            },
            "type": "table"
           }
          ]
         },
         "layout": {
          "annotationdefaults": {
           "arrowcolor": "#2a3f5f",
           "arrowhead": 0,
           "arrowwidth": 1
          },
          "autotypenumbers": "strict",
          "coloraxis": {
           "colorbar": {
            "outlinewidth": 0,
            "ticks": ""
           }
          },
          "colorscale": {
           "diverging": [
            [
             0,
             "#8e0152"
            ],
            [
             0.1,
             "#c51b7d"
            ],
            [
             0.2,
             "#de77ae"
            ],
            [
             0.3,
             "#f1b6da"
            ],
            [
             0.4,
             "#fde0ef"
            ],
            [
             0.5,
             "#f7f7f7"
            ],
            [
             0.6,
             "#e6f5d0"
            ],
            [
             0.7,
             "#b8e186"
            ],
            [
             0.8,
             "#7fbc41"
            ],
            [
             0.9,
             "#4d9221"
            ],
            [
             1,
             "#276419"
            ]
           ],
           "sequential": [
            [
             0,
             "#0d0887"
            ],
            [
             0.1111111111111111,
             "#46039f"
            ],
            [
             0.2222222222222222,
             "#7201a8"
            ],
            [
             0.3333333333333333,
             "#9c179e"
            ],
            [
             0.4444444444444444,
             "#bd3786"
            ],
            [
             0.5555555555555556,
             "#d8576b"
            ],
            [
             0.6666666666666666,
             "#ed7953"
            ],
            [
             0.7777777777777778,
             "#fb9f3a"
            ],
            [
             0.8888888888888888,
             "#fdca26"
            ],
            [
             1,
             "#f0f921"
            ]
           ],
           "sequentialminus": [
            [
             0,
             "#0d0887"
            ],
            [
             0.1111111111111111,
             "#46039f"
            ],
            [
             0.2222222222222222,
             "#7201a8"
            ],
            [
             0.3333333333333333,
             "#9c179e"
            ],
            [
             0.4444444444444444,
             "#bd3786"
            ],
            [
             0.5555555555555556,
             "#d8576b"
            ],
            [
             0.6666666666666666,
             "#ed7953"
            ],
            [
             0.7777777777777778,
             "#fb9f3a"
            ],
            [
             0.8888888888888888,
             "#fdca26"
            ],
            [
             1,
             "#f0f921"
            ]
           ]
          },
          "colorway": [
           "#636efa",
           "#EF553B",
           "#00cc96",
           "#ab63fa",
           "#FFA15A",
           "#19d3f3",
           "#FF6692",
           "#B6E880",
           "#FF97FF",
           "#FECB52"
          ],
          "font": {
           "color": "#2a3f5f"
          },
          "geo": {
           "bgcolor": "white",
           "lakecolor": "white",
           "landcolor": "#E5ECF6",
           "showlakes": true,
           "showland": true,
           "subunitcolor": "white"
          },
          "hoverlabel": {
           "align": "left"
          },
          "hovermode": "closest",
          "mapbox": {
           "style": "light"
          },
          "paper_bgcolor": "white",
          "plot_bgcolor": "#E5ECF6",
          "polar": {
           "angularaxis": {
            "gridcolor": "white",
            "linecolor": "white",
            "ticks": ""
           },
           "bgcolor": "#E5ECF6",
           "radialaxis": {
            "gridcolor": "white",
            "linecolor": "white",
            "ticks": ""
           }
          },
          "scene": {
           "xaxis": {
            "backgroundcolor": "#E5ECF6",
            "gridcolor": "white",
            "gridwidth": 2,
            "linecolor": "white",
            "showbackground": true,
            "ticks": "",
            "zerolinecolor": "white"
           },
           "yaxis": {
            "backgroundcolor": "#E5ECF6",
            "gridcolor": "white",
            "gridwidth": 2,
            "linecolor": "white",
            "showbackground": true,
            "ticks": "",
            "zerolinecolor": "white"
           },
           "zaxis": {
            "backgroundcolor": "#E5ECF6",
            "gridcolor": "white",
            "gridwidth": 2,
            "linecolor": "white",
            "showbackground": true,
            "ticks": "",
            "zerolinecolor": "white"
           }
          },
          "shapedefaults": {
           "line": {
            "color": "#2a3f5f"
           }
          },
          "ternary": {
           "aaxis": {
            "gridcolor": "white",
            "linecolor": "white",
            "ticks": ""
           },
           "baxis": {
            "gridcolor": "white",
            "linecolor": "white",
            "ticks": ""
           },
           "bgcolor": "#E5ECF6",
           "caxis": {
            "gridcolor": "white",
            "linecolor": "white",
            "ticks": ""
           }
          },
          "title": {
           "x": 0.05
          },
          "xaxis": {
           "automargin": true,
           "gridcolor": "white",
           "linecolor": "white",
           "ticks": "",
           "title": {
            "standoff": 15
           },
           "zerolinecolor": "white",
           "zerolinewidth": 2
          },
          "yaxis": {
           "automargin": true,
           "gridcolor": "white",
           "linecolor": "white",
           "ticks": "",
           "title": {
            "standoff": 15
           },
           "zerolinecolor": "white",
           "zerolinewidth": 2
          }
         }
        },
        "title": {
         "text": "Comparison for phase"
        },
        "width": 900,
        "xaxis": {
         "title": {
          "text": "Sample Duration (s)"
         },
         "type": "log"
        },
        "yaxis": {
         "title": {
          "text": "Uncertainty"
         },
         "type": "log"
        }
       }
      }
     },
     "metadata": {},
     "output_type": "display_data"
    }
   ],
   "source": [
    "import anal_fit_err\n",
    "import importlib\n",
    "import dataclasses\n",
    "\n",
    "importlib.reload(anal_fit_err)\n",
    "\n",
    "# Generate theoretical predictions\n",
    "theory_undamped_curves = {\n",
    "    \"amplitude\": [],\n",
    "    \"frequency\": [],\n",
    "    \"phase\": [],\n",
    "    \"damping_rate\": [],\n",
    "}\n",
    "\n",
    "theory_curves = {\"amplitude\": [], \"frequency\": [], \"phase\": [], \"damping_rate\": []}\n",
    "\n",
    "\n",
    "for this_duration in durations:\n",
    "    est = anal_fit_err.analy_err_in_fit_damp_sine(\n",
    "        amp=true_params[\"amplitude\"],\n",
    "        samp_num=num_points,\n",
    "        samp_time=this_duration,\n",
    "        sigma_obs=noise_scale,\n",
    "        damp_rate=true_params[\"damping_rate\"],\n",
    "    )\n",
    "    theory_curves[\"amplitude\"].append(est.amplitude)\n",
    "    theory_curves[\"frequency\"].append(est.frequency)\n",
    "    theory_curves[\"phase\"].append(est.phase)\n",
    "    theory_curves[\"damping_rate\"].append(est.damping_rate)\n",
    "\n",
    "    est = anal_fit_err.analy_err_in_fit_sine(\n",
    "        amplitude=true_params[\"amplitude\"],\n",
    "        samp_num=num_points,\n",
    "        samp_time=this_duration,\n",
    "        sigma_obs=noise_scale,\n",
    "    )\n",
    "    theory_undamped_curves[\"amplitude\"].append(est.amplitude)\n",
    "    theory_undamped_curves[\"frequency\"].append(est.frequency)\n",
    "    theory_undamped_curves[\"phase\"].append(est.phase)\n",
    "    theory_undamped_curves[\"damping_rate\"].append(np.nan)\n",
    "\n",
    "\n",
    "for key in true_params:\n",
    "    fig = go.Figure()\n",
    "    fig.add_trace(\n",
    "        go.Scatter(\n",
    "            x=durations, y=rmse_results[key], mode=\"lines+markers\", name=f\"RMSE {key}\"\n",
    "        )\n",
    "    )\n",
    "    fig.add_trace(\n",
    "        go.Scatter(\n",
    "            x=durations,\n",
    "            y=stderr_results[key],\n",
    "            mode=\"lines+markers\",\n",
    "            name=f\"stderr {key}\",\n",
    "            line=dict(dash=\"dot\"),\n",
    "        )\n",
    "    )\n",
    "    fig.add_trace(\n",
    "        go.Scatter(\n",
    "            x=durations,\n",
    "            y=theory_curves[key],\n",
    "            mode=\"lines\",\n",
    "            name=f\"theory {key}\",\n",
    "            line=dict(dash=\"dash\"),\n",
    "        )\n",
    "    )\n",
    "\n",
    "    fig.add_trace(\n",
    "        go.Scatter(\n",
    "            x=durations,\n",
    "            y=theory_undamped_curves[key],\n",
    "            mode=\"lines\",\n",
    "            name=f\"theory undamped {key}\",\n",
    "            line=dict(dash=\"dash\"),\n",
    "        )\n",
    "    )\n",
    "\n",
    "    fig.update_layout(\n",
    "        title=f\"Comparison for {key}\",\n",
    "        xaxis_title=\"Sample Duration (s)\",\n",
    "        yaxis_title=\"Uncertainty\",\n",
    "        width=900,\n",
    "        height=500,\n",
    "        yaxis_type=\"log\",\n",
    "        xaxis_type=\"log\",\n",
    "    )\n",
    "    fig.show()"
   ]
  },
  {
   "cell_type": "code",
   "execution_count": 9,
   "id": "d4e49b36",
   "metadata": {},
   "outputs": [],
   "source": [
    "import plotly.graph_objects as go\n",
    "import plotly.io as pio\n",
    "\n",
    "# Set default font to Computer Modern (may require CMU Serif if CM not available)\n",
    "latex_font = \"CMU Serif\"\n",
    "pio.templates[\"cm10_latex\"] = go.layout.Template(\n",
    "    layout=go.Layout(\n",
    "        font=dict(family=latex_font, size=18),\n",
    "        title_font=dict(family=latex_font, size=22),\n",
    "        legend=dict(\n",
    "            font=dict(family=latex_font, size=16),\n",
    "            bordercolor=\"black\",\n",
    "            borderwidth=1,\n",
    "        ),\n",
    "        xaxis=dict(\n",
    "            title_font=dict(family=latex_font, size=20),\n",
    "            tickfont=dict(family=latex_font, size=16),\n",
    "        ),\n",
    "        yaxis=dict(\n",
    "            title_font=dict(family=latex_font, size=20),\n",
    "            tickfont=dict(family=latex_font, size=16),\n",
    "        ),\n",
    "        width=900,\n",
    "        height=500,\n",
    "        margin=dict(l=80, r=20, t=50, b=80),\n",
    "    )\n",
    ")\n",
    "pio.templates.default = \"cm10_latex\""
   ]
  },
  {
   "cell_type": "code",
   "execution_count": 10,
   "id": "11b63abe",
   "metadata": {},
   "outputs": [],
   "source": [
    "def add_minor_log_ticks(\n",
    "    fig: go.Figure, axis: str, range_vals: tuple[float, float], length: float = 0.01\n",
    "):\n",
    "    import numpy as np\n",
    "\n",
    "    minor_ticks = []\n",
    "    for decade in range(\n",
    "        int(np.floor(np.log10(range_vals[0]))), int(np.ceil(np.log10(range_vals[1])))\n",
    "    ):\n",
    "        base = 10**decade\n",
    "        for i in range(2, 10):  # 2 through 9\n",
    "            tick = i * base\n",
    "            if range_vals[0] <= tick <= range_vals[1]:\n",
    "                minor_ticks.append(tick)\n",
    "\n",
    "    for t in minor_ticks:\n",
    "        if axis == \"x\":\n",
    "            fig.add_shape(\n",
    "                type=\"line\",\n",
    "                x0=t,\n",
    "                x1=t,\n",
    "                y0=0,\n",
    "                y1=length,\n",
    "                xref=\"x\",\n",
    "                yref=\"paper\",\n",
    "                line=dict(color=\"black\", width=1),\n",
    "                layer=\"above\",\n",
    "            )\n",
    "        elif axis == \"y\":\n",
    "            fig.add_shape(\n",
    "                type=\"line\",\n",
    "                x0=0,\n",
    "                x1=length,\n",
    "                y0=t,\n",
    "                y1=t,\n",
    "                xref=\"paper\",\n",
    "                yref=\"y\",\n",
    "                line=dict(color=\"black\", width=1),\n",
    "                layer=\"above\",\n",
    "            )"
   ]
  },
  {
   "cell_type": "code",
   "execution_count": 11,
   "id": "886fd750",
   "metadata": {},
   "outputs": [
    {
     "data": {
      "text/plain": [
       "{'frequency': 1.0,\n",
       " 'amplitude': 1.0,\n",
       " 'damping_rate': 0.01,\n",
       " 'phase': 3.141592653589793}"
      ]
     },
     "execution_count": 11,
     "metadata": {},
     "output_type": "execute_result"
    }
   ],
   "source": [
    "true_params"
   ]
  },
  {
   "cell_type": "code",
   "execution_count": 12,
   "id": "b4f6b16b",
   "metadata": {},
   "outputs": [
    {
     "name": "stdout",
     "output_type": "stream",
     "text": [
      "[-7. -6. -5. -4. -3. -2. -1.  0.]\n"
     ]
    },
    {
     "data": {
      "application/vnd.plotly.v1+json": {
       "config": {
        "plotlyServerURL": "https://plot.ly"
       },
       "data": [
        {
         "line": {
          "color": "black",
          "width": 2
         },
         "mode": "lines",
         "name": "Simulation",
         "opacity": 0.8,
         "type": "scatter",
         "x": {
          "bdata": "FzmcYKqZuT85m+DT75q6PwFg18ROprs/+2lmsyy8vD9xoY4b89y9P0hNeZ0PCb8/FwmME3ogwD+4tLOPi8LAPyMAssn5asE/ygpisgQawj8jTEO97s/CP4s9tfn8jMM/QbYwLXdRxD9U8Yjupx3FP9OZPsLc8cU/zKHvN2bOxj8rFe8ImLPHPz+KEDjJocg/pUazMlSZyT9+qRnzlprKP/fpGSTzpcs/H701Rs67zD+J/ibWkdzNP3gF8HSrCM8/GHK/iEYg0D8ttPmJVsLQP8EpTEXDatE/IXRQrMwZ0j+zSl4ztc/SP/adyerBjNM/U6MemTpR1D9NxmXWaR3VPzzgeSid8dU/g4B7ICXO1j/3e2x5VbPXP4hr/zeFodg/xDenyw6Z2T8ZSfMwUJraPwx0RRWrpds/pDzv+4S73D/glcRkR9zdP+HQMvRfCN8/BYJ1TiAg4D9n5pflL8LgP85360icauE/CgCIbKUZ4j/k9IDHjc/iP9jyKG2ajOM/cZJTJxNR5D/snZ+RQh3lP04S1DV28eU/ysBaqf7N5j/e0uOrL7PnP7LlPUdgoeg/Oehu8OqY6T+VYhqqLZrqP/RNQiiKpes/ZSlw9WW77D8Wg1SZKtztP+m968BFCO8/jbgbtBQg8D9RLs4CJsLwP2PHeluUavE/VwA3uJ8Z8j/rT5mWis/yP124BxGajPM/3JoF+RVR9D+A5YrySB31Pz8bb5CA8fU/aiDzcQ3O9j/aJXVhQ7P3P+eAWnR5ofg/9rY7LAqZ+T88gV+ZU5r6P90Pkn63pfs/y1tmdpu7/D9S5O8Zadz9P/DIAymOCP8/f2QIWj4gAECVKc+jVcIAQD66wYzKagFAE5LzG90ZAkC7Dg7dz88CQJGatfnnjANARO3vU21RBECVoJWhqh0FQG7B2Yjt8QVAxnPyvYbOBkAhM+4hyrMHQBKxweIOoghAJtCanK+ZCUCvu4V8CpsKQImkcWSBpgtAKTijEHq8DECpeqM+Xt0NQPZFutWbCQ9ALiiCiNIgEEDHoZpV+MIQQJiNCwZ9axFAzlvsu6AaEkBPJx8gptASQL+U43vSjRNA13Zu021SFEAjwpABwx4VQH3KeNQf8xVAhDmZK9XPFkDAp8EWN7UXQGJBdfacoxhAOmWMnWGbGUAqty5045waQCOxM5yEqBtAaFX4Fqu+HEBpQ7nswN8dQLcWgVU0DB9AT9Ld8TsiIEBSsT9YgcQgQKp+z0QobSFAyPbKEHEcIkDt1LGgntIiQBL1NH72jyNATawx88BUJECLe8QlSSElQF69fjXd9SVADnLLWc7SJkAy1o8BcbgnQNL+FPQcpyhAYU1Icy2fKUA7KmFfAaEqQEcb+1v7rCtAC/iz9oHDLEBWtF7P/+QtQM7428HjES9ArkTViFAlMEDpJqHL18cwQF3WpvfFcDFA1+nq1VsgMkDMvbvD3NYyQJhdW82OlDNAscPEybpZNEC/0Jh3rCY1QLPuP5uy+zVA6vRNHh/ZNkBBiDYwR783QIDjYGiDrjhAOa2q6S+nOUCrRWqHrKk6QCnFAexctjtAqr8UwajNPED0x3PZ++89QOGi0VzGHT9AGI6rer4rQECuwJV/zM5AQOVzBF1MeEFAGUt6vn8oQkDDlxr2qt9CQC3K0BgVnkNAuG+yGwhkREABsqry0DFFQDgZf7C/B0ZAly0+qCfmRkDZfSmQX81HQFCGLabBvUhALP361au3SUCgHtbgf7tKQCPAMYejyUtA8C0ttIDiTEAAKw2rhQZOQKLTyTYlNk9AjFPmbes4UECJy/2FC91QQIHbl66zh1FAav0bYSc5UkB7N0XjrPFSQF43ZGaNsVNAilAeKBV5VECb+L2Uk0hVQDaoKmtbIFZAkm2f4sIAV0Df+zjSI+pXQLOgddrb3FhASELDkEzZWUAqaDmt299aQPBPnzrz8FtA8zrgyAENXUDwdBKiejReQE4ZOALWZ19AG6nxqMhTYEDoXvWxF/pgQBHoLlscp2FAbTx22x1bYkADhXyFZhZjQLuyx+1D2WNAX2nAEgekZEB0T/SGBHdlQE9lsZ2UUmZAgNIhmhM3Z0AroxLh4SRoQDQ+ky1kHGlA2PmeyAMeakCuIQbELiprQLIN0DhYQWxAeZhUifhjbUAoZFCnjZJuQMX3PF6bzW9A5fEd0dWKcEAna/VxpzVxQID1vjSO53FAd87CVtmgckAVVufh22FzQMAKauLsKnRADAUjoGf8dECbXZrbq9Z1QBx7PQ8eunZA/4cJtSend0BoWQiRN554QL30BQHCn3lA9b7uUUGsekCYUlEbNsR7QEsji6En6HxAQqA0P6QYfkCmmXDWQVZ/QP7AaSXPUIBAluCEw2IdgEB83lekVL+AQJ/0PfqhZ4FAGzRGqIoWgkDUGocTUcyCQD+eUjw6iYNAUn1n2I1NhECkyylulhmFQDsK7XCh7YVA3otaXv/JhkAjTf/cA6+HQCnaDNwFnYhA6E5ZtF+UiUC4+apKb5WKQPyjXDOWoItAKQlo1zm2jECddXe+IuuMQGKg5B9yBI5A7AMtkEZlkEDdEGtKEb+QQKQ0eftbZ5FAMJkX6kEWkkDsuFF6BcySQHAKZKvriJNANensMTxNlEA6sySTQRmVQPdvJ0FJ7ZVAcL5auKPJlkB+MvudpK6XQNe63N+inJhAihxq1fiTmUCcC/BhBJWaQG7kQBgnoJtA+Y2+X8a1nECg8qpmK0edQLHbpQ6sZ55ASL18uGJWoEBQH43xzb6gQMnyzf0VZ6FAPYkNLfkVokDbXUziucuiQLtssRudiKNAgrK6jOpMpEAd3HS57BilQGZ8xBLx7KVAUH0n0V95pkAb2+PBnfCnQE2Z2szv46hAuZ4Y+JGTqUCAD+N6mZSqQLf34/63n6tA7m/l6VK1rEBFoxWBp4WtQMAU4p8Zq65AEhJkIchCsECnBb6Zir6wQJwqPAHQZrFApv8ncbAVskA9QV6HtKGyQJvBd796rrNAoN6ejtZ1tEDqQBrhlxi1QOspxOWY7LVAkQFuzaCdtkBmdyv6jNa3QIpDFc/Hx7hA5c5kHCuTuUC2hbaiX2i6QANp/nQzybtATEi+tyfivEDnZddRtaq9QK06tyYd075AhxxdzboywEBetWDK5ajAQAHFW4tzT8FAGRh2MBMswkDOMkz8MLXCQN/0pje9ncNA",
          "dtype": "f8"
         },
         "y": [
          0.1873639274146283,
          0.16906037141248761,
          0.14799133820234137,
          0.13012839992079206,
          0.11992834264216405,
          0.10517741144690694,
          0.09252453619085307,
          0.08152341316632307,
          0.07188783712583012,
          0.06341352424365763,
          0.055940000510895725,
          0.0493381774255733,
          0.043499023851746754,
          0.03833078306796242,
          0.03375403641685708,
          0.029699697325152926,
          0.026070454221067085,
          0.022874115295165056,
          0.020046026435535894,
          0.017544219051556287,
          0.01533172408624222,
          0.013376009199525465,
          0.011648357000866642,
          0.010122835720029961,
          0.008777125918712998,
          0.007435983706180533,
          0.006401129075482314,
          0.0056279909676992665,
          0.004692062673739758,
          0.003991797766124601,
          0.003495869993700752,
          0.0028455229264034484,
          0.0023815265353205463,
          0.001980118730100312,
          0.0016349896952656147,
          0.0013407649063412476,
          0.0012084727335695208,
          0.000978844094379885,
          0.0007896523284709562,
          0.0006004452139595481,
          0.0005542249482611365,
          0.0004483502375130771,
          0.0004442813170541125,
          0.0004281838618379933,
          0.00041792571738159584,
          0.0003929225810625209,
          0.0004035952729740002,
          0.00041326446360043646,
          0.0004267635730638099,
          0.00042270377496443466,
          0.0004212504288800555,
          0.00043016129741802573,
          0.00040600654137956026,
          0.00040415971705407927,
          0.00037614110729519,
          0.00036499956058187846,
          0.0003414378652231803,
          0.0003159373298901239,
          0.0002761386093577387,
          0.00026296543784793216,
          0.000244396905398909,
          0.0002288567014657766,
          0.00020650040411629707,
          0.0002184884373601649,
          0.00022033231816534718,
          0.00020468623890448166,
          0.00020596319269499612,
          0.00020242823753286867,
          0.0001897842492029519,
          0.00018160219102236378,
          0.00015950303498860917,
          0.00014711386749572736,
          0.00014705925285877263,
          0.00014470354170297072,
          0.00013922946975746876,
          0.00015204733023769062,
          0.00013799205572637117,
          0.0001356915741498494,
          0.0001219915780611312,
          0.00011186656133867913,
          0.0001109176289512721,
          0.00011275328193069813,
          0.00011236956442180173,
          0.0001065004878132703,
          0.00009410241522363031,
          0.00008591869533340626,
          0.00009494931954490795,
          0.00009001308948261722,
          0.00008489265901844841,
          0.00008091233647377041,
          0.00007854269677400996,
          0.00007968463972367268,
          0.00006760294357641705,
          0.00006863761242571173,
          0.0000691406526905117,
          0.00006175116564667098,
          0.00006296336953502117,
          0.00006139115228502157,
          0.00006145421509116337,
          0.00005766636348461089,
          0.0000571040864914288,
          0.00005470089855214501,
          0.000047964040271907,
          0.00004550355161026185,
          0.00004667061575669919,
          0.00004373855719244807,
          0.00004497294408556655,
          0.000040242629277822645,
          0.00003968174529052966,
          0.00003770420464994939,
          0.00003759133129104422,
          0.00003603315633255604,
          0.00003454506665170461,
          0.00003372293000599723,
          0.00003229422730211052,
          0.0000316673238888686,
          0.00003041694679537484,
          0.00002790601424786915,
          0.00002860537538324034,
          0.000026572311380854033,
          0.000023312103592386574,
          0.00002441112379929705,
          0.000024068885675523302,
          0.000023793793899692637,
          0.000021476384633439023,
          0.000021272091287088846,
          0.000021597324291872747,
          0.000020349145371128195,
          0.000021263506832207306,
          0.000017729681808882328,
          0.00001885558111782305,
          0.000016634614152244225,
          0.000017446593930356728,
          0.000016057078610026087,
          0.00001659619225873053,
          0.00001488496918888251,
          0.000013655096561342476,
          0.000013950934806179986,
          0.000013437738545664346,
          0.000012844264576672826,
          0.000011343421123475182,
          0.000013147683091142147,
          0.000011575763530237284,
          0.00001206976719706423,
          0.000011209029715713496,
          0.000010951827321445273,
          0.000010777458146109934,
          0.000009484232233872264,
          0.000009381476682519246,
          0.000009518126210600772,
          0.000010029321225242308,
          0.000009190152390093945,
          0.00000846120308012427,
          0.000008305061681959209,
          0.000008181162182924324,
          0.00000781906976805023,
          0.000007080174356143549,
          0.0000068774689616534344,
          0.000007393769024336196,
          0.000006624906660697441,
          0.000006650748576475561,
          0.000006276050717979425,
          0.000006471517694625608,
          0.000005876650603333326,
          0.000006369456544169701,
          0.0000055675099563170535,
          0.000005625679314512035,
          0.000005484455724181764,
          0.000005670148507700598,
          0.00000543480446154041,
          0.0000047357757923712045,
          0.000004947456413814918,
          0.000004612478270670516,
          0.000004657415230285639,
          0.000004608623765812596,
          0.000004442752243698531,
          0.000004349577060653261,
          0.000004739196873059335,
          0.0000043543420796677676,
          0.000004156378825033767,
          0.000003942025995359546,
          0.0000037179453851306343,
          0.000004231727031147662,
          0.000003933729457305733,
          0.000003600362208933423,
          0.0000036402846844232374,
          0.0000036317306566494876,
          0.0000035757577101155483,
          0.000003456762340828592,
          0.0000035586615473328355,
          0.0000033818694532055967,
          0.0000034288687486696973,
          0.0000032696689127365016,
          0.0000032600851697420362,
          0.0000034950389821131527,
          0.0000035417367980061666,
          0.0000034914982109492974,
          0.0000031687361615292474,
          0.0000034738438067615262,
          0.0000032866131318518444,
          0.0000035771469431006383,
          0.0000035013290202932535,
          0.0000035651382552119797,
          0.0000037145446363361373,
          0.000003703849526642672,
          0.0000033997843314350074,
          0.000003541426558281383,
          0.0000036259834317024485,
          0.000003536249611081523,
          0.0000037141220295104783,
          0.000003635296284542356,
          0.0000036265711362376877,
          0.000004331658511135784,
          0.0000038079935040989126,
          0.000004059273633068827,
          0.000004132990121928496,
          0.000004369628365297629,
          0.000004112062783556276,
          0.000004159799297105623,
          0.0000043721178343300745,
          0.000004472780823152255,
          0.000004764346073117598,
          0.0000045231154366349245,
          0.0000042592550047752595,
          0.0000046495586889499,
          0.000004583083021836254,
          0.000004765192675307843,
          0.000004598831002605331,
          0.000005096682255862379,
          0.000004996888442352056,
          0.000005259630939158198,
          0.000005336900115873764,
          0.000005547519697400538,
          0.0000059316794147835965,
          0.00000532811593092361,
          0.000006085300197850155,
          0.000005617405002698781,
          0.000006345501013113921,
          0.0000062417921864102955,
          0.00000591800360149238,
          0.000006696926273005293,
          0.000006839402208450597,
          0.000006773991240321095,
          0.000006919910181877039,
          0.000006655795507323384,
          0.000006928250626571625,
          0.000007139628362031912,
          0.0000075162680283974185,
          0.000007491759519051925,
          0.000007203275742196586,
          0.000007588756518496188,
          0.000008316932065777976,
          0.000008213803722175672,
          0.000008746801990670489,
          0.000008417994377876378,
          0.000009005848815783353,
          0.000008970337559549718,
          0.000008600230881989013,
          0.00000956761835812575,
          0.000009496916202936154,
          0.00000905535282857023,
          0.000009134115721153643,
          0.00000876762701945667,
          0.000027081887056302575,
          0.000010122795926295092,
          0.000010929228463387853,
          0.000010881775539170555,
          0.000010560292218338405,
          0.00001091566102620312,
          0.000011574966514647146,
          0.000010420229760993814,
          0.000010451016504943002,
          0.000012154322842354969,
          0.00001170704269521885,
          0.000011473968660352628,
          0.000011198796820649278,
          0.000011931059635555332,
          0.00001231448128184543,
          0.000013193001168532431,
          0.000014462475817596286,
          0.000013500581020303602,
          0.000013924667043158987,
          0.000014027204896442154,
          0.000014512740882904125,
          0.000014041045469463438,
          0.000014163806708428844,
          0.000015025740739704051,
          0.00001550245756679734,
          0.000013599801525706976,
          0.000015136789339034409,
          0.000015372360210683467,
          0.000016788732325541157,
          0.00001594705808688403,
          0.000017065170909917773,
          0.000017891915550152705,
          0.00001704126219913957,
          0.000017400204707829453,
          0.000018018652171415012,
          0.00001850204434356915,
          0.00001748663173772927
         ]
        },
        {
         "line": {
          "color": "blue",
          "dash": "dash",
          "width": 2
         },
         "mode": "lines",
         "name": "Theory Damped",
         "type": "scatter",
         "x": {
          "bdata": "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",
          "dtype": "f8"
         },
         "y": [
          0.002466629224562157,
          0.0023738571096598117,
          0.0022842732902277145,
          0.0021978541817386536,
          0.0021149968688720646,
          0.0020350994190817093,
          0.001958254384453887,
          0.0018842979867587284,
          0.0018131242372903358,
          0.0017447032161614594,
          0.0016788876233970378,
          0.0016154948291909224,
          0.0015544793555095976,
          0.0014958514515795104,
          0.0014393849086748467,
          0.0013850669732032293,
          0.0013327843815834715,
          0.0012824952943770774,
          0.001234086629585951,
          0.0011875275947714735,
          0.001142713571917943,
          0.0010995973214944575,
          0.0010581107096572086,
          0.0010181855621003285,
          0.0009797695958219878,
          0.0009428076467959183,
          0.0009072408288593898,
          0.0008730164174697055,
          0.0008400858188892221,
          0.0008083987987715804,
          0.0007779098445565791,
          0.0007485718358508969,
          0.0007203416266404111,
          0.000693177586110779,
          0.0006670398546701615,
          0.0006418900910337637,
          0.0006176895102363365,
          0.0005944033881316493,
          0.0005719969161287282,
          0.0005504366170729232,
          0.0005296909644987076,
          0.0005097287862618828,
          0.0004905205724980647,
          0.0004720378869981367,
          0.0004542534474736649,
          0.00043714073700040605,
          0.00042067449097259147,
          0.00040483018278426625,
          0.0003895843991955254,
          0.0003749144854919812,
          0.0003607986740173419,
          0.00034721608514926206,
          0.00033414656350505475,
          0.0003215707209371088,
          0.0003094699179899286,
          0.0002978261969024213,
          0.00028662229849194047,
          0.00027584161736469634,
          0.0002654681687798976,
          0.0002554865586591189,
          0.00024588198859225004,
          0.0002366402254026237,
          0.00022774756149735272,
          0.00021919080917707164,
          0.00021095727944770264,
          0.0002030347684203165,
          0.0001954115253975477,
          0.00018807624746879588,
          0.000181018056789341,
          0.00017422648877595253,
          0.00016769147304040804,
          0.00016140331858924883,
          0.00015535270146383226,
          0.00014953065024979462,
          0.0001439285319024255,
          0.00013853803908629513,
          0.00013335117939873288,
          0.00012836026153090796,
          0.00012355788494031108,
          0.00011893692877227225,
          0.0001144905410386166,
          0.00011021212853197497,
          0.0001060953473058727,
          0.00010213409310315833,
          0.00009832249204904765,
          0.0000946548924257461,
          0.00009112585587871213,
          0.00008773014959906164,
          0.00008446273842236581,
          0.00008131877748230966,
          0.00007829360489546235,
          0.00007538273500103119,
          0.00007258185157356636,
          0.00006988680148438556,
          0.00006729358856579004,
          0.00006479836761364147,
          0.00006239743875891197,
          0.00006008724194789741,
          0.000057864351660731846,
          0.00005572547184757239,
          0.000053667431020968564,
          0.00005168717757879276,
          0.000049781775257472466,
          0.000047948398794745926,
          0.00004618432972602278,
          0.00004448695236659497,
          0.000042853749927534925,
          0.000041282300782802415,
          0.0000397702748846022,
          0.00003831543030383826,
          0.000036915609908191315,
          0.00003556873816473378,
          0.000034272818062465845,
          0.000033025928152155925,
          0.0000318262196978797,
          0.00003067191393685469,
          0.00002956129944264809,
          0.000028492729589028834,
          0.000027464620108659097,
          0.00002647544674630454,
          0.000025523742999124712,
          0.000024608097944190216,
          0.0000237271541476916,
          0.000022879605653988596,
          0.000022064196051058523,
          0.000021279716609343026,
          0.000020525004491909592,
          0.000019798941032322455,
          0.00001910045007868368,
          0.00001842849640056085,
          0.00001778208415701474,
          0.000017160255423242634,
          0.000016562088773703352,
          0.00001598669791961807,
          0.000015433230398962214,
          0.000014900866316898399,
          0.00001438881713486147,
          0.000013896324506567173,
          0.000013422659159203778,
          0.00001296711981819613,
          0.000012529032173968322,
          0.000012107747889266087,
          0.000011702643645535152,
          0.00001131312022705161,
          0.000010938601641452677,
          0.000010578534275443644,
          0.000010232386084471059,
          0.00000989964581522276,
          0.000009579822259872769,
          0.000009272443541026248,
          0.000008977056426378305,
          0.000008693225672151264,
          0.000008420533394410572,
          0.000008158578467418591,
          0.000007906975948217225,
          0.000007665356526681293,
          0.000007433366000321891,
          0.000007210664773157273,
          0.000006996927378008156,
          0.0000067918420216083,
          0.00000659511015195417,
          0.000006406446047347709,
          0.000006225576426612586,
          0.000006052240079988775,
          0.000005886187520227867,
          0.000005727180653426294,
          0.000005574992469140981,
          0.00000542940674933311,
          0.000005290217795677295,
          0.000005157230174756175,
          0.000005030258480630615,
          0.000004909127114231974,
          0.000004793670078963037,
          0.0000046837307918147535,
          0.00000457916190920394,
          0.000004479825166609275,
          0.000004385591230924155,
          0.000004296339564252079,
          0.000004211958297636725,
          0.000004132344112940848,
          0.000004057402130759008,
          0.000003987045801863807,
          0.0000039211967992383675,
          0.000003859784907234299,
          0.00000380274790381113,
          0.0000037500314311584022,
          0.000003701588849276712,
          0.000003657381066305076,
          0.0000036173763385404526,
          0.0000035815500322213536,
          0.000003549884338271522,
          0.000003522367930365991,
          0.0000034989955559512294,
          0.0000034797675493051017,
          0.000003464689255465785,
          0.000003453770354022985,
          0.00000344702407250863,
          0.0000034444662806327415,
          0.000003446114459089827,
          0.000003451986540328349,
          0.0000034620996237393953,
          0.0000034764685743532036,
          0.000003495104522431957,
          0.000003518013291288437,
          0.0000035451937920339574,
          0.0000035766364363116397,
          0.0000036123216306466,
          0.0000036522184277483773,
          0.000003696283419501631,
          0.0000037444599617732935,
          0.00000379667782071015,
          0.0000038528533221616375,
          0.000003912890068915489,
          0.000003976680264038276,
          0.000004044106643371202,
          0.000004115044978151896,
          0.000004189367063300314,
          0.000004266944062873547,
          0.0000043476500470552685,
          0.000004431365530230505,
          0.000004517980811604939,
          0.000004607398930903991,
          0.00000457975741723584,
          0.0000046664471844407315,
          0.000004755376578420114,
          0.000004846479271692715,
          0.000004939703287323504,
          0.000005035010671812504,
          0.000005132376737045883,
          0.000005231788972418283,
          0.000005333245737819778,
          0.000005436754846455185,
          0.000005542332135252056,
          0.000005650000102665046,
          0.0000057597866721282495,
          0.000005871724117247222,
          0.000005985848164534489,
          0.000006102197272789538,
          0.000006124119673423824,
          0.0000062393847898538275,
          0.000006521296496535158,
          0.000006590681723625801,
          0.000006718796960056567,
          0.000006849402824214984,
          0.000006982547628031946,
          0.0000071182806720113175,
          0.000007256652241723335,
          0.000007397713614150518,
          0.000007541517070020632,
          0.000007688115909704476,
          0.000007837564471230008,
          0.000007989918149587562,
          0.000008145233416878768,
          0.000008303567843080255,
          0.000008464980117312159,
          0.000008629530069563975,
          0.000008714467562165041,
          0.00000888060172569845,
          0.000009206131242083122,
          0.000009320344442591286,
          0.000009501521741505247,
          0.000009686220928890605,
          0.000009874510466406064,
          0.000010066460146530078,
          0.000010262141118430546,
          0.000010461625914337321,
          0.000010664988476427462,
          0.000010797580215149208,
          0.000011144134345061672,
          0.000011363205274227498,
          0.000011518746128153955,
          0.000011742657950643882,
          0.000011970922373989245,
          0.000012203624007988636,
          0.000012375382665563834,
          0.000012613348124969184,
          0.000012988887175085491,
          0.000013180553087531675,
          0.000013436768619189339,
          0.000013697964700466332,
          0.000013903556027606598,
          0.000014289922394236824,
          0.00001456988616851619,
          0.000014794519300778476,
          0.000015082108569839887,
          0.00001531811966851711,
          0.000015726635487350684,
          0.00001603445476953421,
          0.000016289467173567497,
          0.000016552571433354215,
          0.00001697902170567449,
          0.000017311089527522298,
          0.000017544284908231447,
          0.000017883366548477926,
          0.000018333609814847682,
          0.000018592998142307597,
          0.000018952570180284044,
          0.00001941862489794374,
          0.00001970272136019767,
          0.00002017540190704902
         ]
        },
        {
         "line": {
          "color": "red",
          "dash": "dot",
          "width": 2
         },
         "mode": "lines",
         "name": "Theory CW",
         "type": "scatter",
         "x": {
          "bdata": "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",
          "dtype": "f8"
         },
         "y": [
          0.002465593120068237,
          0.0023724596291895255,
          0.0022828440587309294,
          0.0021966135266973086,
          0.002113640170429531,
          0.0020338009570096804,
          0.001956977500827807,
          0.0018830558880397134,
          0.0018119265076554682,
          0.0017434838890081992,
          0.0016776265453621532,
          0.0016142568234281372,
          0.0015532807585631873,
          0.0014946079354397727,
          0.0014381513539779146,
          0.001383827300341447,
          0.0013315552228071105,
          0.001281257612322435,
          0.0012328598875752915,
          0.0011862902844047014,
          0.0011414797493889152,
          0.0010983618374529795,
          0.0010568726133439574,
          0.0010169505568277187,
          0.000978536471466715,
          0.000941573396843487,
          0.0009060065240997382,
          0.0008717831146657432,
          0.0008388524220595821,
          0.0008071656166402402,
          0.0007766757132030012,
          0.000747337501309773,
          0.0007191074782510349,
          0.0006919437845400067,
          0.00066580614184339,
          0.0006406557932566425,
          0.0006164554458352283,
          0.0005931692152966286,
          0.0005707625728111162,
          0.0005492022938023974,
          0.0005284564086821984,
          0.0005084941554457519,
          0.0004892859340578856,
          0.0004708032625620821,
          0.00045301873484742414,
          0.0004359059800108064,
          0.00041943962325415057,
          0.0004035952482586486,
          0.0003883493609802368,
          0.00037367935481262044,
          0.00035956347706619143,
          0.0003459807967131329,
          0.00033291117335088483,
          0.00032033522733794983,
          0.0003082343110577539,
          0.0002965904812679555,
          0.0002853864724941997,
          0.0002746056714288682,
          0.0002642320922968618,
          0.0002542503531518873,
          0.00024464565306810414,
          0.00023540375019330602,
          0.00022651094063109837,
          0.00021795403812075706,
          0.00020972035448463651,
          0.0002017976808141362,
          0.00019417426936632718,
          0.00018683881614439535,
          0.00017978044413607171,
          0.00017298868718519485,
          0.0001664534744724919,
          0.00016016511558256414,
          0.00015411428613493658,
          0.0001482920139578635,
          0.0001426896657843893,
          0.00013729893445093804,
          0.0001321118265794486,
          0.00012712065072479094,
          0.00012231800596988938,
          0.00011769677095164023,
          0.00011325009330135254,
          0.00010897137948405369,
          0.00010485428502159364,
          0.00010089270508505096,
          0.00009708076544249049,
          0.00009341281374865062,
          0.00008988341116364377,
          0.00008648732428824318,
          0.00008321951740379683,
          0.00008007514500526228,
          0.00007704954461629042,
          0.000074138229875704,
          0.00007133688388511997,
          0.00006864135280785126,
          0.00006604763970959644,
          0.00006355189863178434,
          0.00006115042888878551,
          0.00005883966958053443,
          0.00005661619431242585,
          0.00005447670611465577,
          0.000052418032553473655,
          0.00005043712102709668,
          0.000048531034239310877,
          0.00004669694584404744,
          0.000044932136254475885,
          0.00004323398861039992,
          0.000041599984897976244,
          0.00004002770221600302,
          0.000038514809183241054,
          0.000037059062481441094,
          0.00003565830352895087,
          0.00003431045527996946,
          0.00003301351914470322,
          0.000031765572025856226,
          0.00003056476346706099,
          0.00002940931290902121,
          0.00002829750704929791,
          0.000027227697301824052,
          0.00002619829735238059,
          0.000025207780806409357,
          0.00002425467892567464,
          0.000023337578450417723,
          0.000022455119503774858,
          0.000021605993575351544,
          0.000020788941580962747,
          0.00002000275199566266,
          0.00001924625905729497,
          0.000018518341037900568,
          0.0000178179185804188,
          0.000017143953098216654,
          0.000016495445235072095,
          0.000015871433383328317,
          0.000015270992258021755,
          0.0000146932315248691,
          0.000014137294480079494,
          0.000013602356780033768,
          0.00001308762521894757,
          0.000012592336552705505,
          0.000012115756367122614,
          0.000011657177988954705,
          0.000011215921438043136,
          0.000010791332419039957,
          0.000010382781351218635,
          0.0000099896624349315,
          0.000009611392753329894,
          0.000009247411408014845,
          0.000008897178687336806,
          0.000008560175266110986,
          0.00000823590143556188,
          0.000007923876362354887,
          0.000007623637375616534,
          0.0000073347392808859546,
          0.000007056753699980373,
          0.000006789268435795868,
          0.000006531886861101319,
          0.000006284227330419477,
          0.000006045922614122892,
          0.00000581661935390575,
          0.000005595977538824031,
          0.000005383670001127219,
          0.000005179381931133812,
          0.000004982810410431492,
          0.000004793663962709544,
          0.000004611662121557754,
          0.000004436535014590683,
          0.000004268022963280848,
          0.000004105876097907297,
          0.000003949853987048729,
          0.0000037997252810716924,
          0.000003655267369085295,
          0.0000035162660488536912,
          0.000003382515209176957,
          0.0000032538165242693305,
          0.000003129979159681673,
          0.0000030108194893321037,
          0.000002896160823225172,
          0.0000027858331454558985,
          0.000002679672862110115,
          0.000002577522558687386,
          0.0000024792307666867137,
          0.000002384651739009022,
          0.000002293645233843292,
          0.0000022060763067159823,
          0.000002121815110395303,
          0.0000020407367023537203,
          0.0000019627208595031183,
          0.0000018876518999279882,
          0.0000018154185113522316,
          0.0000017459135860852946,
          0.0000016790340622028439,
          0.0000016146807707265231,
          0.0000015527582885761508,
          0.0000014931747970763572,
          0.0000014358419458078182,
          0.0000013806747216012313,
          0.000001327591322479761,
          0.0000012765130363630382,
          0.0000012273641243528722,
          0.0000011800717084275797,
          0.0000011345656633784407,
          0.0000010907785128280105,
          0.0000010486453291761337,
          0.0000010081036373252718,
          9.69093322042415e-7,
          9.315565388201931e-7,
          8.954376281050264e-7,
          8.606830327651162e-7,
          8.272412186759204e-7,
          7.950625983053327e-7,
          7.640994571852792e-7,
          7.343058831606857e-7,
          7.056376983109265e-7,
          6.780523934427828e-7,
          6.515090650578054e-7,
          6.259683547005888e-7,
          6.013923905980456e-7,
          5.777447315031286e-7,
          5.549903126597365e-7,
          5.330953938086868e-7,
          5.120275091576448e-7,
          4.91755419240842e-7,
          4.7224906459718147e-7,
          4.781356989605239e-7,
          4.600751353212861e-7,
          4.426967712326702e-7,
          4.259748380511179e-7,
          4.09884540489021e-7,
          3.944020198482585e-7,
          3.7950431864251496e-7,
          3.651693465559094e-7,
          3.5137584768747167e-7,
          3.381033690328824e-7,
          3.253322301567553e-7,
          3.1304349401047915e-7,
          3.0121893885235804e-7,
          2.898410312284058e-7,
          2.788928999737364e-7,
          2.6835831119599486e-7,
          2.664403701245563e-7,
          2.566865942648811e-7,
          2.3497315775474678e-7,
          2.3005168472070412e-7,
          2.2136196943434363e-7,
          2.1300048974360405e-7,
          2.049548472438567e-7,
          1.972131118539553e-7,
          1.8976380412630885e-7,
          1.825958782251516e-7,
          1.7569870554777714e-7,
          1.6906205896444117e-7,
          1.6267609765357113e-7,
          1.5653135250979188e-7,
          1.5061871210313512e-7,
          1.449294091686071e-7,
          1.3945500760608598e-7,
          1.3418738997126877e-7,
          1.3158436321537032e-7,
          1.2670717599824442e-7,
          1.1790485124103762e-7,
          1.1503290132355418e-7,
          1.1068777704298518e-7,
          1.0650678063188966e-7,
          1.0248371250751731e-7,
          9.861260726322956e-8,
          9.488772482299209e-8,
          9.130354192998954e-8,
          8.785474395673774e-8,
          8.571032072752716e-8,
          8.046246264345932e-8,
          7.738990152467899e-8,
          7.53139776736502e-8,
          7.246915163439785e-8,
          6.973178287523587e-8,
          6.709781242493556e-8,
          6.524822845804685e-8,
          6.280948519665649e-8,
          5.923005141012628e-8,
          5.7519980359977047e-8,
          5.5347284892816696e-8,
          5.325665839653354e-8,
          5.169329503065858e-8,
          4.8935751034474974e-8,
          4.707319551913554e-8,
          4.565457254561988e-8,
          4.393006773521793e-8,
          4.258680728572682e-8,
          4.0403069152081894e-8,
          3.8866694313460955e-8,
          3.7659299789677513e-8,
          3.6471620219295244e-8,
          3.4662562956994e-8,
          3.33454969104384e-8,
          3.24649438178231e-8,
          3.124549735612211e-8,
          2.9729665989128046e-8,
          2.8905943311444108e-8,
          2.7819528910335027e-8,
          2.650019398219525e-8,
          2.5741483229431788e-8,
          2.45494410621896e-8
         ]
        }
       ],
       "layout": {
        "font": {
         "family": "CMU Serif",
         "size": 18
        },
        "height": 500,
        "legend": {
         "bgcolor": "rgba(255,255,255,1.0)",
         "bordercolor": "black",
         "borderwidth": 1,
         "font": {
          "size": 16
         },
         "x": 0.4,
         "xanchor": "center",
         "y": 0.8,
         "yanchor": "middle"
        },
        "margin": {
         "b": 80,
         "l": 80,
         "r": 20,
         "t": 40
        },
        "shapes": [
         {
          "layer": "below",
          "line": {
           "color": "limegreen",
           "dash": "dot",
           "width": 2
          },
          "type": "line",
          "x0": 1,
          "x1": 1,
          "y0": 3.168736161529247e-8,
          "y1": 18.73639274146283
         },
         {
          "layer": "below",
          "line": {
           "color": "limegreen",
           "dash": "dot",
           "width": 2
          },
          "type": "line",
          "x0": 100,
          "x1": 100,
          "y0": 3.168736161529247e-8,
          "y1": 18.73639274146283
         }
        ],
        "template": {
         "layout": {
          "font": {
           "family": "CMU Serif",
           "size": 18
          },
          "height": 500,
          "legend": {
           "bordercolor": "black",
           "borderwidth": 1,
           "font": {
            "family": "CMU Serif",
            "size": 16
           }
          },
          "margin": {
           "b": 80,
           "l": 80,
           "r": 20,
           "t": 50
          },
          "title": {
           "font": {
            "family": "CMU Serif",
            "size": 22
           }
          },
          "width": 900,
          "xaxis": {
           "tickfont": {
            "family": "CMU Serif",
            "size": 16
           },
           "title": {
            "font": {
             "family": "CMU Serif",
             "size": 20
            }
           }
          },
          "yaxis": {
           "tickfont": {
            "family": "CMU Serif",
            "size": 16
           },
           "title": {
            "font": {
             "family": "CMU Serif",
             "size": 20
            }
           }
          }
         }
        },
        "width": 800,
        "xaxis": {
         "mirror": true,
         "range": [
          -0.999995657033466,
          4.001884143874552
         ],
         "showline": true,
         "ticks": "outside",
         "ticktext": [
          "10<sup>−1</sup>",
          "10<sup>0</sup>",
          "10<sup>1</sup>",
          "10<sup>2</sup>",
          "10<sup>3</sup>",
          "10<sup>4</sup>",
          "10<sup>5</sup>"
         ],
         "tickvals": {
          "bdata": "mpmZmZmZuT8AAAAAAADwPwAAAAAAACRAAAAAAAAAWUAAAAAAAECPQAAAAAAAiMNAAAAAAABq+EA=",
          "dtype": "f8"
         },
         "title": {
          "standoff": 0,
          "text": "Sample Duration (s)"
         },
         "type": "log"
        },
        "yaxis": {
         "mirror": true,
         "range": [
          -7,
          0
         ],
         "showline": true,
         "ticks": "outside",
         "ticktext": [
          "10<sup>−7</sup>",
          "10<sup>−6</sup>",
          "10<sup>−5</sup>",
          "10<sup>−4</sup>",
          "10<sup>−3</sup>",
          "10<sup>−2</sup>",
          "10<sup>−1</sup>",
          "10<sup>0</sup>"
         ],
         "tickvals": {
          "bdata": "SK+8mvLXej6N7bWg98awPvFo44i1+OQ+LUMc6+I2Gj/8qfHSTWJQP3sUrkfheoQ/mpmZmZmZuT8AAAAAAADwPw==",
          "dtype": "f8"
         },
         "title": {
          "standoff": 4,
          "text": "Frequency Uncertainty (Hz)"
         },
         "type": "log"
        }
       }
      }
     },
     "metadata": {},
     "output_type": "display_data"
    },
    {
     "name": "stdout",
     "output_type": "stream",
     "text": [
      "[-5. -4. -3. -2. -1.  0.]\n"
     ]
    },
    {
     "data": {
      "application/vnd.plotly.v1+json": {
       "config": {
        "plotlyServerURL": "https://plot.ly"
       },
       "data": [
        {
         "line": {
          "color": "black",
          "width": 2
         },
         "mode": "lines",
         "name": "Simulation",
         "opacity": 0.8,
         "type": "scatter",
         "x": {
          "bdata": "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",
          "dtype": "f8"
         },
         "y": [
          0.2653893346917543,
          0.26048390294996454,
          0.19720716160303572,
          0.16374334522661962,
          0.17282387168747526,
          0.13755565783450258,
          0.11607658769817748,
          0.10021920215460643,
          0.08756026698255286,
          0.07705668478146091,
          0.0681440928075196,
          0.06047350582520129,
          0.05380716869232795,
          0.04797372322423758,
          0.04284311276237785,
          0.03831323725838571,
          0.034663914037901346,
          0.03103824565207942,
          0.02782020665661738,
          0.024959448886778007,
          0.022412841482962215,
          0.020143525464011443,
          0.018119252338706544,
          0.01631179502650169,
          0.014696844238943275,
          0.013275842455944029,
          0.011990337336255756,
          0.010802456348781273,
          0.009801852967692344,
          0.008871827772078827,
          0.007999106844916467,
          0.007283588714526798,
          0.006606363320276094,
          0.005996044882482087,
          0.005445526634873157,
          0.004948437257805291,
          0.0045832698660677905,
          0.004166785349803415,
          0.003790387676273733,
          0.0033903114365801323,
          0.0030885108163509942,
          0.0028617935812356057,
          0.002572609779360299,
          0.002333105426338661,
          0.002147793731679821,
          0.001978708213189679,
          0.0018065239313185876,
          0.0016507412128574934,
          0.0015157267894319905,
          0.0013846428900419292,
          0.001273188370079388,
          0.0012257684063275425,
          0.0010926839247413953,
          0.0010779523935696594,
          0.000970074789738298,
          0.0009915042738998052,
          0.0009710002629137527,
          0.0009642422214621675,
          0.0009873770520386989,
          0.0009817422534028747,
          0.0009777794174652458,
          0.0009997423886067948,
          0.0010194593419828718,
          0.001015400355189474,
          0.0010039065918809786,
          0.0009624708098086069,
          0.0009328226516809356,
          0.0009014198421178184,
          0.0008940333834906676,
          0.0008720388720994053,
          0.0009145358700747598,
          0.0009371225871841264,
          0.0008944449474048697,
          0.0009549273576585334,
          0.0009026471790064632,
          0.0009453124115383566,
          0.0008790728351267415,
          0.000893461280820507,
          0.0009023546599756322,
          0.000966479501493677,
          0.0008995645301429404,
          0.0008770367169293543,
          0.0008663929149603056,
          0.0008595170662137476,
          0.0008620368756037003,
          0.0009231279171380107,
          0.000896993371272285,
          0.0008962005286617533,
          0.0008897909350991098,
          0.000903979574827627,
          0.0009176297545259311,
          0.0009132742448044635,
          0.0009142885006875699,
          0.000889039877218636,
          0.0008849736371286809,
          0.0009352596492158169,
          0.0009113911139200014,
          0.0009256256501764539,
          0.0008829519274005999,
          0.0008965489075179323,
          0.0009847575874306598,
          0.0009205978262565376,
          0.0009670206575730989,
          0.0010093889645339123,
          0.000975801574226573,
          0.0008901767660703277,
          0.0009093087051657084,
          0.0009346193203115644,
          0.0009362962263259714,
          0.0009179344941671462,
          0.000850709869885818,
          0.000952353265542308,
          0.00097701021540729,
          0.0009617325740404003,
          0.0008841799719086839,
          0.0008797497048907163,
          0.0009096855005624231,
          0.0009410104062056269,
          0.0009824928077353085,
          0.000942816966708266,
          0.0009330663861677871,
          0.0009426445611282118,
          0.0009174585893415689,
          0.0009092859764605958,
          0.000877997995712275,
          0.0009567084249179146,
          0.0009127470775194324,
          0.0009116632899815073,
          0.0008733998267850573,
          0.0009519700741439482,
          0.0009806995379171184,
          0.0008670231128396963,
          0.0009386244096544763,
          0.0009605063019439423,
          0.0009360917821328442,
          0.0009503295930449387,
          0.0009378562080857232,
          0.0009167962956221241,
          0.000974638042410358,
          0.0009369456874536419,
          0.0010139695045962357,
          0.00100925145386224,
          0.0009523762380292374,
          0.0009108772705140547,
          0.0010389818383487067,
          0.0009761622280208426,
          0.0009420021160483042,
          0.0009094555334631106,
          0.0009354364103671148,
          0.0009614341309361349,
          0.0009158169676051157,
          0.0010356555341170443,
          0.0009477038583155163,
          0.0009541705424569061,
          0.0010294381244709777,
          0.0009301190224619647,
          0.0010247525477384142,
          0.0009848668340412584,
          0.0009369201482992813,
          0.0009371873081494233,
          0.0010582122807711177,
          0.0009984307872200138,
          0.0009743837045688721,
          0.001022665274637152,
          0.001049250464211965,
          0.0010160916509314884,
          0.0010477187752652958,
          0.0010385818763642223,
          0.0010810374573563908,
          0.001035220954981931,
          0.0010412516073477875,
          0.0010675957636355011,
          0.0010849301657285212,
          0.001065483064204327,
          0.0011387319930074003,
          0.0011109416600422512,
          0.0010990372104782784,
          0.001085181343410235,
          0.0011181071802470613,
          0.0011559668656085042,
          0.0011425446408035453,
          0.0011170101471946934,
          0.0011713346063200742,
          0.0011465487074923944,
          0.0011581740670216073,
          0.0010853474186949973,
          0.001137000343647197,
          0.0011505282873951245,
          0.0012098364914141066,
          0.0012314542195871493,
          0.0011945994351129647,
          0.0012434014804762954,
          0.0012403266297119438,
          0.001198936779670964,
          0.0012998383157245138,
          0.0013624190097009095,
          0.00129919791416457,
          0.0012725679595563188,
          0.0013410463441859604,
          0.0013611328842384886,
          0.001371723810917864,
          0.0014240343399817808,
          0.0014923449588768183,
          0.0014249331991117347,
          0.0014707544841899242,
          0.0015082042629681032,
          0.0015614398740717613,
          0.001698778338859933,
          0.0015475949861497394,
          0.0015479407838180947,
          0.001722863620044118,
          0.0016774751104774736,
          0.0017695078211659907,
          0.0017415063955353667,
          0.001769280015500797,
          0.001772856170181522,
          0.0016766949409147136,
          0.0018643671921679552,
          0.0019117911264718086,
          0.0019964820573596547,
          0.0031712034075347313,
          0.0021621173714486863,
          0.0020579294219296804,
          0.002027692150232275,
          0.0020974263855363085,
          0.001952309533200206,
          0.0022188449319137738,
          0.0022645043292246862,
          0.002056811706341782,
          0.002323188820910567,
          0.002348412050079023,
          0.0022991239003092726,
          0.002415365157902192,
          0.002588963899913073,
          0.002713959070572006,
          0.0026337333848820465,
          0.0027565792681166976,
          0.0026723904997395173,
          0.0026710267171539312,
          0.002913147445270973,
          0.002697637736060988,
          0.003103633614639461,
          0.0028363769778596386,
          0.00282209028835068,
          0.0028645272512159907,
          0.003034723012702679,
          0.0033552226954085586,
          0.002980401489159121,
          0.0035668563341217695,
          0.0033083535398673422,
          0.003785740887456904,
          0.0036501351306556617,
          0.003773897035907114,
          0.0037398750570211354,
          0.0036836415502216526,
          0.0037664570782101783,
          0.00395692028767274,
          0.004188528501002045,
          0.0041321566796079425,
          0.0040417127769349975,
          0.003985672431452245,
          0.004298578337269948,
          0.004366896780021898,
          0.04148954589240125,
          0.004920930117773532,
          0.004562943201235296,
          0.004994921932906827,
          0.004768810240092121,
          0.004881409420267267,
          0.005059975968069974,
          0.005012325520462334,
          0.005142320563845915,
          0.00567596944439697,
          0.0060783885765192955,
          0.005560075095275633,
          0.0053060949816237,
          0.005871134265205295,
          0.005731766464851113,
          0.0063218110455192135,
          0.0066483852122505875,
          0.006605178098614452,
          0.007355646337796055,
          0.006115581993337481,
          0.006713964646954525,
          0.0068904304856798855,
          0.006869620846271258,
          0.006938178954139906,
          0.007171684172222619,
          0.008309684418621812,
          0.006974981037889966,
          0.007803847445551517,
          0.008162038308181328,
          0.008253478137918118,
          0.008295733481226945,
          0.008929654226705037,
          0.011801915929046178,
          0.008934815099801242,
          0.008717816267250812,
          0.010381382467506264,
          0.012050077220489609
         ]
        },
        {
         "line": {
          "color": "blue",
          "dash": "dash",
          "width": 2
         },
         "mode": "lines",
         "name": "Theory Damped",
         "type": "scatter",
         "x": {
          "bdata": "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",
          "dtype": "f8"
         },
         "y": [
          0.0008945793081586014,
          0.0008947215289161835,
          0.0008947454850404331,
          0.0008946812462793698,
          0.0008947402798128351,
          0.0008947269590514296,
          0.0008947288516459625,
          0.0008947241982374856,
          0.0008947139438681593,
          0.0008947362609391088,
          0.0008947706343033573,
          0.0008947713174818995,
          0.0008947621253429307,
          0.000894802121021959,
          0.0008948106420116134,
          0.0008948296384679974,
          0.0008948383622816179,
          0.0008948604303329135,
          0.0008948694820821227,
          0.0008948947900272366,
          0.0008949103913649053,
          0.0008949306941059329,
          0.0008949526471028052,
          0.0008949705248892375,
          0.0008949901081104363,
          0.000895013240388642,
          0.000895036267885804,
          0.0008950591142714908,
          0.0008950839809273195,
          0.0008951094821380565,
          0.0008951373128582081,
          0.0008951653817719916,
          0.0008951940713686664,
          0.0008952236712415949,
          0.0008952547535018902,
          0.0008952879892215983,
          0.0008953213667719307,
          0.0008953565521505345,
          0.0008953932150833463,
          0.0008954310105662043,
          0.0008954707083999309,
          0.000895511695624434,
          0.0008955541647113803,
          0.0008955982513537151,
          0.0008956442583423462,
          0.0008956919779358396,
          0.0008957417034919626,
          0.0008957932803371835,
          0.0008958469583941429,
          0.0008959027116777003,
          0.0008959605806615892,
          0.0008960207756575278,
          0.0008960833512113607,
          0.0008961483784739998,
          0.0008962159762487379,
          0.0008962862028299336,
          0.0008963591786159574,
          0.0008964350358502076,
          0.0008965138922274719,
          0.000896595823557224,
          0.0008966809575720591,
          0.0008967694510724205,
          0.000896861421889399,
          0.0008969570000134954,
          0.0008970563223802654,
          0.0008971595565518209,
          0.000897266842319563,
          0.0008973783427651772,
          0.0008974942180913951,
          0.0008976146465251944,
          0.0008977398079716931,
          0.0008978698837730052,
          0.0008980050676038211,
          0.0008981455627108543,
          0.0008982915773078595,
          0.0008984433250031507,
          0.0008986010350793638,
          0.0008987649403582979,
          0.0008989352842305145,
          0.0008991123205669222,
          0.0008992963121782475,
          0.0008994875316094864,
          0.0008996862636052643,
          0.0008998928044049295,
          0.0009001074598441075,
          0.0009003305500392915,
          0.0009005624062422529,
          0.000900803373527091,
          0.0009010538099874135,
          0.0009013140884582484,
          0.0009015845956924753,
          0.0009018657346161887,
          0.0009021579234192695,
          0.000902461596854936,
          0.0009027772071998269,
          0.0009031052240102262,
          0.0009034461357697216,
          0.0009038004501997201,
          0.0009041686949637226,
          0.0009045514186951569,
          0.0009049491915011841,
          0.0009053626062341995,
          0.0009057922790208967,
          0.0009062388504754715,
          0.0009067029864041477,
          0.0009071853790452221,
          0.0009076867480130859,
          0.0009082078413514453,
          0.0009087494367902267,
          0.0009093123428185419,
          0.0009098973999524455,
          0.0009105054820270784,
          0.0009111374975167145,
          0.0009117943909250951,
          0.0009124771442248165,
          0.0009131867783641861,
          0.0009139243548239067,
          0.0009146909772591821,
          0.0009154877931666708,
          0.0009163159956823488,
          0.0009171768253893563,
          0.000918071572247985,
          0.0009190015775769171,
          0.0009199682361307212,
          0.0009209729982607874,
          0.0009220173721567408,
          0.000923102926199762,
          0.0009242312913918529,
          0.0009254041639075757,
          0.0009266233077363254,
          0.000927890557444197,
          0.0009292078210506306,
          0.0009305770830259148,
          0.0009320004074137173,
          0.0009334799410904236,
          0.0009350179171601697,
          0.0009366166584945162,
          0.000938278581425912,
          0.0009400061995989812,
          0.0009418021279883853,
          0.0009436690870894161,
          0.0009456099072936788,
          0.0009476275334531831,
          0.0009497250296468819,
          0.0009519055841559733,
          0.0009541725146607448,
          0.0009565292736684961,
          0.0009589794541845336,
          0.0009615267956389758,
          0.0009641751900820015,
          0.0009669286886614695,
          0.0009697915083981986,
          0.000972768039273965,
          0.0009758628516496447,
          0.0009790807040307257,
          0.0009824265511995816,
          0.000985905552734634,
          0.0009895230819377701,
          0.0009932847351930534,
          0.0009971963417809498,
          0.0010012639741739443,
          0.0010054939588408135,
          0.0010098928875884414,
          0.001014467629471626,
          0.0010192253433027195,
          0.0010241734907943632,
          0.0010293198503697224,
          0.0010346725316755562,
          0.0010402399908338825,
          0.0010460310464679235,
          0.0010520548965371698,
          0.0010583211360144236,
          0.0010648397754344995,
          0.0010716212603391858,
          0.001078676491635822,
          0.0010860168468768121,
          0.0010936542024536538,
          0.001101600956681115,
          0.0011098700537235569,
          0.0011184750082853063,
          0.0011274299309486666,
          0.0011367495539952148,
          0.001146449257486515,
          0.0011565450953073386,
          0.0011670538207856564,
          0.0011779929113969077,
          0.001189380591933001,
          0.0012012358553673199,
          0.001213578480474061,
          0.001226429045062998,
          0.0012398089334698969,
          0.0012537403367011703,
          0.0012682462433744662,
          0.0012833504193343304,
          0.0012990773735682684,
          0.001315452307824258,
          0.0013325010471643283,
          0.0013502499486169807,
          0.0013687257851600749,
          0.0013879556025299157,
          0.001407966546873585,
          0.0014287856621049031,
          0.0014504396570515822,
          0.00147295464414064,
          0.0014963558534834,
          0.00152066732876977,
          0.0015459116142827402,
          0.001572109445438395,
          0.0015992794582939702,
          0.0016274379361036443,
          0.0016565986128181753,
          0.0016867725539579162,
          0.0017179681340971302,
          0.0017501911269413944,
          0.0017834449185179402,
          0.001817730846476196,
          0.0018530486594035766,
          0.0018893970802398533,
          0.0019267744484421647,
          0.0019651794077648562,
          0.0020046116015538457,
          0.00204507233619474,
          0.00203258776926079,
          0.0020716832278664097,
          0.002111634358792706,
          0.002152439817984471,
          0.0021941004804820257,
          0.002236619504760988,
          0.002280002306242542,
          0.002324256455360214,
          0.002369391519031712,
          0.0024154188655674882,
          0.0024623514521605163,
          0.002510203611591929,
          0.002558990851234032,
          0.002608729673439627,
          0.0026594374225095813,
          0.002711132160034124,
          0.0027208723145181147,
          0.0027720843416483222,
          0.0028973354253297202,
          0.0029281625576515883,
          0.002985082752519288,
          0.003043109455351263,
          0.0031022641548590813,
          0.0031625687672898095,
          0.0032240456402536184,
          0.0032867175585669086,
          0.003350607751365136,
          0.0034157399000140885,
          0.003482138146536064,
          0.0035498271023889486,
          0.0036188318575105863,
          0.003689177989584283,
          0.0037608915735050535,
          0.003833999191038886,
          0.003871735924707683,
          0.003945547388768518,
          0.0040901763421897774,
          0.004140919930174796,
          0.004221414883187443,
          0.004303474570020054,
          0.004387129407386171,
          0.0044724104032669645,
          0.004559349168404848,
          0.00464797792802047,
          0.004738329533757515,
          0.004797238491128275,
          0.004951208434221916,
          0.00504853908356565,
          0.005117644064175294,
          0.0052171254657545395,
          0.0053185406769415055,
          0.005421927288879251,
          0.0054982376498014345,
          0.005603962917747741,
          0.005770810521585134,
          0.005855965442808505,
          0.005969799004217806,
          0.006085845365519744,
          0.0061771871854782254,
          0.006348845239296193,
          0.006473229866901014,
          0.006573031737968332,
          0.00670080428363937,
          0.006805661251992276,
          0.006987160048138623,
          0.007123920551823559,
          0.00723721957771338,
          0.007354113720389701,
          0.0075435805842761754,
          0.0076911144302760776,
          0.00779472040809708,
          0.007945370411506463,
          0.008145408224123952,
          0.008260651421566862,
          0.0084204050688233,
          0.008627467724157149,
          0.008753688456651062,
          0.008963694890331582
         ]
        },
        {
         "line": {
          "color": "red",
          "dash": "dot",
          "width": 2
         },
         "mode": "lines",
         "name": "Theory CW",
         "type": "scatter",
         "x": {
          "bdata": "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",
          "dtype": "f8"
         },
         "y": [
          0.00044721359549995795,
          0.00044721359549995795,
          0.00044721359549995795,
          0.00044721359549995795,
          0.00044721359549995795,
          0.00044721359549995795,
          0.00044721359549995795,
          0.00044721359549995795,
          0.00044721359549995795,
          0.00044721359549995795,
          0.00044721359549995795,
          0.00044721359549995795,
          0.00044721359549995795,
          0.00044721359549995795,
          0.00044721359549995795,
          0.00044721359549995795,
          0.00044721359549995795,
          0.00044721359549995795,
          0.00044721359549995795,
          0.00044721359549995795,
          0.00044721359549995795,
          0.00044721359549995795,
          0.00044721359549995795,
          0.00044721359549995795,
          0.00044721359549995795,
          0.00044721359549995795,
          0.00044721359549995795,
          0.00044721359549995795,
          0.00044721359549995795,
          0.00044721359549995795,
          0.00044721359549995795,
          0.00044721359549995795,
          0.00044721359549995795,
          0.00044721359549995795,
          0.00044721359549995795,
          0.00044721359549995795,
          0.00044721359549995795,
          0.00044721359549995795,
          0.00044721359549995795,
          0.00044721359549995795,
          0.00044721359549995795,
          0.00044721359549995795,
          0.00044721359549995795,
          0.00044721359549995795,
          0.00044721359549995795,
          0.00044721359549995795,
          0.00044721359549995795,
          0.00044721359549995795,
          0.00044721359549995795,
          0.00044721359549995795,
          0.00044721359549995795,
          0.00044721359549995795,
          0.00044721359549995795,
          0.00044721359549995795,
          0.00044721359549995795,
          0.00044721359549995795,
          0.00044721359549995795,
          0.00044721359549995795,
          0.00044721359549995795,
          0.00044721359549995795,
          0.00044721359549995795,
          0.00044721359549995795,
          0.00044721359549995795,
          0.00044721359549995795,
          0.00044721359549995795,
          0.00044721359549995795,
          0.00044721359549995795,
          0.00044721359549995795,
          0.00044721359549995795,
          0.00044721359549995795,
          0.00044721359549995795,
          0.00044721359549995795,
          0.00044721359549995795,
          0.00044721359549995795,
          0.00044721359549995795,
          0.00044721359549995795,
          0.00044721359549995795,
          0.00044721359549995795,
          0.00044721359549995795,
          0.00044721359549995795,
          0.00044721359549995795,
          0.00044721359549995795,
          0.00044721359549995795,
          0.00044721359549995795,
          0.00044721359549995795,
          0.00044721359549995795,
          0.00044721359549995795,
          0.00044721359549995795,
          0.00044721359549995795,
          0.00044721359549995795,
          0.00044721359549995795,
          0.00044721359549995795,
          0.00044721359549995795,
          0.00044721359549995795,
          0.00044721359549995795,
          0.00044721359549995795,
          0.00044721359549995795,
          0.00044721359549995795,
          0.00044721359549995795,
          0.00044721359549995795,
          0.00044721359549995795,
          0.00044721359549995795,
          0.00044721359549995795,
          0.00044721359549995795,
          0.00044721359549995795,
          0.00044721359549995795,
          0.00044721359549995795,
          0.00044721359549995795,
          0.00044721359549995795,
          0.00044721359549995795,
          0.00044721359549995795,
          0.00044721359549995795,
          0.00044721359549995795,
          0.00044721359549995795,
          0.00044721359549995795,
          0.00044721359549995795,
          0.00044721359549995795,
          0.00044721359549995795,
          0.00044721359549995795,
          0.00044721359549995795,
          0.00044721359549995795,
          0.00044721359549995795,
          0.00044721359549995795,
          0.00044721359549995795,
          0.00044721359549995795,
          0.00044721359549995795,
          0.00044721359549995795,
          0.00044721359549995795,
          0.00044721359549995795,
          0.00044721359549995795,
          0.00044721359549995795,
          0.00044721359549995795,
          0.00044721359549995795,
          0.00044721359549995795,
          0.00044721359549995795,
          0.00044721359549995795,
          0.00044721359549995795,
          0.00044721359549995795,
          0.00044721359549995795,
          0.00044721359549995795,
          0.00044721359549995795,
          0.00044721359549995795,
          0.00044721359549995795,
          0.00044721359549995795,
          0.00044721359549995795,
          0.00044721359549995795,
          0.00044721359549995795,
          0.00044721359549995795,
          0.00044721359549995795,
          0.00044721359549995795,
          0.00044721359549995795,
          0.00044721359549995795,
          0.00044721359549995795,
          0.00044721359549995795,
          0.00044721359549995795,
          0.00044721359549995795,
          0.00044721359549995795,
          0.00044721359549995795,
          0.00044721359549995795,
          0.00044721359549995795,
          0.00044721359549995795,
          0.00044721359549995795,
          0.00044721359549995795,
          0.00044721359549995795,
          0.00044721359549995795,
          0.00044721359549995795,
          0.00044721359549995795,
          0.00044721359549995795,
          0.00044721359549995795,
          0.00044721359549995795,
          0.00044721359549995795,
          0.00044721359549995795,
          0.00044721359549995795,
          0.00044721359549995795,
          0.00044721359549995795,
          0.00044721359549995795,
          0.00044721359549995795,
          0.00044721359549995795,
          0.00044721359549995795,
          0.00044721359549995795,
          0.00044721359549995795,
          0.00044721359549995795,
          0.00044721359549995795,
          0.00044721359549995795,
          0.00044721359549995795,
          0.00044721359549995795,
          0.00044721359549995795,
          0.00044721359549995795,
          0.00044721359549995795,
          0.00044721359549995795,
          0.00044721359549995795,
          0.00044721359549995795,
          0.00044721359549995795,
          0.00044721359549995795,
          0.00044721359549995795,
          0.00044721359549995795,
          0.00044721359549995795,
          0.00044721359549995795,
          0.00044721359549995795,
          0.00044721359549995795,
          0.00044721359549995795,
          0.00044721359549995795,
          0.00044721359549995795,
          0.00044721359549995795,
          0.00044721359549995795,
          0.00044721359549995795,
          0.00044721359549995795,
          0.00044721359549995795,
          0.00044721359549995795,
          0.00044721359549995795,
          0.00044721359549995795,
          0.00044721359549995795,
          0.00044721359549995795,
          0.00044721359549995795,
          0.00044721359549995795,
          0.00044721359549995795,
          0.00044721359549995795,
          0.00044721359549995795,
          0.00044721359549995795,
          0.00044721359549995795,
          0.00044721359549995795,
          0.00044721359549995795,
          0.00044721359549995795,
          0.00044721359549995795,
          0.00044721359549995795,
          0.00044721359549995795,
          0.00044721359549995795,
          0.00044721359549995795,
          0.00044721359549995795,
          0.00044721359549995795,
          0.00044721359549995795,
          0.00044721359549995795,
          0.00044721359549995795,
          0.00044721359549995795,
          0.00044721359549995795,
          0.00044721359549995795,
          0.00044721359549995795,
          0.00044721359549995795,
          0.00044721359549995795,
          0.00044721359549995795,
          0.00044721359549995795,
          0.00044721359549995795,
          0.00044721359549995795,
          0.00044721359549995795,
          0.00044721359549995795,
          0.00044721359549995795,
          0.00044721359549995795,
          0.00044721359549995795,
          0.00044721359549995795,
          0.00044721359549995795,
          0.00044721359549995795,
          0.00044721359549995795,
          0.00044721359549995795,
          0.00044721359549995795,
          0.00044721359549995795,
          0.00044721359549995795,
          0.00044721359549995795,
          0.00044721359549995795,
          0.00044721359549995795,
          0.00044721359549995795,
          0.00044721359549995795,
          0.00044721359549995795,
          0.00044721359549995795,
          0.00044721359549995795,
          0.00044721359549995795,
          0.00044721359549995795,
          0.00044721359549995795,
          0.00044721359549995795,
          0.00044721359549995795,
          0.00044721359549995795,
          0.00044721359549995795,
          0.00044721359549995795,
          0.00044721359549995795,
          0.00044721359549995795,
          0.00044721359549995795,
          0.00044721359549995795,
          0.00044721359549995795,
          0.00044721359549995795,
          0.00044721359549995795,
          0.00044721359549995795,
          0.00044721359549995795,
          0.00044721359549995795,
          0.00044721359549995795,
          0.00044721359549995795,
          0.00044721359549995795,
          0.00044721359549995795,
          0.00044721359549995795,
          0.00044721359549995795,
          0.00044721359549995795,
          0.00044721359549995795,
          0.00044721359549995795,
          0.00044721359549995795,
          0.00044721359549995795,
          0.00044721359549995795,
          0.00044721359549995795,
          0.00044721359549995795,
          0.00044721359549995795,
          0.00044721359549995795,
          0.00044721359549995795,
          0.00044721359549995795
         ]
        }
       ],
       "layout": {
        "font": {
         "family": "CMU Serif",
         "size": 18
        },
        "height": 500,
        "legend": {
         "bgcolor": "rgba(255,255,255,1.0)",
         "bordercolor": "black",
         "borderwidth": 1,
         "font": {
          "size": 16
         },
         "x": 0.4,
         "xanchor": "center",
         "y": 0.8,
         "yanchor": "middle"
        },
        "margin": {
         "b": 80,
         "l": 80,
         "r": 20,
         "t": 40
        },
        "shapes": [
         {
          "layer": "below",
          "line": {
           "color": "limegreen",
           "dash": "dot",
           "width": 2
          },
          "type": "line",
          "x0": 1,
          "x1": 1,
          "y0": 0.00000850709869885818,
          "y1": 26.53893346917543
         },
         {
          "layer": "below",
          "line": {
           "color": "limegreen",
           "dash": "dot",
           "width": 2
          },
          "type": "line",
          "x0": 100,
          "x1": 100,
          "y0": 0.00000850709869885818,
          "y1": 26.53893346917543
         }
        ],
        "template": {
         "layout": {
          "font": {
           "family": "CMU Serif",
           "size": 18
          },
          "height": 500,
          "legend": {
           "bordercolor": "black",
           "borderwidth": 1,
           "font": {
            "family": "CMU Serif",
            "size": 16
           }
          },
          "margin": {
           "b": 80,
           "l": 80,
           "r": 20,
           "t": 50
          },
          "title": {
           "font": {
            "family": "CMU Serif",
            "size": 22
           }
          },
          "width": 900,
          "xaxis": {
           "tickfont": {
            "family": "CMU Serif",
            "size": 16
           },
           "title": {
            "font": {
             "family": "CMU Serif",
             "size": 20
            }
           }
          },
          "yaxis": {
           "tickfont": {
            "family": "CMU Serif",
            "size": 16
           },
           "title": {
            "font": {
             "family": "CMU Serif",
             "size": 20
            }
           }
          }
         }
        },
        "width": 800,
        "xaxis": {
         "mirror": true,
         "range": [
          -0.999995657033466,
          4.001884143874552
         ],
         "showline": true,
         "ticks": "outside",
         "ticktext": [
          "10<sup>−1</sup>",
          "10<sup>0</sup>",
          "10<sup>1</sup>",
          "10<sup>2</sup>",
          "10<sup>3</sup>",
          "10<sup>4</sup>",
          "10<sup>5</sup>"
         ],
         "tickvals": {
          "bdata": "mpmZmZmZuT8AAAAAAADwPwAAAAAAACRAAAAAAAAAWUAAAAAAAECPQAAAAAAAiMNAAAAAAABq+EA=",
          "dtype": "f8"
         },
         "title": {
          "standoff": 0,
          "text": "Sample Duration (s)"
         },
         "type": "log"
        },
        "yaxis": {
         "mirror": true,
         "range": [
          -5,
          0
         ],
         "showline": true,
         "ticks": "outside",
         "ticktext": [
          "10<sup>−5</sup>",
          "10<sup>−4</sup>",
          "10<sup>−3</sup>",
          "10<sup>−2</sup>",
          "10<sup>−1</sup>",
          "10<sup>0</sup>"
         ],
         "tickvals": {
          "bdata": "8WjjiLX45D4tQxzr4jYaP/yp8dJNYlA/exSuR+F6hD+amZmZmZm5PwAAAAAAAPA/",
          "dtype": "f8"
         },
         "title": {
          "standoff": 4,
          "text": "Amplitude Uncertainty (m)"
         },
         "type": "log"
        }
       }
      }
     },
     "metadata": {},
     "output_type": "display_data"
    },
    {
     "name": "stdout",
     "output_type": "stream",
     "text": [
      "[-6. -5. -4. -3. -2. -1.  0.]\n"
     ]
    },
    {
     "data": {
      "application/vnd.plotly.v1+json": {
       "config": {
        "plotlyServerURL": "https://plot.ly"
       },
       "data": [
        {
         "line": {
          "color": "black",
          "width": 2
         },
         "mode": "lines",
         "name": "Simulation",
         "opacity": 0.8,
         "type": "scatter",
         "x": {
          "bdata": "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",
          "dtype": "f8"
         },
         "y": [
          0.37074770639035237,
          0.3456997114841682,
          0.31968070458210407,
          0.295571686094294,
          0.2796937621763191,
          0.25853642563792667,
          0.23893236515961935,
          0.22078271844840736,
          0.20397912891508346,
          0.18842182641792388,
          0.17401858577173882,
          0.16068422322905745,
          0.14833899499892803,
          0.1369097477554689,
          0.12632885926075765,
          0.11653368020420586,
          0.10857895456755494,
          0.10007058067001816,
          0.0921946664047985,
          0.08490435577060883,
          0.07815584457841612,
          0.07190996530194674,
          0.0661290990426667,
          0.060778872702568154,
          0.055828135931854254,
          0.051881985436468825,
          0.047582838312443615,
          0.04308640541350011,
          0.039926104951790505,
          0.036522619422544866,
          0.03300125876334986,
          0.03046435451282857,
          0.027773745896910826,
          0.0252869133766333,
          0.022989153282428888,
          0.02086677928434702,
          0.01942515659600983,
          0.01759382514021803,
          0.01590367443761773,
          0.013892568958470705,
          0.012419553859476158,
          0.0115833816761724,
          0.009959783936909935,
          0.00887341794947475,
          0.007887830887256647,
          0.007272754380505012,
          0.0064102666047169245,
          0.005623567869107137,
          0.004723920150420371,
          0.004262923752190673,
          0.0036838773546636052,
          0.003160215939136618,
          0.0027245666552646853,
          0.0023649964142066614,
          0.0020430383246944537,
          0.0018876408839298832,
          0.0017726321309586366,
          0.0017291610586718195,
          0.0017119065218343978,
          0.0017738394259856154,
          0.0017880216753942584,
          0.0017965583082337848,
          0.0018127804439883057,
          0.001697598575279495,
          0.0015872521022125127,
          0.00141965728289684,
          0.0013314744187038125,
          0.0011920585464744973,
          0.0010919299114428651,
          0.0010461444372522936,
          0.0011007686179377034,
          0.0011218748920536858,
          0.0010211120071785698,
          0.001056220604959063,
          0.0009273289019826695,
          0.0009181792399958888,
          0.0007931594775346663,
          0.0007767922052422883,
          0.0007969082945298866,
          0.0008222698996147093,
          0.0007609379351402994,
          0.0006883309571358687,
          0.0006360775972083331,
          0.0006031794062903713,
          0.0005908167987554077,
          0.0006316900949982727,
          0.0006027116106765818,
          0.0005561476118773949,
          0.0005277486638102869,
          0.0005251326823074241,
          0.0005035958021687343,
          0.00045992617302590506,
          0.000459626468310792,
          0.00041952273964647436,
          0.00039755427576859345,
          0.0003864057647139927,
          0.00040978259210267876,
          0.00039248877659518044,
          0.00034521397660613025,
          0.0003518370797249173,
          0.0003565990834062069,
          0.0003198428472771141,
          0.00033986910051402735,
          0.0003328185330887965,
          0.0003161390866522139,
          0.00026596258891223307,
          0.0002674941164399888,
          0.00027155344824227615,
          0.000261556921128864,
          0.0002465287673863922,
          0.00021502522739417446,
          0.00022602115118125967,
          0.00023446151653385873,
          0.0002231724743068993,
          0.00020303991181461458,
          0.00018956194135393242,
          0.00019056745352590384,
          0.0001747152141742385,
          0.00018226739171340825,
          0.00016264483773079533,
          0.00016895805102088706,
          0.00016013931876723064,
          0.0001481026611820097,
          0.00014618446528195838,
          0.0001389863208668959,
          0.00013433232553471025,
          0.0001255340247160499,
          0.00012109587826355102,
          0.00011893472424218987,
          0.00011406994898244522,
          0.00011508079496461976,
          0.00010295594437105506,
          0.00010796024029752011,
          0.00010305531026057545,
          0.00009358393268200766,
          0.00009371615585155308,
          0.00008921865245329803,
          0.00008219592058211319,
          0.00008442873340034322,
          0.00008255352067667031,
          0.0000855444797922509,
          0.00007689691575179573,
          0.00007139267310799135,
          0.00006835580663285729,
          0.00006830872052352005,
          0.00006696868587922047,
          0.00006407511633804946,
          0.00005654873983361724,
          0.00005843503807722792,
          0.00005795820366225462,
          0.000053164338430474496,
          0.000055517419342221806,
          0.00005198512710632604,
          0.00005018903759680227,
          0.000051069411176428173,
          0.00004608211684813373,
          0.000047977536894931926,
          0.00004553987879192048,
          0.00004203458343656439,
          0.000041025776716696895,
          0.0000432559077010203,
          0.00004101238051954424,
          0.000037330315679086465,
          0.000038443206576431224,
          0.000036950535723128975,
          0.00003677710668457085,
          0.000035747087614279596,
          0.00003391658666221312,
          0.00003578407410859397,
          0.000030822344426726266,
          0.00003209453193461493,
          0.000030094072485002494,
          0.000030922360833125965,
          0.000029822792247823575,
          0.000030167083100249092,
          0.0000283231353349664,
          0.000027329292325863042,
          0.000026014522788624283,
          0.000026673451558055678,
          0.000025595864652596885,
          0.00002325484321500645,
          0.000024973683660524635,
          0.000024753534231219062,
          0.00002364990449420492,
          0.00002388263144804726,
          0.000022193470327105715,
          0.000022973552938443955,
          0.000023308006000496355,
          0.000021762114452574374,
          0.000021146404671545013,
          0.000022506578092964575,
          0.000020560536473527524,
          0.000021179659216027436,
          0.00002168201577322086,
          0.000021954721071039968,
          0.000020980951019899173,
          0.000022723196532400288,
          0.000021246905816245893,
          0.00002192128079578777,
          0.000021084876790611825,
          0.00002163506457684935,
          0.000020681320459613846,
          0.00002260619792485851,
          0.000021215723669119342,
          0.000022985421753191664,
          0.000022703666993614748,
          0.00002334760338056693,
          0.00002390071017216475,
          0.000023853915361586656,
          0.000022021954164194468,
          0.000024054225901167235,
          0.000023688314780416598,
          0.000026446429230065815,
          0.000025198597892299782,
          0.00002656899477790223,
          0.00002585487882405124,
          0.000026457529265072067,
          0.000027180209071910352,
          0.000025777333260976474,
          0.000028561363421659645,
          0.0000368667656363415,
          0.000029220308975267678,
          0.000030307550970414322,
          0.000027479472347219107,
          0.000031224383704296056,
          0.00002688821708549697,
          0.00003249900648965887,
          0.000031380410503467076,
          0.00003187442795740623,
          0.00003343240002632016,
          0.000032682918697831056,
          0.00003237044036770075,
          0.0000342092594161735,
          0.00003641630451408511,
          0.00003746552387463323,
          0.000036750088874688274,
          0.000037082790831698076,
          0.0000391287236791434,
          0.00003992745169699357,
          0.00003659783921574425,
          0.0000379149817225734,
          0.000042180938531570175,
          0.00004185817405001509,
          0.00004034346786702553,
          0.000041390166850803026,
          0.00004701555686844869,
          0.00004723269933509487,
          0.00003982552786133256,
          0.000050606802263010205,
          0.00004810585364554431,
          0.00005381218561973227,
          0.00005143042120252523,
          0.00005240258892718022,
          0.00005066935300852375,
          0.0000528354068129474,
          0.000050803026933331035,
          0.00005725563885861511,
          0.00005832190122824399,
          0.00005713116674125528,
          0.00005928572737742055,
          0.000057632555167612273,
          0.000059676229571929564,
          0.00005200866161898501,
          0.00019793908379121575,
          0.00006251977760631224,
          0.0000636870493772488,
          0.00006732539017594064,
          0.0000691715771261723,
          0.00006949993207563305,
          0.0000704250542278099,
          0.0000732304978074224,
          0.00006862542522114077,
          0.00008313116367292328,
          0.00007772560961993711,
          0.00007418580731723151,
          0.00007861617284833167,
          0.00008298963793592814,
          0.00007490438392724301,
          0.00008504156331218913,
          0.00009670984980805213,
          0.00008919587493952676,
          0.00010029751958822284,
          0.0000867791046538678,
          0.00009353771340051935,
          0.00009214111454456819,
          0.00009790837343775744,
          0.00010212877306223168,
          0.00010308458437480513,
          0.00010972782263725577,
          0.00010118728110819903,
          0.00011004625426033654,
          0.00011324244815674338,
          0.0001100146234451822,
          0.00011703646189340995,
          0.00012164094792479524,
          0.00014822150741928885,
          0.00012312906052250414,
          0.00012549925162058008,
          0.00014044393806499214,
          0.0001502215328791165
         ]
        },
        {
         "line": {
          "color": "blue",
          "dash": "dash",
          "width": 2
         },
         "mode": "lines",
         "name": "Theory Damped",
         "type": "scatter",
         "x": {
          "bdata": "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",
          "dtype": "f8"
         },
         "y": [
          0.015498288502028721,
          0.014915384112758327,
          0.014352512374741546,
          0.013809525102023521,
          0.013288917251227786,
          0.012786906768623908,
          0.01230407517612067,
          0.011839393424750516,
          0.011392195567833831,
          0.010962293613174651,
          0.010548762047733922,
          0.010150453374597,
          0.009767081846851896,
          0.009398711862287636,
          0.009043922109561828,
          0.008702632455490232,
          0.008374131244003699,
          0.008058155590157011,
          0.007753994978801223,
          0.007461455935338436,
          0.007179881125389523,
          0.006908973734228003,
          0.0066483056642875375,
          0.006397448563771172,
          0.006156073928889996,
          0.0059238351538446745,
          0.005700362245962747,
          0.005485323927172213,
          0.005278414874014692,
          0.005079319454783221,
          0.004887751705628254,
          0.0047034155603868045,
          0.0045260399246568744,
          0.004355363224317459,
          0.004191135014166765,
          0.004033114388807511,
          0.0038810576551159045,
          0.0037347466348465435,
          0.003593962619172059,
          0.0034584952649262275,
          0.0033281464854840632,
          0.003202720420487146,
          0.0030820316539891595,
          0.00296590151601879,
          0.002854158586902205,
          0.002746636255890607,
          0.0026431757807842383,
          0.002543623056372928,
          0.0024478309729317116,
          0.0023556571866920105,
          0.00226696492743564,
          0.0021816230046262596,
          0.0020995047782595105,
          0.002020488429011189,
          0.0019444568417283908,
          0.0018712971844704678,
          0.001800901014594602,
          0.0017331639973345136,
          0.001667985697601723,
          0.0016052693915488514,
          0.0015449220980229242,
          0.0014868543873374307,
          0.001430980132146146,
          0.001377216471690181,
          0.0013254836786683833,
          0.0012757050737851425,
          0.0012278068252314222,
          0.00118171791472541,
          0.0011373699947529873,
          0.001094697314398554,
          0.0010536365995467934,
          0.001014126959889994,
          0.0009761098112682075,
          0.0009395287846225191,
          0.0009043296369332482,
          0.0008704601716724809,
          0.0008378701710931876,
          0.0008065113092767299,
          0.0007763370872431484,
          0.000747302763343006,
          0.0007193652852648773,
          0.0006924832266650932,
          0.0006666167273523746,
          0.0006417274331478763,
          0.0006177784374078579,
          0.0005947342293421122,
          0.0005725606387612886,
          0.0005512247869574911,
          0.0005306950370595616,
          0.0005109409478746543,
          0.0004919332279252927,
          0.0004736436929734915,
          0.00045604522337492167,
          0.00043911172425246784,
          0.0004228180869439602,
          0.00040714015131925363,
          0.0003920546704156337,
          0.0003775392757559739,
          0.000363572444164183,
          0.00035013346594831653,
          0.00033720241406502363,
          0.0003247601147326528,
          0.00031278811886306727,
          0.00030126867480993497,
          0.00029018470195648374,
          0.00027951976547098764,
          0.0002692580519022357,
          0.00025938434572507247,
          0.0002498840068174259,
          0.00024074294872334,
          0.00023194761778072085,
          0.0002234849730315731,
          0.00021534246688572454,
          0.00020750802652159478,
          0.00019997003598878723,
          0.00019271731899112214,
          0.00018573912231918257,
          0.00017902509991522703,
          0.00017256529753399585,
          0.00016635013799739628,
          0.00016037040699632823,
          0.00015461723944057215,
          0.00014908210632196103,
          0.00014375680207920414,
          0.00013863343244274075,
          0.0001337044027407695,
          0.00012896240665336136,
          0.00012440041539200347,
          0.00012001166729490247,
          0.00011578965781741584,
          0.00011172812990638593,
          0.00010782106474276693,
          0.00010406267283913687,
          0.0001004473854788627,
          0.00009696984648507672,
          0.00009362490430658321,
          0.00009040760440945546,
          0.00008731318196346248,
          0.00008433705481238868,
          0.00008147481671812714,
          0.00007872223086865806,
          0.00007607522364087133,
          0.00007352987860878502,
          0.00007108243078896686,
          0.00006872926111466597,
          0.00006646689113096315,
          0.00006429197790333742,
          0.00006220130913248951,
          0.00006019179846862452,
          0.00005826048101862837,
          0.000056404509039942255,
          0.000054621147815257204,
          0.00005290777170237556,
          0.00005126186035395623,
          0.00004968099510206085,
          0.00004816285550273704,
          0.000046705216036110795,
          0.0000453059429576992,
          0.00004396299129690343,
          0.000042674401998854166,
          0.00004143829920598937,
          0.00004025288767593386,
          0.00003911645033241579,
          0.00003802734594610888,
          0.00003698400694239958,
          0.00003598493733317127,
          0.000035028710769743454,
          0.000034113968714111473,
          0.00003323941872557956,
          0.00003240383285977121,
          0.00003160604617681379,
          0.00003084495535521926,
          0.00003011951740760696,
          0.00002942874849391507,
          0.000028771722827106617,
          0.00002814757166557274,
          0.00002755548238543829,
          0.00002699469762476301,
          0.000026464514490164213,
          0.000025964283814639997,
          0.000025493409453304146,
          0.000025051347601322727,
          0.000024637606115534134,
          0.000024251743818008067,
          0.000023893369756134063,
          0.00002356214238971611,
          0.00002325776867099523,
          0.00002298000297856486,
          0.00002272864586085646,
          0.000022503542539381782,
          0.000022304581116414556,
          0.000022131690426556163,
          0.000021984837467039433,
          0.00002186402433819413,
          0.000021769284623885598,
          0.00002170067914276966,
          0.000021658291005880565,
          0.000021642219925547158,
          0.00002165257573621233,
          0.000021689471110772774,
          0.000021753013487871342,
          0.000021843296267247613,
          0.000021960389382401397,
          0.000022104329422286003,
          0.000022275109545212043,
          0.000022472669505756452,
          0.000022696886194485722,
          0.000022947565163839135,
          0.000023224433672584165,
          0.000023527135815136193,
          0.000023855230299180626,
          0.000024208191384524056,
          0.000024585413389618716,
          0.000024986219006356332,
          0.000025409871442297287,
          0.000025855590145107135,
          0.000026322569578510628,
          0.000026810000242404244,
          0.0000273170908964163,
          0.000027843090790286385,
          0.000028387310653595456,
          0.000028949141266970893,
          0.000028775464514422957,
          0.000029320152386007554,
          0.00002987891224763519,
          0.000030451327351450092,
          0.000031037071116737744,
          0.00003163590507462474,
          0.000032247674105117,
          0.000032872299601762744,
          0.00003350977125944738,
          0.00003416013816998462,
          0.000034823499839724984,
          0.00003549999763062817,
          0.00003618980699080502,
          0.00003689313070129977,
          0.000037610193238411,
          0.000038341236245902565,
          0.000038478978751466016,
          0.00003920321083744936,
          0.000040974514330791415,
          0.00004141047457018266,
          0.000042215446341350295,
          0.00004303606718806195,
          0.00004387264066313199,
          0.00004472547653076194,
          0.00004559489074450787,
          0.000046481205487152926,
          0.00004738474924819768,
          0.000048305856923748776,
          0.000049244869929705133,
          0.00005020213632305608,
          0.000051178010928480855,
          0.00005217285546881075,
          0.000053187038698663087,
          0.000054220936540948796,
          0.0000547546145464885,
          0.00005579846628182217,
          0.000057843828556223626,
          0.00005856145125954248,
          0.00005969982180207317,
          0.00006086032102250085,
          0.00006204337907811363,
          0.00006324943448798665,
          0.0000644789342955263,
          0.00006573233423417346,
          0.00006701009889632862,
          0.0000678431973609185,
          0.0000700206611781269,
          0.0000713971244214918,
          0.00007237441642954868,
          0.0000737812959027212,
          0.0000752155235736366,
          0.00007667763106133825,
          0.00007775682253499562,
          0.00007925200361314756,
          0.00008161158505511052,
          0.00008281585750007955,
          0.00008442570716406219,
          0.00008606685054423468,
          0.00008735861895020595,
          0.00008978623042820535,
          0.0000915452947013,
          0.00009295670629743613,
          0.0000947636829673053,
          0.00009624658443484535,
          0.00009881336502549089,
          0.000100747450616573,
          0.00010234974080674347,
          0.00010400287362609175,
          0.00010668233971137724,
          0.0001087687833705985,
          0.00011023399316037238,
          0.0001123645059403034,
          0.00011519346781621442,
          0.00011682325274416444,
          0.00011908251049005067,
          0.00012201081864439181,
          0.00012379584936184738,
          0.0001267657888288134
         ]
        }
       ],
       "layout": {
        "font": {
         "family": "CMU Serif",
         "size": 18
        },
        "height": 500,
        "legend": {
         "bgcolor": "rgba(255,255,255,1.0)",
         "bordercolor": "black",
         "borderwidth": 1,
         "font": {
          "size": 16
         },
         "x": 0.4,
         "xanchor": "center",
         "y": 0.8,
         "yanchor": "middle"
        },
        "margin": {
         "b": 80,
         "l": 80,
         "r": 20,
         "t": 40
        },
        "shapes": [
         {
          "layer": "below",
          "line": {
           "color": "limegreen",
           "dash": "dot",
           "width": 2
          },
          "type": "line",
          "x0": 1,
          "x1": 1,
          "y0": 2.0560536473527525e-7,
          "y1": 37.074770639035236
         },
         {
          "layer": "below",
          "line": {
           "color": "limegreen",
           "dash": "dot",
           "width": 2
          },
          "type": "line",
          "x0": 100,
          "x1": 100,
          "y0": 2.0560536473527525e-7,
          "y1": 37.074770639035236
         }
        ],
        "template": {
         "layout": {
          "font": {
           "family": "CMU Serif",
           "size": 18
          },
          "height": 500,
          "legend": {
           "bordercolor": "black",
           "borderwidth": 1,
           "font": {
            "family": "CMU Serif",
            "size": 16
           }
          },
          "margin": {
           "b": 80,
           "l": 80,
           "r": 20,
           "t": 50
          },
          "title": {
           "font": {
            "family": "CMU Serif",
            "size": 22
           }
          },
          "width": 900,
          "xaxis": {
           "tickfont": {
            "family": "CMU Serif",
            "size": 16
           },
           "title": {
            "font": {
             "family": "CMU Serif",
             "size": 20
            }
           }
          },
          "yaxis": {
           "tickfont": {
            "family": "CMU Serif",
            "size": 16
           },
           "title": {
            "font": {
             "family": "CMU Serif",
             "size": 20
            }
           }
          }
         }
        },
        "width": 800,
        "xaxis": {
         "mirror": true,
         "range": [
          -0.999995657033466,
          4.001884143874552
         ],
         "showline": true,
         "ticks": "outside",
         "ticktext": [
          "10<sup>−1</sup>",
          "10<sup>0</sup>",
          "10<sup>1</sup>",
          "10<sup>2</sup>",
          "10<sup>3</sup>",
          "10<sup>4</sup>",
          "10<sup>5</sup>"
         ],
         "tickvals": {
          "bdata": "mpmZmZmZuT8AAAAAAADwPwAAAAAAACRAAAAAAAAAWUAAAAAAAECPQAAAAAAAiMNAAAAAAABq+EA=",
          "dtype": "f8"
         },
         "title": {
          "standoff": 0,
          "text": "Sample Duration (s)"
         },
         "type": "log"
        },
        "yaxis": {
         "mirror": true,
         "range": [
          -6,
          0
         ],
         "showline": true,
         "ticks": "outside",
         "ticktext": [
          "10<sup>−6</sup>",
          "10<sup>−5</sup>",
          "10<sup>−4</sup>",
          "10<sup>−3</sup>",
          "10<sup>−2</sup>",
          "10<sup>−1</sup>",
          "10<sup>0</sup>"
         ],
         "tickvals": {
          "bdata": "je21oPfGsD7xaOOItfjkPi1DHOviNho//Knx0k1iUD97FK5H4XqEP5qZmZmZmbk/AAAAAAAA8D8=",
          "dtype": "f8"
         },
         "title": {
          "standoff": 4,
          "text": "Damping Rate Uncertainty (1/s)"
         },
         "type": "log"
        }
       }
      }
     },
     "metadata": {},
     "output_type": "display_data"
    },
    {
     "name": "stdout",
     "output_type": "stream",
     "text": [
      "[-4. -3. -2.]\n"
     ]
    },
    {
     "data": {
      "application/vnd.plotly.v1+json": {
       "config": {
        "plotlyServerURL": "https://plot.ly"
       },
       "data": [
        {
         "line": {
          "color": "black",
          "width": 2
         },
         "mode": "lines",
         "name": "Simulation",
         "opacity": 0.8,
         "type": "scatter",
         "x": {
          "bdata": "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",
          "dtype": "f8"
         },
         "y": [
          0.0012231086892855723,
          0.0012179867770049104,
          0.0012152714777794095,
          0.0012128458557490152,
          0.0012111790577105175,
          0.001210928420291616,
          0.0012106670051246573,
          0.0012103779853259444,
          0.001210056553482334,
          0.0012096852272948766,
          0.001209272243899058,
          0.0012088015848276891,
          0.0012082862604241146,
          0.0012076997662306729,
          0.0012070479126254014,
          0.0012063320114397186,
          0.0012620484473772117,
          0.0012609465847629622,
          0.0012597518156595257,
          0.001258459641035327,
          0.0012570426253644374,
          0.0012555339672656513,
          0.0012538517976798222,
          0.0012520582057858976,
          0.001250112575581705,
          0.001307698091743549,
          0.0013049453665514926,
          0.0012432158262533314,
          0.001298950026401674,
          0.0012956475835538457,
          0.001234437369946656,
          0.0012883177045546462,
          0.001284254700595707,
          0.001279886298899315,
          0.0012751753069997298,
          0.0012700930315594256,
          0.0011369279723059582,
          0.0011324091634461592,
          0.0011274707440506089,
          0.0012453268701341843,
          0.0011838804264926864,
          0.0011097521041958343,
          0.0011678918879054214,
          0.001211228129789111,
          0.0011490953095202683,
          0.001077525720627235,
          0.001067527290317849,
          0.0010566100139666177,
          0.0011010591654004912,
          0.0010316579984118882,
          0.001017452695742502,
          0.0010435532493060977,
          0.000985187930477296,
          0.0010093489950360214,
          0.0009475538184149461,
          0.0009713519797164529,
          0.000951721644873532,
          0.0009325759664990212,
          0.0009196959499718643,
          0.0009006723159890389,
          0.0009218231472812107,
          0.0009210040177770404,
          0.0008927507795670846,
          0.0009455965612221909,
          0.0009647996149363845,
          0.000900563377874675,
          0.0009336042843141506,
          0.0009315701822298011,
          0.0009016274483535328,
          0.0009065575999114714,
          0.0008725903408112192,
          0.0008656813540264882,
          0.0008726467915456897,
          0.0008884348427563475,
          0.000896425709075536,
          0.0009236914347211918,
          0.0009179269004808932,
          0.000896627610120311,
          0.0008775626713346001,
          0.0008990203766660257,
          0.000875396332028751,
          0.0008848197332870841,
          0.0008800316892942422,
          0.000867007408053487,
          0.0008520928187601537,
          0.000838863768052633,
          0.0009521701110086437,
          0.0008860535917176667,
          0.0009071276662965318,
          0.0008930922669056153,
          0.0009006581536449603,
          0.0009286184308525578,
          0.0008547484654606897,
          0.0008929845764381717,
          0.0009184442814156704,
          0.0008721410192604032,
          0.0009346769082050479,
          0.0009425743199866024,
          0.0009531877125810493,
          0.0009616572208354578,
          0.0009691024610607097,
          0.0009635538542957976,
          0.0008868798486067203,
          0.000860618805354062,
          0.0009596154439070524,
          0.0009268813223850064,
          0.0009465873863332851,
          0.0009125590941398972,
          0.0009423492586308373,
          0.0009412360896091796,
          0.0009738836178635734,
          0.0009434848944798687,
          0.0008622782833590909,
          0.0008594269151604571,
          0.0009492603099956032,
          0.0009219667819924577,
          0.0009004682776769366,
          0.0009382898817405863,
          0.0009417896242948997,
          0.0008721994098824535,
          0.0008720187585436195,
          0.0009308694692562475,
          0.0009596701728094045,
          0.0009392619005561166,
          0.0008653983842661469,
          0.0008919872186500845,
          0.0008932750522360312,
          0.0009538705663064566,
          0.0010116303425210115,
          0.0009457700437521566,
          0.0009550706900987204,
          0.0008820940343713751,
          0.0009842918095140866,
          0.0009508077454628191,
          0.0009318487776983505,
          0.0009025679139596477,
          0.000950500973394045,
          0.0009515638661596365,
          0.0009392053017611086,
          0.0009250721781007904,
          0.0008752630634545645,
          0.0009833933174225326,
          0.000986435756148401,
          0.0009562902670693678,
          0.0009401984499686813,
          0.0009933994513227102,
          0.001022288583065303,
          0.0009054514487558877,
          0.0009456091820296248,
          0.000996898474604877,
          0.0010377684676662557,
          0.0010363769942051155,
          0.000997984236514102,
          0.0009733771841465256,
          0.0010518603323059802,
          0.0009853117715661653,
          0.0009048045325111001,
          0.000961243744999829,
          0.000999774418693989,
          0.000944784729396289,
          0.001011853488902817,
          0.0009307035831728322,
          0.001061527678446594,
          0.0010289275779185928,
          0.0010702048839795228,
          0.0009942157086286786,
          0.0010463259961157143,
          0.001084473621831616,
          0.0011179398280553566,
          0.0010880030083019617,
          0.000985590405053478,
          0.001113215006473764,
          0.0011226436961536753,
          0.0010651700475988758,
          0.0011126729360889747,
          0.0010686389623250695,
          0.0011172360983006861,
          0.0011849054679566313,
          0.001171081108232997,
          0.0011110646500802654,
          0.0011086509829902566,
          0.0010747138818900503,
          0.001135830483465756,
          0.0011375626471721635,
          0.0011049058982519262,
          0.0011491192804617438,
          0.0011880362801182864,
          0.0010845232185146601,
          0.0010987438629203436,
          0.0011865788019311727,
          0.0012109800182380302,
          0.0012962623119884913,
          0.0011590185786084226,
          0.0012702861493894201,
          0.0012769542006954408,
          0.0013142834896429881,
          0.0013496775781350805,
          0.001250470624173886,
          0.0013186207689183367,
          0.0013782993224822108,
          0.0014572548981498577,
          0.0013328655810186652,
          0.0014569733900208644,
          0.0015285359620545345,
          0.0015524449672821806,
          0.00152013743885112,
          0.0015193459785883966,
          0.001641960757397724,
          0.0015652025956238355,
          0.0016016430465824035,
          0.0016440885502677052,
          0.0016140350431719315,
          0.0017129862576721886,
          0.0017248493504752017,
          0.0016418699103637935,
          0.0017976941847052245,
          0.001851213721227545,
          0.0018871036225712656,
          0.0018072329348172314,
          0.0018777104828921797,
          0.002124786714808121,
          0.0020065281967042766,
          0.0019464225754735444,
          0.0019545700312813157,
          0.002086340818027452,
          0.0020315147709382077,
          0.002061296417653588,
          0.0020661817894700287,
          0.0019796807367816432,
          0.002204078985403656,
          0.002305256601619609,
          0.002424362363282808,
          0.002411143851372613,
          0.0023917670877891773,
          0.002265929477285496,
          0.0025442113821290075,
          0.0025985926170997656,
          0.0027761015374619612,
          0.002661948173518841,
          0.002743136742249403,
          0.00267149776481465,
          0.003010206621896214,
          0.0028569413255448307,
          0.002905414816004718,
          0.0030977997444064363,
          0.002956757502023324,
          0.0030585195278646313,
          0.003153748311397491,
          0.0032719781511965427,
          0.0033648064646453623,
          0.0033572367162745123,
          0.0035082100503926327,
          0.0036471037066797846,
          0.0034424598979608777,
          0.003667547376603424,
          0.003740298426849268,
          0.003766692627643146,
          0.003732064834823239,
          0.004163879745718553,
          0.00399763320195306,
          0.004028017903323242,
          0.004049974601300527,
          0.004021926662087488,
          0.004274438742017252,
          0.004357682306719686,
          0.004361375831813098,
          0.004670882110524917,
          0.00471469508451751,
          0.004947350449265874,
          0.004639066264747729,
          0.004827622833833488,
          0.004775238058981065,
          0.005165754279936526,
          0.00497560352765289,
          0.004926507949894746,
          0.005398257528086322,
          0.005087165327967997,
          0.005040118698851959,
          0.005440528258598933,
          0.0058358971605934175,
          0.006017086893305502,
          0.00576648320532726,
          0.00610549822071843,
          0.0057933361649163875,
          0.006067356352677592,
          0.00600618598411662,
          0.00597945102235014,
          0.006369724802148517,
          0.006055363908794942,
          0.0065665354697906535,
          0.006465981061338062,
          0.0067165399880766245,
          0.007008349029014725,
          0.00679550679810237,
          0.0070607214802756715,
          0.007274656301035991,
          0.00711931330646516,
          0.0071739137583712725,
          0.007804825988333535,
          0.007635776308394339
         ]
        },
        {
         "line": {
          "color": "blue",
          "dash": "dash",
          "width": 2
         },
         "mode": "lines",
         "name": "Theory Damped",
         "type": "scatter",
         "x": {
          "bdata": "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",
          "dtype": "f8"
         },
         "y": [
          0.0008945793081586014,
          0.0008947215289161835,
          0.0008947454850404331,
          0.0008946812462793698,
          0.0008947402798128351,
          0.0008947269590514296,
          0.0008947288516459625,
          0.0008947241982374856,
          0.0008947139438681593,
          0.0008947362609391088,
          0.0008947706343033573,
          0.0008947713174818995,
          0.0008947621253429307,
          0.000894802121021959,
          0.0008948106420116134,
          0.0008948296384679974,
          0.0008948383622816179,
          0.0008948604303329135,
          0.0008948694820821227,
          0.0008948947900272366,
          0.0008949103913649053,
          0.0008949306941059329,
          0.0008949526471028052,
          0.0008949705248892375,
          0.0008949901081104363,
          0.000895013240388642,
          0.000895036267885804,
          0.0008950591142714908,
          0.0008950839809273195,
          0.0008951094821380565,
          0.0008951373128582081,
          0.0008951653817719916,
          0.0008951940713686664,
          0.0008952236712415949,
          0.0008952547535018902,
          0.0008952879892215983,
          0.0008953213667719307,
          0.0008953565521505345,
          0.0008953932150833463,
          0.0008954310105662043,
          0.0008954707083999309,
          0.000895511695624434,
          0.0008955541647113803,
          0.0008955982513537151,
          0.0008956442583423462,
          0.0008956919779358396,
          0.0008957417034919626,
          0.0008957932803371835,
          0.0008958469583941429,
          0.0008959027116777003,
          0.0008959605806615892,
          0.0008960207756575278,
          0.0008960833512113607,
          0.0008961483784739998,
          0.0008962159762487379,
          0.0008962862028299336,
          0.0008963591786159574,
          0.0008964350358502076,
          0.0008965138922274719,
          0.000896595823557224,
          0.0008966809575720591,
          0.0008967694510724205,
          0.000896861421889399,
          0.0008969570000134954,
          0.0008970563223802654,
          0.0008971595565518209,
          0.000897266842319563,
          0.0008973783427651772,
          0.0008974942180913951,
          0.0008976146465251944,
          0.0008977398079716931,
          0.0008978698837730052,
          0.0008980050676038211,
          0.0008981455627108543,
          0.0008982915773078595,
          0.0008984433250031507,
          0.0008986010350793638,
          0.0008987649403582979,
          0.0008989352842305145,
          0.0008991123205669222,
          0.0008992963121782475,
          0.0008994875316094864,
          0.0008996862636052643,
          0.0008998928044049295,
          0.0009001074598441075,
          0.0009003305500392915,
          0.0009005624062422529,
          0.000900803373527091,
          0.0009010538099874135,
          0.0009013140884582484,
          0.0009015845956924753,
          0.0009018657346161887,
          0.0009021579234192695,
          0.000902461596854936,
          0.0009027772071998269,
          0.0009031052240102262,
          0.0009034461357697216,
          0.0009038004501997201,
          0.0009041686949637226,
          0.0009045514186951569,
          0.0009049491915011841,
          0.0009053626062341995,
          0.0009057922790208967,
          0.0009062388504754715,
          0.0009067029864041477,
          0.0009071853790452221,
          0.0009076867480130859,
          0.0009082078413514453,
          0.0009087494367902267,
          0.0009093123428185419,
          0.0009098973999524455,
          0.0009105054820270784,
          0.0009111374975167145,
          0.0009117943909250951,
          0.0009124771442248165,
          0.0009131867783641861,
          0.0009139243548239067,
          0.0009146909772591821,
          0.0009154877931666708,
          0.0009163159956823488,
          0.0009171768253893563,
          0.000918071572247985,
          0.0009190015775769171,
          0.0009199682361307212,
          0.0009209729982607874,
          0.0009220173721567408,
          0.000923102926199762,
          0.0009242312913918529,
          0.0009254041639075757,
          0.0009266233077363254,
          0.000927890557444197,
          0.0009292078210506306,
          0.0009305770830259148,
          0.0009320004074137173,
          0.0009334799410904236,
          0.0009350179171601697,
          0.0009366166584945162,
          0.000938278581425912,
          0.0009400061995989812,
          0.0009418021279883853,
          0.0009436690870894161,
          0.0009456099072936788,
          0.0009476275334531831,
          0.0009497250296468819,
          0.0009519055841559733,
          0.0009541725146607448,
          0.0009565292736684961,
          0.0009589794541845336,
          0.0009615267956389758,
          0.0009641751900820015,
          0.0009669286886614695,
          0.0009697915083981986,
          0.000972768039273965,
          0.0009758628516496447,
          0.0009790807040307257,
          0.0009824265511995816,
          0.000985905552734634,
          0.0009895230819377701,
          0.0009932847351930534,
          0.0009971963417809498,
          0.0010012639741739443,
          0.0010054939588408135,
          0.0010098928875884414,
          0.001014467629471626,
          0.0010192253433027195,
          0.0010241734907943632,
          0.0010293198503697224,
          0.0010346725316755562,
          0.0010402399908338825,
          0.0010460310464679235,
          0.0010520548965371698,
          0.0010583211360144236,
          0.0010648397754344995,
          0.0010716212603391858,
          0.001078676491635822,
          0.0010860168468768121,
          0.0010936542024536538,
          0.001101600956681115,
          0.0011098700537235569,
          0.0011184750082853063,
          0.0011274299309486666,
          0.0011367495539952148,
          0.001146449257486515,
          0.0011565450953073386,
          0.0011670538207856564,
          0.0011779929113969077,
          0.001189380591933001,
          0.0012012358553673199,
          0.001213578480474061,
          0.001226429045062998,
          0.0012398089334698969,
          0.0012537403367011703,
          0.0012682462433744662,
          0.0012833504193343304,
          0.0012990773735682684,
          0.001315452307824258,
          0.0013325010471643283,
          0.0013502499486169807,
          0.0013687257851600749,
          0.0013879556025299157,
          0.001407966546873585,
          0.0014287856621049031,
          0.0014504396570515822,
          0.00147295464414064,
          0.0014963558534834,
          0.00152066732876977,
          0.0015459116142827402,
          0.001572109445438395,
          0.0015992794582939702,
          0.0016274379361036443,
          0.0016565986128181753,
          0.0016867725539579162,
          0.0017179681340971302,
          0.0017501911269413944,
          0.0017834449185179402,
          0.001817730846476196,
          0.0018530486594035766,
          0.0018893970802398533,
          0.0019267744484421647,
          0.0019651794077648562,
          0.0020046116015538457,
          0.00204507233619474,
          0.00203258776926079,
          0.0020716832278664097,
          0.002111634358792706,
          0.002152439817984471,
          0.0021941004804820257,
          0.002236619504760988,
          0.002280002306242542,
          0.002324256455360214,
          0.002369391519031712,
          0.0024154188655674882,
          0.0024623514521605163,
          0.002510203611591929,
          0.002558990851234032,
          0.002608729673439627,
          0.0026594374225095813,
          0.002711132160034124,
          0.0027208723145181147,
          0.0027720843416483222,
          0.0028973354253297202,
          0.0029281625576515883,
          0.002985082752519288,
          0.003043109455351263,
          0.0031022641548590813,
          0.0031625687672898095,
          0.0032240456402536184,
          0.0032867175585669086,
          0.003350607751365136,
          0.0034157399000140885,
          0.003482138146536064,
          0.0035498271023889486,
          0.0036188318575105863,
          0.003689177989584283,
          0.0037608915735050535,
          0.003833999191038886,
          0.003871735924707683,
          0.003945547388768518,
          0.0040901763421897774,
          0.004140919930174796,
          0.004221414883187443,
          0.004303474570020054,
          0.004387129407386171,
          0.0044724104032669645,
          0.004559349168404848,
          0.00464797792802047,
          0.004738329533757515,
          0.004797238491128275,
          0.004951208434221916,
          0.00504853908356565,
          0.005117644064175294,
          0.0052171254657545395,
          0.0053185406769415055,
          0.005421927288879251,
          0.0054982376498014345,
          0.005603962917747741,
          0.005770810521585134,
          0.005855965442808505,
          0.005969799004217806,
          0.006085845365519744,
          0.0061771871854782254,
          0.006348845239296193,
          0.006473229866901014,
          0.006573031737968332,
          0.00670080428363937,
          0.006805661251992276,
          0.006987160048138623,
          0.007123920551823559,
          0.00723721957771338,
          0.007354113720389701,
          0.0075435805842761754,
          0.0076911144302760776,
          0.00779472040809708,
          0.007945370411506463,
          0.008145408224123952,
          0.008260651421566862,
          0.0084204050688233,
          0.008627467724157149,
          0.008753688456651062,
          0.008963694890331582
         ]
        },
        {
         "line": {
          "color": "red",
          "dash": "dot",
          "width": 2
         },
         "mode": "lines",
         "name": "Theory CW",
         "type": "scatter",
         "x": {
          "bdata": "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",
          "dtype": "f8"
         },
         "y": [
          0.0008944271909999159,
          0.0008944271909999159,
          0.0008944271909999159,
          0.0008944271909999159,
          0.0008944271909999159,
          0.0008944271909999159,
          0.0008944271909999159,
          0.0008944271909999159,
          0.0008944271909999159,
          0.0008944271909999159,
          0.0008944271909999159,
          0.0008944271909999159,
          0.0008944271909999159,
          0.0008944271909999159,
          0.0008944271909999159,
          0.0008944271909999159,
          0.0008944271909999159,
          0.0008944271909999159,
          0.0008944271909999159,
          0.0008944271909999159,
          0.0008944271909999159,
          0.0008944271909999159,
          0.0008944271909999159,
          0.0008944271909999159,
          0.0008944271909999159,
          0.0008944271909999159,
          0.0008944271909999159,
          0.0008944271909999159,
          0.0008944271909999159,
          0.0008944271909999159,
          0.0008944271909999159,
          0.0008944271909999159,
          0.0008944271909999159,
          0.0008944271909999159,
          0.0008944271909999159,
          0.0008944271909999159,
          0.0008944271909999159,
          0.0008944271909999159,
          0.0008944271909999159,
          0.0008944271909999159,
          0.0008944271909999159,
          0.0008944271909999159,
          0.0008944271909999159,
          0.0008944271909999159,
          0.0008944271909999159,
          0.0008944271909999159,
          0.0008944271909999159,
          0.0008944271909999159,
          0.0008944271909999159,
          0.0008944271909999159,
          0.0008944271909999159,
          0.0008944271909999159,
          0.0008944271909999159,
          0.0008944271909999159,
          0.0008944271909999159,
          0.0008944271909999159,
          0.0008944271909999159,
          0.0008944271909999159,
          0.0008944271909999159,
          0.0008944271909999159,
          0.0008944271909999159,
          0.0008944271909999159,
          0.0008944271909999159,
          0.0008944271909999159,
          0.0008944271909999159,
          0.0008944271909999159,
          0.0008944271909999159,
          0.0008944271909999159,
          0.0008944271909999159,
          0.0008944271909999159,
          0.0008944271909999159,
          0.0008944271909999159,
          0.0008944271909999159,
          0.0008944271909999159,
          0.0008944271909999159,
          0.0008944271909999159,
          0.0008944271909999159,
          0.0008944271909999159,
          0.0008944271909999159,
          0.0008944271909999159,
          0.0008944271909999159,
          0.0008944271909999159,
          0.0008944271909999159,
          0.0008944271909999159,
          0.0008944271909999159,
          0.0008944271909999159,
          0.0008944271909999159,
          0.0008944271909999159,
          0.0008944271909999159,
          0.0008944271909999159,
          0.0008944271909999159,
          0.0008944271909999159,
          0.0008944271909999159,
          0.0008944271909999159,
          0.0008944271909999159,
          0.0008944271909999159,
          0.0008944271909999159,
          0.0008944271909999159,
          0.0008944271909999159,
          0.0008944271909999159,
          0.0008944271909999159,
          0.0008944271909999159,
          0.0008944271909999159,
          0.0008944271909999159,
          0.0008944271909999159,
          0.0008944271909999159,
          0.0008944271909999159,
          0.0008944271909999159,
          0.0008944271909999159,
          0.0008944271909999159,
          0.0008944271909999159,
          0.0008944271909999159,
          0.0008944271909999159,
          0.0008944271909999159,
          0.0008944271909999159,
          0.0008944271909999159,
          0.0008944271909999159,
          0.0008944271909999159,
          0.0008944271909999159,
          0.0008944271909999159,
          0.0008944271909999159,
          0.0008944271909999159,
          0.0008944271909999159,
          0.0008944271909999159,
          0.0008944271909999159,
          0.0008944271909999159,
          0.0008944271909999159,
          0.0008944271909999159,
          0.0008944271909999159,
          0.0008944271909999159,
          0.0008944271909999159,
          0.0008944271909999159,
          0.0008944271909999159,
          0.0008944271909999159,
          0.0008944271909999159,
          0.0008944271909999159,
          0.0008944271909999159,
          0.0008944271909999159,
          0.0008944271909999159,
          0.0008944271909999159,
          0.0008944271909999159,
          0.0008944271909999159,
          0.0008944271909999159,
          0.0008944271909999159,
          0.0008944271909999159,
          0.0008944271909999159,
          0.0008944271909999159,
          0.0008944271909999159,
          0.0008944271909999159,
          0.0008944271909999159,
          0.0008944271909999159,
          0.0008944271909999159,
          0.0008944271909999159,
          0.0008944271909999159,
          0.0008944271909999159,
          0.0008944271909999159,
          0.0008944271909999159,
          0.0008944271909999159,
          0.0008944271909999159,
          0.0008944271909999159,
          0.0008944271909999159,
          0.0008944271909999159,
          0.0008944271909999159,
          0.0008944271909999159,
          0.0008944271909999159,
          0.0008944271909999159,
          0.0008944271909999159,
          0.0008944271909999159,
          0.0008944271909999159,
          0.0008944271909999159,
          0.0008944271909999159,
          0.0008944271909999159,
          0.0008944271909999159,
          0.0008944271909999159,
          0.0008944271909999159,
          0.0008944271909999159,
          0.0008944271909999159,
          0.0008944271909999159,
          0.0008944271909999159,
          0.0008944271909999159,
          0.0008944271909999159,
          0.0008944271909999159,
          0.0008944271909999159,
          0.0008944271909999159,
          0.0008944271909999159,
          0.0008944271909999159,
          0.0008944271909999159,
          0.0008944271909999159,
          0.0008944271909999159,
          0.0008944271909999159,
          0.0008944271909999159,
          0.0008944271909999159,
          0.0008944271909999159,
          0.0008944271909999159,
          0.0008944271909999159,
          0.0008944271909999159,
          0.0008944271909999159,
          0.0008944271909999159,
          0.0008944271909999159,
          0.0008944271909999159,
          0.0008944271909999159,
          0.0008944271909999159,
          0.0008944271909999159,
          0.0008944271909999159,
          0.0008944271909999159,
          0.0008944271909999159,
          0.0008944271909999159,
          0.0008944271909999159,
          0.0008944271909999159,
          0.0008944271909999159,
          0.0008944271909999159,
          0.0008944271909999159,
          0.0008944271909999159,
          0.0008944271909999159,
          0.0008944271909999159,
          0.0008944271909999159,
          0.0008944271909999159,
          0.0008944271909999159,
          0.0008944271909999159,
          0.0008944271909999159,
          0.0008944271909999159,
          0.0008944271909999159,
          0.0008944271909999159,
          0.0008944271909999159,
          0.0008944271909999159,
          0.0008944271909999159,
          0.0008944271909999159,
          0.0008944271909999159,
          0.0008944271909999159,
          0.0008944271909999159,
          0.0008944271909999159,
          0.0008944271909999159,
          0.0008944271909999159,
          0.0008944271909999159,
          0.0008944271909999159,
          0.0008944271909999159,
          0.0008944271909999159,
          0.0008944271909999159,
          0.0008944271909999159,
          0.0008944271909999159,
          0.0008944271909999159,
          0.0008944271909999159,
          0.0008944271909999159,
          0.0008944271909999159,
          0.0008944271909999159,
          0.0008944271909999159,
          0.0008944271909999159,
          0.0008944271909999159,
          0.0008944271909999159,
          0.0008944271909999159,
          0.0008944271909999159,
          0.0008944271909999159,
          0.0008944271909999159,
          0.0008944271909999159,
          0.0008944271909999159,
          0.0008944271909999159,
          0.0008944271909999159,
          0.0008944271909999159,
          0.0008944271909999159,
          0.0008944271909999159,
          0.0008944271909999159,
          0.0008944271909999159,
          0.0008944271909999159,
          0.0008944271909999159,
          0.0008944271909999159,
          0.0008944271909999159,
          0.0008944271909999159,
          0.0008944271909999159,
          0.0008944271909999159,
          0.0008944271909999159,
          0.0008944271909999159,
          0.0008944271909999159,
          0.0008944271909999159,
          0.0008944271909999159,
          0.0008944271909999159,
          0.0008944271909999159,
          0.0008944271909999159,
          0.0008944271909999159,
          0.0008944271909999159,
          0.0008944271909999159,
          0.0008944271909999159,
          0.0008944271909999159,
          0.0008944271909999159,
          0.0008944271909999159,
          0.0008944271909999159,
          0.0008944271909999159,
          0.0008944271909999159,
          0.0008944271909999159,
          0.0008944271909999159,
          0.0008944271909999159,
          0.0008944271909999159,
          0.0008944271909999159,
          0.0008944271909999159,
          0.0008944271909999159,
          0.0008944271909999159,
          0.0008944271909999159,
          0.0008944271909999159,
          0.0008944271909999159,
          0.0008944271909999159,
          0.0008944271909999159
         ]
        }
       ],
       "layout": {
        "font": {
         "family": "CMU Serif",
         "size": 18
        },
        "height": 500,
        "legend": {
         "bgcolor": "rgba(255,255,255,1.0)",
         "bordercolor": "black",
         "borderwidth": 1,
         "font": {
          "size": 16
         },
         "x": 0.4,
         "xanchor": "center",
         "y": 0.8,
         "yanchor": "middle"
        },
        "margin": {
         "b": 80,
         "l": 80,
         "r": 20,
         "t": 40
        },
        "shapes": [
         {
          "layer": "below",
          "line": {
           "color": "limegreen",
           "dash": "dot",
           "width": 2
          },
          "type": "line",
          "x0": 1,
          "x1": 1,
          "y0": 0.00000838863768052633,
          "y1": 0.7804825988333536
         },
         {
          "layer": "below",
          "line": {
           "color": "limegreen",
           "dash": "dot",
           "width": 2
          },
          "type": "line",
          "x0": 100,
          "x1": 100,
          "y0": 0.00000838863768052633,
          "y1": 0.7804825988333536
         }
        ],
        "template": {
         "layout": {
          "font": {
           "family": "CMU Serif",
           "size": 18
          },
          "height": 500,
          "legend": {
           "bordercolor": "black",
           "borderwidth": 1,
           "font": {
            "family": "CMU Serif",
            "size": 16
           }
          },
          "margin": {
           "b": 80,
           "l": 80,
           "r": 20,
           "t": 50
          },
          "title": {
           "font": {
            "family": "CMU Serif",
            "size": 22
           }
          },
          "width": 900,
          "xaxis": {
           "tickfont": {
            "family": "CMU Serif",
            "size": 16
           },
           "title": {
            "font": {
             "family": "CMU Serif",
             "size": 20
            }
           }
          },
          "yaxis": {
           "tickfont": {
            "family": "CMU Serif",
            "size": 16
           },
           "title": {
            "font": {
             "family": "CMU Serif",
             "size": 20
            }
           }
          }
         }
        },
        "width": 800,
        "xaxis": {
         "mirror": true,
         "range": [
          -0.999995657033466,
          4.001884143874552
         ],
         "showline": true,
         "ticks": "outside",
         "ticktext": [
          "10<sup>−1</sup>",
          "10<sup>0</sup>",
          "10<sup>1</sup>",
          "10<sup>2</sup>",
          "10<sup>3</sup>",
          "10<sup>4</sup>",
          "10<sup>5</sup>"
         ],
         "tickvals": {
          "bdata": "mpmZmZmZuT8AAAAAAADwPwAAAAAAACRAAAAAAAAAWUAAAAAAAECPQAAAAAAAiMNAAAAAAABq+EA=",
          "dtype": "f8"
         },
         "title": {
          "standoff": 0,
          "text": "Sample Duration (s)"
         },
         "type": "log"
        },
        "yaxis": {
         "mirror": true,
         "range": [
          -4,
          -2
         ],
         "showline": true,
         "ticks": "outside",
         "ticktext": [
          "10<sup>−4</sup>",
          "10<sup>−3</sup>",
          "10<sup>−2</sup>"
         ],
         "tickvals": {
          "bdata": "LUMc6+I2Gj/8qfHSTWJQP3sUrkfheoQ/",
          "dtype": "f8"
         },
         "title": {
          "standoff": 4,
          "text": "Phase Uncertainty  (rad)"
         },
         "type": "log"
        }
       }
      }
     },
     "metadata": {},
     "output_type": "display_data"
    }
   ],
   "source": [
    "import os\n",
    "import str_utils\n",
    "\n",
    "# the chrome i installed didnt work\n",
    "# os.environ[\"CHROME_PATH\"] = \"/usr/bin/google-chrome\"  # or whatever `which google-chrome` gave\n",
    "import kaleido\n",
    "\n",
    "# chrome_path = \"/usr/bin/google-chrome\"\n",
    "# kaleido.get_chrome_sync(chrome_path)\n",
    "\n",
    "import numpy as np\n",
    "\n",
    "x_min = min(durations)\n",
    "x_max = max(durations)\n",
    "\n",
    "y_min_rounded = np.floor(np.log10(x_min))\n",
    "y_max_rounded = np.ceil(np.log10(x_max))\n",
    "# Define major tick positions\n",
    "x_range_log = [np.log10(x_min), np.log10(x_max)]\n",
    "x_major_ticks = np.arange(y_min_rounded, y_max_rounded + 1, 1)\n",
    "x_tick_labels = [str_utils.make_plotly_power_ten(int(v)) for v in x_major_ticks]\n",
    "\n",
    "\n",
    "for key in true_params:\n",
    "    fig = go.Figure()\n",
    "\n",
    "    fig.add_trace(\n",
    "        go.Scatter(\n",
    "            x=durations,\n",
    "            y=rmse_results[key],\n",
    "            mode=\"lines\",\n",
    "            name=\"Simulation\",\n",
    "            line=dict(color=\"black\", width=2),\n",
    "            opacity=0.8,\n",
    "        )\n",
    "    )\n",
    "\n",
    "    # fig.add_trace(go.Scatter(\n",
    "    #     x=durations, y=stderr_results[key],\n",
    "    #     mode=\"lines+markers\",\n",
    "    #     name=\"stderr\",\n",
    "    #     line=dict(dash=\"dot\", color=\"dimgray\"),\n",
    "    #     marker=dict(size=6, symbol=\"circle-open\")\n",
    "    # ))\n",
    "\n",
    "    fig.add_trace(\n",
    "        go.Scatter(\n",
    "            x=durations,\n",
    "            y=theory_curves[key],\n",
    "            mode=\"lines\",\n",
    "            name=\"Theory Damped\",\n",
    "            line=dict(dash=\"dash\", color=\"blue\", width=2),\n",
    "        )\n",
    "    )\n",
    "\n",
    "    if key != \"damping_rate\":\n",
    "        fig.add_trace(\n",
    "            go.Scatter(\n",
    "                x=durations,\n",
    "                y=theory_undamped_curves[key],\n",
    "                mode=\"lines\",\n",
    "                name=\"Theory CW\",\n",
    "                line=dict(dash=\"dot\", color=\"red\", width=2),\n",
    "            )\n",
    "        )\n",
    "\n",
    "    osc_period = 1 / true_params[\"frequency\"]\n",
    "    damping_time = 1 / true_params[\"damping_rate\"]\n",
    "    for vline in [osc_period, damping_time]:\n",
    "        fig.add_shape(\n",
    "            type=\"line\",\n",
    "            x0=vline,\n",
    "            x1=vline,\n",
    "            y0=min(rmse_results[key]) * 0.01,\n",
    "            y1=max(rmse_results[key]) * 100,\n",
    "            line=dict(color=\"limegreen\", dash=\"dot\", width=2),\n",
    "            layer=\"below\",\n",
    "        )\n",
    "\n",
    "    y_max = max(rmse_results[key])\n",
    "    y_min = min(rmse_results[key])\n",
    "    y_max_rounded = np.ceil(np.log10(y_max))\n",
    "    y_min_rounded = np.floor(np.log10(y_min))\n",
    "    if y_max_rounded - y_min_rounded > 3:\n",
    "        y_min_rounded = y_min_rounded - 1\n",
    "    y_range_log = [y_min_rounded, y_max_rounded]\n",
    "    num_decades = y_max_rounded - y_min_rounded\n",
    "    y_major_ticks = np.arange(y_min_rounded, y_max_rounded + 1, 1)\n",
    "    print(y_major_ticks)\n",
    "\n",
    "    y_tick_labels = [str_utils.make_plotly_power_ten(int(v)) for v in y_major_ticks]\n",
    "\n",
    "    key_to_title = {\n",
    "        \"frequency\": \"Frequency Uncertainty (Hz)\",\n",
    "        \"amplitude\": \"Amplitude Uncertainty (m)\",\n",
    "        \"damping_rate\": \"Damping Rate Uncertainty (1/s)\",\n",
    "        \"phase\": \"Phase Uncertainty  (rad)\",\n",
    "    }\n",
    "    fig.update_layout(\n",
    "        xaxis=dict(\n",
    "            range=x_range_log,\n",
    "            type=\"log\",\n",
    "            tickvals=10**x_major_ticks,\n",
    "            ticktext=x_tick_labels,\n",
    "            title=\"Sample Duration (s)\",\n",
    "            ticks=\"outside\",\n",
    "            showline=True,\n",
    "            mirror=True,\n",
    "            title_standoff=0,  # default is ~15–20, decrease to move label closer\n",
    "        ),\n",
    "        yaxis=dict(\n",
    "            range=y_range_log,\n",
    "            type=\"log\",\n",
    "            tickvals=10**y_major_ticks,\n",
    "            ticktext=y_tick_labels,\n",
    "            title=key_to_title[key],\n",
    "            ticks=\"outside\",\n",
    "            showline=True,\n",
    "            mirror=True,\n",
    "            title_standoff=4,  # default is ~15–20, decrease to move label closer\n",
    "        ),\n",
    "        font=dict(family=\"CMU Serif\", size=18),\n",
    "        legend=dict(\n",
    "            x=0.4,\n",
    "            y=0.8,\n",
    "            xanchor=\"center\",\n",
    "            yanchor=\"middle\",\n",
    "            bgcolor=\"rgba(255,255,255,1.0)\",  # semi-transparent white background,\n",
    "            font=dict(size=16),\n",
    "            bordercolor=\"black\",\n",
    "            borderwidth=1,\n",
    "        ),\n",
    "        width=800,\n",
    "        height=500,\n",
    "        margin=dict(l=80, r=20, t=40, b=80),\n",
    "    )\n",
    "\n",
    "    # Add minor ticks\n",
    "    # add_minor_log_ticks(fig, \"x\", (min(durations), max(durations)))\n",
    "    # add_minor_log_ticks(fig, \"y\", (min(y_major_ticks), max(y_major_ticks)))\n",
    "\n",
    "    fig.show()\n",
    "\n",
    "    # Create export directory\n",
    "    EXPORT_DIR = \"figures\"\n",
    "    os.makedirs(EXPORT_DIR, exist_ok=True)\n",
    "\n",
    "    # Define filename stem\n",
    "    filename_base = os.path.join(EXPORT_DIR, f\"uncertainty_{key}\")\n",
    "\n",
    "    # Export to SVG and PDF\n",
    "    # pio.write_image(fig, f\"{filename_base}.svg\")\n",
    "    pio.write_image(fig, f\"{filename_base}.pdf\")\n",
    "    pio.write_image(fig, f\"{filename_base}.png\")"
   ]
  }
 ],
 "metadata": {
  "kernelspec": {
   "display_name": "Python 3",
   "language": "python",
   "name": "python3"
  },
  "language_info": {
   "codemirror_mode": {
    "name": "ipython",
    "version": 3
   },
   "file_extension": ".py",
   "mimetype": "text/x-python",
   "name": "python",
   "nbconvert_exporter": "python",
   "pygments_lexer": "ipython3",
   "version": "3.13.5"
  }
 },
 "nbformat": 4,
 "nbformat_minor": 5
}
